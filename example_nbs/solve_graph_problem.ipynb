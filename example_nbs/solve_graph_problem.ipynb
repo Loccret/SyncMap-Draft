{
 "cells": [
  {
   "cell_type": "code",
   "execution_count": 1,
   "metadata": {},
   "outputs": [
    {
     "ename": "ImportError",
     "evalue": "cannot import name 'NodeSyncMap' from 'SyncMap_Draft.core' (/home/thunderbird/SyncMap-Draft/SyncMap_Draft/core.py)",
     "output_type": "error",
     "traceback": [
      "\u001b[0;31m---------------------------------------------------------------------------\u001b[0m",
      "\u001b[0;31mImportError\u001b[0m                               Traceback (most recent call last)",
      "Cell \u001b[0;32mIn[1], line 1\u001b[0m\n\u001b[0;32m----> 1\u001b[0m \u001b[38;5;28;01mfrom\u001b[39;00m \u001b[38;5;21;01mSyncMap_Draft\u001b[39;00m\u001b[38;5;21;01m.\u001b[39;00m\u001b[38;5;21;01mcore\u001b[39;00m \u001b[38;5;28;01mimport\u001b[39;00m SymmetricalSyncMap, LightSyncMap, NodeSyncMap\n",
      "\u001b[0;31mImportError\u001b[0m: cannot import name 'NodeSyncMap' from 'SyncMap_Draft.core' (/home/thunderbird/SyncMap-Draft/SyncMap_Draft/core.py)"
     ]
    }
   ],
   "source": [
    "from SyncMap_Draft.core import SymmetricalSyncMap, LightSyncMap, NodeSyncMap"
   ]
  },
  {
   "cell_type": "code",
   "execution_count": null,
   "metadata": {},
   "outputs": [],
   "source": []
  }
 ],
 "metadata": {
  "kernelspec": {
   "display_name": "pytorch-main",
   "language": "python",
   "name": "python3"
  },
  "language_info": {
   "codemirror_mode": {
    "name": "ipython",
    "version": 3
   },
   "file_extension": ".py",
   "mimetype": "text/x-python",
   "name": "python",
   "nbconvert_exporter": "python",
   "pygments_lexer": "ipython3",
   "version": "3.11.8"
  }
 },
 "nbformat": 4,
 "nbformat_minor": 2
}
