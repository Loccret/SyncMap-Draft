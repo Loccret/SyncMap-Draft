{
 "cells": [
  {
   "cell_type": "markdown",
   "metadata": {},
   "source": [
    "# SyncMap-core\n",
    "\n",
    "> The core of SynCMap"
   ]
  },
  {
   "cell_type": "code",
   "execution_count": null,
   "metadata": {},
   "outputs": [],
   "source": [
    "#| default_exp core"
   ]
  },
  {
   "cell_type": "code",
   "execution_count": null,
   "metadata": {},
   "outputs": [],
   "source": [
    "#| export\n",
    "import pandas as pd\n",
    "\n",
    "import numpy as np\n",
    "import math\n",
    "import matplotlib.pyplot as plt\n",
    "import seaborn as sns\n",
    "\n",
    "from sklearn.cluster import DBSCAN\n",
    "from scipy.spatial import distance\n",
    "\n",
    "from scipy.stats import entropy\n",
    "# from sklearn.metrics import normalized_mutual_info_score\n",
    "\n",
    "from tqdm import tqdm\n",
    "\n",
    "import sys\n",
    "# sys.path.insert(0, '../')\n",
    "# 如果没有 pip install -e . 下面一行就不会成功\n",
    "from SyncMap_Draft.utility import OverlapChunkTest1, to_categorical, compute_combi_dist\n",
    "\n",
    "from fastcore.utils import *\n",
    "# import fastcore.all as fc  # patch会报错\n",
    "# from ipywidgets import widgets\n",
    "# from IPython.display import display"
   ]
  },
  {
   "cell_type": "code",
   "execution_count": null,
   "metadata": {},
   "outputs": [],
   "source": [
    "#| export\n",
    "class SyncMap:\n",
    "\t'''\n",
    "\tThe original syncmap\n",
    "\t'''\n",
    "\tdef __init__(self, input_size, dimensions, adaptation_rate):\n",
    "\t\t\n",
    "\t\tself.organized= False\n",
    "\t\tself.space_size= 10\n",
    "\t\tself.dimensions= dimensions\n",
    "\t\tself.input_size= input_size\n",
    "\t\t#syncmap= np.zeros((input_size,dimensions))\n",
    "\t\tself.syncmap= np.random.rand(input_size,dimensions)\n",
    "\t\tself.adaptation_rate= adaptation_rate\n",
    "\t\tself.total_activation= np.zeros(input_size)\n",
    "\t\t#self.syncmap= np.random.rand(dimensions, input_size)\n",
    "\t\n",
    "\tdef inputGeneral(self, x):\n",
    "\t\tplus= x > 0.1\n",
    "\t\tminus = ~ plus\n",
    "\n",
    "\t\tsequence_size = x.shape[0]\n",
    "\t\t#print(sequence_size, \"asfasdfasdfasd\")\n",
    "\t\tfor i in range(sequence_size):\n",
    "\t\t\t\n",
    "\t\t\tvplus= plus[i,:]\n",
    "\t\t\tvminus= minus[i,:]\n",
    "\t\t\tplus_mass = vplus.sum()\n",
    "\t\t\tminus_mass = vminus.sum()\n",
    "\t\t\tself.total_activation+= vplus.astype(int)\n",
    "\t\t\t# self.total_activation-= vminus.astype(int)\n",
    "\t\t\t#print(plus_mass)\n",
    "\t\t\t#print(minus_mass)\n",
    "\t\t\t\n",
    "\t\t\tif plus_mass <= 1:\n",
    "\t\t\t\tcontinue\n",
    "\t\t\t\n",
    "\t\t\tif minus_mass <= 1:\n",
    "\t\t\t\tcontinue\n",
    "\n",
    "\t\t\t#print(\"vplus\")\n",
    "\t\t\t#print(vplus)\n",
    "\t\t\t# np.dot(vplus,self.syncmap): syncmap的每个分量（1~8）在vplus中的贡献（投影）\n",
    "\t\t\tcenter_plus= np.dot(vplus,self.syncmap)/plus_mass\n",
    "\t\t\tcenter_minus= np.dot(vminus,self.syncmap)/minus_mass\n",
    "\t\t\n",
    "\t\t\t#print(self.syncmap.shape)\n",
    "\t\t\t#exit()\n",
    "\t\t\tdist_plus= distance.cdist(center_plus[None,:], self.syncmap, 'euclidean') # 质心到每个点的距离，相当于cluster的半径？\n",
    "\t\t\tdist_minus= distance.cdist(center_minus[None,:], self.syncmap, 'euclidean')\n",
    "\t\t\tdist_plus= np.transpose(dist_plus)\n",
    "\t\t\tdist_minus= np.transpose(dist_minus)\n",
    "\t\t\t\n",
    "\t\t\tupdate_plus= vplus[:,np.newaxis]*((center_plus - self.syncmap)/dist_plus)# + (self.syncmap - center_minus)/dist_minus)\n",
    "\t\t\tupdate_minus= vminus[:,np.newaxis]*((center_minus -self.syncmap)/dist_minus)\n",
    "\t\t\t\n",
    "\t\t\tupdate= update_plus - update_minus\n",
    "\t\t\tself.syncmap+= self.adaptation_rate*update\n",
    "\t\t\t\n",
    "\t\t\tmaximum=self.syncmap.max()\n",
    "\t\t\tself.syncmap= self.space_size*self.syncmap/maximum\n",
    "\t\t\t\n",
    "\t\tself.total_activation= self.total_activation/sequence_size\n",
    "\t\t\n",
    "\t\tself.syncmap = self.syncmap * self.total_activation[:, np.newaxis]\n",
    "\n",
    "\n",
    "\tdef input(self, x):\n",
    "\t\t\n",
    "\t\tself.inputGeneral(x)\n",
    "\n",
    "\t\treturn\n",
    "\n",
    "\t\t\t\n",
    "\tdef organize(self):\n",
    "\t\n",
    "\t\tself.organized= True\n",
    "\t\t#self.labels= DBSCAN(eps=3, min_samples=2).fit_predict(self.syncmap)\n",
    "\t\t# self.labels= DBSCAN(eps=3, min_samples=2).fit_predict(self.syncmap)\n",
    "\t\tself.labels= DBSCAN(eps=0.8, min_samples=2).fit_predict(self.syncmap)\n",
    "\n",
    "\t\treturn self.labels\n",
    "\n",
    "\tdef activate(self, x):\n",
    "\t\t'''\n",
    "\t\tReturn the label of the index with maximum input value\n",
    "\t\t'''\n",
    "\n",
    "\t\tif self.organized == False:\n",
    "\t\t\tprint(\"Activating a non-organized SyncMap\")\n",
    "\t\t\treturn\n",
    "\t\t\n",
    "\t\t#maximum output\n",
    "\t\tmax_index= np.argmax(x)\n",
    "\n",
    "\t\treturn self.labels[max_index]\n",
    "\n",
    "\tdef plotSequence(self, input_sequence, input_class,filename=\"plot.png\"):\n",
    "\n",
    "\t\tinput_sequence= input_sequence[1:500]\n",
    "\t\tinput_class= input_class[1:500]\n",
    "\n",
    "\t\ta= np.asarray(input_class)\n",
    "\t\tt = [i for i,value in enumerate(a)]\n",
    "\t\tc= [self.activate(x) for x in input_sequence] \n",
    "\t\t\n",
    "\n",
    "\t\tplt.plot(t, a, '-g')\n",
    "\t\tplt.plot(t, c, '-.k')\n",
    "\t\t#plt.ylim([-0.01,1.2])\n",
    "\n",
    "\n",
    "\t\t# plt.savefig(filename,quality=1, dpi=300)\n",
    "\t\tplt.show()\n",
    "\t\tplt.close()\n",
    "\t\n",
    "\n",
    "\tdef plot(self, color=None, save = False, filename= \"plot_map.png\"):\n",
    "\n",
    "\t\tif color is None:\n",
    "\t\t\tcolor= self.labels\n",
    "\t\t\n",
    "\t\tprint(self.syncmap)\n",
    "\t\t#print(self.syncmap)\n",
    "\t\t#print(self.syncmap[:,0])\n",
    "\t\t#print(self.syncmap[:,1])\n",
    "\t\tif self.dimensions == 2:\n",
    "\t\t\t#print(type(color))\n",
    "\t\t\t#print(color.shape)\n",
    "\t\t\tax= plt.scatter(self.syncmap[:,0],self.syncmap[:,1], c=color)\n",
    "\t\t\t\n",
    "\t\tif self.dimensions == 3:\n",
    "\t\t\tfig = plt.figure()\n",
    "\t\t\tax = plt.axes(projection='3d')\n",
    "\n",
    "\t\t\tax.scatter3D(self.syncmap[:,0],self.syncmap[:,1], self.syncmap[:,2], c=color);\n",
    "\t\t\t#ax.plot3D(self.syncmap[:,0],self.syncmap[:,1], self.syncmap[:,2])\n",
    "\t\t\n",
    "\t\tif save == True:\n",
    "\t\t\tplt.savefig(filename)\n",
    "\t\t\n",
    "\t\tplt.show()\n",
    "\t\tplt.close()"
   ]
  },
  {
   "cell_type": "markdown",
   "metadata": {},
   "source": [
    "## Generative meganisms for syncmap"
   ]
  },
  {
   "cell_type": "code",
   "execution_count": null,
   "metadata": {},
   "outputs": [],
   "source": [
    "#| export\n",
    "# extract data from parameter space\n",
    "\n",
    "@patch\n",
    "def generate_activity_probs(self:SyncMap, sample_x = 0, sample_y = 0, err = 1e-4):\n",
    "    '''\n",
    "    Generate the activity probabilities of each variable in syncmap\n",
    "    '''\n",
    "    sample_cord = np.array([sample_x, sample_y])\n",
    "    # probs = np.zeros(self.output_size)\n",
    "    weight_dist = compute_combi_dist(self.syncmap)\n",
    "    pos = np.where(weight_dist == weight_dist.max())[0]\n",
    "    # tau = -weight_dist[*pos] / np.log(err)  # set tau to make the smallest prob to be err\n",
    "    tau = -weight_dist.__getitem__(tuple(pos)) / np.log(err)\n",
    "    # probs = np.exp(-weight_dist / tau)  \n",
    "    sample_dist = ((self.syncmap - sample_cord) ** 2 ).sum(axis = -1)\n",
    "    sample_probs = np.exp(-sample_dist / tau)\n",
    "    return sample_probs\n",
    "\n",
    "@patch\n",
    "def plot_activity_maps(self:SyncMap, x = 0, y = 0):\n",
    "    fig, axs = plt.subplots(1, 2, figsize = (10, 5))\n",
    "    sample_probs = self.generate_activity_probs(x, y)\n",
    "    axs[0].scatter(self.syncmap[:, 0], self.syncmap[:, 1], color = 'blue')\n",
    "    axs[0].scatter(x, y, color = 'red')\n",
    "    axs[0].set_xlim(self.syncmap.min()-0.5, self.syncmap.max()+0.5)\n",
    "    axs[0].set_ylim(self.syncmap.min()-0.5, self.syncmap.max()+0.5)\n",
    "    sns.barplot(sample_probs, ax = axs[1])\n",
    "    print(sample_probs)\n",
    "    plt.show()\n",
    "\n",
    "# SyncMap.generate_activity_probs = generate_activity_probs\n",
    "# SyncMap.plot_activity_maps = plot_activity_maps"
   ]
  },
  {
   "cell_type": "code",
   "execution_count": null,
   "metadata": {},
   "outputs": [
    {
     "name": "stdout",
     "output_type": "stream",
     "text": [
      "Adaptation rate: 0.008\n"
     ]
    }
   ],
   "source": [
    "# initialize the environment\n",
    "time_delay = 10\n",
    "env = OverlapChunkTest1(time_delay)\n",
    "output_size = env.getOutputSize()\n",
    "output_size\n",
    "\n",
    "sequence_length = 100000\n",
    "\n",
    "####### SyncMap #####\n",
    "number_of_nodes= output_size\n",
    "adaptation_rate= 0.001*output_size\n",
    "print(\"Adaptation rate:\", adaptation_rate)\n",
    "map_dimensions= 2\n",
    "neuron_group= SyncMap(number_of_nodes, map_dimensions, adaptation_rate)\n",
    "input_sequence, input_class = env.getSequence(sequence_length)"
   ]
  },
  {
   "cell_type": "code",
   "execution_count": null,
   "metadata": {},
   "outputs": [
    {
     "name": "stdout",
     "output_type": "stream",
     "text": [
      "Learned Labels:  [ 0  1  1  2  2 -1 -1  0]\n",
      "Correct Labels:  [0 0 0 1 1 2 2 2]\n"
     ]
    }
   ],
   "source": [
    "neuron_group.input(input_sequence)\n",
    "labels= neuron_group.organize()\n",
    "\n",
    "print(\"Learned Labels: \",labels)\n",
    "print(\"Correct Labels: \",env.trueLabel())"
   ]
  },
  {
   "cell_type": "code",
   "execution_count": null,
   "metadata": {},
   "outputs": [],
   "source": [
    "# # plot input data and labels\n",
    "# env.plot(input_class[:800], input_sequence[:800])"
   ]
  },
  {
   "cell_type": "code",
   "execution_count": null,
   "metadata": {},
   "outputs": [],
   "source": [
    "# # plot the encoded data\n",
    "# env.plotSuperposed(input_class[:200], input_sequence[:200])"
   ]
  },
  {
   "cell_type": "code",
   "execution_count": null,
   "metadata": {},
   "outputs": [
    {
     "data": {
      "image/png": "[encoded data removed]",
      "text/plain": [
       "<Figure size 640x480 with 1 Axes>"
      ]
     },
     "metadata": {},
     "output_type": "display_data"
    }
   ],
   "source": [
    "neuron_group.plotSequence(input_sequence, input_class)"
   ]
  },
  {
   "cell_type": "code",
   "execution_count": null,
   "metadata": {},
   "outputs": [
    {
     "data": {
      "text/plain": [
       "<matplotlib.collections.PathCollection>"
      ]
     },
     "execution_count": null,
     "metadata": {},
     "output_type": "execute_result"
    },
    {
     "data": {
      "image/png": "[encoded data removed]",
      "text/plain": [
       "<Figure size 640x480 with 1 Axes>"
      ]
     },
     "metadata": {},
     "output_type": "display_data"
    }
   ],
   "source": [
    "plt.scatter(neuron_group.syncmap[:, 0], neuron_group.syncmap[:, 1], color = 'red')"
   ]
  },
  {
   "cell_type": "code",
   "execution_count": null,
   "metadata": {},
   "outputs": [
    {
     "data": {
      "text/plain": [
       "array([[ 1.8161    , -1.10648361],\n",
       "       [-2.03734758,  0.68987108],\n",
       "       [-1.80694553,  0.59811489],\n",
       "       [ 2.58960779, -1.55693702],\n",
       "       [ 2.77257592, -1.66517453],\n",
       "       [ 1.20791143,  1.68624602],\n",
       "       [-2.0793513 , -0.18713333],\n",
       "       [ 1.71900848, -1.03812267]])"
      ]
     },
     "execution_count": null,
     "metadata": {},
     "output_type": "execute_result"
    }
   ],
   "source": [
    "neuron_group.syncmap"
   ]
  },
  {
   "cell_type": "code",
   "execution_count": null,
   "metadata": {},
   "outputs": [
    {
     "name": "stdout",
     "output_type": "stream",
     "text": [
      "[4.18946422e-04 3.50223786e-04 1.96861845e-03 1.51627522e-07\n",
      " 1.53997492e-08 6.11662551e-04 5.55268296e-04 9.72777996e-04]\n"
     ]
    },
    {
     "data": {
      "image/png": "[encoded data removed]",
      "text/plain": [
       "<Figure size 1000x500 with 2 Axes>"
      ]
     },
     "metadata": {},
     "output_type": "display_data"
    }
   ],
   "source": [
    "neuron_group.plot_activity_maps(x = 0, y = 0)"
   ]
  },
  {
   "cell_type": "code",
   "execution_count": null,
   "metadata": {},
   "outputs": [
    {
     "data": {
      "text/plain": [
       "array([[0.    , 4.2516, 4.004 , 0.8951, 1.1077, 2.8582, 4.0025, 0.1187],\n",
       "       [4.2516, 0.    , 0.248 , 5.1436, 5.3555, 3.3948, 0.878 , 4.1348],\n",
       "       [4.004 , 0.248 , 0.    , 4.8963, 5.1083, 3.2052, 0.8312, 3.8871],\n",
       "       [0.8951, 5.1436, 4.8963, 0.    , 0.2126, 3.5252, 4.8658, 1.0135],\n",
       "       [1.1077, 5.3555, 5.1083, 0.2126, 0.    , 3.6987, 5.0721, 1.226 ],\n",
       "       [2.8582, 3.3948, 3.2052, 3.5252, 3.6987, 0.    , 3.7836, 2.7719],\n",
       "       [4.0025, 0.878 , 0.8312, 4.8658, 5.0721, 3.7836, 0.    , 3.8925],\n",
       "       [0.1187, 4.1348, 3.8871, 1.0135, 1.226 , 2.7719, 3.8925, 0.    ]])"
      ]
     },
     "execution_count": null,
     "metadata": {},
     "output_type": "execute_result"
    }
   ],
   "source": [
    "a = np.around(compute_combi_dist(neuron_group.syncmap), decimals = 4) \n",
    "a"
   ]
  },
  {
   "cell_type": "code",
   "execution_count": null,
   "metadata": {},
   "outputs": [
    {
     "data": {
      "text/plain": [
       "array([[1.    , 0.0142, 0.0182, 0.4086, 0.3303, 0.0574, 0.0183, 0.8881],\n",
       "       [0.0142, 1.    , 0.7804, 0.0058, 0.0047, 0.0335, 0.4156, 0.016 ],\n",
       "       [0.0182, 0.7804, 1.    , 0.0075, 0.006 , 0.0406, 0.4355, 0.0205],\n",
       "       [0.4086, 0.0058, 0.0075, 1.    , 0.8085, 0.0294, 0.0077, 0.3629],\n",
       "       [0.3303, 0.0047, 0.006 , 0.8085, 1.    , 0.0248, 0.0063, 0.2935],\n",
       "       [0.0574, 0.0335, 0.0406, 0.0294, 0.0248, 1.    , 0.0227, 0.0625],\n",
       "       [0.0183, 0.4156, 0.4355, 0.0077, 0.0063, 0.0227, 1.    , 0.0204],\n",
       "       [0.8881, 0.016 , 0.0205, 0.3629, 0.2935, 0.0625, 0.0204, 1.    ]])"
      ]
     },
     "execution_count": null,
     "metadata": {},
     "output_type": "execute_result"
    }
   ],
   "source": [
    "b = np.around(np.exp(-a), decimals = 4)\n",
    "b"
   ]
  },
  {
   "cell_type": "code",
   "execution_count": null,
   "metadata": {},
   "outputs": [
    {
     "data": {
      "text/plain": [
       "array([1, 4])"
      ]
     },
     "execution_count": null,
     "metadata": {},
     "output_type": "execute_result"
    }
   ],
   "source": [
    "pos = np.where(a == a.max())[0]\n",
    "pos"
   ]
  },
  {
   "cell_type": "code",
   "execution_count": null,
   "metadata": {},
   "outputs": [],
   "source": [
    "# a[*pos], b[*pos]"
   ]
  },
  {
   "cell_type": "code",
   "execution_count": null,
   "metadata": {},
   "outputs": [
    {
     "data": {
      "text/plain": [
       "(5.3555,\n",
       " array([[4.2516, 0.    , 0.248 , 5.1436, 5.3555, 3.3948, 0.878 , 4.1348],\n",
       "        [1.1077, 5.3555, 5.1083, 0.2126, 0.    , 3.6987, 5.0721, 1.226 ]]))"
      ]
     },
     "execution_count": null,
     "metadata": {},
     "output_type": "execute_result"
    }
   ],
   "source": [
    "a.__getitem__(tuple(pos)), a[pos]"
   ]
  },
  {
   "cell_type": "code",
   "execution_count": null,
   "metadata": {},
   "outputs": [
    {
     "data": {
      "text/plain": [
       "5.3555"
      ]
     },
     "execution_count": null,
     "metadata": {},
     "output_type": "execute_result"
    }
   ],
   "source": [
    "a[tuple(pos)]"
   ]
  },
  {
   "cell_type": "code",
   "execution_count": null,
   "metadata": {},
   "outputs": [
    {
     "data": {
      "text/plain": [
       "[1, 4]"
      ]
     },
     "execution_count": null,
     "metadata": {},
     "output_type": "execute_result"
    }
   ],
   "source": [
    "[i for i in pos]"
   ]
  },
  {
   "cell_type": "code",
   "execution_count": null,
   "metadata": {},
   "outputs": [],
   "source": []
  },
  {
   "cell_type": "code",
   "execution_count": null,
   "metadata": {},
   "outputs": [],
   "source": [
    "# -a[*pos] / np.log(0.0001)"
   ]
  },
  {
   "cell_type": "code",
   "execution_count": null,
   "metadata": {},
   "outputs": [
    {
     "data": {
      "text/plain": [
       "array([4.18946422e-04, 3.50223786e-04, 1.96861845e-03, 1.51627522e-07,\n",
       "       1.53997492e-08, 6.11662551e-04, 5.55268296e-04, 9.72777996e-04])"
      ]
     },
     "execution_count": null,
     "metadata": {},
     "output_type": "execute_result"
    }
   ],
   "source": [
    "neuron_group.generate_activity_probs()\n"
   ]
  },
  {
   "cell_type": "code",
   "execution_count": null,
   "metadata": {},
   "outputs": [
    {
     "data": {
      "text/plain": [
       "6.712377827540005"
      ]
     },
     "execution_count": null,
     "metadata": {},
     "output_type": "execute_result"
    }
   ],
   "source": [
    "np.linalg.norm(neuron_group.syncmap, )"
   ]
  },
  {
   "cell_type": "code",
   "execution_count": null,
   "metadata": {},
   "outputs": [],
   "source": [
    "#| hide\n",
    "import nbdev; nbdev.nbdev_export()"
   ]
  }
 ],
 "metadata": {
  "kernelspec": {
   "display_name": "python3",
   "language": "python",
   "name": "python3"
  }
 },
 "nbformat": 4,
 "nbformat_minor": 4
}
