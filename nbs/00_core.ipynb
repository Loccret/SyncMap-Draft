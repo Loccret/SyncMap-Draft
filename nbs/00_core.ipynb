{
 "cells": [
  {
   "cell_type": "markdown",
   "metadata": {},
   "source": [
    "# SyncMap-core\n",
    "\n",
    "> The core of SynCMap"
   ]
  },
  {
   "cell_type": "code",
   "execution_count": null,
   "metadata": {},
   "outputs": [],
   "source": [
    "#| default_exp core"
   ]
  },
  {
   "cell_type": "code",
   "execution_count": null,
   "metadata": {},
   "outputs": [],
   "source": [
    "#| export\n",
    "import pandas as pd\n",
    "\n",
    "import numpy as np\n",
    "import math\n",
    "import matplotlib.pyplot as plt\n",
    "import seaborn as sns\n",
    "from sklearn.cluster import DBSCAN\n",
    "from scipy.spatial import distance\n",
    "from scipy.stats import entropy\n",
    "from sklearn.metrics import normalized_mutual_info_score, pairwise_distances\n",
    "from tqdm import tqdm\n",
    "import copy\n",
    "from collections import deque\n",
    "from sklearn.manifold import TSNE\n",
    "\n",
    "import sys\n",
    "# sys.path.insert(0, '../')\n",
    "# 如果没有 pip install -e . 下面一行就不会成功\n",
    "from SyncMap_Draft.utility import OverlapChunkTest1, to_categorical, compute_combi_dist, reduce_dimension_with_tsne, create_trace_plot, labels2colors\n",
    "\n",
    "from SyncMap_Draft.processor import GraphProcessor, WorkingMemProcessor, Readout\n",
    "from fastcore.utils import *\n",
    "\n",
    "import time\n",
    "import warnings\n",
    "\n",
    "np.set_printoptions(suppress=True)  # disable scientific notation\n",
    "# from plotly.subplots import make_subplots\n",
    "# import plotly.graph_objs as go\n",
    "# import fastcore.all as fc  # patch会报错\n",
    "# from ipywidgets import widgets\n",
    "# from IPython.display import display"
   ]
  },
  {
   "cell_type": "markdown",
   "metadata": {},
   "source": [
    "## original syncmap"
   ]
  },
  {
   "cell_type": "code",
   "execution_count": null,
   "metadata": {},
   "outputs": [],
   "source": [
    "#| export\n",
    "class SyncMap:\n",
    "\t'''\n",
    "\tThe original syncmap\n",
    "\t'''\n",
    "\tdef __init__(self, input_size, dimensions, adaptation_rate):\n",
    "\t\t\n",
    "\t\tself.organized= False\n",
    "\t\tself.space_size= 10\n",
    "\t\tself.dimensions= dimensions\n",
    "\t\tself.input_size= input_size\n",
    "\t\t#syncmap= np.zeros((input_size,dimensions))\n",
    "\t\tnp.random.seed(40)\n",
    "\t\tself.syncmap= np.random.rand(input_size,dimensions)\n",
    "\t\tself.adaptation_rate= adaptation_rate\n",
    "\t\tself.total_activation= np.zeros(input_size)\n",
    "\t\t#self.syncmap= np.random.rand(dimensions, input_size)\n",
    "\t\n",
    "\tdef inputGeneral(self, x):\n",
    "\t\tplus= x > 0.1\n",
    "\t\tminus = ~ plus\n",
    "\n",
    "\t\tsequence_size = x.shape[0]\n",
    "\t\t#print(sequence_size, \"asfasdfasdfasd\")\n",
    "\t\tfor i in range(sequence_size):\n",
    "\t\t\t\n",
    "\t\t\tvplus= plus[i,:]\n",
    "\t\t\tvminus= minus[i,:]\n",
    "\t\t\tplus_mass = vplus.sum()\n",
    "\t\t\tminus_mass = vminus.sum()\n",
    "\t\t\tself.total_activation+= vplus.astype(int)\n",
    "\t\t\t# self.total_activation-= vminus.astype(int)\n",
    "\t\t\t#print(plus_mass)\n",
    "\t\t\t#print(minus_mass)\n",
    "\t\t\t\n",
    "\t\t\tif plus_mass <= 1:\n",
    "\t\t\t\tcontinue\n",
    "\t\t\t\n",
    "\t\t\tif minus_mass <= 1:\n",
    "\t\t\t\tcontinue\n",
    "\n",
    "\t\t\t#print(\"vplus\")\n",
    "\t\t\t#print(vplus)\n",
    "\t\t\t# np.dot(vplus,self.syncmap): syncmap的每个分量（1~8）在vplus中的贡献（投影）\n",
    "\t\t\tcenter_plus= np.dot(vplus,self.syncmap)/plus_mass\n",
    "\t\t\tcenter_minus= np.dot(vminus,self.syncmap)/minus_mass\n",
    "\t\t\n",
    "\t\t\t#print(self.syncmap.shape)\n",
    "\t\t\t#exit()\n",
    "\t\t\tdist_plus= distance.cdist(center_plus[None,:], self.syncmap, 'euclidean') # 质心到每个点的距离，相当于cluster的半径？\n",
    "\t\t\tdist_minus= distance.cdist(center_minus[None,:], self.syncmap, 'euclidean')\n",
    "\t\t\tdist_plus= np.transpose(dist_plus)\n",
    "\t\t\tdist_minus= np.transpose(dist_minus)\n",
    "\t\t\t\n",
    "\t\t\tupdate_plus= vplus[:,np.newaxis]*((center_plus - self.syncmap)/dist_plus)# + (self.syncmap - center_minus)/dist_minus)\n",
    "\t\t\tupdate_minus= vminus[:,np.newaxis]*((center_minus -self.syncmap)/dist_minus)\n",
    "\t\t\t\n",
    "\t\t\tupdate = update_plus - update_minus\n",
    "\t\t\tself.syncmap += self.adaptation_rate*update\n",
    "\t\t\t\n",
    "\t\t\tmaximum=self.syncmap.max()\n",
    "\t\t\tself.syncmap= self.space_size*self.syncmap/maximum\n",
    "\t\t\t\n",
    "\t\t# self.total_activation= self.total_activation/sequence_size\n",
    "\t\t\n",
    "\t\t# self.syncmap = self.syncmap * self.total_activation[:, np.newaxis]\n",
    "\n",
    "\n",
    "\tdef input(self, x):\n",
    "\t\t\n",
    "\t\tself.inputGeneral(x)\n",
    "\n",
    "\t\treturn\n",
    "\n",
    "\t\t\t\n",
    "\tdef organize(self):\n",
    "\t\n",
    "\t\tself.organized= True\n",
    "\t\t#self.labels= DBSCAN(eps=3, min_samples=2).fit_predict(self.syncmap)\n",
    "\t\t# self.labels= DBSCAN(eps=3, min_samples=2).fit_predict(self.syncmap)\n",
    "\t\tself.labels= DBSCAN(eps=0.8, min_samples=2).fit_predict(self.syncmap)\n",
    "\n",
    "\t\treturn self.labels\n",
    "\n",
    "\tdef activate(self, x):\n",
    "\t\t'''\n",
    "\t\tReturn the label of the index with maximum input value\n",
    "\t\t'''\n",
    "\n",
    "\t\tif self.organized == False:\n",
    "\t\t\tprint(\"Activating a non-organized SyncMap\")\n",
    "\t\t\treturn\n",
    "\t\t\n",
    "\t\t#maximum output\n",
    "\t\tmax_index= np.argmax(x)\n",
    "\n",
    "\t\treturn self.labels[max_index]\n",
    "\n",
    "\tdef plotSequence(self, input_sequence, input_class,filename=\"plot.png\"):\n",
    "\n",
    "\t\tinput_sequence= input_sequence[1:500]\n",
    "\t\tinput_class= input_class[1:500]\n",
    "\n",
    "\t\ta= np.asarray(input_class)\n",
    "\t\tt = [i for i,value in enumerate(a)]\n",
    "\t\tc= [self.activate(x) for x in input_sequence] \n",
    "\t\t\n",
    "\n",
    "\t\tplt.plot(t, a, '-g')\n",
    "\t\tplt.plot(t, c, '-.k')\n",
    "\t\t#plt.ylim([-0.01,1.2])\n",
    "\n",
    "\n",
    "\t\t# plt.savefig(filename,quality=1, dpi=300)\n",
    "\t\tplt.show()\n",
    "\t\tplt.close()\n",
    "\t\n",
    "\n",
    "\tdef plot(self, color=None, save = False, filename= \"plot_map.png\"):\n",
    "\n",
    "\t\tif color is None:\n",
    "\t\t\tcolor= self.labels\n",
    "\t\t\n",
    "\t\tprint(self.syncmap)\n",
    "\t\t#print(self.syncmap)\n",
    "\t\t#print(self.syncmap[:,0])\n",
    "\t\t#print(self.syncmap[:,1])\n",
    "\t\tif self.dimensions == 2:\n",
    "\t\t\t#print(type(color))\n",
    "\t\t\t#print(color.shape)\n",
    "\t\t\tax= plt.scatter(self.syncmap[:,0],self.syncmap[:,1], c=color)\n",
    "\t\t\t\n",
    "\t\tif self.dimensions == 3:\n",
    "\t\t\tfig = plt.figure()\n",
    "\t\t\tax = plt.axes(projection='3d')\n",
    "\n",
    "\t\t\tax.scatter3D(self.syncmap[:,0],self.syncmap[:,1], self.syncmap[:,2], c=color);\n",
    "\t\t\t#ax.plot3D(self.syncmap[:,0],self.syncmap[:,1], self.syncmap[:,2])\n",
    "\t\t\n",
    "\t\tif save == True:\n",
    "\t\t\tplt.savefig(filename)\n",
    "\t\t\n",
    "\t\tplt.show()\n",
    "\t\tplt.close()"
   ]
  },
  {
   "cell_type": "markdown",
   "metadata": {},
   "source": [
    "### compute generative probability"
   ]
  },
  {
   "cell_type": "code",
   "execution_count": null,
   "metadata": {},
   "outputs": [],
   "source": [
    "#| export\n",
    "# extract data from parameter space\n",
    "\n",
    "@patch\n",
    "def generate_activity_probs(self:SyncMap, sample_x = 0, sample_y = 0, err = 1e-4):\n",
    "    '''\n",
    "    Generate the activity probabilities of each variable in syncmap\n",
    "    return: np.array, shape = (self.output_size, )\n",
    "    '''\n",
    "    sample_cord = np.array([sample_x, sample_y])\n",
    "    # probs = np.zeros(self.output_size)\n",
    "    weight_dist = compute_combi_dist(self.syncmap)\n",
    "    pos = np.where(weight_dist == weight_dist.max())[0]\n",
    "    # tau = -weight_dist[*pos] / np.log(err)  # set tau to make the smallest prob to be err\n",
    "    tau = -weight_dist.__getitem__(tuple(pos)) / np.log(err)\n",
    "    # probs = np.exp(-weight_dist / tau)  \n",
    "    sample_dist = ((self.syncmap - sample_cord) ** 2 ).sum(axis = -1)\n",
    "    sample_probs = np.exp(-sample_dist / tau)\n",
    "    return sample_probs\n",
    "\n",
    "@patch\n",
    "def plot_activity_maps(self:SyncMap, x = 0, y = 0):\n",
    "    fig, axs = plt.subplots(1, 2, figsize = (10, 5))\n",
    "    sample_probs = self.generate_activity_probs(x, y)\n",
    "    axs[0].scatter(self.syncmap[:, 0], self.syncmap[:, 1], color = 'blue')\n",
    "    axs[0].scatter(x, y, color = 'red')\n",
    "    axs[0].set_xlim(self.syncmap.min()-0.5, self.syncmap.max()+0.5)\n",
    "    axs[0].set_ylim(self.syncmap.min()-0.5, self.syncmap.max()+0.5)\n",
    "    sns.barplot(sample_probs, ax = axs[1])\n",
    "    print(sample_probs)\n",
    "    plt.show()\n",
    "\n",
    "# SyncMap.generate_activity_probs = generate_activity_probs\n",
    "# SyncMap.plot_activity_maps = plot_activity_maps"
   ]
  },
  {
   "cell_type": "code",
   "execution_count": null,
   "metadata": {},
   "outputs": [],
   "source": [
    "# initialize the environment\n",
    "time_delay = 10\n",
    "env = OverlapChunkTest1(time_delay)\n",
    "output_size = env.getOutputSize()\n",
    "output_size\n",
    "\n",
    "# sequence_length = 1000000\n",
    "sequence_length = 10000\n",
    "\n",
    "####### SyncMap #####\n",
    "number_of_nodes= output_size\n",
    "adaptation_rate= 0.001*output_size\n",
    "print(\"Adaptation rate:\", adaptation_rate)\n",
    "map_dimensions= 2\n",
    "neuron_group= SyncMap(number_of_nodes, map_dimensions, adaptation_rate)\n",
    "input_sequence, input_class = env.getSequence(sequence_length)"
   ]
  },
  {
   "cell_type": "code",
   "execution_count": null,
   "metadata": {},
   "outputs": [],
   "source": [
    "neuron_group.input(input_sequence)\n",
    "labels= neuron_group.organize()\n",
    "\n",
    "print(\"Learned Labels: \",labels)\n",
    "print(\"Correct Labels: \",env.trueLabel())"
   ]
  },
  {
   "cell_type": "code",
   "execution_count": null,
   "metadata": {},
   "outputs": [],
   "source": [
    "neuron_group.syncmap"
   ]
  },
  {
   "cell_type": "code",
   "execution_count": null,
   "metadata": {},
   "outputs": [],
   "source": []
  },
  {
   "cell_type": "code",
   "execution_count": null,
   "metadata": {},
   "outputs": [],
   "source": [
    "np.random.seed(42)\n",
    "SyncMap_weight = np.random.rand(output_size, map_dimensions)\n",
    "plt.scatter(SyncMap_weight[:, 0], SyncMap_weight[:, 1])"
   ]
  },
  {
   "cell_type": "code",
   "execution_count": null,
   "metadata": {},
   "outputs": [],
   "source": [
    "np.random.seed(42)\n",
    "output_size = 8\n",
    "map_dimensions = 2\n",
    "SyncMap_weight = np.random.rand(output_size, map_dimensions)\n",
    "\n",
    "# Create an array of colors, one for each point\n",
    "# colors = np.random.rand(output_size)\n",
    "\n",
    "plt.scatter(SyncMap_weight[:, 0], SyncMap_weight[:, 1], c=['red', 'red', 'red', 'blue', 'blue', 'black', 'black', 'black'])\n",
    "# legend\n",
    "plt.colorbar()\n",
    "plt.show()"
   ]
  },
  {
   "cell_type": "code",
   "execution_count": null,
   "metadata": {},
   "outputs": [],
   "source": [
    "np.random.seed(41)\n",
    "output_size = 8\n",
    "map_dimensions = 2\n",
    "SyncMap_weight = np.random.rand(output_size, map_dimensions)\n",
    "\n",
    "# Create an array of colors, one for each point\n",
    "# colors = np.random.rand(output_size)\n",
    "\n",
    "plt.scatter(SyncMap_weight[:, 0], SyncMap_weight[:, 1], c=['red', 'red', 'red', 'blue', 'blue', 'black', 'black', 'black'])\n",
    "# legend\n",
    "plt.colorbar()\n",
    "plt.show()"
   ]
  },
  {
   "cell_type": "code",
   "execution_count": null,
   "metadata": {},
   "outputs": [],
   "source": [
    "plt.scatter(neuron_group.syncmap[:, 0], neuron_group.syncmap[:, 1], color = 'red')"
   ]
  },
  {
   "cell_type": "code",
   "execution_count": null,
   "metadata": {},
   "outputs": [],
   "source": [
    "neuron_group.syncmap"
   ]
  },
  {
   "cell_type": "code",
   "execution_count": null,
   "metadata": {},
   "outputs": [],
   "source": [
    "neuron_group.generate_activity_probs(sample_x = 0, sample_y = 0)"
   ]
  },
  {
   "cell_type": "code",
   "execution_count": null,
   "metadata": {},
   "outputs": [],
   "source": [
    "neuron_group.plot_activity_maps(x = 1, y = -2.5)"
   ]
  },
  {
   "cell_type": "code",
   "execution_count": null,
   "metadata": {},
   "outputs": [],
   "source": [
    "a = np.around(compute_combi_dist(neuron_group.syncmap), decimals = 4) \n",
    "a"
   ]
  },
  {
   "cell_type": "code",
   "execution_count": null,
   "metadata": {},
   "outputs": [],
   "source": [
    "b = np.around(np.exp(-a), decimals = 4)\n",
    "b"
   ]
  },
  {
   "cell_type": "code",
   "execution_count": null,
   "metadata": {},
   "outputs": [],
   "source": [
    "pos = np.where(a == a.max())[0]\n",
    "pos, a.__getitem__(tuple(pos)), a[pos]"
   ]
  },
  {
   "cell_type": "code",
   "execution_count": null,
   "metadata": {},
   "outputs": [],
   "source": []
  },
  {
   "cell_type": "markdown",
   "metadata": {},
   "source": [
    "### generate data from generative probability"
   ]
  },
  {
   "cell_type": "code",
   "execution_count": null,
   "metadata": {},
   "outputs": [],
   "source": [
    "#| export\n",
    "@patch\n",
    "def extract_act_var(self:SyncMap, sample_x = 0, sample_y = 0, err = 1e-4):\n",
    "    '''\n",
    "    check if there is any activated variables\n",
    "    '''\n",
    "    probs = self.generate_activity_probs(sample_x, sample_y, err)  # Dim: d\n",
    "    sampled_vars = np.random.binomial(1, probs)  # Dim: d\n",
    "    # due to there is only 1 variables should be activated, we randomly choose one\n",
    "    sampled_vars_idx = np.where(sampled_vars)[0]\n",
    "    if len(sampled_vars_idx) == 0:\n",
    "        return None \n",
    "    else:\n",
    "        sampled_var = np.random.choice(sampled_vars_idx)\n",
    "        return sampled_var\n",
    "\n",
    "\n",
    "@patch\n",
    "def create_element(self:SyncMap, sampled_var, env):\n",
    "    '''\n",
    "    create an element of the time series of the sampled variable\n",
    "    '''\n",
    "    tiny_series = np.zeros(env.output_size)\n",
    "    if sampled_var is None:\n",
    "        return tiny_series\n",
    "    else:\n",
    "        tiny_series[sampled_var] = 1\n",
    "        return tiny_series\n",
    "\n",
    "\n",
    "@patch\n",
    "def create_series(self:SyncMap, x, y, env, seq_len = 1000):\n",
    "    '''\n",
    "    generate time series data\n",
    "    '''\n",
    "    time_series = []\n",
    "    for _ in range(seq_len):\n",
    "        sampled_var = self.extract_act_var(sample_x = x, sample_y = y)\n",
    "        tiny_series = self.create_element(sampled_var, env)\n",
    "        time_series.append(tiny_series)\n",
    "    return np.array(time_series)"
   ]
  },
  {
   "cell_type": "code",
   "execution_count": null,
   "metadata": {},
   "outputs": [],
   "source": [
    "(env.time_delay, env.output_size)"
   ]
  },
  {
   "cell_type": "code",
   "execution_count": null,
   "metadata": {},
   "outputs": [],
   "source": [
    "neuron_group.extract_act_var(1, -2.5)"
   ]
  },
  {
   "cell_type": "code",
   "execution_count": null,
   "metadata": {},
   "outputs": [],
   "source": [
    "neuron_group.create_series(x = 1, y = -2.5, env = env)"
   ]
  },
  {
   "cell_type": "markdown",
   "metadata": {},
   "source": [
    "#### input data pattern"
   ]
  },
  {
   "cell_type": "markdown",
   "metadata": {},
   "source": [
    "- chrunk 0: the variable `0, 1, 2, 3, 4` could be activated\n",
    "- chrunk 1: the variable `3, 4, 5, 6 ,7` could be activated"
   ]
  },
  {
   "cell_type": "code",
   "execution_count": null,
   "metadata": {},
   "outputs": [],
   "source": [
    "temp_sequence = input_sequence.copy()\n",
    "temp_sequence[temp_sequence < 0.999] = 0\n",
    "# temp_sequence[temp_sequence == 1] = 0"
   ]
  },
  {
   "cell_type": "code",
   "execution_count": null,
   "metadata": {},
   "outputs": [],
   "source": [
    "env.plot_raw_data(input_sequence, input_class)"
   ]
  },
  {
   "cell_type": "markdown",
   "metadata": {},
   "source": [
    "#### chunk 0"
   ]
  },
  {
   "cell_type": "code",
   "execution_count": null,
   "metadata": {},
   "outputs": [],
   "source": [
    "env.plot_raw_data(temp_sequence[input_class==0, :], input_class[input_class==0])"
   ]
  },
  {
   "cell_type": "markdown",
   "metadata": {},
   "source": [
    "#### chunk 1"
   ]
  },
  {
   "cell_type": "code",
   "execution_count": null,
   "metadata": {},
   "outputs": [],
   "source": [
    "env.plot_raw_data(temp_sequence[input_class==1, :], input_class[input_class==1])"
   ]
  },
  {
   "cell_type": "markdown",
   "metadata": {},
   "source": [
    "#### generated"
   ]
  },
  {
   "cell_type": "code",
   "execution_count": null,
   "metadata": {},
   "outputs": [],
   "source": [
    "env.plot_raw_data(\n",
    "    values = neuron_group.create_series(x = 1, y = -2.5, env = env, seq_len = 1000),\n",
    "    labels = None\n",
    "    )"
   ]
  },
  {
   "cell_type": "markdown",
   "metadata": {},
   "source": [
    "## symmetrical syncmap"
   ]
  },
  {
   "cell_type": "code",
   "execution_count": null,
   "metadata": {},
   "outputs": [],
   "source": [
    "#| export\n",
    "class SymmetricalSyncMap:\n",
    "    def __init__(self, input_size, dimensions=3, \n",
    "                adaptation_rate=0.1, space_scale=1.0, space_bound=None,\n",
    "                leaking_rate=1.0, dropout_positive=0.0, dropout_negative=0.0,\n",
    "                movmean_window=1000, movmean_interval=10,\n",
    "                is_symmetrical_activation=False, number_of_selected_node=None,\n",
    "                is_adaptive_LR=False, adaptive_LR_widrow_hoff=0.1):\n",
    "        self.input_size = input_size\n",
    "        self.dimensions = dimensions\n",
    "        self.adaptation_rate = adaptation_rate\n",
    "        self.space_scale = space_scale\n",
    "        self.space_scale_dimensions_sqrt = space_scale * np.sqrt(dimensions)\n",
    "        self.space_bound = space_bound\n",
    "        self.leaking_rate = leaking_rate\n",
    "        self.dropout_positive = dropout_positive\n",
    "        self.dropout_negative = dropout_negative\n",
    "\n",
    "        # initialize the sync map\n",
    "        self.syncmap = np.random.rand(self.input_size, self.dimensions) * self.space_scale\n",
    "        self.syncmap = ((self.syncmap - np.mean(self.syncmap, axis=0)) / (np.std(self.syncmap, axis=0) + 1e-12)) * self.space_scale\n",
    "\n",
    "        self.syncmap_movmean_list = deque(maxlen=movmean_window)\n",
    "        self.syncmap_movmean = self.syncmap.copy()\n",
    "        self.movmean_interval = movmean_interval\n",
    "\n",
    "        # symmetrical activation\n",
    "        self.is_symmetrical_activation = is_symmetrical_activation\n",
    "        self.number_of_selected_node = number_of_selected_node\n",
    "\n",
    "        # adaptive learning rate\n",
    "        self.is_adaptive_LR = is_adaptive_LR\n",
    "        self.adaptive_LR = 1\n",
    "        self.adaptive_LR_widrow_hoff = adaptive_LR_widrow_hoff\n",
    "\n",
    "        self.fit_log = []\n",
    "\n",
    "\n",
    "\n",
    "    def input_sequential(self, input_seq, current_state=None, Verbose_tqdm=True):\n",
    "        # start processing\n",
    "        if Verbose_tqdm:\n",
    "            verbose = tqdm # use tqdm\n",
    "        else:\n",
    "            verbose = lambda x: x # do not use tqdm\n",
    "\n",
    "        for i_state in verbose(range(len(input_seq))):\n",
    "            state = input_seq[i_state]\n",
    "            # current_state_idx = current_state[i_state] if current_state is not None else None\n",
    "            self.adapt_chunking(input_state_vec=state)\n",
    "            if i_state % self.movmean_interval == 0 or i_state == len(input_seq) - 1:\n",
    "                self.syncmap_movmean_list.append(self.syncmap.copy())\n",
    "\n",
    "        self.syncmap_movmean = np.mean(np.asarray(self.syncmap_movmean_list), axis=0)\n",
    "\n",
    "\n",
    "    def adapt_chunking(self, input_state_vec):\n",
    "\n",
    "        syncmap_previous = self.syncmap.copy()\n",
    "\n",
    "        set_positive = input_state_vec == True\n",
    "        set_negative = input_state_vec == False\n",
    "\n",
    "        # symmetrical activation\n",
    "        if self.is_symmetrical_activation:\n",
    "            set_positive, set_negative = self.symmetrical_activation(set_positive.copy())\n",
    "\n",
    "        if set_positive.sum() <= 1 or set_negative.sum() <= 1:\n",
    "            return syncmap_previous\n",
    "\n",
    "        centroid_positive = np.dot(set_positive, self.syncmap) / set_positive.sum()\n",
    "        centroid_negative = np.dot(set_negative, self.syncmap) / set_negative.sum()\n",
    "\n",
    "        dist_set2centroid_positive = distance.cdist(centroid_positive[None, :], self.syncmap, 'euclidean').T\n",
    "        dist_set2centroid_negative = distance.cdist(centroid_negative[None, :], self.syncmap, 'euclidean').T\n",
    "\n",
    "        # get dropout mask\n",
    "        isDropout_positive = np.random.rand() > self.dropout_positive\n",
    "        isDropout_negative = np.random.rand() > self.dropout_negative\n",
    "\n",
    "        # update syncmap\n",
    "        update_positive = set_positive[:, np.newaxis] * (centroid_positive - self.syncmap) / dist_set2centroid_positive\n",
    "        update_negative = set_negative[:, np.newaxis] * (centroid_negative - self.syncmap) / dist_set2centroid_negative\n",
    "\n",
    "        # adaptive learning rate regularization\n",
    "        if self.is_adaptive_LR:\n",
    "            adaptive_LR_positive, adaptive_LR_negative = self.update_adaptive_learning_rate(dist_set2centroid_positive, set_positive)\n",
    "            update_positive = update_positive * adaptive_LR_positive\n",
    "            update_negative = update_negative * adaptive_LR_negative\n",
    "\n",
    "        self.syncmap += self.adaptation_rate * (update_positive * isDropout_positive - update_negative * isDropout_negative)\n",
    "\n",
    "        # regularization\n",
    "        # normalize the syncmap to have 0 mean and 1 std\n",
    "        # self.syncmap = ((self.syncmap - np.mean(self.syncmap, axis=0)) / (np.std(self.syncmap, axis=0) + 1e-12)) * self.space_scale\n",
    "        self.syncmap = (self.syncmap / self.syncmap.max()) * self.space_scale\n",
    "\n",
    "\n",
    "\n",
    "        # leaking\n",
    "        self.syncmap = self.leaking_rate * self.syncmap + (1 - self.leaking_rate) * syncmap_previous\n",
    "\n",
    "        self.fit_log.append(self.syncmap.copy())\n",
    "        return self.syncmap\n",
    "\n",
    "\n",
    "    def get_syncmap(self, isMovMean=False):\n",
    "        if isMovMean:\n",
    "            self.syncmap_movmean = np.mean(np.asarray(self.syncmap_movmean_list), axis=0)\n",
    "            return self.syncmap_movmean\n",
    "        else:\n",
    "            return self.syncmap\n",
    "\n",
    "    def symmetrical_activation(self, input_vector):\n",
    "        state_vector_plus = input_vector.copy()\n",
    "\n",
    "        ## version 2 ##\n",
    "        # Consider those positive nodes which are not selected in positive stochastic selection process\n",
    "        number_of_selected_node_temp = state_vector_plus.sum()\n",
    "        state_vector_plus = self.stochastic_selection(input_vector=state_vector_plus,\n",
    "                                                    number_of_selected_node_overwrite=number_of_selected_node_temp)\n",
    "        # update number_of_selected_node_temp\n",
    "        number_of_selected_node_temp = state_vector_plus.sum()\n",
    "        state_vector_minus = self.stochastic_selection(input_vector=~state_vector_plus,\n",
    "                                                    number_of_selected_node_overwrite=number_of_selected_node_temp)\n",
    "\n",
    "\n",
    "        return state_vector_plus, state_vector_minus\n",
    "\n",
    "    def stochastic_selection(self, input_vector, number_of_selected_node_overwrite=None):\n",
    "        number_of_activated_node = input_vector.sum()\n",
    "\n",
    "        if self.number_of_selected_node is None:\n",
    "            number_of_selected_node = number_of_selected_node_overwrite\n",
    "        else:\n",
    "            number_of_selected_node = self.number_of_selected_node\n",
    "\n",
    "\n",
    "\n",
    "        if number_of_activated_node == 0:\n",
    "            Pr = 0\n",
    "        elif number_of_selected_node < number_of_activated_node: # randomly select a subset of nodes from the activated nodes\n",
    "            Pr = number_of_selected_node / number_of_activated_node\n",
    "        else: # select all the activated nodes\n",
    "            Pr = 1\n",
    "\n",
    "        state_vector_after_masking = np.logical_and(input_vector, np.random.rand(len(input_vector)) < Pr)\n",
    "        return state_vector_after_masking\n",
    "\n",
    "    def update_adaptive_learning_rate(self, dist_set2centroid_positive, set_positive):\n",
    "        dist_avg_positive = np.sum(dist_set2centroid_positive * set_positive[:, None]) / set_positive.sum()\n",
    "        adaptive_LR_positive = dist_avg_positive / self.space_scale_dimensions_sqrt\n",
    "\n",
    "        ### version 4:\n",
    "        self.adaptive_LR += self.adaptive_LR_widrow_hoff * (adaptive_LR_positive - self.adaptive_LR)\n",
    "        adaptive_LR_positive = copy.deepcopy(self.adaptive_LR)\n",
    "        adaptive_LR_negative = 1\n",
    "\n",
    "        adaptive_LR_negative_amplifier_a = 0.01\n",
    "        adaptive_LR_negative_amplifier_b = 2\n",
    "        adaptive_LR_negative_amplifier = self.input_size * adaptive_LR_negative_amplifier_a + adaptive_LR_negative_amplifier_b\n",
    "        adaptive_LR_negative_threshold = 1.5\n",
    "        adaptive_LR_negative = self.adaptive_LR * adaptive_LR_negative_amplifier\n",
    "        if adaptive_LR_negative > adaptive_LR_negative_threshold:\n",
    "            adaptive_LR_negative = adaptive_LR_negative_threshold\n",
    "\n",
    "        adaptive_LR_positive_threshold = 0.05\n",
    "        if adaptive_LR_positive < adaptive_LR_positive_threshold:\n",
    "            return adaptive_LR_positive_threshold, adaptive_LR_negative\n",
    "        else:\n",
    "            return adaptive_LR_positive, adaptive_LR_negative\n",
    "\n",
    "    def set_adaptation_rate(self, adaptation_rate):\n",
    "        self.adaptation_rate = adaptation_rate\n"
   ]
  },
  {
   "cell_type": "code",
   "execution_count": null,
   "metadata": {},
   "outputs": [],
   "source": []
  },
  {
   "cell_type": "code",
   "execution_count": null,
   "metadata": {},
   "outputs": [],
   "source": [
    "# temp_path = f'../data/probabilistic5_6.dot'\n",
    "temp_path = f'../data/UB_prob_chunk_20_10_5.dot'\n",
    "\n",
    "num_trails_per_problem = 1\n",
    "state_memory = 2\n",
    "number_of_selected_node = 2 # <=state_memory\n",
    "max_seq_length = 300000\n",
    "\n",
    "# start testing\n",
    "nmi_total_list = []\n",
    "eps_min_total_list = []\n",
    "eps_max_total_list = []\n",
    "\n",
    "\n",
    "# experiment start\n",
    "file_path = temp_path\n",
    "preprocessor = GraphProcessor()\n",
    "preprocessor.read_graph_from_dot(file_path=file_path)\n",
    "groundtruth_labels = preprocessor.get_groundtruth_labels()\n",
    "connection_matrix = preprocessor.get_connection_matrix()\n",
    "num_of_nodes = connection_matrix.shape[0]\n",
    "\n",
    "nmi_trail_list = []\n",
    "eps_min_trail_list = []\n",
    "eps_max_trail_list = []\n",
    "for i_trail in range(num_trails_per_problem):\n",
    "    print(f\"Trail {i_trail+1}/{num_trails_per_problem}\")\n",
    "\n",
    "    ###########################################################################################################\n",
    "    # initialize sequence generator and set state_memory\n",
    "    seq_generator = WorkingMemProcessor(state_memory=state_memory)\n",
    "\n",
    "    # generate random walk on graph\n",
    "    input_seq_trajectory, input_seq_onehot = preprocessor.random_walk_on_graph(L=max_seq_length, reset_time=None)\n",
    "\n",
    "    # generate input sequence for syncmap\n",
    "    input_seq = seq_generator.seq_gen_naive(input_seq=input_seq_onehot)\n",
    "\n",
    "    # # initialize syncamap\n",
    "    # model_syncmap = SymmetricalSyncMap(input_size=num_of_nodes, dimensions=15, adaptation_rate=0.01, space_scale=1,\n",
    "    #                         leaking_rate=1.0, movmean_window=2000, movmean_interval=2,\n",
    "    #                         is_symmetrical_activation=True, number_of_selected_node=2,)\n",
    "\n",
    "    # uncomment below to use original syncmap\n",
    "    model_syncmap = SymmetricalSyncMap(input_size=num_of_nodes, dimensions=15, adaptation_rate=0.01, space_scale=1)\n",
    "\n",
    "    print(\"training SyncMap...\")\n",
    "    model_syncmap.input_sequential(input_seq)\n",
    "    learned_map = model_syncmap.get_syncmap(isMovMean=True)\n",
    "\n",
    "    # readout\n",
    "    readout = Readout(learned_map, ground_truth=groundtruth_labels)\n",
    "    # from a range if eps, find the eps that yields the best NMI\n",
    "    eps_list = np.linspace(0.005, 5, 100)\n",
    "    best_nmi = 0\n",
    "    best_prediction_labels = None\n",
    "    best_eps_min = eps_list[0]\n",
    "    best_eps_max = eps_list[0]\n",
    "    for eps in eps_list:\n",
    "        readout.dbscan_(eps=eps, min_samples=2, print_result=False)\n",
    "        nmi = readout.cal_NMI(print_result=False)\n",
    "        # there might be multiple eps that have the same best nmi, we record the first one as the best_eps_min\n",
    "        # and the last one as the best_eps_max\n",
    "        if nmi > best_nmi:\n",
    "            best_nmi = nmi\n",
    "            best_prediction_labels = readout.predicted_labels\n",
    "            best_eps_min = eps\n",
    "        if nmi == best_nmi:\n",
    "            best_eps_max = eps\n",
    "            best_prediction_labels = readout.predicted_labels # overwrite the best_prediction_labels to prevent -1 in dbscan\n",
    "\n",
    "\n",
    "    print(\"Groundtruth labels:\", groundtruth_labels)\n",
    "    print(\"Best prediction labels:\", best_prediction_labels)\n",
    "    print(\"Best eps:\", best_eps_min, best_eps_max)\n",
    "    print(\"Best NMI:\", best_nmi)\n",
    "    nmi_trail_list.append(best_nmi)\n",
    "    eps_min_trail_list.append(best_eps_min)\n",
    "    eps_max_trail_list.append(best_eps_max)\n",
    "\n",
    "    # # visualize the syncmap in 3d\n",
    "    # fig = plt.figure()\n",
    "    # ax = fig.add_subplot(111, projection='3d')\n",
    "    # map_tsne = TSNE(n_components=3, perplexity=5).fit_transform(learned_map)\n",
    "    # # ax.scatter(learned_map[:, 0], learned_map[:, 1], learned_map[:, 2], c=groundtruth_labels, marker='o', s=10)\n",
    "    # ax.scatter(map_tsne[:, 0], map_tsne[:, 1], map_tsne[:, 2], c=groundtruth_labels, marker='o', s=100)\n",
    "    # plt.show()\n",
    "\n",
    "    # 2d tsne\n",
    "    # fig = plt.figure()\n",
    "    # ax = fig.add_subplot(111)\n",
    "    # map_tsne = TSNE(n_components=2, perplexity=5).fit_transform(learned_map)\n",
    "    # ax.scatter(map_tsne[:, 0], map_tsne[:, 1], c=groundtruth_labels, marker='o')\n",
    "    # plt.show()\n",
    "\n",
    "    time.sleep(0.1)\n",
    "\n",
    "    \n",
    "\n",
    "nmi_avg = np.mean(nmi_trail_list)\n",
    "nmi_std = np.std(nmi_trail_list)\n",
    "eps_min_avg = np.mean(eps_min_trail_list)\n",
    "eps_min_std = np.std(eps_min_trail_list)\n",
    "eps_max_avg = np.mean(eps_max_trail_list)\n",
    "eps_max_std = np.std(eps_max_trail_list)\n",
    "print(temp_path.split('/')[-1].split('.')[0])\n",
    "print(f\"Average NMI: {nmi_avg}, std: {nmi_std}\")\n",
    "print(f\"Average eps_min: {eps_min_avg}, std: {eps_min_std}\")\n",
    "print(f\"Average eps_max: {eps_max_avg}, std: {eps_max_std}\")\n",
    "nmi_total_list.append(nmi_trail_list)\n",
    "eps_min_total_list.append(eps_min_trail_list)\n",
    "eps_max_total_list.append(eps_max_trail_list)"
   ]
  },
  {
   "cell_type": "code",
   "execution_count": null,
   "metadata": {},
   "outputs": [],
   "source": [
    "# #| export\n",
    "# def labels2colors(labels):\n",
    "#     colorbar = ['red', 'blue', 'green', 'yellow', 'purple', 'orange', 'black', 'pink', 'brown', 'gray']\n",
    "#     return [colorbar[label] for label in labels]"
   ]
  },
  {
   "cell_type": "code",
   "execution_count": null,
   "metadata": {},
   "outputs": [],
   "source": [
    "color_list = labels2colors(groundtruth_labels)\n",
    "color_list"
   ]
  },
  {
   "cell_type": "markdown",
   "metadata": {},
   "source": [
    "reduce dimensions"
   ]
  },
  {
   "cell_type": "code",
   "execution_count": null,
   "metadata": {},
   "outputs": [],
   "source": [
    "reduced_fit_log = reduce_dimension_with_tsne(\n",
    "    np.asarray(model_syncmap.fit_log)[::1000]\n",
    ")"
   ]
  },
  {
   "cell_type": "markdown",
   "metadata": {},
   "source": [
    "plot the syncmap variable space"
   ]
  },
  {
   "cell_type": "code",
   "execution_count": null,
   "metadata": {},
   "outputs": [],
   "source": [
    "fig = create_trace_plot(reduced_fit_log, colors = color_list)\n",
    "fig.show()\n"
   ]
  },
  {
   "cell_type": "code",
   "execution_count": null,
   "metadata": {},
   "outputs": [],
   "source": [
    "a0 = np.random.rand(3,3)\n",
    "b0 = np.random.rand(3,3)\n",
    "a0, b0"
   ]
  },
  {
   "cell_type": "code",
   "execution_count": null,
   "metadata": {},
   "outputs": [],
   "source": [
    "np.dot(a0, b0)"
   ]
  },
  {
   "cell_type": "code",
   "execution_count": null,
   "metadata": {},
   "outputs": [],
   "source": [
    "a0 @ b0"
   ]
  },
  {
   "cell_type": "markdown",
   "metadata": {},
   "source": [
    "## LightSyncMap"
   ]
  },
  {
   "cell_type": "code",
   "execution_count": null,
   "metadata": {},
   "outputs": [],
   "source": [
    "#| export\n",
    "class LightSyncMap:\n",
    "\t'''\n",
    "\tThe original syncmap\n",
    "\t'''\n",
    "\tdef __init__(self, input_size, dimensions, adaptation_rate):\n",
    "\t\t\n",
    "\t\tself.organized= False\n",
    "\t\tself.space_size= 10\n",
    "\t\tself.dimensions= dimensions\n",
    "\t\tself.input_size= input_size\n",
    "\t\t#syncmap= np.zeros((input_size,dimensions))\n",
    "\t\tnp.random.seed(40)\n",
    "\t\tself.syncmap= np.random.rand(input_size,dimensions)\n",
    "\t\tself.adaptation_rate= adaptation_rate\n",
    "\t\tself.delay_effect = 0.8\n",
    "\t\tself.fit_log = []\n",
    "\n",
    "\n",
    "\t@property\n",
    "\tdef log(self):\n",
    "\t\treturn np.asarray(self.fit_log)\n",
    "\n",
    "\tdef fit(self, input_sequence):\n",
    "\t\tfor idx, state in tqdm(enumerate(input_sequence), total=len(input_sequence)):\n",
    "\t\t\tvplus, vminus = self.get_postive_and_negative_state(state)\n",
    "\t\t\tif idx == 39:\n",
    "\t\t\t\tx0 = None\n",
    "\t\t\tnew_snycmap = self.one_step_organize(vplus, vminus)\n",
    "\n",
    "\t\t\tif new_snycmap is not None:\n",
    "\t\t\t\tself.syncmap = new_snycmap[:]\n",
    "\n",
    "\tdef get_postive_and_negative_state(self, state):\n",
    "\t\t'''\n",
    "\t\t\tadentify the state whether is activated and deactivated\n",
    "\t\targs:\n",
    "\t\t\tstate(d): np.ndarray, the one step input sequence, d is the number of feature of input\n",
    "\t\treturn:\n",
    "\t\t\tplus, minus(D): np.ndarray, th elements are boolean representing the activated and deactivated state\n",
    "\t\t'''\n",
    "\t\tplus= state > 0.1\n",
    "\t\tminus = ~ plus\n",
    "\t\treturn plus, minus\n",
    "\t\t\n",
    "\n",
    "\tdef get_center(self, arr, syncmap_arr):\n",
    "\t\t'''\n",
    "\t\tcalculate the mass center of the input arrays.\n",
    "\t\tIf the activated or deactivated state just one sample, return  None\n",
    "\t\targs:\n",
    "\t\t\tarr(d): np.array, features\n",
    "\t\t'''\n",
    "\t\tarr_mass = arr.sum()\n",
    "\t\tif arr_mass <= 1:\n",
    "\t\t\treturn None\n",
    "\t\t# elif arr_mass == arr.shape[0]:\n",
    "\t\t# \treturn None\n",
    "\t\telse:\n",
    "\t\t\treturn (arr @ syncmap_arr) / arr_mass  # (D,) @ (D, d) -> (d,); D: features of input, d: features of syncmap\n",
    "\n",
    "\n",
    "\tdef update(self, update_plus, update_minus, syncmap_arr):\n",
    "\t\t'''\n",
    "\t\tupdate the syncmap\n",
    "\t\targs:\n",
    "\t\t\tupdate_plus(d, D): np.ndarray, the update of activated state\n",
    "\t\t\tupdate_minus(d, D): np.ndarray, the update of deactivated state\n",
    "\t\t'''\n",
    "\t\tupdate = update_plus - update_minus\n",
    "\t\tsyncmap_arr += self.adaptation_rate * update\n",
    "\t\tmaximum = syncmap_arr.max()\n",
    "\t\treturn syncmap_arr / maximum # self.space_size*\n",
    "\n",
    "\n",
    "\tdef one_step_organize(self, vplus, vminus):\n",
    "\t\tsyncmap_previous = self.syncmap.copy()\n",
    "\t\tcenter_plus  = self.get_center(vplus, syncmap_previous)\n",
    "\t\tcenter_minus = self.get_center(vminus, syncmap_previous)\n",
    "\t\t\n",
    "\t\tif center_plus is None or center_minus is None:\n",
    "\t\t\treturn None\n",
    "\n",
    "\t\tdist_plus= distance.cdist(center_plus[None,:], syncmap_previous, 'euclidean').T\n",
    "\t\tdist_minus= distance.cdist(center_minus[None,:], syncmap_previous, 'euclidean').T\n",
    "\n",
    "\t\tupdate_plus= vplus[:,np.newaxis]*((center_plus - syncmap_previous)/dist_plus)\n",
    "\t\tupdate_minus= vminus[:,np.newaxis]*((center_minus - syncmap_previous)/dist_minus)  # the mod is 1\n",
    "\n",
    "\t\t# disable the update of too far nodes\n",
    "\t\t# update_plus[dist_plus.squeeze()>0.5] = 0\n",
    "\t\t# update_minus[dist_minus.squeeze()>0.5] = 0\n",
    "\n",
    "\t\tnew_syncmap = self.update(update_plus, update_minus, syncmap_previous)\n",
    "\t\t\n",
    "\t\tself.fit_log.append(new_syncmap)\n",
    "\t\treturn new_syncmap\n",
    "\t\t\t\n",
    "\tdef cluster(self):\n",
    "\t\tself.organized= True\n",
    "\t\t# self.labels= DBSCAN(eps=3, min_samples=2).fit_predict(self.syncmap)\n",
    "\t\tself.labels= DBSCAN(eps=1, min_samples=2).fit_predict(self.syncmap)\n",
    "\n",
    "\t\treturn self.labels\n",
    "\n",
    "\tdef activate(self, x):\n",
    "\t\t'''\n",
    "\t\tReturn the label of the index with maximum input value\n",
    "\t\t'''\n",
    "\n",
    "\t\tif self.organized == False:\n",
    "\t\t\tprint(\"Activating a non-organized SyncMap\")\n",
    "\t\t\treturn\n",
    "\t\t\n",
    "\t\t#maximum output\n",
    "\t\tmax_index= np.argmax(x)\n",
    "\n",
    "\t\treturn self.labels[max_index]"
   ]
  },
  {
   "cell_type": "code",
   "execution_count": null,
   "metadata": {},
   "outputs": [
    {
     "name": "stdout",
     "output_type": "stream",
     "text": [
      "Adaptation rate: 0.004\n"
     ]
    }
   ],
   "source": [
    "# initialize the environment\n",
    "time_delay = 10\n",
    "env = OverlapChunkTest1(time_delay)\n",
    "output_size = env.getOutputSize()\n",
    "output_size\n",
    "\n",
    "# sequence_length = 1000000\n",
    "sequence_length = int(1000000 * 0.8)  #  * 0.8\n",
    "\n",
    "####### SyncMap #####\n",
    "number_of_nodes= output_size\n",
    "adaptation_rate= 0.0005*output_size\n",
    "print(\"Adaptation rate:\", adaptation_rate)\n",
    "map_dimensions= 2\n",
    "neuron_group= LightSyncMap(number_of_nodes, map_dimensions, adaptation_rate)\n",
    "input_sequence, input_class = env.getSequence(sequence_length)"
   ]
  },
  {
   "cell_type": "code",
   "execution_count": null,
   "metadata": {},
   "outputs": [
    {
     "name": "stderr",
     "output_type": "stream",
     "text": [
      "100%|██████████| 800000/800000 [00:09<00:00, 83270.08it/s]"
     ]
    },
    {
     "name": "stdout",
     "output_type": "stream",
     "text": [
      "Learned Labels:  [0 0 0 0 0 1 1 1]\n",
      "Correct Labels:  [0 0 0 1 1 2 2 2]\n"
     ]
    },
    {
     "name": "stderr",
     "output_type": "stream",
     "text": [
      "\n"
     ]
    }
   ],
   "source": [
    "neuron_group.fit(input_sequence)\n",
    "labels= neuron_group.cluster()\n",
    "\n",
    "print(\"Learned Labels: \",labels)\n",
    "print(\"Correct Labels: \",env.trueLabel())"
   ]
  },
  {
   "cell_type": "code",
   "execution_count": null,
   "metadata": {},
   "outputs": [],
   "source": [
    "neuron_group.syncmap"
   ]
  },
  {
   "cell_type": "code",
   "execution_count": null,
   "metadata": {},
   "outputs": [
    {
     "data": {
      "text/plain": [
       "<Axes: >"
      ]
     },
     "execution_count": null,
     "metadata": {},
     "output_type": "execute_result"
    },
    {
     "data": {
      "image/png": "[encoded data removed]",
      "text/plain": [
       "<Figure size 500x500 with 1 Axes>"
      ]
     },
     "metadata": {},
     "output_type": "display_data"
    }
   ],
   "source": [
    "fig, ax = plt.subplots(figsize = (5, 5))\n",
    "sns.scatterplot(x = neuron_group.syncmap[:, 0], y = neuron_group.syncmap[:, 1], hue=env.trueLabel(), ax = ax)\n",
    "# set the x-axis range from -10 to 10\n",
    "# ax.set_xlim(-10, 10)\n",
    "# ax.set_ylim(-10, 10)"
   ]
  },
  {
   "cell_type": "code",
   "execution_count": null,
   "metadata": {},
   "outputs": [
    {
     "data": {
      "text/plain": [
       "(['red', 'red', 'red', 'blue', 'blue', 'green', 'green', 'green'],\n",
       " (655306, 8, 2))"
      ]
     },
     "execution_count": null,
     "metadata": {},
     "output_type": "execute_result"
    }
   ],
   "source": [
    "color_list = labels2colors(env.trueLabel())\n",
    "color_list, neuron_group.log.shape"
   ]
  },
  {
   "cell_type": "code",
   "execution_count": null,
   "metadata": {},
   "outputs": [
    {
     "data": {
      "application/vnd.plotly.v1+json": {
       "config": {
        "plotlyServerURL": "https://plot.ly"
       },
       "data": [
        {
         "marker": {
          "color": [
           "red",
           "red",
           "red",
           "blue",
           "blue",
           "green",
           "green",
           "green"
          ]
         },
         "mode": "markers",
         "type": "scatter",
         "x": [
          0.4146173458114909,
          0.8020907496763477,
          0.4565600955053392,
          0.5304158948819188,
          0.7924280098463655,
          1,
          0.8301306690475279,
          0.0242262835728343
         ],
         "y": [
          0.06021661947903927,
          0.28792309505823716,
          0.30456364682037534,
          0.6330000717933577,
          0.6982925507806695,
          0.6095944269936602,
          0.7211778621589742,
          0.9197213772080308
         ]
        }
       ],
       "frames": [
        {
         "data": [
          {
           "marker": {
            "color": [
             "red",
             "red",
             "red",
             "blue",
             "blue",
             "green",
             "green",
             "green"
            ]
           },
           "mode": "markers",
           "type": "scatter",
           "x": [
            0.4146173458114909,
            0.8020907496763477,
            0.4565600955053392,
            0.5304158948819188,
            0.7924280098463655,
            1,
            0.8301306690475279,
            0.0242262835728343
           ],
           "y": [
            0.06021661947903927,
            0.28792309505823716,
            0.30456364682037534,
            0.6330000717933577,
            0.6982925507806695,
            0.6095944269936602,
            0.7211778621589742,
            0.9197213772080308
           ]
          }
         ],
         "name": "0"
        },
        {
         "data": [
          {
           "marker": {
            "color": [
             "red",
             "red",
             "red",
             "blue",
             "blue",
             "green",
             "green",
             "green"
            ]
           },
           "mode": "markers",
           "type": "scatter",
           "x": [
            -0.5064960621097316,
            -0.44572265616451207,
            -0.4673815552976833,
            0.6165722551609194,
            0.4907203704464683,
            0.5553553446257001,
            0.47460212476776026,
            0.05006170320064106
           ],
           "y": [
            -1.0654186695643209,
            -0.9681517748035157,
            -0.9910126272721093,
            0.7110644712583643,
            0.5897361721855193,
            0.8746848633327772,
            0.7767308138740566,
            1
           ]
          }
         ],
         "name": "1"
        },
        {
         "data": [
          {
           "marker": {
            "color": [
             "red",
             "red",
             "red",
             "blue",
             "blue",
             "green",
             "green",
             "green"
            ]
           },
           "mode": "markers",
           "type": "scatter",
           "x": [
            -0.47120581353740326,
            -0.17887220303670603,
            -0.5283730739252775,
            0.3481735056857985,
            0.42173851743306956,
            0.2392510848341896,
            0.2437543851768729,
            0.26752372261834334
           ],
           "y": [
            -0.8644204528384104,
            -0.8224717293165497,
            -0.9399314710896238,
            -0.3209925976545973,
            -0.5227750368425219,
            0.7824441820659506,
            0.9251709080814484,
            1
           ]
          }
         ],
         "name": "2"
        },
        {
         "data": [
          {
           "marker": {
            "color": [
             "red",
             "red",
             "red",
             "blue",
             "blue",
             "green",
             "green",
             "green"
            ]
           },
           "mode": "markers",
           "type": "scatter",
           "x": [
            -0.5664319140336318,
            -0.6755607052606578,
            -0.820817901655243,
            0.7121482342224382,
            0.5334295349436788,
            0.5835654952248698,
            0.5608687030893571,
            0.5566904880749483
           ],
           "y": [
            -0.8320555055195028,
            -0.8975972966727322,
            -0.9444127474746312,
            -0.040267364900816366,
            -0.06544083765904876,
            1,
            0.9448688292898076,
            0.9951807390241716
           ]
          }
         ],
         "name": "3"
        },
        {
         "data": [
          {
           "marker": {
            "color": [
             "red",
             "red",
             "red",
             "blue",
             "blue",
             "green",
             "green",
             "green"
            ]
           },
           "mode": "markers",
           "type": "scatter",
           "x": [
            -0.6323376097050687,
            -0.722853539543804,
            -0.6365247715212322,
            0.2336836299429904,
            0.06473468944965259,
            0.5453206565227408,
            0.5097660571645766,
            0.5120131149357551
           ],
           "y": [
            -0.7266757581467942,
            -0.8408784404839729,
            -0.8492731891886619,
            -0.8644015100371923,
            -0.7348183661562004,
            1,
            0.9250021948882087,
            0.9319902025365746
           ]
          }
         ],
         "name": "4"
        },
        {
         "data": [
          {
           "marker": {
            "color": [
             "red",
             "red",
             "red",
             "blue",
             "blue",
             "green",
             "green",
             "green"
            ]
           },
           "mode": "markers",
           "type": "scatter",
           "x": [
            -0.7688227334346094,
            -0.8868884378723595,
            -0.488085099323961,
            0.5077531957242922,
            0.32645820141409765,
            0.517244695000083,
            0.6082055655432006,
            0.6086266473164366
           ],
           "y": [
            -0.906500106514176,
            -0.939390130802776,
            -0.7926665307900119,
            -0.5021701839198489,
            -0.3668621144511747,
            0.7539676372457405,
            0.9940987792561535,
            1
           ]
          }
         ],
         "name": "5"
        },
        {
         "data": [
          {
           "marker": {
            "color": [
             "red",
             "red",
             "red",
             "blue",
             "blue",
             "green",
             "green",
             "green"
            ]
           },
           "mode": "markers",
           "type": "scatter",
           "x": [
            -1.0072435008030698,
            -0.7910430477858952,
            -1.0829643159562148,
            0.8436023416779728,
            0.6389192274203986,
            0.8950918927485519,
            0.7487361144359894,
            0.7157360469815464
           ],
           "y": [
            -0.7749817624109138,
            -0.6517652392062045,
            -0.7789358582535042,
            -0.09596509640180109,
            -0.1829341887717725,
            1,
            0.6747880038880993,
            0.7095360204392609
           ]
          }
         ],
         "name": "6"
        },
        {
         "data": [
          {
           "marker": {
            "color": [
             "red",
             "red",
             "red",
             "blue",
             "blue",
             "green",
             "green",
             "green"
            ]
           },
           "mode": "markers",
           "type": "scatter",
           "x": [
            -1.24261378766205,
            -1.2298844270595852,
            -0.9893986723137362,
            1,
            0.860637257405873,
            0.8608844407766907,
            0.8684792394881383,
            0.9091098634194684
           ],
           "y": [
            -0.6941011687360462,
            -0.6912783098708648,
            -0.5795961066589185,
            -0.1529902616118274,
            -0.21520708575528938,
            0.7468207180344938,
            0.7485276909005036,
            0.799342342315052
           ]
          }
         ],
         "name": "7"
        },
        {
         "data": [
          {
           "marker": {
            "color": [
             "red",
             "red",
             "red",
             "blue",
             "blue",
             "green",
             "green",
             "green"
            ]
           },
           "mode": "markers",
           "type": "scatter",
           "x": [
            -0.8136449811025694,
            -0.7440188839066257,
            -0.6840203197032505,
            0.7008322286357962,
            0.5901563446851522,
            0.6159983509539849,
            1,
            0.9281263581340546
           ],
           "y": [
            -0.2938604885583823,
            -0.2687146060609136,
            -0.24704468730436602,
            0.2531384442057496,
            0.213128488806526,
            0.22246924522809006,
            0.3609993304785887,
            0.3354071350044535
           ]
          }
         ],
         "name": "8"
        },
        {
         "data": [
          {
           "marker": {
            "color": [
             "red",
             "red",
             "red",
             "blue",
             "blue",
             "green",
             "green",
             "green"
            ]
           },
           "mode": "markers",
           "type": "scatter",
           "x": [
            -0.7527297714349614,
            -0.8031086181384616,
            -0.8396480032835292,
            0.4889348281500049,
            -0.3700163672052717,
            1,
            0.858930899489868,
            0.9312898369003146
           ],
           "y": [
            -0.25253624729719215,
            -0.3065289747894919,
            -0.3069333287666957,
            0.19861545280917073,
            0.24976159473134182,
            0.31488398455301553,
            0.273693640415237,
            0.30841653224788584
           ]
          }
         ],
         "name": "9"
        },
        {
         "data": [
          {
           "marker": {
            "color": [
             "red",
             "red",
             "red",
             "blue",
             "blue",
             "green",
             "green",
             "green"
            ]
           },
           "mode": "markers",
           "type": "scatter",
           "x": [
            -0.9175618531153809,
            -0.7348513922643667,
            -0.8865544973687332,
            0.5737226360400032,
            -0.6841719980227059,
            0.8839277378040873,
            1,
            0.8312410768705072
           ],
           "y": [
            -0.15713097754350613,
            -0.12584210790499045,
            -0.1518210188073375,
            0.09824907388993213,
            -0.1171633432760694,
            0.15137119258348725,
            0.17124838083454907,
            0.1423486863448764
           ]
          }
         ],
         "name": "10"
        },
        {
         "data": [
          {
           "marker": {
            "color": [
             "red",
             "red",
             "red",
             "blue",
             "blue",
             "green",
             "green",
             "green"
            ]
           },
           "mode": "markers",
           "type": "scatter",
           "x": [
            -1.2125770211525673,
            -1.1444539939188323,
            -1.0601384444202686,
            -0.5006216539291859,
            -0.908337602699581,
            1,
            0.9699696272401449,
            0.8506021321681374
           ],
           "y": [
            -0.20765184841883202,
            -0.19598589048035828,
            -0.18154698936515132,
            -0.08573064632134257,
            -0.15555134139789267,
            0.17124837828271972,
            0.16610572564850667,
            0.1456642356975559
           ]
          }
         ],
         "name": "11"
        },
        {
         "data": [
          {
           "marker": {
            "color": [
             "red",
             "red",
             "red",
             "blue",
             "blue",
             "green",
             "green",
             "green"
            ]
           },
           "mode": "markers",
           "type": "scatter",
           "x": [
            -0.8135962734159317,
            -1.2416582740702442,
            -1.012747963195182,
            -0.7246517578917967,
            -0.8832548712164053,
            0.8806881740881347,
            0.9330865559157129,
            1
           ],
           "y": [
            -0.13932704198239285,
            -0.2126319651795638,
            -0.17343144578729988,
            -0.12409543798732361,
            -0.1512559638534799,
            0.15081642113404256,
            0.15978955901980174,
            0.17124837777025645
           ]
          }
         ],
         "name": "12"
        },
        {
         "data": [
          {
           "marker": {
            "color": [
             "red",
             "red",
             "red",
             "blue",
             "blue",
             "green",
             "green",
             "green"
            ]
           },
           "mode": "markers",
           "type": "scatter",
           "x": [
            -1.2723706664280274,
            -0.9483199469484339,
            -0.9748319990900972,
            -0.8952024216568717,
            -0.8086032789174975,
            1,
            0.9855359769212237,
            0.8946447027567016
           ],
           "y": [
            -0.2178914125482523,
            -0.16239825252208945,
            -0.1669383984427094,
            -0.15330196248473932,
            -0.13847199977432714,
            0.17124837777025154,
            0.16877143728197824,
            0.15320645402783284
           ]
          }
         ],
         "name": "13"
        },
        {
         "data": [
          {
           "marker": {
            "color": [
             "red",
             "red",
             "red",
             "blue",
             "blue",
             "green",
             "green",
             "green"
            ]
           },
           "mode": "markers",
           "type": "scatter",
           "x": [
            -0.9071797666581782,
            -0.8752746485972865,
            -1.194148947404916,
            -0.8453820329298091,
            -0.9013429995560671,
            1,
            0.9497803415231535,
            0.9993836600096412
           ],
           "y": [
            -0.15535306338620714,
            -0.14988936367571115,
            -0.20449607005914797,
            -0.1447703017353462,
            -0.15435352648854797,
            0.17124837777025093,
            0.16264834272391482,
            0.17114283054674673
           ]
          }
         ],
         "name": "14"
        },
        {
         "data": [
          {
           "marker": {
            "color": [
             "red",
             "red",
             "red",
             "blue",
             "blue",
             "green",
             "green",
             "green"
            ]
           },
           "mode": "markers",
           "type": "scatter",
           "x": [
            -0.8552618517387786,
            -0.7819275558380949,
            -0.910820388414278,
            -0.7750751716668084,
            -0.7991916654403339,
            0.6973653041396227,
            1,
            0.9362591643785729
           ],
           "y": [
            -0.14646220467905138,
            -0.13390382547113414,
            -0.15597651395601828,
            -0.13273036579794362,
            -0.13686027623416666,
            0.1194226770471691,
            0.17124837777025673,
            0.1603328630723669
           ]
          }
         ],
         "name": "15"
        },
        {
         "data": [
          {
           "marker": {
            "color": [
             "red",
             "red",
             "red",
             "blue",
             "blue",
             "green",
             "green",
             "green"
            ]
           },
           "mode": "markers",
           "type": "scatter",
           "x": [
            -0.877628221332811,
            -1.0987492183596395,
            -0.8710003751299203,
            -0.7887400176264594,
            -0.867630319654093,
            1,
            0.87326346573154,
            0.9568616401005415
           ],
           "y": [
            -0.15029240918864048,
            -0.18815902122042558,
            -0.14915740127828506,
            -0.13507044850101577,
            -0.14858028474505378,
            0.17124837777025753,
            0.14954495187255934,
            0.1638610036178058
           ]
          }
         ],
         "name": "16"
        },
        {
         "data": [
          {
           "marker": {
            "color": [
             "red",
             "red",
             "red",
             "blue",
             "blue",
             "green",
             "green",
             "green"
            ]
           },
           "mode": "markers",
           "type": "scatter",
           "x": [
            -0.8233984670352209,
            -1.0435016683769935,
            -0.743788667203639,
            -0.7330689213138691,
            -0.8730667740945111,
            0.8938438291017575,
            1,
            0.870649022792952
           ],
           "y": [
            -0.14100565173846297,
            -0.17869796791033668,
            -0.12737260266267278,
            -0.12553686356894023,
            -0.1495112687489715,
            0.15306930571381222,
            0.17124837777046073,
            0.14909723276072911
           ]
          }
         ],
         "name": "17"
        },
        {
         "data": [
          {
           "marker": {
            "color": [
             "red",
             "red",
             "red",
             "blue",
             "blue",
             "green",
             "green",
             "green"
            ]
           },
           "mode": "markers",
           "type": "scatter",
           "x": [
            -0.8506928028302468,
            -0.9484423204009075,
            -1.156867174756443,
            -0.8804163366503988,
            -0.8451049068511399,
            0.8728937280870362,
            0.7891078515038872,
            1
           ],
           "y": [
            -0.14567976246615696,
            -0.16241920877804272,
            -0.1981116269735041,
            -0.15076986941439077,
            -0.1447228443445938,
            0.14948163490137684,
            0.13513343945639106,
            0.17124837777098964
           ]
          }
         ],
         "name": "18"
        },
        {
         "data": [
          {
           "marker": {
            "color": [
             "red",
             "red",
             "red",
             "blue",
             "blue",
             "green",
             "green",
             "green"
            ]
           },
           "mode": "markers",
           "type": "scatter",
           "x": [
            -0.8382191085727567,
            -0.9490389484939816,
            -0.7769344476328757,
            -0.7284665133884176,
            -0.773339689290647,
            1,
            0.6814509703850914,
            0.8060880139303535
           ],
           "y": [
            -0.14354366255965478,
            -0.1625213803709974,
            -0.13304876379146022,
            -0.12474870867818907,
            -0.1324331672568753,
            0.1712483777708999,
            0.11669737320885201,
            0.1380412647261401
           ]
          }
         ],
         "name": "19"
        },
        {
         "data": [
          {
           "marker": {
            "color": [
             "red",
             "red",
             "red",
             "blue",
             "blue",
             "green",
             "green",
             "green"
            ]
           },
           "mode": "markers",
           "type": "scatter",
           "x": [
            -0.9092753145237542,
            -0.91172533672278,
            -0.9611548521845953,
            -0.5570487262817825,
            -0.8908541378695382,
            1,
            0.7928684729356155,
            0.8519047584789409
           ],
           "y": [
            -0.15571192255932728,
            -0.1561314848864134,
            -0.1645962092232512,
            -0.09539369071510785,
            -0.15255732594066432,
            0.17124837777091043,
            0.13577743977592327,
            0.14588730790483787
           ]
          }
         ],
         "name": "20"
        },
        {
         "data": [
          {
           "marker": {
            "color": [
             "red",
             "red",
             "red",
             "blue",
             "blue",
             "green",
             "green",
             "green"
            ]
           },
           "mode": "markers",
           "type": "scatter",
           "x": [
            -0.8235089807489163,
            -0.7737994996572924,
            -0.8445801670635738,
            -0.6902841149176617,
            -0.7270845641131247,
            0.8140774626693904,
            1,
            0.7810014238670177
           ],
           "y": [
            -0.14102457703302276,
            -0.1325119090362486,
            -0.14463298350711615,
            -0.11821003488067428,
            -0.12451205210663734,
            0.1394094448619867,
            0.17124837777090463,
            0.13374522687399312
           ]
          }
         ],
         "name": "21"
        },
        {
         "data": [
          {
           "marker": {
            "color": [
             "red",
             "red",
             "red",
             "blue",
             "blue",
             "green",
             "green",
             "green"
            ]
           },
           "mode": "markers",
           "type": "scatter",
           "x": [
            -0.901799272413424,
            -0.9079786247122267,
            -0.9749658586203571,
            -0.5966817080263427,
            -0.739806798120629,
            1,
            0.7157833329416271,
            0.6139846430129762
           ],
           "y": [
            -0.15443166247578619,
            -0.15548986653263108,
            -0.1669613216707592,
            -0.1021807745450881,
            -0.1266907140420491,
            0.17124837777091104,
            0.12257673460170962,
            0.10514387409222421
           ]
          }
         ],
         "name": "22"
        },
        {
         "data": [
          {
           "marker": {
            "color": [
             "red",
             "red",
             "red",
             "blue",
             "blue",
             "green",
             "green",
             "green"
            ]
           },
           "mode": "markers",
           "type": "scatter",
           "x": [
            -0.7727478228103188,
            -0.6834483836356671,
            -0.9568118356019489,
            0.5872028325890547,
            0.6631683194184966,
            0.8946576023019295,
            0.7092088359212507,
            1
           ],
           "y": [
            -0.1323318109297084,
            -0.11703942685283042,
            -0.16385247448993315,
            0.10055753238739272,
            0.11356649875848386,
            0.15320866287794538,
            0.12145086251225887,
            0.1712483775735275
           ]
          }
         ],
         "name": "23"
        },
        {
         "data": [
          {
           "marker": {
            "color": [
             "red",
             "red",
             "red",
             "blue",
             "blue",
             "green",
             "green",
             "green"
            ]
           },
           "mode": "markers",
           "type": "scatter",
           "x": [
            -0.8815412246109708,
            -0.75569308624243,
            -0.6777176950632534,
            0.6447119814022506,
            0.6941662860086819,
            0.6960932890996666,
            0.8475150667659956,
            1
           ],
           "y": [
            -0.1509625047460558,
            -0.12941121519164223,
            -0.11605805593790816,
            0.11040588101279943,
            0.11887485045567227,
            0.11920484660916683,
            0.14513558040972796,
            0.1712483778766846
           ]
          }
         ],
         "name": "24"
        },
        {
         "data": [
          {
           "marker": {
            "color": [
             "red",
             "red",
             "red",
             "blue",
             "blue",
             "green",
             "green",
             "green"
            ]
           },
           "mode": "markers",
           "type": "scatter",
           "x": [
            -1.1565265374190055,
            -1.0864827663323287,
            -0.9407616590170335,
            0.9365931047239596,
            0.9519371986097788,
            0.991750345227087,
            1,
            0.9534786156487325
           ],
           "y": [
            -0.19805329350435,
            -0.1860584113253916,
            -0.16110390807525216,
            0.1603900499144729,
            0.16301770110240701,
            0.16983563787878803,
            0.1712483778766918,
            0.1632816662699594
           ]
          }
         ],
         "name": "25"
        },
        {
         "data": [
          {
           "marker": {
            "color": [
             "red",
             "red",
             "red",
             "blue",
             "blue",
             "green",
             "green",
             "green"
            ]
           },
           "mode": "markers",
           "type": "scatter",
           "x": [
            -0.9412742899935751,
            -1.3836671074790319,
            -1.0753803477598511,
            0.8778125293054233,
            1,
            0.9958000545271484,
            0.9043590396121217,
            0.9873245188976943
           ],
           "y": [
            -0.16119169571389913,
            -0.2369507482878435,
            -0.1841571406290038,
            0.15032397211084259,
            0.17124837831807604,
            0.17052914446682568,
            0.15487001895086872,
            0.16907772273490487
           ]
          }
         ],
         "name": "26"
        },
        {
         "data": [
          {
           "marker": {
            "color": [
             "red",
             "red",
             "red",
             "blue",
             "blue",
             "green",
             "green",
             "green"
            ]
           },
           "mode": "markers",
           "type": "scatter",
           "x": [
            -0.9789785026225162,
            -0.9556542503697604,
            -0.9751050584641494,
            0.8144200179862356,
            0.8749926346952581,
            0.9523889573003075,
            1,
            0.9679380971311731
           ],
           "y": [
            -0.167648480982377,
            -0.16365424060861197,
            -0.16698515995175123,
            0.13946810734993428,
            0.14984106973183672,
            0.16309506446573532,
            0.1712483783180898,
            0.16575782944601183
           ]
          }
         ],
         "name": "27"
        },
        {
         "data": [
          {
           "marker": {
            "color": [
             "red",
             "red",
             "red",
             "blue",
             "blue",
             "green",
             "green",
             "green"
            ]
           },
           "mode": "markers",
           "type": "scatter",
           "x": [
            -0.9041861309334358,
            -0.9963867319359377,
            -0.8246356437507749,
            0.8406132618002577,
            0.6914644900905103,
            1,
            0.922513252903026,
            0.6984944993497485
           ],
           "y": [
            -0.15484040863248946,
            -0.17062961203527552,
            -0.14121751670691718,
            0.1439536578890241,
            0.11841217260216626,
            0.17124837833308873,
            0.15797889854795263,
            0.1196160502889827
           ]
          }
         ],
         "name": "28"
        },
        {
         "data": [
          {
           "marker": {
            "color": [
             "red",
             "red",
             "red",
             "blue",
             "blue",
             "green",
             "green",
             "green"
            ]
           },
           "mode": "markers",
           "type": "scatter",
           "x": [
            -0.7885299900785638,
            -0.889893621027413,
            -0.6784928848485576,
            0.5963077059618248,
            0.5897782215774128,
            0.7834052831430934,
            0.7854095707596105,
            1
           ],
           "y": [
            -0.1350344820672454,
            -0.1523928394890968,
            -0.1161908062402383,
            0.10211672763295515,
            0.10099856402077882,
            0.13415688431513145,
            0.1345001153191575,
            0.1712483783321734
           ]
          }
         ],
         "name": "29"
        },
        {
         "data": [
          {
           "marker": {
            "color": [
             "red",
             "red",
             "red",
             "blue",
             "blue",
             "green",
             "green",
             "green"
            ]
           },
           "mode": "markers",
           "type": "scatter",
           "x": [
            -0.871468543118031,
            -0.8665577889515707,
            -0.9430764079947394,
            0.8010873795544957,
            0.6289111011840491,
            0.6942991549912699,
            0.811859855275945,
            1
           ],
           "y": [
            -0.14923757477650446,
            -0.14839661608910995,
            -0.16150030551247352,
            0.1371849146511144,
            0.10770000619289798,
            0.11889760436968469,
            0.13902968364903545,
            0.17124837833221898
           ]
          }
         ],
         "name": "30"
        },
        {
         "data": [
          {
           "marker": {
            "color": [
             "red",
             "red",
             "red",
             "blue",
             "blue",
             "green",
             "green",
             "green"
            ]
           },
           "mode": "markers",
           "type": "scatter",
           "x": [
            -0.9546134534005469,
            -0.8299352041148381,
            -0.8428735585730466,
            1,
            0.8967355170813976,
            0.8095895847930571,
            0.8912371561145939,
            0.9373881945139696
           ],
           "y": [
            -0.16347600582985025,
            -0.1421250578262563,
            -0.14434073004552414,
            0.17124837833315304,
            0.15356450309392286,
            0.1386409035112129,
            0.15262291769486427,
            0.16052620817915458
           ]
          }
         ],
         "name": "31"
        },
        {
         "data": [
          {
           "marker": {
            "color": [
             "red",
             "red",
             "red",
             "blue",
             "blue",
             "green",
             "green",
             "green"
            ]
           },
           "mode": "markers",
           "type": "scatter",
           "x": [
            -0.794788128877809,
            -0.79915832835295,
            -0.8401974186914916,
            0.8084948563238935,
            0.6672266591396625,
            0.8108783269766536,
            0.7400583270594262,
            1
           ],
           "y": [
            -0.13610617818711487,
            -0.13685456776021596,
            -0.14388244542886922,
            0.13845343303427146,
            0.11426148335691033,
            0.13886159851852348,
            0.12673378837929775,
            0.17124837833116385
           ]
          }
         ],
         "name": "32"
        },
        {
         "data": [
          {
           "marker": {
            "color": [
             "red",
             "red",
             "red",
             "blue",
             "blue",
             "green",
             "green",
             "green"
            ]
           },
           "mode": "markers",
           "type": "scatter",
           "x": [
            -0.8699826926658653,
            -0.6473227784598256,
            -0.5887204690513262,
            0.5769385343565993,
            0.6845243295443328,
            0.5286858607470276,
            0.6024368583931689,
            1
           ],
           "y": [
            -0.14898312529226362,
            -0.11085297606587696,
            -0.10081742561340871,
            0.09879978840337292,
            0.11722368136037689,
            0.09053659629775489,
            0.1031663350447119,
            0.17124837832777862
           ]
          }
         ],
         "name": "33"
        },
        {
         "data": [
          {
           "marker": {
            "color": [
             "red",
             "red",
             "red",
             "blue",
             "blue",
             "green",
             "green",
             "green"
            ]
           },
           "mode": "markers",
           "type": "scatter",
           "x": [
            -0.7929137223002454,
            -0.8698161142650542,
            -0.9472655081410716,
            0.9942584437829709,
            0.9184581868412466,
            0.9133836727405108,
            0.9345175771080053,
            1
           ],
           "y": [
            -0.13578518909680778,
            -0.14895459901018393,
            -0.1622176821138208,
            0.17026514613608415,
            0.15728447505673995,
            0.1564154727461589,
            0.1600346195975476,
            0.1712483783265296
           ]
          }
         ],
         "name": "34"
        },
        {
         "data": [
          {
           "marker": {
            "color": [
             "red",
             "red",
             "red",
             "blue",
             "blue",
             "green",
             "green",
             "green"
            ]
           },
           "mode": "markers",
           "type": "scatter",
           "x": [
            -0.9638856880411711,
            -0.9893110213208754,
            -0.8088997411300712,
            0.5934978784888316,
            0.6566813056688189,
            0.8385373480439271,
            0.9036600588366018,
            1
           ],
           "y": [
            -0.165063860969027,
            -0.16941790806156273,
            -0.1385227688971076,
            0.10163554923192301,
            0.11245560867382658,
            0.1435981610185621,
            0.1547503196339691,
            0.1712483783262362
           ]
          }
         ],
         "name": "35"
        },
        {
         "data": [
          {
           "marker": {
            "color": [
             "red",
             "red",
             "red",
             "blue",
             "blue",
             "green",
             "green",
             "green"
            ]
           },
           "mode": "markers",
           "type": "scatter",
           "x": [
            -1.0099162856060735,
            -1.1341898587115167,
            -0.7967059765731875,
            0.5817551587019837,
            0.5858698655044262,
            0.999376038338402,
            1,
            0.8504685176329414
           ],
           "y": [
            -0.1729465261189972,
            -0.19422817397755626,
            -0.13643460645787686,
            0.09962462751608726,
            0.10032926439688566,
            0.17114152582762177,
            0.17124837828466583,
            0.14564135443682844
           ]
          }
         ],
         "name": "36"
        },
        {
         "data": [
          {
           "marker": {
            "color": [
             "red",
             "red",
             "red",
             "blue",
             "blue",
             "green",
             "green",
             "green"
            ]
           },
           "mode": "markers",
           "type": "scatter",
           "x": [
            -0.9726139999396128,
            -0.5749420946404211,
            -0.8137898908368487,
            0.6474326946969516,
            0.5960594102974243,
            0.6319554560935804,
            0.9259724941803006,
            1
           ],
           "y": [
            -0.16676677541892054,
            -0.0985809779366169,
            -0.13953440524619443,
            0.11101039319516308,
            0.10220180400441091,
            0.10835662802734251,
            0.15876950906006154,
            0.17146244503710475
           ]
          }
         ],
         "name": "37"
        },
        {
         "data": [
          {
           "marker": {
            "color": [
             "red",
             "red",
             "red",
             "blue",
             "blue",
             "green",
             "green",
             "green"
            ]
           },
           "mode": "markers",
           "type": "scatter",
           "x": [
            -0.6989426404594029,
            -0.8807102485210444,
            -0.7957379509777733,
            0.5610464311915102,
            0.6977443869356773,
            1,
            0.9407959647813481,
            0.5622504170510394
           ],
           "y": [
            -0.11984241460836871,
            -0.15100873325416755,
            -0.13643917529197636,
            0.09619839330048448,
            0.11963695912849058,
            0.17146244580183856,
            0.16131117712190884,
            0.09640483166067056
           ]
          }
         ],
         "name": "38"
        },
        {
         "data": [
          {
           "marker": {
            "color": [
             "red",
             "red",
             "red",
             "blue",
             "blue",
             "green",
             "green",
             "green"
            ]
           },
           "mode": "markers",
           "type": "scatter",
           "x": [
            -0.8592100612827245,
            -0.7251281220009166,
            -0.7107866370343514,
            0.5200544777099959,
            0.688587877561829,
            0.7482905515096202,
            1,
            0.9207437905363464
           ],
           "y": [
            -0.14732225856507014,
            -0.1243322413179596,
            -0.12187321522916238,
            0.08916981269834526,
            0.11806696163623695,
            0.12830372813223387,
            0.17146244580182327,
            0.15787298228220267
           ]
          }
         ],
         "name": "39"
        },
        {
         "data": [
          {
           "marker": {
            "color": [
             "red",
             "red",
             "red",
             "blue",
             "blue",
             "green",
             "green",
             "green"
            ]
           },
           "mode": "markers",
           "type": "scatter",
           "x": [
            -0.697907934225944,
            -0.6143577326217763,
            -0.8808381627735246,
            0.5016318145055152,
            0.20805873526063218,
            0.6458986348476264,
            0.9278258542773241,
            1
           ],
           "y": [
            -0.11966500134606992,
            -0.10533927943188098,
            -0.15103066574371346,
            0.08601101780653123,
            0.0356742596179961,
            0.11074735967030973,
            0.1590872902515253,
            0.17146244580059586
           ]
          }
         ],
         "name": "40"
        },
        {
         "data": [
          {
           "marker": {
            "color": [
             "red",
             "red",
             "red",
             "blue",
             "blue",
             "green",
             "green",
             "green"
            ]
           },
           "mode": "markers",
           "type": "scatter",
           "x": [
            -0.8841705848074637,
            -0.9991274797917128,
            -1.1060212934822198,
            -0.9533412018257436,
            -0.8870309029579065,
            1,
            0.8685273689080163,
            0.9436117627531905
           ],
           "y": [
            -0.15160113849799906,
            -0.17131090349211645,
            -0.189637909177932,
            -0.16346051612427417,
            -0.15205029795040906,
            0.17145691523889267,
            0.1489150885812225,
            0.1617888441326782
           ]
          }
         ],
         "name": "41"
        },
        {
         "data": [
          {
           "marker": {
            "color": [
             "red",
             "red",
             "red",
             "blue",
             "blue",
             "green",
             "green",
             "green"
            ]
           },
           "mode": "markers",
           "type": "scatter",
           "x": [
            -0.9749408677193017,
            -0.8266893100557828,
            -0.9290435685660118,
            -0.6524722803218724,
            -0.6559450369266803,
            0.921516090927308,
            0.8377735100638735,
            1
           ],
           "y": [
            -0.16717062353939113,
            -0.14175030857282006,
            -0.15930073042446855,
            -0.11187776523655565,
            -0.1124732254047573,
            0.15801001349707536,
            0.14365088613488625,
            0.17146744940337527
           ]
          }
         ],
         "name": "42"
        },
        {
         "data": [
          {
           "marker": {
            "color": [
             "red",
             "red",
             "red",
             "blue",
             "blue",
             "green",
             "green",
             "green"
            ]
           },
           "mode": "markers",
           "type": "scatter",
           "x": [
            -1.0338255997319823,
            -1.2167927955273783,
            -1.1217452409595783,
            -0.9593202291319675,
            -1.1190416756255384,
            0.9980363932223117,
            1,
            0.9158404452643022
           ],
           "y": [
            -0.177267440054293,
            -0.20864035867903163,
            -0.19234279680203478,
            -0.16449219409406024,
            -0.19187922334640653,
            0.17113075605151004,
            0.17146745069985703,
            0.1570368263972919
           ]
          }
         ],
         "name": "43"
        },
        {
         "data": [
          {
           "marker": {
            "color": [
             "red",
             "red",
             "red",
             "blue",
             "blue",
             "green",
             "green",
             "green"
            ]
           },
           "mode": "markers",
           "type": "scatter",
           "x": [
            -0.8523468508507599,
            -1.1327479774809215,
            -0.7595621628627576,
            -0.7602555852827161,
            -0.7539563225248949,
            0.9526347570902975,
            1,
            0.9680938248071935
           ],
           "y": [
            -0.14614974162739527,
            -0.19422940798402505,
            -0.13024018771411483,
            -0.13035908708872312,
            -0.12927896856235124,
            0.16334585324631057,
            0.17146745069981462,
            0.1659965801779223
           ]
          }
         ],
         "name": "44"
        },
        {
         "data": [
          {
           "marker": {
            "color": [
             "red",
             "red",
             "red",
             "blue",
             "blue",
             "green",
             "green",
             "green"
            ]
           },
           "mode": "markers",
           "type": "scatter",
           "x": [
            -0.9024224617203526,
            -0.8181848030940638,
            -0.7503984545583592,
            -0.6478180030169371,
            -0.6390398304256855,
            0.9610445877764222,
            0.8164543231638175,
            1
           ],
           "y": [
            -0.15473607896571698,
            -0.1402920623881194,
            -0.12866891001243203,
            -0.11107970149495737,
            -0.10957453061892987,
            0.1647878654751706,
            0.13999534140599185,
            0.1714674507001197
           ]
          }
         ],
         "name": "45"
        },
        {
         "data": [
          {
           "marker": {
            "color": [
             "red",
             "red",
             "red",
             "blue",
             "blue",
             "green",
             "green",
             "green"
            ]
           },
           "mode": "markers",
           "type": "scatter",
           "x": [
            -0.9164074817086663,
            -1.0360352601677667,
            -0.7588015774488542,
            -0.5268112783977977,
            -0.8440462564128408,
            0.9998440112281686,
            0.6792971028894723,
            1
           ],
           "y": [
            -0.1571340546911104,
            -0.17764632489641577,
            -0.13010977207239344,
            -0.09033098690694723,
            -0.1447264598600998,
            0.17144070370308898,
            0.11647734250044124,
            0.17146745070012748
           ]
          }
         ],
         "name": "46"
        },
        {
         "data": [
          {
           "marker": {
            "color": [
             "red",
             "red",
             "red",
             "blue",
             "blue",
             "green",
             "green",
             "green"
            ]
           },
           "mode": "markers",
           "type": "scatter",
           "x": [
            -1.1094440368778482,
            -1.041011993484425,
            -1.0209393641140911,
            -0.6610926850950092,
            -0.8562081333441465,
            1,
            0.9427775168812023,
            0.9629314611065998
           ],
           "y": [
            -0.19023354069766604,
            -0.17849967267081365,
            -0.17505787008383455,
            -0.11335587739002287,
            -0.14681182589305192,
            0.17146745069992758,
            0.16165565739682722,
            0.16511140283470438
           ]
          }
         ],
         "name": "47"
        },
        {
         "data": [
          {
           "marker": {
            "color": [
             "red",
             "red",
             "red",
             "blue",
             "blue",
             "green",
             "green",
             "green"
            ]
           },
           "mode": "markers",
           "type": "scatter",
           "x": [
            -1.067326214777136,
            -0.9882909879393199,
            -1.0067516319138423,
            -0.9280735779266566,
            -0.9813828243054822,
            0.9923650434159004,
            1,
            0.9240239544533434
           ],
           "y": [
            -0.18301170511310705,
            -0.16945973625173555,
            -0.17262513581232145,
            -0.15913441046910046,
            -0.16827521104441037,
            0.17015830415830865,
            0.17146745069998953,
            0.15844003185583763
           ]
          }
         ],
         "name": "48"
        },
        {
         "data": [
          {
           "marker": {
            "color": [
             "red",
             "red",
             "red",
             "blue",
             "blue",
             "green",
             "green",
             "green"
            ]
           },
           "mode": "markers",
           "type": "scatter",
           "x": [
            -0.9923896246591161,
            -0.8010291878153833,
            -0.80477799559107,
            -0.6923942731598759,
            -0.8123006858563007,
            0.7313815976964373,
            0.8886898760696436,
            1
           ],
           "y": [
            -0.17016251904001944,
            -0.13735043276985945,
            -0.1379932312823152,
            -0.11872308089702181,
            -0.1392831278044896,
            0.1254081380448643,
            0.1523813875113016,
            0.1714674506985825
           ]
          }
         ],
         "name": "49"
        },
        {
         "data": [
          {
           "marker": {
            "color": [
             "red",
             "red",
             "red",
             "blue",
             "blue",
             "green",
             "green",
             "green"
            ]
           },
           "mode": "markers",
           "type": "scatter",
           "x": [
            -0.838522707557636,
            -0.7423003591535333,
            -0.8215303053361283,
            -0.7245774421645372,
            -0.7070757973696018,
            1,
            0.7260103807386914,
            0.8769530842860311
           ],
           "y": [
            -0.14377935101854017,
            -0.12728035023737064,
            -0.1408657071283578,
            -0.12424144684230869,
            -0.12124048442627318,
            0.17146745069948763,
            0.12448714916662805,
            0.15036890974557887
           ]
          }
         ],
         "name": "50"
        },
        {
         "data": [
          {
           "marker": {
            "color": [
             "red",
             "red",
             "red",
             "blue",
             "blue",
             "green",
             "green",
             "green"
            ]
           },
           "mode": "markers",
           "type": "scatter",
           "x": [
            -0.7958934275574387,
            -1.0359209638789049,
            -0.818317877166243,
            -0.7452619442348507,
            -0.7496650890216813,
            0.9576381386338996,
            0.7690880903848519,
            1
           ],
           "y": [
            -0.1364698170115781,
            -0.17762672675911279,
            -0.14031488022601063,
            -0.12778816567207643,
            -0.1285431616560913,
            0.16420377028527755,
            0.13187357418979592,
            0.17146745065975405
           ]
          }
         ],
         "name": "51"
        },
        {
         "data": [
          {
           "marker": {
            "color": [
             "red",
             "red",
             "red",
             "blue",
             "blue",
             "green",
             "green",
             "green"
            ]
           },
           "mode": "markers",
           "type": "scatter",
           "x": [
            -0.8629968655646306,
            -0.8433817566645369,
            -1.0251534242839928,
            -0.8575506826649854,
            -0.7738443367541236,
            0.7944431371964641,
            1,
            0.9355552555898552
           ],
           "y": [
            -0.14797587239212662,
            -0.14461251967579355,
            -0.17578044410841934,
            -0.14704202929557494,
            -0.13268911556539256,
            0.13622113936081187,
            0.17146745057360638,
            0.16041727454688073
           ]
          }
         ],
         "name": "52"
        },
        {
         "data": [
          {
           "marker": {
            "color": [
             "red",
             "red",
             "red",
             "blue",
             "blue",
             "green",
             "green",
             "green"
            ]
           },
           "mode": "markers",
           "type": "scatter",
           "x": [
            -0.7346093308662848,
            -0.9539534476281328,
            -0.7647368860491276,
            -0.728359699017104,
            -0.8448164885099352,
            0.9100038103840703,
            1,
            0.8809591364338465
           ],
           "y": [
            -0.12596158913154742,
            -0.16357196563111737,
            -0.13112748421077833,
            -0.12488998069134188,
            -0.144858529487723,
            0.15603603337922556,
            0.17146745057404725,
            0.15105581718422603
           ]
          }
         ],
         "name": "53"
        },
        {
         "data": [
          {
           "marker": {
            "color": [
             "red",
             "red",
             "red",
             "blue",
             "blue",
             "green",
             "green",
             "green"
            ]
           },
           "mode": "markers",
           "type": "scatter",
           "x": [
            -0.8947667591630574,
            -1.1021829517024622,
            -0.820841206776283,
            -0.7460992130482366,
            -0.7739633246766933,
            0.8715278917542753,
            1,
            0.7235790266015909
           ],
           "y": [
            -0.15342337505211762,
            -0.18898850079463028,
            -0.14074754905207723,
            -0.1279317299367058,
            -0.13270951812014817,
            0.1494386657033041,
            0.17146745057407517,
            0.12407025098024566
           ]
          }
         ],
         "name": "54"
        },
        {
         "data": [
          {
           "marker": {
            "color": [
             "red",
             "red",
             "red",
             "blue",
             "blue",
             "green",
             "green",
             "green"
            ]
           },
           "mode": "markers",
           "type": "scatter",
           "x": [
            -0.9572110772787794,
            -1.061798908453636,
            -0.9577022549116977,
            -0.8808581371295092,
            -0.8811171705813365,
            0.9999122852103659,
            0.9949616815697325,
            1
           ],
           "y": [
            -0.16413054308224878,
            -0.18206395185487317,
            -0.1642147640587443,
            -0.15103849909101857,
            -0.15108291489661674,
            0.17145241034271191,
            0.17060354295764962,
            0.17146745057406781
           ]
          }
         ],
         "name": "55"
        },
        {
         "data": [
          {
           "marker": {
            "color": [
             "red",
             "red",
             "red",
             "blue",
             "blue",
             "green",
             "green",
             "green"
            ]
           },
           "mode": "markers",
           "type": "scatter",
           "x": [
            -0.991987516483513,
            -0.7732537901837075,
            -1.0195381795992742,
            -0.7529411983182465,
            -0.5715396545021979,
            0.976984357044938,
            1,
            0.7257045670224191
           ],
           "y": [
            -0.1700935704527221,
            -0.13258785604952986,
            -0.1748176124188062,
            -0.12910490770780797,
            -0.09800044745947122,
            0.16752101695323335,
            0.1714674505740613,
            0.12443471197728681
           ]
          }
         ],
         "name": "56"
        },
        {
         "data": [
          {
           "marker": {
            "color": [
             "red",
             "red",
             "red",
             "blue",
             "blue",
             "green",
             "green",
             "green"
            ]
           },
           "mode": "markers",
           "type": "scatter",
           "x": [
            -0.8950995390963674,
            -0.8982862087620739,
            -0.9998480975056461,
            0.5519660933182355,
            -0.4815928219949077,
            0.8758275265648586,
            1,
            0.904075553771323
           ],
           "y": [
            -0.15348043597882527,
            -0.15402684610222994,
            -0.17144140424056964,
            0.09464421882457512,
            -0.08257749340221072,
            0.15017591312261894,
            0.17146745057401172,
            0.15501953033145655
           ]
          }
         ],
         "name": "57"
        },
        {
         "data": [
          {
           "marker": {
            "color": [
             "red",
             "red",
             "red",
             "blue",
             "blue",
             "green",
             "green",
             "green"
            ]
           },
           "mode": "markers",
           "type": "scatter",
           "x": [
            -0.9849588276379281,
            -0.9242640568519395,
            -1.2168818233515504,
            -0.7040427483586088,
            -0.8644028215773024,
            0.983411538584531,
            1,
            0.7454474202771126
           ],
           "y": [
            -0.16888837909542695,
            -0.15848120148559805,
            -0.20865562389993497,
            -0.12072041515616655,
            -0.14821694808484756,
            0.16862306938615176,
            0.17146745057400814,
            0.12781996869188786
           ]
          }
         ],
         "name": "58"
        },
        {
         "data": [
          {
           "marker": {
            "color": [
             "red",
             "red",
             "red",
             "blue",
             "blue",
             "green",
             "green",
             "green"
            ]
           },
           "mode": "markers",
           "type": "scatter",
           "x": [
            -0.8146004633348992,
            -0.8617924160230568,
            -0.9219838081667316,
            -0.6807921826894004,
            -0.680356567450411,
            0.8665411853788088,
            0.8076494661188319,
            1
           ],
           "y": [
            -0.13967746468443842,
            -0.14776934849948523,
            -0.15809021305686177,
            -0.1167336999364631,
            -0.11665900610200244,
            0.14858360787428582,
            0.13848559491285728,
            0.17146745057400284
           ]
          }
         ],
         "name": "59"
        },
        {
         "data": [
          {
           "marker": {
            "color": [
             "red",
             "red",
             "red",
             "blue",
             "blue",
             "green",
             "green",
             "green"
            ]
           },
           "mode": "markers",
           "type": "scatter",
           "x": [
            -0.8907307055455421,
            -1.037523568640739,
            -0.9184195762860222,
            -0.8519551087169297,
            -0.8582769677355535,
            0.825344173926737,
            1,
            0.8644666538472278
           ],
           "y": [
            -0.15273132322809616,
            -0.17790152122552733,
            -0.15747906330324848,
            -0.14608257049540216,
            -0.1471665635442143,
            0.14151966134952834,
            0.1714674505742512,
            0.14822789324163715
           ]
          }
         ],
         "name": "60"
        },
        {
         "data": [
          {
           "marker": {
            "color": [
             "red",
             "red",
             "red",
             "blue",
             "blue",
             "green",
             "green",
             "green"
            ]
           },
           "mode": "markers",
           "type": "scatter",
           "x": [
            -1.0994357234426013,
            -0.9680506026965452,
            -1.1053464360023069,
            -0.7923743341598284,
            -0.8270473786860141,
            0.9385232053372965,
            0.9894011239808898,
            1
           ],
           "y": [
            -0.1886566846347262,
            -0.16611177311849956,
            -0.18967092830916732,
            -0.1359667617982945,
            -0.14191645162177188,
            0.16104504581938875,
            0.16977539653884863,
            0.17159410114177934
           ]
          }
         ],
         "name": "61"
        },
        {
         "data": [
          {
           "marker": {
            "color": [
             "red",
             "red",
             "red",
             "blue",
             "blue",
             "green",
             "green",
             "green"
            ]
           },
           "mode": "markers",
           "type": "scatter",
           "x": [
            -0.8659575372132385,
            -0.9298810924354989,
            -0.9792735373248955,
            -0.46043784273860283,
            -0.7660349905696974,
            0.7074479812673732,
            1,
            0.9052483473537857
           ],
           "y": [
            -0.14859320568350534,
            -0.15956211073831886,
            -0.16803756294516403,
            -0.07900841782067407,
            -0.13144708601145372,
            0.12139390084005033,
            0.17159410169486636,
            0.1553352769729421
           ]
          }
         ],
         "name": "62"
        },
        {
         "data": [
          {
           "marker": {
            "color": [
             "red",
             "red",
             "red",
             "blue",
             "blue",
             "green",
             "green",
             "green"
            ]
           },
           "mode": "markers",
           "type": "scatter",
           "x": [
            -0.7517441205948799,
            -0.9616585095405839,
            -0.9835786642726317,
            -0.6830780581234956,
            -0.8932116405541448,
            0.8684380505050255,
            0.8871266548903285,
            1
           ],
           "y": [
            -0.12899422249704642,
            -0.16501411630288126,
            -0.16877546705936372,
            -0.11721158915443873,
            -0.15326909508439637,
            0.14901811406665122,
            0.15222495257219484,
            0.1715932575501464
           ]
          }
         ],
         "name": "63"
        },
        {
         "data": [
          {
           "marker": {
            "color": [
             "red",
             "red",
             "red",
             "blue",
             "blue",
             "green",
             "green",
             "green"
            ]
           },
           "mode": "markers",
           "type": "scatter",
           "x": [
            -0.8236165975899095,
            -1.1852831090134384,
            -1.0055202269196135,
            -0.7267605530116839,
            -0.8225960239394982,
            0.9066370214287529,
            0.7323886988122166,
            1
           ],
           "y": [
            -0.1413270549554861,
            -0.20338658979881905,
            -0.17254049127309753,
            -0.12470721075261824,
            -0.14115193139820478,
            0.1555727999255698,
            0.12567296262456715,
            0.17159325755350208
           ]
          }
         ],
         "name": "64"
        },
        {
         "data": [
          {
           "marker": {
            "color": [
             "red",
             "red",
             "red",
             "blue",
             "blue",
             "green",
             "green",
             "green"
            ]
           },
           "mode": "markers",
           "type": "scatter",
           "x": [
            -0.8335791151889294,
            -0.7422172436739922,
            -0.7826591101595668,
            -0.7199572223992668,
            -0.8008321786013516,
            1,
            0.7307047540676533,
            0.8004963026866057
           ],
           "y": [
            -0.14303655580383892,
            -0.12735947465441375,
            -0.13429902626622114,
            -0.12353980509067344,
            -0.13741740227987556,
            0.17159325755351695,
            0.1253840090603089,
            0.13735976823753962
           ]
          }
         ],
         "name": "65"
        }
       ],
       "layout": {
        "height": 500,
        "margin": {
         "b": 20,
         "l": 20,
         "r": 20,
         "t": 20
        },
        "sliders": [
         {
          "currentvalue": {
           "font": {
            "size": 20
           },
           "prefix": "Frame:",
           "visible": true,
           "xanchor": "right"
          },
          "len": 0.9,
          "pad": {
           "b": 10,
           "t": 50
          },
          "steps": [
           {
            "args": [
             [
              0
             ],
             {
              "frame": {
               "duration": 300,
               "redraw": true
              },
              "mode": "immediate",
              "transition": {
               "duration": 300
              }
             }
            ],
            "label": "0",
            "method": "animate"
           },
           {
            "args": [
             [
              1
             ],
             {
              "frame": {
               "duration": 300,
               "redraw": true
              },
              "mode": "immediate",
              "transition": {
               "duration": 300
              }
             }
            ],
            "label": "1",
            "method": "animate"
           },
           {
            "args": [
             [
              2
             ],
             {
              "frame": {
               "duration": 300,
               "redraw": true
              },
              "mode": "immediate",
              "transition": {
               "duration": 300
              }
             }
            ],
            "label": "2",
            "method": "animate"
           },
           {
            "args": [
             [
              3
             ],
             {
              "frame": {
               "duration": 300,
               "redraw": true
              },
              "mode": "immediate",
              "transition": {
               "duration": 300
              }
             }
            ],
            "label": "3",
            "method": "animate"
           },
           {
            "args": [
             [
              4
             ],
             {
              "frame": {
               "duration": 300,
               "redraw": true
              },
              "mode": "immediate",
              "transition": {
               "duration": 300
              }
             }
            ],
            "label": "4",
            "method": "animate"
           },
           {
            "args": [
             [
              5
             ],
             {
              "frame": {
               "duration": 300,
               "redraw": true
              },
              "mode": "immediate",
              "transition": {
               "duration": 300
              }
             }
            ],
            "label": "5",
            "method": "animate"
           },
           {
            "args": [
             [
              6
             ],
             {
              "frame": {
               "duration": 300,
               "redraw": true
              },
              "mode": "immediate",
              "transition": {
               "duration": 300
              }
             }
            ],
            "label": "6",
            "method": "animate"
           },
           {
            "args": [
             [
              7
             ],
             {
              "frame": {
               "duration": 300,
               "redraw": true
              },
              "mode": "immediate",
              "transition": {
               "duration": 300
              }
             }
            ],
            "label": "7",
            "method": "animate"
           },
           {
            "args": [
             [
              8
             ],
             {
              "frame": {
               "duration": 300,
               "redraw": true
              },
              "mode": "immediate",
              "transition": {
               "duration": 300
              }
             }
            ],
            "label": "8",
            "method": "animate"
           },
           {
            "args": [
             [
              9
             ],
             {
              "frame": {
               "duration": 300,
               "redraw": true
              },
              "mode": "immediate",
              "transition": {
               "duration": 300
              }
             }
            ],
            "label": "9",
            "method": "animate"
           },
           {
            "args": [
             [
              10
             ],
             {
              "frame": {
               "duration": 300,
               "redraw": true
              },
              "mode": "immediate",
              "transition": {
               "duration": 300
              }
             }
            ],
            "label": "10",
            "method": "animate"
           },
           {
            "args": [
             [
              11
             ],
             {
              "frame": {
               "duration": 300,
               "redraw": true
              },
              "mode": "immediate",
              "transition": {
               "duration": 300
              }
             }
            ],
            "label": "11",
            "method": "animate"
           },
           {
            "args": [
             [
              12
             ],
             {
              "frame": {
               "duration": 300,
               "redraw": true
              },
              "mode": "immediate",
              "transition": {
               "duration": 300
              }
             }
            ],
            "label": "12",
            "method": "animate"
           },
           {
            "args": [
             [
              13
             ],
             {
              "frame": {
               "duration": 300,
               "redraw": true
              },
              "mode": "immediate",
              "transition": {
               "duration": 300
              }
             }
            ],
            "label": "13",
            "method": "animate"
           },
           {
            "args": [
             [
              14
             ],
             {
              "frame": {
               "duration": 300,
               "redraw": true
              },
              "mode": "immediate",
              "transition": {
               "duration": 300
              }
             }
            ],
            "label": "14",
            "method": "animate"
           },
           {
            "args": [
             [
              15
             ],
             {
              "frame": {
               "duration": 300,
               "redraw": true
              },
              "mode": "immediate",
              "transition": {
               "duration": 300
              }
             }
            ],
            "label": "15",
            "method": "animate"
           },
           {
            "args": [
             [
              16
             ],
             {
              "frame": {
               "duration": 300,
               "redraw": true
              },
              "mode": "immediate",
              "transition": {
               "duration": 300
              }
             }
            ],
            "label": "16",
            "method": "animate"
           },
           {
            "args": [
             [
              17
             ],
             {
              "frame": {
               "duration": 300,
               "redraw": true
              },
              "mode": "immediate",
              "transition": {
               "duration": 300
              }
             }
            ],
            "label": "17",
            "method": "animate"
           },
           {
            "args": [
             [
              18
             ],
             {
              "frame": {
               "duration": 300,
               "redraw": true
              },
              "mode": "immediate",
              "transition": {
               "duration": 300
              }
             }
            ],
            "label": "18",
            "method": "animate"
           },
           {
            "args": [
             [
              19
             ],
             {
              "frame": {
               "duration": 300,
               "redraw": true
              },
              "mode": "immediate",
              "transition": {
               "duration": 300
              }
             }
            ],
            "label": "19",
            "method": "animate"
           },
           {
            "args": [
             [
              20
             ],
             {
              "frame": {
               "duration": 300,
               "redraw": true
              },
              "mode": "immediate",
              "transition": {
               "duration": 300
              }
             }
            ],
            "label": "20",
            "method": "animate"
           },
           {
            "args": [
             [
              21
             ],
             {
              "frame": {
               "duration": 300,
               "redraw": true
              },
              "mode": "immediate",
              "transition": {
               "duration": 300
              }
             }
            ],
            "label": "21",
            "method": "animate"
           },
           {
            "args": [
             [
              22
             ],
             {
              "frame": {
               "duration": 300,
               "redraw": true
              },
              "mode": "immediate",
              "transition": {
               "duration": 300
              }
             }
            ],
            "label": "22",
            "method": "animate"
           },
           {
            "args": [
             [
              23
             ],
             {
              "frame": {
               "duration": 300,
               "redraw": true
              },
              "mode": "immediate",
              "transition": {
               "duration": 300
              }
             }
            ],
            "label": "23",
            "method": "animate"
           },
           {
            "args": [
             [
              24
             ],
             {
              "frame": {
               "duration": 300,
               "redraw": true
              },
              "mode": "immediate",
              "transition": {
               "duration": 300
              }
             }
            ],
            "label": "24",
            "method": "animate"
           },
           {
            "args": [
             [
              25
             ],
             {
              "frame": {
               "duration": 300,
               "redraw": true
              },
              "mode": "immediate",
              "transition": {
               "duration": 300
              }
             }
            ],
            "label": "25",
            "method": "animate"
           },
           {
            "args": [
             [
              26
             ],
             {
              "frame": {
               "duration": 300,
               "redraw": true
              },
              "mode": "immediate",
              "transition": {
               "duration": 300
              }
             }
            ],
            "label": "26",
            "method": "animate"
           },
           {
            "args": [
             [
              27
             ],
             {
              "frame": {
               "duration": 300,
               "redraw": true
              },
              "mode": "immediate",
              "transition": {
               "duration": 300
              }
             }
            ],
            "label": "27",
            "method": "animate"
           },
           {
            "args": [
             [
              28
             ],
             {
              "frame": {
               "duration": 300,
               "redraw": true
              },
              "mode": "immediate",
              "transition": {
               "duration": 300
              }
             }
            ],
            "label": "28",
            "method": "animate"
           },
           {
            "args": [
             [
              29
             ],
             {
              "frame": {
               "duration": 300,
               "redraw": true
              },
              "mode": "immediate",
              "transition": {
               "duration": 300
              }
             }
            ],
            "label": "29",
            "method": "animate"
           },
           {
            "args": [
             [
              30
             ],
             {
              "frame": {
               "duration": 300,
               "redraw": true
              },
              "mode": "immediate",
              "transition": {
               "duration": 300
              }
             }
            ],
            "label": "30",
            "method": "animate"
           },
           {
            "args": [
             [
              31
             ],
             {
              "frame": {
               "duration": 300,
               "redraw": true
              },
              "mode": "immediate",
              "transition": {
               "duration": 300
              }
             }
            ],
            "label": "31",
            "method": "animate"
           },
           {
            "args": [
             [
              32
             ],
             {
              "frame": {
               "duration": 300,
               "redraw": true
              },
              "mode": "immediate",
              "transition": {
               "duration": 300
              }
             }
            ],
            "label": "32",
            "method": "animate"
           },
           {
            "args": [
             [
              33
             ],
             {
              "frame": {
               "duration": 300,
               "redraw": true
              },
              "mode": "immediate",
              "transition": {
               "duration": 300
              }
             }
            ],
            "label": "33",
            "method": "animate"
           },
           {
            "args": [
             [
              34
             ],
             {
              "frame": {
               "duration": 300,
               "redraw": true
              },
              "mode": "immediate",
              "transition": {
               "duration": 300
              }
             }
            ],
            "label": "34",
            "method": "animate"
           },
           {
            "args": [
             [
              35
             ],
             {
              "frame": {
               "duration": 300,
               "redraw": true
              },
              "mode": "immediate",
              "transition": {
               "duration": 300
              }
             }
            ],
            "label": "35",
            "method": "animate"
           },
           {
            "args": [
             [
              36
             ],
             {
              "frame": {
               "duration": 300,
               "redraw": true
              },
              "mode": "immediate",
              "transition": {
               "duration": 300
              }
             }
            ],
            "label": "36",
            "method": "animate"
           },
           {
            "args": [
             [
              37
             ],
             {
              "frame": {
               "duration": 300,
               "redraw": true
              },
              "mode": "immediate",
              "transition": {
               "duration": 300
              }
             }
            ],
            "label": "37",
            "method": "animate"
           },
           {
            "args": [
             [
              38
             ],
             {
              "frame": {
               "duration": 300,
               "redraw": true
              },
              "mode": "immediate",
              "transition": {
               "duration": 300
              }
             }
            ],
            "label": "38",
            "method": "animate"
           },
           {
            "args": [
             [
              39
             ],
             {
              "frame": {
               "duration": 300,
               "redraw": true
              },
              "mode": "immediate",
              "transition": {
               "duration": 300
              }
             }
            ],
            "label": "39",
            "method": "animate"
           },
           {
            "args": [
             [
              40
             ],
             {
              "frame": {
               "duration": 300,
               "redraw": true
              },
              "mode": "immediate",
              "transition": {
               "duration": 300
              }
             }
            ],
            "label": "40",
            "method": "animate"
           },
           {
            "args": [
             [
              41
             ],
             {
              "frame": {
               "duration": 300,
               "redraw": true
              },
              "mode": "immediate",
              "transition": {
               "duration": 300
              }
             }
            ],
            "label": "41",
            "method": "animate"
           },
           {
            "args": [
             [
              42
             ],
             {
              "frame": {
               "duration": 300,
               "redraw": true
              },
              "mode": "immediate",
              "transition": {
               "duration": 300
              }
             }
            ],
            "label": "42",
            "method": "animate"
           },
           {
            "args": [
             [
              43
             ],
             {
              "frame": {
               "duration": 300,
               "redraw": true
              },
              "mode": "immediate",
              "transition": {
               "duration": 300
              }
             }
            ],
            "label": "43",
            "method": "animate"
           },
           {
            "args": [
             [
              44
             ],
             {
              "frame": {
               "duration": 300,
               "redraw": true
              },
              "mode": "immediate",
              "transition": {
               "duration": 300
              }
             }
            ],
            "label": "44",
            "method": "animate"
           },
           {
            "args": [
             [
              45
             ],
             {
              "frame": {
               "duration": 300,
               "redraw": true
              },
              "mode": "immediate",
              "transition": {
               "duration": 300
              }
             }
            ],
            "label": "45",
            "method": "animate"
           },
           {
            "args": [
             [
              46
             ],
             {
              "frame": {
               "duration": 300,
               "redraw": true
              },
              "mode": "immediate",
              "transition": {
               "duration": 300
              }
             }
            ],
            "label": "46",
            "method": "animate"
           },
           {
            "args": [
             [
              47
             ],
             {
              "frame": {
               "duration": 300,
               "redraw": true
              },
              "mode": "immediate",
              "transition": {
               "duration": 300
              }
             }
            ],
            "label": "47",
            "method": "animate"
           },
           {
            "args": [
             [
              48
             ],
             {
              "frame": {
               "duration": 300,
               "redraw": true
              },
              "mode": "immediate",
              "transition": {
               "duration": 300
              }
             }
            ],
            "label": "48",
            "method": "animate"
           },
           {
            "args": [
             [
              49
             ],
             {
              "frame": {
               "duration": 300,
               "redraw": true
              },
              "mode": "immediate",
              "transition": {
               "duration": 300
              }
             }
            ],
            "label": "49",
            "method": "animate"
           },
           {
            "args": [
             [
              50
             ],
             {
              "frame": {
               "duration": 300,
               "redraw": true
              },
              "mode": "immediate",
              "transition": {
               "duration": 300
              }
             }
            ],
            "label": "50",
            "method": "animate"
           },
           {
            "args": [
             [
              51
             ],
             {
              "frame": {
               "duration": 300,
               "redraw": true
              },
              "mode": "immediate",
              "transition": {
               "duration": 300
              }
             }
            ],
            "label": "51",
            "method": "animate"
           },
           {
            "args": [
             [
              52
             ],
             {
              "frame": {
               "duration": 300,
               "redraw": true
              },
              "mode": "immediate",
              "transition": {
               "duration": 300
              }
             }
            ],
            "label": "52",
            "method": "animate"
           },
           {
            "args": [
             [
              53
             ],
             {
              "frame": {
               "duration": 300,
               "redraw": true
              },
              "mode": "immediate",
              "transition": {
               "duration": 300
              }
             }
            ],
            "label": "53",
            "method": "animate"
           },
           {
            "args": [
             [
              54
             ],
             {
              "frame": {
               "duration": 300,
               "redraw": true
              },
              "mode": "immediate",
              "transition": {
               "duration": 300
              }
             }
            ],
            "label": "54",
            "method": "animate"
           },
           {
            "args": [
             [
              55
             ],
             {
              "frame": {
               "duration": 300,
               "redraw": true
              },
              "mode": "immediate",
              "transition": {
               "duration": 300
              }
             }
            ],
            "label": "55",
            "method": "animate"
           },
           {
            "args": [
             [
              56
             ],
             {
              "frame": {
               "duration": 300,
               "redraw": true
              },
              "mode": "immediate",
              "transition": {
               "duration": 300
              }
             }
            ],
            "label": "56",
            "method": "animate"
           },
           {
            "args": [
             [
              57
             ],
             {
              "frame": {
               "duration": 300,
               "redraw": true
              },
              "mode": "immediate",
              "transition": {
               "duration": 300
              }
             }
            ],
            "label": "57",
            "method": "animate"
           },
           {
            "args": [
             [
              58
             ],
             {
              "frame": {
               "duration": 300,
               "redraw": true
              },
              "mode": "immediate",
              "transition": {
               "duration": 300
              }
             }
            ],
            "label": "58",
            "method": "animate"
           },
           {
            "args": [
             [
              59
             ],
             {
              "frame": {
               "duration": 300,
               "redraw": true
              },
              "mode": "immediate",
              "transition": {
               "duration": 300
              }
             }
            ],
            "label": "59",
            "method": "animate"
           },
           {
            "args": [
             [
              60
             ],
             {
              "frame": {
               "duration": 300,
               "redraw": true
              },
              "mode": "immediate",
              "transition": {
               "duration": 300
              }
             }
            ],
            "label": "60",
            "method": "animate"
           },
           {
            "args": [
             [
              61
             ],
             {
              "frame": {
               "duration": 300,
               "redraw": true
              },
              "mode": "immediate",
              "transition": {
               "duration": 300
              }
             }
            ],
            "label": "61",
            "method": "animate"
           },
           {
            "args": [
             [
              62
             ],
             {
              "frame": {
               "duration": 300,
               "redraw": true
              },
              "mode": "immediate",
              "transition": {
               "duration": 300
              }
             }
            ],
            "label": "62",
            "method": "animate"
           },
           {
            "args": [
             [
              63
             ],
             {
              "frame": {
               "duration": 300,
               "redraw": true
              },
              "mode": "immediate",
              "transition": {
               "duration": 300
              }
             }
            ],
            "label": "63",
            "method": "animate"
           },
           {
            "args": [
             [
              64
             ],
             {
              "frame": {
               "duration": 300,
               "redraw": true
              },
              "mode": "immediate",
              "transition": {
               "duration": 300
              }
             }
            ],
            "label": "64",
            "method": "animate"
           },
           {
            "args": [
             [
              65
             ],
             {
              "frame": {
               "duration": 300,
               "redraw": true
              },
              "mode": "immediate",
              "transition": {
               "duration": 300
              }
             }
            ],
            "label": "65",
            "method": "animate"
           }
          ],
          "transition": {
           "duration": 300,
           "easing": "cubic-in-out"
          },
          "x": 0.1,
          "xanchor": "left",
          "y": 0,
          "yanchor": "top"
         }
        ],
        "template": {
         "data": {
          "bar": [
           {
            "error_x": {
             "color": "#2a3f5f"
            },
            "error_y": {
             "color": "#2a3f5f"
            },
            "marker": {
             "line": {
              "color": "#E5ECF6",
              "width": 0.5
             },
             "pattern": {
              "fillmode": "overlay",
              "size": 10,
              "solidity": 0.2
             }
            },
            "type": "bar"
           }
          ],
          "barpolar": [
           {
            "marker": {
             "line": {
              "color": "#E5ECF6",
              "width": 0.5
             },
             "pattern": {
              "fillmode": "overlay",
              "size": 10,
              "solidity": 0.2
             }
            },
            "type": "barpolar"
           }
          ],
          "carpet": [
           {
            "aaxis": {
             "endlinecolor": "#2a3f5f",
             "gridcolor": "white",
             "linecolor": "white",
             "minorgridcolor": "white",
             "startlinecolor": "#2a3f5f"
            },
            "baxis": {
             "endlinecolor": "#2a3f5f",
             "gridcolor": "white",
             "linecolor": "white",
             "minorgridcolor": "white",
             "startlinecolor": "#2a3f5f"
            },
            "type": "carpet"
           }
          ],
          "choropleth": [
           {
            "colorbar": {
             "outlinewidth": 0,
             "ticks": ""
            },
            "type": "choropleth"
           }
          ],
          "contour": [
           {
            "colorbar": {
             "outlinewidth": 0,
             "ticks": ""
            },
            "colorscale": [
             [
              0,
              "#0d0887"
             ],
             [
              0.1111111111111111,
              "#46039f"
             ],
             [
              0.2222222222222222,
              "#7201a8"
             ],
             [
              0.3333333333333333,
              "#9c179e"
             ],
             [
              0.4444444444444444,
              "#bd3786"
             ],
             [
              0.5555555555555556,
              "#d8576b"
             ],
             [
              0.6666666666666666,
              "#ed7953"
             ],
             [
              0.7777777777777778,
              "#fb9f3a"
             ],
             [
              0.8888888888888888,
              "#fdca26"
             ],
             [
              1,
              "#f0f921"
             ]
            ],
            "type": "contour"
           }
          ],
          "contourcarpet": [
           {
            "colorbar": {
             "outlinewidth": 0,
             "ticks": ""
            },
            "type": "contourcarpet"
           }
          ],
          "heatmap": [
           {
            "colorbar": {
             "outlinewidth": 0,
             "ticks": ""
            },
            "colorscale": [
             [
              0,
              "#0d0887"
             ],
             [
              0.1111111111111111,
              "#46039f"
             ],
             [
              0.2222222222222222,
              "#7201a8"
             ],
             [
              0.3333333333333333,
              "#9c179e"
             ],
             [
              0.4444444444444444,
              "#bd3786"
             ],
             [
              0.5555555555555556,
              "#d8576b"
             ],
             [
              0.6666666666666666,
              "#ed7953"
             ],
             [
              0.7777777777777778,
              "#fb9f3a"
             ],
             [
              0.8888888888888888,
              "#fdca26"
             ],
             [
              1,
              "#f0f921"
             ]
            ],
            "type": "heatmap"
           }
          ],
          "heatmapgl": [
           {
            "colorbar": {
             "outlinewidth": 0,
             "ticks": ""
            },
            "colorscale": [
             [
              0,
              "#0d0887"
             ],
             [
              0.1111111111111111,
              "#46039f"
             ],
             [
              0.2222222222222222,
              "#7201a8"
             ],
             [
              0.3333333333333333,
              "#9c179e"
             ],
             [
              0.4444444444444444,
              "#bd3786"
             ],
             [
              0.5555555555555556,
              "#d8576b"
             ],
             [
              0.6666666666666666,
              "#ed7953"
             ],
             [
              0.7777777777777778,
              "#fb9f3a"
             ],
             [
              0.8888888888888888,
              "#fdca26"
             ],
             [
              1,
              "#f0f921"
             ]
            ],
            "type": "heatmapgl"
           }
          ],
          "histogram": [
           {
            "marker": {
             "pattern": {
              "fillmode": "overlay",
              "size": 10,
              "solidity": 0.2
             }
            },
            "type": "histogram"
           }
          ],
          "histogram2d": [
           {
            "colorbar": {
             "outlinewidth": 0,
             "ticks": ""
            },
            "colorscale": [
             [
              0,
              "#0d0887"
             ],
             [
              0.1111111111111111,
              "#46039f"
             ],
             [
              0.2222222222222222,
              "#7201a8"
             ],
             [
              0.3333333333333333,
              "#9c179e"
             ],
             [
              0.4444444444444444,
              "#bd3786"
             ],
             [
              0.5555555555555556,
              "#d8576b"
             ],
             [
              0.6666666666666666,
              "#ed7953"
             ],
             [
              0.7777777777777778,
              "#fb9f3a"
             ],
             [
              0.8888888888888888,
              "#fdca26"
             ],
             [
              1,
              "#f0f921"
             ]
            ],
            "type": "histogram2d"
           }
          ],
          "histogram2dcontour": [
           {
            "colorbar": {
             "outlinewidth": 0,
             "ticks": ""
            },
            "colorscale": [
             [
              0,
              "#0d0887"
             ],
             [
              0.1111111111111111,
              "#46039f"
             ],
             [
              0.2222222222222222,
              "#7201a8"
             ],
             [
              0.3333333333333333,
              "#9c179e"
             ],
             [
              0.4444444444444444,
              "#bd3786"
             ],
             [
              0.5555555555555556,
              "#d8576b"
             ],
             [
              0.6666666666666666,
              "#ed7953"
             ],
             [
              0.7777777777777778,
              "#fb9f3a"
             ],
             [
              0.8888888888888888,
              "#fdca26"
             ],
             [
              1,
              "#f0f921"
             ]
            ],
            "type": "histogram2dcontour"
           }
          ],
          "mesh3d": [
           {
            "colorbar": {
             "outlinewidth": 0,
             "ticks": ""
            },
            "type": "mesh3d"
           }
          ],
          "parcoords": [
           {
            "line": {
             "colorbar": {
              "outlinewidth": 0,
              "ticks": ""
             }
            },
            "type": "parcoords"
           }
          ],
          "pie": [
           {
            "automargin": true,
            "type": "pie"
           }
          ],
          "scatter": [
           {
            "fillpattern": {
             "fillmode": "overlay",
             "size": 10,
             "solidity": 0.2
            },
            "type": "scatter"
           }
          ],
          "scatter3d": [
           {
            "line": {
             "colorbar": {
              "outlinewidth": 0,
              "ticks": ""
             }
            },
            "marker": {
             "colorbar": {
              "outlinewidth": 0,
              "ticks": ""
             }
            },
            "type": "scatter3d"
           }
          ],
          "scattercarpet": [
           {
            "marker": {
             "colorbar": {
              "outlinewidth": 0,
              "ticks": ""
             }
            },
            "type": "scattercarpet"
           }
          ],
          "scattergeo": [
           {
            "marker": {
             "colorbar": {
              "outlinewidth": 0,
              "ticks": ""
             }
            },
            "type": "scattergeo"
           }
          ],
          "scattergl": [
           {
            "marker": {
             "colorbar": {
              "outlinewidth": 0,
              "ticks": ""
             }
            },
            "type": "scattergl"
           }
          ],
          "scattermapbox": [
           {
            "marker": {
             "colorbar": {
              "outlinewidth": 0,
              "ticks": ""
             }
            },
            "type": "scattermapbox"
           }
          ],
          "scatterpolar": [
           {
            "marker": {
             "colorbar": {
              "outlinewidth": 0,
              "ticks": ""
             }
            },
            "type": "scatterpolar"
           }
          ],
          "scatterpolargl": [
           {
            "marker": {
             "colorbar": {
              "outlinewidth": 0,
              "ticks": ""
             }
            },
            "type": "scatterpolargl"
           }
          ],
          "scatterternary": [
           {
            "marker": {
             "colorbar": {
              "outlinewidth": 0,
              "ticks": ""
             }
            },
            "type": "scatterternary"
           }
          ],
          "surface": [
           {
            "colorbar": {
             "outlinewidth": 0,
             "ticks": ""
            },
            "colorscale": [
             [
              0,
              "#0d0887"
             ],
             [
              0.1111111111111111,
              "#46039f"
             ],
             [
              0.2222222222222222,
              "#7201a8"
             ],
             [
              0.3333333333333333,
              "#9c179e"
             ],
             [
              0.4444444444444444,
              "#bd3786"
             ],
             [
              0.5555555555555556,
              "#d8576b"
             ],
             [
              0.6666666666666666,
              "#ed7953"
             ],
             [
              0.7777777777777778,
              "#fb9f3a"
             ],
             [
              0.8888888888888888,
              "#fdca26"
             ],
             [
              1,
              "#f0f921"
             ]
            ],
            "type": "surface"
           }
          ],
          "table": [
           {
            "cells": {
             "fill": {
              "color": "#EBF0F8"
             },
             "line": {
              "color": "white"
             }
            },
            "header": {
             "fill": {
              "color": "#C8D4E3"
             },
             "line": {
              "color": "white"
             }
            },
            "type": "table"
           }
          ]
         },
         "layout": {
          "annotationdefaults": {
           "arrowcolor": "#2a3f5f",
           "arrowhead": 0,
           "arrowwidth": 1
          },
          "autotypenumbers": "strict",
          "coloraxis": {
           "colorbar": {
            "outlinewidth": 0,
            "ticks": ""
           }
          },
          "colorscale": {
           "diverging": [
            [
             0,
             "#8e0152"
            ],
            [
             0.1,
             "#c51b7d"
            ],
            [
             0.2,
             "#de77ae"
            ],
            [
             0.3,
             "#f1b6da"
            ],
            [
             0.4,
             "#fde0ef"
            ],
            [
             0.5,
             "#f7f7f7"
            ],
            [
             0.6,
             "#e6f5d0"
            ],
            [
             0.7,
             "#b8e186"
            ],
            [
             0.8,
             "#7fbc41"
            ],
            [
             0.9,
             "#4d9221"
            ],
            [
             1,
             "#276419"
            ]
           ],
           "sequential": [
            [
             0,
             "#0d0887"
            ],
            [
             0.1111111111111111,
             "#46039f"
            ],
            [
             0.2222222222222222,
             "#7201a8"
            ],
            [
             0.3333333333333333,
             "#9c179e"
            ],
            [
             0.4444444444444444,
             "#bd3786"
            ],
            [
             0.5555555555555556,
             "#d8576b"
            ],
            [
             0.6666666666666666,
             "#ed7953"
            ],
            [
             0.7777777777777778,
             "#fb9f3a"
            ],
            [
             0.8888888888888888,
             "#fdca26"
            ],
            [
             1,
             "#f0f921"
            ]
           ],
           "sequentialminus": [
            [
             0,
             "#0d0887"
            ],
            [
             0.1111111111111111,
             "#46039f"
            ],
            [
             0.2222222222222222,
             "#7201a8"
            ],
            [
             0.3333333333333333,
             "#9c179e"
            ],
            [
             0.4444444444444444,
             "#bd3786"
            ],
            [
             0.5555555555555556,
             "#d8576b"
            ],
            [
             0.6666666666666666,
             "#ed7953"
            ],
            [
             0.7777777777777778,
             "#fb9f3a"
            ],
            [
             0.8888888888888888,
             "#fdca26"
            ],
            [
             1,
             "#f0f921"
            ]
           ]
          },
          "colorway": [
           "#636efa",
           "#EF553B",
           "#00cc96",
           "#ab63fa",
           "#FFA15A",
           "#19d3f3",
           "#FF6692",
           "#B6E880",
           "#FF97FF",
           "#FECB52"
          ],
          "font": {
           "color": "#2a3f5f"
          },
          "geo": {
           "bgcolor": "white",
           "lakecolor": "white",
           "landcolor": "#E5ECF6",
           "showlakes": true,
           "showland": true,
           "subunitcolor": "white"
          },
          "hoverlabel": {
           "align": "left"
          },
          "hovermode": "closest",
          "mapbox": {
           "style": "light"
          },
          "paper_bgcolor": "white",
          "plot_bgcolor": "#E5ECF6",
          "polar": {
           "angularaxis": {
            "gridcolor": "white",
            "linecolor": "white",
            "ticks": ""
           },
           "bgcolor": "#E5ECF6",
           "radialaxis": {
            "gridcolor": "white",
            "linecolor": "white",
            "ticks": ""
           }
          },
          "scene": {
           "xaxis": {
            "backgroundcolor": "#E5ECF6",
            "gridcolor": "white",
            "gridwidth": 2,
            "linecolor": "white",
            "showbackground": true,
            "ticks": "",
            "zerolinecolor": "white"
           },
           "yaxis": {
            "backgroundcolor": "#E5ECF6",
            "gridcolor": "white",
            "gridwidth": 2,
            "linecolor": "white",
            "showbackground": true,
            "ticks": "",
            "zerolinecolor": "white"
           },
           "zaxis": {
            "backgroundcolor": "#E5ECF6",
            "gridcolor": "white",
            "gridwidth": 2,
            "linecolor": "white",
            "showbackground": true,
            "ticks": "",
            "zerolinecolor": "white"
           }
          },
          "shapedefaults": {
           "line": {
            "color": "#2a3f5f"
           }
          },
          "ternary": {
           "aaxis": {
            "gridcolor": "white",
            "linecolor": "white",
            "ticks": ""
           },
           "baxis": {
            "gridcolor": "white",
            "linecolor": "white",
            "ticks": ""
           },
           "bgcolor": "#E5ECF6",
           "caxis": {
            "gridcolor": "white",
            "linecolor": "white",
            "ticks": ""
           }
          },
          "title": {
           "x": 0.05
          },
          "xaxis": {
           "automargin": true,
           "gridcolor": "white",
           "linecolor": "white",
           "ticks": "",
           "title": {
            "standoff": 15
           },
           "zerolinecolor": "white",
           "zerolinewidth": 2
          },
          "yaxis": {
           "automargin": true,
           "gridcolor": "white",
           "linecolor": "white",
           "ticks": "",
           "title": {
            "standoff": 15
           },
           "zerolinecolor": "white",
           "zerolinewidth": 2
          }
         }
        },
        "updatemenus": [
         {
          "buttons": [
           {
            "args": [
             null,
             {
              "frame": {
               "duration": 800,
               "redraw": true
              },
              "fromcurrent": true
             }
            ],
            "label": "Play",
            "method": "animate"
           },
           {
            "args": [
             [
              null
             ],
             {
              "frame": {
               "duration": 0,
               "redraw": true
              },
              "mode": "immediate",
              "transition": {
               "duration": 0
              }
             }
            ],
            "label": "Pause",
            "method": "animate"
           }
          ],
          "direction": "left",
          "pad": {
           "r": 10,
           "t": 87
          },
          "showactive": false,
          "type": "buttons",
          "x": 0.1,
          "xanchor": "right",
          "y": 0,
          "yanchor": "top"
         }
        ],
        "width": 500,
        "xaxis": {
         "anchor": "y",
         "constrain": "domain",
         "domain": [
          0,
          1
         ],
         "range": [
          -1.3836671074790319,
          1
         ]
        },
        "yaxis": {
         "anchor": "x",
         "constrain": "domain",
         "domain": [
          0,
          1
         ],
         "range": [
          -1.0654186695643209,
          1
         ],
         "scaleanchor": "x",
         "scaleratio": 1
        }
       }
      },
      "text/html": [
       "<div>                            <div id=\"f419ff50-3c74-40c2-af6a-1e5e81c4b7ce\" class=\"plotly-graph-div\" style=\"height:500px; width:500px;\"></div>            <script type=\"text/javascript\">                require([\"plotly\"], function(Plotly) {                    window.PLOTLYENV=window.PLOTLYENV || {};                                    if (document.getElementById(\"f419ff50-3c74-40c2-af6a-1e5e81c4b7ce\")) {                    Plotly.newPlot(                        \"f419ff50-3c74-40c2-af6a-1e5e81c4b7ce\",                        [{\"marker\":{\"color\":[\"red\",\"red\",\"red\",\"blue\",\"blue\",\"green\",\"green\",\"green\"]},\"mode\":\"markers\",\"x\":[0.4146173458114909,0.8020907496763477,0.4565600955053392,0.5304158948819188,0.7924280098463655,1.0,0.8301306690475279,0.0242262835728343],\"y\":[0.06021661947903927,0.28792309505823716,0.30456364682037534,0.6330000717933577,0.6982925507806695,0.6095944269936602,0.7211778621589742,0.9197213772080308],\"type\":\"scatter\"}],                        {\"template\":{\"data\":{\"histogram2dcontour\":[{\"type\":\"histogram2dcontour\",\"colorbar\":{\"outlinewidth\":0,\"ticks\":\"\"},\"colorscale\":[[0.0,\"#0d0887\"],[0.1111111111111111,\"#46039f\"],[0.2222222222222222,\"#7201a8\"],[0.3333333333333333,\"#9c179e\"],[0.4444444444444444,\"#bd3786\"],[0.5555555555555556,\"#d8576b\"],[0.6666666666666666,\"#ed7953\"],[0.7777777777777778,\"#fb9f3a\"],[0.8888888888888888,\"#fdca26\"],[1.0,\"#f0f921\"]]}],\"choropleth\":[{\"type\":\"choropleth\",\"colorbar\":{\"outlinewidth\":0,\"ticks\":\"\"}}],\"histogram2d\":[{\"type\":\"histogram2d\",\"colorbar\":{\"outlinewidth\":0,\"ticks\":\"\"},\"colorscale\":[[0.0,\"#0d0887\"],[0.1111111111111111,\"#46039f\"],[0.2222222222222222,\"#7201a8\"],[0.3333333333333333,\"#9c179e\"],[0.4444444444444444,\"#bd3786\"],[0.5555555555555556,\"#d8576b\"],[0.6666666666666666,\"#ed7953\"],[0.7777777777777778,\"#fb9f3a\"],[0.8888888888888888,\"#fdca26\"],[1.0,\"#f0f921\"]]}],\"heatmap\":[{\"type\":\"heatmap\",\"colorbar\":{\"outlinewidth\":0,\"ticks\":\"\"},\"colorscale\":[[0.0,\"#0d0887\"],[0.1111111111111111,\"#46039f\"],[0.2222222222222222,\"#7201a8\"],[0.3333333333333333,\"#9c179e\"],[0.4444444444444444,\"#bd3786\"],[0.5555555555555556,\"#d8576b\"],[0.6666666666666666,\"#ed7953\"],[0.7777777777777778,\"#fb9f3a\"],[0.8888888888888888,\"#fdca26\"],[1.0,\"#f0f921\"]]}],\"heatmapgl\":[{\"type\":\"heatmapgl\",\"colorbar\":{\"outlinewidth\":0,\"ticks\":\"\"},\"colorscale\":[[0.0,\"#0d0887\"],[0.1111111111111111,\"#46039f\"],[0.2222222222222222,\"#7201a8\"],[0.3333333333333333,\"#9c179e\"],[0.4444444444444444,\"#bd3786\"],[0.5555555555555556,\"#d8576b\"],[0.6666666666666666,\"#ed7953\"],[0.7777777777777778,\"#fb9f3a\"],[0.8888888888888888,\"#fdca26\"],[1.0,\"#f0f921\"]]}],\"contourcarpet\":[{\"type\":\"contourcarpet\",\"colorbar\":{\"outlinewidth\":0,\"ticks\":\"\"}}],\"contour\":[{\"type\":\"contour\",\"colorbar\":{\"outlinewidth\":0,\"ticks\":\"\"},\"colorscale\":[[0.0,\"#0d0887\"],[0.1111111111111111,\"#46039f\"],[0.2222222222222222,\"#7201a8\"],[0.3333333333333333,\"#9c179e\"],[0.4444444444444444,\"#bd3786\"],[0.5555555555555556,\"#d8576b\"],[0.6666666666666666,\"#ed7953\"],[0.7777777777777778,\"#fb9f3a\"],[0.8888888888888888,\"#fdca26\"],[1.0,\"#f0f921\"]]}],\"surface\":[{\"type\":\"surface\",\"colorbar\":{\"outlinewidth\":0,\"ticks\":\"\"},\"colorscale\":[[0.0,\"#0d0887\"],[0.1111111111111111,\"#46039f\"],[0.2222222222222222,\"#7201a8\"],[0.3333333333333333,\"#9c179e\"],[0.4444444444444444,\"#bd3786\"],[0.5555555555555556,\"#d8576b\"],[0.6666666666666666,\"#ed7953\"],[0.7777777777777778,\"#fb9f3a\"],[0.8888888888888888,\"#fdca26\"],[1.0,\"#f0f921\"]]}],\"mesh3d\":[{\"type\":\"mesh3d\",\"colorbar\":{\"outlinewidth\":0,\"ticks\":\"\"}}],\"scatter\":[{\"fillpattern\":{\"fillmode\":\"overlay\",\"size\":10,\"solidity\":0.2},\"type\":\"scatter\"}],\"parcoords\":[{\"type\":\"parcoords\",\"line\":{\"colorbar\":{\"outlinewidth\":0,\"ticks\":\"\"}}}],\"scatterpolargl\":[{\"type\":\"scatterpolargl\",\"marker\":{\"colorbar\":{\"outlinewidth\":0,\"ticks\":\"\"}}}],\"bar\":[{\"error_x\":{\"color\":\"#2a3f5f\"},\"error_y\":{\"color\":\"#2a3f5f\"},\"marker\":{\"line\":{\"color\":\"#E5ECF6\",\"width\":0.5},\"pattern\":{\"fillmode\":\"overlay\",\"size\":10,\"solidity\":0.2}},\"type\":\"bar\"}],\"scattergeo\":[{\"type\":\"scattergeo\",\"marker\":{\"colorbar\":{\"outlinewidth\":0,\"ticks\":\"\"}}}],\"scatterpolar\":[{\"type\":\"scatterpolar\",\"marker\":{\"colorbar\":{\"outlinewidth\":0,\"ticks\":\"\"}}}],\"histogram\":[{\"marker\":{\"pattern\":{\"fillmode\":\"overlay\",\"size\":10,\"solidity\":0.2}},\"type\":\"histogram\"}],\"scattergl\":[{\"type\":\"scattergl\",\"marker\":{\"colorbar\":{\"outlinewidth\":0,\"ticks\":\"\"}}}],\"scatter3d\":[{\"type\":\"scatter3d\",\"line\":{\"colorbar\":{\"outlinewidth\":0,\"ticks\":\"\"}},\"marker\":{\"colorbar\":{\"outlinewidth\":0,\"ticks\":\"\"}}}],\"scattermapbox\":[{\"type\":\"scattermapbox\",\"marker\":{\"colorbar\":{\"outlinewidth\":0,\"ticks\":\"\"}}}],\"scatterternary\":[{\"type\":\"scatterternary\",\"marker\":{\"colorbar\":{\"outlinewidth\":0,\"ticks\":\"\"}}}],\"scattercarpet\":[{\"type\":\"scattercarpet\",\"marker\":{\"colorbar\":{\"outlinewidth\":0,\"ticks\":\"\"}}}],\"carpet\":[{\"aaxis\":{\"endlinecolor\":\"#2a3f5f\",\"gridcolor\":\"white\",\"linecolor\":\"white\",\"minorgridcolor\":\"white\",\"startlinecolor\":\"#2a3f5f\"},\"baxis\":{\"endlinecolor\":\"#2a3f5f\",\"gridcolor\":\"white\",\"linecolor\":\"white\",\"minorgridcolor\":\"white\",\"startlinecolor\":\"#2a3f5f\"},\"type\":\"carpet\"}],\"table\":[{\"cells\":{\"fill\":{\"color\":\"#EBF0F8\"},\"line\":{\"color\":\"white\"}},\"header\":{\"fill\":{\"color\":\"#C8D4E3\"},\"line\":{\"color\":\"white\"}},\"type\":\"table\"}],\"barpolar\":[{\"marker\":{\"line\":{\"color\":\"#E5ECF6\",\"width\":0.5},\"pattern\":{\"fillmode\":\"overlay\",\"size\":10,\"solidity\":0.2}},\"type\":\"barpolar\"}],\"pie\":[{\"automargin\":true,\"type\":\"pie\"}]},\"layout\":{\"autotypenumbers\":\"strict\",\"colorway\":[\"#636efa\",\"#EF553B\",\"#00cc96\",\"#ab63fa\",\"#FFA15A\",\"#19d3f3\",\"#FF6692\",\"#B6E880\",\"#FF97FF\",\"#FECB52\"],\"font\":{\"color\":\"#2a3f5f\"},\"hovermode\":\"closest\",\"hoverlabel\":{\"align\":\"left\"},\"paper_bgcolor\":\"white\",\"plot_bgcolor\":\"#E5ECF6\",\"polar\":{\"bgcolor\":\"#E5ECF6\",\"angularaxis\":{\"gridcolor\":\"white\",\"linecolor\":\"white\",\"ticks\":\"\"},\"radialaxis\":{\"gridcolor\":\"white\",\"linecolor\":\"white\",\"ticks\":\"\"}},\"ternary\":{\"bgcolor\":\"#E5ECF6\",\"aaxis\":{\"gridcolor\":\"white\",\"linecolor\":\"white\",\"ticks\":\"\"},\"baxis\":{\"gridcolor\":\"white\",\"linecolor\":\"white\",\"ticks\":\"\"},\"caxis\":{\"gridcolor\":\"white\",\"linecolor\":\"white\",\"ticks\":\"\"}},\"coloraxis\":{\"colorbar\":{\"outlinewidth\":0,\"ticks\":\"\"}},\"colorscale\":{\"sequential\":[[0.0,\"#0d0887\"],[0.1111111111111111,\"#46039f\"],[0.2222222222222222,\"#7201a8\"],[0.3333333333333333,\"#9c179e\"],[0.4444444444444444,\"#bd3786\"],[0.5555555555555556,\"#d8576b\"],[0.6666666666666666,\"#ed7953\"],[0.7777777777777778,\"#fb9f3a\"],[0.8888888888888888,\"#fdca26\"],[1.0,\"#f0f921\"]],\"sequentialminus\":[[0.0,\"#0d0887\"],[0.1111111111111111,\"#46039f\"],[0.2222222222222222,\"#7201a8\"],[0.3333333333333333,\"#9c179e\"],[0.4444444444444444,\"#bd3786\"],[0.5555555555555556,\"#d8576b\"],[0.6666666666666666,\"#ed7953\"],[0.7777777777777778,\"#fb9f3a\"],[0.8888888888888888,\"#fdca26\"],[1.0,\"#f0f921\"]],\"diverging\":[[0,\"#8e0152\"],[0.1,\"#c51b7d\"],[0.2,\"#de77ae\"],[0.3,\"#f1b6da\"],[0.4,\"#fde0ef\"],[0.5,\"#f7f7f7\"],[0.6,\"#e6f5d0\"],[0.7,\"#b8e186\"],[0.8,\"#7fbc41\"],[0.9,\"#4d9221\"],[1,\"#276419\"]]},\"xaxis\":{\"gridcolor\":\"white\",\"linecolor\":\"white\",\"ticks\":\"\",\"title\":{\"standoff\":15},\"zerolinecolor\":\"white\",\"automargin\":true,\"zerolinewidth\":2},\"yaxis\":{\"gridcolor\":\"white\",\"linecolor\":\"white\",\"ticks\":\"\",\"title\":{\"standoff\":15},\"zerolinecolor\":\"white\",\"automargin\":true,\"zerolinewidth\":2},\"scene\":{\"xaxis\":{\"backgroundcolor\":\"#E5ECF6\",\"gridcolor\":\"white\",\"linecolor\":\"white\",\"showbackground\":true,\"ticks\":\"\",\"zerolinecolor\":\"white\",\"gridwidth\":2},\"yaxis\":{\"backgroundcolor\":\"#E5ECF6\",\"gridcolor\":\"white\",\"linecolor\":\"white\",\"showbackground\":true,\"ticks\":\"\",\"zerolinecolor\":\"white\",\"gridwidth\":2},\"zaxis\":{\"backgroundcolor\":\"#E5ECF6\",\"gridcolor\":\"white\",\"linecolor\":\"white\",\"showbackground\":true,\"ticks\":\"\",\"zerolinecolor\":\"white\",\"gridwidth\":2}},\"shapedefaults\":{\"line\":{\"color\":\"#2a3f5f\"}},\"annotationdefaults\":{\"arrowcolor\":\"#2a3f5f\",\"arrowhead\":0,\"arrowwidth\":1},\"geo\":{\"bgcolor\":\"white\",\"landcolor\":\"#E5ECF6\",\"subunitcolor\":\"white\",\"showland\":true,\"showlakes\":true,\"lakecolor\":\"white\"},\"title\":{\"x\":0.05},\"mapbox\":{\"style\":\"light\"}}},\"xaxis\":{\"anchor\":\"y\",\"domain\":[0.0,1.0],\"range\":[-1.3836671074790319,1.0],\"constrain\":\"domain\"},\"yaxis\":{\"anchor\":\"x\",\"domain\":[0.0,1.0],\"range\":[-1.0654186695643209,1.0],\"scaleanchor\":\"x\",\"scaleratio\":1,\"constrain\":\"domain\"},\"margin\":{\"l\":20,\"r\":20,\"t\":20,\"b\":20},\"width\":500,\"height\":500,\"updatemenus\":[{\"buttons\":[{\"args\":[null,{\"frame\":{\"duration\":800,\"redraw\":true},\"fromcurrent\":true}],\"label\":\"Play\",\"method\":\"animate\"},{\"args\":[[null],{\"frame\":{\"duration\":0,\"redraw\":true},\"mode\":\"immediate\",\"transition\":{\"duration\":0}}],\"label\":\"Pause\",\"method\":\"animate\"}],\"direction\":\"left\",\"pad\":{\"r\":10,\"t\":87},\"showactive\":false,\"type\":\"buttons\",\"x\":0.1,\"xanchor\":\"right\",\"y\":0,\"yanchor\":\"top\"}],\"sliders\":[{\"currentvalue\":{\"font\":{\"size\":20},\"prefix\":\"Frame:\",\"visible\":true,\"xanchor\":\"right\"},\"len\":0.9,\"pad\":{\"b\":10,\"t\":50},\"steps\":[{\"args\":[[0],{\"frame\":{\"duration\":300,\"redraw\":true},\"mode\":\"immediate\",\"transition\":{\"duration\":300}}],\"label\":\"0\",\"method\":\"animate\"},{\"args\":[[1],{\"frame\":{\"duration\":300,\"redraw\":true},\"mode\":\"immediate\",\"transition\":{\"duration\":300}}],\"label\":\"1\",\"method\":\"animate\"},{\"args\":[[2],{\"frame\":{\"duration\":300,\"redraw\":true},\"mode\":\"immediate\",\"transition\":{\"duration\":300}}],\"label\":\"2\",\"method\":\"animate\"},{\"args\":[[3],{\"frame\":{\"duration\":300,\"redraw\":true},\"mode\":\"immediate\",\"transition\":{\"duration\":300}}],\"label\":\"3\",\"method\":\"animate\"},{\"args\":[[4],{\"frame\":{\"duration\":300,\"redraw\":true},\"mode\":\"immediate\",\"transition\":{\"duration\":300}}],\"label\":\"4\",\"method\":\"animate\"},{\"args\":[[5],{\"frame\":{\"duration\":300,\"redraw\":true},\"mode\":\"immediate\",\"transition\":{\"duration\":300}}],\"label\":\"5\",\"method\":\"animate\"},{\"args\":[[6],{\"frame\":{\"duration\":300,\"redraw\":true},\"mode\":\"immediate\",\"transition\":{\"duration\":300}}],\"label\":\"6\",\"method\":\"animate\"},{\"args\":[[7],{\"frame\":{\"duration\":300,\"redraw\":true},\"mode\":\"immediate\",\"transition\":{\"duration\":300}}],\"label\":\"7\",\"method\":\"animate\"},{\"args\":[[8],{\"frame\":{\"duration\":300,\"redraw\":true},\"mode\":\"immediate\",\"transition\":{\"duration\":300}}],\"label\":\"8\",\"method\":\"animate\"},{\"args\":[[9],{\"frame\":{\"duration\":300,\"redraw\":true},\"mode\":\"immediate\",\"transition\":{\"duration\":300}}],\"label\":\"9\",\"method\":\"animate\"},{\"args\":[[10],{\"frame\":{\"duration\":300,\"redraw\":true},\"mode\":\"immediate\",\"transition\":{\"duration\":300}}],\"label\":\"10\",\"method\":\"animate\"},{\"args\":[[11],{\"frame\":{\"duration\":300,\"redraw\":true},\"mode\":\"immediate\",\"transition\":{\"duration\":300}}],\"label\":\"11\",\"method\":\"animate\"},{\"args\":[[12],{\"frame\":{\"duration\":300,\"redraw\":true},\"mode\":\"immediate\",\"transition\":{\"duration\":300}}],\"label\":\"12\",\"method\":\"animate\"},{\"args\":[[13],{\"frame\":{\"duration\":300,\"redraw\":true},\"mode\":\"immediate\",\"transition\":{\"duration\":300}}],\"label\":\"13\",\"method\":\"animate\"},{\"args\":[[14],{\"frame\":{\"duration\":300,\"redraw\":true},\"mode\":\"immediate\",\"transition\":{\"duration\":300}}],\"label\":\"14\",\"method\":\"animate\"},{\"args\":[[15],{\"frame\":{\"duration\":300,\"redraw\":true},\"mode\":\"immediate\",\"transition\":{\"duration\":300}}],\"label\":\"15\",\"method\":\"animate\"},{\"args\":[[16],{\"frame\":{\"duration\":300,\"redraw\":true},\"mode\":\"immediate\",\"transition\":{\"duration\":300}}],\"label\":\"16\",\"method\":\"animate\"},{\"args\":[[17],{\"frame\":{\"duration\":300,\"redraw\":true},\"mode\":\"immediate\",\"transition\":{\"duration\":300}}],\"label\":\"17\",\"method\":\"animate\"},{\"args\":[[18],{\"frame\":{\"duration\":300,\"redraw\":true},\"mode\":\"immediate\",\"transition\":{\"duration\":300}}],\"label\":\"18\",\"method\":\"animate\"},{\"args\":[[19],{\"frame\":{\"duration\":300,\"redraw\":true},\"mode\":\"immediate\",\"transition\":{\"duration\":300}}],\"label\":\"19\",\"method\":\"animate\"},{\"args\":[[20],{\"frame\":{\"duration\":300,\"redraw\":true},\"mode\":\"immediate\",\"transition\":{\"duration\":300}}],\"label\":\"20\",\"method\":\"animate\"},{\"args\":[[21],{\"frame\":{\"duration\":300,\"redraw\":true},\"mode\":\"immediate\",\"transition\":{\"duration\":300}}],\"label\":\"21\",\"method\":\"animate\"},{\"args\":[[22],{\"frame\":{\"duration\":300,\"redraw\":true},\"mode\":\"immediate\",\"transition\":{\"duration\":300}}],\"label\":\"22\",\"method\":\"animate\"},{\"args\":[[23],{\"frame\":{\"duration\":300,\"redraw\":true},\"mode\":\"immediate\",\"transition\":{\"duration\":300}}],\"label\":\"23\",\"method\":\"animate\"},{\"args\":[[24],{\"frame\":{\"duration\":300,\"redraw\":true},\"mode\":\"immediate\",\"transition\":{\"duration\":300}}],\"label\":\"24\",\"method\":\"animate\"},{\"args\":[[25],{\"frame\":{\"duration\":300,\"redraw\":true},\"mode\":\"immediate\",\"transition\":{\"duration\":300}}],\"label\":\"25\",\"method\":\"animate\"},{\"args\":[[26],{\"frame\":{\"duration\":300,\"redraw\":true},\"mode\":\"immediate\",\"transition\":{\"duration\":300}}],\"label\":\"26\",\"method\":\"animate\"},{\"args\":[[27],{\"frame\":{\"duration\":300,\"redraw\":true},\"mode\":\"immediate\",\"transition\":{\"duration\":300}}],\"label\":\"27\",\"method\":\"animate\"},{\"args\":[[28],{\"frame\":{\"duration\":300,\"redraw\":true},\"mode\":\"immediate\",\"transition\":{\"duration\":300}}],\"label\":\"28\",\"method\":\"animate\"},{\"args\":[[29],{\"frame\":{\"duration\":300,\"redraw\":true},\"mode\":\"immediate\",\"transition\":{\"duration\":300}}],\"label\":\"29\",\"method\":\"animate\"},{\"args\":[[30],{\"frame\":{\"duration\":300,\"redraw\":true},\"mode\":\"immediate\",\"transition\":{\"duration\":300}}],\"label\":\"30\",\"method\":\"animate\"},{\"args\":[[31],{\"frame\":{\"duration\":300,\"redraw\":true},\"mode\":\"immediate\",\"transition\":{\"duration\":300}}],\"label\":\"31\",\"method\":\"animate\"},{\"args\":[[32],{\"frame\":{\"duration\":300,\"redraw\":true},\"mode\":\"immediate\",\"transition\":{\"duration\":300}}],\"label\":\"32\",\"method\":\"animate\"},{\"args\":[[33],{\"frame\":{\"duration\":300,\"redraw\":true},\"mode\":\"immediate\",\"transition\":{\"duration\":300}}],\"label\":\"33\",\"method\":\"animate\"},{\"args\":[[34],{\"frame\":{\"duration\":300,\"redraw\":true},\"mode\":\"immediate\",\"transition\":{\"duration\":300}}],\"label\":\"34\",\"method\":\"animate\"},{\"args\":[[35],{\"frame\":{\"duration\":300,\"redraw\":true},\"mode\":\"immediate\",\"transition\":{\"duration\":300}}],\"label\":\"35\",\"method\":\"animate\"},{\"args\":[[36],{\"frame\":{\"duration\":300,\"redraw\":true},\"mode\":\"immediate\",\"transition\":{\"duration\":300}}],\"label\":\"36\",\"method\":\"animate\"},{\"args\":[[37],{\"frame\":{\"duration\":300,\"redraw\":true},\"mode\":\"immediate\",\"transition\":{\"duration\":300}}],\"label\":\"37\",\"method\":\"animate\"},{\"args\":[[38],{\"frame\":{\"duration\":300,\"redraw\":true},\"mode\":\"immediate\",\"transition\":{\"duration\":300}}],\"label\":\"38\",\"method\":\"animate\"},{\"args\":[[39],{\"frame\":{\"duration\":300,\"redraw\":true},\"mode\":\"immediate\",\"transition\":{\"duration\":300}}],\"label\":\"39\",\"method\":\"animate\"},{\"args\":[[40],{\"frame\":{\"duration\":300,\"redraw\":true},\"mode\":\"immediate\",\"transition\":{\"duration\":300}}],\"label\":\"40\",\"method\":\"animate\"},{\"args\":[[41],{\"frame\":{\"duration\":300,\"redraw\":true},\"mode\":\"immediate\",\"transition\":{\"duration\":300}}],\"label\":\"41\",\"method\":\"animate\"},{\"args\":[[42],{\"frame\":{\"duration\":300,\"redraw\":true},\"mode\":\"immediate\",\"transition\":{\"duration\":300}}],\"label\":\"42\",\"method\":\"animate\"},{\"args\":[[43],{\"frame\":{\"duration\":300,\"redraw\":true},\"mode\":\"immediate\",\"transition\":{\"duration\":300}}],\"label\":\"43\",\"method\":\"animate\"},{\"args\":[[44],{\"frame\":{\"duration\":300,\"redraw\":true},\"mode\":\"immediate\",\"transition\":{\"duration\":300}}],\"label\":\"44\",\"method\":\"animate\"},{\"args\":[[45],{\"frame\":{\"duration\":300,\"redraw\":true},\"mode\":\"immediate\",\"transition\":{\"duration\":300}}],\"label\":\"45\",\"method\":\"animate\"},{\"args\":[[46],{\"frame\":{\"duration\":300,\"redraw\":true},\"mode\":\"immediate\",\"transition\":{\"duration\":300}}],\"label\":\"46\",\"method\":\"animate\"},{\"args\":[[47],{\"frame\":{\"duration\":300,\"redraw\":true},\"mode\":\"immediate\",\"transition\":{\"duration\":300}}],\"label\":\"47\",\"method\":\"animate\"},{\"args\":[[48],{\"frame\":{\"duration\":300,\"redraw\":true},\"mode\":\"immediate\",\"transition\":{\"duration\":300}}],\"label\":\"48\",\"method\":\"animate\"},{\"args\":[[49],{\"frame\":{\"duration\":300,\"redraw\":true},\"mode\":\"immediate\",\"transition\":{\"duration\":300}}],\"label\":\"49\",\"method\":\"animate\"},{\"args\":[[50],{\"frame\":{\"duration\":300,\"redraw\":true},\"mode\":\"immediate\",\"transition\":{\"duration\":300}}],\"label\":\"50\",\"method\":\"animate\"},{\"args\":[[51],{\"frame\":{\"duration\":300,\"redraw\":true},\"mode\":\"immediate\",\"transition\":{\"duration\":300}}],\"label\":\"51\",\"method\":\"animate\"},{\"args\":[[52],{\"frame\":{\"duration\":300,\"redraw\":true},\"mode\":\"immediate\",\"transition\":{\"duration\":300}}],\"label\":\"52\",\"method\":\"animate\"},{\"args\":[[53],{\"frame\":{\"duration\":300,\"redraw\":true},\"mode\":\"immediate\",\"transition\":{\"duration\":300}}],\"label\":\"53\",\"method\":\"animate\"},{\"args\":[[54],{\"frame\":{\"duration\":300,\"redraw\":true},\"mode\":\"immediate\",\"transition\":{\"duration\":300}}],\"label\":\"54\",\"method\":\"animate\"},{\"args\":[[55],{\"frame\":{\"duration\":300,\"redraw\":true},\"mode\":\"immediate\",\"transition\":{\"duration\":300}}],\"label\":\"55\",\"method\":\"animate\"},{\"args\":[[56],{\"frame\":{\"duration\":300,\"redraw\":true},\"mode\":\"immediate\",\"transition\":{\"duration\":300}}],\"label\":\"56\",\"method\":\"animate\"},{\"args\":[[57],{\"frame\":{\"duration\":300,\"redraw\":true},\"mode\":\"immediate\",\"transition\":{\"duration\":300}}],\"label\":\"57\",\"method\":\"animate\"},{\"args\":[[58],{\"frame\":{\"duration\":300,\"redraw\":true},\"mode\":\"immediate\",\"transition\":{\"duration\":300}}],\"label\":\"58\",\"method\":\"animate\"},{\"args\":[[59],{\"frame\":{\"duration\":300,\"redraw\":true},\"mode\":\"immediate\",\"transition\":{\"duration\":300}}],\"label\":\"59\",\"method\":\"animate\"},{\"args\":[[60],{\"frame\":{\"duration\":300,\"redraw\":true},\"mode\":\"immediate\",\"transition\":{\"duration\":300}}],\"label\":\"60\",\"method\":\"animate\"},{\"args\":[[61],{\"frame\":{\"duration\":300,\"redraw\":true},\"mode\":\"immediate\",\"transition\":{\"duration\":300}}],\"label\":\"61\",\"method\":\"animate\"},{\"args\":[[62],{\"frame\":{\"duration\":300,\"redraw\":true},\"mode\":\"immediate\",\"transition\":{\"duration\":300}}],\"label\":\"62\",\"method\":\"animate\"},{\"args\":[[63],{\"frame\":{\"duration\":300,\"redraw\":true},\"mode\":\"immediate\",\"transition\":{\"duration\":300}}],\"label\":\"63\",\"method\":\"animate\"},{\"args\":[[64],{\"frame\":{\"duration\":300,\"redraw\":true},\"mode\":\"immediate\",\"transition\":{\"duration\":300}}],\"label\":\"64\",\"method\":\"animate\"},{\"args\":[[65],{\"frame\":{\"duration\":300,\"redraw\":true},\"mode\":\"immediate\",\"transition\":{\"duration\":300}}],\"label\":\"65\",\"method\":\"animate\"}],\"transition\":{\"duration\":300,\"easing\":\"cubic-in-out\"},\"x\":0.1,\"xanchor\":\"left\",\"y\":0,\"yanchor\":\"top\"}]},                        {\"responsive\": true}                    ).then(function(){\n",
       "                            Plotly.addFrames('f419ff50-3c74-40c2-af6a-1e5e81c4b7ce', [{\"data\":[{\"marker\":{\"color\":[\"red\",\"red\",\"red\",\"blue\",\"blue\",\"green\",\"green\",\"green\"]},\"mode\":\"markers\",\"x\":[0.4146173458114909,0.8020907496763477,0.4565600955053392,0.5304158948819188,0.7924280098463655,1.0,0.8301306690475279,0.0242262835728343],\"y\":[0.06021661947903927,0.28792309505823716,0.30456364682037534,0.6330000717933577,0.6982925507806695,0.6095944269936602,0.7211778621589742,0.9197213772080308],\"type\":\"scatter\"}],\"name\":\"0\"},{\"data\":[{\"marker\":{\"color\":[\"red\",\"red\",\"red\",\"blue\",\"blue\",\"green\",\"green\",\"green\"]},\"mode\":\"markers\",\"x\":[-0.5064960621097316,-0.44572265616451207,-0.4673815552976833,0.6165722551609194,0.4907203704464683,0.5553553446257001,0.47460212476776026,0.05006170320064106],\"y\":[-1.0654186695643209,-0.9681517748035157,-0.9910126272721093,0.7110644712583643,0.5897361721855193,0.8746848633327772,0.7767308138740566,1.0],\"type\":\"scatter\"}],\"name\":\"1\"},{\"data\":[{\"marker\":{\"color\":[\"red\",\"red\",\"red\",\"blue\",\"blue\",\"green\",\"green\",\"green\"]},\"mode\":\"markers\",\"x\":[-0.47120581353740326,-0.17887220303670603,-0.5283730739252775,0.3481735056857985,0.42173851743306956,0.2392510848341896,0.2437543851768729,0.26752372261834334],\"y\":[-0.8644204528384104,-0.8224717293165497,-0.9399314710896238,-0.3209925976545973,-0.5227750368425219,0.7824441820659506,0.9251709080814484,1.0],\"type\":\"scatter\"}],\"name\":\"2\"},{\"data\":[{\"marker\":{\"color\":[\"red\",\"red\",\"red\",\"blue\",\"blue\",\"green\",\"green\",\"green\"]},\"mode\":\"markers\",\"x\":[-0.5664319140336318,-0.6755607052606578,-0.820817901655243,0.7121482342224382,0.5334295349436788,0.5835654952248698,0.5608687030893571,0.5566904880749483],\"y\":[-0.8320555055195028,-0.8975972966727322,-0.9444127474746312,-0.040267364900816366,-0.06544083765904876,1.0,0.9448688292898076,0.9951807390241716],\"type\":\"scatter\"}],\"name\":\"3\"},{\"data\":[{\"marker\":{\"color\":[\"red\",\"red\",\"red\",\"blue\",\"blue\",\"green\",\"green\",\"green\"]},\"mode\":\"markers\",\"x\":[-0.6323376097050687,-0.722853539543804,-0.6365247715212322,0.2336836299429904,0.06473468944965259,0.5453206565227408,0.5097660571645766,0.5120131149357551],\"y\":[-0.7266757581467942,-0.8408784404839729,-0.8492731891886619,-0.8644015100371923,-0.7348183661562004,1.0,0.9250021948882087,0.9319902025365746],\"type\":\"scatter\"}],\"name\":\"4\"},{\"data\":[{\"marker\":{\"color\":[\"red\",\"red\",\"red\",\"blue\",\"blue\",\"green\",\"green\",\"green\"]},\"mode\":\"markers\",\"x\":[-0.7688227334346094,-0.8868884378723595,-0.488085099323961,0.5077531957242922,0.32645820141409765,0.517244695000083,0.6082055655432006,0.6086266473164366],\"y\":[-0.906500106514176,-0.939390130802776,-0.7926665307900119,-0.5021701839198489,-0.3668621144511747,0.7539676372457405,0.9940987792561535,1.0],\"type\":\"scatter\"}],\"name\":\"5\"},{\"data\":[{\"marker\":{\"color\":[\"red\",\"red\",\"red\",\"blue\",\"blue\",\"green\",\"green\",\"green\"]},\"mode\":\"markers\",\"x\":[-1.0072435008030698,-0.7910430477858952,-1.0829643159562148,0.8436023416779728,0.6389192274203986,0.8950918927485519,0.7487361144359894,0.7157360469815464],\"y\":[-0.7749817624109138,-0.6517652392062045,-0.7789358582535042,-0.09596509640180109,-0.1829341887717725,1.0,0.6747880038880993,0.7095360204392609],\"type\":\"scatter\"}],\"name\":\"6\"},{\"data\":[{\"marker\":{\"color\":[\"red\",\"red\",\"red\",\"blue\",\"blue\",\"green\",\"green\",\"green\"]},\"mode\":\"markers\",\"x\":[-1.24261378766205,-1.2298844270595852,-0.9893986723137362,1.0,0.860637257405873,0.8608844407766907,0.8684792394881383,0.9091098634194684],\"y\":[-0.6941011687360462,-0.6912783098708648,-0.5795961066589185,-0.1529902616118274,-0.21520708575528938,0.7468207180344938,0.7485276909005036,0.799342342315052],\"type\":\"scatter\"}],\"name\":\"7\"},{\"data\":[{\"marker\":{\"color\":[\"red\",\"red\",\"red\",\"blue\",\"blue\",\"green\",\"green\",\"green\"]},\"mode\":\"markers\",\"x\":[-0.8136449811025694,-0.7440188839066257,-0.6840203197032505,0.7008322286357962,0.5901563446851522,0.6159983509539849,1.0,0.9281263581340546],\"y\":[-0.2938604885583823,-0.2687146060609136,-0.24704468730436602,0.2531384442057496,0.213128488806526,0.22246924522809006,0.3609993304785887,0.3354071350044535],\"type\":\"scatter\"}],\"name\":\"8\"},{\"data\":[{\"marker\":{\"color\":[\"red\",\"red\",\"red\",\"blue\",\"blue\",\"green\",\"green\",\"green\"]},\"mode\":\"markers\",\"x\":[-0.7527297714349614,-0.8031086181384616,-0.8396480032835292,0.4889348281500049,-0.3700163672052717,1.0,0.858930899489868,0.9312898369003146],\"y\":[-0.25253624729719215,-0.3065289747894919,-0.3069333287666957,0.19861545280917073,0.24976159473134182,0.31488398455301553,0.273693640415237,0.30841653224788584],\"type\":\"scatter\"}],\"name\":\"9\"},{\"data\":[{\"marker\":{\"color\":[\"red\",\"red\",\"red\",\"blue\",\"blue\",\"green\",\"green\",\"green\"]},\"mode\":\"markers\",\"x\":[-0.9175618531153809,-0.7348513922643667,-0.8865544973687332,0.5737226360400032,-0.6841719980227059,0.8839277378040873,1.0,0.8312410768705072],\"y\":[-0.15713097754350613,-0.12584210790499045,-0.1518210188073375,0.09824907388993213,-0.1171633432760694,0.15137119258348725,0.17124838083454907,0.1423486863448764],\"type\":\"scatter\"}],\"name\":\"10\"},{\"data\":[{\"marker\":{\"color\":[\"red\",\"red\",\"red\",\"blue\",\"blue\",\"green\",\"green\",\"green\"]},\"mode\":\"markers\",\"x\":[-1.2125770211525673,-1.1444539939188323,-1.0601384444202686,-0.5006216539291859,-0.908337602699581,1.0,0.9699696272401449,0.8506021321681374],\"y\":[-0.20765184841883202,-0.19598589048035828,-0.18154698936515132,-0.08573064632134257,-0.15555134139789267,0.17124837828271972,0.16610572564850667,0.1456642356975559],\"type\":\"scatter\"}],\"name\":\"11\"},{\"data\":[{\"marker\":{\"color\":[\"red\",\"red\",\"red\",\"blue\",\"blue\",\"green\",\"green\",\"green\"]},\"mode\":\"markers\",\"x\":[-0.8135962734159317,-1.2416582740702442,-1.012747963195182,-0.7246517578917967,-0.8832548712164053,0.8806881740881347,0.9330865559157129,1.0],\"y\":[-0.13932704198239285,-0.2126319651795638,-0.17343144578729988,-0.12409543798732361,-0.1512559638534799,0.15081642113404256,0.15978955901980174,0.17124837777025645],\"type\":\"scatter\"}],\"name\":\"12\"},{\"data\":[{\"marker\":{\"color\":[\"red\",\"red\",\"red\",\"blue\",\"blue\",\"green\",\"green\",\"green\"]},\"mode\":\"markers\",\"x\":[-1.2723706664280274,-0.9483199469484339,-0.9748319990900972,-0.8952024216568717,-0.8086032789174975,1.0,0.9855359769212237,0.8946447027567016],\"y\":[-0.2178914125482523,-0.16239825252208945,-0.1669383984427094,-0.15330196248473932,-0.13847199977432714,0.17124837777025154,0.16877143728197824,0.15320645402783284],\"type\":\"scatter\"}],\"name\":\"13\"},{\"data\":[{\"marker\":{\"color\":[\"red\",\"red\",\"red\",\"blue\",\"blue\",\"green\",\"green\",\"green\"]},\"mode\":\"markers\",\"x\":[-0.9071797666581782,-0.8752746485972865,-1.194148947404916,-0.8453820329298091,-0.9013429995560671,1.0,0.9497803415231535,0.9993836600096412],\"y\":[-0.15535306338620714,-0.14988936367571115,-0.20449607005914797,-0.1447703017353462,-0.15435352648854797,0.17124837777025093,0.16264834272391482,0.17114283054674673],\"type\":\"scatter\"}],\"name\":\"14\"},{\"data\":[{\"marker\":{\"color\":[\"red\",\"red\",\"red\",\"blue\",\"blue\",\"green\",\"green\",\"green\"]},\"mode\":\"markers\",\"x\":[-0.8552618517387786,-0.7819275558380949,-0.910820388414278,-0.7750751716668084,-0.7991916654403339,0.6973653041396227,1.0,0.9362591643785729],\"y\":[-0.14646220467905138,-0.13390382547113414,-0.15597651395601828,-0.13273036579794362,-0.13686027623416666,0.1194226770471691,0.17124837777025673,0.1603328630723669],\"type\":\"scatter\"}],\"name\":\"15\"},{\"data\":[{\"marker\":{\"color\":[\"red\",\"red\",\"red\",\"blue\",\"blue\",\"green\",\"green\",\"green\"]},\"mode\":\"markers\",\"x\":[-0.877628221332811,-1.0987492183596395,-0.8710003751299203,-0.7887400176264594,-0.867630319654093,1.0,0.87326346573154,0.9568616401005415],\"y\":[-0.15029240918864048,-0.18815902122042558,-0.14915740127828506,-0.13507044850101577,-0.14858028474505378,0.17124837777025753,0.14954495187255934,0.1638610036178058],\"type\":\"scatter\"}],\"name\":\"16\"},{\"data\":[{\"marker\":{\"color\":[\"red\",\"red\",\"red\",\"blue\",\"blue\",\"green\",\"green\",\"green\"]},\"mode\":\"markers\",\"x\":[-0.8233984670352209,-1.0435016683769935,-0.743788667203639,-0.7330689213138691,-0.8730667740945111,0.8938438291017575,1.0,0.870649022792952],\"y\":[-0.14100565173846297,-0.17869796791033668,-0.12737260266267278,-0.12553686356894023,-0.1495112687489715,0.15306930571381222,0.17124837777046073,0.14909723276072911],\"type\":\"scatter\"}],\"name\":\"17\"},{\"data\":[{\"marker\":{\"color\":[\"red\",\"red\",\"red\",\"blue\",\"blue\",\"green\",\"green\",\"green\"]},\"mode\":\"markers\",\"x\":[-0.8506928028302468,-0.9484423204009075,-1.156867174756443,-0.8804163366503988,-0.8451049068511399,0.8728937280870362,0.7891078515038872,1.0],\"y\":[-0.14567976246615696,-0.16241920877804272,-0.1981116269735041,-0.15076986941439077,-0.1447228443445938,0.14948163490137684,0.13513343945639106,0.17124837777098964],\"type\":\"scatter\"}],\"name\":\"18\"},{\"data\":[{\"marker\":{\"color\":[\"red\",\"red\",\"red\",\"blue\",\"blue\",\"green\",\"green\",\"green\"]},\"mode\":\"markers\",\"x\":[-0.8382191085727567,-0.9490389484939816,-0.7769344476328757,-0.7284665133884176,-0.773339689290647,1.0,0.6814509703850914,0.8060880139303535],\"y\":[-0.14354366255965478,-0.1625213803709974,-0.13304876379146022,-0.12474870867818907,-0.1324331672568753,0.1712483777708999,0.11669737320885201,0.1380412647261401],\"type\":\"scatter\"}],\"name\":\"19\"},{\"data\":[{\"marker\":{\"color\":[\"red\",\"red\",\"red\",\"blue\",\"blue\",\"green\",\"green\",\"green\"]},\"mode\":\"markers\",\"x\":[-0.9092753145237542,-0.91172533672278,-0.9611548521845953,-0.5570487262817825,-0.8908541378695382,1.0,0.7928684729356155,0.8519047584789409],\"y\":[-0.15571192255932728,-0.1561314848864134,-0.1645962092232512,-0.09539369071510785,-0.15255732594066432,0.17124837777091043,0.13577743977592327,0.14588730790483787],\"type\":\"scatter\"}],\"name\":\"20\"},{\"data\":[{\"marker\":{\"color\":[\"red\",\"red\",\"red\",\"blue\",\"blue\",\"green\",\"green\",\"green\"]},\"mode\":\"markers\",\"x\":[-0.8235089807489163,-0.7737994996572924,-0.8445801670635738,-0.6902841149176617,-0.7270845641131247,0.8140774626693904,1.0,0.7810014238670177],\"y\":[-0.14102457703302276,-0.1325119090362486,-0.14463298350711615,-0.11821003488067428,-0.12451205210663734,0.1394094448619867,0.17124837777090463,0.13374522687399312],\"type\":\"scatter\"}],\"name\":\"21\"},{\"data\":[{\"marker\":{\"color\":[\"red\",\"red\",\"red\",\"blue\",\"blue\",\"green\",\"green\",\"green\"]},\"mode\":\"markers\",\"x\":[-0.901799272413424,-0.9079786247122267,-0.9749658586203571,-0.5966817080263427,-0.739806798120629,1.0,0.7157833329416271,0.6139846430129762],\"y\":[-0.15443166247578619,-0.15548986653263108,-0.1669613216707592,-0.1021807745450881,-0.1266907140420491,0.17124837777091104,0.12257673460170962,0.10514387409222421],\"type\":\"scatter\"}],\"name\":\"22\"},{\"data\":[{\"marker\":{\"color\":[\"red\",\"red\",\"red\",\"blue\",\"blue\",\"green\",\"green\",\"green\"]},\"mode\":\"markers\",\"x\":[-0.7727478228103188,-0.6834483836356671,-0.9568118356019489,0.5872028325890547,0.6631683194184966,0.8946576023019295,0.7092088359212507,1.0],\"y\":[-0.1323318109297084,-0.11703942685283042,-0.16385247448993315,0.10055753238739272,0.11356649875848386,0.15320866287794538,0.12145086251225887,0.1712483775735275],\"type\":\"scatter\"}],\"name\":\"23\"},{\"data\":[{\"marker\":{\"color\":[\"red\",\"red\",\"red\",\"blue\",\"blue\",\"green\",\"green\",\"green\"]},\"mode\":\"markers\",\"x\":[-0.8815412246109708,-0.75569308624243,-0.6777176950632534,0.6447119814022506,0.6941662860086819,0.6960932890996666,0.8475150667659956,1.0],\"y\":[-0.1509625047460558,-0.12941121519164223,-0.11605805593790816,0.11040588101279943,0.11887485045567227,0.11920484660916683,0.14513558040972796,0.1712483778766846],\"type\":\"scatter\"}],\"name\":\"24\"},{\"data\":[{\"marker\":{\"color\":[\"red\",\"red\",\"red\",\"blue\",\"blue\",\"green\",\"green\",\"green\"]},\"mode\":\"markers\",\"x\":[-1.1565265374190055,-1.0864827663323287,-0.9407616590170335,0.9365931047239596,0.9519371986097788,0.991750345227087,1.0,0.9534786156487325],\"y\":[-0.19805329350435,-0.1860584113253916,-0.16110390807525216,0.1603900499144729,0.16301770110240701,0.16983563787878803,0.1712483778766918,0.1632816662699594],\"type\":\"scatter\"}],\"name\":\"25\"},{\"data\":[{\"marker\":{\"color\":[\"red\",\"red\",\"red\",\"blue\",\"blue\",\"green\",\"green\",\"green\"]},\"mode\":\"markers\",\"x\":[-0.9412742899935751,-1.3836671074790319,-1.0753803477598511,0.8778125293054233,1.0,0.9958000545271484,0.9043590396121217,0.9873245188976943],\"y\":[-0.16119169571389913,-0.2369507482878435,-0.1841571406290038,0.15032397211084259,0.17124837831807604,0.17052914446682568,0.15487001895086872,0.16907772273490487],\"type\":\"scatter\"}],\"name\":\"26\"},{\"data\":[{\"marker\":{\"color\":[\"red\",\"red\",\"red\",\"blue\",\"blue\",\"green\",\"green\",\"green\"]},\"mode\":\"markers\",\"x\":[-0.9789785026225162,-0.9556542503697604,-0.9751050584641494,0.8144200179862356,0.8749926346952581,0.9523889573003075,1.0,0.9679380971311731],\"y\":[-0.167648480982377,-0.16365424060861197,-0.16698515995175123,0.13946810734993428,0.14984106973183672,0.16309506446573532,0.1712483783180898,0.16575782944601183],\"type\":\"scatter\"}],\"name\":\"27\"},{\"data\":[{\"marker\":{\"color\":[\"red\",\"red\",\"red\",\"blue\",\"blue\",\"green\",\"green\",\"green\"]},\"mode\":\"markers\",\"x\":[-0.9041861309334358,-0.9963867319359377,-0.8246356437507749,0.8406132618002577,0.6914644900905103,1.0,0.922513252903026,0.6984944993497485],\"y\":[-0.15484040863248946,-0.17062961203527552,-0.14121751670691718,0.1439536578890241,0.11841217260216626,0.17124837833308873,0.15797889854795263,0.1196160502889827],\"type\":\"scatter\"}],\"name\":\"28\"},{\"data\":[{\"marker\":{\"color\":[\"red\",\"red\",\"red\",\"blue\",\"blue\",\"green\",\"green\",\"green\"]},\"mode\":\"markers\",\"x\":[-0.7885299900785638,-0.889893621027413,-0.6784928848485576,0.5963077059618248,0.5897782215774128,0.7834052831430934,0.7854095707596105,1.0],\"y\":[-0.1350344820672454,-0.1523928394890968,-0.1161908062402383,0.10211672763295515,0.10099856402077882,0.13415688431513145,0.1345001153191575,0.1712483783321734],\"type\":\"scatter\"}],\"name\":\"29\"},{\"data\":[{\"marker\":{\"color\":[\"red\",\"red\",\"red\",\"blue\",\"blue\",\"green\",\"green\",\"green\"]},\"mode\":\"markers\",\"x\":[-0.871468543118031,-0.8665577889515707,-0.9430764079947394,0.8010873795544957,0.6289111011840491,0.6942991549912699,0.811859855275945,1.0],\"y\":[-0.14923757477650446,-0.14839661608910995,-0.16150030551247352,0.1371849146511144,0.10770000619289798,0.11889760436968469,0.13902968364903545,0.17124837833221898],\"type\":\"scatter\"}],\"name\":\"30\"},{\"data\":[{\"marker\":{\"color\":[\"red\",\"red\",\"red\",\"blue\",\"blue\",\"green\",\"green\",\"green\"]},\"mode\":\"markers\",\"x\":[-0.9546134534005469,-0.8299352041148381,-0.8428735585730466,1.0,0.8967355170813976,0.8095895847930571,0.8912371561145939,0.9373881945139696],\"y\":[-0.16347600582985025,-0.1421250578262563,-0.14434073004552414,0.17124837833315304,0.15356450309392286,0.1386409035112129,0.15262291769486427,0.16052620817915458],\"type\":\"scatter\"}],\"name\":\"31\"},{\"data\":[{\"marker\":{\"color\":[\"red\",\"red\",\"red\",\"blue\",\"blue\",\"green\",\"green\",\"green\"]},\"mode\":\"markers\",\"x\":[-0.794788128877809,-0.79915832835295,-0.8401974186914916,0.8084948563238935,0.6672266591396625,0.8108783269766536,0.7400583270594262,1.0],\"y\":[-0.13610617818711487,-0.13685456776021596,-0.14388244542886922,0.13845343303427146,0.11426148335691033,0.13886159851852348,0.12673378837929775,0.17124837833116385],\"type\":\"scatter\"}],\"name\":\"32\"},{\"data\":[{\"marker\":{\"color\":[\"red\",\"red\",\"red\",\"blue\",\"blue\",\"green\",\"green\",\"green\"]},\"mode\":\"markers\",\"x\":[-0.8699826926658653,-0.6473227784598256,-0.5887204690513262,0.5769385343565993,0.6845243295443328,0.5286858607470276,0.6024368583931689,1.0],\"y\":[-0.14898312529226362,-0.11085297606587696,-0.10081742561340871,0.09879978840337292,0.11722368136037689,0.09053659629775489,0.1031663350447119,0.17124837832777862],\"type\":\"scatter\"}],\"name\":\"33\"},{\"data\":[{\"marker\":{\"color\":[\"red\",\"red\",\"red\",\"blue\",\"blue\",\"green\",\"green\",\"green\"]},\"mode\":\"markers\",\"x\":[-0.7929137223002454,-0.8698161142650542,-0.9472655081410716,0.9942584437829709,0.9184581868412466,0.9133836727405108,0.9345175771080053,1.0],\"y\":[-0.13578518909680778,-0.14895459901018393,-0.1622176821138208,0.17026514613608415,0.15728447505673995,0.1564154727461589,0.1600346195975476,0.1712483783265296],\"type\":\"scatter\"}],\"name\":\"34\"},{\"data\":[{\"marker\":{\"color\":[\"red\",\"red\",\"red\",\"blue\",\"blue\",\"green\",\"green\",\"green\"]},\"mode\":\"markers\",\"x\":[-0.9638856880411711,-0.9893110213208754,-0.8088997411300712,0.5934978784888316,0.6566813056688189,0.8385373480439271,0.9036600588366018,1.0],\"y\":[-0.165063860969027,-0.16941790806156273,-0.1385227688971076,0.10163554923192301,0.11245560867382658,0.1435981610185621,0.1547503196339691,0.1712483783262362],\"type\":\"scatter\"}],\"name\":\"35\"},{\"data\":[{\"marker\":{\"color\":[\"red\",\"red\",\"red\",\"blue\",\"blue\",\"green\",\"green\",\"green\"]},\"mode\":\"markers\",\"x\":[-1.0099162856060735,-1.1341898587115167,-0.7967059765731875,0.5817551587019837,0.5858698655044262,0.999376038338402,1.0,0.8504685176329414],\"y\":[-0.1729465261189972,-0.19422817397755626,-0.13643460645787686,0.09962462751608726,0.10032926439688566,0.17114152582762177,0.17124837828466583,0.14564135443682844],\"type\":\"scatter\"}],\"name\":\"36\"},{\"data\":[{\"marker\":{\"color\":[\"red\",\"red\",\"red\",\"blue\",\"blue\",\"green\",\"green\",\"green\"]},\"mode\":\"markers\",\"x\":[-0.9726139999396128,-0.5749420946404211,-0.8137898908368487,0.6474326946969516,0.5960594102974243,0.6319554560935804,0.9259724941803006,1.0],\"y\":[-0.16676677541892054,-0.0985809779366169,-0.13953440524619443,0.11101039319516308,0.10220180400441091,0.10835662802734251,0.15876950906006154,0.17146244503710475],\"type\":\"scatter\"}],\"name\":\"37\"},{\"data\":[{\"marker\":{\"color\":[\"red\",\"red\",\"red\",\"blue\",\"blue\",\"green\",\"green\",\"green\"]},\"mode\":\"markers\",\"x\":[-0.6989426404594029,-0.8807102485210444,-0.7957379509777733,0.5610464311915102,0.6977443869356773,1.0,0.9407959647813481,0.5622504170510394],\"y\":[-0.11984241460836871,-0.15100873325416755,-0.13643917529197636,0.09619839330048448,0.11963695912849058,0.17146244580183856,0.16131117712190884,0.09640483166067056],\"type\":\"scatter\"}],\"name\":\"38\"},{\"data\":[{\"marker\":{\"color\":[\"red\",\"red\",\"red\",\"blue\",\"blue\",\"green\",\"green\",\"green\"]},\"mode\":\"markers\",\"x\":[-0.8592100612827245,-0.7251281220009166,-0.7107866370343514,0.5200544777099959,0.688587877561829,0.7482905515096202,1.0,0.9207437905363464],\"y\":[-0.14732225856507014,-0.1243322413179596,-0.12187321522916238,0.08916981269834526,0.11806696163623695,0.12830372813223387,0.17146244580182327,0.15787298228220267],\"type\":\"scatter\"}],\"name\":\"39\"},{\"data\":[{\"marker\":{\"color\":[\"red\",\"red\",\"red\",\"blue\",\"blue\",\"green\",\"green\",\"green\"]},\"mode\":\"markers\",\"x\":[-0.697907934225944,-0.6143577326217763,-0.8808381627735246,0.5016318145055152,0.20805873526063218,0.6458986348476264,0.9278258542773241,1.0],\"y\":[-0.11966500134606992,-0.10533927943188098,-0.15103066574371346,0.08601101780653123,0.0356742596179961,0.11074735967030973,0.1590872902515253,0.17146244580059586],\"type\":\"scatter\"}],\"name\":\"40\"},{\"data\":[{\"marker\":{\"color\":[\"red\",\"red\",\"red\",\"blue\",\"blue\",\"green\",\"green\",\"green\"]},\"mode\":\"markers\",\"x\":[-0.8841705848074637,-0.9991274797917128,-1.1060212934822198,-0.9533412018257436,-0.8870309029579065,1.0,0.8685273689080163,0.9436117627531905],\"y\":[-0.15160113849799906,-0.17131090349211645,-0.189637909177932,-0.16346051612427417,-0.15205029795040906,0.17145691523889267,0.1489150885812225,0.1617888441326782],\"type\":\"scatter\"}],\"name\":\"41\"},{\"data\":[{\"marker\":{\"color\":[\"red\",\"red\",\"red\",\"blue\",\"blue\",\"green\",\"green\",\"green\"]},\"mode\":\"markers\",\"x\":[-0.9749408677193017,-0.8266893100557828,-0.9290435685660118,-0.6524722803218724,-0.6559450369266803,0.921516090927308,0.8377735100638735,1.0],\"y\":[-0.16717062353939113,-0.14175030857282006,-0.15930073042446855,-0.11187776523655565,-0.1124732254047573,0.15801001349707536,0.14365088613488625,0.17146744940337527],\"type\":\"scatter\"}],\"name\":\"42\"},{\"data\":[{\"marker\":{\"color\":[\"red\",\"red\",\"red\",\"blue\",\"blue\",\"green\",\"green\",\"green\"]},\"mode\":\"markers\",\"x\":[-1.0338255997319823,-1.2167927955273783,-1.1217452409595783,-0.9593202291319675,-1.1190416756255384,0.9980363932223117,1.0,0.9158404452643022],\"y\":[-0.177267440054293,-0.20864035867903163,-0.19234279680203478,-0.16449219409406024,-0.19187922334640653,0.17113075605151004,0.17146745069985703,0.1570368263972919],\"type\":\"scatter\"}],\"name\":\"43\"},{\"data\":[{\"marker\":{\"color\":[\"red\",\"red\",\"red\",\"blue\",\"blue\",\"green\",\"green\",\"green\"]},\"mode\":\"markers\",\"x\":[-0.8523468508507599,-1.1327479774809215,-0.7595621628627576,-0.7602555852827161,-0.7539563225248949,0.9526347570902975,1.0,0.9680938248071935],\"y\":[-0.14614974162739527,-0.19422940798402505,-0.13024018771411483,-0.13035908708872312,-0.12927896856235124,0.16334585324631057,0.17146745069981462,0.1659965801779223],\"type\":\"scatter\"}],\"name\":\"44\"},{\"data\":[{\"marker\":{\"color\":[\"red\",\"red\",\"red\",\"blue\",\"blue\",\"green\",\"green\",\"green\"]},\"mode\":\"markers\",\"x\":[-0.9024224617203526,-0.8181848030940638,-0.7503984545583592,-0.6478180030169371,-0.6390398304256855,0.9610445877764222,0.8164543231638175,1.0],\"y\":[-0.15473607896571698,-0.1402920623881194,-0.12866891001243203,-0.11107970149495737,-0.10957453061892987,0.1647878654751706,0.13999534140599185,0.1714674507001197],\"type\":\"scatter\"}],\"name\":\"45\"},{\"data\":[{\"marker\":{\"color\":[\"red\",\"red\",\"red\",\"blue\",\"blue\",\"green\",\"green\",\"green\"]},\"mode\":\"markers\",\"x\":[-0.9164074817086663,-1.0360352601677667,-0.7588015774488542,-0.5268112783977977,-0.8440462564128408,0.9998440112281686,0.6792971028894723,1.0],\"y\":[-0.1571340546911104,-0.17764632489641577,-0.13010977207239344,-0.09033098690694723,-0.1447264598600998,0.17144070370308898,0.11647734250044124,0.17146745070012748],\"type\":\"scatter\"}],\"name\":\"46\"},{\"data\":[{\"marker\":{\"color\":[\"red\",\"red\",\"red\",\"blue\",\"blue\",\"green\",\"green\",\"green\"]},\"mode\":\"markers\",\"x\":[-1.1094440368778482,-1.041011993484425,-1.0209393641140911,-0.6610926850950092,-0.8562081333441465,1.0,0.9427775168812023,0.9629314611065998],\"y\":[-0.19023354069766604,-0.17849967267081365,-0.17505787008383455,-0.11335587739002287,-0.14681182589305192,0.17146745069992758,0.16165565739682722,0.16511140283470438],\"type\":\"scatter\"}],\"name\":\"47\"},{\"data\":[{\"marker\":{\"color\":[\"red\",\"red\",\"red\",\"blue\",\"blue\",\"green\",\"green\",\"green\"]},\"mode\":\"markers\",\"x\":[-1.067326214777136,-0.9882909879393199,-1.0067516319138423,-0.9280735779266566,-0.9813828243054822,0.9923650434159004,1.0,0.9240239544533434],\"y\":[-0.18301170511310705,-0.16945973625173555,-0.17262513581232145,-0.15913441046910046,-0.16827521104441037,0.17015830415830865,0.17146745069998953,0.15844003185583763],\"type\":\"scatter\"}],\"name\":\"48\"},{\"data\":[{\"marker\":{\"color\":[\"red\",\"red\",\"red\",\"blue\",\"blue\",\"green\",\"green\",\"green\"]},\"mode\":\"markers\",\"x\":[-0.9923896246591161,-0.8010291878153833,-0.80477799559107,-0.6923942731598759,-0.8123006858563007,0.7313815976964373,0.8886898760696436,1.0],\"y\":[-0.17016251904001944,-0.13735043276985945,-0.1379932312823152,-0.11872308089702181,-0.1392831278044896,0.1254081380448643,0.1523813875113016,0.1714674506985825],\"type\":\"scatter\"}],\"name\":\"49\"},{\"data\":[{\"marker\":{\"color\":[\"red\",\"red\",\"red\",\"blue\",\"blue\",\"green\",\"green\",\"green\"]},\"mode\":\"markers\",\"x\":[-0.838522707557636,-0.7423003591535333,-0.8215303053361283,-0.7245774421645372,-0.7070757973696018,1.0,0.7260103807386914,0.8769530842860311],\"y\":[-0.14377935101854017,-0.12728035023737064,-0.1408657071283578,-0.12424144684230869,-0.12124048442627318,0.17146745069948763,0.12448714916662805,0.15036890974557887],\"type\":\"scatter\"}],\"name\":\"50\"},{\"data\":[{\"marker\":{\"color\":[\"red\",\"red\",\"red\",\"blue\",\"blue\",\"green\",\"green\",\"green\"]},\"mode\":\"markers\",\"x\":[-0.7958934275574387,-1.0359209638789049,-0.818317877166243,-0.7452619442348507,-0.7496650890216813,0.9576381386338996,0.7690880903848519,1.0],\"y\":[-0.1364698170115781,-0.17762672675911279,-0.14031488022601063,-0.12778816567207643,-0.1285431616560913,0.16420377028527755,0.13187357418979592,0.17146745065975405],\"type\":\"scatter\"}],\"name\":\"51\"},{\"data\":[{\"marker\":{\"color\":[\"red\",\"red\",\"red\",\"blue\",\"blue\",\"green\",\"green\",\"green\"]},\"mode\":\"markers\",\"x\":[-0.8629968655646306,-0.8433817566645369,-1.0251534242839928,-0.8575506826649854,-0.7738443367541236,0.7944431371964641,1.0,0.9355552555898552],\"y\":[-0.14797587239212662,-0.14461251967579355,-0.17578044410841934,-0.14704202929557494,-0.13268911556539256,0.13622113936081187,0.17146745057360638,0.16041727454688073],\"type\":\"scatter\"}],\"name\":\"52\"},{\"data\":[{\"marker\":{\"color\":[\"red\",\"red\",\"red\",\"blue\",\"blue\",\"green\",\"green\",\"green\"]},\"mode\":\"markers\",\"x\":[-0.7346093308662848,-0.9539534476281328,-0.7647368860491276,-0.728359699017104,-0.8448164885099352,0.9100038103840703,1.0,0.8809591364338465],\"y\":[-0.12596158913154742,-0.16357196563111737,-0.13112748421077833,-0.12488998069134188,-0.144858529487723,0.15603603337922556,0.17146745057404725,0.15105581718422603],\"type\":\"scatter\"}],\"name\":\"53\"},{\"data\":[{\"marker\":{\"color\":[\"red\",\"red\",\"red\",\"blue\",\"blue\",\"green\",\"green\",\"green\"]},\"mode\":\"markers\",\"x\":[-0.8947667591630574,-1.1021829517024622,-0.820841206776283,-0.7460992130482366,-0.7739633246766933,0.8715278917542753,1.0,0.7235790266015909],\"y\":[-0.15342337505211762,-0.18898850079463028,-0.14074754905207723,-0.1279317299367058,-0.13270951812014817,0.1494386657033041,0.17146745057407517,0.12407025098024566],\"type\":\"scatter\"}],\"name\":\"54\"},{\"data\":[{\"marker\":{\"color\":[\"red\",\"red\",\"red\",\"blue\",\"blue\",\"green\",\"green\",\"green\"]},\"mode\":\"markers\",\"x\":[-0.9572110772787794,-1.061798908453636,-0.9577022549116977,-0.8808581371295092,-0.8811171705813365,0.9999122852103659,0.9949616815697325,1.0],\"y\":[-0.16413054308224878,-0.18206395185487317,-0.1642147640587443,-0.15103849909101857,-0.15108291489661674,0.17145241034271191,0.17060354295764962,0.17146745057406781],\"type\":\"scatter\"}],\"name\":\"55\"},{\"data\":[{\"marker\":{\"color\":[\"red\",\"red\",\"red\",\"blue\",\"blue\",\"green\",\"green\",\"green\"]},\"mode\":\"markers\",\"x\":[-0.991987516483513,-0.7732537901837075,-1.0195381795992742,-0.7529411983182465,-0.5715396545021979,0.976984357044938,1.0,0.7257045670224191],\"y\":[-0.1700935704527221,-0.13258785604952986,-0.1748176124188062,-0.12910490770780797,-0.09800044745947122,0.16752101695323335,0.1714674505740613,0.12443471197728681],\"type\":\"scatter\"}],\"name\":\"56\"},{\"data\":[{\"marker\":{\"color\":[\"red\",\"red\",\"red\",\"blue\",\"blue\",\"green\",\"green\",\"green\"]},\"mode\":\"markers\",\"x\":[-0.8950995390963674,-0.8982862087620739,-0.9998480975056461,0.5519660933182355,-0.4815928219949077,0.8758275265648586,1.0,0.904075553771323],\"y\":[-0.15348043597882527,-0.15402684610222994,-0.17144140424056964,0.09464421882457512,-0.08257749340221072,0.15017591312261894,0.17146745057401172,0.15501953033145655],\"type\":\"scatter\"}],\"name\":\"57\"},{\"data\":[{\"marker\":{\"color\":[\"red\",\"red\",\"red\",\"blue\",\"blue\",\"green\",\"green\",\"green\"]},\"mode\":\"markers\",\"x\":[-0.9849588276379281,-0.9242640568519395,-1.2168818233515504,-0.7040427483586088,-0.8644028215773024,0.983411538584531,1.0,0.7454474202771126],\"y\":[-0.16888837909542695,-0.15848120148559805,-0.20865562389993497,-0.12072041515616655,-0.14821694808484756,0.16862306938615176,0.17146745057400814,0.12781996869188786],\"type\":\"scatter\"}],\"name\":\"58\"},{\"data\":[{\"marker\":{\"color\":[\"red\",\"red\",\"red\",\"blue\",\"blue\",\"green\",\"green\",\"green\"]},\"mode\":\"markers\",\"x\":[-0.8146004633348992,-0.8617924160230568,-0.9219838081667316,-0.6807921826894004,-0.680356567450411,0.8665411853788088,0.8076494661188319,1.0],\"y\":[-0.13967746468443842,-0.14776934849948523,-0.15809021305686177,-0.1167336999364631,-0.11665900610200244,0.14858360787428582,0.13848559491285728,0.17146745057400284],\"type\":\"scatter\"}],\"name\":\"59\"},{\"data\":[{\"marker\":{\"color\":[\"red\",\"red\",\"red\",\"blue\",\"blue\",\"green\",\"green\",\"green\"]},\"mode\":\"markers\",\"x\":[-0.8907307055455421,-1.037523568640739,-0.9184195762860222,-0.8519551087169297,-0.8582769677355535,0.825344173926737,1.0,0.8644666538472278],\"y\":[-0.15273132322809616,-0.17790152122552733,-0.15747906330324848,-0.14608257049540216,-0.1471665635442143,0.14151966134952834,0.1714674505742512,0.14822789324163715],\"type\":\"scatter\"}],\"name\":\"60\"},{\"data\":[{\"marker\":{\"color\":[\"red\",\"red\",\"red\",\"blue\",\"blue\",\"green\",\"green\",\"green\"]},\"mode\":\"markers\",\"x\":[-1.0994357234426013,-0.9680506026965452,-1.1053464360023069,-0.7923743341598284,-0.8270473786860141,0.9385232053372965,0.9894011239808898,1.0],\"y\":[-0.1886566846347262,-0.16611177311849956,-0.18967092830916732,-0.1359667617982945,-0.14191645162177188,0.16104504581938875,0.16977539653884863,0.17159410114177934],\"type\":\"scatter\"}],\"name\":\"61\"},{\"data\":[{\"marker\":{\"color\":[\"red\",\"red\",\"red\",\"blue\",\"blue\",\"green\",\"green\",\"green\"]},\"mode\":\"markers\",\"x\":[-0.8659575372132385,-0.9298810924354989,-0.9792735373248955,-0.46043784273860283,-0.7660349905696974,0.7074479812673732,1.0,0.9052483473537857],\"y\":[-0.14859320568350534,-0.15956211073831886,-0.16803756294516403,-0.07900841782067407,-0.13144708601145372,0.12139390084005033,0.17159410169486636,0.1553352769729421],\"type\":\"scatter\"}],\"name\":\"62\"},{\"data\":[{\"marker\":{\"color\":[\"red\",\"red\",\"red\",\"blue\",\"blue\",\"green\",\"green\",\"green\"]},\"mode\":\"markers\",\"x\":[-0.7517441205948799,-0.9616585095405839,-0.9835786642726317,-0.6830780581234956,-0.8932116405541448,0.8684380505050255,0.8871266548903285,1.0],\"y\":[-0.12899422249704642,-0.16501411630288126,-0.16877546705936372,-0.11721158915443873,-0.15326909508439637,0.14901811406665122,0.15222495257219484,0.1715932575501464],\"type\":\"scatter\"}],\"name\":\"63\"},{\"data\":[{\"marker\":{\"color\":[\"red\",\"red\",\"red\",\"blue\",\"blue\",\"green\",\"green\",\"green\"]},\"mode\":\"markers\",\"x\":[-0.8236165975899095,-1.1852831090134384,-1.0055202269196135,-0.7267605530116839,-0.8225960239394982,0.9066370214287529,0.7323886988122166,1.0],\"y\":[-0.1413270549554861,-0.20338658979881905,-0.17254049127309753,-0.12470721075261824,-0.14115193139820478,0.1555727999255698,0.12567296262456715,0.17159325755350208],\"type\":\"scatter\"}],\"name\":\"64\"},{\"data\":[{\"marker\":{\"color\":[\"red\",\"red\",\"red\",\"blue\",\"blue\",\"green\",\"green\",\"green\"]},\"mode\":\"markers\",\"x\":[-0.8335791151889294,-0.7422172436739922,-0.7826591101595668,-0.7199572223992668,-0.8008321786013516,1.0,0.7307047540676533,0.8004963026866057],\"y\":[-0.14303655580383892,-0.12735947465441375,-0.13429902626622114,-0.12353980509067344,-0.13741740227987556,0.17159325755351695,0.1253840090603089,0.13735976823753962],\"type\":\"scatter\"}],\"name\":\"65\"}]);\n",
       "                        }).then(function(){\n",
       "                            \n",
       "var gd = document.getElementById('f419ff50-3c74-40c2-af6a-1e5e81c4b7ce');\n",
       "var x = new MutationObserver(function (mutations, observer) {{\n",
       "        var display = window.getComputedStyle(gd).display;\n",
       "        if (!display || display === 'none') {{\n",
       "            console.log([gd, 'removed!']);\n",
       "            Plotly.purge(gd);\n",
       "            observer.disconnect();\n",
       "        }}\n",
       "}});\n",
       "\n",
       "// Listen for the removal of the full notebook cells\n",
       "var notebookContainer = gd.closest('#notebook-container');\n",
       "if (notebookContainer) {{\n",
       "    x.observe(notebookContainer, {childList: true});\n",
       "}}\n",
       "\n",
       "// Listen for the clearing of the current output cell\n",
       "var outputEl = gd.closest('.output');\n",
       "if (outputEl) {{\n",
       "    x.observe(outputEl, {childList: true});\n",
       "}}\n",
       "\n",
       "                        })                };                });            </script>        </div>"
      ]
     },
     "metadata": {},
     "output_type": "display_data"
    }
   ],
   "source": [
    "fig = create_trace_plot(neuron_group.log[::10000], colors = color_list)\n",
    "fig.show()"
   ]
  },
  {
   "cell_type": "markdown",
   "metadata": {},
   "source": [
    "## NodeSyncMap"
   ]
  },
  {
   "cell_type": "code",
   "execution_count": null,
   "metadata": {},
   "outputs": [],
   "source": [
    "def calculate_pairwise_distances(arr):\n",
    "    \"\"\"\n",
    "    Calculate the pairwise distances between samples in a NumPy array.\n",
    "\n",
    "    Parameters:\n",
    "    arr (np.ndarray): A 2D NumPy array of shape (N, d) where N is the number of samples\n",
    "                        and d is the dimension of each sample.\n",
    "\n",
    "    Returns:\n",
    "    np.ndarray: A 2D NumPy array of shape (N, N) where each element (i, j) represents\n",
    "                the distance between sample i and sample j.\n",
    "    \"\"\"\n",
    "\n",
    "    # Calculate the pairwise distances\n",
    "    diff = arr[np.newaxis, :, :] - arr[:, np.newaxis, :] \n",
    "    squared_diff = diff ** 2\n",
    "    squared_dist = np.sum(squared_diff, axis=-1)\n",
    "    distances = np.sqrt(squared_dist)\n",
    "    return distances"
   ]
  },
  {
   "cell_type": "code",
   "execution_count": null,
   "metadata": {},
   "outputs": [],
   "source": [
    "a00 = np.array([[-1,0], [1,0], [0,2]])\n",
    "a00_coord_diff = a00[np.newaxis, :, :] - a00[:, np.newaxis, :]\n",
    "pair_dist = calculate_pairwise_distances(a00.reshape(3, 2))\n",
    "a00_coord_diff"
   ]
  },
  {
   "cell_type": "code",
   "execution_count": null,
   "metadata": {},
   "outputs": [],
   "source": [
    "with np.errstate(divide='ignore', invalid='ignore'):\n",
    "    ttk = np.nan_to_num(a00_coord_diff / pair_dist[:, :, np.newaxis] ** 3, nan=0).sum(axis=0)\n",
    "\n",
    "ttk"
   ]
  },
  {
   "cell_type": "code",
   "execution_count": null,
   "metadata": {},
   "outputs": [],
   "source": [
    "# pair_dist[:, :, np.newaxis]\n",
    "# a00_coord_diff\n",
    "print(np.broadcast_to(a00[np.newaxis, :, :], (3, 3, 2)))\n",
    "print('---')\n",
    "print(np.broadcast_to(a00[:, np.newaxis, :], (3, 3, 2)))\n",
    "# a00 = np.arange(12).reshape(3, 4)\n",
    "# np.broadcast_to(a00[:, np.newaxis, :], (3, 3, 4)) == np.broadcast_to(a00[np.newaxis, :, :], (3, 3, 4)).transpose(1, 0, 2)\n"
   ]
  },
  {
   "cell_type": "code",
   "execution_count": null,
   "metadata": {},
   "outputs": [],
   "source": [
    "#| export\n",
    "# class SMNode(object):\n",
    "#     def __init__(self, dimensions):\n",
    "#         self.dimensions = dimensions\n",
    "#         self.coordinates = np.random.rand(dimensions)\n",
    "\n",
    "#     def __repr__(self):\n",
    "#         return f\"SMNode({self.coordinates})\"\n",
    "\n",
    "\n",
    "class NodeSyncMap(LightSyncMap):\n",
    "    def __init__(self, input_size, dimensions, adaptation_rate, ):\n",
    "        super().__init__(input_size, dimensions, adaptation_rate)\n",
    "        # self.plus_factor = 1\n",
    "        # self.minus_factor = 0.1\n",
    "        # self.repel_range = 1\n",
    "        # self.attract_range = 1\n",
    "        # TODO: turing the above into a parameter\n",
    "        self.plus_factor = 1\n",
    "        self.minus_factor = 0.1\n",
    "        self.repel_range = 1\n",
    "        self.attract_range = 0.0001\n",
    "        self.history_repel = np.zeros((input_size, input_size))\n",
    "        \n",
    "        # self.plus_factor = 1\n",
    "        # self.minus_factor = 0.1\n",
    "        # self.repel_range = 1\n",
    "        # self.attract_range = 0.0001\n",
    "  \n",
    "        # attract_range = 0.0001 ~ 无吸引力变化\n",
    "    def calculate_pairwise_distances(self, arr):\n",
    "        \"\"\"\n",
    "        Calculate the pairwise distances between samples in a NumPy array.\n",
    "\n",
    "        Parameters:\n",
    "        arr (np.ndarray): A 2D NumPy array of shape (N, d) where N is the number of samples\n",
    "                            and d is the dimension of each sample.\n",
    "\n",
    "        Returns:\n",
    "        np.ndarray: A 2D NumPy array of shape (N, N) where each element (i, j) represents\n",
    "                    the distance between sample i and sample j.\n",
    "        \"\"\"\n",
    "\n",
    "        # Calculate the pairwise distances\n",
    "        diff = arr[np.newaxis, :, :] - arr[:, np.newaxis, :] \n",
    "        squared_diff = diff ** 2\n",
    "        squared_dist = np.sum(squared_diff, axis=-1)\n",
    "        distances = np.sqrt(squared_dist)\n",
    "        return distances\n",
    "\n",
    "    # def update(self, update_plus, update_minus,  dist_plus, dist_minus, syncmap_arr):\n",
    "    #     \"\"\"\n",
    "    #     Update the syncmap using a distance-weighted update rule.\n",
    "\n",
    "    #     Parameters:\n",
    "    #     update_plus (np.ndarray): The update of the activated state.\n",
    "    #     update_minus (np.ndarray): The update of the deactivated state.\n",
    "    #     dist_plus (np.ndarray): The distance of each node to the centroid of the activated state.\n",
    "    #     dist_minus (np.ndarray): The distance of each node to the centroid of the deactivated state.\n",
    "    #     syncmap_arr (np.ndarray): The current syncmap.\n",
    "\n",
    "    #     Returns:\n",
    "    #     np.ndarray: The updated syncmap.\n",
    "    #     \"\"\"\n",
    "\n",
    "    #     # Calculate the distance-weighted update\n",
    "    #     syncmap_new = syncmap_arr.copy()\n",
    "    #     update_value = self.plus_factor * update_plus / dist_plus ** 1 - update_minus / dist_minus ** 1\n",
    "    #     syncmap_new += self.adaptation_rate * update_value\n",
    "    #     # maximum = np.abs(syncmap_arr).max()\n",
    "    #     maximum = 1\n",
    "    #     return syncmap_new / maximum\n",
    "\n",
    "    # def max_move_distance_test(self, syncmap_previous, new_syncmap, vplus, vminus, center_plus, center_minus, dist_plus, dist_minus):\n",
    "    #     '''\n",
    "    #     When positive nodes come across the center, replace the position of the positive nodes with the center\n",
    "    #     '''\n",
    "    #     corresponding_center = np.zeros((self.input_size, self.dimensions))\n",
    "    #     corresponding_center[vplus] = center_plus\n",
    "    #     # corresponding_center[vminus] = center_minus\n",
    "\n",
    "    #     origl_dist = np.zeros((self.input_size))\n",
    "    #     origl_dist[vplus] = dist_plus.squeeze()[vplus]\n",
    "    #     # origl_dist[vminus] = dist_minus.squeeze()[vminus]\n",
    "\n",
    "    #     Moved_dist = ((new_syncmap - syncmap_previous) ** 2).sum(axis = -1)\n",
    "    #     Moved_dist[vminus] = 0\n",
    "\n",
    "    #     over_moved = (Moved_dist - origl_dist) > 1e-5\n",
    "    #     # if over_moved.sum() != 0:\n",
    "    #     #     print('.')\n",
    "\n",
    "    #     new_syncmap[over_moved] = corresponding_center[over_moved]\n",
    "        \n",
    "    #     # TODO: 添加有限排斥，以及排斥距离上限\n",
    "    #     return new_syncmap\n",
    "\n",
    "\n",
    "    def max_move_distance_test(self, syncmap_previous, new_syncmap, vplus, vminus, center_plus, center_minus, dist_plus, dist_minus):\n",
    "        '''\n",
    "        When positive nodes come across the center, replace the position of the positive nodes with the center\n",
    "        '''\n",
    "\n",
    "        dist_Moved = distance.cdist(center_plus[None,:], new_syncmap, 'euclidean').T\n",
    "        dist_mask = dist_Moved[vplus] < dist_plus[vplus]\n",
    "        if np.all(dist_mask) == True:\n",
    "            return new_syncmap\n",
    "        else:\n",
    "            new_syncmap[vplus] = center_plus\n",
    "            return new_syncmap\n",
    "\n",
    "\n",
    "    # def compute_update(self, syncmap_previous, vplus, vminus):\n",
    "    #     all2all_distance = self.calculate_pairwise_distances(syncmap_previous)\n",
    "    #     all_coordinate_diff = syncmap_previous[np.newaxis, :, :] - syncmap_previous[:, np.newaxis, :]  # 这个方向代表了排斥\n",
    "        \n",
    "    #     with np.errstate(divide='ignore', invalid='ignore'):\n",
    "    #         all_coordinate_diff_sin_cos = np.nan_to_num(all_coordinate_diff / all2all_distance[:, :, np.newaxis] ** 2, nan=0)  # ** 2是为了引入平方反比关系\n",
    "    #     # TODO: 平方反比太大了，用指数吧\n",
    "    #     # 在sum之前乘以系数可以为每个variable的排斥力加权； \n",
    "    #     minus_mask = (vminus[:, np.newaxis] @ vminus[np.newaxis, :])  # 防止正向对fuixiang\n",
    "    #     plus_mask  = (vplus[:, np.newaxis] @ vplus[np.newaxis, :])\n",
    "    #     dist_mask = np.broadcast_to((all2all_distance >  self.repel_range)[..., np.newaxis], (*all2all_distance.shape, self.dimensions)) # 超过这个距离的点不作用\n",
    "    #     update_minus = all_coordinate_diff_sin_cos.copy()\n",
    "    #     update_plus = -all_coordinate_diff_sin_cos.copy()  # 由于87行表明的原始方向是排斥的，所以这里是负号\n",
    "    #     update_minus[~minus_mask] = 0  # ~minus_mask: 所有含有正向的variables update全部置零\n",
    "    #     update_minus[dist_mask] = 0\n",
    "        \n",
    "    #     update_plus[~plus_mask] = 0\n",
    "\n",
    "\n",
    "    #     # mask = np.broadcast_to((all2all_distance>0.5 & vminus[:, np.newaxis])[..., np.newaxis], (all2all_distance[0], all2all_distance[1], self.dimensions) ) # N, N, D\n",
    "    #     # all_coordinate_diff_sin_cos[mask] = 0\n",
    "\n",
    "    #     # all_coordinate_diff_sin_cos = all_coordinate_diff_sin_cos.sum(axis=0)\n",
    "    #     update_minus = update_minus.sum(axis=0)\n",
    "    #     update_plus = update_plus.sum(axis=0)\n",
    "\n",
    "    #     update_minus[update_minus>20] = 20\n",
    "    #     update_minus[update_minus<-20] = -20\n",
    "\n",
    "    #     update_plus[update_plus>20] = 20\n",
    "    #     update_plus[update_plus<-20] = -20\n",
    "\n",
    "    #     # update_minus = all_coordinate_diff_sin_cos * vminus[:,np.newaxis]\n",
    "    #     # 其实在这里稍微改一下就可以把vplus也算出来\n",
    "    #     # update_plus =  - all_coordinate_diff_sin_cos * vplus[:,np.newaxis]\n",
    "    #     return self.plus_factor * update_plus, self.minus_factor * update_minus\n",
    "\n",
    "    def exp_update(self, dist, affective_range):\n",
    "        return np.exp(- dist / affective_range)\n",
    "\n",
    "    def repel_constant_update(self, plus_mask, minus_mask):\n",
    "        '''\n",
    "            return: (N, N, D)\n",
    "        '''\n",
    "        self.history_repel += minus_mask\n",
    "        self.history_repel[plus_mask] = 0\n",
    "        self.history_repel = np.minimum(self.history_repel, 1000)\n",
    "        return self.history_repel[:,:,np.newaxis]/1000\n",
    "\n",
    "    def compute_update(self, syncmap_previous, vplus, vminus):\n",
    "        all2all_distance = self.calculate_pairwise_distances(syncmap_previous)  # (N, N)\n",
    "        all_coordinate_diff = syncmap_previous[np.newaxis, :, :] - syncmap_previous[:, np.newaxis, :]  # 这个方向代表了排斥\n",
    "        \n",
    "        with np.errstate(divide='ignore', invalid='ignore'):\n",
    "            all_coordinate_diff_sin_cos = np.nan_to_num(all_coordinate_diff / all2all_distance[:, :, np.newaxis] ** 1, nan=0)  # ** 2是为了引入距离关系， ** 1仅仅是方向向量 （N, N, D）\n",
    "        # 在sum之前乘以系数可以为每个variable的排斥力加权； \n",
    "        minus_mask = (vminus[:, np.newaxis] @ vminus[np.newaxis, :])  # 防止正向对fuixiang\n",
    "        plus_mask  = (vplus[:, np.newaxis] @ vplus[np.newaxis, :])\n",
    "\n",
    "        # update_minus = all_coordinate_diff_sin_cos.copy() * self.exp_update(\n",
    "        #     all2all_distance.copy()[:, :, np.newaxis], self.repel_range) * (1+ self.repel_constant_update(plus_mask, minus_mask))\n",
    "\n",
    "\n",
    "        update_minus = all_coordinate_diff_sin_cos.copy() * (self.exp_update(\n",
    "            all2all_distance.copy()[:, :, np.newaxis], self.repel_range) + self.repel_constant_update(plus_mask, minus_mask))\n",
    "        \n",
    "        # update_minus = all_coordinate_diff_sin_cos.copy()\n",
    "        update_plus = -all_coordinate_diff_sin_cos.copy() * (1 + self.exp_update(\n",
    "            all2all_distance.copy()[:, :, np.newaxis], self.attract_range))  # 由于87行表明的原始方向是排斥的，所以这里是负号\n",
    "\n",
    "        update_minus[~minus_mask] = 0  # ~minus_mask: 所有含有正向的variables update全部置零\n",
    "        update_plus[~plus_mask] = 0\n",
    "\n",
    "\n",
    "        # mask = np.broadcast_to((all2all_distance>0.5 & vminus[:, np.newaxis])[..., np.newaxis], (all2all_distance[0], all2all_distance[1], self.dimensions) ) # N, N, D\n",
    "        # all_coordinate_diff_sin_cos[mask] = 0\n",
    "\n",
    "        # all_coordinate_diff_sin_cos = all_coordinate_diff_sin_cos.sum(axis=0)\n",
    "        update_minus = update_minus.sum(axis=0)\n",
    "        update_plus = update_plus.sum(axis=0)\n",
    "\n",
    "        # update_minus[update_minus>20] = 20\n",
    "        # update_minus[update_minus<-20] = -20\n",
    "\n",
    "        # update_plus[update_plus>20] = 20\n",
    "        # update_plus[update_plus<-20] = -20\n",
    "\n",
    "        return self.plus_factor * update_plus, self.minus_factor * update_minus\n",
    "\n",
    "\n",
    "\n",
    "    def one_step_organize(self, vplus, vminus):\n",
    "        syncmap_previous = self.syncmap.copy()\n",
    "        syncmap_previous += np.random.normal(-1e-5, 1e-5, syncmap_previous.shape)\n",
    "        center_plus  = self.get_center(vplus, syncmap_previous)\n",
    "        center_minus = self.get_center(vminus, syncmap_previous)\n",
    "        \n",
    "        if center_plus is None or center_minus is None:\n",
    "            return None\n",
    "\n",
    "        dist_plus= distance.cdist(center_plus[None,:], syncmap_previous, 'euclidean').T\n",
    "        dist_minus= distance.cdist(center_minus[None,:], syncmap_previous, 'euclidean').T\n",
    "        # UPDATE BY USING CENTER\n",
    "        # # abstract by center\n",
    "        # update_plus= vplus[:,np.newaxis]*((center_plus - syncmap_previous)/(dist_plus))\n",
    "        # # repel by every variable\n",
    "        # update_minus= vminus[:,np.newaxis]*((center_minus - syncmap_previous)/(dist_minus))  # the mod is 1\n",
    "        \n",
    "        # disable the update of too far nodes\n",
    "        # update_plus[dist_plus.squeeze()>0.5] = 0\n",
    "        # update_minus[dist_minus.squeeze()>0.5] = 0\n",
    "\n",
    "        # new_syncmap = self.update(update_plus, update_minus,  dist_plus, dist_minus, syncmap_previous)\n",
    "\n",
    "        # UPDATE BY USING ALL-TO-ALL\n",
    "        update_plus, update_minus = self.compute_update(syncmap_previous, vplus, vminus)\n",
    "        update_value = update_plus + update_minus  # 确实是加号\n",
    "        new_syncmap = self.syncmap.copy()\n",
    "        new_syncmap += self.adaptation_rate * update_value\n",
    "\n",
    "\n",
    "        # new_syncmap = self.max_move_distance_test(syncmap_previous, new_syncmap, vplus, vminus, center_plus, center_minus, dist_plus, dist_minus)\n",
    "\n",
    "        # new_syncmap = new_syncmap / np.abs(new_syncmap).max()\n",
    "\n",
    "        self.fit_log.append(new_syncmap)\n",
    "        return new_syncmap\n"
   ]
  },
  {
   "cell_type": "code",
   "execution_count": null,
   "metadata": {},
   "outputs": [
    {
     "name": "stdout",
     "output_type": "stream",
     "text": [
      "Adaptation rate: 0.0004\n"
     ]
    }
   ],
   "source": [
    "# initialize the environment\n",
    "time_delay = 10\n",
    "env = OverlapChunkTest1(time_delay)\n",
    "output_size = env.getOutputSize()\n",
    "output_size\n",
    "\n",
    "sequence_length = int(100000 * 10)\n",
    "# sequence_length = int(100000 * 0.8)  #  accuracy\n",
    "\n",
    "####### SyncMap #####\n",
    "number_of_nodes= output_size\n",
    "# adaptation_rate= 0.0005*output_size  # original\n",
    "adaptation_rate= 0.00005*output_size\n",
    "print(\"Adaptation rate:\", adaptation_rate)\n",
    "map_dimensions= 2\n",
    "neuron_group= NodeSyncMap(number_of_nodes, map_dimensions, adaptation_rate)\n",
    "input_sequence, input_class = env.getSequence(sequence_length)"
   ]
  },
  {
   "cell_type": "code",
   "execution_count": null,
   "metadata": {},
   "outputs": [
    {
     "data": {
      "text/plain": [
       "array([[ 210.,  188.,  144.,  133.,  143.,  539., 1000.,  364.],\n",
       "       [ 188.,  133.,  551.,  133.,   88.,  110., 1000., 1000.],\n",
       "       [ 144.,  551.,    1.,    1.,    0.,  539., 1000., 1000.],\n",
       "       [ 133.,  133.,    1.,   12.,    0.,   11.,   45.,   23.],\n",
       "       [ 143.,   88.,    0.,    0.,    0.,    0.,  110.,  165.],\n",
       "       [ 539.,  110.,  539.,   11.,    0.,    0.,   44.,  165.],\n",
       "       [1000., 1000., 1000.,   45.,  110.,   44.,   56.,   56.],\n",
       "       [ 364., 1000., 1000.,   23.,  165.,  165.,   56.,   67.]])"
      ]
     },
     "execution_count": null,
     "metadata": {},
     "output_type": "execute_result"
    }
   ],
   "source": [
    "neuron_group.history_repel"
   ]
  },
  {
   "cell_type": "code",
   "execution_count": null,
   "metadata": {},
   "outputs": [
    {
     "name": "stderr",
     "output_type": "stream",
     "text": [
      "100%|██████████| 1000000/1000000 [00:39<00:00, 25380.02it/s]"
     ]
    },
    {
     "name": "stdout",
     "output_type": "stream",
     "text": [
      "Learned Labels:  [0 0 0 1 1 2 2 2]\n",
      "Correct Labels:  [0 0 0 1 1 2 2 2]\n"
     ]
    },
    {
     "name": "stderr",
     "output_type": "stream",
     "text": [
      "\n"
     ]
    }
   ],
   "source": [
    "neuron_group.fit(input_sequence)\n",
    "labels= neuron_group.cluster()\n",
    "\n",
    "print(\"Learned Labels: \",labels)\n",
    "print(\"Correct Labels: \",env.trueLabel())"
   ]
  },
  {
   "cell_type": "code",
   "execution_count": null,
   "metadata": {},
   "outputs": [
    {
     "data": {
      "application/vnd.plotly.v1+json": {
       "config": {
        "plotlyServerURL": "https://plot.ly"
       },
       "data": [
        {
         "marker": {
          "color": [
           "red",
           "red",
           "red",
           "blue",
           "blue",
           "green",
           "green",
           "green"
          ]
         },
         "mode": "markers",
         "type": "scatter",
         "x": [
          0.40775471598479185,
          0.7885473454068666,
          0.4502828990627654,
          0.5263192921286343,
          0.7767598754031282,
          0.9810499940754991,
          0.8140211324823952,
          0.027454283465665367
         ],
         "y": [
          0.055760271449507945,
          0.2871983552222358,
          0.30351807400311764,
          0.6238071653406145,
          0.6862634708360569,
          0.6008037684280779,
          0.7087130557574329,
          0.9043016890669116
         ]
        }
       ],
       "frames": [
        {
         "data": [
          {
           "marker": {
            "color": [
             "red",
             "red",
             "red",
             "blue",
             "blue",
             "green",
             "green",
             "green"
            ]
           },
           "mode": "markers",
           "type": "scatter",
           "x": [
            0.40775471598479185,
            0.7885473454068666,
            0.4502828990627654,
            0.5263192921286343,
            0.7767598754031282,
            0.9810499940754991,
            0.8140211324823952,
            0.027454283465665367
           ],
           "y": [
            0.055760271449507945,
            0.2871983552222358,
            0.30351807400311764,
            0.6238071653406145,
            0.6862634708360569,
            0.6008037684280779,
            0.7087130557574329,
            0.9043016890669116
           ]
          }
         ],
         "name": "0"
        },
        {
         "data": [
          {
           "marker": {
            "color": [
             "red",
             "red",
             "red",
             "blue",
             "blue",
             "green",
             "green",
             "green"
            ]
           },
           "mode": "markers",
           "type": "scatter",
           "x": [
            0.2802688501086221,
            0.9308857520852147,
            0.32045454743919777,
            0.6129461337433149,
            0.6156932546219954,
            1.2895844629949413,
            0.7538492192849505,
            -0.03149268226851665
           ],
           "y": [
            -0.1721095192424278,
            -0.22604935352793265,
            0.133722490411022,
            0.6034567519815112,
            0.5799108105959357,
            0.9570943073359665,
            1.042262883487052,
            1.2520774790628189
           ]
          }
         ],
         "name": "1"
        },
        {
         "data": [
          {
           "marker": {
            "color": [
             "red",
             "red",
             "red",
             "blue",
             "blue",
             "green",
             "green",
             "green"
            ]
           },
           "mode": "markers",
           "type": "scatter",
           "x": [
            0.25428308381037174,
            0.8978805113508393,
            0.3620030950496348,
            0.6153662619052436,
            0.614588424526767,
            1.2459969761609275,
            0.8537400172819088,
            -0.07166883207596912
           ],
           "y": [
            -0.4506316578901377,
            -0.5136095944280838,
            -0.02782455909352095,
            0.5089428935271538,
            0.48799932016304187,
            1.1737637331672535,
            1.3563005178954632,
            1.6354251967627753
           ]
          }
         ],
         "name": "2"
        },
        {
         "data": [
          {
           "marker": {
            "color": [
             "red",
             "red",
             "red",
             "blue",
             "blue",
             "green",
             "green",
             "green"
            ]
           },
           "mode": "markers",
           "type": "scatter",
           "x": [
            0.257096159912817,
            0.9199238794635429,
            0.30989919304874985,
            0.6005817099521212,
            0.6002145115715245,
            1.1653516902386831,
            0.8153500395278709,
            0.10377235429437551
           ],
           "y": [
            -0.5847447724203507,
            -0.7740505910167559,
            -0.27100596585721454,
            0.5103776673328795,
            0.5001193400152583,
            1.305430006926465,
            1.7557397083300552,
            1.7285004567935973
           ]
          }
         ],
         "name": "3"
        },
        {
         "data": [
          {
           "marker": {
            "color": [
             "red",
             "red",
             "red",
             "blue",
             "blue",
             "green",
             "green",
             "green"
            ]
           },
           "mode": "markers",
           "type": "scatter",
           "x": [
            0.27854177789592177,
            0.8342306210272273,
            0.2852458252624879,
            0.5869298004029552,
            0.5772459910748907,
            1.3044547688205934,
            0.7122832799354666,
            0.19325747359013928
           ],
           "y": [
            -0.7522423167378611,
            -0.9177027758026395,
            -0.3948813155888026,
            0.49591726019762217,
            0.47604215152712703,
            1.5957155401835814,
            1.8509053125674337,
            1.8166119937574603
           ]
          }
         ],
         "name": "4"
        },
        {
         "data": [
          {
           "marker": {
            "color": [
             "red",
             "red",
             "red",
             "blue",
             "blue",
             "green",
             "green",
             "green"
            ]
           },
           "mode": "markers",
           "type": "scatter",
           "x": [
            0.2973639216601083,
            0.8383026495142375,
            0.23242991436504223,
            0.5681975390606985,
            0.5735409964403363,
            1.2520740622037947,
            0.8503716986405869,
            0.15990875612487707
           ],
           "y": [
            -0.8838600729283322,
            -1.1474520902252143,
            -0.38510535136063473,
            0.5197516718696861,
            0.5196862122500571,
            1.7213472889950248,
            1.9862760389332164,
            1.8397221525701373
           ]
          }
         ],
         "name": "5"
        },
        {
         "data": [
          {
           "marker": {
            "color": [
             "red",
             "red",
             "red",
             "blue",
             "blue",
             "green",
             "green",
             "green"
            ]
           },
           "mode": "markers",
           "type": "scatter",
           "x": [
            0.3111826930998313,
            0.7985681763649958,
            0.25143161099023154,
            0.5985453302783075,
            0.5941759104189086,
            1.1549824949651026,
            0.888801367975354,
            0.17450195391696322
           ],
           "y": [
            -1.065931707337775,
            -1.2749594268611417,
            -0.5791977177396063,
            0.6094829182241931,
            0.5711076303210916,
            1.7301608299239724,
            2.0991761986275557,
            2.080527124945654
           ]
          }
         ],
         "name": "6"
        },
        {
         "data": [
          {
           "marker": {
            "color": [
             "red",
             "red",
             "red",
             "blue",
             "blue",
             "green",
             "green",
             "green"
            ]
           },
           "mode": "markers",
           "type": "scatter",
           "x": [
            0.21689829308197248,
            0.8429453141056201,
            0.3139209834245979,
            0.5895403930510404,
            0.5864437470880658,
            1.119065281695555,
            0.8128666581340124,
            0.29050886742883403
           ],
           "y": [
            -1.2089944067096912,
            -1.3417390709532995,
            -0.5284641217224468,
            0.6005836955022037,
            0.5935154392514946,
            1.7716616365031885,
            2.1296881356155937,
            2.1541145426169193
           ]
          }
         ],
         "name": "7"
        },
        {
         "data": [
          {
           "marker": {
            "color": [
             "red",
             "red",
             "red",
             "blue",
             "blue",
             "green",
             "green",
             "green"
            ]
           },
           "mode": "markers",
           "type": "scatter",
           "x": [
            0.22720660427427733,
            0.8129763527785588,
            0.32291220285454514,
            0.6241497248212636,
            0.6242245463467307,
            1.0503252773717877,
            0.8236588874230083,
            0.2867359421395221
           ],
           "y": [
            -1.3058800117249731,
            -1.423000825945509,
            -0.6956675323952591,
            0.5841256345539965,
            0.5616254244848603,
            1.7499932485024654,
            2.158552682522678,
            2.5406172301056835
           ]
          }
         ],
         "name": "8"
        },
        {
         "data": [
          {
           "marker": {
            "color": [
             "red",
             "red",
             "red",
             "blue",
             "blue",
             "green",
             "green",
             "green"
            ]
           },
           "mode": "markers",
           "type": "scatter",
           "x": [
            0.2054584618479393,
            0.8551296452575121,
            0.3518722771869058,
            0.6176306941425224,
            0.6162852197657072,
            0.9159064990284983,
            0.888799610665458,
            0.3211071301151319
           ],
           "y": [
            -1.2977420446535468,
            -1.5264954298804532,
            -0.6802398441825538,
            0.5136860971182823,
            0.508174801048724,
            1.6740817519265108,
            2.3343749377614897,
            2.64452558096548
           ]
          }
         ],
         "name": "9"
        },
        {
         "data": [
          {
           "marker": {
            "color": [
             "red",
             "red",
             "red",
             "blue",
             "blue",
             "green",
             "green",
             "green"
            ]
           },
           "mode": "markers",
           "type": "scatter",
           "x": [
            0.26343194183999,
            0.7471741057678741,
            0.3841661908849985,
            0.6152995151606929,
            0.6148631708897424,
            0.8642620468859957,
            0.9179438006286279,
            0.36504876595174623
           ],
           "y": [
            -1.465174774292578,
            -1.3912434094000674,
            -0.779500999170362,
            0.48592980039920625,
            0.507569088012994,
            1.7022157488592955,
            2.469518695689169,
            2.641051700006305
           ]
          }
         ],
         "name": "10"
        },
        {
         "data": [
          {
           "marker": {
            "color": [
             "red",
             "red",
             "red",
             "blue",
             "blue",
             "green",
             "green",
             "green"
            ]
           },
           "mode": "markers",
           "type": "scatter",
           "x": [
            0.22670929997998046,
            0.7544696114390887,
            0.4050702934361822,
            0.6034211935866116,
            0.609419680991322,
            0.8425462286623385,
            0.9822546150200482,
            0.34829861489409014
           ],
           "y": [
            -1.580484589335344,
            -1.4956517524256996,
            -0.7734838377690378,
            0.5448643678525733,
            0.5618895328945825,
            1.73927855910409,
            2.591365495905722,
            2.582588073877069
           ]
          }
         ],
         "name": "11"
        },
        {
         "data": [
          {
           "marker": {
            "color": [
             "red",
             "red",
             "red",
             "blue",
             "blue",
             "green",
             "green",
             "green"
            ]
           },
           "mode": "markers",
           "type": "scatter",
           "x": [
            0.15746944736249283,
            0.8154833203924479,
            0.4181150342693735,
            0.6052191541133062,
            0.6061194347506451,
            0.8583233080145423,
            0.9820785046516243,
            0.32938133445523105
           ],
           "y": [
            -1.7140998041454596,
            -1.678816647682048,
            -0.7318564976861573,
            0.5726266874692567,
            0.5635577291770036,
            1.8177111031757056,
            2.5580522329591227,
            2.7831910468365715
           ]
          }
         ],
         "name": "12"
        },
        {
         "data": [
          {
           "marker": {
            "color": [
             "red",
             "red",
             "red",
             "blue",
             "blue",
             "green",
             "green",
             "green"
            ]
           },
           "mode": "markers",
           "type": "scatter",
           "x": [
            0.1726873941673232,
            0.752550231573334,
            0.43519238646557157,
            0.6119830559571775,
            0.6128623848894823,
            0.8214311770233964,
            1.0014628670700576,
            0.36402004086332773
           ],
           "y": [
            -1.747105747622718,
            -1.58836262205452,
            -0.941436225245545,
            0.5822602751430893,
            0.6075359816316555,
            1.9479959419764374,
            2.617709410472857,
            2.691768835802734
           ]
          }
         ],
         "name": "13"
        },
        {
         "data": [
          {
           "marker": {
            "color": [
             "red",
             "red",
             "red",
             "blue",
             "blue",
             "green",
             "green",
             "green"
            ]
           },
           "mode": "markers",
           "type": "scatter",
           "x": [
            0.16146818072588753,
            0.7594104020070924,
            0.422695844454911,
            0.6110629983667292,
            0.6083281203992534,
            0.8120075288495173,
            0.9947693213971421,
            0.4024471418091456
           ],
           "y": [
            -1.7231848413341029,
            -1.6665234527846517,
            -1.0804487269480842,
            0.5717529831684819,
            0.5522855799681051,
            2.1324618482209847,
            2.6975438861641186,
            2.686478573649134
           ]
          }
         ],
         "name": "14"
        },
        {
         "data": [
          {
           "marker": {
            "color": [
             "red",
             "red",
             "red",
             "blue",
             "blue",
             "green",
             "green",
             "green"
            ]
           },
           "mode": "markers",
           "type": "scatter",
           "x": [
            0.19365226307080122,
            0.705329102103195,
            0.4161748017788329,
            0.6033358372617906,
            0.6086285307588757,
            0.8264044542323108,
            1.02808976882139,
            0.39057477998247897
           ],
           "y": [
            -1.8279541926788438,
            -1.5158175621418537,
            -1.1511891458855628,
            0.45478705540426206,
            0.563516766599993,
            2.055565397275928,
            2.884591183374066,
            2.706866348156018
           ]
          }
         ],
         "name": "15"
        },
        {
         "data": [
          {
           "marker": {
            "color": [
             "red",
             "red",
             "red",
             "blue",
             "blue",
             "green",
             "green",
             "green"
            ]
           },
           "mode": "markers",
           "type": "scatter",
           "x": [
            0.2220343059856088,
            0.7271445535622469,
            0.3923947658764497,
            0.5844946527958489,
            0.58579010580177,
            0.8255436986147848,
            1.0356132224568673,
            0.39917423291609533
           ],
           "y": [
            -1.6779361737295875,
            -1.537495774588197,
            -1.209163039789564,
            0.38658534551935114,
            0.40379154341782236,
            2.138649223704472,
            2.9153333897343994,
            2.750601335835255
           ]
          }
         ],
         "name": "16"
        },
        {
         "data": [
          {
           "marker": {
            "color": [
             "red",
             "red",
             "red",
             "blue",
             "blue",
             "green",
             "green",
             "green"
            ]
           },
           "mode": "markers",
           "type": "scatter",
           "x": [
            0.11735206066099185,
            0.8019400170934573,
            0.3789851285738167,
            0.585118357950317,
            0.5809841398017679,
            0.8161076016478843,
            1.0353164438838824,
            0.4563857883975653
           ],
           "y": [
            -1.9069048538759437,
            -1.5938662600785747,
            -1.1974886707752872,
            0.3859613715658488,
            0.36502915670196195,
            2.3800440328416728,
            3.072435873387579,
            2.665155200336704
           ]
          }
         ],
         "name": "17"
        },
        {
         "data": [
          {
           "marker": {
            "color": [
             "red",
             "red",
             "red",
             "blue",
             "blue",
             "green",
             "green",
             "green"
            ]
           },
           "mode": "markers",
           "type": "scatter",
           "x": [
            0.15556842812052876,
            0.8072947014397301,
            0.3682060897853004,
            0.5765205870313033,
            0.5823597037951154,
            0.8571284308324268,
            1.00190821711585,
            0.4232033798894192
           ],
           "y": [
            -1.8787929160390142,
            -1.8056593247269548,
            -1.1174365189810738,
            0.4027367319809227,
            0.4092675600749071,
            2.3712760292442097,
            2.9441091737765266,
            2.8448651147744326
           ]
          }
         ],
         "name": "18"
        },
        {
         "data": [
          {
           "marker": {
            "color": [
             "red",
             "red",
             "red",
             "blue",
             "blue",
             "green",
             "green",
             "green"
            ]
           },
           "mode": "markers",
           "type": "scatter",
           "x": [
            0.19624485688053278,
            0.797759899642322,
            0.33091680127433903,
            0.5772187765419459,
            0.5809263121447223,
            0.8208528055029902,
            1.0892136423747911,
            0.3790564436480292
           ],
           "y": [
            -1.8595639436696403,
            -1.882077983203837,
            -1.0753493127044564,
            0.43197046252480137,
            0.43999376455838085,
            2.306297783511736,
            3.0514934266219145,
            2.757601652465091
           ]
          }
         ],
         "name": "19"
        },
        {
         "data": [
          {
           "marker": {
            "color": [
             "red",
             "red",
             "red",
             "blue",
             "blue",
             "green",
             "green",
             "green"
            ]
           },
           "mode": "markers",
           "type": "scatter",
           "x": [
            0.2548574579712084,
            0.7334697611281543,
            0.337584400787171,
            0.5771938690668945,
            0.5778308252789259,
            0.8527000607992139,
            1.0878137700299564,
            0.3507393929481333
           ],
           "y": [
            -1.804990107218505,
            -1.9002123189072548,
            -1.11659801113585,
            0.4420419251507078,
            0.4569517669071824,
            2.3372651975687493,
            3.028832527443256,
            2.727074870295656
           ]
          }
         ],
         "name": "20"
        },
        {
         "data": [
          {
           "marker": {
            "color": [
             "red",
             "red",
             "red",
             "blue",
             "blue",
             "green",
             "green",
             "green"
            ]
           },
           "mode": "markers",
           "type": "scatter",
           "x": [
            0.17259109033158082,
            0.75010466873795,
            0.37566530254412167,
            0.5880437234037527,
            0.5919199781393824,
            0.8716219829058925,
            1.0875790518492974,
            0.33466374009767463
           ],
           "y": [
            -2.0232397756404024,
            -1.6138531327963925,
            -1.148818035060793,
            0.44930655661199703,
            0.47765108085191055,
            2.2035646668512956,
            3.0464309210504434,
            2.779323568235886
           ]
          }
         ],
         "name": "21"
        },
        {
         "data": [
          {
           "marker": {
            "color": [
             "red",
             "red",
             "red",
             "blue",
             "blue",
             "green",
             "green",
             "green"
            ]
           },
           "mode": "markers",
           "type": "scatter",
           "x": [
            0.19261834344107315,
            0.759592511999829,
            0.3577123381321613,
            0.6016834851216954,
            0.5962234282179611,
            0.8705484511586148,
            1.0670126528623234,
            0.32679832707600664
           ],
           "y": [
            -1.961586792271399,
            -1.61565751469352,
            -1.2119389546095949,
            0.4775069995685583,
            0.4271923797456328,
            2.1548037335411916,
            2.958662993388009,
            2.941383005435075
           ]
          }
         ],
         "name": "22"
        },
        {
         "data": [
          {
           "marker": {
            "color": [
             "red",
             "red",
             "red",
             "blue",
             "blue",
             "green",
             "green",
             "green"
            ]
           },
           "mode": "markers",
           "type": "scatter",
           "x": [
            0.11602303050360732,
            0.8633869331537264,
            0.339864683932161,
            0.6135093625161675,
            0.6093818638716711,
            0.858626557977482,
            1.0195603859664601,
            0.35183672008839156
           ],
           "y": [
            -2.1012684737026945,
            -1.7658588662064463,
            -1.111640412114696,
            0.5160609291517986,
            0.50878300544075,
            2.19731467991982,
            2.8273212133012553,
            3.0996537743141577
           ]
          }
         ],
         "name": "23"
        },
        {
         "data": [
          {
           "marker": {
            "color": [
             "red",
             "red",
             "red",
             "blue",
             "blue",
             "green",
             "green",
             "green"
            ]
           },
           "mode": "markers",
           "type": "scatter",
           "x": [
            0.1255256394627767,
            0.8748681502182069,
            0.31809070181584753,
            0.6035570078049723,
            0.6039843036523607,
            0.8325781691473958,
            1.033475164679656,
            0.3801104012284487
           ],
           "y": [
            -2.113299936936239,
            -1.8350495641588724,
            -1.121561464994246,
            0.4799209354038555,
            0.47324474746673084,
            2.2780051356183586,
            2.905053449873601,
            3.1040525478307393
           ]
          }
         ],
         "name": "24"
        },
        {
         "data": [
          {
           "marker": {
            "color": [
             "red",
             "red",
             "red",
             "blue",
             "blue",
             "green",
             "green",
             "green"
            ]
           },
           "mode": "markers",
           "type": "scatter",
           "x": [
            0.13001007423939465,
            0.8667388497829508,
            0.3156343810905341,
            0.6063855213733064,
            0.6108509665243748,
            0.8060600626315736,
            1.0557345381734478,
            0.38077514419409103
           ],
           "y": [
            -2.1958351019193176,
            -1.8153995022221512,
            -1.1516993411997052,
            0.4622263690260009,
            0.5038721819556842,
            2.2052311908501077,
            2.944376226420301,
            3.2175938271930025
           ]
          }
         ],
         "name": "25"
        },
        {
         "data": [
          {
           "marker": {
            "color": [
             "red",
             "red",
             "red",
             "blue",
             "blue",
             "green",
             "green",
             "green"
            ]
           },
           "mode": "markers",
           "type": "scatter",
           "x": [
            0.15678088802123147,
            0.8455757040161812,
            0.33042577624113495,
            0.6045545474813241,
            0.6076480317214136,
            0.7624205246316663,
            1.0705798296665718,
            0.394204236230151
           ],
           "y": [
            -2.2455964139012314,
            -1.988349875800212,
            -1.0594324880099246,
            0.5313588649354237,
            0.5582782367806335,
            2.0689317996217818,
            3.0035045654076304,
            3.3016711610697995
           ]
          }
         ],
         "name": "26"
        },
        {
         "data": [
          {
           "marker": {
            "color": [
             "red",
             "red",
             "red",
             "blue",
             "blue",
             "green",
             "green",
             "green"
            ]
           },
           "mode": "markers",
           "type": "scatter",
           "x": [
            0.15339974800300094,
            0.8081515934151858,
            0.3422780723311011,
            0.607097140183522,
            0.6037742548377012,
            0.7817615798132428,
            1.0599131637857644,
            0.4158139856401513
           ],
           "y": [
            -2.394476729726987,
            -1.9184697912939133,
            -1.0547035102629538,
            0.5663491180767274,
            0.5723469482233963,
            2.206415954782559,
            3.063561586570449,
            3.129342273734661
           ]
          }
         ],
         "name": "27"
        },
        {
         "data": [
          {
           "marker": {
            "color": [
             "red",
             "red",
             "red",
             "blue",
             "blue",
             "green",
             "green",
             "green"
            ]
           },
           "mode": "markers",
           "type": "scatter",
           "x": [
            0.15062087299206112,
            0.7723103425649088,
            0.35749696398122144,
            0.6046142147792486,
            0.6039907773376111,
            0.7921838011692025,
            1.0723968240688382,
            0.41857574111659207
           ],
           "y": [
            -2.5534161639738535,
            -1.9525317490795175,
            -1.109990232100006,
            0.5604268754939187,
            0.5995992378788492,
            2.2523566962138357,
            3.1838023577795407,
            3.190118827891187
           ]
          }
         ],
         "name": "28"
        },
        {
         "data": [
          {
           "marker": {
            "color": [
             "red",
             "red",
             "red",
             "blue",
             "blue",
             "green",
             "green",
             "green"
            ]
           },
           "mode": "markers",
           "type": "scatter",
           "x": [
            0.17173342104630182,
            0.7650667072565199,
            0.34945805452087586,
            0.6045660551214592,
            0.6045108907569867,
            0.7869990165600742,
            1.0036200735591008,
            0.48623531918836516
           ],
           "y": [
            -2.5278109813084333,
            -1.9660580875447315,
            -1.1318386341757614,
            0.5825174649810851,
            0.5825833622483868,
            2.2783923904799748,
            3.123136524537846,
            3.2294438108856145
           ]
          }
         ],
         "name": "29"
        },
        {
         "data": [
          {
           "marker": {
            "color": [
             "red",
             "red",
             "red",
             "blue",
             "blue",
             "green",
             "green",
             "green"
            ]
           },
           "mode": "markers",
           "type": "scatter",
           "x": [
            0.16213303546439248,
            0.7495476215959245,
            0.3391475484238248,
            0.6035760020017404,
            0.6027014254932347,
            0.7881325077873893,
            0.9770795543513021,
            0.5498718428918602
           ],
           "y": [
            -2.560373878077929,
            -1.8125728613754795,
            -1.2918364908473225,
            0.5339292797768544,
            0.527605979491956,
            2.4083109167571197,
            3.263109819005408,
            3.102193085373371
           ]
          }
         ],
         "name": "30"
        },
        {
         "data": [
          {
           "marker": {
            "color": [
             "red",
             "red",
             "red",
             "blue",
             "blue",
             "green",
             "green",
             "green"
            ]
           },
           "mode": "markers",
           "type": "scatter",
           "x": [
            0.1478146912326619,
            0.7102294086870979,
            0.3786523982490739,
            0.6021667014447001,
            0.6059634964004357,
            0.7993644537415936,
            0.9834539067243537,
            0.5445444815297549
           ],
           "y": [
            -2.658109496494618,
            -1.8450035097285566,
            -1.3404306266436037,
            0.46157031976454954,
            0.5232732398550592,
            2.525107108472581,
            3.31922094088457,
            3.1847378739940013
           ]
          }
         ],
         "name": "31"
        },
        {
         "data": [
          {
           "marker": {
            "color": [
             "red",
             "red",
             "red",
             "blue",
             "blue",
             "green",
             "green",
             "green"
            ]
           },
           "mode": "markers",
           "type": "scatter",
           "x": [
            0.13620343119429854,
            0.7091995035335744,
            0.3720673392496854,
            0.6059792849559623,
            0.6059609875868808,
            0.8157080243093399,
            1.001356697960884,
            0.5257142692190515
           ],
           "y": [
            -2.7953695509317966,
            -1.6949859533846274,
            -1.30438636288413,
            0.4496803639295546,
            0.480150599847811,
            2.59732254221677,
            3.316041330494739,
            3.121912880815629
           ]
          }
         ],
         "name": "32"
        },
        {
         "data": [
          {
           "marker": {
            "color": [
             "red",
             "red",
             "red",
             "blue",
             "blue",
             "green",
             "green",
             "green"
            ]
           },
           "mode": "markers",
           "type": "scatter",
           "x": [
            0.17024333939886913,
            0.6649096123510061,
            0.38379802069328944,
            0.6052710227501333,
            0.6048236018506695,
            0.8225956295664902,
            1.0212513832468861,
            0.4992969281523169
           ],
           "y": [
            -2.7144363706847465,
            -1.727611763627514,
            -1.3554758201934862,
            0.4782580134779857,
            0.4785925884723423,
            2.6056229254125824,
            3.306162388462658,
            3.099253888784146
           ]
          }
         ],
         "name": "33"
        },
        {
         "data": [
          {
           "marker": {
            "color": [
             "red",
             "red",
             "red",
             "blue",
             "blue",
             "green",
             "green",
             "green"
            ]
           },
           "mode": "markers",
           "type": "scatter",
           "x": [
            0.17717982735630433,
            0.6222727865274059,
            0.4116854916106377,
            0.6055347808813287,
            0.603876714458923,
            0.8089162082095117,
            1.0634974717760206,
            0.47922625718953593
           ],
           "y": [
            -2.809056484519116,
            -1.7088491976933586,
            -1.3697885661402585,
            0.4625636950740813,
            0.4474058790702107,
            2.5367925242984075,
            3.3911645390025753,
            3.2201334610114287
           ]
          }
         ],
         "name": "34"
        },
        {
         "data": [
          {
           "marker": {
            "color": [
             "red",
             "red",
             "red",
             "blue",
             "blue",
             "green",
             "green",
             "green"
            ]
           },
           "mode": "markers",
           "type": "scatter",
           "x": [
            0.22000975844540255,
            0.6311012451462478,
            0.38084784920157794,
            0.6038827299040322,
            0.6045277874119032,
            0.7994833968713956,
            1.0945888396116912,
            0.4377479314174102
           ],
           "y": [
            -2.5209143966968632,
            -1.88149184148803,
            -1.5034758438908489,
            0.4348201119599352,
            0.44002551968554654,
            2.5587153592343728,
            3.3318391334035535,
            3.310847807896285
           ]
          }
         ],
         "name": "35"
        },
        {
         "data": [
          {
           "marker": {
            "color": [
             "red",
             "red",
             "red",
             "blue",
             "blue",
             "green",
             "green",
             "green"
            ]
           },
           "mode": "markers",
           "type": "scatter",
           "x": [
            0.23734712973380193,
            0.6326036010040191,
            0.3548156971992748,
            0.5966863468062198,
            0.5968164630982351,
            0.8157401992928595,
            1.122628448075814,
            0.41555165279942474
           ],
           "y": [
            -2.4186169712074137,
            -2.0172988324068495,
            -1.60142138956838,
            0.4137423893807226,
            0.4141952999542776,
            2.5198023127072644,
            3.4976420271649156,
            3.362321014079417
           ]
          }
         ],
         "name": "36"
        },
        {
         "data": [
          {
           "marker": {
            "color": [
             "red",
             "red",
             "red",
             "blue",
             "blue",
             "green",
             "green",
             "green"
            ]
           },
           "mode": "markers",
           "type": "scatter",
           "x": [
            0.2094490773086266,
            0.6646897984942338,
            0.34127150893956953,
            0.5962051445094547,
            0.5965889175878455,
            0.8843458016190318,
            1.1400669878614569,
            0.33957230168943037
           ],
           "y": [
            -2.426917004313852,
            -2.157303102706209,
            -1.6985117599539943,
            0.40204113414763354,
            0.38730463599178855,
            2.640771445135115,
            3.4704901130087142,
            3.5524903887947668
           ]
          }
         ],
         "name": "37"
        },
        {
         "data": [
          {
           "marker": {
            "color": [
             "red",
             "red",
             "red",
             "blue",
             "blue",
             "green",
             "green",
             "green"
            ]
           },
           "mode": "markers",
           "type": "scatter",
           "x": [
            0.1787034189958307,
            0.7162780869060278,
            0.3146170730309927,
            0.6042433703296782,
            0.6077952396866461,
            0.8445610770450945,
            1.1304248885558987,
            0.3755663834595038
           ],
           "y": [
            -2.5179364943684512,
            -2.1053829687427337,
            -1.6447805117225314,
            0.42523618598311985,
            0.4846146931722778,
            2.5880248138862405,
            3.434383885878304,
            3.5062062460177397
           ]
          }
         ],
         "name": "38"
        },
        {
         "data": [
          {
           "marker": {
            "color": [
             "red",
             "red",
             "red",
             "blue",
             "blue",
             "green",
             "green",
             "green"
            ]
           },
           "mode": "markers",
           "type": "scatter",
           "x": [
            0.1488672497739256,
            0.7052222956199571,
            0.362197156129522,
            0.6066909324818155,
            0.6001933518987648,
            0.8467188157377686,
            1.0478893486363121,
            0.45441038773160825
           ],
           "y": [
            -2.6491849730067876,
            -2.045115600948834,
            -1.4758633834868014,
            0.45715678694303036,
            0.4388844097729993,
            2.6095220696397767,
            3.4083631927131823,
            3.4266033484774083
           ]
          }
         ],
         "name": "39"
        },
        {
         "data": [
          {
           "marker": {
            "color": [
             "red",
             "red",
             "red",
             "blue",
             "blue",
             "green",
             "green",
             "green"
            ]
           },
           "mode": "markers",
           "type": "scatter",
           "x": [
            0.16055659913888906,
            0.6999366566356859,
            0.35386752049501713,
            0.5999823934996903,
            0.598176554742436,
            0.8465098827773715,
            1.1681319595330555,
            0.3450279711875244
           ],
           "y": [
            -2.5741903607895513,
            -2.0047857573639702,
            -1.5867084779612,
            0.430185846317211,
            0.42465721367312437,
            2.4291623161479987,
            3.5958840493052517,
            3.456161020775115
           ]
          }
         ],
         "name": "40"
        },
        {
         "data": [
          {
           "marker": {
            "color": [
             "red",
             "red",
             "red",
             "blue",
             "blue",
             "green",
             "green",
             "green"
            ]
           },
           "mode": "markers",
           "type": "scatter",
           "x": [
            0.12660096320014877,
            0.7545405911184843,
            0.3418780024895917,
            0.5914875042224759,
            0.5960120466930177,
            0.8298068474575031,
            1.132561922232354,
            0.3993016605960966
           ],
           "y": [
            -2.5840863112114456,
            -2.009018345324005,
            -1.4616470339523966,
            0.3616732457623036,
            0.4328491562129618,
            2.457249656981205,
            3.611042204224205,
            3.362303277411154
           ]
          }
         ],
         "name": "41"
        },
        {
         "data": [
          {
           "marker": {
            "color": [
             "red",
             "red",
             "red",
             "blue",
             "blue",
             "green",
             "green",
             "green"
            ]
           },
           "mode": "markers",
           "type": "scatter",
           "x": [
            0.12357637893887799,
            0.7515717256578415,
            0.35168223639667584,
            0.5970237942389081,
            0.5982343782746569,
            0.8492744588836383,
            1.1102858566463065,
            0.3905407089727811
           ],
           "y": [
            -2.685496685062798,
            -1.9946677191345181,
            -1.490653111049666,
            0.43158223282947494,
            0.4447981839055147,
            2.5749443827829444,
            3.391390216426127,
            3.4984683494069317
           ]
          }
         ],
         "name": "42"
        },
        {
         "data": [
          {
           "marker": {
            "color": [
             "red",
             "red",
             "red",
             "blue",
             "blue",
             "green",
             "green",
             "green"
            ]
           },
           "mode": "markers",
           "type": "scatter",
           "x": [
            0.16423790050188056,
            0.7200575344017479,
            0.32447977069286876,
            0.6023650330988904,
            0.5977398789772219,
            0.8588848561350211,
            1.0530752912011752,
            0.4513492730008778
           ],
           "y": [
            -2.672824916741154,
            -1.977720368419689,
            -1.5384072888525444,
            0.43126165226235635,
            0.378383516667788,
            2.7480347151835627,
            3.3610198175472425,
            3.4406187224564433
           ]
          }
         ],
         "name": "43"
        },
        {
         "data": [
          {
           "marker": {
            "color": [
             "red",
             "red",
             "red",
             "blue",
             "blue",
             "green",
             "green",
             "green"
            ]
           },
           "mode": "markers",
           "type": "scatter",
           "x": [
            0.18509510496225526,
            0.7214118322212549,
            0.2792119958034006,
            0.60753293076694,
            0.6075818174020455,
            0.9020987661165947,
            1.0327040260954823,
            0.43655306464170257
           ],
           "y": [
            -2.7370518089610165,
            -2.089235823849462,
            -1.652092054867615,
            0.47745596821968006,
            0.4783663191288342,
            2.820680431574303,
            3.3039383795230632,
            3.5683044393362393
           ]
          }
         ],
         "name": "44"
        },
        {
         "data": [
          {
           "marker": {
            "color": [
             "red",
             "red",
             "red",
             "blue",
             "blue",
             "green",
             "green",
             "green"
            ]
           },
           "mode": "markers",
           "type": "scatter",
           "x": [
            0.175071962368178,
            0.7405805262592366,
            0.29127998136713984,
            0.6053035341809733,
            0.6042365349042506,
            0.9026268067343096,
            1.0421685506890965,
            0.41092164150648547
           ],
           "y": [
            -2.62956493148513,
            -2.194956033015769,
            -1.6390311628810994,
            0.4355390555353834,
            0.43742004961718534,
            2.8511899911192544,
            3.244603299357218,
            3.6651655818569213
           ]
          }
         ],
         "name": "45"
        },
        {
         "data": [
          {
           "marker": {
            "color": [
             "red",
             "red",
             "red",
             "blue",
             "blue",
             "green",
             "green",
             "green"
            ]
           },
           "mode": "markers",
           "type": "scatter",
           "x": [
            0.1567878745896154,
            0.721260168786606,
            0.3060162958379762,
            0.6041937659464807,
            0.5985505911368252,
            0.8473294561470052,
            1.0676766249368232,
            0.47037476062834027
           ],
           "y": [
            -2.8079470769184223,
            -2.0495008404192747,
            -1.679476215087192,
            0.40954517711917227,
            0.3873138161686976,
            2.9110427021542726,
            3.409133815361322,
            3.5902544717254194
           ]
          }
         ],
         "name": "46"
        },
        {
         "data": [
          {
           "marker": {
            "color": [
             "red",
             "red",
             "red",
             "blue",
             "blue",
             "green",
             "green",
             "green"
            ]
           },
           "mode": "markers",
           "type": "scatter",
           "x": [
            0.17763741001011293,
            0.7129668128408706,
            0.302282316094528,
            0.6002506137521486,
            0.6009740997362314,
            0.8041519028439171,
            1.0073232950249467,
            0.5666030877069228
           ],
           "y": [
            -2.6905653373821323,
            -2.0539101563637963,
            -1.674580621683923,
            0.4523817160730735,
            0.4392122692972384,
            2.9756612374132283,
            3.3976185806561663,
            3.3245481620941004
           ]
          }
         ],
         "name": "47"
        },
        {
         "data": [
          {
           "marker": {
            "color": [
             "red",
             "red",
             "red",
             "blue",
             "blue",
             "green",
             "green",
             "green"
            ]
           },
           "mode": "markers",
           "type": "scatter",
           "x": [
            0.1671793480405617,
            0.7369606065282688,
            0.31605844948542444,
            0.5952904395169419,
            0.5922399225942422,
            0.7839560395102099,
            1.0760651629408728,
            0.5044395693931728
           ],
           "y": [
            -2.722194359129572,
            -2.1939242246394772,
            -1.482783275661885,
            0.38777236114343144,
            0.36581806184271864,
            2.9407393458625184,
            3.3900371436254217,
            3.4849007970607513
           ]
          }
         ],
         "name": "48"
        },
        {
         "data": [
          {
           "marker": {
            "color": [
             "red",
             "red",
             "red",
             "blue",
             "blue",
             "green",
             "green",
             "green"
            ]
           },
           "mode": "markers",
           "type": "scatter",
           "x": [
            0.16057115610887254,
            0.7496026695998075,
            0.334313578792013,
            0.5884659174435114,
            0.5783601356822857,
            0.7568410346314438,
            1.0758974376474328,
            0.5281376081043283
           ],
           "y": [
            -2.6651708654189306,
            -2.243580734847512,
            -1.4727580226183004,
            0.42511091218695335,
            0.3153491871226825,
            2.9450803763355236,
            3.3634676001371737,
            3.502867397206299
           ]
          }
         ],
         "name": "49"
        },
        {
         "data": [
          {
           "marker": {
            "color": [
             "red",
             "red",
             "red",
             "blue",
             "blue",
             "green",
             "green",
             "green"
            ]
           },
           "mode": "markers",
           "type": "scatter",
           "x": [
            0.17559485451874365,
            0.6911699876021224,
            0.37122381339160754,
            0.5890871841498604,
            0.5889114012977915,
            0.6812653882548412,
            1.17863203743945,
            0.4963048713552914
           ],
           "y": [
            -2.779381271212432,
            -2.302087067515336,
            -1.442042987342578,
            0.383489200965751,
            0.38330544581415565,
            3.049512396870888,
            3.3734492205000657,
            3.5041209120234083
           ]
          }
         ],
         "name": "50"
        },
        {
         "data": [
          {
           "marker": {
            "color": [
             "red",
             "red",
             "red",
             "blue",
             "blue",
             "green",
             "green",
             "green"
            ]
           },
           "mode": "markers",
           "type": "scatter",
           "x": [
            0.16171079779210187,
            0.6859459419339328,
            0.3693707761965642,
            0.6032638922233333,
            0.6010005130359835,
            0.6830510514398911,
            1.1787855219831176,
            0.4890610434047997
           ],
           "y": [
            -2.8359620044032754,
            -2.089396847327326,
            -1.6045451150433487,
            0.4307509070345994,
            0.43648674964305695,
            2.8938978685298675,
            3.344733122983025,
            3.5944011686873396
           ]
          }
         ],
         "name": "51"
        },
        {
         "data": [
          {
           "marker": {
            "color": [
             "red",
             "red",
             "red",
             "blue",
             "blue",
             "green",
             "green",
             "green"
            ]
           },
           "mode": "markers",
           "type": "scatter",
           "x": [
            0.18673123657589186,
            0.7097575153324883,
            0.3271268221173142,
            0.5970023581188082,
            0.5992846865271516,
            0.6825017146087127,
            1.1610179676999592,
            0.5087672370293902
           ],
           "y": [
            -2.6849521425471696,
            -2.129301655519408,
            -1.8177154634095594,
            0.437542370331608,
            0.4675993103422777,
            2.8340528155180893,
            3.363640385808013,
            3.6995002295800887
           ]
          }
         ],
         "name": "52"
        },
        {
         "data": [
          {
           "marker": {
            "color": [
             "red",
             "red",
             "red",
             "blue",
             "blue",
             "green",
             "green",
             "green"
            ]
           },
           "mode": "markers",
           "type": "scatter",
           "x": [
            0.18654424448637455,
            0.6942216274036568,
            0.3252020333408836,
            0.5959657618370224,
            0.5980475693073768,
            0.6736848486923087,
            1.1804039437071518,
            0.5181195092349328
           ],
           "y": [
            -2.780225961977911,
            -2.0456019392226183,
            -1.7599574282387702,
            0.40141961376667346,
            0.4334039725100631,
            2.7733583019385284,
            3.497467780453113,
            3.650501510874885
           ]
          }
         ],
         "name": "53"
        },
        {
         "data": [
          {
           "marker": {
            "color": [
             "red",
             "red",
             "red",
             "blue",
             "blue",
             "green",
             "green",
             "green"
            ]
           },
           "mode": "markers",
           "type": "scatter",
           "x": [
            0.22344944281618362,
            0.7133357550062972,
            0.2742790821310977,
            0.5868213173676499,
            0.5890820446851502,
            0.6786969460933017,
            1.1782040660571922,
            0.5283208838528439
           ],
           "y": [
            -2.6649542791908627,
            -1.9787122926700893,
            -1.7876997705256787,
            0.34106313523906717,
            0.3863939816621715,
            2.790627605396469,
            3.5153840492622304,
            3.5682634209306783
           ]
          }
         ],
         "name": "54"
        },
        {
         "data": [
          {
           "marker": {
            "color": [
             "red",
             "red",
             "red",
             "blue",
             "blue",
             "green",
             "green",
             "green"
            ]
           },
           "mode": "markers",
           "type": "scatter",
           "x": [
            0.2106796809486241,
            0.7223958309420908,
            0.2804398363790008,
            0.5913855139874951,
            0.5919678182119305,
            0.6914134457917629,
            1.183475905265758,
            0.5004315064830771
           ],
           "y": [
            -2.7441971178843585,
            -1.9461655313304602,
            -1.7295326694184738,
            0.4193593962292655,
            0.42463663989715605,
            2.726378620651233,
            3.4312835317189125,
            3.588602980240722
           ]
          }
         ],
         "name": "55"
        },
        {
         "data": [
          {
           "marker": {
            "color": [
             "red",
             "red",
             "red",
             "blue",
             "blue",
             "green",
             "green",
             "green"
            ]
           },
           "mode": "markers",
           "type": "scatter",
           "x": [
            0.21431176758816067,
            0.7285670394693418,
            0.2556444484971684,
            0.5964335808743354,
            0.5955880036922703,
            0.7251249777568645,
            1.1171784720843285,
            0.5393412480472624
           ],
           "y": [
            -2.777475613614515,
            -1.860442205363718,
            -1.8369735464966952,
            0.41333427439940884,
            0.4056567731806436,
            2.78858780522296,
            3.394495673587486,
            3.643182689188412
           ]
          }
         ],
         "name": "56"
        },
        {
         "data": [
          {
           "marker": {
            "color": [
             "red",
             "red",
             "red",
             "blue",
             "blue",
             "green",
             "green",
             "green"
            ]
           },
           "mode": "markers",
           "type": "scatter",
           "x": [
            0.20928912555603776,
            0.7347921942919005,
            0.24338164700181203,
            0.5946706813510408,
            0.5947400465361466,
            0.7186485449085439,
            1.178459682158377,
            0.49820761620587767
           ],
           "y": [
            -2.8394743295099416,
            -1.7400846793942533,
            -1.772405492440402,
            0.4322199908335652,
            0.4539718610448682,
            2.6812271628827107,
            3.4410490592060357,
            3.5138622774813806
           ]
          }
         ],
         "name": "57"
        },
        {
         "data": [
          {
           "marker": {
            "color": [
             "red",
             "red",
             "red",
             "blue",
             "blue",
             "green",
             "green",
             "green"
            ]
           },
           "mode": "markers",
           "type": "scatter",
           "x": [
            0.25720487847910894,
            0.7239609949961583,
            0.21317283801561085,
            0.5964631471709246,
            0.5991554594870406,
            0.7595398598647314,
            1.187846741911573,
            0.4348456180845855
           ],
           "y": [
            -2.6348872828552867,
            -1.67684652300005,
            -1.8433322435936732,
            0.44881981653526704,
            0.48673600773379616,
            2.6028986693607306,
            3.2888719407423017,
            3.498105465180876
           ]
          }
         ],
         "name": "58"
        },
        {
         "data": [
          {
           "marker": {
            "color": [
             "red",
             "red",
             "red",
             "blue",
             "blue",
             "green",
             "green",
             "green"
            ]
           },
           "mode": "markers",
           "type": "scatter",
           "x": [
            0.2579641515557359,
            0.7083640624481014,
            0.18949271860243222,
            0.6100293168192443,
            0.6102925555639639,
            0.7796539767779562,
            1.1448146367421919,
            0.47157811950011813
           ],
           "y": [
            -2.8012134089305234,
            -1.4851203151236156,
            -1.9320104597374244,
            0.4747164459273651,
            0.47435932710334416,
            2.7177832490039546,
            3.252406405857668,
            3.469444606003225
           ]
          }
         ],
         "name": "59"
        },
        {
         "data": [
          {
           "marker": {
            "color": [
             "red",
             "red",
             "red",
             "blue",
             "blue",
             "green",
             "green",
             "green"
            ]
           },
           "mode": "markers",
           "type": "scatter",
           "x": [
            0.26175828248832583,
            0.6723726179764858,
            0.23807048702748407,
            0.6095918947799001,
            0.6120286836690934,
            0.773764529624369,
            1.0890361776224302,
            0.515566864821652
           ],
           "y": [
            -2.7363271849122217,
            -1.4582928141005793,
            -1.9141369753278779,
            0.4871605197045673,
            0.5222779238043501,
            2.653041299894919,
            3.145767145001208,
            3.470875936039635
           ]
          }
         ],
         "name": "60"
        },
        {
         "data": [
          {
           "marker": {
            "color": [
             "red",
             "red",
             "red",
             "blue",
             "blue",
             "green",
             "green",
             "green"
            ]
           },
           "mode": "markers",
           "type": "scatter",
           "x": [
            0.30305527195394083,
            0.6568067419848961,
            0.18480256143183402,
            0.6043973483029008,
            0.604124217703167,
            0.7296564239067225,
            1.208803479720777,
            0.4805434930055033
           ],
           "y": [
            -2.6701988829115004,
            -1.5312398363785298,
            -2.025014156352264,
            0.48561797295887166,
            0.47035193661392993,
            2.552686402745025,
            3.447788463328505,
            3.4403739500999375
           ]
          }
         ],
         "name": "61"
        },
        {
         "data": [
          {
           "marker": {
            "color": [
             "red",
             "red",
             "red",
             "blue",
             "blue",
             "green",
             "green",
             "green"
            ]
           },
           "mode": "markers",
           "type": "scatter",
           "x": [
            0.3145614912873962,
            0.6257569992804782,
            0.19745024446367318,
            0.615652603260332,
            0.6154494854101089,
            0.7678125791989259,
            1.2249377030831565,
            0.4105684320256813
           ],
           "y": [
            -2.766800844913767,
            -1.5575186670276386,
            -1.9734897963874498,
            0.5721785865217636,
            0.5757782722999181,
            2.537826224427842,
            3.3137375157315363,
            3.4686545594517413
           ]
          }
         ],
         "name": "62"
        },
        {
         "data": [
          {
           "marker": {
            "color": [
             "red",
             "red",
             "red",
             "blue",
             "blue",
             "green",
             "green",
             "green"
            ]
           },
           "mode": "markers",
           "type": "scatter",
           "x": [
            0.31309681799565403,
            0.6280430039871745,
            0.1960085954942449,
            0.6142283635143434,
            0.613456252363607,
            0.7255672603808453,
            1.2661830506488692,
            0.415606193625017
           ],
           "y": [
            -2.6945205522724645,
            -1.5243311198809195,
            -2.0297349313046005,
            0.6081111139562203,
            0.5916397843448129,
            2.350971188509463,
            3.4245891664089623,
            3.4436412003424737
           ]
          }
         ],
         "name": "63"
        },
        {
         "data": [
          {
           "marker": {
            "color": [
             "red",
             "red",
             "red",
             "blue",
             "blue",
             "green",
             "green",
             "green"
            ]
           },
           "mode": "markers",
           "type": "scatter",
           "x": [
            0.34224094529738475,
            0.646313410644404,
            0.16364527188166259,
            0.6098481962374726,
            0.6089475559835524,
            0.739651127720443,
            1.2281480037781634,
            0.4333950264666875
           ],
           "y": [
            -2.429082494222919,
            -1.631520097994119,
            -2.1977174219734863,
            0.6143373870642891,
            0.5932963941158076,
            2.3536204353949337,
            3.3436153258242562,
            3.523816321895141
           ]
          }
         ],
         "name": "64"
        },
        {
         "data": [
          {
           "marker": {
            "color": [
             "red",
             "red",
             "red",
             "blue",
             "blue",
             "green",
             "green",
             "green"
            ]
           },
           "mode": "markers",
           "type": "scatter",
           "x": [
            0.45632603729512866,
            0.6187456252936462,
            0.06325228138878658,
            0.6034577177251369,
            0.6051422727628064,
            0.7532246166524681,
            1.2120145995202363,
            0.46002638737154916
           ],
           "y": [
            -2.359021498484163,
            -1.6237220305867728,
            -2.2583554737764744,
            0.5589959655718454,
            0.5711654309834744,
            2.4800653126871732,
            3.3862664296375753,
            3.4149717140712954
           ]
          }
         ],
         "name": "65"
        },
        {
         "data": [
          {
           "marker": {
            "color": [
             "red",
             "red",
             "red",
             "blue",
             "blue",
             "green",
             "green",
             "green"
            ]
           },
           "mode": "markers",
           "type": "scatter",
           "x": [
            0.43658147788272156,
            0.604776040557431,
            0.11125438941155864,
            0.5937560880064741,
            0.595888649225785,
            0.7738118686571469,
            1.146403691548898,
            0.5097173327197395
           ],
           "y": [
            -2.3583335442541444,
            -1.5926528276420457,
            -2.108252886729595,
            0.5018669922399575,
            0.5159271336630752,
            2.6532669186179145,
            3.3388877503308594,
            3.2196563138779855
           ]
          }
         ],
         "name": "66"
        },
        {
         "data": [
          {
           "marker": {
            "color": [
             "red",
             "red",
             "red",
             "blue",
             "blue",
             "green",
             "green",
             "green"
            ]
           },
           "mode": "markers",
           "type": "scatter",
           "x": [
            0.41047795004899806,
            0.614395178606,
            0.10847897901385731,
            0.6086833141161685,
            0.6062427426171456,
            0.8184191038180627,
            1.1288543461072833,
            0.4766379236822439
           ],
           "y": [
            -2.128792777466479,
            -1.674576627118087,
            -2.2816333337022914,
            0.6109349728287123,
            0.528473746350032,
            2.6835980085695468,
            3.2659816243466033,
            3.166380236295944
           ]
          }
         ],
         "name": "67"
        },
        {
         "data": [
          {
           "marker": {
            "color": [
             "red",
             "red",
             "red",
             "blue",
             "blue",
             "green",
             "green",
             "green"
            ]
           },
           "mode": "markers",
           "type": "scatter",
           "x": [
            0.4475009055826264,
            0.6020877979917657,
            0.09921135234257704,
            0.6100687985572889,
            0.6100854584673332,
            0.8456101793477444,
            1.0579791803087277,
            0.4996458654116987
           ],
           "y": [
            -2.051840061818977,
            -1.6777981000914826,
            -2.2241010703775093,
            0.5665649246249937,
            0.5682974271005967,
            2.6832250796982695,
            3.1289481384671545,
            3.177069512500912
           ]
          }
         ],
         "name": "68"
        },
        {
         "data": [
          {
           "marker": {
            "color": [
             "red",
             "red",
             "red",
             "blue",
             "blue",
             "green",
             "green",
             "green"
            ]
           },
           "mode": "markers",
           "type": "scatter",
           "x": [
            0.4848434832632954,
            0.5798830373587402,
            0.09822986225222563,
            0.6113396025261262,
            0.6110275047149514,
            0.8374040422044254,
            1.0550982764675783,
            0.49436372922243493
           ],
           "y": [
            -1.9886135316591464,
            -1.518153169962989,
            -2.2053208445943198,
            0.5139166246900153,
            0.5397451028514652,
            2.624443213983836,
            3.0041814804005345,
            3.2001669743945453
           ]
          }
         ],
         "name": "69"
        },
        {
         "data": [
          {
           "marker": {
            "color": [
             "red",
             "red",
             "red",
             "blue",
             "blue",
             "green",
             "green",
             "green"
            ]
           },
           "mode": "markers",
           "type": "scatter",
           "x": [
            0.5141112467305652,
            0.5988201821982997,
            0.05674036503419969,
            0.6078032443675697,
            0.6097721142443719,
            0.8026665672563195,
            1.0817114535671053,
            0.5005643646113487
           ],
           "y": [
            -1.8084331328894427,
            -1.4801239753014,
            -2.310083545498715,
            0.4843618679474061,
            0.49082817696944114,
            2.598581085129113,
            2.9935895857206147,
            3.201645788026951
           ]
          }
         ],
         "name": "70"
        },
        {
         "data": [
          {
           "marker": {
            "color": [
             "red",
             "red",
             "red",
             "blue",
             "blue",
             "green",
             "green",
             "green"
            ]
           },
           "mode": "markers",
           "type": "scatter",
           "x": [
            0.4958403921323359,
            0.5898971414484975,
            0.03771533573103769,
            0.6119935389210954,
            0.6121184579200353,
            0.7741088066889603,
            1.122101881284959,
            0.5284139838828661
           ],
           "y": [
            -1.8215852116573696,
            -1.3956301263741726,
            -2.5516670855962063,
            0.5051378216846386,
            0.5152845575413959,
            2.683248334899315,
            3.1380490794812332,
            3.0975284801250886
           ]
          }
         ],
         "name": "71"
        },
        {
         "data": [
          {
           "marker": {
            "color": [
             "red",
             "red",
             "red",
             "blue",
             "blue",
             "green",
             "green",
             "green"
            ]
           },
           "mode": "markers",
           "type": "scatter",
           "x": [
            0.49015887003323677,
            0.5632348966315646,
            0.057733474409655386,
            0.6041063957311952,
            0.6085432854824557,
            0.7458689484946389,
            1.1817060466397828,
            0.5208376205872443
           ],
           "y": [
            -1.9402076768551013,
            -1.3509874166003757,
            -2.549396224311792,
            0.5132471228441686,
            0.5451951134619922,
            2.6120601482284305,
            3.2858752625436436,
            3.0545795207929762
           ]
          }
         ],
         "name": "72"
        },
        {
         "data": [
          {
           "marker": {
            "color": [
             "red",
             "red",
             "red",
             "blue",
             "blue",
             "green",
             "green",
             "green"
            ]
           },
           "mode": "markers",
           "type": "scatter",
           "x": [
            0.5133181774568158,
            0.5387295469354672,
            0.0574025646148279,
            0.6060293148837693,
            0.6082069022485153,
            0.7688394720481685,
            1.1297907104942901,
            0.5498728493279158
           ],
           "y": [
            -1.8647382024540853,
            -1.314226390264186,
            -2.568887561608723,
            0.5239402980941926,
            0.4983993413091984,
            2.6529079230854644,
            3.2157255334601826,
            3.027244908481878
           ]
          }
         ],
         "name": "73"
        },
        {
         "data": [
          {
           "marker": {
            "color": [
             "red",
             "red",
             "red",
             "blue",
             "blue",
             "green",
             "green",
             "green"
            ]
           },
           "mode": "markers",
           "type": "scatter",
           "x": [
            0.5091136203258737,
            0.5088185480520829,
            0.08705885183548151,
            0.6013760598679669,
            0.602056801512234,
            0.7660590193100133,
            1.229931809946442,
            0.46777482715968294
           ],
           "y": [
            -1.9651001308113076,
            -1.3488783196248146,
            -2.489922030531197,
            0.5447144121087398,
            0.549115234451042,
            2.612693111449205,
            3.342560044717,
            2.925183528345234
           ]
          }
         ],
         "name": "74"
        },
        {
         "data": [
          {
           "marker": {
            "color": [
             "red",
             "red",
             "red",
             "blue",
             "blue",
             "green",
             "green",
             "green"
            ]
           },
           "mode": "markers",
           "type": "scatter",
           "x": [
            0.49743473223729995,
            0.47983124268984323,
            0.10727548361034367,
            0.5968886305283492,
            0.5955083911290894,
            0.794424432814109,
            1.252410170834946,
            0.4484164541658005
           ],
           "y": [
            -1.9797342731848273,
            -1.4242120270684142,
            -2.5000180950279076,
            0.5427058057013644,
            0.5289639829748425,
            2.5817665417784004,
            3.4748777691150807,
            2.9460161458153586
           ]
          }
         ],
         "name": "75"
        },
        {
         "data": [
          {
           "marker": {
            "color": [
             "red",
             "red",
             "red",
             "blue",
             "blue",
             "green",
             "green",
             "green"
            ]
           },
           "mode": "markers",
           "type": "scatter",
           "x": [
            0.5038960477575973,
            0.43819472632572914,
            0.15792374241240772,
            0.5909443211214329,
            0.5867454462400102,
            0.840352582225667,
            1.1432533066873274,
            0.5108793652396125
           ],
           "y": [
            -2.156431378153811,
            -1.5899699631612618,
            -2.2262382519677515,
            0.477945296772047,
            0.4638051570775538,
            2.7316376918024163,
            3.3457539670645553,
            3.1238633306701447
           ]
          }
         ],
         "name": "76"
        },
        {
         "data": [
          {
           "marker": {
            "color": [
             "red",
             "red",
             "red",
             "blue",
             "blue",
             "green",
             "green",
             "green"
            ]
           },
           "mode": "markers",
           "type": "scatter",
           "x": [
            0.5386110010423545,
            0.4259674569743119,
            0.10177873820949533,
            0.5858198902279762,
            0.5847647590360346,
            0.8693693860610429,
            1.1723771015120776,
            0.493501204946491
           ],
           "y": [
            -2.000309936221041,
            -1.6325322055190574,
            -2.4454063878209022,
            0.4617962750201841,
            0.4667255039761811,
            2.723162834093864,
            3.5406664484745187,
            3.056263318100125
           ]
          }
         ],
         "name": "77"
        },
        {
         "data": [
          {
           "marker": {
            "color": [
             "red",
             "red",
             "red",
             "blue",
             "blue",
             "green",
             "green",
             "green"
            ]
           },
           "mode": "markers",
           "type": "scatter",
           "x": [
            0.5747641022871569,
            0.44672388116208334,
            0.015302422859552998,
            0.5798309648271913,
            0.5817427566031808,
            0.9297671482748718,
            1.1706996690946518,
            0.4733585929011129
           ],
           "y": [
            -2.0747642872118157,
            -1.4512006133117983,
            -2.6873250497944254,
            0.3913713958213062,
            0.47370914551244186,
            2.878898040520769,
            3.6344744085243716,
            3.0052028100430186
           ]
          }
         ],
         "name": "78"
        },
        {
         "data": [
          {
           "marker": {
            "color": [
             "red",
             "red",
             "red",
             "blue",
             "blue",
             "green",
             "green",
             "green"
            ]
           },
           "mode": "markers",
           "type": "scatter",
           "x": [
            0.5976120889255216,
            0.4235553988627784,
            0.02212176111003855,
            0.5868585788294365,
            0.5920683857117218,
            1.0090823772367843,
            1.1098817970874564,
            0.43100915024606073
           ],
           "y": [
            -2.14090875372978,
            -1.4340665416626985,
            -2.6621417560924776,
            0.43037847475953717,
            0.4299046611378126,
            2.914632087438298,
            3.4395312897570887,
            3.1930363884960427
           ]
          }
         ],
         "name": "79"
        },
        {
         "data": [
          {
           "marker": {
            "color": [
             "red",
             "red",
             "red",
             "blue",
             "blue",
             "green",
             "green",
             "green"
            ]
           },
           "mode": "markers",
           "type": "scatter",
           "x": [
            0.6107468627002572,
            0.42998494546064053,
            -0.002000290010784963,
            0.5843959875863264,
            0.5900314606383368,
            0.9947062103510754,
            1.1129031855530467,
            0.4514211757308878
           ],
           "y": [
            -1.8975901665076076,
            -1.335227070254002,
            -2.8480123700323907,
            0.359202917434525,
            0.4064242949267476,
            2.8841815954201797,
            3.418132448090707,
            3.1832542010256213
           ]
          }
         ],
         "name": "80"
        },
        {
         "data": [
          {
           "marker": {
            "color": [
             "red",
             "red",
             "red",
             "blue",
             "blue",
             "green",
             "green",
             "green"
            ]
           },
           "mode": "markers",
           "type": "scatter",
           "x": [
            0.6153503244862072,
            0.3669240921076938,
            0.07058341871435433,
            0.5874463842478908,
            0.5880246552568136,
            0.9700312573758304,
            1.090480355863032,
            0.4833490499579521
           ],
           "y": [
            -1.9527962972682789,
            -1.6064784428231107,
            -2.564987978125751,
            0.4693770135474943,
            0.4764116186081964,
            2.868413907011563,
            3.330795678697942,
            3.1496303504556957
           ]
          }
         ],
         "name": "81"
        },
        {
         "data": [
          {
           "marker": {
            "color": [
             "red",
             "red",
             "red",
             "blue",
             "blue",
             "green",
             "green",
             "green"
            ]
           },
           "mode": "markers",
           "type": "scatter",
           "x": [
            0.5839885843955287,
            0.34610509419798324,
            0.12323692441363683,
            0.5958716507441165,
            0.596548310658439,
            0.9639014943119409,
            1.1477012608317398,
            0.4148362184563894
           ],
           "y": [
            -2.0040341093055076,
            -1.7172076903487499,
            -2.416458043622422,
            0.5309598385473052,
            0.5322164037542684,
            2.687953798805669,
            3.406164636195456,
            3.150771016077801
           ]
          }
         ],
         "name": "82"
        }
       ],
       "layout": {
        "height": 500,
        "margin": {
         "b": 20,
         "l": 20,
         "r": 20,
         "t": 20
        },
        "sliders": [
         {
          "currentvalue": {
           "font": {
            "size": 20
           },
           "prefix": "Frame:",
           "visible": true,
           "xanchor": "right"
          },
          "len": 0.9,
          "pad": {
           "b": 10,
           "t": 50
          },
          "steps": [
           {
            "args": [
             [
              0
             ],
             {
              "frame": {
               "duration": 300,
               "redraw": true
              },
              "mode": "immediate",
              "transition": {
               "duration": 300
              }
             }
            ],
            "label": "0",
            "method": "animate"
           },
           {
            "args": [
             [
              1
             ],
             {
              "frame": {
               "duration": 300,
               "redraw": true
              },
              "mode": "immediate",
              "transition": {
               "duration": 300
              }
             }
            ],
            "label": "1",
            "method": "animate"
           },
           {
            "args": [
             [
              2
             ],
             {
              "frame": {
               "duration": 300,
               "redraw": true
              },
              "mode": "immediate",
              "transition": {
               "duration": 300
              }
             }
            ],
            "label": "2",
            "method": "animate"
           },
           {
            "args": [
             [
              3
             ],
             {
              "frame": {
               "duration": 300,
               "redraw": true
              },
              "mode": "immediate",
              "transition": {
               "duration": 300
              }
             }
            ],
            "label": "3",
            "method": "animate"
           },
           {
            "args": [
             [
              4
             ],
             {
              "frame": {
               "duration": 300,
               "redraw": true
              },
              "mode": "immediate",
              "transition": {
               "duration": 300
              }
             }
            ],
            "label": "4",
            "method": "animate"
           },
           {
            "args": [
             [
              5
             ],
             {
              "frame": {
               "duration": 300,
               "redraw": true
              },
              "mode": "immediate",
              "transition": {
               "duration": 300
              }
             }
            ],
            "label": "5",
            "method": "animate"
           },
           {
            "args": [
             [
              6
             ],
             {
              "frame": {
               "duration": 300,
               "redraw": true
              },
              "mode": "immediate",
              "transition": {
               "duration": 300
              }
             }
            ],
            "label": "6",
            "method": "animate"
           },
           {
            "args": [
             [
              7
             ],
             {
              "frame": {
               "duration": 300,
               "redraw": true
              },
              "mode": "immediate",
              "transition": {
               "duration": 300
              }
             }
            ],
            "label": "7",
            "method": "animate"
           },
           {
            "args": [
             [
              8
             ],
             {
              "frame": {
               "duration": 300,
               "redraw": true
              },
              "mode": "immediate",
              "transition": {
               "duration": 300
              }
             }
            ],
            "label": "8",
            "method": "animate"
           },
           {
            "args": [
             [
              9
             ],
             {
              "frame": {
               "duration": 300,
               "redraw": true
              },
              "mode": "immediate",
              "transition": {
               "duration": 300
              }
             }
            ],
            "label": "9",
            "method": "animate"
           },
           {
            "args": [
             [
              10
             ],
             {
              "frame": {
               "duration": 300,
               "redraw": true
              },
              "mode": "immediate",
              "transition": {
               "duration": 300
              }
             }
            ],
            "label": "10",
            "method": "animate"
           },
           {
            "args": [
             [
              11
             ],
             {
              "frame": {
               "duration": 300,
               "redraw": true
              },
              "mode": "immediate",
              "transition": {
               "duration": 300
              }
             }
            ],
            "label": "11",
            "method": "animate"
           },
           {
            "args": [
             [
              12
             ],
             {
              "frame": {
               "duration": 300,
               "redraw": true
              },
              "mode": "immediate",
              "transition": {
               "duration": 300
              }
             }
            ],
            "label": "12",
            "method": "animate"
           },
           {
            "args": [
             [
              13
             ],
             {
              "frame": {
               "duration": 300,
               "redraw": true
              },
              "mode": "immediate",
              "transition": {
               "duration": 300
              }
             }
            ],
            "label": "13",
            "method": "animate"
           },
           {
            "args": [
             [
              14
             ],
             {
              "frame": {
               "duration": 300,
               "redraw": true
              },
              "mode": "immediate",
              "transition": {
               "duration": 300
              }
             }
            ],
            "label": "14",
            "method": "animate"
           },
           {
            "args": [
             [
              15
             ],
             {
              "frame": {
               "duration": 300,
               "redraw": true
              },
              "mode": "immediate",
              "transition": {
               "duration": 300
              }
             }
            ],
            "label": "15",
            "method": "animate"
           },
           {
            "args": [
             [
              16
             ],
             {
              "frame": {
               "duration": 300,
               "redraw": true
              },
              "mode": "immediate",
              "transition": {
               "duration": 300
              }
             }
            ],
            "label": "16",
            "method": "animate"
           },
           {
            "args": [
             [
              17
             ],
             {
              "frame": {
               "duration": 300,
               "redraw": true
              },
              "mode": "immediate",
              "transition": {
               "duration": 300
              }
             }
            ],
            "label": "17",
            "method": "animate"
           },
           {
            "args": [
             [
              18
             ],
             {
              "frame": {
               "duration": 300,
               "redraw": true
              },
              "mode": "immediate",
              "transition": {
               "duration": 300
              }
             }
            ],
            "label": "18",
            "method": "animate"
           },
           {
            "args": [
             [
              19
             ],
             {
              "frame": {
               "duration": 300,
               "redraw": true
              },
              "mode": "immediate",
              "transition": {
               "duration": 300
              }
             }
            ],
            "label": "19",
            "method": "animate"
           },
           {
            "args": [
             [
              20
             ],
             {
              "frame": {
               "duration": 300,
               "redraw": true
              },
              "mode": "immediate",
              "transition": {
               "duration": 300
              }
             }
            ],
            "label": "20",
            "method": "animate"
           },
           {
            "args": [
             [
              21
             ],
             {
              "frame": {
               "duration": 300,
               "redraw": true
              },
              "mode": "immediate",
              "transition": {
               "duration": 300
              }
             }
            ],
            "label": "21",
            "method": "animate"
           },
           {
            "args": [
             [
              22
             ],
             {
              "frame": {
               "duration": 300,
               "redraw": true
              },
              "mode": "immediate",
              "transition": {
               "duration": 300
              }
             }
            ],
            "label": "22",
            "method": "animate"
           },
           {
            "args": [
             [
              23
             ],
             {
              "frame": {
               "duration": 300,
               "redraw": true
              },
              "mode": "immediate",
              "transition": {
               "duration": 300
              }
             }
            ],
            "label": "23",
            "method": "animate"
           },
           {
            "args": [
             [
              24
             ],
             {
              "frame": {
               "duration": 300,
               "redraw": true
              },
              "mode": "immediate",
              "transition": {
               "duration": 300
              }
             }
            ],
            "label": "24",
            "method": "animate"
           },
           {
            "args": [
             [
              25
             ],
             {
              "frame": {
               "duration": 300,
               "redraw": true
              },
              "mode": "immediate",
              "transition": {
               "duration": 300
              }
             }
            ],
            "label": "25",
            "method": "animate"
           },
           {
            "args": [
             [
              26
             ],
             {
              "frame": {
               "duration": 300,
               "redraw": true
              },
              "mode": "immediate",
              "transition": {
               "duration": 300
              }
             }
            ],
            "label": "26",
            "method": "animate"
           },
           {
            "args": [
             [
              27
             ],
             {
              "frame": {
               "duration": 300,
               "redraw": true
              },
              "mode": "immediate",
              "transition": {
               "duration": 300
              }
             }
            ],
            "label": "27",
            "method": "animate"
           },
           {
            "args": [
             [
              28
             ],
             {
              "frame": {
               "duration": 300,
               "redraw": true
              },
              "mode": "immediate",
              "transition": {
               "duration": 300
              }
             }
            ],
            "label": "28",
            "method": "animate"
           },
           {
            "args": [
             [
              29
             ],
             {
              "frame": {
               "duration": 300,
               "redraw": true
              },
              "mode": "immediate",
              "transition": {
               "duration": 300
              }
             }
            ],
            "label": "29",
            "method": "animate"
           },
           {
            "args": [
             [
              30
             ],
             {
              "frame": {
               "duration": 300,
               "redraw": true
              },
              "mode": "immediate",
              "transition": {
               "duration": 300
              }
             }
            ],
            "label": "30",
            "method": "animate"
           },
           {
            "args": [
             [
              31
             ],
             {
              "frame": {
               "duration": 300,
               "redraw": true
              },
              "mode": "immediate",
              "transition": {
               "duration": 300
              }
             }
            ],
            "label": "31",
            "method": "animate"
           },
           {
            "args": [
             [
              32
             ],
             {
              "frame": {
               "duration": 300,
               "redraw": true
              },
              "mode": "immediate",
              "transition": {
               "duration": 300
              }
             }
            ],
            "label": "32",
            "method": "animate"
           },
           {
            "args": [
             [
              33
             ],
             {
              "frame": {
               "duration": 300,
               "redraw": true
              },
              "mode": "immediate",
              "transition": {
               "duration": 300
              }
             }
            ],
            "label": "33",
            "method": "animate"
           },
           {
            "args": [
             [
              34
             ],
             {
              "frame": {
               "duration": 300,
               "redraw": true
              },
              "mode": "immediate",
              "transition": {
               "duration": 300
              }
             }
            ],
            "label": "34",
            "method": "animate"
           },
           {
            "args": [
             [
              35
             ],
             {
              "frame": {
               "duration": 300,
               "redraw": true
              },
              "mode": "immediate",
              "transition": {
               "duration": 300
              }
             }
            ],
            "label": "35",
            "method": "animate"
           },
           {
            "args": [
             [
              36
             ],
             {
              "frame": {
               "duration": 300,
               "redraw": true
              },
              "mode": "immediate",
              "transition": {
               "duration": 300
              }
             }
            ],
            "label": "36",
            "method": "animate"
           },
           {
            "args": [
             [
              37
             ],
             {
              "frame": {
               "duration": 300,
               "redraw": true
              },
              "mode": "immediate",
              "transition": {
               "duration": 300
              }
             }
            ],
            "label": "37",
            "method": "animate"
           },
           {
            "args": [
             [
              38
             ],
             {
              "frame": {
               "duration": 300,
               "redraw": true
              },
              "mode": "immediate",
              "transition": {
               "duration": 300
              }
             }
            ],
            "label": "38",
            "method": "animate"
           },
           {
            "args": [
             [
              39
             ],
             {
              "frame": {
               "duration": 300,
               "redraw": true
              },
              "mode": "immediate",
              "transition": {
               "duration": 300
              }
             }
            ],
            "label": "39",
            "method": "animate"
           },
           {
            "args": [
             [
              40
             ],
             {
              "frame": {
               "duration": 300,
               "redraw": true
              },
              "mode": "immediate",
              "transition": {
               "duration": 300
              }
             }
            ],
            "label": "40",
            "method": "animate"
           },
           {
            "args": [
             [
              41
             ],
             {
              "frame": {
               "duration": 300,
               "redraw": true
              },
              "mode": "immediate",
              "transition": {
               "duration": 300
              }
             }
            ],
            "label": "41",
            "method": "animate"
           },
           {
            "args": [
             [
              42
             ],
             {
              "frame": {
               "duration": 300,
               "redraw": true
              },
              "mode": "immediate",
              "transition": {
               "duration": 300
              }
             }
            ],
            "label": "42",
            "method": "animate"
           },
           {
            "args": [
             [
              43
             ],
             {
              "frame": {
               "duration": 300,
               "redraw": true
              },
              "mode": "immediate",
              "transition": {
               "duration": 300
              }
             }
            ],
            "label": "43",
            "method": "animate"
           },
           {
            "args": [
             [
              44
             ],
             {
              "frame": {
               "duration": 300,
               "redraw": true
              },
              "mode": "immediate",
              "transition": {
               "duration": 300
              }
             }
            ],
            "label": "44",
            "method": "animate"
           },
           {
            "args": [
             [
              45
             ],
             {
              "frame": {
               "duration": 300,
               "redraw": true
              },
              "mode": "immediate",
              "transition": {
               "duration": 300
              }
             }
            ],
            "label": "45",
            "method": "animate"
           },
           {
            "args": [
             [
              46
             ],
             {
              "frame": {
               "duration": 300,
               "redraw": true
              },
              "mode": "immediate",
              "transition": {
               "duration": 300
              }
             }
            ],
            "label": "46",
            "method": "animate"
           },
           {
            "args": [
             [
              47
             ],
             {
              "frame": {
               "duration": 300,
               "redraw": true
              },
              "mode": "immediate",
              "transition": {
               "duration": 300
              }
             }
            ],
            "label": "47",
            "method": "animate"
           },
           {
            "args": [
             [
              48
             ],
             {
              "frame": {
               "duration": 300,
               "redraw": true
              },
              "mode": "immediate",
              "transition": {
               "duration": 300
              }
             }
            ],
            "label": "48",
            "method": "animate"
           },
           {
            "args": [
             [
              49
             ],
             {
              "frame": {
               "duration": 300,
               "redraw": true
              },
              "mode": "immediate",
              "transition": {
               "duration": 300
              }
             }
            ],
            "label": "49",
            "method": "animate"
           },
           {
            "args": [
             [
              50
             ],
             {
              "frame": {
               "duration": 300,
               "redraw": true
              },
              "mode": "immediate",
              "transition": {
               "duration": 300
              }
             }
            ],
            "label": "50",
            "method": "animate"
           },
           {
            "args": [
             [
              51
             ],
             {
              "frame": {
               "duration": 300,
               "redraw": true
              },
              "mode": "immediate",
              "transition": {
               "duration": 300
              }
             }
            ],
            "label": "51",
            "method": "animate"
           },
           {
            "args": [
             [
              52
             ],
             {
              "frame": {
               "duration": 300,
               "redraw": true
              },
              "mode": "immediate",
              "transition": {
               "duration": 300
              }
             }
            ],
            "label": "52",
            "method": "animate"
           },
           {
            "args": [
             [
              53
             ],
             {
              "frame": {
               "duration": 300,
               "redraw": true
              },
              "mode": "immediate",
              "transition": {
               "duration": 300
              }
             }
            ],
            "label": "53",
            "method": "animate"
           },
           {
            "args": [
             [
              54
             ],
             {
              "frame": {
               "duration": 300,
               "redraw": true
              },
              "mode": "immediate",
              "transition": {
               "duration": 300
              }
             }
            ],
            "label": "54",
            "method": "animate"
           },
           {
            "args": [
             [
              55
             ],
             {
              "frame": {
               "duration": 300,
               "redraw": true
              },
              "mode": "immediate",
              "transition": {
               "duration": 300
              }
             }
            ],
            "label": "55",
            "method": "animate"
           },
           {
            "args": [
             [
              56
             ],
             {
              "frame": {
               "duration": 300,
               "redraw": true
              },
              "mode": "immediate",
              "transition": {
               "duration": 300
              }
             }
            ],
            "label": "56",
            "method": "animate"
           },
           {
            "args": [
             [
              57
             ],
             {
              "frame": {
               "duration": 300,
               "redraw": true
              },
              "mode": "immediate",
              "transition": {
               "duration": 300
              }
             }
            ],
            "label": "57",
            "method": "animate"
           },
           {
            "args": [
             [
              58
             ],
             {
              "frame": {
               "duration": 300,
               "redraw": true
              },
              "mode": "immediate",
              "transition": {
               "duration": 300
              }
             }
            ],
            "label": "58",
            "method": "animate"
           },
           {
            "args": [
             [
              59
             ],
             {
              "frame": {
               "duration": 300,
               "redraw": true
              },
              "mode": "immediate",
              "transition": {
               "duration": 300
              }
             }
            ],
            "label": "59",
            "method": "animate"
           },
           {
            "args": [
             [
              60
             ],
             {
              "frame": {
               "duration": 300,
               "redraw": true
              },
              "mode": "immediate",
              "transition": {
               "duration": 300
              }
             }
            ],
            "label": "60",
            "method": "animate"
           },
           {
            "args": [
             [
              61
             ],
             {
              "frame": {
               "duration": 300,
               "redraw": true
              },
              "mode": "immediate",
              "transition": {
               "duration": 300
              }
             }
            ],
            "label": "61",
            "method": "animate"
           },
           {
            "args": [
             [
              62
             ],
             {
              "frame": {
               "duration": 300,
               "redraw": true
              },
              "mode": "immediate",
              "transition": {
               "duration": 300
              }
             }
            ],
            "label": "62",
            "method": "animate"
           },
           {
            "args": [
             [
              63
             ],
             {
              "frame": {
               "duration": 300,
               "redraw": true
              },
              "mode": "immediate",
              "transition": {
               "duration": 300
              }
             }
            ],
            "label": "63",
            "method": "animate"
           },
           {
            "args": [
             [
              64
             ],
             {
              "frame": {
               "duration": 300,
               "redraw": true
              },
              "mode": "immediate",
              "transition": {
               "duration": 300
              }
             }
            ],
            "label": "64",
            "method": "animate"
           },
           {
            "args": [
             [
              65
             ],
             {
              "frame": {
               "duration": 300,
               "redraw": true
              },
              "mode": "immediate",
              "transition": {
               "duration": 300
              }
             }
            ],
            "label": "65",
            "method": "animate"
           },
           {
            "args": [
             [
              66
             ],
             {
              "frame": {
               "duration": 300,
               "redraw": true
              },
              "mode": "immediate",
              "transition": {
               "duration": 300
              }
             }
            ],
            "label": "66",
            "method": "animate"
           },
           {
            "args": [
             [
              67
             ],
             {
              "frame": {
               "duration": 300,
               "redraw": true
              },
              "mode": "immediate",
              "transition": {
               "duration": 300
              }
             }
            ],
            "label": "67",
            "method": "animate"
           },
           {
            "args": [
             [
              68
             ],
             {
              "frame": {
               "duration": 300,
               "redraw": true
              },
              "mode": "immediate",
              "transition": {
               "duration": 300
              }
             }
            ],
            "label": "68",
            "method": "animate"
           },
           {
            "args": [
             [
              69
             ],
             {
              "frame": {
               "duration": 300,
               "redraw": true
              },
              "mode": "immediate",
              "transition": {
               "duration": 300
              }
             }
            ],
            "label": "69",
            "method": "animate"
           },
           {
            "args": [
             [
              70
             ],
             {
              "frame": {
               "duration": 300,
               "redraw": true
              },
              "mode": "immediate",
              "transition": {
               "duration": 300
              }
             }
            ],
            "label": "70",
            "method": "animate"
           },
           {
            "args": [
             [
              71
             ],
             {
              "frame": {
               "duration": 300,
               "redraw": true
              },
              "mode": "immediate",
              "transition": {
               "duration": 300
              }
             }
            ],
            "label": "71",
            "method": "animate"
           },
           {
            "args": [
             [
              72
             ],
             {
              "frame": {
               "duration": 300,
               "redraw": true
              },
              "mode": "immediate",
              "transition": {
               "duration": 300
              }
             }
            ],
            "label": "72",
            "method": "animate"
           },
           {
            "args": [
             [
              73
             ],
             {
              "frame": {
               "duration": 300,
               "redraw": true
              },
              "mode": "immediate",
              "transition": {
               "duration": 300
              }
             }
            ],
            "label": "73",
            "method": "animate"
           },
           {
            "args": [
             [
              74
             ],
             {
              "frame": {
               "duration": 300,
               "redraw": true
              },
              "mode": "immediate",
              "transition": {
               "duration": 300
              }
             }
            ],
            "label": "74",
            "method": "animate"
           },
           {
            "args": [
             [
              75
             ],
             {
              "frame": {
               "duration": 300,
               "redraw": true
              },
              "mode": "immediate",
              "transition": {
               "duration": 300
              }
             }
            ],
            "label": "75",
            "method": "animate"
           },
           {
            "args": [
             [
              76
             ],
             {
              "frame": {
               "duration": 300,
               "redraw": true
              },
              "mode": "immediate",
              "transition": {
               "duration": 300
              }
             }
            ],
            "label": "76",
            "method": "animate"
           },
           {
            "args": [
             [
              77
             ],
             {
              "frame": {
               "duration": 300,
               "redraw": true
              },
              "mode": "immediate",
              "transition": {
               "duration": 300
              }
             }
            ],
            "label": "77",
            "method": "animate"
           },
           {
            "args": [
             [
              78
             ],
             {
              "frame": {
               "duration": 300,
               "redraw": true
              },
              "mode": "immediate",
              "transition": {
               "duration": 300
              }
             }
            ],
            "label": "78",
            "method": "animate"
           },
           {
            "args": [
             [
              79
             ],
             {
              "frame": {
               "duration": 300,
               "redraw": true
              },
              "mode": "immediate",
              "transition": {
               "duration": 300
              }
             }
            ],
            "label": "79",
            "method": "animate"
           },
           {
            "args": [
             [
              80
             ],
             {
              "frame": {
               "duration": 300,
               "redraw": true
              },
              "mode": "immediate",
              "transition": {
               "duration": 300
              }
             }
            ],
            "label": "80",
            "method": "animate"
           },
           {
            "args": [
             [
              81
             ],
             {
              "frame": {
               "duration": 300,
               "redraw": true
              },
              "mode": "immediate",
              "transition": {
               "duration": 300
              }
             }
            ],
            "label": "81",
            "method": "animate"
           },
           {
            "args": [
             [
              82
             ],
             {
              "frame": {
               "duration": 300,
               "redraw": true
              },
              "mode": "immediate",
              "transition": {
               "duration": 300
              }
             }
            ],
            "label": "82",
            "method": "animate"
           }
          ],
          "transition": {
           "duration": 300,
           "easing": "cubic-in-out"
          },
          "x": 0.1,
          "xanchor": "left",
          "y": 0,
          "yanchor": "top"
         }
        ],
        "template": {
         "data": {
          "bar": [
           {
            "error_x": {
             "color": "#2a3f5f"
            },
            "error_y": {
             "color": "#2a3f5f"
            },
            "marker": {
             "line": {
              "color": "#E5ECF6",
              "width": 0.5
             },
             "pattern": {
              "fillmode": "overlay",
              "size": 10,
              "solidity": 0.2
             }
            },
            "type": "bar"
           }
          ],
          "barpolar": [
           {
            "marker": {
             "line": {
              "color": "#E5ECF6",
              "width": 0.5
             },
             "pattern": {
              "fillmode": "overlay",
              "size": 10,
              "solidity": 0.2
             }
            },
            "type": "barpolar"
           }
          ],
          "carpet": [
           {
            "aaxis": {
             "endlinecolor": "#2a3f5f",
             "gridcolor": "white",
             "linecolor": "white",
             "minorgridcolor": "white",
             "startlinecolor": "#2a3f5f"
            },
            "baxis": {
             "endlinecolor": "#2a3f5f",
             "gridcolor": "white",
             "linecolor": "white",
             "minorgridcolor": "white",
             "startlinecolor": "#2a3f5f"
            },
            "type": "carpet"
           }
          ],
          "choropleth": [
           {
            "colorbar": {
             "outlinewidth": 0,
             "ticks": ""
            },
            "type": "choropleth"
           }
          ],
          "contour": [
           {
            "colorbar": {
             "outlinewidth": 0,
             "ticks": ""
            },
            "colorscale": [
             [
              0,
              "#0d0887"
             ],
             [
              0.1111111111111111,
              "#46039f"
             ],
             [
              0.2222222222222222,
              "#7201a8"
             ],
             [
              0.3333333333333333,
              "#9c179e"
             ],
             [
              0.4444444444444444,
              "#bd3786"
             ],
             [
              0.5555555555555556,
              "#d8576b"
             ],
             [
              0.6666666666666666,
              "#ed7953"
             ],
             [
              0.7777777777777778,
              "#fb9f3a"
             ],
             [
              0.8888888888888888,
              "#fdca26"
             ],
             [
              1,
              "#f0f921"
             ]
            ],
            "type": "contour"
           }
          ],
          "contourcarpet": [
           {
            "colorbar": {
             "outlinewidth": 0,
             "ticks": ""
            },
            "type": "contourcarpet"
           }
          ],
          "heatmap": [
           {
            "colorbar": {
             "outlinewidth": 0,
             "ticks": ""
            },
            "colorscale": [
             [
              0,
              "#0d0887"
             ],
             [
              0.1111111111111111,
              "#46039f"
             ],
             [
              0.2222222222222222,
              "#7201a8"
             ],
             [
              0.3333333333333333,
              "#9c179e"
             ],
             [
              0.4444444444444444,
              "#bd3786"
             ],
             [
              0.5555555555555556,
              "#d8576b"
             ],
             [
              0.6666666666666666,
              "#ed7953"
             ],
             [
              0.7777777777777778,
              "#fb9f3a"
             ],
             [
              0.8888888888888888,
              "#fdca26"
             ],
             [
              1,
              "#f0f921"
             ]
            ],
            "type": "heatmap"
           }
          ],
          "heatmapgl": [
           {
            "colorbar": {
             "outlinewidth": 0,
             "ticks": ""
            },
            "colorscale": [
             [
              0,
              "#0d0887"
             ],
             [
              0.1111111111111111,
              "#46039f"
             ],
             [
              0.2222222222222222,
              "#7201a8"
             ],
             [
              0.3333333333333333,
              "#9c179e"
             ],
             [
              0.4444444444444444,
              "#bd3786"
             ],
             [
              0.5555555555555556,
              "#d8576b"
             ],
             [
              0.6666666666666666,
              "#ed7953"
             ],
             [
              0.7777777777777778,
              "#fb9f3a"
             ],
             [
              0.8888888888888888,
              "#fdca26"
             ],
             [
              1,
              "#f0f921"
             ]
            ],
            "type": "heatmapgl"
           }
          ],
          "histogram": [
           {
            "marker": {
             "pattern": {
              "fillmode": "overlay",
              "size": 10,
              "solidity": 0.2
             }
            },
            "type": "histogram"
           }
          ],
          "histogram2d": [
           {
            "colorbar": {
             "outlinewidth": 0,
             "ticks": ""
            },
            "colorscale": [
             [
              0,
              "#0d0887"
             ],
             [
              0.1111111111111111,
              "#46039f"
             ],
             [
              0.2222222222222222,
              "#7201a8"
             ],
             [
              0.3333333333333333,
              "#9c179e"
             ],
             [
              0.4444444444444444,
              "#bd3786"
             ],
             [
              0.5555555555555556,
              "#d8576b"
             ],
             [
              0.6666666666666666,
              "#ed7953"
             ],
             [
              0.7777777777777778,
              "#fb9f3a"
             ],
             [
              0.8888888888888888,
              "#fdca26"
             ],
             [
              1,
              "#f0f921"
             ]
            ],
            "type": "histogram2d"
           }
          ],
          "histogram2dcontour": [
           {
            "colorbar": {
             "outlinewidth": 0,
             "ticks": ""
            },
            "colorscale": [
             [
              0,
              "#0d0887"
             ],
             [
              0.1111111111111111,
              "#46039f"
             ],
             [
              0.2222222222222222,
              "#7201a8"
             ],
             [
              0.3333333333333333,
              "#9c179e"
             ],
             [
              0.4444444444444444,
              "#bd3786"
             ],
             [
              0.5555555555555556,
              "#d8576b"
             ],
             [
              0.6666666666666666,
              "#ed7953"
             ],
             [
              0.7777777777777778,
              "#fb9f3a"
             ],
             [
              0.8888888888888888,
              "#fdca26"
             ],
             [
              1,
              "#f0f921"
             ]
            ],
            "type": "histogram2dcontour"
           }
          ],
          "mesh3d": [
           {
            "colorbar": {
             "outlinewidth": 0,
             "ticks": ""
            },
            "type": "mesh3d"
           }
          ],
          "parcoords": [
           {
            "line": {
             "colorbar": {
              "outlinewidth": 0,
              "ticks": ""
             }
            },
            "type": "parcoords"
           }
          ],
          "pie": [
           {
            "automargin": true,
            "type": "pie"
           }
          ],
          "scatter": [
           {
            "fillpattern": {
             "fillmode": "overlay",
             "size": 10,
             "solidity": 0.2
            },
            "type": "scatter"
           }
          ],
          "scatter3d": [
           {
            "line": {
             "colorbar": {
              "outlinewidth": 0,
              "ticks": ""
             }
            },
            "marker": {
             "colorbar": {
              "outlinewidth": 0,
              "ticks": ""
             }
            },
            "type": "scatter3d"
           }
          ],
          "scattercarpet": [
           {
            "marker": {
             "colorbar": {
              "outlinewidth": 0,
              "ticks": ""
             }
            },
            "type": "scattercarpet"
           }
          ],
          "scattergeo": [
           {
            "marker": {
             "colorbar": {
              "outlinewidth": 0,
              "ticks": ""
             }
            },
            "type": "scattergeo"
           }
          ],
          "scattergl": [
           {
            "marker": {
             "colorbar": {
              "outlinewidth": 0,
              "ticks": ""
             }
            },
            "type": "scattergl"
           }
          ],
          "scattermapbox": [
           {
            "marker": {
             "colorbar": {
              "outlinewidth": 0,
              "ticks": ""
             }
            },
            "type": "scattermapbox"
           }
          ],
          "scatterpolar": [
           {
            "marker": {
             "colorbar": {
              "outlinewidth": 0,
              "ticks": ""
             }
            },
            "type": "scatterpolar"
           }
          ],
          "scatterpolargl": [
           {
            "marker": {
             "colorbar": {
              "outlinewidth": 0,
              "ticks": ""
             }
            },
            "type": "scatterpolargl"
           }
          ],
          "scatterternary": [
           {
            "marker": {
             "colorbar": {
              "outlinewidth": 0,
              "ticks": ""
             }
            },
            "type": "scatterternary"
           }
          ],
          "surface": [
           {
            "colorbar": {
             "outlinewidth": 0,
             "ticks": ""
            },
            "colorscale": [
             [
              0,
              "#0d0887"
             ],
             [
              0.1111111111111111,
              "#46039f"
             ],
             [
              0.2222222222222222,
              "#7201a8"
             ],
             [
              0.3333333333333333,
              "#9c179e"
             ],
             [
              0.4444444444444444,
              "#bd3786"
             ],
             [
              0.5555555555555556,
              "#d8576b"
             ],
             [
              0.6666666666666666,
              "#ed7953"
             ],
             [
              0.7777777777777778,
              "#fb9f3a"
             ],
             [
              0.8888888888888888,
              "#fdca26"
             ],
             [
              1,
              "#f0f921"
             ]
            ],
            "type": "surface"
           }
          ],
          "table": [
           {
            "cells": {
             "fill": {
              "color": "#EBF0F8"
             },
             "line": {
              "color": "white"
             }
            },
            "header": {
             "fill": {
              "color": "#C8D4E3"
             },
             "line": {
              "color": "white"
             }
            },
            "type": "table"
           }
          ]
         },
         "layout": {
          "annotationdefaults": {
           "arrowcolor": "#2a3f5f",
           "arrowhead": 0,
           "arrowwidth": 1
          },
          "autotypenumbers": "strict",
          "coloraxis": {
           "colorbar": {
            "outlinewidth": 0,
            "ticks": ""
           }
          },
          "colorscale": {
           "diverging": [
            [
             0,
             "#8e0152"
            ],
            [
             0.1,
             "#c51b7d"
            ],
            [
             0.2,
             "#de77ae"
            ],
            [
             0.3,
             "#f1b6da"
            ],
            [
             0.4,
             "#fde0ef"
            ],
            [
             0.5,
             "#f7f7f7"
            ],
            [
             0.6,
             "#e6f5d0"
            ],
            [
             0.7,
             "#b8e186"
            ],
            [
             0.8,
             "#7fbc41"
            ],
            [
             0.9,
             "#4d9221"
            ],
            [
             1,
             "#276419"
            ]
           ],
           "sequential": [
            [
             0,
             "#0d0887"
            ],
            [
             0.1111111111111111,
             "#46039f"
            ],
            [
             0.2222222222222222,
             "#7201a8"
            ],
            [
             0.3333333333333333,
             "#9c179e"
            ],
            [
             0.4444444444444444,
             "#bd3786"
            ],
            [
             0.5555555555555556,
             "#d8576b"
            ],
            [
             0.6666666666666666,
             "#ed7953"
            ],
            [
             0.7777777777777778,
             "#fb9f3a"
            ],
            [
             0.8888888888888888,
             "#fdca26"
            ],
            [
             1,
             "#f0f921"
            ]
           ],
           "sequentialminus": [
            [
             0,
             "#0d0887"
            ],
            [
             0.1111111111111111,
             "#46039f"
            ],
            [
             0.2222222222222222,
             "#7201a8"
            ],
            [
             0.3333333333333333,
             "#9c179e"
            ],
            [
             0.4444444444444444,
             "#bd3786"
            ],
            [
             0.5555555555555556,
             "#d8576b"
            ],
            [
             0.6666666666666666,
             "#ed7953"
            ],
            [
             0.7777777777777778,
             "#fb9f3a"
            ],
            [
             0.8888888888888888,
             "#fdca26"
            ],
            [
             1,
             "#f0f921"
            ]
           ]
          },
          "colorway": [
           "#636efa",
           "#EF553B",
           "#00cc96",
           "#ab63fa",
           "#FFA15A",
           "#19d3f3",
           "#FF6692",
           "#B6E880",
           "#FF97FF",
           "#FECB52"
          ],
          "font": {
           "color": "#2a3f5f"
          },
          "geo": {
           "bgcolor": "white",
           "lakecolor": "white",
           "landcolor": "#E5ECF6",
           "showlakes": true,
           "showland": true,
           "subunitcolor": "white"
          },
          "hoverlabel": {
           "align": "left"
          },
          "hovermode": "closest",
          "mapbox": {
           "style": "light"
          },
          "paper_bgcolor": "white",
          "plot_bgcolor": "#E5ECF6",
          "polar": {
           "angularaxis": {
            "gridcolor": "white",
            "linecolor": "white",
            "ticks": ""
           },
           "bgcolor": "#E5ECF6",
           "radialaxis": {
            "gridcolor": "white",
            "linecolor": "white",
            "ticks": ""
           }
          },
          "scene": {
           "xaxis": {
            "backgroundcolor": "#E5ECF6",
            "gridcolor": "white",
            "gridwidth": 2,
            "linecolor": "white",
            "showbackground": true,
            "ticks": "",
            "zerolinecolor": "white"
           },
           "yaxis": {
            "backgroundcolor": "#E5ECF6",
            "gridcolor": "white",
            "gridwidth": 2,
            "linecolor": "white",
            "showbackground": true,
            "ticks": "",
            "zerolinecolor": "white"
           },
           "zaxis": {
            "backgroundcolor": "#E5ECF6",
            "gridcolor": "white",
            "gridwidth": 2,
            "linecolor": "white",
            "showbackground": true,
            "ticks": "",
            "zerolinecolor": "white"
           }
          },
          "shapedefaults": {
           "line": {
            "color": "#2a3f5f"
           }
          },
          "ternary": {
           "aaxis": {
            "gridcolor": "white",
            "linecolor": "white",
            "ticks": ""
           },
           "baxis": {
            "gridcolor": "white",
            "linecolor": "white",
            "ticks": ""
           },
           "bgcolor": "#E5ECF6",
           "caxis": {
            "gridcolor": "white",
            "linecolor": "white",
            "ticks": ""
           }
          },
          "title": {
           "x": 0.05
          },
          "xaxis": {
           "automargin": true,
           "gridcolor": "white",
           "linecolor": "white",
           "ticks": "",
           "title": {
            "standoff": 15
           },
           "zerolinecolor": "white",
           "zerolinewidth": 2
          },
          "yaxis": {
           "automargin": true,
           "gridcolor": "white",
           "linecolor": "white",
           "ticks": "",
           "title": {
            "standoff": 15
           },
           "zerolinecolor": "white",
           "zerolinewidth": 2
          }
         }
        },
        "updatemenus": [
         {
          "buttons": [
           {
            "args": [
             null,
             {
              "frame": {
               "duration": 800,
               "redraw": true
              },
              "fromcurrent": true
             }
            ],
            "label": "Play",
            "method": "animate"
           },
           {
            "args": [
             [
              null
             ],
             {
              "frame": {
               "duration": 0,
               "redraw": true
              },
              "mode": "immediate",
              "transition": {
               "duration": 0
              }
             }
            ],
            "label": "Pause",
            "method": "animate"
           }
          ],
          "direction": "left",
          "pad": {
           "r": 10,
           "t": 87
          },
          "showactive": false,
          "type": "buttons",
          "x": 0.1,
          "xanchor": "right",
          "y": 0,
          "yanchor": "top"
         }
        ],
        "width": 500,
        "xaxis": {
         "anchor": "y",
         "constrain": "domain",
         "domain": [
          0,
          1
         ],
         "range": [
          -0.07166883207596912,
          1.3044547688205934
         ]
        },
        "yaxis": {
         "anchor": "x",
         "constrain": "domain",
         "domain": [
          0,
          1
         ],
         "range": [
          -2.8480123700323907,
          3.6995002295800887
         ],
         "scaleanchor": "x",
         "scaleratio": 1
        }
       }
      },
      "text/html": [
       "<div>                            <div id=\"e50a32fb-8537-48fb-ac94-ed0c8254f176\" class=\"plotly-graph-div\" style=\"height:500px; width:500px;\"></div>            <script type=\"text/javascript\">                require([\"plotly\"], function(Plotly) {                    window.PLOTLYENV=window.PLOTLYENV || {};                                    if (document.getElementById(\"e50a32fb-8537-48fb-ac94-ed0c8254f176\")) {                    Plotly.newPlot(                        \"e50a32fb-8537-48fb-ac94-ed0c8254f176\",                        [{\"marker\":{\"color\":[\"red\",\"red\",\"red\",\"blue\",\"blue\",\"green\",\"green\",\"green\"]},\"mode\":\"markers\",\"x\":[0.40775471598479185,0.7885473454068666,0.4502828990627654,0.5263192921286343,0.7767598754031282,0.9810499940754991,0.8140211324823952,0.027454283465665367],\"y\":[0.055760271449507945,0.2871983552222358,0.30351807400311764,0.6238071653406145,0.6862634708360569,0.6008037684280779,0.7087130557574329,0.9043016890669116],\"type\":\"scatter\"}],                        {\"template\":{\"data\":{\"histogram2dcontour\":[{\"type\":\"histogram2dcontour\",\"colorbar\":{\"outlinewidth\":0,\"ticks\":\"\"},\"colorscale\":[[0.0,\"#0d0887\"],[0.1111111111111111,\"#46039f\"],[0.2222222222222222,\"#7201a8\"],[0.3333333333333333,\"#9c179e\"],[0.4444444444444444,\"#bd3786\"],[0.5555555555555556,\"#d8576b\"],[0.6666666666666666,\"#ed7953\"],[0.7777777777777778,\"#fb9f3a\"],[0.8888888888888888,\"#fdca26\"],[1.0,\"#f0f921\"]]}],\"choropleth\":[{\"type\":\"choropleth\",\"colorbar\":{\"outlinewidth\":0,\"ticks\":\"\"}}],\"histogram2d\":[{\"type\":\"histogram2d\",\"colorbar\":{\"outlinewidth\":0,\"ticks\":\"\"},\"colorscale\":[[0.0,\"#0d0887\"],[0.1111111111111111,\"#46039f\"],[0.2222222222222222,\"#7201a8\"],[0.3333333333333333,\"#9c179e\"],[0.4444444444444444,\"#bd3786\"],[0.5555555555555556,\"#d8576b\"],[0.6666666666666666,\"#ed7953\"],[0.7777777777777778,\"#fb9f3a\"],[0.8888888888888888,\"#fdca26\"],[1.0,\"#f0f921\"]]}],\"heatmap\":[{\"type\":\"heatmap\",\"colorbar\":{\"outlinewidth\":0,\"ticks\":\"\"},\"colorscale\":[[0.0,\"#0d0887\"],[0.1111111111111111,\"#46039f\"],[0.2222222222222222,\"#7201a8\"],[0.3333333333333333,\"#9c179e\"],[0.4444444444444444,\"#bd3786\"],[0.5555555555555556,\"#d8576b\"],[0.6666666666666666,\"#ed7953\"],[0.7777777777777778,\"#fb9f3a\"],[0.8888888888888888,\"#fdca26\"],[1.0,\"#f0f921\"]]}],\"heatmapgl\":[{\"type\":\"heatmapgl\",\"colorbar\":{\"outlinewidth\":0,\"ticks\":\"\"},\"colorscale\":[[0.0,\"#0d0887\"],[0.1111111111111111,\"#46039f\"],[0.2222222222222222,\"#7201a8\"],[0.3333333333333333,\"#9c179e\"],[0.4444444444444444,\"#bd3786\"],[0.5555555555555556,\"#d8576b\"],[0.6666666666666666,\"#ed7953\"],[0.7777777777777778,\"#fb9f3a\"],[0.8888888888888888,\"#fdca26\"],[1.0,\"#f0f921\"]]}],\"contourcarpet\":[{\"type\":\"contourcarpet\",\"colorbar\":{\"outlinewidth\":0,\"ticks\":\"\"}}],\"contour\":[{\"type\":\"contour\",\"colorbar\":{\"outlinewidth\":0,\"ticks\":\"\"},\"colorscale\":[[0.0,\"#0d0887\"],[0.1111111111111111,\"#46039f\"],[0.2222222222222222,\"#7201a8\"],[0.3333333333333333,\"#9c179e\"],[0.4444444444444444,\"#bd3786\"],[0.5555555555555556,\"#d8576b\"],[0.6666666666666666,\"#ed7953\"],[0.7777777777777778,\"#fb9f3a\"],[0.8888888888888888,\"#fdca26\"],[1.0,\"#f0f921\"]]}],\"surface\":[{\"type\":\"surface\",\"colorbar\":{\"outlinewidth\":0,\"ticks\":\"\"},\"colorscale\":[[0.0,\"#0d0887\"],[0.1111111111111111,\"#46039f\"],[0.2222222222222222,\"#7201a8\"],[0.3333333333333333,\"#9c179e\"],[0.4444444444444444,\"#bd3786\"],[0.5555555555555556,\"#d8576b\"],[0.6666666666666666,\"#ed7953\"],[0.7777777777777778,\"#fb9f3a\"],[0.8888888888888888,\"#fdca26\"],[1.0,\"#f0f921\"]]}],\"mesh3d\":[{\"type\":\"mesh3d\",\"colorbar\":{\"outlinewidth\":0,\"ticks\":\"\"}}],\"scatter\":[{\"fillpattern\":{\"fillmode\":\"overlay\",\"size\":10,\"solidity\":0.2},\"type\":\"scatter\"}],\"parcoords\":[{\"type\":\"parcoords\",\"line\":{\"colorbar\":{\"outlinewidth\":0,\"ticks\":\"\"}}}],\"scatterpolargl\":[{\"type\":\"scatterpolargl\",\"marker\":{\"colorbar\":{\"outlinewidth\":0,\"ticks\":\"\"}}}],\"bar\":[{\"error_x\":{\"color\":\"#2a3f5f\"},\"error_y\":{\"color\":\"#2a3f5f\"},\"marker\":{\"line\":{\"color\":\"#E5ECF6\",\"width\":0.5},\"pattern\":{\"fillmode\":\"overlay\",\"size\":10,\"solidity\":0.2}},\"type\":\"bar\"}],\"scattergeo\":[{\"type\":\"scattergeo\",\"marker\":{\"colorbar\":{\"outlinewidth\":0,\"ticks\":\"\"}}}],\"scatterpolar\":[{\"type\":\"scatterpolar\",\"marker\":{\"colorbar\":{\"outlinewidth\":0,\"ticks\":\"\"}}}],\"histogram\":[{\"marker\":{\"pattern\":{\"fillmode\":\"overlay\",\"size\":10,\"solidity\":0.2}},\"type\":\"histogram\"}],\"scattergl\":[{\"type\":\"scattergl\",\"marker\":{\"colorbar\":{\"outlinewidth\":0,\"ticks\":\"\"}}}],\"scatter3d\":[{\"type\":\"scatter3d\",\"line\":{\"colorbar\":{\"outlinewidth\":0,\"ticks\":\"\"}},\"marker\":{\"colorbar\":{\"outlinewidth\":0,\"ticks\":\"\"}}}],\"scattermapbox\":[{\"type\":\"scattermapbox\",\"marker\":{\"colorbar\":{\"outlinewidth\":0,\"ticks\":\"\"}}}],\"scatterternary\":[{\"type\":\"scatterternary\",\"marker\":{\"colorbar\":{\"outlinewidth\":0,\"ticks\":\"\"}}}],\"scattercarpet\":[{\"type\":\"scattercarpet\",\"marker\":{\"colorbar\":{\"outlinewidth\":0,\"ticks\":\"\"}}}],\"carpet\":[{\"aaxis\":{\"endlinecolor\":\"#2a3f5f\",\"gridcolor\":\"white\",\"linecolor\":\"white\",\"minorgridcolor\":\"white\",\"startlinecolor\":\"#2a3f5f\"},\"baxis\":{\"endlinecolor\":\"#2a3f5f\",\"gridcolor\":\"white\",\"linecolor\":\"white\",\"minorgridcolor\":\"white\",\"startlinecolor\":\"#2a3f5f\"},\"type\":\"carpet\"}],\"table\":[{\"cells\":{\"fill\":{\"color\":\"#EBF0F8\"},\"line\":{\"color\":\"white\"}},\"header\":{\"fill\":{\"color\":\"#C8D4E3\"},\"line\":{\"color\":\"white\"}},\"type\":\"table\"}],\"barpolar\":[{\"marker\":{\"line\":{\"color\":\"#E5ECF6\",\"width\":0.5},\"pattern\":{\"fillmode\":\"overlay\",\"size\":10,\"solidity\":0.2}},\"type\":\"barpolar\"}],\"pie\":[{\"automargin\":true,\"type\":\"pie\"}]},\"layout\":{\"autotypenumbers\":\"strict\",\"colorway\":[\"#636efa\",\"#EF553B\",\"#00cc96\",\"#ab63fa\",\"#FFA15A\",\"#19d3f3\",\"#FF6692\",\"#B6E880\",\"#FF97FF\",\"#FECB52\"],\"font\":{\"color\":\"#2a3f5f\"},\"hovermode\":\"closest\",\"hoverlabel\":{\"align\":\"left\"},\"paper_bgcolor\":\"white\",\"plot_bgcolor\":\"#E5ECF6\",\"polar\":{\"bgcolor\":\"#E5ECF6\",\"angularaxis\":{\"gridcolor\":\"white\",\"linecolor\":\"white\",\"ticks\":\"\"},\"radialaxis\":{\"gridcolor\":\"white\",\"linecolor\":\"white\",\"ticks\":\"\"}},\"ternary\":{\"bgcolor\":\"#E5ECF6\",\"aaxis\":{\"gridcolor\":\"white\",\"linecolor\":\"white\",\"ticks\":\"\"},\"baxis\":{\"gridcolor\":\"white\",\"linecolor\":\"white\",\"ticks\":\"\"},\"caxis\":{\"gridcolor\":\"white\",\"linecolor\":\"white\",\"ticks\":\"\"}},\"coloraxis\":{\"colorbar\":{\"outlinewidth\":0,\"ticks\":\"\"}},\"colorscale\":{\"sequential\":[[0.0,\"#0d0887\"],[0.1111111111111111,\"#46039f\"],[0.2222222222222222,\"#7201a8\"],[0.3333333333333333,\"#9c179e\"],[0.4444444444444444,\"#bd3786\"],[0.5555555555555556,\"#d8576b\"],[0.6666666666666666,\"#ed7953\"],[0.7777777777777778,\"#fb9f3a\"],[0.8888888888888888,\"#fdca26\"],[1.0,\"#f0f921\"]],\"sequentialminus\":[[0.0,\"#0d0887\"],[0.1111111111111111,\"#46039f\"],[0.2222222222222222,\"#7201a8\"],[0.3333333333333333,\"#9c179e\"],[0.4444444444444444,\"#bd3786\"],[0.5555555555555556,\"#d8576b\"],[0.6666666666666666,\"#ed7953\"],[0.7777777777777778,\"#fb9f3a\"],[0.8888888888888888,\"#fdca26\"],[1.0,\"#f0f921\"]],\"diverging\":[[0,\"#8e0152\"],[0.1,\"#c51b7d\"],[0.2,\"#de77ae\"],[0.3,\"#f1b6da\"],[0.4,\"#fde0ef\"],[0.5,\"#f7f7f7\"],[0.6,\"#e6f5d0\"],[0.7,\"#b8e186\"],[0.8,\"#7fbc41\"],[0.9,\"#4d9221\"],[1,\"#276419\"]]},\"xaxis\":{\"gridcolor\":\"white\",\"linecolor\":\"white\",\"ticks\":\"\",\"title\":{\"standoff\":15},\"zerolinecolor\":\"white\",\"automargin\":true,\"zerolinewidth\":2},\"yaxis\":{\"gridcolor\":\"white\",\"linecolor\":\"white\",\"ticks\":\"\",\"title\":{\"standoff\":15},\"zerolinecolor\":\"white\",\"automargin\":true,\"zerolinewidth\":2},\"scene\":{\"xaxis\":{\"backgroundcolor\":\"#E5ECF6\",\"gridcolor\":\"white\",\"linecolor\":\"white\",\"showbackground\":true,\"ticks\":\"\",\"zerolinecolor\":\"white\",\"gridwidth\":2},\"yaxis\":{\"backgroundcolor\":\"#E5ECF6\",\"gridcolor\":\"white\",\"linecolor\":\"white\",\"showbackground\":true,\"ticks\":\"\",\"zerolinecolor\":\"white\",\"gridwidth\":2},\"zaxis\":{\"backgroundcolor\":\"#E5ECF6\",\"gridcolor\":\"white\",\"linecolor\":\"white\",\"showbackground\":true,\"ticks\":\"\",\"zerolinecolor\":\"white\",\"gridwidth\":2}},\"shapedefaults\":{\"line\":{\"color\":\"#2a3f5f\"}},\"annotationdefaults\":{\"arrowcolor\":\"#2a3f5f\",\"arrowhead\":0,\"arrowwidth\":1},\"geo\":{\"bgcolor\":\"white\",\"landcolor\":\"#E5ECF6\",\"subunitcolor\":\"white\",\"showland\":true,\"showlakes\":true,\"lakecolor\":\"white\"},\"title\":{\"x\":0.05},\"mapbox\":{\"style\":\"light\"}}},\"xaxis\":{\"anchor\":\"y\",\"domain\":[0.0,1.0],\"range\":[-0.07166883207596912,1.3044547688205934],\"constrain\":\"domain\"},\"yaxis\":{\"anchor\":\"x\",\"domain\":[0.0,1.0],\"range\":[-2.8480123700323907,3.6995002295800887],\"scaleanchor\":\"x\",\"scaleratio\":1,\"constrain\":\"domain\"},\"margin\":{\"l\":20,\"r\":20,\"t\":20,\"b\":20},\"width\":500,\"height\":500,\"updatemenus\":[{\"buttons\":[{\"args\":[null,{\"frame\":{\"duration\":800,\"redraw\":true},\"fromcurrent\":true}],\"label\":\"Play\",\"method\":\"animate\"},{\"args\":[[null],{\"frame\":{\"duration\":0,\"redraw\":true},\"mode\":\"immediate\",\"transition\":{\"duration\":0}}],\"label\":\"Pause\",\"method\":\"animate\"}],\"direction\":\"left\",\"pad\":{\"r\":10,\"t\":87},\"showactive\":false,\"type\":\"buttons\",\"x\":0.1,\"xanchor\":\"right\",\"y\":0,\"yanchor\":\"top\"}],\"sliders\":[{\"currentvalue\":{\"font\":{\"size\":20},\"prefix\":\"Frame:\",\"visible\":true,\"xanchor\":\"right\"},\"len\":0.9,\"pad\":{\"b\":10,\"t\":50},\"steps\":[{\"args\":[[0],{\"frame\":{\"duration\":300,\"redraw\":true},\"mode\":\"immediate\",\"transition\":{\"duration\":300}}],\"label\":\"0\",\"method\":\"animate\"},{\"args\":[[1],{\"frame\":{\"duration\":300,\"redraw\":true},\"mode\":\"immediate\",\"transition\":{\"duration\":300}}],\"label\":\"1\",\"method\":\"animate\"},{\"args\":[[2],{\"frame\":{\"duration\":300,\"redraw\":true},\"mode\":\"immediate\",\"transition\":{\"duration\":300}}],\"label\":\"2\",\"method\":\"animate\"},{\"args\":[[3],{\"frame\":{\"duration\":300,\"redraw\":true},\"mode\":\"immediate\",\"transition\":{\"duration\":300}}],\"label\":\"3\",\"method\":\"animate\"},{\"args\":[[4],{\"frame\":{\"duration\":300,\"redraw\":true},\"mode\":\"immediate\",\"transition\":{\"duration\":300}}],\"label\":\"4\",\"method\":\"animate\"},{\"args\":[[5],{\"frame\":{\"duration\":300,\"redraw\":true},\"mode\":\"immediate\",\"transition\":{\"duration\":300}}],\"label\":\"5\",\"method\":\"animate\"},{\"args\":[[6],{\"frame\":{\"duration\":300,\"redraw\":true},\"mode\":\"immediate\",\"transition\":{\"duration\":300}}],\"label\":\"6\",\"method\":\"animate\"},{\"args\":[[7],{\"frame\":{\"duration\":300,\"redraw\":true},\"mode\":\"immediate\",\"transition\":{\"duration\":300}}],\"label\":\"7\",\"method\":\"animate\"},{\"args\":[[8],{\"frame\":{\"duration\":300,\"redraw\":true},\"mode\":\"immediate\",\"transition\":{\"duration\":300}}],\"label\":\"8\",\"method\":\"animate\"},{\"args\":[[9],{\"frame\":{\"duration\":300,\"redraw\":true},\"mode\":\"immediate\",\"transition\":{\"duration\":300}}],\"label\":\"9\",\"method\":\"animate\"},{\"args\":[[10],{\"frame\":{\"duration\":300,\"redraw\":true},\"mode\":\"immediate\",\"transition\":{\"duration\":300}}],\"label\":\"10\",\"method\":\"animate\"},{\"args\":[[11],{\"frame\":{\"duration\":300,\"redraw\":true},\"mode\":\"immediate\",\"transition\":{\"duration\":300}}],\"label\":\"11\",\"method\":\"animate\"},{\"args\":[[12],{\"frame\":{\"duration\":300,\"redraw\":true},\"mode\":\"immediate\",\"transition\":{\"duration\":300}}],\"label\":\"12\",\"method\":\"animate\"},{\"args\":[[13],{\"frame\":{\"duration\":300,\"redraw\":true},\"mode\":\"immediate\",\"transition\":{\"duration\":300}}],\"label\":\"13\",\"method\":\"animate\"},{\"args\":[[14],{\"frame\":{\"duration\":300,\"redraw\":true},\"mode\":\"immediate\",\"transition\":{\"duration\":300}}],\"label\":\"14\",\"method\":\"animate\"},{\"args\":[[15],{\"frame\":{\"duration\":300,\"redraw\":true},\"mode\":\"immediate\",\"transition\":{\"duration\":300}}],\"label\":\"15\",\"method\":\"animate\"},{\"args\":[[16],{\"frame\":{\"duration\":300,\"redraw\":true},\"mode\":\"immediate\",\"transition\":{\"duration\":300}}],\"label\":\"16\",\"method\":\"animate\"},{\"args\":[[17],{\"frame\":{\"duration\":300,\"redraw\":true},\"mode\":\"immediate\",\"transition\":{\"duration\":300}}],\"label\":\"17\",\"method\":\"animate\"},{\"args\":[[18],{\"frame\":{\"duration\":300,\"redraw\":true},\"mode\":\"immediate\",\"transition\":{\"duration\":300}}],\"label\":\"18\",\"method\":\"animate\"},{\"args\":[[19],{\"frame\":{\"duration\":300,\"redraw\":true},\"mode\":\"immediate\",\"transition\":{\"duration\":300}}],\"label\":\"19\",\"method\":\"animate\"},{\"args\":[[20],{\"frame\":{\"duration\":300,\"redraw\":true},\"mode\":\"immediate\",\"transition\":{\"duration\":300}}],\"label\":\"20\",\"method\":\"animate\"},{\"args\":[[21],{\"frame\":{\"duration\":300,\"redraw\":true},\"mode\":\"immediate\",\"transition\":{\"duration\":300}}],\"label\":\"21\",\"method\":\"animate\"},{\"args\":[[22],{\"frame\":{\"duration\":300,\"redraw\":true},\"mode\":\"immediate\",\"transition\":{\"duration\":300}}],\"label\":\"22\",\"method\":\"animate\"},{\"args\":[[23],{\"frame\":{\"duration\":300,\"redraw\":true},\"mode\":\"immediate\",\"transition\":{\"duration\":300}}],\"label\":\"23\",\"method\":\"animate\"},{\"args\":[[24],{\"frame\":{\"duration\":300,\"redraw\":true},\"mode\":\"immediate\",\"transition\":{\"duration\":300}}],\"label\":\"24\",\"method\":\"animate\"},{\"args\":[[25],{\"frame\":{\"duration\":300,\"redraw\":true},\"mode\":\"immediate\",\"transition\":{\"duration\":300}}],\"label\":\"25\",\"method\":\"animate\"},{\"args\":[[26],{\"frame\":{\"duration\":300,\"redraw\":true},\"mode\":\"immediate\",\"transition\":{\"duration\":300}}],\"label\":\"26\",\"method\":\"animate\"},{\"args\":[[27],{\"frame\":{\"duration\":300,\"redraw\":true},\"mode\":\"immediate\",\"transition\":{\"duration\":300}}],\"label\":\"27\",\"method\":\"animate\"},{\"args\":[[28],{\"frame\":{\"duration\":300,\"redraw\":true},\"mode\":\"immediate\",\"transition\":{\"duration\":300}}],\"label\":\"28\",\"method\":\"animate\"},{\"args\":[[29],{\"frame\":{\"duration\":300,\"redraw\":true},\"mode\":\"immediate\",\"transition\":{\"duration\":300}}],\"label\":\"29\",\"method\":\"animate\"},{\"args\":[[30],{\"frame\":{\"duration\":300,\"redraw\":true},\"mode\":\"immediate\",\"transition\":{\"duration\":300}}],\"label\":\"30\",\"method\":\"animate\"},{\"args\":[[31],{\"frame\":{\"duration\":300,\"redraw\":true},\"mode\":\"immediate\",\"transition\":{\"duration\":300}}],\"label\":\"31\",\"method\":\"animate\"},{\"args\":[[32],{\"frame\":{\"duration\":300,\"redraw\":true},\"mode\":\"immediate\",\"transition\":{\"duration\":300}}],\"label\":\"32\",\"method\":\"animate\"},{\"args\":[[33],{\"frame\":{\"duration\":300,\"redraw\":true},\"mode\":\"immediate\",\"transition\":{\"duration\":300}}],\"label\":\"33\",\"method\":\"animate\"},{\"args\":[[34],{\"frame\":{\"duration\":300,\"redraw\":true},\"mode\":\"immediate\",\"transition\":{\"duration\":300}}],\"label\":\"34\",\"method\":\"animate\"},{\"args\":[[35],{\"frame\":{\"duration\":300,\"redraw\":true},\"mode\":\"immediate\",\"transition\":{\"duration\":300}}],\"label\":\"35\",\"method\":\"animate\"},{\"args\":[[36],{\"frame\":{\"duration\":300,\"redraw\":true},\"mode\":\"immediate\",\"transition\":{\"duration\":300}}],\"label\":\"36\",\"method\":\"animate\"},{\"args\":[[37],{\"frame\":{\"duration\":300,\"redraw\":true},\"mode\":\"immediate\",\"transition\":{\"duration\":300}}],\"label\":\"37\",\"method\":\"animate\"},{\"args\":[[38],{\"frame\":{\"duration\":300,\"redraw\":true},\"mode\":\"immediate\",\"transition\":{\"duration\":300}}],\"label\":\"38\",\"method\":\"animate\"},{\"args\":[[39],{\"frame\":{\"duration\":300,\"redraw\":true},\"mode\":\"immediate\",\"transition\":{\"duration\":300}}],\"label\":\"39\",\"method\":\"animate\"},{\"args\":[[40],{\"frame\":{\"duration\":300,\"redraw\":true},\"mode\":\"immediate\",\"transition\":{\"duration\":300}}],\"label\":\"40\",\"method\":\"animate\"},{\"args\":[[41],{\"frame\":{\"duration\":300,\"redraw\":true},\"mode\":\"immediate\",\"transition\":{\"duration\":300}}],\"label\":\"41\",\"method\":\"animate\"},{\"args\":[[42],{\"frame\":{\"duration\":300,\"redraw\":true},\"mode\":\"immediate\",\"transition\":{\"duration\":300}}],\"label\":\"42\",\"method\":\"animate\"},{\"args\":[[43],{\"frame\":{\"duration\":300,\"redraw\":true},\"mode\":\"immediate\",\"transition\":{\"duration\":300}}],\"label\":\"43\",\"method\":\"animate\"},{\"args\":[[44],{\"frame\":{\"duration\":300,\"redraw\":true},\"mode\":\"immediate\",\"transition\":{\"duration\":300}}],\"label\":\"44\",\"method\":\"animate\"},{\"args\":[[45],{\"frame\":{\"duration\":300,\"redraw\":true},\"mode\":\"immediate\",\"transition\":{\"duration\":300}}],\"label\":\"45\",\"method\":\"animate\"},{\"args\":[[46],{\"frame\":{\"duration\":300,\"redraw\":true},\"mode\":\"immediate\",\"transition\":{\"duration\":300}}],\"label\":\"46\",\"method\":\"animate\"},{\"args\":[[47],{\"frame\":{\"duration\":300,\"redraw\":true},\"mode\":\"immediate\",\"transition\":{\"duration\":300}}],\"label\":\"47\",\"method\":\"animate\"},{\"args\":[[48],{\"frame\":{\"duration\":300,\"redraw\":true},\"mode\":\"immediate\",\"transition\":{\"duration\":300}}],\"label\":\"48\",\"method\":\"animate\"},{\"args\":[[49],{\"frame\":{\"duration\":300,\"redraw\":true},\"mode\":\"immediate\",\"transition\":{\"duration\":300}}],\"label\":\"49\",\"method\":\"animate\"},{\"args\":[[50],{\"frame\":{\"duration\":300,\"redraw\":true},\"mode\":\"immediate\",\"transition\":{\"duration\":300}}],\"label\":\"50\",\"method\":\"animate\"},{\"args\":[[51],{\"frame\":{\"duration\":300,\"redraw\":true},\"mode\":\"immediate\",\"transition\":{\"duration\":300}}],\"label\":\"51\",\"method\":\"animate\"},{\"args\":[[52],{\"frame\":{\"duration\":300,\"redraw\":true},\"mode\":\"immediate\",\"transition\":{\"duration\":300}}],\"label\":\"52\",\"method\":\"animate\"},{\"args\":[[53],{\"frame\":{\"duration\":300,\"redraw\":true},\"mode\":\"immediate\",\"transition\":{\"duration\":300}}],\"label\":\"53\",\"method\":\"animate\"},{\"args\":[[54],{\"frame\":{\"duration\":300,\"redraw\":true},\"mode\":\"immediate\",\"transition\":{\"duration\":300}}],\"label\":\"54\",\"method\":\"animate\"},{\"args\":[[55],{\"frame\":{\"duration\":300,\"redraw\":true},\"mode\":\"immediate\",\"transition\":{\"duration\":300}}],\"label\":\"55\",\"method\":\"animate\"},{\"args\":[[56],{\"frame\":{\"duration\":300,\"redraw\":true},\"mode\":\"immediate\",\"transition\":{\"duration\":300}}],\"label\":\"56\",\"method\":\"animate\"},{\"args\":[[57],{\"frame\":{\"duration\":300,\"redraw\":true},\"mode\":\"immediate\",\"transition\":{\"duration\":300}}],\"label\":\"57\",\"method\":\"animate\"},{\"args\":[[58],{\"frame\":{\"duration\":300,\"redraw\":true},\"mode\":\"immediate\",\"transition\":{\"duration\":300}}],\"label\":\"58\",\"method\":\"animate\"},{\"args\":[[59],{\"frame\":{\"duration\":300,\"redraw\":true},\"mode\":\"immediate\",\"transition\":{\"duration\":300}}],\"label\":\"59\",\"method\":\"animate\"},{\"args\":[[60],{\"frame\":{\"duration\":300,\"redraw\":true},\"mode\":\"immediate\",\"transition\":{\"duration\":300}}],\"label\":\"60\",\"method\":\"animate\"},{\"args\":[[61],{\"frame\":{\"duration\":300,\"redraw\":true},\"mode\":\"immediate\",\"transition\":{\"duration\":300}}],\"label\":\"61\",\"method\":\"animate\"},{\"args\":[[62],{\"frame\":{\"duration\":300,\"redraw\":true},\"mode\":\"immediate\",\"transition\":{\"duration\":300}}],\"label\":\"62\",\"method\":\"animate\"},{\"args\":[[63],{\"frame\":{\"duration\":300,\"redraw\":true},\"mode\":\"immediate\",\"transition\":{\"duration\":300}}],\"label\":\"63\",\"method\":\"animate\"},{\"args\":[[64],{\"frame\":{\"duration\":300,\"redraw\":true},\"mode\":\"immediate\",\"transition\":{\"duration\":300}}],\"label\":\"64\",\"method\":\"animate\"},{\"args\":[[65],{\"frame\":{\"duration\":300,\"redraw\":true},\"mode\":\"immediate\",\"transition\":{\"duration\":300}}],\"label\":\"65\",\"method\":\"animate\"},{\"args\":[[66],{\"frame\":{\"duration\":300,\"redraw\":true},\"mode\":\"immediate\",\"transition\":{\"duration\":300}}],\"label\":\"66\",\"method\":\"animate\"},{\"args\":[[67],{\"frame\":{\"duration\":300,\"redraw\":true},\"mode\":\"immediate\",\"transition\":{\"duration\":300}}],\"label\":\"67\",\"method\":\"animate\"},{\"args\":[[68],{\"frame\":{\"duration\":300,\"redraw\":true},\"mode\":\"immediate\",\"transition\":{\"duration\":300}}],\"label\":\"68\",\"method\":\"animate\"},{\"args\":[[69],{\"frame\":{\"duration\":300,\"redraw\":true},\"mode\":\"immediate\",\"transition\":{\"duration\":300}}],\"label\":\"69\",\"method\":\"animate\"},{\"args\":[[70],{\"frame\":{\"duration\":300,\"redraw\":true},\"mode\":\"immediate\",\"transition\":{\"duration\":300}}],\"label\":\"70\",\"method\":\"animate\"},{\"args\":[[71],{\"frame\":{\"duration\":300,\"redraw\":true},\"mode\":\"immediate\",\"transition\":{\"duration\":300}}],\"label\":\"71\",\"method\":\"animate\"},{\"args\":[[72],{\"frame\":{\"duration\":300,\"redraw\":true},\"mode\":\"immediate\",\"transition\":{\"duration\":300}}],\"label\":\"72\",\"method\":\"animate\"},{\"args\":[[73],{\"frame\":{\"duration\":300,\"redraw\":true},\"mode\":\"immediate\",\"transition\":{\"duration\":300}}],\"label\":\"73\",\"method\":\"animate\"},{\"args\":[[74],{\"frame\":{\"duration\":300,\"redraw\":true},\"mode\":\"immediate\",\"transition\":{\"duration\":300}}],\"label\":\"74\",\"method\":\"animate\"},{\"args\":[[75],{\"frame\":{\"duration\":300,\"redraw\":true},\"mode\":\"immediate\",\"transition\":{\"duration\":300}}],\"label\":\"75\",\"method\":\"animate\"},{\"args\":[[76],{\"frame\":{\"duration\":300,\"redraw\":true},\"mode\":\"immediate\",\"transition\":{\"duration\":300}}],\"label\":\"76\",\"method\":\"animate\"},{\"args\":[[77],{\"frame\":{\"duration\":300,\"redraw\":true},\"mode\":\"immediate\",\"transition\":{\"duration\":300}}],\"label\":\"77\",\"method\":\"animate\"},{\"args\":[[78],{\"frame\":{\"duration\":300,\"redraw\":true},\"mode\":\"immediate\",\"transition\":{\"duration\":300}}],\"label\":\"78\",\"method\":\"animate\"},{\"args\":[[79],{\"frame\":{\"duration\":300,\"redraw\":true},\"mode\":\"immediate\",\"transition\":{\"duration\":300}}],\"label\":\"79\",\"method\":\"animate\"},{\"args\":[[80],{\"frame\":{\"duration\":300,\"redraw\":true},\"mode\":\"immediate\",\"transition\":{\"duration\":300}}],\"label\":\"80\",\"method\":\"animate\"},{\"args\":[[81],{\"frame\":{\"duration\":300,\"redraw\":true},\"mode\":\"immediate\",\"transition\":{\"duration\":300}}],\"label\":\"81\",\"method\":\"animate\"},{\"args\":[[82],{\"frame\":{\"duration\":300,\"redraw\":true},\"mode\":\"immediate\",\"transition\":{\"duration\":300}}],\"label\":\"82\",\"method\":\"animate\"}],\"transition\":{\"duration\":300,\"easing\":\"cubic-in-out\"},\"x\":0.1,\"xanchor\":\"left\",\"y\":0,\"yanchor\":\"top\"}]},                        {\"responsive\": true}                    ).then(function(){\n",
       "                            Plotly.addFrames('e50a32fb-8537-48fb-ac94-ed0c8254f176', [{\"data\":[{\"marker\":{\"color\":[\"red\",\"red\",\"red\",\"blue\",\"blue\",\"green\",\"green\",\"green\"]},\"mode\":\"markers\",\"x\":[0.40775471598479185,0.7885473454068666,0.4502828990627654,0.5263192921286343,0.7767598754031282,0.9810499940754991,0.8140211324823952,0.027454283465665367],\"y\":[0.055760271449507945,0.2871983552222358,0.30351807400311764,0.6238071653406145,0.6862634708360569,0.6008037684280779,0.7087130557574329,0.9043016890669116],\"type\":\"scatter\"}],\"name\":\"0\"},{\"data\":[{\"marker\":{\"color\":[\"red\",\"red\",\"red\",\"blue\",\"blue\",\"green\",\"green\",\"green\"]},\"mode\":\"markers\",\"x\":[0.2802688501086221,0.9308857520852147,0.32045454743919777,0.6129461337433149,0.6156932546219954,1.2895844629949413,0.7538492192849505,-0.03149268226851665],\"y\":[-0.1721095192424278,-0.22604935352793265,0.133722490411022,0.6034567519815112,0.5799108105959357,0.9570943073359665,1.042262883487052,1.2520774790628189],\"type\":\"scatter\"}],\"name\":\"1\"},{\"data\":[{\"marker\":{\"color\":[\"red\",\"red\",\"red\",\"blue\",\"blue\",\"green\",\"green\",\"green\"]},\"mode\":\"markers\",\"x\":[0.25428308381037174,0.8978805113508393,0.3620030950496348,0.6153662619052436,0.614588424526767,1.2459969761609275,0.8537400172819088,-0.07166883207596912],\"y\":[-0.4506316578901377,-0.5136095944280838,-0.02782455909352095,0.5089428935271538,0.48799932016304187,1.1737637331672535,1.3563005178954632,1.6354251967627753],\"type\":\"scatter\"}],\"name\":\"2\"},{\"data\":[{\"marker\":{\"color\":[\"red\",\"red\",\"red\",\"blue\",\"blue\",\"green\",\"green\",\"green\"]},\"mode\":\"markers\",\"x\":[0.257096159912817,0.9199238794635429,0.30989919304874985,0.6005817099521212,0.6002145115715245,1.1653516902386831,0.8153500395278709,0.10377235429437551],\"y\":[-0.5847447724203507,-0.7740505910167559,-0.27100596585721454,0.5103776673328795,0.5001193400152583,1.305430006926465,1.7557397083300552,1.7285004567935973],\"type\":\"scatter\"}],\"name\":\"3\"},{\"data\":[{\"marker\":{\"color\":[\"red\",\"red\",\"red\",\"blue\",\"blue\",\"green\",\"green\",\"green\"]},\"mode\":\"markers\",\"x\":[0.27854177789592177,0.8342306210272273,0.2852458252624879,0.5869298004029552,0.5772459910748907,1.3044547688205934,0.7122832799354666,0.19325747359013928],\"y\":[-0.7522423167378611,-0.9177027758026395,-0.3948813155888026,0.49591726019762217,0.47604215152712703,1.5957155401835814,1.8509053125674337,1.8166119937574603],\"type\":\"scatter\"}],\"name\":\"4\"},{\"data\":[{\"marker\":{\"color\":[\"red\",\"red\",\"red\",\"blue\",\"blue\",\"green\",\"green\",\"green\"]},\"mode\":\"markers\",\"x\":[0.2973639216601083,0.8383026495142375,0.23242991436504223,0.5681975390606985,0.5735409964403363,1.2520740622037947,0.8503716986405869,0.15990875612487707],\"y\":[-0.8838600729283322,-1.1474520902252143,-0.38510535136063473,0.5197516718696861,0.5196862122500571,1.7213472889950248,1.9862760389332164,1.8397221525701373],\"type\":\"scatter\"}],\"name\":\"5\"},{\"data\":[{\"marker\":{\"color\":[\"red\",\"red\",\"red\",\"blue\",\"blue\",\"green\",\"green\",\"green\"]},\"mode\":\"markers\",\"x\":[0.3111826930998313,0.7985681763649958,0.25143161099023154,0.5985453302783075,0.5941759104189086,1.1549824949651026,0.888801367975354,0.17450195391696322],\"y\":[-1.065931707337775,-1.2749594268611417,-0.5791977177396063,0.6094829182241931,0.5711076303210916,1.7301608299239724,2.0991761986275557,2.080527124945654],\"type\":\"scatter\"}],\"name\":\"6\"},{\"data\":[{\"marker\":{\"color\":[\"red\",\"red\",\"red\",\"blue\",\"blue\",\"green\",\"green\",\"green\"]},\"mode\":\"markers\",\"x\":[0.21689829308197248,0.8429453141056201,0.3139209834245979,0.5895403930510404,0.5864437470880658,1.119065281695555,0.8128666581340124,0.29050886742883403],\"y\":[-1.2089944067096912,-1.3417390709532995,-0.5284641217224468,0.6005836955022037,0.5935154392514946,1.7716616365031885,2.1296881356155937,2.1541145426169193],\"type\":\"scatter\"}],\"name\":\"7\"},{\"data\":[{\"marker\":{\"color\":[\"red\",\"red\",\"red\",\"blue\",\"blue\",\"green\",\"green\",\"green\"]},\"mode\":\"markers\",\"x\":[0.22720660427427733,0.8129763527785588,0.32291220285454514,0.6241497248212636,0.6242245463467307,1.0503252773717877,0.8236588874230083,0.2867359421395221],\"y\":[-1.3058800117249731,-1.423000825945509,-0.6956675323952591,0.5841256345539965,0.5616254244848603,1.7499932485024654,2.158552682522678,2.5406172301056835],\"type\":\"scatter\"}],\"name\":\"8\"},{\"data\":[{\"marker\":{\"color\":[\"red\",\"red\",\"red\",\"blue\",\"blue\",\"green\",\"green\",\"green\"]},\"mode\":\"markers\",\"x\":[0.2054584618479393,0.8551296452575121,0.3518722771869058,0.6176306941425224,0.6162852197657072,0.9159064990284983,0.888799610665458,0.3211071301151319],\"y\":[-1.2977420446535468,-1.5264954298804532,-0.6802398441825538,0.5136860971182823,0.508174801048724,1.6740817519265108,2.3343749377614897,2.64452558096548],\"type\":\"scatter\"}],\"name\":\"9\"},{\"data\":[{\"marker\":{\"color\":[\"red\",\"red\",\"red\",\"blue\",\"blue\",\"green\",\"green\",\"green\"]},\"mode\":\"markers\",\"x\":[0.26343194183999,0.7471741057678741,0.3841661908849985,0.6152995151606929,0.6148631708897424,0.8642620468859957,0.9179438006286279,0.36504876595174623],\"y\":[-1.465174774292578,-1.3912434094000674,-0.779500999170362,0.48592980039920625,0.507569088012994,1.7022157488592955,2.469518695689169,2.641051700006305],\"type\":\"scatter\"}],\"name\":\"10\"},{\"data\":[{\"marker\":{\"color\":[\"red\",\"red\",\"red\",\"blue\",\"blue\",\"green\",\"green\",\"green\"]},\"mode\":\"markers\",\"x\":[0.22670929997998046,0.7544696114390887,0.4050702934361822,0.6034211935866116,0.609419680991322,0.8425462286623385,0.9822546150200482,0.34829861489409014],\"y\":[-1.580484589335344,-1.4956517524256996,-0.7734838377690378,0.5448643678525733,0.5618895328945825,1.73927855910409,2.591365495905722,2.582588073877069],\"type\":\"scatter\"}],\"name\":\"11\"},{\"data\":[{\"marker\":{\"color\":[\"red\",\"red\",\"red\",\"blue\",\"blue\",\"green\",\"green\",\"green\"]},\"mode\":\"markers\",\"x\":[0.15746944736249283,0.8154833203924479,0.4181150342693735,0.6052191541133062,0.6061194347506451,0.8583233080145423,0.9820785046516243,0.32938133445523105],\"y\":[-1.7140998041454596,-1.678816647682048,-0.7318564976861573,0.5726266874692567,0.5635577291770036,1.8177111031757056,2.5580522329591227,2.7831910468365715],\"type\":\"scatter\"}],\"name\":\"12\"},{\"data\":[{\"marker\":{\"color\":[\"red\",\"red\",\"red\",\"blue\",\"blue\",\"green\",\"green\",\"green\"]},\"mode\":\"markers\",\"x\":[0.1726873941673232,0.752550231573334,0.43519238646557157,0.6119830559571775,0.6128623848894823,0.8214311770233964,1.0014628670700576,0.36402004086332773],\"y\":[-1.747105747622718,-1.58836262205452,-0.941436225245545,0.5822602751430893,0.6075359816316555,1.9479959419764374,2.617709410472857,2.691768835802734],\"type\":\"scatter\"}],\"name\":\"13\"},{\"data\":[{\"marker\":{\"color\":[\"red\",\"red\",\"red\",\"blue\",\"blue\",\"green\",\"green\",\"green\"]},\"mode\":\"markers\",\"x\":[0.16146818072588753,0.7594104020070924,0.422695844454911,0.6110629983667292,0.6083281203992534,0.8120075288495173,0.9947693213971421,0.4024471418091456],\"y\":[-1.7231848413341029,-1.6665234527846517,-1.0804487269480842,0.5717529831684819,0.5522855799681051,2.1324618482209847,2.6975438861641186,2.686478573649134],\"type\":\"scatter\"}],\"name\":\"14\"},{\"data\":[{\"marker\":{\"color\":[\"red\",\"red\",\"red\",\"blue\",\"blue\",\"green\",\"green\",\"green\"]},\"mode\":\"markers\",\"x\":[0.19365226307080122,0.705329102103195,0.4161748017788329,0.6033358372617906,0.6086285307588757,0.8264044542323108,1.02808976882139,0.39057477998247897],\"y\":[-1.8279541926788438,-1.5158175621418537,-1.1511891458855628,0.45478705540426206,0.563516766599993,2.055565397275928,2.884591183374066,2.706866348156018],\"type\":\"scatter\"}],\"name\":\"15\"},{\"data\":[{\"marker\":{\"color\":[\"red\",\"red\",\"red\",\"blue\",\"blue\",\"green\",\"green\",\"green\"]},\"mode\":\"markers\",\"x\":[0.2220343059856088,0.7271445535622469,0.3923947658764497,0.5844946527958489,0.58579010580177,0.8255436986147848,1.0356132224568673,0.39917423291609533],\"y\":[-1.6779361737295875,-1.537495774588197,-1.209163039789564,0.38658534551935114,0.40379154341782236,2.138649223704472,2.9153333897343994,2.750601335835255],\"type\":\"scatter\"}],\"name\":\"16\"},{\"data\":[{\"marker\":{\"color\":[\"red\",\"red\",\"red\",\"blue\",\"blue\",\"green\",\"green\",\"green\"]},\"mode\":\"markers\",\"x\":[0.11735206066099185,0.8019400170934573,0.3789851285738167,0.585118357950317,0.5809841398017679,0.8161076016478843,1.0353164438838824,0.4563857883975653],\"y\":[-1.9069048538759437,-1.5938662600785747,-1.1974886707752872,0.3859613715658488,0.36502915670196195,2.3800440328416728,3.072435873387579,2.665155200336704],\"type\":\"scatter\"}],\"name\":\"17\"},{\"data\":[{\"marker\":{\"color\":[\"red\",\"red\",\"red\",\"blue\",\"blue\",\"green\",\"green\",\"green\"]},\"mode\":\"markers\",\"x\":[0.15556842812052876,0.8072947014397301,0.3682060897853004,0.5765205870313033,0.5823597037951154,0.8571284308324268,1.00190821711585,0.4232033798894192],\"y\":[-1.8787929160390142,-1.8056593247269548,-1.1174365189810738,0.4027367319809227,0.4092675600749071,2.3712760292442097,2.9441091737765266,2.8448651147744326],\"type\":\"scatter\"}],\"name\":\"18\"},{\"data\":[{\"marker\":{\"color\":[\"red\",\"red\",\"red\",\"blue\",\"blue\",\"green\",\"green\",\"green\"]},\"mode\":\"markers\",\"x\":[0.19624485688053278,0.797759899642322,0.33091680127433903,0.5772187765419459,0.5809263121447223,0.8208528055029902,1.0892136423747911,0.3790564436480292],\"y\":[-1.8595639436696403,-1.882077983203837,-1.0753493127044564,0.43197046252480137,0.43999376455838085,2.306297783511736,3.0514934266219145,2.757601652465091],\"type\":\"scatter\"}],\"name\":\"19\"},{\"data\":[{\"marker\":{\"color\":[\"red\",\"red\",\"red\",\"blue\",\"blue\",\"green\",\"green\",\"green\"]},\"mode\":\"markers\",\"x\":[0.2548574579712084,0.7334697611281543,0.337584400787171,0.5771938690668945,0.5778308252789259,0.8527000607992139,1.0878137700299564,0.3507393929481333],\"y\":[-1.804990107218505,-1.9002123189072548,-1.11659801113585,0.4420419251507078,0.4569517669071824,2.3372651975687493,3.028832527443256,2.727074870295656],\"type\":\"scatter\"}],\"name\":\"20\"},{\"data\":[{\"marker\":{\"color\":[\"red\",\"red\",\"red\",\"blue\",\"blue\",\"green\",\"green\",\"green\"]},\"mode\":\"markers\",\"x\":[0.17259109033158082,0.75010466873795,0.37566530254412167,0.5880437234037527,0.5919199781393824,0.8716219829058925,1.0875790518492974,0.33466374009767463],\"y\":[-2.0232397756404024,-1.6138531327963925,-1.148818035060793,0.44930655661199703,0.47765108085191055,2.2035646668512956,3.0464309210504434,2.779323568235886],\"type\":\"scatter\"}],\"name\":\"21\"},{\"data\":[{\"marker\":{\"color\":[\"red\",\"red\",\"red\",\"blue\",\"blue\",\"green\",\"green\",\"green\"]},\"mode\":\"markers\",\"x\":[0.19261834344107315,0.759592511999829,0.3577123381321613,0.6016834851216954,0.5962234282179611,0.8705484511586148,1.0670126528623234,0.32679832707600664],\"y\":[-1.961586792271399,-1.61565751469352,-1.2119389546095949,0.4775069995685583,0.4271923797456328,2.1548037335411916,2.958662993388009,2.941383005435075],\"type\":\"scatter\"}],\"name\":\"22\"},{\"data\":[{\"marker\":{\"color\":[\"red\",\"red\",\"red\",\"blue\",\"blue\",\"green\",\"green\",\"green\"]},\"mode\":\"markers\",\"x\":[0.11602303050360732,0.8633869331537264,0.339864683932161,0.6135093625161675,0.6093818638716711,0.858626557977482,1.0195603859664601,0.35183672008839156],\"y\":[-2.1012684737026945,-1.7658588662064463,-1.111640412114696,0.5160609291517986,0.50878300544075,2.19731467991982,2.8273212133012553,3.0996537743141577],\"type\":\"scatter\"}],\"name\":\"23\"},{\"data\":[{\"marker\":{\"color\":[\"red\",\"red\",\"red\",\"blue\",\"blue\",\"green\",\"green\",\"green\"]},\"mode\":\"markers\",\"x\":[0.1255256394627767,0.8748681502182069,0.31809070181584753,0.6035570078049723,0.6039843036523607,0.8325781691473958,1.033475164679656,0.3801104012284487],\"y\":[-2.113299936936239,-1.8350495641588724,-1.121561464994246,0.4799209354038555,0.47324474746673084,2.2780051356183586,2.905053449873601,3.1040525478307393],\"type\":\"scatter\"}],\"name\":\"24\"},{\"data\":[{\"marker\":{\"color\":[\"red\",\"red\",\"red\",\"blue\",\"blue\",\"green\",\"green\",\"green\"]},\"mode\":\"markers\",\"x\":[0.13001007423939465,0.8667388497829508,0.3156343810905341,0.6063855213733064,0.6108509665243748,0.8060600626315736,1.0557345381734478,0.38077514419409103],\"y\":[-2.1958351019193176,-1.8153995022221512,-1.1516993411997052,0.4622263690260009,0.5038721819556842,2.2052311908501077,2.944376226420301,3.2175938271930025],\"type\":\"scatter\"}],\"name\":\"25\"},{\"data\":[{\"marker\":{\"color\":[\"red\",\"red\",\"red\",\"blue\",\"blue\",\"green\",\"green\",\"green\"]},\"mode\":\"markers\",\"x\":[0.15678088802123147,0.8455757040161812,0.33042577624113495,0.6045545474813241,0.6076480317214136,0.7624205246316663,1.0705798296665718,0.394204236230151],\"y\":[-2.2455964139012314,-1.988349875800212,-1.0594324880099246,0.5313588649354237,0.5582782367806335,2.0689317996217818,3.0035045654076304,3.3016711610697995],\"type\":\"scatter\"}],\"name\":\"26\"},{\"data\":[{\"marker\":{\"color\":[\"red\",\"red\",\"red\",\"blue\",\"blue\",\"green\",\"green\",\"green\"]},\"mode\":\"markers\",\"x\":[0.15339974800300094,0.8081515934151858,0.3422780723311011,0.607097140183522,0.6037742548377012,0.7817615798132428,1.0599131637857644,0.4158139856401513],\"y\":[-2.394476729726987,-1.9184697912939133,-1.0547035102629538,0.5663491180767274,0.5723469482233963,2.206415954782559,3.063561586570449,3.129342273734661],\"type\":\"scatter\"}],\"name\":\"27\"},{\"data\":[{\"marker\":{\"color\":[\"red\",\"red\",\"red\",\"blue\",\"blue\",\"green\",\"green\",\"green\"]},\"mode\":\"markers\",\"x\":[0.15062087299206112,0.7723103425649088,0.35749696398122144,0.6046142147792486,0.6039907773376111,0.7921838011692025,1.0723968240688382,0.41857574111659207],\"y\":[-2.5534161639738535,-1.9525317490795175,-1.109990232100006,0.5604268754939187,0.5995992378788492,2.2523566962138357,3.1838023577795407,3.190118827891187],\"type\":\"scatter\"}],\"name\":\"28\"},{\"data\":[{\"marker\":{\"color\":[\"red\",\"red\",\"red\",\"blue\",\"blue\",\"green\",\"green\",\"green\"]},\"mode\":\"markers\",\"x\":[0.17173342104630182,0.7650667072565199,0.34945805452087586,0.6045660551214592,0.6045108907569867,0.7869990165600742,1.0036200735591008,0.48623531918836516],\"y\":[-2.5278109813084333,-1.9660580875447315,-1.1318386341757614,0.5825174649810851,0.5825833622483868,2.2783923904799748,3.123136524537846,3.2294438108856145],\"type\":\"scatter\"}],\"name\":\"29\"},{\"data\":[{\"marker\":{\"color\":[\"red\",\"red\",\"red\",\"blue\",\"blue\",\"green\",\"green\",\"green\"]},\"mode\":\"markers\",\"x\":[0.16213303546439248,0.7495476215959245,0.3391475484238248,0.6035760020017404,0.6027014254932347,0.7881325077873893,0.9770795543513021,0.5498718428918602],\"y\":[-2.560373878077929,-1.8125728613754795,-1.2918364908473225,0.5339292797768544,0.527605979491956,2.4083109167571197,3.263109819005408,3.102193085373371],\"type\":\"scatter\"}],\"name\":\"30\"},{\"data\":[{\"marker\":{\"color\":[\"red\",\"red\",\"red\",\"blue\",\"blue\",\"green\",\"green\",\"green\"]},\"mode\":\"markers\",\"x\":[0.1478146912326619,0.7102294086870979,0.3786523982490739,0.6021667014447001,0.6059634964004357,0.7993644537415936,0.9834539067243537,0.5445444815297549],\"y\":[-2.658109496494618,-1.8450035097285566,-1.3404306266436037,0.46157031976454954,0.5232732398550592,2.525107108472581,3.31922094088457,3.1847378739940013],\"type\":\"scatter\"}],\"name\":\"31\"},{\"data\":[{\"marker\":{\"color\":[\"red\",\"red\",\"red\",\"blue\",\"blue\",\"green\",\"green\",\"green\"]},\"mode\":\"markers\",\"x\":[0.13620343119429854,0.7091995035335744,0.3720673392496854,0.6059792849559623,0.6059609875868808,0.8157080243093399,1.001356697960884,0.5257142692190515],\"y\":[-2.7953695509317966,-1.6949859533846274,-1.30438636288413,0.4496803639295546,0.480150599847811,2.59732254221677,3.316041330494739,3.121912880815629],\"type\":\"scatter\"}],\"name\":\"32\"},{\"data\":[{\"marker\":{\"color\":[\"red\",\"red\",\"red\",\"blue\",\"blue\",\"green\",\"green\",\"green\"]},\"mode\":\"markers\",\"x\":[0.17024333939886913,0.6649096123510061,0.38379802069328944,0.6052710227501333,0.6048236018506695,0.8225956295664902,1.0212513832468861,0.4992969281523169],\"y\":[-2.7144363706847465,-1.727611763627514,-1.3554758201934862,0.4782580134779857,0.4785925884723423,2.6056229254125824,3.306162388462658,3.099253888784146],\"type\":\"scatter\"}],\"name\":\"33\"},{\"data\":[{\"marker\":{\"color\":[\"red\",\"red\",\"red\",\"blue\",\"blue\",\"green\",\"green\",\"green\"]},\"mode\":\"markers\",\"x\":[0.17717982735630433,0.6222727865274059,0.4116854916106377,0.6055347808813287,0.603876714458923,0.8089162082095117,1.0634974717760206,0.47922625718953593],\"y\":[-2.809056484519116,-1.7088491976933586,-1.3697885661402585,0.4625636950740813,0.4474058790702107,2.5367925242984075,3.3911645390025753,3.2201334610114287],\"type\":\"scatter\"}],\"name\":\"34\"},{\"data\":[{\"marker\":{\"color\":[\"red\",\"red\",\"red\",\"blue\",\"blue\",\"green\",\"green\",\"green\"]},\"mode\":\"markers\",\"x\":[0.22000975844540255,0.6311012451462478,0.38084784920157794,0.6038827299040322,0.6045277874119032,0.7994833968713956,1.0945888396116912,0.4377479314174102],\"y\":[-2.5209143966968632,-1.88149184148803,-1.5034758438908489,0.4348201119599352,0.44002551968554654,2.5587153592343728,3.3318391334035535,3.310847807896285],\"type\":\"scatter\"}],\"name\":\"35\"},{\"data\":[{\"marker\":{\"color\":[\"red\",\"red\",\"red\",\"blue\",\"blue\",\"green\",\"green\",\"green\"]},\"mode\":\"markers\",\"x\":[0.23734712973380193,0.6326036010040191,0.3548156971992748,0.5966863468062198,0.5968164630982351,0.8157401992928595,1.122628448075814,0.41555165279942474],\"y\":[-2.4186169712074137,-2.0172988324068495,-1.60142138956838,0.4137423893807226,0.4141952999542776,2.5198023127072644,3.4976420271649156,3.362321014079417],\"type\":\"scatter\"}],\"name\":\"36\"},{\"data\":[{\"marker\":{\"color\":[\"red\",\"red\",\"red\",\"blue\",\"blue\",\"green\",\"green\",\"green\"]},\"mode\":\"markers\",\"x\":[0.2094490773086266,0.6646897984942338,0.34127150893956953,0.5962051445094547,0.5965889175878455,0.8843458016190318,1.1400669878614569,0.33957230168943037],\"y\":[-2.426917004313852,-2.157303102706209,-1.6985117599539943,0.40204113414763354,0.38730463599178855,2.640771445135115,3.4704901130087142,3.5524903887947668],\"type\":\"scatter\"}],\"name\":\"37\"},{\"data\":[{\"marker\":{\"color\":[\"red\",\"red\",\"red\",\"blue\",\"blue\",\"green\",\"green\",\"green\"]},\"mode\":\"markers\",\"x\":[0.1787034189958307,0.7162780869060278,0.3146170730309927,0.6042433703296782,0.6077952396866461,0.8445610770450945,1.1304248885558987,0.3755663834595038],\"y\":[-2.5179364943684512,-2.1053829687427337,-1.6447805117225314,0.42523618598311985,0.4846146931722778,2.5880248138862405,3.434383885878304,3.5062062460177397],\"type\":\"scatter\"}],\"name\":\"38\"},{\"data\":[{\"marker\":{\"color\":[\"red\",\"red\",\"red\",\"blue\",\"blue\",\"green\",\"green\",\"green\"]},\"mode\":\"markers\",\"x\":[0.1488672497739256,0.7052222956199571,0.362197156129522,0.6066909324818155,0.6001933518987648,0.8467188157377686,1.0478893486363121,0.45441038773160825],\"y\":[-2.6491849730067876,-2.045115600948834,-1.4758633834868014,0.45715678694303036,0.4388844097729993,2.6095220696397767,3.4083631927131823,3.4266033484774083],\"type\":\"scatter\"}],\"name\":\"39\"},{\"data\":[{\"marker\":{\"color\":[\"red\",\"red\",\"red\",\"blue\",\"blue\",\"green\",\"green\",\"green\"]},\"mode\":\"markers\",\"x\":[0.16055659913888906,0.6999366566356859,0.35386752049501713,0.5999823934996903,0.598176554742436,0.8465098827773715,1.1681319595330555,0.3450279711875244],\"y\":[-2.5741903607895513,-2.0047857573639702,-1.5867084779612,0.430185846317211,0.42465721367312437,2.4291623161479987,3.5958840493052517,3.456161020775115],\"type\":\"scatter\"}],\"name\":\"40\"},{\"data\":[{\"marker\":{\"color\":[\"red\",\"red\",\"red\",\"blue\",\"blue\",\"green\",\"green\",\"green\"]},\"mode\":\"markers\",\"x\":[0.12660096320014877,0.7545405911184843,0.3418780024895917,0.5914875042224759,0.5960120466930177,0.8298068474575031,1.132561922232354,0.3993016605960966],\"y\":[-2.5840863112114456,-2.009018345324005,-1.4616470339523966,0.3616732457623036,0.4328491562129618,2.457249656981205,3.611042204224205,3.362303277411154],\"type\":\"scatter\"}],\"name\":\"41\"},{\"data\":[{\"marker\":{\"color\":[\"red\",\"red\",\"red\",\"blue\",\"blue\",\"green\",\"green\",\"green\"]},\"mode\":\"markers\",\"x\":[0.12357637893887799,0.7515717256578415,0.35168223639667584,0.5970237942389081,0.5982343782746569,0.8492744588836383,1.1102858566463065,0.3905407089727811],\"y\":[-2.685496685062798,-1.9946677191345181,-1.490653111049666,0.43158223282947494,0.4447981839055147,2.5749443827829444,3.391390216426127,3.4984683494069317],\"type\":\"scatter\"}],\"name\":\"42\"},{\"data\":[{\"marker\":{\"color\":[\"red\",\"red\",\"red\",\"blue\",\"blue\",\"green\",\"green\",\"green\"]},\"mode\":\"markers\",\"x\":[0.16423790050188056,0.7200575344017479,0.32447977069286876,0.6023650330988904,0.5977398789772219,0.8588848561350211,1.0530752912011752,0.4513492730008778],\"y\":[-2.672824916741154,-1.977720368419689,-1.5384072888525444,0.43126165226235635,0.378383516667788,2.7480347151835627,3.3610198175472425,3.4406187224564433],\"type\":\"scatter\"}],\"name\":\"43\"},{\"data\":[{\"marker\":{\"color\":[\"red\",\"red\",\"red\",\"blue\",\"blue\",\"green\",\"green\",\"green\"]},\"mode\":\"markers\",\"x\":[0.18509510496225526,0.7214118322212549,0.2792119958034006,0.60753293076694,0.6075818174020455,0.9020987661165947,1.0327040260954823,0.43655306464170257],\"y\":[-2.7370518089610165,-2.089235823849462,-1.652092054867615,0.47745596821968006,0.4783663191288342,2.820680431574303,3.3039383795230632,3.5683044393362393],\"type\":\"scatter\"}],\"name\":\"44\"},{\"data\":[{\"marker\":{\"color\":[\"red\",\"red\",\"red\",\"blue\",\"blue\",\"green\",\"green\",\"green\"]},\"mode\":\"markers\",\"x\":[0.175071962368178,0.7405805262592366,0.29127998136713984,0.6053035341809733,0.6042365349042506,0.9026268067343096,1.0421685506890965,0.41092164150648547],\"y\":[-2.62956493148513,-2.194956033015769,-1.6390311628810994,0.4355390555353834,0.43742004961718534,2.8511899911192544,3.244603299357218,3.6651655818569213],\"type\":\"scatter\"}],\"name\":\"45\"},{\"data\":[{\"marker\":{\"color\":[\"red\",\"red\",\"red\",\"blue\",\"blue\",\"green\",\"green\",\"green\"]},\"mode\":\"markers\",\"x\":[0.1567878745896154,0.721260168786606,0.3060162958379762,0.6041937659464807,0.5985505911368252,0.8473294561470052,1.0676766249368232,0.47037476062834027],\"y\":[-2.8079470769184223,-2.0495008404192747,-1.679476215087192,0.40954517711917227,0.3873138161686976,2.9110427021542726,3.409133815361322,3.5902544717254194],\"type\":\"scatter\"}],\"name\":\"46\"},{\"data\":[{\"marker\":{\"color\":[\"red\",\"red\",\"red\",\"blue\",\"blue\",\"green\",\"green\",\"green\"]},\"mode\":\"markers\",\"x\":[0.17763741001011293,0.7129668128408706,0.302282316094528,0.6002506137521486,0.6009740997362314,0.8041519028439171,1.0073232950249467,0.5666030877069228],\"y\":[-2.6905653373821323,-2.0539101563637963,-1.674580621683923,0.4523817160730735,0.4392122692972384,2.9756612374132283,3.3976185806561663,3.3245481620941004],\"type\":\"scatter\"}],\"name\":\"47\"},{\"data\":[{\"marker\":{\"color\":[\"red\",\"red\",\"red\",\"blue\",\"blue\",\"green\",\"green\",\"green\"]},\"mode\":\"markers\",\"x\":[0.1671793480405617,0.7369606065282688,0.31605844948542444,0.5952904395169419,0.5922399225942422,0.7839560395102099,1.0760651629408728,0.5044395693931728],\"y\":[-2.722194359129572,-2.1939242246394772,-1.482783275661885,0.38777236114343144,0.36581806184271864,2.9407393458625184,3.3900371436254217,3.4849007970607513],\"type\":\"scatter\"}],\"name\":\"48\"},{\"data\":[{\"marker\":{\"color\":[\"red\",\"red\",\"red\",\"blue\",\"blue\",\"green\",\"green\",\"green\"]},\"mode\":\"markers\",\"x\":[0.16057115610887254,0.7496026695998075,0.334313578792013,0.5884659174435114,0.5783601356822857,0.7568410346314438,1.0758974376474328,0.5281376081043283],\"y\":[-2.6651708654189306,-2.243580734847512,-1.4727580226183004,0.42511091218695335,0.3153491871226825,2.9450803763355236,3.3634676001371737,3.502867397206299],\"type\":\"scatter\"}],\"name\":\"49\"},{\"data\":[{\"marker\":{\"color\":[\"red\",\"red\",\"red\",\"blue\",\"blue\",\"green\",\"green\",\"green\"]},\"mode\":\"markers\",\"x\":[0.17559485451874365,0.6911699876021224,0.37122381339160754,0.5890871841498604,0.5889114012977915,0.6812653882548412,1.17863203743945,0.4963048713552914],\"y\":[-2.779381271212432,-2.302087067515336,-1.442042987342578,0.383489200965751,0.38330544581415565,3.049512396870888,3.3734492205000657,3.5041209120234083],\"type\":\"scatter\"}],\"name\":\"50\"},{\"data\":[{\"marker\":{\"color\":[\"red\",\"red\",\"red\",\"blue\",\"blue\",\"green\",\"green\",\"green\"]},\"mode\":\"markers\",\"x\":[0.16171079779210187,0.6859459419339328,0.3693707761965642,0.6032638922233333,0.6010005130359835,0.6830510514398911,1.1787855219831176,0.4890610434047997],\"y\":[-2.8359620044032754,-2.089396847327326,-1.6045451150433487,0.4307509070345994,0.43648674964305695,2.8938978685298675,3.344733122983025,3.5944011686873396],\"type\":\"scatter\"}],\"name\":\"51\"},{\"data\":[{\"marker\":{\"color\":[\"red\",\"red\",\"red\",\"blue\",\"blue\",\"green\",\"green\",\"green\"]},\"mode\":\"markers\",\"x\":[0.18673123657589186,0.7097575153324883,0.3271268221173142,0.5970023581188082,0.5992846865271516,0.6825017146087127,1.1610179676999592,0.5087672370293902],\"y\":[-2.6849521425471696,-2.129301655519408,-1.8177154634095594,0.437542370331608,0.4675993103422777,2.8340528155180893,3.363640385808013,3.6995002295800887],\"type\":\"scatter\"}],\"name\":\"52\"},{\"data\":[{\"marker\":{\"color\":[\"red\",\"red\",\"red\",\"blue\",\"blue\",\"green\",\"green\",\"green\"]},\"mode\":\"markers\",\"x\":[0.18654424448637455,0.6942216274036568,0.3252020333408836,0.5959657618370224,0.5980475693073768,0.6736848486923087,1.1804039437071518,0.5181195092349328],\"y\":[-2.780225961977911,-2.0456019392226183,-1.7599574282387702,0.40141961376667346,0.4334039725100631,2.7733583019385284,3.497467780453113,3.650501510874885],\"type\":\"scatter\"}],\"name\":\"53\"},{\"data\":[{\"marker\":{\"color\":[\"red\",\"red\",\"red\",\"blue\",\"blue\",\"green\",\"green\",\"green\"]},\"mode\":\"markers\",\"x\":[0.22344944281618362,0.7133357550062972,0.2742790821310977,0.5868213173676499,0.5890820446851502,0.6786969460933017,1.1782040660571922,0.5283208838528439],\"y\":[-2.6649542791908627,-1.9787122926700893,-1.7876997705256787,0.34106313523906717,0.3863939816621715,2.790627605396469,3.5153840492622304,3.5682634209306783],\"type\":\"scatter\"}],\"name\":\"54\"},{\"data\":[{\"marker\":{\"color\":[\"red\",\"red\",\"red\",\"blue\",\"blue\",\"green\",\"green\",\"green\"]},\"mode\":\"markers\",\"x\":[0.2106796809486241,0.7223958309420908,0.2804398363790008,0.5913855139874951,0.5919678182119305,0.6914134457917629,1.183475905265758,0.5004315064830771],\"y\":[-2.7441971178843585,-1.9461655313304602,-1.7295326694184738,0.4193593962292655,0.42463663989715605,2.726378620651233,3.4312835317189125,3.588602980240722],\"type\":\"scatter\"}],\"name\":\"55\"},{\"data\":[{\"marker\":{\"color\":[\"red\",\"red\",\"red\",\"blue\",\"blue\",\"green\",\"green\",\"green\"]},\"mode\":\"markers\",\"x\":[0.21431176758816067,0.7285670394693418,0.2556444484971684,0.5964335808743354,0.5955880036922703,0.7251249777568645,1.1171784720843285,0.5393412480472624],\"y\":[-2.777475613614515,-1.860442205363718,-1.8369735464966952,0.41333427439940884,0.4056567731806436,2.78858780522296,3.394495673587486,3.643182689188412],\"type\":\"scatter\"}],\"name\":\"56\"},{\"data\":[{\"marker\":{\"color\":[\"red\",\"red\",\"red\",\"blue\",\"blue\",\"green\",\"green\",\"green\"]},\"mode\":\"markers\",\"x\":[0.20928912555603776,0.7347921942919005,0.24338164700181203,0.5946706813510408,0.5947400465361466,0.7186485449085439,1.178459682158377,0.49820761620587767],\"y\":[-2.8394743295099416,-1.7400846793942533,-1.772405492440402,0.4322199908335652,0.4539718610448682,2.6812271628827107,3.4410490592060357,3.5138622774813806],\"type\":\"scatter\"}],\"name\":\"57\"},{\"data\":[{\"marker\":{\"color\":[\"red\",\"red\",\"red\",\"blue\",\"blue\",\"green\",\"green\",\"green\"]},\"mode\":\"markers\",\"x\":[0.25720487847910894,0.7239609949961583,0.21317283801561085,0.5964631471709246,0.5991554594870406,0.7595398598647314,1.187846741911573,0.4348456180845855],\"y\":[-2.6348872828552867,-1.67684652300005,-1.8433322435936732,0.44881981653526704,0.48673600773379616,2.6028986693607306,3.2888719407423017,3.498105465180876],\"type\":\"scatter\"}],\"name\":\"58\"},{\"data\":[{\"marker\":{\"color\":[\"red\",\"red\",\"red\",\"blue\",\"blue\",\"green\",\"green\",\"green\"]},\"mode\":\"markers\",\"x\":[0.2579641515557359,0.7083640624481014,0.18949271860243222,0.6100293168192443,0.6102925555639639,0.7796539767779562,1.1448146367421919,0.47157811950011813],\"y\":[-2.8012134089305234,-1.4851203151236156,-1.9320104597374244,0.4747164459273651,0.47435932710334416,2.7177832490039546,3.252406405857668,3.469444606003225],\"type\":\"scatter\"}],\"name\":\"59\"},{\"data\":[{\"marker\":{\"color\":[\"red\",\"red\",\"red\",\"blue\",\"blue\",\"green\",\"green\",\"green\"]},\"mode\":\"markers\",\"x\":[0.26175828248832583,0.6723726179764858,0.23807048702748407,0.6095918947799001,0.6120286836690934,0.773764529624369,1.0890361776224302,0.515566864821652],\"y\":[-2.7363271849122217,-1.4582928141005793,-1.9141369753278779,0.4871605197045673,0.5222779238043501,2.653041299894919,3.145767145001208,3.470875936039635],\"type\":\"scatter\"}],\"name\":\"60\"},{\"data\":[{\"marker\":{\"color\":[\"red\",\"red\",\"red\",\"blue\",\"blue\",\"green\",\"green\",\"green\"]},\"mode\":\"markers\",\"x\":[0.30305527195394083,0.6568067419848961,0.18480256143183402,0.6043973483029008,0.604124217703167,0.7296564239067225,1.208803479720777,0.4805434930055033],\"y\":[-2.6701988829115004,-1.5312398363785298,-2.025014156352264,0.48561797295887166,0.47035193661392993,2.552686402745025,3.447788463328505,3.4403739500999375],\"type\":\"scatter\"}],\"name\":\"61\"},{\"data\":[{\"marker\":{\"color\":[\"red\",\"red\",\"red\",\"blue\",\"blue\",\"green\",\"green\",\"green\"]},\"mode\":\"markers\",\"x\":[0.3145614912873962,0.6257569992804782,0.19745024446367318,0.615652603260332,0.6154494854101089,0.7678125791989259,1.2249377030831565,0.4105684320256813],\"y\":[-2.766800844913767,-1.5575186670276386,-1.9734897963874498,0.5721785865217636,0.5757782722999181,2.537826224427842,3.3137375157315363,3.4686545594517413],\"type\":\"scatter\"}],\"name\":\"62\"},{\"data\":[{\"marker\":{\"color\":[\"red\",\"red\",\"red\",\"blue\",\"blue\",\"green\",\"green\",\"green\"]},\"mode\":\"markers\",\"x\":[0.31309681799565403,0.6280430039871745,0.1960085954942449,0.6142283635143434,0.613456252363607,0.7255672603808453,1.2661830506488692,0.415606193625017],\"y\":[-2.6945205522724645,-1.5243311198809195,-2.0297349313046005,0.6081111139562203,0.5916397843448129,2.350971188509463,3.4245891664089623,3.4436412003424737],\"type\":\"scatter\"}],\"name\":\"63\"},{\"data\":[{\"marker\":{\"color\":[\"red\",\"red\",\"red\",\"blue\",\"blue\",\"green\",\"green\",\"green\"]},\"mode\":\"markers\",\"x\":[0.34224094529738475,0.646313410644404,0.16364527188166259,0.6098481962374726,0.6089475559835524,0.739651127720443,1.2281480037781634,0.4333950264666875],\"y\":[-2.429082494222919,-1.631520097994119,-2.1977174219734863,0.6143373870642891,0.5932963941158076,2.3536204353949337,3.3436153258242562,3.523816321895141],\"type\":\"scatter\"}],\"name\":\"64\"},{\"data\":[{\"marker\":{\"color\":[\"red\",\"red\",\"red\",\"blue\",\"blue\",\"green\",\"green\",\"green\"]},\"mode\":\"markers\",\"x\":[0.45632603729512866,0.6187456252936462,0.06325228138878658,0.6034577177251369,0.6051422727628064,0.7532246166524681,1.2120145995202363,0.46002638737154916],\"y\":[-2.359021498484163,-1.6237220305867728,-2.2583554737764744,0.5589959655718454,0.5711654309834744,2.4800653126871732,3.3862664296375753,3.4149717140712954],\"type\":\"scatter\"}],\"name\":\"65\"},{\"data\":[{\"marker\":{\"color\":[\"red\",\"red\",\"red\",\"blue\",\"blue\",\"green\",\"green\",\"green\"]},\"mode\":\"markers\",\"x\":[0.43658147788272156,0.604776040557431,0.11125438941155864,0.5937560880064741,0.595888649225785,0.7738118686571469,1.146403691548898,0.5097173327197395],\"y\":[-2.3583335442541444,-1.5926528276420457,-2.108252886729595,0.5018669922399575,0.5159271336630752,2.6532669186179145,3.3388877503308594,3.2196563138779855],\"type\":\"scatter\"}],\"name\":\"66\"},{\"data\":[{\"marker\":{\"color\":[\"red\",\"red\",\"red\",\"blue\",\"blue\",\"green\",\"green\",\"green\"]},\"mode\":\"markers\",\"x\":[0.41047795004899806,0.614395178606,0.10847897901385731,0.6086833141161685,0.6062427426171456,0.8184191038180627,1.1288543461072833,0.4766379236822439],\"y\":[-2.128792777466479,-1.674576627118087,-2.2816333337022914,0.6109349728287123,0.528473746350032,2.6835980085695468,3.2659816243466033,3.166380236295944],\"type\":\"scatter\"}],\"name\":\"67\"},{\"data\":[{\"marker\":{\"color\":[\"red\",\"red\",\"red\",\"blue\",\"blue\",\"green\",\"green\",\"green\"]},\"mode\":\"markers\",\"x\":[0.4475009055826264,0.6020877979917657,0.09921135234257704,0.6100687985572889,0.6100854584673332,0.8456101793477444,1.0579791803087277,0.4996458654116987],\"y\":[-2.051840061818977,-1.6777981000914826,-2.2241010703775093,0.5665649246249937,0.5682974271005967,2.6832250796982695,3.1289481384671545,3.177069512500912],\"type\":\"scatter\"}],\"name\":\"68\"},{\"data\":[{\"marker\":{\"color\":[\"red\",\"red\",\"red\",\"blue\",\"blue\",\"green\",\"green\",\"green\"]},\"mode\":\"markers\",\"x\":[0.4848434832632954,0.5798830373587402,0.09822986225222563,0.6113396025261262,0.6110275047149514,0.8374040422044254,1.0550982764675783,0.49436372922243493],\"y\":[-1.9886135316591464,-1.518153169962989,-2.2053208445943198,0.5139166246900153,0.5397451028514652,2.624443213983836,3.0041814804005345,3.2001669743945453],\"type\":\"scatter\"}],\"name\":\"69\"},{\"data\":[{\"marker\":{\"color\":[\"red\",\"red\",\"red\",\"blue\",\"blue\",\"green\",\"green\",\"green\"]},\"mode\":\"markers\",\"x\":[0.5141112467305652,0.5988201821982997,0.05674036503419969,0.6078032443675697,0.6097721142443719,0.8026665672563195,1.0817114535671053,0.5005643646113487],\"y\":[-1.8084331328894427,-1.4801239753014,-2.310083545498715,0.4843618679474061,0.49082817696944114,2.598581085129113,2.9935895857206147,3.201645788026951],\"type\":\"scatter\"}],\"name\":\"70\"},{\"data\":[{\"marker\":{\"color\":[\"red\",\"red\",\"red\",\"blue\",\"blue\",\"green\",\"green\",\"green\"]},\"mode\":\"markers\",\"x\":[0.4958403921323359,0.5898971414484975,0.03771533573103769,0.6119935389210954,0.6121184579200353,0.7741088066889603,1.122101881284959,0.5284139838828661],\"y\":[-1.8215852116573696,-1.3956301263741726,-2.5516670855962063,0.5051378216846386,0.5152845575413959,2.683248334899315,3.1380490794812332,3.0975284801250886],\"type\":\"scatter\"}],\"name\":\"71\"},{\"data\":[{\"marker\":{\"color\":[\"red\",\"red\",\"red\",\"blue\",\"blue\",\"green\",\"green\",\"green\"]},\"mode\":\"markers\",\"x\":[0.49015887003323677,0.5632348966315646,0.057733474409655386,0.6041063957311952,0.6085432854824557,0.7458689484946389,1.1817060466397828,0.5208376205872443],\"y\":[-1.9402076768551013,-1.3509874166003757,-2.549396224311792,0.5132471228441686,0.5451951134619922,2.6120601482284305,3.2858752625436436,3.0545795207929762],\"type\":\"scatter\"}],\"name\":\"72\"},{\"data\":[{\"marker\":{\"color\":[\"red\",\"red\",\"red\",\"blue\",\"blue\",\"green\",\"green\",\"green\"]},\"mode\":\"markers\",\"x\":[0.5133181774568158,0.5387295469354672,0.0574025646148279,0.6060293148837693,0.6082069022485153,0.7688394720481685,1.1297907104942901,0.5498728493279158],\"y\":[-1.8647382024540853,-1.314226390264186,-2.568887561608723,0.5239402980941926,0.4983993413091984,2.6529079230854644,3.2157255334601826,3.027244908481878],\"type\":\"scatter\"}],\"name\":\"73\"},{\"data\":[{\"marker\":{\"color\":[\"red\",\"red\",\"red\",\"blue\",\"blue\",\"green\",\"green\",\"green\"]},\"mode\":\"markers\",\"x\":[0.5091136203258737,0.5088185480520829,0.08705885183548151,0.6013760598679669,0.602056801512234,0.7660590193100133,1.229931809946442,0.46777482715968294],\"y\":[-1.9651001308113076,-1.3488783196248146,-2.489922030531197,0.5447144121087398,0.549115234451042,2.612693111449205,3.342560044717,2.925183528345234],\"type\":\"scatter\"}],\"name\":\"74\"},{\"data\":[{\"marker\":{\"color\":[\"red\",\"red\",\"red\",\"blue\",\"blue\",\"green\",\"green\",\"green\"]},\"mode\":\"markers\",\"x\":[0.49743473223729995,0.47983124268984323,0.10727548361034367,0.5968886305283492,0.5955083911290894,0.794424432814109,1.252410170834946,0.4484164541658005],\"y\":[-1.9797342731848273,-1.4242120270684142,-2.5000180950279076,0.5427058057013644,0.5289639829748425,2.5817665417784004,3.4748777691150807,2.9460161458153586],\"type\":\"scatter\"}],\"name\":\"75\"},{\"data\":[{\"marker\":{\"color\":[\"red\",\"red\",\"red\",\"blue\",\"blue\",\"green\",\"green\",\"green\"]},\"mode\":\"markers\",\"x\":[0.5038960477575973,0.43819472632572914,0.15792374241240772,0.5909443211214329,0.5867454462400102,0.840352582225667,1.1432533066873274,0.5108793652396125],\"y\":[-2.156431378153811,-1.5899699631612618,-2.2262382519677515,0.477945296772047,0.4638051570775538,2.7316376918024163,3.3457539670645553,3.1238633306701447],\"type\":\"scatter\"}],\"name\":\"76\"},{\"data\":[{\"marker\":{\"color\":[\"red\",\"red\",\"red\",\"blue\",\"blue\",\"green\",\"green\",\"green\"]},\"mode\":\"markers\",\"x\":[0.5386110010423545,0.4259674569743119,0.10177873820949533,0.5858198902279762,0.5847647590360346,0.8693693860610429,1.1723771015120776,0.493501204946491],\"y\":[-2.000309936221041,-1.6325322055190574,-2.4454063878209022,0.4617962750201841,0.4667255039761811,2.723162834093864,3.5406664484745187,3.056263318100125],\"type\":\"scatter\"}],\"name\":\"77\"},{\"data\":[{\"marker\":{\"color\":[\"red\",\"red\",\"red\",\"blue\",\"blue\",\"green\",\"green\",\"green\"]},\"mode\":\"markers\",\"x\":[0.5747641022871569,0.44672388116208334,0.015302422859552998,0.5798309648271913,0.5817427566031808,0.9297671482748718,1.1706996690946518,0.4733585929011129],\"y\":[-2.0747642872118157,-1.4512006133117983,-2.6873250497944254,0.3913713958213062,0.47370914551244186,2.878898040520769,3.6344744085243716,3.0052028100430186],\"type\":\"scatter\"}],\"name\":\"78\"},{\"data\":[{\"marker\":{\"color\":[\"red\",\"red\",\"red\",\"blue\",\"blue\",\"green\",\"green\",\"green\"]},\"mode\":\"markers\",\"x\":[0.5976120889255216,0.4235553988627784,0.02212176111003855,0.5868585788294365,0.5920683857117218,1.0090823772367843,1.1098817970874564,0.43100915024606073],\"y\":[-2.14090875372978,-1.4340665416626985,-2.6621417560924776,0.43037847475953717,0.4299046611378126,2.914632087438298,3.4395312897570887,3.1930363884960427],\"type\":\"scatter\"}],\"name\":\"79\"},{\"data\":[{\"marker\":{\"color\":[\"red\",\"red\",\"red\",\"blue\",\"blue\",\"green\",\"green\",\"green\"]},\"mode\":\"markers\",\"x\":[0.6107468627002572,0.42998494546064053,-0.002000290010784963,0.5843959875863264,0.5900314606383368,0.9947062103510754,1.1129031855530467,0.4514211757308878],\"y\":[-1.8975901665076076,-1.335227070254002,-2.8480123700323907,0.359202917434525,0.4064242949267476,2.8841815954201797,3.418132448090707,3.1832542010256213],\"type\":\"scatter\"}],\"name\":\"80\"},{\"data\":[{\"marker\":{\"color\":[\"red\",\"red\",\"red\",\"blue\",\"blue\",\"green\",\"green\",\"green\"]},\"mode\":\"markers\",\"x\":[0.6153503244862072,0.3669240921076938,0.07058341871435433,0.5874463842478908,0.5880246552568136,0.9700312573758304,1.090480355863032,0.4833490499579521],\"y\":[-1.9527962972682789,-1.6064784428231107,-2.564987978125751,0.4693770135474943,0.4764116186081964,2.868413907011563,3.330795678697942,3.1496303504556957],\"type\":\"scatter\"}],\"name\":\"81\"},{\"data\":[{\"marker\":{\"color\":[\"red\",\"red\",\"red\",\"blue\",\"blue\",\"green\",\"green\",\"green\"]},\"mode\":\"markers\",\"x\":[0.5839885843955287,0.34610509419798324,0.12323692441363683,0.5958716507441165,0.596548310658439,0.9639014943119409,1.1477012608317398,0.4148362184563894],\"y\":[-2.0040341093055076,-1.7172076903487499,-2.416458043622422,0.5309598385473052,0.5322164037542684,2.687953798805669,3.406164636195456,3.150771016077801],\"type\":\"scatter\"}],\"name\":\"82\"}]);\n",
       "                        }).then(function(){\n",
       "                            \n",
       "var gd = document.getElementById('e50a32fb-8537-48fb-ac94-ed0c8254f176');\n",
       "var x = new MutationObserver(function (mutations, observer) {{\n",
       "        var display = window.getComputedStyle(gd).display;\n",
       "        if (!display || display === 'none') {{\n",
       "            console.log([gd, 'removed!']);\n",
       "            Plotly.purge(gd);\n",
       "            observer.disconnect();\n",
       "        }}\n",
       "}});\n",
       "\n",
       "// Listen for the removal of the full notebook cells\n",
       "var notebookContainer = gd.closest('#notebook-container');\n",
       "if (notebookContainer) {{\n",
       "    x.observe(notebookContainer, {childList: true});\n",
       "}}\n",
       "\n",
       "// Listen for the clearing of the current output cell\n",
       "var outputEl = gd.closest('.output');\n",
       "if (outputEl) {{\n",
       "    x.observe(outputEl, {childList: true});\n",
       "}}\n",
       "\n",
       "                        })                };                });            </script>        </div>"
      ]
     },
     "metadata": {},
     "output_type": "display_data"
    }
   ],
   "source": [
    "color_list = labels2colors(env.trueLabel())\n",
    "color_list, neuron_group.log.shape\n",
    "\n",
    "fig = create_trace_plot(neuron_group.log[::10000], colors = color_list)\n",
    "fig.show()"
   ]
  },
  {
   "cell_type": "code",
   "execution_count": null,
   "metadata": {},
   "outputs": [
    {
     "data": {
      "text/plain": [
       "2.718281828459045"
      ]
     },
     "execution_count": null,
     "metadata": {},
     "output_type": "execute_result"
    }
   ],
   "source": [
    "np"
   ]
  },
  {
   "cell_type": "code",
   "execution_count": null,
   "metadata": {},
   "outputs": [
    {
     "data": {
      "text/plain": [
       "array([[0, 1, 2],\n",
       "       [3, 4, 4],\n",
       "       [4, 4, 4]])"
      ]
     },
     "execution_count": null,
     "metadata": {},
     "output_type": "execute_result"
    }
   ],
   "source": [
    "np.minimum(np.arange(9).reshape(3,3), 4)"
   ]
  },
  {
   "cell_type": "markdown",
   "metadata": {},
   "source": [
    "## other"
   ]
  },
  {
   "cell_type": "code",
   "execution_count": null,
   "metadata": {},
   "outputs": [],
   "source": [
    "#| hide\n",
    "import nbdev; nbdev.nbdev_export()"
   ]
  }
 ],
 "metadata": {
  "kernelspec": {
   "display_name": "python3",
   "language": "python",
   "name": "python3"
  }
 },
 "nbformat": 4,
 "nbformat_minor": 4
}
