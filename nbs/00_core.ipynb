{
 "cells": [
  {
   "cell_type": "markdown",
   "metadata": {},
   "source": [
    "# SyncMap-core\n",
    "\n",
    "> The core of SynCMap"
   ]
  },
  {
   "cell_type": "code",
   "execution_count": null,
   "metadata": {},
   "outputs": [],
   "source": [
    "#| default_exp core"
   ]
  },
  {
   "cell_type": "code",
   "execution_count": null,
   "metadata": {},
   "outputs": [],
   "source": [
    "#| export\n",
    "import pandas as pd\n",
    "\n",
    "import numpy as np\n",
    "import math\n",
    "import matplotlib.pyplot as plt\n",
    "import seaborn as sns\n",
    "\n",
    "from sklearn.cluster import DBSCAN\n",
    "from scipy.spatial import distance\n",
    "\n",
    "from scipy.stats import entropy\n",
    "# from sklearn.metrics import normalized_mutual_info_score\n",
    "\n",
    "from tqdm import tqdm\n",
    "\n",
    "import sys\n",
    "# sys.path.insert(0, '../')\n",
    "# 如果没有 pip install -e . 下面一行就不会成功\n",
    "from SyncMap_Draft.utility import OverlapChunkTest1, to_categorical, compute_combi_dist\n",
    "\n",
    "import fastcore.all as fc\n",
    "# from ipywidgets import widgets\n",
    "# from IPython.display import display"
   ]
  },
  {
   "cell_type": "code",
   "execution_count": null,
   "metadata": {},
   "outputs": [],
   "source": []
  },
  {
   "cell_type": "code",
   "execution_count": null,
   "metadata": {},
   "outputs": [],
   "source": [
    "#| export\n",
    "class SyncMap:\n",
    "\t'''\n",
    "\tThe original syncmap\n",
    "\t'''\n",
    "\tdef __init__(self, input_size, dimensions, adaptation_rate):\n",
    "\t\t\n",
    "\t\tself.organized= False\n",
    "\t\tself.space_size= 10\n",
    "\t\tself.dimensions= dimensions\n",
    "\t\tself.input_size= input_size\n",
    "\t\t#syncmap= np.zeros((input_size,dimensions))\n",
    "\t\tself.syncmap= np.random.rand(input_size,dimensions)\n",
    "\t\tself.adaptation_rate= adaptation_rate\n",
    "\t\tself.total_activation= np.zeros(input_size)\n",
    "\t\t#self.syncmap= np.random.rand(dimensions, input_size)\n",
    "\t\n",
    "\tdef inputGeneral(self, x):\n",
    "\t\tplus= x > 0.1\n",
    "\t\tminus = ~ plus\n",
    "\n",
    "\t\tsequence_size = x.shape[0]\n",
    "\t\t#print(sequence_size, \"asfasdfasdfasd\")\n",
    "\t\tfor i in range(sequence_size):\n",
    "\t\t\t\n",
    "\t\t\tvplus= plus[i,:]\n",
    "\t\t\tvminus= minus[i,:]\n",
    "\t\t\tplus_mass = vplus.sum()\n",
    "\t\t\tminus_mass = vminus.sum()\n",
    "\t\t\tself.total_activation+= vplus.astype(int)\n",
    "\t\t\t# self.total_activation-= vminus.astype(int)\n",
    "\t\t\t#print(plus_mass)\n",
    "\t\t\t#print(minus_mass)\n",
    "\t\t\t\n",
    "\t\t\tif plus_mass <= 1:\n",
    "\t\t\t\tcontinue\n",
    "\t\t\t\n",
    "\t\t\tif minus_mass <= 1:\n",
    "\t\t\t\tcontinue\n",
    "\n",
    "\t\t\t#print(\"vplus\")\n",
    "\t\t\t#print(vplus)\n",
    "\t\t\t# np.dot(vplus,self.syncmap): syncmap的每个分量（1~8）在vplus中的贡献（投影）\n",
    "\t\t\tcenter_plus= np.dot(vplus,self.syncmap)/plus_mass\n",
    "\t\t\tcenter_minus= np.dot(vminus,self.syncmap)/minus_mass\n",
    "\t\t\n",
    "\t\t\t#print(self.syncmap.shape)\n",
    "\t\t\t#exit()\n",
    "\t\t\tdist_plus= distance.cdist(center_plus[None,:], self.syncmap, 'euclidean') # 质心到每个点的距离，相当于cluster的半径？\n",
    "\t\t\tdist_minus= distance.cdist(center_minus[None,:], self.syncmap, 'euclidean')\n",
    "\t\t\tdist_plus= np.transpose(dist_plus)\n",
    "\t\t\tdist_minus= np.transpose(dist_minus)\n",
    "\t\t\t\n",
    "\t\t\tupdate_plus= vplus[:,np.newaxis]*((center_plus - self.syncmap)/dist_plus)# + (self.syncmap - center_minus)/dist_minus)\n",
    "\t\t\tupdate_minus= vminus[:,np.newaxis]*((center_minus -self.syncmap)/dist_minus)\n",
    "\t\t\t\n",
    "\t\t\tupdate= update_plus - update_minus\n",
    "\t\t\tself.syncmap+= self.adaptation_rate*update\n",
    "\t\t\t\n",
    "\t\t\tmaximum=self.syncmap.max()\n",
    "\t\t\tself.syncmap= self.space_size*self.syncmap/maximum\n",
    "\t\t\t\n",
    "\t\tself.total_activation= self.total_activation/sequence_size\n",
    "\t\t\n",
    "\t\tself.syncmap = self.syncmap * self.total_activation[:, np.newaxis]\n",
    "\n",
    "\n",
    "\tdef input(self, x):\n",
    "\t\t\n",
    "\t\tself.inputGeneral(x)\n",
    "\n",
    "\t\treturn\n",
    "\n",
    "\t\t\t\n",
    "\tdef organize(self):\n",
    "\t\n",
    "\t\tself.organized= True\n",
    "\t\t#self.labels= DBSCAN(eps=3, min_samples=2).fit_predict(self.syncmap)\n",
    "\t\t# self.labels= DBSCAN(eps=3, min_samples=2).fit_predict(self.syncmap)\n",
    "\t\tself.labels= DBSCAN(eps=0.8, min_samples=2).fit_predict(self.syncmap)\n",
    "\n",
    "\t\treturn self.labels\n",
    "\n",
    "\tdef activate(self, x):\n",
    "\t\t'''\n",
    "\t\tReturn the label of the index with maximum input value\n",
    "\t\t'''\n",
    "\n",
    "\t\tif self.organized == False:\n",
    "\t\t\tprint(\"Activating a non-organized SyncMap\")\n",
    "\t\t\treturn\n",
    "\t\t\n",
    "\t\t#maximum output\n",
    "\t\tmax_index= np.argmax(x)\n",
    "\n",
    "\t\treturn self.labels[max_index]\n",
    "\n",
    "\tdef plotSequence(self, input_sequence, input_class,filename=\"plot.png\"):\n",
    "\n",
    "\t\tinput_sequence= input_sequence[1:500]\n",
    "\t\tinput_class= input_class[1:500]\n",
    "\n",
    "\t\ta= np.asarray(input_class)\n",
    "\t\tt = [i for i,value in enumerate(a)]\n",
    "\t\tc= [self.activate(x) for x in input_sequence] \n",
    "\t\t\n",
    "\n",
    "\t\tplt.plot(t, a, '-g')\n",
    "\t\tplt.plot(t, c, '-.k')\n",
    "\t\t#plt.ylim([-0.01,1.2])\n",
    "\n",
    "\n",
    "\t\t# plt.savefig(filename,quality=1, dpi=300)\n",
    "\t\tplt.show()\n",
    "\t\tplt.close()\n",
    "\t\n",
    "\n",
    "\tdef plot(self, color=None, save = False, filename= \"plot_map.png\"):\n",
    "\n",
    "\t\tif color is None:\n",
    "\t\t\tcolor= self.labels\n",
    "\t\t\n",
    "\t\tprint(self.syncmap)\n",
    "\t\t#print(self.syncmap)\n",
    "\t\t#print(self.syncmap[:,0])\n",
    "\t\t#print(self.syncmap[:,1])\n",
    "\t\tif self.dimensions == 2:\n",
    "\t\t\t#print(type(color))\n",
    "\t\t\t#print(color.shape)\n",
    "\t\t\tax= plt.scatter(self.syncmap[:,0],self.syncmap[:,1], c=color)\n",
    "\t\t\t\n",
    "\t\tif self.dimensions == 3:\n",
    "\t\t\tfig = plt.figure()\n",
    "\t\t\tax = plt.axes(projection='3d')\n",
    "\n",
    "\t\t\tax.scatter3D(self.syncmap[:,0],self.syncmap[:,1], self.syncmap[:,2], c=color);\n",
    "\t\t\t#ax.plot3D(self.syncmap[:,0],self.syncmap[:,1], self.syncmap[:,2])\n",
    "\t\t\n",
    "\t\tif save == True:\n",
    "\t\t\tplt.savefig(filename)\n",
    "\t\t\n",
    "\t\tplt.show()\n",
    "\t\tplt.close()"
   ]
  },
  {
   "cell_type": "markdown",
   "metadata": {},
   "source": [
    "## Generative meganisms for syncmap"
   ]
  },
  {
   "cell_type": "code",
   "execution_count": null,
   "metadata": {},
   "outputs": [],
   "source": [
    "#| export\n",
    "# extract data from parameter space\n",
    "\n",
    "@fc.patch\n",
    "def generate_activity_probs(self:SyncMap, sample_x = 0, sample_y = 0, err = 1e-4):\n",
    "    '''\n",
    "    Generate the activity probabilities of each variable in syncmap\n",
    "    '''\n",
    "    sample_cord = np.array([sample_x, sample_y])\n",
    "    # probs = np.zeros(self.output_size)\n",
    "    weight_dist = compute_combi_dist(self.syncmap)\n",
    "    pos = np.where(weight_dist == weight_dist.max())[0]\n",
    "    # tau = -weight_dist[*pos] / np.log(err)  # set tau to make the smallest prob to be err\n",
    "    tau = -weight_dist.__getitem__(tuple(pos)) / np.log(err)\n",
    "    # probs = np.exp(-weight_dist / tau)  \n",
    "    sample_dist = ((self.syncmap - sample_cord) ** 2 ).sum(axis = -1)\n",
    "    sample_probs = np.exp(-sample_dist / tau)\n",
    "    return sample_probs\n",
    "\n",
    "@fc.patch\n",
    "def plot_activity_maps(self:SyncMap, x = 0, y = 0):\n",
    "    fig, axs = plt.subplots(1, 2, figsize = (10, 5))\n",
    "    sample_probs = self.generate_activity_probs(x, y)\n",
    "    axs[0].scatter(self.syncmap[:, 0], self.syncmap[:, 1], color = 'blue')\n",
    "    axs[0].scatter(x, y, color = 'red')\n",
    "    axs[0].set_xlim(self.syncmap.min()-0.5, self.syncmap.max()+0.5)\n",
    "    axs[0].set_ylim(self.syncmap.min()-0.5, self.syncmap.max()+0.5)\n",
    "    sns.barplot(sample_probs, ax = axs[1])\n",
    "    print(sample_probs)\n",
    "    plt.show()\n",
    "\n",
    "# SyncMap.generate_activity_probs = generate_activity_probs\n",
    "# SyncMap.plot_activity_maps = plot_activity_maps"
   ]
  },
  {
   "cell_type": "code",
   "execution_count": null,
   "metadata": {},
   "outputs": [
    {
     "name": "stdout",
     "output_type": "stream",
     "text": [
      "Adaptation rate: 0.008\n"
     ]
    }
   ],
   "source": [
    "# initialize the environment\n",
    "time_delay = 10\n",
    "env = OverlapChunkTest1(time_delay)\n",
    "output_size = env.getOutputSize()\n",
    "output_size\n",
    "\n",
    "sequence_length = 100000\n",
    "\n",
    "####### SyncMap #####\n",
    "number_of_nodes= output_size\n",
    "adaptation_rate= 0.001*output_size\n",
    "print(\"Adaptation rate:\", adaptation_rate)\n",
    "map_dimensions= 2\n",
    "neuron_group= SyncMap(number_of_nodes, map_dimensions, adaptation_rate)\n",
    "input_sequence, input_class = env.getSequence(sequence_length)"
   ]
  },
  {
   "cell_type": "code",
   "execution_count": null,
   "metadata": {},
   "outputs": [
    {
     "name": "stdout",
     "output_type": "stream",
     "text": [
      "Learned Labels:  [ 0  1  0 -1 -1  1  1 -1]\n",
      "Correct Labels:  [0 0 0 1 1 2 2 2]\n"
     ]
    }
   ],
   "source": [
    "neuron_group.input(input_sequence)\n",
    "labels= neuron_group.organize()\n",
    "\n",
    "print(\"Learned Labels: \",labels)\n",
    "print(\"Correct Labels: \",env.trueLabel())"
   ]
  },
  {
   "cell_type": "code",
   "execution_count": null,
   "metadata": {},
   "outputs": [],
   "source": [
    "# # plot input data and labels\n",
    "# env.plot(input_class[:800], input_sequence[:800])"
   ]
  },
  {
   "cell_type": "code",
   "execution_count": null,
   "metadata": {},
   "outputs": [],
   "source": [
    "# # plot the encoded data\n",
    "# env.plotSuperposed(input_class[:200], input_sequence[:200])"
   ]
  },
  {
   "cell_type": "code",
   "execution_count": null,
   "metadata": {},
   "outputs": [
    {
     "data": {
      "image/png": "[encoded data removed]",
      "text/plain": [
       "<Figure size 640x480 with 1 Axes>"
      ]
     },
     "metadata": {},
     "output_type": "display_data"
    }
   ],
   "source": [
    "neuron_group.plotSequence(input_sequence, input_class)"
   ]
  },
  {
   "cell_type": "code",
   "execution_count": null,
   "metadata": {},
   "outputs": [
    {
     "data": {
      "text/plain": [
       "<matplotlib.collections.PathCollection>"
      ]
     },
     "execution_count": null,
     "metadata": {},
     "output_type": "execute_result"
    },
    {
     "data": {
      "image/png": "[encoded data removed]",
      "text/plain": [
       "<Figure size 640x480 with 1 Axes>"
      ]
     },
     "metadata": {},
     "output_type": "display_data"
    }
   ],
   "source": [
    "plt.scatter(neuron_group.syncmap[:, 0], neuron_group.syncmap[:, 1], color = 'red')"
   ]
  },
  {
   "cell_type": "code",
   "execution_count": null,
   "metadata": {},
   "outputs": [
    {
     "data": {
      "text/plain": [
       "array([[-0.18894446,  1.73533104],\n",
       "       [-0.1039459 , -1.82461317],\n",
       "       [-0.22538899,  1.79004642],\n",
       "       [-0.22313215,  2.74627772],\n",
       "       [-0.15853685, -3.17132261],\n",
       "       [-0.0775093 , -1.72000391],\n",
       "       [-0.0764222 , -1.87079508],\n",
       "       [ 0.77454528,  1.9084    ]])"
      ]
     },
     "execution_count": null,
     "metadata": {},
     "output_type": "execute_result"
    }
   ],
   "source": [
    "neuron_group.syncmap"
   ]
  },
  {
   "cell_type": "code",
   "execution_count": null,
   "metadata": {},
   "outputs": [
    {
     "name": "stdout",
     "output_type": "stream",
     "text": [
      "[8.71874850e-03 5.52650329e-03 6.30768539e-03 7.38943439e-06\n",
      " 1.53178149e-07 9.91561972e-03 4.27026233e-03 1.35785219e-03]\n"
     ]
    },
    {
     "data": {
      "image/png": "[encoded data removed]",
      "text/plain": [
       "<Figure size 1000x500 with 2 Axes>"
      ]
     },
     "metadata": {},
     "output_type": "display_data"
    }
   ],
   "source": [
    "neuron_group.plot_activity_maps(x = 0, y = 0)"
   ]
  },
  {
   "cell_type": "code",
   "execution_count": null,
   "metadata": {},
   "outputs": [
    {
     "data": {
      "text/plain": [
       "array([[0.    , 3.561 , 0.0657, 1.0115, 4.9067, 3.4571, 3.6079, 0.9789],\n",
       "       [3.561 , 0.    , 3.6167, 4.5724, 1.3478, 0.1079, 0.0538, 3.835 ],\n",
       "       [0.0657, 3.6167, 0.    , 0.9562, 4.9618, 3.5132, 3.6639, 1.0069],\n",
       "       [1.0115, 4.5724, 0.9562, 0.    , 5.918 , 4.4687, 4.6194, 1.3028],\n",
       "       [4.9067, 1.3478, 4.9618, 5.918 , 0.    , 1.4536, 1.3031, 5.1647],\n",
       "       [3.4571, 0.1079, 3.5132, 4.4687, 1.4536, 0.    , 0.1508, 3.7271],\n",
       "       [3.6079, 0.0538, 3.6639, 4.6194, 1.3031, 0.1508, 0.    , 3.8738],\n",
       "       [0.9789, 3.835 , 1.0069, 1.3028, 5.1647, 3.7271, 3.8738, 0.    ]])"
      ]
     },
     "execution_count": null,
     "metadata": {},
     "output_type": "execute_result"
    }
   ],
   "source": [
    "a = np.around(compute_combi_dist(neuron_group.syncmap), decimals = 4) \n",
    "a"
   ]
  },
  {
   "cell_type": "code",
   "execution_count": null,
   "metadata": {},
   "outputs": [
    {
     "data": {
      "text/plain": [
       "array([[1.    , 0.0284, 0.9364, 0.3637, 0.0074, 0.0315, 0.0271, 0.3757],\n",
       "       [0.0284, 1.    , 0.0269, 0.0103, 0.2598, 0.8977, 0.9476, 0.0216],\n",
       "       [0.9364, 0.0269, 1.    , 0.3844, 0.007 , 0.0298, 0.0256, 0.3653],\n",
       "       [0.3637, 0.0103, 0.3844, 1.    , 0.0027, 0.0115, 0.0099, 0.2718],\n",
       "       [0.0074, 0.2598, 0.007 , 0.0027, 1.    , 0.2337, 0.2717, 0.0057],\n",
       "       [0.0315, 0.8977, 0.0298, 0.0115, 0.2337, 1.    , 0.86  , 0.0241],\n",
       "       [0.0271, 0.9476, 0.0256, 0.0099, 0.2717, 0.86  , 1.    , 0.0208],\n",
       "       [0.3757, 0.0216, 0.3653, 0.2718, 0.0057, 0.0241, 0.0208, 1.    ]])"
      ]
     },
     "execution_count": null,
     "metadata": {},
     "output_type": "execute_result"
    }
   ],
   "source": [
    "b = np.around(np.exp(-a), decimals = 4)\n",
    "b"
   ]
  },
  {
   "cell_type": "code",
   "execution_count": null,
   "metadata": {},
   "outputs": [
    {
     "data": {
      "text/plain": [
       "array([3, 4])"
      ]
     },
     "execution_count": null,
     "metadata": {},
     "output_type": "execute_result"
    }
   ],
   "source": [
    "pos = np.where(a == a.max())[0]\n",
    "pos"
   ]
  },
  {
   "cell_type": "code",
   "execution_count": null,
   "metadata": {},
   "outputs": [],
   "source": [
    "# a[*pos], b[*pos]"
   ]
  },
  {
   "cell_type": "code",
   "execution_count": null,
   "metadata": {},
   "outputs": [
    {
     "data": {
      "text/plain": [
       "(5.918,\n",
       " array([[1.0115, 4.5724, 0.9562, 0.    , 5.918 , 4.4687, 4.6194, 1.3028],\n",
       "        [4.9067, 1.3478, 4.9618, 5.918 , 0.    , 1.4536, 1.3031, 5.1647]]))"
      ]
     },
     "execution_count": null,
     "metadata": {},
     "output_type": "execute_result"
    }
   ],
   "source": [
    "a.__getitem__(tuple(pos)), a[pos]"
   ]
  },
  {
   "cell_type": "code",
   "execution_count": null,
   "metadata": {},
   "outputs": [
    {
     "data": {
      "text/plain": [
       "5.918"
      ]
     },
     "execution_count": null,
     "metadata": {},
     "output_type": "execute_result"
    }
   ],
   "source": [
    "a[*pos]"
   ]
  },
  {
   "cell_type": "code",
   "execution_count": null,
   "metadata": {},
   "outputs": [
    {
     "data": {
      "text/plain": [
       "[3, 4]"
      ]
     },
     "execution_count": null,
     "metadata": {},
     "output_type": "execute_result"
    }
   ],
   "source": [
    "[i for i in pos]"
   ]
  },
  {
   "cell_type": "code",
   "execution_count": null,
   "metadata": {},
   "outputs": [],
   "source": []
  },
  {
   "cell_type": "code",
   "execution_count": null,
   "metadata": {},
   "outputs": [],
   "source": [
    "# -a[*pos] / np.log(0.0001)"
   ]
  },
  {
   "cell_type": "code",
   "execution_count": null,
   "metadata": {},
   "outputs": [
    {
     "data": {
      "text/plain": [
       "array([8.71874850e-03, 5.52650329e-03, 6.30768539e-03, 7.38943439e-06,\n",
       "       1.53178149e-07, 9.91561972e-03, 4.27026233e-03, 1.35785219e-03])"
      ]
     },
     "execution_count": null,
     "metadata": {},
     "output_type": "execute_result"
    }
   ],
   "source": [
    "neuron_group.generate_activity_probs()\n"
   ]
  },
  {
   "cell_type": "code",
   "execution_count": null,
   "metadata": {},
   "outputs": [
    {
     "data": {
      "text/plain": [
       "6.166721588400225"
      ]
     },
     "execution_count": null,
     "metadata": {},
     "output_type": "execute_result"
    }
   ],
   "source": [
    "np.linalg.norm(neuron_group.syncmap, )"
   ]
  },
  {
   "cell_type": "code",
   "execution_count": null,
   "metadata": {},
   "outputs": [],
   "source": [
    "#| hide\n",
    "import nbdev; nbdev.nbdev_export()"
   ]
  }
 ],
 "metadata": {
  "kernelspec": {
   "display_name": "python3",
   "language": "python",
   "name": "python3"
  }
 },
 "nbformat": 4,
 "nbformat_minor": 4
}
