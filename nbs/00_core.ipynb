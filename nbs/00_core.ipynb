{
 "cells": [
  {
   "cell_type": "markdown",
   "metadata": {},
   "source": [
    "# SyncMap-core\n",
    "\n",
    "> The core of SynCMap"
   ]
  },
  {
   "cell_type": "code",
   "execution_count": null,
   "metadata": {},
   "outputs": [],
   "source": [
    "#| default_exp core"
   ]
  },
  {
   "cell_type": "code",
   "execution_count": null,
   "metadata": {},
   "outputs": [],
   "source": [
    "#| export\n",
    "import pandas as pd\n",
    "\n",
    "import numpy as np\n",
    "import math\n",
    "import matplotlib.pyplot as plt\n",
    "import seaborn as sns\n",
    "from sklearn.cluster import DBSCAN\n",
    "from scipy.spatial import distance\n",
    "from scipy.stats import entropy\n",
    "from sklearn.metrics import normalized_mutual_info_score, pairwise_distances\n",
    "from tqdm import tqdm\n",
    "import copy\n",
    "from collections import deque\n",
    "from sklearn.manifold import TSNE\n",
    "\n",
    "import sys\n",
    "# sys.path.insert(0, '../')\n",
    "# 如果没有 pip install -e . 下面一行就不会成功\n",
    "from SyncMap_Draft.utility import OverlapChunkTest1, to_categorical, compute_combi_dist, reduce_dimension_with_tsne, create_trace_plot, labels2colors\n",
    "\n",
    "from SyncMap_Draft.processor import GraphProcessor, WorkingMemProcessor, Readout\n",
    "from fastcore.utils import *\n",
    "\n",
    "import time\n",
    "import warnings\n",
    "\n",
    "np.set_printoptions(suppress=True)  # disable scientific notation\n",
    "# from plotly.subplots import make_subplots\n",
    "# import plotly.graph_objs as go\n",
    "# import fastcore.all as fc  # patch会报错\n",
    "# from ipywidgets import widgets\n",
    "# from IPython.display import display"
   ]
  },
  {
   "cell_type": "markdown",
   "metadata": {},
   "source": [
    "## original syncmap"
   ]
  },
  {
   "cell_type": "code",
   "execution_count": null,
   "metadata": {},
   "outputs": [],
   "source": [
    "#| export\n",
    "class SyncMap:\n",
    "\t'''\n",
    "\tThe original syncmap\n",
    "\t'''\n",
    "\tdef __init__(self, input_size, dimensions, adaptation_rate):\n",
    "\t\t\n",
    "\t\tself.organized= False\n",
    "\t\tself.space_size= 10\n",
    "\t\tself.dimensions= dimensions\n",
    "\t\tself.input_size= input_size\n",
    "\t\t#syncmap= np.zeros((input_size,dimensions))\n",
    "\t\tnp.random.seed(40)\n",
    "\t\tself.syncmap= np.random.rand(input_size,dimensions)\n",
    "\t\tself.adaptation_rate= adaptation_rate\n",
    "\t\tself.total_activation= np.zeros(input_size)\n",
    "\t\t#self.syncmap= np.random.rand(dimensions, input_size)\n",
    "\t\n",
    "\tdef inputGeneral(self, x):\n",
    "\t\tplus= x > 0.1\n",
    "\t\tminus = ~ plus\n",
    "\n",
    "\t\tsequence_size = x.shape[0]\n",
    "\t\t#print(sequence_size, \"asfasdfasdfasd\")\n",
    "\t\tfor i in range(sequence_size):\n",
    "\t\t\t\n",
    "\t\t\tvplus= plus[i,:]\n",
    "\t\t\tvminus= minus[i,:]\n",
    "\t\t\tplus_mass = vplus.sum()\n",
    "\t\t\tminus_mass = vminus.sum()\n",
    "\t\t\tself.total_activation+= vplus.astype(int)\n",
    "\t\t\t# self.total_activation-= vminus.astype(int)\n",
    "\t\t\t#print(plus_mass)\n",
    "\t\t\t#print(minus_mass)\n",
    "\t\t\t\n",
    "\t\t\tif plus_mass <= 1:\n",
    "\t\t\t\tcontinue\n",
    "\t\t\t\n",
    "\t\t\tif minus_mass <= 1:\n",
    "\t\t\t\tcontinue\n",
    "\n",
    "\t\t\t#print(\"vplus\")\n",
    "\t\t\t#print(vplus)\n",
    "\t\t\t# np.dot(vplus,self.syncmap): syncmap的每个分量（1~8）在vplus中的贡献（投影）\n",
    "\t\t\tcenter_plus= np.dot(vplus,self.syncmap)/plus_mass\n",
    "\t\t\tcenter_minus= np.dot(vminus,self.syncmap)/minus_mass\n",
    "\t\t\n",
    "\t\t\t#print(self.syncmap.shape)\n",
    "\t\t\t#exit()\n",
    "\t\t\tdist_plus= distance.cdist(center_plus[None,:], self.syncmap, 'euclidean') # 质心到每个点的距离，相当于cluster的半径？\n",
    "\t\t\tdist_minus= distance.cdist(center_minus[None,:], self.syncmap, 'euclidean')\n",
    "\t\t\tdist_plus= np.transpose(dist_plus)\n",
    "\t\t\tdist_minus= np.transpose(dist_minus)\n",
    "\t\t\t\n",
    "\t\t\tupdate_plus= vplus[:,np.newaxis]*((center_plus - self.syncmap)/dist_plus)# + (self.syncmap - center_minus)/dist_minus)\n",
    "\t\t\tupdate_minus= vminus[:,np.newaxis]*((center_minus -self.syncmap)/dist_minus)\n",
    "\t\t\t\n",
    "\t\t\tupdate = update_plus - update_minus\n",
    "\t\t\tself.syncmap += self.adaptation_rate*update\n",
    "\t\t\t\n",
    "\t\t\tmaximum=self.syncmap.max()\n",
    "\t\t\tself.syncmap= self.space_size*self.syncmap/maximum\n",
    "\t\t\t\n",
    "\t\t# self.total_activation= self.total_activation/sequence_size\n",
    "\t\t\n",
    "\t\t# self.syncmap = self.syncmap * self.total_activation[:, np.newaxis]\n",
    "\n",
    "\n",
    "\tdef input(self, x):\n",
    "\t\t\n",
    "\t\tself.inputGeneral(x)\n",
    "\n",
    "\t\treturn\n",
    "\n",
    "\t\t\t\n",
    "\tdef organize(self):\n",
    "\t\n",
    "\t\tself.organized= True\n",
    "\t\t#self.labels= DBSCAN(eps=3, min_samples=2).fit_predict(self.syncmap)\n",
    "\t\t# self.labels= DBSCAN(eps=3, min_samples=2).fit_predict(self.syncmap)\n",
    "\t\tself.labels= DBSCAN(eps=0.8, min_samples=2).fit_predict(self.syncmap)\n",
    "\n",
    "\t\treturn self.labels\n",
    "\n",
    "\tdef activate(self, x):\n",
    "\t\t'''\n",
    "\t\tReturn the label of the index with maximum input value\n",
    "\t\t'''\n",
    "\n",
    "\t\tif self.organized == False:\n",
    "\t\t\tprint(\"Activating a non-organized SyncMap\")\n",
    "\t\t\treturn\n",
    "\t\t\n",
    "\t\t#maximum output\n",
    "\t\tmax_index= np.argmax(x)\n",
    "\n",
    "\t\treturn self.labels[max_index]\n",
    "\n",
    "\tdef plotSequence(self, input_sequence, input_class,filename=\"plot.png\"):\n",
    "\n",
    "\t\tinput_sequence= input_sequence[1:500]\n",
    "\t\tinput_class= input_class[1:500]\n",
    "\n",
    "\t\ta= np.asarray(input_class)\n",
    "\t\tt = [i for i,value in enumerate(a)]\n",
    "\t\tc= [self.activate(x) for x in input_sequence] \n",
    "\t\t\n",
    "\n",
    "\t\tplt.plot(t, a, '-g')\n",
    "\t\tplt.plot(t, c, '-.k')\n",
    "\t\t#plt.ylim([-0.01,1.2])\n",
    "\n",
    "\n",
    "\t\t# plt.savefig(filename,quality=1, dpi=300)\n",
    "\t\tplt.show()\n",
    "\t\tplt.close()\n",
    "\t\n",
    "\n",
    "\tdef plot(self, color=None, save = False, filename= \"plot_map.png\"):\n",
    "\n",
    "\t\tif color is None:\n",
    "\t\t\tcolor= self.labels\n",
    "\t\t\n",
    "\t\tprint(self.syncmap)\n",
    "\t\t#print(self.syncmap)\n",
    "\t\t#print(self.syncmap[:,0])\n",
    "\t\t#print(self.syncmap[:,1])\n",
    "\t\tif self.dimensions == 2:\n",
    "\t\t\t#print(type(color))\n",
    "\t\t\t#print(color.shape)\n",
    "\t\t\tax= plt.scatter(self.syncmap[:,0],self.syncmap[:,1], c=color)\n",
    "\t\t\t\n",
    "\t\tif self.dimensions == 3:\n",
    "\t\t\tfig = plt.figure()\n",
    "\t\t\tax = plt.axes(projection='3d')\n",
    "\n",
    "\t\t\tax.scatter3D(self.syncmap[:,0],self.syncmap[:,1], self.syncmap[:,2], c=color);\n",
    "\t\t\t#ax.plot3D(self.syncmap[:,0],self.syncmap[:,1], self.syncmap[:,2])\n",
    "\t\t\n",
    "\t\tif save == True:\n",
    "\t\t\tplt.savefig(filename)\n",
    "\t\t\n",
    "\t\tplt.show()\n",
    "\t\tplt.close()"
   ]
  },
  {
   "cell_type": "markdown",
   "metadata": {},
   "source": [
    "### compute generative probability"
   ]
  },
  {
   "cell_type": "code",
   "execution_count": null,
   "metadata": {},
   "outputs": [],
   "source": [
    "#| export\n",
    "# extract data from parameter space\n",
    "\n",
    "@patch\n",
    "def generate_activity_probs(self:SyncMap, sample_x = 0, sample_y = 0, err = 1e-4):\n",
    "    '''\n",
    "    Generate the activity probabilities of each variable in syncmap\n",
    "    return: np.array, shape = (self.output_size, )\n",
    "    '''\n",
    "    sample_cord = np.array([sample_x, sample_y])\n",
    "    # probs = np.zeros(self.output_size)\n",
    "    weight_dist = compute_combi_dist(self.syncmap)\n",
    "    pos = np.where(weight_dist == weight_dist.max())[0]\n",
    "    # tau = -weight_dist[*pos] / np.log(err)  # set tau to make the smallest prob to be err\n",
    "    tau = -weight_dist.__getitem__(tuple(pos)) / np.log(err)\n",
    "    # probs = np.exp(-weight_dist / tau)  \n",
    "    sample_dist = ((self.syncmap - sample_cord) ** 2 ).sum(axis = -1)\n",
    "    sample_probs = np.exp(-sample_dist / tau)\n",
    "    return sample_probs\n",
    "\n",
    "@patch\n",
    "def plot_activity_maps(self:SyncMap, x = 0, y = 0):\n",
    "    fig, axs = plt.subplots(1, 2, figsize = (10, 5))\n",
    "    sample_probs = self.generate_activity_probs(x, y)\n",
    "    axs[0].scatter(self.syncmap[:, 0], self.syncmap[:, 1], color = 'blue')\n",
    "    axs[0].scatter(x, y, color = 'red')\n",
    "    axs[0].set_xlim(self.syncmap.min()-0.5, self.syncmap.max()+0.5)\n",
    "    axs[0].set_ylim(self.syncmap.min()-0.5, self.syncmap.max()+0.5)\n",
    "    sns.barplot(sample_probs, ax = axs[1])\n",
    "    print(sample_probs)\n",
    "    plt.show()\n",
    "\n",
    "# SyncMap.generate_activity_probs = generate_activity_probs\n",
    "# SyncMap.plot_activity_maps = plot_activity_maps"
   ]
  },
  {
   "cell_type": "code",
   "execution_count": null,
   "metadata": {},
   "outputs": [],
   "source": [
    "# initialize the environment\n",
    "time_delay = 10\n",
    "env = OverlapChunkTest1(time_delay)\n",
    "output_size = env.getOutputSize()\n",
    "output_size\n",
    "\n",
    "# sequence_length = 1000000\n",
    "sequence_length = 10000\n",
    "\n",
    "####### SyncMap #####\n",
    "number_of_nodes= output_size\n",
    "adaptation_rate= 0.001*output_size\n",
    "print(\"Adaptation rate:\", adaptation_rate)\n",
    "map_dimensions= 2\n",
    "neuron_group= SyncMap(number_of_nodes, map_dimensions, adaptation_rate)\n",
    "input_sequence, input_class = env.getSequence(sequence_length)"
   ]
  },
  {
   "cell_type": "code",
   "execution_count": null,
   "metadata": {},
   "outputs": [],
   "source": [
    "neuron_group.input(input_sequence)\n",
    "labels= neuron_group.organize()\n",
    "\n",
    "print(\"Learned Labels: \",labels)\n",
    "print(\"Correct Labels: \",env.trueLabel())"
   ]
  },
  {
   "cell_type": "code",
   "execution_count": null,
   "metadata": {},
   "outputs": [],
   "source": [
    "neuron_group.syncmap"
   ]
  },
  {
   "cell_type": "code",
   "execution_count": null,
   "metadata": {},
   "outputs": [],
   "source": []
  },
  {
   "cell_type": "code",
   "execution_count": null,
   "metadata": {},
   "outputs": [],
   "source": [
    "np.random.seed(42)\n",
    "SyncMap_weight = np.random.rand(output_size, map_dimensions)\n",
    "plt.scatter(SyncMap_weight[:, 0], SyncMap_weight[:, 1])"
   ]
  },
  {
   "cell_type": "code",
   "execution_count": null,
   "metadata": {},
   "outputs": [],
   "source": [
    "np.random.seed(42)\n",
    "output_size = 8\n",
    "map_dimensions = 2\n",
    "SyncMap_weight = np.random.rand(output_size, map_dimensions)\n",
    "\n",
    "# Create an array of colors, one for each point\n",
    "# colors = np.random.rand(output_size)\n",
    "\n",
    "plt.scatter(SyncMap_weight[:, 0], SyncMap_weight[:, 1], c=['red', 'red', 'red', 'blue', 'blue', 'black', 'black', 'black'])\n",
    "# legend\n",
    "plt.colorbar()\n",
    "plt.show()"
   ]
  },
  {
   "cell_type": "code",
   "execution_count": null,
   "metadata": {},
   "outputs": [],
   "source": [
    "np.random.seed(41)\n",
    "output_size = 8\n",
    "map_dimensions = 2\n",
    "SyncMap_weight = np.random.rand(output_size, map_dimensions)\n",
    "\n",
    "# Create an array of colors, one for each point\n",
    "# colors = np.random.rand(output_size)\n",
    "\n",
    "plt.scatter(SyncMap_weight[:, 0], SyncMap_weight[:, 1], c=['red', 'red', 'red', 'blue', 'blue', 'black', 'black', 'black'])\n",
    "# legend\n",
    "plt.colorbar()\n",
    "plt.show()"
   ]
  },
  {
   "cell_type": "code",
   "execution_count": null,
   "metadata": {},
   "outputs": [],
   "source": [
    "plt.scatter(neuron_group.syncmap[:, 0], neuron_group.syncmap[:, 1], color = 'red')"
   ]
  },
  {
   "cell_type": "code",
   "execution_count": null,
   "metadata": {},
   "outputs": [],
   "source": [
    "neuron_group.syncmap"
   ]
  },
  {
   "cell_type": "code",
   "execution_count": null,
   "metadata": {},
   "outputs": [],
   "source": [
    "neuron_group.generate_activity_probs(sample_x = 0, sample_y = 0)"
   ]
  },
  {
   "cell_type": "code",
   "execution_count": null,
   "metadata": {},
   "outputs": [],
   "source": [
    "neuron_group.plot_activity_maps(x = 1, y = -2.5)"
   ]
  },
  {
   "cell_type": "code",
   "execution_count": null,
   "metadata": {},
   "outputs": [],
   "source": [
    "a = np.around(compute_combi_dist(neuron_group.syncmap), decimals = 4) \n",
    "a"
   ]
  },
  {
   "cell_type": "code",
   "execution_count": null,
   "metadata": {},
   "outputs": [],
   "source": [
    "b = np.around(np.exp(-a), decimals = 4)\n",
    "b"
   ]
  },
  {
   "cell_type": "code",
   "execution_count": null,
   "metadata": {},
   "outputs": [],
   "source": [
    "pos = np.where(a == a.max())[0]\n",
    "pos, a.__getitem__(tuple(pos)), a[pos]"
   ]
  },
  {
   "cell_type": "code",
   "execution_count": null,
   "metadata": {},
   "outputs": [],
   "source": []
  },
  {
   "cell_type": "markdown",
   "metadata": {},
   "source": [
    "### generate data from generative probability"
   ]
  },
  {
   "cell_type": "code",
   "execution_count": null,
   "metadata": {},
   "outputs": [],
   "source": [
    "#| export\n",
    "@patch\n",
    "def extract_act_var(self:SyncMap, sample_x = 0, sample_y = 0, err = 1e-4):\n",
    "    '''\n",
    "    check if there is any activated variables\n",
    "    '''\n",
    "    probs = self.generate_activity_probs(sample_x, sample_y, err)  # Dim: d\n",
    "    sampled_vars = np.random.binomial(1, probs)  # Dim: d\n",
    "    # due to there is only 1 variables should be activated, we randomly choose one\n",
    "    sampled_vars_idx = np.where(sampled_vars)[0]\n",
    "    if len(sampled_vars_idx) == 0:\n",
    "        return None \n",
    "    else:\n",
    "        sampled_var = np.random.choice(sampled_vars_idx)\n",
    "        return sampled_var\n",
    "\n",
    "\n",
    "@patch\n",
    "def create_element(self:SyncMap, sampled_var, env):\n",
    "    '''\n",
    "    create an element of the time series of the sampled variable\n",
    "    '''\n",
    "    tiny_series = np.zeros(env.output_size)\n",
    "    if sampled_var is None:\n",
    "        return tiny_series\n",
    "    else:\n",
    "        tiny_series[sampled_var] = 1\n",
    "        return tiny_series\n",
    "\n",
    "\n",
    "@patch\n",
    "def create_series(self:SyncMap, x, y, env, seq_len = 1000):\n",
    "    '''\n",
    "    generate time series data\n",
    "    '''\n",
    "    time_series = []\n",
    "    for _ in range(seq_len):\n",
    "        sampled_var = self.extract_act_var(sample_x = x, sample_y = y)\n",
    "        tiny_series = self.create_element(sampled_var, env)\n",
    "        time_series.append(tiny_series)\n",
    "    return np.array(time_series)"
   ]
  },
  {
   "cell_type": "code",
   "execution_count": null,
   "metadata": {},
   "outputs": [],
   "source": [
    "(env.time_delay, env.output_size)"
   ]
  },
  {
   "cell_type": "code",
   "execution_count": null,
   "metadata": {},
   "outputs": [],
   "source": [
    "neuron_group.extract_act_var(1, -2.5)"
   ]
  },
  {
   "cell_type": "code",
   "execution_count": null,
   "metadata": {},
   "outputs": [],
   "source": [
    "neuron_group.create_series(x = 1, y = -2.5, env = env)"
   ]
  },
  {
   "cell_type": "markdown",
   "metadata": {},
   "source": [
    "#### input data pattern"
   ]
  },
  {
   "cell_type": "markdown",
   "metadata": {},
   "source": [
    "- chrunk 0: the variable `0, 1, 2, 3, 4` could be activated\n",
    "- chrunk 1: the variable `3, 4, 5, 6 ,7` could be activated"
   ]
  },
  {
   "cell_type": "code",
   "execution_count": null,
   "metadata": {},
   "outputs": [],
   "source": [
    "temp_sequence = input_sequence.copy()\n",
    "temp_sequence[temp_sequence < 0.999] = 0\n",
    "# temp_sequence[temp_sequence == 1] = 0"
   ]
  },
  {
   "cell_type": "code",
   "execution_count": null,
   "metadata": {},
   "outputs": [],
   "source": [
    "env.plot_raw_data(input_sequence, input_class)"
   ]
  },
  {
   "cell_type": "markdown",
   "metadata": {},
   "source": [
    "#### chunk 0"
   ]
  },
  {
   "cell_type": "code",
   "execution_count": null,
   "metadata": {},
   "outputs": [],
   "source": [
    "env.plot_raw_data(temp_sequence[input_class==0, :], input_class[input_class==0])"
   ]
  },
  {
   "cell_type": "markdown",
   "metadata": {},
   "source": [
    "#### chunk 1"
   ]
  },
  {
   "cell_type": "code",
   "execution_count": null,
   "metadata": {},
   "outputs": [],
   "source": [
    "env.plot_raw_data(temp_sequence[input_class==1, :], input_class[input_class==1])"
   ]
  },
  {
   "cell_type": "markdown",
   "metadata": {},
   "source": [
    "#### generated"
   ]
  },
  {
   "cell_type": "code",
   "execution_count": null,
   "metadata": {},
   "outputs": [],
   "source": [
    "env.plot_raw_data(\n",
    "    values = neuron_group.create_series(x = 1, y = -2.5, env = env, seq_len = 1000),\n",
    "    labels = None\n",
    "    )"
   ]
  },
  {
   "cell_type": "markdown",
   "metadata": {},
   "source": [
    "## symmetrical syncmap"
   ]
  },
  {
   "cell_type": "code",
   "execution_count": null,
   "metadata": {},
   "outputs": [],
   "source": [
    "#| export\n",
    "class SymmetricalSyncMap:\n",
    "    def __init__(self, input_size, dimensions=3, \n",
    "                adaptation_rate=0.1, space_scale=1.0, space_bound=None,\n",
    "                leaking_rate=1.0, dropout_positive=0.0, dropout_negative=0.0,\n",
    "                movmean_window=1000, movmean_interval=10,\n",
    "                is_symmetrical_activation=False, number_of_selected_node=None,\n",
    "                is_adaptive_LR=False, adaptive_LR_widrow_hoff=0.1):\n",
    "        self.input_size = input_size\n",
    "        self.dimensions = dimensions\n",
    "        self.adaptation_rate = adaptation_rate\n",
    "        self.space_scale = space_scale\n",
    "        self.space_scale_dimensions_sqrt = space_scale * np.sqrt(dimensions)\n",
    "        self.space_bound = space_bound\n",
    "        self.leaking_rate = leaking_rate\n",
    "        self.dropout_positive = dropout_positive\n",
    "        self.dropout_negative = dropout_negative\n",
    "\n",
    "        # initialize the sync map\n",
    "        self.syncmap = np.random.rand(self.input_size, self.dimensions) * self.space_scale\n",
    "        self.syncmap = ((self.syncmap - np.mean(self.syncmap, axis=0)) / (np.std(self.syncmap, axis=0) + 1e-12)) * self.space_scale\n",
    "\n",
    "        self.syncmap_movmean_list = deque(maxlen=movmean_window)\n",
    "        self.syncmap_movmean = self.syncmap.copy()\n",
    "        self.movmean_interval = movmean_interval\n",
    "\n",
    "        # symmetrical activation\n",
    "        self.is_symmetrical_activation = is_symmetrical_activation\n",
    "        self.number_of_selected_node = number_of_selected_node\n",
    "\n",
    "        # adaptive learning rate\n",
    "        self.is_adaptive_LR = is_adaptive_LR\n",
    "        self.adaptive_LR = 1\n",
    "        self.adaptive_LR_widrow_hoff = adaptive_LR_widrow_hoff\n",
    "\n",
    "        self.fit_log = []\n",
    "\n",
    "\n",
    "\n",
    "    def input_sequential(self, input_seq, current_state=None, Verbose_tqdm=True):\n",
    "        # start processing\n",
    "        if Verbose_tqdm:\n",
    "            verbose = tqdm # use tqdm\n",
    "        else:\n",
    "            verbose = lambda x: x # do not use tqdm\n",
    "\n",
    "        for i_state in verbose(range(len(input_seq))):\n",
    "            state = input_seq[i_state]\n",
    "            # current_state_idx = current_state[i_state] if current_state is not None else None\n",
    "            self.adapt_chunking(input_state_vec=state)\n",
    "            if i_state % self.movmean_interval == 0 or i_state == len(input_seq) - 1:\n",
    "                self.syncmap_movmean_list.append(self.syncmap.copy())\n",
    "\n",
    "        self.syncmap_movmean = np.mean(np.asarray(self.syncmap_movmean_list), axis=0)\n",
    "\n",
    "\n",
    "    def adapt_chunking(self, input_state_vec):\n",
    "\n",
    "        syncmap_previous = self.syncmap.copy()\n",
    "\n",
    "        set_positive = input_state_vec == True\n",
    "        set_negative = input_state_vec == False\n",
    "\n",
    "        # symmetrical activation\n",
    "        if self.is_symmetrical_activation:\n",
    "            set_positive, set_negative = self.symmetrical_activation(set_positive.copy())\n",
    "\n",
    "        if set_positive.sum() <= 1 or set_negative.sum() <= 1:\n",
    "            return syncmap_previous\n",
    "\n",
    "        centroid_positive = np.dot(set_positive, self.syncmap) / set_positive.sum()\n",
    "        centroid_negative = np.dot(set_negative, self.syncmap) / set_negative.sum()\n",
    "\n",
    "        dist_set2centroid_positive = distance.cdist(centroid_positive[None, :], self.syncmap, 'euclidean').T\n",
    "        dist_set2centroid_negative = distance.cdist(centroid_negative[None, :], self.syncmap, 'euclidean').T\n",
    "\n",
    "        # get dropout mask\n",
    "        isDropout_positive = np.random.rand() > self.dropout_positive\n",
    "        isDropout_negative = np.random.rand() > self.dropout_negative\n",
    "\n",
    "        # update syncmap\n",
    "        update_positive = set_positive[:, np.newaxis] * (centroid_positive - self.syncmap) / dist_set2centroid_positive\n",
    "        update_negative = set_negative[:, np.newaxis] * (centroid_negative - self.syncmap) / dist_set2centroid_negative\n",
    "\n",
    "        # adaptive learning rate regularization\n",
    "        if self.is_adaptive_LR:\n",
    "            adaptive_LR_positive, adaptive_LR_negative = self.update_adaptive_learning_rate(dist_set2centroid_positive, set_positive)\n",
    "            update_positive = update_positive * adaptive_LR_positive\n",
    "            update_negative = update_negative * adaptive_LR_negative\n",
    "\n",
    "        self.syncmap += self.adaptation_rate * (update_positive * isDropout_positive - update_negative * isDropout_negative)\n",
    "\n",
    "        # regularization\n",
    "        # normalize the syncmap to have 0 mean and 1 std\n",
    "        # self.syncmap = ((self.syncmap - np.mean(self.syncmap, axis=0)) / (np.std(self.syncmap, axis=0) + 1e-12)) * self.space_scale\n",
    "        self.syncmap = (self.syncmap / self.syncmap.max()) * self.space_scale\n",
    "\n",
    "\n",
    "\n",
    "        # leaking\n",
    "        self.syncmap = self.leaking_rate * self.syncmap + (1 - self.leaking_rate) * syncmap_previous\n",
    "\n",
    "        self.fit_log.append(self.syncmap.copy())\n",
    "        return self.syncmap\n",
    "\n",
    "\n",
    "    def get_syncmap(self, isMovMean=False):\n",
    "        if isMovMean:\n",
    "            self.syncmap_movmean = np.mean(np.asarray(self.syncmap_movmean_list), axis=0)\n",
    "            return self.syncmap_movmean\n",
    "        else:\n",
    "            return self.syncmap\n",
    "\n",
    "    def symmetrical_activation(self, input_vector):\n",
    "        state_vector_plus = input_vector.copy()\n",
    "\n",
    "        ## version 2 ##\n",
    "        # Consider those positive nodes which are not selected in positive stochastic selection process\n",
    "        number_of_selected_node_temp = state_vector_plus.sum()\n",
    "        state_vector_plus = self.stochastic_selection(input_vector=state_vector_plus,\n",
    "                                                    number_of_selected_node_overwrite=number_of_selected_node_temp)\n",
    "        # update number_of_selected_node_temp\n",
    "        number_of_selected_node_temp = state_vector_plus.sum()\n",
    "        state_vector_minus = self.stochastic_selection(input_vector=~state_vector_plus,\n",
    "                                                    number_of_selected_node_overwrite=number_of_selected_node_temp)\n",
    "\n",
    "\n",
    "        return state_vector_plus, state_vector_minus\n",
    "\n",
    "    def stochastic_selection(self, input_vector, number_of_selected_node_overwrite=None):\n",
    "        number_of_activated_node = input_vector.sum()\n",
    "\n",
    "        if self.number_of_selected_node is None:\n",
    "            number_of_selected_node = number_of_selected_node_overwrite\n",
    "        else:\n",
    "            number_of_selected_node = self.number_of_selected_node\n",
    "\n",
    "\n",
    "\n",
    "        if number_of_activated_node == 0:\n",
    "            Pr = 0\n",
    "        elif number_of_selected_node < number_of_activated_node: # randomly select a subset of nodes from the activated nodes\n",
    "            Pr = number_of_selected_node / number_of_activated_node\n",
    "        else: # select all the activated nodes\n",
    "            Pr = 1\n",
    "\n",
    "        state_vector_after_masking = np.logical_and(input_vector, np.random.rand(len(input_vector)) < Pr)\n",
    "        return state_vector_after_masking\n",
    "\n",
    "    def update_adaptive_learning_rate(self, dist_set2centroid_positive, set_positive):\n",
    "        dist_avg_positive = np.sum(dist_set2centroid_positive * set_positive[:, None]) / set_positive.sum()\n",
    "        adaptive_LR_positive = dist_avg_positive / self.space_scale_dimensions_sqrt\n",
    "\n",
    "        ### version 4:\n",
    "        self.adaptive_LR += self.adaptive_LR_widrow_hoff * (adaptive_LR_positive - self.adaptive_LR)\n",
    "        adaptive_LR_positive = copy.deepcopy(self.adaptive_LR)\n",
    "        adaptive_LR_negative = 1\n",
    "\n",
    "        adaptive_LR_negative_amplifier_a = 0.01\n",
    "        adaptive_LR_negative_amplifier_b = 2\n",
    "        adaptive_LR_negative_amplifier = self.input_size * adaptive_LR_negative_amplifier_a + adaptive_LR_negative_amplifier_b\n",
    "        adaptive_LR_negative_threshold = 1.5\n",
    "        adaptive_LR_negative = self.adaptive_LR * adaptive_LR_negative_amplifier\n",
    "        if adaptive_LR_negative > adaptive_LR_negative_threshold:\n",
    "            adaptive_LR_negative = adaptive_LR_negative_threshold\n",
    "\n",
    "        adaptive_LR_positive_threshold = 0.05\n",
    "        if adaptive_LR_positive < adaptive_LR_positive_threshold:\n",
    "            return adaptive_LR_positive_threshold, adaptive_LR_negative\n",
    "        else:\n",
    "            return adaptive_LR_positive, adaptive_LR_negative\n",
    "\n",
    "    def set_adaptation_rate(self, adaptation_rate):\n",
    "        self.adaptation_rate = adaptation_rate\n"
   ]
  },
  {
   "cell_type": "code",
   "execution_count": null,
   "metadata": {},
   "outputs": [],
   "source": []
  },
  {
   "cell_type": "code",
   "execution_count": null,
   "metadata": {},
   "outputs": [],
   "source": [
    "# temp_path = f'../data/probabilistic5_6.dot'\n",
    "temp_path = f'../data/UB_prob_chunk_20_10_5.dot'\n",
    "\n",
    "num_trails_per_problem = 1\n",
    "state_memory = 2\n",
    "number_of_selected_node = 2 # <=state_memory\n",
    "max_seq_length = 300000\n",
    "\n",
    "# start testing\n",
    "nmi_total_list = []\n",
    "eps_min_total_list = []\n",
    "eps_max_total_list = []\n",
    "\n",
    "\n",
    "# experiment start\n",
    "file_path = temp_path\n",
    "preprocessor = GraphProcessor()\n",
    "preprocessor.read_graph_from_dot(file_path=file_path)\n",
    "groundtruth_labels = preprocessor.get_groundtruth_labels()\n",
    "connection_matrix = preprocessor.get_connection_matrix()\n",
    "num_of_nodes = connection_matrix.shape[0]\n",
    "\n",
    "nmi_trail_list = []\n",
    "eps_min_trail_list = []\n",
    "eps_max_trail_list = []\n",
    "for i_trail in range(num_trails_per_problem):\n",
    "    print(f\"Trail {i_trail+1}/{num_trails_per_problem}\")\n",
    "\n",
    "    ###########################################################################################################\n",
    "    # initialize sequence generator and set state_memory\n",
    "    seq_generator = WorkingMemProcessor(state_memory=state_memory)\n",
    "\n",
    "    # generate random walk on graph\n",
    "    input_seq_trajectory, input_seq_onehot = preprocessor.random_walk_on_graph(L=max_seq_length, reset_time=None)\n",
    "\n",
    "    # generate input sequence for syncmap\n",
    "    input_seq = seq_generator.seq_gen_naive(input_seq=input_seq_onehot)\n",
    "\n",
    "    # # initialize syncamap\n",
    "    # model_syncmap = SymmetricalSyncMap(input_size=num_of_nodes, dimensions=15, adaptation_rate=0.01, space_scale=1,\n",
    "    #                         leaking_rate=1.0, movmean_window=2000, movmean_interval=2,\n",
    "    #                         is_symmetrical_activation=True, number_of_selected_node=2,)\n",
    "\n",
    "    # uncomment below to use original syncmap\n",
    "    model_syncmap = SymmetricalSyncMap(input_size=num_of_nodes, dimensions=15, adaptation_rate=0.01, space_scale=1)\n",
    "\n",
    "    print(\"training SyncMap...\")\n",
    "    model_syncmap.input_sequential(input_seq)\n",
    "    learned_map = model_syncmap.get_syncmap(isMovMean=True)\n",
    "\n",
    "    # readout\n",
    "    readout = Readout(learned_map, ground_truth=groundtruth_labels)\n",
    "    # from a range if eps, find the eps that yields the best NMI\n",
    "    eps_list = np.linspace(0.005, 5, 100)\n",
    "    best_nmi = 0\n",
    "    best_prediction_labels = None\n",
    "    best_eps_min = eps_list[0]\n",
    "    best_eps_max = eps_list[0]\n",
    "    for eps in eps_list:\n",
    "        readout.dbscan_(eps=eps, min_samples=2, print_result=False)\n",
    "        nmi = readout.cal_NMI(print_result=False)\n",
    "        # there might be multiple eps that have the same best nmi, we record the first one as the best_eps_min\n",
    "        # and the last one as the best_eps_max\n",
    "        if nmi > best_nmi:\n",
    "            best_nmi = nmi\n",
    "            best_prediction_labels = readout.predicted_labels\n",
    "            best_eps_min = eps\n",
    "        if nmi == best_nmi:\n",
    "            best_eps_max = eps\n",
    "            best_prediction_labels = readout.predicted_labels # overwrite the best_prediction_labels to prevent -1 in dbscan\n",
    "\n",
    "\n",
    "    print(\"Groundtruth labels:\", groundtruth_labels)\n",
    "    print(\"Best prediction labels:\", best_prediction_labels)\n",
    "    print(\"Best eps:\", best_eps_min, best_eps_max)\n",
    "    print(\"Best NMI:\", best_nmi)\n",
    "    nmi_trail_list.append(best_nmi)\n",
    "    eps_min_trail_list.append(best_eps_min)\n",
    "    eps_max_trail_list.append(best_eps_max)\n",
    "\n",
    "    # # visualize the syncmap in 3d\n",
    "    # fig = plt.figure()\n",
    "    # ax = fig.add_subplot(111, projection='3d')\n",
    "    # map_tsne = TSNE(n_components=3, perplexity=5).fit_transform(learned_map)\n",
    "    # # ax.scatter(learned_map[:, 0], learned_map[:, 1], learned_map[:, 2], c=groundtruth_labels, marker='o', s=10)\n",
    "    # ax.scatter(map_tsne[:, 0], map_tsne[:, 1], map_tsne[:, 2], c=groundtruth_labels, marker='o', s=100)\n",
    "    # plt.show()\n",
    "\n",
    "    # 2d tsne\n",
    "    # fig = plt.figure()\n",
    "    # ax = fig.add_subplot(111)\n",
    "    # map_tsne = TSNE(n_components=2, perplexity=5).fit_transform(learned_map)\n",
    "    # ax.scatter(map_tsne[:, 0], map_tsne[:, 1], c=groundtruth_labels, marker='o')\n",
    "    # plt.show()\n",
    "\n",
    "    time.sleep(0.1)\n",
    "\n",
    "    \n",
    "\n",
    "nmi_avg = np.mean(nmi_trail_list)\n",
    "nmi_std = np.std(nmi_trail_list)\n",
    "eps_min_avg = np.mean(eps_min_trail_list)\n",
    "eps_min_std = np.std(eps_min_trail_list)\n",
    "eps_max_avg = np.mean(eps_max_trail_list)\n",
    "eps_max_std = np.std(eps_max_trail_list)\n",
    "print(temp_path.split('/')[-1].split('.')[0])\n",
    "print(f\"Average NMI: {nmi_avg}, std: {nmi_std}\")\n",
    "print(f\"Average eps_min: {eps_min_avg}, std: {eps_min_std}\")\n",
    "print(f\"Average eps_max: {eps_max_avg}, std: {eps_max_std}\")\n",
    "nmi_total_list.append(nmi_trail_list)\n",
    "eps_min_total_list.append(eps_min_trail_list)\n",
    "eps_max_total_list.append(eps_max_trail_list)"
   ]
  },
  {
   "cell_type": "code",
   "execution_count": null,
   "metadata": {},
   "outputs": [],
   "source": [
    "# #| export\n",
    "# def labels2colors(labels):\n",
    "#     colorbar = ['red', 'blue', 'green', 'yellow', 'purple', 'orange', 'black', 'pink', 'brown', 'gray']\n",
    "#     return [colorbar[label] for label in labels]"
   ]
  },
  {
   "cell_type": "code",
   "execution_count": null,
   "metadata": {},
   "outputs": [],
   "source": [
    "color_list = labels2colors(groundtruth_labels)\n",
    "color_list"
   ]
  },
  {
   "cell_type": "markdown",
   "metadata": {},
   "source": [
    "reduce dimensions"
   ]
  },
  {
   "cell_type": "code",
   "execution_count": null,
   "metadata": {},
   "outputs": [],
   "source": [
    "reduced_fit_log = reduce_dimension_with_tsne(\n",
    "    np.asarray(model_syncmap.fit_log)[::1000]\n",
    ")"
   ]
  },
  {
   "cell_type": "markdown",
   "metadata": {},
   "source": [
    "plot the syncmap variable space"
   ]
  },
  {
   "cell_type": "code",
   "execution_count": null,
   "metadata": {},
   "outputs": [],
   "source": [
    "fig = create_trace_plot(reduced_fit_log, colors = color_list)\n",
    "fig.show()\n"
   ]
  },
  {
   "cell_type": "code",
   "execution_count": null,
   "metadata": {},
   "outputs": [],
   "source": [
    "a0 = np.random.rand(3,3)\n",
    "b0 = np.random.rand(3,3)\n",
    "a0, b0"
   ]
  },
  {
   "cell_type": "code",
   "execution_count": null,
   "metadata": {},
   "outputs": [],
   "source": [
    "np.dot(a0, b0)"
   ]
  },
  {
   "cell_type": "code",
   "execution_count": null,
   "metadata": {},
   "outputs": [],
   "source": [
    "a0 @ b0"
   ]
  },
  {
   "cell_type": "markdown",
   "metadata": {},
   "source": [
    "## LightSyncMap"
   ]
  },
  {
   "cell_type": "code",
   "execution_count": null,
   "metadata": {},
   "outputs": [],
   "source": [
    "#| export\n",
    "class LightSyncMap:\n",
    "\t'''\n",
    "\tThe original syncmap\n",
    "\t'''\n",
    "\tdef __init__(self, input_size, dimensions, adaptation_rate):\n",
    "\t\t\n",
    "\t\tself.organized= False\n",
    "\t\tself.space_size= 10\n",
    "\t\tself.dimensions= dimensions\n",
    "\t\tself.input_size= input_size\n",
    "\t\t#syncmap= np.zeros((input_size,dimensions))\n",
    "\t\tnp.random.seed(40)\n",
    "\t\tself.syncmap= np.random.rand(input_size,dimensions)\n",
    "\t\tself.adaptation_rate= adaptation_rate\n",
    "\t\tself.delay_effect = 0.8\n",
    "\t\tself.fit_log = []\n",
    "\n",
    "\n",
    "\t@property\n",
    "\tdef log(self):\n",
    "\t\treturn np.asarray(self.fit_log)\n",
    "\n",
    "\tdef fit(self, input_sequence):\n",
    "\t\tfor idx, state in tqdm(enumerate(input_sequence), total=len(input_sequence)):\n",
    "\t\t\tvplus, vminus = self.get_postive_and_negative_state(state)\n",
    "\t\t\tif idx == 39:\n",
    "\t\t\t\tx0 = None\n",
    "\t\t\tnew_snycmap = self.one_step_organize(vplus, vminus)\n",
    "\n",
    "\t\t\tif new_snycmap is not None:\n",
    "\t\t\t\tself.syncmap = new_snycmap[:]\n",
    "\n",
    "\tdef get_postive_and_negative_state(self, state):\n",
    "\t\t'''\n",
    "\t\t\tadentify the state whether is activated and deactivated\n",
    "\t\targs:\n",
    "\t\t\tstate(d): np.ndarray, the one step input sequence, d is the number of feature of input\n",
    "\t\treturn:\n",
    "\t\t\tplus, minus(D): np.ndarray, th elements are boolean representing the activated and deactivated state\n",
    "\t\t'''\n",
    "\t\tplus= state > 0.1\n",
    "\t\tminus = ~ plus\n",
    "\t\treturn plus, minus\n",
    "\t\t\n",
    "\n",
    "\tdef get_center(self, arr, syncmap_arr):\n",
    "\t\t'''\n",
    "\t\tcalculate the mass center of the input arrays.\n",
    "\t\tIf the activated or deactivated state just one sample, return  None\n",
    "\t\targs:\n",
    "\t\t\tarr(d): np.array, features\n",
    "\t\t'''\n",
    "\t\tarr_mass = arr.sum()\n",
    "\t\tif arr_mass <= 1:\n",
    "\t\t\treturn None\n",
    "\t\t# elif arr_mass == arr.shape[0]:\n",
    "\t\t# \treturn None\n",
    "\t\telse:\n",
    "\t\t\treturn (arr @ syncmap_arr) / arr_mass  # (D,) @ (D, d) -> (d,); D: features of input, d: features of syncmap\n",
    "\n",
    "\n",
    "\tdef update(self, update_plus, update_minus, syncmap_arr):\n",
    "\t\t'''\n",
    "\t\tupdate the syncmap\n",
    "\t\targs:\n",
    "\t\t\tupdate_plus(d, D): np.ndarray, the update of activated state\n",
    "\t\t\tupdate_minus(d, D): np.ndarray, the update of deactivated state\n",
    "\t\t'''\n",
    "\t\tupdate = update_plus - update_minus\n",
    "\t\tsyncmap_arr += self.adaptation_rate * update\n",
    "\t\tmaximum = syncmap_arr.max()\n",
    "\t\treturn syncmap_arr / maximum # self.space_size*\n",
    "\n",
    "\n",
    "\tdef one_step_organize(self, vplus, vminus):\n",
    "\t\tsyncmap_previous = self.syncmap.copy()\n",
    "\t\tcenter_plus  = self.get_center(vplus, syncmap_previous)\n",
    "\t\tcenter_minus = self.get_center(vminus, syncmap_previous)\n",
    "\t\t\n",
    "\t\tif center_plus is None or center_minus is None:\n",
    "\t\t\treturn None\n",
    "\n",
    "\t\tdist_plus= distance.cdist(center_plus[None,:], syncmap_previous, 'euclidean').T\n",
    "\t\tdist_minus= distance.cdist(center_minus[None,:], syncmap_previous, 'euclidean').T\n",
    "\n",
    "\t\tupdate_plus= vplus[:,np.newaxis]*((center_plus - syncmap_previous)/dist_plus)\n",
    "\t\tupdate_minus= vminus[:,np.newaxis]*((center_minus - syncmap_previous)/dist_minus)  # the mod is 1\n",
    "\n",
    "\t\t# disable the update of too far nodes\n",
    "\t\t# update_plus[dist_plus.squeeze()>0.5] = 0\n",
    "\t\t# update_minus[dist_minus.squeeze()>0.5] = 0\n",
    "\n",
    "\t\tnew_syncmap = self.update(update_plus, update_minus, syncmap_previous)\n",
    "\t\t\n",
    "\t\tself.fit_log.append(new_syncmap)\n",
    "\t\treturn new_syncmap\n",
    "\t\t\t\n",
    "\tdef cluster(self):\n",
    "\t\tself.organized= True\n",
    "\t\t# self.labels= DBSCAN(eps=3, min_samples=2).fit_predict(self.syncmap)\n",
    "\t\tself.labels= DBSCAN(eps=0.4, min_samples=2).fit_predict(self.syncmap)\n",
    "\n",
    "\t\treturn self.labels\n",
    "\n",
    "\tdef activate(self, x):\n",
    "\t\t'''\n",
    "\t\tReturn the label of the index with maximum input value\n",
    "\t\t'''\n",
    "\n",
    "\t\tif self.organized == False:\n",
    "\t\t\tprint(\"Activating a non-organized SyncMap\")\n",
    "\t\t\treturn\n",
    "\t\t\n",
    "\t\t#maximum output\n",
    "\t\tmax_index= np.argmax(x)\n",
    "\n",
    "\t\treturn self.labels[max_index]"
   ]
  },
  {
   "cell_type": "code",
   "execution_count": null,
   "metadata": {},
   "outputs": [
    {
     "name": "stdout",
     "output_type": "stream",
     "text": [
      "Adaptation rate: 0.004\n"
     ]
    }
   ],
   "source": [
    "# initialize the environment\n",
    "time_delay = 10\n",
    "env = OverlapChunkTest1(time_delay)\n",
    "output_size = env.getOutputSize()\n",
    "output_size\n",
    "\n",
    "# sequence_length = 1000000\n",
    "sequence_length = int(1000000 * 0.8)  #  * 0.8\n",
    "\n",
    "####### SyncMap #####\n",
    "number_of_nodes= output_size\n",
    "adaptation_rate= 0.0005*output_size\n",
    "print(\"Adaptation rate:\", adaptation_rate)\n",
    "map_dimensions= 2\n",
    "neuron_group= LightSyncMap(number_of_nodes, map_dimensions, adaptation_rate)\n",
    "input_sequence, input_class = env.getSequence(sequence_length)"
   ]
  },
  {
   "cell_type": "code",
   "execution_count": null,
   "metadata": {},
   "outputs": [
    {
     "name": "stderr",
     "output_type": "stream",
     "text": [
      "100%|██████████| 800000/800000 [00:09<00:00, 83270.08it/s]"
     ]
    },
    {
     "name": "stdout",
     "output_type": "stream",
     "text": [
      "Learned Labels:  [0 0 0 0 0 1 1 1]\n",
      "Correct Labels:  [0 0 0 1 1 2 2 2]\n"
     ]
    },
    {
     "name": "stderr",
     "output_type": "stream",
     "text": [
      "\n"
     ]
    }
   ],
   "source": [
    "neuron_group.fit(input_sequence)\n",
    "labels= neuron_group.cluster()\n",
    "\n",
    "print(\"Learned Labels: \",labels)\n",
    "print(\"Correct Labels: \",env.trueLabel())"
   ]
  },
  {
   "cell_type": "code",
   "execution_count": null,
   "metadata": {},
   "outputs": [],
   "source": [
    "neuron_group.syncmap"
   ]
  },
  {
   "cell_type": "code",
   "execution_count": null,
   "metadata": {},
   "outputs": [
    {
     "data": {
      "text/plain": [
       "<Axes: >"
      ]
     },
     "execution_count": null,
     "metadata": {},
     "output_type": "execute_result"
    },
    {
     "data": {
      "image/png": "[encoded data removed]",
      "text/plain": [
       "<Figure size 500x500 with 1 Axes>"
      ]
     },
     "metadata": {},
     "output_type": "display_data"
    }
   ],
   "source": [
    "fig, ax = plt.subplots(figsize = (5, 5))\n",
    "sns.scatterplot(x = neuron_group.syncmap[:, 0], y = neuron_group.syncmap[:, 1], hue=env.trueLabel(), ax = ax)\n",
    "# set the x-axis range from -10 to 10\n",
    "# ax.set_xlim(-10, 10)\n",
    "# ax.set_ylim(-10, 10)"
   ]
  },
  {
   "cell_type": "code",
   "execution_count": null,
   "metadata": {},
   "outputs": [
    {
     "data": {
      "text/plain": [
       "(['red', 'red', 'red', 'blue', 'blue', 'green', 'green', 'green'],\n",
       " (655306, 8, 2))"
      ]
     },
     "execution_count": null,
     "metadata": {},
     "output_type": "execute_result"
    }
   ],
   "source": [
    "color_list = labels2colors(env.trueLabel())\n",
    "color_list, neuron_group.log.shape"
   ]
  },
  {
   "cell_type": "code",
   "execution_count": null,
   "metadata": {},
   "outputs": [
    {
     "data": {
      "application/vnd.plotly.v1+json": {
       "config": {
        "plotlyServerURL": "https://plot.ly"
       },
       "data": [
        {
         "marker": {
          "color": [
           "red",
           "red",
           "red",
           "blue",
           "blue",
           "green",
           "green",
           "green"
          ]
         },
         "mode": "markers",
         "type": "scatter",
         "x": [
          0.4146173458114909,
          0.8020907496763477,
          0.4565600955053392,
          0.5304158948819188,
          0.7924280098463655,
          1,
          0.8301306690475279,
          0.0242262835728343
         ],
         "y": [
          0.06021661947903927,
          0.28792309505823716,
          0.30456364682037534,
          0.6330000717933577,
          0.6982925507806695,
          0.6095944269936602,
          0.7211778621589742,
          0.9197213772080308
         ]
        }
       ],
       "frames": [
        {
         "data": [
          {
           "marker": {
            "color": [
             "red",
             "red",
             "red",
             "blue",
             "blue",
             "green",
             "green",
             "green"
            ]
           },
           "mode": "markers",
           "type": "scatter",
           "x": [
            0.4146173458114909,
            0.8020907496763477,
            0.4565600955053392,
            0.5304158948819188,
            0.7924280098463655,
            1,
            0.8301306690475279,
            0.0242262835728343
           ],
           "y": [
            0.06021661947903927,
            0.28792309505823716,
            0.30456364682037534,
            0.6330000717933577,
            0.6982925507806695,
            0.6095944269936602,
            0.7211778621589742,
            0.9197213772080308
           ]
          }
         ],
         "name": "0"
        },
        {
         "data": [
          {
           "marker": {
            "color": [
             "red",
             "red",
             "red",
             "blue",
             "blue",
             "green",
             "green",
             "green"
            ]
           },
           "mode": "markers",
           "type": "scatter",
           "x": [
            -0.5064960621097316,
            -0.44572265616451207,
            -0.4673815552976833,
            0.6165722551609194,
            0.4907203704464683,
            0.5553553446257001,
            0.47460212476776026,
            0.05006170320064106
           ],
           "y": [
            -1.0654186695643209,
            -0.9681517748035157,
            -0.9910126272721093,
            0.7110644712583643,
            0.5897361721855193,
            0.8746848633327772,
            0.7767308138740566,
            1
           ]
          }
         ],
         "name": "1"
        },
        {
         "data": [
          {
           "marker": {
            "color": [
             "red",
             "red",
             "red",
             "blue",
             "blue",
             "green",
             "green",
             "green"
            ]
           },
           "mode": "markers",
           "type": "scatter",
           "x": [
            -0.47120581353740326,
            -0.17887220303670603,
            -0.5283730739252775,
            0.3481735056857985,
            0.42173851743306956,
            0.2392510848341896,
            0.2437543851768729,
            0.26752372261834334
           ],
           "y": [
            -0.8644204528384104,
            -0.8224717293165497,
            -0.9399314710896238,
            -0.3209925976545973,
            -0.5227750368425219,
            0.7824441820659506,
            0.9251709080814484,
            1
           ]
          }
         ],
         "name": "2"
        },
        {
         "data": [
          {
           "marker": {
            "color": [
             "red",
             "red",
             "red",
             "blue",
             "blue",
             "green",
             "green",
             "green"
            ]
           },
           "mode": "markers",
           "type": "scatter",
           "x": [
            -0.5664319140336318,
            -0.6755607052606578,
            -0.820817901655243,
            0.7121482342224382,
            0.5334295349436788,
            0.5835654952248698,
            0.5608687030893571,
            0.5566904880749483
           ],
           "y": [
            -0.8320555055195028,
            -0.8975972966727322,
            -0.9444127474746312,
            -0.040267364900816366,
            -0.06544083765904876,
            1,
            0.9448688292898076,
            0.9951807390241716
           ]
          }
         ],
         "name": "3"
        },
        {
         "data": [
          {
           "marker": {
            "color": [
             "red",
             "red",
             "red",
             "blue",
             "blue",
             "green",
             "green",
             "green"
            ]
           },
           "mode": "markers",
           "type": "scatter",
           "x": [
            -0.6323376097050687,
            -0.722853539543804,
            -0.6365247715212322,
            0.2336836299429904,
            0.06473468944965259,
            0.5453206565227408,
            0.5097660571645766,
            0.5120131149357551
           ],
           "y": [
            -0.7266757581467942,
            -0.8408784404839729,
            -0.8492731891886619,
            -0.8644015100371923,
            -0.7348183661562004,
            1,
            0.9250021948882087,
            0.9319902025365746
           ]
          }
         ],
         "name": "4"
        },
        {
         "data": [
          {
           "marker": {
            "color": [
             "red",
             "red",
             "red",
             "blue",
             "blue",
             "green",
             "green",
             "green"
            ]
           },
           "mode": "markers",
           "type": "scatter",
           "x": [
            -0.7688227334346094,
            -0.8868884378723595,
            -0.488085099323961,
            0.5077531957242922,
            0.32645820141409765,
            0.517244695000083,
            0.6082055655432006,
            0.6086266473164366
           ],
           "y": [
            -0.906500106514176,
            -0.939390130802776,
            -0.7926665307900119,
            -0.5021701839198489,
            -0.3668621144511747,
            0.7539676372457405,
            0.9940987792561535,
            1
           ]
          }
         ],
         "name": "5"
        },
        {
         "data": [
          {
           "marker": {
            "color": [
             "red",
             "red",
             "red",
             "blue",
             "blue",
             "green",
             "green",
             "green"
            ]
           },
           "mode": "markers",
           "type": "scatter",
           "x": [
            -1.0072435008030698,
            -0.7910430477858952,
            -1.0829643159562148,
            0.8436023416779728,
            0.6389192274203986,
            0.8950918927485519,
            0.7487361144359894,
            0.7157360469815464
           ],
           "y": [
            -0.7749817624109138,
            -0.6517652392062045,
            -0.7789358582535042,
            -0.09596509640180109,
            -0.1829341887717725,
            1,
            0.6747880038880993,
            0.7095360204392609
           ]
          }
         ],
         "name": "6"
        },
        {
         "data": [
          {
           "marker": {
            "color": [
             "red",
             "red",
             "red",
             "blue",
             "blue",
             "green",
             "green",
             "green"
            ]
           },
           "mode": "markers",
           "type": "scatter",
           "x": [
            -1.24261378766205,
            -1.2298844270595852,
            -0.9893986723137362,
            1,
            0.860637257405873,
            0.8608844407766907,
            0.8684792394881383,
            0.9091098634194684
           ],
           "y": [
            -0.6941011687360462,
            -0.6912783098708648,
            -0.5795961066589185,
            -0.1529902616118274,
            -0.21520708575528938,
            0.7468207180344938,
            0.7485276909005036,
            0.799342342315052
           ]
          }
         ],
         "name": "7"
        },
        {
         "data": [
          {
           "marker": {
            "color": [
             "red",
             "red",
             "red",
             "blue",
             "blue",
             "green",
             "green",
             "green"
            ]
           },
           "mode": "markers",
           "type": "scatter",
           "x": [
            -0.8136449811025694,
            -0.7440188839066257,
            -0.6840203197032505,
            0.7008322286357962,
            0.5901563446851522,
            0.6159983509539849,
            1,
            0.9281263581340546
           ],
           "y": [
            -0.2938604885583823,
            -0.2687146060609136,
            -0.24704468730436602,
            0.2531384442057496,
            0.213128488806526,
            0.22246924522809006,
            0.3609993304785887,
            0.3354071350044535
           ]
          }
         ],
         "name": "8"
        },
        {
         "data": [
          {
           "marker": {
            "color": [
             "red",
             "red",
             "red",
             "blue",
             "blue",
             "green",
             "green",
             "green"
            ]
           },
           "mode": "markers",
           "type": "scatter",
           "x": [
            -0.7527297714349614,
            -0.8031086181384616,
            -0.8396480032835292,
            0.4889348281500049,
            -0.3700163672052717,
            1,
            0.858930899489868,
            0.9312898369003146
           ],
           "y": [
            -0.25253624729719215,
            -0.3065289747894919,
            -0.3069333287666957,
            0.19861545280917073,
            0.24976159473134182,
            0.31488398455301553,
            0.273693640415237,
            0.30841653224788584
           ]
          }
         ],
         "name": "9"
        },
        {
         "data": [
          {
           "marker": {
            "color": [
             "red",
             "red",
             "red",
             "blue",
             "blue",
             "green",
             "green",
             "green"
            ]
           },
           "mode": "markers",
           "type": "scatter",
           "x": [
            -0.9175618531153809,
            -0.7348513922643667,
            -0.8865544973687332,
            0.5737226360400032,
            -0.6841719980227059,
            0.8839277378040873,
            1,
            0.8312410768705072
           ],
           "y": [
            -0.15713097754350613,
            -0.12584210790499045,
            -0.1518210188073375,
            0.09824907388993213,
            -0.1171633432760694,
            0.15137119258348725,
            0.17124838083454907,
            0.1423486863448764
           ]
          }
         ],
         "name": "10"
        },
        {
         "data": [
          {
           "marker": {
            "color": [
             "red",
             "red",
             "red",
             "blue",
             "blue",
             "green",
             "green",
             "green"
            ]
           },
           "mode": "markers",
           "type": "scatter",
           "x": [
            -1.2125770211525673,
            -1.1444539939188323,
            -1.0601384444202686,
            -0.5006216539291859,
            -0.908337602699581,
            1,
            0.9699696272401449,
            0.8506021321681374
           ],
           "y": [
            -0.20765184841883202,
            -0.19598589048035828,
            -0.18154698936515132,
            -0.08573064632134257,
            -0.15555134139789267,
            0.17124837828271972,
            0.16610572564850667,
            0.1456642356975559
           ]
          }
         ],
         "name": "11"
        },
        {
         "data": [
          {
           "marker": {
            "color": [
             "red",
             "red",
             "red",
             "blue",
             "blue",
             "green",
             "green",
             "green"
            ]
           },
           "mode": "markers",
           "type": "scatter",
           "x": [
            -0.8135962734159317,
            -1.2416582740702442,
            -1.012747963195182,
            -0.7246517578917967,
            -0.8832548712164053,
            0.8806881740881347,
            0.9330865559157129,
            1
           ],
           "y": [
            -0.13932704198239285,
            -0.2126319651795638,
            -0.17343144578729988,
            -0.12409543798732361,
            -0.1512559638534799,
            0.15081642113404256,
            0.15978955901980174,
            0.17124837777025645
           ]
          }
         ],
         "name": "12"
        },
        {
         "data": [
          {
           "marker": {
            "color": [
             "red",
             "red",
             "red",
             "blue",
             "blue",
             "green",
             "green",
             "green"
            ]
           },
           "mode": "markers",
           "type": "scatter",
           "x": [
            -1.2723706664280274,
            -0.9483199469484339,
            -0.9748319990900972,
            -0.8952024216568717,
            -0.8086032789174975,
            1,
            0.9855359769212237,
            0.8946447027567016
           ],
           "y": [
            -0.2178914125482523,
            -0.16239825252208945,
            -0.1669383984427094,
            -0.15330196248473932,
            -0.13847199977432714,
            0.17124837777025154,
            0.16877143728197824,
            0.15320645402783284
           ]
          }
         ],
         "name": "13"
        },
        {
         "data": [
          {
           "marker": {
            "color": [
             "red",
             "red",
             "red",
             "blue",
             "blue",
             "green",
             "green",
             "green"
            ]
           },
           "mode": "markers",
           "type": "scatter",
           "x": [
            -0.9071797666581782,
            -0.8752746485972865,
            -1.194148947404916,
            -0.8453820329298091,
            -0.9013429995560671,
            1,
            0.9497803415231535,
            0.9993836600096412
           ],
           "y": [
            -0.15535306338620714,
            -0.14988936367571115,
            -0.20449607005914797,
            -0.1447703017353462,
            -0.15435352648854797,
            0.17124837777025093,
            0.16264834272391482,
            0.17114283054674673
           ]
          }
         ],
         "name": "14"
        },
        {
         "data": [
          {
           "marker": {
            "color": [
             "red",
             "red",
             "red",
             "blue",
             "blue",
             "green",
             "green",
             "green"
            ]
           },
           "mode": "markers",
           "type": "scatter",
           "x": [
            -0.8552618517387786,
            -0.7819275558380949,
            -0.910820388414278,
            -0.7750751716668084,
            -0.7991916654403339,
            0.6973653041396227,
            1,
            0.9362591643785729
           ],
           "y": [
            -0.14646220467905138,
            -0.13390382547113414,
            -0.15597651395601828,
            -0.13273036579794362,
            -0.13686027623416666,
            0.1194226770471691,
            0.17124837777025673,
            0.1603328630723669
           ]
          }
         ],
         "name": "15"
        },
        {
         "data": [
          {
           "marker": {
            "color": [
             "red",
             "red",
             "red",
             "blue",
             "blue",
             "green",
             "green",
             "green"
            ]
           },
           "mode": "markers",
           "type": "scatter",
           "x": [
            -0.877628221332811,
            -1.0987492183596395,
            -0.8710003751299203,
            -0.7887400176264594,
            -0.867630319654093,
            1,
            0.87326346573154,
            0.9568616401005415
           ],
           "y": [
            -0.15029240918864048,
            -0.18815902122042558,
            -0.14915740127828506,
            -0.13507044850101577,
            -0.14858028474505378,
            0.17124837777025753,
            0.14954495187255934,
            0.1638610036178058
           ]
          }
         ],
         "name": "16"
        },
        {
         "data": [
          {
           "marker": {
            "color": [
             "red",
             "red",
             "red",
             "blue",
             "blue",
             "green",
             "green",
             "green"
            ]
           },
           "mode": "markers",
           "type": "scatter",
           "x": [
            -0.8233984670352209,
            -1.0435016683769935,
            -0.743788667203639,
            -0.7330689213138691,
            -0.8730667740945111,
            0.8938438291017575,
            1,
            0.870649022792952
           ],
           "y": [
            -0.14100565173846297,
            -0.17869796791033668,
            -0.12737260266267278,
            -0.12553686356894023,
            -0.1495112687489715,
            0.15306930571381222,
            0.17124837777046073,
            0.14909723276072911
           ]
          }
         ],
         "name": "17"
        },
        {
         "data": [
          {
           "marker": {
            "color": [
             "red",
             "red",
             "red",
             "blue",
             "blue",
             "green",
             "green",
             "green"
            ]
           },
           "mode": "markers",
           "type": "scatter",
           "x": [
            -0.8506928028302468,
            -0.9484423204009075,
            -1.156867174756443,
            -0.8804163366503988,
            -0.8451049068511399,
            0.8728937280870362,
            0.7891078515038872,
            1
           ],
           "y": [
            -0.14567976246615696,
            -0.16241920877804272,
            -0.1981116269735041,
            -0.15076986941439077,
            -0.1447228443445938,
            0.14948163490137684,
            0.13513343945639106,
            0.17124837777098964
           ]
          }
         ],
         "name": "18"
        },
        {
         "data": [
          {
           "marker": {
            "color": [
             "red",
             "red",
             "red",
             "blue",
             "blue",
             "green",
             "green",
             "green"
            ]
           },
           "mode": "markers",
           "type": "scatter",
           "x": [
            -0.8382191085727567,
            -0.9490389484939816,
            -0.7769344476328757,
            -0.7284665133884176,
            -0.773339689290647,
            1,
            0.6814509703850914,
            0.8060880139303535
           ],
           "y": [
            -0.14354366255965478,
            -0.1625213803709974,
            -0.13304876379146022,
            -0.12474870867818907,
            -0.1324331672568753,
            0.1712483777708999,
            0.11669737320885201,
            0.1380412647261401
           ]
          }
         ],
         "name": "19"
        },
        {
         "data": [
          {
           "marker": {
            "color": [
             "red",
             "red",
             "red",
             "blue",
             "blue",
             "green",
             "green",
             "green"
            ]
           },
           "mode": "markers",
           "type": "scatter",
           "x": [
            -0.9092753145237542,
            -0.91172533672278,
            -0.9611548521845953,
            -0.5570487262817825,
            -0.8908541378695382,
            1,
            0.7928684729356155,
            0.8519047584789409
           ],
           "y": [
            -0.15571192255932728,
            -0.1561314848864134,
            -0.1645962092232512,
            -0.09539369071510785,
            -0.15255732594066432,
            0.17124837777091043,
            0.13577743977592327,
            0.14588730790483787
           ]
          }
         ],
         "name": "20"
        },
        {
         "data": [
          {
           "marker": {
            "color": [
             "red",
             "red",
             "red",
             "blue",
             "blue",
             "green",
             "green",
             "green"
            ]
           },
           "mode": "markers",
           "type": "scatter",
           "x": [
            -0.8235089807489163,
            -0.7737994996572924,
            -0.8445801670635738,
            -0.6902841149176617,
            -0.7270845641131247,
            0.8140774626693904,
            1,
            0.7810014238670177
           ],
           "y": [
            -0.14102457703302276,
            -0.1325119090362486,
            -0.14463298350711615,
            -0.11821003488067428,
            -0.12451205210663734,
            0.1394094448619867,
            0.17124837777090463,
            0.13374522687399312
           ]
          }
         ],
         "name": "21"
        },
        {
         "data": [
          {
           "marker": {
            "color": [
             "red",
             "red",
             "red",
             "blue",
             "blue",
             "green",
             "green",
             "green"
            ]
           },
           "mode": "markers",
           "type": "scatter",
           "x": [
            -0.901799272413424,
            -0.9079786247122267,
            -0.9749658586203571,
            -0.5966817080263427,
            -0.739806798120629,
            1,
            0.7157833329416271,
            0.6139846430129762
           ],
           "y": [
            -0.15443166247578619,
            -0.15548986653263108,
            -0.1669613216707592,
            -0.1021807745450881,
            -0.1266907140420491,
            0.17124837777091104,
            0.12257673460170962,
            0.10514387409222421
           ]
          }
         ],
         "name": "22"
        },
        {
         "data": [
          {
           "marker": {
            "color": [
             "red",
             "red",
             "red",
             "blue",
             "blue",
             "green",
             "green",
             "green"
            ]
           },
           "mode": "markers",
           "type": "scatter",
           "x": [
            -0.7727478228103188,
            -0.6834483836356671,
            -0.9568118356019489,
            0.5872028325890547,
            0.6631683194184966,
            0.8946576023019295,
            0.7092088359212507,
            1
           ],
           "y": [
            -0.1323318109297084,
            -0.11703942685283042,
            -0.16385247448993315,
            0.10055753238739272,
            0.11356649875848386,
            0.15320866287794538,
            0.12145086251225887,
            0.1712483775735275
           ]
          }
         ],
         "name": "23"
        },
        {
         "data": [
          {
           "marker": {
            "color": [
             "red",
             "red",
             "red",
             "blue",
             "blue",
             "green",
             "green",
             "green"
            ]
           },
           "mode": "markers",
           "type": "scatter",
           "x": [
            -0.8815412246109708,
            -0.75569308624243,
            -0.6777176950632534,
            0.6447119814022506,
            0.6941662860086819,
            0.6960932890996666,
            0.8475150667659956,
            1
           ],
           "y": [
            -0.1509625047460558,
            -0.12941121519164223,
            -0.11605805593790816,
            0.11040588101279943,
            0.11887485045567227,
            0.11920484660916683,
            0.14513558040972796,
            0.1712483778766846
           ]
          }
         ],
         "name": "24"
        },
        {
         "data": [
          {
           "marker": {
            "color": [
             "red",
             "red",
             "red",
             "blue",
             "blue",
             "green",
             "green",
             "green"
            ]
           },
           "mode": "markers",
           "type": "scatter",
           "x": [
            -1.1565265374190055,
            -1.0864827663323287,
            -0.9407616590170335,
            0.9365931047239596,
            0.9519371986097788,
            0.991750345227087,
            1,
            0.9534786156487325
           ],
           "y": [
            -0.19805329350435,
            -0.1860584113253916,
            -0.16110390807525216,
            0.1603900499144729,
            0.16301770110240701,
            0.16983563787878803,
            0.1712483778766918,
            0.1632816662699594
           ]
          }
         ],
         "name": "25"
        },
        {
         "data": [
          {
           "marker": {
            "color": [
             "red",
             "red",
             "red",
             "blue",
             "blue",
             "green",
             "green",
             "green"
            ]
           },
           "mode": "markers",
           "type": "scatter",
           "x": [
            -0.9412742899935751,
            -1.3836671074790319,
            -1.0753803477598511,
            0.8778125293054233,
            1,
            0.9958000545271484,
            0.9043590396121217,
            0.9873245188976943
           ],
           "y": [
            -0.16119169571389913,
            -0.2369507482878435,
            -0.1841571406290038,
            0.15032397211084259,
            0.17124837831807604,
            0.17052914446682568,
            0.15487001895086872,
            0.16907772273490487
           ]
          }
         ],
         "name": "26"
        },
        {
         "data": [
          {
           "marker": {
            "color": [
             "red",
             "red",
             "red",
             "blue",
             "blue",
             "green",
             "green",
             "green"
            ]
           },
           "mode": "markers",
           "type": "scatter",
           "x": [
            -0.9789785026225162,
            -0.9556542503697604,
            -0.9751050584641494,
            0.8144200179862356,
            0.8749926346952581,
            0.9523889573003075,
            1,
            0.9679380971311731
           ],
           "y": [
            -0.167648480982377,
            -0.16365424060861197,
            -0.16698515995175123,
            0.13946810734993428,
            0.14984106973183672,
            0.16309506446573532,
            0.1712483783180898,
            0.16575782944601183
           ]
          }
         ],
         "name": "27"
        },
        {
         "data": [
          {
           "marker": {
            "color": [
             "red",
             "red",
             "red",
             "blue",
             "blue",
             "green",
             "green",
             "green"
            ]
           },
           "mode": "markers",
           "type": "scatter",
           "x": [
            -0.9041861309334358,
            -0.9963867319359377,
            -0.8246356437507749,
            0.8406132618002577,
            0.6914644900905103,
            1,
            0.922513252903026,
            0.6984944993497485
           ],
           "y": [
            -0.15484040863248946,
            -0.17062961203527552,
            -0.14121751670691718,
            0.1439536578890241,
            0.11841217260216626,
            0.17124837833308873,
            0.15797889854795263,
            0.1196160502889827
           ]
          }
         ],
         "name": "28"
        },
        {
         "data": [
          {
           "marker": {
            "color": [
             "red",
             "red",
             "red",
             "blue",
             "blue",
             "green",
             "green",
             "green"
            ]
           },
           "mode": "markers",
           "type": "scatter",
           "x": [
            -0.7885299900785638,
            -0.889893621027413,
            -0.6784928848485576,
            0.5963077059618248,
            0.5897782215774128,
            0.7834052831430934,
            0.7854095707596105,
            1
           ],
           "y": [
            -0.1350344820672454,
            -0.1523928394890968,
            -0.1161908062402383,
            0.10211672763295515,
            0.10099856402077882,
            0.13415688431513145,
            0.1345001153191575,
            0.1712483783321734
           ]
          }
         ],
         "name": "29"
        },
        {
         "data": [
          {
           "marker": {
            "color": [
             "red",
             "red",
             "red",
             "blue",
             "blue",
             "green",
             "green",
             "green"
            ]
           },
           "mode": "markers",
           "type": "scatter",
           "x": [
            -0.871468543118031,
            -0.8665577889515707,
            -0.9430764079947394,
            0.8010873795544957,
            0.6289111011840491,
            0.6942991549912699,
            0.811859855275945,
            1
           ],
           "y": [
            -0.14923757477650446,
            -0.14839661608910995,
            -0.16150030551247352,
            0.1371849146511144,
            0.10770000619289798,
            0.11889760436968469,
            0.13902968364903545,
            0.17124837833221898
           ]
          }
         ],
         "name": "30"
        },
        {
         "data": [
          {
           "marker": {
            "color": [
             "red",
             "red",
             "red",
             "blue",
             "blue",
             "green",
             "green",
             "green"
            ]
           },
           "mode": "markers",
           "type": "scatter",
           "x": [
            -0.9546134534005469,
            -0.8299352041148381,
            -0.8428735585730466,
            1,
            0.8967355170813976,
            0.8095895847930571,
            0.8912371561145939,
            0.9373881945139696
           ],
           "y": [
            -0.16347600582985025,
            -0.1421250578262563,
            -0.14434073004552414,
            0.17124837833315304,
            0.15356450309392286,
            0.1386409035112129,
            0.15262291769486427,
            0.16052620817915458
           ]
          }
         ],
         "name": "31"
        },
        {
         "data": [
          {
           "marker": {
            "color": [
             "red",
             "red",
             "red",
             "blue",
             "blue",
             "green",
             "green",
             "green"
            ]
           },
           "mode": "markers",
           "type": "scatter",
           "x": [
            -0.794788128877809,
            -0.79915832835295,
            -0.8401974186914916,
            0.8084948563238935,
            0.6672266591396625,
            0.8108783269766536,
            0.7400583270594262,
            1
           ],
           "y": [
            -0.13610617818711487,
            -0.13685456776021596,
            -0.14388244542886922,
            0.13845343303427146,
            0.11426148335691033,
            0.13886159851852348,
            0.12673378837929775,
            0.17124837833116385
           ]
          }
         ],
         "name": "32"
        },
        {
         "data": [
          {
           "marker": {
            "color": [
             "red",
             "red",
             "red",
             "blue",
             "blue",
             "green",
             "green",
             "green"
            ]
           },
           "mode": "markers",
           "type": "scatter",
           "x": [
            -0.8699826926658653,
            -0.6473227784598256,
            -0.5887204690513262,
            0.5769385343565993,
            0.6845243295443328,
            0.5286858607470276,
            0.6024368583931689,
            1
           ],
           "y": [
            -0.14898312529226362,
            -0.11085297606587696,
            -0.10081742561340871,
            0.09879978840337292,
            0.11722368136037689,
            0.09053659629775489,
            0.1031663350447119,
            0.17124837832777862
           ]
          }
         ],
         "name": "33"
        },
        {
         "data": [
          {
           "marker": {
            "color": [
             "red",
             "red",
             "red",
             "blue",
             "blue",
             "green",
             "green",
             "green"
            ]
           },
           "mode": "markers",
           "type": "scatter",
           "x": [
            -0.7929137223002454,
            -0.8698161142650542,
            -0.9472655081410716,
            0.9942584437829709,
            0.9184581868412466,
            0.9133836727405108,
            0.9345175771080053,
            1
           ],
           "y": [
            -0.13578518909680778,
            -0.14895459901018393,
            -0.1622176821138208,
            0.17026514613608415,
            0.15728447505673995,
            0.1564154727461589,
            0.1600346195975476,
            0.1712483783265296
           ]
          }
         ],
         "name": "34"
        },
        {
         "data": [
          {
           "marker": {
            "color": [
             "red",
             "red",
             "red",
             "blue",
             "blue",
             "green",
             "green",
             "green"
            ]
           },
           "mode": "markers",
           "type": "scatter",
           "x": [
            -0.9638856880411711,
            -0.9893110213208754,
            -0.8088997411300712,
            0.5934978784888316,
            0.6566813056688189,
            0.8385373480439271,
            0.9036600588366018,
            1
           ],
           "y": [
            -0.165063860969027,
            -0.16941790806156273,
            -0.1385227688971076,
            0.10163554923192301,
            0.11245560867382658,
            0.1435981610185621,
            0.1547503196339691,
            0.1712483783262362
           ]
          }
         ],
         "name": "35"
        },
        {
         "data": [
          {
           "marker": {
            "color": [
             "red",
             "red",
             "red",
             "blue",
             "blue",
             "green",
             "green",
             "green"
            ]
           },
           "mode": "markers",
           "type": "scatter",
           "x": [
            -1.0099162856060735,
            -1.1341898587115167,
            -0.7967059765731875,
            0.5817551587019837,
            0.5858698655044262,
            0.999376038338402,
            1,
            0.8504685176329414
           ],
           "y": [
            -0.1729465261189972,
            -0.19422817397755626,
            -0.13643460645787686,
            0.09962462751608726,
            0.10032926439688566,
            0.17114152582762177,
            0.17124837828466583,
            0.14564135443682844
           ]
          }
         ],
         "name": "36"
        },
        {
         "data": [
          {
           "marker": {
            "color": [
             "red",
             "red",
             "red",
             "blue",
             "blue",
             "green",
             "green",
             "green"
            ]
           },
           "mode": "markers",
           "type": "scatter",
           "x": [
            -0.9726139999396128,
            -0.5749420946404211,
            -0.8137898908368487,
            0.6474326946969516,
            0.5960594102974243,
            0.6319554560935804,
            0.9259724941803006,
            1
           ],
           "y": [
            -0.16676677541892054,
            -0.0985809779366169,
            -0.13953440524619443,
            0.11101039319516308,
            0.10220180400441091,
            0.10835662802734251,
            0.15876950906006154,
            0.17146244503710475
           ]
          }
         ],
         "name": "37"
        },
        {
         "data": [
          {
           "marker": {
            "color": [
             "red",
             "red",
             "red",
             "blue",
             "blue",
             "green",
             "green",
             "green"
            ]
           },
           "mode": "markers",
           "type": "scatter",
           "x": [
            -0.6989426404594029,
            -0.8807102485210444,
            -0.7957379509777733,
            0.5610464311915102,
            0.6977443869356773,
            1,
            0.9407959647813481,
            0.5622504170510394
           ],
           "y": [
            -0.11984241460836871,
            -0.15100873325416755,
            -0.13643917529197636,
            0.09619839330048448,
            0.11963695912849058,
            0.17146244580183856,
            0.16131117712190884,
            0.09640483166067056
           ]
          }
         ],
         "name": "38"
        },
        {
         "data": [
          {
           "marker": {
            "color": [
             "red",
             "red",
             "red",
             "blue",
             "blue",
             "green",
             "green",
             "green"
            ]
           },
           "mode": "markers",
           "type": "scatter",
           "x": [
            -0.8592100612827245,
            -0.7251281220009166,
            -0.7107866370343514,
            0.5200544777099959,
            0.688587877561829,
            0.7482905515096202,
            1,
            0.9207437905363464
           ],
           "y": [
            -0.14732225856507014,
            -0.1243322413179596,
            -0.12187321522916238,
            0.08916981269834526,
            0.11806696163623695,
            0.12830372813223387,
            0.17146244580182327,
            0.15787298228220267
           ]
          }
         ],
         "name": "39"
        },
        {
         "data": [
          {
           "marker": {
            "color": [
             "red",
             "red",
             "red",
             "blue",
             "blue",
             "green",
             "green",
             "green"
            ]
           },
           "mode": "markers",
           "type": "scatter",
           "x": [
            -0.697907934225944,
            -0.6143577326217763,
            -0.8808381627735246,
            0.5016318145055152,
            0.20805873526063218,
            0.6458986348476264,
            0.9278258542773241,
            1
           ],
           "y": [
            -0.11966500134606992,
            -0.10533927943188098,
            -0.15103066574371346,
            0.08601101780653123,
            0.0356742596179961,
            0.11074735967030973,
            0.1590872902515253,
            0.17146244580059586
           ]
          }
         ],
         "name": "40"
        },
        {
         "data": [
          {
           "marker": {
            "color": [
             "red",
             "red",
             "red",
             "blue",
             "blue",
             "green",
             "green",
             "green"
            ]
           },
           "mode": "markers",
           "type": "scatter",
           "x": [
            -0.8841705848074637,
            -0.9991274797917128,
            -1.1060212934822198,
            -0.9533412018257436,
            -0.8870309029579065,
            1,
            0.8685273689080163,
            0.9436117627531905
           ],
           "y": [
            -0.15160113849799906,
            -0.17131090349211645,
            -0.189637909177932,
            -0.16346051612427417,
            -0.15205029795040906,
            0.17145691523889267,
            0.1489150885812225,
            0.1617888441326782
           ]
          }
         ],
         "name": "41"
        },
        {
         "data": [
          {
           "marker": {
            "color": [
             "red",
             "red",
             "red",
             "blue",
             "blue",
             "green",
             "green",
             "green"
            ]
           },
           "mode": "markers",
           "type": "scatter",
           "x": [
            -0.9749408677193017,
            -0.8266893100557828,
            -0.9290435685660118,
            -0.6524722803218724,
            -0.6559450369266803,
            0.921516090927308,
            0.8377735100638735,
            1
           ],
           "y": [
            -0.16717062353939113,
            -0.14175030857282006,
            -0.15930073042446855,
            -0.11187776523655565,
            -0.1124732254047573,
            0.15801001349707536,
            0.14365088613488625,
            0.17146744940337527
           ]
          }
         ],
         "name": "42"
        },
        {
         "data": [
          {
           "marker": {
            "color": [
             "red",
             "red",
             "red",
             "blue",
             "blue",
             "green",
             "green",
             "green"
            ]
           },
           "mode": "markers",
           "type": "scatter",
           "x": [
            -1.0338255997319823,
            -1.2167927955273783,
            -1.1217452409595783,
            -0.9593202291319675,
            -1.1190416756255384,
            0.9980363932223117,
            1,
            0.9158404452643022
           ],
           "y": [
            -0.177267440054293,
            -0.20864035867903163,
            -0.19234279680203478,
            -0.16449219409406024,
            -0.19187922334640653,
            0.17113075605151004,
            0.17146745069985703,
            0.1570368263972919
           ]
          }
         ],
         "name": "43"
        },
        {
         "data": [
          {
           "marker": {
            "color": [
             "red",
             "red",
             "red",
             "blue",
             "blue",
             "green",
             "green",
             "green"
            ]
           },
           "mode": "markers",
           "type": "scatter",
           "x": [
            -0.8523468508507599,
            -1.1327479774809215,
            -0.7595621628627576,
            -0.7602555852827161,
            -0.7539563225248949,
            0.9526347570902975,
            1,
            0.9680938248071935
           ],
           "y": [
            -0.14614974162739527,
            -0.19422940798402505,
            -0.13024018771411483,
            -0.13035908708872312,
            -0.12927896856235124,
            0.16334585324631057,
            0.17146745069981462,
            0.1659965801779223
           ]
          }
         ],
         "name": "44"
        },
        {
         "data": [
          {
           "marker": {
            "color": [
             "red",
             "red",
             "red",
             "blue",
             "blue",
             "green",
             "green",
             "green"
            ]
           },
           "mode": "markers",
           "type": "scatter",
           "x": [
            -0.9024224617203526,
            -0.8181848030940638,
            -0.7503984545583592,
            -0.6478180030169371,
            -0.6390398304256855,
            0.9610445877764222,
            0.8164543231638175,
            1
           ],
           "y": [
            -0.15473607896571698,
            -0.1402920623881194,
            -0.12866891001243203,
            -0.11107970149495737,
            -0.10957453061892987,
            0.1647878654751706,
            0.13999534140599185,
            0.1714674507001197
           ]
          }
         ],
         "name": "45"
        },
        {
         "data": [
          {
           "marker": {
            "color": [
             "red",
             "red",
             "red",
             "blue",
             "blue",
             "green",
             "green",
             "green"
            ]
           },
           "mode": "markers",
           "type": "scatter",
           "x": [
            -0.9164074817086663,
            -1.0360352601677667,
            -0.7588015774488542,
            -0.5268112783977977,
            -0.8440462564128408,
            0.9998440112281686,
            0.6792971028894723,
            1
           ],
           "y": [
            -0.1571340546911104,
            -0.17764632489641577,
            -0.13010977207239344,
            -0.09033098690694723,
            -0.1447264598600998,
            0.17144070370308898,
            0.11647734250044124,
            0.17146745070012748
           ]
          }
         ],
         "name": "46"
        },
        {
         "data": [
          {
           "marker": {
            "color": [
             "red",
             "red",
             "red",
             "blue",
             "blue",
             "green",
             "green",
             "green"
            ]
           },
           "mode": "markers",
           "type": "scatter",
           "x": [
            -1.1094440368778482,
            -1.041011993484425,
            -1.0209393641140911,
            -0.6610926850950092,
            -0.8562081333441465,
            1,
            0.9427775168812023,
            0.9629314611065998
           ],
           "y": [
            -0.19023354069766604,
            -0.17849967267081365,
            -0.17505787008383455,
            -0.11335587739002287,
            -0.14681182589305192,
            0.17146745069992758,
            0.16165565739682722,
            0.16511140283470438
           ]
          }
         ],
         "name": "47"
        },
        {
         "data": [
          {
           "marker": {
            "color": [
             "red",
             "red",
             "red",
             "blue",
             "blue",
             "green",
             "green",
             "green"
            ]
           },
           "mode": "markers",
           "type": "scatter",
           "x": [
            -1.067326214777136,
            -0.9882909879393199,
            -1.0067516319138423,
            -0.9280735779266566,
            -0.9813828243054822,
            0.9923650434159004,
            1,
            0.9240239544533434
           ],
           "y": [
            -0.18301170511310705,
            -0.16945973625173555,
            -0.17262513581232145,
            -0.15913441046910046,
            -0.16827521104441037,
            0.17015830415830865,
            0.17146745069998953,
            0.15844003185583763
           ]
          }
         ],
         "name": "48"
        },
        {
         "data": [
          {
           "marker": {
            "color": [
             "red",
             "red",
             "red",
             "blue",
             "blue",
             "green",
             "green",
             "green"
            ]
           },
           "mode": "markers",
           "type": "scatter",
           "x": [
            -0.9923896246591161,
            -0.8010291878153833,
            -0.80477799559107,
            -0.6923942731598759,
            -0.8123006858563007,
            0.7313815976964373,
            0.8886898760696436,
            1
           ],
           "y": [
            -0.17016251904001944,
            -0.13735043276985945,
            -0.1379932312823152,
            -0.11872308089702181,
            -0.1392831278044896,
            0.1254081380448643,
            0.1523813875113016,
            0.1714674506985825
           ]
          }
         ],
         "name": "49"
        },
        {
         "data": [
          {
           "marker": {
            "color": [
             "red",
             "red",
             "red",
             "blue",
             "blue",
             "green",
             "green",
             "green"
            ]
           },
           "mode": "markers",
           "type": "scatter",
           "x": [
            -0.838522707557636,
            -0.7423003591535333,
            -0.8215303053361283,
            -0.7245774421645372,
            -0.7070757973696018,
            1,
            0.7260103807386914,
            0.8769530842860311
           ],
           "y": [
            -0.14377935101854017,
            -0.12728035023737064,
            -0.1408657071283578,
            -0.12424144684230869,
            -0.12124048442627318,
            0.17146745069948763,
            0.12448714916662805,
            0.15036890974557887
           ]
          }
         ],
         "name": "50"
        },
        {
         "data": [
          {
           "marker": {
            "color": [
             "red",
             "red",
             "red",
             "blue",
             "blue",
             "green",
             "green",
             "green"
            ]
           },
           "mode": "markers",
           "type": "scatter",
           "x": [
            -0.7958934275574387,
            -1.0359209638789049,
            -0.818317877166243,
            -0.7452619442348507,
            -0.7496650890216813,
            0.9576381386338996,
            0.7690880903848519,
            1
           ],
           "y": [
            -0.1364698170115781,
            -0.17762672675911279,
            -0.14031488022601063,
            -0.12778816567207643,
            -0.1285431616560913,
            0.16420377028527755,
            0.13187357418979592,
            0.17146745065975405
           ]
          }
         ],
         "name": "51"
        },
        {
         "data": [
          {
           "marker": {
            "color": [
             "red",
             "red",
             "red",
             "blue",
             "blue",
             "green",
             "green",
             "green"
            ]
           },
           "mode": "markers",
           "type": "scatter",
           "x": [
            -0.8629968655646306,
            -0.8433817566645369,
            -1.0251534242839928,
            -0.8575506826649854,
            -0.7738443367541236,
            0.7944431371964641,
            1,
            0.9355552555898552
           ],
           "y": [
            -0.14797587239212662,
            -0.14461251967579355,
            -0.17578044410841934,
            -0.14704202929557494,
            -0.13268911556539256,
            0.13622113936081187,
            0.17146745057360638,
            0.16041727454688073
           ]
          }
         ],
         "name": "52"
        },
        {
         "data": [
          {
           "marker": {
            "color": [
             "red",
             "red",
             "red",
             "blue",
             "blue",
             "green",
             "green",
             "green"
            ]
           },
           "mode": "markers",
           "type": "scatter",
           "x": [
            -0.7346093308662848,
            -0.9539534476281328,
            -0.7647368860491276,
            -0.728359699017104,
            -0.8448164885099352,
            0.9100038103840703,
            1,
            0.8809591364338465
           ],
           "y": [
            -0.12596158913154742,
            -0.16357196563111737,
            -0.13112748421077833,
            -0.12488998069134188,
            -0.144858529487723,
            0.15603603337922556,
            0.17146745057404725,
            0.15105581718422603
           ]
          }
         ],
         "name": "53"
        },
        {
         "data": [
          {
           "marker": {
            "color": [
             "red",
             "red",
             "red",
             "blue",
             "blue",
             "green",
             "green",
             "green"
            ]
           },
           "mode": "markers",
           "type": "scatter",
           "x": [
            -0.8947667591630574,
            -1.1021829517024622,
            -0.820841206776283,
            -0.7460992130482366,
            -0.7739633246766933,
            0.8715278917542753,
            1,
            0.7235790266015909
           ],
           "y": [
            -0.15342337505211762,
            -0.18898850079463028,
            -0.14074754905207723,
            -0.1279317299367058,
            -0.13270951812014817,
            0.1494386657033041,
            0.17146745057407517,
            0.12407025098024566
           ]
          }
         ],
         "name": "54"
        },
        {
         "data": [
          {
           "marker": {
            "color": [
             "red",
             "red",
             "red",
             "blue",
             "blue",
             "green",
             "green",
             "green"
            ]
           },
           "mode": "markers",
           "type": "scatter",
           "x": [
            -0.9572110772787794,
            -1.061798908453636,
            -0.9577022549116977,
            -0.8808581371295092,
            -0.8811171705813365,
            0.9999122852103659,
            0.9949616815697325,
            1
           ],
           "y": [
            -0.16413054308224878,
            -0.18206395185487317,
            -0.1642147640587443,
            -0.15103849909101857,
            -0.15108291489661674,
            0.17145241034271191,
            0.17060354295764962,
            0.17146745057406781
           ]
          }
         ],
         "name": "55"
        },
        {
         "data": [
          {
           "marker": {
            "color": [
             "red",
             "red",
             "red",
             "blue",
             "blue",
             "green",
             "green",
             "green"
            ]
           },
           "mode": "markers",
           "type": "scatter",
           "x": [
            -0.991987516483513,
            -0.7732537901837075,
            -1.0195381795992742,
            -0.7529411983182465,
            -0.5715396545021979,
            0.976984357044938,
            1,
            0.7257045670224191
           ],
           "y": [
            -0.1700935704527221,
            -0.13258785604952986,
            -0.1748176124188062,
            -0.12910490770780797,
            -0.09800044745947122,
            0.16752101695323335,
            0.1714674505740613,
            0.12443471197728681
           ]
          }
         ],
         "name": "56"
        },
        {
         "data": [
          {
           "marker": {
            "color": [
             "red",
             "red",
             "red",
             "blue",
             "blue",
             "green",
             "green",
             "green"
            ]
           },
           "mode": "markers",
           "type": "scatter",
           "x": [
            -0.8950995390963674,
            -0.8982862087620739,
            -0.9998480975056461,
            0.5519660933182355,
            -0.4815928219949077,
            0.8758275265648586,
            1,
            0.904075553771323
           ],
           "y": [
            -0.15348043597882527,
            -0.15402684610222994,
            -0.17144140424056964,
            0.09464421882457512,
            -0.08257749340221072,
            0.15017591312261894,
            0.17146745057401172,
            0.15501953033145655
           ]
          }
         ],
         "name": "57"
        },
        {
         "data": [
          {
           "marker": {
            "color": [
             "red",
             "red",
             "red",
             "blue",
             "blue",
             "green",
             "green",
             "green"
            ]
           },
           "mode": "markers",
           "type": "scatter",
           "x": [
            -0.9849588276379281,
            -0.9242640568519395,
            -1.2168818233515504,
            -0.7040427483586088,
            -0.8644028215773024,
            0.983411538584531,
            1,
            0.7454474202771126
           ],
           "y": [
            -0.16888837909542695,
            -0.15848120148559805,
            -0.20865562389993497,
            -0.12072041515616655,
            -0.14821694808484756,
            0.16862306938615176,
            0.17146745057400814,
            0.12781996869188786
           ]
          }
         ],
         "name": "58"
        },
        {
         "data": [
          {
           "marker": {
            "color": [
             "red",
             "red",
             "red",
             "blue",
             "blue",
             "green",
             "green",
             "green"
            ]
           },
           "mode": "markers",
           "type": "scatter",
           "x": [
            -0.8146004633348992,
            -0.8617924160230568,
            -0.9219838081667316,
            -0.6807921826894004,
            -0.680356567450411,
            0.8665411853788088,
            0.8076494661188319,
            1
           ],
           "y": [
            -0.13967746468443842,
            -0.14776934849948523,
            -0.15809021305686177,
            -0.1167336999364631,
            -0.11665900610200244,
            0.14858360787428582,
            0.13848559491285728,
            0.17146745057400284
           ]
          }
         ],
         "name": "59"
        },
        {
         "data": [
          {
           "marker": {
            "color": [
             "red",
             "red",
             "red",
             "blue",
             "blue",
             "green",
             "green",
             "green"
            ]
           },
           "mode": "markers",
           "type": "scatter",
           "x": [
            -0.8907307055455421,
            -1.037523568640739,
            -0.9184195762860222,
            -0.8519551087169297,
            -0.8582769677355535,
            0.825344173926737,
            1,
            0.8644666538472278
           ],
           "y": [
            -0.15273132322809616,
            -0.17790152122552733,
            -0.15747906330324848,
            -0.14608257049540216,
            -0.1471665635442143,
            0.14151966134952834,
            0.1714674505742512,
            0.14822789324163715
           ]
          }
         ],
         "name": "60"
        },
        {
         "data": [
          {
           "marker": {
            "color": [
             "red",
             "red",
             "red",
             "blue",
             "blue",
             "green",
             "green",
             "green"
            ]
           },
           "mode": "markers",
           "type": "scatter",
           "x": [
            -1.0994357234426013,
            -0.9680506026965452,
            -1.1053464360023069,
            -0.7923743341598284,
            -0.8270473786860141,
            0.9385232053372965,
            0.9894011239808898,
            1
           ],
           "y": [
            -0.1886566846347262,
            -0.16611177311849956,
            -0.18967092830916732,
            -0.1359667617982945,
            -0.14191645162177188,
            0.16104504581938875,
            0.16977539653884863,
            0.17159410114177934
           ]
          }
         ],
         "name": "61"
        },
        {
         "data": [
          {
           "marker": {
            "color": [
             "red",
             "red",
             "red",
             "blue",
             "blue",
             "green",
             "green",
             "green"
            ]
           },
           "mode": "markers",
           "type": "scatter",
           "x": [
            -0.8659575372132385,
            -0.9298810924354989,
            -0.9792735373248955,
            -0.46043784273860283,
            -0.7660349905696974,
            0.7074479812673732,
            1,
            0.9052483473537857
           ],
           "y": [
            -0.14859320568350534,
            -0.15956211073831886,
            -0.16803756294516403,
            -0.07900841782067407,
            -0.13144708601145372,
            0.12139390084005033,
            0.17159410169486636,
            0.1553352769729421
           ]
          }
         ],
         "name": "62"
        },
        {
         "data": [
          {
           "marker": {
            "color": [
             "red",
             "red",
             "red",
             "blue",
             "blue",
             "green",
             "green",
             "green"
            ]
           },
           "mode": "markers",
           "type": "scatter",
           "x": [
            -0.7517441205948799,
            -0.9616585095405839,
            -0.9835786642726317,
            -0.6830780581234956,
            -0.8932116405541448,
            0.8684380505050255,
            0.8871266548903285,
            1
           ],
           "y": [
            -0.12899422249704642,
            -0.16501411630288126,
            -0.16877546705936372,
            -0.11721158915443873,
            -0.15326909508439637,
            0.14901811406665122,
            0.15222495257219484,
            0.1715932575501464
           ]
          }
         ],
         "name": "63"
        },
        {
         "data": [
          {
           "marker": {
            "color": [
             "red",
             "red",
             "red",
             "blue",
             "blue",
             "green",
             "green",
             "green"
            ]
           },
           "mode": "markers",
           "type": "scatter",
           "x": [
            -0.8236165975899095,
            -1.1852831090134384,
            -1.0055202269196135,
            -0.7267605530116839,
            -0.8225960239394982,
            0.9066370214287529,
            0.7323886988122166,
            1
           ],
           "y": [
            -0.1413270549554861,
            -0.20338658979881905,
            -0.17254049127309753,
            -0.12470721075261824,
            -0.14115193139820478,
            0.1555727999255698,
            0.12567296262456715,
            0.17159325755350208
           ]
          }
         ],
         "name": "64"
        },
        {
         "data": [
          {
           "marker": {
            "color": [
             "red",
             "red",
             "red",
             "blue",
             "blue",
             "green",
             "green",
             "green"
            ]
           },
           "mode": "markers",
           "type": "scatter",
           "x": [
            -0.8335791151889294,
            -0.7422172436739922,
            -0.7826591101595668,
            -0.7199572223992668,
            -0.8008321786013516,
            1,
            0.7307047540676533,
            0.8004963026866057
           ],
           "y": [
            -0.14303655580383892,
            -0.12735947465441375,
            -0.13429902626622114,
            -0.12353980509067344,
            -0.13741740227987556,
            0.17159325755351695,
            0.1253840090603089,
            0.13735976823753962
           ]
          }
         ],
         "name": "65"
        }
       ],
       "layout": {
        "height": 500,
        "margin": {
         "b": 20,
         "l": 20,
         "r": 20,
         "t": 20
        },
        "sliders": [
         {
          "currentvalue": {
           "font": {
            "size": 20
           },
           "prefix": "Frame:",
           "visible": true,
           "xanchor": "right"
          },
          "len": 0.9,
          "pad": {
           "b": 10,
           "t": 50
          },
          "steps": [
           {
            "args": [
             [
              0
             ],
             {
              "frame": {
               "duration": 300,
               "redraw": true
              },
              "mode": "immediate",
              "transition": {
               "duration": 300
              }
             }
            ],
            "label": "0",
            "method": "animate"
           },
           {
            "args": [
             [
              1
             ],
             {
              "frame": {
               "duration": 300,
               "redraw": true
              },
              "mode": "immediate",
              "transition": {
               "duration": 300
              }
             }
            ],
            "label": "1",
            "method": "animate"
           },
           {
            "args": [
             [
              2
             ],
             {
              "frame": {
               "duration": 300,
               "redraw": true
              },
              "mode": "immediate",
              "transition": {
               "duration": 300
              }
             }
            ],
            "label": "2",
            "method": "animate"
           },
           {
            "args": [
             [
              3
             ],
             {
              "frame": {
               "duration": 300,
               "redraw": true
              },
              "mode": "immediate",
              "transition": {
               "duration": 300
              }
             }
            ],
            "label": "3",
            "method": "animate"
           },
           {
            "args": [
             [
              4
             ],
             {
              "frame": {
               "duration": 300,
               "redraw": true
              },
              "mode": "immediate",
              "transition": {
               "duration": 300
              }
             }
            ],
            "label": "4",
            "method": "animate"
           },
           {
            "args": [
             [
              5
             ],
             {
              "frame": {
               "duration": 300,
               "redraw": true
              },
              "mode": "immediate",
              "transition": {
               "duration": 300
              }
             }
            ],
            "label": "5",
            "method": "animate"
           },
           {
            "args": [
             [
              6
             ],
             {
              "frame": {
               "duration": 300,
               "redraw": true
              },
              "mode": "immediate",
              "transition": {
               "duration": 300
              }
             }
            ],
            "label": "6",
            "method": "animate"
           },
           {
            "args": [
             [
              7
             ],
             {
              "frame": {
               "duration": 300,
               "redraw": true
              },
              "mode": "immediate",
              "transition": {
               "duration": 300
              }
             }
            ],
            "label": "7",
            "method": "animate"
           },
           {
            "args": [
             [
              8
             ],
             {
              "frame": {
               "duration": 300,
               "redraw": true
              },
              "mode": "immediate",
              "transition": {
               "duration": 300
              }
             }
            ],
            "label": "8",
            "method": "animate"
           },
           {
            "args": [
             [
              9
             ],
             {
              "frame": {
               "duration": 300,
               "redraw": true
              },
              "mode": "immediate",
              "transition": {
               "duration": 300
              }
             }
            ],
            "label": "9",
            "method": "animate"
           },
           {
            "args": [
             [
              10
             ],
             {
              "frame": {
               "duration": 300,
               "redraw": true
              },
              "mode": "immediate",
              "transition": {
               "duration": 300
              }
             }
            ],
            "label": "10",
            "method": "animate"
           },
           {
            "args": [
             [
              11
             ],
             {
              "frame": {
               "duration": 300,
               "redraw": true
              },
              "mode": "immediate",
              "transition": {
               "duration": 300
              }
             }
            ],
            "label": "11",
            "method": "animate"
           },
           {
            "args": [
             [
              12
             ],
             {
              "frame": {
               "duration": 300,
               "redraw": true
              },
              "mode": "immediate",
              "transition": {
               "duration": 300
              }
             }
            ],
            "label": "12",
            "method": "animate"
           },
           {
            "args": [
             [
              13
             ],
             {
              "frame": {
               "duration": 300,
               "redraw": true
              },
              "mode": "immediate",
              "transition": {
               "duration": 300
              }
             }
            ],
            "label": "13",
            "method": "animate"
           },
           {
            "args": [
             [
              14
             ],
             {
              "frame": {
               "duration": 300,
               "redraw": true
              },
              "mode": "immediate",
              "transition": {
               "duration": 300
              }
             }
            ],
            "label": "14",
            "method": "animate"
           },
           {
            "args": [
             [
              15
             ],
             {
              "frame": {
               "duration": 300,
               "redraw": true
              },
              "mode": "immediate",
              "transition": {
               "duration": 300
              }
             }
            ],
            "label": "15",
            "method": "animate"
           },
           {
            "args": [
             [
              16
             ],
             {
              "frame": {
               "duration": 300,
               "redraw": true
              },
              "mode": "immediate",
              "transition": {
               "duration": 300
              }
             }
            ],
            "label": "16",
            "method": "animate"
           },
           {
            "args": [
             [
              17
             ],
             {
              "frame": {
               "duration": 300,
               "redraw": true
              },
              "mode": "immediate",
              "transition": {
               "duration": 300
              }
             }
            ],
            "label": "17",
            "method": "animate"
           },
           {
            "args": [
             [
              18
             ],
             {
              "frame": {
               "duration": 300,
               "redraw": true
              },
              "mode": "immediate",
              "transition": {
               "duration": 300
              }
             }
            ],
            "label": "18",
            "method": "animate"
           },
           {
            "args": [
             [
              19
             ],
             {
              "frame": {
               "duration": 300,
               "redraw": true
              },
              "mode": "immediate",
              "transition": {
               "duration": 300
              }
             }
            ],
            "label": "19",
            "method": "animate"
           },
           {
            "args": [
             [
              20
             ],
             {
              "frame": {
               "duration": 300,
               "redraw": true
              },
              "mode": "immediate",
              "transition": {
               "duration": 300
              }
             }
            ],
            "label": "20",
            "method": "animate"
           },
           {
            "args": [
             [
              21
             ],
             {
              "frame": {
               "duration": 300,
               "redraw": true
              },
              "mode": "immediate",
              "transition": {
               "duration": 300
              }
             }
            ],
            "label": "21",
            "method": "animate"
           },
           {
            "args": [
             [
              22
             ],
             {
              "frame": {
               "duration": 300,
               "redraw": true
              },
              "mode": "immediate",
              "transition": {
               "duration": 300
              }
             }
            ],
            "label": "22",
            "method": "animate"
           },
           {
            "args": [
             [
              23
             ],
             {
              "frame": {
               "duration": 300,
               "redraw": true
              },
              "mode": "immediate",
              "transition": {
               "duration": 300
              }
             }
            ],
            "label": "23",
            "method": "animate"
           },
           {
            "args": [
             [
              24
             ],
             {
              "frame": {
               "duration": 300,
               "redraw": true
              },
              "mode": "immediate",
              "transition": {
               "duration": 300
              }
             }
            ],
            "label": "24",
            "method": "animate"
           },
           {
            "args": [
             [
              25
             ],
             {
              "frame": {
               "duration": 300,
               "redraw": true
              },
              "mode": "immediate",
              "transition": {
               "duration": 300
              }
             }
            ],
            "label": "25",
            "method": "animate"
           },
           {
            "args": [
             [
              26
             ],
             {
              "frame": {
               "duration": 300,
               "redraw": true
              },
              "mode": "immediate",
              "transition": {
               "duration": 300
              }
             }
            ],
            "label": "26",
            "method": "animate"
           },
           {
            "args": [
             [
              27
             ],
             {
              "frame": {
               "duration": 300,
               "redraw": true
              },
              "mode": "immediate",
              "transition": {
               "duration": 300
              }
             }
            ],
            "label": "27",
            "method": "animate"
           },
           {
            "args": [
             [
              28
             ],
             {
              "frame": {
               "duration": 300,
               "redraw": true
              },
              "mode": "immediate",
              "transition": {
               "duration": 300
              }
             }
            ],
            "label": "28",
            "method": "animate"
           },
           {
            "args": [
             [
              29
             ],
             {
              "frame": {
               "duration": 300,
               "redraw": true
              },
              "mode": "immediate",
              "transition": {
               "duration": 300
              }
             }
            ],
            "label": "29",
            "method": "animate"
           },
           {
            "args": [
             [
              30
             ],
             {
              "frame": {
               "duration": 300,
               "redraw": true
              },
              "mode": "immediate",
              "transition": {
               "duration": 300
              }
             }
            ],
            "label": "30",
            "method": "animate"
           },
           {
            "args": [
             [
              31
             ],
             {
              "frame": {
               "duration": 300,
               "redraw": true
              },
              "mode": "immediate",
              "transition": {
               "duration": 300
              }
             }
            ],
            "label": "31",
            "method": "animate"
           },
           {
            "args": [
             [
              32
             ],
             {
              "frame": {
               "duration": 300,
               "redraw": true
              },
              "mode": "immediate",
              "transition": {
               "duration": 300
              }
             }
            ],
            "label": "32",
            "method": "animate"
           },
           {
            "args": [
             [
              33
             ],
             {
              "frame": {
               "duration": 300,
               "redraw": true
              },
              "mode": "immediate",
              "transition": {
               "duration": 300
              }
             }
            ],
            "label": "33",
            "method": "animate"
           },
           {
            "args": [
             [
              34
             ],
             {
              "frame": {
               "duration": 300,
               "redraw": true
              },
              "mode": "immediate",
              "transition": {
               "duration": 300
              }
             }
            ],
            "label": "34",
            "method": "animate"
           },
           {
            "args": [
             [
              35
             ],
             {
              "frame": {
               "duration": 300,
               "redraw": true
              },
              "mode": "immediate",
              "transition": {
               "duration": 300
              }
             }
            ],
            "label": "35",
            "method": "animate"
           },
           {
            "args": [
             [
              36
             ],
             {
              "frame": {
               "duration": 300,
               "redraw": true
              },
              "mode": "immediate",
              "transition": {
               "duration": 300
              }
             }
            ],
            "label": "36",
            "method": "animate"
           },
           {
            "args": [
             [
              37
             ],
             {
              "frame": {
               "duration": 300,
               "redraw": true
              },
              "mode": "immediate",
              "transition": {
               "duration": 300
              }
             }
            ],
            "label": "37",
            "method": "animate"
           },
           {
            "args": [
             [
              38
             ],
             {
              "frame": {
               "duration": 300,
               "redraw": true
              },
              "mode": "immediate",
              "transition": {
               "duration": 300
              }
             }
            ],
            "label": "38",
            "method": "animate"
           },
           {
            "args": [
             [
              39
             ],
             {
              "frame": {
               "duration": 300,
               "redraw": true
              },
              "mode": "immediate",
              "transition": {
               "duration": 300
              }
             }
            ],
            "label": "39",
            "method": "animate"
           },
           {
            "args": [
             [
              40
             ],
             {
              "frame": {
               "duration": 300,
               "redraw": true
              },
              "mode": "immediate",
              "transition": {
               "duration": 300
              }
             }
            ],
            "label": "40",
            "method": "animate"
           },
           {
            "args": [
             [
              41
             ],
             {
              "frame": {
               "duration": 300,
               "redraw": true
              },
              "mode": "immediate",
              "transition": {
               "duration": 300
              }
             }
            ],
            "label": "41",
            "method": "animate"
           },
           {
            "args": [
             [
              42
             ],
             {
              "frame": {
               "duration": 300,
               "redraw": true
              },
              "mode": "immediate",
              "transition": {
               "duration": 300
              }
             }
            ],
            "label": "42",
            "method": "animate"
           },
           {
            "args": [
             [
              43
             ],
             {
              "frame": {
               "duration": 300,
               "redraw": true
              },
              "mode": "immediate",
              "transition": {
               "duration": 300
              }
             }
            ],
            "label": "43",
            "method": "animate"
           },
           {
            "args": [
             [
              44
             ],
             {
              "frame": {
               "duration": 300,
               "redraw": true
              },
              "mode": "immediate",
              "transition": {
               "duration": 300
              }
             }
            ],
            "label": "44",
            "method": "animate"
           },
           {
            "args": [
             [
              45
             ],
             {
              "frame": {
               "duration": 300,
               "redraw": true
              },
              "mode": "immediate",
              "transition": {
               "duration": 300
              }
             }
            ],
            "label": "45",
            "method": "animate"
           },
           {
            "args": [
             [
              46
             ],
             {
              "frame": {
               "duration": 300,
               "redraw": true
              },
              "mode": "immediate",
              "transition": {
               "duration": 300
              }
             }
            ],
            "label": "46",
            "method": "animate"
           },
           {
            "args": [
             [
              47
             ],
             {
              "frame": {
               "duration": 300,
               "redraw": true
              },
              "mode": "immediate",
              "transition": {
               "duration": 300
              }
             }
            ],
            "label": "47",
            "method": "animate"
           },
           {
            "args": [
             [
              48
             ],
             {
              "frame": {
               "duration": 300,
               "redraw": true
              },
              "mode": "immediate",
              "transition": {
               "duration": 300
              }
             }
            ],
            "label": "48",
            "method": "animate"
           },
           {
            "args": [
             [
              49
             ],
             {
              "frame": {
               "duration": 300,
               "redraw": true
              },
              "mode": "immediate",
              "transition": {
               "duration": 300
              }
             }
            ],
            "label": "49",
            "method": "animate"
           },
           {
            "args": [
             [
              50
             ],
             {
              "frame": {
               "duration": 300,
               "redraw": true
              },
              "mode": "immediate",
              "transition": {
               "duration": 300
              }
             }
            ],
            "label": "50",
            "method": "animate"
           },
           {
            "args": [
             [
              51
             ],
             {
              "frame": {
               "duration": 300,
               "redraw": true
              },
              "mode": "immediate",
              "transition": {
               "duration": 300
              }
             }
            ],
            "label": "51",
            "method": "animate"
           },
           {
            "args": [
             [
              52
             ],
             {
              "frame": {
               "duration": 300,
               "redraw": true
              },
              "mode": "immediate",
              "transition": {
               "duration": 300
              }
             }
            ],
            "label": "52",
            "method": "animate"
           },
           {
            "args": [
             [
              53
             ],
             {
              "frame": {
               "duration": 300,
               "redraw": true
              },
              "mode": "immediate",
              "transition": {
               "duration": 300
              }
             }
            ],
            "label": "53",
            "method": "animate"
           },
           {
            "args": [
             [
              54
             ],
             {
              "frame": {
               "duration": 300,
               "redraw": true
              },
              "mode": "immediate",
              "transition": {
               "duration": 300
              }
             }
            ],
            "label": "54",
            "method": "animate"
           },
           {
            "args": [
             [
              55
             ],
             {
              "frame": {
               "duration": 300,
               "redraw": true
              },
              "mode": "immediate",
              "transition": {
               "duration": 300
              }
             }
            ],
            "label": "55",
            "method": "animate"
           },
           {
            "args": [
             [
              56
             ],
             {
              "frame": {
               "duration": 300,
               "redraw": true
              },
              "mode": "immediate",
              "transition": {
               "duration": 300
              }
             }
            ],
            "label": "56",
            "method": "animate"
           },
           {
            "args": [
             [
              57
             ],
             {
              "frame": {
               "duration": 300,
               "redraw": true
              },
              "mode": "immediate",
              "transition": {
               "duration": 300
              }
             }
            ],
            "label": "57",
            "method": "animate"
           },
           {
            "args": [
             [
              58
             ],
             {
              "frame": {
               "duration": 300,
               "redraw": true
              },
              "mode": "immediate",
              "transition": {
               "duration": 300
              }
             }
            ],
            "label": "58",
            "method": "animate"
           },
           {
            "args": [
             [
              59
             ],
             {
              "frame": {
               "duration": 300,
               "redraw": true
              },
              "mode": "immediate",
              "transition": {
               "duration": 300
              }
             }
            ],
            "label": "59",
            "method": "animate"
           },
           {
            "args": [
             [
              60
             ],
             {
              "frame": {
               "duration": 300,
               "redraw": true
              },
              "mode": "immediate",
              "transition": {
               "duration": 300
              }
             }
            ],
            "label": "60",
            "method": "animate"
           },
           {
            "args": [
             [
              61
             ],
             {
              "frame": {
               "duration": 300,
               "redraw": true
              },
              "mode": "immediate",
              "transition": {
               "duration": 300
              }
             }
            ],
            "label": "61",
            "method": "animate"
           },
           {
            "args": [
             [
              62
             ],
             {
              "frame": {
               "duration": 300,
               "redraw": true
              },
              "mode": "immediate",
              "transition": {
               "duration": 300
              }
             }
            ],
            "label": "62",
            "method": "animate"
           },
           {
            "args": [
             [
              63
             ],
             {
              "frame": {
               "duration": 300,
               "redraw": true
              },
              "mode": "immediate",
              "transition": {
               "duration": 300
              }
             }
            ],
            "label": "63",
            "method": "animate"
           },
           {
            "args": [
             [
              64
             ],
             {
              "frame": {
               "duration": 300,
               "redraw": true
              },
              "mode": "immediate",
              "transition": {
               "duration": 300
              }
             }
            ],
            "label": "64",
            "method": "animate"
           },
           {
            "args": [
             [
              65
             ],
             {
              "frame": {
               "duration": 300,
               "redraw": true
              },
              "mode": "immediate",
              "transition": {
               "duration": 300
              }
             }
            ],
            "label": "65",
            "method": "animate"
           }
          ],
          "transition": {
           "duration": 300,
           "easing": "cubic-in-out"
          },
          "x": 0.1,
          "xanchor": "left",
          "y": 0,
          "yanchor": "top"
         }
        ],
        "template": {
         "data": {
          "bar": [
           {
            "error_x": {
             "color": "#2a3f5f"
            },
            "error_y": {
             "color": "#2a3f5f"
            },
            "marker": {
             "line": {
              "color": "#E5ECF6",
              "width": 0.5
             },
             "pattern": {
              "fillmode": "overlay",
              "size": 10,
              "solidity": 0.2
             }
            },
            "type": "bar"
           }
          ],
          "barpolar": [
           {
            "marker": {
             "line": {
              "color": "#E5ECF6",
              "width": 0.5
             },
             "pattern": {
              "fillmode": "overlay",
              "size": 10,
              "solidity": 0.2
             }
            },
            "type": "barpolar"
           }
          ],
          "carpet": [
           {
            "aaxis": {
             "endlinecolor": "#2a3f5f",
             "gridcolor": "white",
             "linecolor": "white",
             "minorgridcolor": "white",
             "startlinecolor": "#2a3f5f"
            },
            "baxis": {
             "endlinecolor": "#2a3f5f",
             "gridcolor": "white",
             "linecolor": "white",
             "minorgridcolor": "white",
             "startlinecolor": "#2a3f5f"
            },
            "type": "carpet"
           }
          ],
          "choropleth": [
           {
            "colorbar": {
             "outlinewidth": 0,
             "ticks": ""
            },
            "type": "choropleth"
           }
          ],
          "contour": [
           {
            "colorbar": {
             "outlinewidth": 0,
             "ticks": ""
            },
            "colorscale": [
             [
              0,
              "#0d0887"
             ],
             [
              0.1111111111111111,
              "#46039f"
             ],
             [
              0.2222222222222222,
              "#7201a8"
             ],
             [
              0.3333333333333333,
              "#9c179e"
             ],
             [
              0.4444444444444444,
              "#bd3786"
             ],
             [
              0.5555555555555556,
              "#d8576b"
             ],
             [
              0.6666666666666666,
              "#ed7953"
             ],
             [
              0.7777777777777778,
              "#fb9f3a"
             ],
             [
              0.8888888888888888,
              "#fdca26"
             ],
             [
              1,
              "#f0f921"
             ]
            ],
            "type": "contour"
           }
          ],
          "contourcarpet": [
           {
            "colorbar": {
             "outlinewidth": 0,
             "ticks": ""
            },
            "type": "contourcarpet"
           }
          ],
          "heatmap": [
           {
            "colorbar": {
             "outlinewidth": 0,
             "ticks": ""
            },
            "colorscale": [
             [
              0,
              "#0d0887"
             ],
             [
              0.1111111111111111,
              "#46039f"
             ],
             [
              0.2222222222222222,
              "#7201a8"
             ],
             [
              0.3333333333333333,
              "#9c179e"
             ],
             [
              0.4444444444444444,
              "#bd3786"
             ],
             [
              0.5555555555555556,
              "#d8576b"
             ],
             [
              0.6666666666666666,
              "#ed7953"
             ],
             [
              0.7777777777777778,
              "#fb9f3a"
             ],
             [
              0.8888888888888888,
              "#fdca26"
             ],
             [
              1,
              "#f0f921"
             ]
            ],
            "type": "heatmap"
           }
          ],
          "heatmapgl": [
           {
            "colorbar": {
             "outlinewidth": 0,
             "ticks": ""
            },
            "colorscale": [
             [
              0,
              "#0d0887"
             ],
             [
              0.1111111111111111,
              "#46039f"
             ],
             [
              0.2222222222222222,
              "#7201a8"
             ],
             [
              0.3333333333333333,
              "#9c179e"
             ],
             [
              0.4444444444444444,
              "#bd3786"
             ],
             [
              0.5555555555555556,
              "#d8576b"
             ],
             [
              0.6666666666666666,
              "#ed7953"
             ],
             [
              0.7777777777777778,
              "#fb9f3a"
             ],
             [
              0.8888888888888888,
              "#fdca26"
             ],
             [
              1,
              "#f0f921"
             ]
            ],
            "type": "heatmapgl"
           }
          ],
          "histogram": [
           {
            "marker": {
             "pattern": {
              "fillmode": "overlay",
              "size": 10,
              "solidity": 0.2
             }
            },
            "type": "histogram"
           }
          ],
          "histogram2d": [
           {
            "colorbar": {
             "outlinewidth": 0,
             "ticks": ""
            },
            "colorscale": [
             [
              0,
              "#0d0887"
             ],
             [
              0.1111111111111111,
              "#46039f"
             ],
             [
              0.2222222222222222,
              "#7201a8"
             ],
             [
              0.3333333333333333,
              "#9c179e"
             ],
             [
              0.4444444444444444,
              "#bd3786"
             ],
             [
              0.5555555555555556,
              "#d8576b"
             ],
             [
              0.6666666666666666,
              "#ed7953"
             ],
             [
              0.7777777777777778,
              "#fb9f3a"
             ],
             [
              0.8888888888888888,
              "#fdca26"
             ],
             [
              1,
              "#f0f921"
             ]
            ],
            "type": "histogram2d"
           }
          ],
          "histogram2dcontour": [
           {
            "colorbar": {
             "outlinewidth": 0,
             "ticks": ""
            },
            "colorscale": [
             [
              0,
              "#0d0887"
             ],
             [
              0.1111111111111111,
              "#46039f"
             ],
             [
              0.2222222222222222,
              "#7201a8"
             ],
             [
              0.3333333333333333,
              "#9c179e"
             ],
             [
              0.4444444444444444,
              "#bd3786"
             ],
             [
              0.5555555555555556,
              "#d8576b"
             ],
             [
              0.6666666666666666,
              "#ed7953"
             ],
             [
              0.7777777777777778,
              "#fb9f3a"
             ],
             [
              0.8888888888888888,
              "#fdca26"
             ],
             [
              1,
              "#f0f921"
             ]
            ],
            "type": "histogram2dcontour"
           }
          ],
          "mesh3d": [
           {
            "colorbar": {
             "outlinewidth": 0,
             "ticks": ""
            },
            "type": "mesh3d"
           }
          ],
          "parcoords": [
           {
            "line": {
             "colorbar": {
              "outlinewidth": 0,
              "ticks": ""
             }
            },
            "type": "parcoords"
           }
          ],
          "pie": [
           {
            "automargin": true,
            "type": "pie"
           }
          ],
          "scatter": [
           {
            "fillpattern": {
             "fillmode": "overlay",
             "size": 10,
             "solidity": 0.2
            },
            "type": "scatter"
           }
          ],
          "scatter3d": [
           {
            "line": {
             "colorbar": {
              "outlinewidth": 0,
              "ticks": ""
             }
            },
            "marker": {
             "colorbar": {
              "outlinewidth": 0,
              "ticks": ""
             }
            },
            "type": "scatter3d"
           }
          ],
          "scattercarpet": [
           {
            "marker": {
             "colorbar": {
              "outlinewidth": 0,
              "ticks": ""
             }
            },
            "type": "scattercarpet"
           }
          ],
          "scattergeo": [
           {
            "marker": {
             "colorbar": {
              "outlinewidth": 0,
              "ticks": ""
             }
            },
            "type": "scattergeo"
           }
          ],
          "scattergl": [
           {
            "marker": {
             "colorbar": {
              "outlinewidth": 0,
              "ticks": ""
             }
            },
            "type": "scattergl"
           }
          ],
          "scattermapbox": [
           {
            "marker": {
             "colorbar": {
              "outlinewidth": 0,
              "ticks": ""
             }
            },
            "type": "scattermapbox"
           }
          ],
          "scatterpolar": [
           {
            "marker": {
             "colorbar": {
              "outlinewidth": 0,
              "ticks": ""
             }
            },
            "type": "scatterpolar"
           }
          ],
          "scatterpolargl": [
           {
            "marker": {
             "colorbar": {
              "outlinewidth": 0,
              "ticks": ""
             }
            },
            "type": "scatterpolargl"
           }
          ],
          "scatterternary": [
           {
            "marker": {
             "colorbar": {
              "outlinewidth": 0,
              "ticks": ""
             }
            },
            "type": "scatterternary"
           }
          ],
          "surface": [
           {
            "colorbar": {
             "outlinewidth": 0,
             "ticks": ""
            },
            "colorscale": [
             [
              0,
              "#0d0887"
             ],
             [
              0.1111111111111111,
              "#46039f"
             ],
             [
              0.2222222222222222,
              "#7201a8"
             ],
             [
              0.3333333333333333,
              "#9c179e"
             ],
             [
              0.4444444444444444,
              "#bd3786"
             ],
             [
              0.5555555555555556,
              "#d8576b"
             ],
             [
              0.6666666666666666,
              "#ed7953"
             ],
             [
              0.7777777777777778,
              "#fb9f3a"
             ],
             [
              0.8888888888888888,
              "#fdca26"
             ],
             [
              1,
              "#f0f921"
             ]
            ],
            "type": "surface"
           }
          ],
          "table": [
           {
            "cells": {
             "fill": {
              "color": "#EBF0F8"
             },
             "line": {
              "color": "white"
             }
            },
            "header": {
             "fill": {
              "color": "#C8D4E3"
             },
             "line": {
              "color": "white"
             }
            },
            "type": "table"
           }
          ]
         },
         "layout": {
          "annotationdefaults": {
           "arrowcolor": "#2a3f5f",
           "arrowhead": 0,
           "arrowwidth": 1
          },
          "autotypenumbers": "strict",
          "coloraxis": {
           "colorbar": {
            "outlinewidth": 0,
            "ticks": ""
           }
          },
          "colorscale": {
           "diverging": [
            [
             0,
             "#8e0152"
            ],
            [
             0.1,
             "#c51b7d"
            ],
            [
             0.2,
             "#de77ae"
            ],
            [
             0.3,
             "#f1b6da"
            ],
            [
             0.4,
             "#fde0ef"
            ],
            [
             0.5,
             "#f7f7f7"
            ],
            [
             0.6,
             "#e6f5d0"
            ],
            [
             0.7,
             "#b8e186"
            ],
            [
             0.8,
             "#7fbc41"
            ],
            [
             0.9,
             "#4d9221"
            ],
            [
             1,
             "#276419"
            ]
           ],
           "sequential": [
            [
             0,
             "#0d0887"
            ],
            [
             0.1111111111111111,
             "#46039f"
            ],
            [
             0.2222222222222222,
             "#7201a8"
            ],
            [
             0.3333333333333333,
             "#9c179e"
            ],
            [
             0.4444444444444444,
             "#bd3786"
            ],
            [
             0.5555555555555556,
             "#d8576b"
            ],
            [
             0.6666666666666666,
             "#ed7953"
            ],
            [
             0.7777777777777778,
             "#fb9f3a"
            ],
            [
             0.8888888888888888,
             "#fdca26"
            ],
            [
             1,
             "#f0f921"
            ]
           ],
           "sequentialminus": [
            [
             0,
             "#0d0887"
            ],
            [
             0.1111111111111111,
             "#46039f"
            ],
            [
             0.2222222222222222,
             "#7201a8"
            ],
            [
             0.3333333333333333,
             "#9c179e"
            ],
            [
             0.4444444444444444,
             "#bd3786"
            ],
            [
             0.5555555555555556,
             "#d8576b"
            ],
            [
             0.6666666666666666,
             "#ed7953"
            ],
            [
             0.7777777777777778,
             "#fb9f3a"
            ],
            [
             0.8888888888888888,
             "#fdca26"
            ],
            [
             1,
             "#f0f921"
            ]
           ]
          },
          "colorway": [
           "#636efa",
           "#EF553B",
           "#00cc96",
           "#ab63fa",
           "#FFA15A",
           "#19d3f3",
           "#FF6692",
           "#B6E880",
           "#FF97FF",
           "#FECB52"
          ],
          "font": {
           "color": "#2a3f5f"
          },
          "geo": {
           "bgcolor": "white",
           "lakecolor": "white",
           "landcolor": "#E5ECF6",
           "showlakes": true,
           "showland": true,
           "subunitcolor": "white"
          },
          "hoverlabel": {
           "align": "left"
          },
          "hovermode": "closest",
          "mapbox": {
           "style": "light"
          },
          "paper_bgcolor": "white",
          "plot_bgcolor": "#E5ECF6",
          "polar": {
           "angularaxis": {
            "gridcolor": "white",
            "linecolor": "white",
            "ticks": ""
           },
           "bgcolor": "#E5ECF6",
           "radialaxis": {
            "gridcolor": "white",
            "linecolor": "white",
            "ticks": ""
           }
          },
          "scene": {
           "xaxis": {
            "backgroundcolor": "#E5ECF6",
            "gridcolor": "white",
            "gridwidth": 2,
            "linecolor": "white",
            "showbackground": true,
            "ticks": "",
            "zerolinecolor": "white"
           },
           "yaxis": {
            "backgroundcolor": "#E5ECF6",
            "gridcolor": "white",
            "gridwidth": 2,
            "linecolor": "white",
            "showbackground": true,
            "ticks": "",
            "zerolinecolor": "white"
           },
           "zaxis": {
            "backgroundcolor": "#E5ECF6",
            "gridcolor": "white",
            "gridwidth": 2,
            "linecolor": "white",
            "showbackground": true,
            "ticks": "",
            "zerolinecolor": "white"
           }
          },
          "shapedefaults": {
           "line": {
            "color": "#2a3f5f"
           }
          },
          "ternary": {
           "aaxis": {
            "gridcolor": "white",
            "linecolor": "white",
            "ticks": ""
           },
           "baxis": {
            "gridcolor": "white",
            "linecolor": "white",
            "ticks": ""
           },
           "bgcolor": "#E5ECF6",
           "caxis": {
            "gridcolor": "white",
            "linecolor": "white",
            "ticks": ""
           }
          },
          "title": {
           "x": 0.05
          },
          "xaxis": {
           "automargin": true,
           "gridcolor": "white",
           "linecolor": "white",
           "ticks": "",
           "title": {
            "standoff": 15
           },
           "zerolinecolor": "white",
           "zerolinewidth": 2
          },
          "yaxis": {
           "automargin": true,
           "gridcolor": "white",
           "linecolor": "white",
           "ticks": "",
           "title": {
            "standoff": 15
           },
           "zerolinecolor": "white",
           "zerolinewidth": 2
          }
         }
        },
        "updatemenus": [
         {
          "buttons": [
           {
            "args": [
             null,
             {
              "frame": {
               "duration": 800,
               "redraw": true
              },
              "fromcurrent": true
             }
            ],
            "label": "Play",
            "method": "animate"
           },
           {
            "args": [
             [
              null
             ],
             {
              "frame": {
               "duration": 0,
               "redraw": true
              },
              "mode": "immediate",
              "transition": {
               "duration": 0
              }
             }
            ],
            "label": "Pause",
            "method": "animate"
           }
          ],
          "direction": "left",
          "pad": {
           "r": 10,
           "t": 87
          },
          "showactive": false,
          "type": "buttons",
          "x": 0.1,
          "xanchor": "right",
          "y": 0,
          "yanchor": "top"
         }
        ],
        "width": 500,
        "xaxis": {
         "anchor": "y",
         "constrain": "domain",
         "domain": [
          0,
          1
         ],
         "range": [
          -1.3836671074790319,
          1
         ]
        },
        "yaxis": {
         "anchor": "x",
         "constrain": "domain",
         "domain": [
          0,
          1
         ],
         "range": [
          -1.0654186695643209,
          1
         ],
         "scaleanchor": "x",
         "scaleratio": 1
        }
       }
      },
      "text/html": [
       "<div>                            <div id=\"f419ff50-3c74-40c2-af6a-1e5e81c4b7ce\" class=\"plotly-graph-div\" style=\"height:500px; width:500px;\"></div>            <script type=\"text/javascript\">                require([\"plotly\"], function(Plotly) {                    window.PLOTLYENV=window.PLOTLYENV || {};                                    if (document.getElementById(\"f419ff50-3c74-40c2-af6a-1e5e81c4b7ce\")) {                    Plotly.newPlot(                        \"f419ff50-3c74-40c2-af6a-1e5e81c4b7ce\",                        [{\"marker\":{\"color\":[\"red\",\"red\",\"red\",\"blue\",\"blue\",\"green\",\"green\",\"green\"]},\"mode\":\"markers\",\"x\":[0.4146173458114909,0.8020907496763477,0.4565600955053392,0.5304158948819188,0.7924280098463655,1.0,0.8301306690475279,0.0242262835728343],\"y\":[0.06021661947903927,0.28792309505823716,0.30456364682037534,0.6330000717933577,0.6982925507806695,0.6095944269936602,0.7211778621589742,0.9197213772080308],\"type\":\"scatter\"}],                        {\"template\":{\"data\":{\"histogram2dcontour\":[{\"type\":\"histogram2dcontour\",\"colorbar\":{\"outlinewidth\":0,\"ticks\":\"\"},\"colorscale\":[[0.0,\"#0d0887\"],[0.1111111111111111,\"#46039f\"],[0.2222222222222222,\"#7201a8\"],[0.3333333333333333,\"#9c179e\"],[0.4444444444444444,\"#bd3786\"],[0.5555555555555556,\"#d8576b\"],[0.6666666666666666,\"#ed7953\"],[0.7777777777777778,\"#fb9f3a\"],[0.8888888888888888,\"#fdca26\"],[1.0,\"#f0f921\"]]}],\"choropleth\":[{\"type\":\"choropleth\",\"colorbar\":{\"outlinewidth\":0,\"ticks\":\"\"}}],\"histogram2d\":[{\"type\":\"histogram2d\",\"colorbar\":{\"outlinewidth\":0,\"ticks\":\"\"},\"colorscale\":[[0.0,\"#0d0887\"],[0.1111111111111111,\"#46039f\"],[0.2222222222222222,\"#7201a8\"],[0.3333333333333333,\"#9c179e\"],[0.4444444444444444,\"#bd3786\"],[0.5555555555555556,\"#d8576b\"],[0.6666666666666666,\"#ed7953\"],[0.7777777777777778,\"#fb9f3a\"],[0.8888888888888888,\"#fdca26\"],[1.0,\"#f0f921\"]]}],\"heatmap\":[{\"type\":\"heatmap\",\"colorbar\":{\"outlinewidth\":0,\"ticks\":\"\"},\"colorscale\":[[0.0,\"#0d0887\"],[0.1111111111111111,\"#46039f\"],[0.2222222222222222,\"#7201a8\"],[0.3333333333333333,\"#9c179e\"],[0.4444444444444444,\"#bd3786\"],[0.5555555555555556,\"#d8576b\"],[0.6666666666666666,\"#ed7953\"],[0.7777777777777778,\"#fb9f3a\"],[0.8888888888888888,\"#fdca26\"],[1.0,\"#f0f921\"]]}],\"heatmapgl\":[{\"type\":\"heatmapgl\",\"colorbar\":{\"outlinewidth\":0,\"ticks\":\"\"},\"colorscale\":[[0.0,\"#0d0887\"],[0.1111111111111111,\"#46039f\"],[0.2222222222222222,\"#7201a8\"],[0.3333333333333333,\"#9c179e\"],[0.4444444444444444,\"#bd3786\"],[0.5555555555555556,\"#d8576b\"],[0.6666666666666666,\"#ed7953\"],[0.7777777777777778,\"#fb9f3a\"],[0.8888888888888888,\"#fdca26\"],[1.0,\"#f0f921\"]]}],\"contourcarpet\":[{\"type\":\"contourcarpet\",\"colorbar\":{\"outlinewidth\":0,\"ticks\":\"\"}}],\"contour\":[{\"type\":\"contour\",\"colorbar\":{\"outlinewidth\":0,\"ticks\":\"\"},\"colorscale\":[[0.0,\"#0d0887\"],[0.1111111111111111,\"#46039f\"],[0.2222222222222222,\"#7201a8\"],[0.3333333333333333,\"#9c179e\"],[0.4444444444444444,\"#bd3786\"],[0.5555555555555556,\"#d8576b\"],[0.6666666666666666,\"#ed7953\"],[0.7777777777777778,\"#fb9f3a\"],[0.8888888888888888,\"#fdca26\"],[1.0,\"#f0f921\"]]}],\"surface\":[{\"type\":\"surface\",\"colorbar\":{\"outlinewidth\":0,\"ticks\":\"\"},\"colorscale\":[[0.0,\"#0d0887\"],[0.1111111111111111,\"#46039f\"],[0.2222222222222222,\"#7201a8\"],[0.3333333333333333,\"#9c179e\"],[0.4444444444444444,\"#bd3786\"],[0.5555555555555556,\"#d8576b\"],[0.6666666666666666,\"#ed7953\"],[0.7777777777777778,\"#fb9f3a\"],[0.8888888888888888,\"#fdca26\"],[1.0,\"#f0f921\"]]}],\"mesh3d\":[{\"type\":\"mesh3d\",\"colorbar\":{\"outlinewidth\":0,\"ticks\":\"\"}}],\"scatter\":[{\"fillpattern\":{\"fillmode\":\"overlay\",\"size\":10,\"solidity\":0.2},\"type\":\"scatter\"}],\"parcoords\":[{\"type\":\"parcoords\",\"line\":{\"colorbar\":{\"outlinewidth\":0,\"ticks\":\"\"}}}],\"scatterpolargl\":[{\"type\":\"scatterpolargl\",\"marker\":{\"colorbar\":{\"outlinewidth\":0,\"ticks\":\"\"}}}],\"bar\":[{\"error_x\":{\"color\":\"#2a3f5f\"},\"error_y\":{\"color\":\"#2a3f5f\"},\"marker\":{\"line\":{\"color\":\"#E5ECF6\",\"width\":0.5},\"pattern\":{\"fillmode\":\"overlay\",\"size\":10,\"solidity\":0.2}},\"type\":\"bar\"}],\"scattergeo\":[{\"type\":\"scattergeo\",\"marker\":{\"colorbar\":{\"outlinewidth\":0,\"ticks\":\"\"}}}],\"scatterpolar\":[{\"type\":\"scatterpolar\",\"marker\":{\"colorbar\":{\"outlinewidth\":0,\"ticks\":\"\"}}}],\"histogram\":[{\"marker\":{\"pattern\":{\"fillmode\":\"overlay\",\"size\":10,\"solidity\":0.2}},\"type\":\"histogram\"}],\"scattergl\":[{\"type\":\"scattergl\",\"marker\":{\"colorbar\":{\"outlinewidth\":0,\"ticks\":\"\"}}}],\"scatter3d\":[{\"type\":\"scatter3d\",\"line\":{\"colorbar\":{\"outlinewidth\":0,\"ticks\":\"\"}},\"marker\":{\"colorbar\":{\"outlinewidth\":0,\"ticks\":\"\"}}}],\"scattermapbox\":[{\"type\":\"scattermapbox\",\"marker\":{\"colorbar\":{\"outlinewidth\":0,\"ticks\":\"\"}}}],\"scatterternary\":[{\"type\":\"scatterternary\",\"marker\":{\"colorbar\":{\"outlinewidth\":0,\"ticks\":\"\"}}}],\"scattercarpet\":[{\"type\":\"scattercarpet\",\"marker\":{\"colorbar\":{\"outlinewidth\":0,\"ticks\":\"\"}}}],\"carpet\":[{\"aaxis\":{\"endlinecolor\":\"#2a3f5f\",\"gridcolor\":\"white\",\"linecolor\":\"white\",\"minorgridcolor\":\"white\",\"startlinecolor\":\"#2a3f5f\"},\"baxis\":{\"endlinecolor\":\"#2a3f5f\",\"gridcolor\":\"white\",\"linecolor\":\"white\",\"minorgridcolor\":\"white\",\"startlinecolor\":\"#2a3f5f\"},\"type\":\"carpet\"}],\"table\":[{\"cells\":{\"fill\":{\"color\":\"#EBF0F8\"},\"line\":{\"color\":\"white\"}},\"header\":{\"fill\":{\"color\":\"#C8D4E3\"},\"line\":{\"color\":\"white\"}},\"type\":\"table\"}],\"barpolar\":[{\"marker\":{\"line\":{\"color\":\"#E5ECF6\",\"width\":0.5},\"pattern\":{\"fillmode\":\"overlay\",\"size\":10,\"solidity\":0.2}},\"type\":\"barpolar\"}],\"pie\":[{\"automargin\":true,\"type\":\"pie\"}]},\"layout\":{\"autotypenumbers\":\"strict\",\"colorway\":[\"#636efa\",\"#EF553B\",\"#00cc96\",\"#ab63fa\",\"#FFA15A\",\"#19d3f3\",\"#FF6692\",\"#B6E880\",\"#FF97FF\",\"#FECB52\"],\"font\":{\"color\":\"#2a3f5f\"},\"hovermode\":\"closest\",\"hoverlabel\":{\"align\":\"left\"},\"paper_bgcolor\":\"white\",\"plot_bgcolor\":\"#E5ECF6\",\"polar\":{\"bgcolor\":\"#E5ECF6\",\"angularaxis\":{\"gridcolor\":\"white\",\"linecolor\":\"white\",\"ticks\":\"\"},\"radialaxis\":{\"gridcolor\":\"white\",\"linecolor\":\"white\",\"ticks\":\"\"}},\"ternary\":{\"bgcolor\":\"#E5ECF6\",\"aaxis\":{\"gridcolor\":\"white\",\"linecolor\":\"white\",\"ticks\":\"\"},\"baxis\":{\"gridcolor\":\"white\",\"linecolor\":\"white\",\"ticks\":\"\"},\"caxis\":{\"gridcolor\":\"white\",\"linecolor\":\"white\",\"ticks\":\"\"}},\"coloraxis\":{\"colorbar\":{\"outlinewidth\":0,\"ticks\":\"\"}},\"colorscale\":{\"sequential\":[[0.0,\"#0d0887\"],[0.1111111111111111,\"#46039f\"],[0.2222222222222222,\"#7201a8\"],[0.3333333333333333,\"#9c179e\"],[0.4444444444444444,\"#bd3786\"],[0.5555555555555556,\"#d8576b\"],[0.6666666666666666,\"#ed7953\"],[0.7777777777777778,\"#fb9f3a\"],[0.8888888888888888,\"#fdca26\"],[1.0,\"#f0f921\"]],\"sequentialminus\":[[0.0,\"#0d0887\"],[0.1111111111111111,\"#46039f\"],[0.2222222222222222,\"#7201a8\"],[0.3333333333333333,\"#9c179e\"],[0.4444444444444444,\"#bd3786\"],[0.5555555555555556,\"#d8576b\"],[0.6666666666666666,\"#ed7953\"],[0.7777777777777778,\"#fb9f3a\"],[0.8888888888888888,\"#fdca26\"],[1.0,\"#f0f921\"]],\"diverging\":[[0,\"#8e0152\"],[0.1,\"#c51b7d\"],[0.2,\"#de77ae\"],[0.3,\"#f1b6da\"],[0.4,\"#fde0ef\"],[0.5,\"#f7f7f7\"],[0.6,\"#e6f5d0\"],[0.7,\"#b8e186\"],[0.8,\"#7fbc41\"],[0.9,\"#4d9221\"],[1,\"#276419\"]]},\"xaxis\":{\"gridcolor\":\"white\",\"linecolor\":\"white\",\"ticks\":\"\",\"title\":{\"standoff\":15},\"zerolinecolor\":\"white\",\"automargin\":true,\"zerolinewidth\":2},\"yaxis\":{\"gridcolor\":\"white\",\"linecolor\":\"white\",\"ticks\":\"\",\"title\":{\"standoff\":15},\"zerolinecolor\":\"white\",\"automargin\":true,\"zerolinewidth\":2},\"scene\":{\"xaxis\":{\"backgroundcolor\":\"#E5ECF6\",\"gridcolor\":\"white\",\"linecolor\":\"white\",\"showbackground\":true,\"ticks\":\"\",\"zerolinecolor\":\"white\",\"gridwidth\":2},\"yaxis\":{\"backgroundcolor\":\"#E5ECF6\",\"gridcolor\":\"white\",\"linecolor\":\"white\",\"showbackground\":true,\"ticks\":\"\",\"zerolinecolor\":\"white\",\"gridwidth\":2},\"zaxis\":{\"backgroundcolor\":\"#E5ECF6\",\"gridcolor\":\"white\",\"linecolor\":\"white\",\"showbackground\":true,\"ticks\":\"\",\"zerolinecolor\":\"white\",\"gridwidth\":2}},\"shapedefaults\":{\"line\":{\"color\":\"#2a3f5f\"}},\"annotationdefaults\":{\"arrowcolor\":\"#2a3f5f\",\"arrowhead\":0,\"arrowwidth\":1},\"geo\":{\"bgcolor\":\"white\",\"landcolor\":\"#E5ECF6\",\"subunitcolor\":\"white\",\"showland\":true,\"showlakes\":true,\"lakecolor\":\"white\"},\"title\":{\"x\":0.05},\"mapbox\":{\"style\":\"light\"}}},\"xaxis\":{\"anchor\":\"y\",\"domain\":[0.0,1.0],\"range\":[-1.3836671074790319,1.0],\"constrain\":\"domain\"},\"yaxis\":{\"anchor\":\"x\",\"domain\":[0.0,1.0],\"range\":[-1.0654186695643209,1.0],\"scaleanchor\":\"x\",\"scaleratio\":1,\"constrain\":\"domain\"},\"margin\":{\"l\":20,\"r\":20,\"t\":20,\"b\":20},\"width\":500,\"height\":500,\"updatemenus\":[{\"buttons\":[{\"args\":[null,{\"frame\":{\"duration\":800,\"redraw\":true},\"fromcurrent\":true}],\"label\":\"Play\",\"method\":\"animate\"},{\"args\":[[null],{\"frame\":{\"duration\":0,\"redraw\":true},\"mode\":\"immediate\",\"transition\":{\"duration\":0}}],\"label\":\"Pause\",\"method\":\"animate\"}],\"direction\":\"left\",\"pad\":{\"r\":10,\"t\":87},\"showactive\":false,\"type\":\"buttons\",\"x\":0.1,\"xanchor\":\"right\",\"y\":0,\"yanchor\":\"top\"}],\"sliders\":[{\"currentvalue\":{\"font\":{\"size\":20},\"prefix\":\"Frame:\",\"visible\":true,\"xanchor\":\"right\"},\"len\":0.9,\"pad\":{\"b\":10,\"t\":50},\"steps\":[{\"args\":[[0],{\"frame\":{\"duration\":300,\"redraw\":true},\"mode\":\"immediate\",\"transition\":{\"duration\":300}}],\"label\":\"0\",\"method\":\"animate\"},{\"args\":[[1],{\"frame\":{\"duration\":300,\"redraw\":true},\"mode\":\"immediate\",\"transition\":{\"duration\":300}}],\"label\":\"1\",\"method\":\"animate\"},{\"args\":[[2],{\"frame\":{\"duration\":300,\"redraw\":true},\"mode\":\"immediate\",\"transition\":{\"duration\":300}}],\"label\":\"2\",\"method\":\"animate\"},{\"args\":[[3],{\"frame\":{\"duration\":300,\"redraw\":true},\"mode\":\"immediate\",\"transition\":{\"duration\":300}}],\"label\":\"3\",\"method\":\"animate\"},{\"args\":[[4],{\"frame\":{\"duration\":300,\"redraw\":true},\"mode\":\"immediate\",\"transition\":{\"duration\":300}}],\"label\":\"4\",\"method\":\"animate\"},{\"args\":[[5],{\"frame\":{\"duration\":300,\"redraw\":true},\"mode\":\"immediate\",\"transition\":{\"duration\":300}}],\"label\":\"5\",\"method\":\"animate\"},{\"args\":[[6],{\"frame\":{\"duration\":300,\"redraw\":true},\"mode\":\"immediate\",\"transition\":{\"duration\":300}}],\"label\":\"6\",\"method\":\"animate\"},{\"args\":[[7],{\"frame\":{\"duration\":300,\"redraw\":true},\"mode\":\"immediate\",\"transition\":{\"duration\":300}}],\"label\":\"7\",\"method\":\"animate\"},{\"args\":[[8],{\"frame\":{\"duration\":300,\"redraw\":true},\"mode\":\"immediate\",\"transition\":{\"duration\":300}}],\"label\":\"8\",\"method\":\"animate\"},{\"args\":[[9],{\"frame\":{\"duration\":300,\"redraw\":true},\"mode\":\"immediate\",\"transition\":{\"duration\":300}}],\"label\":\"9\",\"method\":\"animate\"},{\"args\":[[10],{\"frame\":{\"duration\":300,\"redraw\":true},\"mode\":\"immediate\",\"transition\":{\"duration\":300}}],\"label\":\"10\",\"method\":\"animate\"},{\"args\":[[11],{\"frame\":{\"duration\":300,\"redraw\":true},\"mode\":\"immediate\",\"transition\":{\"duration\":300}}],\"label\":\"11\",\"method\":\"animate\"},{\"args\":[[12],{\"frame\":{\"duration\":300,\"redraw\":true},\"mode\":\"immediate\",\"transition\":{\"duration\":300}}],\"label\":\"12\",\"method\":\"animate\"},{\"args\":[[13],{\"frame\":{\"duration\":300,\"redraw\":true},\"mode\":\"immediate\",\"transition\":{\"duration\":300}}],\"label\":\"13\",\"method\":\"animate\"},{\"args\":[[14],{\"frame\":{\"duration\":300,\"redraw\":true},\"mode\":\"immediate\",\"transition\":{\"duration\":300}}],\"label\":\"14\",\"method\":\"animate\"},{\"args\":[[15],{\"frame\":{\"duration\":300,\"redraw\":true},\"mode\":\"immediate\",\"transition\":{\"duration\":300}}],\"label\":\"15\",\"method\":\"animate\"},{\"args\":[[16],{\"frame\":{\"duration\":300,\"redraw\":true},\"mode\":\"immediate\",\"transition\":{\"duration\":300}}],\"label\":\"16\",\"method\":\"animate\"},{\"args\":[[17],{\"frame\":{\"duration\":300,\"redraw\":true},\"mode\":\"immediate\",\"transition\":{\"duration\":300}}],\"label\":\"17\",\"method\":\"animate\"},{\"args\":[[18],{\"frame\":{\"duration\":300,\"redraw\":true},\"mode\":\"immediate\",\"transition\":{\"duration\":300}}],\"label\":\"18\",\"method\":\"animate\"},{\"args\":[[19],{\"frame\":{\"duration\":300,\"redraw\":true},\"mode\":\"immediate\",\"transition\":{\"duration\":300}}],\"label\":\"19\",\"method\":\"animate\"},{\"args\":[[20],{\"frame\":{\"duration\":300,\"redraw\":true},\"mode\":\"immediate\",\"transition\":{\"duration\":300}}],\"label\":\"20\",\"method\":\"animate\"},{\"args\":[[21],{\"frame\":{\"duration\":300,\"redraw\":true},\"mode\":\"immediate\",\"transition\":{\"duration\":300}}],\"label\":\"21\",\"method\":\"animate\"},{\"args\":[[22],{\"frame\":{\"duration\":300,\"redraw\":true},\"mode\":\"immediate\",\"transition\":{\"duration\":300}}],\"label\":\"22\",\"method\":\"animate\"},{\"args\":[[23],{\"frame\":{\"duration\":300,\"redraw\":true},\"mode\":\"immediate\",\"transition\":{\"duration\":300}}],\"label\":\"23\",\"method\":\"animate\"},{\"args\":[[24],{\"frame\":{\"duration\":300,\"redraw\":true},\"mode\":\"immediate\",\"transition\":{\"duration\":300}}],\"label\":\"24\",\"method\":\"animate\"},{\"args\":[[25],{\"frame\":{\"duration\":300,\"redraw\":true},\"mode\":\"immediate\",\"transition\":{\"duration\":300}}],\"label\":\"25\",\"method\":\"animate\"},{\"args\":[[26],{\"frame\":{\"duration\":300,\"redraw\":true},\"mode\":\"immediate\",\"transition\":{\"duration\":300}}],\"label\":\"26\",\"method\":\"animate\"},{\"args\":[[27],{\"frame\":{\"duration\":300,\"redraw\":true},\"mode\":\"immediate\",\"transition\":{\"duration\":300}}],\"label\":\"27\",\"method\":\"animate\"},{\"args\":[[28],{\"frame\":{\"duration\":300,\"redraw\":true},\"mode\":\"immediate\",\"transition\":{\"duration\":300}}],\"label\":\"28\",\"method\":\"animate\"},{\"args\":[[29],{\"frame\":{\"duration\":300,\"redraw\":true},\"mode\":\"immediate\",\"transition\":{\"duration\":300}}],\"label\":\"29\",\"method\":\"animate\"},{\"args\":[[30],{\"frame\":{\"duration\":300,\"redraw\":true},\"mode\":\"immediate\",\"transition\":{\"duration\":300}}],\"label\":\"30\",\"method\":\"animate\"},{\"args\":[[31],{\"frame\":{\"duration\":300,\"redraw\":true},\"mode\":\"immediate\",\"transition\":{\"duration\":300}}],\"label\":\"31\",\"method\":\"animate\"},{\"args\":[[32],{\"frame\":{\"duration\":300,\"redraw\":true},\"mode\":\"immediate\",\"transition\":{\"duration\":300}}],\"label\":\"32\",\"method\":\"animate\"},{\"args\":[[33],{\"frame\":{\"duration\":300,\"redraw\":true},\"mode\":\"immediate\",\"transition\":{\"duration\":300}}],\"label\":\"33\",\"method\":\"animate\"},{\"args\":[[34],{\"frame\":{\"duration\":300,\"redraw\":true},\"mode\":\"immediate\",\"transition\":{\"duration\":300}}],\"label\":\"34\",\"method\":\"animate\"},{\"args\":[[35],{\"frame\":{\"duration\":300,\"redraw\":true},\"mode\":\"immediate\",\"transition\":{\"duration\":300}}],\"label\":\"35\",\"method\":\"animate\"},{\"args\":[[36],{\"frame\":{\"duration\":300,\"redraw\":true},\"mode\":\"immediate\",\"transition\":{\"duration\":300}}],\"label\":\"36\",\"method\":\"animate\"},{\"args\":[[37],{\"frame\":{\"duration\":300,\"redraw\":true},\"mode\":\"immediate\",\"transition\":{\"duration\":300}}],\"label\":\"37\",\"method\":\"animate\"},{\"args\":[[38],{\"frame\":{\"duration\":300,\"redraw\":true},\"mode\":\"immediate\",\"transition\":{\"duration\":300}}],\"label\":\"38\",\"method\":\"animate\"},{\"args\":[[39],{\"frame\":{\"duration\":300,\"redraw\":true},\"mode\":\"immediate\",\"transition\":{\"duration\":300}}],\"label\":\"39\",\"method\":\"animate\"},{\"args\":[[40],{\"frame\":{\"duration\":300,\"redraw\":true},\"mode\":\"immediate\",\"transition\":{\"duration\":300}}],\"label\":\"40\",\"method\":\"animate\"},{\"args\":[[41],{\"frame\":{\"duration\":300,\"redraw\":true},\"mode\":\"immediate\",\"transition\":{\"duration\":300}}],\"label\":\"41\",\"method\":\"animate\"},{\"args\":[[42],{\"frame\":{\"duration\":300,\"redraw\":true},\"mode\":\"immediate\",\"transition\":{\"duration\":300}}],\"label\":\"42\",\"method\":\"animate\"},{\"args\":[[43],{\"frame\":{\"duration\":300,\"redraw\":true},\"mode\":\"immediate\",\"transition\":{\"duration\":300}}],\"label\":\"43\",\"method\":\"animate\"},{\"args\":[[44],{\"frame\":{\"duration\":300,\"redraw\":true},\"mode\":\"immediate\",\"transition\":{\"duration\":300}}],\"label\":\"44\",\"method\":\"animate\"},{\"args\":[[45],{\"frame\":{\"duration\":300,\"redraw\":true},\"mode\":\"immediate\",\"transition\":{\"duration\":300}}],\"label\":\"45\",\"method\":\"animate\"},{\"args\":[[46],{\"frame\":{\"duration\":300,\"redraw\":true},\"mode\":\"immediate\",\"transition\":{\"duration\":300}}],\"label\":\"46\",\"method\":\"animate\"},{\"args\":[[47],{\"frame\":{\"duration\":300,\"redraw\":true},\"mode\":\"immediate\",\"transition\":{\"duration\":300}}],\"label\":\"47\",\"method\":\"animate\"},{\"args\":[[48],{\"frame\":{\"duration\":300,\"redraw\":true},\"mode\":\"immediate\",\"transition\":{\"duration\":300}}],\"label\":\"48\",\"method\":\"animate\"},{\"args\":[[49],{\"frame\":{\"duration\":300,\"redraw\":true},\"mode\":\"immediate\",\"transition\":{\"duration\":300}}],\"label\":\"49\",\"method\":\"animate\"},{\"args\":[[50],{\"frame\":{\"duration\":300,\"redraw\":true},\"mode\":\"immediate\",\"transition\":{\"duration\":300}}],\"label\":\"50\",\"method\":\"animate\"},{\"args\":[[51],{\"frame\":{\"duration\":300,\"redraw\":true},\"mode\":\"immediate\",\"transition\":{\"duration\":300}}],\"label\":\"51\",\"method\":\"animate\"},{\"args\":[[52],{\"frame\":{\"duration\":300,\"redraw\":true},\"mode\":\"immediate\",\"transition\":{\"duration\":300}}],\"label\":\"52\",\"method\":\"animate\"},{\"args\":[[53],{\"frame\":{\"duration\":300,\"redraw\":true},\"mode\":\"immediate\",\"transition\":{\"duration\":300}}],\"label\":\"53\",\"method\":\"animate\"},{\"args\":[[54],{\"frame\":{\"duration\":300,\"redraw\":true},\"mode\":\"immediate\",\"transition\":{\"duration\":300}}],\"label\":\"54\",\"method\":\"animate\"},{\"args\":[[55],{\"frame\":{\"duration\":300,\"redraw\":true},\"mode\":\"immediate\",\"transition\":{\"duration\":300}}],\"label\":\"55\",\"method\":\"animate\"},{\"args\":[[56],{\"frame\":{\"duration\":300,\"redraw\":true},\"mode\":\"immediate\",\"transition\":{\"duration\":300}}],\"label\":\"56\",\"method\":\"animate\"},{\"args\":[[57],{\"frame\":{\"duration\":300,\"redraw\":true},\"mode\":\"immediate\",\"transition\":{\"duration\":300}}],\"label\":\"57\",\"method\":\"animate\"},{\"args\":[[58],{\"frame\":{\"duration\":300,\"redraw\":true},\"mode\":\"immediate\",\"transition\":{\"duration\":300}}],\"label\":\"58\",\"method\":\"animate\"},{\"args\":[[59],{\"frame\":{\"duration\":300,\"redraw\":true},\"mode\":\"immediate\",\"transition\":{\"duration\":300}}],\"label\":\"59\",\"method\":\"animate\"},{\"args\":[[60],{\"frame\":{\"duration\":300,\"redraw\":true},\"mode\":\"immediate\",\"transition\":{\"duration\":300}}],\"label\":\"60\",\"method\":\"animate\"},{\"args\":[[61],{\"frame\":{\"duration\":300,\"redraw\":true},\"mode\":\"immediate\",\"transition\":{\"duration\":300}}],\"label\":\"61\",\"method\":\"animate\"},{\"args\":[[62],{\"frame\":{\"duration\":300,\"redraw\":true},\"mode\":\"immediate\",\"transition\":{\"duration\":300}}],\"label\":\"62\",\"method\":\"animate\"},{\"args\":[[63],{\"frame\":{\"duration\":300,\"redraw\":true},\"mode\":\"immediate\",\"transition\":{\"duration\":300}}],\"label\":\"63\",\"method\":\"animate\"},{\"args\":[[64],{\"frame\":{\"duration\":300,\"redraw\":true},\"mode\":\"immediate\",\"transition\":{\"duration\":300}}],\"label\":\"64\",\"method\":\"animate\"},{\"args\":[[65],{\"frame\":{\"duration\":300,\"redraw\":true},\"mode\":\"immediate\",\"transition\":{\"duration\":300}}],\"label\":\"65\",\"method\":\"animate\"}],\"transition\":{\"duration\":300,\"easing\":\"cubic-in-out\"},\"x\":0.1,\"xanchor\":\"left\",\"y\":0,\"yanchor\":\"top\"}]},                        {\"responsive\": true}                    ).then(function(){\n",
       "                            Plotly.addFrames('f419ff50-3c74-40c2-af6a-1e5e81c4b7ce', [{\"data\":[{\"marker\":{\"color\":[\"red\",\"red\",\"red\",\"blue\",\"blue\",\"green\",\"green\",\"green\"]},\"mode\":\"markers\",\"x\":[0.4146173458114909,0.8020907496763477,0.4565600955053392,0.5304158948819188,0.7924280098463655,1.0,0.8301306690475279,0.0242262835728343],\"y\":[0.06021661947903927,0.28792309505823716,0.30456364682037534,0.6330000717933577,0.6982925507806695,0.6095944269936602,0.7211778621589742,0.9197213772080308],\"type\":\"scatter\"}],\"name\":\"0\"},{\"data\":[{\"marker\":{\"color\":[\"red\",\"red\",\"red\",\"blue\",\"blue\",\"green\",\"green\",\"green\"]},\"mode\":\"markers\",\"x\":[-0.5064960621097316,-0.44572265616451207,-0.4673815552976833,0.6165722551609194,0.4907203704464683,0.5553553446257001,0.47460212476776026,0.05006170320064106],\"y\":[-1.0654186695643209,-0.9681517748035157,-0.9910126272721093,0.7110644712583643,0.5897361721855193,0.8746848633327772,0.7767308138740566,1.0],\"type\":\"scatter\"}],\"name\":\"1\"},{\"data\":[{\"marker\":{\"color\":[\"red\",\"red\",\"red\",\"blue\",\"blue\",\"green\",\"green\",\"green\"]},\"mode\":\"markers\",\"x\":[-0.47120581353740326,-0.17887220303670603,-0.5283730739252775,0.3481735056857985,0.42173851743306956,0.2392510848341896,0.2437543851768729,0.26752372261834334],\"y\":[-0.8644204528384104,-0.8224717293165497,-0.9399314710896238,-0.3209925976545973,-0.5227750368425219,0.7824441820659506,0.9251709080814484,1.0],\"type\":\"scatter\"}],\"name\":\"2\"},{\"data\":[{\"marker\":{\"color\":[\"red\",\"red\",\"red\",\"blue\",\"blue\",\"green\",\"green\",\"green\"]},\"mode\":\"markers\",\"x\":[-0.5664319140336318,-0.6755607052606578,-0.820817901655243,0.7121482342224382,0.5334295349436788,0.5835654952248698,0.5608687030893571,0.5566904880749483],\"y\":[-0.8320555055195028,-0.8975972966727322,-0.9444127474746312,-0.040267364900816366,-0.06544083765904876,1.0,0.9448688292898076,0.9951807390241716],\"type\":\"scatter\"}],\"name\":\"3\"},{\"data\":[{\"marker\":{\"color\":[\"red\",\"red\",\"red\",\"blue\",\"blue\",\"green\",\"green\",\"green\"]},\"mode\":\"markers\",\"x\":[-0.6323376097050687,-0.722853539543804,-0.6365247715212322,0.2336836299429904,0.06473468944965259,0.5453206565227408,0.5097660571645766,0.5120131149357551],\"y\":[-0.7266757581467942,-0.8408784404839729,-0.8492731891886619,-0.8644015100371923,-0.7348183661562004,1.0,0.9250021948882087,0.9319902025365746],\"type\":\"scatter\"}],\"name\":\"4\"},{\"data\":[{\"marker\":{\"color\":[\"red\",\"red\",\"red\",\"blue\",\"blue\",\"green\",\"green\",\"green\"]},\"mode\":\"markers\",\"x\":[-0.7688227334346094,-0.8868884378723595,-0.488085099323961,0.5077531957242922,0.32645820141409765,0.517244695000083,0.6082055655432006,0.6086266473164366],\"y\":[-0.906500106514176,-0.939390130802776,-0.7926665307900119,-0.5021701839198489,-0.3668621144511747,0.7539676372457405,0.9940987792561535,1.0],\"type\":\"scatter\"}],\"name\":\"5\"},{\"data\":[{\"marker\":{\"color\":[\"red\",\"red\",\"red\",\"blue\",\"blue\",\"green\",\"green\",\"green\"]},\"mode\":\"markers\",\"x\":[-1.0072435008030698,-0.7910430477858952,-1.0829643159562148,0.8436023416779728,0.6389192274203986,0.8950918927485519,0.7487361144359894,0.7157360469815464],\"y\":[-0.7749817624109138,-0.6517652392062045,-0.7789358582535042,-0.09596509640180109,-0.1829341887717725,1.0,0.6747880038880993,0.7095360204392609],\"type\":\"scatter\"}],\"name\":\"6\"},{\"data\":[{\"marker\":{\"color\":[\"red\",\"red\",\"red\",\"blue\",\"blue\",\"green\",\"green\",\"green\"]},\"mode\":\"markers\",\"x\":[-1.24261378766205,-1.2298844270595852,-0.9893986723137362,1.0,0.860637257405873,0.8608844407766907,0.8684792394881383,0.9091098634194684],\"y\":[-0.6941011687360462,-0.6912783098708648,-0.5795961066589185,-0.1529902616118274,-0.21520708575528938,0.7468207180344938,0.7485276909005036,0.799342342315052],\"type\":\"scatter\"}],\"name\":\"7\"},{\"data\":[{\"marker\":{\"color\":[\"red\",\"red\",\"red\",\"blue\",\"blue\",\"green\",\"green\",\"green\"]},\"mode\":\"markers\",\"x\":[-0.8136449811025694,-0.7440188839066257,-0.6840203197032505,0.7008322286357962,0.5901563446851522,0.6159983509539849,1.0,0.9281263581340546],\"y\":[-0.2938604885583823,-0.2687146060609136,-0.24704468730436602,0.2531384442057496,0.213128488806526,0.22246924522809006,0.3609993304785887,0.3354071350044535],\"type\":\"scatter\"}],\"name\":\"8\"},{\"data\":[{\"marker\":{\"color\":[\"red\",\"red\",\"red\",\"blue\",\"blue\",\"green\",\"green\",\"green\"]},\"mode\":\"markers\",\"x\":[-0.7527297714349614,-0.8031086181384616,-0.8396480032835292,0.4889348281500049,-0.3700163672052717,1.0,0.858930899489868,0.9312898369003146],\"y\":[-0.25253624729719215,-0.3065289747894919,-0.3069333287666957,0.19861545280917073,0.24976159473134182,0.31488398455301553,0.273693640415237,0.30841653224788584],\"type\":\"scatter\"}],\"name\":\"9\"},{\"data\":[{\"marker\":{\"color\":[\"red\",\"red\",\"red\",\"blue\",\"blue\",\"green\",\"green\",\"green\"]},\"mode\":\"markers\",\"x\":[-0.9175618531153809,-0.7348513922643667,-0.8865544973687332,0.5737226360400032,-0.6841719980227059,0.8839277378040873,1.0,0.8312410768705072],\"y\":[-0.15713097754350613,-0.12584210790499045,-0.1518210188073375,0.09824907388993213,-0.1171633432760694,0.15137119258348725,0.17124838083454907,0.1423486863448764],\"type\":\"scatter\"}],\"name\":\"10\"},{\"data\":[{\"marker\":{\"color\":[\"red\",\"red\",\"red\",\"blue\",\"blue\",\"green\",\"green\",\"green\"]},\"mode\":\"markers\",\"x\":[-1.2125770211525673,-1.1444539939188323,-1.0601384444202686,-0.5006216539291859,-0.908337602699581,1.0,0.9699696272401449,0.8506021321681374],\"y\":[-0.20765184841883202,-0.19598589048035828,-0.18154698936515132,-0.08573064632134257,-0.15555134139789267,0.17124837828271972,0.16610572564850667,0.1456642356975559],\"type\":\"scatter\"}],\"name\":\"11\"},{\"data\":[{\"marker\":{\"color\":[\"red\",\"red\",\"red\",\"blue\",\"blue\",\"green\",\"green\",\"green\"]},\"mode\":\"markers\",\"x\":[-0.8135962734159317,-1.2416582740702442,-1.012747963195182,-0.7246517578917967,-0.8832548712164053,0.8806881740881347,0.9330865559157129,1.0],\"y\":[-0.13932704198239285,-0.2126319651795638,-0.17343144578729988,-0.12409543798732361,-0.1512559638534799,0.15081642113404256,0.15978955901980174,0.17124837777025645],\"type\":\"scatter\"}],\"name\":\"12\"},{\"data\":[{\"marker\":{\"color\":[\"red\",\"red\",\"red\",\"blue\",\"blue\",\"green\",\"green\",\"green\"]},\"mode\":\"markers\",\"x\":[-1.2723706664280274,-0.9483199469484339,-0.9748319990900972,-0.8952024216568717,-0.8086032789174975,1.0,0.9855359769212237,0.8946447027567016],\"y\":[-0.2178914125482523,-0.16239825252208945,-0.1669383984427094,-0.15330196248473932,-0.13847199977432714,0.17124837777025154,0.16877143728197824,0.15320645402783284],\"type\":\"scatter\"}],\"name\":\"13\"},{\"data\":[{\"marker\":{\"color\":[\"red\",\"red\",\"red\",\"blue\",\"blue\",\"green\",\"green\",\"green\"]},\"mode\":\"markers\",\"x\":[-0.9071797666581782,-0.8752746485972865,-1.194148947404916,-0.8453820329298091,-0.9013429995560671,1.0,0.9497803415231535,0.9993836600096412],\"y\":[-0.15535306338620714,-0.14988936367571115,-0.20449607005914797,-0.1447703017353462,-0.15435352648854797,0.17124837777025093,0.16264834272391482,0.17114283054674673],\"type\":\"scatter\"}],\"name\":\"14\"},{\"data\":[{\"marker\":{\"color\":[\"red\",\"red\",\"red\",\"blue\",\"blue\",\"green\",\"green\",\"green\"]},\"mode\":\"markers\",\"x\":[-0.8552618517387786,-0.7819275558380949,-0.910820388414278,-0.7750751716668084,-0.7991916654403339,0.6973653041396227,1.0,0.9362591643785729],\"y\":[-0.14646220467905138,-0.13390382547113414,-0.15597651395601828,-0.13273036579794362,-0.13686027623416666,0.1194226770471691,0.17124837777025673,0.1603328630723669],\"type\":\"scatter\"}],\"name\":\"15\"},{\"data\":[{\"marker\":{\"color\":[\"red\",\"red\",\"red\",\"blue\",\"blue\",\"green\",\"green\",\"green\"]},\"mode\":\"markers\",\"x\":[-0.877628221332811,-1.0987492183596395,-0.8710003751299203,-0.7887400176264594,-0.867630319654093,1.0,0.87326346573154,0.9568616401005415],\"y\":[-0.15029240918864048,-0.18815902122042558,-0.14915740127828506,-0.13507044850101577,-0.14858028474505378,0.17124837777025753,0.14954495187255934,0.1638610036178058],\"type\":\"scatter\"}],\"name\":\"16\"},{\"data\":[{\"marker\":{\"color\":[\"red\",\"red\",\"red\",\"blue\",\"blue\",\"green\",\"green\",\"green\"]},\"mode\":\"markers\",\"x\":[-0.8233984670352209,-1.0435016683769935,-0.743788667203639,-0.7330689213138691,-0.8730667740945111,0.8938438291017575,1.0,0.870649022792952],\"y\":[-0.14100565173846297,-0.17869796791033668,-0.12737260266267278,-0.12553686356894023,-0.1495112687489715,0.15306930571381222,0.17124837777046073,0.14909723276072911],\"type\":\"scatter\"}],\"name\":\"17\"},{\"data\":[{\"marker\":{\"color\":[\"red\",\"red\",\"red\",\"blue\",\"blue\",\"green\",\"green\",\"green\"]},\"mode\":\"markers\",\"x\":[-0.8506928028302468,-0.9484423204009075,-1.156867174756443,-0.8804163366503988,-0.8451049068511399,0.8728937280870362,0.7891078515038872,1.0],\"y\":[-0.14567976246615696,-0.16241920877804272,-0.1981116269735041,-0.15076986941439077,-0.1447228443445938,0.14948163490137684,0.13513343945639106,0.17124837777098964],\"type\":\"scatter\"}],\"name\":\"18\"},{\"data\":[{\"marker\":{\"color\":[\"red\",\"red\",\"red\",\"blue\",\"blue\",\"green\",\"green\",\"green\"]},\"mode\":\"markers\",\"x\":[-0.8382191085727567,-0.9490389484939816,-0.7769344476328757,-0.7284665133884176,-0.773339689290647,1.0,0.6814509703850914,0.8060880139303535],\"y\":[-0.14354366255965478,-0.1625213803709974,-0.13304876379146022,-0.12474870867818907,-0.1324331672568753,0.1712483777708999,0.11669737320885201,0.1380412647261401],\"type\":\"scatter\"}],\"name\":\"19\"},{\"data\":[{\"marker\":{\"color\":[\"red\",\"red\",\"red\",\"blue\",\"blue\",\"green\",\"green\",\"green\"]},\"mode\":\"markers\",\"x\":[-0.9092753145237542,-0.91172533672278,-0.9611548521845953,-0.5570487262817825,-0.8908541378695382,1.0,0.7928684729356155,0.8519047584789409],\"y\":[-0.15571192255932728,-0.1561314848864134,-0.1645962092232512,-0.09539369071510785,-0.15255732594066432,0.17124837777091043,0.13577743977592327,0.14588730790483787],\"type\":\"scatter\"}],\"name\":\"20\"},{\"data\":[{\"marker\":{\"color\":[\"red\",\"red\",\"red\",\"blue\",\"blue\",\"green\",\"green\",\"green\"]},\"mode\":\"markers\",\"x\":[-0.8235089807489163,-0.7737994996572924,-0.8445801670635738,-0.6902841149176617,-0.7270845641131247,0.8140774626693904,1.0,0.7810014238670177],\"y\":[-0.14102457703302276,-0.1325119090362486,-0.14463298350711615,-0.11821003488067428,-0.12451205210663734,0.1394094448619867,0.17124837777090463,0.13374522687399312],\"type\":\"scatter\"}],\"name\":\"21\"},{\"data\":[{\"marker\":{\"color\":[\"red\",\"red\",\"red\",\"blue\",\"blue\",\"green\",\"green\",\"green\"]},\"mode\":\"markers\",\"x\":[-0.901799272413424,-0.9079786247122267,-0.9749658586203571,-0.5966817080263427,-0.739806798120629,1.0,0.7157833329416271,0.6139846430129762],\"y\":[-0.15443166247578619,-0.15548986653263108,-0.1669613216707592,-0.1021807745450881,-0.1266907140420491,0.17124837777091104,0.12257673460170962,0.10514387409222421],\"type\":\"scatter\"}],\"name\":\"22\"},{\"data\":[{\"marker\":{\"color\":[\"red\",\"red\",\"red\",\"blue\",\"blue\",\"green\",\"green\",\"green\"]},\"mode\":\"markers\",\"x\":[-0.7727478228103188,-0.6834483836356671,-0.9568118356019489,0.5872028325890547,0.6631683194184966,0.8946576023019295,0.7092088359212507,1.0],\"y\":[-0.1323318109297084,-0.11703942685283042,-0.16385247448993315,0.10055753238739272,0.11356649875848386,0.15320866287794538,0.12145086251225887,0.1712483775735275],\"type\":\"scatter\"}],\"name\":\"23\"},{\"data\":[{\"marker\":{\"color\":[\"red\",\"red\",\"red\",\"blue\",\"blue\",\"green\",\"green\",\"green\"]},\"mode\":\"markers\",\"x\":[-0.8815412246109708,-0.75569308624243,-0.6777176950632534,0.6447119814022506,0.6941662860086819,0.6960932890996666,0.8475150667659956,1.0],\"y\":[-0.1509625047460558,-0.12941121519164223,-0.11605805593790816,0.11040588101279943,0.11887485045567227,0.11920484660916683,0.14513558040972796,0.1712483778766846],\"type\":\"scatter\"}],\"name\":\"24\"},{\"data\":[{\"marker\":{\"color\":[\"red\",\"red\",\"red\",\"blue\",\"blue\",\"green\",\"green\",\"green\"]},\"mode\":\"markers\",\"x\":[-1.1565265374190055,-1.0864827663323287,-0.9407616590170335,0.9365931047239596,0.9519371986097788,0.991750345227087,1.0,0.9534786156487325],\"y\":[-0.19805329350435,-0.1860584113253916,-0.16110390807525216,0.1603900499144729,0.16301770110240701,0.16983563787878803,0.1712483778766918,0.1632816662699594],\"type\":\"scatter\"}],\"name\":\"25\"},{\"data\":[{\"marker\":{\"color\":[\"red\",\"red\",\"red\",\"blue\",\"blue\",\"green\",\"green\",\"green\"]},\"mode\":\"markers\",\"x\":[-0.9412742899935751,-1.3836671074790319,-1.0753803477598511,0.8778125293054233,1.0,0.9958000545271484,0.9043590396121217,0.9873245188976943],\"y\":[-0.16119169571389913,-0.2369507482878435,-0.1841571406290038,0.15032397211084259,0.17124837831807604,0.17052914446682568,0.15487001895086872,0.16907772273490487],\"type\":\"scatter\"}],\"name\":\"26\"},{\"data\":[{\"marker\":{\"color\":[\"red\",\"red\",\"red\",\"blue\",\"blue\",\"green\",\"green\",\"green\"]},\"mode\":\"markers\",\"x\":[-0.9789785026225162,-0.9556542503697604,-0.9751050584641494,0.8144200179862356,0.8749926346952581,0.9523889573003075,1.0,0.9679380971311731],\"y\":[-0.167648480982377,-0.16365424060861197,-0.16698515995175123,0.13946810734993428,0.14984106973183672,0.16309506446573532,0.1712483783180898,0.16575782944601183],\"type\":\"scatter\"}],\"name\":\"27\"},{\"data\":[{\"marker\":{\"color\":[\"red\",\"red\",\"red\",\"blue\",\"blue\",\"green\",\"green\",\"green\"]},\"mode\":\"markers\",\"x\":[-0.9041861309334358,-0.9963867319359377,-0.8246356437507749,0.8406132618002577,0.6914644900905103,1.0,0.922513252903026,0.6984944993497485],\"y\":[-0.15484040863248946,-0.17062961203527552,-0.14121751670691718,0.1439536578890241,0.11841217260216626,0.17124837833308873,0.15797889854795263,0.1196160502889827],\"type\":\"scatter\"}],\"name\":\"28\"},{\"data\":[{\"marker\":{\"color\":[\"red\",\"red\",\"red\",\"blue\",\"blue\",\"green\",\"green\",\"green\"]},\"mode\":\"markers\",\"x\":[-0.7885299900785638,-0.889893621027413,-0.6784928848485576,0.5963077059618248,0.5897782215774128,0.7834052831430934,0.7854095707596105,1.0],\"y\":[-0.1350344820672454,-0.1523928394890968,-0.1161908062402383,0.10211672763295515,0.10099856402077882,0.13415688431513145,0.1345001153191575,0.1712483783321734],\"type\":\"scatter\"}],\"name\":\"29\"},{\"data\":[{\"marker\":{\"color\":[\"red\",\"red\",\"red\",\"blue\",\"blue\",\"green\",\"green\",\"green\"]},\"mode\":\"markers\",\"x\":[-0.871468543118031,-0.8665577889515707,-0.9430764079947394,0.8010873795544957,0.6289111011840491,0.6942991549912699,0.811859855275945,1.0],\"y\":[-0.14923757477650446,-0.14839661608910995,-0.16150030551247352,0.1371849146511144,0.10770000619289798,0.11889760436968469,0.13902968364903545,0.17124837833221898],\"type\":\"scatter\"}],\"name\":\"30\"},{\"data\":[{\"marker\":{\"color\":[\"red\",\"red\",\"red\",\"blue\",\"blue\",\"green\",\"green\",\"green\"]},\"mode\":\"markers\",\"x\":[-0.9546134534005469,-0.8299352041148381,-0.8428735585730466,1.0,0.8967355170813976,0.8095895847930571,0.8912371561145939,0.9373881945139696],\"y\":[-0.16347600582985025,-0.1421250578262563,-0.14434073004552414,0.17124837833315304,0.15356450309392286,0.1386409035112129,0.15262291769486427,0.16052620817915458],\"type\":\"scatter\"}],\"name\":\"31\"},{\"data\":[{\"marker\":{\"color\":[\"red\",\"red\",\"red\",\"blue\",\"blue\",\"green\",\"green\",\"green\"]},\"mode\":\"markers\",\"x\":[-0.794788128877809,-0.79915832835295,-0.8401974186914916,0.8084948563238935,0.6672266591396625,0.8108783269766536,0.7400583270594262,1.0],\"y\":[-0.13610617818711487,-0.13685456776021596,-0.14388244542886922,0.13845343303427146,0.11426148335691033,0.13886159851852348,0.12673378837929775,0.17124837833116385],\"type\":\"scatter\"}],\"name\":\"32\"},{\"data\":[{\"marker\":{\"color\":[\"red\",\"red\",\"red\",\"blue\",\"blue\",\"green\",\"green\",\"green\"]},\"mode\":\"markers\",\"x\":[-0.8699826926658653,-0.6473227784598256,-0.5887204690513262,0.5769385343565993,0.6845243295443328,0.5286858607470276,0.6024368583931689,1.0],\"y\":[-0.14898312529226362,-0.11085297606587696,-0.10081742561340871,0.09879978840337292,0.11722368136037689,0.09053659629775489,0.1031663350447119,0.17124837832777862],\"type\":\"scatter\"}],\"name\":\"33\"},{\"data\":[{\"marker\":{\"color\":[\"red\",\"red\",\"red\",\"blue\",\"blue\",\"green\",\"green\",\"green\"]},\"mode\":\"markers\",\"x\":[-0.7929137223002454,-0.8698161142650542,-0.9472655081410716,0.9942584437829709,0.9184581868412466,0.9133836727405108,0.9345175771080053,1.0],\"y\":[-0.13578518909680778,-0.14895459901018393,-0.1622176821138208,0.17026514613608415,0.15728447505673995,0.1564154727461589,0.1600346195975476,0.1712483783265296],\"type\":\"scatter\"}],\"name\":\"34\"},{\"data\":[{\"marker\":{\"color\":[\"red\",\"red\",\"red\",\"blue\",\"blue\",\"green\",\"green\",\"green\"]},\"mode\":\"markers\",\"x\":[-0.9638856880411711,-0.9893110213208754,-0.8088997411300712,0.5934978784888316,0.6566813056688189,0.8385373480439271,0.9036600588366018,1.0],\"y\":[-0.165063860969027,-0.16941790806156273,-0.1385227688971076,0.10163554923192301,0.11245560867382658,0.1435981610185621,0.1547503196339691,0.1712483783262362],\"type\":\"scatter\"}],\"name\":\"35\"},{\"data\":[{\"marker\":{\"color\":[\"red\",\"red\",\"red\",\"blue\",\"blue\",\"green\",\"green\",\"green\"]},\"mode\":\"markers\",\"x\":[-1.0099162856060735,-1.1341898587115167,-0.7967059765731875,0.5817551587019837,0.5858698655044262,0.999376038338402,1.0,0.8504685176329414],\"y\":[-0.1729465261189972,-0.19422817397755626,-0.13643460645787686,0.09962462751608726,0.10032926439688566,0.17114152582762177,0.17124837828466583,0.14564135443682844],\"type\":\"scatter\"}],\"name\":\"36\"},{\"data\":[{\"marker\":{\"color\":[\"red\",\"red\",\"red\",\"blue\",\"blue\",\"green\",\"green\",\"green\"]},\"mode\":\"markers\",\"x\":[-0.9726139999396128,-0.5749420946404211,-0.8137898908368487,0.6474326946969516,0.5960594102974243,0.6319554560935804,0.9259724941803006,1.0],\"y\":[-0.16676677541892054,-0.0985809779366169,-0.13953440524619443,0.11101039319516308,0.10220180400441091,0.10835662802734251,0.15876950906006154,0.17146244503710475],\"type\":\"scatter\"}],\"name\":\"37\"},{\"data\":[{\"marker\":{\"color\":[\"red\",\"red\",\"red\",\"blue\",\"blue\",\"green\",\"green\",\"green\"]},\"mode\":\"markers\",\"x\":[-0.6989426404594029,-0.8807102485210444,-0.7957379509777733,0.5610464311915102,0.6977443869356773,1.0,0.9407959647813481,0.5622504170510394],\"y\":[-0.11984241460836871,-0.15100873325416755,-0.13643917529197636,0.09619839330048448,0.11963695912849058,0.17146244580183856,0.16131117712190884,0.09640483166067056],\"type\":\"scatter\"}],\"name\":\"38\"},{\"data\":[{\"marker\":{\"color\":[\"red\",\"red\",\"red\",\"blue\",\"blue\",\"green\",\"green\",\"green\"]},\"mode\":\"markers\",\"x\":[-0.8592100612827245,-0.7251281220009166,-0.7107866370343514,0.5200544777099959,0.688587877561829,0.7482905515096202,1.0,0.9207437905363464],\"y\":[-0.14732225856507014,-0.1243322413179596,-0.12187321522916238,0.08916981269834526,0.11806696163623695,0.12830372813223387,0.17146244580182327,0.15787298228220267],\"type\":\"scatter\"}],\"name\":\"39\"},{\"data\":[{\"marker\":{\"color\":[\"red\",\"red\",\"red\",\"blue\",\"blue\",\"green\",\"green\",\"green\"]},\"mode\":\"markers\",\"x\":[-0.697907934225944,-0.6143577326217763,-0.8808381627735246,0.5016318145055152,0.20805873526063218,0.6458986348476264,0.9278258542773241,1.0],\"y\":[-0.11966500134606992,-0.10533927943188098,-0.15103066574371346,0.08601101780653123,0.0356742596179961,0.11074735967030973,0.1590872902515253,0.17146244580059586],\"type\":\"scatter\"}],\"name\":\"40\"},{\"data\":[{\"marker\":{\"color\":[\"red\",\"red\",\"red\",\"blue\",\"blue\",\"green\",\"green\",\"green\"]},\"mode\":\"markers\",\"x\":[-0.8841705848074637,-0.9991274797917128,-1.1060212934822198,-0.9533412018257436,-0.8870309029579065,1.0,0.8685273689080163,0.9436117627531905],\"y\":[-0.15160113849799906,-0.17131090349211645,-0.189637909177932,-0.16346051612427417,-0.15205029795040906,0.17145691523889267,0.1489150885812225,0.1617888441326782],\"type\":\"scatter\"}],\"name\":\"41\"},{\"data\":[{\"marker\":{\"color\":[\"red\",\"red\",\"red\",\"blue\",\"blue\",\"green\",\"green\",\"green\"]},\"mode\":\"markers\",\"x\":[-0.9749408677193017,-0.8266893100557828,-0.9290435685660118,-0.6524722803218724,-0.6559450369266803,0.921516090927308,0.8377735100638735,1.0],\"y\":[-0.16717062353939113,-0.14175030857282006,-0.15930073042446855,-0.11187776523655565,-0.1124732254047573,0.15801001349707536,0.14365088613488625,0.17146744940337527],\"type\":\"scatter\"}],\"name\":\"42\"},{\"data\":[{\"marker\":{\"color\":[\"red\",\"red\",\"red\",\"blue\",\"blue\",\"green\",\"green\",\"green\"]},\"mode\":\"markers\",\"x\":[-1.0338255997319823,-1.2167927955273783,-1.1217452409595783,-0.9593202291319675,-1.1190416756255384,0.9980363932223117,1.0,0.9158404452643022],\"y\":[-0.177267440054293,-0.20864035867903163,-0.19234279680203478,-0.16449219409406024,-0.19187922334640653,0.17113075605151004,0.17146745069985703,0.1570368263972919],\"type\":\"scatter\"}],\"name\":\"43\"},{\"data\":[{\"marker\":{\"color\":[\"red\",\"red\",\"red\",\"blue\",\"blue\",\"green\",\"green\",\"green\"]},\"mode\":\"markers\",\"x\":[-0.8523468508507599,-1.1327479774809215,-0.7595621628627576,-0.7602555852827161,-0.7539563225248949,0.9526347570902975,1.0,0.9680938248071935],\"y\":[-0.14614974162739527,-0.19422940798402505,-0.13024018771411483,-0.13035908708872312,-0.12927896856235124,0.16334585324631057,0.17146745069981462,0.1659965801779223],\"type\":\"scatter\"}],\"name\":\"44\"},{\"data\":[{\"marker\":{\"color\":[\"red\",\"red\",\"red\",\"blue\",\"blue\",\"green\",\"green\",\"green\"]},\"mode\":\"markers\",\"x\":[-0.9024224617203526,-0.8181848030940638,-0.7503984545583592,-0.6478180030169371,-0.6390398304256855,0.9610445877764222,0.8164543231638175,1.0],\"y\":[-0.15473607896571698,-0.1402920623881194,-0.12866891001243203,-0.11107970149495737,-0.10957453061892987,0.1647878654751706,0.13999534140599185,0.1714674507001197],\"type\":\"scatter\"}],\"name\":\"45\"},{\"data\":[{\"marker\":{\"color\":[\"red\",\"red\",\"red\",\"blue\",\"blue\",\"green\",\"green\",\"green\"]},\"mode\":\"markers\",\"x\":[-0.9164074817086663,-1.0360352601677667,-0.7588015774488542,-0.5268112783977977,-0.8440462564128408,0.9998440112281686,0.6792971028894723,1.0],\"y\":[-0.1571340546911104,-0.17764632489641577,-0.13010977207239344,-0.09033098690694723,-0.1447264598600998,0.17144070370308898,0.11647734250044124,0.17146745070012748],\"type\":\"scatter\"}],\"name\":\"46\"},{\"data\":[{\"marker\":{\"color\":[\"red\",\"red\",\"red\",\"blue\",\"blue\",\"green\",\"green\",\"green\"]},\"mode\":\"markers\",\"x\":[-1.1094440368778482,-1.041011993484425,-1.0209393641140911,-0.6610926850950092,-0.8562081333441465,1.0,0.9427775168812023,0.9629314611065998],\"y\":[-0.19023354069766604,-0.17849967267081365,-0.17505787008383455,-0.11335587739002287,-0.14681182589305192,0.17146745069992758,0.16165565739682722,0.16511140283470438],\"type\":\"scatter\"}],\"name\":\"47\"},{\"data\":[{\"marker\":{\"color\":[\"red\",\"red\",\"red\",\"blue\",\"blue\",\"green\",\"green\",\"green\"]},\"mode\":\"markers\",\"x\":[-1.067326214777136,-0.9882909879393199,-1.0067516319138423,-0.9280735779266566,-0.9813828243054822,0.9923650434159004,1.0,0.9240239544533434],\"y\":[-0.18301170511310705,-0.16945973625173555,-0.17262513581232145,-0.15913441046910046,-0.16827521104441037,0.17015830415830865,0.17146745069998953,0.15844003185583763],\"type\":\"scatter\"}],\"name\":\"48\"},{\"data\":[{\"marker\":{\"color\":[\"red\",\"red\",\"red\",\"blue\",\"blue\",\"green\",\"green\",\"green\"]},\"mode\":\"markers\",\"x\":[-0.9923896246591161,-0.8010291878153833,-0.80477799559107,-0.6923942731598759,-0.8123006858563007,0.7313815976964373,0.8886898760696436,1.0],\"y\":[-0.17016251904001944,-0.13735043276985945,-0.1379932312823152,-0.11872308089702181,-0.1392831278044896,0.1254081380448643,0.1523813875113016,0.1714674506985825],\"type\":\"scatter\"}],\"name\":\"49\"},{\"data\":[{\"marker\":{\"color\":[\"red\",\"red\",\"red\",\"blue\",\"blue\",\"green\",\"green\",\"green\"]},\"mode\":\"markers\",\"x\":[-0.838522707557636,-0.7423003591535333,-0.8215303053361283,-0.7245774421645372,-0.7070757973696018,1.0,0.7260103807386914,0.8769530842860311],\"y\":[-0.14377935101854017,-0.12728035023737064,-0.1408657071283578,-0.12424144684230869,-0.12124048442627318,0.17146745069948763,0.12448714916662805,0.15036890974557887],\"type\":\"scatter\"}],\"name\":\"50\"},{\"data\":[{\"marker\":{\"color\":[\"red\",\"red\",\"red\",\"blue\",\"blue\",\"green\",\"green\",\"green\"]},\"mode\":\"markers\",\"x\":[-0.7958934275574387,-1.0359209638789049,-0.818317877166243,-0.7452619442348507,-0.7496650890216813,0.9576381386338996,0.7690880903848519,1.0],\"y\":[-0.1364698170115781,-0.17762672675911279,-0.14031488022601063,-0.12778816567207643,-0.1285431616560913,0.16420377028527755,0.13187357418979592,0.17146745065975405],\"type\":\"scatter\"}],\"name\":\"51\"},{\"data\":[{\"marker\":{\"color\":[\"red\",\"red\",\"red\",\"blue\",\"blue\",\"green\",\"green\",\"green\"]},\"mode\":\"markers\",\"x\":[-0.8629968655646306,-0.8433817566645369,-1.0251534242839928,-0.8575506826649854,-0.7738443367541236,0.7944431371964641,1.0,0.9355552555898552],\"y\":[-0.14797587239212662,-0.14461251967579355,-0.17578044410841934,-0.14704202929557494,-0.13268911556539256,0.13622113936081187,0.17146745057360638,0.16041727454688073],\"type\":\"scatter\"}],\"name\":\"52\"},{\"data\":[{\"marker\":{\"color\":[\"red\",\"red\",\"red\",\"blue\",\"blue\",\"green\",\"green\",\"green\"]},\"mode\":\"markers\",\"x\":[-0.7346093308662848,-0.9539534476281328,-0.7647368860491276,-0.728359699017104,-0.8448164885099352,0.9100038103840703,1.0,0.8809591364338465],\"y\":[-0.12596158913154742,-0.16357196563111737,-0.13112748421077833,-0.12488998069134188,-0.144858529487723,0.15603603337922556,0.17146745057404725,0.15105581718422603],\"type\":\"scatter\"}],\"name\":\"53\"},{\"data\":[{\"marker\":{\"color\":[\"red\",\"red\",\"red\",\"blue\",\"blue\",\"green\",\"green\",\"green\"]},\"mode\":\"markers\",\"x\":[-0.8947667591630574,-1.1021829517024622,-0.820841206776283,-0.7460992130482366,-0.7739633246766933,0.8715278917542753,1.0,0.7235790266015909],\"y\":[-0.15342337505211762,-0.18898850079463028,-0.14074754905207723,-0.1279317299367058,-0.13270951812014817,0.1494386657033041,0.17146745057407517,0.12407025098024566],\"type\":\"scatter\"}],\"name\":\"54\"},{\"data\":[{\"marker\":{\"color\":[\"red\",\"red\",\"red\",\"blue\",\"blue\",\"green\",\"green\",\"green\"]},\"mode\":\"markers\",\"x\":[-0.9572110772787794,-1.061798908453636,-0.9577022549116977,-0.8808581371295092,-0.8811171705813365,0.9999122852103659,0.9949616815697325,1.0],\"y\":[-0.16413054308224878,-0.18206395185487317,-0.1642147640587443,-0.15103849909101857,-0.15108291489661674,0.17145241034271191,0.17060354295764962,0.17146745057406781],\"type\":\"scatter\"}],\"name\":\"55\"},{\"data\":[{\"marker\":{\"color\":[\"red\",\"red\",\"red\",\"blue\",\"blue\",\"green\",\"green\",\"green\"]},\"mode\":\"markers\",\"x\":[-0.991987516483513,-0.7732537901837075,-1.0195381795992742,-0.7529411983182465,-0.5715396545021979,0.976984357044938,1.0,0.7257045670224191],\"y\":[-0.1700935704527221,-0.13258785604952986,-0.1748176124188062,-0.12910490770780797,-0.09800044745947122,0.16752101695323335,0.1714674505740613,0.12443471197728681],\"type\":\"scatter\"}],\"name\":\"56\"},{\"data\":[{\"marker\":{\"color\":[\"red\",\"red\",\"red\",\"blue\",\"blue\",\"green\",\"green\",\"green\"]},\"mode\":\"markers\",\"x\":[-0.8950995390963674,-0.8982862087620739,-0.9998480975056461,0.5519660933182355,-0.4815928219949077,0.8758275265648586,1.0,0.904075553771323],\"y\":[-0.15348043597882527,-0.15402684610222994,-0.17144140424056964,0.09464421882457512,-0.08257749340221072,0.15017591312261894,0.17146745057401172,0.15501953033145655],\"type\":\"scatter\"}],\"name\":\"57\"},{\"data\":[{\"marker\":{\"color\":[\"red\",\"red\",\"red\",\"blue\",\"blue\",\"green\",\"green\",\"green\"]},\"mode\":\"markers\",\"x\":[-0.9849588276379281,-0.9242640568519395,-1.2168818233515504,-0.7040427483586088,-0.8644028215773024,0.983411538584531,1.0,0.7454474202771126],\"y\":[-0.16888837909542695,-0.15848120148559805,-0.20865562389993497,-0.12072041515616655,-0.14821694808484756,0.16862306938615176,0.17146745057400814,0.12781996869188786],\"type\":\"scatter\"}],\"name\":\"58\"},{\"data\":[{\"marker\":{\"color\":[\"red\",\"red\",\"red\",\"blue\",\"blue\",\"green\",\"green\",\"green\"]},\"mode\":\"markers\",\"x\":[-0.8146004633348992,-0.8617924160230568,-0.9219838081667316,-0.6807921826894004,-0.680356567450411,0.8665411853788088,0.8076494661188319,1.0],\"y\":[-0.13967746468443842,-0.14776934849948523,-0.15809021305686177,-0.1167336999364631,-0.11665900610200244,0.14858360787428582,0.13848559491285728,0.17146745057400284],\"type\":\"scatter\"}],\"name\":\"59\"},{\"data\":[{\"marker\":{\"color\":[\"red\",\"red\",\"red\",\"blue\",\"blue\",\"green\",\"green\",\"green\"]},\"mode\":\"markers\",\"x\":[-0.8907307055455421,-1.037523568640739,-0.9184195762860222,-0.8519551087169297,-0.8582769677355535,0.825344173926737,1.0,0.8644666538472278],\"y\":[-0.15273132322809616,-0.17790152122552733,-0.15747906330324848,-0.14608257049540216,-0.1471665635442143,0.14151966134952834,0.1714674505742512,0.14822789324163715],\"type\":\"scatter\"}],\"name\":\"60\"},{\"data\":[{\"marker\":{\"color\":[\"red\",\"red\",\"red\",\"blue\",\"blue\",\"green\",\"green\",\"green\"]},\"mode\":\"markers\",\"x\":[-1.0994357234426013,-0.9680506026965452,-1.1053464360023069,-0.7923743341598284,-0.8270473786860141,0.9385232053372965,0.9894011239808898,1.0],\"y\":[-0.1886566846347262,-0.16611177311849956,-0.18967092830916732,-0.1359667617982945,-0.14191645162177188,0.16104504581938875,0.16977539653884863,0.17159410114177934],\"type\":\"scatter\"}],\"name\":\"61\"},{\"data\":[{\"marker\":{\"color\":[\"red\",\"red\",\"red\",\"blue\",\"blue\",\"green\",\"green\",\"green\"]},\"mode\":\"markers\",\"x\":[-0.8659575372132385,-0.9298810924354989,-0.9792735373248955,-0.46043784273860283,-0.7660349905696974,0.7074479812673732,1.0,0.9052483473537857],\"y\":[-0.14859320568350534,-0.15956211073831886,-0.16803756294516403,-0.07900841782067407,-0.13144708601145372,0.12139390084005033,0.17159410169486636,0.1553352769729421],\"type\":\"scatter\"}],\"name\":\"62\"},{\"data\":[{\"marker\":{\"color\":[\"red\",\"red\",\"red\",\"blue\",\"blue\",\"green\",\"green\",\"green\"]},\"mode\":\"markers\",\"x\":[-0.7517441205948799,-0.9616585095405839,-0.9835786642726317,-0.6830780581234956,-0.8932116405541448,0.8684380505050255,0.8871266548903285,1.0],\"y\":[-0.12899422249704642,-0.16501411630288126,-0.16877546705936372,-0.11721158915443873,-0.15326909508439637,0.14901811406665122,0.15222495257219484,0.1715932575501464],\"type\":\"scatter\"}],\"name\":\"63\"},{\"data\":[{\"marker\":{\"color\":[\"red\",\"red\",\"red\",\"blue\",\"blue\",\"green\",\"green\",\"green\"]},\"mode\":\"markers\",\"x\":[-0.8236165975899095,-1.1852831090134384,-1.0055202269196135,-0.7267605530116839,-0.8225960239394982,0.9066370214287529,0.7323886988122166,1.0],\"y\":[-0.1413270549554861,-0.20338658979881905,-0.17254049127309753,-0.12470721075261824,-0.14115193139820478,0.1555727999255698,0.12567296262456715,0.17159325755350208],\"type\":\"scatter\"}],\"name\":\"64\"},{\"data\":[{\"marker\":{\"color\":[\"red\",\"red\",\"red\",\"blue\",\"blue\",\"green\",\"green\",\"green\"]},\"mode\":\"markers\",\"x\":[-0.8335791151889294,-0.7422172436739922,-0.7826591101595668,-0.7199572223992668,-0.8008321786013516,1.0,0.7307047540676533,0.8004963026866057],\"y\":[-0.14303655580383892,-0.12735947465441375,-0.13429902626622114,-0.12353980509067344,-0.13741740227987556,0.17159325755351695,0.1253840090603089,0.13735976823753962],\"type\":\"scatter\"}],\"name\":\"65\"}]);\n",
       "                        }).then(function(){\n",
       "                            \n",
       "var gd = document.getElementById('f419ff50-3c74-40c2-af6a-1e5e81c4b7ce');\n",
       "var x = new MutationObserver(function (mutations, observer) {{\n",
       "        var display = window.getComputedStyle(gd).display;\n",
       "        if (!display || display === 'none') {{\n",
       "            console.log([gd, 'removed!']);\n",
       "            Plotly.purge(gd);\n",
       "            observer.disconnect();\n",
       "        }}\n",
       "}});\n",
       "\n",
       "// Listen for the removal of the full notebook cells\n",
       "var notebookContainer = gd.closest('#notebook-container');\n",
       "if (notebookContainer) {{\n",
       "    x.observe(notebookContainer, {childList: true});\n",
       "}}\n",
       "\n",
       "// Listen for the clearing of the current output cell\n",
       "var outputEl = gd.closest('.output');\n",
       "if (outputEl) {{\n",
       "    x.observe(outputEl, {childList: true});\n",
       "}}\n",
       "\n",
       "                        })                };                });            </script>        </div>"
      ]
     },
     "metadata": {},
     "output_type": "display_data"
    }
   ],
   "source": [
    "fig = create_trace_plot(neuron_group.log[::10000], colors = color_list)\n",
    "fig.show()"
   ]
  },
  {
   "cell_type": "markdown",
   "metadata": {},
   "source": [
    "## NodeSyncMap"
   ]
  },
  {
   "cell_type": "code",
   "execution_count": null,
   "metadata": {},
   "outputs": [],
   "source": [
    "def calculate_pairwise_distances(arr):\n",
    "    \"\"\"\n",
    "    Calculate the pairwise distances between samples in a NumPy array.\n",
    "\n",
    "    Parameters:\n",
    "    arr (np.ndarray): A 2D NumPy array of shape (N, d) where N is the number of samples\n",
    "                        and d is the dimension of each sample.\n",
    "\n",
    "    Returns:\n",
    "    np.ndarray: A 2D NumPy array of shape (N, N) where each element (i, j) represents\n",
    "                the distance between sample i and sample j.\n",
    "    \"\"\"\n",
    "\n",
    "    # Calculate the pairwise distances\n",
    "    diff = arr[np.newaxis, :, :] - arr[:, np.newaxis, :] \n",
    "    squared_diff = diff ** 2\n",
    "    squared_dist = np.sum(squared_diff, axis=-1)\n",
    "    distances = np.sqrt(squared_dist)\n",
    "    return distances"
   ]
  },
  {
   "cell_type": "code",
   "execution_count": null,
   "metadata": {},
   "outputs": [],
   "source": [
    "a00 = np.array([[-1,0], [1,0], [0,2]])\n",
    "a00_coord_diff = a00[np.newaxis, :, :] - a00[:, np.newaxis, :]\n",
    "pair_dist = calculate_pairwise_distances(a00.reshape(3, 2))\n",
    "a00_coord_diff"
   ]
  },
  {
   "cell_type": "code",
   "execution_count": null,
   "metadata": {},
   "outputs": [],
   "source": [
    "with np.errstate(divide='ignore', invalid='ignore'):\n",
    "    ttk = np.nan_to_num(a00_coord_diff / pair_dist[:, :, np.newaxis] ** 3, nan=0).sum(axis=0)\n",
    "\n",
    "ttk"
   ]
  },
  {
   "cell_type": "code",
   "execution_count": null,
   "metadata": {},
   "outputs": [],
   "source": [
    "# pair_dist[:, :, np.newaxis]\n",
    "# a00_coord_diff\n",
    "print(np.broadcast_to(a00[np.newaxis, :, :], (3, 3, 2)))\n",
    "print('---')\n",
    "print(np.broadcast_to(a00[:, np.newaxis, :], (3, 3, 2)))\n",
    "# a00 = np.arange(12).reshape(3, 4)\n",
    "# np.broadcast_to(a00[:, np.newaxis, :], (3, 3, 4)) == np.broadcast_to(a00[np.newaxis, :, :], (3, 3, 4)).transpose(1, 0, 2)\n"
   ]
  },
  {
   "cell_type": "code",
   "execution_count": null,
   "metadata": {},
   "outputs": [],
   "source": [
    "#| export\n",
    "# class SMNode(object):\n",
    "#     def __init__(self, dimensions):\n",
    "#         self.dimensions = dimensions\n",
    "#         self.coordinates = np.random.rand(dimensions)\n",
    "\n",
    "#     def __repr__(self):\n",
    "#         return f\"SMNode({self.coordinates})\"\n",
    "\n",
    "\n",
    "class NodeSyncMap(LightSyncMap):\n",
    "    def __init__(self, input_size, dimensions, adaptation_rate, ):\n",
    "        super().__init__(input_size, dimensions, adaptation_rate)\n",
    "        # self.plus_factor = 1\n",
    "        # self.minus_factor = 0.1\n",
    "        # self.repel_range = 1\n",
    "        # self.attract_range = 1\n",
    "        # TODO: turing the above into a parameter\n",
    "        self.plus_factor = 1\n",
    "        self.minus_factor = 0.1\n",
    "        self.repel_range = 1\n",
    "        self.attract_range = 0.0001\n",
    "\n",
    "        # self.plus_factor = 1\n",
    "        # self.minus_factor = 0.1\n",
    "        # self.repel_range = 1\n",
    "        # self.attract_range = 0.0001\n",
    "  \n",
    "        # attract_range = 0.0001 ~ 无吸引力变化\n",
    "    def calculate_pairwise_distances(self, arr):\n",
    "        \"\"\"\n",
    "        Calculate the pairwise distances between samples in a NumPy array.\n",
    "\n",
    "        Parameters:\n",
    "        arr (np.ndarray): A 2D NumPy array of shape (N, d) where N is the number of samples\n",
    "                            and d is the dimension of each sample.\n",
    "\n",
    "        Returns:\n",
    "        np.ndarray: A 2D NumPy array of shape (N, N) where each element (i, j) represents\n",
    "                    the distance between sample i and sample j.\n",
    "        \"\"\"\n",
    "\n",
    "        # Calculate the pairwise distances\n",
    "        diff = arr[np.newaxis, :, :] - arr[:, np.newaxis, :] \n",
    "        squared_diff = diff ** 2\n",
    "        squared_dist = np.sum(squared_diff, axis=-1)\n",
    "        distances = np.sqrt(squared_dist)\n",
    "        return distances\n",
    "\n",
    "    # def update(self, update_plus, update_minus,  dist_plus, dist_minus, syncmap_arr):\n",
    "    #     \"\"\"\n",
    "    #     Update the syncmap using a distance-weighted update rule.\n",
    "\n",
    "    #     Parameters:\n",
    "    #     update_plus (np.ndarray): The update of the activated state.\n",
    "    #     update_minus (np.ndarray): The update of the deactivated state.\n",
    "    #     dist_plus (np.ndarray): The distance of each node to the centroid of the activated state.\n",
    "    #     dist_minus (np.ndarray): The distance of each node to the centroid of the deactivated state.\n",
    "    #     syncmap_arr (np.ndarray): The current syncmap.\n",
    "\n",
    "    #     Returns:\n",
    "    #     np.ndarray: The updated syncmap.\n",
    "    #     \"\"\"\n",
    "\n",
    "    #     # Calculate the distance-weighted update\n",
    "    #     syncmap_new = syncmap_arr.copy()\n",
    "    #     update_value = self.plus_factor * update_plus / dist_plus ** 1 - update_minus / dist_minus ** 1\n",
    "    #     syncmap_new += self.adaptation_rate * update_value\n",
    "    #     # maximum = np.abs(syncmap_arr).max()\n",
    "    #     maximum = 1\n",
    "    #     return syncmap_new / maximum\n",
    "\n",
    "    # def max_move_distance_test(self, syncmap_previous, new_syncmap, vplus, vminus, center_plus, center_minus, dist_plus, dist_minus):\n",
    "    #     '''\n",
    "    #     When positive nodes come across the center, replace the position of the positive nodes with the center\n",
    "    #     '''\n",
    "    #     corresponding_center = np.zeros((self.input_size, self.dimensions))\n",
    "    #     corresponding_center[vplus] = center_plus\n",
    "    #     # corresponding_center[vminus] = center_minus\n",
    "\n",
    "    #     origl_dist = np.zeros((self.input_size))\n",
    "    #     origl_dist[vplus] = dist_plus.squeeze()[vplus]\n",
    "    #     # origl_dist[vminus] = dist_minus.squeeze()[vminus]\n",
    "\n",
    "    #     Moved_dist = ((new_syncmap - syncmap_previous) ** 2).sum(axis = -1)\n",
    "    #     Moved_dist[vminus] = 0\n",
    "\n",
    "    #     over_moved = (Moved_dist - origl_dist) > 1e-5\n",
    "    #     # if over_moved.sum() != 0:\n",
    "    #     #     print('.')\n",
    "\n",
    "    #     new_syncmap[over_moved] = corresponding_center[over_moved]\n",
    "        \n",
    "    #     # TODO: 添加有限排斥，以及排斥距离上限\n",
    "    #     return new_syncmap\n",
    "\n",
    "\n",
    "    def max_move_distance_test(self, syncmap_previous, new_syncmap, vplus, vminus, center_plus, center_minus, dist_plus, dist_minus):\n",
    "        '''\n",
    "        When positive nodes come across the center, replace the position of the positive nodes with the center\n",
    "        '''\n",
    "\n",
    "        dist_Moved = distance.cdist(center_plus[None,:], new_syncmap, 'euclidean').T\n",
    "        dist_mask = dist_Moved[vplus] < dist_plus[vplus]\n",
    "        if np.all(dist_mask) == True:\n",
    "            return new_syncmap\n",
    "        else:\n",
    "            new_syncmap[vplus] = center_plus\n",
    "            return new_syncmap\n",
    "\n",
    "\n",
    "    # def compute_update(self, syncmap_previous, vplus, vminus):\n",
    "    #     all2all_distance = self.calculate_pairwise_distances(syncmap_previous)\n",
    "    #     all_coordinate_diff = syncmap_previous[np.newaxis, :, :] - syncmap_previous[:, np.newaxis, :]  # 这个方向代表了排斥\n",
    "        \n",
    "    #     with np.errstate(divide='ignore', invalid='ignore'):\n",
    "    #         all_coordinate_diff_sin_cos = np.nan_to_num(all_coordinate_diff / all2all_distance[:, :, np.newaxis] ** 2, nan=0)  # ** 2是为了引入平方反比关系\n",
    "    #     # TODO: 平方反比太大了，用指数吧\n",
    "    #     # 在sum之前乘以系数可以为每个variable的排斥力加权； \n",
    "    #     minus_mask = (vminus[:, np.newaxis] @ vminus[np.newaxis, :])  # 防止正向对fuixiang\n",
    "    #     plus_mask  = (vplus[:, np.newaxis] @ vplus[np.newaxis, :])\n",
    "    #     dist_mask = np.broadcast_to((all2all_distance >  self.repel_range)[..., np.newaxis], (*all2all_distance.shape, self.dimensions)) # 超过这个距离的点不作用\n",
    "    #     update_minus = all_coordinate_diff_sin_cos.copy()\n",
    "    #     update_plus = -all_coordinate_diff_sin_cos.copy()  # 由于87行表明的原始方向是排斥的，所以这里是负号\n",
    "    #     update_minus[~minus_mask] = 0  # ~minus_mask: 所有含有正向的variables update全部置零\n",
    "    #     update_minus[dist_mask] = 0\n",
    "        \n",
    "    #     update_plus[~plus_mask] = 0\n",
    "\n",
    "\n",
    "    #     # mask = np.broadcast_to((all2all_distance>0.5 & vminus[:, np.newaxis])[..., np.newaxis], (all2all_distance[0], all2all_distance[1], self.dimensions) ) # N, N, D\n",
    "    #     # all_coordinate_diff_sin_cos[mask] = 0\n",
    "\n",
    "    #     # all_coordinate_diff_sin_cos = all_coordinate_diff_sin_cos.sum(axis=0)\n",
    "    #     update_minus = update_minus.sum(axis=0)\n",
    "    #     update_plus = update_plus.sum(axis=0)\n",
    "\n",
    "    #     update_minus[update_minus>20] = 20\n",
    "    #     update_minus[update_minus<-20] = -20\n",
    "\n",
    "    #     update_plus[update_plus>20] = 20\n",
    "    #     update_plus[update_plus<-20] = -20\n",
    "\n",
    "    #     # update_minus = all_coordinate_diff_sin_cos * vminus[:,np.newaxis]\n",
    "    #     # 其实在这里稍微改一下就可以把vplus也算出来\n",
    "    #     # update_plus =  - all_coordinate_diff_sin_cos * vplus[:,np.newaxis]\n",
    "    #     return self.plus_factor * update_plus, self.minus_factor * update_minus\n",
    "\n",
    "    def exp_update(self, dist, affective_range):\n",
    "        return np.exp(- dist / affective_range)\n",
    "\n",
    "    # def repel_constant_update(self, repel_constant, vplus, vminus):\n",
    "        \n",
    "\n",
    "    def compute_update(self, syncmap_previous, vplus, vminus):\n",
    "        all2all_distance = self.calculate_pairwise_distances(syncmap_previous)  # (N, N)\n",
    "        all_coordinate_diff = syncmap_previous[np.newaxis, :, :] - syncmap_previous[:, np.newaxis, :]  # 这个方向代表了排斥\n",
    "        \n",
    "        with np.errstate(divide='ignore', invalid='ignore'):\n",
    "            all_coordinate_diff_sin_cos = np.nan_to_num(all_coordinate_diff / all2all_distance[:, :, np.newaxis] ** 1, nan=0)  # ** 2是为了引入距离关系， ** 1仅仅是方向向量 （N, N, D）\n",
    "        # 在sum之前乘以系数可以为每个variable的排斥力加权； \n",
    "        minus_mask = (vminus[:, np.newaxis] @ vminus[np.newaxis, :])  # 防止正向对fuixiang\n",
    "        plus_mask  = (vplus[:, np.newaxis] @ vplus[np.newaxis, :])\n",
    "\n",
    "        update_minus = all_coordinate_diff_sin_cos.copy() * self.exp_update(\n",
    "            all2all_distance.copy()[:, :, np.newaxis], self.repel_range)\n",
    "        \n",
    "        # update_minus = all_coordinate_diff_sin_cos.copy()\n",
    "        update_plus = -all_coordinate_diff_sin_cos.copy() * (1 + self.exp_update(\n",
    "            all2all_distance.copy()[:, :, np.newaxis], self.attract_range))  # 由于87行表明的原始方向是排斥的，所以这里是负号\n",
    "\n",
    "        update_minus[~minus_mask] = 0  # ~minus_mask: 所有含有正向的variables update全部置零\n",
    "        update_plus[~plus_mask] = 0\n",
    "\n",
    "\n",
    "        # mask = np.broadcast_to((all2all_distance>0.5 & vminus[:, np.newaxis])[..., np.newaxis], (all2all_distance[0], all2all_distance[1], self.dimensions) ) # N, N, D\n",
    "        # all_coordinate_diff_sin_cos[mask] = 0\n",
    "\n",
    "        # all_coordinate_diff_sin_cos = all_coordinate_diff_sin_cos.sum(axis=0)\n",
    "        update_minus = update_minus.sum(axis=0)\n",
    "        update_plus = update_plus.sum(axis=0)\n",
    "\n",
    "        # update_minus[update_minus>20] = 20\n",
    "        # update_minus[update_minus<-20] = -20\n",
    "\n",
    "        # update_plus[update_plus>20] = 20\n",
    "        # update_plus[update_plus<-20] = -20\n",
    "\n",
    "        # update_minus = all_coordinate_diff_sin_cos * vminus[:,np.newaxis]\n",
    "        # 其实在这里稍微改一下就可以把vplus也算出来\n",
    "        # update_plus =  - all_coordinate_diff_sin_cos * vplus[:,np.newaxis]\n",
    "        return self.plus_factor * update_plus, self.minus_factor * update_minus\n",
    "\n",
    "\n",
    "\n",
    "    def one_step_organize(self, vplus, vminus):\n",
    "        syncmap_previous = self.syncmap.copy()\n",
    "        syncmap_previous += np.random.normal(-1e-5, 1e-5, syncmap_previous.shape)\n",
    "        center_plus  = self.get_center(vplus, syncmap_previous)\n",
    "        center_minus = self.get_center(vminus, syncmap_previous)\n",
    "        \n",
    "        if center_plus is None or center_minus is None:\n",
    "            return None\n",
    "\n",
    "        dist_plus= distance.cdist(center_plus[None,:], syncmap_previous, 'euclidean').T\n",
    "        dist_minus= distance.cdist(center_minus[None,:], syncmap_previous, 'euclidean').T\n",
    "        # UPDATE BY USING CENTER\n",
    "        # # abstract by center\n",
    "        # update_plus= vplus[:,np.newaxis]*((center_plus - syncmap_previous)/(dist_plus))\n",
    "        # # repel by every variable\n",
    "        # update_minus= vminus[:,np.newaxis]*((center_minus - syncmap_previous)/(dist_minus))  # the mod is 1\n",
    "        \n",
    "        # disable the update of too far nodes\n",
    "        # update_plus[dist_plus.squeeze()>0.5] = 0\n",
    "        # update_minus[dist_minus.squeeze()>0.5] = 0\n",
    "\n",
    "        # new_syncmap = self.update(update_plus, update_minus,  dist_plus, dist_minus, syncmap_previous)\n",
    "\n",
    "        # UPDATE BY USING ALL-TO-ALL\n",
    "        update_plus, update_minus = self.compute_update(syncmap_previous, vplus, vminus)\n",
    "        update_value = update_plus + update_minus  # 确实是加号\n",
    "        new_syncmap = self.syncmap.copy()\n",
    "        new_syncmap += self.adaptation_rate * update_value\n",
    "\n",
    "\n",
    "        # new_syncmap = self.max_move_distance_test(syncmap_previous, new_syncmap, vplus, vminus, center_plus, center_minus, dist_plus, dist_minus)\n",
    "\n",
    "        # new_syncmap = new_syncmap / np.abs(new_syncmap).max()\n",
    "\n",
    "        self.fit_log.append(new_syncmap)\n",
    "        return new_syncmap\n"
   ]
  },
  {
   "cell_type": "code",
   "execution_count": null,
   "metadata": {},
   "outputs": [
    {
     "name": "stdout",
     "output_type": "stream",
     "text": [
      "Adaptation rate: 0.0004\n"
     ]
    }
   ],
   "source": [
    "# initialize the environment\n",
    "time_delay = 10\n",
    "env = OverlapChunkTest1(time_delay)\n",
    "output_size = env.getOutputSize()\n",
    "output_size\n",
    "\n",
    "sequence_length = int(100000 * 3)\n",
    "# sequence_length = int(100000 * 0.8)  #  accuracy\n",
    "\n",
    "####### SyncMap #####\n",
    "number_of_nodes= output_size\n",
    "# adaptation_rate= 0.0005*output_size  # original\n",
    "adaptation_rate= 0.00005*output_size\n",
    "print(\"Adaptation rate:\", adaptation_rate)\n",
    "map_dimensions= 2\n",
    "neuron_group= NodeSyncMap(number_of_nodes, map_dimensions, adaptation_rate)\n",
    "input_sequence, input_class = env.getSequence(sequence_length)"
   ]
  },
  {
   "cell_type": "code",
   "execution_count": null,
   "metadata": {},
   "outputs": [
    {
     "name": "stderr",
     "output_type": "stream",
     "text": [
      "100%|██████████| 300000/300000 [00:10<00:00, 27491.93it/s]"
     ]
    },
    {
     "name": "stdout",
     "output_type": "stream",
     "text": [
      "Learned Labels:  [ 0  0  0  1  1  1  1 -1]\n",
      "Correct Labels:  [0 0 0 1 1 2 2 2]\n"
     ]
    },
    {
     "name": "stderr",
     "output_type": "stream",
     "text": [
      "\n"
     ]
    }
   ],
   "source": [
    "neuron_group.fit(input_sequence)\n",
    "labels= neuron_group.cluster()\n",
    "\n",
    "print(\"Learned Labels: \",labels)\n",
    "print(\"Correct Labels: \",env.trueLabel())"
   ]
  },
  {
   "cell_type": "code",
   "execution_count": null,
   "metadata": {},
   "outputs": [
    {
     "data": {
      "application/vnd.plotly.v1+json": {
       "config": {
        "plotlyServerURL": "https://plot.ly"
       },
       "data": [
        {
         "marker": {
          "color": [
           "red",
           "red",
           "red",
           "blue",
           "blue",
           "green",
           "green",
           "green"
          ]
         },
         "mode": "markers",
         "type": "scatter",
         "x": [
          0.4077547148482114,
          0.7885473154212934,
          0.45028290019934586,
          0.5263193973605268,
          0.7767598696977283,
          0.9810498242606931,
          0.8140210506706237,
          0.027454465551323626
         ],
         "y": [
          0.055760271644652463,
          0.28719852578564387,
          0.30351807380797313,
          0.6238071690932225,
          0.6862634369424302,
          0.6008037885545793,
          0.7087129733261928,
          0.904301610949261
         ]
        }
       ],
       "frames": [
        {
         "data": [
          {
           "marker": {
            "color": [
             "red",
             "red",
             "red",
             "blue",
             "blue",
             "green",
             "green",
             "green"
            ]
           },
           "mode": "markers",
           "type": "scatter",
           "x": [
            0.4077547148482114,
            0.7885473154212934,
            0.45028290019934586,
            0.5263193973605268,
            0.7767598696977283,
            0.9810498242606931,
            0.8140210506706237,
            0.027454465551323626
           ],
           "y": [
            0.055760271644652463,
            0.28719852578564387,
            0.30351807380797313,
            0.6238071690932225,
            0.6862634369424302,
            0.6008037885545793,
            0.7087129733261928,
            0.904301610949261
           ]
          }
         ],
         "name": "0"
        },
        {
         "data": [
          {
           "marker": {
            "color": [
             "red",
             "red",
             "red",
             "blue",
             "blue",
             "green",
             "green",
             "green"
            ]
           },
           "mode": "markers",
           "type": "scatter",
           "x": [
            0.40063407236965365,
            0.7767075963696242,
            0.43849854006946476,
            0.5294079963608689,
            0.7543479073916426,
            1.0078450316528393,
            0.8004040736912464,
            0.06434432010440831
           ],
           "y": [
            0.047971095610415786,
            0.2955661448585973,
            0.29323764565808924,
            0.5994576763997445,
            0.6744534793213177,
            0.6282373852992892,
            0.7261120236585772,
            0.9053303992979248
           ]
          }
         ],
         "name": "1"
        },
        {
         "data": [
          {
           "marker": {
            "color": [
             "red",
             "red",
             "red",
             "blue",
             "blue",
             "green",
             "green",
             "green"
            ]
           },
           "mode": "markers",
           "type": "scatter",
           "x": [
            0.39644620532904495,
            0.7648098774289058,
            0.43860330521472773,
            0.5340005708879921,
            0.7243639590247013,
            1.034001134478213,
            0.7833209815827261,
            0.09664350406343954
           ],
           "y": [
            0.03207450553738061,
            0.2946710222282371,
            0.29280595419730304,
            0.6076700204117189,
            0.6622968814632114,
            0.6534521425517698,
            0.7230961262549237,
            0.9042991974594106
           ]
          }
         ],
         "name": "2"
        },
        {
         "data": [
          {
           "marker": {
            "color": [
             "red",
             "red",
             "red",
             "blue",
             "blue",
             "green",
             "green",
             "green"
            ]
           },
           "mode": "markers",
           "type": "scatter",
           "x": [
            0.3975320355071568,
            0.7814876473083435,
            0.4331011354137698,
            0.5477787181875251,
            0.6540310258347435,
            1.0582092902381508,
            0.7756472979609079,
            0.12440238755914872
           ],
           "y": [
            0.04970481246176929,
            0.25091933101197705,
            0.31581468574272464,
            0.5959427859423149,
            0.6406098645351854,
            0.6746906285594542,
            0.7449125641464892,
            0.8977711777040421
           ]
          }
         ],
         "name": "3"
        },
        {
         "data": [
          {
           "marker": {
            "color": [
             "red",
             "red",
             "red",
             "blue",
             "blue",
             "green",
             "green",
             "green"
            ]
           },
           "mode": "markers",
           "type": "scatter",
           "x": [
            0.4095655784376481,
            0.8076768394321608,
            0.40702450761489745,
            0.5897718720784442,
            0.6528153922156615,
            1.0205339482933915,
            0.7657494599654812,
            0.11905193997206173
           ],
           "y": [
            0.08917739307584681,
            0.21835112591447275,
            0.2968746653781221,
            0.5816182754484249,
            0.6214766993959695,
            0.6820131562224735,
            0.7616574572856832,
            0.9191970773829605
           ]
          }
         ],
         "name": "4"
        },
        {
         "data": [
          {
           "marker": {
            "color": [
             "red",
             "red",
             "red",
             "blue",
             "blue",
             "green",
             "green",
             "green"
            ]
           },
           "mode": "markers",
           "type": "scatter",
           "x": [
            0.411418733187312,
            0.799851229038415,
            0.40384091706691727,
            0.5835363960873432,
            0.6314269967117329,
            1.0216120025915647,
            0.7645613434978586,
            0.15594191982860162
           ],
           "y": [
            0.0960244481946403,
            0.21349234820122237,
            0.28748137338376284,
            0.580254838612944,
            0.5840540385222852,
            0.6990435907292203,
            0.801358373262188,
            0.9086568391976872
           ]
          }
         ],
         "name": "5"
        },
        {
         "data": [
          {
           "marker": {
            "color": [
             "red",
             "red",
             "red",
             "blue",
             "blue",
             "green",
             "green",
             "green"
            ]
           },
           "mode": "markers",
           "type": "scatter",
           "x": [
            0.40385095021690604,
            0.7725333039626214,
            0.44143658777349104,
            0.617197791968828,
            0.6105639125563921,
            1.0046833844452676,
            0.7749846805170036,
            0.146938926569238
           ],
           "y": [
            0.06552861636527979,
            0.20023993024241363,
            0.29602097404347316,
            0.5723975237912529,
            0.5925767740850819,
            0.7081332537125954,
            0.8114655861022636,
            0.9240031917615921
           ]
          }
         ],
         "name": "6"
        },
        {
         "data": [
          {
           "marker": {
            "color": [
             "red",
             "red",
             "red",
             "blue",
             "blue",
             "green",
             "green",
             "green"
            ]
           },
           "mode": "markers",
           "type": "scatter",
           "x": [
            0.3962095528661891,
            0.7812076722936308,
            0.45967641886431504,
            0.618838376118779,
            0.6335939944941694,
            0.9941079547859519,
            0.7543918826643269,
            0.1341636859223793
           ],
           "y": [
            0.0651519934947771,
            0.1665969464854081,
            0.2942739959656804,
            0.5808447250590355,
            0.5829363329707853,
            0.712161050610934,
            0.8196989226137519,
            0.9487018829035813
           ]
          }
         ],
         "name": "7"
        },
        {
         "data": [
          {
           "marker": {
            "color": [
             "red",
             "red",
             "red",
             "blue",
             "blue",
             "green",
             "green",
             "green"
            ]
           },
           "mode": "markers",
           "type": "scatter",
           "x": [
            0.4115283637047637,
            0.7888870446623563,
            0.45216840009845627,
            0.6357552534698364,
            0.6280805371346303,
            0.9876709159537143,
            0.7329510407503299,
            0.13514798223565444
           ],
           "y": [
            0.07684750833536036,
            0.14889189782871,
            0.292721923686161,
            0.5732247315495138,
            0.5822429513629688,
            0.7154092888507338,
            0.8119824280318617,
            0.9690451204586419
           ]
          }
         ],
         "name": "8"
        },
        {
         "data": [
          {
           "marker": {
            "color": [
             "red",
             "red",
             "red",
             "blue",
             "blue",
             "green",
             "green",
             "green"
            ]
           },
           "mode": "markers",
           "type": "scatter",
           "x": [
            0.4020589865472981,
            0.8107102056273227,
            0.4462179626452636,
            0.6107653490011298,
            0.6091208584157964,
            1.0066039500133295,
            0.7259275188458356,
            0.16078470691376423
           ],
           "y": [
            0.08679112241127568,
            0.11316314751128204,
            0.29130870727014174,
            0.5768641552814966,
            0.5725831755663517,
            0.7382488134775533,
            0.8328226347637483,
            0.9585840938221011
           ]
          }
         ],
         "name": "9"
        },
        {
         "data": [
          {
           "marker": {
            "color": [
             "red",
             "red",
             "red",
             "blue",
             "blue",
             "green",
             "green",
             "green"
            ]
           },
           "mode": "markers",
           "type": "scatter",
           "x": [
            0.395676069623027,
            0.8161883301808422,
            0.4353786317563931,
            0.6173789344864582,
            0.6218011474071431,
            1.011380547640443,
            0.7004360200806251,
            0.17394985683480188
           ],
           "y": [
            0.08616366220543363,
            0.10223957866363127,
            0.27962982484200266,
            0.5818142737843948,
            0.5667886781077583,
            0.7543417789103334,
            0.8329616614785588,
            0.9664263921118422
           ]
          }
         ],
         "name": "10"
        },
        {
         "data": [
          {
           "marker": {
            "color": [
             "red",
             "red",
             "red",
             "blue",
             "blue",
             "green",
             "green",
             "green"
            ]
           },
           "mode": "markers",
           "type": "scatter",
           "x": [
            0.40637221229869175,
            0.8118345782319318,
            0.4524812243384887,
            0.6166468466047464,
            0.625574415111019,
            1.0286215417126192,
            0.6873088295979382,
            0.14334989011429583
           ],
           "y": [
            0.09713319242831757,
            0.09341238714275522,
            0.2892640142064908,
            0.5527168366719263,
            0.559929569507559,
            0.7669765802157018,
            0.8056077531615605,
            1.0053255167696429
           ]
          }
         ],
         "name": "11"
        },
        {
         "data": [
          {
           "marker": {
            "color": [
             "red",
             "red",
             "red",
             "blue",
             "blue",
             "green",
             "green",
             "green"
            ]
           },
           "mode": "markers",
           "type": "scatter",
           "x": [
            0.39971658073890826,
            0.7939782612190522,
            0.472183676131643,
            0.6101783004624558,
            0.6030030767374379,
            1.0048939741364533,
            0.7050920246522175,
            0.18314364393155932
           ],
           "y": [
            0.08062713864554857,
            0.10281674727120939,
            0.29179415066532666,
            0.5276013393703648,
            0.5393328079291562,
            0.7853779973856465,
            0.855943033790637,
            0.9868726350460607
           ]
          }
         ],
         "name": "12"
        },
        {
         "data": [
          {
           "marker": {
            "color": [
             "red",
             "red",
             "red",
             "blue",
             "blue",
             "green",
             "green",
             "green"
            ]
           },
           "mode": "markers",
           "type": "scatter",
           "x": [
            0.4042936293442545,
            0.7733317749290225,
            0.47558014982627095,
            0.5826668548072464,
            0.597943439422617,
            1.0173788302479256,
            0.6939569724169576,
            0.22703788701543484
           ],
           "y": [
            0.07136709066123287,
            0.1077946570052326,
            0.2824692413817851,
            0.5130890768260767,
            0.5541055129728828,
            0.8022949717779668,
            0.8819482669319997,
            0.9572970325467749
           ]
          }
         ],
         "name": "13"
        },
        {
         "data": [
          {
           "marker": {
            "color": [
             "red",
             "red",
             "red",
             "blue",
             "blue",
             "green",
             "green",
             "green"
            ]
           },
           "mode": "markers",
           "type": "scatter",
           "x": [
            0.3951109928783938,
            0.7458226091401869,
            0.4975896266111586,
            0.5992102538077015,
            0.5955245054357988,
            1.0030528817158835,
            0.7056641375006782,
            0.23021453091993074
           ],
           "y": [
            0.030331979125976356,
            0.12663272678071083,
            0.29745231883685425,
            0.5158359306020445,
            0.5241156941429833,
            0.8171552731267986,
            0.8879654983800184,
            0.9708764291085664
           ]
          }
         ],
         "name": "14"
        },
        {
         "data": [
          {
           "marker": {
            "color": [
             "red",
             "red",
             "red",
             "blue",
             "blue",
             "green",
             "green",
             "green"
            ]
           },
           "mode": "markers",
           "type": "scatter",
           "x": [
            0.38071740551337163,
            0.7366020292419587,
            0.4997791562992092,
            0.5976182205148557,
            0.6045822488768176,
            1.0203591019398959,
            0.6950936936191192,
            0.23743768200450585
           ],
           "y": [
            0.020728696357555948,
            0.1443324904836734,
            0.2766428954453326,
            0.5280512965554337,
            0.5182084532402149,
            0.8249793804959507,
            0.8969472315814763,
            0.9604754059443155
           ]
          }
         ],
         "name": "15"
        },
        {
         "data": [
          {
           "marker": {
            "color": [
             "red",
             "red",
             "red",
             "blue",
             "blue",
             "green",
             "green",
             "green"
            ]
           },
           "mode": "markers",
           "type": "scatter",
           "x": [
            0.3988550132125828,
            0.745266588630389,
            0.5002914123438521,
            0.6213897048347022,
            0.595227993113246,
            0.9637559795859071,
            0.7166691226796646,
            0.23073372360938782
           ],
           "y": [
            0.039756184537886284,
            0.0975860102699369,
            0.2629549315508519,
            0.5266166804524578,
            0.5276813660099773,
            0.8200047225037548,
            0.9001744961044101,
            0.9955914586746779
           ]
          }
         ],
         "name": "16"
        },
        {
         "data": [
          {
           "marker": {
            "color": [
             "red",
             "red",
             "red",
             "blue",
             "blue",
             "green",
             "green",
             "green"
            ]
           },
           "mode": "markers",
           "type": "scatter",
           "x": [
            0.4095573249388985,
            0.7687141784618485,
            0.48882777623261475,
            0.602833777777756,
            0.6185678880936353,
            0.9248398738222235,
            0.7130219209575269,
            0.2458267977252281
           ],
           "y": [
            0.05236311961313602,
            0.04498047725487759,
            0.26946203813015396,
            0.554494522580773,
            0.5366657137507286,
            0.8168376189052897,
            0.8916647728587802,
            1.0038975870102136
           ]
          }
         ],
         "name": "17"
        },
        {
         "data": [
          {
           "marker": {
            "color": [
             "red",
             "red",
             "red",
             "blue",
             "blue",
             "green",
             "green",
             "green"
            ]
           },
           "mode": "markers",
           "type": "scatter",
           "x": [
            0.4385605136003918,
            0.7584297936695057,
            0.49306774091946576,
            0.6097218119210687,
            0.6055940599702979,
            0.9291430840154132,
            0.7304909770545411,
            0.20718155685905143
           ],
           "y": [
            0.07767736243566464,
            0.03173120965181053,
            0.27354922539834864,
            0.5146367702564693,
            0.517464973559388,
            0.8196247752637519,
            0.893600489044896,
            1.0420810444936208
           ]
          }
         ],
         "name": "18"
        },
        {
         "data": [
          {
           "marker": {
            "color": [
             "red",
             "red",
             "red",
             "blue",
             "blue",
             "green",
             "green",
             "green"
            ]
           },
           "mode": "markers",
           "type": "scatter",
           "x": [
            0.44124150612576446,
            0.7467562690607932,
            0.49618697779245646,
            0.6085995167562016,
            0.602154094572125,
            0.9097830181216042,
            0.7505359249518981,
            0.21693223062889438
           ],
           "y": [
            0.04398699822959959,
            0.03412788746495815,
            0.29651397229478543,
            0.5123572856931746,
            0.48868471612567843,
            0.8388146153230381,
            0.9120427939380571,
            1.04383758103466
           ]
          }
         ],
         "name": "19"
        },
        {
         "data": [
          {
           "marker": {
            "color": [
             "red",
             "red",
             "red",
             "blue",
             "blue",
             "green",
             "green",
             "green"
            ]
           },
           "mode": "markers",
           "type": "scatter",
           "x": [
            0.44910465926435894,
            0.7370851963189063,
            0.48329607225826055,
            0.6146948736534151,
            0.615822862792152,
            0.8844039790213744,
            0.7518439217231073,
            0.23593797297816468
           ],
           "y": [
            0.04466267943990219,
            0.0538760009698635,
            0.2686116658616117,
            0.5040965599818303,
            0.48754870135765127,
            0.817230189302522,
            0.952189982801853,
            1.0421500703887205
           ]
          }
         ],
         "name": "20"
        },
        {
         "data": [
          {
           "marker": {
            "color": [
             "red",
             "red",
             "red",
             "blue",
             "blue",
             "green",
             "green",
             "green"
            ]
           },
           "mode": "markers",
           "type": "scatter",
           "x": [
            0.44881908517048963,
            0.7239847493781963,
            0.4899470974872744,
            0.6257902473266108,
            0.6034102174788943,
            0.8874320104837253,
            0.741283160234598,
            0.25152297044995064
           ],
           "y": [
            0.012822677439165672,
            0.04556344951417238,
            0.25165721309521966,
            0.5157666056766393,
            0.523809525507365,
            0.8147167015257715,
            0.9677094635824998,
            1.0383202137631238
           ]
          }
         ],
         "name": "21"
        },
        {
         "data": [
          {
           "marker": {
            "color": [
             "red",
             "red",
             "red",
             "blue",
             "blue",
             "green",
             "green",
             "green"
            ]
           },
           "mode": "markers",
           "type": "scatter",
           "x": [
            0.4636121822939732,
            0.718868322426566,
            0.4686967287590455,
            0.6178238639183992,
            0.6148440294339526,
            0.8667959925580815,
            0.7287033473800885,
            0.2928450712396316
           ],
           "y": [
            0.025356450571010197,
            0.02225577008723399,
            0.23834970154480986,
            0.514665591039914,
            0.5389740658200324,
            0.830445184590187,
            0.9813109796961736,
            1.0190081067545975
           ]
          }
         ],
         "name": "22"
        },
        {
         "data": [
          {
           "marker": {
            "color": [
             "red",
             "red",
             "red",
             "blue",
             "blue",
             "green",
             "green",
             "green"
            ]
           },
           "mode": "markers",
           "type": "scatter",
           "x": [
            0.4592670629367651,
            0.721667252721178,
            0.47423316344159244,
            0.6188341894459568,
            0.6154638343151938,
            0.9015438728894467,
            0.7115188330680144,
            0.2696613291915912
           ],
           "y": [
            0.0038433795831240344,
            0.030313306491087325,
            0.2572421755957144,
            0.5360530892739805,
            0.5299285393378951,
            0.8357052317149477,
            0.934191746195847,
            1.0430883819113623
           ]
          }
         ],
         "name": "23"
        },
        {
         "data": [
          {
           "marker": {
            "color": [
             "red",
             "red",
             "red",
             "blue",
             "blue",
             "green",
             "green",
             "green"
            ]
           },
           "mode": "markers",
           "type": "scatter",
           "x": [
            0.4614453001985345,
            0.7420935695615238,
            0.46628689155870967,
            0.6203751229862041,
            0.6164615292352824,
            0.8871374480883194,
            0.700607340517733,
            0.2777823358634339
           ],
           "y": [
            0.046385822176026555,
            0.0032925144277980833,
            0.24069700118598036,
            0.5291010772459632,
            0.5314867459690007,
            0.8043126469729719,
            0.9680735546679896,
            1.0470164874582313
           ]
          }
         ],
         "name": "24"
        },
        {
         "data": [
          {
           "marker": {
            "color": [
             "red",
             "red",
             "red",
             "blue",
             "blue",
             "green",
             "green",
             "green"
            ]
           },
           "mode": "markers",
           "type": "scatter",
           "x": [
            0.4561610900744874,
            0.7337887905158335,
            0.4735769694228248,
            0.6245126892689037,
            0.6359338402148956,
            0.8677860514007399,
            0.7135277675130539,
            0.26690233959900167
           ],
           "y": [
            0.027237194298232244,
            0.044105684721506146,
            0.2177690973606619,
            0.51369109627534,
            0.5242082119063854,
            0.7839016502062762,
            0.99009166927096,
            1.0693612460645978
           ]
          }
         ],
         "name": "25"
        },
        {
         "data": [
          {
           "marker": {
            "color": [
             "red",
             "red",
             "red",
             "blue",
             "blue",
             "green",
             "green",
             "green"
            ]
           },
           "mode": "markers",
           "type": "scatter",
           "x": [
            0.45126630037281273,
            0.7622715696304654,
            0.45895632427163763,
            0.6264809066490776,
            0.6246508626024161,
            0.8669804885023749,
            0.7018126561845448,
            0.2797704297964102
           ],
           "y": [
            0.04359486879753297,
            0.005774298718659699,
            0.2292762996908906,
            0.5184797368745486,
            0.5139278288426505,
            0.7883621809017847,
            1.0068252534612099,
            1.0641253828166761
           ]
          }
         ],
         "name": "26"
        },
        {
         "data": [
          {
           "marker": {
            "color": [
             "red",
             "red",
             "red",
             "blue",
             "blue",
             "green",
             "green",
             "green"
            ]
           },
           "mode": "markers",
           "type": "scatter",
           "x": [
            0.4538414518260795,
            0.7664399974355264,
            0.4514341245136681,
            0.6133847767227897,
            0.6055584332482162,
            0.8685014850770559,
            0.6951925356881045,
            0.31783673349829966
           ],
           "y": [
            0.04810036772179644,
            -0.012264371451533416,
            0.2047044054013722,
            0.5190881262786122,
            0.5446018759599175,
            0.8178045183483639,
            1.0092428618289213,
            1.0390880660165014
           ]
          }
         ],
         "name": "27"
        },
        {
         "data": [
          {
           "marker": {
            "color": [
             "red",
             "red",
             "red",
             "blue",
             "blue",
             "green",
             "green",
             "green"
            ]
           },
           "mode": "markers",
           "type": "scatter",
           "x": [
            0.4577441343798286,
            0.7650728580095695,
            0.4431413419129406,
            0.5979160397847599,
            0.5966922682572557,
            0.8545592290243195,
            0.7049008824068881,
            0.35216278423417585
           ],
           "y": [
            0.06617517244598094,
            -0.018038027640905906,
            0.17768108981642725,
            0.5073648168191256,
            0.5534555569846907,
            0.843565978592007,
            1.0350282779819677,
            1.005132985104659
           ]
          }
         ],
         "name": "28"
        },
        {
         "data": [
          {
           "marker": {
            "color": [
             "red",
             "red",
             "red",
             "blue",
             "blue",
             "green",
             "green",
             "green"
            ]
           },
           "mode": "markers",
           "type": "scatter",
           "x": [
            0.4602056436264505,
            0.7638339905677594,
            0.43043827842366045,
            0.5914516433265313,
            0.5892890413056431,
            0.8504179570186714,
            0.6846879057570493,
            0.4018650779839715
           ],
           "y": [
            0.06047274983783671,
            -0.009127827079933374,
            0.1833867355065127,
            0.4956627914201939,
            0.530071788050234,
            0.8696378796512698,
            1.0556942914976082,
            0.9845674412202322
           ]
          }
         ],
         "name": "29"
        },
        {
         "data": [
          {
           "marker": {
            "color": [
             "red",
             "red",
             "red",
             "blue",
             "blue",
             "green",
             "green",
             "green"
            ]
           },
           "mode": "markers",
           "type": "scatter",
           "x": [
            0.4815025230074748,
            0.7631108513479237,
            0.4082828815371832,
            0.5967023993637669,
            0.5959862248250667,
            0.826840660780212,
            0.6871063449915431,
            0.4126576521565656
           ],
           "y": [
            0.06760934311901914,
            -0.02308148056130463,
            0.17541643111797922,
            0.5102192312944052,
            0.5017286029248569,
            0.8685628247247047,
            1.071105390627098,
            0.998805506857197
           ]
          }
         ],
         "name": "30"
        },
        {
         "data": [
          {
           "marker": {
            "color": [
             "red",
             "red",
             "red",
             "blue",
             "blue",
             "green",
             "green",
             "green"
            ]
           },
           "mode": "markers",
           "type": "scatter",
           "x": [
            0.48640396135784547,
            0.763054722233502,
            0.4178992430795371,
            0.5745037928020618,
            0.5726937823533614,
            0.851647744286001,
            0.6790082561242023,
            0.42697803577322463
           ],
           "y": [
            0.07642775903182118,
            -0.038075494875811536,
            0.2000825643865625,
            0.49104730950983577,
            0.504631124566259,
            0.8895531830679071,
            1.0929980754258675,
            0.953701328991516
           ]
          }
         ],
         "name": "31"
        },
        {
         "data": [
          {
           "marker": {
            "color": [
             "red",
             "red",
             "red",
             "blue",
             "blue",
             "green",
             "green",
             "green"
            ]
           },
           "mode": "markers",
           "type": "scatter",
           "x": [
            0.47551854609284444,
            0.7677955807197344,
            0.40970206815237564,
            0.5724223797609467,
            0.5741207598480946,
            0.8870249576606203,
            0.6508142041638214,
            0.43479104161129856
           ],
           "y": [
            0.08746949727997819,
            -0.04563473690141751,
            0.17269590279297972,
            0.5112657449048387,
            0.5150726660376205,
            0.9207344078697591,
            1.0507836870359584,
            0.9579786810842394
           ]
          }
         ],
         "name": "32"
        },
        {
         "data": [
          {
           "marker": {
            "color": [
             "red",
             "red",
             "red",
             "blue",
             "blue",
             "green",
             "green",
             "green"
            ]
           },
           "mode": "markers",
           "type": "scatter",
           "x": [
            0.4675560666702647,
            0.7844399604055634,
            0.4128125949584839,
            0.5722335069750264,
            0.5724301726875919,
            0.8862701578565259,
            0.6503443015632617,
            0.4261027768930202
           ],
           "y": [
            0.08368325970719358,
            -0.057231326110103245,
            0.20958953895646756,
            0.5003505361540934,
            0.5147955038772003,
            0.9059248293943196,
            1.0618476988288268,
            0.9514058092959593
           ]
          }
         ],
         "name": "33"
        },
        {
         "data": [
          {
           "marker": {
            "color": [
             "red",
             "red",
             "red",
             "blue",
             "blue",
             "green",
             "green",
             "green"
            ]
           },
           "mode": "markers",
           "type": "scatter",
           "x": [
            0.4628694065688618,
            0.7757729452503381,
            0.4137840965887846,
            0.5904492808792322,
            0.5798656766230378,
            0.8675803856367345,
            0.6402504189944639,
            0.44161732746828936
           ],
           "y": [
            0.0611030930193529,
            -0.049851073661750366,
            0.20186188789739615,
            0.49984785981301033,
            0.5027633474444424,
            0.9075434654331402,
            1.0655962140824766,
            0.9815010560758868
           ]
          }
         ],
         "name": "34"
        },
        {
         "data": [
          {
           "marker": {
            "color": [
             "red",
             "red",
             "red",
             "blue",
             "blue",
             "green",
             "green",
             "green"
            ]
           },
           "mode": "markers",
           "type": "scatter",
           "x": [
            0.48025694263889296,
            0.7748604302347153,
            0.39261058119196346,
            0.5885516019370485,
            0.5814965967346556,
            0.8748233601421297,
            0.6445597504430635,
            0.43503027468727873
           ],
           "y": [
            0.05978653361757461,
            -0.05208617287248225,
            0.19859559828875226,
            0.48487945599327703,
            0.5354802335230774,
            0.9244641732766579,
            1.0293867937815369,
            0.9898592344955612
           ]
          }
         ],
         "name": "35"
        },
        {
         "data": [
          {
           "marker": {
            "color": [
             "red",
             "red",
             "red",
             "blue",
             "blue",
             "green",
             "green",
             "green"
            ]
           },
           "mode": "markers",
           "type": "scatter",
           "x": [
            0.4815514222471998,
            0.7560226413154334,
            0.40185834552100524,
            0.5880079906645345,
            0.586973835410366,
            0.8866736247839802,
            0.6308143577960961,
            0.4402873202711338
           ],
           "y": [
            0.043740335706480636,
            -0.04234170170657384,
            0.18409756372171482,
            0.5099842468078084,
            0.5382794022607711,
            0.9284701900485471,
            1.0180710867601959,
            0.9900647265050123
           ]
          }
         ],
         "name": "36"
        },
        {
         "data": [
          {
           "marker": {
            "color": [
             "red",
             "red",
             "red",
             "blue",
             "blue",
             "green",
             "green",
             "green"
            ]
           },
           "mode": "markers",
           "type": "scatter",
           "x": [
            0.5007712334495592,
            0.7610143218824819,
            0.37739664236420184,
            0.5943418554520529,
            0.5933084338402371,
            0.8863131078199532,
            0.6287196688855926,
            0.430324274315672
           ],
           "y": [
            0.03705685775540915,
            -0.05338942656200382,
            0.18643848933372253,
            0.5292812832212315,
            0.5317230134643708,
            0.9073640335678697,
            1.027694853936209,
            1.004196745387149
           ]
          }
         ],
         "name": "37"
        },
        {
         "data": [
          {
           "marker": {
            "color": [
             "red",
             "red",
             "red",
             "blue",
             "blue",
             "green",
             "green",
             "green"
            ]
           },
           "mode": "markers",
           "type": "scatter",
           "x": [
            0.5254567737228093,
            0.7441545479538478,
            0.3487162969369082,
            0.5899623583395645,
            0.5895565332211067,
            0.8995451365090594,
            0.630009282348332,
            0.4447886089781214
           ],
           "y": [
            0.06282606200925758,
            -0.026912077038629696,
            0.15756291885453455,
            0.4963229428507451,
            0.5150244265227164,
            0.9359577526697125,
            1.039407129942121,
            0.9901766942935079
           ]
          }
         ],
         "name": "38"
        },
        {
         "data": [
          {
           "marker": {
            "color": [
             "red",
             "red",
             "red",
             "blue",
             "blue",
             "green",
             "green",
             "green"
            ]
           },
           "mode": "markers",
           "type": "scatter",
           "x": [
            0.5244524550297289,
            0.7224404419951401,
            0.3753386271930896,
            0.5810099827001297,
            0.5903859737323514,
            0.9092652011324366,
            0.6288656404621694,
            0.44043121576470334
           ],
           "y": [
            0.056953725742532345,
            -0.020586984104185645,
            0.15760138294638254,
            0.4838542687809932,
            0.5159216393619573,
            0.9373702714527866,
            1.0618307631163992,
            0.9774207828070971
           ]
          }
         ],
         "name": "39"
        },
        {
         "data": [
          {
           "marker": {
            "color": [
             "red",
             "red",
             "red",
             "blue",
             "blue",
             "green",
             "green",
             "green"
            ]
           },
           "mode": "markers",
           "type": "scatter",
           "x": [
            0.5393578647572054,
            0.7050765182920447,
            0.38228724067947834,
            0.5880211693547804,
            0.5796804014973493,
            0.9187200484867816,
            0.6175354682879068,
            0.4415108266542045
           ],
           "y": [
            0.0361471555338354,
            -0.01811942217715897,
            0.175126435297793,
            0.496954763618235,
            0.4871455419470513,
            0.9484100204291591,
            1.0506110765659056,
            0.994090278889141
           ]
          }
         ],
         "name": "40"
        },
        {
         "data": [
          {
           "marker": {
            "color": [
             "red",
             "red",
             "red",
             "blue",
             "blue",
             "green",
             "green",
             "green"
            ]
           },
           "mode": "markers",
           "type": "scatter",
           "x": [
            0.5410735564921845,
            0.7035967796036483,
            0.38563486417830756,
            0.5807390484250794,
            0.580934458856579,
            0.930061491568425,
            0.6224304102366123,
            0.4277189286489127
           ],
           "y": [
            0.007360121444672165,
            -0.024227533317063225,
            0.18362898380845655,
            0.5128417698125317,
            0.5040647680841633,
            0.9599553097783088,
            1.019652046280115,
            1.0070903842127825
           ]
          }
         ],
         "name": "41"
        },
        {
         "data": [
          {
           "marker": {
            "color": [
             "red",
             "red",
             "red",
             "blue",
             "blue",
             "green",
             "green",
             "green"
            ]
           },
           "mode": "markers",
           "type": "scatter",
           "x": [
            0.5340574385130774,
            0.6938376594128834,
            0.39906542906718145,
            0.5896878016828224,
            0.5886914259503391,
            0.9146332069694684,
            0.640417116016166,
            0.41179946039780924
           ],
           "y": [
            -0.015173627131938016,
            -0.009559558677481112,
            0.17457221098560938,
            0.512462215732142,
            0.5117686669984068,
            0.947188034198114,
            1.0300638987258568,
            1.0190440092732527
           ]
          }
         ],
         "name": "42"
        },
        {
         "data": [
          {
           "marker": {
            "color": [
             "red",
             "red",
             "red",
             "blue",
             "blue",
             "green",
             "green",
             "green"
            ]
           },
           "mode": "markers",
           "type": "scatter",
           "x": [
            0.530458517725981,
            0.6927758065321521,
            0.4037118056539423,
            0.5936740892592082,
            0.5928021758289201,
            0.9064963807000886,
            0.653503565505591,
            0.39876719680386513
           ],
           "y": [
            -0.029713535467719536,
            -0.00320551354442535,
            0.1749689173872149,
            0.5239574691956376,
            0.5163692772962911,
            0.933629548416575,
            1.036626612433451,
            1.0177330743869453
           ]
          }
         ],
         "name": "43"
        },
        {
         "data": [
          {
           "marker": {
            "color": [
             "red",
             "red",
             "red",
             "blue",
             "blue",
             "green",
             "green",
             "green"
            ]
           },
           "mode": "markers",
           "type": "scatter",
           "x": [
            0.5344845468312346,
            0.7049536167494946,
            0.37730788429293394,
            0.5934227146677721,
            0.583212034319585,
            0.9046103455115484,
            0.67615802433844,
            0.39804037129873804
           ],
           "y": [
            -0.042118713228510817,
            0.0008142138857574742,
            0.18358278646747064,
            0.5504928657130022,
            0.5093800784304533,
            0.9452777484032224,
            1.0383705690529552,
            0.9845663013796168
           ]
          }
         ],
         "name": "44"
        },
        {
         "data": [
          {
           "marker": {
            "color": [
             "red",
             "red",
             "red",
             "blue",
             "blue",
             "green",
             "green",
             "green"
            ]
           },
           "mode": "markers",
           "type": "scatter",
           "x": [
            0.5327609264037491,
            0.7139620398095158,
            0.36153641475645215,
            0.5943951713070262,
            0.5954854448227653,
            0.8817405698744383,
            0.6789320702763019,
            0.41337690075950184
           ],
           "y": [
            -0.023752072225054273,
            -0.025373852243753353,
            0.16670938274555816,
            0.5379818512320843,
            0.5429999610417738,
            0.9346814180347311,
            1.0600481948290745,
            0.977070966689547
           ]
          }
         ],
         "name": "45"
        },
        {
         "data": [
          {
           "marker": {
            "color": [
             "red",
             "red",
             "red",
             "blue",
             "blue",
             "green",
             "green",
             "green"
            ]
           },
           "mode": "markers",
           "type": "scatter",
           "x": [
            0.5322596763230651,
            0.7019971470605947,
            0.36634132344542325,
            0.5960412575051461,
            0.5905478548554742,
            0.8951146520955513,
            0.6748394884808718,
            0.4150481382436219
           ],
           "y": [
            3.273641602088279e-05,
            -0.02525498158463067,
            0.13424237844026646,
            0.5210612283540416,
            0.5702347251196446,
            0.9620402478175137,
            1.025909273097626,
            0.9821002424434785
           ]
          }
         ],
         "name": "46"
        },
        {
         "data": [
          {
           "marker": {
            "color": [
             "red",
             "red",
             "red",
             "blue",
             "blue",
             "green",
             "green",
             "green"
            ]
           },
           "mode": "markers",
           "type": "scatter",
           "x": [
            0.5428956850249793,
            0.7154542284536983,
            0.35094724701941166,
            0.5835381080637098,
            0.5796873210088459,
            0.9170421435856863,
            0.6585083726223916,
            0.42411643223102763
           ],
           "y": [
            0.004224207917250804,
            -0.04088801650718493,
            0.16770470664078227,
            0.5252146486039733,
            0.5383005302415825,
            0.9782969571989121,
            1.0275136732228325,
            0.9699991427858082
           ]
          }
         ],
         "name": "47"
        },
        {
         "data": [
          {
           "marker": {
            "color": [
             "red",
             "red",
             "red",
             "blue",
             "blue",
             "green",
             "green",
             "green"
            ]
           },
           "mode": "markers",
           "type": "scatter",
           "x": [
            0.5660501913443844,
            0.7196577405161312,
            0.3263787366163948,
            0.5861561801114384,
            0.5868104937393924,
            0.9040304338312078,
            0.6714446592080645,
            0.41166110264273553
           ],
           "y": [
            0.015031994047544267,
            -0.05833833032443994,
            0.17715960502377054,
            0.5286621042066442,
            0.543186945373942,
            0.9635506872377771,
            1.029699564336468,
            0.9714132802022499
           ]
          }
         ],
         "name": "48"
        },
        {
         "data": [
          {
           "marker": {
            "color": [
             "red",
             "red",
             "red",
             "blue",
             "blue",
             "green",
             "green",
             "green"
            ]
           },
           "mode": "markers",
           "type": "scatter",
           "x": [
            0.5651034301228536,
            0.7210470717633785,
            0.32491213288301046,
            0.5932346211858236,
            0.5884433735275494,
            0.8715250449240663,
            0.7039840651576106,
            0.40393979844545447
           ],
           "y": [
            0.021843636937412262,
            -0.048087902039277756,
            0.1727580618264094,
            0.5350604345362591,
            0.5176462027966736,
            0.9466751583384387,
            1.0508966252016902,
            0.9735736325063444
           ]
          }
         ],
         "name": "49"
        },
        {
         "data": [
          {
           "marker": {
            "color": [
             "red",
             "red",
             "red",
             "blue",
             "blue",
             "green",
             "green",
             "green"
            ]
           },
           "mode": "markers",
           "type": "scatter",
           "x": [
            0.5532676091700284,
            0.7431271306957676,
            0.34303026832306227,
            0.5725502965626728,
            0.5763832092627901,
            0.8713700667357587,
            0.7099643236424655,
            0.40249663361719973
           ],
           "y": [
            0.03482009857866035,
            -0.0921006780789342,
            0.20439369424064394,
            0.5186454940266824,
            0.5207432006010899,
            0.9458923638834258,
            1.0729585209425796,
            0.9650131559097995
           ]
          }
         ],
         "name": "50"
        },
        {
         "data": [
          {
           "marker": {
            "color": [
             "red",
             "red",
             "red",
             "blue",
             "blue",
             "green",
             "green",
             "green"
            ]
           },
           "mode": "markers",
           "type": "scatter",
           "x": [
            0.5592430554450681,
            0.7370935717953327,
            0.3307849612448992,
            0.5845437840961255,
            0.5796793320547635,
            0.8483953358957612,
            0.7175778736326721,
            0.41487162384511944
           ],
           "y": [
            0.038063193874956824,
            -0.09397874513585751,
            0.19081617701021383,
            0.5294784727024713,
            0.5406094596229383,
            0.938546913635731,
            1.082953424444457,
            0.9438769539490365
           ]
          }
         ],
         "name": "51"
        },
        {
         "data": [
          {
           "marker": {
            "color": [
             "red",
             "red",
             "red",
             "blue",
             "blue",
             "green",
             "green",
             "green"
            ]
           },
           "mode": "markers",
           "type": "scatter",
           "x": [
            0.55572469813448,
            0.7410220192899427,
            0.3397336395450811,
            0.5851598777483306,
            0.5833512931755153,
            0.8325936105622724,
            0.7278038159760282,
            0.4068005835780922
           ],
           "y": [
            0.05047884515951636,
            -0.1010678818097874,
            0.18675004826803565,
            0.5152931699206091,
            0.5485892325820393,
            0.9045653225381233,
            1.1088590969615688,
            0.9568980164838362
           ]
          }
         ],
         "name": "52"
        },
        {
         "data": [
          {
           "marker": {
            "color": [
             "red",
             "red",
             "red",
             "blue",
             "blue",
             "green",
             "green",
             "green"
            ]
           },
           "mode": "markers",
           "type": "scatter",
           "x": [
            0.5542151343816231,
            0.7488008453597614,
            0.32608733217071634,
            0.5913598772317539,
            0.5971090613343188,
            0.8242038046306281,
            0.7278464256351826,
            0.40256705726575504
           ],
           "y": [
            0.07266554651876198,
            -0.10609506461126898,
            0.18150792273441402,
            0.5438845392070392,
            0.5263753984394627,
            0.8789570999469308,
            1.117476847771551,
            0.9555935600970465
           ]
          }
         ],
         "name": "53"
        },
        {
         "data": [
          {
           "marker": {
            "color": [
             "red",
             "red",
             "red",
             "blue",
             "blue",
             "green",
             "green",
             "green"
            ]
           },
           "mode": "markers",
           "type": "scatter",
           "x": [
            0.5726219584475826,
            0.7250194256574064,
            0.3305849210153597,
            0.6046284590046661,
            0.6053630473755949,
            0.8080952820783228,
            0.7423120480579243,
            0.38356439637288114
           ],
           "y": [
            0.049722674512991664,
            -0.08315212535061495,
            0.17336970357039372,
            0.5447600789787734,
            0.5276265512600764,
            0.8548166720613581,
            1.132396472023694,
            0.9708258230472638
           ]
          }
         ],
         "name": "54"
        },
        {
         "data": [
          {
           "marker": {
            "color": [
             "red",
             "red",
             "red",
             "blue",
             "blue",
             "green",
             "green",
             "green"
            ]
           },
           "mode": "markers",
           "type": "scatter",
           "x": [
            0.5652178501372046,
            0.7219957247876895,
            0.3442549542746125,
            0.6079766898322316,
            0.6148764210317986,
            0.7929190136286056,
            0.7423963784607351,
            0.3825525058568615
           ],
           "y": [
            0.03783892418830245,
            -0.07719649910486533,
            0.1566529232413552,
            0.5536755001556027,
            0.5410154442654329,
            0.8482007591026118,
            1.111929371851464,
            0.9982494264040326
           ]
          }
         ],
         "name": "55"
        },
        {
         "data": [
          {
           "marker": {
            "color": [
             "red",
             "red",
             "red",
             "blue",
             "blue",
             "green",
             "green",
             "green"
            ]
           },
           "mode": "markers",
           "type": "scatter",
           "x": [
            0.5473466910792611,
            0.725648808563341,
            0.36966837755688287,
            0.6116239614049553,
            0.6128476851471322,
            0.788304311898493,
            0.7337484423799913,
            0.3830012599796817
           ],
           "y": [
            0.014682082758585116,
            -0.08887291842355627,
            0.16618286976393826,
            0.5818102316400063,
            0.5554964015563565,
            0.8534036476605159,
            1.077379384040343,
            1.0102841511077487
           ]
          }
         ],
         "name": "56"
        },
        {
         "data": [
          {
           "marker": {
            "color": [
             "red",
             "red",
             "red",
             "blue",
             "blue",
             "green",
             "green",
             "green"
            ]
           },
           "mode": "markers",
           "type": "scatter",
           "x": [
            0.5622875949414134,
            0.7343876136505693,
            0.3547752869929459,
            0.6133475045029224,
            0.6153677936663096,
            0.788176402436869,
            0.7265408164281306,
            0.37730652539057946
           ],
           "y": [
            0.05936258295422836,
            -0.10481068468868854,
            0.16196938721505935,
            0.5339336654250475,
            0.558337104910276,
            0.8603056692104412,
            1.0556236537051438,
            1.0456444713724329
           ]
          }
         ],
         "name": "57"
        },
        {
         "data": [
          {
           "marker": {
            "color": [
             "red",
             "red",
             "red",
             "blue",
             "blue",
             "green",
             "green",
             "green"
            ]
           },
           "mode": "markers",
           "type": "scatter",
           "x": [
            0.5667092081605092,
            0.7120714101442979,
            0.3744334400807815,
            0.6157386381883663,
            0.6141992786762532,
            0.7899785562878572,
            0.7203665911220111,
            0.37869241534966247
           ],
           "y": [
            0.02257197030289057,
            -0.08737635946988821,
            0.14398886101102484,
            0.576006047651488,
            0.5589376133100012,
            0.8597436312556037,
            1.0374175271232153,
            1.059076558919603
           ]
          }
         ],
         "name": "58"
        },
        {
         "data": [
          {
           "marker": {
            "color": [
             "red",
             "red",
             "red",
             "blue",
             "blue",
             "green",
             "green",
             "green"
            ]
           },
           "mode": "markers",
           "type": "scatter",
           "x": [
            0.5642665676577864,
            0.7096847334862515,
            0.37273822354276,
            0.5891428830996478,
            0.6105033501672692,
            0.7944300819362583,
            0.7299377681065871,
            0.4014859300131804
           ],
           "y": [
            0.0049584862007109615,
            -0.08975629046479705,
            0.14132488332608484,
            0.5736301751505604,
            0.5798910312100521,
            0.8879920559407807,
            1.060048622381293,
            1.0122768863592502
           ]
          }
         ],
         "name": "59"
        },
        {
         "data": [
          {
           "marker": {
            "color": [
             "red",
             "red",
             "red",
             "blue",
             "blue",
             "green",
             "green",
             "green"
            ]
           },
           "mode": "markers",
           "type": "scatter",
           "x": [
            0.5785170789223107,
            0.7081962233176086,
            0.34743039226597194,
            0.6003332256403093,
            0.5963874293024958,
            0.816410926439031,
            0.7125379634959992,
            0.4123762986260145
           ],
           "y": [
            -7.447778539087472e-05,
            -0.07967760955716079,
            0.13686740587896407,
            0.6000756379695071,
            0.5645053429207214,
            0.9186188202060716,
            1.0299353148513648,
            1.0001154156198597
           ]
          }
         ],
         "name": "60"
        },
        {
         "data": [
          {
           "marker": {
            "color": [
             "red",
             "red",
             "red",
             "blue",
             "blue",
             "green",
             "green",
             "green"
            ]
           },
           "mode": "markers",
           "type": "scatter",
           "x": [
            0.580333603292342,
            0.6983216719163425,
            0.35811568009003364,
            0.5962582677796924,
            0.5964194730246124,
            0.8342696330410059,
            0.6947335120254321,
            0.41373769684028194
           ],
           "y": [
            -0.014821563733694294,
            -0.05285750294515316,
            0.14769790052348514,
            0.5795314218401418,
            0.5594456216214005,
            0.9241141401327345,
            1.019646749924932,
            1.0076090827400952
           ]
          }
         ],
         "name": "61"
        },
        {
         "data": [
          {
           "marker": {
            "color": [
             "red",
             "red",
             "red",
             "blue",
             "blue",
             "green",
             "green",
             "green"
            ]
           },
           "mode": "markers",
           "type": "scatter",
           "x": [
            0.575402406547856,
            0.697996358602678,
            0.3620062091554117,
            0.6116495267931154,
            0.6029440159707702,
            0.805938778771981,
            0.7215580427101151,
            0.3946941994578166
           ],
           "y": [
            -0.02899657506521195,
            -0.03200896150635033,
            0.14398088143684154,
            0.5724848033482656,
            0.5810394160689657,
            0.8904173413747571,
            1.0283995484764665,
            1.0150493959702034
           ]
          }
         ],
         "name": "62"
        },
        {
         "data": [
          {
           "marker": {
            "color": [
             "red",
             "red",
             "red",
             "blue",
             "blue",
             "green",
             "green",
             "green"
            ]
           },
           "mode": "markers",
           "type": "scatter",
           "x": [
            0.5743370203961083,
            0.6945630589998492,
            0.36611847592043983,
            0.5993128937749421,
            0.5949954146241024,
            0.828733698566028,
            0.7105348317512901,
            0.4035941439769814
           ],
           "y": [
            -0.027979130628587544,
            -0.03774024633405311,
            0.14545262014961433,
            0.5770801944715244,
            0.5829828420432118,
            0.886788640380463,
            1.054605375211075,
            0.9891755548106925
           ]
          }
         ],
         "name": "63"
        },
        {
         "data": [
          {
           "marker": {
            "color": [
             "red",
             "red",
             "red",
             "blue",
             "blue",
             "green",
             "green",
             "green"
            ]
           },
           "mode": "markers",
           "type": "scatter",
           "x": [
            0.5581423581716766,
            0.6945281083655914,
            0.39239796864673604,
            0.5876997689526017,
            0.5968474724981144,
            0.8275293257983387,
            0.7157377612867697,
            0.399306774289915
           ],
           "y": [
            -0.03987514974183498,
            -0.04811393519291881,
            0.14996639603029785,
            0.5828996779767744,
            0.5849275974587234,
            0.8866520263388932,
            1.0647956447542148,
            0.989113592479791
           ]
          }
         ],
         "name": "64"
        },
        {
         "data": [
          {
           "marker": {
            "color": [
             "red",
             "red",
             "red",
             "blue",
             "blue",
             "green",
             "green",
             "green"
            ]
           },
           "mode": "markers",
           "type": "scatter",
           "x": [
            0.5459811169580534,
            0.7146153672398888,
            0.39332298590138254,
            0.6004316668792181,
            0.5795982694232309,
            0.8317304117607519,
            0.7066233271820304,
            0.39988639266518616
           ],
           "y": [
            -0.037508060588809296,
            -0.05899354340405165,
            0.16835791881767032,
            0.6051070323160039,
            0.5551052696837633,
            0.8792685922674229,
            1.0625562563191955,
            0.996472384692745
           ]
          }
         ],
         "name": "65"
        },
        {
         "data": [
          {
           "marker": {
            "color": [
             "red",
             "red",
             "red",
             "blue",
             "blue",
             "green",
             "green",
             "green"
            ]
           },
           "mode": "markers",
           "type": "scatter",
           "x": [
            0.5251816925688109,
            0.7292072362777445,
            0.40122734333826904,
            0.5955131091709281,
            0.5714766480191324,
            0.8463466894863386,
            0.6770734255594039,
            0.4261633935891149
           ],
           "y": [
            -0.013679168952433644,
            -0.060111575517279775,
            0.16416658894469058,
            0.570003813813972,
            0.5484960986125458,
            0.8805818835762454,
            1.078427587411516,
            1.002480622214686
           ]
          }
         ],
         "name": "66"
        },
        {
         "data": [
          {
           "marker": {
            "color": [
             "red",
             "red",
             "red",
             "blue",
             "blue",
             "green",
             "green",
             "green"
            ]
           },
           "mode": "markers",
           "type": "scatter",
           "x": [
            0.5080915264294916,
            0.7457952173573617,
            0.41112082685381707,
            0.5823414004780514,
            0.5768256995904987,
            0.8515889725049735,
            0.6694031667695471,
            0.427022728026003
           ],
           "y": [
            -0.008403188835931977,
            -0.06040707791136354,
            0.1856853970586037,
            0.5574656252064862,
            0.5379273533819807,
            0.8851114696031367,
            1.061905737261767,
            1.011080534339264
           ]
          }
         ],
         "name": "67"
        },
        {
         "data": [
          {
           "marker": {
            "color": [
             "red",
             "red",
             "red",
             "blue",
             "blue",
             "green",
             "green",
             "green"
            ]
           },
           "mode": "markers",
           "type": "scatter",
           "x": [
            0.49513151872934175,
            0.7640614621794903,
            0.40776378018817006,
            0.5790903897503906,
            0.5839590955652405,
            0.8371785341792919,
            0.6730079292859155,
            0.4319968281319074
           ],
           "y": [
            0.012597634378744563,
            -0.07662678054148447,
            0.17822307951272776,
            0.5513455693948597,
            0.5470768597510632,
            0.8866695151027717,
            1.0530980339792269,
            1.0179819385260274
           ]
          }
         ],
         "name": "68"
        },
        {
         "data": [
          {
           "marker": {
            "color": [
             "red",
             "red",
             "red",
             "blue",
             "blue",
             "green",
             "green",
             "green"
            ]
           },
           "mode": "markers",
           "type": "scatter",
           "x": [
            0.4893940806140566,
            0.7866090599510206,
            0.39999741345798867,
            0.5812918464621432,
            0.5724589663604753,
            0.8253275002784735,
            0.6606245802902162,
            0.4564860905953748
           ],
           "y": [
            0.005211648522121829,
            -0.11386680236185241,
            0.19924415957264813,
            0.5606617558584426,
            0.5628806287584357,
            0.9157364874474293,
            1.0198287676840143,
            1.020669204622699
           ]
          }
         ],
         "name": "69"
        },
        {
         "data": [
          {
           "marker": {
            "color": [
             "red",
             "red",
             "red",
             "blue",
             "blue",
             "green",
             "green",
             "green"
            ]
           },
           "mode": "markers",
           "type": "scatter",
           "x": [
            0.48411892139146634,
            0.77456591860458,
            0.41323446403304026,
            0.5836698908483565,
            0.5786423630679033,
            0.8033642019572623,
            0.6546905254794071,
            0.479903252627736
           ],
           "y": [
            -0.014874309698261638,
            -0.10634725850648628,
            0.1907654672191792,
            0.5703091091904625,
            0.563692565948015,
            0.9138128097125047,
            1.0331986529872734,
            1.0198088132512488
           ]
          }
         ],
         "name": "70"
        },
        {
         "data": [
          {
           "marker": {
            "color": [
             "red",
             "red",
             "red",
             "blue",
             "blue",
             "green",
             "green",
             "green"
            ]
           },
           "mode": "markers",
           "type": "scatter",
           "x": [
            0.5013522415908921,
            0.7619371137664168,
            0.40713232508834,
            0.5839617540219926,
            0.576917542897308,
            0.7903023957845091,
            0.6697378642942005,
            0.48084830056609407
           ],
           "y": [
            -0.016871073483228645,
            -0.1021314967206031,
            0.19152156625507005,
            0.5681555114145368,
            0.5487495013816488,
            0.918878628355403,
            1.0460537900363736,
            1.0160094228647283
           ]
          }
         ],
         "name": "71"
        },
        {
         "data": [
          {
           "marker": {
            "color": [
             "red",
             "red",
             "red",
             "blue",
             "blue",
             "green",
             "green",
             "green"
            ]
           },
           "mode": "markers",
           "type": "scatter",
           "x": [
            0.497497226127546,
            0.7667338046649579,
            0.4008367646360132,
            0.5835570121613558,
            0.5854189486804257,
            0.7842166047894226,
            0.6695574201228424,
            0.4843717568271866
           ],
           "y": [
            -0.005625609247419365,
            -0.09462265293084204,
            0.18610028252334826,
            0.5559485695848628,
            0.549367921864616,
            0.9209135094566986,
            1.0440430205684432,
            1.014240808284225
           ]
          }
         ],
         "name": "72"
        },
        {
         "data": [
          {
           "marker": {
            "color": [
             "red",
             "red",
             "red",
             "blue",
             "blue",
             "green",
             "green",
             "green"
            ]
           },
           "mode": "markers",
           "type": "scatter",
           "x": [
            0.4967921893371031,
            0.7739622393569515,
            0.39500219563974803,
            0.5896633665273947,
            0.5884398904099046,
            0.7754389931673447,
            0.6661356858695436,
            0.48675497770175996
           ],
           "y": [
            -0.0018954232794638809,
            -0.11228783750435584,
            0.17091197746842895,
            0.5595992090303821,
            0.5622452063310044,
            0.9428243674614013,
            0.9844977252672593,
            1.0644706253292722
           ]
          }
         ],
         "name": "73"
        },
        {
         "data": [
          {
           "marker": {
            "color": [
             "red",
             "red",
             "red",
             "blue",
             "blue",
             "green",
             "green",
             "green"
            ]
           },
           "mode": "markers",
           "type": "scatter",
           "x": [
            0.49567897050685183,
            0.7733706832126633,
            0.3862502947736192,
            0.5951253727692104,
            0.5947112736585397,
            0.7626901784561939,
            0.6797789284275286,
            0.48458383620514345
           ],
           "y": [
            -0.043773617562045855,
            -0.08481725395618737,
            0.1850130985805822,
            0.5467501683933839,
            0.56121757149619,
            0.9512653571449005,
            0.9727806756627424,
            1.0819298503443613
           ]
          }
         ],
         "name": "74"
        },
        {
         "data": [
          {
           "marker": {
            "color": [
             "red",
             "red",
             "red",
             "blue",
             "blue",
             "green",
             "green",
             "green"
            ]
           },
           "mode": "markers",
           "type": "scatter",
           "x": [
            0.5092178447376052,
            0.76857744602978,
            0.3704647864540451,
            0.601937592797257,
            0.6004614754749117,
            0.7803343549224698,
            0.6600767584593656,
            0.4811192791343185
           ],
           "y": [
            -0.020445887847501672,
            -0.0845350904719548,
            0.17123862153855576,
            0.531470641562532,
            0.5531859863846156,
            0.9507494830689271,
            0.9755106040607958,
            1.093191491807953
           ]
          }
         ],
         "name": "75"
        },
        {
         "data": [
          {
           "marker": {
            "color": [
             "red",
             "red",
             "red",
             "blue",
             "blue",
             "green",
             "green",
             "green"
            ]
           },
           "mode": "markers",
           "type": "scatter",
           "x": [
            0.507227165018013,
            0.7646335433790871,
            0.37076057922784816,
            0.6083905250756562,
            0.6038716153218241,
            0.782476591528114,
            0.6649540149386918,
            0.46987550352051716
           ],
           "y": [
            -0.02273602839403504,
            -0.06067268686992376,
            0.16279153990652248,
            0.5358643404436185,
            0.5418179309270115,
            0.9352516047050046,
            0.9636545251179693,
            1.1143946242677536
           ]
          }
         ],
         "name": "76"
        },
        {
         "data": [
          {
           "marker": {
            "color": [
             "red",
             "red",
             "red",
             "blue",
             "blue",
             "green",
             "green",
             "green"
            ]
           },
           "mode": "markers",
           "type": "scatter",
           "x": [
            0.5079183713423595,
            0.7614898968913834,
            0.3663426866393252,
            0.6111253425251064,
            0.6104293283511245,
            0.7936762940762725,
            0.6650682226195582,
            0.4561393955646184
           ],
           "y": [
            -0.02620437066189755,
            -0.04843799471156646,
            0.1579798048529562,
            0.5484799403722177,
            0.5251933244516865,
            0.909934072785728,
            0.9844397465913789,
            1.1189813264234199
           ]
          }
         ],
         "name": "77"
        },
        {
         "data": [
          {
           "marker": {
            "color": [
             "red",
             "red",
             "red",
             "blue",
             "blue",
             "green",
             "green",
             "green"
            ]
           },
           "mode": "markers",
           "type": "scatter",
           "x": [
            0.5069443538164792,
            0.7646578241846951,
            0.37010905915031334,
            0.6079724169502884,
            0.6080209464603947,
            0.7933044314802055,
            0.6691099233826296,
            0.45207058258474375
           ],
           "y": [
            -0.014256850829826816,
            -0.05534011596937487,
            0.15402759118260054,
            0.5240045519692268,
            0.5241973032868847,
            0.8985483605768267,
            1.0109117739172042,
            1.1282732359703793
           ]
          }
         ],
         "name": "78"
        },
        {
         "data": [
          {
           "marker": {
            "color": [
             "red",
             "red",
             "red",
             "blue",
             "blue",
             "green",
             "green",
             "green"
            ]
           },
           "mode": "markers",
           "type": "scatter",
           "x": [
            0.49845045134987603,
            0.7674568190249856,
            0.38595484286781157,
            0.6193289901029312,
            0.6161268738760881,
            0.775287362920155,
            0.6722509552454206,
            0.4373332426224805
           ],
           "y": [
            -0.02769131585785681,
            -0.0628434185564575,
            0.1658716946827223,
            0.5479988354791161,
            0.528659990614967,
            0.871322596777342,
            0.9726028384651048,
            1.1744446284989822
           ]
          }
         ],
         "name": "79"
        },
        {
         "data": [
          {
           "marker": {
            "color": [
             "red",
             "red",
             "red",
             "blue",
             "blue",
             "green",
             "green",
             "green"
            ]
           },
           "mode": "markers",
           "type": "scatter",
           "x": [
            0.496698154831561,
            0.7522058418571358,
            0.4027831707977411,
            0.6272070094329923,
            0.6231433437414706,
            0.7674894843355842,
            0.6636995224613617,
            0.4389630105519051
           ],
           "y": [
            -0.009566085078858564,
            -0.06247389423677788,
            0.13673287204281936,
            0.5485237842591926,
            0.533239217041314,
            0.8345363901518463,
            1.004239912433699,
            1.1851336534906884
           ]
          }
         ],
         "name": "80"
        },
        {
         "data": [
          {
           "marker": {
            "color": [
             "red",
             "red",
             "red",
             "blue",
             "blue",
             "green",
             "green",
             "green"
            ]
           },
           "mode": "markers",
           "type": "scatter",
           "x": [
            0.5174864202869298,
            0.7491454260830771,
            0.38376951148027827,
            0.6234575529527915,
            0.6282759430359324,
            0.7555935267360155,
            0.6651704697825196,
            0.44929068765220587
           ],
           "y": [
            -0.03232652954873833,
            -0.05249715261945242,
            0.14807778505629188,
            0.5438375390365189,
            0.5517655407585492,
            0.8278619975552431,
            1.0089184581662,
            1.1747282116993132
           ]
          }
         ],
         "name": "81"
        },
        {
         "data": [
          {
           "marker": {
            "color": [
             "red",
             "red",
             "red",
             "blue",
             "blue",
             "green",
             "green",
             "green"
            ]
           },
           "mode": "markers",
           "type": "scatter",
           "x": [
            0.5080330659280998,
            0.7631561073120791,
            0.389104049091244,
            0.6180694391572773,
            0.6221181879901034,
            0.7490768166810339,
            0.6629227156008276,
            0.4597091562490858
           ],
           "y": [
            -0.04026841610715979,
            -0.06776621290555337,
            0.1610017995530888,
            0.5524233896691808,
            0.551866283219234,
            0.836506017354435,
            1.0115467829837328,
            1.16505620633697
           ]
          }
         ],
         "name": "82"
        },
        {
         "data": [
          {
           "marker": {
            "color": [
             "red",
             "red",
             "red",
             "blue",
             "blue",
             "green",
             "green",
             "green"
            ]
           },
           "mode": "markers",
           "type": "scatter",
           "x": [
            0.4850372814035812,
            0.7834806263070597,
            0.411106035857065,
            0.6034135009651641,
            0.6174501022762325,
            0.7321705381776424,
            0.6737993754603946,
            0.465732077562608
           ],
           "y": [
            -0.03466672394102441,
            -0.07128903174651674,
            0.18504058021366163,
            0.5154794792783192,
            0.5535799165595365,
            0.8306100074281277,
            1.037708034986234,
            1.153903587325587
           ]
          }
         ],
         "name": "83"
        },
        {
         "data": [
          {
           "marker": {
            "color": [
             "red",
             "red",
             "red",
             "blue",
             "blue",
             "green",
             "green",
             "green"
            ]
           },
           "mode": "markers",
           "type": "scatter",
           "x": [
            0.48308932692619105,
            0.7990918178581576,
            0.40120299613402827,
            0.6124744748609818,
            0.6122713776692366,
            0.7268377946165333,
            0.6866776708030496,
            0.45054407914156847
           ],
           "y": [
            0.00042059098872534534,
            -0.09334178694123536,
            0.1743661093804972,
            0.5339084713673602,
            0.5329452644443634,
            0.8043118871121719,
            1.0523322166857272,
            1.1654230970663197
           ]
          }
         ],
         "name": "84"
        },
        {
         "data": [
          {
           "marker": {
            "color": [
             "red",
             "red",
             "red",
             "blue",
             "blue",
             "green",
             "green",
             "green"
            ]
           },
           "mode": "markers",
           "type": "scatter",
           "x": [
            0.4938323848846462,
            0.7890683121198285,
            0.3852825582072212,
            0.6157405173218382,
            0.6166196007496599,
            0.7211847447934209,
            0.6912977854888407,
            0.45916363444428837
           ],
           "y": [
            -0.01304972739676417,
            -0.07541176277109837,
            0.15626008341244135,
            0.5480658866886887,
            0.5197357569324967,
            0.8143357483783417,
            1.065272150372699,
            1.1551577144871243
           ]
          }
         ],
         "name": "85"
        },
        {
         "data": [
          {
           "marker": {
            "color": [
             "red",
             "red",
             "red",
             "blue",
             "blue",
             "green",
             "green",
             "green"
            ]
           },
           "mode": "markers",
           "type": "scatter",
           "x": [
            0.4975910346361571,
            0.7854900152896365,
            0.3868427031242782,
            0.6150376024532211,
            0.6239260711557764,
            0.7125912716166096,
            0.7001290496875457,
            0.45058179004651727
           ],
           "y": [
            0.0013432945202197083,
            -0.07763201015506006,
            0.1424462497721989,
            0.5250336326399192,
            0.5420215740040277,
            0.8372008330863591,
            1.0190644842627756,
            1.1808877919734913
           ]
          }
         ],
         "name": "86"
        },
        {
         "data": [
          {
           "marker": {
            "color": [
             "red",
             "red",
             "red",
             "blue",
             "blue",
             "green",
             "green",
             "green"
            ]
           },
           "mode": "markers",
           "type": "scatter",
           "x": [
            0.5078002175574436,
            0.7742911615655081,
            0.3927095612608401,
            0.6224729409429599,
            0.6176699194846127,
            0.6991010416355594,
            0.7133485108082019,
            0.44479618475462
           ],
           "y": [
            0.0006247799634969356,
            -0.06113996473127768,
            0.14864402097195395,
            0.5292203768418263,
            0.5134830282123637,
            0.7977912043657015,
            1.0466092346907916,
            1.1951331697890775
           ]
          }
         ],
         "name": "87"
        },
        {
         "data": [
          {
           "marker": {
            "color": [
             "red",
             "red",
             "red",
             "blue",
             "blue",
             "green",
             "green",
             "green"
            ]
           },
           "mode": "markers",
           "type": "scatter",
           "x": [
            0.4988450002519211,
            0.7759891128337121,
            0.4130407203857981,
            0.6146652015485298,
            0.6079335387172848,
            0.6983252764678843,
            0.713632737094552,
            0.4497579507100628
           ],
           "y": [
            0.018709250260718843,
            -0.07045464325295102,
            0.15208578134311937,
            0.5162833961927846,
            0.5082276606744064,
            0.7995795476498528,
            1.0622182770765054,
            1.183716580159497
           ]
          }
         ],
         "name": "88"
        },
        {
         "data": [
          {
           "marker": {
            "color": [
             "red",
             "red",
             "red",
             "blue",
             "blue",
             "green",
             "green",
             "green"
            ]
           },
           "mode": "markers",
           "type": "scatter",
           "x": [
            0.5074442612052361,
            0.7856971519890011,
            0.3956186923527208,
            0.6099956102773247,
            0.6099803887866717,
            0.6877487365659655,
            0.7128260324013244,
            0.4628786644315057
           ],
           "y": [
            0.0293463876392489,
            -0.0747996271968618,
            0.16173505410635233,
            0.5065903371115011,
            0.506599808575847,
            0.7791200003946925,
            1.0956943219893638,
            1.1660795674837918
           ]
          }
         ],
         "name": "89"
        },
        {
         "data": [
          {
           "marker": {
            "color": [
             "red",
             "red",
             "red",
             "blue",
             "blue",
             "green",
             "green",
             "green"
            ]
           },
           "mode": "markers",
           "type": "scatter",
           "x": [
            0.49416970328308174,
            0.7901946819545848,
            0.40896733946877006,
            0.6068202252804706,
            0.6049368139223197,
            0.684002565230105,
            0.731864270761113,
            0.45123393810930723
           ],
           "y": [
            0.03476661158993557,
            -0.0740095514206811,
            0.162097845731272,
            0.4935434988535165,
            0.48906823123142756,
            0.8055678583940635,
            1.0962175157692984,
            1.1631138399550964
           ]
          }
         ],
         "name": "90"
        },
        {
         "data": [
          {
           "marker": {
            "color": [
             "red",
             "red",
             "red",
             "blue",
             "blue",
             "green",
             "green",
             "green"
            ]
           },
           "mode": "markers",
           "type": "scatter",
           "x": [
            0.5096567003899144,
            0.7867471835025744,
            0.38866807718103186,
            0.60772074702486,
            0.6042623735778037,
            0.6894501541544127,
            0.7196827178129305,
            0.4660015843662231
           ],
           "y": [
            0.04082568941625093,
            -0.07111689466352682,
            0.14003351755065901,
            0.5021942196463122,
            0.5111972535623001,
            0.8039497570140673,
            1.094085710537486,
            1.14919659704038
           ]
          }
         ],
         "name": "91"
        },
        {
         "data": [
          {
           "marker": {
            "color": [
             "red",
             "red",
             "red",
             "blue",
             "blue",
             "green",
             "green",
             "green"
            ]
           },
           "mode": "markers",
           "type": "scatter",
           "x": [
            0.5151400732342875,
            0.7721729713736555,
            0.40900340209520836,
            0.6010407050412021,
            0.6013532791786774,
            0.6873691270689904,
            0.731275813324836,
            0.45483416669289317
           ],
           "y": [
            0.0401576446287978,
            -0.08216648597634928,
            0.15670681286951832,
            0.5009129177635868,
            0.4983306714568816,
            0.8182826844392347,
            1.0956219483274583,
            1.1425196565947984
           ]
          }
         ],
         "name": "92"
        },
        {
         "data": [
          {
           "marker": {
            "color": [
             "red",
             "red",
             "red",
             "blue",
             "blue",
             "green",
             "green",
             "green"
            ]
           },
           "mode": "markers",
           "type": "scatter",
           "x": [
            0.5228636079398258,
            0.7645914576637195,
            0.4035019530153263,
            0.6029490349767963,
            0.6062118032906006,
            0.6893624337551755,
            0.7406834772374484,
            0.4420257701308577
           ],
           "y": [
            0.0070708764411554674,
            -0.0643680956707534,
            0.1657863186163156,
            0.48850380165294177,
            0.4971563333554925,
            0.8271590710785259,
            1.0860483037835638,
            1.1630092408466821
           ]
          }
         ],
         "name": "93"
        },
        {
         "data": [
          {
           "marker": {
            "color": [
             "red",
             "red",
             "red",
             "blue",
             "blue",
             "green",
             "green",
             "green"
            ]
           },
           "mode": "markers",
           "type": "scatter",
           "x": [
            0.5471703853574372,
            0.7380987366603786,
            0.39283268044173486,
            0.6102489030281324,
            0.6058116563157733,
            0.682300454676573,
            0.7455966598812735,
            0.4501300616484475
           ],
           "y": [
            -0.028089072625879615,
            -0.025064895653049493,
            0.17475988650763988,
            0.478118406085058,
            0.4945028168721159,
            0.8284668885134261,
            1.1046068844599164,
            1.1430649359447054
           ]
          }
         ],
         "name": "94"
        },
        {
         "data": [
          {
           "marker": {
            "color": [
             "red",
             "red",
             "red",
             "blue",
             "blue",
             "green",
             "green",
             "green"
            ]
           },
           "mode": "markers",
           "type": "scatter",
           "x": [
            0.5311470011749398,
            0.748559538025953,
            0.40487614917961734,
            0.6026003882733191,
            0.6002628848311058,
            0.6733333679925798,
            0.7432573003082544,
            0.4681529082239839
           ],
           "y": [
            -0.030017695205326315,
            -0.04394530616083549,
            0.16276720145735216,
            0.4910965663687558,
            0.5167892756464783,
            0.8315317929166814,
            1.126683135441226,
            1.1154608796396048
           ]
          }
         ],
         "name": "95"
        },
        {
         "data": [
          {
           "marker": {
            "color": [
             "red",
             "red",
             "red",
             "blue",
             "blue",
             "green",
             "green",
             "green"
            ]
           },
           "mode": "markers",
           "type": "scatter",
           "x": [
            0.5510237927445857,
            0.7339935320981679,
            0.38415444990731357,
            0.6112917241764055,
            0.6058819511359671,
            0.6637070540075848,
            0.7472695510049173,
            0.47486748293481246
           ],
           "y": [
            -0.02294800614997422,
            -0.029303723932803803,
            0.13426668706770759,
            0.49190069176576684,
            0.5215882126275398,
            0.8214467229891301,
            1.135820239021651,
            1.1175950267149197
           ]
          }
         ],
         "name": "96"
        },
        {
         "data": [
          {
           "marker": {
            "color": [
             "red",
             "red",
             "red",
             "blue",
             "blue",
             "green",
             "green",
             "green"
            ]
           },
           "mode": "markers",
           "type": "scatter",
           "x": [
            0.5594063104715498,
            0.7272344368857546,
            0.3860455921065353,
            0.6151987143291812,
            0.6062322413075375,
            0.658477197026593,
            0.7469764246647557,
            0.4726186212178468
           ],
           "y": [
            -0.03938674822552054,
            -0.0019906936882522503,
            0.15412956082930696,
            0.503354604115962,
            0.4757914777683079,
            0.8156120919971094,
            1.1242964612470596,
            1.1385590960599665
           ]
          }
         ],
         "name": "97"
        },
        {
         "data": [
          {
           "marker": {
            "color": [
             "red",
             "red",
             "red",
             "blue",
             "blue",
             "green",
             "green",
             "green"
            ]
           },
           "mode": "markers",
           "type": "scatter",
           "x": [
            0.5561015691601149,
            0.728497750291976,
            0.38286824569328487,
            0.6082613977238174,
            0.6094721206542562,
            0.6685119741462644,
            0.7464949612222883,
            0.47198151911775443
           ],
           "y": [
            -0.057777760354617715,
            0.01630628217316467,
            0.1535753595760841,
            0.4942194800538603,
            0.4989764077156102,
            0.8141235658506704,
            1.1252450541118442,
            1.1256974609773187
           ]
          }
         ],
         "name": "98"
        },
        {
         "data": [
          {
           "marker": {
            "color": [
             "red",
             "red",
             "red",
             "blue",
             "blue",
             "green",
             "green",
             "green"
            ]
           },
           "mode": "markers",
           "type": "scatter",
           "x": [
            0.5493526046998211,
            0.7265648902638701,
            0.3823033250831039,
            0.6066446155386935,
            0.6109211522698063,
            0.6747241511303109,
            0.7516219568162064,
            0.47005684220794425
           ],
           "y": [
            -0.02384936519985671,
            0.02566199287527176,
            0.12679490930838752,
            0.48032964359469305,
            0.48829415341961124,
            0.8231221033378601,
            1.1362591396835708,
            1.1137532730843984
           ]
          }
         ],
         "name": "99"
        },
        {
         "data": [
          {
           "marker": {
            "color": [
             "red",
             "red",
             "red",
             "blue",
             "blue",
             "green",
             "green",
             "green"
            ]
           },
           "mode": "markers",
           "type": "scatter",
           "x": [
            0.5642181687384316,
            0.7039649406119054,
            0.389076401474082,
            0.6078409866580006,
            0.6049566855043216,
            0.6710638851439062,
            0.7670859424042034,
            0.46398252747490426
           ],
           "y": [
            -0.02424623808588213,
            0.03142090049206919,
            0.12354721933422673,
            0.48200129124515234,
            0.5001006242680665,
            0.8206200349344083,
            1.146029084235111,
            1.090892933680779
           ]
          }
         ],
         "name": "100"
        },
        {
         "data": [
          {
           "marker": {
            "color": [
             "red",
             "red",
             "red",
             "blue",
             "blue",
             "green",
             "green",
             "green"
            ]
           },
           "mode": "markers",
           "type": "scatter",
           "x": [
            0.5759145861247619,
            0.6908885128178652,
            0.38732139033450824,
            0.6070131776730172,
            0.6092286721062534,
            0.6767630672326106,
            0.7674562698811145,
            0.457603861839621
           ],
           "y": [
            -0.04070642911587471,
            0.05721438488990778,
            0.12201213785878509,
            0.48202299921144376,
            0.4938161407301236,
            0.8460475745166189,
            1.1149994559674552,
            1.0949595860454708
           ]
          }
         ],
         "name": "101"
        },
        {
         "data": [
          {
           "marker": {
            "color": [
             "red",
             "red",
             "red",
             "blue",
             "blue",
             "green",
             "green",
             "green"
            ]
           },
           "mode": "markers",
           "type": "scatter",
           "x": [
            0.564536547598635,
            0.6812768550433486,
            0.4126538524273782,
            0.603547462110267,
            0.6072453042230181,
            0.672901780640804,
            0.7729296077452416,
            0.4570981282210613
           ],
           "y": [
            -0.056701057186108524,
            0.07505409414195535,
            0.1278819779345787,
            0.46598040615434777,
            0.4842606997044362,
            0.8453996895967192,
            1.1308956373113235,
            1.0975944024466764
           ]
          }
         ],
         "name": "102"
        },
        {
         "data": [
          {
           "marker": {
            "color": [
             "red",
             "red",
             "red",
             "blue",
             "blue",
             "green",
             "green",
             "green"
            ]
           },
           "mode": "markers",
           "type": "scatter",
           "x": [
            0.5539605176973479,
            0.6893708156464442,
            0.41057997604117885,
            0.607159297005225,
            0.6067597105523715,
            0.6824321497992741,
            0.7745256588913713,
            0.44740141237654224
           ],
           "y": [
            -0.0770687339888841,
            0.06550201775413532,
            0.1162395227039288,
            0.5143237467927455,
            0.502035188694765,
            0.8481048457544796,
            1.1143897814811343,
            1.0868394809116209
           ]
          }
         ],
         "name": "103"
        },
        {
         "data": [
          {
           "marker": {
            "color": [
             "red",
             "red",
             "red",
             "blue",
             "blue",
             "green",
             "green",
             "green"
            ]
           },
           "mode": "markers",
           "type": "scatter",
           "x": [
            0.5474318068239025,
            0.6692652561661288,
            0.4289220754826373,
            0.6083409037873426,
            0.6055666422557152,
            0.6828989384598676,
            0.7809043171236772,
            0.4488595979104828
           ],
           "y": [
            -0.08958074366107224,
            0.06219258474441454,
            0.10040670646937588,
            0.5304104821901469,
            0.5210174137993099,
            0.8423604758724479,
            1.1372104392636913,
            1.0663484914256096
           ]
          }
         ],
         "name": "104"
        },
        {
         "data": [
          {
           "marker": {
            "color": [
             "red",
             "red",
             "red",
             "blue",
             "blue",
             "green",
             "green",
             "green"
            ]
           },
           "mode": "markers",
           "type": "scatter",
           "x": [
            0.549925561943406,
            0.6763346200044423,
            0.42519840720783564,
            0.605916249524889,
            0.6073608845420582,
            0.6873644022940434,
            0.7955358036874524,
            0.4245536088056284
           ],
           "y": [
            -0.10287714378224999,
            0.051737863759363394,
            0.11274727339551707,
            0.5293417207281674,
            0.5349496637006264,
            0.8341754001925346,
            1.1327774265563688,
            1.077513645553597
           ]
          }
         ],
         "name": "105"
        },
        {
         "data": [
          {
           "marker": {
            "color": [
             "red",
             "red",
             "red",
             "blue",
             "blue",
             "green",
             "green",
             "green"
            ]
           },
           "mode": "markers",
           "type": "scatter",
           "x": [
            0.5540819963989688,
            0.6769263534803339,
            0.4211919403105159,
            0.6031798899582792,
            0.6014845486566532,
            0.6915113651361984,
            0.8041316023820304,
            0.41968184168677575
           ],
           "y": [
            -0.058257027979514625,
            0.03241125175552117,
            0.10872271248923923,
            0.5220117315503499,
            0.5042284119004531,
            0.8420565813222629,
            1.1482790479277853,
            1.0709131411378268
           ]
          }
         ],
         "name": "106"
        },
        {
         "data": [
          {
           "marker": {
            "color": [
             "red",
             "red",
             "red",
             "blue",
             "blue",
             "green",
             "green",
             "green"
            ]
           },
           "mode": "markers",
           "type": "scatter",
           "x": [
            0.5496431583800029,
            0.6935950104018358,
            0.4097090156661368,
            0.5993190915612254,
            0.6023745717249401,
            0.6948913734275558,
            0.7878966636836013,
            0.43476065316445484
           ],
           "y": [
            -0.0490413028863606,
            0.03435176777741651,
            0.10754547193099291,
            0.5045807498699273,
            0.5127660103662288,
            0.831301145502207,
            1.1491761540130618,
            1.0796858535304499
           ]
          }
         ],
         "name": "107"
        },
        {
         "data": [
          {
           "marker": {
            "color": [
             "red",
             "red",
             "red",
             "blue",
             "blue",
             "green",
             "green",
             "green"
            ]
           },
           "mode": "markers",
           "type": "scatter",
           "x": [
            0.5511853223947011,
            0.7187230414666372,
            0.39736966049695416,
            0.5920834959351594,
            0.6020763932894982,
            0.6883845294823513,
            0.7920861609857028,
            0.4302809339587496
           ],
           "y": [
            -0.03875737775646368,
            0.01615748903816073,
            0.131111175453721,
            0.5020402825209933,
            0.5248602020704233,
            0.8164537301985648,
            1.141242989214556,
            1.0772573593639647
           ]
          }
         ],
         "name": "108"
        },
        {
         "data": [
          {
           "marker": {
            "color": [
             "red",
             "red",
             "red",
             "blue",
             "blue",
             "green",
             "green",
             "green"
            ]
           },
           "mode": "markers",
           "type": "scatter",
           "x": [
            0.5417821413708235,
            0.730196062764552,
            0.40004461138881253,
            0.5953246836242121,
            0.5954643298576331,
            0.6782177597890093,
            0.7941930193672275,
            0.4369669298474842
           ],
           "y": [
            -0.054039424266066616,
            0.016548110640754937,
            0.1442159893090461,
            0.5363105298689833,
            0.5157446793656106,
            0.8195452142910955,
            1.1336875646898117,
            1.0583531862046824
           ]
          }
         ],
         "name": "109"
        },
        {
         "data": [
          {
           "marker": {
            "color": [
             "red",
             "red",
             "red",
             "blue",
             "blue",
             "green",
             "green",
             "green"
            ]
           },
           "mode": "markers",
           "type": "scatter",
           "x": [
            0.542290867343319,
            0.7381027909492492,
            0.39007940195134005,
            0.5949630066346421,
            0.5830988103562083,
            0.6779616889020449,
            0.7899736686906417,
            0.45571930318230675
           ],
           "y": [
            -0.07203393074347142,
            0.004534970901803158,
            0.14964599062288012,
            0.5537298270644733,
            0.5489668533126182,
            0.8369502818787253,
            1.1342012132799717,
            1.0143706437869169
           ]
          }
         ],
         "name": "110"
        },
        {
         "data": [
          {
           "marker": {
            "color": [
             "red",
             "red",
             "red",
             "blue",
             "blue",
             "green",
             "green",
             "green"
            ]
           },
           "mode": "markers",
           "type": "scatter",
           "x": [
            0.5318996731254754,
            0.7170875900683357,
            0.42046197426487447,
            0.5816575044573727,
            0.5692948818076818,
            0.6848823876326254,
            0.8034628222261224,
            0.4634427044272651
           ],
           "y": [
            -0.08438244576559875,
            0.005227213850261913,
            0.13204683629586186,
            0.5499794409375435,
            0.6075447303942909,
            0.8551598617629281,
            1.1602320921303095,
            0.9445581204983204
           ]
          }
         ],
         "name": "111"
        },
        {
         "data": [
          {
           "marker": {
            "color": [
             "red",
             "red",
             "red",
             "blue",
             "blue",
             "green",
             "green",
             "green"
            ]
           },
           "mode": "markers",
           "type": "scatter",
           "x": [
            0.5195688124463111,
            0.738396090416871,
            0.4212756434145144,
            0.5814716092047297,
            0.5730594292956172,
            0.6804065045593419,
            0.7859195624096293,
            0.4720918862627364
           ],
           "y": [
            -0.081592293399496,
            -0.011198100991549704,
            0.15651656668192163,
            0.5772393570212428,
            0.5570477356347477,
            0.8544236521116755,
            1.144081252587848,
            0.9738476804575295
           ]
          }
         ],
         "name": "112"
        },
        {
         "data": [
          {
           "marker": {
            "color": [
             "red",
             "red",
             "red",
             "blue",
             "blue",
             "green",
             "green",
             "green"
            ]
           },
           "mode": "markers",
           "type": "scatter",
           "x": [
            0.5172025133600541,
            0.7361877127109369,
            0.4304713297758993,
            0.5785362554036925,
            0.5822432852610093,
            0.679948324720052,
            0.7826319172399887,
            0.46496819953811863
           ],
           "y": [
            -0.07924537149786823,
            -0.015313609192847012,
            0.16032617028541973,
            0.5547728179721689,
            0.5755939973021392,
            0.8483375071021149,
            1.1327965910465534,
            0.993097747086242
           ]
          }
         ],
         "name": "113"
        },
        {
         "data": [
          {
           "marker": {
            "color": [
             "red",
             "red",
             "red",
             "blue",
             "blue",
             "green",
             "green",
             "green"
            ]
           },
           "mode": "markers",
           "type": "scatter",
           "x": [
            0.520635780994271,
            0.7382026237165419,
            0.4320218468129456,
            0.5784521304412119,
            0.5716533438023358,
            0.6967163860220219,
            0.7627564508823582,
            0.4717509753380648
           ],
           "y": [
            -0.0839975706213128,
            -0.019827079382765917,
            0.19032367086111363,
            0.5348107541242847,
            0.5610097148193225,
            0.8903407216287019,
            1.1009287583855276,
            0.9967768802890531
           ]
          }
         ],
         "name": "114"
        },
        {
         "data": [
          {
           "marker": {
            "color": [
             "red",
             "red",
             "red",
             "blue",
             "blue",
             "green",
             "green",
             "green"
            ]
           },
           "mode": "markers",
           "type": "scatter",
           "x": [
            0.5094923041546676,
            0.757234478479127,
            0.4323540336976563,
            0.5716936002315673,
            0.5783799160080442,
            0.7050626796783208,
            0.7467785404508696,
            0.4711939853094944
           ],
           "y": [
            -0.08838837673807795,
            -0.03800448959556125,
            0.20574165271843123,
            0.5560418863133957,
            0.5530319531128086,
            0.8965326634247435,
            1.0783386167950317,
            1.0070719440731528
           ]
          }
         ],
         "name": "115"
        },
        {
         "data": [
          {
           "marker": {
            "color": [
             "red",
             "red",
             "red",
             "blue",
             "blue",
             "green",
             "green",
             "green"
            ]
           },
           "mode": "markers",
           "type": "scatter",
           "x": [
            0.4975470891565833,
            0.7740538494742408,
            0.42848259062339766,
            0.5800854596173162,
            0.5777560811541894,
            0.7089782244311057,
            0.7383363346839187,
            0.46694990886899507
           ],
           "y": [
            -0.09165331221543786,
            -0.04560816698804907,
            0.20125284021419174,
            0.5573783664208436,
            0.5508876627347475,
            0.8947453016838207,
            1.0665391165289033,
            1.036824041724906
           ]
          }
         ],
         "name": "116"
        },
        {
         "data": [
          {
           "marker": {
            "color": [
             "red",
             "red",
             "red",
             "blue",
             "blue",
             "green",
             "green",
             "green"
            ]
           },
           "mode": "markers",
           "type": "scatter",
           "x": [
            0.4946491003024555,
            0.7750634594854331,
            0.435461275905581,
            0.578439255264802,
            0.5784348083019739,
            0.7182670402550887,
            0.7521799965253768,
            0.43969460196903537
           ],
           "y": [
            -0.09043239495808655,
            -0.04024863233839435,
            0.21543720239123676,
            0.5555410662865713,
            0.5290172739860485,
            0.8634031522835931,
            1.0839925765039118,
            1.0536556059490487
           ]
          }
         ],
         "name": "117"
        },
        {
         "data": [
          {
           "marker": {
            "color": [
             "red",
             "red",
             "red",
             "blue",
             "blue",
             "green",
             "green",
             "green"
            ]
           },
           "mode": "markers",
           "type": "scatter",
           "x": [
            0.4872177117794078,
            0.7872725813265492,
            0.4302961810093938,
            0.5853659735413471,
            0.5842145775621072,
            0.7185987171657051,
            0.768412629337084,
            0.41081116628815423
           ],
           "y": [
            -0.08285142103740648,
            -0.05082705122281855,
            0.2159790582209874,
            0.5428184420265377,
            0.5333994965005735,
            0.8567070978633292,
            1.080677241425412,
            1.0744629863273119
           ]
          }
         ],
         "name": "118"
        },
        {
         "data": [
          {
           "marker": {
            "color": [
             "red",
             "red",
             "red",
             "blue",
             "blue",
             "green",
             "green",
             "green"
            ]
           },
           "mode": "markers",
           "type": "scatter",
           "x": [
            0.4795735520264042,
            0.7867973173179073,
            0.43834660961997524,
            0.5892682109844499,
            0.5864917618598027,
            0.7207982700656755,
            0.759370618175281,
            0.4115431979602535
           ],
           "y": [
            -0.10250291742172625,
            -0.03836351240026603,
            0.2285706875545914,
            0.5496485879231336,
            0.5319179577332406,
            0.8369593321429766,
            1.0830373478001698,
            1.0810983667718106
           ]
          }
         ],
         "name": "119"
        },
        {
         "data": [
          {
           "marker": {
            "color": [
             "red",
             "red",
             "red",
             "blue",
             "blue",
             "green",
             "green",
             "green"
            ]
           },
           "mode": "markers",
           "type": "scatter",
           "x": [
            0.4637959181873695,
            0.8160301582527063,
            0.44133236570646006,
            0.5883515236298995,
            0.5901585920491046,
            0.7149682187054274,
            0.7541961841121115,
            0.4033565773666696
           ],
           "y": [
            -0.07614246290494751,
            -0.06571246362078269,
            0.2307264994817207,
            0.5497801211840605,
            0.543005653300759,
            0.8296691606530092,
            1.0624606527747857,
            1.0965786892353255
           ]
          }
         ],
         "name": "120"
        },
        {
         "data": [
          {
           "marker": {
            "color": [
             "red",
             "red",
             "red",
             "blue",
             "blue",
             "green",
             "green",
             "green"
            ]
           },
           "mode": "markers",
           "type": "scatter",
           "x": [
            0.4550547986008685,
            0.803708898670121,
            0.4485613112508851,
            0.600235508466564,
            0.6001913252421467,
            0.717837756001115,
            0.7562576315038657,
            0.39034230827417776
           ],
           "y": [
            -0.0908481682956625,
            -0.030042056298620695,
            0.213339833668014,
            0.5381695970345044,
            0.5387640344245446,
            0.826847536525621,
            1.0511685939492423,
            1.1229664790962806
           ]
          }
         ],
         "name": "121"
        },
        {
         "data": [
          {
           "marker": {
            "color": [
             "red",
             "red",
             "red",
             "blue",
             "blue",
             "green",
             "green",
             "green"
            ]
           },
           "mode": "markers",
           "type": "scatter",
           "x": [
            0.47954348031547445,
            0.7982267381081509,
            0.42362204070268605,
            0.6057563083735862,
            0.597233035796979,
            0.7193530314839865,
            0.7558813595208629,
            0.3925735437080183
           ],
           "y": [
            -0.03574299296477669,
            -0.03665622949035555,
            0.17805017586180552,
            0.535598467287735,
            0.5258874174923254,
            0.826037263524648,
            1.0559509560250404,
            1.1212407923675025
           ]
          }
         ],
         "name": "122"
        },
        {
         "data": [
          {
           "marker": {
            "color": [
             "red",
             "red",
             "red",
             "blue",
             "blue",
             "green",
             "green",
             "green"
            ]
           },
           "mode": "markers",
           "type": "scatter",
           "x": [
            0.4959170125504157,
            0.7647128811360209,
            0.4310885105360107,
            0.6008396034744072,
            0.6076592821491338,
            0.7122954298369029,
            0.7646713078556892,
            0.39500551047116744
           ],
           "y": [
            -0.057069459785339886,
            -0.022603107933669,
            0.16753335243901438,
            0.539402846665802,
            0.5493199845155405,
            0.8183640063980319,
            1.0679263531588659,
            1.1074918746456706
           ]
          }
         ],
         "name": "123"
        },
        {
         "data": [
          {
           "marker": {
            "color": [
             "red",
             "red",
             "red",
             "blue",
             "blue",
             "green",
             "green",
             "green"
            ]
           },
           "mode": "markers",
           "type": "scatter",
           "x": [
            0.4888515207349756,
            0.7736793222931699,
            0.41947600113790356,
            0.60786497025398,
            0.615169782352156,
            0.7156133478373766,
            0.7439185623507163,
            0.40761603104947075
           ],
           "y": [
            -0.07488782557075739,
            -0.025895076173389906,
            0.15136447683888177,
            0.5472767433921916,
            0.5657024401125682,
            0.8593855008115623,
            1.030123469367434,
            1.1172961213254213
           ]
          }
         ],
         "name": "124"
        },
        {
         "data": [
          {
           "marker": {
            "color": [
             "red",
             "red",
             "red",
             "blue",
             "blue",
             "green",
             "green",
             "green"
            ]
           },
           "mode": "markers",
           "type": "scatter",
           "x": [
            0.4740042018806312,
            0.7724967692822344,
            0.434344186021468,
            0.6004835705884881,
            0.599853077858457,
            0.7174383726389817,
            0.7512057028849671,
            0.42236365685452143
           ],
           "y": [
            -0.06935862365873195,
            -0.021466697754583437,
            0.14122392990611762,
            0.5374970824243868,
            0.5712187226699762,
            0.8647929650016803,
            1.067716577902372,
            1.0787418936126922
           ]
          }
         ],
         "name": "125"
        },
        {
         "data": [
          {
           "marker": {
            "color": [
             "red",
             "red",
             "red",
             "blue",
             "blue",
             "green",
             "green",
             "green"
            ]
           },
           "mode": "markers",
           "type": "scatter",
           "x": [
            0.4697234382116852,
            0.779482535750001,
            0.4250239175137523,
            0.5984132791166235,
            0.5984145578177739,
            0.714368687458333,
            0.7637323646977136,
            0.42303075744386753
           ],
           "y": [
            -0.06353824593741317,
            0.0016480127137158194,
            0.1385625803593412,
            0.5389493992576413,
            0.5385792180483447,
            0.8671246736639779,
            1.0846209363073245,
            1.0644192756909754
           ]
          }
         ],
         "name": "126"
        },
        {
         "data": [
          {
           "marker": {
            "color": [
             "red",
             "red",
             "red",
             "blue",
             "blue",
             "green",
             "green",
             "green"
            ]
           },
           "mode": "markers",
           "type": "scatter",
           "x": [
            0.46421008102575884,
            0.7741522063667993,
            0.43968561212972956,
            0.6088446895687973,
            0.597181079008701,
            0.7178491032344565,
            0.7525071520843172,
            0.41775961459119326
           ],
           "y": [
            -0.07885061268202138,
            -0.0058372546496613335,
            0.13760066293409481,
            0.5841112694065237,
            0.5426281521568289,
            0.8669716410941155,
            1.0486622139166544,
            1.0750797779273713
           ]
          }
         ],
         "name": "127"
        },
        {
         "data": [
          {
           "marker": {
            "color": [
             "red",
             "red",
             "red",
             "blue",
             "blue",
             "green",
             "green",
             "green"
            ]
           },
           "mode": "markers",
           "type": "scatter",
           "x": [
            0.4760212555663043,
            0.7760481334366853,
            0.41361265876898956,
            0.605424292837,
            0.6062160191512581,
            0.690435475941657,
            0.7567508745288805,
            0.4476808277789754
           ],
           "y": [
            -0.08942158687145611,
            0.0009562225213152508,
            0.13462639113181019,
            0.5815236874038154,
            0.5556934729563417,
            0.879368929640194,
            1.0609330375689625,
            1.046685695752926
           ]
          }
         ],
         "name": "128"
        },
        {
         "data": [
          {
           "marker": {
            "color": [
             "red",
             "red",
             "red",
             "blue",
             "blue",
             "green",
             "green",
             "green"
            ]
           },
           "mode": "markers",
           "type": "scatter",
           "x": [
            0.492089222866879,
            0.7378939122334065,
            0.4341574915008405,
            0.6043662368213524,
            0.6020661534610947,
            0.7028376876877108,
            0.7720818266638803,
            0.42669700677458733
           ],
           "y": [
            -0.08559797423195038,
            0.017787601256561616,
            0.12903851277553066,
            0.5345390238666395,
            0.5649439927636561,
            0.8881594759825509,
            1.0659464884295196,
            1.0555487292613919
           ]
          }
         ],
         "name": "129"
        },
        {
         "data": [
          {
           "marker": {
            "color": [
             "red",
             "red",
             "red",
             "blue",
             "blue",
             "green",
             "green",
             "green"
            ]
           },
           "mode": "markers",
           "type": "scatter",
           "x": [
            0.49365113753217565,
            0.7267369098768468,
            0.4396536148875693,
            0.6065228377836395,
            0.6002989574550086,
            0.6873527984366048,
            0.7779846874297441,
            0.4399885946081626
           ],
           "y": [
            -0.12263979907110818,
            0.02927898480364234,
            0.14445529977456073,
            0.5557593920363,
            0.5546593754212681,
            0.890241312994673,
            1.0771701554702153,
            1.0414411286743537
           ]
          }
         ],
         "name": "130"
        },
        {
         "data": [
          {
           "marker": {
            "color": [
             "red",
             "red",
             "red",
             "blue",
             "blue",
             "green",
             "green",
             "green"
            ]
           },
           "mode": "markers",
           "type": "scatter",
           "x": [
            0.4934846356649105,
            0.7391255290063828,
            0.41743219440710194,
            0.6123393928657315,
            0.6111144298402681,
            0.6860146283839087,
            0.7886419778312961,
            0.4240367500101529
           ],
           "y": [
            -0.0930679950126414,
            0.04220820712530144,
            0.11282893789348158,
            0.5517471210762341,
            0.5468418737824449,
            0.8889248969089532,
            1.0693889391682976,
            1.0514938691618372
           ]
          }
         ],
         "name": "131"
        },
        {
         "data": [
          {
           "marker": {
            "color": [
             "red",
             "red",
             "red",
             "blue",
             "blue",
             "green",
             "green",
             "green"
            ]
           },
           "mode": "markers",
           "type": "scatter",
           "x": [
            0.4951127674417084,
            0.7439155310103127,
            0.4054128897309919,
            0.6117618877178452,
            0.6089996519900313,
            0.6921408665264446,
            0.7932546568862614,
            0.42159128670616086
           ],
           "y": [
            -0.11704685203110093,
            0.050491774291767384,
            0.11181818488674068,
            0.560500764720387,
            0.5593764892215881,
            0.87804668316936,
            1.080289058386851,
            1.0468897474583114
           ]
          }
         ],
         "name": "132"
        },
        {
         "data": [
          {
           "marker": {
            "color": [
             "red",
             "red",
             "red",
             "blue",
             "blue",
             "green",
             "green",
             "green"
            ]
           },
           "mode": "markers",
           "type": "scatter",
           "x": [
            0.4872306884642418,
            0.7472268441812022,
            0.4021841243064904,
            0.6144870939457969,
            0.6115100273081785,
            0.6896300003830252,
            0.8003264169346705,
            0.41959434248615557
           ],
           "y": [
            -0.1534176455956826,
            0.07801991350466655,
            0.11798216542547922,
            0.5537889864159233,
            0.5491120251159901,
            0.8846826140430826,
            1.0865314702802777,
            1.0536663209141695
           ]
          }
         ],
         "name": "133"
        },
        {
         "data": [
          {
           "marker": {
            "color": [
             "red",
             "red",
             "red",
             "blue",
             "blue",
             "green",
             "green",
             "green"
            ]
           },
           "mode": "markers",
           "type": "scatter",
           "x": [
            0.4908333164325122,
            0.7338861694189072,
            0.4026474528077258,
            0.6097676888548239,
            0.6110633943837704,
            0.7089547219331035,
            0.7822760177584257,
            0.432760776420494
           ],
           "y": [
            -0.15390661447237597,
            0.09164920231306524,
            0.11002896490391163,
            0.5735367395813562,
            0.5318282189822332,
            0.8984642712273022,
            1.0819926958139874,
            1.0367723717544266
           ]
          }
         ],
         "name": "134"
        },
        {
         "data": [
          {
           "marker": {
            "color": [
             "red",
             "red",
             "red",
             "blue",
             "blue",
             "green",
             "green",
             "green"
            ]
           },
           "mode": "markers",
           "type": "scatter",
           "x": [
            0.49929390247645095,
            0.7357106280224895,
            0.40380373860932517,
            0.6081331524536697,
            0.6058541337862965,
            0.688931229986767,
            0.7841266496252254,
            0.44633610304953986
           ],
           "y": [
            -0.12444452879831842,
            0.0625079360712222,
            0.10803225041810019,
            0.5571508205896151,
            0.5493773041000941,
            0.9063254857342948,
            1.0733786235977985,
            1.0380379583911
           ]
          }
         ],
         "name": "135"
        },
        {
         "data": [
          {
           "marker": {
            "color": [
             "red",
             "red",
             "red",
             "blue",
             "blue",
             "green",
             "green",
             "green"
            ]
           },
           "mode": "markers",
           "type": "scatter",
           "x": [
            0.4981938872255482,
            0.7277304847661541,
            0.41241761663262205,
            0.6041515895089286,
            0.602897926405396,
            0.6811219318000445,
            0.7754805518798924,
            0.4701955497911744
           ],
           "y": [
            -0.1226314033082872,
            0.05551285744545585,
            0.0998616086855026,
            0.5596793916779977,
            0.5373246966687597,
            0.9328144537487695,
            1.0770153123428319,
            1.0307889328428714
           ]
          }
         ],
         "name": "136"
        },
        {
         "data": [
          {
           "marker": {
            "color": [
             "red",
             "red",
             "red",
             "blue",
             "blue",
             "green",
             "green",
             "green"
            ]
           },
           "mode": "markers",
           "type": "scatter",
           "x": [
            0.5075698370470608,
            0.7363933673388089,
            0.3915705705426482,
            0.6050327264686577,
            0.6091521533274673,
            0.6793770433955868,
            0.7847982007818745,
            0.4582956391076572
           ],
           "y": [
            -0.10630188825205056,
            0.061205214087994585,
            0.09725157523892777,
            0.5266821565420443,
            0.5336982440494903,
            0.9266629839004408,
            1.0817993237047072,
            1.0493682408323433
           ]
          }
         ],
         "name": "137"
        },
        {
         "data": [
          {
           "marker": {
            "color": [
             "red",
             "red",
             "red",
             "blue",
             "blue",
             "green",
             "green",
             "green"
            ]
           },
           "mode": "markers",
           "type": "scatter",
           "x": [
            0.5200975885229506,
            0.7400503518023376,
            0.3779268847616546,
            0.5990870085550692,
            0.6064127927947285,
            0.683892527003353,
            0.7798334341470133,
            0.46488895042265954
           ],
           "y": [
            -0.0721200519272802,
            0.038960115700037413,
            0.09880927108933546,
            0.5106140188025595,
            0.543150045503942,
            0.9350346114163486,
            1.0874836725282384,
            1.0284341669907147
           ]
          }
         ],
         "name": "138"
        },
        {
         "data": [
          {
           "marker": {
            "color": [
             "red",
             "red",
             "red",
             "blue",
             "blue",
             "green",
             "green",
             "green"
            ]
           },
           "mode": "markers",
           "type": "scatter",
           "x": [
            0.5263145492844373,
            0.7342789195103715,
            0.371673197021687,
            0.6089170318571173,
            0.601444294565953,
            0.6909627364044748,
            0.7801699041819615,
            0.45842890518376334
           ],
           "y": [
            -0.08947235563091413,
            0.05439921171678837,
            0.10047351516707284,
            0.52112689596989,
            0.5371294859847248,
            0.9530144002628442,
            1.0672413474232336,
            1.0264533492102557
           ]
          }
         ],
         "name": "139"
        },
        {
         "data": [
          {
           "marker": {
            "color": [
             "red",
             "red",
             "red",
             "blue",
             "blue",
             "green",
             "green",
             "green"
            ]
           },
           "mode": "markers",
           "type": "scatter",
           "x": [
            0.5230055671376347,
            0.7382074177814677,
            0.3745933105713553,
            0.6053512263203679,
            0.6023438037176554,
            0.6709292668983368,
            0.7786302700683133,
            0.4791286755146369
           ],
           "y": [
            -0.0795136218374632,
            0.0575797671782942,
            0.1094220059472938,
            0.5201855139453553,
            0.5045080595415411,
            0.9756992939084884,
            1.0642306422148162,
            1.0182541892055694
           ]
          }
         ],
         "name": "140"
        },
        {
         "data": [
          {
           "marker": {
            "color": [
             "red",
             "red",
             "red",
             "blue",
             "blue",
             "green",
             "green",
             "green"
            ]
           },
           "mode": "markers",
           "type": "scatter",
           "x": [
            0.5176836246788332,
            0.7251116813144586,
            0.390671193716817,
            0.6037830617652429,
            0.5993189901485598,
            0.6717972964427404,
            0.7790502655186705,
            0.4847734244244439
           ],
           "y": [
            -0.07809343422529332,
            0.058872355553131236,
            0.10349983161917264,
            0.49887987745992596,
            0.5239555135734598,
            0.9855941226338808,
            1.0757056895359187,
            1.0019518939537018
           ]
          }
         ],
         "name": "141"
        },
        {
         "data": [
          {
           "marker": {
            "color": [
             "red",
             "red",
             "red",
             "blue",
             "blue",
             "green",
             "green",
             "green"
            ]
           },
           "mode": "markers",
           "type": "scatter",
           "x": [
            0.5398760164132219,
            0.6861149368074789,
            0.38648215242404305,
            0.6055922758574603,
            0.6062271387516622,
            0.6906167779816034,
            0.7884739771140737,
            0.46880626266022307
           ],
           "y": [
            -0.06944537570408679,
            0.07024470920615469,
            0.06597314786742996,
            0.5144689475608084,
            0.5081603026692112,
            0.9978225927254418,
            1.088921049709579,
            0.9942204760693609
           ]
          }
         ],
         "name": "142"
        },
        {
         "data": [
          {
           "marker": {
            "color": [
             "red",
             "red",
             "red",
             "blue",
             "blue",
             "green",
             "green",
             "green"
            ]
           },
           "mode": "markers",
           "type": "scatter",
           "x": [
            0.5291373216146928,
            0.7187780792743603,
            0.36772074282358547,
            0.6017719965753101,
            0.5975418792658538,
            0.7087407584367686,
            0.785404940447548,
            0.46309381957164575
           ],
           "y": [
            -0.04315284160473086,
            0.054412459194026715,
            0.0476023813201394,
            0.5384796246683797,
            0.5039110960584458,
            0.9983175850358488,
            1.0981782640520992,
            0.9726172813796886
           ]
          }
         ],
         "name": "143"
        },
        {
         "data": [
          {
           "marker": {
            "color": [
             "red",
             "red",
             "red",
             "blue",
             "blue",
             "green",
             "green",
             "green"
            ]
           },
           "mode": "markers",
           "type": "scatter",
           "x": [
            0.533362590804766,
            0.7116399958210913,
            0.36903072203778897,
            0.6048976270625164,
            0.6034061944842429,
            0.7061918900246493,
            0.7954583771002298,
            0.4482021406744822
           ],
           "y": [
            -0.0597790115653621,
            0.0750087065222377,
            0.0569569839604385,
            0.5237342247856455,
            0.5099618775775863,
            0.9907082150134727,
            1.0922924284297222,
            0.981482425380161
           ]
          }
         ],
         "name": "144"
        },
        {
         "data": [
          {
           "marker": {
            "color": [
             "red",
             "red",
             "red",
             "blue",
             "blue",
             "green",
             "green",
             "green"
            ]
           },
           "mode": "markers",
           "type": "scatter",
           "x": [
            0.535384491416001,
            0.7122495057581063,
            0.387475154437938,
            0.5917950397687552,
            0.5913564081678082,
            0.6892886857216045,
            0.8088749257200242,
            0.45576532701953193
           ],
           "y": [
            -0.05959455896007727,
            0.0527629530786836,
            0.09408081074356554,
            0.5176997897147576,
            0.5025186564773283,
            0.9632559544369124,
            1.1221026139902999,
            0.9775396306224319
           ]
          }
         ],
         "name": "145"
        },
        {
         "data": [
          {
           "marker": {
            "color": [
             "red",
             "red",
             "red",
             "blue",
             "blue",
             "green",
             "green",
             "green"
            ]
           },
           "mode": "markers",
           "type": "scatter",
           "x": [
            0.5368357144568309,
            0.6927433094897074,
            0.3954460963972478,
            0.5912742027242005,
            0.5921098598219117,
            0.6774463196451416,
            0.8169895485797625,
            0.46934448689496644
           ],
           "y": [
            -0.11350098422621613,
            0.09736924475228058,
            0.10554340407432096,
            0.4983794559238621,
            0.5201258141154366,
            0.9348510583673221,
            1.1544565885546827,
            0.9731412685422123
           ]
          }
         ],
         "name": "146"
        },
        {
         "data": [
          {
           "marker": {
            "color": [
             "red",
             "red",
             "red",
             "blue",
             "blue",
             "green",
             "green",
             "green"
            ]
           },
           "mode": "markers",
           "type": "scatter",
           "x": [
            0.5470120683798547,
            0.680300427378031,
            0.39207019094712886,
            0.5994765485580459,
            0.5963894283469272,
            0.6799000434633681,
            0.815709435474024,
            0.461331395462386
           ],
           "y": [
            -0.09742604668848848,
            0.08367429128493127,
            0.08534638784199826,
            0.5254482091305102,
            0.5089047042912274,
            0.9151709932935294,
            1.1538417621186738,
            0.9954055488315221
           ]
          }
         ],
         "name": "147"
        },
        {
         "data": [
          {
           "marker": {
            "color": [
             "red",
             "red",
             "red",
             "blue",
             "blue",
             "green",
             "green",
             "green"
            ]
           },
           "mode": "markers",
           "type": "scatter",
           "x": [
            0.5529305355813442,
            0.6763428056936074,
            0.3772561196882958,
            0.608713419325433,
            0.6065218983940703,
            0.706201395102543,
            0.7915968742338546,
            0.4526264899906178
           ],
           "y": [
            -0.12873726608618463,
            0.13113748148766016,
            0.08201883282950706,
            0.48891717055903844,
            0.521305696937894,
            0.9229044400155765,
            1.124625505610096,
            1.0281939887503164
           ]
          }
         ],
         "name": "148"
        },
        {
         "data": [
          {
           "marker": {
            "color": [
             "red",
             "red",
             "red",
             "blue",
             "blue",
             "green",
             "green",
             "green"
            ]
           },
           "mode": "markers",
           "type": "scatter",
           "x": [
            0.5413651842641315,
            0.6858341313102876,
            0.40240232037892393,
            0.5865957845541911,
            0.5920198889701427,
            0.7030155958399554,
            0.7987430634646674,
            0.4622135692274658
           ],
           "y": [
            -0.14965868872323637,
            0.1446685775624234,
            0.12677409630898062,
            0.45255349952094065,
            0.5249123822551347,
            0.9230229267123354,
            1.145931109888612,
            1.0021619465787066
           ]
          }
         ],
         "name": "149"
        },
        {
         "data": [
          {
           "marker": {
            "color": [
             "red",
             "red",
             "red",
             "blue",
             "blue",
             "green",
             "green",
             "green"
            ]
           },
           "mode": "markers",
           "type": "scatter",
           "x": [
            0.5558571337468715,
            0.6711266200186838,
            0.3858419640111904,
            0.59667618994663,
            0.5978687978474607,
            0.6886110328710585,
            0.8067819695686569,
            0.469425829999217
           ],
           "y": [
            -0.11854815679178102,
            0.14509659622252455,
            0.10152876543325123,
            0.44087081872257916,
            0.5184208970303161,
            0.8887066394816312,
            1.1768326452618607,
            1.0174576447435106
           ]
          }
         ],
         "name": "150"
        },
        {
         "data": [
          {
           "marker": {
            "color": [
             "red",
             "red",
             "red",
             "blue",
             "blue",
             "green",
             "green",
             "green"
            ]
           },
           "mode": "markers",
           "type": "scatter",
           "x": [
            0.5494790614001492,
            0.6703671388380719,
            0.3985092014683002,
            0.5884958226285611,
            0.5926214901486943,
            0.7068067840748314,
            0.7865607185364363,
            0.4793493209147222
           ],
           "y": [
            -0.14987538702273615,
            0.16858128755792717,
            0.12070392157719197,
            0.45396921779028415,
            0.4738050203548476,
            0.9241238176920487,
            1.1565020469904153,
            1.0225559251639116
           ]
          }
         ],
         "name": "151"
        },
        {
         "data": [
          {
           "marker": {
            "color": [
             "red",
             "red",
             "red",
             "blue",
             "blue",
             "green",
             "green",
             "green"
            ]
           },
           "mode": "markers",
           "type": "scatter",
           "x": [
            0.5506541977885373,
            0.6696205553438386,
            0.3994240203214542,
            0.5940113563547263,
            0.5938558972979585,
            0.711774632389169,
            0.783382599395519,
            0.4694662791185583
           ],
           "y": [
            -0.136951225106779,
            0.17180632472572235,
            0.11323150559720234,
            0.4501821704633653,
            0.4512322621481085,
            0.9419391363200476,
            1.1233464547225234,
            1.055579221233699
           ]
          }
         ],
         "name": "152"
        },
        {
         "data": [
          {
           "marker": {
            "color": [
             "red",
             "red",
             "red",
             "blue",
             "blue",
             "green",
             "green",
             "green"
            ]
           },
           "mode": "markers",
           "type": "scatter",
           "x": [
            0.5440627333741878,
            0.6786968672398451,
            0.40744937448618584,
            0.5908962981998036,
            0.5961329961831936,
            0.6979744108182523,
            0.8011653830954524,
            0.45581147461284477
           ],
           "y": [
            -0.11734497237771689,
            0.16861376644611692,
            0.11009443639940916,
            0.43221693231290764,
            0.44889745183505897,
            0.9191755652172013,
            1.1328520516375977,
            1.075860618633311
           ]
          }
         ],
         "name": "153"
        },
        {
         "data": [
          {
           "marker": {
            "color": [
             "red",
             "red",
             "red",
             "blue",
             "blue",
             "green",
             "green",
             "green"
            ]
           },
           "mode": "markers",
           "type": "scatter",
           "x": [
            0.5371432848014535,
            0.6673062100957683,
            0.4300361836521846,
            0.5922417479902733,
            0.5865097301448287,
            0.7022531514360904,
            0.8205413464903595,
            0.43615788339880834
           ],
           "y": [
            -0.09892347246656555,
            0.16080809862998022,
            0.10901810325947939,
            0.43597757723618236,
            0.4197981212272307,
            0.9108871864989914,
            1.155699600139991,
            1.0771006355786001
           ]
          }
         ],
         "name": "154"
        },
        {
         "data": [
          {
           "marker": {
            "color": [
             "red",
             "red",
             "red",
             "blue",
             "blue",
             "green",
             "green",
             "green"
            ]
           },
           "mode": "markers",
           "type": "scatter",
           "x": [
            0.5279698912661033,
            0.6711858672651972,
            0.4453750439396103,
            0.5858915413229823,
            0.5798347238059264,
            0.689340965101088,
            0.8470794911944546,
            0.4255120141144034
           ],
           "y": [
            -0.06017943886813516,
            0.15062844271812137,
            0.10460632023743643,
            0.42247086676314144,
            0.4045800852113046,
            0.8872189537083168,
            1.1927485527177153,
            1.0682920676159908
           ]
          }
         ],
         "name": "155"
        },
        {
         "data": [
          {
           "marker": {
            "color": [
             "red",
             "red",
             "red",
             "blue",
             "blue",
             "green",
             "green",
             "green"
            ]
           },
           "mode": "markers",
           "type": "scatter",
           "x": [
            0.5254533121110639,
            0.6796782810724992,
            0.4438757346139419,
            0.5846204876092101,
            0.5862427741491854,
            0.6869041392229807,
            0.8421914652001881,
            0.4232233440306944
           ],
           "y": [
            -0.08623464284797858,
            0.1418221743687722,
            0.11290906757535736,
            0.4255543993105401,
            0.429447406838777,
            0.9053418319884659,
            1.1655279734714294,
            1.0759976393985278
           ]
          }
         ],
         "name": "156"
        },
        {
         "data": [
          {
           "marker": {
            "color": [
             "red",
             "red",
             "red",
             "blue",
             "blue",
             "green",
             "green",
             "green"
            ]
           },
           "mode": "markers",
           "type": "scatter",
           "x": [
            0.522757174969729,
            0.6908943564068857,
            0.4339372826495831,
            0.588642977436627,
            0.5865504975567496,
            0.691405254924105,
            0.822208962757789,
            0.43579303130829644
           ],
           "y": [
            -0.03935130503913649,
            0.10694554867539122,
            0.06451028110177104,
            0.4401027170057377,
            0.45129279079898943,
            0.9212106587825133,
            1.1446005305395575,
            1.0810546282390652
           ]
          }
         ],
         "name": "157"
        },
        {
         "data": [
          {
           "marker": {
            "color": [
             "red",
             "red",
             "red",
             "blue",
             "blue",
             "green",
             "green",
             "green"
            ]
           },
           "mode": "markers",
           "type": "scatter",
           "x": [
            0.5253753805390762,
            0.6890472022034958,
            0.42836262661901314,
            0.5757505566313891,
            0.5755967707673658,
            0.6982557631424452,
            0.8122964293040068,
            0.467504808802977
           ],
           "y": [
            -0.055079145449266335,
            0.11470341891245597,
            0.0922566447709118,
            0.4643047439832728,
            0.412119586473538,
            0.94658516291758,
            1.1809638338118253,
            1.0145116046835743
           ]
          }
         ],
         "name": "158"
        },
        {
         "data": [
          {
           "marker": {
            "color": [
             "red",
             "red",
             "red",
             "blue",
             "blue",
             "green",
             "green",
             "green"
            ]
           },
           "mode": "markers",
           "type": "scatter",
           "x": [
            0.5431388039021064,
            0.6787714816130782,
            0.4214834140524373,
            0.5761375319122136,
            0.5743263175079879,
            0.7075772925773585,
            0.8200587469907811,
            0.4506959494538028
           ],
           "y": [
            -0.00034734212957086635,
            0.09115652502046327,
            0.06868786075409096,
            0.4339342237362286,
            0.42457235096047957,
            0.9397152588459082,
            1.1861628402245636,
            1.026484132691726
           ]
          }
         ],
         "name": "159"
        },
        {
         "data": [
          {
           "marker": {
            "color": [
             "red",
             "red",
             "red",
             "blue",
             "blue",
             "green",
             "green",
             "green"
            ]
           },
           "mode": "markers",
           "type": "scatter",
           "x": [
            0.5470088518638744,
            0.6816681460763497,
            0.423455441948118,
            0.5733259981484476,
            0.5730015494621041,
            0.7091295230800938,
            0.8047203054192971,
            0.45987972201147925
           ],
           "y": [
            -0.013284316530948996,
            0.08787590606067598,
            0.08953647920654738,
            0.4258410167997443,
            0.4403957045269859,
            0.9321929235624037,
            1.1702515759298022,
            1.037556560548679
           ]
          }
         ],
         "name": "160"
        },
        {
         "data": [
          {
           "marker": {
            "color": [
             "red",
             "red",
             "red",
             "blue",
             "blue",
             "green",
             "green",
             "green"
            ]
           },
           "mode": "markers",
           "type": "scatter",
           "x": [
            0.5353164827880865,
            0.6753262394369782,
            0.44910954098826394,
            0.5658053714052783,
            0.5690712714383674,
            0.6972908965459964,
            0.815468160016839,
            0.464801575389956
           ],
           "y": [
            -0.06170239978877753,
            0.09863021414049873,
            0.12614417470691794,
            0.42469239984742085,
            0.43160648614923575,
            0.9299149809081702,
            1.1954662884716905,
            1.025613705668735
           ]
          }
         ],
         "name": "161"
        },
        {
         "data": [
          {
           "marker": {
            "color": [
             "red",
             "red",
             "red",
             "blue",
             "blue",
             "green",
             "green",
             "green"
            ]
           },
           "mode": "markers",
           "type": "scatter",
           "x": [
            0.5304980953109543,
            0.668393477336875,
            0.4621505591587918,
            0.5620338156907465,
            0.5592579414848862,
            0.7134890695330881,
            0.8149469923593274,
            0.461419587135098
           ],
           "y": [
            -0.054213778808480585,
            0.08352399564444311,
            0.12873064095736164,
            0.43790625095717656,
            0.42558961535814177,
            0.966777072634311,
            1.1938624396885824,
            0.9881896136723537
           ]
          }
         ],
         "name": "162"
        },
        {
         "data": [
          {
           "marker": {
            "color": [
             "red",
             "red",
             "red",
             "blue",
             "blue",
             "green",
             "green",
             "green"
            ]
           },
           "mode": "markers",
           "type": "scatter",
           "x": [
            0.5367683922187504,
            0.6609318585132794,
            0.44757502925737525,
            0.56407607763807,
            0.5660510659820459,
            0.7165108672822693,
            0.8187760300299484,
            0.4615002170880252
           ],
           "y": [
            -0.06303203669168396,
            0.09227078789834657,
            0.11776303709461713,
            0.4200806432400377,
            0.43404645211601883,
            0.993201847258779,
            1.1994817018056216,
            0.9765534173821496
           ]
          }
         ],
         "name": "163"
        },
        {
         "data": [
          {
           "marker": {
            "color": [
             "red",
             "red",
             "red",
             "blue",
             "blue",
             "green",
             "green",
             "green"
            ]
           },
           "mode": "markers",
           "type": "scatter",
           "x": [
            0.5250590500019037,
            0.6370974696517282,
            0.4731485934765128,
            0.5703885738915082,
            0.5668464410892874,
            0.7036260698876498,
            0.8224218246275754,
            0.47360151538359824
           ],
           "y": [
            -0.10873534726448579,
            0.11510944018826821,
            0.11701353521765678,
            0.4476992571358795,
            0.42862663648458865,
            0.9851329591957909,
            1.215592079104181,
            0.9699272900420076
           ]
          }
         ],
         "name": "164"
        },
        {
         "data": [
          {
           "marker": {
            "color": [
             "red",
             "red",
             "red",
             "blue",
             "blue",
             "green",
             "green",
             "green"
            ]
           },
           "mode": "markers",
           "type": "scatter",
           "x": [
            0.5245160553008165,
            0.657116243293555,
            0.447785321874861,
            0.5720378709755687,
            0.5754398830894943,
            0.6953144919656575,
            0.8189722468054843,
            0.48100742470432184
           ],
           "y": [
            -0.11315705884565455,
            0.10218204425896063,
            0.10536437492604689,
            0.4542510571133167,
            0.47289771408000947,
            0.9754616956847898,
            1.210847537048618,
            0.9625184858377998
           ]
          }
         ],
         "name": "165"
        },
        {
         "data": [
          {
           "marker": {
            "color": [
             "red",
             "red",
             "red",
             "blue",
             "blue",
             "green",
             "green",
             "green"
            ]
           },
           "mode": "markers",
           "type": "scatter",
           "x": [
            0.5181987168735659,
            0.6781718518881875,
            0.4435117467139714,
            0.574017811111479,
            0.5735298929513235,
            0.6933711184580341,
            0.8087339296116689,
            0.48265447040152626
           ],
           "y": [
            -0.11530940726607186,
            0.07689608339388465,
            0.10687091968147552,
            0.4843555976318819,
            0.4726712499696804,
            0.9729322615990914,
            1.1879749634309198,
            0.9839741816630245
           ]
          }
         ],
         "name": "166"
        },
        {
         "data": [
          {
           "marker": {
            "color": [
             "red",
             "red",
             "red",
             "blue",
             "blue",
             "green",
             "green",
             "green"
            ]
           },
           "mode": "markers",
           "type": "scatter",
           "x": [
            0.5201150199669266,
            0.6850173330913659,
            0.42144796647622357,
            0.5795697712041806,
            0.5862105056930575,
            0.6928736299311157,
            0.7976276853753268,
            0.48932762627156196
           ],
           "y": [
            -0.12796289262602015,
            0.10240229375701637,
            0.0948572348882674,
            0.47943755618066947,
            0.48726967592860077,
            0.9733405407714808,
            1.1685351444781602,
            0.9924862967257106
           ]
          }
         ],
         "name": "167"
        },
        {
         "data": [
          {
           "marker": {
            "color": [
             "red",
             "red",
             "red",
             "blue",
             "blue",
             "green",
             "green",
             "green"
            ]
           },
           "mode": "markers",
           "type": "scatter",
           "x": [
            0.5160554169691681,
            0.7009187671040815,
            0.4062642701449394,
            0.5831381993870399,
            0.5849710940539506,
            0.693762945076195,
            0.7797436918232455,
            0.5073351534511413
           ],
           "y": [
            -0.14647109836965458,
            0.12798745910629422,
            0.11298013162422033,
            0.47385431519808346,
            0.47402953174212725,
            1.0013921299698259,
            1.1443882312384968,
            0.982205149594495
           ]
          }
         ],
         "name": "168"
        },
        {
         "data": [
          {
           "marker": {
            "color": [
             "red",
             "red",
             "red",
             "blue",
             "blue",
             "green",
             "green",
             "green"
            ]
           },
           "mode": "markers",
           "type": "scatter",
           "x": [
            0.518097021315865,
            0.6921081046015061,
            0.4119346397670881,
            0.5873326573626111,
            0.5870061139127205,
            0.6963795001922775,
            0.7722572906590814,
            0.5070742101986119
           ],
           "y": [
            -0.15168852305453687,
            0.12825877179170853,
            0.12544626363470368,
            0.4582672112616086,
            0.476718988033754,
            1.0127074316944504,
            1.128224622653492,
            0.9924310840887108
           ]
          }
         ],
         "name": "169"
        },
        {
         "data": [
          {
           "marker": {
            "color": [
             "red",
             "red",
             "red",
             "blue",
             "blue",
             "green",
             "green",
             "green"
            ]
           },
           "mode": "markers",
           "type": "scatter",
           "x": [
            0.5075267507814222,
            0.7151527719824329,
            0.43137921606779717,
            0.5729715671823671,
            0.5648749884683693,
            0.6936729449325014,
            0.7903018966726555,
            0.49630940192221373
           ],
           "y": [
            -0.14237521359990354,
            0.08691349182426429,
            0.16125558414007946,
            0.46982918665623,
            0.4485051082924692,
            1.0187218939628706,
            1.1560425191087047,
            0.9714732797191793
           ]
          }
         ],
         "name": "170"
        },
        {
         "data": [
          {
           "marker": {
            "color": [
             "red",
             "red",
             "red",
             "blue",
             "blue",
             "green",
             "green",
             "green"
            ]
           },
           "mode": "markers",
           "type": "scatter",
           "x": [
            0.5052143298832402,
            0.7159333202988013,
            0.4434618091565668,
            0.5681679982895961,
            0.566704301622296,
            0.6945403039398992,
            0.8063964135117024,
            0.4717710613076558
           ],
           "y": [
            -0.1160947490108597,
            0.07289212651991785,
            0.1569921326500025,
            0.46785990161718816,
            0.46226720748862965,
            0.9876533776466727,
            1.1714991033259892,
            0.9672967498663505
           ]
          }
         ],
         "name": "171"
        },
        {
         "data": [
          {
           "marker": {
            "color": [
             "red",
             "red",
             "red",
             "blue",
             "blue",
             "green",
             "green",
             "green"
            ]
           },
           "mode": "markers",
           "type": "scatter",
           "x": [
            0.5009137791194939,
            0.7325908793313585,
            0.43926164739912865,
            0.5593848953862338,
            0.5606093136720237,
            0.7032746645596913,
            0.7738549306115199,
            0.5022994279303067
           ],
           "y": [
            -0.08648575744398676,
            0.044738776883211026,
            0.1454759438335817,
            0.45758930822613586,
            0.4616674170482229,
            1.0078506380930086,
            1.1597379387731421,
            0.9797915846905728
           ]
          }
         ],
         "name": "172"
        },
        {
         "data": [
          {
           "marker": {
            "color": [
             "red",
             "red",
             "red",
             "blue",
             "blue",
             "green",
             "green",
             "green"
            ]
           },
           "mode": "markers",
           "type": "scatter",
           "x": [
            0.49212209106123633,
            0.7358343513031591,
            0.44648097675720494,
            0.5603916047364803,
            0.562178639169469,
            0.7046641409135971,
            0.7814488662382063,
            0.4890688678304026
           ],
           "y": [
            -0.0902435778497096,
            0.050869833056682655,
            0.1625445203438606,
            0.46897745699771703,
            0.45646219061257143,
            1.0075057943915775,
            1.157615418250822,
            0.956634214300366
           ]
          }
         ],
         "name": "173"
        },
        {
         "data": [
          {
           "marker": {
            "color": [
             "red",
             "red",
             "red",
             "blue",
             "blue",
             "green",
             "green",
             "green"
            ]
           },
           "mode": "markers",
           "type": "scatter",
           "x": [
            0.49341064099407694,
            0.7504086629219676,
            0.4372033584844662,
            0.562832629737547,
            0.5645532295251349,
            0.7053051259798133,
            0.7830965497647095,
            0.475379340602044
           ],
           "y": [
            -0.07038781622013045,
            0.015402757718282943,
            0.1510595930430744,
            0.4771873170285474,
            0.475316764073316,
            0.9954280774967338,
            1.156985934934645,
            0.9693732220294197
           ]
          }
         ],
         "name": "174"
        },
        {
         "data": [
          {
           "marker": {
            "color": [
             "red",
             "red",
             "red",
             "blue",
             "blue",
             "green",
             "green",
             "green"
            ]
           },
           "mode": "markers",
           "type": "scatter",
           "x": [
            0.489695749766764,
            0.772924909929635,
            0.43180279909382324,
            0.560820048933255,
            0.5628834091134811,
            0.7016719132547717,
            0.7954832779543983,
            0.456907429963635
           ],
           "y": [
            -0.029484375324291087,
            -0.012937675945534096,
            0.15471600943454905,
            0.46613124918666593,
            0.46972708993432544,
            0.9886492234013767,
            1.1601610189707887,
            0.973403310446007
           ]
          }
         ],
         "name": "175"
        },
        {
         "data": [
          {
           "marker": {
            "color": [
             "red",
             "red",
             "red",
             "blue",
             "blue",
             "green",
             "green",
             "green"
            ]
           },
           "mode": "markers",
           "type": "scatter",
           "x": [
            0.49314522199155364,
            0.7647679829696535,
            0.43268800993365336,
            0.5675159936332891,
            0.5649134858751731,
            0.7053684083555644,
            0.7807769450227303,
            0.4630134902281443
           ],
           "y": [
            -0.03620368061517594,
            -0.013262325958198816,
            0.14019100669224074,
            0.4841798603463055,
            0.47178103220583384,
            0.9971093254072099,
            1.1387087848029287,
            0.9878618472227407
           ]
          }
         ],
         "name": "176"
        },
        {
         "data": [
          {
           "marker": {
            "color": [
             "red",
             "red",
             "red",
             "blue",
             "blue",
             "green",
             "green",
             "green"
            ]
           },
           "mode": "markers",
           "type": "scatter",
           "x": [
            0.49711419040230564,
            0.7528401666573133,
            0.43391609741834003,
            0.5760103018815607,
            0.5753751913059885,
            0.7247086593619639,
            0.7685615483139584,
            0.4436633826683304
           ],
           "y": [
            -0.04995914735361624,
            -0.003459108578632605,
            0.13141373875059162,
            0.4859410976602217,
            0.48496855564203634,
            1.017460078489661,
            1.094786741589611,
            1.0092138939040127
           ]
          }
         ],
         "name": "177"
        },
        {
         "data": [
          {
           "marker": {
            "color": [
             "red",
             "red",
             "red",
             "blue",
             "blue",
             "green",
             "green",
             "green"
            ]
           },
           "mode": "markers",
           "type": "scatter",
           "x": [
            0.4874410335565474,
            0.7465171775087708,
            0.4558873309469684,
            0.577735102961326,
            0.5808012568661491,
            0.7252020580002287,
            0.7538136470404669,
            0.44479193112930693
           ],
           "y": [
            -0.09151510403355588,
            0.00395937283132374,
            0.1678418247436087,
            0.5066561841511279,
            0.46526273370242405,
            1.0148476816430623,
            1.0738167544564818,
            1.0294964026094144
           ]
          }
         ],
         "name": "178"
        },
        {
         "data": [
          {
           "marker": {
            "color": [
             "red",
             "red",
             "red",
             "blue",
             "blue",
             "green",
             "green",
             "green"
            ]
           },
           "mode": "markers",
           "type": "scatter",
           "x": [
            0.49183414600362474,
            0.7575538123822164,
            0.4462101945251737,
            0.5793476661059099,
            0.582450863621663,
            0.7273351735776845,
            0.7614589121096574,
            0.42599876968383743
           ],
           "y": [
            -0.07182123901047183,
            -0.015375165018314313,
            0.17024979697938597,
            0.49010028324443367,
            0.4952638692834005,
            0.9781757816359645,
            1.085987372669568,
            1.037785150319923
           ]
          }
         ],
         "name": "179"
        },
        {
         "data": [
          {
           "marker": {
            "color": [
             "red",
             "red",
             "red",
             "blue",
             "blue",
             "green",
             "green",
             "green"
            ]
           },
           "mode": "markers",
           "type": "scatter",
           "x": [
            0.4954637355968737,
            0.7619122522865382,
            0.439971207267781,
            0.5742367706502051,
            0.5837762668696875,
            0.7221655920196408,
            0.7581084105627552,
            0.43655530275628485
           ],
           "y": [
            -0.0686185034885048,
            -0.028546758823558498,
            0.17660425245353475,
            0.49957569313511885,
            0.4994129898362823,
            0.9851750997639925,
            1.081025974063991,
            1.0257371031630338
           ]
          }
         ],
         "name": "180"
        },
        {
         "data": [
          {
           "marker": {
            "color": [
             "red",
             "red",
             "red",
             "blue",
             "blue",
             "green",
             "green",
             "green"
            ]
           },
           "mode": "markers",
           "type": "scatter",
           "x": [
            0.4777588568431957,
            0.7717664267435747,
            0.43630210049885515,
            0.585764710944077,
            0.588178131240181,
            0.720864196043308,
            0.7550221811672294,
            0.43653293452934294
           ],
           "y": [
            -0.10900875000710268,
            -3.26586958561934e-05,
            0.19293140359819566,
            0.49922935037734006,
            0.5052394946866041,
            0.9773613215927193,
            1.0756278923551044,
            1.029017796196887
           ]
          }
         ],
         "name": "181"
        },
        {
         "data": [
          {
           "marker": {
            "color": [
             "red",
             "red",
             "red",
             "blue",
             "blue",
             "green",
             "green",
             "green"
            ]
           },
           "mode": "markers",
           "type": "scatter",
           "x": [
            0.4904005930211868,
            0.7651815287131409,
            0.42234657733865294,
            0.5982621619151854,
            0.5896469275694598,
            0.7106230675853242,
            0.7787901455509264,
            0.4169385363158893
           ],
           "y": [
            -0.08925341000276833,
            0.011574327775556833,
            0.1790037105147167,
            0.498937962860678,
            0.5029337330141976,
            0.947504653866541,
            1.0860441863647428,
            1.0336206857102268
           ]
          }
         ],
         "name": "182"
        },
        {
         "data": [
          {
           "marker": {
            "color": [
             "red",
             "red",
             "red",
             "blue",
             "blue",
             "green",
             "green",
             "green"
            ]
           },
           "mode": "markers",
           "type": "scatter",
           "x": [
            0.49112373869195114,
            0.7632434370237251,
            0.438862546680436,
            0.5816688565102063,
            0.5949701427145256,
            0.708867933539102,
            0.7874237697244301,
            0.4060291131253905
           ],
           "y": [
            -0.0945824560832556,
            0.00483479419769971,
            0.2069884111454649,
            0.5083423720168803,
            0.48827515844837727,
            0.9450819200424263,
            1.0806248136638266,
            1.0308008366724644
           ]
          }
         ],
         "name": "183"
        },
        {
         "data": [
          {
           "marker": {
            "color": [
             "red",
             "red",
             "red",
             "blue",
             "blue",
             "green",
             "green",
             "green"
            ]
           },
           "mode": "markers",
           "type": "scatter",
           "x": [
            0.4928664476375636,
            0.7678731072395332,
            0.42841449849303076,
            0.5937861183969126,
            0.5871476789874118,
            0.7099844249870596,
            0.8066114253642477,
            0.3855058369040086
           ],
           "y": [
            -0.07221320851817706,
            0.0006828265368595211,
            0.18199075239999918,
            0.5261735195185916,
            0.5032693374915914,
            0.9180896631129211,
            1.0906024239796162,
            1.0217705355824844
           ]
          }
         ],
         "name": "184"
        },
        {
         "data": [
          {
           "marker": {
            "color": [
             "red",
             "red",
             "red",
             "blue",
             "blue",
             "green",
             "green",
             "green"
            ]
           },
           "mode": "markers",
           "type": "scatter",
           "x": [
            0.5071698598870806,
            0.7715418435704101,
            0.4119577516663218,
            0.5844555375951128,
            0.5916018426146274,
            0.6988366970442389,
            0.8232025442264734,
            0.38342346140550243
           ],
           "y": [
            -0.054906524179176734,
            -0.015379234140031567,
            0.17686355688502095,
            0.5252645192983643,
            0.5113354724942205,
            0.9111909347093138,
            1.1029489523942537,
            1.0130481726419205
           ]
          }
         ],
         "name": "185"
        },
        {
         "data": [
          {
           "marker": {
            "color": [
             "red",
             "red",
             "red",
             "blue",
             "blue",
             "green",
             "green",
             "green"
            ]
           },
           "mode": "markers",
           "type": "scatter",
           "x": [
            0.5039120380719959,
            0.7745929242174516,
            0.4178762327580033,
            0.5849590087103264,
            0.584242461672134,
            0.6755274681888477,
            0.8285678273830168,
            0.4025115770079933
           ],
           "y": [
            -0.058326086448249805,
            -0.022199983168375105,
            0.17818949855713292,
            0.5285385122752743,
            0.5116990375893118,
            0.9200886129306417,
            1.1073145435618426,
            1.0050617148063103
           ]
          }
         ],
         "name": "186"
        },
        {
         "data": [
          {
           "marker": {
            "color": [
             "red",
             "red",
             "red",
             "blue",
             "blue",
             "green",
             "green",
             "green"
            ]
           },
           "mode": "markers",
           "type": "scatter",
           "x": [
            0.49595055327194293,
            0.7767886238193121,
            0.42316239610645967,
            0.5883238953513499,
            0.588278441393035,
            0.6705931690159506,
            0.8362584039396014,
            0.39283405511212127
           ],
           "y": [
            -0.0375899365803227,
            -0.03009093558876823,
            0.15951374750872413,
            0.52325453751627,
            0.5234192515981219,
            0.9071987411651042,
            1.1135596585941039,
            1.0111007858906549
           ]
          }
         ],
         "name": "187"
        },
        {
         "data": [
          {
           "marker": {
            "color": [
             "red",
             "red",
             "red",
             "blue",
             "blue",
             "green",
             "green",
             "green"
            ]
           },
           "mode": "markers",
           "type": "scatter",
           "x": [
            0.49269805973152764,
            0.7937429801625127,
            0.41652244182217596,
            0.5826945901291289,
            0.5844386675514063,
            0.6784560088822263,
            0.8255508928183813,
            0.39808589691241214
           ],
           "y": [
            -0.04644662604846526,
            -0.040488187283164744,
            0.1863864148041731,
            0.5043113150137734,
            0.519723530766143,
            0.9252632597462874,
            1.1080905114635,
            1.013525631641641
           ]
          }
         ],
         "name": "188"
        },
        {
         "data": [
          {
           "marker": {
            "color": [
             "red",
             "red",
             "red",
             "blue",
             "blue",
             "green",
             "green",
             "green"
            ]
           },
           "mode": "markers",
           "type": "scatter",
           "x": [
            0.5144520711305078,
            0.7671677071005187,
            0.4227479565531903,
            0.5847550710394077,
            0.5841659065211328,
            0.669130012324905,
            0.8135057821049436,
            0.4162650312351673
           ],
           "y": [
            -0.029697257687579595,
            -0.05802930012519716,
            0.16879977881163993,
            0.5120758995128558,
            0.5281382611736318,
            0.926144215760266,
            1.1087570359715582,
            1.0141772166867127
           ]
          }
         ],
         "name": "189"
        },
        {
         "data": [
          {
           "marker": {
            "color": [
             "red",
             "red",
             "red",
             "blue",
             "blue",
             "green",
             "green",
             "green"
            ]
           },
           "mode": "markers",
           "type": "scatter",
           "x": [
            0.5142838359837543,
            0.7778949310938552,
            0.4170354147313285,
            0.5749430255397329,
            0.5817362822764287,
            0.679463066822902,
            0.8020092692936736,
            0.4248237122680946
           ],
           "y": [
            -0.032137086655006225,
            -0.06421096548751622,
            0.19518758466186434,
            0.5108050999874567,
            0.5179640951162469,
            0.9411772745576905,
            1.10384711455301,
            0.9977327333701391
           ]
          }
         ],
         "name": "190"
        },
        {
         "data": [
          {
           "marker": {
            "color": [
             "red",
             "red",
             "red",
             "blue",
             "blue",
             "green",
             "green",
             "green"
            ]
           },
           "mode": "markers",
           "type": "scatter",
           "x": [
            0.5250129747506291,
            0.764779658225142,
            0.4092352363323521,
            0.5792044768531639,
            0.5860625169616123,
            0.6772935773579113,
            0.8007765265426233,
            0.429824570986338
           ],
           "y": [
            -0.036786746605080696,
            -0.04967365221986264,
            0.18759742545718844,
            0.5095306069140023,
            0.5272352730371928,
            0.9266021861765933,
            1.1125699800095548,
            0.9932907773342957
           ]
          }
         ],
         "name": "191"
        },
        {
         "data": [
          {
           "marker": {
            "color": [
             "red",
             "red",
             "red",
             "blue",
             "blue",
             "green",
             "green",
             "green"
            ]
           },
           "mode": "markers",
           "type": "scatter",
           "x": [
            0.5454779740921172,
            0.7369301330726388,
            0.39120316024406887,
            0.5913691701088296,
            0.5898037654648188,
            0.673185382276867,
            0.814497007537679,
            0.4297229452127517
           ],
           "y": [
            -0.014625979303447572,
            -0.018743983919677125,
            0.15187970579697127,
            0.48963308376939374,
            0.5427420122058135,
            0.9170197928442259,
            1.1281428406128842,
            0.9743183780977254
           ]
          }
         ],
         "name": "192"
        },
        {
         "data": [
          {
           "marker": {
            "color": [
             "red",
             "red",
             "red",
             "blue",
             "blue",
             "green",
             "green",
             "green"
            ]
           },
           "mode": "markers",
           "type": "scatter",
           "x": [
            0.5671872795659529,
            0.7116142173608713,
            0.3981146501417975,
            0.5926424608384939,
            0.5887398662092238,
            0.6766217722492108,
            0.7900845713941796,
            0.4471847202500439
           ],
           "y": [
            -0.023146144790132557,
            -0.03783848013923912,
            0.13636356191949542,
            0.501467798584979,
            0.5484693799305651,
            0.9521473229765465,
            1.1006241826974281,
            0.9922782289242442
           ]
          }
         ],
         "name": "193"
        },
        {
         "data": [
          {
           "marker": {
            "color": [
             "red",
             "red",
             "red",
             "blue",
             "blue",
             "green",
             "green",
             "green"
            ]
           },
           "mode": "markers",
           "type": "scatter",
           "x": [
            0.5709260979884252,
            0.7037088139539982,
            0.4108768339541498,
            0.5839727329279256,
            0.5861761544987315,
            0.6843461953206879,
            0.8087288841819,
            0.4234538251839569
           ],
           "y": [
            -0.029563353829206704,
            -0.03525507486634606,
            0.1567969298914918,
            0.5145747281735837,
            0.5083591768716523,
            0.9554863807582837,
            1.1131888529406582,
            0.9867782101637712
           ]
          }
         ],
         "name": "194"
        },
        {
         "data": [
          {
           "marker": {
            "color": [
             "red",
             "red",
             "red",
             "blue",
             "blue",
             "green",
             "green",
             "green"
            ]
           },
           "mode": "markers",
           "type": "scatter",
           "x": [
            0.5776024211329355,
            0.6872125573758345,
            0.4028277649708183,
            0.581144793598264,
            0.5951428518134095,
            0.6721471215984883,
            0.8255745983013302,
            0.4305374292186935
           ],
           "y": [
            -0.01469255461180491,
            0.00756723220325007,
            0.12110872762102584,
            0.5043104391539132,
            0.5147770160663392,
            0.9315231268639071,
            1.1377404445819383,
            0.9680314182253167
           ]
          }
         ],
         "name": "195"
        },
        {
         "data": [
          {
           "marker": {
            "color": [
             "red",
             "red",
             "red",
             "blue",
             "blue",
             "green",
             "green",
             "green"
            ]
           },
           "mode": "markers",
           "type": "scatter",
           "x": [
            0.543621638144936,
            0.7120206010129818,
            0.4269651514589089,
            0.5801346937854064,
            0.5681138135974654,
            0.6667631707511386,
            0.8344770344209738,
            0.4400934348379666
           ],
           "y": [
            -0.00042188968812292713,
            -0.035312681254361405,
            0.1416416050405737,
            0.5226501724380356,
            0.5178288412502348,
            0.941446470302759,
            1.1544880548325804,
            0.9280452771821828
           ]
          }
         ],
         "name": "196"
        },
        {
         "data": [
          {
           "marker": {
            "color": [
             "red",
             "red",
             "red",
             "blue",
             "blue",
             "green",
             "green",
             "green"
            ]
           },
           "mode": "markers",
           "type": "scatter",
           "x": [
            0.5324149527994099,
            0.7380102768395947,
            0.41306544931075834,
            0.5706230654644118,
            0.569879549106466,
            0.6714466846221504,
            0.8160121263831526,
            0.46073743348383184
           ],
           "y": [
            -0.0034793456405933,
            -0.054782101677992585,
            0.15795278901132825,
            0.5137269597111187,
            0.5149300554615772,
            0.9785661682432762,
            1.1418356814705897,
            0.9216156435245788
           ]
          }
         ],
         "name": "197"
        },
        {
         "data": [
          {
           "marker": {
            "color": [
             "red",
             "red",
             "red",
             "blue",
             "blue",
             "green",
             "green",
             "green"
            ]
           },
           "mode": "markers",
           "type": "scatter",
           "x": [
            0.542076971851953,
            0.7421020270271471,
            0.42191802580805876,
            0.5724879134568335,
            0.5659265305233815,
            0.6665451520274431,
            0.8245450672287264,
            0.43658785008623135
           ],
           "y": [
            -0.005832883838008634,
            -0.07207501283099263,
            0.20045641604416709,
            0.5146869924266567,
            0.4904179268743247,
            0.9584994336759968,
            1.135353326465419,
            0.9488596512863242
           ]
          }
         ],
         "name": "198"
        },
        {
         "data": [
          {
           "marker": {
            "color": [
             "red",
             "red",
             "red",
             "blue",
             "blue",
             "green",
             "green",
             "green"
            ]
           },
           "mode": "markers",
           "type": "scatter",
           "x": [
            0.5425640285326543,
            0.7380408859470146,
            0.4294009809992883,
            0.5721246264699873,
            0.5733404912471094,
            0.6721489910025432,
            0.8134764533111487,
            0.43109308050002687
           ],
           "y": [
            0.0044281519684977975,
            -0.07298614057500298,
            0.19651091634211434,
            0.48239234270039827,
            0.5136908495405011,
            0.9643968592489809,
            1.1127512853757031,
            0.9691815855026968
           ]
          }
         ],
         "name": "199"
        },
        {
         "data": [
          {
           "marker": {
            "color": [
             "red",
             "red",
             "red",
             "blue",
             "blue",
             "green",
             "green",
             "green"
            ]
           },
           "mode": "markers",
           "type": "scatter",
           "x": [
            0.544616404925284,
            0.7262474720004981,
            0.4296366539834049,
            0.582675556453829,
            0.5840125930174428,
            0.6859189419834053,
            0.8240549271367414,
            0.3950269885091707
           ],
           "y": [
            0.0023513370295460876,
            -0.04732266506626509,
            0.17663423451369664,
            0.49556327597948635,
            0.5073075281157349,
            0.9537553021260229,
            1.0989180073592462,
            0.9831588300464179
           ]
          }
         ],
         "name": "200"
        },
        {
         "data": [
          {
           "marker": {
            "color": [
             "red",
             "red",
             "red",
             "blue",
             "blue",
             "green",
             "green",
             "green"
            ]
           },
           "mode": "markers",
           "type": "scatter",
           "x": [
            0.5404603240007988,
            0.7305234783258,
            0.44042193870790897,
            0.5658471042766,
            0.5786662975373691,
            0.6649782450267139,
            0.8453159503635703,
            0.4059761997710177
           ],
           "y": [
            -0.007711601121991794,
            -0.04707824311354526,
            0.19837751793842862,
            0.49929108066413114,
            0.4966781438109339,
            0.9451305309844702,
            1.1199108992605518,
            0.9657675216809047
           ]
          }
         ],
         "name": "201"
        },
        {
         "data": [
          {
           "marker": {
            "color": [
             "red",
             "red",
             "red",
             "blue",
             "blue",
             "green",
             "green",
             "green"
            ]
           },
           "mode": "markers",
           "type": "scatter",
           "x": [
            0.5299722683226505,
            0.7300316986735502,
            0.4397462176943522,
            0.5784846130776631,
            0.5834518229785428,
            0.668685452056481,
            0.8375587748028753,
            0.40425869040366613
           ],
           "y": [
            -0.023951465613430648,
            -0.023037554830091386,
            0.18539101005130357,
            0.5037759293365269,
            0.5235466430426521,
            0.9466824018323798,
            1.0997347274686435,
            0.9582241588158977
           ]
          }
         ],
         "name": "202"
        },
        {
         "data": [
          {
           "marker": {
            "color": [
             "red",
             "red",
             "red",
             "blue",
             "blue",
             "green",
             "green",
             "green"
            ]
           },
           "mode": "markers",
           "type": "scatter",
           "x": [
            0.5155411536336548,
            0.7276015233725679,
            0.46147789357573,
            0.5802201164309265,
            0.5733715232332572,
            0.6753598571092457,
            0.8212730167608321,
            0.41734445389357
           ],
           "y": [
            -0.059331982650232463,
            -0.010185285426617353,
            0.19809809831916178,
            0.5295247445041275,
            0.5324651808971113,
            0.9581339080405931,
            1.078563645238834,
            0.9430975411809065
           ]
          }
         ],
         "name": "203"
        },
        {
         "data": [
          {
           "marker": {
            "color": [
             "red",
             "red",
             "red",
             "blue",
             "blue",
             "green",
             "green",
             "green"
            ]
           },
           "mode": "markers",
           "type": "scatter",
           "x": [
            0.5023385956611959,
            0.71022041653781,
            0.47736621885271346,
            0.5780625893984465,
            0.5880237816282403,
            0.680687701897145,
            0.8252715161458769,
            0.4102187178883575
           ],
           "y": [
            -0.09434622946585451,
            0.04789574200292417,
            0.18089180392736529,
            0.5108679923621166,
            0.5132031428233005,
            0.9654525926279109,
            1.090355034907552,
            0.9560457709185718
           ]
          }
         ],
         "name": "204"
        },
        {
         "data": [
          {
           "marker": {
            "color": [
             "red",
             "red",
             "red",
             "blue",
             "blue",
             "green",
             "green",
             "green"
            ]
           },
           "mode": "markers",
           "type": "scatter",
           "x": [
            0.5082180898021685,
            0.6978521699291479,
            0.4842965967232455,
            0.5847434650103334,
            0.5890221814109322,
            0.6821013371183335,
            0.8247950368010125,
            0.4011606612146117
           ],
           "y": [
            -0.10319789402295886,
            0.049046317490246016,
            0.18074169383010236,
            0.5027711375833342,
            0.5136669600004724,
            0.958475782219021,
            1.0913313080583673,
            0.9775305449453029
           ]
          }
         ],
         "name": "205"
        },
        {
         "data": [
          {
           "marker": {
            "color": [
             "red",
             "red",
             "red",
             "blue",
             "blue",
             "green",
             "green",
             "green"
            ]
           },
           "mode": "markers",
           "type": "scatter",
           "x": [
            0.5086905607876093,
            0.7029153047009659,
            0.46298119408542937,
            0.5925661201086789,
            0.5952050971203742,
            0.6789318454617979,
            0.8337598311318793,
            0.39713958461304666
           ],
           "y": [
            -0.0974867177252868,
            0.061119983677181626,
            0.13823610766737876,
            0.5256402687501903,
            0.5235748601604228,
            0.9287334250499784,
            1.1103002093178078,
            0.9802477132062116
           ]
          }
         ],
         "name": "206"
        },
        {
         "data": [
          {
           "marker": {
            "color": [
             "red",
             "red",
             "red",
             "blue",
             "blue",
             "green",
             "green",
             "green"
            ]
           },
           "mode": "markers",
           "type": "scatter",
           "x": [
            0.502955388843054,
            0.7152161036379335,
            0.44218776892429745,
            0.6009437432711972,
            0.6005000288590112,
            0.6943727345900734,
            0.8264468355007043,
            0.38956693438351264
           ],
           "y": [
            -0.130185494431594,
            0.09041876504030952,
            0.12595647250372236,
            0.5392025693251956,
            0.5408672034121179,
            0.9237761854005256,
            1.1002504380933482,
            0.9800797107602595
           ]
          }
         ],
         "name": "207"
        },
        {
         "data": [
          {
           "marker": {
            "color": [
             "red",
             "red",
             "red",
             "blue",
             "blue",
             "green",
             "green",
             "green"
            ]
           },
           "mode": "markers",
           "type": "scatter",
           "x": [
            0.4969756496847358,
            0.7236912776297051,
            0.4415692330257426,
            0.5954530550200868,
            0.6008457506239809,
            0.6940939390947564,
            0.8353093497039465,
            0.384251283226832
           ],
           "y": [
            -0.14217423486068384,
            0.12655933731763258,
            0.14216583920118123,
            0.5137294844968358,
            0.5402195686388891,
            0.9074292320902524,
            1.1072976990649408,
            0.975138924154833
           ]
          }
         ],
         "name": "208"
        },
        {
         "data": [
          {
           "marker": {
            "color": [
             "red",
             "red",
             "red",
             "blue",
             "blue",
             "green",
             "green",
             "green"
            ]
           },
           "mode": "markers",
           "type": "scatter",
           "x": [
            0.48875193854486454,
            0.7276359448793804,
            0.46631582953893536,
            0.5913128478244442,
            0.594864855971335,
            0.6957935038570437,
            0.8275563983409333,
            0.37995821905284954
           ],
           "y": [
            -0.15915439858299224,
            0.10882609087520025,
            0.19295082828834018,
            0.5102839587732756,
            0.5255849816500309,
            0.9259428514648739,
            1.0893046254994045,
            0.9766269121357508
           ]
          }
         ],
         "name": "209"
        },
        {
         "data": [
          {
           "marker": {
            "color": [
             "red",
             "red",
             "red",
             "blue",
             "blue",
             "green",
             "green",
             "green"
            ]
           },
           "mode": "markers",
           "type": "scatter",
           "x": [
            0.49499366638414355,
            0.7136413319579571,
            0.4685381846226548,
            0.5932897546854273,
            0.5943822134982935,
            0.6978005464177071,
            0.8412547239054267,
            0.36828911653817675
           ],
           "y": [
            -0.13090992634161194,
            0.13222656216952594,
            0.1644480728556154,
            0.4896917276304571,
            0.4959767612569359,
            0.9173607339777452,
            1.1075662858121167,
            0.9940056327430978
           ]
          }
         ],
         "name": "210"
        },
        {
         "data": [
          {
           "marker": {
            "color": [
             "red",
             "red",
             "red",
             "blue",
             "blue",
             "green",
             "green",
             "green"
            ]
           },
           "mode": "markers",
           "type": "scatter",
           "x": [
            0.4958616681592665,
            0.7283518702161313,
            0.4662065221751473,
            0.5916787147586725,
            0.5861585016937101,
            0.6952546924217539,
            0.8337198904960218,
            0.3749576780890856
           ],
           "y": [
            -0.10001201134208992,
            0.10927086473379793,
            0.16039078554274586,
            0.4917238342915213,
            0.47494729203889213,
            0.929477794428622,
            1.1005089351710526,
            1.0040583552393343
           ]
          }
         ],
         "name": "211"
        },
        {
         "data": [
          {
           "marker": {
            "color": [
             "red",
             "red",
             "red",
             "blue",
             "blue",
             "green",
             "green",
             "green"
            ]
           },
           "mode": "markers",
           "type": "scatter",
           "x": [
            0.4927191176744125,
            0.7199834220438492,
            0.4701335246270569,
            0.5995104307914683,
            0.5975748133328047,
            0.6870991836154787,
            0.8525619695103447,
            0.3526070764143778
           ],
           "y": [
            -0.1108361607467995,
            0.12677333619480172,
            0.14928051344915366,
            0.48766907068049703,
            0.5013659358932299,
            0.8930903588245545,
            1.1064578647216725,
            1.0165649310867637
           ]
          }
         ],
         "name": "212"
        },
        {
         "data": [
          {
           "marker": {
            "color": [
             "red",
             "red",
             "red",
             "blue",
             "blue",
             "green",
             "green",
             "green"
            ]
           },
           "mode": "markers",
           "type": "scatter",
           "x": [
            0.4960589811765083,
            0.7193602024568393,
            0.46146607275002705,
            0.6001769006698356,
            0.6074955365804177,
            0.6847430835292635,
            0.8642611651619613,
            0.33862759568494116
           ],
           "y": [
            -0.10360301595242419,
            0.14951524118492032,
            0.1313452774680834,
            0.49044597113455396,
            0.5029714607844541,
            0.8716106941744614,
            1.1054515515443846,
            1.022628669765439
           ]
          }
         ],
         "name": "213"
        },
        {
         "data": [
          {
           "marker": {
            "color": [
             "red",
             "red",
             "red",
             "blue",
             "blue",
             "green",
             "green",
             "green"
            ]
           },
           "mode": "markers",
           "type": "scatter",
           "x": [
            0.4939268924000236,
            0.7286906313452581,
            0.47826701143910516,
            0.5906546231586346,
            0.6001739404136867,
            0.6906973150308632,
            0.8526325222418676,
            0.3371466019803542
           ],
           "y": [
            -0.10205868965640418,
            0.12603939226159852,
            0.16593345338284396,
            0.46414990276523105,
            0.51051826231338,
            0.8720897401268185,
            1.096190038038539,
            1.0375037508718676
           ]
          }
         ],
         "name": "214"
        },
        {
         "data": [
          {
           "marker": {
            "color": [
             "red",
             "red",
             "red",
             "blue",
             "blue",
             "green",
             "green",
             "green"
            ]
           },
           "mode": "markers",
           "type": "scatter",
           "x": [
            0.49172565743013713,
            0.7312285375598833,
            0.46942030651215705,
            0.5975270723987179,
            0.599594648771012,
            0.690688295666223,
            0.8307500982832097,
            0.3612549213884561
           ],
           "y": [
            -0.11450039028937109,
            0.12365428875376401,
            0.1576301561291921,
            0.5020790253058409,
            0.5087850257097619,
            0.8823780871176179,
            1.0849926020088807,
            1.0253470553681856
           ]
          }
         ],
         "name": "215"
        },
        {
         "data": [
          {
           "marker": {
            "color": [
             "red",
             "red",
             "red",
             "blue",
             "blue",
             "green",
             "green",
             "green"
            ]
           },
           "mode": "markers",
           "type": "scatter",
           "x": [
            0.4915000272265086,
            0.7331301918921538,
            0.45884970670173875,
            0.6002462198113501,
            0.5985446804892467,
            0.6893956336195726,
            0.8248881282803683,
            0.37563494998886116
           ],
           "y": [
            -0.09448659230720344,
            0.1316082757887095,
            0.13539821664595275,
            0.4904128398610301,
            0.49706803208373146,
            0.8980954170405802,
            1.0925290890519335,
            1.0197405719391412
           ]
          }
         ],
         "name": "216"
        },
        {
         "data": [
          {
           "marker": {
            "color": [
             "red",
             "red",
             "red",
             "blue",
             "blue",
             "green",
             "green",
             "green"
            ]
           },
           "mode": "markers",
           "type": "scatter",
           "x": [
            0.5009724963993715,
            0.720392794474897,
            0.4712044311498358,
            0.5922876095085053,
            0.5963552287689784,
            0.6761567011212974,
            0.843361918293925,
            0.37145835829298934
           ],
           "y": [
            -0.07683333440179049,
            0.11331843508022385,
            0.15254831527702484,
            0.48116349143136794,
            0.4952369610239638,
            0.8809274981726941,
            1.1113213967210271,
            1.0126830867993624
           ]
          }
         ],
         "name": "217"
        },
        {
         "data": [
          {
           "marker": {
            "color": [
             "red",
             "red",
             "red",
             "blue",
             "blue",
             "green",
             "green",
             "green"
            ]
           },
           "mode": "markers",
           "type": "scatter",
           "x": [
            0.4992097245839218,
            0.7360293628573041,
            0.46299316069110324,
            0.604345788279015,
            0.6047851935974523,
            0.6888293305818621,
            0.8386005214436778,
            0.3373964559754657
           ],
           "y": [
            -0.05708544544005388,
            0.10213443403808978,
            0.13391793907701657,
            0.4888532363986592,
            0.4870526647084904,
            0.8704342317397227,
            1.0873901225295564,
            1.057668667052396
           ]
          }
         ],
         "name": "218"
        },
        {
         "data": [
          {
           "marker": {
            "color": [
             "red",
             "red",
             "red",
             "blue",
             "blue",
             "green",
             "green",
             "green"
            ]
           },
           "mode": "markers",
           "type": "scatter",
           "x": [
            0.49344864573568026,
            0.7493071795876171,
            0.4636873482043471,
            0.6079996405935364,
            0.6063602635530154,
            0.6941694437425509,
            0.8290735170789633,
            0.3281434995140941
           ],
           "y": [
            -0.027640422325067106,
            0.08482397031749081,
            0.10443333909448359,
            0.4901778831607712,
            0.4850044996712113,
            0.8735744976081861,
            1.0734383902403488,
            1.086553692336452
           ]
          }
         ],
         "name": "219"
        },
        {
         "data": [
          {
           "marker": {
            "color": [
             "red",
             "red",
             "red",
             "blue",
             "blue",
             "green",
             "green",
             "green"
            ]
           },
           "mode": "markers",
           "type": "scatter",
           "x": [
            0.4941020264007246,
            0.7431836664173096,
            0.4532826277545494,
            0.6124749635997795,
            0.6110561777103837,
            0.709858471149223,
            0.7972252496288218,
            0.3510063553490107
           ],
           "y": [
            -0.06545408806014626,
            0.11257113121062257,
            0.10701126644383219,
            0.5145433535265793,
            0.4769158482355029,
            0.8937665425630013,
            1.0519492603854717,
            1.0790625357990111
           ]
          }
         ],
         "name": "220"
        },
        {
         "data": [
          {
           "marker": {
            "color": [
             "red",
             "red",
             "red",
             "blue",
             "blue",
             "green",
             "green",
             "green"
            ]
           },
           "mode": "markers",
           "type": "scatter",
           "x": [
            0.48285642682051383,
            0.7768924389485845,
            0.4427849237313616,
            0.5967509356200675,
            0.5961946012062478,
            0.7030528206105086,
            0.8073593785418974,
            0.3662980125306197
           ],
           "y": [
            -0.05254768074485507,
            0.08681661527985897,
            0.11604229845006972,
            0.5150697919243743,
            0.5021429974046051,
            0.8885458758818499,
            1.0782425054325218,
            1.0360534464754505
           ]
          }
         ],
         "name": "221"
        },
        {
         "data": [
          {
           "marker": {
            "color": [
             "red",
             "red",
             "red",
             "blue",
             "blue",
             "green",
             "green",
             "green"
            ]
           },
           "mode": "markers",
           "type": "scatter",
           "x": [
            0.46853466108965874,
            0.7974098517574467,
            0.4543402174316474,
            0.5861264157341511,
            0.6087825408184275,
            0.7194399414525728,
            0.7792194392842261,
            0.3583364704416695
           ],
           "y": [
            -0.08246585857415702,
            0.06719037424004749,
            0.15376640069922365,
            0.5015524125347128,
            0.5386483437117162,
            0.9199500650154098,
            1.017796135833305,
            1.0539279766436156
           ]
          }
         ],
         "name": "222"
        },
        {
         "data": [
          {
           "marker": {
            "color": [
             "red",
             "red",
             "red",
             "blue",
             "blue",
             "green",
             "green",
             "green"
            ]
           },
           "mode": "markers",
           "type": "scatter",
           "x": [
            0.47060370488792935,
            0.7850759969756211,
            0.4509589950679452,
            0.5933397612064427,
            0.6122015527417182,
            0.7258721159395439,
            0.7607645146408964,
            0.3733728965497045
           ],
           "y": [
            -0.09593833895800342,
            0.076327169049342,
            0.1481182246496965,
            0.5171296127693988,
            0.538597382814283,
            0.9194528557776729,
            1.0231044727474177,
            1.0435744712540664
           ]
          }
         ],
         "name": "223"
        },
        {
         "data": [
          {
           "marker": {
            "color": [
             "red",
             "red",
             "red",
             "blue",
             "blue",
             "green",
             "green",
             "green"
            ]
           },
           "mode": "markers",
           "type": "scatter",
           "x": [
            0.4807447795891628,
            0.7913926014154838,
            0.4311223295885279,
            0.6006631954902465,
            0.6012628620404415,
            0.7205329448755994,
            0.7600291030383335,
            0.3864417219720079
           ],
           "y": [
            -0.11316149830241903,
            0.07173316765429738,
            0.15873613979748147,
            0.5457199301560268,
            0.5454835656603414,
            0.9033763185247717,
            1.031097421357702,
            1.0273808052556697
           ]
          }
         ],
         "name": "224"
        },
        {
         "data": [
          {
           "marker": {
            "color": [
             "red",
             "red",
             "red",
             "blue",
             "blue",
             "green",
             "green",
             "green"
            ]
           },
           "mode": "markers",
           "type": "scatter",
           "x": [
            0.46281752570909945,
            0.8223392548071373,
            0.4358404308156078,
            0.6027326646181033,
            0.6021089999737207,
            0.7110744048001587,
            0.7641718448913061,
            0.37110441239466796
           ],
           "y": [
            -0.12348757276834459,
            0.061225073501683436,
            0.1853629703144736,
            0.5363377256189765,
            0.5597676502134594,
            0.8668617509979802,
            1.0320986166693888,
            1.052199635556256
           ]
          }
         ],
         "name": "225"
        },
        {
         "data": [
          {
           "marker": {
            "color": [
             "red",
             "red",
             "red",
             "blue",
             "blue",
             "green",
             "green",
             "green"
            ]
           },
           "mode": "markers",
           "type": "scatter",
           "x": [
            0.4704472795344763,
            0.8110773813849385,
            0.43860672493026237,
            0.6072219199243349,
            0.6071803468437235,
            0.7027859444688702,
            0.7770137308418381,
            0.35785621008135776
           ],
           "y": [
            -0.10483635691503508,
            0.056511489469502504,
            0.170328046324351,
            0.5417165435085263,
            0.5417762790733701,
            0.8441713291566565,
            1.0539460100691,
            1.0667525094173995
           ]
          }
         ],
         "name": "226"
        },
        {
         "data": [
          {
           "marker": {
            "color": [
             "red",
             "red",
             "red",
             "blue",
             "blue",
             "green",
             "green",
             "green"
            ]
           },
           "mode": "markers",
           "type": "scatter",
           "x": [
            0.4643307637430318,
            0.8321656582016024,
            0.4369499813153266,
            0.6118623288636005,
            0.6074188917995076,
            0.7004437295479353,
            0.7712654522980544,
            0.347752732240744
           ],
           "y": [
            -0.09000435316813284,
            0.03755960980824307,
            0.15295901282335672,
            0.5579528914281096,
            0.5540766932492166,
            0.8415049321362649,
            1.0231160937333812,
            1.0932009700934378
           ]
          }
         ],
         "name": "227"
        },
        {
         "data": [
          {
           "marker": {
            "color": [
             "red",
             "red",
             "red",
             "blue",
             "blue",
             "green",
             "green",
             "green"
            ]
           },
           "mode": "markers",
           "type": "scatter",
           "x": [
            0.4557796021665527,
            0.8535655606323537,
            0.43323675793569844,
            0.6046717008684076,
            0.6053535153340495,
            0.6954864853659776,
            0.7626471171610012,
            0.36144879854576173
           ],
           "y": [
            -0.09509436362984879,
            0.023712673661018712,
            0.17096089800812633,
            0.5421111665984368,
            0.5503108677261467,
            0.8755456610949328,
            1.0150012359586404,
            1.08781771068642
           ]
          }
         ],
         "name": "228"
        },
        {
         "data": [
          {
           "marker": {
            "color": [
             "red",
             "red",
             "red",
             "blue",
             "blue",
             "green",
             "green",
             "green"
            ]
           },
           "mode": "markers",
           "type": "scatter",
           "x": [
            0.4540958118556121,
            0.8389030436270181,
            0.43343899814124975,
            0.6144179772184508,
            0.6149939537492581,
            0.6844364802589726,
            0.76600041955466,
            0.36590285360457864
           ],
           "y": [
            -0.11768839856823295,
            0.05016224397949042,
            0.1548964705809948,
            0.5424897831200669,
            0.5502147403956874,
            0.8714294287185045,
            1.0184114612929056,
            1.100450120584459
           ]
          }
         ],
         "name": "229"
        },
        {
         "data": [
          {
           "marker": {
            "color": [
             "red",
             "red",
             "red",
             "blue",
             "blue",
             "green",
             "green",
             "green"
            ]
           },
           "mode": "markers",
           "type": "scatter",
           "x": [
            0.4513079828805047,
            0.8353517656687841,
            0.4399158730845138,
            0.6292890668113061,
            0.6202393162899483,
            0.6895470704453528,
            0.7550168099845368,
            0.351521652844853
           ],
           "y": [
            -0.12196375537390312,
            0.06733782562289749,
            0.1683013425559712,
            0.5406442094868994,
            0.5341943774452311,
            0.8658072488255897,
            0.9844162814822214,
            1.1316283200589696
           ]
          }
         ],
         "name": "230"
        },
        {
         "data": [
          {
           "marker": {
            "color": [
             "red",
             "red",
             "red",
             "blue",
             "blue",
             "green",
             "green",
             "green"
            ]
           },
           "mode": "markers",
           "type": "scatter",
           "x": [
            0.4552359743570757,
            0.8348192412025424,
            0.44147622193718417,
            0.6274363704618987,
            0.624772092441482,
            0.694773285519614,
            0.7499466338430354,
            0.343729718246967
           ],
           "y": [
            -0.1315631119998162,
            0.06464272905823318,
            0.18522427603167327,
            0.5198297671558292,
            0.5338036813890208,
            0.862891644883315,
            0.9836873217431473,
            1.1518495418424772
           ]
          }
         ],
         "name": "231"
        },
        {
         "data": [
          {
           "marker": {
            "color": [
             "red",
             "red",
             "red",
             "blue",
             "blue",
             "green",
             "green",
             "green"
            ]
           },
           "mode": "markers",
           "type": "scatter",
           "x": [
            0.4574529521272911,
            0.8494752209182876,
            0.45028302407064624,
            0.6024259991649472,
            0.6250595795534746,
            0.7006139043749453,
            0.728409093686539,
            0.358469764113668
           ],
           "y": [
            -0.08713066384274161,
            0.03764547416518789,
            0.18049825212580278,
            0.5017481769555938,
            0.5217226308071437,
            0.8951591878703077,
            0.9754741641885614,
            1.1452486278340277
           ]
          }
         ],
         "name": "232"
        },
        {
         "data": [
          {
           "marker": {
            "color": [
             "red",
             "red",
             "red",
             "blue",
             "blue",
             "green",
             "green",
             "green"
            ]
           },
           "mode": "markers",
           "type": "scatter",
           "x": [
            0.44918640241950886,
            0.8806842111701109,
            0.45387257827114136,
            0.6051656901779566,
            0.6071435996423242,
            0.696280690997417,
            0.7358145980486521,
            0.34404176728268515
           ],
           "y": [
            -0.0897498526139293,
            0.007752707529634532,
            0.21257131304033064,
            0.5105427975096255,
            0.5212604061362012,
            0.8985005708300031,
            0.9517819947973591,
            1.1577059128746583
           ]
          }
         ],
         "name": "233"
        },
        {
         "data": [
          {
           "marker": {
            "color": [
             "red",
             "red",
             "red",
             "blue",
             "blue",
             "green",
             "green",
             "green"
            ]
           },
           "mode": "markers",
           "type": "scatter",
           "x": [
            0.4475720871026128,
            0.8923134994561183,
            0.42470039332549797,
            0.6080618603705505,
            0.6086396958097142,
            0.6985520964101211,
            0.721129058700116,
            0.3712208468350632
           ],
           "y": [
            -0.0763313613790517,
            0.010586769071443286,
            0.17459211520910792,
            0.5275164112565581,
            0.5316789756026955,
            0.9102669311081623,
            0.965031606382309,
            1.1270244028526586
           ]
          }
         ],
         "name": "234"
        },
        {
         "data": [
          {
           "marker": {
            "color": [
             "red",
             "red",
             "red",
             "blue",
             "blue",
             "green",
             "green",
             "green"
            ]
           },
           "mode": "markers",
           "type": "scatter",
           "x": [
            0.45325583905393924,
            0.8662578617210681,
            0.4153568149505525,
            0.611705134886281,
            0.6141891457542148,
            0.6893498907953812,
            0.7243369087088077,
            0.39773794213954744
           ],
           "y": [
            -0.08707741227069067,
            0.042610031154286875,
            0.14678800936302805,
            0.5391354293128764,
            0.5304164298687949,
            0.9112390134476386,
            0.9930543625754847,
            1.0941999866524657
           ]
          }
         ],
         "name": "235"
        },
        {
         "data": [
          {
           "marker": {
            "color": [
             "red",
             "red",
             "red",
             "blue",
             "blue",
             "green",
             "green",
             "green"
            ]
           },
           "mode": "markers",
           "type": "scatter",
           "x": [
            0.4536270384599985,
            0.8663224411714511,
            0.4358206175866772,
            0.6005060396762775,
            0.6037194520360059,
            0.693937636882617,
            0.7345816651203916,
            0.3836746470763764
           ],
           "y": [
            -0.06918703546517992,
            0.030336271452850266,
            0.15205381388750444,
            0.5227465130523139,
            0.5266989001530425,
            0.9088072705030449,
            0.9923589719413405,
            1.1065511445789673
           ]
          }
         ],
         "name": "236"
        },
        {
         "data": [
          {
           "marker": {
            "color": [
             "red",
             "red",
             "red",
             "blue",
             "blue",
             "green",
             "green",
             "green"
            ]
           },
           "mode": "markers",
           "type": "scatter",
           "x": [
            0.44796797719021714,
            0.8550232331009662,
            0.4377922380908574,
            0.6041100070379836,
            0.6111620540418862,
            0.6954142146755603,
            0.7425822873384055,
            0.37813752653391686
           ],
           "y": [
            -0.05729259474739737,
            0.054756893566565934,
            0.11994647720396874,
            0.5083135384770792,
            0.5221361540606047,
            0.9180597141509368,
            0.992539316615776,
            1.111906350776346
           ]
          }
         ],
         "name": "237"
        },
        {
         "data": [
          {
           "marker": {
            "color": [
             "red",
             "red",
             "red",
             "blue",
             "blue",
             "green",
             "green",
             "green"
            ]
           },
           "mode": "markers",
           "type": "scatter",
           "x": [
            0.43971709684856436,
            0.8589605794030709,
            0.43576511394183876,
            0.6062537465627916,
            0.6101843682499604,
            0.6799366777499608,
            0.75046035655698,
            0.3909115986966257
           ],
           "y": [
            -0.0879186325712361,
            0.05829300824898212,
            0.1518311079732706,
            0.4994655681083248,
            0.5385729424452409,
            0.9160874653579598,
            1.0101932035785768,
            1.0838411869627618
           ]
          }
         ],
         "name": "238"
        },
        {
         "data": [
          {
           "marker": {
            "color": [
             "red",
             "red",
             "red",
             "blue",
             "blue",
             "green",
             "green",
             "green"
            ]
           },
           "mode": "markers",
           "type": "scatter",
           "x": [
            0.450140339205515,
            0.8514228877808474,
            0.43225617763248214,
            0.606873121503541,
            0.6028768337770103,
            0.6722191439486531,
            0.7734612837020585,
            0.3829397504596848
           ],
           "y": [
            -0.08178310252572614,
            0.06229097366702342,
            0.1518423695946833,
            0.5029163588170749,
            0.5070835557751158,
            0.9008668243301173,
            1.0389862419065603,
            1.088162628539035
           ]
          }
         ],
         "name": "239"
        },
        {
         "data": [
          {
           "marker": {
            "color": [
             "red",
             "red",
             "red",
             "blue",
             "blue",
             "green",
             "green",
             "green"
            ]
           },
           "mode": "markers",
           "type": "scatter",
           "x": [
            0.4561306170530532,
            0.8407889669256163,
            0.4472737713048463,
            0.6001295860797592,
            0.6013271612308401,
            0.6600294405685057,
            0.7910124510956995,
            0.3754975437514719
           ],
           "y": [
            -0.08583916344760235,
            0.049022786048767066,
            0.17321142973452414,
            0.5118689952840726,
            0.5069508446563218,
            0.8680133194805155,
            1.063989771262216,
            1.083147867085069
           ]
          }
         ],
         "name": "240"
        },
        {
         "data": [
          {
           "marker": {
            "color": [
             "red",
             "red",
             "red",
             "blue",
             "blue",
             "green",
             "green",
             "green"
            ]
           },
           "mode": "markers",
           "type": "scatter",
           "x": [
            0.45189453103993366,
            0.8411566742125255,
            0.4494121989218354,
            0.6001949893739584,
            0.601702465571412,
            0.6565228050157318,
            0.7879748454206192,
            0.3833310284537763
           ],
           "y": [
            -0.10377856199351423,
            0.0531334597908069,
            0.16286102142722675,
            0.5509061240343391,
            0.5216269107900589,
            0.8641227499328201,
            1.046581324140643,
            1.074912821981498
           ]
          }
         ],
         "name": "241"
        },
        {
         "data": [
          {
           "marker": {
            "color": [
             "red",
             "red",
             "red",
             "blue",
             "blue",
             "green",
             "green",
             "green"
            ]
           },
           "mode": "markers",
           "type": "scatter",
           "x": [
            0.45151842649484364,
            0.7997598597193344,
            0.4669577372423828,
            0.6158171805577617,
            0.6146144954832015,
            0.6644560585740938,
            0.7940780854093957,
            0.3649876945287834
           ],
           "y": [
            -0.12419040425859636,
            0.08815709262376026,
            0.13781113348650836,
            0.5300798239019295,
            0.5295091325975445,
            0.8697064864347612,
            1.0424390763397553,
            1.0968535089782157
           ]
          }
         ],
         "name": "242"
        },
        {
         "data": [
          {
           "marker": {
            "color": [
             "red",
             "red",
             "red",
             "blue",
             "blue",
             "green",
             "green",
             "green"
            ]
           },
           "mode": "markers",
           "type": "scatter",
           "x": [
            0.4493626955466599,
            0.8031478725266364,
            0.4657752789411356,
            0.6186958282862207,
            0.6143672243450328,
            0.6582446603149342,
            0.8137605225018497,
            0.34883545554733125
           ],
           "y": [
            -0.11928291572819823,
            0.09650875592474054,
            0.1434645581202406,
            0.5247392530579417,
            0.5207646124784634,
            0.8442006478098681,
            1.0564412145619295,
            1.1035297238788886
           ]
          }
         ],
         "name": "243"
        },
        {
         "data": [
          {
           "marker": {
            "color": [
             "red",
             "red",
             "red",
             "blue",
             "blue",
             "green",
             "green",
             "green"
            ]
           },
           "mode": "markers",
           "type": "scatter",
           "x": [
            0.45846552026230974,
            0.8101007577005231,
            0.4448555090816486,
            0.6180914245291244,
            0.6104154488512292,
            0.6669304769605656,
            0.8218323433615393,
            0.341498057262862
           ],
           "y": [
            -0.08952153108110207,
            0.10005100426281194,
            0.11980207701837743,
            0.5256962462568279,
            0.5161880610711327,
            0.8592098059652564,
            1.0505453551787576,
            1.0883948314318135
           ]
          }
         ],
         "name": "244"
        },
        {
         "data": [
          {
           "marker": {
            "color": [
             "red",
             "red",
             "red",
             "blue",
             "blue",
             "green",
             "green",
             "green"
            ]
           },
           "mode": "markers",
           "type": "scatter",
           "x": [
            0.46387388735725926,
            0.7945864883655024,
            0.43943118231738304,
            0.6233271879245063,
            0.6281486810207427,
            0.6758199213200903,
            0.8092024827432438,
            0.33779970696107353
           ],
           "y": [
            -0.09274282520934118,
            0.12034376946884173,
            0.09610224361650911,
            0.5249628148775133,
            0.5270857472568911,
            0.8469664884859305,
            1.0399121501054018,
            1.1077354615021304
           ]
          }
         ],
         "name": "245"
        }
       ],
       "layout": {
        "height": 500,
        "margin": {
         "b": 20,
         "l": 20,
         "r": 20,
         "t": 20
        },
        "sliders": [
         {
          "currentvalue": {
           "font": {
            "size": 20
           },
           "prefix": "Frame:",
           "visible": true,
           "xanchor": "right"
          },
          "len": 0.9,
          "pad": {
           "b": 10,
           "t": 50
          },
          "steps": [
           {
            "args": [
             [
              0
             ],
             {
              "frame": {
               "duration": 300,
               "redraw": true
              },
              "mode": "immediate",
              "transition": {
               "duration": 300
              }
             }
            ],
            "label": "0",
            "method": "animate"
           },
           {
            "args": [
             [
              1
             ],
             {
              "frame": {
               "duration": 300,
               "redraw": true
              },
              "mode": "immediate",
              "transition": {
               "duration": 300
              }
             }
            ],
            "label": "1",
            "method": "animate"
           },
           {
            "args": [
             [
              2
             ],
             {
              "frame": {
               "duration": 300,
               "redraw": true
              },
              "mode": "immediate",
              "transition": {
               "duration": 300
              }
             }
            ],
            "label": "2",
            "method": "animate"
           },
           {
            "args": [
             [
              3
             ],
             {
              "frame": {
               "duration": 300,
               "redraw": true
              },
              "mode": "immediate",
              "transition": {
               "duration": 300
              }
             }
            ],
            "label": "3",
            "method": "animate"
           },
           {
            "args": [
             [
              4
             ],
             {
              "frame": {
               "duration": 300,
               "redraw": true
              },
              "mode": "immediate",
              "transition": {
               "duration": 300
              }
             }
            ],
            "label": "4",
            "method": "animate"
           },
           {
            "args": [
             [
              5
             ],
             {
              "frame": {
               "duration": 300,
               "redraw": true
              },
              "mode": "immediate",
              "transition": {
               "duration": 300
              }
             }
            ],
            "label": "5",
            "method": "animate"
           },
           {
            "args": [
             [
              6
             ],
             {
              "frame": {
               "duration": 300,
               "redraw": true
              },
              "mode": "immediate",
              "transition": {
               "duration": 300
              }
             }
            ],
            "label": "6",
            "method": "animate"
           },
           {
            "args": [
             [
              7
             ],
             {
              "frame": {
               "duration": 300,
               "redraw": true
              },
              "mode": "immediate",
              "transition": {
               "duration": 300
              }
             }
            ],
            "label": "7",
            "method": "animate"
           },
           {
            "args": [
             [
              8
             ],
             {
              "frame": {
               "duration": 300,
               "redraw": true
              },
              "mode": "immediate",
              "transition": {
               "duration": 300
              }
             }
            ],
            "label": "8",
            "method": "animate"
           },
           {
            "args": [
             [
              9
             ],
             {
              "frame": {
               "duration": 300,
               "redraw": true
              },
              "mode": "immediate",
              "transition": {
               "duration": 300
              }
             }
            ],
            "label": "9",
            "method": "animate"
           },
           {
            "args": [
             [
              10
             ],
             {
              "frame": {
               "duration": 300,
               "redraw": true
              },
              "mode": "immediate",
              "transition": {
               "duration": 300
              }
             }
            ],
            "label": "10",
            "method": "animate"
           },
           {
            "args": [
             [
              11
             ],
             {
              "frame": {
               "duration": 300,
               "redraw": true
              },
              "mode": "immediate",
              "transition": {
               "duration": 300
              }
             }
            ],
            "label": "11",
            "method": "animate"
           },
           {
            "args": [
             [
              12
             ],
             {
              "frame": {
               "duration": 300,
               "redraw": true
              },
              "mode": "immediate",
              "transition": {
               "duration": 300
              }
             }
            ],
            "label": "12",
            "method": "animate"
           },
           {
            "args": [
             [
              13
             ],
             {
              "frame": {
               "duration": 300,
               "redraw": true
              },
              "mode": "immediate",
              "transition": {
               "duration": 300
              }
             }
            ],
            "label": "13",
            "method": "animate"
           },
           {
            "args": [
             [
              14
             ],
             {
              "frame": {
               "duration": 300,
               "redraw": true
              },
              "mode": "immediate",
              "transition": {
               "duration": 300
              }
             }
            ],
            "label": "14",
            "method": "animate"
           },
           {
            "args": [
             [
              15
             ],
             {
              "frame": {
               "duration": 300,
               "redraw": true
              },
              "mode": "immediate",
              "transition": {
               "duration": 300
              }
             }
            ],
            "label": "15",
            "method": "animate"
           },
           {
            "args": [
             [
              16
             ],
             {
              "frame": {
               "duration": 300,
               "redraw": true
              },
              "mode": "immediate",
              "transition": {
               "duration": 300
              }
             }
            ],
            "label": "16",
            "method": "animate"
           },
           {
            "args": [
             [
              17
             ],
             {
              "frame": {
               "duration": 300,
               "redraw": true
              },
              "mode": "immediate",
              "transition": {
               "duration": 300
              }
             }
            ],
            "label": "17",
            "method": "animate"
           },
           {
            "args": [
             [
              18
             ],
             {
              "frame": {
               "duration": 300,
               "redraw": true
              },
              "mode": "immediate",
              "transition": {
               "duration": 300
              }
             }
            ],
            "label": "18",
            "method": "animate"
           },
           {
            "args": [
             [
              19
             ],
             {
              "frame": {
               "duration": 300,
               "redraw": true
              },
              "mode": "immediate",
              "transition": {
               "duration": 300
              }
             }
            ],
            "label": "19",
            "method": "animate"
           },
           {
            "args": [
             [
              20
             ],
             {
              "frame": {
               "duration": 300,
               "redraw": true
              },
              "mode": "immediate",
              "transition": {
               "duration": 300
              }
             }
            ],
            "label": "20",
            "method": "animate"
           },
           {
            "args": [
             [
              21
             ],
             {
              "frame": {
               "duration": 300,
               "redraw": true
              },
              "mode": "immediate",
              "transition": {
               "duration": 300
              }
             }
            ],
            "label": "21",
            "method": "animate"
           },
           {
            "args": [
             [
              22
             ],
             {
              "frame": {
               "duration": 300,
               "redraw": true
              },
              "mode": "immediate",
              "transition": {
               "duration": 300
              }
             }
            ],
            "label": "22",
            "method": "animate"
           },
           {
            "args": [
             [
              23
             ],
             {
              "frame": {
               "duration": 300,
               "redraw": true
              },
              "mode": "immediate",
              "transition": {
               "duration": 300
              }
             }
            ],
            "label": "23",
            "method": "animate"
           },
           {
            "args": [
             [
              24
             ],
             {
              "frame": {
               "duration": 300,
               "redraw": true
              },
              "mode": "immediate",
              "transition": {
               "duration": 300
              }
             }
            ],
            "label": "24",
            "method": "animate"
           },
           {
            "args": [
             [
              25
             ],
             {
              "frame": {
               "duration": 300,
               "redraw": true
              },
              "mode": "immediate",
              "transition": {
               "duration": 300
              }
             }
            ],
            "label": "25",
            "method": "animate"
           },
           {
            "args": [
             [
              26
             ],
             {
              "frame": {
               "duration": 300,
               "redraw": true
              },
              "mode": "immediate",
              "transition": {
               "duration": 300
              }
             }
            ],
            "label": "26",
            "method": "animate"
           },
           {
            "args": [
             [
              27
             ],
             {
              "frame": {
               "duration": 300,
               "redraw": true
              },
              "mode": "immediate",
              "transition": {
               "duration": 300
              }
             }
            ],
            "label": "27",
            "method": "animate"
           },
           {
            "args": [
             [
              28
             ],
             {
              "frame": {
               "duration": 300,
               "redraw": true
              },
              "mode": "immediate",
              "transition": {
               "duration": 300
              }
             }
            ],
            "label": "28",
            "method": "animate"
           },
           {
            "args": [
             [
              29
             ],
             {
              "frame": {
               "duration": 300,
               "redraw": true
              },
              "mode": "immediate",
              "transition": {
               "duration": 300
              }
             }
            ],
            "label": "29",
            "method": "animate"
           },
           {
            "args": [
             [
              30
             ],
             {
              "frame": {
               "duration": 300,
               "redraw": true
              },
              "mode": "immediate",
              "transition": {
               "duration": 300
              }
             }
            ],
            "label": "30",
            "method": "animate"
           },
           {
            "args": [
             [
              31
             ],
             {
              "frame": {
               "duration": 300,
               "redraw": true
              },
              "mode": "immediate",
              "transition": {
               "duration": 300
              }
             }
            ],
            "label": "31",
            "method": "animate"
           },
           {
            "args": [
             [
              32
             ],
             {
              "frame": {
               "duration": 300,
               "redraw": true
              },
              "mode": "immediate",
              "transition": {
               "duration": 300
              }
             }
            ],
            "label": "32",
            "method": "animate"
           },
           {
            "args": [
             [
              33
             ],
             {
              "frame": {
               "duration": 300,
               "redraw": true
              },
              "mode": "immediate",
              "transition": {
               "duration": 300
              }
             }
            ],
            "label": "33",
            "method": "animate"
           },
           {
            "args": [
             [
              34
             ],
             {
              "frame": {
               "duration": 300,
               "redraw": true
              },
              "mode": "immediate",
              "transition": {
               "duration": 300
              }
             }
            ],
            "label": "34",
            "method": "animate"
           },
           {
            "args": [
             [
              35
             ],
             {
              "frame": {
               "duration": 300,
               "redraw": true
              },
              "mode": "immediate",
              "transition": {
               "duration": 300
              }
             }
            ],
            "label": "35",
            "method": "animate"
           },
           {
            "args": [
             [
              36
             ],
             {
              "frame": {
               "duration": 300,
               "redraw": true
              },
              "mode": "immediate",
              "transition": {
               "duration": 300
              }
             }
            ],
            "label": "36",
            "method": "animate"
           },
           {
            "args": [
             [
              37
             ],
             {
              "frame": {
               "duration": 300,
               "redraw": true
              },
              "mode": "immediate",
              "transition": {
               "duration": 300
              }
             }
            ],
            "label": "37",
            "method": "animate"
           },
           {
            "args": [
             [
              38
             ],
             {
              "frame": {
               "duration": 300,
               "redraw": true
              },
              "mode": "immediate",
              "transition": {
               "duration": 300
              }
             }
            ],
            "label": "38",
            "method": "animate"
           },
           {
            "args": [
             [
              39
             ],
             {
              "frame": {
               "duration": 300,
               "redraw": true
              },
              "mode": "immediate",
              "transition": {
               "duration": 300
              }
             }
            ],
            "label": "39",
            "method": "animate"
           },
           {
            "args": [
             [
              40
             ],
             {
              "frame": {
               "duration": 300,
               "redraw": true
              },
              "mode": "immediate",
              "transition": {
               "duration": 300
              }
             }
            ],
            "label": "40",
            "method": "animate"
           },
           {
            "args": [
             [
              41
             ],
             {
              "frame": {
               "duration": 300,
               "redraw": true
              },
              "mode": "immediate",
              "transition": {
               "duration": 300
              }
             }
            ],
            "label": "41",
            "method": "animate"
           },
           {
            "args": [
             [
              42
             ],
             {
              "frame": {
               "duration": 300,
               "redraw": true
              },
              "mode": "immediate",
              "transition": {
               "duration": 300
              }
             }
            ],
            "label": "42",
            "method": "animate"
           },
           {
            "args": [
             [
              43
             ],
             {
              "frame": {
               "duration": 300,
               "redraw": true
              },
              "mode": "immediate",
              "transition": {
               "duration": 300
              }
             }
            ],
            "label": "43",
            "method": "animate"
           },
           {
            "args": [
             [
              44
             ],
             {
              "frame": {
               "duration": 300,
               "redraw": true
              },
              "mode": "immediate",
              "transition": {
               "duration": 300
              }
             }
            ],
            "label": "44",
            "method": "animate"
           },
           {
            "args": [
             [
              45
             ],
             {
              "frame": {
               "duration": 300,
               "redraw": true
              },
              "mode": "immediate",
              "transition": {
               "duration": 300
              }
             }
            ],
            "label": "45",
            "method": "animate"
           },
           {
            "args": [
             [
              46
             ],
             {
              "frame": {
               "duration": 300,
               "redraw": true
              },
              "mode": "immediate",
              "transition": {
               "duration": 300
              }
             }
            ],
            "label": "46",
            "method": "animate"
           },
           {
            "args": [
             [
              47
             ],
             {
              "frame": {
               "duration": 300,
               "redraw": true
              },
              "mode": "immediate",
              "transition": {
               "duration": 300
              }
             }
            ],
            "label": "47",
            "method": "animate"
           },
           {
            "args": [
             [
              48
             ],
             {
              "frame": {
               "duration": 300,
               "redraw": true
              },
              "mode": "immediate",
              "transition": {
               "duration": 300
              }
             }
            ],
            "label": "48",
            "method": "animate"
           },
           {
            "args": [
             [
              49
             ],
             {
              "frame": {
               "duration": 300,
               "redraw": true
              },
              "mode": "immediate",
              "transition": {
               "duration": 300
              }
             }
            ],
            "label": "49",
            "method": "animate"
           },
           {
            "args": [
             [
              50
             ],
             {
              "frame": {
               "duration": 300,
               "redraw": true
              },
              "mode": "immediate",
              "transition": {
               "duration": 300
              }
             }
            ],
            "label": "50",
            "method": "animate"
           },
           {
            "args": [
             [
              51
             ],
             {
              "frame": {
               "duration": 300,
               "redraw": true
              },
              "mode": "immediate",
              "transition": {
               "duration": 300
              }
             }
            ],
            "label": "51",
            "method": "animate"
           },
           {
            "args": [
             [
              52
             ],
             {
              "frame": {
               "duration": 300,
               "redraw": true
              },
              "mode": "immediate",
              "transition": {
               "duration": 300
              }
             }
            ],
            "label": "52",
            "method": "animate"
           },
           {
            "args": [
             [
              53
             ],
             {
              "frame": {
               "duration": 300,
               "redraw": true
              },
              "mode": "immediate",
              "transition": {
               "duration": 300
              }
             }
            ],
            "label": "53",
            "method": "animate"
           },
           {
            "args": [
             [
              54
             ],
             {
              "frame": {
               "duration": 300,
               "redraw": true
              },
              "mode": "immediate",
              "transition": {
               "duration": 300
              }
             }
            ],
            "label": "54",
            "method": "animate"
           },
           {
            "args": [
             [
              55
             ],
             {
              "frame": {
               "duration": 300,
               "redraw": true
              },
              "mode": "immediate",
              "transition": {
               "duration": 300
              }
             }
            ],
            "label": "55",
            "method": "animate"
           },
           {
            "args": [
             [
              56
             ],
             {
              "frame": {
               "duration": 300,
               "redraw": true
              },
              "mode": "immediate",
              "transition": {
               "duration": 300
              }
             }
            ],
            "label": "56",
            "method": "animate"
           },
           {
            "args": [
             [
              57
             ],
             {
              "frame": {
               "duration": 300,
               "redraw": true
              },
              "mode": "immediate",
              "transition": {
               "duration": 300
              }
             }
            ],
            "label": "57",
            "method": "animate"
           },
           {
            "args": [
             [
              58
             ],
             {
              "frame": {
               "duration": 300,
               "redraw": true
              },
              "mode": "immediate",
              "transition": {
               "duration": 300
              }
             }
            ],
            "label": "58",
            "method": "animate"
           },
           {
            "args": [
             [
              59
             ],
             {
              "frame": {
               "duration": 300,
               "redraw": true
              },
              "mode": "immediate",
              "transition": {
               "duration": 300
              }
             }
            ],
            "label": "59",
            "method": "animate"
           },
           {
            "args": [
             [
              60
             ],
             {
              "frame": {
               "duration": 300,
               "redraw": true
              },
              "mode": "immediate",
              "transition": {
               "duration": 300
              }
             }
            ],
            "label": "60",
            "method": "animate"
           },
           {
            "args": [
             [
              61
             ],
             {
              "frame": {
               "duration": 300,
               "redraw": true
              },
              "mode": "immediate",
              "transition": {
               "duration": 300
              }
             }
            ],
            "label": "61",
            "method": "animate"
           },
           {
            "args": [
             [
              62
             ],
             {
              "frame": {
               "duration": 300,
               "redraw": true
              },
              "mode": "immediate",
              "transition": {
               "duration": 300
              }
             }
            ],
            "label": "62",
            "method": "animate"
           },
           {
            "args": [
             [
              63
             ],
             {
              "frame": {
               "duration": 300,
               "redraw": true
              },
              "mode": "immediate",
              "transition": {
               "duration": 300
              }
             }
            ],
            "label": "63",
            "method": "animate"
           },
           {
            "args": [
             [
              64
             ],
             {
              "frame": {
               "duration": 300,
               "redraw": true
              },
              "mode": "immediate",
              "transition": {
               "duration": 300
              }
             }
            ],
            "label": "64",
            "method": "animate"
           },
           {
            "args": [
             [
              65
             ],
             {
              "frame": {
               "duration": 300,
               "redraw": true
              },
              "mode": "immediate",
              "transition": {
               "duration": 300
              }
             }
            ],
            "label": "65",
            "method": "animate"
           },
           {
            "args": [
             [
              66
             ],
             {
              "frame": {
               "duration": 300,
               "redraw": true
              },
              "mode": "immediate",
              "transition": {
               "duration": 300
              }
             }
            ],
            "label": "66",
            "method": "animate"
           },
           {
            "args": [
             [
              67
             ],
             {
              "frame": {
               "duration": 300,
               "redraw": true
              },
              "mode": "immediate",
              "transition": {
               "duration": 300
              }
             }
            ],
            "label": "67",
            "method": "animate"
           },
           {
            "args": [
             [
              68
             ],
             {
              "frame": {
               "duration": 300,
               "redraw": true
              },
              "mode": "immediate",
              "transition": {
               "duration": 300
              }
             }
            ],
            "label": "68",
            "method": "animate"
           },
           {
            "args": [
             [
              69
             ],
             {
              "frame": {
               "duration": 300,
               "redraw": true
              },
              "mode": "immediate",
              "transition": {
               "duration": 300
              }
             }
            ],
            "label": "69",
            "method": "animate"
           },
           {
            "args": [
             [
              70
             ],
             {
              "frame": {
               "duration": 300,
               "redraw": true
              },
              "mode": "immediate",
              "transition": {
               "duration": 300
              }
             }
            ],
            "label": "70",
            "method": "animate"
           },
           {
            "args": [
             [
              71
             ],
             {
              "frame": {
               "duration": 300,
               "redraw": true
              },
              "mode": "immediate",
              "transition": {
               "duration": 300
              }
             }
            ],
            "label": "71",
            "method": "animate"
           },
           {
            "args": [
             [
              72
             ],
             {
              "frame": {
               "duration": 300,
               "redraw": true
              },
              "mode": "immediate",
              "transition": {
               "duration": 300
              }
             }
            ],
            "label": "72",
            "method": "animate"
           },
           {
            "args": [
             [
              73
             ],
             {
              "frame": {
               "duration": 300,
               "redraw": true
              },
              "mode": "immediate",
              "transition": {
               "duration": 300
              }
             }
            ],
            "label": "73",
            "method": "animate"
           },
           {
            "args": [
             [
              74
             ],
             {
              "frame": {
               "duration": 300,
               "redraw": true
              },
              "mode": "immediate",
              "transition": {
               "duration": 300
              }
             }
            ],
            "label": "74",
            "method": "animate"
           },
           {
            "args": [
             [
              75
             ],
             {
              "frame": {
               "duration": 300,
               "redraw": true
              },
              "mode": "immediate",
              "transition": {
               "duration": 300
              }
             }
            ],
            "label": "75",
            "method": "animate"
           },
           {
            "args": [
             [
              76
             ],
             {
              "frame": {
               "duration": 300,
               "redraw": true
              },
              "mode": "immediate",
              "transition": {
               "duration": 300
              }
             }
            ],
            "label": "76",
            "method": "animate"
           },
           {
            "args": [
             [
              77
             ],
             {
              "frame": {
               "duration": 300,
               "redraw": true
              },
              "mode": "immediate",
              "transition": {
               "duration": 300
              }
             }
            ],
            "label": "77",
            "method": "animate"
           },
           {
            "args": [
             [
              78
             ],
             {
              "frame": {
               "duration": 300,
               "redraw": true
              },
              "mode": "immediate",
              "transition": {
               "duration": 300
              }
             }
            ],
            "label": "78",
            "method": "animate"
           },
           {
            "args": [
             [
              79
             ],
             {
              "frame": {
               "duration": 300,
               "redraw": true
              },
              "mode": "immediate",
              "transition": {
               "duration": 300
              }
             }
            ],
            "label": "79",
            "method": "animate"
           },
           {
            "args": [
             [
              80
             ],
             {
              "frame": {
               "duration": 300,
               "redraw": true
              },
              "mode": "immediate",
              "transition": {
               "duration": 300
              }
             }
            ],
            "label": "80",
            "method": "animate"
           },
           {
            "args": [
             [
              81
             ],
             {
              "frame": {
               "duration": 300,
               "redraw": true
              },
              "mode": "immediate",
              "transition": {
               "duration": 300
              }
             }
            ],
            "label": "81",
            "method": "animate"
           },
           {
            "args": [
             [
              82
             ],
             {
              "frame": {
               "duration": 300,
               "redraw": true
              },
              "mode": "immediate",
              "transition": {
               "duration": 300
              }
             }
            ],
            "label": "82",
            "method": "animate"
           },
           {
            "args": [
             [
              83
             ],
             {
              "frame": {
               "duration": 300,
               "redraw": true
              },
              "mode": "immediate",
              "transition": {
               "duration": 300
              }
             }
            ],
            "label": "83",
            "method": "animate"
           },
           {
            "args": [
             [
              84
             ],
             {
              "frame": {
               "duration": 300,
               "redraw": true
              },
              "mode": "immediate",
              "transition": {
               "duration": 300
              }
             }
            ],
            "label": "84",
            "method": "animate"
           },
           {
            "args": [
             [
              85
             ],
             {
              "frame": {
               "duration": 300,
               "redraw": true
              },
              "mode": "immediate",
              "transition": {
               "duration": 300
              }
             }
            ],
            "label": "85",
            "method": "animate"
           },
           {
            "args": [
             [
              86
             ],
             {
              "frame": {
               "duration": 300,
               "redraw": true
              },
              "mode": "immediate",
              "transition": {
               "duration": 300
              }
             }
            ],
            "label": "86",
            "method": "animate"
           },
           {
            "args": [
             [
              87
             ],
             {
              "frame": {
               "duration": 300,
               "redraw": true
              },
              "mode": "immediate",
              "transition": {
               "duration": 300
              }
             }
            ],
            "label": "87",
            "method": "animate"
           },
           {
            "args": [
             [
              88
             ],
             {
              "frame": {
               "duration": 300,
               "redraw": true
              },
              "mode": "immediate",
              "transition": {
               "duration": 300
              }
             }
            ],
            "label": "88",
            "method": "animate"
           },
           {
            "args": [
             [
              89
             ],
             {
              "frame": {
               "duration": 300,
               "redraw": true
              },
              "mode": "immediate",
              "transition": {
               "duration": 300
              }
             }
            ],
            "label": "89",
            "method": "animate"
           },
           {
            "args": [
             [
              90
             ],
             {
              "frame": {
               "duration": 300,
               "redraw": true
              },
              "mode": "immediate",
              "transition": {
               "duration": 300
              }
             }
            ],
            "label": "90",
            "method": "animate"
           },
           {
            "args": [
             [
              91
             ],
             {
              "frame": {
               "duration": 300,
               "redraw": true
              },
              "mode": "immediate",
              "transition": {
               "duration": 300
              }
             }
            ],
            "label": "91",
            "method": "animate"
           },
           {
            "args": [
             [
              92
             ],
             {
              "frame": {
               "duration": 300,
               "redraw": true
              },
              "mode": "immediate",
              "transition": {
               "duration": 300
              }
             }
            ],
            "label": "92",
            "method": "animate"
           },
           {
            "args": [
             [
              93
             ],
             {
              "frame": {
               "duration": 300,
               "redraw": true
              },
              "mode": "immediate",
              "transition": {
               "duration": 300
              }
             }
            ],
            "label": "93",
            "method": "animate"
           },
           {
            "args": [
             [
              94
             ],
             {
              "frame": {
               "duration": 300,
               "redraw": true
              },
              "mode": "immediate",
              "transition": {
               "duration": 300
              }
             }
            ],
            "label": "94",
            "method": "animate"
           },
           {
            "args": [
             [
              95
             ],
             {
              "frame": {
               "duration": 300,
               "redraw": true
              },
              "mode": "immediate",
              "transition": {
               "duration": 300
              }
             }
            ],
            "label": "95",
            "method": "animate"
           },
           {
            "args": [
             [
              96
             ],
             {
              "frame": {
               "duration": 300,
               "redraw": true
              },
              "mode": "immediate",
              "transition": {
               "duration": 300
              }
             }
            ],
            "label": "96",
            "method": "animate"
           },
           {
            "args": [
             [
              97
             ],
             {
              "frame": {
               "duration": 300,
               "redraw": true
              },
              "mode": "immediate",
              "transition": {
               "duration": 300
              }
             }
            ],
            "label": "97",
            "method": "animate"
           },
           {
            "args": [
             [
              98
             ],
             {
              "frame": {
               "duration": 300,
               "redraw": true
              },
              "mode": "immediate",
              "transition": {
               "duration": 300
              }
             }
            ],
            "label": "98",
            "method": "animate"
           },
           {
            "args": [
             [
              99
             ],
             {
              "frame": {
               "duration": 300,
               "redraw": true
              },
              "mode": "immediate",
              "transition": {
               "duration": 300
              }
             }
            ],
            "label": "99",
            "method": "animate"
           },
           {
            "args": [
             [
              100
             ],
             {
              "frame": {
               "duration": 300,
               "redraw": true
              },
              "mode": "immediate",
              "transition": {
               "duration": 300
              }
             }
            ],
            "label": "100",
            "method": "animate"
           },
           {
            "args": [
             [
              101
             ],
             {
              "frame": {
               "duration": 300,
               "redraw": true
              },
              "mode": "immediate",
              "transition": {
               "duration": 300
              }
             }
            ],
            "label": "101",
            "method": "animate"
           },
           {
            "args": [
             [
              102
             ],
             {
              "frame": {
               "duration": 300,
               "redraw": true
              },
              "mode": "immediate",
              "transition": {
               "duration": 300
              }
             }
            ],
            "label": "102",
            "method": "animate"
           },
           {
            "args": [
             [
              103
             ],
             {
              "frame": {
               "duration": 300,
               "redraw": true
              },
              "mode": "immediate",
              "transition": {
               "duration": 300
              }
             }
            ],
            "label": "103",
            "method": "animate"
           },
           {
            "args": [
             [
              104
             ],
             {
              "frame": {
               "duration": 300,
               "redraw": true
              },
              "mode": "immediate",
              "transition": {
               "duration": 300
              }
             }
            ],
            "label": "104",
            "method": "animate"
           },
           {
            "args": [
             [
              105
             ],
             {
              "frame": {
               "duration": 300,
               "redraw": true
              },
              "mode": "immediate",
              "transition": {
               "duration": 300
              }
             }
            ],
            "label": "105",
            "method": "animate"
           },
           {
            "args": [
             [
              106
             ],
             {
              "frame": {
               "duration": 300,
               "redraw": true
              },
              "mode": "immediate",
              "transition": {
               "duration": 300
              }
             }
            ],
            "label": "106",
            "method": "animate"
           },
           {
            "args": [
             [
              107
             ],
             {
              "frame": {
               "duration": 300,
               "redraw": true
              },
              "mode": "immediate",
              "transition": {
               "duration": 300
              }
             }
            ],
            "label": "107",
            "method": "animate"
           },
           {
            "args": [
             [
              108
             ],
             {
              "frame": {
               "duration": 300,
               "redraw": true
              },
              "mode": "immediate",
              "transition": {
               "duration": 300
              }
             }
            ],
            "label": "108",
            "method": "animate"
           },
           {
            "args": [
             [
              109
             ],
             {
              "frame": {
               "duration": 300,
               "redraw": true
              },
              "mode": "immediate",
              "transition": {
               "duration": 300
              }
             }
            ],
            "label": "109",
            "method": "animate"
           },
           {
            "args": [
             [
              110
             ],
             {
              "frame": {
               "duration": 300,
               "redraw": true
              },
              "mode": "immediate",
              "transition": {
               "duration": 300
              }
             }
            ],
            "label": "110",
            "method": "animate"
           },
           {
            "args": [
             [
              111
             ],
             {
              "frame": {
               "duration": 300,
               "redraw": true
              },
              "mode": "immediate",
              "transition": {
               "duration": 300
              }
             }
            ],
            "label": "111",
            "method": "animate"
           },
           {
            "args": [
             [
              112
             ],
             {
              "frame": {
               "duration": 300,
               "redraw": true
              },
              "mode": "immediate",
              "transition": {
               "duration": 300
              }
             }
            ],
            "label": "112",
            "method": "animate"
           },
           {
            "args": [
             [
              113
             ],
             {
              "frame": {
               "duration": 300,
               "redraw": true
              },
              "mode": "immediate",
              "transition": {
               "duration": 300
              }
             }
            ],
            "label": "113",
            "method": "animate"
           },
           {
            "args": [
             [
              114
             ],
             {
              "frame": {
               "duration": 300,
               "redraw": true
              },
              "mode": "immediate",
              "transition": {
               "duration": 300
              }
             }
            ],
            "label": "114",
            "method": "animate"
           },
           {
            "args": [
             [
              115
             ],
             {
              "frame": {
               "duration": 300,
               "redraw": true
              },
              "mode": "immediate",
              "transition": {
               "duration": 300
              }
             }
            ],
            "label": "115",
            "method": "animate"
           },
           {
            "args": [
             [
              116
             ],
             {
              "frame": {
               "duration": 300,
               "redraw": true
              },
              "mode": "immediate",
              "transition": {
               "duration": 300
              }
             }
            ],
            "label": "116",
            "method": "animate"
           },
           {
            "args": [
             [
              117
             ],
             {
              "frame": {
               "duration": 300,
               "redraw": true
              },
              "mode": "immediate",
              "transition": {
               "duration": 300
              }
             }
            ],
            "label": "117",
            "method": "animate"
           },
           {
            "args": [
             [
              118
             ],
             {
              "frame": {
               "duration": 300,
               "redraw": true
              },
              "mode": "immediate",
              "transition": {
               "duration": 300
              }
             }
            ],
            "label": "118",
            "method": "animate"
           },
           {
            "args": [
             [
              119
             ],
             {
              "frame": {
               "duration": 300,
               "redraw": true
              },
              "mode": "immediate",
              "transition": {
               "duration": 300
              }
             }
            ],
            "label": "119",
            "method": "animate"
           },
           {
            "args": [
             [
              120
             ],
             {
              "frame": {
               "duration": 300,
               "redraw": true
              },
              "mode": "immediate",
              "transition": {
               "duration": 300
              }
             }
            ],
            "label": "120",
            "method": "animate"
           },
           {
            "args": [
             [
              121
             ],
             {
              "frame": {
               "duration": 300,
               "redraw": true
              },
              "mode": "immediate",
              "transition": {
               "duration": 300
              }
             }
            ],
            "label": "121",
            "method": "animate"
           },
           {
            "args": [
             [
              122
             ],
             {
              "frame": {
               "duration": 300,
               "redraw": true
              },
              "mode": "immediate",
              "transition": {
               "duration": 300
              }
             }
            ],
            "label": "122",
            "method": "animate"
           },
           {
            "args": [
             [
              123
             ],
             {
              "frame": {
               "duration": 300,
               "redraw": true
              },
              "mode": "immediate",
              "transition": {
               "duration": 300
              }
             }
            ],
            "label": "123",
            "method": "animate"
           },
           {
            "args": [
             [
              124
             ],
             {
              "frame": {
               "duration": 300,
               "redraw": true
              },
              "mode": "immediate",
              "transition": {
               "duration": 300
              }
             }
            ],
            "label": "124",
            "method": "animate"
           },
           {
            "args": [
             [
              125
             ],
             {
              "frame": {
               "duration": 300,
               "redraw": true
              },
              "mode": "immediate",
              "transition": {
               "duration": 300
              }
             }
            ],
            "label": "125",
            "method": "animate"
           },
           {
            "args": [
             [
              126
             ],
             {
              "frame": {
               "duration": 300,
               "redraw": true
              },
              "mode": "immediate",
              "transition": {
               "duration": 300
              }
             }
            ],
            "label": "126",
            "method": "animate"
           },
           {
            "args": [
             [
              127
             ],
             {
              "frame": {
               "duration": 300,
               "redraw": true
              },
              "mode": "immediate",
              "transition": {
               "duration": 300
              }
             }
            ],
            "label": "127",
            "method": "animate"
           },
           {
            "args": [
             [
              128
             ],
             {
              "frame": {
               "duration": 300,
               "redraw": true
              },
              "mode": "immediate",
              "transition": {
               "duration": 300
              }
             }
            ],
            "label": "128",
            "method": "animate"
           },
           {
            "args": [
             [
              129
             ],
             {
              "frame": {
               "duration": 300,
               "redraw": true
              },
              "mode": "immediate",
              "transition": {
               "duration": 300
              }
             }
            ],
            "label": "129",
            "method": "animate"
           },
           {
            "args": [
             [
              130
             ],
             {
              "frame": {
               "duration": 300,
               "redraw": true
              },
              "mode": "immediate",
              "transition": {
               "duration": 300
              }
             }
            ],
            "label": "130",
            "method": "animate"
           },
           {
            "args": [
             [
              131
             ],
             {
              "frame": {
               "duration": 300,
               "redraw": true
              },
              "mode": "immediate",
              "transition": {
               "duration": 300
              }
             }
            ],
            "label": "131",
            "method": "animate"
           },
           {
            "args": [
             [
              132
             ],
             {
              "frame": {
               "duration": 300,
               "redraw": true
              },
              "mode": "immediate",
              "transition": {
               "duration": 300
              }
             }
            ],
            "label": "132",
            "method": "animate"
           },
           {
            "args": [
             [
              133
             ],
             {
              "frame": {
               "duration": 300,
               "redraw": true
              },
              "mode": "immediate",
              "transition": {
               "duration": 300
              }
             }
            ],
            "label": "133",
            "method": "animate"
           },
           {
            "args": [
             [
              134
             ],
             {
              "frame": {
               "duration": 300,
               "redraw": true
              },
              "mode": "immediate",
              "transition": {
               "duration": 300
              }
             }
            ],
            "label": "134",
            "method": "animate"
           },
           {
            "args": [
             [
              135
             ],
             {
              "frame": {
               "duration": 300,
               "redraw": true
              },
              "mode": "immediate",
              "transition": {
               "duration": 300
              }
             }
            ],
            "label": "135",
            "method": "animate"
           },
           {
            "args": [
             [
              136
             ],
             {
              "frame": {
               "duration": 300,
               "redraw": true
              },
              "mode": "immediate",
              "transition": {
               "duration": 300
              }
             }
            ],
            "label": "136",
            "method": "animate"
           },
           {
            "args": [
             [
              137
             ],
             {
              "frame": {
               "duration": 300,
               "redraw": true
              },
              "mode": "immediate",
              "transition": {
               "duration": 300
              }
             }
            ],
            "label": "137",
            "method": "animate"
           },
           {
            "args": [
             [
              138
             ],
             {
              "frame": {
               "duration": 300,
               "redraw": true
              },
              "mode": "immediate",
              "transition": {
               "duration": 300
              }
             }
            ],
            "label": "138",
            "method": "animate"
           },
           {
            "args": [
             [
              139
             ],
             {
              "frame": {
               "duration": 300,
               "redraw": true
              },
              "mode": "immediate",
              "transition": {
               "duration": 300
              }
             }
            ],
            "label": "139",
            "method": "animate"
           },
           {
            "args": [
             [
              140
             ],
             {
              "frame": {
               "duration": 300,
               "redraw": true
              },
              "mode": "immediate",
              "transition": {
               "duration": 300
              }
             }
            ],
            "label": "140",
            "method": "animate"
           },
           {
            "args": [
             [
              141
             ],
             {
              "frame": {
               "duration": 300,
               "redraw": true
              },
              "mode": "immediate",
              "transition": {
               "duration": 300
              }
             }
            ],
            "label": "141",
            "method": "animate"
           },
           {
            "args": [
             [
              142
             ],
             {
              "frame": {
               "duration": 300,
               "redraw": true
              },
              "mode": "immediate",
              "transition": {
               "duration": 300
              }
             }
            ],
            "label": "142",
            "method": "animate"
           },
           {
            "args": [
             [
              143
             ],
             {
              "frame": {
               "duration": 300,
               "redraw": true
              },
              "mode": "immediate",
              "transition": {
               "duration": 300
              }
             }
            ],
            "label": "143",
            "method": "animate"
           },
           {
            "args": [
             [
              144
             ],
             {
              "frame": {
               "duration": 300,
               "redraw": true
              },
              "mode": "immediate",
              "transition": {
               "duration": 300
              }
             }
            ],
            "label": "144",
            "method": "animate"
           },
           {
            "args": [
             [
              145
             ],
             {
              "frame": {
               "duration": 300,
               "redraw": true
              },
              "mode": "immediate",
              "transition": {
               "duration": 300
              }
             }
            ],
            "label": "145",
            "method": "animate"
           },
           {
            "args": [
             [
              146
             ],
             {
              "frame": {
               "duration": 300,
               "redraw": true
              },
              "mode": "immediate",
              "transition": {
               "duration": 300
              }
             }
            ],
            "label": "146",
            "method": "animate"
           },
           {
            "args": [
             [
              147
             ],
             {
              "frame": {
               "duration": 300,
               "redraw": true
              },
              "mode": "immediate",
              "transition": {
               "duration": 300
              }
             }
            ],
            "label": "147",
            "method": "animate"
           },
           {
            "args": [
             [
              148
             ],
             {
              "frame": {
               "duration": 300,
               "redraw": true
              },
              "mode": "immediate",
              "transition": {
               "duration": 300
              }
             }
            ],
            "label": "148",
            "method": "animate"
           },
           {
            "args": [
             [
              149
             ],
             {
              "frame": {
               "duration": 300,
               "redraw": true
              },
              "mode": "immediate",
              "transition": {
               "duration": 300
              }
             }
            ],
            "label": "149",
            "method": "animate"
           },
           {
            "args": [
             [
              150
             ],
             {
              "frame": {
               "duration": 300,
               "redraw": true
              },
              "mode": "immediate",
              "transition": {
               "duration": 300
              }
             }
            ],
            "label": "150",
            "method": "animate"
           },
           {
            "args": [
             [
              151
             ],
             {
              "frame": {
               "duration": 300,
               "redraw": true
              },
              "mode": "immediate",
              "transition": {
               "duration": 300
              }
             }
            ],
            "label": "151",
            "method": "animate"
           },
           {
            "args": [
             [
              152
             ],
             {
              "frame": {
               "duration": 300,
               "redraw": true
              },
              "mode": "immediate",
              "transition": {
               "duration": 300
              }
             }
            ],
            "label": "152",
            "method": "animate"
           },
           {
            "args": [
             [
              153
             ],
             {
              "frame": {
               "duration": 300,
               "redraw": true
              },
              "mode": "immediate",
              "transition": {
               "duration": 300
              }
             }
            ],
            "label": "153",
            "method": "animate"
           },
           {
            "args": [
             [
              154
             ],
             {
              "frame": {
               "duration": 300,
               "redraw": true
              },
              "mode": "immediate",
              "transition": {
               "duration": 300
              }
             }
            ],
            "label": "154",
            "method": "animate"
           },
           {
            "args": [
             [
              155
             ],
             {
              "frame": {
               "duration": 300,
               "redraw": true
              },
              "mode": "immediate",
              "transition": {
               "duration": 300
              }
             }
            ],
            "label": "155",
            "method": "animate"
           },
           {
            "args": [
             [
              156
             ],
             {
              "frame": {
               "duration": 300,
               "redraw": true
              },
              "mode": "immediate",
              "transition": {
               "duration": 300
              }
             }
            ],
            "label": "156",
            "method": "animate"
           },
           {
            "args": [
             [
              157
             ],
             {
              "frame": {
               "duration": 300,
               "redraw": true
              },
              "mode": "immediate",
              "transition": {
               "duration": 300
              }
             }
            ],
            "label": "157",
            "method": "animate"
           },
           {
            "args": [
             [
              158
             ],
             {
              "frame": {
               "duration": 300,
               "redraw": true
              },
              "mode": "immediate",
              "transition": {
               "duration": 300
              }
             }
            ],
            "label": "158",
            "method": "animate"
           },
           {
            "args": [
             [
              159
             ],
             {
              "frame": {
               "duration": 300,
               "redraw": true
              },
              "mode": "immediate",
              "transition": {
               "duration": 300
              }
             }
            ],
            "label": "159",
            "method": "animate"
           },
           {
            "args": [
             [
              160
             ],
             {
              "frame": {
               "duration": 300,
               "redraw": true
              },
              "mode": "immediate",
              "transition": {
               "duration": 300
              }
             }
            ],
            "label": "160",
            "method": "animate"
           },
           {
            "args": [
             [
              161
             ],
             {
              "frame": {
               "duration": 300,
               "redraw": true
              },
              "mode": "immediate",
              "transition": {
               "duration": 300
              }
             }
            ],
            "label": "161",
            "method": "animate"
           },
           {
            "args": [
             [
              162
             ],
             {
              "frame": {
               "duration": 300,
               "redraw": true
              },
              "mode": "immediate",
              "transition": {
               "duration": 300
              }
             }
            ],
            "label": "162",
            "method": "animate"
           },
           {
            "args": [
             [
              163
             ],
             {
              "frame": {
               "duration": 300,
               "redraw": true
              },
              "mode": "immediate",
              "transition": {
               "duration": 300
              }
             }
            ],
            "label": "163",
            "method": "animate"
           },
           {
            "args": [
             [
              164
             ],
             {
              "frame": {
               "duration": 300,
               "redraw": true
              },
              "mode": "immediate",
              "transition": {
               "duration": 300
              }
             }
            ],
            "label": "164",
            "method": "animate"
           },
           {
            "args": [
             [
              165
             ],
             {
              "frame": {
               "duration": 300,
               "redraw": true
              },
              "mode": "immediate",
              "transition": {
               "duration": 300
              }
             }
            ],
            "label": "165",
            "method": "animate"
           },
           {
            "args": [
             [
              166
             ],
             {
              "frame": {
               "duration": 300,
               "redraw": true
              },
              "mode": "immediate",
              "transition": {
               "duration": 300
              }
             }
            ],
            "label": "166",
            "method": "animate"
           },
           {
            "args": [
             [
              167
             ],
             {
              "frame": {
               "duration": 300,
               "redraw": true
              },
              "mode": "immediate",
              "transition": {
               "duration": 300
              }
             }
            ],
            "label": "167",
            "method": "animate"
           },
           {
            "args": [
             [
              168
             ],
             {
              "frame": {
               "duration": 300,
               "redraw": true
              },
              "mode": "immediate",
              "transition": {
               "duration": 300
              }
             }
            ],
            "label": "168",
            "method": "animate"
           },
           {
            "args": [
             [
              169
             ],
             {
              "frame": {
               "duration": 300,
               "redraw": true
              },
              "mode": "immediate",
              "transition": {
               "duration": 300
              }
             }
            ],
            "label": "169",
            "method": "animate"
           },
           {
            "args": [
             [
              170
             ],
             {
              "frame": {
               "duration": 300,
               "redraw": true
              },
              "mode": "immediate",
              "transition": {
               "duration": 300
              }
             }
            ],
            "label": "170",
            "method": "animate"
           },
           {
            "args": [
             [
              171
             ],
             {
              "frame": {
               "duration": 300,
               "redraw": true
              },
              "mode": "immediate",
              "transition": {
               "duration": 300
              }
             }
            ],
            "label": "171",
            "method": "animate"
           },
           {
            "args": [
             [
              172
             ],
             {
              "frame": {
               "duration": 300,
               "redraw": true
              },
              "mode": "immediate",
              "transition": {
               "duration": 300
              }
             }
            ],
            "label": "172",
            "method": "animate"
           },
           {
            "args": [
             [
              173
             ],
             {
              "frame": {
               "duration": 300,
               "redraw": true
              },
              "mode": "immediate",
              "transition": {
               "duration": 300
              }
             }
            ],
            "label": "173",
            "method": "animate"
           },
           {
            "args": [
             [
              174
             ],
             {
              "frame": {
               "duration": 300,
               "redraw": true
              },
              "mode": "immediate",
              "transition": {
               "duration": 300
              }
             }
            ],
            "label": "174",
            "method": "animate"
           },
           {
            "args": [
             [
              175
             ],
             {
              "frame": {
               "duration": 300,
               "redraw": true
              },
              "mode": "immediate",
              "transition": {
               "duration": 300
              }
             }
            ],
            "label": "175",
            "method": "animate"
           },
           {
            "args": [
             [
              176
             ],
             {
              "frame": {
               "duration": 300,
               "redraw": true
              },
              "mode": "immediate",
              "transition": {
               "duration": 300
              }
             }
            ],
            "label": "176",
            "method": "animate"
           },
           {
            "args": [
             [
              177
             ],
             {
              "frame": {
               "duration": 300,
               "redraw": true
              },
              "mode": "immediate",
              "transition": {
               "duration": 300
              }
             }
            ],
            "label": "177",
            "method": "animate"
           },
           {
            "args": [
             [
              178
             ],
             {
              "frame": {
               "duration": 300,
               "redraw": true
              },
              "mode": "immediate",
              "transition": {
               "duration": 300
              }
             }
            ],
            "label": "178",
            "method": "animate"
           },
           {
            "args": [
             [
              179
             ],
             {
              "frame": {
               "duration": 300,
               "redraw": true
              },
              "mode": "immediate",
              "transition": {
               "duration": 300
              }
             }
            ],
            "label": "179",
            "method": "animate"
           },
           {
            "args": [
             [
              180
             ],
             {
              "frame": {
               "duration": 300,
               "redraw": true
              },
              "mode": "immediate",
              "transition": {
               "duration": 300
              }
             }
            ],
            "label": "180",
            "method": "animate"
           },
           {
            "args": [
             [
              181
             ],
             {
              "frame": {
               "duration": 300,
               "redraw": true
              },
              "mode": "immediate",
              "transition": {
               "duration": 300
              }
             }
            ],
            "label": "181",
            "method": "animate"
           },
           {
            "args": [
             [
              182
             ],
             {
              "frame": {
               "duration": 300,
               "redraw": true
              },
              "mode": "immediate",
              "transition": {
               "duration": 300
              }
             }
            ],
            "label": "182",
            "method": "animate"
           },
           {
            "args": [
             [
              183
             ],
             {
              "frame": {
               "duration": 300,
               "redraw": true
              },
              "mode": "immediate",
              "transition": {
               "duration": 300
              }
             }
            ],
            "label": "183",
            "method": "animate"
           },
           {
            "args": [
             [
              184
             ],
             {
              "frame": {
               "duration": 300,
               "redraw": true
              },
              "mode": "immediate",
              "transition": {
               "duration": 300
              }
             }
            ],
            "label": "184",
            "method": "animate"
           },
           {
            "args": [
             [
              185
             ],
             {
              "frame": {
               "duration": 300,
               "redraw": true
              },
              "mode": "immediate",
              "transition": {
               "duration": 300
              }
             }
            ],
            "label": "185",
            "method": "animate"
           },
           {
            "args": [
             [
              186
             ],
             {
              "frame": {
               "duration": 300,
               "redraw": true
              },
              "mode": "immediate",
              "transition": {
               "duration": 300
              }
             }
            ],
            "label": "186",
            "method": "animate"
           },
           {
            "args": [
             [
              187
             ],
             {
              "frame": {
               "duration": 300,
               "redraw": true
              },
              "mode": "immediate",
              "transition": {
               "duration": 300
              }
             }
            ],
            "label": "187",
            "method": "animate"
           },
           {
            "args": [
             [
              188
             ],
             {
              "frame": {
               "duration": 300,
               "redraw": true
              },
              "mode": "immediate",
              "transition": {
               "duration": 300
              }
             }
            ],
            "label": "188",
            "method": "animate"
           },
           {
            "args": [
             [
              189
             ],
             {
              "frame": {
               "duration": 300,
               "redraw": true
              },
              "mode": "immediate",
              "transition": {
               "duration": 300
              }
             }
            ],
            "label": "189",
            "method": "animate"
           },
           {
            "args": [
             [
              190
             ],
             {
              "frame": {
               "duration": 300,
               "redraw": true
              },
              "mode": "immediate",
              "transition": {
               "duration": 300
              }
             }
            ],
            "label": "190",
            "method": "animate"
           },
           {
            "args": [
             [
              191
             ],
             {
              "frame": {
               "duration": 300,
               "redraw": true
              },
              "mode": "immediate",
              "transition": {
               "duration": 300
              }
             }
            ],
            "label": "191",
            "method": "animate"
           },
           {
            "args": [
             [
              192
             ],
             {
              "frame": {
               "duration": 300,
               "redraw": true
              },
              "mode": "immediate",
              "transition": {
               "duration": 300
              }
             }
            ],
            "label": "192",
            "method": "animate"
           },
           {
            "args": [
             [
              193
             ],
             {
              "frame": {
               "duration": 300,
               "redraw": true
              },
              "mode": "immediate",
              "transition": {
               "duration": 300
              }
             }
            ],
            "label": "193",
            "method": "animate"
           },
           {
            "args": [
             [
              194
             ],
             {
              "frame": {
               "duration": 300,
               "redraw": true
              },
              "mode": "immediate",
              "transition": {
               "duration": 300
              }
             }
            ],
            "label": "194",
            "method": "animate"
           },
           {
            "args": [
             [
              195
             ],
             {
              "frame": {
               "duration": 300,
               "redraw": true
              },
              "mode": "immediate",
              "transition": {
               "duration": 300
              }
             }
            ],
            "label": "195",
            "method": "animate"
           },
           {
            "args": [
             [
              196
             ],
             {
              "frame": {
               "duration": 300,
               "redraw": true
              },
              "mode": "immediate",
              "transition": {
               "duration": 300
              }
             }
            ],
            "label": "196",
            "method": "animate"
           },
           {
            "args": [
             [
              197
             ],
             {
              "frame": {
               "duration": 300,
               "redraw": true
              },
              "mode": "immediate",
              "transition": {
               "duration": 300
              }
             }
            ],
            "label": "197",
            "method": "animate"
           },
           {
            "args": [
             [
              198
             ],
             {
              "frame": {
               "duration": 300,
               "redraw": true
              },
              "mode": "immediate",
              "transition": {
               "duration": 300
              }
             }
            ],
            "label": "198",
            "method": "animate"
           },
           {
            "args": [
             [
              199
             ],
             {
              "frame": {
               "duration": 300,
               "redraw": true
              },
              "mode": "immediate",
              "transition": {
               "duration": 300
              }
             }
            ],
            "label": "199",
            "method": "animate"
           },
           {
            "args": [
             [
              200
             ],
             {
              "frame": {
               "duration": 300,
               "redraw": true
              },
              "mode": "immediate",
              "transition": {
               "duration": 300
              }
             }
            ],
            "label": "200",
            "method": "animate"
           },
           {
            "args": [
             [
              201
             ],
             {
              "frame": {
               "duration": 300,
               "redraw": true
              },
              "mode": "immediate",
              "transition": {
               "duration": 300
              }
             }
            ],
            "label": "201",
            "method": "animate"
           },
           {
            "args": [
             [
              202
             ],
             {
              "frame": {
               "duration": 300,
               "redraw": true
              },
              "mode": "immediate",
              "transition": {
               "duration": 300
              }
             }
            ],
            "label": "202",
            "method": "animate"
           },
           {
            "args": [
             [
              203
             ],
             {
              "frame": {
               "duration": 300,
               "redraw": true
              },
              "mode": "immediate",
              "transition": {
               "duration": 300
              }
             }
            ],
            "label": "203",
            "method": "animate"
           },
           {
            "args": [
             [
              204
             ],
             {
              "frame": {
               "duration": 300,
               "redraw": true
              },
              "mode": "immediate",
              "transition": {
               "duration": 300
              }
             }
            ],
            "label": "204",
            "method": "animate"
           },
           {
            "args": [
             [
              205
             ],
             {
              "frame": {
               "duration": 300,
               "redraw": true
              },
              "mode": "immediate",
              "transition": {
               "duration": 300
              }
             }
            ],
            "label": "205",
            "method": "animate"
           },
           {
            "args": [
             [
              206
             ],
             {
              "frame": {
               "duration": 300,
               "redraw": true
              },
              "mode": "immediate",
              "transition": {
               "duration": 300
              }
             }
            ],
            "label": "206",
            "method": "animate"
           },
           {
            "args": [
             [
              207
             ],
             {
              "frame": {
               "duration": 300,
               "redraw": true
              },
              "mode": "immediate",
              "transition": {
               "duration": 300
              }
             }
            ],
            "label": "207",
            "method": "animate"
           },
           {
            "args": [
             [
              208
             ],
             {
              "frame": {
               "duration": 300,
               "redraw": true
              },
              "mode": "immediate",
              "transition": {
               "duration": 300
              }
             }
            ],
            "label": "208",
            "method": "animate"
           },
           {
            "args": [
             [
              209
             ],
             {
              "frame": {
               "duration": 300,
               "redraw": true
              },
              "mode": "immediate",
              "transition": {
               "duration": 300
              }
             }
            ],
            "label": "209",
            "method": "animate"
           },
           {
            "args": [
             [
              210
             ],
             {
              "frame": {
               "duration": 300,
               "redraw": true
              },
              "mode": "immediate",
              "transition": {
               "duration": 300
              }
             }
            ],
            "label": "210",
            "method": "animate"
           },
           {
            "args": [
             [
              211
             ],
             {
              "frame": {
               "duration": 300,
               "redraw": true
              },
              "mode": "immediate",
              "transition": {
               "duration": 300
              }
             }
            ],
            "label": "211",
            "method": "animate"
           },
           {
            "args": [
             [
              212
             ],
             {
              "frame": {
               "duration": 300,
               "redraw": true
              },
              "mode": "immediate",
              "transition": {
               "duration": 300
              }
             }
            ],
            "label": "212",
            "method": "animate"
           },
           {
            "args": [
             [
              213
             ],
             {
              "frame": {
               "duration": 300,
               "redraw": true
              },
              "mode": "immediate",
              "transition": {
               "duration": 300
              }
             }
            ],
            "label": "213",
            "method": "animate"
           },
           {
            "args": [
             [
              214
             ],
             {
              "frame": {
               "duration": 300,
               "redraw": true
              },
              "mode": "immediate",
              "transition": {
               "duration": 300
              }
             }
            ],
            "label": "214",
            "method": "animate"
           },
           {
            "args": [
             [
              215
             ],
             {
              "frame": {
               "duration": 300,
               "redraw": true
              },
              "mode": "immediate",
              "transition": {
               "duration": 300
              }
             }
            ],
            "label": "215",
            "method": "animate"
           },
           {
            "args": [
             [
              216
             ],
             {
              "frame": {
               "duration": 300,
               "redraw": true
              },
              "mode": "immediate",
              "transition": {
               "duration": 300
              }
             }
            ],
            "label": "216",
            "method": "animate"
           },
           {
            "args": [
             [
              217
             ],
             {
              "frame": {
               "duration": 300,
               "redraw": true
              },
              "mode": "immediate",
              "transition": {
               "duration": 300
              }
             }
            ],
            "label": "217",
            "method": "animate"
           },
           {
            "args": [
             [
              218
             ],
             {
              "frame": {
               "duration": 300,
               "redraw": true
              },
              "mode": "immediate",
              "transition": {
               "duration": 300
              }
             }
            ],
            "label": "218",
            "method": "animate"
           },
           {
            "args": [
             [
              219
             ],
             {
              "frame": {
               "duration": 300,
               "redraw": true
              },
              "mode": "immediate",
              "transition": {
               "duration": 300
              }
             }
            ],
            "label": "219",
            "method": "animate"
           },
           {
            "args": [
             [
              220
             ],
             {
              "frame": {
               "duration": 300,
               "redraw": true
              },
              "mode": "immediate",
              "transition": {
               "duration": 300
              }
             }
            ],
            "label": "220",
            "method": "animate"
           },
           {
            "args": [
             [
              221
             ],
             {
              "frame": {
               "duration": 300,
               "redraw": true
              },
              "mode": "immediate",
              "transition": {
               "duration": 300
              }
             }
            ],
            "label": "221",
            "method": "animate"
           },
           {
            "args": [
             [
              222
             ],
             {
              "frame": {
               "duration": 300,
               "redraw": true
              },
              "mode": "immediate",
              "transition": {
               "duration": 300
              }
             }
            ],
            "label": "222",
            "method": "animate"
           },
           {
            "args": [
             [
              223
             ],
             {
              "frame": {
               "duration": 300,
               "redraw": true
              },
              "mode": "immediate",
              "transition": {
               "duration": 300
              }
             }
            ],
            "label": "223",
            "method": "animate"
           },
           {
            "args": [
             [
              224
             ],
             {
              "frame": {
               "duration": 300,
               "redraw": true
              },
              "mode": "immediate",
              "transition": {
               "duration": 300
              }
             }
            ],
            "label": "224",
            "method": "animate"
           },
           {
            "args": [
             [
              225
             ],
             {
              "frame": {
               "duration": 300,
               "redraw": true
              },
              "mode": "immediate",
              "transition": {
               "duration": 300
              }
             }
            ],
            "label": "225",
            "method": "animate"
           },
           {
            "args": [
             [
              226
             ],
             {
              "frame": {
               "duration": 300,
               "redraw": true
              },
              "mode": "immediate",
              "transition": {
               "duration": 300
              }
             }
            ],
            "label": "226",
            "method": "animate"
           },
           {
            "args": [
             [
              227
             ],
             {
              "frame": {
               "duration": 300,
               "redraw": true
              },
              "mode": "immediate",
              "transition": {
               "duration": 300
              }
             }
            ],
            "label": "227",
            "method": "animate"
           },
           {
            "args": [
             [
              228
             ],
             {
              "frame": {
               "duration": 300,
               "redraw": true
              },
              "mode": "immediate",
              "transition": {
               "duration": 300
              }
             }
            ],
            "label": "228",
            "method": "animate"
           },
           {
            "args": [
             [
              229
             ],
             {
              "frame": {
               "duration": 300,
               "redraw": true
              },
              "mode": "immediate",
              "transition": {
               "duration": 300
              }
             }
            ],
            "label": "229",
            "method": "animate"
           },
           {
            "args": [
             [
              230
             ],
             {
              "frame": {
               "duration": 300,
               "redraw": true
              },
              "mode": "immediate",
              "transition": {
               "duration": 300
              }
             }
            ],
            "label": "230",
            "method": "animate"
           },
           {
            "args": [
             [
              231
             ],
             {
              "frame": {
               "duration": 300,
               "redraw": true
              },
              "mode": "immediate",
              "transition": {
               "duration": 300
              }
             }
            ],
            "label": "231",
            "method": "animate"
           },
           {
            "args": [
             [
              232
             ],
             {
              "frame": {
               "duration": 300,
               "redraw": true
              },
              "mode": "immediate",
              "transition": {
               "duration": 300
              }
             }
            ],
            "label": "232",
            "method": "animate"
           },
           {
            "args": [
             [
              233
             ],
             {
              "frame": {
               "duration": 300,
               "redraw": true
              },
              "mode": "immediate",
              "transition": {
               "duration": 300
              }
             }
            ],
            "label": "233",
            "method": "animate"
           },
           {
            "args": [
             [
              234
             ],
             {
              "frame": {
               "duration": 300,
               "redraw": true
              },
              "mode": "immediate",
              "transition": {
               "duration": 300
              }
             }
            ],
            "label": "234",
            "method": "animate"
           },
           {
            "args": [
             [
              235
             ],
             {
              "frame": {
               "duration": 300,
               "redraw": true
              },
              "mode": "immediate",
              "transition": {
               "duration": 300
              }
             }
            ],
            "label": "235",
            "method": "animate"
           },
           {
            "args": [
             [
              236
             ],
             {
              "frame": {
               "duration": 300,
               "redraw": true
              },
              "mode": "immediate",
              "transition": {
               "duration": 300
              }
             }
            ],
            "label": "236",
            "method": "animate"
           },
           {
            "args": [
             [
              237
             ],
             {
              "frame": {
               "duration": 300,
               "redraw": true
              },
              "mode": "immediate",
              "transition": {
               "duration": 300
              }
             }
            ],
            "label": "237",
            "method": "animate"
           },
           {
            "args": [
             [
              238
             ],
             {
              "frame": {
               "duration": 300,
               "redraw": true
              },
              "mode": "immediate",
              "transition": {
               "duration": 300
              }
             }
            ],
            "label": "238",
            "method": "animate"
           },
           {
            "args": [
             [
              239
             ],
             {
              "frame": {
               "duration": 300,
               "redraw": true
              },
              "mode": "immediate",
              "transition": {
               "duration": 300
              }
             }
            ],
            "label": "239",
            "method": "animate"
           },
           {
            "args": [
             [
              240
             ],
             {
              "frame": {
               "duration": 300,
               "redraw": true
              },
              "mode": "immediate",
              "transition": {
               "duration": 300
              }
             }
            ],
            "label": "240",
            "method": "animate"
           },
           {
            "args": [
             [
              241
             ],
             {
              "frame": {
               "duration": 300,
               "redraw": true
              },
              "mode": "immediate",
              "transition": {
               "duration": 300
              }
             }
            ],
            "label": "241",
            "method": "animate"
           },
           {
            "args": [
             [
              242
             ],
             {
              "frame": {
               "duration": 300,
               "redraw": true
              },
              "mode": "immediate",
              "transition": {
               "duration": 300
              }
             }
            ],
            "label": "242",
            "method": "animate"
           },
           {
            "args": [
             [
              243
             ],
             {
              "frame": {
               "duration": 300,
               "redraw": true
              },
              "mode": "immediate",
              "transition": {
               "duration": 300
              }
             }
            ],
            "label": "243",
            "method": "animate"
           },
           {
            "args": [
             [
              244
             ],
             {
              "frame": {
               "duration": 300,
               "redraw": true
              },
              "mode": "immediate",
              "transition": {
               "duration": 300
              }
             }
            ],
            "label": "244",
            "method": "animate"
           },
           {
            "args": [
             [
              245
             ],
             {
              "frame": {
               "duration": 300,
               "redraw": true
              },
              "mode": "immediate",
              "transition": {
               "duration": 300
              }
             }
            ],
            "label": "245",
            "method": "animate"
           }
          ],
          "transition": {
           "duration": 300,
           "easing": "cubic-in-out"
          },
          "x": 0.1,
          "xanchor": "left",
          "y": 0,
          "yanchor": "top"
         }
        ],
        "template": {
         "data": {
          "bar": [
           {
            "error_x": {
             "color": "#2a3f5f"
            },
            "error_y": {
             "color": "#2a3f5f"
            },
            "marker": {
             "line": {
              "color": "#E5ECF6",
              "width": 0.5
             },
             "pattern": {
              "fillmode": "overlay",
              "size": 10,
              "solidity": 0.2
             }
            },
            "type": "bar"
           }
          ],
          "barpolar": [
           {
            "marker": {
             "line": {
              "color": "#E5ECF6",
              "width": 0.5
             },
             "pattern": {
              "fillmode": "overlay",
              "size": 10,
              "solidity": 0.2
             }
            },
            "type": "barpolar"
           }
          ],
          "carpet": [
           {
            "aaxis": {
             "endlinecolor": "#2a3f5f",
             "gridcolor": "white",
             "linecolor": "white",
             "minorgridcolor": "white",
             "startlinecolor": "#2a3f5f"
            },
            "baxis": {
             "endlinecolor": "#2a3f5f",
             "gridcolor": "white",
             "linecolor": "white",
             "minorgridcolor": "white",
             "startlinecolor": "#2a3f5f"
            },
            "type": "carpet"
           }
          ],
          "choropleth": [
           {
            "colorbar": {
             "outlinewidth": 0,
             "ticks": ""
            },
            "type": "choropleth"
           }
          ],
          "contour": [
           {
            "colorbar": {
             "outlinewidth": 0,
             "ticks": ""
            },
            "colorscale": [
             [
              0,
              "#0d0887"
             ],
             [
              0.1111111111111111,
              "#46039f"
             ],
             [
              0.2222222222222222,
              "#7201a8"
             ],
             [
              0.3333333333333333,
              "#9c179e"
             ],
             [
              0.4444444444444444,
              "#bd3786"
             ],
             [
              0.5555555555555556,
              "#d8576b"
             ],
             [
              0.6666666666666666,
              "#ed7953"
             ],
             [
              0.7777777777777778,
              "#fb9f3a"
             ],
             [
              0.8888888888888888,
              "#fdca26"
             ],
             [
              1,
              "#f0f921"
             ]
            ],
            "type": "contour"
           }
          ],
          "contourcarpet": [
           {
            "colorbar": {
             "outlinewidth": 0,
             "ticks": ""
            },
            "type": "contourcarpet"
           }
          ],
          "heatmap": [
           {
            "colorbar": {
             "outlinewidth": 0,
             "ticks": ""
            },
            "colorscale": [
             [
              0,
              "#0d0887"
             ],
             [
              0.1111111111111111,
              "#46039f"
             ],
             [
              0.2222222222222222,
              "#7201a8"
             ],
             [
              0.3333333333333333,
              "#9c179e"
             ],
             [
              0.4444444444444444,
              "#bd3786"
             ],
             [
              0.5555555555555556,
              "#d8576b"
             ],
             [
              0.6666666666666666,
              "#ed7953"
             ],
             [
              0.7777777777777778,
              "#fb9f3a"
             ],
             [
              0.8888888888888888,
              "#fdca26"
             ],
             [
              1,
              "#f0f921"
             ]
            ],
            "type": "heatmap"
           }
          ],
          "heatmapgl": [
           {
            "colorbar": {
             "outlinewidth": 0,
             "ticks": ""
            },
            "colorscale": [
             [
              0,
              "#0d0887"
             ],
             [
              0.1111111111111111,
              "#46039f"
             ],
             [
              0.2222222222222222,
              "#7201a8"
             ],
             [
              0.3333333333333333,
              "#9c179e"
             ],
             [
              0.4444444444444444,
              "#bd3786"
             ],
             [
              0.5555555555555556,
              "#d8576b"
             ],
             [
              0.6666666666666666,
              "#ed7953"
             ],
             [
              0.7777777777777778,
              "#fb9f3a"
             ],
             [
              0.8888888888888888,
              "#fdca26"
             ],
             [
              1,
              "#f0f921"
             ]
            ],
            "type": "heatmapgl"
           }
          ],
          "histogram": [
           {
            "marker": {
             "pattern": {
              "fillmode": "overlay",
              "size": 10,
              "solidity": 0.2
             }
            },
            "type": "histogram"
           }
          ],
          "histogram2d": [
           {
            "colorbar": {
             "outlinewidth": 0,
             "ticks": ""
            },
            "colorscale": [
             [
              0,
              "#0d0887"
             ],
             [
              0.1111111111111111,
              "#46039f"
             ],
             [
              0.2222222222222222,
              "#7201a8"
             ],
             [
              0.3333333333333333,
              "#9c179e"
             ],
             [
              0.4444444444444444,
              "#bd3786"
             ],
             [
              0.5555555555555556,
              "#d8576b"
             ],
             [
              0.6666666666666666,
              "#ed7953"
             ],
             [
              0.7777777777777778,
              "#fb9f3a"
             ],
             [
              0.8888888888888888,
              "#fdca26"
             ],
             [
              1,
              "#f0f921"
             ]
            ],
            "type": "histogram2d"
           }
          ],
          "histogram2dcontour": [
           {
            "colorbar": {
             "outlinewidth": 0,
             "ticks": ""
            },
            "colorscale": [
             [
              0,
              "#0d0887"
             ],
             [
              0.1111111111111111,
              "#46039f"
             ],
             [
              0.2222222222222222,
              "#7201a8"
             ],
             [
              0.3333333333333333,
              "#9c179e"
             ],
             [
              0.4444444444444444,
              "#bd3786"
             ],
             [
              0.5555555555555556,
              "#d8576b"
             ],
             [
              0.6666666666666666,
              "#ed7953"
             ],
             [
              0.7777777777777778,
              "#fb9f3a"
             ],
             [
              0.8888888888888888,
              "#fdca26"
             ],
             [
              1,
              "#f0f921"
             ]
            ],
            "type": "histogram2dcontour"
           }
          ],
          "mesh3d": [
           {
            "colorbar": {
             "outlinewidth": 0,
             "ticks": ""
            },
            "type": "mesh3d"
           }
          ],
          "parcoords": [
           {
            "line": {
             "colorbar": {
              "outlinewidth": 0,
              "ticks": ""
             }
            },
            "type": "parcoords"
           }
          ],
          "pie": [
           {
            "automargin": true,
            "type": "pie"
           }
          ],
          "scatter": [
           {
            "fillpattern": {
             "fillmode": "overlay",
             "size": 10,
             "solidity": 0.2
            },
            "type": "scatter"
           }
          ],
          "scatter3d": [
           {
            "line": {
             "colorbar": {
              "outlinewidth": 0,
              "ticks": ""
             }
            },
            "marker": {
             "colorbar": {
              "outlinewidth": 0,
              "ticks": ""
             }
            },
            "type": "scatter3d"
           }
          ],
          "scattercarpet": [
           {
            "marker": {
             "colorbar": {
              "outlinewidth": 0,
              "ticks": ""
             }
            },
            "type": "scattercarpet"
           }
          ],
          "scattergeo": [
           {
            "marker": {
             "colorbar": {
              "outlinewidth": 0,
              "ticks": ""
             }
            },
            "type": "scattergeo"
           }
          ],
          "scattergl": [
           {
            "marker": {
             "colorbar": {
              "outlinewidth": 0,
              "ticks": ""
             }
            },
            "type": "scattergl"
           }
          ],
          "scattermapbox": [
           {
            "marker": {
             "colorbar": {
              "outlinewidth": 0,
              "ticks": ""
             }
            },
            "type": "scattermapbox"
           }
          ],
          "scatterpolar": [
           {
            "marker": {
             "colorbar": {
              "outlinewidth": 0,
              "ticks": ""
             }
            },
            "type": "scatterpolar"
           }
          ],
          "scatterpolargl": [
           {
            "marker": {
             "colorbar": {
              "outlinewidth": 0,
              "ticks": ""
             }
            },
            "type": "scatterpolargl"
           }
          ],
          "scatterternary": [
           {
            "marker": {
             "colorbar": {
              "outlinewidth": 0,
              "ticks": ""
             }
            },
            "type": "scatterternary"
           }
          ],
          "surface": [
           {
            "colorbar": {
             "outlinewidth": 0,
             "ticks": ""
            },
            "colorscale": [
             [
              0,
              "#0d0887"
             ],
             [
              0.1111111111111111,
              "#46039f"
             ],
             [
              0.2222222222222222,
              "#7201a8"
             ],
             [
              0.3333333333333333,
              "#9c179e"
             ],
             [
              0.4444444444444444,
              "#bd3786"
             ],
             [
              0.5555555555555556,
              "#d8576b"
             ],
             [
              0.6666666666666666,
              "#ed7953"
             ],
             [
              0.7777777777777778,
              "#fb9f3a"
             ],
             [
              0.8888888888888888,
              "#fdca26"
             ],
             [
              1,
              "#f0f921"
             ]
            ],
            "type": "surface"
           }
          ],
          "table": [
           {
            "cells": {
             "fill": {
              "color": "#EBF0F8"
             },
             "line": {
              "color": "white"
             }
            },
            "header": {
             "fill": {
              "color": "#C8D4E3"
             },
             "line": {
              "color": "white"
             }
            },
            "type": "table"
           }
          ]
         },
         "layout": {
          "annotationdefaults": {
           "arrowcolor": "#2a3f5f",
           "arrowhead": 0,
           "arrowwidth": 1
          },
          "autotypenumbers": "strict",
          "coloraxis": {
           "colorbar": {
            "outlinewidth": 0,
            "ticks": ""
           }
          },
          "colorscale": {
           "diverging": [
            [
             0,
             "#8e0152"
            ],
            [
             0.1,
             "#c51b7d"
            ],
            [
             0.2,
             "#de77ae"
            ],
            [
             0.3,
             "#f1b6da"
            ],
            [
             0.4,
             "#fde0ef"
            ],
            [
             0.5,
             "#f7f7f7"
            ],
            [
             0.6,
             "#e6f5d0"
            ],
            [
             0.7,
             "#b8e186"
            ],
            [
             0.8,
             "#7fbc41"
            ],
            [
             0.9,
             "#4d9221"
            ],
            [
             1,
             "#276419"
            ]
           ],
           "sequential": [
            [
             0,
             "#0d0887"
            ],
            [
             0.1111111111111111,
             "#46039f"
            ],
            [
             0.2222222222222222,
             "#7201a8"
            ],
            [
             0.3333333333333333,
             "#9c179e"
            ],
            [
             0.4444444444444444,
             "#bd3786"
            ],
            [
             0.5555555555555556,
             "#d8576b"
            ],
            [
             0.6666666666666666,
             "#ed7953"
            ],
            [
             0.7777777777777778,
             "#fb9f3a"
            ],
            [
             0.8888888888888888,
             "#fdca26"
            ],
            [
             1,
             "#f0f921"
            ]
           ],
           "sequentialminus": [
            [
             0,
             "#0d0887"
            ],
            [
             0.1111111111111111,
             "#46039f"
            ],
            [
             0.2222222222222222,
             "#7201a8"
            ],
            [
             0.3333333333333333,
             "#9c179e"
            ],
            [
             0.4444444444444444,
             "#bd3786"
            ],
            [
             0.5555555555555556,
             "#d8576b"
            ],
            [
             0.6666666666666666,
             "#ed7953"
            ],
            [
             0.7777777777777778,
             "#fb9f3a"
            ],
            [
             0.8888888888888888,
             "#fdca26"
            ],
            [
             1,
             "#f0f921"
            ]
           ]
          },
          "colorway": [
           "#636efa",
           "#EF553B",
           "#00cc96",
           "#ab63fa",
           "#FFA15A",
           "#19d3f3",
           "#FF6692",
           "#B6E880",
           "#FF97FF",
           "#FECB52"
          ],
          "font": {
           "color": "#2a3f5f"
          },
          "geo": {
           "bgcolor": "white",
           "lakecolor": "white",
           "landcolor": "#E5ECF6",
           "showlakes": true,
           "showland": true,
           "subunitcolor": "white"
          },
          "hoverlabel": {
           "align": "left"
          },
          "hovermode": "closest",
          "mapbox": {
           "style": "light"
          },
          "paper_bgcolor": "white",
          "plot_bgcolor": "#E5ECF6",
          "polar": {
           "angularaxis": {
            "gridcolor": "white",
            "linecolor": "white",
            "ticks": ""
           },
           "bgcolor": "#E5ECF6",
           "radialaxis": {
            "gridcolor": "white",
            "linecolor": "white",
            "ticks": ""
           }
          },
          "scene": {
           "xaxis": {
            "backgroundcolor": "#E5ECF6",
            "gridcolor": "white",
            "gridwidth": 2,
            "linecolor": "white",
            "showbackground": true,
            "ticks": "",
            "zerolinecolor": "white"
           },
           "yaxis": {
            "backgroundcolor": "#E5ECF6",
            "gridcolor": "white",
            "gridwidth": 2,
            "linecolor": "white",
            "showbackground": true,
            "ticks": "",
            "zerolinecolor": "white"
           },
           "zaxis": {
            "backgroundcolor": "#E5ECF6",
            "gridcolor": "white",
            "gridwidth": 2,
            "linecolor": "white",
            "showbackground": true,
            "ticks": "",
            "zerolinecolor": "white"
           }
          },
          "shapedefaults": {
           "line": {
            "color": "#2a3f5f"
           }
          },
          "ternary": {
           "aaxis": {
            "gridcolor": "white",
            "linecolor": "white",
            "ticks": ""
           },
           "baxis": {
            "gridcolor": "white",
            "linecolor": "white",
            "ticks": ""
           },
           "bgcolor": "#E5ECF6",
           "caxis": {
            "gridcolor": "white",
            "linecolor": "white",
            "ticks": ""
           }
          },
          "title": {
           "x": 0.05
          },
          "xaxis": {
           "automargin": true,
           "gridcolor": "white",
           "linecolor": "white",
           "ticks": "",
           "title": {
            "standoff": 15
           },
           "zerolinecolor": "white",
           "zerolinewidth": 2
          },
          "yaxis": {
           "automargin": true,
           "gridcolor": "white",
           "linecolor": "white",
           "ticks": "",
           "title": {
            "standoff": 15
           },
           "zerolinecolor": "white",
           "zerolinewidth": 2
          }
         }
        },
        "updatemenus": [
         {
          "buttons": [
           {
            "args": [
             null,
             {
              "frame": {
               "duration": 800,
               "redraw": true
              },
              "fromcurrent": true
             }
            ],
            "label": "Play",
            "method": "animate"
           },
           {
            "args": [
             [
              null
             ],
             {
              "frame": {
               "duration": 0,
               "redraw": true
              },
              "mode": "immediate",
              "transition": {
               "duration": 0
              }
             }
            ],
            "label": "Pause",
            "method": "animate"
           }
          ],
          "direction": "left",
          "pad": {
           "r": 10,
           "t": 87
          },
          "showactive": false,
          "type": "buttons",
          "x": 0.1,
          "xanchor": "right",
          "y": 0,
          "yanchor": "top"
         }
        ],
        "width": 500,
        "xaxis": {
         "anchor": "y",
         "constrain": "domain",
         "domain": [
          0,
          1
         ],
         "range": [
          0.027454465551323626,
          1.0582092902381508
         ]
        },
        "yaxis": {
         "anchor": "x",
         "constrain": "domain",
         "domain": [
          0,
          1
         ],
         "range": [
          -0.15915439858299224,
          1.215592079104181
         ],
         "scaleanchor": "x",
         "scaleratio": 1
        }
       }
      },
      "text/html": [
       "<div>                            <div id=\"69140f1b-85f7-406a-a59d-3506c29569ae\" class=\"plotly-graph-div\" style=\"height:500px; width:500px;\"></div>            <script type=\"text/javascript\">                require([\"plotly\"], function(Plotly) {                    window.PLOTLYENV=window.PLOTLYENV || {};                                    if (document.getElementById(\"69140f1b-85f7-406a-a59d-3506c29569ae\")) {                    Plotly.newPlot(                        \"69140f1b-85f7-406a-a59d-3506c29569ae\",                        [{\"marker\":{\"color\":[\"red\",\"red\",\"red\",\"blue\",\"blue\",\"green\",\"green\",\"green\"]},\"mode\":\"markers\",\"x\":[0.4077547148482114,0.7885473154212934,0.45028290019934586,0.5263193973605268,0.7767598696977283,0.9810498242606931,0.8140210506706237,0.027454465551323626],\"y\":[0.055760271644652463,0.28719852578564387,0.30351807380797313,0.6238071690932225,0.6862634369424302,0.6008037885545793,0.7087129733261928,0.904301610949261],\"type\":\"scatter\"}],                        {\"template\":{\"data\":{\"histogram2dcontour\":[{\"type\":\"histogram2dcontour\",\"colorbar\":{\"outlinewidth\":0,\"ticks\":\"\"},\"colorscale\":[[0.0,\"#0d0887\"],[0.1111111111111111,\"#46039f\"],[0.2222222222222222,\"#7201a8\"],[0.3333333333333333,\"#9c179e\"],[0.4444444444444444,\"#bd3786\"],[0.5555555555555556,\"#d8576b\"],[0.6666666666666666,\"#ed7953\"],[0.7777777777777778,\"#fb9f3a\"],[0.8888888888888888,\"#fdca26\"],[1.0,\"#f0f921\"]]}],\"choropleth\":[{\"type\":\"choropleth\",\"colorbar\":{\"outlinewidth\":0,\"ticks\":\"\"}}],\"histogram2d\":[{\"type\":\"histogram2d\",\"colorbar\":{\"outlinewidth\":0,\"ticks\":\"\"},\"colorscale\":[[0.0,\"#0d0887\"],[0.1111111111111111,\"#46039f\"],[0.2222222222222222,\"#7201a8\"],[0.3333333333333333,\"#9c179e\"],[0.4444444444444444,\"#bd3786\"],[0.5555555555555556,\"#d8576b\"],[0.6666666666666666,\"#ed7953\"],[0.7777777777777778,\"#fb9f3a\"],[0.8888888888888888,\"#fdca26\"],[1.0,\"#f0f921\"]]}],\"heatmap\":[{\"type\":\"heatmap\",\"colorbar\":{\"outlinewidth\":0,\"ticks\":\"\"},\"colorscale\":[[0.0,\"#0d0887\"],[0.1111111111111111,\"#46039f\"],[0.2222222222222222,\"#7201a8\"],[0.3333333333333333,\"#9c179e\"],[0.4444444444444444,\"#bd3786\"],[0.5555555555555556,\"#d8576b\"],[0.6666666666666666,\"#ed7953\"],[0.7777777777777778,\"#fb9f3a\"],[0.8888888888888888,\"#fdca26\"],[1.0,\"#f0f921\"]]}],\"heatmapgl\":[{\"type\":\"heatmapgl\",\"colorbar\":{\"outlinewidth\":0,\"ticks\":\"\"},\"colorscale\":[[0.0,\"#0d0887\"],[0.1111111111111111,\"#46039f\"],[0.2222222222222222,\"#7201a8\"],[0.3333333333333333,\"#9c179e\"],[0.4444444444444444,\"#bd3786\"],[0.5555555555555556,\"#d8576b\"],[0.6666666666666666,\"#ed7953\"],[0.7777777777777778,\"#fb9f3a\"],[0.8888888888888888,\"#fdca26\"],[1.0,\"#f0f921\"]]}],\"contourcarpet\":[{\"type\":\"contourcarpet\",\"colorbar\":{\"outlinewidth\":0,\"ticks\":\"\"}}],\"contour\":[{\"type\":\"contour\",\"colorbar\":{\"outlinewidth\":0,\"ticks\":\"\"},\"colorscale\":[[0.0,\"#0d0887\"],[0.1111111111111111,\"#46039f\"],[0.2222222222222222,\"#7201a8\"],[0.3333333333333333,\"#9c179e\"],[0.4444444444444444,\"#bd3786\"],[0.5555555555555556,\"#d8576b\"],[0.6666666666666666,\"#ed7953\"],[0.7777777777777778,\"#fb9f3a\"],[0.8888888888888888,\"#fdca26\"],[1.0,\"#f0f921\"]]}],\"surface\":[{\"type\":\"surface\",\"colorbar\":{\"outlinewidth\":0,\"ticks\":\"\"},\"colorscale\":[[0.0,\"#0d0887\"],[0.1111111111111111,\"#46039f\"],[0.2222222222222222,\"#7201a8\"],[0.3333333333333333,\"#9c179e\"],[0.4444444444444444,\"#bd3786\"],[0.5555555555555556,\"#d8576b\"],[0.6666666666666666,\"#ed7953\"],[0.7777777777777778,\"#fb9f3a\"],[0.8888888888888888,\"#fdca26\"],[1.0,\"#f0f921\"]]}],\"mesh3d\":[{\"type\":\"mesh3d\",\"colorbar\":{\"outlinewidth\":0,\"ticks\":\"\"}}],\"scatter\":[{\"fillpattern\":{\"fillmode\":\"overlay\",\"size\":10,\"solidity\":0.2},\"type\":\"scatter\"}],\"parcoords\":[{\"type\":\"parcoords\",\"line\":{\"colorbar\":{\"outlinewidth\":0,\"ticks\":\"\"}}}],\"scatterpolargl\":[{\"type\":\"scatterpolargl\",\"marker\":{\"colorbar\":{\"outlinewidth\":0,\"ticks\":\"\"}}}],\"bar\":[{\"error_x\":{\"color\":\"#2a3f5f\"},\"error_y\":{\"color\":\"#2a3f5f\"},\"marker\":{\"line\":{\"color\":\"#E5ECF6\",\"width\":0.5},\"pattern\":{\"fillmode\":\"overlay\",\"size\":10,\"solidity\":0.2}},\"type\":\"bar\"}],\"scattergeo\":[{\"type\":\"scattergeo\",\"marker\":{\"colorbar\":{\"outlinewidth\":0,\"ticks\":\"\"}}}],\"scatterpolar\":[{\"type\":\"scatterpolar\",\"marker\":{\"colorbar\":{\"outlinewidth\":0,\"ticks\":\"\"}}}],\"histogram\":[{\"marker\":{\"pattern\":{\"fillmode\":\"overlay\",\"size\":10,\"solidity\":0.2}},\"type\":\"histogram\"}],\"scattergl\":[{\"type\":\"scattergl\",\"marker\":{\"colorbar\":{\"outlinewidth\":0,\"ticks\":\"\"}}}],\"scatter3d\":[{\"type\":\"scatter3d\",\"line\":{\"colorbar\":{\"outlinewidth\":0,\"ticks\":\"\"}},\"marker\":{\"colorbar\":{\"outlinewidth\":0,\"ticks\":\"\"}}}],\"scattermapbox\":[{\"type\":\"scattermapbox\",\"marker\":{\"colorbar\":{\"outlinewidth\":0,\"ticks\":\"\"}}}],\"scatterternary\":[{\"type\":\"scatterternary\",\"marker\":{\"colorbar\":{\"outlinewidth\":0,\"ticks\":\"\"}}}],\"scattercarpet\":[{\"type\":\"scattercarpet\",\"marker\":{\"colorbar\":{\"outlinewidth\":0,\"ticks\":\"\"}}}],\"carpet\":[{\"aaxis\":{\"endlinecolor\":\"#2a3f5f\",\"gridcolor\":\"white\",\"linecolor\":\"white\",\"minorgridcolor\":\"white\",\"startlinecolor\":\"#2a3f5f\"},\"baxis\":{\"endlinecolor\":\"#2a3f5f\",\"gridcolor\":\"white\",\"linecolor\":\"white\",\"minorgridcolor\":\"white\",\"startlinecolor\":\"#2a3f5f\"},\"type\":\"carpet\"}],\"table\":[{\"cells\":{\"fill\":{\"color\":\"#EBF0F8\"},\"line\":{\"color\":\"white\"}},\"header\":{\"fill\":{\"color\":\"#C8D4E3\"},\"line\":{\"color\":\"white\"}},\"type\":\"table\"}],\"barpolar\":[{\"marker\":{\"line\":{\"color\":\"#E5ECF6\",\"width\":0.5},\"pattern\":{\"fillmode\":\"overlay\",\"size\":10,\"solidity\":0.2}},\"type\":\"barpolar\"}],\"pie\":[{\"automargin\":true,\"type\":\"pie\"}]},\"layout\":{\"autotypenumbers\":\"strict\",\"colorway\":[\"#636efa\",\"#EF553B\",\"#00cc96\",\"#ab63fa\",\"#FFA15A\",\"#19d3f3\",\"#FF6692\",\"#B6E880\",\"#FF97FF\",\"#FECB52\"],\"font\":{\"color\":\"#2a3f5f\"},\"hovermode\":\"closest\",\"hoverlabel\":{\"align\":\"left\"},\"paper_bgcolor\":\"white\",\"plot_bgcolor\":\"#E5ECF6\",\"polar\":{\"bgcolor\":\"#E5ECF6\",\"angularaxis\":{\"gridcolor\":\"white\",\"linecolor\":\"white\",\"ticks\":\"\"},\"radialaxis\":{\"gridcolor\":\"white\",\"linecolor\":\"white\",\"ticks\":\"\"}},\"ternary\":{\"bgcolor\":\"#E5ECF6\",\"aaxis\":{\"gridcolor\":\"white\",\"linecolor\":\"white\",\"ticks\":\"\"},\"baxis\":{\"gridcolor\":\"white\",\"linecolor\":\"white\",\"ticks\":\"\"},\"caxis\":{\"gridcolor\":\"white\",\"linecolor\":\"white\",\"ticks\":\"\"}},\"coloraxis\":{\"colorbar\":{\"outlinewidth\":0,\"ticks\":\"\"}},\"colorscale\":{\"sequential\":[[0.0,\"#0d0887\"],[0.1111111111111111,\"#46039f\"],[0.2222222222222222,\"#7201a8\"],[0.3333333333333333,\"#9c179e\"],[0.4444444444444444,\"#bd3786\"],[0.5555555555555556,\"#d8576b\"],[0.6666666666666666,\"#ed7953\"],[0.7777777777777778,\"#fb9f3a\"],[0.8888888888888888,\"#fdca26\"],[1.0,\"#f0f921\"]],\"sequentialminus\":[[0.0,\"#0d0887\"],[0.1111111111111111,\"#46039f\"],[0.2222222222222222,\"#7201a8\"],[0.3333333333333333,\"#9c179e\"],[0.4444444444444444,\"#bd3786\"],[0.5555555555555556,\"#d8576b\"],[0.6666666666666666,\"#ed7953\"],[0.7777777777777778,\"#fb9f3a\"],[0.8888888888888888,\"#fdca26\"],[1.0,\"#f0f921\"]],\"diverging\":[[0,\"#8e0152\"],[0.1,\"#c51b7d\"],[0.2,\"#de77ae\"],[0.3,\"#f1b6da\"],[0.4,\"#fde0ef\"],[0.5,\"#f7f7f7\"],[0.6,\"#e6f5d0\"],[0.7,\"#b8e186\"],[0.8,\"#7fbc41\"],[0.9,\"#4d9221\"],[1,\"#276419\"]]},\"xaxis\":{\"gridcolor\":\"white\",\"linecolor\":\"white\",\"ticks\":\"\",\"title\":{\"standoff\":15},\"zerolinecolor\":\"white\",\"automargin\":true,\"zerolinewidth\":2},\"yaxis\":{\"gridcolor\":\"white\",\"linecolor\":\"white\",\"ticks\":\"\",\"title\":{\"standoff\":15},\"zerolinecolor\":\"white\",\"automargin\":true,\"zerolinewidth\":2},\"scene\":{\"xaxis\":{\"backgroundcolor\":\"#E5ECF6\",\"gridcolor\":\"white\",\"linecolor\":\"white\",\"showbackground\":true,\"ticks\":\"\",\"zerolinecolor\":\"white\",\"gridwidth\":2},\"yaxis\":{\"backgroundcolor\":\"#E5ECF6\",\"gridcolor\":\"white\",\"linecolor\":\"white\",\"showbackground\":true,\"ticks\":\"\",\"zerolinecolor\":\"white\",\"gridwidth\":2},\"zaxis\":{\"backgroundcolor\":\"#E5ECF6\",\"gridcolor\":\"white\",\"linecolor\":\"white\",\"showbackground\":true,\"ticks\":\"\",\"zerolinecolor\":\"white\",\"gridwidth\":2}},\"shapedefaults\":{\"line\":{\"color\":\"#2a3f5f\"}},\"annotationdefaults\":{\"arrowcolor\":\"#2a3f5f\",\"arrowhead\":0,\"arrowwidth\":1},\"geo\":{\"bgcolor\":\"white\",\"landcolor\":\"#E5ECF6\",\"subunitcolor\":\"white\",\"showland\":true,\"showlakes\":true,\"lakecolor\":\"white\"},\"title\":{\"x\":0.05},\"mapbox\":{\"style\":\"light\"}}},\"xaxis\":{\"anchor\":\"y\",\"domain\":[0.0,1.0],\"range\":[0.027454465551323626,1.0582092902381508],\"constrain\":\"domain\"},\"yaxis\":{\"anchor\":\"x\",\"domain\":[0.0,1.0],\"range\":[-0.15915439858299224,1.215592079104181],\"scaleanchor\":\"x\",\"scaleratio\":1,\"constrain\":\"domain\"},\"margin\":{\"l\":20,\"r\":20,\"t\":20,\"b\":20},\"width\":500,\"height\":500,\"updatemenus\":[{\"buttons\":[{\"args\":[null,{\"frame\":{\"duration\":800,\"redraw\":true},\"fromcurrent\":true}],\"label\":\"Play\",\"method\":\"animate\"},{\"args\":[[null],{\"frame\":{\"duration\":0,\"redraw\":true},\"mode\":\"immediate\",\"transition\":{\"duration\":0}}],\"label\":\"Pause\",\"method\":\"animate\"}],\"direction\":\"left\",\"pad\":{\"r\":10,\"t\":87},\"showactive\":false,\"type\":\"buttons\",\"x\":0.1,\"xanchor\":\"right\",\"y\":0,\"yanchor\":\"top\"}],\"sliders\":[{\"currentvalue\":{\"font\":{\"size\":20},\"prefix\":\"Frame:\",\"visible\":true,\"xanchor\":\"right\"},\"len\":0.9,\"pad\":{\"b\":10,\"t\":50},\"steps\":[{\"args\":[[0],{\"frame\":{\"duration\":300,\"redraw\":true},\"mode\":\"immediate\",\"transition\":{\"duration\":300}}],\"label\":\"0\",\"method\":\"animate\"},{\"args\":[[1],{\"frame\":{\"duration\":300,\"redraw\":true},\"mode\":\"immediate\",\"transition\":{\"duration\":300}}],\"label\":\"1\",\"method\":\"animate\"},{\"args\":[[2],{\"frame\":{\"duration\":300,\"redraw\":true},\"mode\":\"immediate\",\"transition\":{\"duration\":300}}],\"label\":\"2\",\"method\":\"animate\"},{\"args\":[[3],{\"frame\":{\"duration\":300,\"redraw\":true},\"mode\":\"immediate\",\"transition\":{\"duration\":300}}],\"label\":\"3\",\"method\":\"animate\"},{\"args\":[[4],{\"frame\":{\"duration\":300,\"redraw\":true},\"mode\":\"immediate\",\"transition\":{\"duration\":300}}],\"label\":\"4\",\"method\":\"animate\"},{\"args\":[[5],{\"frame\":{\"duration\":300,\"redraw\":true},\"mode\":\"immediate\",\"transition\":{\"duration\":300}}],\"label\":\"5\",\"method\":\"animate\"},{\"args\":[[6],{\"frame\":{\"duration\":300,\"redraw\":true},\"mode\":\"immediate\",\"transition\":{\"duration\":300}}],\"label\":\"6\",\"method\":\"animate\"},{\"args\":[[7],{\"frame\":{\"duration\":300,\"redraw\":true},\"mode\":\"immediate\",\"transition\":{\"duration\":300}}],\"label\":\"7\",\"method\":\"animate\"},{\"args\":[[8],{\"frame\":{\"duration\":300,\"redraw\":true},\"mode\":\"immediate\",\"transition\":{\"duration\":300}}],\"label\":\"8\",\"method\":\"animate\"},{\"args\":[[9],{\"frame\":{\"duration\":300,\"redraw\":true},\"mode\":\"immediate\",\"transition\":{\"duration\":300}}],\"label\":\"9\",\"method\":\"animate\"},{\"args\":[[10],{\"frame\":{\"duration\":300,\"redraw\":true},\"mode\":\"immediate\",\"transition\":{\"duration\":300}}],\"label\":\"10\",\"method\":\"animate\"},{\"args\":[[11],{\"frame\":{\"duration\":300,\"redraw\":true},\"mode\":\"immediate\",\"transition\":{\"duration\":300}}],\"label\":\"11\",\"method\":\"animate\"},{\"args\":[[12],{\"frame\":{\"duration\":300,\"redraw\":true},\"mode\":\"immediate\",\"transition\":{\"duration\":300}}],\"label\":\"12\",\"method\":\"animate\"},{\"args\":[[13],{\"frame\":{\"duration\":300,\"redraw\":true},\"mode\":\"immediate\",\"transition\":{\"duration\":300}}],\"label\":\"13\",\"method\":\"animate\"},{\"args\":[[14],{\"frame\":{\"duration\":300,\"redraw\":true},\"mode\":\"immediate\",\"transition\":{\"duration\":300}}],\"label\":\"14\",\"method\":\"animate\"},{\"args\":[[15],{\"frame\":{\"duration\":300,\"redraw\":true},\"mode\":\"immediate\",\"transition\":{\"duration\":300}}],\"label\":\"15\",\"method\":\"animate\"},{\"args\":[[16],{\"frame\":{\"duration\":300,\"redraw\":true},\"mode\":\"immediate\",\"transition\":{\"duration\":300}}],\"label\":\"16\",\"method\":\"animate\"},{\"args\":[[17],{\"frame\":{\"duration\":300,\"redraw\":true},\"mode\":\"immediate\",\"transition\":{\"duration\":300}}],\"label\":\"17\",\"method\":\"animate\"},{\"args\":[[18],{\"frame\":{\"duration\":300,\"redraw\":true},\"mode\":\"immediate\",\"transition\":{\"duration\":300}}],\"label\":\"18\",\"method\":\"animate\"},{\"args\":[[19],{\"frame\":{\"duration\":300,\"redraw\":true},\"mode\":\"immediate\",\"transition\":{\"duration\":300}}],\"label\":\"19\",\"method\":\"animate\"},{\"args\":[[20],{\"frame\":{\"duration\":300,\"redraw\":true},\"mode\":\"immediate\",\"transition\":{\"duration\":300}}],\"label\":\"20\",\"method\":\"animate\"},{\"args\":[[21],{\"frame\":{\"duration\":300,\"redraw\":true},\"mode\":\"immediate\",\"transition\":{\"duration\":300}}],\"label\":\"21\",\"method\":\"animate\"},{\"args\":[[22],{\"frame\":{\"duration\":300,\"redraw\":true},\"mode\":\"immediate\",\"transition\":{\"duration\":300}}],\"label\":\"22\",\"method\":\"animate\"},{\"args\":[[23],{\"frame\":{\"duration\":300,\"redraw\":true},\"mode\":\"immediate\",\"transition\":{\"duration\":300}}],\"label\":\"23\",\"method\":\"animate\"},{\"args\":[[24],{\"frame\":{\"duration\":300,\"redraw\":true},\"mode\":\"immediate\",\"transition\":{\"duration\":300}}],\"label\":\"24\",\"method\":\"animate\"},{\"args\":[[25],{\"frame\":{\"duration\":300,\"redraw\":true},\"mode\":\"immediate\",\"transition\":{\"duration\":300}}],\"label\":\"25\",\"method\":\"animate\"},{\"args\":[[26],{\"frame\":{\"duration\":300,\"redraw\":true},\"mode\":\"immediate\",\"transition\":{\"duration\":300}}],\"label\":\"26\",\"method\":\"animate\"},{\"args\":[[27],{\"frame\":{\"duration\":300,\"redraw\":true},\"mode\":\"immediate\",\"transition\":{\"duration\":300}}],\"label\":\"27\",\"method\":\"animate\"},{\"args\":[[28],{\"frame\":{\"duration\":300,\"redraw\":true},\"mode\":\"immediate\",\"transition\":{\"duration\":300}}],\"label\":\"28\",\"method\":\"animate\"},{\"args\":[[29],{\"frame\":{\"duration\":300,\"redraw\":true},\"mode\":\"immediate\",\"transition\":{\"duration\":300}}],\"label\":\"29\",\"method\":\"animate\"},{\"args\":[[30],{\"frame\":{\"duration\":300,\"redraw\":true},\"mode\":\"immediate\",\"transition\":{\"duration\":300}}],\"label\":\"30\",\"method\":\"animate\"},{\"args\":[[31],{\"frame\":{\"duration\":300,\"redraw\":true},\"mode\":\"immediate\",\"transition\":{\"duration\":300}}],\"label\":\"31\",\"method\":\"animate\"},{\"args\":[[32],{\"frame\":{\"duration\":300,\"redraw\":true},\"mode\":\"immediate\",\"transition\":{\"duration\":300}}],\"label\":\"32\",\"method\":\"animate\"},{\"args\":[[33],{\"frame\":{\"duration\":300,\"redraw\":true},\"mode\":\"immediate\",\"transition\":{\"duration\":300}}],\"label\":\"33\",\"method\":\"animate\"},{\"args\":[[34],{\"frame\":{\"duration\":300,\"redraw\":true},\"mode\":\"immediate\",\"transition\":{\"duration\":300}}],\"label\":\"34\",\"method\":\"animate\"},{\"args\":[[35],{\"frame\":{\"duration\":300,\"redraw\":true},\"mode\":\"immediate\",\"transition\":{\"duration\":300}}],\"label\":\"35\",\"method\":\"animate\"},{\"args\":[[36],{\"frame\":{\"duration\":300,\"redraw\":true},\"mode\":\"immediate\",\"transition\":{\"duration\":300}}],\"label\":\"36\",\"method\":\"animate\"},{\"args\":[[37],{\"frame\":{\"duration\":300,\"redraw\":true},\"mode\":\"immediate\",\"transition\":{\"duration\":300}}],\"label\":\"37\",\"method\":\"animate\"},{\"args\":[[38],{\"frame\":{\"duration\":300,\"redraw\":true},\"mode\":\"immediate\",\"transition\":{\"duration\":300}}],\"label\":\"38\",\"method\":\"animate\"},{\"args\":[[39],{\"frame\":{\"duration\":300,\"redraw\":true},\"mode\":\"immediate\",\"transition\":{\"duration\":300}}],\"label\":\"39\",\"method\":\"animate\"},{\"args\":[[40],{\"frame\":{\"duration\":300,\"redraw\":true},\"mode\":\"immediate\",\"transition\":{\"duration\":300}}],\"label\":\"40\",\"method\":\"animate\"},{\"args\":[[41],{\"frame\":{\"duration\":300,\"redraw\":true},\"mode\":\"immediate\",\"transition\":{\"duration\":300}}],\"label\":\"41\",\"method\":\"animate\"},{\"args\":[[42],{\"frame\":{\"duration\":300,\"redraw\":true},\"mode\":\"immediate\",\"transition\":{\"duration\":300}}],\"label\":\"42\",\"method\":\"animate\"},{\"args\":[[43],{\"frame\":{\"duration\":300,\"redraw\":true},\"mode\":\"immediate\",\"transition\":{\"duration\":300}}],\"label\":\"43\",\"method\":\"animate\"},{\"args\":[[44],{\"frame\":{\"duration\":300,\"redraw\":true},\"mode\":\"immediate\",\"transition\":{\"duration\":300}}],\"label\":\"44\",\"method\":\"animate\"},{\"args\":[[45],{\"frame\":{\"duration\":300,\"redraw\":true},\"mode\":\"immediate\",\"transition\":{\"duration\":300}}],\"label\":\"45\",\"method\":\"animate\"},{\"args\":[[46],{\"frame\":{\"duration\":300,\"redraw\":true},\"mode\":\"immediate\",\"transition\":{\"duration\":300}}],\"label\":\"46\",\"method\":\"animate\"},{\"args\":[[47],{\"frame\":{\"duration\":300,\"redraw\":true},\"mode\":\"immediate\",\"transition\":{\"duration\":300}}],\"label\":\"47\",\"method\":\"animate\"},{\"args\":[[48],{\"frame\":{\"duration\":300,\"redraw\":true},\"mode\":\"immediate\",\"transition\":{\"duration\":300}}],\"label\":\"48\",\"method\":\"animate\"},{\"args\":[[49],{\"frame\":{\"duration\":300,\"redraw\":true},\"mode\":\"immediate\",\"transition\":{\"duration\":300}}],\"label\":\"49\",\"method\":\"animate\"},{\"args\":[[50],{\"frame\":{\"duration\":300,\"redraw\":true},\"mode\":\"immediate\",\"transition\":{\"duration\":300}}],\"label\":\"50\",\"method\":\"animate\"},{\"args\":[[51],{\"frame\":{\"duration\":300,\"redraw\":true},\"mode\":\"immediate\",\"transition\":{\"duration\":300}}],\"label\":\"51\",\"method\":\"animate\"},{\"args\":[[52],{\"frame\":{\"duration\":300,\"redraw\":true},\"mode\":\"immediate\",\"transition\":{\"duration\":300}}],\"label\":\"52\",\"method\":\"animate\"},{\"args\":[[53],{\"frame\":{\"duration\":300,\"redraw\":true},\"mode\":\"immediate\",\"transition\":{\"duration\":300}}],\"label\":\"53\",\"method\":\"animate\"},{\"args\":[[54],{\"frame\":{\"duration\":300,\"redraw\":true},\"mode\":\"immediate\",\"transition\":{\"duration\":300}}],\"label\":\"54\",\"method\":\"animate\"},{\"args\":[[55],{\"frame\":{\"duration\":300,\"redraw\":true},\"mode\":\"immediate\",\"transition\":{\"duration\":300}}],\"label\":\"55\",\"method\":\"animate\"},{\"args\":[[56],{\"frame\":{\"duration\":300,\"redraw\":true},\"mode\":\"immediate\",\"transition\":{\"duration\":300}}],\"label\":\"56\",\"method\":\"animate\"},{\"args\":[[57],{\"frame\":{\"duration\":300,\"redraw\":true},\"mode\":\"immediate\",\"transition\":{\"duration\":300}}],\"label\":\"57\",\"method\":\"animate\"},{\"args\":[[58],{\"frame\":{\"duration\":300,\"redraw\":true},\"mode\":\"immediate\",\"transition\":{\"duration\":300}}],\"label\":\"58\",\"method\":\"animate\"},{\"args\":[[59],{\"frame\":{\"duration\":300,\"redraw\":true},\"mode\":\"immediate\",\"transition\":{\"duration\":300}}],\"label\":\"59\",\"method\":\"animate\"},{\"args\":[[60],{\"frame\":{\"duration\":300,\"redraw\":true},\"mode\":\"immediate\",\"transition\":{\"duration\":300}}],\"label\":\"60\",\"method\":\"animate\"},{\"args\":[[61],{\"frame\":{\"duration\":300,\"redraw\":true},\"mode\":\"immediate\",\"transition\":{\"duration\":300}}],\"label\":\"61\",\"method\":\"animate\"},{\"args\":[[62],{\"frame\":{\"duration\":300,\"redraw\":true},\"mode\":\"immediate\",\"transition\":{\"duration\":300}}],\"label\":\"62\",\"method\":\"animate\"},{\"args\":[[63],{\"frame\":{\"duration\":300,\"redraw\":true},\"mode\":\"immediate\",\"transition\":{\"duration\":300}}],\"label\":\"63\",\"method\":\"animate\"},{\"args\":[[64],{\"frame\":{\"duration\":300,\"redraw\":true},\"mode\":\"immediate\",\"transition\":{\"duration\":300}}],\"label\":\"64\",\"method\":\"animate\"},{\"args\":[[65],{\"frame\":{\"duration\":300,\"redraw\":true},\"mode\":\"immediate\",\"transition\":{\"duration\":300}}],\"label\":\"65\",\"method\":\"animate\"},{\"args\":[[66],{\"frame\":{\"duration\":300,\"redraw\":true},\"mode\":\"immediate\",\"transition\":{\"duration\":300}}],\"label\":\"66\",\"method\":\"animate\"},{\"args\":[[67],{\"frame\":{\"duration\":300,\"redraw\":true},\"mode\":\"immediate\",\"transition\":{\"duration\":300}}],\"label\":\"67\",\"method\":\"animate\"},{\"args\":[[68],{\"frame\":{\"duration\":300,\"redraw\":true},\"mode\":\"immediate\",\"transition\":{\"duration\":300}}],\"label\":\"68\",\"method\":\"animate\"},{\"args\":[[69],{\"frame\":{\"duration\":300,\"redraw\":true},\"mode\":\"immediate\",\"transition\":{\"duration\":300}}],\"label\":\"69\",\"method\":\"animate\"},{\"args\":[[70],{\"frame\":{\"duration\":300,\"redraw\":true},\"mode\":\"immediate\",\"transition\":{\"duration\":300}}],\"label\":\"70\",\"method\":\"animate\"},{\"args\":[[71],{\"frame\":{\"duration\":300,\"redraw\":true},\"mode\":\"immediate\",\"transition\":{\"duration\":300}}],\"label\":\"71\",\"method\":\"animate\"},{\"args\":[[72],{\"frame\":{\"duration\":300,\"redraw\":true},\"mode\":\"immediate\",\"transition\":{\"duration\":300}}],\"label\":\"72\",\"method\":\"animate\"},{\"args\":[[73],{\"frame\":{\"duration\":300,\"redraw\":true},\"mode\":\"immediate\",\"transition\":{\"duration\":300}}],\"label\":\"73\",\"method\":\"animate\"},{\"args\":[[74],{\"frame\":{\"duration\":300,\"redraw\":true},\"mode\":\"immediate\",\"transition\":{\"duration\":300}}],\"label\":\"74\",\"method\":\"animate\"},{\"args\":[[75],{\"frame\":{\"duration\":300,\"redraw\":true},\"mode\":\"immediate\",\"transition\":{\"duration\":300}}],\"label\":\"75\",\"method\":\"animate\"},{\"args\":[[76],{\"frame\":{\"duration\":300,\"redraw\":true},\"mode\":\"immediate\",\"transition\":{\"duration\":300}}],\"label\":\"76\",\"method\":\"animate\"},{\"args\":[[77],{\"frame\":{\"duration\":300,\"redraw\":true},\"mode\":\"immediate\",\"transition\":{\"duration\":300}}],\"label\":\"77\",\"method\":\"animate\"},{\"args\":[[78],{\"frame\":{\"duration\":300,\"redraw\":true},\"mode\":\"immediate\",\"transition\":{\"duration\":300}}],\"label\":\"78\",\"method\":\"animate\"},{\"args\":[[79],{\"frame\":{\"duration\":300,\"redraw\":true},\"mode\":\"immediate\",\"transition\":{\"duration\":300}}],\"label\":\"79\",\"method\":\"animate\"},{\"args\":[[80],{\"frame\":{\"duration\":300,\"redraw\":true},\"mode\":\"immediate\",\"transition\":{\"duration\":300}}],\"label\":\"80\",\"method\":\"animate\"},{\"args\":[[81],{\"frame\":{\"duration\":300,\"redraw\":true},\"mode\":\"immediate\",\"transition\":{\"duration\":300}}],\"label\":\"81\",\"method\":\"animate\"},{\"args\":[[82],{\"frame\":{\"duration\":300,\"redraw\":true},\"mode\":\"immediate\",\"transition\":{\"duration\":300}}],\"label\":\"82\",\"method\":\"animate\"},{\"args\":[[83],{\"frame\":{\"duration\":300,\"redraw\":true},\"mode\":\"immediate\",\"transition\":{\"duration\":300}}],\"label\":\"83\",\"method\":\"animate\"},{\"args\":[[84],{\"frame\":{\"duration\":300,\"redraw\":true},\"mode\":\"immediate\",\"transition\":{\"duration\":300}}],\"label\":\"84\",\"method\":\"animate\"},{\"args\":[[85],{\"frame\":{\"duration\":300,\"redraw\":true},\"mode\":\"immediate\",\"transition\":{\"duration\":300}}],\"label\":\"85\",\"method\":\"animate\"},{\"args\":[[86],{\"frame\":{\"duration\":300,\"redraw\":true},\"mode\":\"immediate\",\"transition\":{\"duration\":300}}],\"label\":\"86\",\"method\":\"animate\"},{\"args\":[[87],{\"frame\":{\"duration\":300,\"redraw\":true},\"mode\":\"immediate\",\"transition\":{\"duration\":300}}],\"label\":\"87\",\"method\":\"animate\"},{\"args\":[[88],{\"frame\":{\"duration\":300,\"redraw\":true},\"mode\":\"immediate\",\"transition\":{\"duration\":300}}],\"label\":\"88\",\"method\":\"animate\"},{\"args\":[[89],{\"frame\":{\"duration\":300,\"redraw\":true},\"mode\":\"immediate\",\"transition\":{\"duration\":300}}],\"label\":\"89\",\"method\":\"animate\"},{\"args\":[[90],{\"frame\":{\"duration\":300,\"redraw\":true},\"mode\":\"immediate\",\"transition\":{\"duration\":300}}],\"label\":\"90\",\"method\":\"animate\"},{\"args\":[[91],{\"frame\":{\"duration\":300,\"redraw\":true},\"mode\":\"immediate\",\"transition\":{\"duration\":300}}],\"label\":\"91\",\"method\":\"animate\"},{\"args\":[[92],{\"frame\":{\"duration\":300,\"redraw\":true},\"mode\":\"immediate\",\"transition\":{\"duration\":300}}],\"label\":\"92\",\"method\":\"animate\"},{\"args\":[[93],{\"frame\":{\"duration\":300,\"redraw\":true},\"mode\":\"immediate\",\"transition\":{\"duration\":300}}],\"label\":\"93\",\"method\":\"animate\"},{\"args\":[[94],{\"frame\":{\"duration\":300,\"redraw\":true},\"mode\":\"immediate\",\"transition\":{\"duration\":300}}],\"label\":\"94\",\"method\":\"animate\"},{\"args\":[[95],{\"frame\":{\"duration\":300,\"redraw\":true},\"mode\":\"immediate\",\"transition\":{\"duration\":300}}],\"label\":\"95\",\"method\":\"animate\"},{\"args\":[[96],{\"frame\":{\"duration\":300,\"redraw\":true},\"mode\":\"immediate\",\"transition\":{\"duration\":300}}],\"label\":\"96\",\"method\":\"animate\"},{\"args\":[[97],{\"frame\":{\"duration\":300,\"redraw\":true},\"mode\":\"immediate\",\"transition\":{\"duration\":300}}],\"label\":\"97\",\"method\":\"animate\"},{\"args\":[[98],{\"frame\":{\"duration\":300,\"redraw\":true},\"mode\":\"immediate\",\"transition\":{\"duration\":300}}],\"label\":\"98\",\"method\":\"animate\"},{\"args\":[[99],{\"frame\":{\"duration\":300,\"redraw\":true},\"mode\":\"immediate\",\"transition\":{\"duration\":300}}],\"label\":\"99\",\"method\":\"animate\"},{\"args\":[[100],{\"frame\":{\"duration\":300,\"redraw\":true},\"mode\":\"immediate\",\"transition\":{\"duration\":300}}],\"label\":\"100\",\"method\":\"animate\"},{\"args\":[[101],{\"frame\":{\"duration\":300,\"redraw\":true},\"mode\":\"immediate\",\"transition\":{\"duration\":300}}],\"label\":\"101\",\"method\":\"animate\"},{\"args\":[[102],{\"frame\":{\"duration\":300,\"redraw\":true},\"mode\":\"immediate\",\"transition\":{\"duration\":300}}],\"label\":\"102\",\"method\":\"animate\"},{\"args\":[[103],{\"frame\":{\"duration\":300,\"redraw\":true},\"mode\":\"immediate\",\"transition\":{\"duration\":300}}],\"label\":\"103\",\"method\":\"animate\"},{\"args\":[[104],{\"frame\":{\"duration\":300,\"redraw\":true},\"mode\":\"immediate\",\"transition\":{\"duration\":300}}],\"label\":\"104\",\"method\":\"animate\"},{\"args\":[[105],{\"frame\":{\"duration\":300,\"redraw\":true},\"mode\":\"immediate\",\"transition\":{\"duration\":300}}],\"label\":\"105\",\"method\":\"animate\"},{\"args\":[[106],{\"frame\":{\"duration\":300,\"redraw\":true},\"mode\":\"immediate\",\"transition\":{\"duration\":300}}],\"label\":\"106\",\"method\":\"animate\"},{\"args\":[[107],{\"frame\":{\"duration\":300,\"redraw\":true},\"mode\":\"immediate\",\"transition\":{\"duration\":300}}],\"label\":\"107\",\"method\":\"animate\"},{\"args\":[[108],{\"frame\":{\"duration\":300,\"redraw\":true},\"mode\":\"immediate\",\"transition\":{\"duration\":300}}],\"label\":\"108\",\"method\":\"animate\"},{\"args\":[[109],{\"frame\":{\"duration\":300,\"redraw\":true},\"mode\":\"immediate\",\"transition\":{\"duration\":300}}],\"label\":\"109\",\"method\":\"animate\"},{\"args\":[[110],{\"frame\":{\"duration\":300,\"redraw\":true},\"mode\":\"immediate\",\"transition\":{\"duration\":300}}],\"label\":\"110\",\"method\":\"animate\"},{\"args\":[[111],{\"frame\":{\"duration\":300,\"redraw\":true},\"mode\":\"immediate\",\"transition\":{\"duration\":300}}],\"label\":\"111\",\"method\":\"animate\"},{\"args\":[[112],{\"frame\":{\"duration\":300,\"redraw\":true},\"mode\":\"immediate\",\"transition\":{\"duration\":300}}],\"label\":\"112\",\"method\":\"animate\"},{\"args\":[[113],{\"frame\":{\"duration\":300,\"redraw\":true},\"mode\":\"immediate\",\"transition\":{\"duration\":300}}],\"label\":\"113\",\"method\":\"animate\"},{\"args\":[[114],{\"frame\":{\"duration\":300,\"redraw\":true},\"mode\":\"immediate\",\"transition\":{\"duration\":300}}],\"label\":\"114\",\"method\":\"animate\"},{\"args\":[[115],{\"frame\":{\"duration\":300,\"redraw\":true},\"mode\":\"immediate\",\"transition\":{\"duration\":300}}],\"label\":\"115\",\"method\":\"animate\"},{\"args\":[[116],{\"frame\":{\"duration\":300,\"redraw\":true},\"mode\":\"immediate\",\"transition\":{\"duration\":300}}],\"label\":\"116\",\"method\":\"animate\"},{\"args\":[[117],{\"frame\":{\"duration\":300,\"redraw\":true},\"mode\":\"immediate\",\"transition\":{\"duration\":300}}],\"label\":\"117\",\"method\":\"animate\"},{\"args\":[[118],{\"frame\":{\"duration\":300,\"redraw\":true},\"mode\":\"immediate\",\"transition\":{\"duration\":300}}],\"label\":\"118\",\"method\":\"animate\"},{\"args\":[[119],{\"frame\":{\"duration\":300,\"redraw\":true},\"mode\":\"immediate\",\"transition\":{\"duration\":300}}],\"label\":\"119\",\"method\":\"animate\"},{\"args\":[[120],{\"frame\":{\"duration\":300,\"redraw\":true},\"mode\":\"immediate\",\"transition\":{\"duration\":300}}],\"label\":\"120\",\"method\":\"animate\"},{\"args\":[[121],{\"frame\":{\"duration\":300,\"redraw\":true},\"mode\":\"immediate\",\"transition\":{\"duration\":300}}],\"label\":\"121\",\"method\":\"animate\"},{\"args\":[[122],{\"frame\":{\"duration\":300,\"redraw\":true},\"mode\":\"immediate\",\"transition\":{\"duration\":300}}],\"label\":\"122\",\"method\":\"animate\"},{\"args\":[[123],{\"frame\":{\"duration\":300,\"redraw\":true},\"mode\":\"immediate\",\"transition\":{\"duration\":300}}],\"label\":\"123\",\"method\":\"animate\"},{\"args\":[[124],{\"frame\":{\"duration\":300,\"redraw\":true},\"mode\":\"immediate\",\"transition\":{\"duration\":300}}],\"label\":\"124\",\"method\":\"animate\"},{\"args\":[[125],{\"frame\":{\"duration\":300,\"redraw\":true},\"mode\":\"immediate\",\"transition\":{\"duration\":300}}],\"label\":\"125\",\"method\":\"animate\"},{\"args\":[[126],{\"frame\":{\"duration\":300,\"redraw\":true},\"mode\":\"immediate\",\"transition\":{\"duration\":300}}],\"label\":\"126\",\"method\":\"animate\"},{\"args\":[[127],{\"frame\":{\"duration\":300,\"redraw\":true},\"mode\":\"immediate\",\"transition\":{\"duration\":300}}],\"label\":\"127\",\"method\":\"animate\"},{\"args\":[[128],{\"frame\":{\"duration\":300,\"redraw\":true},\"mode\":\"immediate\",\"transition\":{\"duration\":300}}],\"label\":\"128\",\"method\":\"animate\"},{\"args\":[[129],{\"frame\":{\"duration\":300,\"redraw\":true},\"mode\":\"immediate\",\"transition\":{\"duration\":300}}],\"label\":\"129\",\"method\":\"animate\"},{\"args\":[[130],{\"frame\":{\"duration\":300,\"redraw\":true},\"mode\":\"immediate\",\"transition\":{\"duration\":300}}],\"label\":\"130\",\"method\":\"animate\"},{\"args\":[[131],{\"frame\":{\"duration\":300,\"redraw\":true},\"mode\":\"immediate\",\"transition\":{\"duration\":300}}],\"label\":\"131\",\"method\":\"animate\"},{\"args\":[[132],{\"frame\":{\"duration\":300,\"redraw\":true},\"mode\":\"immediate\",\"transition\":{\"duration\":300}}],\"label\":\"132\",\"method\":\"animate\"},{\"args\":[[133],{\"frame\":{\"duration\":300,\"redraw\":true},\"mode\":\"immediate\",\"transition\":{\"duration\":300}}],\"label\":\"133\",\"method\":\"animate\"},{\"args\":[[134],{\"frame\":{\"duration\":300,\"redraw\":true},\"mode\":\"immediate\",\"transition\":{\"duration\":300}}],\"label\":\"134\",\"method\":\"animate\"},{\"args\":[[135],{\"frame\":{\"duration\":300,\"redraw\":true},\"mode\":\"immediate\",\"transition\":{\"duration\":300}}],\"label\":\"135\",\"method\":\"animate\"},{\"args\":[[136],{\"frame\":{\"duration\":300,\"redraw\":true},\"mode\":\"immediate\",\"transition\":{\"duration\":300}}],\"label\":\"136\",\"method\":\"animate\"},{\"args\":[[137],{\"frame\":{\"duration\":300,\"redraw\":true},\"mode\":\"immediate\",\"transition\":{\"duration\":300}}],\"label\":\"137\",\"method\":\"animate\"},{\"args\":[[138],{\"frame\":{\"duration\":300,\"redraw\":true},\"mode\":\"immediate\",\"transition\":{\"duration\":300}}],\"label\":\"138\",\"method\":\"animate\"},{\"args\":[[139],{\"frame\":{\"duration\":300,\"redraw\":true},\"mode\":\"immediate\",\"transition\":{\"duration\":300}}],\"label\":\"139\",\"method\":\"animate\"},{\"args\":[[140],{\"frame\":{\"duration\":300,\"redraw\":true},\"mode\":\"immediate\",\"transition\":{\"duration\":300}}],\"label\":\"140\",\"method\":\"animate\"},{\"args\":[[141],{\"frame\":{\"duration\":300,\"redraw\":true},\"mode\":\"immediate\",\"transition\":{\"duration\":300}}],\"label\":\"141\",\"method\":\"animate\"},{\"args\":[[142],{\"frame\":{\"duration\":300,\"redraw\":true},\"mode\":\"immediate\",\"transition\":{\"duration\":300}}],\"label\":\"142\",\"method\":\"animate\"},{\"args\":[[143],{\"frame\":{\"duration\":300,\"redraw\":true},\"mode\":\"immediate\",\"transition\":{\"duration\":300}}],\"label\":\"143\",\"method\":\"animate\"},{\"args\":[[144],{\"frame\":{\"duration\":300,\"redraw\":true},\"mode\":\"immediate\",\"transition\":{\"duration\":300}}],\"label\":\"144\",\"method\":\"animate\"},{\"args\":[[145],{\"frame\":{\"duration\":300,\"redraw\":true},\"mode\":\"immediate\",\"transition\":{\"duration\":300}}],\"label\":\"145\",\"method\":\"animate\"},{\"args\":[[146],{\"frame\":{\"duration\":300,\"redraw\":true},\"mode\":\"immediate\",\"transition\":{\"duration\":300}}],\"label\":\"146\",\"method\":\"animate\"},{\"args\":[[147],{\"frame\":{\"duration\":300,\"redraw\":true},\"mode\":\"immediate\",\"transition\":{\"duration\":300}}],\"label\":\"147\",\"method\":\"animate\"},{\"args\":[[148],{\"frame\":{\"duration\":300,\"redraw\":true},\"mode\":\"immediate\",\"transition\":{\"duration\":300}}],\"label\":\"148\",\"method\":\"animate\"},{\"args\":[[149],{\"frame\":{\"duration\":300,\"redraw\":true},\"mode\":\"immediate\",\"transition\":{\"duration\":300}}],\"label\":\"149\",\"method\":\"animate\"},{\"args\":[[150],{\"frame\":{\"duration\":300,\"redraw\":true},\"mode\":\"immediate\",\"transition\":{\"duration\":300}}],\"label\":\"150\",\"method\":\"animate\"},{\"args\":[[151],{\"frame\":{\"duration\":300,\"redraw\":true},\"mode\":\"immediate\",\"transition\":{\"duration\":300}}],\"label\":\"151\",\"method\":\"animate\"},{\"args\":[[152],{\"frame\":{\"duration\":300,\"redraw\":true},\"mode\":\"immediate\",\"transition\":{\"duration\":300}}],\"label\":\"152\",\"method\":\"animate\"},{\"args\":[[153],{\"frame\":{\"duration\":300,\"redraw\":true},\"mode\":\"immediate\",\"transition\":{\"duration\":300}}],\"label\":\"153\",\"method\":\"animate\"},{\"args\":[[154],{\"frame\":{\"duration\":300,\"redraw\":true},\"mode\":\"immediate\",\"transition\":{\"duration\":300}}],\"label\":\"154\",\"method\":\"animate\"},{\"args\":[[155],{\"frame\":{\"duration\":300,\"redraw\":true},\"mode\":\"immediate\",\"transition\":{\"duration\":300}}],\"label\":\"155\",\"method\":\"animate\"},{\"args\":[[156],{\"frame\":{\"duration\":300,\"redraw\":true},\"mode\":\"immediate\",\"transition\":{\"duration\":300}}],\"label\":\"156\",\"method\":\"animate\"},{\"args\":[[157],{\"frame\":{\"duration\":300,\"redraw\":true},\"mode\":\"immediate\",\"transition\":{\"duration\":300}}],\"label\":\"157\",\"method\":\"animate\"},{\"args\":[[158],{\"frame\":{\"duration\":300,\"redraw\":true},\"mode\":\"immediate\",\"transition\":{\"duration\":300}}],\"label\":\"158\",\"method\":\"animate\"},{\"args\":[[159],{\"frame\":{\"duration\":300,\"redraw\":true},\"mode\":\"immediate\",\"transition\":{\"duration\":300}}],\"label\":\"159\",\"method\":\"animate\"},{\"args\":[[160],{\"frame\":{\"duration\":300,\"redraw\":true},\"mode\":\"immediate\",\"transition\":{\"duration\":300}}],\"label\":\"160\",\"method\":\"animate\"},{\"args\":[[161],{\"frame\":{\"duration\":300,\"redraw\":true},\"mode\":\"immediate\",\"transition\":{\"duration\":300}}],\"label\":\"161\",\"method\":\"animate\"},{\"args\":[[162],{\"frame\":{\"duration\":300,\"redraw\":true},\"mode\":\"immediate\",\"transition\":{\"duration\":300}}],\"label\":\"162\",\"method\":\"animate\"},{\"args\":[[163],{\"frame\":{\"duration\":300,\"redraw\":true},\"mode\":\"immediate\",\"transition\":{\"duration\":300}}],\"label\":\"163\",\"method\":\"animate\"},{\"args\":[[164],{\"frame\":{\"duration\":300,\"redraw\":true},\"mode\":\"immediate\",\"transition\":{\"duration\":300}}],\"label\":\"164\",\"method\":\"animate\"},{\"args\":[[165],{\"frame\":{\"duration\":300,\"redraw\":true},\"mode\":\"immediate\",\"transition\":{\"duration\":300}}],\"label\":\"165\",\"method\":\"animate\"},{\"args\":[[166],{\"frame\":{\"duration\":300,\"redraw\":true},\"mode\":\"immediate\",\"transition\":{\"duration\":300}}],\"label\":\"166\",\"method\":\"animate\"},{\"args\":[[167],{\"frame\":{\"duration\":300,\"redraw\":true},\"mode\":\"immediate\",\"transition\":{\"duration\":300}}],\"label\":\"167\",\"method\":\"animate\"},{\"args\":[[168],{\"frame\":{\"duration\":300,\"redraw\":true},\"mode\":\"immediate\",\"transition\":{\"duration\":300}}],\"label\":\"168\",\"method\":\"animate\"},{\"args\":[[169],{\"frame\":{\"duration\":300,\"redraw\":true},\"mode\":\"immediate\",\"transition\":{\"duration\":300}}],\"label\":\"169\",\"method\":\"animate\"},{\"args\":[[170],{\"frame\":{\"duration\":300,\"redraw\":true},\"mode\":\"immediate\",\"transition\":{\"duration\":300}}],\"label\":\"170\",\"method\":\"animate\"},{\"args\":[[171],{\"frame\":{\"duration\":300,\"redraw\":true},\"mode\":\"immediate\",\"transition\":{\"duration\":300}}],\"label\":\"171\",\"method\":\"animate\"},{\"args\":[[172],{\"frame\":{\"duration\":300,\"redraw\":true},\"mode\":\"immediate\",\"transition\":{\"duration\":300}}],\"label\":\"172\",\"method\":\"animate\"},{\"args\":[[173],{\"frame\":{\"duration\":300,\"redraw\":true},\"mode\":\"immediate\",\"transition\":{\"duration\":300}}],\"label\":\"173\",\"method\":\"animate\"},{\"args\":[[174],{\"frame\":{\"duration\":300,\"redraw\":true},\"mode\":\"immediate\",\"transition\":{\"duration\":300}}],\"label\":\"174\",\"method\":\"animate\"},{\"args\":[[175],{\"frame\":{\"duration\":300,\"redraw\":true},\"mode\":\"immediate\",\"transition\":{\"duration\":300}}],\"label\":\"175\",\"method\":\"animate\"},{\"args\":[[176],{\"frame\":{\"duration\":300,\"redraw\":true},\"mode\":\"immediate\",\"transition\":{\"duration\":300}}],\"label\":\"176\",\"method\":\"animate\"},{\"args\":[[177],{\"frame\":{\"duration\":300,\"redraw\":true},\"mode\":\"immediate\",\"transition\":{\"duration\":300}}],\"label\":\"177\",\"method\":\"animate\"},{\"args\":[[178],{\"frame\":{\"duration\":300,\"redraw\":true},\"mode\":\"immediate\",\"transition\":{\"duration\":300}}],\"label\":\"178\",\"method\":\"animate\"},{\"args\":[[179],{\"frame\":{\"duration\":300,\"redraw\":true},\"mode\":\"immediate\",\"transition\":{\"duration\":300}}],\"label\":\"179\",\"method\":\"animate\"},{\"args\":[[180],{\"frame\":{\"duration\":300,\"redraw\":true},\"mode\":\"immediate\",\"transition\":{\"duration\":300}}],\"label\":\"180\",\"method\":\"animate\"},{\"args\":[[181],{\"frame\":{\"duration\":300,\"redraw\":true},\"mode\":\"immediate\",\"transition\":{\"duration\":300}}],\"label\":\"181\",\"method\":\"animate\"},{\"args\":[[182],{\"frame\":{\"duration\":300,\"redraw\":true},\"mode\":\"immediate\",\"transition\":{\"duration\":300}}],\"label\":\"182\",\"method\":\"animate\"},{\"args\":[[183],{\"frame\":{\"duration\":300,\"redraw\":true},\"mode\":\"immediate\",\"transition\":{\"duration\":300}}],\"label\":\"183\",\"method\":\"animate\"},{\"args\":[[184],{\"frame\":{\"duration\":300,\"redraw\":true},\"mode\":\"immediate\",\"transition\":{\"duration\":300}}],\"label\":\"184\",\"method\":\"animate\"},{\"args\":[[185],{\"frame\":{\"duration\":300,\"redraw\":true},\"mode\":\"immediate\",\"transition\":{\"duration\":300}}],\"label\":\"185\",\"method\":\"animate\"},{\"args\":[[186],{\"frame\":{\"duration\":300,\"redraw\":true},\"mode\":\"immediate\",\"transition\":{\"duration\":300}}],\"label\":\"186\",\"method\":\"animate\"},{\"args\":[[187],{\"frame\":{\"duration\":300,\"redraw\":true},\"mode\":\"immediate\",\"transition\":{\"duration\":300}}],\"label\":\"187\",\"method\":\"animate\"},{\"args\":[[188],{\"frame\":{\"duration\":300,\"redraw\":true},\"mode\":\"immediate\",\"transition\":{\"duration\":300}}],\"label\":\"188\",\"method\":\"animate\"},{\"args\":[[189],{\"frame\":{\"duration\":300,\"redraw\":true},\"mode\":\"immediate\",\"transition\":{\"duration\":300}}],\"label\":\"189\",\"method\":\"animate\"},{\"args\":[[190],{\"frame\":{\"duration\":300,\"redraw\":true},\"mode\":\"immediate\",\"transition\":{\"duration\":300}}],\"label\":\"190\",\"method\":\"animate\"},{\"args\":[[191],{\"frame\":{\"duration\":300,\"redraw\":true},\"mode\":\"immediate\",\"transition\":{\"duration\":300}}],\"label\":\"191\",\"method\":\"animate\"},{\"args\":[[192],{\"frame\":{\"duration\":300,\"redraw\":true},\"mode\":\"immediate\",\"transition\":{\"duration\":300}}],\"label\":\"192\",\"method\":\"animate\"},{\"args\":[[193],{\"frame\":{\"duration\":300,\"redraw\":true},\"mode\":\"immediate\",\"transition\":{\"duration\":300}}],\"label\":\"193\",\"method\":\"animate\"},{\"args\":[[194],{\"frame\":{\"duration\":300,\"redraw\":true},\"mode\":\"immediate\",\"transition\":{\"duration\":300}}],\"label\":\"194\",\"method\":\"animate\"},{\"args\":[[195],{\"frame\":{\"duration\":300,\"redraw\":true},\"mode\":\"immediate\",\"transition\":{\"duration\":300}}],\"label\":\"195\",\"method\":\"animate\"},{\"args\":[[196],{\"frame\":{\"duration\":300,\"redraw\":true},\"mode\":\"immediate\",\"transition\":{\"duration\":300}}],\"label\":\"196\",\"method\":\"animate\"},{\"args\":[[197],{\"frame\":{\"duration\":300,\"redraw\":true},\"mode\":\"immediate\",\"transition\":{\"duration\":300}}],\"label\":\"197\",\"method\":\"animate\"},{\"args\":[[198],{\"frame\":{\"duration\":300,\"redraw\":true},\"mode\":\"immediate\",\"transition\":{\"duration\":300}}],\"label\":\"198\",\"method\":\"animate\"},{\"args\":[[199],{\"frame\":{\"duration\":300,\"redraw\":true},\"mode\":\"immediate\",\"transition\":{\"duration\":300}}],\"label\":\"199\",\"method\":\"animate\"},{\"args\":[[200],{\"frame\":{\"duration\":300,\"redraw\":true},\"mode\":\"immediate\",\"transition\":{\"duration\":300}}],\"label\":\"200\",\"method\":\"animate\"},{\"args\":[[201],{\"frame\":{\"duration\":300,\"redraw\":true},\"mode\":\"immediate\",\"transition\":{\"duration\":300}}],\"label\":\"201\",\"method\":\"animate\"},{\"args\":[[202],{\"frame\":{\"duration\":300,\"redraw\":true},\"mode\":\"immediate\",\"transition\":{\"duration\":300}}],\"label\":\"202\",\"method\":\"animate\"},{\"args\":[[203],{\"frame\":{\"duration\":300,\"redraw\":true},\"mode\":\"immediate\",\"transition\":{\"duration\":300}}],\"label\":\"203\",\"method\":\"animate\"},{\"args\":[[204],{\"frame\":{\"duration\":300,\"redraw\":true},\"mode\":\"immediate\",\"transition\":{\"duration\":300}}],\"label\":\"204\",\"method\":\"animate\"},{\"args\":[[205],{\"frame\":{\"duration\":300,\"redraw\":true},\"mode\":\"immediate\",\"transition\":{\"duration\":300}}],\"label\":\"205\",\"method\":\"animate\"},{\"args\":[[206],{\"frame\":{\"duration\":300,\"redraw\":true},\"mode\":\"immediate\",\"transition\":{\"duration\":300}}],\"label\":\"206\",\"method\":\"animate\"},{\"args\":[[207],{\"frame\":{\"duration\":300,\"redraw\":true},\"mode\":\"immediate\",\"transition\":{\"duration\":300}}],\"label\":\"207\",\"method\":\"animate\"},{\"args\":[[208],{\"frame\":{\"duration\":300,\"redraw\":true},\"mode\":\"immediate\",\"transition\":{\"duration\":300}}],\"label\":\"208\",\"method\":\"animate\"},{\"args\":[[209],{\"frame\":{\"duration\":300,\"redraw\":true},\"mode\":\"immediate\",\"transition\":{\"duration\":300}}],\"label\":\"209\",\"method\":\"animate\"},{\"args\":[[210],{\"frame\":{\"duration\":300,\"redraw\":true},\"mode\":\"immediate\",\"transition\":{\"duration\":300}}],\"label\":\"210\",\"method\":\"animate\"},{\"args\":[[211],{\"frame\":{\"duration\":300,\"redraw\":true},\"mode\":\"immediate\",\"transition\":{\"duration\":300}}],\"label\":\"211\",\"method\":\"animate\"},{\"args\":[[212],{\"frame\":{\"duration\":300,\"redraw\":true},\"mode\":\"immediate\",\"transition\":{\"duration\":300}}],\"label\":\"212\",\"method\":\"animate\"},{\"args\":[[213],{\"frame\":{\"duration\":300,\"redraw\":true},\"mode\":\"immediate\",\"transition\":{\"duration\":300}}],\"label\":\"213\",\"method\":\"animate\"},{\"args\":[[214],{\"frame\":{\"duration\":300,\"redraw\":true},\"mode\":\"immediate\",\"transition\":{\"duration\":300}}],\"label\":\"214\",\"method\":\"animate\"},{\"args\":[[215],{\"frame\":{\"duration\":300,\"redraw\":true},\"mode\":\"immediate\",\"transition\":{\"duration\":300}}],\"label\":\"215\",\"method\":\"animate\"},{\"args\":[[216],{\"frame\":{\"duration\":300,\"redraw\":true},\"mode\":\"immediate\",\"transition\":{\"duration\":300}}],\"label\":\"216\",\"method\":\"animate\"},{\"args\":[[217],{\"frame\":{\"duration\":300,\"redraw\":true},\"mode\":\"immediate\",\"transition\":{\"duration\":300}}],\"label\":\"217\",\"method\":\"animate\"},{\"args\":[[218],{\"frame\":{\"duration\":300,\"redraw\":true},\"mode\":\"immediate\",\"transition\":{\"duration\":300}}],\"label\":\"218\",\"method\":\"animate\"},{\"args\":[[219],{\"frame\":{\"duration\":300,\"redraw\":true},\"mode\":\"immediate\",\"transition\":{\"duration\":300}}],\"label\":\"219\",\"method\":\"animate\"},{\"args\":[[220],{\"frame\":{\"duration\":300,\"redraw\":true},\"mode\":\"immediate\",\"transition\":{\"duration\":300}}],\"label\":\"220\",\"method\":\"animate\"},{\"args\":[[221],{\"frame\":{\"duration\":300,\"redraw\":true},\"mode\":\"immediate\",\"transition\":{\"duration\":300}}],\"label\":\"221\",\"method\":\"animate\"},{\"args\":[[222],{\"frame\":{\"duration\":300,\"redraw\":true},\"mode\":\"immediate\",\"transition\":{\"duration\":300}}],\"label\":\"222\",\"method\":\"animate\"},{\"args\":[[223],{\"frame\":{\"duration\":300,\"redraw\":true},\"mode\":\"immediate\",\"transition\":{\"duration\":300}}],\"label\":\"223\",\"method\":\"animate\"},{\"args\":[[224],{\"frame\":{\"duration\":300,\"redraw\":true},\"mode\":\"immediate\",\"transition\":{\"duration\":300}}],\"label\":\"224\",\"method\":\"animate\"},{\"args\":[[225],{\"frame\":{\"duration\":300,\"redraw\":true},\"mode\":\"immediate\",\"transition\":{\"duration\":300}}],\"label\":\"225\",\"method\":\"animate\"},{\"args\":[[226],{\"frame\":{\"duration\":300,\"redraw\":true},\"mode\":\"immediate\",\"transition\":{\"duration\":300}}],\"label\":\"226\",\"method\":\"animate\"},{\"args\":[[227],{\"frame\":{\"duration\":300,\"redraw\":true},\"mode\":\"immediate\",\"transition\":{\"duration\":300}}],\"label\":\"227\",\"method\":\"animate\"},{\"args\":[[228],{\"frame\":{\"duration\":300,\"redraw\":true},\"mode\":\"immediate\",\"transition\":{\"duration\":300}}],\"label\":\"228\",\"method\":\"animate\"},{\"args\":[[229],{\"frame\":{\"duration\":300,\"redraw\":true},\"mode\":\"immediate\",\"transition\":{\"duration\":300}}],\"label\":\"229\",\"method\":\"animate\"},{\"args\":[[230],{\"frame\":{\"duration\":300,\"redraw\":true},\"mode\":\"immediate\",\"transition\":{\"duration\":300}}],\"label\":\"230\",\"method\":\"animate\"},{\"args\":[[231],{\"frame\":{\"duration\":300,\"redraw\":true},\"mode\":\"immediate\",\"transition\":{\"duration\":300}}],\"label\":\"231\",\"method\":\"animate\"},{\"args\":[[232],{\"frame\":{\"duration\":300,\"redraw\":true},\"mode\":\"immediate\",\"transition\":{\"duration\":300}}],\"label\":\"232\",\"method\":\"animate\"},{\"args\":[[233],{\"frame\":{\"duration\":300,\"redraw\":true},\"mode\":\"immediate\",\"transition\":{\"duration\":300}}],\"label\":\"233\",\"method\":\"animate\"},{\"args\":[[234],{\"frame\":{\"duration\":300,\"redraw\":true},\"mode\":\"immediate\",\"transition\":{\"duration\":300}}],\"label\":\"234\",\"method\":\"animate\"},{\"args\":[[235],{\"frame\":{\"duration\":300,\"redraw\":true},\"mode\":\"immediate\",\"transition\":{\"duration\":300}}],\"label\":\"235\",\"method\":\"animate\"},{\"args\":[[236],{\"frame\":{\"duration\":300,\"redraw\":true},\"mode\":\"immediate\",\"transition\":{\"duration\":300}}],\"label\":\"236\",\"method\":\"animate\"},{\"args\":[[237],{\"frame\":{\"duration\":300,\"redraw\":true},\"mode\":\"immediate\",\"transition\":{\"duration\":300}}],\"label\":\"237\",\"method\":\"animate\"},{\"args\":[[238],{\"frame\":{\"duration\":300,\"redraw\":true},\"mode\":\"immediate\",\"transition\":{\"duration\":300}}],\"label\":\"238\",\"method\":\"animate\"},{\"args\":[[239],{\"frame\":{\"duration\":300,\"redraw\":true},\"mode\":\"immediate\",\"transition\":{\"duration\":300}}],\"label\":\"239\",\"method\":\"animate\"},{\"args\":[[240],{\"frame\":{\"duration\":300,\"redraw\":true},\"mode\":\"immediate\",\"transition\":{\"duration\":300}}],\"label\":\"240\",\"method\":\"animate\"},{\"args\":[[241],{\"frame\":{\"duration\":300,\"redraw\":true},\"mode\":\"immediate\",\"transition\":{\"duration\":300}}],\"label\":\"241\",\"method\":\"animate\"},{\"args\":[[242],{\"frame\":{\"duration\":300,\"redraw\":true},\"mode\":\"immediate\",\"transition\":{\"duration\":300}}],\"label\":\"242\",\"method\":\"animate\"},{\"args\":[[243],{\"frame\":{\"duration\":300,\"redraw\":true},\"mode\":\"immediate\",\"transition\":{\"duration\":300}}],\"label\":\"243\",\"method\":\"animate\"},{\"args\":[[244],{\"frame\":{\"duration\":300,\"redraw\":true},\"mode\":\"immediate\",\"transition\":{\"duration\":300}}],\"label\":\"244\",\"method\":\"animate\"},{\"args\":[[245],{\"frame\":{\"duration\":300,\"redraw\":true},\"mode\":\"immediate\",\"transition\":{\"duration\":300}}],\"label\":\"245\",\"method\":\"animate\"}],\"transition\":{\"duration\":300,\"easing\":\"cubic-in-out\"},\"x\":0.1,\"xanchor\":\"left\",\"y\":0,\"yanchor\":\"top\"}]},                        {\"responsive\": true}                    ).then(function(){\n",
       "                            Plotly.addFrames('69140f1b-85f7-406a-a59d-3506c29569ae', [{\"data\":[{\"marker\":{\"color\":[\"red\",\"red\",\"red\",\"blue\",\"blue\",\"green\",\"green\",\"green\"]},\"mode\":\"markers\",\"x\":[0.4077547148482114,0.7885473154212934,0.45028290019934586,0.5263193973605268,0.7767598696977283,0.9810498242606931,0.8140210506706237,0.027454465551323626],\"y\":[0.055760271644652463,0.28719852578564387,0.30351807380797313,0.6238071690932225,0.6862634369424302,0.6008037885545793,0.7087129733261928,0.904301610949261],\"type\":\"scatter\"}],\"name\":\"0\"},{\"data\":[{\"marker\":{\"color\":[\"red\",\"red\",\"red\",\"blue\",\"blue\",\"green\",\"green\",\"green\"]},\"mode\":\"markers\",\"x\":[0.40063407236965365,0.7767075963696242,0.43849854006946476,0.5294079963608689,0.7543479073916426,1.0078450316528393,0.8004040736912464,0.06434432010440831],\"y\":[0.047971095610415786,0.2955661448585973,0.29323764565808924,0.5994576763997445,0.6744534793213177,0.6282373852992892,0.7261120236585772,0.9053303992979248],\"type\":\"scatter\"}],\"name\":\"1\"},{\"data\":[{\"marker\":{\"color\":[\"red\",\"red\",\"red\",\"blue\",\"blue\",\"green\",\"green\",\"green\"]},\"mode\":\"markers\",\"x\":[0.39644620532904495,0.7648098774289058,0.43860330521472773,0.5340005708879921,0.7243639590247013,1.034001134478213,0.7833209815827261,0.09664350406343954],\"y\":[0.03207450553738061,0.2946710222282371,0.29280595419730304,0.6076700204117189,0.6622968814632114,0.6534521425517698,0.7230961262549237,0.9042991974594106],\"type\":\"scatter\"}],\"name\":\"2\"},{\"data\":[{\"marker\":{\"color\":[\"red\",\"red\",\"red\",\"blue\",\"blue\",\"green\",\"green\",\"green\"]},\"mode\":\"markers\",\"x\":[0.3975320355071568,0.7814876473083435,0.4331011354137698,0.5477787181875251,0.6540310258347435,1.0582092902381508,0.7756472979609079,0.12440238755914872],\"y\":[0.04970481246176929,0.25091933101197705,0.31581468574272464,0.5959427859423149,0.6406098645351854,0.6746906285594542,0.7449125641464892,0.8977711777040421],\"type\":\"scatter\"}],\"name\":\"3\"},{\"data\":[{\"marker\":{\"color\":[\"red\",\"red\",\"red\",\"blue\",\"blue\",\"green\",\"green\",\"green\"]},\"mode\":\"markers\",\"x\":[0.4095655784376481,0.8076768394321608,0.40702450761489745,0.5897718720784442,0.6528153922156615,1.0205339482933915,0.7657494599654812,0.11905193997206173],\"y\":[0.08917739307584681,0.21835112591447275,0.2968746653781221,0.5816182754484249,0.6214766993959695,0.6820131562224735,0.7616574572856832,0.9191970773829605],\"type\":\"scatter\"}],\"name\":\"4\"},{\"data\":[{\"marker\":{\"color\":[\"red\",\"red\",\"red\",\"blue\",\"blue\",\"green\",\"green\",\"green\"]},\"mode\":\"markers\",\"x\":[0.411418733187312,0.799851229038415,0.40384091706691727,0.5835363960873432,0.6314269967117329,1.0216120025915647,0.7645613434978586,0.15594191982860162],\"y\":[0.0960244481946403,0.21349234820122237,0.28748137338376284,0.580254838612944,0.5840540385222852,0.6990435907292203,0.801358373262188,0.9086568391976872],\"type\":\"scatter\"}],\"name\":\"5\"},{\"data\":[{\"marker\":{\"color\":[\"red\",\"red\",\"red\",\"blue\",\"blue\",\"green\",\"green\",\"green\"]},\"mode\":\"markers\",\"x\":[0.40385095021690604,0.7725333039626214,0.44143658777349104,0.617197791968828,0.6105639125563921,1.0046833844452676,0.7749846805170036,0.146938926569238],\"y\":[0.06552861636527979,0.20023993024241363,0.29602097404347316,0.5723975237912529,0.5925767740850819,0.7081332537125954,0.8114655861022636,0.9240031917615921],\"type\":\"scatter\"}],\"name\":\"6\"},{\"data\":[{\"marker\":{\"color\":[\"red\",\"red\",\"red\",\"blue\",\"blue\",\"green\",\"green\",\"green\"]},\"mode\":\"markers\",\"x\":[0.3962095528661891,0.7812076722936308,0.45967641886431504,0.618838376118779,0.6335939944941694,0.9941079547859519,0.7543918826643269,0.1341636859223793],\"y\":[0.0651519934947771,0.1665969464854081,0.2942739959656804,0.5808447250590355,0.5829363329707853,0.712161050610934,0.8196989226137519,0.9487018829035813],\"type\":\"scatter\"}],\"name\":\"7\"},{\"data\":[{\"marker\":{\"color\":[\"red\",\"red\",\"red\",\"blue\",\"blue\",\"green\",\"green\",\"green\"]},\"mode\":\"markers\",\"x\":[0.4115283637047637,0.7888870446623563,0.45216840009845627,0.6357552534698364,0.6280805371346303,0.9876709159537143,0.7329510407503299,0.13514798223565444],\"y\":[0.07684750833536036,0.14889189782871,0.292721923686161,0.5732247315495138,0.5822429513629688,0.7154092888507338,0.8119824280318617,0.9690451204586419],\"type\":\"scatter\"}],\"name\":\"8\"},{\"data\":[{\"marker\":{\"color\":[\"red\",\"red\",\"red\",\"blue\",\"blue\",\"green\",\"green\",\"green\"]},\"mode\":\"markers\",\"x\":[0.4020589865472981,0.8107102056273227,0.4462179626452636,0.6107653490011298,0.6091208584157964,1.0066039500133295,0.7259275188458356,0.16078470691376423],\"y\":[0.08679112241127568,0.11316314751128204,0.29130870727014174,0.5768641552814966,0.5725831755663517,0.7382488134775533,0.8328226347637483,0.9585840938221011],\"type\":\"scatter\"}],\"name\":\"9\"},{\"data\":[{\"marker\":{\"color\":[\"red\",\"red\",\"red\",\"blue\",\"blue\",\"green\",\"green\",\"green\"]},\"mode\":\"markers\",\"x\":[0.395676069623027,0.8161883301808422,0.4353786317563931,0.6173789344864582,0.6218011474071431,1.011380547640443,0.7004360200806251,0.17394985683480188],\"y\":[0.08616366220543363,0.10223957866363127,0.27962982484200266,0.5818142737843948,0.5667886781077583,0.7543417789103334,0.8329616614785588,0.9664263921118422],\"type\":\"scatter\"}],\"name\":\"10\"},{\"data\":[{\"marker\":{\"color\":[\"red\",\"red\",\"red\",\"blue\",\"blue\",\"green\",\"green\",\"green\"]},\"mode\":\"markers\",\"x\":[0.40637221229869175,0.8118345782319318,0.4524812243384887,0.6166468466047464,0.625574415111019,1.0286215417126192,0.6873088295979382,0.14334989011429583],\"y\":[0.09713319242831757,0.09341238714275522,0.2892640142064908,0.5527168366719263,0.559929569507559,0.7669765802157018,0.8056077531615605,1.0053255167696429],\"type\":\"scatter\"}],\"name\":\"11\"},{\"data\":[{\"marker\":{\"color\":[\"red\",\"red\",\"red\",\"blue\",\"blue\",\"green\",\"green\",\"green\"]},\"mode\":\"markers\",\"x\":[0.39971658073890826,0.7939782612190522,0.472183676131643,0.6101783004624558,0.6030030767374379,1.0048939741364533,0.7050920246522175,0.18314364393155932],\"y\":[0.08062713864554857,0.10281674727120939,0.29179415066532666,0.5276013393703648,0.5393328079291562,0.7853779973856465,0.855943033790637,0.9868726350460607],\"type\":\"scatter\"}],\"name\":\"12\"},{\"data\":[{\"marker\":{\"color\":[\"red\",\"red\",\"red\",\"blue\",\"blue\",\"green\",\"green\",\"green\"]},\"mode\":\"markers\",\"x\":[0.4042936293442545,0.7733317749290225,0.47558014982627095,0.5826668548072464,0.597943439422617,1.0173788302479256,0.6939569724169576,0.22703788701543484],\"y\":[0.07136709066123287,0.1077946570052326,0.2824692413817851,0.5130890768260767,0.5541055129728828,0.8022949717779668,0.8819482669319997,0.9572970325467749],\"type\":\"scatter\"}],\"name\":\"13\"},{\"data\":[{\"marker\":{\"color\":[\"red\",\"red\",\"red\",\"blue\",\"blue\",\"green\",\"green\",\"green\"]},\"mode\":\"markers\",\"x\":[0.3951109928783938,0.7458226091401869,0.4975896266111586,0.5992102538077015,0.5955245054357988,1.0030528817158835,0.7056641375006782,0.23021453091993074],\"y\":[0.030331979125976356,0.12663272678071083,0.29745231883685425,0.5158359306020445,0.5241156941429833,0.8171552731267986,0.8879654983800184,0.9708764291085664],\"type\":\"scatter\"}],\"name\":\"14\"},{\"data\":[{\"marker\":{\"color\":[\"red\",\"red\",\"red\",\"blue\",\"blue\",\"green\",\"green\",\"green\"]},\"mode\":\"markers\",\"x\":[0.38071740551337163,0.7366020292419587,0.4997791562992092,0.5976182205148557,0.6045822488768176,1.0203591019398959,0.6950936936191192,0.23743768200450585],\"y\":[0.020728696357555948,0.1443324904836734,0.2766428954453326,0.5280512965554337,0.5182084532402149,0.8249793804959507,0.8969472315814763,0.9604754059443155],\"type\":\"scatter\"}],\"name\":\"15\"},{\"data\":[{\"marker\":{\"color\":[\"red\",\"red\",\"red\",\"blue\",\"blue\",\"green\",\"green\",\"green\"]},\"mode\":\"markers\",\"x\":[0.3988550132125828,0.745266588630389,0.5002914123438521,0.6213897048347022,0.595227993113246,0.9637559795859071,0.7166691226796646,0.23073372360938782],\"y\":[0.039756184537886284,0.0975860102699369,0.2629549315508519,0.5266166804524578,0.5276813660099773,0.8200047225037548,0.9001744961044101,0.9955914586746779],\"type\":\"scatter\"}],\"name\":\"16\"},{\"data\":[{\"marker\":{\"color\":[\"red\",\"red\",\"red\",\"blue\",\"blue\",\"green\",\"green\",\"green\"]},\"mode\":\"markers\",\"x\":[0.4095573249388985,0.7687141784618485,0.48882777623261475,0.602833777777756,0.6185678880936353,0.9248398738222235,0.7130219209575269,0.2458267977252281],\"y\":[0.05236311961313602,0.04498047725487759,0.26946203813015396,0.554494522580773,0.5366657137507286,0.8168376189052897,0.8916647728587802,1.0038975870102136],\"type\":\"scatter\"}],\"name\":\"17\"},{\"data\":[{\"marker\":{\"color\":[\"red\",\"red\",\"red\",\"blue\",\"blue\",\"green\",\"green\",\"green\"]},\"mode\":\"markers\",\"x\":[0.4385605136003918,0.7584297936695057,0.49306774091946576,0.6097218119210687,0.6055940599702979,0.9291430840154132,0.7304909770545411,0.20718155685905143],\"y\":[0.07767736243566464,0.03173120965181053,0.27354922539834864,0.5146367702564693,0.517464973559388,0.8196247752637519,0.893600489044896,1.0420810444936208],\"type\":\"scatter\"}],\"name\":\"18\"},{\"data\":[{\"marker\":{\"color\":[\"red\",\"red\",\"red\",\"blue\",\"blue\",\"green\",\"green\",\"green\"]},\"mode\":\"markers\",\"x\":[0.44124150612576446,0.7467562690607932,0.49618697779245646,0.6085995167562016,0.602154094572125,0.9097830181216042,0.7505359249518981,0.21693223062889438],\"y\":[0.04398699822959959,0.03412788746495815,0.29651397229478543,0.5123572856931746,0.48868471612567843,0.8388146153230381,0.9120427939380571,1.04383758103466],\"type\":\"scatter\"}],\"name\":\"19\"},{\"data\":[{\"marker\":{\"color\":[\"red\",\"red\",\"red\",\"blue\",\"blue\",\"green\",\"green\",\"green\"]},\"mode\":\"markers\",\"x\":[0.44910465926435894,0.7370851963189063,0.48329607225826055,0.6146948736534151,0.615822862792152,0.8844039790213744,0.7518439217231073,0.23593797297816468],\"y\":[0.04466267943990219,0.0538760009698635,0.2686116658616117,0.5040965599818303,0.48754870135765127,0.817230189302522,0.952189982801853,1.0421500703887205],\"type\":\"scatter\"}],\"name\":\"20\"},{\"data\":[{\"marker\":{\"color\":[\"red\",\"red\",\"red\",\"blue\",\"blue\",\"green\",\"green\",\"green\"]},\"mode\":\"markers\",\"x\":[0.44881908517048963,0.7239847493781963,0.4899470974872744,0.6257902473266108,0.6034102174788943,0.8874320104837253,0.741283160234598,0.25152297044995064],\"y\":[0.012822677439165672,0.04556344951417238,0.25165721309521966,0.5157666056766393,0.523809525507365,0.8147167015257715,0.9677094635824998,1.0383202137631238],\"type\":\"scatter\"}],\"name\":\"21\"},{\"data\":[{\"marker\":{\"color\":[\"red\",\"red\",\"red\",\"blue\",\"blue\",\"green\",\"green\",\"green\"]},\"mode\":\"markers\",\"x\":[0.4636121822939732,0.718868322426566,0.4686967287590455,0.6178238639183992,0.6148440294339526,0.8667959925580815,0.7287033473800885,0.2928450712396316],\"y\":[0.025356450571010197,0.02225577008723399,0.23834970154480986,0.514665591039914,0.5389740658200324,0.830445184590187,0.9813109796961736,1.0190081067545975],\"type\":\"scatter\"}],\"name\":\"22\"},{\"data\":[{\"marker\":{\"color\":[\"red\",\"red\",\"red\",\"blue\",\"blue\",\"green\",\"green\",\"green\"]},\"mode\":\"markers\",\"x\":[0.4592670629367651,0.721667252721178,0.47423316344159244,0.6188341894459568,0.6154638343151938,0.9015438728894467,0.7115188330680144,0.2696613291915912],\"y\":[0.0038433795831240344,0.030313306491087325,0.2572421755957144,0.5360530892739805,0.5299285393378951,0.8357052317149477,0.934191746195847,1.0430883819113623],\"type\":\"scatter\"}],\"name\":\"23\"},{\"data\":[{\"marker\":{\"color\":[\"red\",\"red\",\"red\",\"blue\",\"blue\",\"green\",\"green\",\"green\"]},\"mode\":\"markers\",\"x\":[0.4614453001985345,0.7420935695615238,0.46628689155870967,0.6203751229862041,0.6164615292352824,0.8871374480883194,0.700607340517733,0.2777823358634339],\"y\":[0.046385822176026555,0.0032925144277980833,0.24069700118598036,0.5291010772459632,0.5314867459690007,0.8043126469729719,0.9680735546679896,1.0470164874582313],\"type\":\"scatter\"}],\"name\":\"24\"},{\"data\":[{\"marker\":{\"color\":[\"red\",\"red\",\"red\",\"blue\",\"blue\",\"green\",\"green\",\"green\"]},\"mode\":\"markers\",\"x\":[0.4561610900744874,0.7337887905158335,0.4735769694228248,0.6245126892689037,0.6359338402148956,0.8677860514007399,0.7135277675130539,0.26690233959900167],\"y\":[0.027237194298232244,0.044105684721506146,0.2177690973606619,0.51369109627534,0.5242082119063854,0.7839016502062762,0.99009166927096,1.0693612460645978],\"type\":\"scatter\"}],\"name\":\"25\"},{\"data\":[{\"marker\":{\"color\":[\"red\",\"red\",\"red\",\"blue\",\"blue\",\"green\",\"green\",\"green\"]},\"mode\":\"markers\",\"x\":[0.45126630037281273,0.7622715696304654,0.45895632427163763,0.6264809066490776,0.6246508626024161,0.8669804885023749,0.7018126561845448,0.2797704297964102],\"y\":[0.04359486879753297,0.005774298718659699,0.2292762996908906,0.5184797368745486,0.5139278288426505,0.7883621809017847,1.0068252534612099,1.0641253828166761],\"type\":\"scatter\"}],\"name\":\"26\"},{\"data\":[{\"marker\":{\"color\":[\"red\",\"red\",\"red\",\"blue\",\"blue\",\"green\",\"green\",\"green\"]},\"mode\":\"markers\",\"x\":[0.4538414518260795,0.7664399974355264,0.4514341245136681,0.6133847767227897,0.6055584332482162,0.8685014850770559,0.6951925356881045,0.31783673349829966],\"y\":[0.04810036772179644,-0.012264371451533416,0.2047044054013722,0.5190881262786122,0.5446018759599175,0.8178045183483639,1.0092428618289213,1.0390880660165014],\"type\":\"scatter\"}],\"name\":\"27\"},{\"data\":[{\"marker\":{\"color\":[\"red\",\"red\",\"red\",\"blue\",\"blue\",\"green\",\"green\",\"green\"]},\"mode\":\"markers\",\"x\":[0.4577441343798286,0.7650728580095695,0.4431413419129406,0.5979160397847599,0.5966922682572557,0.8545592290243195,0.7049008824068881,0.35216278423417585],\"y\":[0.06617517244598094,-0.018038027640905906,0.17768108981642725,0.5073648168191256,0.5534555569846907,0.843565978592007,1.0350282779819677,1.005132985104659],\"type\":\"scatter\"}],\"name\":\"28\"},{\"data\":[{\"marker\":{\"color\":[\"red\",\"red\",\"red\",\"blue\",\"blue\",\"green\",\"green\",\"green\"]},\"mode\":\"markers\",\"x\":[0.4602056436264505,0.7638339905677594,0.43043827842366045,0.5914516433265313,0.5892890413056431,0.8504179570186714,0.6846879057570493,0.4018650779839715],\"y\":[0.06047274983783671,-0.009127827079933374,0.1833867355065127,0.4956627914201939,0.530071788050234,0.8696378796512698,1.0556942914976082,0.9845674412202322],\"type\":\"scatter\"}],\"name\":\"29\"},{\"data\":[{\"marker\":{\"color\":[\"red\",\"red\",\"red\",\"blue\",\"blue\",\"green\",\"green\",\"green\"]},\"mode\":\"markers\",\"x\":[0.4815025230074748,0.7631108513479237,0.4082828815371832,0.5967023993637669,0.5959862248250667,0.826840660780212,0.6871063449915431,0.4126576521565656],\"y\":[0.06760934311901914,-0.02308148056130463,0.17541643111797922,0.5102192312944052,0.5017286029248569,0.8685628247247047,1.071105390627098,0.998805506857197],\"type\":\"scatter\"}],\"name\":\"30\"},{\"data\":[{\"marker\":{\"color\":[\"red\",\"red\",\"red\",\"blue\",\"blue\",\"green\",\"green\",\"green\"]},\"mode\":\"markers\",\"x\":[0.48640396135784547,0.763054722233502,0.4178992430795371,0.5745037928020618,0.5726937823533614,0.851647744286001,0.6790082561242023,0.42697803577322463],\"y\":[0.07642775903182118,-0.038075494875811536,0.2000825643865625,0.49104730950983577,0.504631124566259,0.8895531830679071,1.0929980754258675,0.953701328991516],\"type\":\"scatter\"}],\"name\":\"31\"},{\"data\":[{\"marker\":{\"color\":[\"red\",\"red\",\"red\",\"blue\",\"blue\",\"green\",\"green\",\"green\"]},\"mode\":\"markers\",\"x\":[0.47551854609284444,0.7677955807197344,0.40970206815237564,0.5724223797609467,0.5741207598480946,0.8870249576606203,0.6508142041638214,0.43479104161129856],\"y\":[0.08746949727997819,-0.04563473690141751,0.17269590279297972,0.5112657449048387,0.5150726660376205,0.9207344078697591,1.0507836870359584,0.9579786810842394],\"type\":\"scatter\"}],\"name\":\"32\"},{\"data\":[{\"marker\":{\"color\":[\"red\",\"red\",\"red\",\"blue\",\"blue\",\"green\",\"green\",\"green\"]},\"mode\":\"markers\",\"x\":[0.4675560666702647,0.7844399604055634,0.4128125949584839,0.5722335069750264,0.5724301726875919,0.8862701578565259,0.6503443015632617,0.4261027768930202],\"y\":[0.08368325970719358,-0.057231326110103245,0.20958953895646756,0.5003505361540934,0.5147955038772003,0.9059248293943196,1.0618476988288268,0.9514058092959593],\"type\":\"scatter\"}],\"name\":\"33\"},{\"data\":[{\"marker\":{\"color\":[\"red\",\"red\",\"red\",\"blue\",\"blue\",\"green\",\"green\",\"green\"]},\"mode\":\"markers\",\"x\":[0.4628694065688618,0.7757729452503381,0.4137840965887846,0.5904492808792322,0.5798656766230378,0.8675803856367345,0.6402504189944639,0.44161732746828936],\"y\":[0.0611030930193529,-0.049851073661750366,0.20186188789739615,0.49984785981301033,0.5027633474444424,0.9075434654331402,1.0655962140824766,0.9815010560758868],\"type\":\"scatter\"}],\"name\":\"34\"},{\"data\":[{\"marker\":{\"color\":[\"red\",\"red\",\"red\",\"blue\",\"blue\",\"green\",\"green\",\"green\"]},\"mode\":\"markers\",\"x\":[0.48025694263889296,0.7748604302347153,0.39261058119196346,0.5885516019370485,0.5814965967346556,0.8748233601421297,0.6445597504430635,0.43503027468727873],\"y\":[0.05978653361757461,-0.05208617287248225,0.19859559828875226,0.48487945599327703,0.5354802335230774,0.9244641732766579,1.0293867937815369,0.9898592344955612],\"type\":\"scatter\"}],\"name\":\"35\"},{\"data\":[{\"marker\":{\"color\":[\"red\",\"red\",\"red\",\"blue\",\"blue\",\"green\",\"green\",\"green\"]},\"mode\":\"markers\",\"x\":[0.4815514222471998,0.7560226413154334,0.40185834552100524,0.5880079906645345,0.586973835410366,0.8866736247839802,0.6308143577960961,0.4402873202711338],\"y\":[0.043740335706480636,-0.04234170170657384,0.18409756372171482,0.5099842468078084,0.5382794022607711,0.9284701900485471,1.0180710867601959,0.9900647265050123],\"type\":\"scatter\"}],\"name\":\"36\"},{\"data\":[{\"marker\":{\"color\":[\"red\",\"red\",\"red\",\"blue\",\"blue\",\"green\",\"green\",\"green\"]},\"mode\":\"markers\",\"x\":[0.5007712334495592,0.7610143218824819,0.37739664236420184,0.5943418554520529,0.5933084338402371,0.8863131078199532,0.6287196688855926,0.430324274315672],\"y\":[0.03705685775540915,-0.05338942656200382,0.18643848933372253,0.5292812832212315,0.5317230134643708,0.9073640335678697,1.027694853936209,1.004196745387149],\"type\":\"scatter\"}],\"name\":\"37\"},{\"data\":[{\"marker\":{\"color\":[\"red\",\"red\",\"red\",\"blue\",\"blue\",\"green\",\"green\",\"green\"]},\"mode\":\"markers\",\"x\":[0.5254567737228093,0.7441545479538478,0.3487162969369082,0.5899623583395645,0.5895565332211067,0.8995451365090594,0.630009282348332,0.4447886089781214],\"y\":[0.06282606200925758,-0.026912077038629696,0.15756291885453455,0.4963229428507451,0.5150244265227164,0.9359577526697125,1.039407129942121,0.9901766942935079],\"type\":\"scatter\"}],\"name\":\"38\"},{\"data\":[{\"marker\":{\"color\":[\"red\",\"red\",\"red\",\"blue\",\"blue\",\"green\",\"green\",\"green\"]},\"mode\":\"markers\",\"x\":[0.5244524550297289,0.7224404419951401,0.3753386271930896,0.5810099827001297,0.5903859737323514,0.9092652011324366,0.6288656404621694,0.44043121576470334],\"y\":[0.056953725742532345,-0.020586984104185645,0.15760138294638254,0.4838542687809932,0.5159216393619573,0.9373702714527866,1.0618307631163992,0.9774207828070971],\"type\":\"scatter\"}],\"name\":\"39\"},{\"data\":[{\"marker\":{\"color\":[\"red\",\"red\",\"red\",\"blue\",\"blue\",\"green\",\"green\",\"green\"]},\"mode\":\"markers\",\"x\":[0.5393578647572054,0.7050765182920447,0.38228724067947834,0.5880211693547804,0.5796804014973493,0.9187200484867816,0.6175354682879068,0.4415108266542045],\"y\":[0.0361471555338354,-0.01811942217715897,0.175126435297793,0.496954763618235,0.4871455419470513,0.9484100204291591,1.0506110765659056,0.994090278889141],\"type\":\"scatter\"}],\"name\":\"40\"},{\"data\":[{\"marker\":{\"color\":[\"red\",\"red\",\"red\",\"blue\",\"blue\",\"green\",\"green\",\"green\"]},\"mode\":\"markers\",\"x\":[0.5410735564921845,0.7035967796036483,0.38563486417830756,0.5807390484250794,0.580934458856579,0.930061491568425,0.6224304102366123,0.4277189286489127],\"y\":[0.007360121444672165,-0.024227533317063225,0.18362898380845655,0.5128417698125317,0.5040647680841633,0.9599553097783088,1.019652046280115,1.0070903842127825],\"type\":\"scatter\"}],\"name\":\"41\"},{\"data\":[{\"marker\":{\"color\":[\"red\",\"red\",\"red\",\"blue\",\"blue\",\"green\",\"green\",\"green\"]},\"mode\":\"markers\",\"x\":[0.5340574385130774,0.6938376594128834,0.39906542906718145,0.5896878016828224,0.5886914259503391,0.9146332069694684,0.640417116016166,0.41179946039780924],\"y\":[-0.015173627131938016,-0.009559558677481112,0.17457221098560938,0.512462215732142,0.5117686669984068,0.947188034198114,1.0300638987258568,1.0190440092732527],\"type\":\"scatter\"}],\"name\":\"42\"},{\"data\":[{\"marker\":{\"color\":[\"red\",\"red\",\"red\",\"blue\",\"blue\",\"green\",\"green\",\"green\"]},\"mode\":\"markers\",\"x\":[0.530458517725981,0.6927758065321521,0.4037118056539423,0.5936740892592082,0.5928021758289201,0.9064963807000886,0.653503565505591,0.39876719680386513],\"y\":[-0.029713535467719536,-0.00320551354442535,0.1749689173872149,0.5239574691956376,0.5163692772962911,0.933629548416575,1.036626612433451,1.0177330743869453],\"type\":\"scatter\"}],\"name\":\"43\"},{\"data\":[{\"marker\":{\"color\":[\"red\",\"red\",\"red\",\"blue\",\"blue\",\"green\",\"green\",\"green\"]},\"mode\":\"markers\",\"x\":[0.5344845468312346,0.7049536167494946,0.37730788429293394,0.5934227146677721,0.583212034319585,0.9046103455115484,0.67615802433844,0.39804037129873804],\"y\":[-0.042118713228510817,0.0008142138857574742,0.18358278646747064,0.5504928657130022,0.5093800784304533,0.9452777484032224,1.0383705690529552,0.9845663013796168],\"type\":\"scatter\"}],\"name\":\"44\"},{\"data\":[{\"marker\":{\"color\":[\"red\",\"red\",\"red\",\"blue\",\"blue\",\"green\",\"green\",\"green\"]},\"mode\":\"markers\",\"x\":[0.5327609264037491,0.7139620398095158,0.36153641475645215,0.5943951713070262,0.5954854448227653,0.8817405698744383,0.6789320702763019,0.41337690075950184],\"y\":[-0.023752072225054273,-0.025373852243753353,0.16670938274555816,0.5379818512320843,0.5429999610417738,0.9346814180347311,1.0600481948290745,0.977070966689547],\"type\":\"scatter\"}],\"name\":\"45\"},{\"data\":[{\"marker\":{\"color\":[\"red\",\"red\",\"red\",\"blue\",\"blue\",\"green\",\"green\",\"green\"]},\"mode\":\"markers\",\"x\":[0.5322596763230651,0.7019971470605947,0.36634132344542325,0.5960412575051461,0.5905478548554742,0.8951146520955513,0.6748394884808718,0.4150481382436219],\"y\":[3.273641602088279e-05,-0.02525498158463067,0.13424237844026646,0.5210612283540416,0.5702347251196446,0.9620402478175137,1.025909273097626,0.9821002424434785],\"type\":\"scatter\"}],\"name\":\"46\"},{\"data\":[{\"marker\":{\"color\":[\"red\",\"red\",\"red\",\"blue\",\"blue\",\"green\",\"green\",\"green\"]},\"mode\":\"markers\",\"x\":[0.5428956850249793,0.7154542284536983,0.35094724701941166,0.5835381080637098,0.5796873210088459,0.9170421435856863,0.6585083726223916,0.42411643223102763],\"y\":[0.004224207917250804,-0.04088801650718493,0.16770470664078227,0.5252146486039733,0.5383005302415825,0.9782969571989121,1.0275136732228325,0.9699991427858082],\"type\":\"scatter\"}],\"name\":\"47\"},{\"data\":[{\"marker\":{\"color\":[\"red\",\"red\",\"red\",\"blue\",\"blue\",\"green\",\"green\",\"green\"]},\"mode\":\"markers\",\"x\":[0.5660501913443844,0.7196577405161312,0.3263787366163948,0.5861561801114384,0.5868104937393924,0.9040304338312078,0.6714446592080645,0.41166110264273553],\"y\":[0.015031994047544267,-0.05833833032443994,0.17715960502377054,0.5286621042066442,0.543186945373942,0.9635506872377771,1.029699564336468,0.9714132802022499],\"type\":\"scatter\"}],\"name\":\"48\"},{\"data\":[{\"marker\":{\"color\":[\"red\",\"red\",\"red\",\"blue\",\"blue\",\"green\",\"green\",\"green\"]},\"mode\":\"markers\",\"x\":[0.5651034301228536,0.7210470717633785,0.32491213288301046,0.5932346211858236,0.5884433735275494,0.8715250449240663,0.7039840651576106,0.40393979844545447],\"y\":[0.021843636937412262,-0.048087902039277756,0.1727580618264094,0.5350604345362591,0.5176462027966736,0.9466751583384387,1.0508966252016902,0.9735736325063444],\"type\":\"scatter\"}],\"name\":\"49\"},{\"data\":[{\"marker\":{\"color\":[\"red\",\"red\",\"red\",\"blue\",\"blue\",\"green\",\"green\",\"green\"]},\"mode\":\"markers\",\"x\":[0.5532676091700284,0.7431271306957676,0.34303026832306227,0.5725502965626728,0.5763832092627901,0.8713700667357587,0.7099643236424655,0.40249663361719973],\"y\":[0.03482009857866035,-0.0921006780789342,0.20439369424064394,0.5186454940266824,0.5207432006010899,0.9458923638834258,1.0729585209425796,0.9650131559097995],\"type\":\"scatter\"}],\"name\":\"50\"},{\"data\":[{\"marker\":{\"color\":[\"red\",\"red\",\"red\",\"blue\",\"blue\",\"green\",\"green\",\"green\"]},\"mode\":\"markers\",\"x\":[0.5592430554450681,0.7370935717953327,0.3307849612448992,0.5845437840961255,0.5796793320547635,0.8483953358957612,0.7175778736326721,0.41487162384511944],\"y\":[0.038063193874956824,-0.09397874513585751,0.19081617701021383,0.5294784727024713,0.5406094596229383,0.938546913635731,1.082953424444457,0.9438769539490365],\"type\":\"scatter\"}],\"name\":\"51\"},{\"data\":[{\"marker\":{\"color\":[\"red\",\"red\",\"red\",\"blue\",\"blue\",\"green\",\"green\",\"green\"]},\"mode\":\"markers\",\"x\":[0.55572469813448,0.7410220192899427,0.3397336395450811,0.5851598777483306,0.5833512931755153,0.8325936105622724,0.7278038159760282,0.4068005835780922],\"y\":[0.05047884515951636,-0.1010678818097874,0.18675004826803565,0.5152931699206091,0.5485892325820393,0.9045653225381233,1.1088590969615688,0.9568980164838362],\"type\":\"scatter\"}],\"name\":\"52\"},{\"data\":[{\"marker\":{\"color\":[\"red\",\"red\",\"red\",\"blue\",\"blue\",\"green\",\"green\",\"green\"]},\"mode\":\"markers\",\"x\":[0.5542151343816231,0.7488008453597614,0.32608733217071634,0.5913598772317539,0.5971090613343188,0.8242038046306281,0.7278464256351826,0.40256705726575504],\"y\":[0.07266554651876198,-0.10609506461126898,0.18150792273441402,0.5438845392070392,0.5263753984394627,0.8789570999469308,1.117476847771551,0.9555935600970465],\"type\":\"scatter\"}],\"name\":\"53\"},{\"data\":[{\"marker\":{\"color\":[\"red\",\"red\",\"red\",\"blue\",\"blue\",\"green\",\"green\",\"green\"]},\"mode\":\"markers\",\"x\":[0.5726219584475826,0.7250194256574064,0.3305849210153597,0.6046284590046661,0.6053630473755949,0.8080952820783228,0.7423120480579243,0.38356439637288114],\"y\":[0.049722674512991664,-0.08315212535061495,0.17336970357039372,0.5447600789787734,0.5276265512600764,0.8548166720613581,1.132396472023694,0.9708258230472638],\"type\":\"scatter\"}],\"name\":\"54\"},{\"data\":[{\"marker\":{\"color\":[\"red\",\"red\",\"red\",\"blue\",\"blue\",\"green\",\"green\",\"green\"]},\"mode\":\"markers\",\"x\":[0.5652178501372046,0.7219957247876895,0.3442549542746125,0.6079766898322316,0.6148764210317986,0.7929190136286056,0.7423963784607351,0.3825525058568615],\"y\":[0.03783892418830245,-0.07719649910486533,0.1566529232413552,0.5536755001556027,0.5410154442654329,0.8482007591026118,1.111929371851464,0.9982494264040326],\"type\":\"scatter\"}],\"name\":\"55\"},{\"data\":[{\"marker\":{\"color\":[\"red\",\"red\",\"red\",\"blue\",\"blue\",\"green\",\"green\",\"green\"]},\"mode\":\"markers\",\"x\":[0.5473466910792611,0.725648808563341,0.36966837755688287,0.6116239614049553,0.6128476851471322,0.788304311898493,0.7337484423799913,0.3830012599796817],\"y\":[0.014682082758585116,-0.08887291842355627,0.16618286976393826,0.5818102316400063,0.5554964015563565,0.8534036476605159,1.077379384040343,1.0102841511077487],\"type\":\"scatter\"}],\"name\":\"56\"},{\"data\":[{\"marker\":{\"color\":[\"red\",\"red\",\"red\",\"blue\",\"blue\",\"green\",\"green\",\"green\"]},\"mode\":\"markers\",\"x\":[0.5622875949414134,0.7343876136505693,0.3547752869929459,0.6133475045029224,0.6153677936663096,0.788176402436869,0.7265408164281306,0.37730652539057946],\"y\":[0.05936258295422836,-0.10481068468868854,0.16196938721505935,0.5339336654250475,0.558337104910276,0.8603056692104412,1.0556236537051438,1.0456444713724329],\"type\":\"scatter\"}],\"name\":\"57\"},{\"data\":[{\"marker\":{\"color\":[\"red\",\"red\",\"red\",\"blue\",\"blue\",\"green\",\"green\",\"green\"]},\"mode\":\"markers\",\"x\":[0.5667092081605092,0.7120714101442979,0.3744334400807815,0.6157386381883663,0.6141992786762532,0.7899785562878572,0.7203665911220111,0.37869241534966247],\"y\":[0.02257197030289057,-0.08737635946988821,0.14398886101102484,0.576006047651488,0.5589376133100012,0.8597436312556037,1.0374175271232153,1.059076558919603],\"type\":\"scatter\"}],\"name\":\"58\"},{\"data\":[{\"marker\":{\"color\":[\"red\",\"red\",\"red\",\"blue\",\"blue\",\"green\",\"green\",\"green\"]},\"mode\":\"markers\",\"x\":[0.5642665676577864,0.7096847334862515,0.37273822354276,0.5891428830996478,0.6105033501672692,0.7944300819362583,0.7299377681065871,0.4014859300131804],\"y\":[0.0049584862007109615,-0.08975629046479705,0.14132488332608484,0.5736301751505604,0.5798910312100521,0.8879920559407807,1.060048622381293,1.0122768863592502],\"type\":\"scatter\"}],\"name\":\"59\"},{\"data\":[{\"marker\":{\"color\":[\"red\",\"red\",\"red\",\"blue\",\"blue\",\"green\",\"green\",\"green\"]},\"mode\":\"markers\",\"x\":[0.5785170789223107,0.7081962233176086,0.34743039226597194,0.6003332256403093,0.5963874293024958,0.816410926439031,0.7125379634959992,0.4123762986260145],\"y\":[-7.447778539087472e-05,-0.07967760955716079,0.13686740587896407,0.6000756379695071,0.5645053429207214,0.9186188202060716,1.0299353148513648,1.0001154156198597],\"type\":\"scatter\"}],\"name\":\"60\"},{\"data\":[{\"marker\":{\"color\":[\"red\",\"red\",\"red\",\"blue\",\"blue\",\"green\",\"green\",\"green\"]},\"mode\":\"markers\",\"x\":[0.580333603292342,0.6983216719163425,0.35811568009003364,0.5962582677796924,0.5964194730246124,0.8342696330410059,0.6947335120254321,0.41373769684028194],\"y\":[-0.014821563733694294,-0.05285750294515316,0.14769790052348514,0.5795314218401418,0.5594456216214005,0.9241141401327345,1.019646749924932,1.0076090827400952],\"type\":\"scatter\"}],\"name\":\"61\"},{\"data\":[{\"marker\":{\"color\":[\"red\",\"red\",\"red\",\"blue\",\"blue\",\"green\",\"green\",\"green\"]},\"mode\":\"markers\",\"x\":[0.575402406547856,0.697996358602678,0.3620062091554117,0.6116495267931154,0.6029440159707702,0.805938778771981,0.7215580427101151,0.3946941994578166],\"y\":[-0.02899657506521195,-0.03200896150635033,0.14398088143684154,0.5724848033482656,0.5810394160689657,0.8904173413747571,1.0283995484764665,1.0150493959702034],\"type\":\"scatter\"}],\"name\":\"62\"},{\"data\":[{\"marker\":{\"color\":[\"red\",\"red\",\"red\",\"blue\",\"blue\",\"green\",\"green\",\"green\"]},\"mode\":\"markers\",\"x\":[0.5743370203961083,0.6945630589998492,0.36611847592043983,0.5993128937749421,0.5949954146241024,0.828733698566028,0.7105348317512901,0.4035941439769814],\"y\":[-0.027979130628587544,-0.03774024633405311,0.14545262014961433,0.5770801944715244,0.5829828420432118,0.886788640380463,1.054605375211075,0.9891755548106925],\"type\":\"scatter\"}],\"name\":\"63\"},{\"data\":[{\"marker\":{\"color\":[\"red\",\"red\",\"red\",\"blue\",\"blue\",\"green\",\"green\",\"green\"]},\"mode\":\"markers\",\"x\":[0.5581423581716766,0.6945281083655914,0.39239796864673604,0.5876997689526017,0.5968474724981144,0.8275293257983387,0.7157377612867697,0.399306774289915],\"y\":[-0.03987514974183498,-0.04811393519291881,0.14996639603029785,0.5828996779767744,0.5849275974587234,0.8866520263388932,1.0647956447542148,0.989113592479791],\"type\":\"scatter\"}],\"name\":\"64\"},{\"data\":[{\"marker\":{\"color\":[\"red\",\"red\",\"red\",\"blue\",\"blue\",\"green\",\"green\",\"green\"]},\"mode\":\"markers\",\"x\":[0.5459811169580534,0.7146153672398888,0.39332298590138254,0.6004316668792181,0.5795982694232309,0.8317304117607519,0.7066233271820304,0.39988639266518616],\"y\":[-0.037508060588809296,-0.05899354340405165,0.16835791881767032,0.6051070323160039,0.5551052696837633,0.8792685922674229,1.0625562563191955,0.996472384692745],\"type\":\"scatter\"}],\"name\":\"65\"},{\"data\":[{\"marker\":{\"color\":[\"red\",\"red\",\"red\",\"blue\",\"blue\",\"green\",\"green\",\"green\"]},\"mode\":\"markers\",\"x\":[0.5251816925688109,0.7292072362777445,0.40122734333826904,0.5955131091709281,0.5714766480191324,0.8463466894863386,0.6770734255594039,0.4261633935891149],\"y\":[-0.013679168952433644,-0.060111575517279775,0.16416658894469058,0.570003813813972,0.5484960986125458,0.8805818835762454,1.078427587411516,1.002480622214686],\"type\":\"scatter\"}],\"name\":\"66\"},{\"data\":[{\"marker\":{\"color\":[\"red\",\"red\",\"red\",\"blue\",\"blue\",\"green\",\"green\",\"green\"]},\"mode\":\"markers\",\"x\":[0.5080915264294916,0.7457952173573617,0.41112082685381707,0.5823414004780514,0.5768256995904987,0.8515889725049735,0.6694031667695471,0.427022728026003],\"y\":[-0.008403188835931977,-0.06040707791136354,0.1856853970586037,0.5574656252064862,0.5379273533819807,0.8851114696031367,1.061905737261767,1.011080534339264],\"type\":\"scatter\"}],\"name\":\"67\"},{\"data\":[{\"marker\":{\"color\":[\"red\",\"red\",\"red\",\"blue\",\"blue\",\"green\",\"green\",\"green\"]},\"mode\":\"markers\",\"x\":[0.49513151872934175,0.7640614621794903,0.40776378018817006,0.5790903897503906,0.5839590955652405,0.8371785341792919,0.6730079292859155,0.4319968281319074],\"y\":[0.012597634378744563,-0.07662678054148447,0.17822307951272776,0.5513455693948597,0.5470768597510632,0.8866695151027717,1.0530980339792269,1.0179819385260274],\"type\":\"scatter\"}],\"name\":\"68\"},{\"data\":[{\"marker\":{\"color\":[\"red\",\"red\",\"red\",\"blue\",\"blue\",\"green\",\"green\",\"green\"]},\"mode\":\"markers\",\"x\":[0.4893940806140566,0.7866090599510206,0.39999741345798867,0.5812918464621432,0.5724589663604753,0.8253275002784735,0.6606245802902162,0.4564860905953748],\"y\":[0.005211648522121829,-0.11386680236185241,0.19924415957264813,0.5606617558584426,0.5628806287584357,0.9157364874474293,1.0198287676840143,1.020669204622699],\"type\":\"scatter\"}],\"name\":\"69\"},{\"data\":[{\"marker\":{\"color\":[\"red\",\"red\",\"red\",\"blue\",\"blue\",\"green\",\"green\",\"green\"]},\"mode\":\"markers\",\"x\":[0.48411892139146634,0.77456591860458,0.41323446403304026,0.5836698908483565,0.5786423630679033,0.8033642019572623,0.6546905254794071,0.479903252627736],\"y\":[-0.014874309698261638,-0.10634725850648628,0.1907654672191792,0.5703091091904625,0.563692565948015,0.9138128097125047,1.0331986529872734,1.0198088132512488],\"type\":\"scatter\"}],\"name\":\"70\"},{\"data\":[{\"marker\":{\"color\":[\"red\",\"red\",\"red\",\"blue\",\"blue\",\"green\",\"green\",\"green\"]},\"mode\":\"markers\",\"x\":[0.5013522415908921,0.7619371137664168,0.40713232508834,0.5839617540219926,0.576917542897308,0.7903023957845091,0.6697378642942005,0.48084830056609407],\"y\":[-0.016871073483228645,-0.1021314967206031,0.19152156625507005,0.5681555114145368,0.5487495013816488,0.918878628355403,1.0460537900363736,1.0160094228647283],\"type\":\"scatter\"}],\"name\":\"71\"},{\"data\":[{\"marker\":{\"color\":[\"red\",\"red\",\"red\",\"blue\",\"blue\",\"green\",\"green\",\"green\"]},\"mode\":\"markers\",\"x\":[0.497497226127546,0.7667338046649579,0.4008367646360132,0.5835570121613558,0.5854189486804257,0.7842166047894226,0.6695574201228424,0.4843717568271866],\"y\":[-0.005625609247419365,-0.09462265293084204,0.18610028252334826,0.5559485695848628,0.549367921864616,0.9209135094566986,1.0440430205684432,1.014240808284225],\"type\":\"scatter\"}],\"name\":\"72\"},{\"data\":[{\"marker\":{\"color\":[\"red\",\"red\",\"red\",\"blue\",\"blue\",\"green\",\"green\",\"green\"]},\"mode\":\"markers\",\"x\":[0.4967921893371031,0.7739622393569515,0.39500219563974803,0.5896633665273947,0.5884398904099046,0.7754389931673447,0.6661356858695436,0.48675497770175996],\"y\":[-0.0018954232794638809,-0.11228783750435584,0.17091197746842895,0.5595992090303821,0.5622452063310044,0.9428243674614013,0.9844977252672593,1.0644706253292722],\"type\":\"scatter\"}],\"name\":\"73\"},{\"data\":[{\"marker\":{\"color\":[\"red\",\"red\",\"red\",\"blue\",\"blue\",\"green\",\"green\",\"green\"]},\"mode\":\"markers\",\"x\":[0.49567897050685183,0.7733706832126633,0.3862502947736192,0.5951253727692104,0.5947112736585397,0.7626901784561939,0.6797789284275286,0.48458383620514345],\"y\":[-0.043773617562045855,-0.08481725395618737,0.1850130985805822,0.5467501683933839,0.56121757149619,0.9512653571449005,0.9727806756627424,1.0819298503443613],\"type\":\"scatter\"}],\"name\":\"74\"},{\"data\":[{\"marker\":{\"color\":[\"red\",\"red\",\"red\",\"blue\",\"blue\",\"green\",\"green\",\"green\"]},\"mode\":\"markers\",\"x\":[0.5092178447376052,0.76857744602978,0.3704647864540451,0.601937592797257,0.6004614754749117,0.7803343549224698,0.6600767584593656,0.4811192791343185],\"y\":[-0.020445887847501672,-0.0845350904719548,0.17123862153855576,0.531470641562532,0.5531859863846156,0.9507494830689271,0.9755106040607958,1.093191491807953],\"type\":\"scatter\"}],\"name\":\"75\"},{\"data\":[{\"marker\":{\"color\":[\"red\",\"red\",\"red\",\"blue\",\"blue\",\"green\",\"green\",\"green\"]},\"mode\":\"markers\",\"x\":[0.507227165018013,0.7646335433790871,0.37076057922784816,0.6083905250756562,0.6038716153218241,0.782476591528114,0.6649540149386918,0.46987550352051716],\"y\":[-0.02273602839403504,-0.06067268686992376,0.16279153990652248,0.5358643404436185,0.5418179309270115,0.9352516047050046,0.9636545251179693,1.1143946242677536],\"type\":\"scatter\"}],\"name\":\"76\"},{\"data\":[{\"marker\":{\"color\":[\"red\",\"red\",\"red\",\"blue\",\"blue\",\"green\",\"green\",\"green\"]},\"mode\":\"markers\",\"x\":[0.5079183713423595,0.7614898968913834,0.3663426866393252,0.6111253425251064,0.6104293283511245,0.7936762940762725,0.6650682226195582,0.4561393955646184],\"y\":[-0.02620437066189755,-0.04843799471156646,0.1579798048529562,0.5484799403722177,0.5251933244516865,0.909934072785728,0.9844397465913789,1.1189813264234199],\"type\":\"scatter\"}],\"name\":\"77\"},{\"data\":[{\"marker\":{\"color\":[\"red\",\"red\",\"red\",\"blue\",\"blue\",\"green\",\"green\",\"green\"]},\"mode\":\"markers\",\"x\":[0.5069443538164792,0.7646578241846951,0.37010905915031334,0.6079724169502884,0.6080209464603947,0.7933044314802055,0.6691099233826296,0.45207058258474375],\"y\":[-0.014256850829826816,-0.05534011596937487,0.15402759118260054,0.5240045519692268,0.5241973032868847,0.8985483605768267,1.0109117739172042,1.1282732359703793],\"type\":\"scatter\"}],\"name\":\"78\"},{\"data\":[{\"marker\":{\"color\":[\"red\",\"red\",\"red\",\"blue\",\"blue\",\"green\",\"green\",\"green\"]},\"mode\":\"markers\",\"x\":[0.49845045134987603,0.7674568190249856,0.38595484286781157,0.6193289901029312,0.6161268738760881,0.775287362920155,0.6722509552454206,0.4373332426224805],\"y\":[-0.02769131585785681,-0.0628434185564575,0.1658716946827223,0.5479988354791161,0.528659990614967,0.871322596777342,0.9726028384651048,1.1744446284989822],\"type\":\"scatter\"}],\"name\":\"79\"},{\"data\":[{\"marker\":{\"color\":[\"red\",\"red\",\"red\",\"blue\",\"blue\",\"green\",\"green\",\"green\"]},\"mode\":\"markers\",\"x\":[0.496698154831561,0.7522058418571358,0.4027831707977411,0.6272070094329923,0.6231433437414706,0.7674894843355842,0.6636995224613617,0.4389630105519051],\"y\":[-0.009566085078858564,-0.06247389423677788,0.13673287204281936,0.5485237842591926,0.533239217041314,0.8345363901518463,1.004239912433699,1.1851336534906884],\"type\":\"scatter\"}],\"name\":\"80\"},{\"data\":[{\"marker\":{\"color\":[\"red\",\"red\",\"red\",\"blue\",\"blue\",\"green\",\"green\",\"green\"]},\"mode\":\"markers\",\"x\":[0.5174864202869298,0.7491454260830771,0.38376951148027827,0.6234575529527915,0.6282759430359324,0.7555935267360155,0.6651704697825196,0.44929068765220587],\"y\":[-0.03232652954873833,-0.05249715261945242,0.14807778505629188,0.5438375390365189,0.5517655407585492,0.8278619975552431,1.0089184581662,1.1747282116993132],\"type\":\"scatter\"}],\"name\":\"81\"},{\"data\":[{\"marker\":{\"color\":[\"red\",\"red\",\"red\",\"blue\",\"blue\",\"green\",\"green\",\"green\"]},\"mode\":\"markers\",\"x\":[0.5080330659280998,0.7631561073120791,0.389104049091244,0.6180694391572773,0.6221181879901034,0.7490768166810339,0.6629227156008276,0.4597091562490858],\"y\":[-0.04026841610715979,-0.06776621290555337,0.1610017995530888,0.5524233896691808,0.551866283219234,0.836506017354435,1.0115467829837328,1.16505620633697],\"type\":\"scatter\"}],\"name\":\"82\"},{\"data\":[{\"marker\":{\"color\":[\"red\",\"red\",\"red\",\"blue\",\"blue\",\"green\",\"green\",\"green\"]},\"mode\":\"markers\",\"x\":[0.4850372814035812,0.7834806263070597,0.411106035857065,0.6034135009651641,0.6174501022762325,0.7321705381776424,0.6737993754603946,0.465732077562608],\"y\":[-0.03466672394102441,-0.07128903174651674,0.18504058021366163,0.5154794792783192,0.5535799165595365,0.8306100074281277,1.037708034986234,1.153903587325587],\"type\":\"scatter\"}],\"name\":\"83\"},{\"data\":[{\"marker\":{\"color\":[\"red\",\"red\",\"red\",\"blue\",\"blue\",\"green\",\"green\",\"green\"]},\"mode\":\"markers\",\"x\":[0.48308932692619105,0.7990918178581576,0.40120299613402827,0.6124744748609818,0.6122713776692366,0.7268377946165333,0.6866776708030496,0.45054407914156847],\"y\":[0.00042059098872534534,-0.09334178694123536,0.1743661093804972,0.5339084713673602,0.5329452644443634,0.8043118871121719,1.0523322166857272,1.1654230970663197],\"type\":\"scatter\"}],\"name\":\"84\"},{\"data\":[{\"marker\":{\"color\":[\"red\",\"red\",\"red\",\"blue\",\"blue\",\"green\",\"green\",\"green\"]},\"mode\":\"markers\",\"x\":[0.4938323848846462,0.7890683121198285,0.3852825582072212,0.6157405173218382,0.6166196007496599,0.7211847447934209,0.6912977854888407,0.45916363444428837],\"y\":[-0.01304972739676417,-0.07541176277109837,0.15626008341244135,0.5480658866886887,0.5197357569324967,0.8143357483783417,1.065272150372699,1.1551577144871243],\"type\":\"scatter\"}],\"name\":\"85\"},{\"data\":[{\"marker\":{\"color\":[\"red\",\"red\",\"red\",\"blue\",\"blue\",\"green\",\"green\",\"green\"]},\"mode\":\"markers\",\"x\":[0.4975910346361571,0.7854900152896365,0.3868427031242782,0.6150376024532211,0.6239260711557764,0.7125912716166096,0.7001290496875457,0.45058179004651727],\"y\":[0.0013432945202197083,-0.07763201015506006,0.1424462497721989,0.5250336326399192,0.5420215740040277,0.8372008330863591,1.0190644842627756,1.1808877919734913],\"type\":\"scatter\"}],\"name\":\"86\"},{\"data\":[{\"marker\":{\"color\":[\"red\",\"red\",\"red\",\"blue\",\"blue\",\"green\",\"green\",\"green\"]},\"mode\":\"markers\",\"x\":[0.5078002175574436,0.7742911615655081,0.3927095612608401,0.6224729409429599,0.6176699194846127,0.6991010416355594,0.7133485108082019,0.44479618475462],\"y\":[0.0006247799634969356,-0.06113996473127768,0.14864402097195395,0.5292203768418263,0.5134830282123637,0.7977912043657015,1.0466092346907916,1.1951331697890775],\"type\":\"scatter\"}],\"name\":\"87\"},{\"data\":[{\"marker\":{\"color\":[\"red\",\"red\",\"red\",\"blue\",\"blue\",\"green\",\"green\",\"green\"]},\"mode\":\"markers\",\"x\":[0.4988450002519211,0.7759891128337121,0.4130407203857981,0.6146652015485298,0.6079335387172848,0.6983252764678843,0.713632737094552,0.4497579507100628],\"y\":[0.018709250260718843,-0.07045464325295102,0.15208578134311937,0.5162833961927846,0.5082276606744064,0.7995795476498528,1.0622182770765054,1.183716580159497],\"type\":\"scatter\"}],\"name\":\"88\"},{\"data\":[{\"marker\":{\"color\":[\"red\",\"red\",\"red\",\"blue\",\"blue\",\"green\",\"green\",\"green\"]},\"mode\":\"markers\",\"x\":[0.5074442612052361,0.7856971519890011,0.3956186923527208,0.6099956102773247,0.6099803887866717,0.6877487365659655,0.7128260324013244,0.4628786644315057],\"y\":[0.0293463876392489,-0.0747996271968618,0.16173505410635233,0.5065903371115011,0.506599808575847,0.7791200003946925,1.0956943219893638,1.1660795674837918],\"type\":\"scatter\"}],\"name\":\"89\"},{\"data\":[{\"marker\":{\"color\":[\"red\",\"red\",\"red\",\"blue\",\"blue\",\"green\",\"green\",\"green\"]},\"mode\":\"markers\",\"x\":[0.49416970328308174,0.7901946819545848,0.40896733946877006,0.6068202252804706,0.6049368139223197,0.684002565230105,0.731864270761113,0.45123393810930723],\"y\":[0.03476661158993557,-0.0740095514206811,0.162097845731272,0.4935434988535165,0.48906823123142756,0.8055678583940635,1.0962175157692984,1.1631138399550964],\"type\":\"scatter\"}],\"name\":\"90\"},{\"data\":[{\"marker\":{\"color\":[\"red\",\"red\",\"red\",\"blue\",\"blue\",\"green\",\"green\",\"green\"]},\"mode\":\"markers\",\"x\":[0.5096567003899144,0.7867471835025744,0.38866807718103186,0.60772074702486,0.6042623735778037,0.6894501541544127,0.7196827178129305,0.4660015843662231],\"y\":[0.04082568941625093,-0.07111689466352682,0.14003351755065901,0.5021942196463122,0.5111972535623001,0.8039497570140673,1.094085710537486,1.14919659704038],\"type\":\"scatter\"}],\"name\":\"91\"},{\"data\":[{\"marker\":{\"color\":[\"red\",\"red\",\"red\",\"blue\",\"blue\",\"green\",\"green\",\"green\"]},\"mode\":\"markers\",\"x\":[0.5151400732342875,0.7721729713736555,0.40900340209520836,0.6010407050412021,0.6013532791786774,0.6873691270689904,0.731275813324836,0.45483416669289317],\"y\":[0.0401576446287978,-0.08216648597634928,0.15670681286951832,0.5009129177635868,0.4983306714568816,0.8182826844392347,1.0956219483274583,1.1425196565947984],\"type\":\"scatter\"}],\"name\":\"92\"},{\"data\":[{\"marker\":{\"color\":[\"red\",\"red\",\"red\",\"blue\",\"blue\",\"green\",\"green\",\"green\"]},\"mode\":\"markers\",\"x\":[0.5228636079398258,0.7645914576637195,0.4035019530153263,0.6029490349767963,0.6062118032906006,0.6893624337551755,0.7406834772374484,0.4420257701308577],\"y\":[0.0070708764411554674,-0.0643680956707534,0.1657863186163156,0.48850380165294177,0.4971563333554925,0.8271590710785259,1.0860483037835638,1.1630092408466821],\"type\":\"scatter\"}],\"name\":\"93\"},{\"data\":[{\"marker\":{\"color\":[\"red\",\"red\",\"red\",\"blue\",\"blue\",\"green\",\"green\",\"green\"]},\"mode\":\"markers\",\"x\":[0.5471703853574372,0.7380987366603786,0.39283268044173486,0.6102489030281324,0.6058116563157733,0.682300454676573,0.7455966598812735,0.4501300616484475],\"y\":[-0.028089072625879615,-0.025064895653049493,0.17475988650763988,0.478118406085058,0.4945028168721159,0.8284668885134261,1.1046068844599164,1.1430649359447054],\"type\":\"scatter\"}],\"name\":\"94\"},{\"data\":[{\"marker\":{\"color\":[\"red\",\"red\",\"red\",\"blue\",\"blue\",\"green\",\"green\",\"green\"]},\"mode\":\"markers\",\"x\":[0.5311470011749398,0.748559538025953,0.40487614917961734,0.6026003882733191,0.6002628848311058,0.6733333679925798,0.7432573003082544,0.4681529082239839],\"y\":[-0.030017695205326315,-0.04394530616083549,0.16276720145735216,0.4910965663687558,0.5167892756464783,0.8315317929166814,1.126683135441226,1.1154608796396048],\"type\":\"scatter\"}],\"name\":\"95\"},{\"data\":[{\"marker\":{\"color\":[\"red\",\"red\",\"red\",\"blue\",\"blue\",\"green\",\"green\",\"green\"]},\"mode\":\"markers\",\"x\":[0.5510237927445857,0.7339935320981679,0.38415444990731357,0.6112917241764055,0.6058819511359671,0.6637070540075848,0.7472695510049173,0.47486748293481246],\"y\":[-0.02294800614997422,-0.029303723932803803,0.13426668706770759,0.49190069176576684,0.5215882126275398,0.8214467229891301,1.135820239021651,1.1175950267149197],\"type\":\"scatter\"}],\"name\":\"96\"},{\"data\":[{\"marker\":{\"color\":[\"red\",\"red\",\"red\",\"blue\",\"blue\",\"green\",\"green\",\"green\"]},\"mode\":\"markers\",\"x\":[0.5594063104715498,0.7272344368857546,0.3860455921065353,0.6151987143291812,0.6062322413075375,0.658477197026593,0.7469764246647557,0.4726186212178468],\"y\":[-0.03938674822552054,-0.0019906936882522503,0.15412956082930696,0.503354604115962,0.4757914777683079,0.8156120919971094,1.1242964612470596,1.1385590960599665],\"type\":\"scatter\"}],\"name\":\"97\"},{\"data\":[{\"marker\":{\"color\":[\"red\",\"red\",\"red\",\"blue\",\"blue\",\"green\",\"green\",\"green\"]},\"mode\":\"markers\",\"x\":[0.5561015691601149,0.728497750291976,0.38286824569328487,0.6082613977238174,0.6094721206542562,0.6685119741462644,0.7464949612222883,0.47198151911775443],\"y\":[-0.057777760354617715,0.01630628217316467,0.1535753595760841,0.4942194800538603,0.4989764077156102,0.8141235658506704,1.1252450541118442,1.1256974609773187],\"type\":\"scatter\"}],\"name\":\"98\"},{\"data\":[{\"marker\":{\"color\":[\"red\",\"red\",\"red\",\"blue\",\"blue\",\"green\",\"green\",\"green\"]},\"mode\":\"markers\",\"x\":[0.5493526046998211,0.7265648902638701,0.3823033250831039,0.6066446155386935,0.6109211522698063,0.6747241511303109,0.7516219568162064,0.47005684220794425],\"y\":[-0.02384936519985671,0.02566199287527176,0.12679490930838752,0.48032964359469305,0.48829415341961124,0.8231221033378601,1.1362591396835708,1.1137532730843984],\"type\":\"scatter\"}],\"name\":\"99\"},{\"data\":[{\"marker\":{\"color\":[\"red\",\"red\",\"red\",\"blue\",\"blue\",\"green\",\"green\",\"green\"]},\"mode\":\"markers\",\"x\":[0.5642181687384316,0.7039649406119054,0.389076401474082,0.6078409866580006,0.6049566855043216,0.6710638851439062,0.7670859424042034,0.46398252747490426],\"y\":[-0.02424623808588213,0.03142090049206919,0.12354721933422673,0.48200129124515234,0.5001006242680665,0.8206200349344083,1.146029084235111,1.090892933680779],\"type\":\"scatter\"}],\"name\":\"100\"},{\"data\":[{\"marker\":{\"color\":[\"red\",\"red\",\"red\",\"blue\",\"blue\",\"green\",\"green\",\"green\"]},\"mode\":\"markers\",\"x\":[0.5759145861247619,0.6908885128178652,0.38732139033450824,0.6070131776730172,0.6092286721062534,0.6767630672326106,0.7674562698811145,0.457603861839621],\"y\":[-0.04070642911587471,0.05721438488990778,0.12201213785878509,0.48202299921144376,0.4938161407301236,0.8460475745166189,1.1149994559674552,1.0949595860454708],\"type\":\"scatter\"}],\"name\":\"101\"},{\"data\":[{\"marker\":{\"color\":[\"red\",\"red\",\"red\",\"blue\",\"blue\",\"green\",\"green\",\"green\"]},\"mode\":\"markers\",\"x\":[0.564536547598635,0.6812768550433486,0.4126538524273782,0.603547462110267,0.6072453042230181,0.672901780640804,0.7729296077452416,0.4570981282210613],\"y\":[-0.056701057186108524,0.07505409414195535,0.1278819779345787,0.46598040615434777,0.4842606997044362,0.8453996895967192,1.1308956373113235,1.0975944024466764],\"type\":\"scatter\"}],\"name\":\"102\"},{\"data\":[{\"marker\":{\"color\":[\"red\",\"red\",\"red\",\"blue\",\"blue\",\"green\",\"green\",\"green\"]},\"mode\":\"markers\",\"x\":[0.5539605176973479,0.6893708156464442,0.41057997604117885,0.607159297005225,0.6067597105523715,0.6824321497992741,0.7745256588913713,0.44740141237654224],\"y\":[-0.0770687339888841,0.06550201775413532,0.1162395227039288,0.5143237467927455,0.502035188694765,0.8481048457544796,1.1143897814811343,1.0868394809116209],\"type\":\"scatter\"}],\"name\":\"103\"},{\"data\":[{\"marker\":{\"color\":[\"red\",\"red\",\"red\",\"blue\",\"blue\",\"green\",\"green\",\"green\"]},\"mode\":\"markers\",\"x\":[0.5474318068239025,0.6692652561661288,0.4289220754826373,0.6083409037873426,0.6055666422557152,0.6828989384598676,0.7809043171236772,0.4488595979104828],\"y\":[-0.08958074366107224,0.06219258474441454,0.10040670646937588,0.5304104821901469,0.5210174137993099,0.8423604758724479,1.1372104392636913,1.0663484914256096],\"type\":\"scatter\"}],\"name\":\"104\"},{\"data\":[{\"marker\":{\"color\":[\"red\",\"red\",\"red\",\"blue\",\"blue\",\"green\",\"green\",\"green\"]},\"mode\":\"markers\",\"x\":[0.549925561943406,0.6763346200044423,0.42519840720783564,0.605916249524889,0.6073608845420582,0.6873644022940434,0.7955358036874524,0.4245536088056284],\"y\":[-0.10287714378224999,0.051737863759363394,0.11274727339551707,0.5293417207281674,0.5349496637006264,0.8341754001925346,1.1327774265563688,1.077513645553597],\"type\":\"scatter\"}],\"name\":\"105\"},{\"data\":[{\"marker\":{\"color\":[\"red\",\"red\",\"red\",\"blue\",\"blue\",\"green\",\"green\",\"green\"]},\"mode\":\"markers\",\"x\":[0.5540819963989688,0.6769263534803339,0.4211919403105159,0.6031798899582792,0.6014845486566532,0.6915113651361984,0.8041316023820304,0.41968184168677575],\"y\":[-0.058257027979514625,0.03241125175552117,0.10872271248923923,0.5220117315503499,0.5042284119004531,0.8420565813222629,1.1482790479277853,1.0709131411378268],\"type\":\"scatter\"}],\"name\":\"106\"},{\"data\":[{\"marker\":{\"color\":[\"red\",\"red\",\"red\",\"blue\",\"blue\",\"green\",\"green\",\"green\"]},\"mode\":\"markers\",\"x\":[0.5496431583800029,0.6935950104018358,0.4097090156661368,0.5993190915612254,0.6023745717249401,0.6948913734275558,0.7878966636836013,0.43476065316445484],\"y\":[-0.0490413028863606,0.03435176777741651,0.10754547193099291,0.5045807498699273,0.5127660103662288,0.831301145502207,1.1491761540130618,1.0796858535304499],\"type\":\"scatter\"}],\"name\":\"107\"},{\"data\":[{\"marker\":{\"color\":[\"red\",\"red\",\"red\",\"blue\",\"blue\",\"green\",\"green\",\"green\"]},\"mode\":\"markers\",\"x\":[0.5511853223947011,0.7187230414666372,0.39736966049695416,0.5920834959351594,0.6020763932894982,0.6883845294823513,0.7920861609857028,0.4302809339587496],\"y\":[-0.03875737775646368,0.01615748903816073,0.131111175453721,0.5020402825209933,0.5248602020704233,0.8164537301985648,1.141242989214556,1.0772573593639647],\"type\":\"scatter\"}],\"name\":\"108\"},{\"data\":[{\"marker\":{\"color\":[\"red\",\"red\",\"red\",\"blue\",\"blue\",\"green\",\"green\",\"green\"]},\"mode\":\"markers\",\"x\":[0.5417821413708235,0.730196062764552,0.40004461138881253,0.5953246836242121,0.5954643298576331,0.6782177597890093,0.7941930193672275,0.4369669298474842],\"y\":[-0.054039424266066616,0.016548110640754937,0.1442159893090461,0.5363105298689833,0.5157446793656106,0.8195452142910955,1.1336875646898117,1.0583531862046824],\"type\":\"scatter\"}],\"name\":\"109\"},{\"data\":[{\"marker\":{\"color\":[\"red\",\"red\",\"red\",\"blue\",\"blue\",\"green\",\"green\",\"green\"]},\"mode\":\"markers\",\"x\":[0.542290867343319,0.7381027909492492,0.39007940195134005,0.5949630066346421,0.5830988103562083,0.6779616889020449,0.7899736686906417,0.45571930318230675],\"y\":[-0.07203393074347142,0.004534970901803158,0.14964599062288012,0.5537298270644733,0.5489668533126182,0.8369502818787253,1.1342012132799717,1.0143706437869169],\"type\":\"scatter\"}],\"name\":\"110\"},{\"data\":[{\"marker\":{\"color\":[\"red\",\"red\",\"red\",\"blue\",\"blue\",\"green\",\"green\",\"green\"]},\"mode\":\"markers\",\"x\":[0.5318996731254754,0.7170875900683357,0.42046197426487447,0.5816575044573727,0.5692948818076818,0.6848823876326254,0.8034628222261224,0.4634427044272651],\"y\":[-0.08438244576559875,0.005227213850261913,0.13204683629586186,0.5499794409375435,0.6075447303942909,0.8551598617629281,1.1602320921303095,0.9445581204983204],\"type\":\"scatter\"}],\"name\":\"111\"},{\"data\":[{\"marker\":{\"color\":[\"red\",\"red\",\"red\",\"blue\",\"blue\",\"green\",\"green\",\"green\"]},\"mode\":\"markers\",\"x\":[0.5195688124463111,0.738396090416871,0.4212756434145144,0.5814716092047297,0.5730594292956172,0.6804065045593419,0.7859195624096293,0.4720918862627364],\"y\":[-0.081592293399496,-0.011198100991549704,0.15651656668192163,0.5772393570212428,0.5570477356347477,0.8544236521116755,1.144081252587848,0.9738476804575295],\"type\":\"scatter\"}],\"name\":\"112\"},{\"data\":[{\"marker\":{\"color\":[\"red\",\"red\",\"red\",\"blue\",\"blue\",\"green\",\"green\",\"green\"]},\"mode\":\"markers\",\"x\":[0.5172025133600541,0.7361877127109369,0.4304713297758993,0.5785362554036925,0.5822432852610093,0.679948324720052,0.7826319172399887,0.46496819953811863],\"y\":[-0.07924537149786823,-0.015313609192847012,0.16032617028541973,0.5547728179721689,0.5755939973021392,0.8483375071021149,1.1327965910465534,0.993097747086242],\"type\":\"scatter\"}],\"name\":\"113\"},{\"data\":[{\"marker\":{\"color\":[\"red\",\"red\",\"red\",\"blue\",\"blue\",\"green\",\"green\",\"green\"]},\"mode\":\"markers\",\"x\":[0.520635780994271,0.7382026237165419,0.4320218468129456,0.5784521304412119,0.5716533438023358,0.6967163860220219,0.7627564508823582,0.4717509753380648],\"y\":[-0.0839975706213128,-0.019827079382765917,0.19032367086111363,0.5348107541242847,0.5610097148193225,0.8903407216287019,1.1009287583855276,0.9967768802890531],\"type\":\"scatter\"}],\"name\":\"114\"},{\"data\":[{\"marker\":{\"color\":[\"red\",\"red\",\"red\",\"blue\",\"blue\",\"green\",\"green\",\"green\"]},\"mode\":\"markers\",\"x\":[0.5094923041546676,0.757234478479127,0.4323540336976563,0.5716936002315673,0.5783799160080442,0.7050626796783208,0.7467785404508696,0.4711939853094944],\"y\":[-0.08838837673807795,-0.03800448959556125,0.20574165271843123,0.5560418863133957,0.5530319531128086,0.8965326634247435,1.0783386167950317,1.0070719440731528],\"type\":\"scatter\"}],\"name\":\"115\"},{\"data\":[{\"marker\":{\"color\":[\"red\",\"red\",\"red\",\"blue\",\"blue\",\"green\",\"green\",\"green\"]},\"mode\":\"markers\",\"x\":[0.4975470891565833,0.7740538494742408,0.42848259062339766,0.5800854596173162,0.5777560811541894,0.7089782244311057,0.7383363346839187,0.46694990886899507],\"y\":[-0.09165331221543786,-0.04560816698804907,0.20125284021419174,0.5573783664208436,0.5508876627347475,0.8947453016838207,1.0665391165289033,1.036824041724906],\"type\":\"scatter\"}],\"name\":\"116\"},{\"data\":[{\"marker\":{\"color\":[\"red\",\"red\",\"red\",\"blue\",\"blue\",\"green\",\"green\",\"green\"]},\"mode\":\"markers\",\"x\":[0.4946491003024555,0.7750634594854331,0.435461275905581,0.578439255264802,0.5784348083019739,0.7182670402550887,0.7521799965253768,0.43969460196903537],\"y\":[-0.09043239495808655,-0.04024863233839435,0.21543720239123676,0.5555410662865713,0.5290172739860485,0.8634031522835931,1.0839925765039118,1.0536556059490487],\"type\":\"scatter\"}],\"name\":\"117\"},{\"data\":[{\"marker\":{\"color\":[\"red\",\"red\",\"red\",\"blue\",\"blue\",\"green\",\"green\",\"green\"]},\"mode\":\"markers\",\"x\":[0.4872177117794078,0.7872725813265492,0.4302961810093938,0.5853659735413471,0.5842145775621072,0.7185987171657051,0.768412629337084,0.41081116628815423],\"y\":[-0.08285142103740648,-0.05082705122281855,0.2159790582209874,0.5428184420265377,0.5333994965005735,0.8567070978633292,1.080677241425412,1.0744629863273119],\"type\":\"scatter\"}],\"name\":\"118\"},{\"data\":[{\"marker\":{\"color\":[\"red\",\"red\",\"red\",\"blue\",\"blue\",\"green\",\"green\",\"green\"]},\"mode\":\"markers\",\"x\":[0.4795735520264042,0.7867973173179073,0.43834660961997524,0.5892682109844499,0.5864917618598027,0.7207982700656755,0.759370618175281,0.4115431979602535],\"y\":[-0.10250291742172625,-0.03836351240026603,0.2285706875545914,0.5496485879231336,0.5319179577332406,0.8369593321429766,1.0830373478001698,1.0810983667718106],\"type\":\"scatter\"}],\"name\":\"119\"},{\"data\":[{\"marker\":{\"color\":[\"red\",\"red\",\"red\",\"blue\",\"blue\",\"green\",\"green\",\"green\"]},\"mode\":\"markers\",\"x\":[0.4637959181873695,0.8160301582527063,0.44133236570646006,0.5883515236298995,0.5901585920491046,0.7149682187054274,0.7541961841121115,0.4033565773666696],\"y\":[-0.07614246290494751,-0.06571246362078269,0.2307264994817207,0.5497801211840605,0.543005653300759,0.8296691606530092,1.0624606527747857,1.0965786892353255],\"type\":\"scatter\"}],\"name\":\"120\"},{\"data\":[{\"marker\":{\"color\":[\"red\",\"red\",\"red\",\"blue\",\"blue\",\"green\",\"green\",\"green\"]},\"mode\":\"markers\",\"x\":[0.4550547986008685,0.803708898670121,0.4485613112508851,0.600235508466564,0.6001913252421467,0.717837756001115,0.7562576315038657,0.39034230827417776],\"y\":[-0.0908481682956625,-0.030042056298620695,0.213339833668014,0.5381695970345044,0.5387640344245446,0.826847536525621,1.0511685939492423,1.1229664790962806],\"type\":\"scatter\"}],\"name\":\"121\"},{\"data\":[{\"marker\":{\"color\":[\"red\",\"red\",\"red\",\"blue\",\"blue\",\"green\",\"green\",\"green\"]},\"mode\":\"markers\",\"x\":[0.47954348031547445,0.7982267381081509,0.42362204070268605,0.6057563083735862,0.597233035796979,0.7193530314839865,0.7558813595208629,0.3925735437080183],\"y\":[-0.03574299296477669,-0.03665622949035555,0.17805017586180552,0.535598467287735,0.5258874174923254,0.826037263524648,1.0559509560250404,1.1212407923675025],\"type\":\"scatter\"}],\"name\":\"122\"},{\"data\":[{\"marker\":{\"color\":[\"red\",\"red\",\"red\",\"blue\",\"blue\",\"green\",\"green\",\"green\"]},\"mode\":\"markers\",\"x\":[0.4959170125504157,0.7647128811360209,0.4310885105360107,0.6008396034744072,0.6076592821491338,0.7122954298369029,0.7646713078556892,0.39500551047116744],\"y\":[-0.057069459785339886,-0.022603107933669,0.16753335243901438,0.539402846665802,0.5493199845155405,0.8183640063980319,1.0679263531588659,1.1074918746456706],\"type\":\"scatter\"}],\"name\":\"123\"},{\"data\":[{\"marker\":{\"color\":[\"red\",\"red\",\"red\",\"blue\",\"blue\",\"green\",\"green\",\"green\"]},\"mode\":\"markers\",\"x\":[0.4888515207349756,0.7736793222931699,0.41947600113790356,0.60786497025398,0.615169782352156,0.7156133478373766,0.7439185623507163,0.40761603104947075],\"y\":[-0.07488782557075739,-0.025895076173389906,0.15136447683888177,0.5472767433921916,0.5657024401125682,0.8593855008115623,1.030123469367434,1.1172961213254213],\"type\":\"scatter\"}],\"name\":\"124\"},{\"data\":[{\"marker\":{\"color\":[\"red\",\"red\",\"red\",\"blue\",\"blue\",\"green\",\"green\",\"green\"]},\"mode\":\"markers\",\"x\":[0.4740042018806312,0.7724967692822344,0.434344186021468,0.6004835705884881,0.599853077858457,0.7174383726389817,0.7512057028849671,0.42236365685452143],\"y\":[-0.06935862365873195,-0.021466697754583437,0.14122392990611762,0.5374970824243868,0.5712187226699762,0.8647929650016803,1.067716577902372,1.0787418936126922],\"type\":\"scatter\"}],\"name\":\"125\"},{\"data\":[{\"marker\":{\"color\":[\"red\",\"red\",\"red\",\"blue\",\"blue\",\"green\",\"green\",\"green\"]},\"mode\":\"markers\",\"x\":[0.4697234382116852,0.779482535750001,0.4250239175137523,0.5984132791166235,0.5984145578177739,0.714368687458333,0.7637323646977136,0.42303075744386753],\"y\":[-0.06353824593741317,0.0016480127137158194,0.1385625803593412,0.5389493992576413,0.5385792180483447,0.8671246736639779,1.0846209363073245,1.0644192756909754],\"type\":\"scatter\"}],\"name\":\"126\"},{\"data\":[{\"marker\":{\"color\":[\"red\",\"red\",\"red\",\"blue\",\"blue\",\"green\",\"green\",\"green\"]},\"mode\":\"markers\",\"x\":[0.46421008102575884,0.7741522063667993,0.43968561212972956,0.6088446895687973,0.597181079008701,0.7178491032344565,0.7525071520843172,0.41775961459119326],\"y\":[-0.07885061268202138,-0.0058372546496613335,0.13760066293409481,0.5841112694065237,0.5426281521568289,0.8669716410941155,1.0486622139166544,1.0750797779273713],\"type\":\"scatter\"}],\"name\":\"127\"},{\"data\":[{\"marker\":{\"color\":[\"red\",\"red\",\"red\",\"blue\",\"blue\",\"green\",\"green\",\"green\"]},\"mode\":\"markers\",\"x\":[0.4760212555663043,0.7760481334366853,0.41361265876898956,0.605424292837,0.6062160191512581,0.690435475941657,0.7567508745288805,0.4476808277789754],\"y\":[-0.08942158687145611,0.0009562225213152508,0.13462639113181019,0.5815236874038154,0.5556934729563417,0.879368929640194,1.0609330375689625,1.046685695752926],\"type\":\"scatter\"}],\"name\":\"128\"},{\"data\":[{\"marker\":{\"color\":[\"red\",\"red\",\"red\",\"blue\",\"blue\",\"green\",\"green\",\"green\"]},\"mode\":\"markers\",\"x\":[0.492089222866879,0.7378939122334065,0.4341574915008405,0.6043662368213524,0.6020661534610947,0.7028376876877108,0.7720818266638803,0.42669700677458733],\"y\":[-0.08559797423195038,0.017787601256561616,0.12903851277553066,0.5345390238666395,0.5649439927636561,0.8881594759825509,1.0659464884295196,1.0555487292613919],\"type\":\"scatter\"}],\"name\":\"129\"},{\"data\":[{\"marker\":{\"color\":[\"red\",\"red\",\"red\",\"blue\",\"blue\",\"green\",\"green\",\"green\"]},\"mode\":\"markers\",\"x\":[0.49365113753217565,0.7267369098768468,0.4396536148875693,0.6065228377836395,0.6002989574550086,0.6873527984366048,0.7779846874297441,0.4399885946081626],\"y\":[-0.12263979907110818,0.02927898480364234,0.14445529977456073,0.5557593920363,0.5546593754212681,0.890241312994673,1.0771701554702153,1.0414411286743537],\"type\":\"scatter\"}],\"name\":\"130\"},{\"data\":[{\"marker\":{\"color\":[\"red\",\"red\",\"red\",\"blue\",\"blue\",\"green\",\"green\",\"green\"]},\"mode\":\"markers\",\"x\":[0.4934846356649105,0.7391255290063828,0.41743219440710194,0.6123393928657315,0.6111144298402681,0.6860146283839087,0.7886419778312961,0.4240367500101529],\"y\":[-0.0930679950126414,0.04220820712530144,0.11282893789348158,0.5517471210762341,0.5468418737824449,0.8889248969089532,1.0693889391682976,1.0514938691618372],\"type\":\"scatter\"}],\"name\":\"131\"},{\"data\":[{\"marker\":{\"color\":[\"red\",\"red\",\"red\",\"blue\",\"blue\",\"green\",\"green\",\"green\"]},\"mode\":\"markers\",\"x\":[0.4951127674417084,0.7439155310103127,0.4054128897309919,0.6117618877178452,0.6089996519900313,0.6921408665264446,0.7932546568862614,0.42159128670616086],\"y\":[-0.11704685203110093,0.050491774291767384,0.11181818488674068,0.560500764720387,0.5593764892215881,0.87804668316936,1.080289058386851,1.0468897474583114],\"type\":\"scatter\"}],\"name\":\"132\"},{\"data\":[{\"marker\":{\"color\":[\"red\",\"red\",\"red\",\"blue\",\"blue\",\"green\",\"green\",\"green\"]},\"mode\":\"markers\",\"x\":[0.4872306884642418,0.7472268441812022,0.4021841243064904,0.6144870939457969,0.6115100273081785,0.6896300003830252,0.8003264169346705,0.41959434248615557],\"y\":[-0.1534176455956826,0.07801991350466655,0.11798216542547922,0.5537889864159233,0.5491120251159901,0.8846826140430826,1.0865314702802777,1.0536663209141695],\"type\":\"scatter\"}],\"name\":\"133\"},{\"data\":[{\"marker\":{\"color\":[\"red\",\"red\",\"red\",\"blue\",\"blue\",\"green\",\"green\",\"green\"]},\"mode\":\"markers\",\"x\":[0.4908333164325122,0.7338861694189072,0.4026474528077258,0.6097676888548239,0.6110633943837704,0.7089547219331035,0.7822760177584257,0.432760776420494],\"y\":[-0.15390661447237597,0.09164920231306524,0.11002896490391163,0.5735367395813562,0.5318282189822332,0.8984642712273022,1.0819926958139874,1.0367723717544266],\"type\":\"scatter\"}],\"name\":\"134\"},{\"data\":[{\"marker\":{\"color\":[\"red\",\"red\",\"red\",\"blue\",\"blue\",\"green\",\"green\",\"green\"]},\"mode\":\"markers\",\"x\":[0.49929390247645095,0.7357106280224895,0.40380373860932517,0.6081331524536697,0.6058541337862965,0.688931229986767,0.7841266496252254,0.44633610304953986],\"y\":[-0.12444452879831842,0.0625079360712222,0.10803225041810019,0.5571508205896151,0.5493773041000941,0.9063254857342948,1.0733786235977985,1.0380379583911],\"type\":\"scatter\"}],\"name\":\"135\"},{\"data\":[{\"marker\":{\"color\":[\"red\",\"red\",\"red\",\"blue\",\"blue\",\"green\",\"green\",\"green\"]},\"mode\":\"markers\",\"x\":[0.4981938872255482,0.7277304847661541,0.41241761663262205,0.6041515895089286,0.602897926405396,0.6811219318000445,0.7754805518798924,0.4701955497911744],\"y\":[-0.1226314033082872,0.05551285744545585,0.0998616086855026,0.5596793916779977,0.5373246966687597,0.9328144537487695,1.0770153123428319,1.0307889328428714],\"type\":\"scatter\"}],\"name\":\"136\"},{\"data\":[{\"marker\":{\"color\":[\"red\",\"red\",\"red\",\"blue\",\"blue\",\"green\",\"green\",\"green\"]},\"mode\":\"markers\",\"x\":[0.5075698370470608,0.7363933673388089,0.3915705705426482,0.6050327264686577,0.6091521533274673,0.6793770433955868,0.7847982007818745,0.4582956391076572],\"y\":[-0.10630188825205056,0.061205214087994585,0.09725157523892777,0.5266821565420443,0.5336982440494903,0.9266629839004408,1.0817993237047072,1.0493682408323433],\"type\":\"scatter\"}],\"name\":\"137\"},{\"data\":[{\"marker\":{\"color\":[\"red\",\"red\",\"red\",\"blue\",\"blue\",\"green\",\"green\",\"green\"]},\"mode\":\"markers\",\"x\":[0.5200975885229506,0.7400503518023376,0.3779268847616546,0.5990870085550692,0.6064127927947285,0.683892527003353,0.7798334341470133,0.46488895042265954],\"y\":[-0.0721200519272802,0.038960115700037413,0.09880927108933546,0.5106140188025595,0.543150045503942,0.9350346114163486,1.0874836725282384,1.0284341669907147],\"type\":\"scatter\"}],\"name\":\"138\"},{\"data\":[{\"marker\":{\"color\":[\"red\",\"red\",\"red\",\"blue\",\"blue\",\"green\",\"green\",\"green\"]},\"mode\":\"markers\",\"x\":[0.5263145492844373,0.7342789195103715,0.371673197021687,0.6089170318571173,0.601444294565953,0.6909627364044748,0.7801699041819615,0.45842890518376334],\"y\":[-0.08947235563091413,0.05439921171678837,0.10047351516707284,0.52112689596989,0.5371294859847248,0.9530144002628442,1.0672413474232336,1.0264533492102557],\"type\":\"scatter\"}],\"name\":\"139\"},{\"data\":[{\"marker\":{\"color\":[\"red\",\"red\",\"red\",\"blue\",\"blue\",\"green\",\"green\",\"green\"]},\"mode\":\"markers\",\"x\":[0.5230055671376347,0.7382074177814677,0.3745933105713553,0.6053512263203679,0.6023438037176554,0.6709292668983368,0.7786302700683133,0.4791286755146369],\"y\":[-0.0795136218374632,0.0575797671782942,0.1094220059472938,0.5201855139453553,0.5045080595415411,0.9756992939084884,1.0642306422148162,1.0182541892055694],\"type\":\"scatter\"}],\"name\":\"140\"},{\"data\":[{\"marker\":{\"color\":[\"red\",\"red\",\"red\",\"blue\",\"blue\",\"green\",\"green\",\"green\"]},\"mode\":\"markers\",\"x\":[0.5176836246788332,0.7251116813144586,0.390671193716817,0.6037830617652429,0.5993189901485598,0.6717972964427404,0.7790502655186705,0.4847734244244439],\"y\":[-0.07809343422529332,0.058872355553131236,0.10349983161917264,0.49887987745992596,0.5239555135734598,0.9855941226338808,1.0757056895359187,1.0019518939537018],\"type\":\"scatter\"}],\"name\":\"141\"},{\"data\":[{\"marker\":{\"color\":[\"red\",\"red\",\"red\",\"blue\",\"blue\",\"green\",\"green\",\"green\"]},\"mode\":\"markers\",\"x\":[0.5398760164132219,0.6861149368074789,0.38648215242404305,0.6055922758574603,0.6062271387516622,0.6906167779816034,0.7884739771140737,0.46880626266022307],\"y\":[-0.06944537570408679,0.07024470920615469,0.06597314786742996,0.5144689475608084,0.5081603026692112,0.9978225927254418,1.088921049709579,0.9942204760693609],\"type\":\"scatter\"}],\"name\":\"142\"},{\"data\":[{\"marker\":{\"color\":[\"red\",\"red\",\"red\",\"blue\",\"blue\",\"green\",\"green\",\"green\"]},\"mode\":\"markers\",\"x\":[0.5291373216146928,0.7187780792743603,0.36772074282358547,0.6017719965753101,0.5975418792658538,0.7087407584367686,0.785404940447548,0.46309381957164575],\"y\":[-0.04315284160473086,0.054412459194026715,0.0476023813201394,0.5384796246683797,0.5039110960584458,0.9983175850358488,1.0981782640520992,0.9726172813796886],\"type\":\"scatter\"}],\"name\":\"143\"},{\"data\":[{\"marker\":{\"color\":[\"red\",\"red\",\"red\",\"blue\",\"blue\",\"green\",\"green\",\"green\"]},\"mode\":\"markers\",\"x\":[0.533362590804766,0.7116399958210913,0.36903072203778897,0.6048976270625164,0.6034061944842429,0.7061918900246493,0.7954583771002298,0.4482021406744822],\"y\":[-0.0597790115653621,0.0750087065222377,0.0569569839604385,0.5237342247856455,0.5099618775775863,0.9907082150134727,1.0922924284297222,0.981482425380161],\"type\":\"scatter\"}],\"name\":\"144\"},{\"data\":[{\"marker\":{\"color\":[\"red\",\"red\",\"red\",\"blue\",\"blue\",\"green\",\"green\",\"green\"]},\"mode\":\"markers\",\"x\":[0.535384491416001,0.7122495057581063,0.387475154437938,0.5917950397687552,0.5913564081678082,0.6892886857216045,0.8088749257200242,0.45576532701953193],\"y\":[-0.05959455896007727,0.0527629530786836,0.09408081074356554,0.5176997897147576,0.5025186564773283,0.9632559544369124,1.1221026139902999,0.9775396306224319],\"type\":\"scatter\"}],\"name\":\"145\"},{\"data\":[{\"marker\":{\"color\":[\"red\",\"red\",\"red\",\"blue\",\"blue\",\"green\",\"green\",\"green\"]},\"mode\":\"markers\",\"x\":[0.5368357144568309,0.6927433094897074,0.3954460963972478,0.5912742027242005,0.5921098598219117,0.6774463196451416,0.8169895485797625,0.46934448689496644],\"y\":[-0.11350098422621613,0.09736924475228058,0.10554340407432096,0.4983794559238621,0.5201258141154366,0.9348510583673221,1.1544565885546827,0.9731412685422123],\"type\":\"scatter\"}],\"name\":\"146\"},{\"data\":[{\"marker\":{\"color\":[\"red\",\"red\",\"red\",\"blue\",\"blue\",\"green\",\"green\",\"green\"]},\"mode\":\"markers\",\"x\":[0.5470120683798547,0.680300427378031,0.39207019094712886,0.5994765485580459,0.5963894283469272,0.6799000434633681,0.815709435474024,0.461331395462386],\"y\":[-0.09742604668848848,0.08367429128493127,0.08534638784199826,0.5254482091305102,0.5089047042912274,0.9151709932935294,1.1538417621186738,0.9954055488315221],\"type\":\"scatter\"}],\"name\":\"147\"},{\"data\":[{\"marker\":{\"color\":[\"red\",\"red\",\"red\",\"blue\",\"blue\",\"green\",\"green\",\"green\"]},\"mode\":\"markers\",\"x\":[0.5529305355813442,0.6763428056936074,0.3772561196882958,0.608713419325433,0.6065218983940703,0.706201395102543,0.7915968742338546,0.4526264899906178],\"y\":[-0.12873726608618463,0.13113748148766016,0.08201883282950706,0.48891717055903844,0.521305696937894,0.9229044400155765,1.124625505610096,1.0281939887503164],\"type\":\"scatter\"}],\"name\":\"148\"},{\"data\":[{\"marker\":{\"color\":[\"red\",\"red\",\"red\",\"blue\",\"blue\",\"green\",\"green\",\"green\"]},\"mode\":\"markers\",\"x\":[0.5413651842641315,0.6858341313102876,0.40240232037892393,0.5865957845541911,0.5920198889701427,0.7030155958399554,0.7987430634646674,0.4622135692274658],\"y\":[-0.14965868872323637,0.1446685775624234,0.12677409630898062,0.45255349952094065,0.5249123822551347,0.9230229267123354,1.145931109888612,1.0021619465787066],\"type\":\"scatter\"}],\"name\":\"149\"},{\"data\":[{\"marker\":{\"color\":[\"red\",\"red\",\"red\",\"blue\",\"blue\",\"green\",\"green\",\"green\"]},\"mode\":\"markers\",\"x\":[0.5558571337468715,0.6711266200186838,0.3858419640111904,0.59667618994663,0.5978687978474607,0.6886110328710585,0.8067819695686569,0.469425829999217],\"y\":[-0.11854815679178102,0.14509659622252455,0.10152876543325123,0.44087081872257916,0.5184208970303161,0.8887066394816312,1.1768326452618607,1.0174576447435106],\"type\":\"scatter\"}],\"name\":\"150\"},{\"data\":[{\"marker\":{\"color\":[\"red\",\"red\",\"red\",\"blue\",\"blue\",\"green\",\"green\",\"green\"]},\"mode\":\"markers\",\"x\":[0.5494790614001492,0.6703671388380719,0.3985092014683002,0.5884958226285611,0.5926214901486943,0.7068067840748314,0.7865607185364363,0.4793493209147222],\"y\":[-0.14987538702273615,0.16858128755792717,0.12070392157719197,0.45396921779028415,0.4738050203548476,0.9241238176920487,1.1565020469904153,1.0225559251639116],\"type\":\"scatter\"}],\"name\":\"151\"},{\"data\":[{\"marker\":{\"color\":[\"red\",\"red\",\"red\",\"blue\",\"blue\",\"green\",\"green\",\"green\"]},\"mode\":\"markers\",\"x\":[0.5506541977885373,0.6696205553438386,0.3994240203214542,0.5940113563547263,0.5938558972979585,0.711774632389169,0.783382599395519,0.4694662791185583],\"y\":[-0.136951225106779,0.17180632472572235,0.11323150559720234,0.4501821704633653,0.4512322621481085,0.9419391363200476,1.1233464547225234,1.055579221233699],\"type\":\"scatter\"}],\"name\":\"152\"},{\"data\":[{\"marker\":{\"color\":[\"red\",\"red\",\"red\",\"blue\",\"blue\",\"green\",\"green\",\"green\"]},\"mode\":\"markers\",\"x\":[0.5440627333741878,0.6786968672398451,0.40744937448618584,0.5908962981998036,0.5961329961831936,0.6979744108182523,0.8011653830954524,0.45581147461284477],\"y\":[-0.11734497237771689,0.16861376644611692,0.11009443639940916,0.43221693231290764,0.44889745183505897,0.9191755652172013,1.1328520516375977,1.075860618633311],\"type\":\"scatter\"}],\"name\":\"153\"},{\"data\":[{\"marker\":{\"color\":[\"red\",\"red\",\"red\",\"blue\",\"blue\",\"green\",\"green\",\"green\"]},\"mode\":\"markers\",\"x\":[0.5371432848014535,0.6673062100957683,0.4300361836521846,0.5922417479902733,0.5865097301448287,0.7022531514360904,0.8205413464903595,0.43615788339880834],\"y\":[-0.09892347246656555,0.16080809862998022,0.10901810325947939,0.43597757723618236,0.4197981212272307,0.9108871864989914,1.155699600139991,1.0771006355786001],\"type\":\"scatter\"}],\"name\":\"154\"},{\"data\":[{\"marker\":{\"color\":[\"red\",\"red\",\"red\",\"blue\",\"blue\",\"green\",\"green\",\"green\"]},\"mode\":\"markers\",\"x\":[0.5279698912661033,0.6711858672651972,0.4453750439396103,0.5858915413229823,0.5798347238059264,0.689340965101088,0.8470794911944546,0.4255120141144034],\"y\":[-0.06017943886813516,0.15062844271812137,0.10460632023743643,0.42247086676314144,0.4045800852113046,0.8872189537083168,1.1927485527177153,1.0682920676159908],\"type\":\"scatter\"}],\"name\":\"155\"},{\"data\":[{\"marker\":{\"color\":[\"red\",\"red\",\"red\",\"blue\",\"blue\",\"green\",\"green\",\"green\"]},\"mode\":\"markers\",\"x\":[0.5254533121110639,0.6796782810724992,0.4438757346139419,0.5846204876092101,0.5862427741491854,0.6869041392229807,0.8421914652001881,0.4232233440306944],\"y\":[-0.08623464284797858,0.1418221743687722,0.11290906757535736,0.4255543993105401,0.429447406838777,0.9053418319884659,1.1655279734714294,1.0759976393985278],\"type\":\"scatter\"}],\"name\":\"156\"},{\"data\":[{\"marker\":{\"color\":[\"red\",\"red\",\"red\",\"blue\",\"blue\",\"green\",\"green\",\"green\"]},\"mode\":\"markers\",\"x\":[0.522757174969729,0.6908943564068857,0.4339372826495831,0.588642977436627,0.5865504975567496,0.691405254924105,0.822208962757789,0.43579303130829644],\"y\":[-0.03935130503913649,0.10694554867539122,0.06451028110177104,0.4401027170057377,0.45129279079898943,0.9212106587825133,1.1446005305395575,1.0810546282390652],\"type\":\"scatter\"}],\"name\":\"157\"},{\"data\":[{\"marker\":{\"color\":[\"red\",\"red\",\"red\",\"blue\",\"blue\",\"green\",\"green\",\"green\"]},\"mode\":\"markers\",\"x\":[0.5253753805390762,0.6890472022034958,0.42836262661901314,0.5757505566313891,0.5755967707673658,0.6982557631424452,0.8122964293040068,0.467504808802977],\"y\":[-0.055079145449266335,0.11470341891245597,0.0922566447709118,0.4643047439832728,0.412119586473538,0.94658516291758,1.1809638338118253,1.0145116046835743],\"type\":\"scatter\"}],\"name\":\"158\"},{\"data\":[{\"marker\":{\"color\":[\"red\",\"red\",\"red\",\"blue\",\"blue\",\"green\",\"green\",\"green\"]},\"mode\":\"markers\",\"x\":[0.5431388039021064,0.6787714816130782,0.4214834140524373,0.5761375319122136,0.5743263175079879,0.7075772925773585,0.8200587469907811,0.4506959494538028],\"y\":[-0.00034734212957086635,0.09115652502046327,0.06868786075409096,0.4339342237362286,0.42457235096047957,0.9397152588459082,1.1861628402245636,1.026484132691726],\"type\":\"scatter\"}],\"name\":\"159\"},{\"data\":[{\"marker\":{\"color\":[\"red\",\"red\",\"red\",\"blue\",\"blue\",\"green\",\"green\",\"green\"]},\"mode\":\"markers\",\"x\":[0.5470088518638744,0.6816681460763497,0.423455441948118,0.5733259981484476,0.5730015494621041,0.7091295230800938,0.8047203054192971,0.45987972201147925],\"y\":[-0.013284316530948996,0.08787590606067598,0.08953647920654738,0.4258410167997443,0.4403957045269859,0.9321929235624037,1.1702515759298022,1.037556560548679],\"type\":\"scatter\"}],\"name\":\"160\"},{\"data\":[{\"marker\":{\"color\":[\"red\",\"red\",\"red\",\"blue\",\"blue\",\"green\",\"green\",\"green\"]},\"mode\":\"markers\",\"x\":[0.5353164827880865,0.6753262394369782,0.44910954098826394,0.5658053714052783,0.5690712714383674,0.6972908965459964,0.815468160016839,0.464801575389956],\"y\":[-0.06170239978877753,0.09863021414049873,0.12614417470691794,0.42469239984742085,0.43160648614923575,0.9299149809081702,1.1954662884716905,1.025613705668735],\"type\":\"scatter\"}],\"name\":\"161\"},{\"data\":[{\"marker\":{\"color\":[\"red\",\"red\",\"red\",\"blue\",\"blue\",\"green\",\"green\",\"green\"]},\"mode\":\"markers\",\"x\":[0.5304980953109543,0.668393477336875,0.4621505591587918,0.5620338156907465,0.5592579414848862,0.7134890695330881,0.8149469923593274,0.461419587135098],\"y\":[-0.054213778808480585,0.08352399564444311,0.12873064095736164,0.43790625095717656,0.42558961535814177,0.966777072634311,1.1938624396885824,0.9881896136723537],\"type\":\"scatter\"}],\"name\":\"162\"},{\"data\":[{\"marker\":{\"color\":[\"red\",\"red\",\"red\",\"blue\",\"blue\",\"green\",\"green\",\"green\"]},\"mode\":\"markers\",\"x\":[0.5367683922187504,0.6609318585132794,0.44757502925737525,0.56407607763807,0.5660510659820459,0.7165108672822693,0.8187760300299484,0.4615002170880252],\"y\":[-0.06303203669168396,0.09227078789834657,0.11776303709461713,0.4200806432400377,0.43404645211601883,0.993201847258779,1.1994817018056216,0.9765534173821496],\"type\":\"scatter\"}],\"name\":\"163\"},{\"data\":[{\"marker\":{\"color\":[\"red\",\"red\",\"red\",\"blue\",\"blue\",\"green\",\"green\",\"green\"]},\"mode\":\"markers\",\"x\":[0.5250590500019037,0.6370974696517282,0.4731485934765128,0.5703885738915082,0.5668464410892874,0.7036260698876498,0.8224218246275754,0.47360151538359824],\"y\":[-0.10873534726448579,0.11510944018826821,0.11701353521765678,0.4476992571358795,0.42862663648458865,0.9851329591957909,1.215592079104181,0.9699272900420076],\"type\":\"scatter\"}],\"name\":\"164\"},{\"data\":[{\"marker\":{\"color\":[\"red\",\"red\",\"red\",\"blue\",\"blue\",\"green\",\"green\",\"green\"]},\"mode\":\"markers\",\"x\":[0.5245160553008165,0.657116243293555,0.447785321874861,0.5720378709755687,0.5754398830894943,0.6953144919656575,0.8189722468054843,0.48100742470432184],\"y\":[-0.11315705884565455,0.10218204425896063,0.10536437492604689,0.4542510571133167,0.47289771408000947,0.9754616956847898,1.210847537048618,0.9625184858377998],\"type\":\"scatter\"}],\"name\":\"165\"},{\"data\":[{\"marker\":{\"color\":[\"red\",\"red\",\"red\",\"blue\",\"blue\",\"green\",\"green\",\"green\"]},\"mode\":\"markers\",\"x\":[0.5181987168735659,0.6781718518881875,0.4435117467139714,0.574017811111479,0.5735298929513235,0.6933711184580341,0.8087339296116689,0.48265447040152626],\"y\":[-0.11530940726607186,0.07689608339388465,0.10687091968147552,0.4843555976318819,0.4726712499696804,0.9729322615990914,1.1879749634309198,0.9839741816630245],\"type\":\"scatter\"}],\"name\":\"166\"},{\"data\":[{\"marker\":{\"color\":[\"red\",\"red\",\"red\",\"blue\",\"blue\",\"green\",\"green\",\"green\"]},\"mode\":\"markers\",\"x\":[0.5201150199669266,0.6850173330913659,0.42144796647622357,0.5795697712041806,0.5862105056930575,0.6928736299311157,0.7976276853753268,0.48932762627156196],\"y\":[-0.12796289262602015,0.10240229375701637,0.0948572348882674,0.47943755618066947,0.48726967592860077,0.9733405407714808,1.1685351444781602,0.9924862967257106],\"type\":\"scatter\"}],\"name\":\"167\"},{\"data\":[{\"marker\":{\"color\":[\"red\",\"red\",\"red\",\"blue\",\"blue\",\"green\",\"green\",\"green\"]},\"mode\":\"markers\",\"x\":[0.5160554169691681,0.7009187671040815,0.4062642701449394,0.5831381993870399,0.5849710940539506,0.693762945076195,0.7797436918232455,0.5073351534511413],\"y\":[-0.14647109836965458,0.12798745910629422,0.11298013162422033,0.47385431519808346,0.47402953174212725,1.0013921299698259,1.1443882312384968,0.982205149594495],\"type\":\"scatter\"}],\"name\":\"168\"},{\"data\":[{\"marker\":{\"color\":[\"red\",\"red\",\"red\",\"blue\",\"blue\",\"green\",\"green\",\"green\"]},\"mode\":\"markers\",\"x\":[0.518097021315865,0.6921081046015061,0.4119346397670881,0.5873326573626111,0.5870061139127205,0.6963795001922775,0.7722572906590814,0.5070742101986119],\"y\":[-0.15168852305453687,0.12825877179170853,0.12544626363470368,0.4582672112616086,0.476718988033754,1.0127074316944504,1.128224622653492,0.9924310840887108],\"type\":\"scatter\"}],\"name\":\"169\"},{\"data\":[{\"marker\":{\"color\":[\"red\",\"red\",\"red\",\"blue\",\"blue\",\"green\",\"green\",\"green\"]},\"mode\":\"markers\",\"x\":[0.5075267507814222,0.7151527719824329,0.43137921606779717,0.5729715671823671,0.5648749884683693,0.6936729449325014,0.7903018966726555,0.49630940192221373],\"y\":[-0.14237521359990354,0.08691349182426429,0.16125558414007946,0.46982918665623,0.4485051082924692,1.0187218939628706,1.1560425191087047,0.9714732797191793],\"type\":\"scatter\"}],\"name\":\"170\"},{\"data\":[{\"marker\":{\"color\":[\"red\",\"red\",\"red\",\"blue\",\"blue\",\"green\",\"green\",\"green\"]},\"mode\":\"markers\",\"x\":[0.5052143298832402,0.7159333202988013,0.4434618091565668,0.5681679982895961,0.566704301622296,0.6945403039398992,0.8063964135117024,0.4717710613076558],\"y\":[-0.1160947490108597,0.07289212651991785,0.1569921326500025,0.46785990161718816,0.46226720748862965,0.9876533776466727,1.1714991033259892,0.9672967498663505],\"type\":\"scatter\"}],\"name\":\"171\"},{\"data\":[{\"marker\":{\"color\":[\"red\",\"red\",\"red\",\"blue\",\"blue\",\"green\",\"green\",\"green\"]},\"mode\":\"markers\",\"x\":[0.5009137791194939,0.7325908793313585,0.43926164739912865,0.5593848953862338,0.5606093136720237,0.7032746645596913,0.7738549306115199,0.5022994279303067],\"y\":[-0.08648575744398676,0.044738776883211026,0.1454759438335817,0.45758930822613586,0.4616674170482229,1.0078506380930086,1.1597379387731421,0.9797915846905728],\"type\":\"scatter\"}],\"name\":\"172\"},{\"data\":[{\"marker\":{\"color\":[\"red\",\"red\",\"red\",\"blue\",\"blue\",\"green\",\"green\",\"green\"]},\"mode\":\"markers\",\"x\":[0.49212209106123633,0.7358343513031591,0.44648097675720494,0.5603916047364803,0.562178639169469,0.7046641409135971,0.7814488662382063,0.4890688678304026],\"y\":[-0.0902435778497096,0.050869833056682655,0.1625445203438606,0.46897745699771703,0.45646219061257143,1.0075057943915775,1.157615418250822,0.956634214300366],\"type\":\"scatter\"}],\"name\":\"173\"},{\"data\":[{\"marker\":{\"color\":[\"red\",\"red\",\"red\",\"blue\",\"blue\",\"green\",\"green\",\"green\"]},\"mode\":\"markers\",\"x\":[0.49341064099407694,0.7504086629219676,0.4372033584844662,0.562832629737547,0.5645532295251349,0.7053051259798133,0.7830965497647095,0.475379340602044],\"y\":[-0.07038781622013045,0.015402757718282943,0.1510595930430744,0.4771873170285474,0.475316764073316,0.9954280774967338,1.156985934934645,0.9693732220294197],\"type\":\"scatter\"}],\"name\":\"174\"},{\"data\":[{\"marker\":{\"color\":[\"red\",\"red\",\"red\",\"blue\",\"blue\",\"green\",\"green\",\"green\"]},\"mode\":\"markers\",\"x\":[0.489695749766764,0.772924909929635,0.43180279909382324,0.560820048933255,0.5628834091134811,0.7016719132547717,0.7954832779543983,0.456907429963635],\"y\":[-0.029484375324291087,-0.012937675945534096,0.15471600943454905,0.46613124918666593,0.46972708993432544,0.9886492234013767,1.1601610189707887,0.973403310446007],\"type\":\"scatter\"}],\"name\":\"175\"},{\"data\":[{\"marker\":{\"color\":[\"red\",\"red\",\"red\",\"blue\",\"blue\",\"green\",\"green\",\"green\"]},\"mode\":\"markers\",\"x\":[0.49314522199155364,0.7647679829696535,0.43268800993365336,0.5675159936332891,0.5649134858751731,0.7053684083555644,0.7807769450227303,0.4630134902281443],\"y\":[-0.03620368061517594,-0.013262325958198816,0.14019100669224074,0.4841798603463055,0.47178103220583384,0.9971093254072099,1.1387087848029287,0.9878618472227407],\"type\":\"scatter\"}],\"name\":\"176\"},{\"data\":[{\"marker\":{\"color\":[\"red\",\"red\",\"red\",\"blue\",\"blue\",\"green\",\"green\",\"green\"]},\"mode\":\"markers\",\"x\":[0.49711419040230564,0.7528401666573133,0.43391609741834003,0.5760103018815607,0.5753751913059885,0.7247086593619639,0.7685615483139584,0.4436633826683304],\"y\":[-0.04995914735361624,-0.003459108578632605,0.13141373875059162,0.4859410976602217,0.48496855564203634,1.017460078489661,1.094786741589611,1.0092138939040127],\"type\":\"scatter\"}],\"name\":\"177\"},{\"data\":[{\"marker\":{\"color\":[\"red\",\"red\",\"red\",\"blue\",\"blue\",\"green\",\"green\",\"green\"]},\"mode\":\"markers\",\"x\":[0.4874410335565474,0.7465171775087708,0.4558873309469684,0.577735102961326,0.5808012568661491,0.7252020580002287,0.7538136470404669,0.44479193112930693],\"y\":[-0.09151510403355588,0.00395937283132374,0.1678418247436087,0.5066561841511279,0.46526273370242405,1.0148476816430623,1.0738167544564818,1.0294964026094144],\"type\":\"scatter\"}],\"name\":\"178\"},{\"data\":[{\"marker\":{\"color\":[\"red\",\"red\",\"red\",\"blue\",\"blue\",\"green\",\"green\",\"green\"]},\"mode\":\"markers\",\"x\":[0.49183414600362474,0.7575538123822164,0.4462101945251737,0.5793476661059099,0.582450863621663,0.7273351735776845,0.7614589121096574,0.42599876968383743],\"y\":[-0.07182123901047183,-0.015375165018314313,0.17024979697938597,0.49010028324443367,0.4952638692834005,0.9781757816359645,1.085987372669568,1.037785150319923],\"type\":\"scatter\"}],\"name\":\"179\"},{\"data\":[{\"marker\":{\"color\":[\"red\",\"red\",\"red\",\"blue\",\"blue\",\"green\",\"green\",\"green\"]},\"mode\":\"markers\",\"x\":[0.4954637355968737,0.7619122522865382,0.439971207267781,0.5742367706502051,0.5837762668696875,0.7221655920196408,0.7581084105627552,0.43655530275628485],\"y\":[-0.0686185034885048,-0.028546758823558498,0.17660425245353475,0.49957569313511885,0.4994129898362823,0.9851750997639925,1.081025974063991,1.0257371031630338],\"type\":\"scatter\"}],\"name\":\"180\"},{\"data\":[{\"marker\":{\"color\":[\"red\",\"red\",\"red\",\"blue\",\"blue\",\"green\",\"green\",\"green\"]},\"mode\":\"markers\",\"x\":[0.4777588568431957,0.7717664267435747,0.43630210049885515,0.585764710944077,0.588178131240181,0.720864196043308,0.7550221811672294,0.43653293452934294],\"y\":[-0.10900875000710268,-3.26586958561934e-05,0.19293140359819566,0.49922935037734006,0.5052394946866041,0.9773613215927193,1.0756278923551044,1.029017796196887],\"type\":\"scatter\"}],\"name\":\"181\"},{\"data\":[{\"marker\":{\"color\":[\"red\",\"red\",\"red\",\"blue\",\"blue\",\"green\",\"green\",\"green\"]},\"mode\":\"markers\",\"x\":[0.4904005930211868,0.7651815287131409,0.42234657733865294,0.5982621619151854,0.5896469275694598,0.7106230675853242,0.7787901455509264,0.4169385363158893],\"y\":[-0.08925341000276833,0.011574327775556833,0.1790037105147167,0.498937962860678,0.5029337330141976,0.947504653866541,1.0860441863647428,1.0336206857102268],\"type\":\"scatter\"}],\"name\":\"182\"},{\"data\":[{\"marker\":{\"color\":[\"red\",\"red\",\"red\",\"blue\",\"blue\",\"green\",\"green\",\"green\"]},\"mode\":\"markers\",\"x\":[0.49112373869195114,0.7632434370237251,0.438862546680436,0.5816688565102063,0.5949701427145256,0.708867933539102,0.7874237697244301,0.4060291131253905],\"y\":[-0.0945824560832556,0.00483479419769971,0.2069884111454649,0.5083423720168803,0.48827515844837727,0.9450819200424263,1.0806248136638266,1.0308008366724644],\"type\":\"scatter\"}],\"name\":\"183\"},{\"data\":[{\"marker\":{\"color\":[\"red\",\"red\",\"red\",\"blue\",\"blue\",\"green\",\"green\",\"green\"]},\"mode\":\"markers\",\"x\":[0.4928664476375636,0.7678731072395332,0.42841449849303076,0.5937861183969126,0.5871476789874118,0.7099844249870596,0.8066114253642477,0.3855058369040086],\"y\":[-0.07221320851817706,0.0006828265368595211,0.18199075239999918,0.5261735195185916,0.5032693374915914,0.9180896631129211,1.0906024239796162,1.0217705355824844],\"type\":\"scatter\"}],\"name\":\"184\"},{\"data\":[{\"marker\":{\"color\":[\"red\",\"red\",\"red\",\"blue\",\"blue\",\"green\",\"green\",\"green\"]},\"mode\":\"markers\",\"x\":[0.5071698598870806,0.7715418435704101,0.4119577516663218,0.5844555375951128,0.5916018426146274,0.6988366970442389,0.8232025442264734,0.38342346140550243],\"y\":[-0.054906524179176734,-0.015379234140031567,0.17686355688502095,0.5252645192983643,0.5113354724942205,0.9111909347093138,1.1029489523942537,1.0130481726419205],\"type\":\"scatter\"}],\"name\":\"185\"},{\"data\":[{\"marker\":{\"color\":[\"red\",\"red\",\"red\",\"blue\",\"blue\",\"green\",\"green\",\"green\"]},\"mode\":\"markers\",\"x\":[0.5039120380719959,0.7745929242174516,0.4178762327580033,0.5849590087103264,0.584242461672134,0.6755274681888477,0.8285678273830168,0.4025115770079933],\"y\":[-0.058326086448249805,-0.022199983168375105,0.17818949855713292,0.5285385122752743,0.5116990375893118,0.9200886129306417,1.1073145435618426,1.0050617148063103],\"type\":\"scatter\"}],\"name\":\"186\"},{\"data\":[{\"marker\":{\"color\":[\"red\",\"red\",\"red\",\"blue\",\"blue\",\"green\",\"green\",\"green\"]},\"mode\":\"markers\",\"x\":[0.49595055327194293,0.7767886238193121,0.42316239610645967,0.5883238953513499,0.588278441393035,0.6705931690159506,0.8362584039396014,0.39283405511212127],\"y\":[-0.0375899365803227,-0.03009093558876823,0.15951374750872413,0.52325453751627,0.5234192515981219,0.9071987411651042,1.1135596585941039,1.0111007858906549],\"type\":\"scatter\"}],\"name\":\"187\"},{\"data\":[{\"marker\":{\"color\":[\"red\",\"red\",\"red\",\"blue\",\"blue\",\"green\",\"green\",\"green\"]},\"mode\":\"markers\",\"x\":[0.49269805973152764,0.7937429801625127,0.41652244182217596,0.5826945901291289,0.5844386675514063,0.6784560088822263,0.8255508928183813,0.39808589691241214],\"y\":[-0.04644662604846526,-0.040488187283164744,0.1863864148041731,0.5043113150137734,0.519723530766143,0.9252632597462874,1.1080905114635,1.013525631641641],\"type\":\"scatter\"}],\"name\":\"188\"},{\"data\":[{\"marker\":{\"color\":[\"red\",\"red\",\"red\",\"blue\",\"blue\",\"green\",\"green\",\"green\"]},\"mode\":\"markers\",\"x\":[0.5144520711305078,0.7671677071005187,0.4227479565531903,0.5847550710394077,0.5841659065211328,0.669130012324905,0.8135057821049436,0.4162650312351673],\"y\":[-0.029697257687579595,-0.05802930012519716,0.16879977881163993,0.5120758995128558,0.5281382611736318,0.926144215760266,1.1087570359715582,1.0141772166867127],\"type\":\"scatter\"}],\"name\":\"189\"},{\"data\":[{\"marker\":{\"color\":[\"red\",\"red\",\"red\",\"blue\",\"blue\",\"green\",\"green\",\"green\"]},\"mode\":\"markers\",\"x\":[0.5142838359837543,0.7778949310938552,0.4170354147313285,0.5749430255397329,0.5817362822764287,0.679463066822902,0.8020092692936736,0.4248237122680946],\"y\":[-0.032137086655006225,-0.06421096548751622,0.19518758466186434,0.5108050999874567,0.5179640951162469,0.9411772745576905,1.10384711455301,0.9977327333701391],\"type\":\"scatter\"}],\"name\":\"190\"},{\"data\":[{\"marker\":{\"color\":[\"red\",\"red\",\"red\",\"blue\",\"blue\",\"green\",\"green\",\"green\"]},\"mode\":\"markers\",\"x\":[0.5250129747506291,0.764779658225142,0.4092352363323521,0.5792044768531639,0.5860625169616123,0.6772935773579113,0.8007765265426233,0.429824570986338],\"y\":[-0.036786746605080696,-0.04967365221986264,0.18759742545718844,0.5095306069140023,0.5272352730371928,0.9266021861765933,1.1125699800095548,0.9932907773342957],\"type\":\"scatter\"}],\"name\":\"191\"},{\"data\":[{\"marker\":{\"color\":[\"red\",\"red\",\"red\",\"blue\",\"blue\",\"green\",\"green\",\"green\"]},\"mode\":\"markers\",\"x\":[0.5454779740921172,0.7369301330726388,0.39120316024406887,0.5913691701088296,0.5898037654648188,0.673185382276867,0.814497007537679,0.4297229452127517],\"y\":[-0.014625979303447572,-0.018743983919677125,0.15187970579697127,0.48963308376939374,0.5427420122058135,0.9170197928442259,1.1281428406128842,0.9743183780977254],\"type\":\"scatter\"}],\"name\":\"192\"},{\"data\":[{\"marker\":{\"color\":[\"red\",\"red\",\"red\",\"blue\",\"blue\",\"green\",\"green\",\"green\"]},\"mode\":\"markers\",\"x\":[0.5671872795659529,0.7116142173608713,0.3981146501417975,0.5926424608384939,0.5887398662092238,0.6766217722492108,0.7900845713941796,0.4471847202500439],\"y\":[-0.023146144790132557,-0.03783848013923912,0.13636356191949542,0.501467798584979,0.5484693799305651,0.9521473229765465,1.1006241826974281,0.9922782289242442],\"type\":\"scatter\"}],\"name\":\"193\"},{\"data\":[{\"marker\":{\"color\":[\"red\",\"red\",\"red\",\"blue\",\"blue\",\"green\",\"green\",\"green\"]},\"mode\":\"markers\",\"x\":[0.5709260979884252,0.7037088139539982,0.4108768339541498,0.5839727329279256,0.5861761544987315,0.6843461953206879,0.8087288841819,0.4234538251839569],\"y\":[-0.029563353829206704,-0.03525507486634606,0.1567969298914918,0.5145747281735837,0.5083591768716523,0.9554863807582837,1.1131888529406582,0.9867782101637712],\"type\":\"scatter\"}],\"name\":\"194\"},{\"data\":[{\"marker\":{\"color\":[\"red\",\"red\",\"red\",\"blue\",\"blue\",\"green\",\"green\",\"green\"]},\"mode\":\"markers\",\"x\":[0.5776024211329355,0.6872125573758345,0.4028277649708183,0.581144793598264,0.5951428518134095,0.6721471215984883,0.8255745983013302,0.4305374292186935],\"y\":[-0.01469255461180491,0.00756723220325007,0.12110872762102584,0.5043104391539132,0.5147770160663392,0.9315231268639071,1.1377404445819383,0.9680314182253167],\"type\":\"scatter\"}],\"name\":\"195\"},{\"data\":[{\"marker\":{\"color\":[\"red\",\"red\",\"red\",\"blue\",\"blue\",\"green\",\"green\",\"green\"]},\"mode\":\"markers\",\"x\":[0.543621638144936,0.7120206010129818,0.4269651514589089,0.5801346937854064,0.5681138135974654,0.6667631707511386,0.8344770344209738,0.4400934348379666],\"y\":[-0.00042188968812292713,-0.035312681254361405,0.1416416050405737,0.5226501724380356,0.5178288412502348,0.941446470302759,1.1544880548325804,0.9280452771821828],\"type\":\"scatter\"}],\"name\":\"196\"},{\"data\":[{\"marker\":{\"color\":[\"red\",\"red\",\"red\",\"blue\",\"blue\",\"green\",\"green\",\"green\"]},\"mode\":\"markers\",\"x\":[0.5324149527994099,0.7380102768395947,0.41306544931075834,0.5706230654644118,0.569879549106466,0.6714466846221504,0.8160121263831526,0.46073743348383184],\"y\":[-0.0034793456405933,-0.054782101677992585,0.15795278901132825,0.5137269597111187,0.5149300554615772,0.9785661682432762,1.1418356814705897,0.9216156435245788],\"type\":\"scatter\"}],\"name\":\"197\"},{\"data\":[{\"marker\":{\"color\":[\"red\",\"red\",\"red\",\"blue\",\"blue\",\"green\",\"green\",\"green\"]},\"mode\":\"markers\",\"x\":[0.542076971851953,0.7421020270271471,0.42191802580805876,0.5724879134568335,0.5659265305233815,0.6665451520274431,0.8245450672287264,0.43658785008623135],\"y\":[-0.005832883838008634,-0.07207501283099263,0.20045641604416709,0.5146869924266567,0.4904179268743247,0.9584994336759968,1.135353326465419,0.9488596512863242],\"type\":\"scatter\"}],\"name\":\"198\"},{\"data\":[{\"marker\":{\"color\":[\"red\",\"red\",\"red\",\"blue\",\"blue\",\"green\",\"green\",\"green\"]},\"mode\":\"markers\",\"x\":[0.5425640285326543,0.7380408859470146,0.4294009809992883,0.5721246264699873,0.5733404912471094,0.6721489910025432,0.8134764533111487,0.43109308050002687],\"y\":[0.0044281519684977975,-0.07298614057500298,0.19651091634211434,0.48239234270039827,0.5136908495405011,0.9643968592489809,1.1127512853757031,0.9691815855026968],\"type\":\"scatter\"}],\"name\":\"199\"},{\"data\":[{\"marker\":{\"color\":[\"red\",\"red\",\"red\",\"blue\",\"blue\",\"green\",\"green\",\"green\"]},\"mode\":\"markers\",\"x\":[0.544616404925284,0.7262474720004981,0.4296366539834049,0.582675556453829,0.5840125930174428,0.6859189419834053,0.8240549271367414,0.3950269885091707],\"y\":[0.0023513370295460876,-0.04732266506626509,0.17663423451369664,0.49556327597948635,0.5073075281157349,0.9537553021260229,1.0989180073592462,0.9831588300464179],\"type\":\"scatter\"}],\"name\":\"200\"},{\"data\":[{\"marker\":{\"color\":[\"red\",\"red\",\"red\",\"blue\",\"blue\",\"green\",\"green\",\"green\"]},\"mode\":\"markers\",\"x\":[0.5404603240007988,0.7305234783258,0.44042193870790897,0.5658471042766,0.5786662975373691,0.6649782450267139,0.8453159503635703,0.4059761997710177],\"y\":[-0.007711601121991794,-0.04707824311354526,0.19837751793842862,0.49929108066413114,0.4966781438109339,0.9451305309844702,1.1199108992605518,0.9657675216809047],\"type\":\"scatter\"}],\"name\":\"201\"},{\"data\":[{\"marker\":{\"color\":[\"red\",\"red\",\"red\",\"blue\",\"blue\",\"green\",\"green\",\"green\"]},\"mode\":\"markers\",\"x\":[0.5299722683226505,0.7300316986735502,0.4397462176943522,0.5784846130776631,0.5834518229785428,0.668685452056481,0.8375587748028753,0.40425869040366613],\"y\":[-0.023951465613430648,-0.023037554830091386,0.18539101005130357,0.5037759293365269,0.5235466430426521,0.9466824018323798,1.0997347274686435,0.9582241588158977],\"type\":\"scatter\"}],\"name\":\"202\"},{\"data\":[{\"marker\":{\"color\":[\"red\",\"red\",\"red\",\"blue\",\"blue\",\"green\",\"green\",\"green\"]},\"mode\":\"markers\",\"x\":[0.5155411536336548,0.7276015233725679,0.46147789357573,0.5802201164309265,0.5733715232332572,0.6753598571092457,0.8212730167608321,0.41734445389357],\"y\":[-0.059331982650232463,-0.010185285426617353,0.19809809831916178,0.5295247445041275,0.5324651808971113,0.9581339080405931,1.078563645238834,0.9430975411809065],\"type\":\"scatter\"}],\"name\":\"203\"},{\"data\":[{\"marker\":{\"color\":[\"red\",\"red\",\"red\",\"blue\",\"blue\",\"green\",\"green\",\"green\"]},\"mode\":\"markers\",\"x\":[0.5023385956611959,0.71022041653781,0.47736621885271346,0.5780625893984465,0.5880237816282403,0.680687701897145,0.8252715161458769,0.4102187178883575],\"y\":[-0.09434622946585451,0.04789574200292417,0.18089180392736529,0.5108679923621166,0.5132031428233005,0.9654525926279109,1.090355034907552,0.9560457709185718],\"type\":\"scatter\"}],\"name\":\"204\"},{\"data\":[{\"marker\":{\"color\":[\"red\",\"red\",\"red\",\"blue\",\"blue\",\"green\",\"green\",\"green\"]},\"mode\":\"markers\",\"x\":[0.5082180898021685,0.6978521699291479,0.4842965967232455,0.5847434650103334,0.5890221814109322,0.6821013371183335,0.8247950368010125,0.4011606612146117],\"y\":[-0.10319789402295886,0.049046317490246016,0.18074169383010236,0.5027711375833342,0.5136669600004724,0.958475782219021,1.0913313080583673,0.9775305449453029],\"type\":\"scatter\"}],\"name\":\"205\"},{\"data\":[{\"marker\":{\"color\":[\"red\",\"red\",\"red\",\"blue\",\"blue\",\"green\",\"green\",\"green\"]},\"mode\":\"markers\",\"x\":[0.5086905607876093,0.7029153047009659,0.46298119408542937,0.5925661201086789,0.5952050971203742,0.6789318454617979,0.8337598311318793,0.39713958461304666],\"y\":[-0.0974867177252868,0.061119983677181626,0.13823610766737876,0.5256402687501903,0.5235748601604228,0.9287334250499784,1.1103002093178078,0.9802477132062116],\"type\":\"scatter\"}],\"name\":\"206\"},{\"data\":[{\"marker\":{\"color\":[\"red\",\"red\",\"red\",\"blue\",\"blue\",\"green\",\"green\",\"green\"]},\"mode\":\"markers\",\"x\":[0.502955388843054,0.7152161036379335,0.44218776892429745,0.6009437432711972,0.6005000288590112,0.6943727345900734,0.8264468355007043,0.38956693438351264],\"y\":[-0.130185494431594,0.09041876504030952,0.12595647250372236,0.5392025693251956,0.5408672034121179,0.9237761854005256,1.1002504380933482,0.9800797107602595],\"type\":\"scatter\"}],\"name\":\"207\"},{\"data\":[{\"marker\":{\"color\":[\"red\",\"red\",\"red\",\"blue\",\"blue\",\"green\",\"green\",\"green\"]},\"mode\":\"markers\",\"x\":[0.4969756496847358,0.7236912776297051,0.4415692330257426,0.5954530550200868,0.6008457506239809,0.6940939390947564,0.8353093497039465,0.384251283226832],\"y\":[-0.14217423486068384,0.12655933731763258,0.14216583920118123,0.5137294844968358,0.5402195686388891,0.9074292320902524,1.1072976990649408,0.975138924154833],\"type\":\"scatter\"}],\"name\":\"208\"},{\"data\":[{\"marker\":{\"color\":[\"red\",\"red\",\"red\",\"blue\",\"blue\",\"green\",\"green\",\"green\"]},\"mode\":\"markers\",\"x\":[0.48875193854486454,0.7276359448793804,0.46631582953893536,0.5913128478244442,0.594864855971335,0.6957935038570437,0.8275563983409333,0.37995821905284954],\"y\":[-0.15915439858299224,0.10882609087520025,0.19295082828834018,0.5102839587732756,0.5255849816500309,0.9259428514648739,1.0893046254994045,0.9766269121357508],\"type\":\"scatter\"}],\"name\":\"209\"},{\"data\":[{\"marker\":{\"color\":[\"red\",\"red\",\"red\",\"blue\",\"blue\",\"green\",\"green\",\"green\"]},\"mode\":\"markers\",\"x\":[0.49499366638414355,0.7136413319579571,0.4685381846226548,0.5932897546854273,0.5943822134982935,0.6978005464177071,0.8412547239054267,0.36828911653817675],\"y\":[-0.13090992634161194,0.13222656216952594,0.1644480728556154,0.4896917276304571,0.4959767612569359,0.9173607339777452,1.1075662858121167,0.9940056327430978],\"type\":\"scatter\"}],\"name\":\"210\"},{\"data\":[{\"marker\":{\"color\":[\"red\",\"red\",\"red\",\"blue\",\"blue\",\"green\",\"green\",\"green\"]},\"mode\":\"markers\",\"x\":[0.4958616681592665,0.7283518702161313,0.4662065221751473,0.5916787147586725,0.5861585016937101,0.6952546924217539,0.8337198904960218,0.3749576780890856],\"y\":[-0.10001201134208992,0.10927086473379793,0.16039078554274586,0.4917238342915213,0.47494729203889213,0.929477794428622,1.1005089351710526,1.0040583552393343],\"type\":\"scatter\"}],\"name\":\"211\"},{\"data\":[{\"marker\":{\"color\":[\"red\",\"red\",\"red\",\"blue\",\"blue\",\"green\",\"green\",\"green\"]},\"mode\":\"markers\",\"x\":[0.4927191176744125,0.7199834220438492,0.4701335246270569,0.5995104307914683,0.5975748133328047,0.6870991836154787,0.8525619695103447,0.3526070764143778],\"y\":[-0.1108361607467995,0.12677333619480172,0.14928051344915366,0.48766907068049703,0.5013659358932299,0.8930903588245545,1.1064578647216725,1.0165649310867637],\"type\":\"scatter\"}],\"name\":\"212\"},{\"data\":[{\"marker\":{\"color\":[\"red\",\"red\",\"red\",\"blue\",\"blue\",\"green\",\"green\",\"green\"]},\"mode\":\"markers\",\"x\":[0.4960589811765083,0.7193602024568393,0.46146607275002705,0.6001769006698356,0.6074955365804177,0.6847430835292635,0.8642611651619613,0.33862759568494116],\"y\":[-0.10360301595242419,0.14951524118492032,0.1313452774680834,0.49044597113455396,0.5029714607844541,0.8716106941744614,1.1054515515443846,1.022628669765439],\"type\":\"scatter\"}],\"name\":\"213\"},{\"data\":[{\"marker\":{\"color\":[\"red\",\"red\",\"red\",\"blue\",\"blue\",\"green\",\"green\",\"green\"]},\"mode\":\"markers\",\"x\":[0.4939268924000236,0.7286906313452581,0.47826701143910516,0.5906546231586346,0.6001739404136867,0.6906973150308632,0.8526325222418676,0.3371466019803542],\"y\":[-0.10205868965640418,0.12603939226159852,0.16593345338284396,0.46414990276523105,0.51051826231338,0.8720897401268185,1.096190038038539,1.0375037508718676],\"type\":\"scatter\"}],\"name\":\"214\"},{\"data\":[{\"marker\":{\"color\":[\"red\",\"red\",\"red\",\"blue\",\"blue\",\"green\",\"green\",\"green\"]},\"mode\":\"markers\",\"x\":[0.49172565743013713,0.7312285375598833,0.46942030651215705,0.5975270723987179,0.599594648771012,0.690688295666223,0.8307500982832097,0.3612549213884561],\"y\":[-0.11450039028937109,0.12365428875376401,0.1576301561291921,0.5020790253058409,0.5087850257097619,0.8823780871176179,1.0849926020088807,1.0253470553681856],\"type\":\"scatter\"}],\"name\":\"215\"},{\"data\":[{\"marker\":{\"color\":[\"red\",\"red\",\"red\",\"blue\",\"blue\",\"green\",\"green\",\"green\"]},\"mode\":\"markers\",\"x\":[0.4915000272265086,0.7331301918921538,0.45884970670173875,0.6002462198113501,0.5985446804892467,0.6893956336195726,0.8248881282803683,0.37563494998886116],\"y\":[-0.09448659230720344,0.1316082757887095,0.13539821664595275,0.4904128398610301,0.49706803208373146,0.8980954170405802,1.0925290890519335,1.0197405719391412],\"type\":\"scatter\"}],\"name\":\"216\"},{\"data\":[{\"marker\":{\"color\":[\"red\",\"red\",\"red\",\"blue\",\"blue\",\"green\",\"green\",\"green\"]},\"mode\":\"markers\",\"x\":[0.5009724963993715,0.720392794474897,0.4712044311498358,0.5922876095085053,0.5963552287689784,0.6761567011212974,0.843361918293925,0.37145835829298934],\"y\":[-0.07683333440179049,0.11331843508022385,0.15254831527702484,0.48116349143136794,0.4952369610239638,0.8809274981726941,1.1113213967210271,1.0126830867993624],\"type\":\"scatter\"}],\"name\":\"217\"},{\"data\":[{\"marker\":{\"color\":[\"red\",\"red\",\"red\",\"blue\",\"blue\",\"green\",\"green\",\"green\"]},\"mode\":\"markers\",\"x\":[0.4992097245839218,0.7360293628573041,0.46299316069110324,0.604345788279015,0.6047851935974523,0.6888293305818621,0.8386005214436778,0.3373964559754657],\"y\":[-0.05708544544005388,0.10213443403808978,0.13391793907701657,0.4888532363986592,0.4870526647084904,0.8704342317397227,1.0873901225295564,1.057668667052396],\"type\":\"scatter\"}],\"name\":\"218\"},{\"data\":[{\"marker\":{\"color\":[\"red\",\"red\",\"red\",\"blue\",\"blue\",\"green\",\"green\",\"green\"]},\"mode\":\"markers\",\"x\":[0.49344864573568026,0.7493071795876171,0.4636873482043471,0.6079996405935364,0.6063602635530154,0.6941694437425509,0.8290735170789633,0.3281434995140941],\"y\":[-0.027640422325067106,0.08482397031749081,0.10443333909448359,0.4901778831607712,0.4850044996712113,0.8735744976081861,1.0734383902403488,1.086553692336452],\"type\":\"scatter\"}],\"name\":\"219\"},{\"data\":[{\"marker\":{\"color\":[\"red\",\"red\",\"red\",\"blue\",\"blue\",\"green\",\"green\",\"green\"]},\"mode\":\"markers\",\"x\":[0.4941020264007246,0.7431836664173096,0.4532826277545494,0.6124749635997795,0.6110561777103837,0.709858471149223,0.7972252496288218,0.3510063553490107],\"y\":[-0.06545408806014626,0.11257113121062257,0.10701126644383219,0.5145433535265793,0.4769158482355029,0.8937665425630013,1.0519492603854717,1.0790625357990111],\"type\":\"scatter\"}],\"name\":\"220\"},{\"data\":[{\"marker\":{\"color\":[\"red\",\"red\",\"red\",\"blue\",\"blue\",\"green\",\"green\",\"green\"]},\"mode\":\"markers\",\"x\":[0.48285642682051383,0.7768924389485845,0.4427849237313616,0.5967509356200675,0.5961946012062478,0.7030528206105086,0.8073593785418974,0.3662980125306197],\"y\":[-0.05254768074485507,0.08681661527985897,0.11604229845006972,0.5150697919243743,0.5021429974046051,0.8885458758818499,1.0782425054325218,1.0360534464754505],\"type\":\"scatter\"}],\"name\":\"221\"},{\"data\":[{\"marker\":{\"color\":[\"red\",\"red\",\"red\",\"blue\",\"blue\",\"green\",\"green\",\"green\"]},\"mode\":\"markers\",\"x\":[0.46853466108965874,0.7974098517574467,0.4543402174316474,0.5861264157341511,0.6087825408184275,0.7194399414525728,0.7792194392842261,0.3583364704416695],\"y\":[-0.08246585857415702,0.06719037424004749,0.15376640069922365,0.5015524125347128,0.5386483437117162,0.9199500650154098,1.017796135833305,1.0539279766436156],\"type\":\"scatter\"}],\"name\":\"222\"},{\"data\":[{\"marker\":{\"color\":[\"red\",\"red\",\"red\",\"blue\",\"blue\",\"green\",\"green\",\"green\"]},\"mode\":\"markers\",\"x\":[0.47060370488792935,0.7850759969756211,0.4509589950679452,0.5933397612064427,0.6122015527417182,0.7258721159395439,0.7607645146408964,0.3733728965497045],\"y\":[-0.09593833895800342,0.076327169049342,0.1481182246496965,0.5171296127693988,0.538597382814283,0.9194528557776729,1.0231044727474177,1.0435744712540664],\"type\":\"scatter\"}],\"name\":\"223\"},{\"data\":[{\"marker\":{\"color\":[\"red\",\"red\",\"red\",\"blue\",\"blue\",\"green\",\"green\",\"green\"]},\"mode\":\"markers\",\"x\":[0.4807447795891628,0.7913926014154838,0.4311223295885279,0.6006631954902465,0.6012628620404415,0.7205329448755994,0.7600291030383335,0.3864417219720079],\"y\":[-0.11316149830241903,0.07173316765429738,0.15873613979748147,0.5457199301560268,0.5454835656603414,0.9033763185247717,1.031097421357702,1.0273808052556697],\"type\":\"scatter\"}],\"name\":\"224\"},{\"data\":[{\"marker\":{\"color\":[\"red\",\"red\",\"red\",\"blue\",\"blue\",\"green\",\"green\",\"green\"]},\"mode\":\"markers\",\"x\":[0.46281752570909945,0.8223392548071373,0.4358404308156078,0.6027326646181033,0.6021089999737207,0.7110744048001587,0.7641718448913061,0.37110441239466796],\"y\":[-0.12348757276834459,0.061225073501683436,0.1853629703144736,0.5363377256189765,0.5597676502134594,0.8668617509979802,1.0320986166693888,1.052199635556256],\"type\":\"scatter\"}],\"name\":\"225\"},{\"data\":[{\"marker\":{\"color\":[\"red\",\"red\",\"red\",\"blue\",\"blue\",\"green\",\"green\",\"green\"]},\"mode\":\"markers\",\"x\":[0.4704472795344763,0.8110773813849385,0.43860672493026237,0.6072219199243349,0.6071803468437235,0.7027859444688702,0.7770137308418381,0.35785621008135776],\"y\":[-0.10483635691503508,0.056511489469502504,0.170328046324351,0.5417165435085263,0.5417762790733701,0.8441713291566565,1.0539460100691,1.0667525094173995],\"type\":\"scatter\"}],\"name\":\"226\"},{\"data\":[{\"marker\":{\"color\":[\"red\",\"red\",\"red\",\"blue\",\"blue\",\"green\",\"green\",\"green\"]},\"mode\":\"markers\",\"x\":[0.4643307637430318,0.8321656582016024,0.4369499813153266,0.6118623288636005,0.6074188917995076,0.7004437295479353,0.7712654522980544,0.347752732240744],\"y\":[-0.09000435316813284,0.03755960980824307,0.15295901282335672,0.5579528914281096,0.5540766932492166,0.8415049321362649,1.0231160937333812,1.0932009700934378],\"type\":\"scatter\"}],\"name\":\"227\"},{\"data\":[{\"marker\":{\"color\":[\"red\",\"red\",\"red\",\"blue\",\"blue\",\"green\",\"green\",\"green\"]},\"mode\":\"markers\",\"x\":[0.4557796021665527,0.8535655606323537,0.43323675793569844,0.6046717008684076,0.6053535153340495,0.6954864853659776,0.7626471171610012,0.36144879854576173],\"y\":[-0.09509436362984879,0.023712673661018712,0.17096089800812633,0.5421111665984368,0.5503108677261467,0.8755456610949328,1.0150012359586404,1.08781771068642],\"type\":\"scatter\"}],\"name\":\"228\"},{\"data\":[{\"marker\":{\"color\":[\"red\",\"red\",\"red\",\"blue\",\"blue\",\"green\",\"green\",\"green\"]},\"mode\":\"markers\",\"x\":[0.4540958118556121,0.8389030436270181,0.43343899814124975,0.6144179772184508,0.6149939537492581,0.6844364802589726,0.76600041955466,0.36590285360457864],\"y\":[-0.11768839856823295,0.05016224397949042,0.1548964705809948,0.5424897831200669,0.5502147403956874,0.8714294287185045,1.0184114612929056,1.100450120584459],\"type\":\"scatter\"}],\"name\":\"229\"},{\"data\":[{\"marker\":{\"color\":[\"red\",\"red\",\"red\",\"blue\",\"blue\",\"green\",\"green\",\"green\"]},\"mode\":\"markers\",\"x\":[0.4513079828805047,0.8353517656687841,0.4399158730845138,0.6292890668113061,0.6202393162899483,0.6895470704453528,0.7550168099845368,0.351521652844853],\"y\":[-0.12196375537390312,0.06733782562289749,0.1683013425559712,0.5406442094868994,0.5341943774452311,0.8658072488255897,0.9844162814822214,1.1316283200589696],\"type\":\"scatter\"}],\"name\":\"230\"},{\"data\":[{\"marker\":{\"color\":[\"red\",\"red\",\"red\",\"blue\",\"blue\",\"green\",\"green\",\"green\"]},\"mode\":\"markers\",\"x\":[0.4552359743570757,0.8348192412025424,0.44147622193718417,0.6274363704618987,0.624772092441482,0.694773285519614,0.7499466338430354,0.343729718246967],\"y\":[-0.1315631119998162,0.06464272905823318,0.18522427603167327,0.5198297671558292,0.5338036813890208,0.862891644883315,0.9836873217431473,1.1518495418424772],\"type\":\"scatter\"}],\"name\":\"231\"},{\"data\":[{\"marker\":{\"color\":[\"red\",\"red\",\"red\",\"blue\",\"blue\",\"green\",\"green\",\"green\"]},\"mode\":\"markers\",\"x\":[0.4574529521272911,0.8494752209182876,0.45028302407064624,0.6024259991649472,0.6250595795534746,0.7006139043749453,0.728409093686539,0.358469764113668],\"y\":[-0.08713066384274161,0.03764547416518789,0.18049825212580278,0.5017481769555938,0.5217226308071437,0.8951591878703077,0.9754741641885614,1.1452486278340277],\"type\":\"scatter\"}],\"name\":\"232\"},{\"data\":[{\"marker\":{\"color\":[\"red\",\"red\",\"red\",\"blue\",\"blue\",\"green\",\"green\",\"green\"]},\"mode\":\"markers\",\"x\":[0.44918640241950886,0.8806842111701109,0.45387257827114136,0.6051656901779566,0.6071435996423242,0.696280690997417,0.7358145980486521,0.34404176728268515],\"y\":[-0.0897498526139293,0.007752707529634532,0.21257131304033064,0.5105427975096255,0.5212604061362012,0.8985005708300031,0.9517819947973591,1.1577059128746583],\"type\":\"scatter\"}],\"name\":\"233\"},{\"data\":[{\"marker\":{\"color\":[\"red\",\"red\",\"red\",\"blue\",\"blue\",\"green\",\"green\",\"green\"]},\"mode\":\"markers\",\"x\":[0.4475720871026128,0.8923134994561183,0.42470039332549797,0.6080618603705505,0.6086396958097142,0.6985520964101211,0.721129058700116,0.3712208468350632],\"y\":[-0.0763313613790517,0.010586769071443286,0.17459211520910792,0.5275164112565581,0.5316789756026955,0.9102669311081623,0.965031606382309,1.1270244028526586],\"type\":\"scatter\"}],\"name\":\"234\"},{\"data\":[{\"marker\":{\"color\":[\"red\",\"red\",\"red\",\"blue\",\"blue\",\"green\",\"green\",\"green\"]},\"mode\":\"markers\",\"x\":[0.45325583905393924,0.8662578617210681,0.4153568149505525,0.611705134886281,0.6141891457542148,0.6893498907953812,0.7243369087088077,0.39773794213954744],\"y\":[-0.08707741227069067,0.042610031154286875,0.14678800936302805,0.5391354293128764,0.5304164298687949,0.9112390134476386,0.9930543625754847,1.0941999866524657],\"type\":\"scatter\"}],\"name\":\"235\"},{\"data\":[{\"marker\":{\"color\":[\"red\",\"red\",\"red\",\"blue\",\"blue\",\"green\",\"green\",\"green\"]},\"mode\":\"markers\",\"x\":[0.4536270384599985,0.8663224411714511,0.4358206175866772,0.6005060396762775,0.6037194520360059,0.693937636882617,0.7345816651203916,0.3836746470763764],\"y\":[-0.06918703546517992,0.030336271452850266,0.15205381388750444,0.5227465130523139,0.5266989001530425,0.9088072705030449,0.9923589719413405,1.1065511445789673],\"type\":\"scatter\"}],\"name\":\"236\"},{\"data\":[{\"marker\":{\"color\":[\"red\",\"red\",\"red\",\"blue\",\"blue\",\"green\",\"green\",\"green\"]},\"mode\":\"markers\",\"x\":[0.44796797719021714,0.8550232331009662,0.4377922380908574,0.6041100070379836,0.6111620540418862,0.6954142146755603,0.7425822873384055,0.37813752653391686],\"y\":[-0.05729259474739737,0.054756893566565934,0.11994647720396874,0.5083135384770792,0.5221361540606047,0.9180597141509368,0.992539316615776,1.111906350776346],\"type\":\"scatter\"}],\"name\":\"237\"},{\"data\":[{\"marker\":{\"color\":[\"red\",\"red\",\"red\",\"blue\",\"blue\",\"green\",\"green\",\"green\"]},\"mode\":\"markers\",\"x\":[0.43971709684856436,0.8589605794030709,0.43576511394183876,0.6062537465627916,0.6101843682499604,0.6799366777499608,0.75046035655698,0.3909115986966257],\"y\":[-0.0879186325712361,0.05829300824898212,0.1518311079732706,0.4994655681083248,0.5385729424452409,0.9160874653579598,1.0101932035785768,1.0838411869627618],\"type\":\"scatter\"}],\"name\":\"238\"},{\"data\":[{\"marker\":{\"color\":[\"red\",\"red\",\"red\",\"blue\",\"blue\",\"green\",\"green\",\"green\"]},\"mode\":\"markers\",\"x\":[0.450140339205515,0.8514228877808474,0.43225617763248214,0.606873121503541,0.6028768337770103,0.6722191439486531,0.7734612837020585,0.3829397504596848],\"y\":[-0.08178310252572614,0.06229097366702342,0.1518423695946833,0.5029163588170749,0.5070835557751158,0.9008668243301173,1.0389862419065603,1.088162628539035],\"type\":\"scatter\"}],\"name\":\"239\"},{\"data\":[{\"marker\":{\"color\":[\"red\",\"red\",\"red\",\"blue\",\"blue\",\"green\",\"green\",\"green\"]},\"mode\":\"markers\",\"x\":[0.4561306170530532,0.8407889669256163,0.4472737713048463,0.6001295860797592,0.6013271612308401,0.6600294405685057,0.7910124510956995,0.3754975437514719],\"y\":[-0.08583916344760235,0.049022786048767066,0.17321142973452414,0.5118689952840726,0.5069508446563218,0.8680133194805155,1.063989771262216,1.083147867085069],\"type\":\"scatter\"}],\"name\":\"240\"},{\"data\":[{\"marker\":{\"color\":[\"red\",\"red\",\"red\",\"blue\",\"blue\",\"green\",\"green\",\"green\"]},\"mode\":\"markers\",\"x\":[0.45189453103993366,0.8411566742125255,0.4494121989218354,0.6001949893739584,0.601702465571412,0.6565228050157318,0.7879748454206192,0.3833310284537763],\"y\":[-0.10377856199351423,0.0531334597908069,0.16286102142722675,0.5509061240343391,0.5216269107900589,0.8641227499328201,1.046581324140643,1.074912821981498],\"type\":\"scatter\"}],\"name\":\"241\"},{\"data\":[{\"marker\":{\"color\":[\"red\",\"red\",\"red\",\"blue\",\"blue\",\"green\",\"green\",\"green\"]},\"mode\":\"markers\",\"x\":[0.45151842649484364,0.7997598597193344,0.4669577372423828,0.6158171805577617,0.6146144954832015,0.6644560585740938,0.7940780854093957,0.3649876945287834],\"y\":[-0.12419040425859636,0.08815709262376026,0.13781113348650836,0.5300798239019295,0.5295091325975445,0.8697064864347612,1.0424390763397553,1.0968535089782157],\"type\":\"scatter\"}],\"name\":\"242\"},{\"data\":[{\"marker\":{\"color\":[\"red\",\"red\",\"red\",\"blue\",\"blue\",\"green\",\"green\",\"green\"]},\"mode\":\"markers\",\"x\":[0.4493626955466599,0.8031478725266364,0.4657752789411356,0.6186958282862207,0.6143672243450328,0.6582446603149342,0.8137605225018497,0.34883545554733125],\"y\":[-0.11928291572819823,0.09650875592474054,0.1434645581202406,0.5247392530579417,0.5207646124784634,0.8442006478098681,1.0564412145619295,1.1035297238788886],\"type\":\"scatter\"}],\"name\":\"243\"},{\"data\":[{\"marker\":{\"color\":[\"red\",\"red\",\"red\",\"blue\",\"blue\",\"green\",\"green\",\"green\"]},\"mode\":\"markers\",\"x\":[0.45846552026230974,0.8101007577005231,0.4448555090816486,0.6180914245291244,0.6104154488512292,0.6669304769605656,0.8218323433615393,0.341498057262862],\"y\":[-0.08952153108110207,0.10005100426281194,0.11980207701837743,0.5256962462568279,0.5161880610711327,0.8592098059652564,1.0505453551787576,1.0883948314318135],\"type\":\"scatter\"}],\"name\":\"244\"},{\"data\":[{\"marker\":{\"color\":[\"red\",\"red\",\"red\",\"blue\",\"blue\",\"green\",\"green\",\"green\"]},\"mode\":\"markers\",\"x\":[0.46387388735725926,0.7945864883655024,0.43943118231738304,0.6233271879245063,0.6281486810207427,0.6758199213200903,0.8092024827432438,0.33779970696107353],\"y\":[-0.09274282520934118,0.12034376946884173,0.09610224361650911,0.5249628148775133,0.5270857472568911,0.8469664884859305,1.0399121501054018,1.1077354615021304],\"type\":\"scatter\"}],\"name\":\"245\"}]);\n",
       "                        }).then(function(){\n",
       "                            \n",
       "var gd = document.getElementById('69140f1b-85f7-406a-a59d-3506c29569ae');\n",
       "var x = new MutationObserver(function (mutations, observer) {{\n",
       "        var display = window.getComputedStyle(gd).display;\n",
       "        if (!display || display === 'none') {{\n",
       "            console.log([gd, 'removed!']);\n",
       "            Plotly.purge(gd);\n",
       "            observer.disconnect();\n",
       "        }}\n",
       "}});\n",
       "\n",
       "// Listen for the removal of the full notebook cells\n",
       "var notebookContainer = gd.closest('#notebook-container');\n",
       "if (notebookContainer) {{\n",
       "    x.observe(notebookContainer, {childList: true});\n",
       "}}\n",
       "\n",
       "// Listen for the clearing of the current output cell\n",
       "var outputEl = gd.closest('.output');\n",
       "if (outputEl) {{\n",
       "    x.observe(outputEl, {childList: true});\n",
       "}}\n",
       "\n",
       "                        })                };                });            </script>        </div>"
      ]
     },
     "metadata": {},
     "output_type": "display_data"
    }
   ],
   "source": [
    "color_list = labels2colors(env.trueLabel())\n",
    "color_list, neuron_group.log.shape\n",
    "\n",
    "fig = create_trace_plot(neuron_group.log[::1000], colors = color_list)\n",
    "fig.show()"
   ]
  },
  {
   "cell_type": "code",
   "execution_count": null,
   "metadata": {},
   "outputs": [
    {
     "data": {
      "text/plain": [
       "2.718281828459045"
      ]
     },
     "execution_count": null,
     "metadata": {},
     "output_type": "execute_result"
    }
   ],
   "source": [
    "np.e"
   ]
  },
  {
   "cell_type": "code",
   "execution_count": null,
   "metadata": {},
   "outputs": [],
   "source": [
    "a0 = np.arange(0,8,0.1)\n",
    "plt.plot(a0, np.exp(-a0))\n",
    "plt.vlines(np.e, 0, 1, colors = 'red')\n",
    "plt.vlines(1, 0, 1, colors = 'green')"
   ]
  },
  {
   "cell_type": "code",
   "execution_count": null,
   "metadata": {},
   "outputs": [],
   "source": [
    "np.exp(-np.e)"
   ]
  },
  {
   "cell_type": "markdown",
   "metadata": {},
   "source": [
    "## other"
   ]
  },
  {
   "cell_type": "code",
   "execution_count": null,
   "metadata": {},
   "outputs": [],
   "source": [
    "#| hide\n",
    "import nbdev; nbdev.nbdev_export()"
   ]
  }
 ],
 "metadata": {
  "kernelspec": {
   "display_name": "python3",
   "language": "python",
   "name": "python3"
  }
 },
 "nbformat": 4,
 "nbformat_minor": 4
}
