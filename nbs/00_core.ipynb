{
 "cells": [
  {
   "cell_type": "markdown",
   "metadata": {},
   "source": [
    "# SyncMap-core\n",
    "\n",
    "> The core of SynCMap"
   ]
  },
  {
   "cell_type": "code",
   "execution_count": null,
   "metadata": {},
   "outputs": [],
   "source": [
    "#| default_exp core"
   ]
  },
  {
   "cell_type": "code",
   "execution_count": null,
   "metadata": {},
   "outputs": [],
   "source": [
    "#| export\n",
    "import pandas as pd\n",
    "\n",
    "import numpy as np\n",
    "import math\n",
    "import matplotlib.pyplot as plt\n",
    "import seaborn as sns\n",
    "from sklearn.cluster import DBSCAN\n",
    "from scipy.spatial import distance\n",
    "from scipy.stats import entropy\n",
    "from sklearn.metrics import normalized_mutual_info_score, pairwise_distances\n",
    "from tqdm import tqdm\n",
    "import copy\n",
    "from collections import deque\n",
    "from sklearn.manifold import TSNE\n",
    "\n",
    "import sys\n",
    "# sys.path.insert(0, '../')\n",
    "# 如果没有 pip install -e . 下面一行就不会成功\n",
    "from SyncMap_Draft.utility import OverlapChunkTest1, to_categorical, compute_combi_dist, reduce_dimension_with_tsne, create_trace_plot, labels2colors\n",
    "\n",
    "from SyncMap_Draft.processor import GraphProcessor, WorkingMemProcessor, Readout\n",
    "from scipy.stats import wasserstein_distance\n",
    "\n",
    "from fastcore.utils import *\n",
    "\n",
    "import time\n",
    "import warnings\n",
    "\n",
    "np.set_printoptions(suppress=True)  # disable scientific notation\n",
    "# from plotly.subplots import make_subplots\n",
    "# import plotly.graph_objs as go\n",
    "# import fastcore.all as fc  # patch会报错\n",
    "# from ipywidgets import widgets\n",
    "# from IPython.display import display"
   ]
  },
  {
   "cell_type": "markdown",
   "metadata": {},
   "source": [
    "## original syncmap"
   ]
  },
  {
   "cell_type": "code",
   "execution_count": null,
   "metadata": {},
   "outputs": [],
   "source": [
    "#| export\n",
    "class SyncMap:\n",
    "\t'''\n",
    "\tThe original syncmap\n",
    "\t'''\n",
    "\tdef __init__(self, input_size, dimensions, adaptation_rate):\n",
    "\t\t\n",
    "\t\tself.organized= False\n",
    "\t\tself.space_size= 10\n",
    "\t\tself.dimensions= dimensions\n",
    "\t\tself.input_size= input_size\n",
    "\t\t#syncmap= np.zeros((input_size,dimensions))\n",
    "\t\tnp.random.seed(42)\n",
    "\t\tself.syncmap= np.random.rand(input_size,dimensions)\n",
    "\t\tself.adaptation_rate= adaptation_rate\n",
    "\t\tself.total_activation= np.zeros(input_size)\n",
    "\t\t#self.syncmap= np.random.rand(dimensions, input_size)\n",
    "\t\n",
    "\tdef inputGeneral(self, x):\n",
    "\t\tplus= x > 0.1\n",
    "\t\tminus = ~ plus\n",
    "\n",
    "\t\tsequence_size = x.shape[0]\n",
    "\t\t#print(sequence_size, \"asfasdfasdfasd\")\n",
    "\t\tfor i in range(sequence_size):\n",
    "\t\t\t\n",
    "\t\t\tvplus= plus[i,:]\n",
    "\t\t\tvminus= minus[i,:]\n",
    "\t\t\tplus_mass = vplus.sum()\n",
    "\t\t\tminus_mass = vminus.sum()\n",
    "\t\t\tself.total_activation+= vplus.astype(int)\n",
    "\t\t\t# self.total_activation-= vminus.astype(int)\n",
    "\t\t\t#print(plus_mass)\n",
    "\t\t\t#print(minus_mass)\n",
    "\t\t\t\n",
    "\t\t\tif plus_mass <= 1:\n",
    "\t\t\t\tcontinue\n",
    "\t\t\t\n",
    "\t\t\tif minus_mass <= 1:\n",
    "\t\t\t\tcontinue\n",
    "\n",
    "\t\t\t#print(\"vplus\")\n",
    "\t\t\t#print(vplus)\n",
    "\t\t\t# np.dot(vplus,self.syncmap): syncmap的每个分量（1~8）在vplus中的贡献（投影）\n",
    "\t\t\tcenter_plus= np.dot(vplus,self.syncmap)/plus_mass\n",
    "\t\t\tcenter_minus= np.dot(vminus,self.syncmap)/minus_mass\n",
    "\t\t\n",
    "\t\t\t#print(self.syncmap.shape)\n",
    "\t\t\t#exit()\n",
    "\t\t\tdist_plus= distance.cdist(center_plus[None,:], self.syncmap, 'euclidean') # 质心到每个点的距离，相当于cluster的半径？\n",
    "\t\t\tdist_minus= distance.cdist(center_minus[None,:], self.syncmap, 'euclidean')\n",
    "\t\t\tdist_plus= np.transpose(dist_plus)\n",
    "\t\t\tdist_minus= np.transpose(dist_minus)\n",
    "\t\t\t\n",
    "\t\t\tupdate_plus= vplus[:,np.newaxis]*((center_plus - self.syncmap)/dist_plus)# + (self.syncmap - center_minus)/dist_minus)\n",
    "\t\t\tupdate_minus= vminus[:,np.newaxis]*((center_minus -self.syncmap)/dist_minus)\n",
    "\t\t\t\n",
    "\t\t\tupdate = update_plus - update_minus\n",
    "\t\t\tself.syncmap += self.adaptation_rate*update\n",
    "\t\t\t\n",
    "\t\t\tmaximum=self.syncmap.max()\n",
    "\t\t\tself.syncmap= self.space_size*self.syncmap/maximum\n",
    "\t\t\t\n",
    "\t\t# self.total_activation= self.total_activation/sequence_size\n",
    "\t\t\n",
    "\t\t# self.syncmap = self.syncmap * self.total_activation[:, np.newaxis]\n",
    "\n",
    "\n",
    "\tdef input(self, x):\n",
    "\t\t\n",
    "\t\tself.inputGeneral(x)\n",
    "\n",
    "\t\treturn\n",
    "\n",
    "\t\t\t\n",
    "\tdef organize(self):\n",
    "\t\n",
    "\t\tself.organized= True\n",
    "\t\t#self.labels= DBSCAN(eps=3, min_samples=2).fit_predict(self.syncmap)\n",
    "\t\t# self.labels= DBSCAN(eps=3, min_samples=2).fit_predict(self.syncmap)\n",
    "\t\tself.labels= DBSCAN(eps=0.8, min_samples=2).fit_predict(self.syncmap)\n",
    "\n",
    "\t\treturn self.labels\n",
    "\n",
    "\tdef activate(self, x):\n",
    "\t\t'''\n",
    "\t\tReturn the label of the index with maximum input value\n",
    "\t\t'''\n",
    "\n",
    "\t\tif self.organized == False:\n",
    "\t\t\tprint(\"Activating a non-organized SyncMap\")\n",
    "\t\t\treturn\n",
    "\t\t\n",
    "\t\t#maximum output\n",
    "\t\tmax_index= np.argmax(x)\n",
    "\n",
    "\t\treturn self.labels[max_index]\n",
    "\n",
    "\tdef plotSequence(self, input_sequence, input_class,filename=\"plot.png\"):\n",
    "\n",
    "\t\tinput_sequence= input_sequence[1:500]\n",
    "\t\tinput_class= input_class[1:500]\n",
    "\n",
    "\t\ta= np.asarray(input_class)\n",
    "\t\tt = [i for i,value in enumerate(a)]\n",
    "\t\tc= [self.activate(x) for x in input_sequence] \n",
    "\t\t\n",
    "\n",
    "\t\tplt.plot(t, a, '-g')\n",
    "\t\tplt.plot(t, c, '-.k')\n",
    "\t\t#plt.ylim([-0.01,1.2])\n",
    "\n",
    "\n",
    "\t\t# plt.savefig(filename,quality=1, dpi=300)\n",
    "\t\tplt.show()\n",
    "\t\tplt.close()\n",
    "\t\n",
    "\n",
    "\tdef plot(self, color=None, save = False, filename= \"plot_map.png\"):\n",
    "\n",
    "\t\tif color is None:\n",
    "\t\t\tcolor= self.labels\n",
    "\t\t\n",
    "\t\tprint(self.syncmap)\n",
    "\t\t#print(self.syncmap)\n",
    "\t\t#print(self.syncmap[:,0])\n",
    "\t\t#print(self.syncmap[:,1])\n",
    "\t\tif self.dimensions == 2:\n",
    "\t\t\t#print(type(color))\n",
    "\t\t\t#print(color.shape)\n",
    "\t\t\tax= plt.scatter(self.syncmap[:,0],self.syncmap[:,1], c=color)\n",
    "\t\t\t\n",
    "\t\tif self.dimensions == 3:\n",
    "\t\t\tfig = plt.figure()\n",
    "\t\t\tax = plt.axes(projection='3d')\n",
    "\n",
    "\t\t\tax.scatter3D(self.syncmap[:,0],self.syncmap[:,1], self.syncmap[:,2], c=color);\n",
    "\t\t\t#ax.plot3D(self.syncmap[:,0],self.syncmap[:,1], self.syncmap[:,2])\n",
    "\t\t\n",
    "\t\tif save == True:\n",
    "\t\t\tplt.savefig(filename)\n",
    "\t\t\n",
    "\t\tplt.show()\n",
    "\t\tplt.close()"
   ]
  },
  {
   "cell_type": "markdown",
   "metadata": {},
   "source": [
    "### compute generative probability"
   ]
  },
  {
   "cell_type": "code",
   "execution_count": null,
   "metadata": {},
   "outputs": [],
   "source": [
    "#| export\n",
    "# extract data from parameter space\n",
    "\n",
    "@patch\n",
    "def generate_activity_probs(self:SyncMap, sample_x = 0, sample_y = 0, err = 1e-4):\n",
    "    '''\n",
    "    Generate the activity probabilities of each variable in syncmap\n",
    "    return: np.array, shape = (self.output_size, )\n",
    "    '''\n",
    "    sample_cord = np.array([sample_x, sample_y])\n",
    "    # probs = np.zeros(self.output_size)\n",
    "    weight_dist = compute_combi_dist(self.syncmap)\n",
    "    pos = np.where(weight_dist == weight_dist.max())[0]\n",
    "    # tau = -weight_dist[*pos] / np.log(err)  # set tau to make the smallest prob to be err\n",
    "    tau = -weight_dist.__getitem__(tuple(pos)) / np.log(err)\n",
    "    # probs = np.exp(-weight_dist / tau)  \n",
    "    sample_dist = ((self.syncmap - sample_cord) ** 2 ).sum(axis = -1)\n",
    "    sample_probs = np.exp(-sample_dist / tau)\n",
    "    return sample_probs\n",
    "\n",
    "@patch\n",
    "def plot_activity_maps(self:SyncMap, x = 0, y = 0):\n",
    "    fig, axs = plt.subplots(1, 2, figsize = (10, 5))\n",
    "    sample_probs = self.generate_activity_probs(x, y)\n",
    "    axs[0].scatter(self.syncmap[:, 0], self.syncmap[:, 1], color = 'blue')\n",
    "    axs[0].scatter(x, y, color = 'red')\n",
    "    axs[0].set_xlim(self.syncmap.min()-0.5, self.syncmap.max()+0.5)\n",
    "    axs[0].set_ylim(self.syncmap.min()-0.5, self.syncmap.max()+0.5)\n",
    "    sns.barplot(sample_probs, ax = axs[1])\n",
    "    print(sample_probs)\n",
    "    plt.show()\n",
    "\n",
    "# SyncMap.generate_activity_probs = generate_activity_probs\n",
    "# SyncMap.plot_activity_maps = plot_activity_maps"
   ]
  },
  {
   "cell_type": "code",
   "execution_count": null,
   "metadata": {},
   "outputs": [
    {
     "name": "stdout",
     "output_type": "stream",
     "text": [
      "Adaptation rate: 0.008\n"
     ]
    }
   ],
   "source": [
    "# initialize the environment\n",
    "time_delay = 10\n",
    "env = OverlapChunkTest1(time_delay)\n",
    "output_size = env.getOutputSize()\n",
    "output_size\n",
    "\n",
    "# sequence_length = 1000000\n",
    "sequence_length = 10000\n",
    "\n",
    "####### SyncMap #####\n",
    "number_of_nodes= output_size\n",
    "adaptation_rate= 0.001*output_size\n",
    "print(\"Adaptation rate:\", adaptation_rate)\n",
    "map_dimensions= 2\n",
    "neuron_group= SyncMap(number_of_nodes, map_dimensions, adaptation_rate)\n",
    "input_sequence, input_class = env.getSequence(sequence_length)"
   ]
  },
  {
   "cell_type": "code",
   "execution_count": null,
   "metadata": {},
   "outputs": [
    {
     "name": "stdout",
     "output_type": "stream",
     "text": [
      "Learned Labels:  [ 0 -1  0  0  0  1  1 -1]\n",
      "Correct Labels:  [0 0 0 1 1 2 2 2]\n"
     ]
    }
   ],
   "source": [
    "neuron_group.input(input_sequence)\n",
    "labels= neuron_group.organize()\n",
    "\n",
    "print(\"Learned Labels: \",labels)\n",
    "print(\"Correct Labels: \",env.trueLabel())"
   ]
  },
  {
   "cell_type": "code",
   "execution_count": null,
   "metadata": {},
   "outputs": [],
   "source": [
    "neuron_group.syncmap"
   ]
  },
  {
   "cell_type": "code",
   "execution_count": null,
   "metadata": {},
   "outputs": [],
   "source": []
  },
  {
   "cell_type": "code",
   "execution_count": null,
   "metadata": {},
   "outputs": [],
   "source": [
    "np.random.seed(42)\n",
    "SyncMap_weight = np.random.rand(output_size, map_dimensions)\n",
    "plt.scatter(SyncMap_weight[:, 0], SyncMap_weight[:, 1])"
   ]
  },
  {
   "cell_type": "code",
   "execution_count": null,
   "metadata": {},
   "outputs": [],
   "source": [
    "np.random.seed(42)\n",
    "output_size = 8\n",
    "map_dimensions = 2\n",
    "SyncMap_weight = np.random.rand(output_size, map_dimensions)\n",
    "\n",
    "# Create an array of colors, one for each point\n",
    "# colors = np.random.rand(output_size)\n",
    "\n",
    "plt.scatter(SyncMap_weight[:, 0], SyncMap_weight[:, 1], c=['red', 'red', 'red', 'blue', 'blue', 'black', 'black', 'black'])\n",
    "# legend\n",
    "plt.colorbar()\n",
    "plt.show()"
   ]
  },
  {
   "cell_type": "code",
   "execution_count": null,
   "metadata": {},
   "outputs": [],
   "source": [
    "np.random.seed(41)\n",
    "output_size = 8\n",
    "map_dimensions = 2\n",
    "SyncMap_weight = np.random.rand(output_size, map_dimensions)\n",
    "\n",
    "# Create an array of colors, one for each point\n",
    "# colors = np.random.rand(output_size)\n",
    "\n",
    "plt.scatter(SyncMap_weight[:, 0], SyncMap_weight[:, 1], c=['red', 'red', 'red', 'blue', 'blue', 'black', 'black', 'black'])\n",
    "# legend\n",
    "plt.colorbar()\n",
    "plt.show()"
   ]
  },
  {
   "cell_type": "code",
   "execution_count": null,
   "metadata": {},
   "outputs": [],
   "source": [
    "plt.scatter(neuron_group.syncmap[:, 0], neuron_group.syncmap[:, 1], color = 'red')"
   ]
  },
  {
   "cell_type": "code",
   "execution_count": null,
   "metadata": {},
   "outputs": [],
   "source": [
    "neuron_group.syncmap"
   ]
  },
  {
   "cell_type": "code",
   "execution_count": null,
   "metadata": {},
   "outputs": [],
   "source": [
    "neuron_group.generate_activity_probs(sample_x = 0, sample_y = 0)"
   ]
  },
  {
   "cell_type": "code",
   "execution_count": null,
   "metadata": {},
   "outputs": [],
   "source": [
    "neuron_group.plot_activity_maps(x = 1, y = -2.5)"
   ]
  },
  {
   "cell_type": "code",
   "execution_count": null,
   "metadata": {},
   "outputs": [],
   "source": [
    "a = np.around(compute_combi_dist(neuron_group.syncmap), decimals = 4) \n",
    "a"
   ]
  },
  {
   "cell_type": "code",
   "execution_count": null,
   "metadata": {},
   "outputs": [],
   "source": [
    "b = np.around(np.exp(-a), decimals = 4)\n",
    "b"
   ]
  },
  {
   "cell_type": "code",
   "execution_count": null,
   "metadata": {},
   "outputs": [],
   "source": [
    "pos = np.where(a == a.max())[0]\n",
    "pos, a.__getitem__(tuple(pos)), a[pos]"
   ]
  },
  {
   "cell_type": "code",
   "execution_count": null,
   "metadata": {},
   "outputs": [],
   "source": []
  },
  {
   "cell_type": "markdown",
   "metadata": {},
   "source": [
    "### generate data from generative probability"
   ]
  },
  {
   "cell_type": "code",
   "execution_count": null,
   "metadata": {},
   "outputs": [],
   "source": [
    "#| export\n",
    "@patch\n",
    "def extract_act_var(self:SyncMap, sample_x = 0, sample_y = 0, err = 1e-4):\n",
    "    '''\n",
    "    check if there is any activated variables\n",
    "    '''\n",
    "    probs = self.generate_activity_probs(sample_x, sample_y, err)  # Dim: d\n",
    "    sampled_vars = np.random.binomial(1, probs)  # Dim: d\n",
    "    # due to there is only 1 variables should be activated, we randomly choose one\n",
    "    sampled_vars_idx = np.where(sampled_vars)[0]\n",
    "    if len(sampled_vars_idx) == 0:\n",
    "        return None \n",
    "    else:\n",
    "        sampled_var = np.random.choice(sampled_vars_idx)\n",
    "        return sampled_var\n",
    "\n",
    "\n",
    "@patch\n",
    "def create_element(self:SyncMap, sampled_var, env):\n",
    "    '''\n",
    "    create an element of the time series of the sampled variable\n",
    "    '''\n",
    "    tiny_series = np.zeros(env.output_size)\n",
    "    if sampled_var is None:\n",
    "        return tiny_series\n",
    "    else:\n",
    "        tiny_series[sampled_var] = 1\n",
    "        return tiny_series\n",
    "\n",
    "\n",
    "@patch\n",
    "def create_series(self:SyncMap, x, y, env, seq_len = 1000):\n",
    "    '''\n",
    "    generate time series data\n",
    "    '''\n",
    "    time_series = []\n",
    "    for _ in range(seq_len):\n",
    "        sampled_var = self.extract_act_var(sample_x = x, sample_y = y)\n",
    "        tiny_series = self.create_element(sampled_var, env)\n",
    "        time_series.append(tiny_series)\n",
    "    return np.array(time_series)"
   ]
  },
  {
   "cell_type": "code",
   "execution_count": null,
   "metadata": {},
   "outputs": [],
   "source": [
    "(env.time_delay, env.output_size)"
   ]
  },
  {
   "cell_type": "code",
   "execution_count": null,
   "metadata": {},
   "outputs": [],
   "source": [
    "neuron_group.extract_act_var(1, -2.5)"
   ]
  },
  {
   "cell_type": "code",
   "execution_count": null,
   "metadata": {},
   "outputs": [],
   "source": [
    "neuron_group.create_series(x = 1, y = -2.5, env = env)"
   ]
  },
  {
   "cell_type": "markdown",
   "metadata": {},
   "source": [
    "#### input data pattern"
   ]
  },
  {
   "cell_type": "markdown",
   "metadata": {},
   "source": [
    "- chrunk 0: the variable `0, 1, 2, 3, 4` could be activated\n",
    "- chrunk 1: the variable `3, 4, 5, 6 ,7` could be activated"
   ]
  },
  {
   "cell_type": "code",
   "execution_count": null,
   "metadata": {},
   "outputs": [],
   "source": [
    "temp_sequence = input_sequence.copy()\n",
    "temp_sequence[temp_sequence < 0.999] = 0\n",
    "# temp_sequence[temp_sequence == 1] = 0"
   ]
  },
  {
   "cell_type": "code",
   "execution_count": null,
   "metadata": {},
   "outputs": [],
   "source": [
    "env.plot_raw_data(input_sequence, input_class)"
   ]
  },
  {
   "cell_type": "markdown",
   "metadata": {},
   "source": [
    "#### chunk 0"
   ]
  },
  {
   "cell_type": "code",
   "execution_count": null,
   "metadata": {},
   "outputs": [],
   "source": [
    "env.plot_raw_data(temp_sequence[input_class==0, :], input_class[input_class==0])"
   ]
  },
  {
   "cell_type": "markdown",
   "metadata": {},
   "source": [
    "#### chunk 1"
   ]
  },
  {
   "cell_type": "code",
   "execution_count": null,
   "metadata": {},
   "outputs": [],
   "source": [
    "env.plot_raw_data(temp_sequence[input_class==1, :], input_class[input_class==1])"
   ]
  },
  {
   "cell_type": "markdown",
   "metadata": {},
   "source": [
    "#### generated"
   ]
  },
  {
   "cell_type": "code",
   "execution_count": null,
   "metadata": {},
   "outputs": [],
   "source": [
    "env.plot_raw_data(\n",
    "    values = neuron_group.create_series(x = 1, y = -2.5, env = env, seq_len = 1000),\n",
    "    labels = None\n",
    "    )"
   ]
  },
  {
   "cell_type": "markdown",
   "metadata": {},
   "source": [
    "## symmetrical syncmap"
   ]
  },
  {
   "cell_type": "code",
   "execution_count": null,
   "metadata": {},
   "outputs": [],
   "source": [
    "#| export\n",
    "class SymmetricalSyncMap:\n",
    "    def __init__(self, input_size, dimensions=3, \n",
    "                adaptation_rate=0.1, space_scale=1.0, space_bound=None,\n",
    "                leaking_rate=1.0, dropout_positive=0.0, dropout_negative=0.0,\n",
    "                movmean_window=1000, movmean_interval=10,\n",
    "                is_symmetrical_activation=False, number_of_selected_node=None,\n",
    "                is_adaptive_LR=False, adaptive_LR_widrow_hoff=0.1):\n",
    "        self.input_size = input_size\n",
    "        self.dimensions = dimensions\n",
    "        self.adaptation_rate = adaptation_rate\n",
    "        self.space_scale = space_scale\n",
    "        self.space_scale_dimensions_sqrt = space_scale * np.sqrt(dimensions)\n",
    "        self.space_bound = space_bound\n",
    "        self.leaking_rate = leaking_rate\n",
    "        self.dropout_positive = dropout_positive\n",
    "        self.dropout_negative = dropout_negative\n",
    "\n",
    "        # initialize the sync map\n",
    "        np.random.seed(42)\n",
    "        self.syncmap = np.random.rand(self.input_size, self.dimensions) * self.space_scale\n",
    "        self.syncmap = ((self.syncmap - np.mean(self.syncmap, axis=0)) / (np.std(self.syncmap, axis=0) + 1e-12)) * self.space_scale\n",
    "\n",
    "        self.syncmap_movmean_list = deque(maxlen=movmean_window)\n",
    "        self.syncmap_movmean = self.syncmap.copy()\n",
    "        self.movmean_interval = movmean_interval\n",
    "\n",
    "        # symmetrical activation\n",
    "        self.is_symmetrical_activation = is_symmetrical_activation\n",
    "        self.number_of_selected_node = number_of_selected_node\n",
    "\n",
    "        # adaptive learning rate\n",
    "        self.is_adaptive_LR = is_adaptive_LR\n",
    "        self.adaptive_LR = 1\n",
    "        self.adaptive_LR_widrow_hoff = adaptive_LR_widrow_hoff\n",
    "\n",
    "        self.fit_log = []\n",
    "\n",
    "\n",
    "    @property\n",
    "    def log(self):\n",
    "        return np.asarray(self.fit_log)\n",
    "\n",
    "    def input_sequential(self, input_seq, current_state=None, Verbose_tqdm=True):\n",
    "        # start processing\n",
    "        if Verbose_tqdm:\n",
    "            verbose = tqdm # use tqdm\n",
    "        else:\n",
    "            verbose = lambda x: x # do not use tqdm\n",
    "\n",
    "        for i_state in verbose(range(len(input_seq))):\n",
    "            state = input_seq[i_state]\n",
    "            # current_state_idx = current_state[i_state] if current_state is not None else None\n",
    "            self.adapt_chunking(input_state_vec=state)\n",
    "            if i_state % self.movmean_interval == 0 or i_state == len(input_seq) - 1:\n",
    "                self.syncmap_movmean_list.append(self.syncmap.copy())\n",
    "\n",
    "        self.syncmap_movmean = np.mean(np.asarray(self.syncmap_movmean_list), axis=0)\n",
    "\n",
    "\n",
    "    def adapt_chunking(self, input_state_vec):\n",
    "\n",
    "        syncmap_previous = self.syncmap.copy()\n",
    "\n",
    "        set_positive = input_state_vec == True\n",
    "        set_negative = input_state_vec == False\n",
    "\n",
    "        # symmetrical activation\n",
    "        if self.is_symmetrical_activation:\n",
    "            set_positive, set_negative = self.symmetrical_activation(set_positive.copy())\n",
    "\n",
    "        if set_positive.sum() <= 1 or set_negative.sum() <= 1:\n",
    "            return syncmap_previous\n",
    "\n",
    "        centroid_positive = np.dot(set_positive, self.syncmap) / set_positive.sum()\n",
    "        centroid_negative = np.dot(set_negative, self.syncmap) / set_negative.sum()\n",
    "\n",
    "        dist_set2centroid_positive = distance.cdist(centroid_positive[None, :], self.syncmap, 'euclidean').T\n",
    "        dist_set2centroid_negative = distance.cdist(centroid_negative[None, :], self.syncmap, 'euclidean').T\n",
    "\n",
    "        # get dropout mask\n",
    "        isDropout_positive = np.random.rand() > self.dropout_positive\n",
    "        isDropout_negative = np.random.rand() > self.dropout_negative\n",
    "\n",
    "        # update syncmap\n",
    "        update_positive = set_positive[:, np.newaxis] * (centroid_positive - self.syncmap) / dist_set2centroid_positive\n",
    "        update_negative = set_negative[:, np.newaxis] * (centroid_negative - self.syncmap) / dist_set2centroid_negative\n",
    "\n",
    "        # adaptive learning rate regularization\n",
    "        if self.is_adaptive_LR:\n",
    "            adaptive_LR_positive, adaptive_LR_negative = self.update_adaptive_learning_rate(dist_set2centroid_positive, set_positive)\n",
    "            update_positive = update_positive * adaptive_LR_positive\n",
    "            update_negative = update_negative * adaptive_LR_negative\n",
    "\n",
    "        self.syncmap += self.adaptation_rate * (update_positive * isDropout_positive - update_negative * isDropout_negative)\n",
    "\n",
    "        # regularization\n",
    "        # normalize the syncmap to have 0 mean and 1 std\n",
    "        # self.syncmap = ((self.syncmap - np.mean(self.syncmap, axis=0)) / (np.std(self.syncmap, axis=0) + 1e-12)) * self.space_scale\n",
    "        self.syncmap = (self.syncmap / self.syncmap.max()) * self.space_scale\n",
    "\n",
    "\n",
    "\n",
    "        # leaking\n",
    "        self.syncmap = self.leaking_rate * self.syncmap + (1 - self.leaking_rate) * syncmap_previous\n",
    "\n",
    "        self.fit_log.append(self.syncmap.copy())\n",
    "        return self.syncmap\n",
    "\n",
    "\n",
    "    def get_syncmap(self, isMovMean=False):\n",
    "        if isMovMean:\n",
    "            self.syncmap_movmean = np.mean(np.asarray(self.syncmap_movmean_list), axis=0)\n",
    "            return self.syncmap_movmean\n",
    "        else:\n",
    "            return self.syncmap\n",
    "\n",
    "    def symmetrical_activation(self, input_vector):\n",
    "        state_vector_plus = input_vector.copy()\n",
    "\n",
    "        ## version 2 ##\n",
    "        # Consider those positive nodes which are not selected in positive stochastic selection process\n",
    "        number_of_selected_node_temp = state_vector_plus.sum()\n",
    "        state_vector_plus = self.stochastic_selection(input_vector=state_vector_plus,\n",
    "                                                    number_of_selected_node_overwrite=number_of_selected_node_temp)\n",
    "        # update number_of_selected_node_temp\n",
    "        number_of_selected_node_temp = state_vector_plus.sum()\n",
    "        state_vector_minus = self.stochastic_selection(input_vector=~state_vector_plus,\n",
    "                                                    number_of_selected_node_overwrite=number_of_selected_node_temp)\n",
    "\n",
    "\n",
    "        return state_vector_plus, state_vector_minus\n",
    "\n",
    "    def stochastic_selection(self, input_vector, number_of_selected_node_overwrite=None):\n",
    "        number_of_activated_node = input_vector.sum()\n",
    "\n",
    "        if self.number_of_selected_node is None:\n",
    "            number_of_selected_node = number_of_selected_node_overwrite\n",
    "        else:\n",
    "            number_of_selected_node = self.number_of_selected_node\n",
    "\n",
    "\n",
    "\n",
    "        if number_of_activated_node == 0:\n",
    "            Pr = 0\n",
    "        elif number_of_selected_node < number_of_activated_node: # randomly select a subset of nodes from the activated nodes\n",
    "            Pr = number_of_selected_node / number_of_activated_node\n",
    "        else: # select all the activated nodes\n",
    "            Pr = 1\n",
    "\n",
    "        state_vector_after_masking = np.logical_and(input_vector, np.random.rand(len(input_vector)) < Pr)\n",
    "        return state_vector_after_masking\n",
    "\n",
    "    def update_adaptive_learning_rate(self, dist_set2centroid_positive, set_positive):\n",
    "        dist_avg_positive = np.sum(dist_set2centroid_positive * set_positive[:, None]) / set_positive.sum()\n",
    "        adaptive_LR_positive = dist_avg_positive / self.space_scale_dimensions_sqrt\n",
    "\n",
    "        ### version 4:\n",
    "        self.adaptive_LR += self.adaptive_LR_widrow_hoff * (adaptive_LR_positive - self.adaptive_LR)\n",
    "        adaptive_LR_positive = copy.deepcopy(self.adaptive_LR)\n",
    "        adaptive_LR_negative = 1\n",
    "\n",
    "        adaptive_LR_negative_amplifier_a = 0.01\n",
    "        adaptive_LR_negative_amplifier_b = 2\n",
    "        adaptive_LR_negative_amplifier = self.input_size * adaptive_LR_negative_amplifier_a + adaptive_LR_negative_amplifier_b\n",
    "        adaptive_LR_negative_threshold = 1.5\n",
    "        adaptive_LR_negative = self.adaptive_LR * adaptive_LR_negative_amplifier\n",
    "        if adaptive_LR_negative > adaptive_LR_negative_threshold:\n",
    "            adaptive_LR_negative = adaptive_LR_negative_threshold\n",
    "\n",
    "        adaptive_LR_positive_threshold = 0.05\n",
    "        if adaptive_LR_positive < adaptive_LR_positive_threshold:\n",
    "            return adaptive_LR_positive_threshold, adaptive_LR_negative\n",
    "        else:\n",
    "            return adaptive_LR_positive, adaptive_LR_negative\n",
    "\n",
    "    def set_adaptation_rate(self, adaptation_rate):\n",
    "        self.adaptation_rate = adaptation_rate\n"
   ]
  },
  {
   "cell_type": "markdown",
   "metadata": {},
   "source": [
    "For graph problem"
   ]
  },
  {
   "cell_type": "code",
   "execution_count": null,
   "metadata": {},
   "outputs": [],
   "source": [
    "# temp_path = f'../data/probabilistic5_6.dot'\n",
    "temp_path = f'../data/UB_prob_chunk_20_10_5.dot'\n",
    "\n",
    "num_trails_per_problem = 1\n",
    "state_memory = 2\n",
    "number_of_selected_node = 2 # <=state_memory\n",
    "max_seq_length = 300000\n",
    "\n",
    "# start testing\n",
    "nmi_total_list = []\n",
    "eps_min_total_list = []\n",
    "eps_max_total_list = []\n",
    "\n",
    "\n",
    "# experiment start\n",
    "file_path = temp_path\n",
    "preprocessor = GraphProcessor()\n",
    "preprocessor.read_graph_from_dot(file_path=file_path)\n",
    "groundtruth_labels = preprocessor.get_groundtruth_labels()\n",
    "connection_matrix = preprocessor.get_connection_matrix()\n",
    "num_of_nodes = connection_matrix.shape[0]\n",
    "\n",
    "nmi_trail_list = []\n",
    "eps_min_trail_list = []\n",
    "eps_max_trail_list = []\n",
    "for i_trail in range(num_trails_per_problem):\n",
    "    print(f\"Trail {i_trail+1}/{num_trails_per_problem}\")\n",
    "\n",
    "    ###########################################################################################################\n",
    "    # initialize sequence generator and set state_memory\n",
    "    seq_generator = WorkingMemProcessor(state_memory=state_memory)\n",
    "\n",
    "    # generate random walk on graph\n",
    "    input_seq_trajectory, input_seq_onehot = preprocessor.random_walk_on_graph(L=max_seq_length, reset_time=None)\n",
    "\n",
    "    # generate input sequence for syncmap\n",
    "    input_seq = seq_generator.seq_gen_naive(input_seq=input_seq_onehot)\n",
    "\n",
    "    # # initialize syncamap\n",
    "    # model_syncmap = SymmetricalSyncMap(input_size=num_of_nodes, dimensions=15, adaptation_rate=0.01, space_scale=1,\n",
    "    #                         leaking_rate=1.0, movmean_window=2000, movmean_interval=2,\n",
    "    #                         is_symmetrical_activation=True, number_of_selected_node=2,)\n",
    "\n",
    "    # uncomment below to use original syncmap\n",
    "    model_syncmap = SymmetricalSyncMap(input_size=num_of_nodes, dimensions=15, adaptation_rate=0.01, space_scale=1)\n",
    "\n",
    "    print(\"training SyncMap...\")\n",
    "    model_syncmap.input_sequential(input_seq)\n",
    "    learned_map = model_syncmap.get_syncmap(isMovMean=True)\n",
    "\n",
    "    # readout\n",
    "    readout = Readout(learned_map, ground_truth=groundtruth_labels)\n",
    "    # from a range if eps, find the eps that yields the best NMI\n",
    "    eps_list = np.linspace(0.005, 5, 100)\n",
    "    best_nmi = 0\n",
    "    best_prediction_labels = None\n",
    "    best_eps_min = eps_list[0]\n",
    "    best_eps_max = eps_list[0]\n",
    "    for eps in eps_list:\n",
    "        readout.dbscan_(eps=eps, min_samples=2, print_result=False)\n",
    "        nmi = readout.cal_NMI(print_result=False)\n",
    "        # there might be multiple eps that have the same best nmi, we record the first one as the best_eps_min\n",
    "        # and the last one as the best_eps_max\n",
    "        if nmi > best_nmi:\n",
    "            best_nmi = nmi\n",
    "            best_prediction_labels = readout.predicted_labels\n",
    "            best_eps_min = eps\n",
    "        if nmi == best_nmi:\n",
    "            best_eps_max = eps\n",
    "            best_prediction_labels = readout.predicted_labels # overwrite the best_prediction_labels to prevent -1 in dbscan\n",
    "\n",
    "\n",
    "    print(\"Groundtruth labels:\", groundtruth_labels)\n",
    "    print(\"Best prediction labels:\", best_prediction_labels)\n",
    "    print(\"Best eps:\", best_eps_min, best_eps_max)\n",
    "    print(\"Best NMI:\", best_nmi)\n",
    "    nmi_trail_list.append(best_nmi)\n",
    "    eps_min_trail_list.append(best_eps_min)\n",
    "    eps_max_trail_list.append(best_eps_max)\n",
    "\n",
    "    # # visualize the syncmap in 3d\n",
    "    # fig = plt.figure()\n",
    "    # ax = fig.add_subplot(111, projection='3d')\n",
    "    # map_tsne = TSNE(n_components=3, perplexity=5).fit_transform(learned_map)\n",
    "    # # ax.scatter(learned_map[:, 0], learned_map[:, 1], learned_map[:, 2], c=groundtruth_labels, marker='o', s=10)\n",
    "    # ax.scatter(map_tsne[:, 0], map_tsne[:, 1], map_tsne[:, 2], c=groundtruth_labels, marker='o', s=100)\n",
    "    # plt.show()\n",
    "\n",
    "    # 2d tsne\n",
    "    # fig = plt.figure()\n",
    "    # ax = fig.add_subplot(111)\n",
    "    # map_tsne = TSNE(n_components=2, perplexity=5).fit_transform(learned_map)\n",
    "    # ax.scatter(map_tsne[:, 0], map_tsne[:, 1], c=groundtruth_labels, marker='o')\n",
    "    # plt.show()\n",
    "\n",
    "    time.sleep(0.1)\n",
    "\n",
    "    \n",
    "\n",
    "nmi_avg = np.mean(nmi_trail_list)\n",
    "nmi_std = np.std(nmi_trail_list)\n",
    "eps_min_avg = np.mean(eps_min_trail_list)\n",
    "eps_min_std = np.std(eps_min_trail_list)\n",
    "eps_max_avg = np.mean(eps_max_trail_list)\n",
    "eps_max_std = np.std(eps_max_trail_list)\n",
    "print(temp_path.split('/')[-1].split('.')[0])\n",
    "print(f\"Average NMI: {nmi_avg}, std: {nmi_std}\")\n",
    "print(f\"Average eps_min: {eps_min_avg}, std: {eps_min_std}\")\n",
    "print(f\"Average eps_max: {eps_max_avg}, std: {eps_max_std}\")\n",
    "nmi_total_list.append(nmi_trail_list)\n",
    "eps_min_total_list.append(eps_min_trail_list)\n",
    "eps_max_total_list.append(eps_max_trail_list)"
   ]
  },
  {
   "cell_type": "code",
   "execution_count": null,
   "metadata": {},
   "outputs": [],
   "source": []
  },
  {
   "cell_type": "code",
   "execution_count": null,
   "metadata": {},
   "outputs": [],
   "source": [
    "# #| export\n",
    "# def labels2colors(labels):\n",
    "#     colorbar = ['red', 'blue', 'green', 'yellow', 'purple', 'orange', 'black', 'pink', 'brown', 'gray']\n",
    "#     return [colorbar[label] for label in labels]"
   ]
  },
  {
   "cell_type": "code",
   "execution_count": null,
   "metadata": {},
   "outputs": [],
   "source": [
    "color_list = labels2colors(groundtruth_labels)\n",
    "color_list"
   ]
  },
  {
   "cell_type": "markdown",
   "metadata": {},
   "source": [
    "reduce dimensions"
   ]
  },
  {
   "cell_type": "code",
   "execution_count": null,
   "metadata": {},
   "outputs": [],
   "source": [
    "reduced_fit_log = reduce_dimension_with_tsne(\n",
    "    np.asarray(model_syncmap.fit_log)[::1000]\n",
    ")"
   ]
  },
  {
   "cell_type": "markdown",
   "metadata": {},
   "source": [
    "plot the syncmap variable space"
   ]
  },
  {
   "cell_type": "code",
   "execution_count": null,
   "metadata": {},
   "outputs": [],
   "source": [
    "fig = create_trace_plot(reduced_fit_log, colors = color_list)\n",
    "fig.show()\n"
   ]
  },
  {
   "cell_type": "markdown",
   "metadata": {},
   "source": [
    "for overlapping problem"
   ]
  },
  {
   "cell_type": "code",
   "execution_count": null,
   "metadata": {},
   "outputs": [
    {
     "name": "stdout",
     "output_type": "stream",
     "text": [
      "Adaptation rate: 0.0004\n"
     ]
    }
   ],
   "source": [
    "time_delay = 10\n",
    "env = OverlapChunkTest1(time_delay)\n",
    "output_size = env.getOutputSize()\n",
    "output_size\n",
    "\n",
    "sequence_length = 10000\n",
    "# sequence_length = int(1000000)  # TRUE TETST\n",
    " \n",
    "####### SyncMap #####\n",
    "number_of_nodes= output_size\n",
    "adaptation_rate= 0.00005*output_size\n",
    "print(\"Adaptation rate:\", adaptation_rate)\n",
    "map_dimensions= 2\n",
    "model_syncmap= SymmetricalSyncMap(input_size=number_of_nodes, dimensions=map_dimensions, adaptation_rate=adaptation_rate, space_scale=1)\n",
    "input_sequence, input_class = env.getSequence(sequence_length)"
   ]
  },
  {
   "cell_type": "code",
   "execution_count": null,
   "metadata": {},
   "outputs": [
    {
     "name": "stderr",
     "output_type": "stream",
     "text": [
      "100%|██████████| 1000000/1000000 [00:15<00:00, 65834.26it/s]\n"
     ]
    }
   ],
   "source": [
    "model_syncmap.input_sequential(input_sequence>0.1)\n",
    "learned_map = model_syncmap.get_syncmap(isMovMean=True)"
   ]
  },
  {
   "cell_type": "code",
   "execution_count": null,
   "metadata": {},
   "outputs": [],
   "source": [
    "# plt.scatter(learned_map[:, 0], learned_map[:, 1])"
   ]
  },
  {
   "cell_type": "code",
   "execution_count": null,
   "metadata": {},
   "outputs": [],
   "source": [
    "# SymmSyncMapRst = {'data': model_syncmap.log, 'labels': env.trueLabel()}\n",
    "# np.save('../data/SymmSyncMapRst.npy', SymmSyncMapRst)"
   ]
  },
  {
   "cell_type": "code",
   "execution_count": null,
   "metadata": {},
   "outputs": [],
   "source": []
  },
  {
   "cell_type": "code",
   "execution_count": null,
   "metadata": {},
   "outputs": [
    {
     "data": {
      "application/vnd.plotly.v1+json": {
       "config": {
        "plotlyServerURL": "https://plot.ly"
       },
       "data": [
        {
         "marker": {
          "color": [
           "red",
           "red",
           "red",
           "blue",
           "blue",
           "green",
           "green",
           "green"
          ]
         },
         "mode": "markers",
         "type": "scatter",
         "x": [
          0.010475291087207503,
          0.7830516167369516,
          -0.4614495983750476,
          -0.6725637355041406,
          0.5002827644278232,
          -0.7539786871852503,
          1,
          -0.4057076950672159
         ],
         "y": [
          0.7203626583382137,
          0.03513019709684168,
          -0.8269210033712919,
          0.55590374497731,
          0.24824369480488392,
          0.7579829516111039,
          -0.7171686843821962,
          -0.7735603825593723
         ]
        }
       ],
       "frames": [
        {
         "data": [
          {
           "marker": {
            "color": [
             "red",
             "red",
             "red",
             "blue",
             "blue",
             "green",
             "green",
             "green"
            ]
           },
           "mode": "markers",
           "type": "scatter",
           "x": [
            0.010475291087207503,
            0.7830516167369516,
            -0.4614495983750476,
            -0.6725637355041406,
            0.5002827644278232,
            -0.7539786871852503,
            1,
            -0.4057076950672159
           ],
           "y": [
            0.7203626583382137,
            0.03513019709684168,
            -0.8269210033712919,
            0.55590374497731,
            0.24824369480488392,
            0.7579829516111039,
            -0.7171686843821962,
            -0.7735603825593723
           ]
          }
         ],
         "name": "0"
        },
        {
         "data": [
          {
           "marker": {
            "color": [
             "red",
             "red",
             "red",
             "blue",
             "blue",
             "green",
             "green",
             "green"
            ]
           },
           "mode": "markers",
           "type": "scatter",
           "x": [
            0.02479705963830396,
            0.903488265164014,
            -0.527992375133218,
            -0.2837084556996452,
            0.44403548756579797,
            -0.7285674905210482,
            0.8440490444287355,
            -0.5064024659938775
           ],
           "y": [
            1,
            0.24615776936719544,
            -0.8956856596368382,
            0.5616880062339012,
            0.40970552102491997,
            0.7194452888598724,
            -0.614325048234829,
            -0.8259578997119055
           ]
          }
         ],
         "name": "1"
        },
        {
         "data": [
          {
           "marker": {
            "color": [
             "red",
             "red",
             "red",
             "blue",
             "blue",
             "green",
             "green",
             "green"
            ]
           },
           "mode": "markers",
           "type": "scatter",
           "x": [
            0.1399173543000873,
            0.9453245986973599,
            -0.5500767807484696,
            0.10068519594091081,
            0.1422644220396533,
            -0.7570639770694455,
            0.7960135518343165,
            -0.5710888930330805
           ],
           "y": [
            1,
            0.43723646768126034,
            -0.95245116972209,
            0.7037532233304202,
            0.7015022442728753,
            0.7990644873910248,
            -0.6227618485861004,
            -0.988276774314787
           ]
          }
         ],
         "name": "2"
        },
        {
         "data": [
          {
           "marker": {
            "color": [
             "red",
             "red",
             "red",
             "blue",
             "blue",
             "green",
             "green",
             "green"
            ]
           },
           "mode": "markers",
           "type": "scatter",
           "x": [
            0.2548215466212101,
            0.9679858664640933,
            -0.4352426465289162,
            0.19251031844189948,
            0.1898159761248474,
            -0.9315206325424228,
            0.5718077019228922,
            -0.3830232993827636
           ],
           "y": [
            1,
            0.44018315492877436,
            -0.949576767919936,
            0.8404418518491276,
            0.8219471406369414,
            0.6662963165289173,
            -0.8578434661060211,
            -0.913380944829185
           ]
          }
         ],
         "name": "3"
        },
        {
         "data": [
          {
           "marker": {
            "color": [
             "red",
             "red",
             "red",
             "blue",
             "blue",
             "green",
             "green",
             "green"
            ]
           },
           "mode": "markers",
           "type": "scatter",
           "x": [
            0.3061752907201468,
            0.815217211618604,
            -0.4509125357175998,
            0.23022937318742256,
            0.23228644014082625,
            -0.8717375966036834,
            0.457253449843589,
            -0.41267935703543546
           ],
           "y": [
            1,
            0.6653239803457714,
            -0.9978002985893927,
            0.8083450971372046,
            0.8107309041563864,
            0.5926152322773789,
            -0.9925273858688849,
            -0.9674423326579515
           ]
          }
         ],
         "name": "4"
        },
        {
         "data": [
          {
           "marker": {
            "color": [
             "red",
             "red",
             "red",
             "blue",
             "blue",
             "green",
             "green",
             "green"
            ]
           },
           "mode": "markers",
           "type": "scatter",
           "x": [
            0.4240946508980372,
            0.5108369493998522,
            -0.39769705154449925,
            0.3766104339078048,
            0.36953244859509365,
            -0.8544072962593351,
            0.3098625088633915,
            -0.39901014025883114
           ],
           "y": [
            1,
            0.8701124108575641,
            -0.9635588330557882,
            0.8355634603714002,
            0.83134345976246,
            0.551386262437455,
            -1.0326850718375862,
            -1.0040354609708646
           ]
          }
         ],
         "name": "5"
        },
        {
         "data": [
          {
           "marker": {
            "color": [
             "red",
             "red",
             "red",
             "blue",
             "blue",
             "green",
             "green",
             "green"
            ]
           },
           "mode": "markers",
           "type": "scatter",
           "x": [
            0.527157645497016,
            0.5636863643293492,
            -0.3322396469264281,
            0.47745234594715186,
            0.4772312345578246,
            -1.0984069218828267,
            0.22494386682140932,
            -0.3237011645516949
           ],
           "y": [
            0.9411472574755835,
            1,
            -1.0447301453022984,
            0.8583671237334736,
            0.8577091727808827,
            0.5467381230450976,
            -1.1646959886464767,
            -1.0461965389110741
           ]
          }
         ],
         "name": "6"
        },
        {
         "data": [
          {
           "marker": {
            "color": [
             "red",
             "red",
             "red",
             "blue",
             "blue",
             "green",
             "green",
             "green"
            ]
           },
           "mode": "markers",
           "type": "scatter",
           "x": [
            0.5404081192093778,
            0.5688668842358557,
            -0.2980512298502204,
            0.4649639633677378,
            0.45936131780804484,
            -1.0342530749248213,
            0.06810514880920295,
            -0.24399491280776542
           ],
           "y": [
            0.9484194776724587,
            1,
            -1.117882627216956,
            0.8324305132485486,
            0.8017253128095436,
            0.5374766689799096,
            -1.1127813377599205,
            -1.1056465269753053
           ]
          }
         ],
         "name": "7"
        },
        {
         "data": [
          {
           "marker": {
            "color": [
             "red",
             "red",
             "red",
             "blue",
             "blue",
             "green",
             "green",
             "green"
            ]
           },
           "mode": "markers",
           "type": "scatter",
           "x": [
            0.5455820405525363,
            0.5388282969186241,
            -0.2517909415539967,
            0.4880477476829209,
            0.4911326323162734,
            -1.0100623553841217,
            -0.1981212183502674,
            -0.21041441997355906
           ],
           "y": [
            1,
            0.9889511926295081,
            -1.151239457267837,
            0.9085174297792916,
            0.9150077726792465,
            0.40732678369849906,
            -1.1497013902852786,
            -1.1722365143447002
           ]
          }
         ],
         "name": "8"
        },
        {
         "data": [
          {
           "marker": {
            "color": [
             "red",
             "red",
             "red",
             "blue",
             "blue",
             "green",
             "green",
             "green"
            ]
           },
           "mode": "markers",
           "type": "scatter",
           "x": [
            0.5395310132770774,
            0.5174679864349027,
            -0.1562552141437795,
            0.4413681013192973,
            0.4396392055233569,
            -0.9763965398727049,
            -0.26468758574251994,
            -0.2525588781148361
           ],
           "y": [
            1,
            0.9676860889345605,
            -1.0406428991190662,
            0.8616025872607515,
            0.8596659162722083,
            0.37389282876156077,
            -1.1874059367716074,
            -1.1317748930016367
           ]
          }
         ],
         "name": "9"
        },
        {
         "data": [
          {
           "marker": {
            "color": [
             "red",
             "red",
             "red",
             "blue",
             "blue",
             "green",
             "green",
             "green"
            ]
           },
           "mode": "markers",
           "type": "scatter",
           "x": [
            0.5571299112840593,
            0.5605653013697569,
            -0.14835119593441762,
            0.46034403455303435,
            0.4789522089741809,
            -1.0586615643929107,
            -0.2593251451217426,
            -0.22656707317656197
           ],
           "y": [
            0.9927954349441043,
            1,
            -1.1331718795126318,
            0.843527783714611,
            0.8697724509926597,
            0.3912715190119263,
            -1.1647256367298433,
            -1.0888663465424169
           ]
          }
         ],
         "name": "10"
        },
        {
         "data": [
          {
           "marker": {
            "color": [
             "red",
             "red",
             "red",
             "blue",
             "blue",
             "green",
             "green",
             "green"
            ]
           },
           "mode": "markers",
           "type": "scatter",
           "x": [
            0.5825602140619331,
            0.6033773741732635,
            -0.08258474609621017,
            0.4387401722734991,
            0.45210025584544355,
            -1.1258274647042101,
            -0.24791833071419875,
            -0.24718602081825491
           ],
           "y": [
            0.9690494347142526,
            1,
            -1.0540403324372696,
            0.7454728809715847,
            0.7676036507297092,
            0.2978052147268147,
            -1.116626490334904,
            -1.1288799935992233
           ]
          }
         ],
         "name": "11"
        },
        {
         "data": [
          {
           "marker": {
            "color": [
             "red",
             "red",
             "red",
             "blue",
             "blue",
             "green",
             "green",
             "green"
            ]
           },
           "mode": "markers",
           "type": "scatter",
           "x": [
            0.5698713915223411,
            0.5867584981350285,
            -0.04435497707590947,
            0.4824451141324342,
            0.4715760904353603,
            -1.1779484583777893,
            -0.25379110666606,
            -0.2546101420700356
           ],
           "y": [
            0.9762805117246056,
            1,
            -1.2138323113441603,
            0.8368091730002521,
            0.8173093286096024,
            0.38313068435326936,
            -1.181616327328323,
            -1.1763936518592997
           ]
          }
         ],
         "name": "12"
        },
        {
         "data": [
          {
           "marker": {
            "color": [
             "red",
             "red",
             "red",
             "blue",
             "blue",
             "green",
             "green",
             "green"
            ]
           },
           "mode": "markers",
           "type": "scatter",
           "x": [
            0.5783299733614091,
            0.5498672985726639,
            -0.023371792177194678,
            0.4220487061101176,
            0.4168580070080389,
            -1.0423406039465968,
            -0.2436066767858828,
            -0.2548535124311956
           ],
           "y": [
            1,
            0.9516738167995082,
            -1.0362455118266736,
            0.7407051344542652,
            0.7293407275082977,
            0.30007906731740075,
            -1.0194743173570762,
            -1.0613964906304492
           ]
          }
         ],
         "name": "13"
        },
        {
         "data": [
          {
           "marker": {
            "color": [
             "red",
             "red",
             "red",
             "blue",
             "blue",
             "green",
             "green",
             "green"
            ]
           },
           "mode": "markers",
           "type": "scatter",
           "x": [
            0.5911031644186487,
            0.5804849394922849,
            0.04775604827176933,
            0.44111270225024407,
            0.44142253039681617,
            -1.0925335413096906,
            -0.29568123572745514,
            -0.308020064198253
           ],
           "y": [
            1,
            0.9889025868641982,
            -1.0133201278257153,
            0.7611379787464958,
            0.7613011983450401,
            0.220345683091455,
            -1.0602283804023098,
            -1.0958478804561256
           ]
          }
         ],
         "name": "14"
        },
        {
         "data": [
          {
           "marker": {
            "color": [
             "red",
             "red",
             "red",
             "blue",
             "blue",
             "green",
             "green",
             "green"
            ]
           },
           "mode": "markers",
           "type": "scatter",
           "x": [
            0.57874931493536,
            0.540374307631231,
            0.14901688475351046,
            0.45488549073567147,
            0.4528349817665227,
            -1.140613990919124,
            -0.36042086885178026,
            -0.3344097230814121
           ],
           "y": [
            1,
            0.9235303515068978,
            -1.122512339972284,
            0.7952554915818746,
            0.7902695093927445,
            0.11306744751995544,
            -1.0760925649282438,
            -0.978203436566771
           ]
          }
         ],
         "name": "15"
        },
        {
         "data": [
          {
           "marker": {
            "color": [
             "red",
             "red",
             "red",
             "blue",
             "blue",
             "green",
             "green",
             "green"
            ]
           },
           "mode": "markers",
           "type": "scatter",
           "x": [
            0.5524452899607434,
            0.5612229512349661,
            0.29834440968876424,
            0.44102972615302377,
            0.44042117041414836,
            -1.1086756485533185,
            -0.4416518960136287,
            -0.44353025222686027
           ],
           "y": [
            0.9787470336950089,
            1,
            -1.0724121522284282,
            0.817451201326027,
            0.8189024344301514,
            0.12232135093391674,
            -1.1084313757523543,
            -1.1093647090226417
           ]
          }
         ],
         "name": "16"
        },
        {
         "data": [
          {
           "marker": {
            "color": [
             "red",
             "red",
             "red",
             "blue",
             "blue",
             "green",
             "green",
             "green"
            ]
           },
           "mode": "markers",
           "type": "scatter",
           "x": [
            0.5151289870418575,
            0.5371770237151564,
            0.42893665071732145,
            0.4584564113424988,
            0.47047591420803925,
            -1.093968895659937,
            -0.5058233829653759,
            -0.501475549642948
           ],
           "y": [
            0.9651418473571965,
            1,
            -1.049133546063231,
            0.867256782798636,
            0.9066870566273422,
            0.026693004389881016,
            -1.035280360018237,
            -1.0241662438889318
           ]
          }
         ],
         "name": "17"
        },
        {
         "data": [
          {
           "marker": {
            "color": [
             "red",
             "red",
             "red",
             "blue",
             "blue",
             "green",
             "green",
             "green"
            ]
           },
           "mode": "markers",
           "type": "scatter",
           "x": [
            0.5976684630234461,
            0.5935439108989503,
            0.5720457178661494,
            0.45416507608444745,
            0.48513201867051736,
            -1.1919155100674597,
            -0.5574973426882992,
            -0.5475679771807502
           ],
           "y": [
            1,
            0.9854008322721567,
            -0.8275409343467984,
            0.7791325633908415,
            0.8252289941426039,
            -0.1243505227440769,
            -1.0294163318199532,
            -1.0150785750812574
           ]
          }
         ],
         "name": "18"
        },
        {
         "data": [
          {
           "marker": {
            "color": [
             "red",
             "red",
             "red",
             "blue",
             "blue",
             "green",
             "green",
             "green"
            ]
           },
           "mode": "markers",
           "type": "scatter",
           "x": [
            0.5672347805094383,
            0.5772446010768211,
            0.7057588728561183,
            0.4178777989413942,
            0.42710714350418394,
            -1.1130157272863341,
            -0.6125438068267125,
            -0.5996409285557497
           ],
           "y": [
            0.9756838848506243,
            1,
            -0.7436558665450954,
            0.7568134684609273,
            0.7590095533240798,
            -0.21577250524760502,
            -0.923444941498582,
            -0.9147243304382217
           ]
          }
         ],
         "name": "19"
        },
        {
         "data": [
          {
           "marker": {
            "color": [
             "red",
             "red",
             "red",
             "blue",
             "blue",
             "green",
             "green",
             "green"
            ]
           },
           "mode": "markers",
           "type": "scatter",
           "x": [
            0.5239680212842118,
            0.5974649985882514,
            0.8542914812379754,
            0.468490896494582,
            0.4637712866643989,
            -1.0338259681717268,
            -0.7396754932469991,
            -0.7403314381883405
           ],
           "y": [
            0.9006731748037151,
            1,
            -0.5512708581437811,
            0.8351498590878119,
            0.8286831862771269,
            -0.42945751102644214,
            -0.8858684631824226,
            -0.9001365988049354
           ]
          }
         ],
         "name": "20"
        },
        {
         "data": [
          {
           "marker": {
            "color": [
             "red",
             "red",
             "red",
             "blue",
             "blue",
             "green",
             "green",
             "green"
            ]
           },
           "mode": "markers",
           "type": "scatter",
           "x": [
            0.5908242762066095,
            0.564610125273053,
            1,
            0.4688078539436434,
            0.45315838449696655,
            -0.9928341033125527,
            -0.7952539121604515,
            -0.8096681232407678
           ],
           "y": [
            0.9584543321149965,
            0.929531796256103,
            -0.41272323416818596,
            0.7993180594892532,
            0.7627614212827125,
            -0.6793732025830271,
            -0.7758069072482757,
            -0.8067533995893421
           ]
          }
         ],
         "name": "21"
        },
        {
         "data": [
          {
           "marker": {
            "color": [
             "red",
             "red",
             "red",
             "blue",
             "blue",
             "green",
             "green",
             "green"
            ]
           },
           "mode": "markers",
           "type": "scatter",
           "x": [
            0.585889879078658,
            0.6280704180089962,
            1,
            0.48068245384469327,
            0.4747559940711765,
            -0.8177356260118465,
            -0.8238133312050081,
            -0.838956602485729
           ],
           "y": [
            0.8800870583849664,
            0.9366873938141833,
            -0.1436148859392693,
            0.7640889531770907,
            0.758443154749775,
            -0.7348883520286847,
            -0.7415472334540273,
            -0.7549174758632822
           ]
          }
         ],
         "name": "22"
        },
        {
         "data": [
          {
           "marker": {
            "color": [
             "red",
             "red",
             "red",
             "blue",
             "blue",
             "green",
             "green",
             "green"
            ]
           },
           "mode": "markers",
           "type": "scatter",
           "x": [
            0.5901519399283703,
            0.5343123873223117,
            1,
            0.4622094773674471,
            0.4695083229129879,
            -0.7907054202731777,
            -0.7754561174209836,
            -0.8006721220016053
           ],
           "y": [
            0.8844864392156275,
            0.7935221938582164,
            0.04583790215254357,
            0.7028418315989902,
            0.7055057389886622,
            -0.7236110446671348,
            -0.7083032442645929,
            -0.7336865508224842
           ]
          }
         ],
         "name": "23"
        },
        {
         "data": [
          {
           "marker": {
            "color": [
             "red",
             "red",
             "red",
             "blue",
             "blue",
             "green",
             "green",
             "green"
            ]
           },
           "mode": "markers",
           "type": "scatter",
           "x": [
            0.6010470309656424,
            0.5641490720133643,
            1,
            0.4652240363659515,
            0.44271244505610186,
            -0.7634465331941902,
            -0.7565185434763995,
            -0.7290399537876987
           ],
           "y": [
            0.9094272638259827,
            0.8511405707626721,
            0.15161953124578645,
            0.7463122135253285,
            0.6995749488061827,
            -0.732317434884395,
            -0.7269137970866894,
            -0.6938955174522868
           ]
          }
         ],
         "name": "24"
        },
        {
         "data": [
          {
           "marker": {
            "color": [
             "red",
             "red",
             "red",
             "blue",
             "blue",
             "green",
             "green",
             "green"
            ]
           },
           "mode": "markers",
           "type": "scatter",
           "x": [
            0.5392023225386195,
            0.5674835418111394,
            1,
            0.4585341396222842,
            0.4583414788988818,
            -0.760262839022696,
            -0.7388203472429526,
            -0.7203476332572468
           ],
           "y": [
            0.8301225428197503,
            0.857828504562713,
            0.25503443031761563,
            0.726636078083719,
            0.7308893295207545,
            -0.7663645848814888,
            -0.7422116816736188,
            -0.7214263824268028
           ]
          }
         ],
         "name": "25"
        },
        {
         "data": [
          {
           "marker": {
            "color": [
             "red",
             "red",
             "red",
             "blue",
             "blue",
             "green",
             "green",
             "green"
            ]
           },
           "mode": "markers",
           "type": "scatter",
           "x": [
            0.645846271606866,
            0.6381643367265305,
            1,
            0.5496176786199469,
            0.5496907034899823,
            -0.7944933217800677,
            -0.7734297164292636,
            -0.7742009381380325
           ],
           "y": [
            0.8703045217984522,
            0.8486563006838266,
            0.5535960305562133,
            0.7540799715229815,
            0.7537605102002656,
            -0.8247390297279268,
            -0.8027351908779741,
            -0.8023666928811033
           ]
          }
         ],
         "name": "26"
        },
        {
         "data": [
          {
           "marker": {
            "color": [
             "red",
             "red",
             "red",
             "blue",
             "blue",
             "green",
             "green",
             "green"
            ]
           },
           "mode": "markers",
           "type": "scatter",
           "x": [
            0.9030238390985221,
            0.8750476769132033,
            0.8903210023305119,
            0.8038586661780138,
            0.8064693473046883,
            -0.9390701969457326,
            -0.9489865090312312,
            -0.9273507876039333
           ],
           "y": [
            1,
            0.9577846663852382,
            0.9550730962322563,
            0.8846550105233235,
            0.8872341543633075,
            -1.0073002591084248,
            -1.0180616715604227,
            -0.9945843974733439
           ]
          }
         ],
         "name": "27"
        },
        {
         "data": [
          {
           "marker": {
            "color": [
             "red",
             "red",
             "red",
             "blue",
             "blue",
             "green",
             "green",
             "green"
            ]
           },
           "mode": "markers",
           "type": "scatter",
           "x": [
            0.8917358541090922,
            0.915024680396887,
            0.9219464061507509,
            0.8178763178854417,
            0.792188771569398,
            -0.9124075569289494,
            -0.9192240325351139,
            -0.9302532431321857
           ],
           "y": [
            0.9672783087356475,
            0.9925025388789875,
            1,
            0.8872812075067481,
            0.8594563876856595,
            -0.986960895958737,
            -0.9943433929171822,
            -1.0062912260941186
           ]
          }
         ],
         "name": "28"
        },
        {
         "data": [
          {
           "marker": {
            "color": [
             "red",
             "red",
             "red",
             "blue",
             "blue",
             "green",
             "green",
             "green"
            ]
           },
           "mode": "markers",
           "type": "scatter",
           "x": [
            0.8950908221401752,
            0.92302876260637,
            0.900869450733686,
            0.8074169408384696,
            0.8015875739765522,
            -0.8973441672804525,
            -0.9145736806635021,
            -0.8975324645899485
           ],
           "y": [
            0.9697377422253454,
            1,
            0.9759971284067681,
            0.8747697670738672,
            0.8684554201426363,
            -0.9718203989118488,
            -0.9904833363349157,
            -0.9720243617763983
           ]
          }
         ],
         "name": "29"
        },
        {
         "data": [
          {
           "marker": {
            "color": [
             "red",
             "red",
             "red",
             "blue",
             "blue",
             "green",
             "green",
             "green"
            ]
           },
           "mode": "markers",
           "type": "scatter",
           "x": [
            0.9115877450393152,
            0.9231716587538181,
            0.9099164058828769,
            0.7991203560315312,
            0.8231125053290358,
            -0.947647709504777,
            -0.8683984128482538,
            -0.9188813208196036
           ],
           "y": [
            0.9874523527286007,
            1,
            0.9856419650910215,
            0.8656281436415639,
            0.8916163402102585,
            -1.0264637776030865,
            -0.9406212682702869,
            -0.9953041447313056
           ]
          }
         ],
         "name": "30"
        },
        {
         "data": [
          {
           "marker": {
            "color": [
             "red",
             "red",
             "red",
             "blue",
             "blue",
             "green",
             "green",
             "green"
            ]
           },
           "mode": "markers",
           "type": "scatter",
           "x": [
            0.9231910867324941,
            0.8883769529213834,
            0.8892604180403094,
            0.8550834228002031,
            0.8559918485474183,
            -0.877939852146393,
            -0.9240926275121532,
            -0.8600323752955179
           ],
           "y": [
            1,
            0.962289474700468,
            0.9632464404517646,
            0.9262260610088066,
            0.9272100640091173,
            -0.9509775600602219,
            -1.0009700548475036,
            -0.9315802554338799
           ]
          }
         ],
         "name": "31"
        },
        {
         "data": [
          {
           "marker": {
            "color": [
             "red",
             "red",
             "red",
             "blue",
             "blue",
             "green",
             "green",
             "green"
            ]
           },
           "mode": "markers",
           "type": "scatter",
           "x": [
            0.9179179609821515,
            0.9231936790774773,
            0.8889168909331323,
            0.8363053891937108,
            0.8257006198240892,
            -0.868620111389938,
            -0.9360430285420387,
            -0.9099604160192204
           ],
           "y": [
            0.9942853640482133,
            1,
            0.9628715252972112,
            0.9058829648993793,
            0.894395922717633,
            -0.9408852635582432,
            -1.013917487678186,
            -0.9856649100108192
           ]
          }
         ],
         "name": "32"
        },
        {
         "data": [
          {
           "marker": {
            "color": [
             "red",
             "red",
             "red",
             "blue",
             "blue",
             "green",
             "green",
             "green"
            ]
           },
           "mode": "markers",
           "type": "scatter",
           "x": [
            0.817164201021207,
            0.9231940307723985,
            0.8508036300743355,
            0.816095960565671,
            0.8123945841012093,
            -0.8781328424058648,
            -0.876334428746405,
            -0.8708542924524847
           ],
           "y": [
            0.8851489283336761,
            1,
            0.9215870183132698,
            0.8839918147044018,
            0.8799824990751831,
            -0.9511897952806294,
            -0.9492417610663616,
            -0.9433057001699967
           ]
          }
         ],
         "name": "33"
        },
        {
         "data": [
          {
           "marker": {
            "color": [
             "red",
             "red",
             "red",
             "blue",
             "blue",
             "green",
             "green",
             "green"
            ]
           },
           "mode": "markers",
           "type": "scatter",
           "x": [
            0.9127170234866829,
            0.91854375949515,
            0.9231940756797408,
            0.7576218579913435,
            0.752938879717992,
            -0.8943095784568863,
            -0.9082228668630841,
            -0.8921013237611897
           ],
           "y": [
            0.9886513005340078,
            0.994962796803118,
            1,
            0.8206528607628097,
            0.8155802781268985,
            -0.9687124172969572,
            -0.9837832335720005,
            -0.9663204449726746
           ]
          }
         ],
         "name": "34"
        },
        {
         "data": [
          {
           "marker": {
            "color": [
             "red",
             "red",
             "red",
             "blue",
             "blue",
             "green",
             "green",
             "green"
            ]
           },
           "mode": "markers",
           "type": "scatter",
           "x": [
            0.8810262466797958,
            0.9231940817310494,
            0.9166024342486476,
            0.8247699866957529,
            0.8140593936547735,
            -0.9079703328523967,
            -0.8917376743923139,
            -0.9731757984697447
           ],
           "y": [
            0.9543239760277885,
            1,
            0.9928599547959566,
            0.8933874286215681,
            0.8817857586780705,
            -0.9835096963341462,
            -0.9659265480398525,
            -1.0541399861519032
           ]
          }
         ],
         "name": "35"
        },
        {
         "data": [
          {
           "marker": {
            "color": [
             "red",
             "red",
             "red",
             "blue",
             "blue",
             "green",
             "green",
             "green"
            ]
           },
           "mode": "markers",
           "type": "scatter",
           "x": [
            0.9228395216523718,
            0.90512461249924,
            0.923194082552424,
            0.7742805236848916,
            0.788566739593801,
            -0.9008708050678377,
            -0.9076283350332663,
            -0.8786720212189205
           ],
           "y": [
            0.9996159411041456,
            0.9804272250090336,
            1,
            0.8386974508804321,
            0.8541722206791282,
            -0.9758195181837054,
            -0.9831392466051148,
            -0.9517738876218174
           ]
          }
         ],
         "name": "36"
        },
        {
         "data": [
          {
           "marker": {
            "color": [
             "red",
             "red",
             "red",
             "blue",
             "blue",
             "green",
             "green",
             "green"
            ]
           },
           "mode": "markers",
           "type": "scatter",
           "x": [
            0.9171178315292493,
            0.9231940826576642,
            0.9146159269538852,
            0.8523779290333385,
            0.8732478685330617,
            -0.8984352064696617,
            -0.9147268305238626,
            -0.9138234998208616
           ],
           "y": [
            0.993418229988206,
            1,
            0.9907081773326307,
            0.9232922362119507,
            0.9458984680881999,
            -0.9731812880015259,
            -0.990828307582721,
            -0.98984982351317
           ]
          }
         ],
         "name": "37"
        },
        {
         "data": [
          {
           "marker": {
            "color": [
             "red",
             "red",
             "red",
             "blue",
             "blue",
             "green",
             "green",
             "green"
            ]
           },
           "mode": "markers",
           "type": "scatter",
           "x": [
            0.9231940826723479,
            0.9012230799947684,
            0.9112136019864661,
            0.8390683902944209,
            0.8211385579129216,
            -0.9259595842511495,
            -0.9242173273505713,
            -0.9316530437003548
           ],
           "y": [
            1,
            0.9762011010578302,
            0.9870227930283361,
            0.9088753990556184,
            0.8894538790112588,
            -1.0029955798311165,
            -1.0011083743850746,
            -1.0091627114842023
           ]
          }
         ],
         "name": "38"
        },
        {
         "data": [
          {
           "marker": {
            "color": [
             "red",
             "red",
             "red",
             "blue",
             "blue",
             "green",
             "green",
             "green"
            ]
           },
           "mode": "markers",
           "type": "scatter",
           "x": [
            0.9231940826743139,
            0.9169148729371591,
            0.8968415712885232,
            0.845330983149313,
            0.8375474347841362,
            -0.9830517997779703,
            -0.9614888434548955,
            -0.9257294966880946
           ],
           "y": [
            1,
            0.9931983860653002,
            0.9714550690040811,
            0.915659013650287,
            0.907227906355246,
            -1.0648376308149652,
            -1.0414807259909993,
            -1.0027463499395446
           ]
          }
         ],
         "name": "39"
        },
        {
         "data": [
          {
           "marker": {
            "color": [
             "red",
             "red",
             "red",
             "blue",
             "blue",
             "green",
             "green",
             "green"
            ]
           },
           "mode": "markers",
           "type": "scatter",
           "x": [
            0.8731953574371258,
            0.923194082674574,
            0.8973840160254005,
            0.818520956290296,
            0.8105126705943345,
            -0.9040725793040179,
            -0.9035187032674858,
            -0.9384072804151201
           ],
           "y": [
            0.9458415882686364,
            1,
            0.9720426428921708,
            0.886618503791708,
            0.8779439619524013,
            -0.9792876668844661,
            -0.978687710659741,
            -1.0164788726725589
           ]
          }
         ],
         "name": "40"
        },
        {
         "data": [
          {
           "marker": {
            "color": [
             "red",
             "red",
             "red",
             "blue",
             "blue",
             "green",
             "green",
             "green"
            ]
           },
           "mode": "markers",
           "type": "scatter",
           "x": [
            0.9079305758091626,
            0.9231940826745912,
            0.902137913737,
            0.862088372868683,
            0.8378674371611926,
            -0.9222579267380059,
            -0.8990419873075286,
            -0.9276005822388904
           ],
           "y": [
            0.9834666326920013,
            1,
            0.9771920451693211,
            0.9338105486672307,
            0.9075745316020885,
            -0.9989859597735714,
            -0.9738385505059379,
            -1.004773102045332
           ]
          }
         ],
         "name": "41"
        },
        {
         "data": [
          {
           "marker": {
            "color": [
             "red",
             "red",
             "red",
             "blue",
             "blue",
             "green",
             "green",
             "green"
            ]
           },
           "mode": "markers",
           "type": "scatter",
           "x": [
            0.9198931058664738,
            0.923194082674622,
            0.9198041530373815,
            0.8063615915456342,
            0.8241738385616617,
            -0.941917311353113,
            -0.8749575948474515,
            -0.87534822146629
           ],
           "y": [
            0.9964243956172404,
            1,
            0.9963280422818346,
            0.8734475303497286,
            0.8927416824140729,
            -1.0202809236214265,
            -0.9477504365198759,
            -0.9481735616526836
           ]
          }
         ],
         "name": "42"
        },
        {
         "data": [
          {
           "marker": {
            "color": [
             "red",
             "red",
             "red",
             "blue",
             "blue",
             "green",
             "green",
             "green"
            ]
           },
           "mode": "markers",
           "type": "scatter",
           "x": [
            0.9231940826746328,
            0.879885841958816,
            0.8708843325570838,
            0.7804089013368714,
            0.7918159380335588,
            -0.8698515861120664,
            -0.8771869190109005,
            -0.8748516112077278
           ],
           "y": [
            1,
            0.9530886933434973,
            0.943338295707009,
            0.8453356839938861,
            0.8576917388156846,
            -0.9422196290426523,
            -0.9501652312042044,
            -0.9476356354810566
           ]
          }
         ],
         "name": "43"
        },
        {
         "data": [
          {
           "marker": {
            "color": [
             "red",
             "red",
             "red",
             "blue",
             "blue",
             "green",
             "green",
             "green"
            ]
           },
           "mode": "markers",
           "type": "scatter",
           "x": [
            0.923194082674616,
            0.8795619497539747,
            0.8972649236422475,
            0.8089973092621179,
            0.8209102239985621,
            -0.889661100415637,
            -0.8844646099710409,
            -0.86086161273989
           ],
           "y": [
            1,
            0.9527378546510669,
            0.9719136425168057,
            0.8763025288445776,
            0.8892065486601403,
            -0.9636772127461571,
            -0.9580483958569255,
            -0.9324817271855157
           ]
          }
         ],
         "name": "44"
        },
        {
         "data": [
          {
           "marker": {
            "color": [
             "red",
             "red",
             "red",
             "blue",
             "blue",
             "green",
             "green",
             "green"
            ]
           },
           "mode": "markers",
           "type": "scatter",
           "x": [
            0.9225959008925857,
            0.9231940826746317,
            0.915859155808053,
            0.8517750696453403,
            0.8508907078668756,
            -0.9469534214711078,
            -0.9341643613111416,
            -0.9207797468201486
           ],
           "y": [
            0.9993520519755573,
            1,
            0.9920548376508991,
            0.922639221405777,
            0.9216812843965797,
            -1.0257360172063017,
            -1.0118829603031334,
            -0.9973848014195563
           ]
          }
         ],
         "name": "45"
        },
        {
         "data": [
          {
           "marker": {
            "color": [
             "red",
             "red",
             "red",
             "blue",
             "blue",
             "green",
             "green",
             "green"
            ]
           },
           "mode": "markers",
           "type": "scatter",
           "x": [
            0.9063524023718974,
            0.9000940199711578,
            0.9231940826746365,
            0.8253056358181805,
            0.8448812554485106,
            -0.9351984646644159,
            -0.9318461997433994,
            -0.9406742878993247
           ],
           "y": [
            0.9817571617725844,
            0.974978107922274,
            1,
            0.8939676405064761,
            0.9151718704703605,
            -1.0130030967648767,
            -1.0093719373110537,
            -1.0189344857736182
           ]
          }
         ],
         "name": "46"
        },
        {
         "data": [
          {
           "marker": {
            "color": [
             "red",
             "red",
             "red",
             "blue",
             "blue",
             "green",
             "green",
             "green"
            ]
           },
           "mode": "markers",
           "type": "scatter",
           "x": [
            0.9231940826746637,
            0.9227858712152858,
            0.9208513797510229,
            0.831392105815044,
            0.8381651494144846,
            -0.9264474469555335,
            -1.0297258373497404,
            -0.9029106346497605
           ],
           "y": [
            1,
            0.9995578270408806,
            0.9974623939130406,
            0.9005604795541562,
            0.9078970122795589,
            -1.0035240306907878,
            -1.1153947546614584,
            -0.9780290532559437
           ]
          }
         ],
         "name": "47"
        },
        {
         "data": [
          {
           "marker": {
            "color": [
             "red",
             "red",
             "red",
             "blue",
             "blue",
             "green",
             "green",
             "green"
            ]
           },
           "mode": "markers",
           "type": "scatter",
           "x": [
            0.9172527140068,
            0.9231940826746432,
            0.8947869106146176,
            0.8424958645111844,
            0.8628269865251614,
            -0.9557441021038583,
            -0.9617722580808965,
            -0.9618468445788498
           ],
           "y": [
            0.9935643341098657,
            1,
            0.9692294690865826,
            0.9125880249040842,
            0.9346106119153382,
            -1.0352580459950063,
            -1.0417877195383731,
            -1.0418685113234787
           ]
          }
         ],
         "name": "48"
        },
        {
         "data": [
          {
           "marker": {
            "color": [
             "red",
             "red",
             "red",
             "blue",
             "blue",
             "green",
             "green",
             "green"
            ]
           },
           "mode": "markers",
           "type": "scatter",
           "x": [
            0.9084667451391831,
            0.9202323475447436,
            0.9231940826746352,
            0.8266462744167539,
            0.8495600682350515,
            -0.9356558369859379,
            -0.9464954628608149,
            -0.9291086587801904
           ],
           "y": [
            0.9840474090856567,
            0.9967918607956079,
            1,
            0.8954198146741037,
            0.920239941068233,
            -1.013498520565912,
            -1.0252399583397236,
            -1.0064066442978354
           ]
          }
         ],
         "name": "49"
        },
        {
         "data": [
          {
           "marker": {
            "color": [
             "red",
             "red",
             "red",
             "blue",
             "blue",
             "green",
             "green",
             "green"
            ]
           },
           "mode": "markers",
           "type": "scatter",
           "x": [
            0.923194082674637,
            0.894518269462441,
            0.8841995618401122,
            0.7939483001380978,
            0.8077154832838142,
            -0.9013408979280769,
            -0.9473842990035544,
            -0.9069907115863092
           ],
           "y": [
            1,
            0.9689384781051487,
            0.9577612968211944,
            0.860001504600102,
            0.8749140602631857,
            -0.9763287209518899,
            -1.026202741961732,
            -0.9824485756652823
           ]
          }
         ],
         "name": "50"
        },
        {
         "data": [
          {
           "marker": {
            "color": [
             "red",
             "red",
             "red",
             "blue",
             "blue",
             "green",
             "green",
             "green"
            ]
           },
           "mode": "markers",
           "type": "scatter",
           "x": [
            0.9221041925726493,
            0.9231940826746461,
            0.9128868165918886,
            0.8196709730100626,
            0.8213627210007216,
            -0.9459410556753947,
            -0.8850304892509977,
            -0.8849017131691395
           ],
           "y": [
            0.9988194355634955,
            1,
            0.9888352121442414,
            0.8878641971310597,
            0.8896966915354407,
            -1.0246394267766974,
            -0.9586613539451114,
            -0.9585218642275373
           ]
          }
         ],
         "name": "51"
        },
        {
         "data": [
          {
           "marker": {
            "color": [
             "red",
             "red",
             "red",
             "blue",
             "blue",
             "green",
             "green",
             "green"
            ]
           },
           "mode": "markers",
           "type": "scatter",
           "x": [
            0.9084195895275258,
            0.9231940826746333,
            0.8383326855556381,
            0.8218614437657187,
            0.805581983418857,
            -0.8858301739770407,
            -0.9078000320512055,
            -0.8857356760602508
           ],
           "y": [
            0.9839963303227598,
            1,
            0.908078486732564,
            0.8902369059652796,
            0.8726030620614093,
            -0.9595275691224668,
            -0.983325228234962,
            -0.9594252093710746
           ]
          }
         ],
         "name": "52"
        },
        {
         "data": [
          {
           "marker": {
            "color": [
             "red",
             "red",
             "red",
             "blue",
             "blue",
             "green",
             "green",
             "green"
            ]
           },
           "mode": "markers",
           "type": "scatter",
           "x": [
            0.9170056032191052,
            0.8725253404596505,
            0.9231940826746489,
            0.825229866826461,
            0.8428654839963861,
            -0.8981659807151894,
            -0.8865788489796821,
            -0.9086587668293036
           ],
           "y": [
            0.9932966647298921,
            0.9451158286584737,
            1,
            0.8938855678490049,
            0.9129883951968921,
            -0.9728896637996939,
            -0.9603385307790647,
            -0.9842554061837017
           ]
          }
         ],
         "name": "53"
        },
        {
         "data": [
          {
           "marker": {
            "color": [
             "red",
             "red",
             "red",
             "blue",
             "blue",
             "green",
             "green",
             "green"
            ]
           },
           "mode": "markers",
           "type": "scatter",
           "x": [
            0.9105473912869654,
            0.9231940826746389,
            0.9176606670131335,
            0.7648509067041668,
            0.7768491264865085,
            -0.9243332538995939,
            -0.9071927085604714,
            -0.9061345965511914
           ],
           "y": [
            0.9863011563602826,
            1,
            0.9940062271137243,
            0.8284833287582092,
            0.8414797506455578,
            -1.001233945544409,
            -0.982667377949584,
            -0.9815212354112622
           ]
          }
         ],
         "name": "54"
        },
        {
         "data": [
          {
           "marker": {
            "color": [
             "red",
             "red",
             "red",
             "blue",
             "blue",
             "green",
             "green",
             "green"
            ]
           },
           "mode": "markers",
           "type": "scatter",
           "x": [
            0.9231940826746284,
            0.9125459756084003,
            0.9008148824957007,
            0.7799442849085206,
            0.7804299533534627,
            -0.9204234695374253,
            -0.8895261835678632,
            -0.9200225377491633
           ],
           "y": [
            1,
            0.9884660146051012,
            0.9757589432179953,
            0.8448324134064006,
            0.8453584874509108,
            -0.9969988833451087,
            -0.9635310713764151,
            -0.99656459569554
           ]
          }
         ],
         "name": "55"
        },
        {
         "data": [
          {
           "marker": {
            "color": [
             "red",
             "red",
             "red",
             "blue",
             "blue",
             "green",
             "green",
             "green"
            ]
           },
           "mode": "markers",
           "type": "scatter",
           "x": [
            0.900058170277381,
            0.922538494145734,
            0.923194082674636,
            0.7933727547745056,
            0.7801474693696269,
            -0.8975029952644517,
            -0.8754067836859845,
            -0.9362371540888369
           ],
           "y": [
            0.9749392756827215,
            0.9992898692255497,
            1,
            0.8593780762502113,
            0.8450525019716568,
            -0.9721715207101963,
            -0.94823699600608,
            -1.0141282008398653
           ]
          }
         ],
         "name": "56"
        },
        {
         "data": [
          {
           "marker": {
            "color": [
             "red",
             "red",
             "red",
             "blue",
             "blue",
             "green",
             "green",
             "green"
            ]
           },
           "mode": "markers",
           "type": "scatter",
           "x": [
            0.9168586749074639,
            0.9231940826746342,
            0.9122068077912777,
            0.8179251611642926,
            0.7939863017834495,
            -0.9017176572921463,
            -0.8909065693129027,
            -0.8928946408608326
           ],
           "y": [
            0.9931375125923504,
            1,
            0.9880986294327996,
            0.8859731409831368,
            0.8600426678246779,
            -0.9767368251318652,
            -0.9650262994882,
            -0.9671797703403625
           ]
          }
         ],
         "name": "57"
        },
        {
         "data": [
          {
           "marker": {
            "color": [
             "red",
             "red",
             "red",
             "blue",
             "blue",
             "green",
             "green",
             "green"
            ]
           },
           "mode": "markers",
           "type": "scatter",
           "x": [
            0.9052855284395381,
            0.9231940826746444,
            0.9054733933419866,
            0.8499710430916109,
            0.8264200944077317,
            -0.9376199384966458,
            -0.8959157064200112,
            -0.8727899537167327
           ],
           "y": [
            0.9806015283555338,
            1,
            0.9808050228384106,
            0.9206851073277155,
            0.8951748174267632,
            -1.0156260271732007,
            -0.9704521760195994,
            -0.9454024566406811
           ]
          }
         ],
         "name": "58"
        },
        {
         "data": [
          {
           "marker": {
            "color": [
             "red",
             "red",
             "red",
             "blue",
             "blue",
             "green",
             "green",
             "green"
            ]
           },
           "mode": "markers",
           "type": "scatter",
           "x": [
            0.923194082674634,
            0.893793117620022,
            0.876189839407551,
            0.7238116849428785,
            0.7442901131564422,
            -0.8540771882560071,
            -0.9007977033109299,
            -0.8675267270058571
           ],
           "y": [
            1,
            0.9681529966381144,
            0.9490851987147677,
            0.7840298140190446,
            0.8062119624945158,
            -0.9251328667333056,
            -0.9757403347963194,
            -0.9397013513047034
           ]
          }
         ],
         "name": "59"
        },
        {
         "data": [
          {
           "marker": {
            "color": [
             "red",
             "red",
             "red",
             "blue",
             "blue",
             "green",
             "green",
             "green"
            ]
           },
           "mode": "markers",
           "type": "scatter",
           "x": [
            0.9231940826746329,
            0.8859364407395693,
            0.8976205951952443,
            0.7681419063757574,
            0.7758016859543831,
            -0.87113027960157,
            -0.8762309235766862,
            -0.8780926670999615
           ],
           "y": [
            1,
            0.9596426768387283,
            0.9722989044672924,
            0.8320481259480448,
            0.8403451674070129,
            -0.9436047045251569,
            -0.9491297009163144,
            -0.9511463337763115
           ]
          }
         ],
         "name": "60"
        },
        {
         "data": [
          {
           "marker": {
            "color": [
             "red",
             "red",
             "red",
             "blue",
             "blue",
             "green",
             "green",
             "green"
            ]
           },
           "mode": "markers",
           "type": "scatter",
           "x": [
            0.8729593336391087,
            0.9231940826746418,
            0.9132300806743834,
            0.7915795861751935,
            0.7852960921304194,
            -0.8782881123497778,
            -0.8950230889802147,
            -0.9032737178876481
           ],
           "y": [
            0.9455859282698267,
            1,
            0.9892070343741933,
            0.8574357234633311,
            0.8506294687843915,
            -0.9513580392600045,
            -0.9694852965122959,
            -0.9784223435127828
           ]
          }
         ],
         "name": "61"
        },
        {
         "data": [
          {
           "marker": {
            "color": [
             "red",
             "red",
             "red",
             "blue",
             "blue",
             "green",
             "green",
             "green"
            ]
           },
           "mode": "markers",
           "type": "scatter",
           "x": [
            0.9224157294745859,
            0.8809796801069161,
            0.9231940826746358,
            0.8004727654050402,
            0.8201286646930883,
            -0.9231596415324979,
            -0.9394160240519016,
            -0.8783885253332864
           ],
           "y": [
            0.9991568910431097,
            0.9542735342871592,
            1,
            0.8670687783071023,
            0.8883599668631446,
            -0.9999626934977309,
            -1.0175715395946545,
            -0.9514668061871192
           ]
          }
         ],
         "name": "62"
        },
        {
         "data": [
          {
           "marker": {
            "color": [
             "red",
             "red",
             "red",
             "blue",
             "blue",
             "green",
             "green",
             "green"
            ]
           },
           "mode": "markers",
           "type": "scatter",
           "x": [
            0.8902711178235597,
            0.8921601042757192,
            0.9231940826746384,
            0.8480056884985891,
            0.8468563148291722,
            -0.9028676823618773,
            -0.9093178926030582,
            -0.9181172041801628
           ],
           "y": [
            0.964337981071438,
            0.9663841233589692,
            1,
            0.9185562433868475,
            0.9173112465969132,
            -0.9779825275158912,
            -0.9849693684870722,
            -0.9945007462788468
           ]
          }
         ],
         "name": "63"
        },
        {
         "data": [
          {
           "marker": {
            "color": [
             "red",
             "red",
             "red",
             "blue",
             "blue",
             "green",
             "green",
             "green"
            ]
           },
           "mode": "markers",
           "type": "scatter",
           "x": [
            0.9139615811771067,
            0.9231940826746398,
            0.9206222899463549,
            0.8712141794934963,
            0.8827253195182537,
            -0.9385444144137537,
            -0.9423162082275702,
            -0.9440907074801304
           ],
           "y": [
            0.9899993926837285,
            1,
            0.9972142447871476,
            0.9436955845399764,
            0.9561644036548131,
            -1.0166274156509376,
            -1.0207130070608057,
            -1.0226351372887412
           ]
          }
         ],
         "name": "64"
        },
        {
         "data": [
          {
           "marker": {
            "color": [
             "red",
             "red",
             "red",
             "blue",
             "blue",
             "green",
             "green",
             "green"
            ]
           },
           "mode": "markers",
           "type": "scatter",
           "x": [
            0.8952624413053797,
            0.9231940826746315,
            0.9185097555582369,
            0.8190857945984524,
            0.8235133856138306,
            -0.8865881778093165,
            -0.9405460166099011,
            -0.9081586145457196
           ],
           "y": [
            0.9697445619578386,
            1,
            0.994925956302901,
            0.8872303343035329,
            0.8920262825212155,
            -0.9603486357286171,
            -1.0187955428451099,
            -0.9837136433052575
           ]
          }
         ],
         "name": "65"
        },
        {
         "data": [
          {
           "marker": {
            "color": [
             "red",
             "red",
             "red",
             "blue",
             "blue",
             "green",
             "green",
             "green"
            ]
           },
           "mode": "markers",
           "type": "scatter",
           "x": [
            0.9231940826746341,
            0.9064988274497038,
            0.9125349808672673,
            0.7995071411969765,
            0.8115511520136348,
            -0.8819845879938624,
            -0.9318860581144158,
            -0.9102715123606865
           ],
           "y": [
            1,
            0.9819157688093465,
            0.9884541051471138,
            0.866022818171334,
            0.8790688407170646,
            -0.9553620463409174,
            -1.0094151117331687,
            -0.986002325451969
           ]
          }
         ],
         "name": "66"
        },
        {
         "data": [
          {
           "marker": {
            "color": [
             "red",
             "red",
             "red",
             "blue",
             "blue",
             "green",
             "green",
             "green"
            ]
           },
           "mode": "markers",
           "type": "scatter",
           "x": [
            0.8939692403117816,
            0.923194082674632,
            0.917418985449112,
            0.769816036272197,
            0.7704688971152212,
            -0.8845990265459619,
            -0.8837771950558714,
            -0.8861494507798706
           ],
           "y": [
            0.9683437720070937,
            1,
            0.9937444386463263,
            0.8338615365058775,
            0.834568712662308,
            -0.9581939953331774,
            -0.9573037908729087,
            -0.9598734084306043
           ]
          }
         ],
         "name": "67"
        },
        {
         "data": [
          {
           "marker": {
            "color": [
             "red",
             "red",
             "red",
             "blue",
             "blue",
             "green",
             "green",
             "green"
            ]
           },
           "mode": "markers",
           "type": "scatter",
           "x": [
            0.8964961071385026,
            0.923063481201699,
            0.9231940826746347,
            0.8246179092999785,
            0.8056275614497532,
            -0.8872898598342867,
            -0.8824704229378372,
            -0.8959339557697057
           ],
           "y": [
            0.9710808636697682,
            0.9998585330263807,
            1,
            0.8932226979953488,
            0.872652431995368,
            -0.961108694786768,
            -0.9558883007364867,
            -0.9704719436394642
           ]
          }
         ],
         "name": "68"
        },
        {
         "data": [
          {
           "marker": {
            "color": [
             "red",
             "red",
             "red",
             "blue",
             "blue",
             "green",
             "green",
             "green"
            ]
           },
           "mode": "markers",
           "type": "scatter",
           "x": [
            0.8629132178121466,
            0.8900112478605223,
            0.9231940826746293,
            0.8412026479849501,
            0.8057992554414865,
            -0.8823198312269668,
            -0.9051819405016368,
            -0.8742135633481524
           ],
           "y": [
            0.934704017287636,
            0.9640564910056971,
            1,
            0.9111872181284691,
            0.8728384102148773,
            -0.955725180420081,
            -0.9804893223309937,
            -0.9469445046868389
           ]
          }
         ],
         "name": "69"
        },
        {
         "data": [
          {
           "marker": {
            "color": [
             "red",
             "red",
             "red",
             "blue",
             "blue",
             "green",
             "green",
             "green"
            ]
           },
           "mode": "markers",
           "type": "scatter",
           "x": [
            0.9158931463170232,
            0.9172302405802826,
            0.923194082674631,
            0.7920175461249547,
            0.7892867113092128,
            -0.9138189364934955,
            -0.9148593585561312,
            -0.89624770887604
           ],
           "y": [
            0.9920916560291868,
            0.9935399909875168,
            1,
            0.857910119863811,
            0.8549520909216944,
            -0.9898448805542809,
            -0.9909718614157973,
            -0.9708117997024769
           ]
          }
         ],
         "name": "70"
        },
        {
         "data": [
          {
           "marker": {
            "color": [
             "red",
             "red",
             "red",
             "blue",
             "blue",
             "green",
             "green",
             "green"
            ]
           },
           "mode": "markers",
           "type": "scatter",
           "x": [
            0.9230554765105684,
            0.9091864831155859,
            0.9231940826746297,
            0.8213041140783421,
            0.8647663471480806,
            -0.9111074785879496,
            -0.9616006888812152,
            -0.9433860519153902
           ],
           "y": [
            0.9998498623781635,
            0.9848270262754932,
            1,
            0.8896332087602891,
            0.9367113192956393,
            -0.9869078406008979,
            -1.0416018764930903,
            -1.0218718573046488
           ]
          }
         ],
         "name": "71"
        },
        {
         "data": [
          {
           "marker": {
            "color": [
             "red",
             "red",
             "red",
             "blue",
             "blue",
             "green",
             "green",
             "green"
            ]
           },
           "mode": "markers",
           "type": "scatter",
           "x": [
            0.8898380291428427,
            0.9215605567981768,
            0.9231940826746254,
            0.8144814977622613,
            0.8259369834052703,
            -0.8940896509446591,
            -0.9611522028482572,
            -0.9049741751943913
           ],
           "y": [
            0.9638688612093933,
            0.9982305715481657,
            1,
            0.8822429790738975,
            0.894651513593336,
            -0.968474200305032,
            -1.0411160782829625,
            -0.9802642718122049
           ]
          }
         ],
         "name": "72"
        },
        {
         "data": [
          {
           "marker": {
            "color": [
             "red",
             "red",
             "red",
             "blue",
             "blue",
             "green",
             "green",
             "green"
            ]
           },
           "mode": "markers",
           "type": "scatter",
           "x": [
            0.923194082674629,
            0.9017856506954766,
            0.8995839939117146,
            0.7652950691897544,
            0.7755049936913959,
            -0.8906304591747242,
            -0.9206006898837594,
            -0.8808995092919971
           ],
           "y": [
            1,
            0.9768104753042518,
            0.9744256498108069,
            0.8289644437197647,
            0.840023791578735,
            -0.9647272181321073,
            -0.9971908476889686,
            -0.9541866935930694
           ]
          }
         ],
         "name": "73"
        },
        {
         "data": [
          {
           "marker": {
            "color": [
             "red",
             "red",
             "red",
             "blue",
             "blue",
             "green",
             "green",
             "green"
            ]
           },
           "mode": "markers",
           "type": "scatter",
           "x": [
            0.9175310599867017,
            0.9231940826746333,
            0.8981075391013886,
            0.7523256990867956,
            0.7522319720354216,
            -0.9079204167706991,
            -0.8739412881070244,
            -0.8734985266303532
           ],
           "y": [
            0.9938658373204424,
            1,
            0.9728263600860994,
            0.8149160758344488,
            0.8148145510812769,
            -0.9834556284636422,
            -0.9466495772753228,
            -0.946169979880822
           ]
          }
         ],
         "name": "74"
        },
        {
         "data": [
          {
           "marker": {
            "color": [
             "red",
             "red",
             "red",
             "blue",
             "blue",
             "green",
             "green",
             "green"
            ]
           },
           "mode": "markers",
           "type": "scatter",
           "x": [
            0.9049674554542897,
            0.9105169414916969,
            0.9231940826746357,
            0.8035444026527302,
            0.8200199727980905,
            -0.9087719120759078,
            -0.8915279836533297,
            -0.8969342124941435
           ],
           "y": [
            0.980256993017612,
            0.9862681732683888,
            1,
            0.8703959630295094,
            0.8882422322534506,
            -0.9843779646453822,
            -0.965699412923533,
            -0.9715554175733747
           ]
          }
         ],
         "name": "75"
        },
        {
         "data": [
          {
           "marker": {
            "color": [
             "red",
             "red",
             "red",
             "blue",
             "blue",
             "green",
             "green",
             "green"
            ]
           },
           "mode": "markers",
           "type": "scatter",
           "x": [
            0.8718874255948958,
            0.9231940826745911,
            0.9097542721655975,
            0.8445620489405053,
            0.8442446070599442,
            -0.9179629486854947,
            -0.9122300383024218,
            -0.9124489287632559
           ],
           "y": [
            0.9444248419237402,
            1,
            0.9854420530187255,
            0.9148261073053056,
            0.9144822555773551,
            -0.9943336573670982,
            -0.9881237926260882,
            -0.9883608938651087
           ]
          }
         ],
         "name": "76"
        },
        {
         "data": [
          {
           "marker": {
            "color": [
             "red",
             "red",
             "red",
             "blue",
             "blue",
             "green",
             "green",
             "green"
            ]
           },
           "mode": "markers",
           "type": "scatter",
           "x": [
            0.9231940826746251,
            0.8991168347267322,
            0.9168092259400099,
            0.8345028059740376,
            0.8345701653956189,
            -0.9350944279263781,
            -0.9409175254179303,
            -0.9748713837567426
           ],
           "y": [
            1,
            0.9739196249198883,
            0.9930839496759735,
            0.9039299770600352,
            0.9040029405060169,
            -1.0128904046018914,
            -1.0191979596445766,
            -1.0559766381218518
           ]
          }
         ],
         "name": "77"
        },
        {
         "data": [
          {
           "marker": {
            "color": [
             "red",
             "red",
             "red",
             "blue",
             "blue",
             "green",
             "green",
             "green"
            ]
           },
           "mode": "markers",
           "type": "scatter",
           "x": [
            0.9137540223053249,
            0.9231940826746421,
            0.9078349321899323,
            0.8858364856553061,
            0.8803487858862178,
            -0.9068055760084394,
            -0.9002225213361751,
            -0.9148648548995291
           ],
           "y": [
            0.9897745657749883,
            1,
            0.9833630319204272,
            0.959534405906169,
            0.9535901522848818,
            -0.9822480375754683,
            -0.975117300067714,
            -0.9909778150321675
           ]
          }
         ],
         "name": "78"
        },
        {
         "data": [
          {
           "marker": {
            "color": [
             "red",
             "red",
             "red",
             "blue",
             "blue",
             "green",
             "green",
             "green"
            ]
           },
           "mode": "markers",
           "type": "scatter",
           "x": [
            0.8941093913885282,
            0.9231940826746349,
            0.8938928571248429,
            0.8805162735987392,
            0.8864912967498135,
            -0.9523391837098419,
            -0.9477808464844094,
            -0.947322807597041
           ],
           "y": [
            0.968495583071933,
            1,
            0.9682610340559155,
            0.9537715742801877,
            0.9602436945669256,
            -1.0315698525176593,
            -1.0266322805477153,
            -1.0261361347253286
           ]
          }
         ],
         "name": "79"
        },
        {
         "data": [
          {
           "marker": {
            "color": [
             "red",
             "red",
             "red",
             "blue",
             "blue",
             "green",
             "green",
             "green"
            ]
           },
           "mode": "markers",
           "type": "scatter",
           "x": [
            0.9149337249923732,
            0.9231940826746385,
            0.9006791396531862,
            0.7962721802924349,
            0.7967355806819441,
            -0.8993280223988008,
            -0.9138048874203666,
            -0.8903882721025499
           ],
           "y": [
            0.9910524148309818,
            1,
            0.9756119071341751,
            0.8625187219414503,
            0.8630206753207085,
            -0.9741483825300383,
            -0.9898296626565581,
            -0.9644648821003666
           ]
          }
         ],
         "name": "80"
        },
        {
         "data": [
          {
           "marker": {
            "color": [
             "red",
             "red",
             "red",
             "blue",
             "blue",
             "green",
             "green",
             "green"
            ]
           },
           "mode": "markers",
           "type": "scatter",
           "x": [
            0.9231940826746348,
            0.8948757813587301,
            0.9157366074064656,
            0.8116379721149327,
            0.8117464826668341,
            -0.914152490164091,
            -0.9171526356496935,
            -0.9201367968635242
           ],
           "y": [
            1,
            0.9693257335078866,
            0.9919220937307537,
            0.8791628838905667,
            0.8792804220701733,
            -0.9902061845063509,
            -0.9934559296486843,
            -0.9966883606941545
           ]
          }
         ],
         "name": "81"
        },
        {
         "data": [
          {
           "marker": {
            "color": [
             "red",
             "red",
             "red",
             "blue",
             "blue",
             "green",
             "green",
             "green"
            ]
           },
           "mode": "markers",
           "type": "scatter",
           "x": [
            0.9231940826746345,
            0.9225965383990901,
            0.9092129421139069,
            0.8233661151210017,
            0.8355416267439394,
            -0.8997012745317682,
            -0.9256206051591036,
            -0.94038959781957
           ],
           "y": [
            1,
            0.9993527425199548,
            0.9848556865526876,
            0.8918667597344013,
            0.9050552234078953,
            -0.9745526876918355,
            -1.0026283990874758,
            -1.0186261106604082
           ]
          }
         ],
         "name": "82"
        }
       ],
       "layout": {
        "height": 500,
        "margin": {
         "b": 20,
         "l": 20,
         "r": 20,
         "t": 20
        },
        "sliders": [
         {
          "currentvalue": {
           "font": {
            "size": 20
           },
           "prefix": "Frame:",
           "visible": true,
           "xanchor": "right"
          },
          "len": 0.9,
          "pad": {
           "b": 10,
           "t": 50
          },
          "steps": [
           {
            "args": [
             [
              0
             ],
             {
              "frame": {
               "duration": 300,
               "redraw": true
              },
              "mode": "immediate",
              "transition": {
               "duration": 300
              }
             }
            ],
            "label": "0",
            "method": "animate"
           },
           {
            "args": [
             [
              1
             ],
             {
              "frame": {
               "duration": 300,
               "redraw": true
              },
              "mode": "immediate",
              "transition": {
               "duration": 300
              }
             }
            ],
            "label": "1",
            "method": "animate"
           },
           {
            "args": [
             [
              2
             ],
             {
              "frame": {
               "duration": 300,
               "redraw": true
              },
              "mode": "immediate",
              "transition": {
               "duration": 300
              }
             }
            ],
            "label": "2",
            "method": "animate"
           },
           {
            "args": [
             [
              3
             ],
             {
              "frame": {
               "duration": 300,
               "redraw": true
              },
              "mode": "immediate",
              "transition": {
               "duration": 300
              }
             }
            ],
            "label": "3",
            "method": "animate"
           },
           {
            "args": [
             [
              4
             ],
             {
              "frame": {
               "duration": 300,
               "redraw": true
              },
              "mode": "immediate",
              "transition": {
               "duration": 300
              }
             }
            ],
            "label": "4",
            "method": "animate"
           },
           {
            "args": [
             [
              5
             ],
             {
              "frame": {
               "duration": 300,
               "redraw": true
              },
              "mode": "immediate",
              "transition": {
               "duration": 300
              }
             }
            ],
            "label": "5",
            "method": "animate"
           },
           {
            "args": [
             [
              6
             ],
             {
              "frame": {
               "duration": 300,
               "redraw": true
              },
              "mode": "immediate",
              "transition": {
               "duration": 300
              }
             }
            ],
            "label": "6",
            "method": "animate"
           },
           {
            "args": [
             [
              7
             ],
             {
              "frame": {
               "duration": 300,
               "redraw": true
              },
              "mode": "immediate",
              "transition": {
               "duration": 300
              }
             }
            ],
            "label": "7",
            "method": "animate"
           },
           {
            "args": [
             [
              8
             ],
             {
              "frame": {
               "duration": 300,
               "redraw": true
              },
              "mode": "immediate",
              "transition": {
               "duration": 300
              }
             }
            ],
            "label": "8",
            "method": "animate"
           },
           {
            "args": [
             [
              9
             ],
             {
              "frame": {
               "duration": 300,
               "redraw": true
              },
              "mode": "immediate",
              "transition": {
               "duration": 300
              }
             }
            ],
            "label": "9",
            "method": "animate"
           },
           {
            "args": [
             [
              10
             ],
             {
              "frame": {
               "duration": 300,
               "redraw": true
              },
              "mode": "immediate",
              "transition": {
               "duration": 300
              }
             }
            ],
            "label": "10",
            "method": "animate"
           },
           {
            "args": [
             [
              11
             ],
             {
              "frame": {
               "duration": 300,
               "redraw": true
              },
              "mode": "immediate",
              "transition": {
               "duration": 300
              }
             }
            ],
            "label": "11",
            "method": "animate"
           },
           {
            "args": [
             [
              12
             ],
             {
              "frame": {
               "duration": 300,
               "redraw": true
              },
              "mode": "immediate",
              "transition": {
               "duration": 300
              }
             }
            ],
            "label": "12",
            "method": "animate"
           },
           {
            "args": [
             [
              13
             ],
             {
              "frame": {
               "duration": 300,
               "redraw": true
              },
              "mode": "immediate",
              "transition": {
               "duration": 300
              }
             }
            ],
            "label": "13",
            "method": "animate"
           },
           {
            "args": [
             [
              14
             ],
             {
              "frame": {
               "duration": 300,
               "redraw": true
              },
              "mode": "immediate",
              "transition": {
               "duration": 300
              }
             }
            ],
            "label": "14",
            "method": "animate"
           },
           {
            "args": [
             [
              15
             ],
             {
              "frame": {
               "duration": 300,
               "redraw": true
              },
              "mode": "immediate",
              "transition": {
               "duration": 300
              }
             }
            ],
            "label": "15",
            "method": "animate"
           },
           {
            "args": [
             [
              16
             ],
             {
              "frame": {
               "duration": 300,
               "redraw": true
              },
              "mode": "immediate",
              "transition": {
               "duration": 300
              }
             }
            ],
            "label": "16",
            "method": "animate"
           },
           {
            "args": [
             [
              17
             ],
             {
              "frame": {
               "duration": 300,
               "redraw": true
              },
              "mode": "immediate",
              "transition": {
               "duration": 300
              }
             }
            ],
            "label": "17",
            "method": "animate"
           },
           {
            "args": [
             [
              18
             ],
             {
              "frame": {
               "duration": 300,
               "redraw": true
              },
              "mode": "immediate",
              "transition": {
               "duration": 300
              }
             }
            ],
            "label": "18",
            "method": "animate"
           },
           {
            "args": [
             [
              19
             ],
             {
              "frame": {
               "duration": 300,
               "redraw": true
              },
              "mode": "immediate",
              "transition": {
               "duration": 300
              }
             }
            ],
            "label": "19",
            "method": "animate"
           },
           {
            "args": [
             [
              20
             ],
             {
              "frame": {
               "duration": 300,
               "redraw": true
              },
              "mode": "immediate",
              "transition": {
               "duration": 300
              }
             }
            ],
            "label": "20",
            "method": "animate"
           },
           {
            "args": [
             [
              21
             ],
             {
              "frame": {
               "duration": 300,
               "redraw": true
              },
              "mode": "immediate",
              "transition": {
               "duration": 300
              }
             }
            ],
            "label": "21",
            "method": "animate"
           },
           {
            "args": [
             [
              22
             ],
             {
              "frame": {
               "duration": 300,
               "redraw": true
              },
              "mode": "immediate",
              "transition": {
               "duration": 300
              }
             }
            ],
            "label": "22",
            "method": "animate"
           },
           {
            "args": [
             [
              23
             ],
             {
              "frame": {
               "duration": 300,
               "redraw": true
              },
              "mode": "immediate",
              "transition": {
               "duration": 300
              }
             }
            ],
            "label": "23",
            "method": "animate"
           },
           {
            "args": [
             [
              24
             ],
             {
              "frame": {
               "duration": 300,
               "redraw": true
              },
              "mode": "immediate",
              "transition": {
               "duration": 300
              }
             }
            ],
            "label": "24",
            "method": "animate"
           },
           {
            "args": [
             [
              25
             ],
             {
              "frame": {
               "duration": 300,
               "redraw": true
              },
              "mode": "immediate",
              "transition": {
               "duration": 300
              }
             }
            ],
            "label": "25",
            "method": "animate"
           },
           {
            "args": [
             [
              26
             ],
             {
              "frame": {
               "duration": 300,
               "redraw": true
              },
              "mode": "immediate",
              "transition": {
               "duration": 300
              }
             }
            ],
            "label": "26",
            "method": "animate"
           },
           {
            "args": [
             [
              27
             ],
             {
              "frame": {
               "duration": 300,
               "redraw": true
              },
              "mode": "immediate",
              "transition": {
               "duration": 300
              }
             }
            ],
            "label": "27",
            "method": "animate"
           },
           {
            "args": [
             [
              28
             ],
             {
              "frame": {
               "duration": 300,
               "redraw": true
              },
              "mode": "immediate",
              "transition": {
               "duration": 300
              }
             }
            ],
            "label": "28",
            "method": "animate"
           },
           {
            "args": [
             [
              29
             ],
             {
              "frame": {
               "duration": 300,
               "redraw": true
              },
              "mode": "immediate",
              "transition": {
               "duration": 300
              }
             }
            ],
            "label": "29",
            "method": "animate"
           },
           {
            "args": [
             [
              30
             ],
             {
              "frame": {
               "duration": 300,
               "redraw": true
              },
              "mode": "immediate",
              "transition": {
               "duration": 300
              }
             }
            ],
            "label": "30",
            "method": "animate"
           },
           {
            "args": [
             [
              31
             ],
             {
              "frame": {
               "duration": 300,
               "redraw": true
              },
              "mode": "immediate",
              "transition": {
               "duration": 300
              }
             }
            ],
            "label": "31",
            "method": "animate"
           },
           {
            "args": [
             [
              32
             ],
             {
              "frame": {
               "duration": 300,
               "redraw": true
              },
              "mode": "immediate",
              "transition": {
               "duration": 300
              }
             }
            ],
            "label": "32",
            "method": "animate"
           },
           {
            "args": [
             [
              33
             ],
             {
              "frame": {
               "duration": 300,
               "redraw": true
              },
              "mode": "immediate",
              "transition": {
               "duration": 300
              }
             }
            ],
            "label": "33",
            "method": "animate"
           },
           {
            "args": [
             [
              34
             ],
             {
              "frame": {
               "duration": 300,
               "redraw": true
              },
              "mode": "immediate",
              "transition": {
               "duration": 300
              }
             }
            ],
            "label": "34",
            "method": "animate"
           },
           {
            "args": [
             [
              35
             ],
             {
              "frame": {
               "duration": 300,
               "redraw": true
              },
              "mode": "immediate",
              "transition": {
               "duration": 300
              }
             }
            ],
            "label": "35",
            "method": "animate"
           },
           {
            "args": [
             [
              36
             ],
             {
              "frame": {
               "duration": 300,
               "redraw": true
              },
              "mode": "immediate",
              "transition": {
               "duration": 300
              }
             }
            ],
            "label": "36",
            "method": "animate"
           },
           {
            "args": [
             [
              37
             ],
             {
              "frame": {
               "duration": 300,
               "redraw": true
              },
              "mode": "immediate",
              "transition": {
               "duration": 300
              }
             }
            ],
            "label": "37",
            "method": "animate"
           },
           {
            "args": [
             [
              38
             ],
             {
              "frame": {
               "duration": 300,
               "redraw": true
              },
              "mode": "immediate",
              "transition": {
               "duration": 300
              }
             }
            ],
            "label": "38",
            "method": "animate"
           },
           {
            "args": [
             [
              39
             ],
             {
              "frame": {
               "duration": 300,
               "redraw": true
              },
              "mode": "immediate",
              "transition": {
               "duration": 300
              }
             }
            ],
            "label": "39",
            "method": "animate"
           },
           {
            "args": [
             [
              40
             ],
             {
              "frame": {
               "duration": 300,
               "redraw": true
              },
              "mode": "immediate",
              "transition": {
               "duration": 300
              }
             }
            ],
            "label": "40",
            "method": "animate"
           },
           {
            "args": [
             [
              41
             ],
             {
              "frame": {
               "duration": 300,
               "redraw": true
              },
              "mode": "immediate",
              "transition": {
               "duration": 300
              }
             }
            ],
            "label": "41",
            "method": "animate"
           },
           {
            "args": [
             [
              42
             ],
             {
              "frame": {
               "duration": 300,
               "redraw": true
              },
              "mode": "immediate",
              "transition": {
               "duration": 300
              }
             }
            ],
            "label": "42",
            "method": "animate"
           },
           {
            "args": [
             [
              43
             ],
             {
              "frame": {
               "duration": 300,
               "redraw": true
              },
              "mode": "immediate",
              "transition": {
               "duration": 300
              }
             }
            ],
            "label": "43",
            "method": "animate"
           },
           {
            "args": [
             [
              44
             ],
             {
              "frame": {
               "duration": 300,
               "redraw": true
              },
              "mode": "immediate",
              "transition": {
               "duration": 300
              }
             }
            ],
            "label": "44",
            "method": "animate"
           },
           {
            "args": [
             [
              45
             ],
             {
              "frame": {
               "duration": 300,
               "redraw": true
              },
              "mode": "immediate",
              "transition": {
               "duration": 300
              }
             }
            ],
            "label": "45",
            "method": "animate"
           },
           {
            "args": [
             [
              46
             ],
             {
              "frame": {
               "duration": 300,
               "redraw": true
              },
              "mode": "immediate",
              "transition": {
               "duration": 300
              }
             }
            ],
            "label": "46",
            "method": "animate"
           },
           {
            "args": [
             [
              47
             ],
             {
              "frame": {
               "duration": 300,
               "redraw": true
              },
              "mode": "immediate",
              "transition": {
               "duration": 300
              }
             }
            ],
            "label": "47",
            "method": "animate"
           },
           {
            "args": [
             [
              48
             ],
             {
              "frame": {
               "duration": 300,
               "redraw": true
              },
              "mode": "immediate",
              "transition": {
               "duration": 300
              }
             }
            ],
            "label": "48",
            "method": "animate"
           },
           {
            "args": [
             [
              49
             ],
             {
              "frame": {
               "duration": 300,
               "redraw": true
              },
              "mode": "immediate",
              "transition": {
               "duration": 300
              }
             }
            ],
            "label": "49",
            "method": "animate"
           },
           {
            "args": [
             [
              50
             ],
             {
              "frame": {
               "duration": 300,
               "redraw": true
              },
              "mode": "immediate",
              "transition": {
               "duration": 300
              }
             }
            ],
            "label": "50",
            "method": "animate"
           },
           {
            "args": [
             [
              51
             ],
             {
              "frame": {
               "duration": 300,
               "redraw": true
              },
              "mode": "immediate",
              "transition": {
               "duration": 300
              }
             }
            ],
            "label": "51",
            "method": "animate"
           },
           {
            "args": [
             [
              52
             ],
             {
              "frame": {
               "duration": 300,
               "redraw": true
              },
              "mode": "immediate",
              "transition": {
               "duration": 300
              }
             }
            ],
            "label": "52",
            "method": "animate"
           },
           {
            "args": [
             [
              53
             ],
             {
              "frame": {
               "duration": 300,
               "redraw": true
              },
              "mode": "immediate",
              "transition": {
               "duration": 300
              }
             }
            ],
            "label": "53",
            "method": "animate"
           },
           {
            "args": [
             [
              54
             ],
             {
              "frame": {
               "duration": 300,
               "redraw": true
              },
              "mode": "immediate",
              "transition": {
               "duration": 300
              }
             }
            ],
            "label": "54",
            "method": "animate"
           },
           {
            "args": [
             [
              55
             ],
             {
              "frame": {
               "duration": 300,
               "redraw": true
              },
              "mode": "immediate",
              "transition": {
               "duration": 300
              }
             }
            ],
            "label": "55",
            "method": "animate"
           },
           {
            "args": [
             [
              56
             ],
             {
              "frame": {
               "duration": 300,
               "redraw": true
              },
              "mode": "immediate",
              "transition": {
               "duration": 300
              }
             }
            ],
            "label": "56",
            "method": "animate"
           },
           {
            "args": [
             [
              57
             ],
             {
              "frame": {
               "duration": 300,
               "redraw": true
              },
              "mode": "immediate",
              "transition": {
               "duration": 300
              }
             }
            ],
            "label": "57",
            "method": "animate"
           },
           {
            "args": [
             [
              58
             ],
             {
              "frame": {
               "duration": 300,
               "redraw": true
              },
              "mode": "immediate",
              "transition": {
               "duration": 300
              }
             }
            ],
            "label": "58",
            "method": "animate"
           },
           {
            "args": [
             [
              59
             ],
             {
              "frame": {
               "duration": 300,
               "redraw": true
              },
              "mode": "immediate",
              "transition": {
               "duration": 300
              }
             }
            ],
            "label": "59",
            "method": "animate"
           },
           {
            "args": [
             [
              60
             ],
             {
              "frame": {
               "duration": 300,
               "redraw": true
              },
              "mode": "immediate",
              "transition": {
               "duration": 300
              }
             }
            ],
            "label": "60",
            "method": "animate"
           },
           {
            "args": [
             [
              61
             ],
             {
              "frame": {
               "duration": 300,
               "redraw": true
              },
              "mode": "immediate",
              "transition": {
               "duration": 300
              }
             }
            ],
            "label": "61",
            "method": "animate"
           },
           {
            "args": [
             [
              62
             ],
             {
              "frame": {
               "duration": 300,
               "redraw": true
              },
              "mode": "immediate",
              "transition": {
               "duration": 300
              }
             }
            ],
            "label": "62",
            "method": "animate"
           },
           {
            "args": [
             [
              63
             ],
             {
              "frame": {
               "duration": 300,
               "redraw": true
              },
              "mode": "immediate",
              "transition": {
               "duration": 300
              }
             }
            ],
            "label": "63",
            "method": "animate"
           },
           {
            "args": [
             [
              64
             ],
             {
              "frame": {
               "duration": 300,
               "redraw": true
              },
              "mode": "immediate",
              "transition": {
               "duration": 300
              }
             }
            ],
            "label": "64",
            "method": "animate"
           },
           {
            "args": [
             [
              65
             ],
             {
              "frame": {
               "duration": 300,
               "redraw": true
              },
              "mode": "immediate",
              "transition": {
               "duration": 300
              }
             }
            ],
            "label": "65",
            "method": "animate"
           },
           {
            "args": [
             [
              66
             ],
             {
              "frame": {
               "duration": 300,
               "redraw": true
              },
              "mode": "immediate",
              "transition": {
               "duration": 300
              }
             }
            ],
            "label": "66",
            "method": "animate"
           },
           {
            "args": [
             [
              67
             ],
             {
              "frame": {
               "duration": 300,
               "redraw": true
              },
              "mode": "immediate",
              "transition": {
               "duration": 300
              }
             }
            ],
            "label": "67",
            "method": "animate"
           },
           {
            "args": [
             [
              68
             ],
             {
              "frame": {
               "duration": 300,
               "redraw": true
              },
              "mode": "immediate",
              "transition": {
               "duration": 300
              }
             }
            ],
            "label": "68",
            "method": "animate"
           },
           {
            "args": [
             [
              69
             ],
             {
              "frame": {
               "duration": 300,
               "redraw": true
              },
              "mode": "immediate",
              "transition": {
               "duration": 300
              }
             }
            ],
            "label": "69",
            "method": "animate"
           },
           {
            "args": [
             [
              70
             ],
             {
              "frame": {
               "duration": 300,
               "redraw": true
              },
              "mode": "immediate",
              "transition": {
               "duration": 300
              }
             }
            ],
            "label": "70",
            "method": "animate"
           },
           {
            "args": [
             [
              71
             ],
             {
              "frame": {
               "duration": 300,
               "redraw": true
              },
              "mode": "immediate",
              "transition": {
               "duration": 300
              }
             }
            ],
            "label": "71",
            "method": "animate"
           },
           {
            "args": [
             [
              72
             ],
             {
              "frame": {
               "duration": 300,
               "redraw": true
              },
              "mode": "immediate",
              "transition": {
               "duration": 300
              }
             }
            ],
            "label": "72",
            "method": "animate"
           },
           {
            "args": [
             [
              73
             ],
             {
              "frame": {
               "duration": 300,
               "redraw": true
              },
              "mode": "immediate",
              "transition": {
               "duration": 300
              }
             }
            ],
            "label": "73",
            "method": "animate"
           },
           {
            "args": [
             [
              74
             ],
             {
              "frame": {
               "duration": 300,
               "redraw": true
              },
              "mode": "immediate",
              "transition": {
               "duration": 300
              }
             }
            ],
            "label": "74",
            "method": "animate"
           },
           {
            "args": [
             [
              75
             ],
             {
              "frame": {
               "duration": 300,
               "redraw": true
              },
              "mode": "immediate",
              "transition": {
               "duration": 300
              }
             }
            ],
            "label": "75",
            "method": "animate"
           },
           {
            "args": [
             [
              76
             ],
             {
              "frame": {
               "duration": 300,
               "redraw": true
              },
              "mode": "immediate",
              "transition": {
               "duration": 300
              }
             }
            ],
            "label": "76",
            "method": "animate"
           },
           {
            "args": [
             [
              77
             ],
             {
              "frame": {
               "duration": 300,
               "redraw": true
              },
              "mode": "immediate",
              "transition": {
               "duration": 300
              }
             }
            ],
            "label": "77",
            "method": "animate"
           },
           {
            "args": [
             [
              78
             ],
             {
              "frame": {
               "duration": 300,
               "redraw": true
              },
              "mode": "immediate",
              "transition": {
               "duration": 300
              }
             }
            ],
            "label": "78",
            "method": "animate"
           },
           {
            "args": [
             [
              79
             ],
             {
              "frame": {
               "duration": 300,
               "redraw": true
              },
              "mode": "immediate",
              "transition": {
               "duration": 300
              }
             }
            ],
            "label": "79",
            "method": "animate"
           },
           {
            "args": [
             [
              80
             ],
             {
              "frame": {
               "duration": 300,
               "redraw": true
              },
              "mode": "immediate",
              "transition": {
               "duration": 300
              }
             }
            ],
            "label": "80",
            "method": "animate"
           },
           {
            "args": [
             [
              81
             ],
             {
              "frame": {
               "duration": 300,
               "redraw": true
              },
              "mode": "immediate",
              "transition": {
               "duration": 300
              }
             }
            ],
            "label": "81",
            "method": "animate"
           },
           {
            "args": [
             [
              82
             ],
             {
              "frame": {
               "duration": 300,
               "redraw": true
              },
              "mode": "immediate",
              "transition": {
               "duration": 300
              }
             }
            ],
            "label": "82",
            "method": "animate"
           }
          ],
          "transition": {
           "duration": 300,
           "easing": "cubic-in-out"
          },
          "x": 0.1,
          "xanchor": "left",
          "y": 0,
          "yanchor": "top"
         }
        ],
        "template": {
         "data": {
          "bar": [
           {
            "error_x": {
             "color": "#2a3f5f"
            },
            "error_y": {
             "color": "#2a3f5f"
            },
            "marker": {
             "line": {
              "color": "#E5ECF6",
              "width": 0.5
             },
             "pattern": {
              "fillmode": "overlay",
              "size": 10,
              "solidity": 0.2
             }
            },
            "type": "bar"
           }
          ],
          "barpolar": [
           {
            "marker": {
             "line": {
              "color": "#E5ECF6",
              "width": 0.5
             },
             "pattern": {
              "fillmode": "overlay",
              "size": 10,
              "solidity": 0.2
             }
            },
            "type": "barpolar"
           }
          ],
          "carpet": [
           {
            "aaxis": {
             "endlinecolor": "#2a3f5f",
             "gridcolor": "white",
             "linecolor": "white",
             "minorgridcolor": "white",
             "startlinecolor": "#2a3f5f"
            },
            "baxis": {
             "endlinecolor": "#2a3f5f",
             "gridcolor": "white",
             "linecolor": "white",
             "minorgridcolor": "white",
             "startlinecolor": "#2a3f5f"
            },
            "type": "carpet"
           }
          ],
          "choropleth": [
           {
            "colorbar": {
             "outlinewidth": 0,
             "ticks": ""
            },
            "type": "choropleth"
           }
          ],
          "contour": [
           {
            "colorbar": {
             "outlinewidth": 0,
             "ticks": ""
            },
            "colorscale": [
             [
              0,
              "#0d0887"
             ],
             [
              0.1111111111111111,
              "#46039f"
             ],
             [
              0.2222222222222222,
              "#7201a8"
             ],
             [
              0.3333333333333333,
              "#9c179e"
             ],
             [
              0.4444444444444444,
              "#bd3786"
             ],
             [
              0.5555555555555556,
              "#d8576b"
             ],
             [
              0.6666666666666666,
              "#ed7953"
             ],
             [
              0.7777777777777778,
              "#fb9f3a"
             ],
             [
              0.8888888888888888,
              "#fdca26"
             ],
             [
              1,
              "#f0f921"
             ]
            ],
            "type": "contour"
           }
          ],
          "contourcarpet": [
           {
            "colorbar": {
             "outlinewidth": 0,
             "ticks": ""
            },
            "type": "contourcarpet"
           }
          ],
          "heatmap": [
           {
            "colorbar": {
             "outlinewidth": 0,
             "ticks": ""
            },
            "colorscale": [
             [
              0,
              "#0d0887"
             ],
             [
              0.1111111111111111,
              "#46039f"
             ],
             [
              0.2222222222222222,
              "#7201a8"
             ],
             [
              0.3333333333333333,
              "#9c179e"
             ],
             [
              0.4444444444444444,
              "#bd3786"
             ],
             [
              0.5555555555555556,
              "#d8576b"
             ],
             [
              0.6666666666666666,
              "#ed7953"
             ],
             [
              0.7777777777777778,
              "#fb9f3a"
             ],
             [
              0.8888888888888888,
              "#fdca26"
             ],
             [
              1,
              "#f0f921"
             ]
            ],
            "type": "heatmap"
           }
          ],
          "heatmapgl": [
           {
            "colorbar": {
             "outlinewidth": 0,
             "ticks": ""
            },
            "colorscale": [
             [
              0,
              "#0d0887"
             ],
             [
              0.1111111111111111,
              "#46039f"
             ],
             [
              0.2222222222222222,
              "#7201a8"
             ],
             [
              0.3333333333333333,
              "#9c179e"
             ],
             [
              0.4444444444444444,
              "#bd3786"
             ],
             [
              0.5555555555555556,
              "#d8576b"
             ],
             [
              0.6666666666666666,
              "#ed7953"
             ],
             [
              0.7777777777777778,
              "#fb9f3a"
             ],
             [
              0.8888888888888888,
              "#fdca26"
             ],
             [
              1,
              "#f0f921"
             ]
            ],
            "type": "heatmapgl"
           }
          ],
          "histogram": [
           {
            "marker": {
             "pattern": {
              "fillmode": "overlay",
              "size": 10,
              "solidity": 0.2
             }
            },
            "type": "histogram"
           }
          ],
          "histogram2d": [
           {
            "colorbar": {
             "outlinewidth": 0,
             "ticks": ""
            },
            "colorscale": [
             [
              0,
              "#0d0887"
             ],
             [
              0.1111111111111111,
              "#46039f"
             ],
             [
              0.2222222222222222,
              "#7201a8"
             ],
             [
              0.3333333333333333,
              "#9c179e"
             ],
             [
              0.4444444444444444,
              "#bd3786"
             ],
             [
              0.5555555555555556,
              "#d8576b"
             ],
             [
              0.6666666666666666,
              "#ed7953"
             ],
             [
              0.7777777777777778,
              "#fb9f3a"
             ],
             [
              0.8888888888888888,
              "#fdca26"
             ],
             [
              1,
              "#f0f921"
             ]
            ],
            "type": "histogram2d"
           }
          ],
          "histogram2dcontour": [
           {
            "colorbar": {
             "outlinewidth": 0,
             "ticks": ""
            },
            "colorscale": [
             [
              0,
              "#0d0887"
             ],
             [
              0.1111111111111111,
              "#46039f"
             ],
             [
              0.2222222222222222,
              "#7201a8"
             ],
             [
              0.3333333333333333,
              "#9c179e"
             ],
             [
              0.4444444444444444,
              "#bd3786"
             ],
             [
              0.5555555555555556,
              "#d8576b"
             ],
             [
              0.6666666666666666,
              "#ed7953"
             ],
             [
              0.7777777777777778,
              "#fb9f3a"
             ],
             [
              0.8888888888888888,
              "#fdca26"
             ],
             [
              1,
              "#f0f921"
             ]
            ],
            "type": "histogram2dcontour"
           }
          ],
          "mesh3d": [
           {
            "colorbar": {
             "outlinewidth": 0,
             "ticks": ""
            },
            "type": "mesh3d"
           }
          ],
          "parcoords": [
           {
            "line": {
             "colorbar": {
              "outlinewidth": 0,
              "ticks": ""
             }
            },
            "type": "parcoords"
           }
          ],
          "pie": [
           {
            "automargin": true,
            "type": "pie"
           }
          ],
          "scatter": [
           {
            "fillpattern": {
             "fillmode": "overlay",
             "size": 10,
             "solidity": 0.2
            },
            "type": "scatter"
           }
          ],
          "scatter3d": [
           {
            "line": {
             "colorbar": {
              "outlinewidth": 0,
              "ticks": ""
             }
            },
            "marker": {
             "colorbar": {
              "outlinewidth": 0,
              "ticks": ""
             }
            },
            "type": "scatter3d"
           }
          ],
          "scattercarpet": [
           {
            "marker": {
             "colorbar": {
              "outlinewidth": 0,
              "ticks": ""
             }
            },
            "type": "scattercarpet"
           }
          ],
          "scattergeo": [
           {
            "marker": {
             "colorbar": {
              "outlinewidth": 0,
              "ticks": ""
             }
            },
            "type": "scattergeo"
           }
          ],
          "scattergl": [
           {
            "marker": {
             "colorbar": {
              "outlinewidth": 0,
              "ticks": ""
             }
            },
            "type": "scattergl"
           }
          ],
          "scattermapbox": [
           {
            "marker": {
             "colorbar": {
              "outlinewidth": 0,
              "ticks": ""
             }
            },
            "type": "scattermapbox"
           }
          ],
          "scatterpolar": [
           {
            "marker": {
             "colorbar": {
              "outlinewidth": 0,
              "ticks": ""
             }
            },
            "type": "scatterpolar"
           }
          ],
          "scatterpolargl": [
           {
            "marker": {
             "colorbar": {
              "outlinewidth": 0,
              "ticks": ""
             }
            },
            "type": "scatterpolargl"
           }
          ],
          "scatterternary": [
           {
            "marker": {
             "colorbar": {
              "outlinewidth": 0,
              "ticks": ""
             }
            },
            "type": "scatterternary"
           }
          ],
          "surface": [
           {
            "colorbar": {
             "outlinewidth": 0,
             "ticks": ""
            },
            "colorscale": [
             [
              0,
              "#0d0887"
             ],
             [
              0.1111111111111111,
              "#46039f"
             ],
             [
              0.2222222222222222,
              "#7201a8"
             ],
             [
              0.3333333333333333,
              "#9c179e"
             ],
             [
              0.4444444444444444,
              "#bd3786"
             ],
             [
              0.5555555555555556,
              "#d8576b"
             ],
             [
              0.6666666666666666,
              "#ed7953"
             ],
             [
              0.7777777777777778,
              "#fb9f3a"
             ],
             [
              0.8888888888888888,
              "#fdca26"
             ],
             [
              1,
              "#f0f921"
             ]
            ],
            "type": "surface"
           }
          ],
          "table": [
           {
            "cells": {
             "fill": {
              "color": "#EBF0F8"
             },
             "line": {
              "color": "white"
             }
            },
            "header": {
             "fill": {
              "color": "#C8D4E3"
             },
             "line": {
              "color": "white"
             }
            },
            "type": "table"
           }
          ]
         },
         "layout": {
          "annotationdefaults": {
           "arrowcolor": "#2a3f5f",
           "arrowhead": 0,
           "arrowwidth": 1
          },
          "autotypenumbers": "strict",
          "coloraxis": {
           "colorbar": {
            "outlinewidth": 0,
            "ticks": ""
           }
          },
          "colorscale": {
           "diverging": [
            [
             0,
             "#8e0152"
            ],
            [
             0.1,
             "#c51b7d"
            ],
            [
             0.2,
             "#de77ae"
            ],
            [
             0.3,
             "#f1b6da"
            ],
            [
             0.4,
             "#fde0ef"
            ],
            [
             0.5,
             "#f7f7f7"
            ],
            [
             0.6,
             "#e6f5d0"
            ],
            [
             0.7,
             "#b8e186"
            ],
            [
             0.8,
             "#7fbc41"
            ],
            [
             0.9,
             "#4d9221"
            ],
            [
             1,
             "#276419"
            ]
           ],
           "sequential": [
            [
             0,
             "#0d0887"
            ],
            [
             0.1111111111111111,
             "#46039f"
            ],
            [
             0.2222222222222222,
             "#7201a8"
            ],
            [
             0.3333333333333333,
             "#9c179e"
            ],
            [
             0.4444444444444444,
             "#bd3786"
            ],
            [
             0.5555555555555556,
             "#d8576b"
            ],
            [
             0.6666666666666666,
             "#ed7953"
            ],
            [
             0.7777777777777778,
             "#fb9f3a"
            ],
            [
             0.8888888888888888,
             "#fdca26"
            ],
            [
             1,
             "#f0f921"
            ]
           ],
           "sequentialminus": [
            [
             0,
             "#0d0887"
            ],
            [
             0.1111111111111111,
             "#46039f"
            ],
            [
             0.2222222222222222,
             "#7201a8"
            ],
            [
             0.3333333333333333,
             "#9c179e"
            ],
            [
             0.4444444444444444,
             "#bd3786"
            ],
            [
             0.5555555555555556,
             "#d8576b"
            ],
            [
             0.6666666666666666,
             "#ed7953"
            ],
            [
             0.7777777777777778,
             "#fb9f3a"
            ],
            [
             0.8888888888888888,
             "#fdca26"
            ],
            [
             1,
             "#f0f921"
            ]
           ]
          },
          "colorway": [
           "#636efa",
           "#EF553B",
           "#00cc96",
           "#ab63fa",
           "#FFA15A",
           "#19d3f3",
           "#FF6692",
           "#B6E880",
           "#FF97FF",
           "#FECB52"
          ],
          "font": {
           "color": "#2a3f5f"
          },
          "geo": {
           "bgcolor": "white",
           "lakecolor": "white",
           "landcolor": "#E5ECF6",
           "showlakes": true,
           "showland": true,
           "subunitcolor": "white"
          },
          "hoverlabel": {
           "align": "left"
          },
          "hovermode": "closest",
          "mapbox": {
           "style": "light"
          },
          "paper_bgcolor": "white",
          "plot_bgcolor": "#E5ECF6",
          "polar": {
           "angularaxis": {
            "gridcolor": "white",
            "linecolor": "white",
            "ticks": ""
           },
           "bgcolor": "#E5ECF6",
           "radialaxis": {
            "gridcolor": "white",
            "linecolor": "white",
            "ticks": ""
           }
          },
          "scene": {
           "xaxis": {
            "backgroundcolor": "#E5ECF6",
            "gridcolor": "white",
            "gridwidth": 2,
            "linecolor": "white",
            "showbackground": true,
            "ticks": "",
            "zerolinecolor": "white"
           },
           "yaxis": {
            "backgroundcolor": "#E5ECF6",
            "gridcolor": "white",
            "gridwidth": 2,
            "linecolor": "white",
            "showbackground": true,
            "ticks": "",
            "zerolinecolor": "white"
           },
           "zaxis": {
            "backgroundcolor": "#E5ECF6",
            "gridcolor": "white",
            "gridwidth": 2,
            "linecolor": "white",
            "showbackground": true,
            "ticks": "",
            "zerolinecolor": "white"
           }
          },
          "shapedefaults": {
           "line": {
            "color": "#2a3f5f"
           }
          },
          "ternary": {
           "aaxis": {
            "gridcolor": "white",
            "linecolor": "white",
            "ticks": ""
           },
           "baxis": {
            "gridcolor": "white",
            "linecolor": "white",
            "ticks": ""
           },
           "bgcolor": "#E5ECF6",
           "caxis": {
            "gridcolor": "white",
            "linecolor": "white",
            "ticks": ""
           }
          },
          "title": {
           "x": 0.05
          },
          "xaxis": {
           "automargin": true,
           "gridcolor": "white",
           "linecolor": "white",
           "ticks": "",
           "title": {
            "standoff": 15
           },
           "zerolinecolor": "white",
           "zerolinewidth": 2
          },
          "yaxis": {
           "automargin": true,
           "gridcolor": "white",
           "linecolor": "white",
           "ticks": "",
           "title": {
            "standoff": 15
           },
           "zerolinecolor": "white",
           "zerolinewidth": 2
          }
         }
        },
        "updatemenus": [
         {
          "buttons": [
           {
            "args": [
             null,
             {
              "frame": {
               "duration": 800,
               "redraw": true
              },
              "fromcurrent": true
             }
            ],
            "label": "Play",
            "method": "animate"
           },
           {
            "args": [
             [
              null
             ],
             {
              "frame": {
               "duration": 0,
               "redraw": true
              },
              "mode": "immediate",
              "transition": {
               "duration": 0
              }
             }
            ],
            "label": "Pause",
            "method": "animate"
           }
          ],
          "direction": "left",
          "pad": {
           "r": 10,
           "t": 87
          },
          "showactive": false,
          "type": "buttons",
          "x": 0.1,
          "xanchor": "right",
          "y": 0,
          "yanchor": "top"
         }
        ],
        "width": 500,
        "xaxis": {
         "anchor": "y",
         "constrain": "domain",
         "domain": [
          0,
          1
         ],
         "range": [
          -1.1919155100674597,
          1
         ]
        },
        "yaxis": {
         "anchor": "x",
         "constrain": "domain",
         "domain": [
          0,
          1
         ],
         "range": [
          -1.2138323113441603,
          1
         ],
         "scaleanchor": "x",
         "scaleratio": 1
        }
       }
      },
      "text/html": [
       "<div>                            <div id=\"16141ee1-6b82-4d01-aaea-d16f6474d5e9\" class=\"plotly-graph-div\" style=\"height:500px; width:500px;\"></div>            <script type=\"text/javascript\">                require([\"plotly\"], function(Plotly) {                    window.PLOTLYENV=window.PLOTLYENV || {};                                    if (document.getElementById(\"16141ee1-6b82-4d01-aaea-d16f6474d5e9\")) {                    Plotly.newPlot(                        \"16141ee1-6b82-4d01-aaea-d16f6474d5e9\",                        [{\"marker\":{\"color\":[\"red\",\"red\",\"red\",\"blue\",\"blue\",\"green\",\"green\",\"green\"]},\"mode\":\"markers\",\"x\":[0.010475291087207503,0.7830516167369516,-0.4614495983750476,-0.6725637355041406,0.5002827644278232,-0.7539786871852503,1.0,-0.4057076950672159],\"y\":[0.7203626583382137,0.03513019709684168,-0.8269210033712919,0.55590374497731,0.24824369480488392,0.7579829516111039,-0.7171686843821962,-0.7735603825593723],\"type\":\"scatter\"}],                        {\"template\":{\"data\":{\"histogram2dcontour\":[{\"type\":\"histogram2dcontour\",\"colorbar\":{\"outlinewidth\":0,\"ticks\":\"\"},\"colorscale\":[[0.0,\"#0d0887\"],[0.1111111111111111,\"#46039f\"],[0.2222222222222222,\"#7201a8\"],[0.3333333333333333,\"#9c179e\"],[0.4444444444444444,\"#bd3786\"],[0.5555555555555556,\"#d8576b\"],[0.6666666666666666,\"#ed7953\"],[0.7777777777777778,\"#fb9f3a\"],[0.8888888888888888,\"#fdca26\"],[1.0,\"#f0f921\"]]}],\"choropleth\":[{\"type\":\"choropleth\",\"colorbar\":{\"outlinewidth\":0,\"ticks\":\"\"}}],\"histogram2d\":[{\"type\":\"histogram2d\",\"colorbar\":{\"outlinewidth\":0,\"ticks\":\"\"},\"colorscale\":[[0.0,\"#0d0887\"],[0.1111111111111111,\"#46039f\"],[0.2222222222222222,\"#7201a8\"],[0.3333333333333333,\"#9c179e\"],[0.4444444444444444,\"#bd3786\"],[0.5555555555555556,\"#d8576b\"],[0.6666666666666666,\"#ed7953\"],[0.7777777777777778,\"#fb9f3a\"],[0.8888888888888888,\"#fdca26\"],[1.0,\"#f0f921\"]]}],\"heatmap\":[{\"type\":\"heatmap\",\"colorbar\":{\"outlinewidth\":0,\"ticks\":\"\"},\"colorscale\":[[0.0,\"#0d0887\"],[0.1111111111111111,\"#46039f\"],[0.2222222222222222,\"#7201a8\"],[0.3333333333333333,\"#9c179e\"],[0.4444444444444444,\"#bd3786\"],[0.5555555555555556,\"#d8576b\"],[0.6666666666666666,\"#ed7953\"],[0.7777777777777778,\"#fb9f3a\"],[0.8888888888888888,\"#fdca26\"],[1.0,\"#f0f921\"]]}],\"heatmapgl\":[{\"type\":\"heatmapgl\",\"colorbar\":{\"outlinewidth\":0,\"ticks\":\"\"},\"colorscale\":[[0.0,\"#0d0887\"],[0.1111111111111111,\"#46039f\"],[0.2222222222222222,\"#7201a8\"],[0.3333333333333333,\"#9c179e\"],[0.4444444444444444,\"#bd3786\"],[0.5555555555555556,\"#d8576b\"],[0.6666666666666666,\"#ed7953\"],[0.7777777777777778,\"#fb9f3a\"],[0.8888888888888888,\"#fdca26\"],[1.0,\"#f0f921\"]]}],\"contourcarpet\":[{\"type\":\"contourcarpet\",\"colorbar\":{\"outlinewidth\":0,\"ticks\":\"\"}}],\"contour\":[{\"type\":\"contour\",\"colorbar\":{\"outlinewidth\":0,\"ticks\":\"\"},\"colorscale\":[[0.0,\"#0d0887\"],[0.1111111111111111,\"#46039f\"],[0.2222222222222222,\"#7201a8\"],[0.3333333333333333,\"#9c179e\"],[0.4444444444444444,\"#bd3786\"],[0.5555555555555556,\"#d8576b\"],[0.6666666666666666,\"#ed7953\"],[0.7777777777777778,\"#fb9f3a\"],[0.8888888888888888,\"#fdca26\"],[1.0,\"#f0f921\"]]}],\"surface\":[{\"type\":\"surface\",\"colorbar\":{\"outlinewidth\":0,\"ticks\":\"\"},\"colorscale\":[[0.0,\"#0d0887\"],[0.1111111111111111,\"#46039f\"],[0.2222222222222222,\"#7201a8\"],[0.3333333333333333,\"#9c179e\"],[0.4444444444444444,\"#bd3786\"],[0.5555555555555556,\"#d8576b\"],[0.6666666666666666,\"#ed7953\"],[0.7777777777777778,\"#fb9f3a\"],[0.8888888888888888,\"#fdca26\"],[1.0,\"#f0f921\"]]}],\"mesh3d\":[{\"type\":\"mesh3d\",\"colorbar\":{\"outlinewidth\":0,\"ticks\":\"\"}}],\"scatter\":[{\"fillpattern\":{\"fillmode\":\"overlay\",\"size\":10,\"solidity\":0.2},\"type\":\"scatter\"}],\"parcoords\":[{\"type\":\"parcoords\",\"line\":{\"colorbar\":{\"outlinewidth\":0,\"ticks\":\"\"}}}],\"scatterpolargl\":[{\"type\":\"scatterpolargl\",\"marker\":{\"colorbar\":{\"outlinewidth\":0,\"ticks\":\"\"}}}],\"bar\":[{\"error_x\":{\"color\":\"#2a3f5f\"},\"error_y\":{\"color\":\"#2a3f5f\"},\"marker\":{\"line\":{\"color\":\"#E5ECF6\",\"width\":0.5},\"pattern\":{\"fillmode\":\"overlay\",\"size\":10,\"solidity\":0.2}},\"type\":\"bar\"}],\"scattergeo\":[{\"type\":\"scattergeo\",\"marker\":{\"colorbar\":{\"outlinewidth\":0,\"ticks\":\"\"}}}],\"scatterpolar\":[{\"type\":\"scatterpolar\",\"marker\":{\"colorbar\":{\"outlinewidth\":0,\"ticks\":\"\"}}}],\"histogram\":[{\"marker\":{\"pattern\":{\"fillmode\":\"overlay\",\"size\":10,\"solidity\":0.2}},\"type\":\"histogram\"}],\"scattergl\":[{\"type\":\"scattergl\",\"marker\":{\"colorbar\":{\"outlinewidth\":0,\"ticks\":\"\"}}}],\"scatter3d\":[{\"type\":\"scatter3d\",\"line\":{\"colorbar\":{\"outlinewidth\":0,\"ticks\":\"\"}},\"marker\":{\"colorbar\":{\"outlinewidth\":0,\"ticks\":\"\"}}}],\"scattermapbox\":[{\"type\":\"scattermapbox\",\"marker\":{\"colorbar\":{\"outlinewidth\":0,\"ticks\":\"\"}}}],\"scatterternary\":[{\"type\":\"scatterternary\",\"marker\":{\"colorbar\":{\"outlinewidth\":0,\"ticks\":\"\"}}}],\"scattercarpet\":[{\"type\":\"scattercarpet\",\"marker\":{\"colorbar\":{\"outlinewidth\":0,\"ticks\":\"\"}}}],\"carpet\":[{\"aaxis\":{\"endlinecolor\":\"#2a3f5f\",\"gridcolor\":\"white\",\"linecolor\":\"white\",\"minorgridcolor\":\"white\",\"startlinecolor\":\"#2a3f5f\"},\"baxis\":{\"endlinecolor\":\"#2a3f5f\",\"gridcolor\":\"white\",\"linecolor\":\"white\",\"minorgridcolor\":\"white\",\"startlinecolor\":\"#2a3f5f\"},\"type\":\"carpet\"}],\"table\":[{\"cells\":{\"fill\":{\"color\":\"#EBF0F8\"},\"line\":{\"color\":\"white\"}},\"header\":{\"fill\":{\"color\":\"#C8D4E3\"},\"line\":{\"color\":\"white\"}},\"type\":\"table\"}],\"barpolar\":[{\"marker\":{\"line\":{\"color\":\"#E5ECF6\",\"width\":0.5},\"pattern\":{\"fillmode\":\"overlay\",\"size\":10,\"solidity\":0.2}},\"type\":\"barpolar\"}],\"pie\":[{\"automargin\":true,\"type\":\"pie\"}]},\"layout\":{\"autotypenumbers\":\"strict\",\"colorway\":[\"#636efa\",\"#EF553B\",\"#00cc96\",\"#ab63fa\",\"#FFA15A\",\"#19d3f3\",\"#FF6692\",\"#B6E880\",\"#FF97FF\",\"#FECB52\"],\"font\":{\"color\":\"#2a3f5f\"},\"hovermode\":\"closest\",\"hoverlabel\":{\"align\":\"left\"},\"paper_bgcolor\":\"white\",\"plot_bgcolor\":\"#E5ECF6\",\"polar\":{\"bgcolor\":\"#E5ECF6\",\"angularaxis\":{\"gridcolor\":\"white\",\"linecolor\":\"white\",\"ticks\":\"\"},\"radialaxis\":{\"gridcolor\":\"white\",\"linecolor\":\"white\",\"ticks\":\"\"}},\"ternary\":{\"bgcolor\":\"#E5ECF6\",\"aaxis\":{\"gridcolor\":\"white\",\"linecolor\":\"white\",\"ticks\":\"\"},\"baxis\":{\"gridcolor\":\"white\",\"linecolor\":\"white\",\"ticks\":\"\"},\"caxis\":{\"gridcolor\":\"white\",\"linecolor\":\"white\",\"ticks\":\"\"}},\"coloraxis\":{\"colorbar\":{\"outlinewidth\":0,\"ticks\":\"\"}},\"colorscale\":{\"sequential\":[[0.0,\"#0d0887\"],[0.1111111111111111,\"#46039f\"],[0.2222222222222222,\"#7201a8\"],[0.3333333333333333,\"#9c179e\"],[0.4444444444444444,\"#bd3786\"],[0.5555555555555556,\"#d8576b\"],[0.6666666666666666,\"#ed7953\"],[0.7777777777777778,\"#fb9f3a\"],[0.8888888888888888,\"#fdca26\"],[1.0,\"#f0f921\"]],\"sequentialminus\":[[0.0,\"#0d0887\"],[0.1111111111111111,\"#46039f\"],[0.2222222222222222,\"#7201a8\"],[0.3333333333333333,\"#9c179e\"],[0.4444444444444444,\"#bd3786\"],[0.5555555555555556,\"#d8576b\"],[0.6666666666666666,\"#ed7953\"],[0.7777777777777778,\"#fb9f3a\"],[0.8888888888888888,\"#fdca26\"],[1.0,\"#f0f921\"]],\"diverging\":[[0,\"#8e0152\"],[0.1,\"#c51b7d\"],[0.2,\"#de77ae\"],[0.3,\"#f1b6da\"],[0.4,\"#fde0ef\"],[0.5,\"#f7f7f7\"],[0.6,\"#e6f5d0\"],[0.7,\"#b8e186\"],[0.8,\"#7fbc41\"],[0.9,\"#4d9221\"],[1,\"#276419\"]]},\"xaxis\":{\"gridcolor\":\"white\",\"linecolor\":\"white\",\"ticks\":\"\",\"title\":{\"standoff\":15},\"zerolinecolor\":\"white\",\"automargin\":true,\"zerolinewidth\":2},\"yaxis\":{\"gridcolor\":\"white\",\"linecolor\":\"white\",\"ticks\":\"\",\"title\":{\"standoff\":15},\"zerolinecolor\":\"white\",\"automargin\":true,\"zerolinewidth\":2},\"scene\":{\"xaxis\":{\"backgroundcolor\":\"#E5ECF6\",\"gridcolor\":\"white\",\"linecolor\":\"white\",\"showbackground\":true,\"ticks\":\"\",\"zerolinecolor\":\"white\",\"gridwidth\":2},\"yaxis\":{\"backgroundcolor\":\"#E5ECF6\",\"gridcolor\":\"white\",\"linecolor\":\"white\",\"showbackground\":true,\"ticks\":\"\",\"zerolinecolor\":\"white\",\"gridwidth\":2},\"zaxis\":{\"backgroundcolor\":\"#E5ECF6\",\"gridcolor\":\"white\",\"linecolor\":\"white\",\"showbackground\":true,\"ticks\":\"\",\"zerolinecolor\":\"white\",\"gridwidth\":2}},\"shapedefaults\":{\"line\":{\"color\":\"#2a3f5f\"}},\"annotationdefaults\":{\"arrowcolor\":\"#2a3f5f\",\"arrowhead\":0,\"arrowwidth\":1},\"geo\":{\"bgcolor\":\"white\",\"landcolor\":\"#E5ECF6\",\"subunitcolor\":\"white\",\"showland\":true,\"showlakes\":true,\"lakecolor\":\"white\"},\"title\":{\"x\":0.05},\"mapbox\":{\"style\":\"light\"}}},\"xaxis\":{\"anchor\":\"y\",\"domain\":[0.0,1.0],\"range\":[-1.1919155100674597,1.0],\"constrain\":\"domain\"},\"yaxis\":{\"anchor\":\"x\",\"domain\":[0.0,1.0],\"range\":[-1.2138323113441603,1.0],\"scaleanchor\":\"x\",\"scaleratio\":1,\"constrain\":\"domain\"},\"margin\":{\"l\":20,\"r\":20,\"t\":20,\"b\":20},\"width\":500,\"height\":500,\"updatemenus\":[{\"buttons\":[{\"args\":[null,{\"frame\":{\"duration\":800,\"redraw\":true},\"fromcurrent\":true}],\"label\":\"Play\",\"method\":\"animate\"},{\"args\":[[null],{\"frame\":{\"duration\":0,\"redraw\":true},\"mode\":\"immediate\",\"transition\":{\"duration\":0}}],\"label\":\"Pause\",\"method\":\"animate\"}],\"direction\":\"left\",\"pad\":{\"r\":10,\"t\":87},\"showactive\":false,\"type\":\"buttons\",\"x\":0.1,\"xanchor\":\"right\",\"y\":0,\"yanchor\":\"top\"}],\"sliders\":[{\"currentvalue\":{\"font\":{\"size\":20},\"prefix\":\"Frame:\",\"visible\":true,\"xanchor\":\"right\"},\"len\":0.9,\"pad\":{\"b\":10,\"t\":50},\"steps\":[{\"args\":[[0],{\"frame\":{\"duration\":300,\"redraw\":true},\"mode\":\"immediate\",\"transition\":{\"duration\":300}}],\"label\":\"0\",\"method\":\"animate\"},{\"args\":[[1],{\"frame\":{\"duration\":300,\"redraw\":true},\"mode\":\"immediate\",\"transition\":{\"duration\":300}}],\"label\":\"1\",\"method\":\"animate\"},{\"args\":[[2],{\"frame\":{\"duration\":300,\"redraw\":true},\"mode\":\"immediate\",\"transition\":{\"duration\":300}}],\"label\":\"2\",\"method\":\"animate\"},{\"args\":[[3],{\"frame\":{\"duration\":300,\"redraw\":true},\"mode\":\"immediate\",\"transition\":{\"duration\":300}}],\"label\":\"3\",\"method\":\"animate\"},{\"args\":[[4],{\"frame\":{\"duration\":300,\"redraw\":true},\"mode\":\"immediate\",\"transition\":{\"duration\":300}}],\"label\":\"4\",\"method\":\"animate\"},{\"args\":[[5],{\"frame\":{\"duration\":300,\"redraw\":true},\"mode\":\"immediate\",\"transition\":{\"duration\":300}}],\"label\":\"5\",\"method\":\"animate\"},{\"args\":[[6],{\"frame\":{\"duration\":300,\"redraw\":true},\"mode\":\"immediate\",\"transition\":{\"duration\":300}}],\"label\":\"6\",\"method\":\"animate\"},{\"args\":[[7],{\"frame\":{\"duration\":300,\"redraw\":true},\"mode\":\"immediate\",\"transition\":{\"duration\":300}}],\"label\":\"7\",\"method\":\"animate\"},{\"args\":[[8],{\"frame\":{\"duration\":300,\"redraw\":true},\"mode\":\"immediate\",\"transition\":{\"duration\":300}}],\"label\":\"8\",\"method\":\"animate\"},{\"args\":[[9],{\"frame\":{\"duration\":300,\"redraw\":true},\"mode\":\"immediate\",\"transition\":{\"duration\":300}}],\"label\":\"9\",\"method\":\"animate\"},{\"args\":[[10],{\"frame\":{\"duration\":300,\"redraw\":true},\"mode\":\"immediate\",\"transition\":{\"duration\":300}}],\"label\":\"10\",\"method\":\"animate\"},{\"args\":[[11],{\"frame\":{\"duration\":300,\"redraw\":true},\"mode\":\"immediate\",\"transition\":{\"duration\":300}}],\"label\":\"11\",\"method\":\"animate\"},{\"args\":[[12],{\"frame\":{\"duration\":300,\"redraw\":true},\"mode\":\"immediate\",\"transition\":{\"duration\":300}}],\"label\":\"12\",\"method\":\"animate\"},{\"args\":[[13],{\"frame\":{\"duration\":300,\"redraw\":true},\"mode\":\"immediate\",\"transition\":{\"duration\":300}}],\"label\":\"13\",\"method\":\"animate\"},{\"args\":[[14],{\"frame\":{\"duration\":300,\"redraw\":true},\"mode\":\"immediate\",\"transition\":{\"duration\":300}}],\"label\":\"14\",\"method\":\"animate\"},{\"args\":[[15],{\"frame\":{\"duration\":300,\"redraw\":true},\"mode\":\"immediate\",\"transition\":{\"duration\":300}}],\"label\":\"15\",\"method\":\"animate\"},{\"args\":[[16],{\"frame\":{\"duration\":300,\"redraw\":true},\"mode\":\"immediate\",\"transition\":{\"duration\":300}}],\"label\":\"16\",\"method\":\"animate\"},{\"args\":[[17],{\"frame\":{\"duration\":300,\"redraw\":true},\"mode\":\"immediate\",\"transition\":{\"duration\":300}}],\"label\":\"17\",\"method\":\"animate\"},{\"args\":[[18],{\"frame\":{\"duration\":300,\"redraw\":true},\"mode\":\"immediate\",\"transition\":{\"duration\":300}}],\"label\":\"18\",\"method\":\"animate\"},{\"args\":[[19],{\"frame\":{\"duration\":300,\"redraw\":true},\"mode\":\"immediate\",\"transition\":{\"duration\":300}}],\"label\":\"19\",\"method\":\"animate\"},{\"args\":[[20],{\"frame\":{\"duration\":300,\"redraw\":true},\"mode\":\"immediate\",\"transition\":{\"duration\":300}}],\"label\":\"20\",\"method\":\"animate\"},{\"args\":[[21],{\"frame\":{\"duration\":300,\"redraw\":true},\"mode\":\"immediate\",\"transition\":{\"duration\":300}}],\"label\":\"21\",\"method\":\"animate\"},{\"args\":[[22],{\"frame\":{\"duration\":300,\"redraw\":true},\"mode\":\"immediate\",\"transition\":{\"duration\":300}}],\"label\":\"22\",\"method\":\"animate\"},{\"args\":[[23],{\"frame\":{\"duration\":300,\"redraw\":true},\"mode\":\"immediate\",\"transition\":{\"duration\":300}}],\"label\":\"23\",\"method\":\"animate\"},{\"args\":[[24],{\"frame\":{\"duration\":300,\"redraw\":true},\"mode\":\"immediate\",\"transition\":{\"duration\":300}}],\"label\":\"24\",\"method\":\"animate\"},{\"args\":[[25],{\"frame\":{\"duration\":300,\"redraw\":true},\"mode\":\"immediate\",\"transition\":{\"duration\":300}}],\"label\":\"25\",\"method\":\"animate\"},{\"args\":[[26],{\"frame\":{\"duration\":300,\"redraw\":true},\"mode\":\"immediate\",\"transition\":{\"duration\":300}}],\"label\":\"26\",\"method\":\"animate\"},{\"args\":[[27],{\"frame\":{\"duration\":300,\"redraw\":true},\"mode\":\"immediate\",\"transition\":{\"duration\":300}}],\"label\":\"27\",\"method\":\"animate\"},{\"args\":[[28],{\"frame\":{\"duration\":300,\"redraw\":true},\"mode\":\"immediate\",\"transition\":{\"duration\":300}}],\"label\":\"28\",\"method\":\"animate\"},{\"args\":[[29],{\"frame\":{\"duration\":300,\"redraw\":true},\"mode\":\"immediate\",\"transition\":{\"duration\":300}}],\"label\":\"29\",\"method\":\"animate\"},{\"args\":[[30],{\"frame\":{\"duration\":300,\"redraw\":true},\"mode\":\"immediate\",\"transition\":{\"duration\":300}}],\"label\":\"30\",\"method\":\"animate\"},{\"args\":[[31],{\"frame\":{\"duration\":300,\"redraw\":true},\"mode\":\"immediate\",\"transition\":{\"duration\":300}}],\"label\":\"31\",\"method\":\"animate\"},{\"args\":[[32],{\"frame\":{\"duration\":300,\"redraw\":true},\"mode\":\"immediate\",\"transition\":{\"duration\":300}}],\"label\":\"32\",\"method\":\"animate\"},{\"args\":[[33],{\"frame\":{\"duration\":300,\"redraw\":true},\"mode\":\"immediate\",\"transition\":{\"duration\":300}}],\"label\":\"33\",\"method\":\"animate\"},{\"args\":[[34],{\"frame\":{\"duration\":300,\"redraw\":true},\"mode\":\"immediate\",\"transition\":{\"duration\":300}}],\"label\":\"34\",\"method\":\"animate\"},{\"args\":[[35],{\"frame\":{\"duration\":300,\"redraw\":true},\"mode\":\"immediate\",\"transition\":{\"duration\":300}}],\"label\":\"35\",\"method\":\"animate\"},{\"args\":[[36],{\"frame\":{\"duration\":300,\"redraw\":true},\"mode\":\"immediate\",\"transition\":{\"duration\":300}}],\"label\":\"36\",\"method\":\"animate\"},{\"args\":[[37],{\"frame\":{\"duration\":300,\"redraw\":true},\"mode\":\"immediate\",\"transition\":{\"duration\":300}}],\"label\":\"37\",\"method\":\"animate\"},{\"args\":[[38],{\"frame\":{\"duration\":300,\"redraw\":true},\"mode\":\"immediate\",\"transition\":{\"duration\":300}}],\"label\":\"38\",\"method\":\"animate\"},{\"args\":[[39],{\"frame\":{\"duration\":300,\"redraw\":true},\"mode\":\"immediate\",\"transition\":{\"duration\":300}}],\"label\":\"39\",\"method\":\"animate\"},{\"args\":[[40],{\"frame\":{\"duration\":300,\"redraw\":true},\"mode\":\"immediate\",\"transition\":{\"duration\":300}}],\"label\":\"40\",\"method\":\"animate\"},{\"args\":[[41],{\"frame\":{\"duration\":300,\"redraw\":true},\"mode\":\"immediate\",\"transition\":{\"duration\":300}}],\"label\":\"41\",\"method\":\"animate\"},{\"args\":[[42],{\"frame\":{\"duration\":300,\"redraw\":true},\"mode\":\"immediate\",\"transition\":{\"duration\":300}}],\"label\":\"42\",\"method\":\"animate\"},{\"args\":[[43],{\"frame\":{\"duration\":300,\"redraw\":true},\"mode\":\"immediate\",\"transition\":{\"duration\":300}}],\"label\":\"43\",\"method\":\"animate\"},{\"args\":[[44],{\"frame\":{\"duration\":300,\"redraw\":true},\"mode\":\"immediate\",\"transition\":{\"duration\":300}}],\"label\":\"44\",\"method\":\"animate\"},{\"args\":[[45],{\"frame\":{\"duration\":300,\"redraw\":true},\"mode\":\"immediate\",\"transition\":{\"duration\":300}}],\"label\":\"45\",\"method\":\"animate\"},{\"args\":[[46],{\"frame\":{\"duration\":300,\"redraw\":true},\"mode\":\"immediate\",\"transition\":{\"duration\":300}}],\"label\":\"46\",\"method\":\"animate\"},{\"args\":[[47],{\"frame\":{\"duration\":300,\"redraw\":true},\"mode\":\"immediate\",\"transition\":{\"duration\":300}}],\"label\":\"47\",\"method\":\"animate\"},{\"args\":[[48],{\"frame\":{\"duration\":300,\"redraw\":true},\"mode\":\"immediate\",\"transition\":{\"duration\":300}}],\"label\":\"48\",\"method\":\"animate\"},{\"args\":[[49],{\"frame\":{\"duration\":300,\"redraw\":true},\"mode\":\"immediate\",\"transition\":{\"duration\":300}}],\"label\":\"49\",\"method\":\"animate\"},{\"args\":[[50],{\"frame\":{\"duration\":300,\"redraw\":true},\"mode\":\"immediate\",\"transition\":{\"duration\":300}}],\"label\":\"50\",\"method\":\"animate\"},{\"args\":[[51],{\"frame\":{\"duration\":300,\"redraw\":true},\"mode\":\"immediate\",\"transition\":{\"duration\":300}}],\"label\":\"51\",\"method\":\"animate\"},{\"args\":[[52],{\"frame\":{\"duration\":300,\"redraw\":true},\"mode\":\"immediate\",\"transition\":{\"duration\":300}}],\"label\":\"52\",\"method\":\"animate\"},{\"args\":[[53],{\"frame\":{\"duration\":300,\"redraw\":true},\"mode\":\"immediate\",\"transition\":{\"duration\":300}}],\"label\":\"53\",\"method\":\"animate\"},{\"args\":[[54],{\"frame\":{\"duration\":300,\"redraw\":true},\"mode\":\"immediate\",\"transition\":{\"duration\":300}}],\"label\":\"54\",\"method\":\"animate\"},{\"args\":[[55],{\"frame\":{\"duration\":300,\"redraw\":true},\"mode\":\"immediate\",\"transition\":{\"duration\":300}}],\"label\":\"55\",\"method\":\"animate\"},{\"args\":[[56],{\"frame\":{\"duration\":300,\"redraw\":true},\"mode\":\"immediate\",\"transition\":{\"duration\":300}}],\"label\":\"56\",\"method\":\"animate\"},{\"args\":[[57],{\"frame\":{\"duration\":300,\"redraw\":true},\"mode\":\"immediate\",\"transition\":{\"duration\":300}}],\"label\":\"57\",\"method\":\"animate\"},{\"args\":[[58],{\"frame\":{\"duration\":300,\"redraw\":true},\"mode\":\"immediate\",\"transition\":{\"duration\":300}}],\"label\":\"58\",\"method\":\"animate\"},{\"args\":[[59],{\"frame\":{\"duration\":300,\"redraw\":true},\"mode\":\"immediate\",\"transition\":{\"duration\":300}}],\"label\":\"59\",\"method\":\"animate\"},{\"args\":[[60],{\"frame\":{\"duration\":300,\"redraw\":true},\"mode\":\"immediate\",\"transition\":{\"duration\":300}}],\"label\":\"60\",\"method\":\"animate\"},{\"args\":[[61],{\"frame\":{\"duration\":300,\"redraw\":true},\"mode\":\"immediate\",\"transition\":{\"duration\":300}}],\"label\":\"61\",\"method\":\"animate\"},{\"args\":[[62],{\"frame\":{\"duration\":300,\"redraw\":true},\"mode\":\"immediate\",\"transition\":{\"duration\":300}}],\"label\":\"62\",\"method\":\"animate\"},{\"args\":[[63],{\"frame\":{\"duration\":300,\"redraw\":true},\"mode\":\"immediate\",\"transition\":{\"duration\":300}}],\"label\":\"63\",\"method\":\"animate\"},{\"args\":[[64],{\"frame\":{\"duration\":300,\"redraw\":true},\"mode\":\"immediate\",\"transition\":{\"duration\":300}}],\"label\":\"64\",\"method\":\"animate\"},{\"args\":[[65],{\"frame\":{\"duration\":300,\"redraw\":true},\"mode\":\"immediate\",\"transition\":{\"duration\":300}}],\"label\":\"65\",\"method\":\"animate\"},{\"args\":[[66],{\"frame\":{\"duration\":300,\"redraw\":true},\"mode\":\"immediate\",\"transition\":{\"duration\":300}}],\"label\":\"66\",\"method\":\"animate\"},{\"args\":[[67],{\"frame\":{\"duration\":300,\"redraw\":true},\"mode\":\"immediate\",\"transition\":{\"duration\":300}}],\"label\":\"67\",\"method\":\"animate\"},{\"args\":[[68],{\"frame\":{\"duration\":300,\"redraw\":true},\"mode\":\"immediate\",\"transition\":{\"duration\":300}}],\"label\":\"68\",\"method\":\"animate\"},{\"args\":[[69],{\"frame\":{\"duration\":300,\"redraw\":true},\"mode\":\"immediate\",\"transition\":{\"duration\":300}}],\"label\":\"69\",\"method\":\"animate\"},{\"args\":[[70],{\"frame\":{\"duration\":300,\"redraw\":true},\"mode\":\"immediate\",\"transition\":{\"duration\":300}}],\"label\":\"70\",\"method\":\"animate\"},{\"args\":[[71],{\"frame\":{\"duration\":300,\"redraw\":true},\"mode\":\"immediate\",\"transition\":{\"duration\":300}}],\"label\":\"71\",\"method\":\"animate\"},{\"args\":[[72],{\"frame\":{\"duration\":300,\"redraw\":true},\"mode\":\"immediate\",\"transition\":{\"duration\":300}}],\"label\":\"72\",\"method\":\"animate\"},{\"args\":[[73],{\"frame\":{\"duration\":300,\"redraw\":true},\"mode\":\"immediate\",\"transition\":{\"duration\":300}}],\"label\":\"73\",\"method\":\"animate\"},{\"args\":[[74],{\"frame\":{\"duration\":300,\"redraw\":true},\"mode\":\"immediate\",\"transition\":{\"duration\":300}}],\"label\":\"74\",\"method\":\"animate\"},{\"args\":[[75],{\"frame\":{\"duration\":300,\"redraw\":true},\"mode\":\"immediate\",\"transition\":{\"duration\":300}}],\"label\":\"75\",\"method\":\"animate\"},{\"args\":[[76],{\"frame\":{\"duration\":300,\"redraw\":true},\"mode\":\"immediate\",\"transition\":{\"duration\":300}}],\"label\":\"76\",\"method\":\"animate\"},{\"args\":[[77],{\"frame\":{\"duration\":300,\"redraw\":true},\"mode\":\"immediate\",\"transition\":{\"duration\":300}}],\"label\":\"77\",\"method\":\"animate\"},{\"args\":[[78],{\"frame\":{\"duration\":300,\"redraw\":true},\"mode\":\"immediate\",\"transition\":{\"duration\":300}}],\"label\":\"78\",\"method\":\"animate\"},{\"args\":[[79],{\"frame\":{\"duration\":300,\"redraw\":true},\"mode\":\"immediate\",\"transition\":{\"duration\":300}}],\"label\":\"79\",\"method\":\"animate\"},{\"args\":[[80],{\"frame\":{\"duration\":300,\"redraw\":true},\"mode\":\"immediate\",\"transition\":{\"duration\":300}}],\"label\":\"80\",\"method\":\"animate\"},{\"args\":[[81],{\"frame\":{\"duration\":300,\"redraw\":true},\"mode\":\"immediate\",\"transition\":{\"duration\":300}}],\"label\":\"81\",\"method\":\"animate\"},{\"args\":[[82],{\"frame\":{\"duration\":300,\"redraw\":true},\"mode\":\"immediate\",\"transition\":{\"duration\":300}}],\"label\":\"82\",\"method\":\"animate\"}],\"transition\":{\"duration\":300,\"easing\":\"cubic-in-out\"},\"x\":0.1,\"xanchor\":\"left\",\"y\":0,\"yanchor\":\"top\"}]},                        {\"responsive\": true}                    ).then(function(){\n",
       "                            Plotly.addFrames('16141ee1-6b82-4d01-aaea-d16f6474d5e9', [{\"data\":[{\"marker\":{\"color\":[\"red\",\"red\",\"red\",\"blue\",\"blue\",\"green\",\"green\",\"green\"]},\"mode\":\"markers\",\"x\":[0.010475291087207503,0.7830516167369516,-0.4614495983750476,-0.6725637355041406,0.5002827644278232,-0.7539786871852503,1.0,-0.4057076950672159],\"y\":[0.7203626583382137,0.03513019709684168,-0.8269210033712919,0.55590374497731,0.24824369480488392,0.7579829516111039,-0.7171686843821962,-0.7735603825593723],\"type\":\"scatter\"}],\"name\":\"0\"},{\"data\":[{\"marker\":{\"color\":[\"red\",\"red\",\"red\",\"blue\",\"blue\",\"green\",\"green\",\"green\"]},\"mode\":\"markers\",\"x\":[0.02479705963830396,0.903488265164014,-0.527992375133218,-0.2837084556996452,0.44403548756579797,-0.7285674905210482,0.8440490444287355,-0.5064024659938775],\"y\":[1.0,0.24615776936719544,-0.8956856596368382,0.5616880062339012,0.40970552102491997,0.7194452888598724,-0.614325048234829,-0.8259578997119055],\"type\":\"scatter\"}],\"name\":\"1\"},{\"data\":[{\"marker\":{\"color\":[\"red\",\"red\",\"red\",\"blue\",\"blue\",\"green\",\"green\",\"green\"]},\"mode\":\"markers\",\"x\":[0.1399173543000873,0.9453245986973599,-0.5500767807484696,0.10068519594091081,0.1422644220396533,-0.7570639770694455,0.7960135518343165,-0.5710888930330805],\"y\":[1.0,0.43723646768126034,-0.95245116972209,0.7037532233304202,0.7015022442728753,0.7990644873910248,-0.6227618485861004,-0.988276774314787],\"type\":\"scatter\"}],\"name\":\"2\"},{\"data\":[{\"marker\":{\"color\":[\"red\",\"red\",\"red\",\"blue\",\"blue\",\"green\",\"green\",\"green\"]},\"mode\":\"markers\",\"x\":[0.2548215466212101,0.9679858664640933,-0.4352426465289162,0.19251031844189948,0.1898159761248474,-0.9315206325424228,0.5718077019228922,-0.3830232993827636],\"y\":[1.0,0.44018315492877436,-0.949576767919936,0.8404418518491276,0.8219471406369414,0.6662963165289173,-0.8578434661060211,-0.913380944829185],\"type\":\"scatter\"}],\"name\":\"3\"},{\"data\":[{\"marker\":{\"color\":[\"red\",\"red\",\"red\",\"blue\",\"blue\",\"green\",\"green\",\"green\"]},\"mode\":\"markers\",\"x\":[0.3061752907201468,0.815217211618604,-0.4509125357175998,0.23022937318742256,0.23228644014082625,-0.8717375966036834,0.457253449843589,-0.41267935703543546],\"y\":[1.0,0.6653239803457714,-0.9978002985893927,0.8083450971372046,0.8107309041563864,0.5926152322773789,-0.9925273858688849,-0.9674423326579515],\"type\":\"scatter\"}],\"name\":\"4\"},{\"data\":[{\"marker\":{\"color\":[\"red\",\"red\",\"red\",\"blue\",\"blue\",\"green\",\"green\",\"green\"]},\"mode\":\"markers\",\"x\":[0.4240946508980372,0.5108369493998522,-0.39769705154449925,0.3766104339078048,0.36953244859509365,-0.8544072962593351,0.3098625088633915,-0.39901014025883114],\"y\":[1.0,0.8701124108575641,-0.9635588330557882,0.8355634603714002,0.83134345976246,0.551386262437455,-1.0326850718375862,-1.0040354609708646],\"type\":\"scatter\"}],\"name\":\"5\"},{\"data\":[{\"marker\":{\"color\":[\"red\",\"red\",\"red\",\"blue\",\"blue\",\"green\",\"green\",\"green\"]},\"mode\":\"markers\",\"x\":[0.527157645497016,0.5636863643293492,-0.3322396469264281,0.47745234594715186,0.4772312345578246,-1.0984069218828267,0.22494386682140932,-0.3237011645516949],\"y\":[0.9411472574755835,1.0,-1.0447301453022984,0.8583671237334736,0.8577091727808827,0.5467381230450976,-1.1646959886464767,-1.0461965389110741],\"type\":\"scatter\"}],\"name\":\"6\"},{\"data\":[{\"marker\":{\"color\":[\"red\",\"red\",\"red\",\"blue\",\"blue\",\"green\",\"green\",\"green\"]},\"mode\":\"markers\",\"x\":[0.5404081192093778,0.5688668842358557,-0.2980512298502204,0.4649639633677378,0.45936131780804484,-1.0342530749248213,0.06810514880920295,-0.24399491280776542],\"y\":[0.9484194776724587,1.0,-1.117882627216956,0.8324305132485486,0.8017253128095436,0.5374766689799096,-1.1127813377599205,-1.1056465269753053],\"type\":\"scatter\"}],\"name\":\"7\"},{\"data\":[{\"marker\":{\"color\":[\"red\",\"red\",\"red\",\"blue\",\"blue\",\"green\",\"green\",\"green\"]},\"mode\":\"markers\",\"x\":[0.5455820405525363,0.5388282969186241,-0.2517909415539967,0.4880477476829209,0.4911326323162734,-1.0100623553841217,-0.1981212183502674,-0.21041441997355906],\"y\":[1.0,0.9889511926295081,-1.151239457267837,0.9085174297792916,0.9150077726792465,0.40732678369849906,-1.1497013902852786,-1.1722365143447002],\"type\":\"scatter\"}],\"name\":\"8\"},{\"data\":[{\"marker\":{\"color\":[\"red\",\"red\",\"red\",\"blue\",\"blue\",\"green\",\"green\",\"green\"]},\"mode\":\"markers\",\"x\":[0.5395310132770774,0.5174679864349027,-0.1562552141437795,0.4413681013192973,0.4396392055233569,-0.9763965398727049,-0.26468758574251994,-0.2525588781148361],\"y\":[1.0,0.9676860889345605,-1.0406428991190662,0.8616025872607515,0.8596659162722083,0.37389282876156077,-1.1874059367716074,-1.1317748930016367],\"type\":\"scatter\"}],\"name\":\"9\"},{\"data\":[{\"marker\":{\"color\":[\"red\",\"red\",\"red\",\"blue\",\"blue\",\"green\",\"green\",\"green\"]},\"mode\":\"markers\",\"x\":[0.5571299112840593,0.5605653013697569,-0.14835119593441762,0.46034403455303435,0.4789522089741809,-1.0586615643929107,-0.2593251451217426,-0.22656707317656197],\"y\":[0.9927954349441043,1.0,-1.1331718795126318,0.843527783714611,0.8697724509926597,0.3912715190119263,-1.1647256367298433,-1.0888663465424169],\"type\":\"scatter\"}],\"name\":\"10\"},{\"data\":[{\"marker\":{\"color\":[\"red\",\"red\",\"red\",\"blue\",\"blue\",\"green\",\"green\",\"green\"]},\"mode\":\"markers\",\"x\":[0.5825602140619331,0.6033773741732635,-0.08258474609621017,0.4387401722734991,0.45210025584544355,-1.1258274647042101,-0.24791833071419875,-0.24718602081825491],\"y\":[0.9690494347142526,1.0,-1.0540403324372696,0.7454728809715847,0.7676036507297092,0.2978052147268147,-1.116626490334904,-1.1288799935992233],\"type\":\"scatter\"}],\"name\":\"11\"},{\"data\":[{\"marker\":{\"color\":[\"red\",\"red\",\"red\",\"blue\",\"blue\",\"green\",\"green\",\"green\"]},\"mode\":\"markers\",\"x\":[0.5698713915223411,0.5867584981350285,-0.04435497707590947,0.4824451141324342,0.4715760904353603,-1.1779484583777893,-0.25379110666606,-0.2546101420700356],\"y\":[0.9762805117246056,1.0,-1.2138323113441603,0.8368091730002521,0.8173093286096024,0.38313068435326936,-1.181616327328323,-1.1763936518592997],\"type\":\"scatter\"}],\"name\":\"12\"},{\"data\":[{\"marker\":{\"color\":[\"red\",\"red\",\"red\",\"blue\",\"blue\",\"green\",\"green\",\"green\"]},\"mode\":\"markers\",\"x\":[0.5783299733614091,0.5498672985726639,-0.023371792177194678,0.4220487061101176,0.4168580070080389,-1.0423406039465968,-0.2436066767858828,-0.2548535124311956],\"y\":[1.0,0.9516738167995082,-1.0362455118266736,0.7407051344542652,0.7293407275082977,0.30007906731740075,-1.0194743173570762,-1.0613964906304492],\"type\":\"scatter\"}],\"name\":\"13\"},{\"data\":[{\"marker\":{\"color\":[\"red\",\"red\",\"red\",\"blue\",\"blue\",\"green\",\"green\",\"green\"]},\"mode\":\"markers\",\"x\":[0.5911031644186487,0.5804849394922849,0.04775604827176933,0.44111270225024407,0.44142253039681617,-1.0925335413096906,-0.29568123572745514,-0.308020064198253],\"y\":[1.0,0.9889025868641982,-1.0133201278257153,0.7611379787464958,0.7613011983450401,0.220345683091455,-1.0602283804023098,-1.0958478804561256],\"type\":\"scatter\"}],\"name\":\"14\"},{\"data\":[{\"marker\":{\"color\":[\"red\",\"red\",\"red\",\"blue\",\"blue\",\"green\",\"green\",\"green\"]},\"mode\":\"markers\",\"x\":[0.57874931493536,0.540374307631231,0.14901688475351046,0.45488549073567147,0.4528349817665227,-1.140613990919124,-0.36042086885178026,-0.3344097230814121],\"y\":[1.0,0.9235303515068978,-1.122512339972284,0.7952554915818746,0.7902695093927445,0.11306744751995544,-1.0760925649282438,-0.978203436566771],\"type\":\"scatter\"}],\"name\":\"15\"},{\"data\":[{\"marker\":{\"color\":[\"red\",\"red\",\"red\",\"blue\",\"blue\",\"green\",\"green\",\"green\"]},\"mode\":\"markers\",\"x\":[0.5524452899607434,0.5612229512349661,0.29834440968876424,0.44102972615302377,0.44042117041414836,-1.1086756485533185,-0.4416518960136287,-0.44353025222686027],\"y\":[0.9787470336950089,1.0,-1.0724121522284282,0.817451201326027,0.8189024344301514,0.12232135093391674,-1.1084313757523543,-1.1093647090226417],\"type\":\"scatter\"}],\"name\":\"16\"},{\"data\":[{\"marker\":{\"color\":[\"red\",\"red\",\"red\",\"blue\",\"blue\",\"green\",\"green\",\"green\"]},\"mode\":\"markers\",\"x\":[0.5151289870418575,0.5371770237151564,0.42893665071732145,0.4584564113424988,0.47047591420803925,-1.093968895659937,-0.5058233829653759,-0.501475549642948],\"y\":[0.9651418473571965,1.0,-1.049133546063231,0.867256782798636,0.9066870566273422,0.026693004389881016,-1.035280360018237,-1.0241662438889318],\"type\":\"scatter\"}],\"name\":\"17\"},{\"data\":[{\"marker\":{\"color\":[\"red\",\"red\",\"red\",\"blue\",\"blue\",\"green\",\"green\",\"green\"]},\"mode\":\"markers\",\"x\":[0.5976684630234461,0.5935439108989503,0.5720457178661494,0.45416507608444745,0.48513201867051736,-1.1919155100674597,-0.5574973426882992,-0.5475679771807502],\"y\":[1.0,0.9854008322721567,-0.8275409343467984,0.7791325633908415,0.8252289941426039,-0.1243505227440769,-1.0294163318199532,-1.0150785750812574],\"type\":\"scatter\"}],\"name\":\"18\"},{\"data\":[{\"marker\":{\"color\":[\"red\",\"red\",\"red\",\"blue\",\"blue\",\"green\",\"green\",\"green\"]},\"mode\":\"markers\",\"x\":[0.5672347805094383,0.5772446010768211,0.7057588728561183,0.4178777989413942,0.42710714350418394,-1.1130157272863341,-0.6125438068267125,-0.5996409285557497],\"y\":[0.9756838848506243,1.0,-0.7436558665450954,0.7568134684609273,0.7590095533240798,-0.21577250524760502,-0.923444941498582,-0.9147243304382217],\"type\":\"scatter\"}],\"name\":\"19\"},{\"data\":[{\"marker\":{\"color\":[\"red\",\"red\",\"red\",\"blue\",\"blue\",\"green\",\"green\",\"green\"]},\"mode\":\"markers\",\"x\":[0.5239680212842118,0.5974649985882514,0.8542914812379754,0.468490896494582,0.4637712866643989,-1.0338259681717268,-0.7396754932469991,-0.7403314381883405],\"y\":[0.9006731748037151,1.0,-0.5512708581437811,0.8351498590878119,0.8286831862771269,-0.42945751102644214,-0.8858684631824226,-0.9001365988049354],\"type\":\"scatter\"}],\"name\":\"20\"},{\"data\":[{\"marker\":{\"color\":[\"red\",\"red\",\"red\",\"blue\",\"blue\",\"green\",\"green\",\"green\"]},\"mode\":\"markers\",\"x\":[0.5908242762066095,0.564610125273053,1.0,0.4688078539436434,0.45315838449696655,-0.9928341033125527,-0.7952539121604515,-0.8096681232407678],\"y\":[0.9584543321149965,0.929531796256103,-0.41272323416818596,0.7993180594892532,0.7627614212827125,-0.6793732025830271,-0.7758069072482757,-0.8067533995893421],\"type\":\"scatter\"}],\"name\":\"21\"},{\"data\":[{\"marker\":{\"color\":[\"red\",\"red\",\"red\",\"blue\",\"blue\",\"green\",\"green\",\"green\"]},\"mode\":\"markers\",\"x\":[0.585889879078658,0.6280704180089962,1.0,0.48068245384469327,0.4747559940711765,-0.8177356260118465,-0.8238133312050081,-0.838956602485729],\"y\":[0.8800870583849664,0.9366873938141833,-0.1436148859392693,0.7640889531770907,0.758443154749775,-0.7348883520286847,-0.7415472334540273,-0.7549174758632822],\"type\":\"scatter\"}],\"name\":\"22\"},{\"data\":[{\"marker\":{\"color\":[\"red\",\"red\",\"red\",\"blue\",\"blue\",\"green\",\"green\",\"green\"]},\"mode\":\"markers\",\"x\":[0.5901519399283703,0.5343123873223117,1.0,0.4622094773674471,0.4695083229129879,-0.7907054202731777,-0.7754561174209836,-0.8006721220016053],\"y\":[0.8844864392156275,0.7935221938582164,0.04583790215254357,0.7028418315989902,0.7055057389886622,-0.7236110446671348,-0.7083032442645929,-0.7336865508224842],\"type\":\"scatter\"}],\"name\":\"23\"},{\"data\":[{\"marker\":{\"color\":[\"red\",\"red\",\"red\",\"blue\",\"blue\",\"green\",\"green\",\"green\"]},\"mode\":\"markers\",\"x\":[0.6010470309656424,0.5641490720133643,1.0,0.4652240363659515,0.44271244505610186,-0.7634465331941902,-0.7565185434763995,-0.7290399537876987],\"y\":[0.9094272638259827,0.8511405707626721,0.15161953124578645,0.7463122135253285,0.6995749488061827,-0.732317434884395,-0.7269137970866894,-0.6938955174522868],\"type\":\"scatter\"}],\"name\":\"24\"},{\"data\":[{\"marker\":{\"color\":[\"red\",\"red\",\"red\",\"blue\",\"blue\",\"green\",\"green\",\"green\"]},\"mode\":\"markers\",\"x\":[0.5392023225386195,0.5674835418111394,1.0,0.4585341396222842,0.4583414788988818,-0.760262839022696,-0.7388203472429526,-0.7203476332572468],\"y\":[0.8301225428197503,0.857828504562713,0.25503443031761563,0.726636078083719,0.7308893295207545,-0.7663645848814888,-0.7422116816736188,-0.7214263824268028],\"type\":\"scatter\"}],\"name\":\"25\"},{\"data\":[{\"marker\":{\"color\":[\"red\",\"red\",\"red\",\"blue\",\"blue\",\"green\",\"green\",\"green\"]},\"mode\":\"markers\",\"x\":[0.645846271606866,0.6381643367265305,1.0,0.5496176786199469,0.5496907034899823,-0.7944933217800677,-0.7734297164292636,-0.7742009381380325],\"y\":[0.8703045217984522,0.8486563006838266,0.5535960305562133,0.7540799715229815,0.7537605102002656,-0.8247390297279268,-0.8027351908779741,-0.8023666928811033],\"type\":\"scatter\"}],\"name\":\"26\"},{\"data\":[{\"marker\":{\"color\":[\"red\",\"red\",\"red\",\"blue\",\"blue\",\"green\",\"green\",\"green\"]},\"mode\":\"markers\",\"x\":[0.9030238390985221,0.8750476769132033,0.8903210023305119,0.8038586661780138,0.8064693473046883,-0.9390701969457326,-0.9489865090312312,-0.9273507876039333],\"y\":[1.0,0.9577846663852382,0.9550730962322563,0.8846550105233235,0.8872341543633075,-1.0073002591084248,-1.0180616715604227,-0.9945843974733439],\"type\":\"scatter\"}],\"name\":\"27\"},{\"data\":[{\"marker\":{\"color\":[\"red\",\"red\",\"red\",\"blue\",\"blue\",\"green\",\"green\",\"green\"]},\"mode\":\"markers\",\"x\":[0.8917358541090922,0.915024680396887,0.9219464061507509,0.8178763178854417,0.792188771569398,-0.9124075569289494,-0.9192240325351139,-0.9302532431321857],\"y\":[0.9672783087356475,0.9925025388789875,1.0,0.8872812075067481,0.8594563876856595,-0.986960895958737,-0.9943433929171822,-1.0062912260941186],\"type\":\"scatter\"}],\"name\":\"28\"},{\"data\":[{\"marker\":{\"color\":[\"red\",\"red\",\"red\",\"blue\",\"blue\",\"green\",\"green\",\"green\"]},\"mode\":\"markers\",\"x\":[0.8950908221401752,0.92302876260637,0.900869450733686,0.8074169408384696,0.8015875739765522,-0.8973441672804525,-0.9145736806635021,-0.8975324645899485],\"y\":[0.9697377422253454,1.0,0.9759971284067681,0.8747697670738672,0.8684554201426363,-0.9718203989118488,-0.9904833363349157,-0.9720243617763983],\"type\":\"scatter\"}],\"name\":\"29\"},{\"data\":[{\"marker\":{\"color\":[\"red\",\"red\",\"red\",\"blue\",\"blue\",\"green\",\"green\",\"green\"]},\"mode\":\"markers\",\"x\":[0.9115877450393152,0.9231716587538181,0.9099164058828769,0.7991203560315312,0.8231125053290358,-0.947647709504777,-0.8683984128482538,-0.9188813208196036],\"y\":[0.9874523527286007,1.0,0.9856419650910215,0.8656281436415639,0.8916163402102585,-1.0264637776030865,-0.9406212682702869,-0.9953041447313056],\"type\":\"scatter\"}],\"name\":\"30\"},{\"data\":[{\"marker\":{\"color\":[\"red\",\"red\",\"red\",\"blue\",\"blue\",\"green\",\"green\",\"green\"]},\"mode\":\"markers\",\"x\":[0.9231910867324941,0.8883769529213834,0.8892604180403094,0.8550834228002031,0.8559918485474183,-0.877939852146393,-0.9240926275121532,-0.8600323752955179],\"y\":[1.0,0.962289474700468,0.9632464404517646,0.9262260610088066,0.9272100640091173,-0.9509775600602219,-1.0009700548475036,-0.9315802554338799],\"type\":\"scatter\"}],\"name\":\"31\"},{\"data\":[{\"marker\":{\"color\":[\"red\",\"red\",\"red\",\"blue\",\"blue\",\"green\",\"green\",\"green\"]},\"mode\":\"markers\",\"x\":[0.9179179609821515,0.9231936790774773,0.8889168909331323,0.8363053891937108,0.8257006198240892,-0.868620111389938,-0.9360430285420387,-0.9099604160192204],\"y\":[0.9942853640482133,1.0,0.9628715252972112,0.9058829648993793,0.894395922717633,-0.9408852635582432,-1.013917487678186,-0.9856649100108192],\"type\":\"scatter\"}],\"name\":\"32\"},{\"data\":[{\"marker\":{\"color\":[\"red\",\"red\",\"red\",\"blue\",\"blue\",\"green\",\"green\",\"green\"]},\"mode\":\"markers\",\"x\":[0.817164201021207,0.9231940307723985,0.8508036300743355,0.816095960565671,0.8123945841012093,-0.8781328424058648,-0.876334428746405,-0.8708542924524847],\"y\":[0.8851489283336761,1.0,0.9215870183132698,0.8839918147044018,0.8799824990751831,-0.9511897952806294,-0.9492417610663616,-0.9433057001699967],\"type\":\"scatter\"}],\"name\":\"33\"},{\"data\":[{\"marker\":{\"color\":[\"red\",\"red\",\"red\",\"blue\",\"blue\",\"green\",\"green\",\"green\"]},\"mode\":\"markers\",\"x\":[0.9127170234866829,0.91854375949515,0.9231940756797408,0.7576218579913435,0.752938879717992,-0.8943095784568863,-0.9082228668630841,-0.8921013237611897],\"y\":[0.9886513005340078,0.994962796803118,1.0,0.8206528607628097,0.8155802781268985,-0.9687124172969572,-0.9837832335720005,-0.9663204449726746],\"type\":\"scatter\"}],\"name\":\"34\"},{\"data\":[{\"marker\":{\"color\":[\"red\",\"red\",\"red\",\"blue\",\"blue\",\"green\",\"green\",\"green\"]},\"mode\":\"markers\",\"x\":[0.8810262466797958,0.9231940817310494,0.9166024342486476,0.8247699866957529,0.8140593936547735,-0.9079703328523967,-0.8917376743923139,-0.9731757984697447],\"y\":[0.9543239760277885,1.0,0.9928599547959566,0.8933874286215681,0.8817857586780705,-0.9835096963341462,-0.9659265480398525,-1.0541399861519032],\"type\":\"scatter\"}],\"name\":\"35\"},{\"data\":[{\"marker\":{\"color\":[\"red\",\"red\",\"red\",\"blue\",\"blue\",\"green\",\"green\",\"green\"]},\"mode\":\"markers\",\"x\":[0.9228395216523718,0.90512461249924,0.923194082552424,0.7742805236848916,0.788566739593801,-0.9008708050678377,-0.9076283350332663,-0.8786720212189205],\"y\":[0.9996159411041456,0.9804272250090336,1.0,0.8386974508804321,0.8541722206791282,-0.9758195181837054,-0.9831392466051148,-0.9517738876218174],\"type\":\"scatter\"}],\"name\":\"36\"},{\"data\":[{\"marker\":{\"color\":[\"red\",\"red\",\"red\",\"blue\",\"blue\",\"green\",\"green\",\"green\"]},\"mode\":\"markers\",\"x\":[0.9171178315292493,0.9231940826576642,0.9146159269538852,0.8523779290333385,0.8732478685330617,-0.8984352064696617,-0.9147268305238626,-0.9138234998208616],\"y\":[0.993418229988206,1.0,0.9907081773326307,0.9232922362119507,0.9458984680881999,-0.9731812880015259,-0.990828307582721,-0.98984982351317],\"type\":\"scatter\"}],\"name\":\"37\"},{\"data\":[{\"marker\":{\"color\":[\"red\",\"red\",\"red\",\"blue\",\"blue\",\"green\",\"green\",\"green\"]},\"mode\":\"markers\",\"x\":[0.9231940826723479,0.9012230799947684,0.9112136019864661,0.8390683902944209,0.8211385579129216,-0.9259595842511495,-0.9242173273505713,-0.9316530437003548],\"y\":[1.0,0.9762011010578302,0.9870227930283361,0.9088753990556184,0.8894538790112588,-1.0029955798311165,-1.0011083743850746,-1.0091627114842023],\"type\":\"scatter\"}],\"name\":\"38\"},{\"data\":[{\"marker\":{\"color\":[\"red\",\"red\",\"red\",\"blue\",\"blue\",\"green\",\"green\",\"green\"]},\"mode\":\"markers\",\"x\":[0.9231940826743139,0.9169148729371591,0.8968415712885232,0.845330983149313,0.8375474347841362,-0.9830517997779703,-0.9614888434548955,-0.9257294966880946],\"y\":[1.0,0.9931983860653002,0.9714550690040811,0.915659013650287,0.907227906355246,-1.0648376308149652,-1.0414807259909993,-1.0027463499395446],\"type\":\"scatter\"}],\"name\":\"39\"},{\"data\":[{\"marker\":{\"color\":[\"red\",\"red\",\"red\",\"blue\",\"blue\",\"green\",\"green\",\"green\"]},\"mode\":\"markers\",\"x\":[0.8731953574371258,0.923194082674574,0.8973840160254005,0.818520956290296,0.8105126705943345,-0.9040725793040179,-0.9035187032674858,-0.9384072804151201],\"y\":[0.9458415882686364,1.0,0.9720426428921708,0.886618503791708,0.8779439619524013,-0.9792876668844661,-0.978687710659741,-1.0164788726725589],\"type\":\"scatter\"}],\"name\":\"40\"},{\"data\":[{\"marker\":{\"color\":[\"red\",\"red\",\"red\",\"blue\",\"blue\",\"green\",\"green\",\"green\"]},\"mode\":\"markers\",\"x\":[0.9079305758091626,0.9231940826745912,0.902137913737,0.862088372868683,0.8378674371611926,-0.9222579267380059,-0.8990419873075286,-0.9276005822388904],\"y\":[0.9834666326920013,1.0,0.9771920451693211,0.9338105486672307,0.9075745316020885,-0.9989859597735714,-0.9738385505059379,-1.004773102045332],\"type\":\"scatter\"}],\"name\":\"41\"},{\"data\":[{\"marker\":{\"color\":[\"red\",\"red\",\"red\",\"blue\",\"blue\",\"green\",\"green\",\"green\"]},\"mode\":\"markers\",\"x\":[0.9198931058664738,0.923194082674622,0.9198041530373815,0.8063615915456342,0.8241738385616617,-0.941917311353113,-0.8749575948474515,-0.87534822146629],\"y\":[0.9964243956172404,1.0,0.9963280422818346,0.8734475303497286,0.8927416824140729,-1.0202809236214265,-0.9477504365198759,-0.9481735616526836],\"type\":\"scatter\"}],\"name\":\"42\"},{\"data\":[{\"marker\":{\"color\":[\"red\",\"red\",\"red\",\"blue\",\"blue\",\"green\",\"green\",\"green\"]},\"mode\":\"markers\",\"x\":[0.9231940826746328,0.879885841958816,0.8708843325570838,0.7804089013368714,0.7918159380335588,-0.8698515861120664,-0.8771869190109005,-0.8748516112077278],\"y\":[1.0,0.9530886933434973,0.943338295707009,0.8453356839938861,0.8576917388156846,-0.9422196290426523,-0.9501652312042044,-0.9476356354810566],\"type\":\"scatter\"}],\"name\":\"43\"},{\"data\":[{\"marker\":{\"color\":[\"red\",\"red\",\"red\",\"blue\",\"blue\",\"green\",\"green\",\"green\"]},\"mode\":\"markers\",\"x\":[0.923194082674616,0.8795619497539747,0.8972649236422475,0.8089973092621179,0.8209102239985621,-0.889661100415637,-0.8844646099710409,-0.86086161273989],\"y\":[1.0,0.9527378546510669,0.9719136425168057,0.8763025288445776,0.8892065486601403,-0.9636772127461571,-0.9580483958569255,-0.9324817271855157],\"type\":\"scatter\"}],\"name\":\"44\"},{\"data\":[{\"marker\":{\"color\":[\"red\",\"red\",\"red\",\"blue\",\"blue\",\"green\",\"green\",\"green\"]},\"mode\":\"markers\",\"x\":[0.9225959008925857,0.9231940826746317,0.915859155808053,0.8517750696453403,0.8508907078668756,-0.9469534214711078,-0.9341643613111416,-0.9207797468201486],\"y\":[0.9993520519755573,1.0,0.9920548376508991,0.922639221405777,0.9216812843965797,-1.0257360172063017,-1.0118829603031334,-0.9973848014195563],\"type\":\"scatter\"}],\"name\":\"45\"},{\"data\":[{\"marker\":{\"color\":[\"red\",\"red\",\"red\",\"blue\",\"blue\",\"green\",\"green\",\"green\"]},\"mode\":\"markers\",\"x\":[0.9063524023718974,0.9000940199711578,0.9231940826746365,0.8253056358181805,0.8448812554485106,-0.9351984646644159,-0.9318461997433994,-0.9406742878993247],\"y\":[0.9817571617725844,0.974978107922274,1.0,0.8939676405064761,0.9151718704703605,-1.0130030967648767,-1.0093719373110537,-1.0189344857736182],\"type\":\"scatter\"}],\"name\":\"46\"},{\"data\":[{\"marker\":{\"color\":[\"red\",\"red\",\"red\",\"blue\",\"blue\",\"green\",\"green\",\"green\"]},\"mode\":\"markers\",\"x\":[0.9231940826746637,0.9227858712152858,0.9208513797510229,0.831392105815044,0.8381651494144846,-0.9264474469555335,-1.0297258373497404,-0.9029106346497605],\"y\":[1.0,0.9995578270408806,0.9974623939130406,0.9005604795541562,0.9078970122795589,-1.0035240306907878,-1.1153947546614584,-0.9780290532559437],\"type\":\"scatter\"}],\"name\":\"47\"},{\"data\":[{\"marker\":{\"color\":[\"red\",\"red\",\"red\",\"blue\",\"blue\",\"green\",\"green\",\"green\"]},\"mode\":\"markers\",\"x\":[0.9172527140068,0.9231940826746432,0.8947869106146176,0.8424958645111844,0.8628269865251614,-0.9557441021038583,-0.9617722580808965,-0.9618468445788498],\"y\":[0.9935643341098657,1.0,0.9692294690865826,0.9125880249040842,0.9346106119153382,-1.0352580459950063,-1.0417877195383731,-1.0418685113234787],\"type\":\"scatter\"}],\"name\":\"48\"},{\"data\":[{\"marker\":{\"color\":[\"red\",\"red\",\"red\",\"blue\",\"blue\",\"green\",\"green\",\"green\"]},\"mode\":\"markers\",\"x\":[0.9084667451391831,0.9202323475447436,0.9231940826746352,0.8266462744167539,0.8495600682350515,-0.9356558369859379,-0.9464954628608149,-0.9291086587801904],\"y\":[0.9840474090856567,0.9967918607956079,1.0,0.8954198146741037,0.920239941068233,-1.013498520565912,-1.0252399583397236,-1.0064066442978354],\"type\":\"scatter\"}],\"name\":\"49\"},{\"data\":[{\"marker\":{\"color\":[\"red\",\"red\",\"red\",\"blue\",\"blue\",\"green\",\"green\",\"green\"]},\"mode\":\"markers\",\"x\":[0.923194082674637,0.894518269462441,0.8841995618401122,0.7939483001380978,0.8077154832838142,-0.9013408979280769,-0.9473842990035544,-0.9069907115863092],\"y\":[1.0,0.9689384781051487,0.9577612968211944,0.860001504600102,0.8749140602631857,-0.9763287209518899,-1.026202741961732,-0.9824485756652823],\"type\":\"scatter\"}],\"name\":\"50\"},{\"data\":[{\"marker\":{\"color\":[\"red\",\"red\",\"red\",\"blue\",\"blue\",\"green\",\"green\",\"green\"]},\"mode\":\"markers\",\"x\":[0.9221041925726493,0.9231940826746461,0.9128868165918886,0.8196709730100626,0.8213627210007216,-0.9459410556753947,-0.8850304892509977,-0.8849017131691395],\"y\":[0.9988194355634955,1.0,0.9888352121442414,0.8878641971310597,0.8896966915354407,-1.0246394267766974,-0.9586613539451114,-0.9585218642275373],\"type\":\"scatter\"}],\"name\":\"51\"},{\"data\":[{\"marker\":{\"color\":[\"red\",\"red\",\"red\",\"blue\",\"blue\",\"green\",\"green\",\"green\"]},\"mode\":\"markers\",\"x\":[0.9084195895275258,0.9231940826746333,0.8383326855556381,0.8218614437657187,0.805581983418857,-0.8858301739770407,-0.9078000320512055,-0.8857356760602508],\"y\":[0.9839963303227598,1.0,0.908078486732564,0.8902369059652796,0.8726030620614093,-0.9595275691224668,-0.983325228234962,-0.9594252093710746],\"type\":\"scatter\"}],\"name\":\"52\"},{\"data\":[{\"marker\":{\"color\":[\"red\",\"red\",\"red\",\"blue\",\"blue\",\"green\",\"green\",\"green\"]},\"mode\":\"markers\",\"x\":[0.9170056032191052,0.8725253404596505,0.9231940826746489,0.825229866826461,0.8428654839963861,-0.8981659807151894,-0.8865788489796821,-0.9086587668293036],\"y\":[0.9932966647298921,0.9451158286584737,1.0,0.8938855678490049,0.9129883951968921,-0.9728896637996939,-0.9603385307790647,-0.9842554061837017],\"type\":\"scatter\"}],\"name\":\"53\"},{\"data\":[{\"marker\":{\"color\":[\"red\",\"red\",\"red\",\"blue\",\"blue\",\"green\",\"green\",\"green\"]},\"mode\":\"markers\",\"x\":[0.9105473912869654,0.9231940826746389,0.9176606670131335,0.7648509067041668,0.7768491264865085,-0.9243332538995939,-0.9071927085604714,-0.9061345965511914],\"y\":[0.9863011563602826,1.0,0.9940062271137243,0.8284833287582092,0.8414797506455578,-1.001233945544409,-0.982667377949584,-0.9815212354112622],\"type\":\"scatter\"}],\"name\":\"54\"},{\"data\":[{\"marker\":{\"color\":[\"red\",\"red\",\"red\",\"blue\",\"blue\",\"green\",\"green\",\"green\"]},\"mode\":\"markers\",\"x\":[0.9231940826746284,0.9125459756084003,0.9008148824957007,0.7799442849085206,0.7804299533534627,-0.9204234695374253,-0.8895261835678632,-0.9200225377491633],\"y\":[1.0,0.9884660146051012,0.9757589432179953,0.8448324134064006,0.8453584874509108,-0.9969988833451087,-0.9635310713764151,-0.99656459569554],\"type\":\"scatter\"}],\"name\":\"55\"},{\"data\":[{\"marker\":{\"color\":[\"red\",\"red\",\"red\",\"blue\",\"blue\",\"green\",\"green\",\"green\"]},\"mode\":\"markers\",\"x\":[0.900058170277381,0.922538494145734,0.923194082674636,0.7933727547745056,0.7801474693696269,-0.8975029952644517,-0.8754067836859845,-0.9362371540888369],\"y\":[0.9749392756827215,0.9992898692255497,1.0,0.8593780762502113,0.8450525019716568,-0.9721715207101963,-0.94823699600608,-1.0141282008398653],\"type\":\"scatter\"}],\"name\":\"56\"},{\"data\":[{\"marker\":{\"color\":[\"red\",\"red\",\"red\",\"blue\",\"blue\",\"green\",\"green\",\"green\"]},\"mode\":\"markers\",\"x\":[0.9168586749074639,0.9231940826746342,0.9122068077912777,0.8179251611642926,0.7939863017834495,-0.9017176572921463,-0.8909065693129027,-0.8928946408608326],\"y\":[0.9931375125923504,1.0,0.9880986294327996,0.8859731409831368,0.8600426678246779,-0.9767368251318652,-0.9650262994882,-0.9671797703403625],\"type\":\"scatter\"}],\"name\":\"57\"},{\"data\":[{\"marker\":{\"color\":[\"red\",\"red\",\"red\",\"blue\",\"blue\",\"green\",\"green\",\"green\"]},\"mode\":\"markers\",\"x\":[0.9052855284395381,0.9231940826746444,0.9054733933419866,0.8499710430916109,0.8264200944077317,-0.9376199384966458,-0.8959157064200112,-0.8727899537167327],\"y\":[0.9806015283555338,1.0,0.9808050228384106,0.9206851073277155,0.8951748174267632,-1.0156260271732007,-0.9704521760195994,-0.9454024566406811],\"type\":\"scatter\"}],\"name\":\"58\"},{\"data\":[{\"marker\":{\"color\":[\"red\",\"red\",\"red\",\"blue\",\"blue\",\"green\",\"green\",\"green\"]},\"mode\":\"markers\",\"x\":[0.923194082674634,0.893793117620022,0.876189839407551,0.7238116849428785,0.7442901131564422,-0.8540771882560071,-0.9007977033109299,-0.8675267270058571],\"y\":[1.0,0.9681529966381144,0.9490851987147677,0.7840298140190446,0.8062119624945158,-0.9251328667333056,-0.9757403347963194,-0.9397013513047034],\"type\":\"scatter\"}],\"name\":\"59\"},{\"data\":[{\"marker\":{\"color\":[\"red\",\"red\",\"red\",\"blue\",\"blue\",\"green\",\"green\",\"green\"]},\"mode\":\"markers\",\"x\":[0.9231940826746329,0.8859364407395693,0.8976205951952443,0.7681419063757574,0.7758016859543831,-0.87113027960157,-0.8762309235766862,-0.8780926670999615],\"y\":[1.0,0.9596426768387283,0.9722989044672924,0.8320481259480448,0.8403451674070129,-0.9436047045251569,-0.9491297009163144,-0.9511463337763115],\"type\":\"scatter\"}],\"name\":\"60\"},{\"data\":[{\"marker\":{\"color\":[\"red\",\"red\",\"red\",\"blue\",\"blue\",\"green\",\"green\",\"green\"]},\"mode\":\"markers\",\"x\":[0.8729593336391087,0.9231940826746418,0.9132300806743834,0.7915795861751935,0.7852960921304194,-0.8782881123497778,-0.8950230889802147,-0.9032737178876481],\"y\":[0.9455859282698267,1.0,0.9892070343741933,0.8574357234633311,0.8506294687843915,-0.9513580392600045,-0.9694852965122959,-0.9784223435127828],\"type\":\"scatter\"}],\"name\":\"61\"},{\"data\":[{\"marker\":{\"color\":[\"red\",\"red\",\"red\",\"blue\",\"blue\",\"green\",\"green\",\"green\"]},\"mode\":\"markers\",\"x\":[0.9224157294745859,0.8809796801069161,0.9231940826746358,0.8004727654050402,0.8201286646930883,-0.9231596415324979,-0.9394160240519016,-0.8783885253332864],\"y\":[0.9991568910431097,0.9542735342871592,1.0,0.8670687783071023,0.8883599668631446,-0.9999626934977309,-1.0175715395946545,-0.9514668061871192],\"type\":\"scatter\"}],\"name\":\"62\"},{\"data\":[{\"marker\":{\"color\":[\"red\",\"red\",\"red\",\"blue\",\"blue\",\"green\",\"green\",\"green\"]},\"mode\":\"markers\",\"x\":[0.8902711178235597,0.8921601042757192,0.9231940826746384,0.8480056884985891,0.8468563148291722,-0.9028676823618773,-0.9093178926030582,-0.9181172041801628],\"y\":[0.964337981071438,0.9663841233589692,1.0,0.9185562433868475,0.9173112465969132,-0.9779825275158912,-0.9849693684870722,-0.9945007462788468],\"type\":\"scatter\"}],\"name\":\"63\"},{\"data\":[{\"marker\":{\"color\":[\"red\",\"red\",\"red\",\"blue\",\"blue\",\"green\",\"green\",\"green\"]},\"mode\":\"markers\",\"x\":[0.9139615811771067,0.9231940826746398,0.9206222899463549,0.8712141794934963,0.8827253195182537,-0.9385444144137537,-0.9423162082275702,-0.9440907074801304],\"y\":[0.9899993926837285,1.0,0.9972142447871476,0.9436955845399764,0.9561644036548131,-1.0166274156509376,-1.0207130070608057,-1.0226351372887412],\"type\":\"scatter\"}],\"name\":\"64\"},{\"data\":[{\"marker\":{\"color\":[\"red\",\"red\",\"red\",\"blue\",\"blue\",\"green\",\"green\",\"green\"]},\"mode\":\"markers\",\"x\":[0.8952624413053797,0.9231940826746315,0.9185097555582369,0.8190857945984524,0.8235133856138306,-0.8865881778093165,-0.9405460166099011,-0.9081586145457196],\"y\":[0.9697445619578386,1.0,0.994925956302901,0.8872303343035329,0.8920262825212155,-0.9603486357286171,-1.0187955428451099,-0.9837136433052575],\"type\":\"scatter\"}],\"name\":\"65\"},{\"data\":[{\"marker\":{\"color\":[\"red\",\"red\",\"red\",\"blue\",\"blue\",\"green\",\"green\",\"green\"]},\"mode\":\"markers\",\"x\":[0.9231940826746341,0.9064988274497038,0.9125349808672673,0.7995071411969765,0.8115511520136348,-0.8819845879938624,-0.9318860581144158,-0.9102715123606865],\"y\":[1.0,0.9819157688093465,0.9884541051471138,0.866022818171334,0.8790688407170646,-0.9553620463409174,-1.0094151117331687,-0.986002325451969],\"type\":\"scatter\"}],\"name\":\"66\"},{\"data\":[{\"marker\":{\"color\":[\"red\",\"red\",\"red\",\"blue\",\"blue\",\"green\",\"green\",\"green\"]},\"mode\":\"markers\",\"x\":[0.8939692403117816,0.923194082674632,0.917418985449112,0.769816036272197,0.7704688971152212,-0.8845990265459619,-0.8837771950558714,-0.8861494507798706],\"y\":[0.9683437720070937,1.0,0.9937444386463263,0.8338615365058775,0.834568712662308,-0.9581939953331774,-0.9573037908729087,-0.9598734084306043],\"type\":\"scatter\"}],\"name\":\"67\"},{\"data\":[{\"marker\":{\"color\":[\"red\",\"red\",\"red\",\"blue\",\"blue\",\"green\",\"green\",\"green\"]},\"mode\":\"markers\",\"x\":[0.8964961071385026,0.923063481201699,0.9231940826746347,0.8246179092999785,0.8056275614497532,-0.8872898598342867,-0.8824704229378372,-0.8959339557697057],\"y\":[0.9710808636697682,0.9998585330263807,1.0,0.8932226979953488,0.872652431995368,-0.961108694786768,-0.9558883007364867,-0.9704719436394642],\"type\":\"scatter\"}],\"name\":\"68\"},{\"data\":[{\"marker\":{\"color\":[\"red\",\"red\",\"red\",\"blue\",\"blue\",\"green\",\"green\",\"green\"]},\"mode\":\"markers\",\"x\":[0.8629132178121466,0.8900112478605223,0.9231940826746293,0.8412026479849501,0.8057992554414865,-0.8823198312269668,-0.9051819405016368,-0.8742135633481524],\"y\":[0.934704017287636,0.9640564910056971,1.0,0.9111872181284691,0.8728384102148773,-0.955725180420081,-0.9804893223309937,-0.9469445046868389],\"type\":\"scatter\"}],\"name\":\"69\"},{\"data\":[{\"marker\":{\"color\":[\"red\",\"red\",\"red\",\"blue\",\"blue\",\"green\",\"green\",\"green\"]},\"mode\":\"markers\",\"x\":[0.9158931463170232,0.9172302405802826,0.923194082674631,0.7920175461249547,0.7892867113092128,-0.9138189364934955,-0.9148593585561312,-0.89624770887604],\"y\":[0.9920916560291868,0.9935399909875168,1.0,0.857910119863811,0.8549520909216944,-0.9898448805542809,-0.9909718614157973,-0.9708117997024769],\"type\":\"scatter\"}],\"name\":\"70\"},{\"data\":[{\"marker\":{\"color\":[\"red\",\"red\",\"red\",\"blue\",\"blue\",\"green\",\"green\",\"green\"]},\"mode\":\"markers\",\"x\":[0.9230554765105684,0.9091864831155859,0.9231940826746297,0.8213041140783421,0.8647663471480806,-0.9111074785879496,-0.9616006888812152,-0.9433860519153902],\"y\":[0.9998498623781635,0.9848270262754932,1.0,0.8896332087602891,0.9367113192956393,-0.9869078406008979,-1.0416018764930903,-1.0218718573046488],\"type\":\"scatter\"}],\"name\":\"71\"},{\"data\":[{\"marker\":{\"color\":[\"red\",\"red\",\"red\",\"blue\",\"blue\",\"green\",\"green\",\"green\"]},\"mode\":\"markers\",\"x\":[0.8898380291428427,0.9215605567981768,0.9231940826746254,0.8144814977622613,0.8259369834052703,-0.8940896509446591,-0.9611522028482572,-0.9049741751943913],\"y\":[0.9638688612093933,0.9982305715481657,1.0,0.8822429790738975,0.894651513593336,-0.968474200305032,-1.0411160782829625,-0.9802642718122049],\"type\":\"scatter\"}],\"name\":\"72\"},{\"data\":[{\"marker\":{\"color\":[\"red\",\"red\",\"red\",\"blue\",\"blue\",\"green\",\"green\",\"green\"]},\"mode\":\"markers\",\"x\":[0.923194082674629,0.9017856506954766,0.8995839939117146,0.7652950691897544,0.7755049936913959,-0.8906304591747242,-0.9206006898837594,-0.8808995092919971],\"y\":[1.0,0.9768104753042518,0.9744256498108069,0.8289644437197647,0.840023791578735,-0.9647272181321073,-0.9971908476889686,-0.9541866935930694],\"type\":\"scatter\"}],\"name\":\"73\"},{\"data\":[{\"marker\":{\"color\":[\"red\",\"red\",\"red\",\"blue\",\"blue\",\"green\",\"green\",\"green\"]},\"mode\":\"markers\",\"x\":[0.9175310599867017,0.9231940826746333,0.8981075391013886,0.7523256990867956,0.7522319720354216,-0.9079204167706991,-0.8739412881070244,-0.8734985266303532],\"y\":[0.9938658373204424,1.0,0.9728263600860994,0.8149160758344488,0.8148145510812769,-0.9834556284636422,-0.9466495772753228,-0.946169979880822],\"type\":\"scatter\"}],\"name\":\"74\"},{\"data\":[{\"marker\":{\"color\":[\"red\",\"red\",\"red\",\"blue\",\"blue\",\"green\",\"green\",\"green\"]},\"mode\":\"markers\",\"x\":[0.9049674554542897,0.9105169414916969,0.9231940826746357,0.8035444026527302,0.8200199727980905,-0.9087719120759078,-0.8915279836533297,-0.8969342124941435],\"y\":[0.980256993017612,0.9862681732683888,1.0,0.8703959630295094,0.8882422322534506,-0.9843779646453822,-0.965699412923533,-0.9715554175733747],\"type\":\"scatter\"}],\"name\":\"75\"},{\"data\":[{\"marker\":{\"color\":[\"red\",\"red\",\"red\",\"blue\",\"blue\",\"green\",\"green\",\"green\"]},\"mode\":\"markers\",\"x\":[0.8718874255948958,0.9231940826745911,0.9097542721655975,0.8445620489405053,0.8442446070599442,-0.9179629486854947,-0.9122300383024218,-0.9124489287632559],\"y\":[0.9444248419237402,1.0,0.9854420530187255,0.9148261073053056,0.9144822555773551,-0.9943336573670982,-0.9881237926260882,-0.9883608938651087],\"type\":\"scatter\"}],\"name\":\"76\"},{\"data\":[{\"marker\":{\"color\":[\"red\",\"red\",\"red\",\"blue\",\"blue\",\"green\",\"green\",\"green\"]},\"mode\":\"markers\",\"x\":[0.9231940826746251,0.8991168347267322,0.9168092259400099,0.8345028059740376,0.8345701653956189,-0.9350944279263781,-0.9409175254179303,-0.9748713837567426],\"y\":[1.0,0.9739196249198883,0.9930839496759735,0.9039299770600352,0.9040029405060169,-1.0128904046018914,-1.0191979596445766,-1.0559766381218518],\"type\":\"scatter\"}],\"name\":\"77\"},{\"data\":[{\"marker\":{\"color\":[\"red\",\"red\",\"red\",\"blue\",\"blue\",\"green\",\"green\",\"green\"]},\"mode\":\"markers\",\"x\":[0.9137540223053249,0.9231940826746421,0.9078349321899323,0.8858364856553061,0.8803487858862178,-0.9068055760084394,-0.9002225213361751,-0.9148648548995291],\"y\":[0.9897745657749883,1.0,0.9833630319204272,0.959534405906169,0.9535901522848818,-0.9822480375754683,-0.975117300067714,-0.9909778150321675],\"type\":\"scatter\"}],\"name\":\"78\"},{\"data\":[{\"marker\":{\"color\":[\"red\",\"red\",\"red\",\"blue\",\"blue\",\"green\",\"green\",\"green\"]},\"mode\":\"markers\",\"x\":[0.8941093913885282,0.9231940826746349,0.8938928571248429,0.8805162735987392,0.8864912967498135,-0.9523391837098419,-0.9477808464844094,-0.947322807597041],\"y\":[0.968495583071933,1.0,0.9682610340559155,0.9537715742801877,0.9602436945669256,-1.0315698525176593,-1.0266322805477153,-1.0261361347253286],\"type\":\"scatter\"}],\"name\":\"79\"},{\"data\":[{\"marker\":{\"color\":[\"red\",\"red\",\"red\",\"blue\",\"blue\",\"green\",\"green\",\"green\"]},\"mode\":\"markers\",\"x\":[0.9149337249923732,0.9231940826746385,0.9006791396531862,0.7962721802924349,0.7967355806819441,-0.8993280223988008,-0.9138048874203666,-0.8903882721025499],\"y\":[0.9910524148309818,1.0,0.9756119071341751,0.8625187219414503,0.8630206753207085,-0.9741483825300383,-0.9898296626565581,-0.9644648821003666],\"type\":\"scatter\"}],\"name\":\"80\"},{\"data\":[{\"marker\":{\"color\":[\"red\",\"red\",\"red\",\"blue\",\"blue\",\"green\",\"green\",\"green\"]},\"mode\":\"markers\",\"x\":[0.9231940826746348,0.8948757813587301,0.9157366074064656,0.8116379721149327,0.8117464826668341,-0.914152490164091,-0.9171526356496935,-0.9201367968635242],\"y\":[1.0,0.9693257335078866,0.9919220937307537,0.8791628838905667,0.8792804220701733,-0.9902061845063509,-0.9934559296486843,-0.9966883606941545],\"type\":\"scatter\"}],\"name\":\"81\"},{\"data\":[{\"marker\":{\"color\":[\"red\",\"red\",\"red\",\"blue\",\"blue\",\"green\",\"green\",\"green\"]},\"mode\":\"markers\",\"x\":[0.9231940826746345,0.9225965383990901,0.9092129421139069,0.8233661151210017,0.8355416267439394,-0.8997012745317682,-0.9256206051591036,-0.94038959781957],\"y\":[1.0,0.9993527425199548,0.9848556865526876,0.8918667597344013,0.9050552234078953,-0.9745526876918355,-1.0026283990874758,-1.0186261106604082],\"type\":\"scatter\"}],\"name\":\"82\"}]);\n",
       "                        }).then(function(){\n",
       "                            \n",
       "var gd = document.getElementById('16141ee1-6b82-4d01-aaea-d16f6474d5e9');\n",
       "var x = new MutationObserver(function (mutations, observer) {{\n",
       "        var display = window.getComputedStyle(gd).display;\n",
       "        if (!display || display === 'none') {{\n",
       "            console.log([gd, 'removed!']);\n",
       "            Plotly.purge(gd);\n",
       "            observer.disconnect();\n",
       "        }}\n",
       "}});\n",
       "\n",
       "// Listen for the removal of the full notebook cells\n",
       "var notebookContainer = gd.closest('#notebook-container');\n",
       "if (notebookContainer) {{\n",
       "    x.observe(notebookContainer, {childList: true});\n",
       "}}\n",
       "\n",
       "// Listen for the clearing of the current output cell\n",
       "var outputEl = gd.closest('.output');\n",
       "if (outputEl) {{\n",
       "    x.observe(outputEl, {childList: true});\n",
       "}}\n",
       "\n",
       "                        })                };                });            </script>        </div>"
      ]
     },
     "metadata": {},
     "output_type": "display_data"
    }
   ],
   "source": [
    "color_list = labels2colors(env.trueLabel())\n",
    "color_list, model_syncmap.log.shape\n",
    "\n",
    "fig = create_trace_plot(model_syncmap.log[::10000], colors = color_list)\n",
    "fig.show()"
   ]
  },
  {
   "cell_type": "markdown",
   "metadata": {},
   "source": [
    "## LightSyncMap"
   ]
  },
  {
   "cell_type": "code",
   "execution_count": null,
   "metadata": {},
   "outputs": [],
   "source": [
    "#| export\n",
    "class LightSyncMap:\n",
    "\t'''\n",
    "\tThe original syncmap\n",
    "\t'''\n",
    "\tdef __init__(self, input_size, dimensions, adaptation_rate):\n",
    "\t\t\n",
    "\t\tself.organized= False\n",
    "\t\tself.space_size= 10\n",
    "\t\tself.dimensions= dimensions\n",
    "\t\tself.input_size= input_size\n",
    "\t\t#syncmap= np.zeros((input_size,dimensions))\n",
    "\t\tnp.random.seed(42)\n",
    "\t\tself.syncmap= np.random.rand(input_size,dimensions)\n",
    "\t\tself.adaptation_rate= adaptation_rate\n",
    "\t\tself.delay_effect = 0.8\n",
    "\t\tself.fit_log = []\n",
    "\n",
    "\n",
    "\t@property  # 在class内部引用这个函数贼慢\n",
    "\tdef log(self):\n",
    "\t\treturn np.asarray(self.fit_log)\n",
    "\n",
    "\tdef fit(self, input_sequence):\n",
    "\t\tfor idx, state in tqdm(enumerate(input_sequence), total=len(input_sequence)):\n",
    "\t\t\tvplus, vminus = self.get_postive_and_negative_state(state)\n",
    "\t\t\tif idx == 39:\n",
    "\t\t\t\tx0 = None\n",
    "\t\t\tnew_snycmap = self.one_step_organize(vplus, vminus)\n",
    "\n",
    "\t\t\tif new_snycmap is not None:\n",
    "\t\t\t\tself.syncmap = new_snycmap[:]\n",
    "\n",
    "\tdef get_postive_and_negative_state(self, state):\n",
    "\t\t'''\n",
    "\t\t\tadentify the state whether is activated and deactivated\n",
    "\t\targs:\n",
    "\t\t\tstate(d): np.ndarray, the one step input sequence, d is the number of feature of input\n",
    "\t\treturn:\n",
    "\t\t\tplus, minus(D): np.ndarray, th elements are boolean representing the activated and deactivated state\n",
    "\t\t'''\n",
    "\t\tplus= state > 0.1\n",
    "\t\tminus = ~ plus\n",
    "\t\treturn plus, minus\n",
    "\t\t\n",
    "\n",
    "\tdef get_center(self, arr, syncmap_arr):\n",
    "\t\t'''\n",
    "\t\tcalculate the mass center of the input arrays.\n",
    "\t\tIf the activated or deactivated state just one sample, return  None\n",
    "\t\targs:\n",
    "\t\t\tarr(d): np.array, features\n",
    "\t\t'''\n",
    "\t\tarr_mass = arr.sum()\n",
    "\t\tif arr_mass <= 1:\n",
    "\t\t\treturn None\n",
    "\t\t# elif arr_mass == arr.shape[0]:\n",
    "\t\t# \treturn None\n",
    "\t\telse:\n",
    "\t\t\treturn (arr @ syncmap_arr) / arr_mass  # (D,) @ (D, d) -> (d,); D: features of input, d: features of syncmap\n",
    "\n",
    "\n",
    "\tdef update(self, update_plus, update_minus, syncmap_arr):\n",
    "\t\t'''\n",
    "\t\tupdate the syncmap\n",
    "\t\targs:\n",
    "\t\t\tupdate_plus(d, D): np.ndarray, the update of activated state\n",
    "\t\t\tupdate_minus(d, D): np.ndarray, the update of deactivated state\n",
    "\t\t'''\n",
    "\t\tupdate = update_plus - update_minus\n",
    "\t\tsyncmap_arr += self.adaptation_rate * update\n",
    "\t\tmaximum = syncmap_arr.max()\n",
    "\t\treturn syncmap_arr / maximum # self.space_size*\n",
    "\n",
    "\n",
    "\tdef one_step_organize(self, vplus, vminus):\n",
    "\t\tsyncmap_previous = self.syncmap.copy()\n",
    "\t\tcenter_plus  = self.get_center(vplus, syncmap_previous)\n",
    "\t\tcenter_minus = self.get_center(vminus, syncmap_previous)\n",
    "\t\t\n",
    "\t\tif center_plus is None or center_minus is None:\n",
    "\t\t\treturn None\n",
    "\n",
    "\t\tdist_plus= distance.cdist(center_plus[None,:], syncmap_previous, 'euclidean').T\n",
    "\t\tdist_minus= distance.cdist(center_minus[None,:], syncmap_previous, 'euclidean').T\n",
    "\n",
    "\t\tupdate_plus= vplus[:,np.newaxis]*((center_plus - syncmap_previous)/dist_plus)\n",
    "\t\tupdate_minus= vminus[:,np.newaxis]*((center_minus - syncmap_previous)/dist_minus)  # the mod is 1\n",
    "\n",
    "\t\t# disable the update of too far nodes\n",
    "\t\t# update_plus[dist_plus.squeeze()>0.5] = 0\n",
    "\t\t# update_minus[dist_minus.squeeze()>0.5] = 0\n",
    "\n",
    "\t\tnew_syncmap = self.update(update_plus, update_minus, syncmap_previous)\n",
    "\t\t\n",
    "\t\tself.fit_log.append(new_syncmap)\n",
    "\t\treturn new_syncmap\n",
    "\t\t\t\n",
    "\tdef cluster(self):\n",
    "\t\tself.organized= True\n",
    "\t\t# self.labels= DBSCAN(eps=3, min_samples=2).fit_predict(self.syncmap)\n",
    "\t\tself.labels= DBSCAN(eps=1, min_samples=2).fit_predict(self.syncmap)\n",
    "\n",
    "\t\treturn self.labels\n",
    "\n",
    "\tdef activate(self, x):\n",
    "\t\t'''\n",
    "\t\tReturn the label of the index with maximum input value\n",
    "\t\t'''\n",
    "\n",
    "\t\tif self.organized == False:\n",
    "\t\t\tprint(\"Activating a non-organized SyncMap\")\n",
    "\t\t\treturn\n",
    "\t\t\n",
    "\t\t#maximum output\n",
    "\t\tmax_index= np.argmax(x)\n",
    "\n",
    "\t\treturn self.labels[max_index]"
   ]
  },
  {
   "cell_type": "code",
   "execution_count": null,
   "metadata": {},
   "outputs": [
    {
     "name": "stdout",
     "output_type": "stream",
     "text": [
      "Adaptation rate: 0.0004\n"
     ]
    }
   ],
   "source": [
    "# initialize the environment\n",
    "time_delay = 10\n",
    "env = OverlapChunkTest1(time_delay)\n",
    "output_size = env.getOutputSize()\n",
    "output_size\n",
    "\n",
    "sequence_length = 10000\n",
    "# sequence_length = int(1000000)  #  True test\n",
    "\n",
    "####### SyncMap #####\n",
    "number_of_nodes= output_size\n",
    "# adaptation_rate= 0.0005*output_size\n",
    "adaptation_rate= 0.00005*output_size\n",
    "print(\"Adaptation rate:\", adaptation_rate)\n",
    "map_dimensions= 2\n",
    "neuron_group= LightSyncMap(number_of_nodes, map_dimensions, adaptation_rate)\n",
    "input_sequence, input_class = env.getSequence(sequence_length)"
   ]
  },
  {
   "cell_type": "code",
   "execution_count": null,
   "metadata": {},
   "outputs": [
    {
     "name": "stderr",
     "output_type": "stream",
     "text": [
      "100%|██████████| 1000000/1000000 [00:11<00:00, 85568.54it/s]"
     ]
    },
    {
     "name": "stdout",
     "output_type": "stream",
     "text": [
      "Learned Labels:  [0 0 0 0 0 1 1 1]\n",
      "Correct Labels:  [0 0 0 1 1 2 2 2]\n"
     ]
    },
    {
     "name": "stderr",
     "output_type": "stream",
     "text": [
      "\n"
     ]
    }
   ],
   "source": [
    "neuron_group.fit(input_sequence)\n",
    "labels= neuron_group.cluster()\n",
    "\n",
    "print(\"Learned Labels: \",labels)\n",
    "print(\"Correct Labels: \",env.trueLabel())"
   ]
  },
  {
   "cell_type": "code",
   "execution_count": null,
   "metadata": {},
   "outputs": [],
   "source": [
    "neuron_group.syncmap"
   ]
  },
  {
   "cell_type": "code",
   "execution_count": null,
   "metadata": {},
   "outputs": [],
   "source": [
    "# fig, ax = plt.subplots(figsize = (5, 5))\n",
    "# sns.scatterplot(x = neuron_group.syncmap[:, 0], y = neuron_group.syncmap[:, 1], hue=env.trueLabel(), ax = ax)\n",
    "# # set the x-axis range from -10 to 10\n",
    "# # ax.set_xlim(-10, 10)\n",
    "# # ax.set_ylim(-10, 10)"
   ]
  },
  {
   "cell_type": "code",
   "execution_count": null,
   "metadata": {},
   "outputs": [
    {
     "data": {
      "application/vnd.plotly.v1+json": {
       "config": {
        "plotlyServerURL": "https://plot.ly"
       },
       "data": [
        {
         "marker": {
          "color": [
           "red",
           "red",
           "red",
           "blue",
           "blue",
           "green",
           "green",
           "green"
          ]
         },
         "mode": "markers",
         "type": "scatter",
         "x": [
          0.38563724885599343,
          0.7548420302231041,
          0.16054218591914082,
          0.060264632107766995,
          0.6198144893608378,
          0.020958230831250046,
          0.8583410532414557,
          0.18714238397926117
         ],
         "y": [
          0.9797873627025744,
          0.6171885926892745,
          0.16046649979474087,
          0.8928673532847469,
          0.7301326966697878,
          1,
          0.2186367148239328,
          0.18871624261965037
         ]
        }
       ],
       "frames": [
        {
         "data": [
          {
           "marker": {
            "color": [
             "red",
             "red",
             "red",
             "blue",
             "blue",
             "green",
             "green",
             "green"
            ]
           },
           "mode": "markers",
           "type": "scatter",
           "x": [
            0.38563724885599343,
            0.7548420302231041,
            0.16054218591914082,
            0.060264632107766995,
            0.6198144893608378,
            0.020958230831250046,
            0.8583410532414557,
            0.18714238397926117
           ],
           "y": [
            0.9797873627025744,
            0.6171885926892745,
            0.16046649979474087,
            0.8928673532847469,
            0.7301326966697878,
            1,
            0.2186367148239328,
            0.18871624261965037
           ]
          }
         ],
         "name": "0"
        },
        {
         "data": [
          {
           "marker": {
            "color": [
             "red",
             "red",
             "red",
             "blue",
             "blue",
             "green",
             "green",
             "green"
            ]
           },
           "mode": "markers",
           "type": "scatter",
           "x": [
            0.043981445797594686,
            0.8711909080432372,
            -0.43693182727673285,
            -0.12605735813139418,
            0.37916332809190617,
            -0.6364786687220669,
            0.7603701846817745,
            -0.4196540969407812
           ],
           "y": [
            1,
            0.3469206691921582,
            -0.8229376273570517,
            0.6426706349606695,
            0.5157328055910775,
            0.7465216211586246,
            -0.6015349638434625,
            -0.7548158104024061
           ]
          }
         ],
         "name": "1"
        },
        {
         "data": [
          {
           "marker": {
            "color": [
             "red",
             "red",
             "red",
             "blue",
             "blue",
             "green",
             "green",
             "green"
            ]
           },
           "mode": "markers",
           "type": "scatter",
           "x": [
            0.14326467394734255,
            0.9156932019506677,
            -0.5041846207514448,
            0.11792155595909315,
            0.11846005377845158,
            -0.7294447760739541,
            0.721016074826823,
            -0.5203786962836133
           ],
           "y": [
            1,
            0.5292148837628606,
            -0.9741806570320529,
            0.7505542102403355,
            0.7529546855733492,
            0.8350381363664543,
            -0.709791303506974,
            -1.0140479407680612
           ]
          }
         ],
         "name": "2"
        },
        {
         "data": [
          {
           "marker": {
            "color": [
             "red",
             "red",
             "red",
             "blue",
             "blue",
             "green",
             "green",
             "green"
            ]
           },
           "mode": "markers",
           "type": "scatter",
           "x": [
            0.2618789889811596,
            0.9166248945967681,
            -0.3860340092386275,
            0.19541806588600877,
            0.1923815655120176,
            -0.9032968540392033,
            0.4597092104261927,
            -0.3235913696844158
           ],
           "y": [
            1,
            0.5447206071517332,
            -0.9668415438473401,
            0.8457314956669247,
            0.8268055650048691,
            0.6975111342606759,
            -0.9262307103550041,
            -0.9379114659575798
           ]
          }
         ],
         "name": "3"
        },
        {
         "data": [
          {
           "marker": {
            "color": [
             "red",
             "red",
             "red",
             "blue",
             "blue",
             "green",
             "green",
             "green"
            ]
           },
           "mode": "markers",
           "type": "scatter",
           "x": [
            0.3364044084884493,
            0.728571185355471,
            -0.3897727095113525,
            0.2572764687989583,
            0.2591635139285905,
            -0.852526290777546,
            0.3133533842054798,
            -0.3268410816471544
           ],
           "y": [
            1,
            0.766776447073641,
            -1.0283606503756166,
            0.814119118419003,
            0.8169603785015808,
            0.6218369982570843,
            -1.0534264512341902,
            -1.00460810653848
           ]
          }
         ],
         "name": "4"
        },
        {
         "data": [
          {
           "marker": {
            "color": [
             "red",
             "red",
             "red",
             "blue",
             "blue",
             "green",
             "green",
             "green"
            ]
           },
           "mode": "markers",
           "type": "scatter",
           "x": [
            0.45756455299432836,
            0.43373559046920257,
            -0.3325315444939052,
            0.3953201273906131,
            0.389872983672373,
            -0.8468729703176303,
            0.15095836563818224,
            -0.30099001059123
           ],
           "y": [
            1,
            0.9181497141044864,
            -1.0066648286499587,
            0.8789797968642384,
            0.867111628897315,
            0.595100640883701,
            -1.0960752400089875,
            -1.0637545680652785
           ]
          }
         ],
         "name": "5"
        },
        {
         "data": [
          {
           "marker": {
            "color": [
             "red",
             "red",
             "red",
             "blue",
             "blue",
             "green",
             "green",
             "green"
            ]
           },
           "mode": "markers",
           "type": "scatter",
           "x": [
            0.5061939332991122,
            0.5411139494788076,
            -0.2387681156615082,
            0.46044362101754255,
            0.4602386781328612,
            -1.0580496903759047,
            0.025237460474181895,
            -0.19829553409634143
           ],
           "y": [
            0.9406459653658604,
            1,
            -1.066154520779399,
            0.86407385996955,
            0.8633761735381509,
            0.600409022720337,
            -1.1824634119477173,
            -1.0710844392222483
           ]
          }
         ],
         "name": "6"
        },
        {
         "data": [
          {
           "marker": {
            "color": [
             "red",
             "red",
             "red",
             "blue",
             "blue",
             "green",
             "green",
             "green"
            ]
           },
           "mode": "markers",
           "type": "scatter",
           "x": [
            0.5158359862795512,
            0.5431318770128244,
            -0.1754990516959239,
            0.4414797107867813,
            0.43623006112858703,
            -0.9901830053178452,
            -0.1310593784851686,
            -0.13227196620916182
           ],
           "y": [
            0.948447310097098,
            1,
            -1.1310414478046396,
            0.8362765291956258,
            0.8047841644237629,
            0.5893377045372674,
            -1.1136779739138833,
            -1.1193397845623143
           ]
          }
         ],
         "name": "7"
        },
        {
         "data": [
          {
           "marker": {
            "color": [
             "red",
             "red",
             "red",
             "blue",
             "blue",
             "green",
             "green",
             "green"
            ]
           },
           "mode": "markers",
           "type": "scatter",
           "x": [
            0.5209880036718109,
            0.5139647617817141,
            -0.1699382726210068,
            0.4646797097123281,
            0.46754001130966355,
            -0.9800144620617205,
            -0.22020334078070725,
            -0.21672713312447014
           ],
           "y": [
            1,
            0.9879104590850364,
            -1.1502859577096765,
            0.9080130972072227,
            0.9141926171743576,
            0.44772551196883326,
            -1.1345476747233634,
            -1.16359179410844
           ]
          }
         ],
         "name": "8"
        },
        {
         "data": [
          {
           "marker": {
            "color": [
             "red",
             "red",
             "red",
             "blue",
             "blue",
             "green",
             "green",
             "green"
            ]
           },
           "mode": "markers",
           "type": "scatter",
           "x": [
            0.5216365431699319,
            0.4997437467854168,
            -0.10875547854236806,
            0.42512673350326663,
            0.4235847759181629,
            -0.9557723239900471,
            -0.2627850333892247,
            -0.24979171313496462
           ],
           "y": [
            1,
            0.9674852015424056,
            -1.0349251453580328,
            0.862371230813447,
            0.8606211189546376,
            0.4041311668982265,
            -1.1787467654235162,
            -1.1238290500952173
           ]
          }
         ],
         "name": "9"
        },
        {
         "data": [
          {
           "marker": {
            "color": [
             "red",
             "red",
             "red",
             "blue",
             "blue",
             "green",
             "green",
             "green"
            ]
           },
           "mode": "markers",
           "type": "scatter",
           "x": [
            0.5404722049305766,
            0.5447945206913773,
            -0.1025327339546028,
            0.44677704771536064,
            0.463739166364622,
            -1.0422363529918712,
            -0.2573086368264619,
            -0.22497367700550944
           ],
           "y": [
            0.9917087925113905,
            1,
            -1.1259308597203215,
            0.8435080270899977,
            0.8705655931744601,
            0.41181455835346714,
            -1.1562237625220122,
            -1.0812929977868524
           ]
          }
         ],
         "name": "10"
        },
        {
         "data": [
          {
           "marker": {
            "color": [
             "red",
             "red",
             "red",
             "blue",
             "blue",
             "green",
             "green",
             "green"
            ]
           },
           "mode": "markers",
           "type": "scatter",
           "x": [
            0.5693935910272341,
            0.5905462873476625,
            -0.03846550301272406,
            0.4284726505896173,
            0.4414165693994426,
            -1.1154080311155912,
            -0.2481974554487124,
            -0.24738248313854933
           ],
           "y": [
            0.9680519208283974,
            1,
            -1.0477429519557415,
            0.7455527003200781,
            0.7675251859525666,
            0.3093277625449057,
            -1.1096414325801347,
            -1.1216273218705177
           ]
          }
         ],
         "name": "11"
        },
        {
         "data": [
          {
           "marker": {
            "color": [
             "red",
             "red",
             "red",
             "blue",
             "blue",
             "green",
             "green",
             "green"
            ]
           },
           "mode": "markers",
           "type": "scatter",
           "x": [
            0.5578083572071262,
            0.5745628354558081,
            0.011698879737840754,
            0.4717347051065013,
            0.46126700458116116,
            -1.1708911773779223,
            -0.2596279471889071,
            -0.26058595143045243
           ],
           "y": [
            0.9763882627149821,
            1,
            -1.2065493872921766,
            0.8373413694997989,
            0.8180928721511829,
            0.38611057418220857,
            -1.1739887407001621,
            -1.1685488292901731
           ]
          }
         ],
         "name": "12"
        },
        {
         "data": [
          {
           "marker": {
            "color": [
             "red",
             "red",
             "red",
             "blue",
             "blue",
             "green",
             "green",
             "green"
            ]
           },
           "mode": "markers",
           "type": "scatter",
           "x": [
            0.5674906359633023,
            0.539319711193347,
            0.031809902565673925,
            0.41323318385660496,
            0.4081454734573519,
            -1.0385340733926345,
            -0.253096496746419,
            -0.2645038351673409
           ],
           "y": [
            1,
            0.9514676282889576,
            -1.028659258351382,
            0.740904113435634,
            0.7296334092848512,
            0.29546661430107063,
            -1.0117040701176616,
            -1.0536574732918471
           ]
          }
         ],
         "name": "13"
        },
        {
         "data": [
          {
           "marker": {
            "color": [
             "red",
             "red",
             "red",
             "blue",
             "blue",
             "green",
             "green",
             "green"
            ]
           },
           "mode": "markers",
           "type": "scatter",
           "x": [
            0.5823734642745168,
            0.5715757842314191,
            0.11292040096297942,
            0.43406338315455245,
            0.43433187790295436,
            -1.0911329744367684,
            -0.30861979938314965,
            -0.32124305388131813
           ],
           "y": [
            1,
            0.9890376660020156,
            -1.0010390772675102,
            0.7615607372743411,
            0.7616348530876264,
            0.2087904260524351,
            -1.0526655845966588,
            -1.0882003860852425
           ]
          }
         ],
         "name": "14"
        },
        {
         "data": [
          {
           "marker": {
            "color": [
             "red",
             "red",
             "red",
             "blue",
             "blue",
             "green",
             "green",
             "green"
            ]
           },
           "mode": "markers",
           "type": "scatter",
           "x": [
            0.5675778242144368,
            0.5300062801206036,
            0.2343844842131296,
            0.44481498459689117,
            0.4426796989060526,
            -1.1386456199852004,
            -0.38242694932703447,
            -0.3551938171303101
           ],
           "y": [
            1,
            0.9233844249763902,
            -1.1009833614662936,
            0.7958385968407745,
            0.7908524253340505,
            0.0907625641483008,
            -1.0629829263585913,
            -0.9652005811456799
           ]
          }
         ],
         "name": "15"
        },
        {
         "data": [
          {
           "marker": {
            "color": [
             "red",
             "red",
             "red",
             "blue",
             "blue",
             "green",
             "green",
             "green"
            ]
           },
           "mode": "markers",
           "type": "scatter",
           "x": [
            0.5440386067120463,
            0.5530445463621818,
            0.3975618315485705,
            0.4336523879966989,
            0.43290549050095284,
            -1.110099681556694,
            -0.47557577307268023,
            -0.4774207005429583
           ],
           "y": [
            0.9788226941236465,
            1,
            -1.034923367496966,
            0.8172628091930642,
            0.8187707157837917,
            0.08398182070631452,
            -1.0899964008501604,
            -1.0907742163939835
           ]
          }
         ],
         "name": "16"
        },
        {
         "data": [
          {
           "marker": {
            "color": [
             "red",
             "red",
             "red",
             "blue",
             "blue",
             "green",
             "green",
             "green"
            ]
           },
           "mode": "markers",
           "type": "scatter",
           "x": [
            0.5090909405663389,
            0.5310068974950893,
            0.5375583684566652,
            0.45229225806149015,
            0.4635184607208409,
            -1.0954064733523496,
            -0.5463616965682531,
            -0.5415991306317102
           ],
           "y": [
            0.9651213302573818,
            1,
            -0.9934452662676428,
            0.8669043961821202,
            0.9063636769412144,
            -0.03613180224907553,
            -1.0116237621918531,
            -1.0011605893663005
           ]
          }
         ],
         "name": "17"
        },
        {
         "data": [
          {
           "marker": {
            "color": [
             "red",
             "red",
             "red",
             "blue",
             "blue",
             "green",
             "green",
             "green"
            ]
           },
           "mode": "markers",
           "type": "scatter",
           "x": [
            0.5955540868188104,
            0.5917222515113533,
            0.6691769511868789,
            0.4507253325176693,
            0.48179616391345054,
            -1.180661801194878,
            -0.6070902523084025,
            -0.5959143172816579
           ],
           "y": [
            1,
            0.9851272435966347,
            -0.7507009171357683,
            0.7786135291186279,
            0.8256541196771772,
            -0.22226294599020313,
            -1.0009051574001901,
            -0.9862101129752449
           ]
          }
         ],
         "name": "18"
        },
        {
         "data": [
          {
           "marker": {
            "color": [
             "red",
             "red",
             "red",
             "blue",
             "blue",
             "green",
             "green",
             "green"
            ]
           },
           "mode": "markers",
           "type": "scatter",
           "x": [
            0.5670805025361148,
            0.5769963409929127,
            0.7947800815264989,
            0.41611712492994407,
            0.4257243727813703,
            -1.0872221239656388,
            -0.6651378874476593,
            -0.651703784480928
           ],
           "y": [
            0.9754234049476056,
            1,
            -0.6498319693222728,
            0.7569283040210776,
            0.7596448535093152,
            -0.3415471250120952,
            -0.88910162585964,
            -0.8799968699054458
           ]
          }
         ],
         "name": "19"
        },
        {
         "data": [
          {
           "marker": {
            "color": [
             "red",
             "red",
             "red",
             "blue",
             "blue",
             "green",
             "green",
             "green"
            ]
           },
           "mode": "markers",
           "type": "scatter",
           "x": [
            0.5300503591496232,
            0.6045554058765201,
            0.9233820851874481,
            0.47324824072494176,
            0.4680392510200352,
            -0.9722033049367408,
            -0.7994274469562194,
            -0.7999534929625601
           ],
           "y": [
            0.9010016823268653,
            1,
            -0.4446492247035064,
            0.8354015250597007,
            0.8281875226561382,
            -0.5956194490556825,
            -0.8400182698225588,
            -0.8543977149335702
           ]
          }
         ],
         "name": "20"
        },
        {
         "data": [
          {
           "marker": {
            "color": [
             "red",
             "red",
             "red",
             "blue",
             "blue",
             "green",
             "green",
             "green"
            ]
           },
           "mode": "markers",
           "type": "scatter",
           "x": [
            0.5608835336494371,
            0.5341029814044405,
            1,
            0.4436886196411422,
            0.42909341600887413,
            -0.8349606476874869,
            -0.8113775496140867,
            -0.8282458879036576
           ],
           "y": [
            0.9179387321067196,
            0.8887051763775835,
            -0.28251528383457625,
            0.7666540404869364,
            0.732377144852485,
            -0.7405284624564054,
            -0.7236979612617668,
            -0.7421897347318841
           ]
          }
         ],
         "name": "21"
        },
        {
         "data": [
          {
           "marker": {
            "color": [
             "red",
             "red",
             "red",
             "blue",
             "blue",
             "green",
             "green",
             "green"
            ]
           },
           "mode": "markers",
           "type": "scatter",
           "x": [
            0.5759402317638669,
            0.6174767767972048,
            1,
            0.47389327448731144,
            0.4680873138225938,
            -0.7894893233278306,
            -0.7952689227797451,
            -0.8105206640030057
           ],
           "y": [
            0.8648676375067309,
            0.9205829973458461,
            -0.03181958207743323,
            0.7526841677360477,
            0.7469727230405018,
            -0.7327841158424927,
            -0.7398742981834395,
            -0.7536382834673695
           ]
          }
         ],
         "name": "22"
        },
        {
         "data": [
          {
           "marker": {
            "color": [
             "red",
             "red",
             "red",
             "blue",
             "blue",
             "green",
             "green",
             "green"
            ]
           },
           "mode": "markers",
           "type": "scatter",
           "x": [
            0.5952495624384316,
            0.5400915345996816,
            1,
            0.46901924306988113,
            0.47642927614796554,
            -0.7774611549417565,
            -0.7621368845825719,
            -0.7871549043708541
           ],
           "y": [
            0.8861732947952837,
            0.7954788072988055,
            0.15366059056147122,
            0.7059256681355355,
            0.708518783001323,
            -0.7389761122394539,
            -0.723122351922165,
            -0.7490730518142025
           ]
          }
         ],
         "name": "23"
        },
        {
         "data": [
          {
           "marker": {
            "color": [
             "red",
             "red",
             "red",
             "blue",
             "blue",
             "green",
             "green",
             "green"
            ]
           },
           "mode": "markers",
           "type": "scatter",
           "x": [
            0.6209315630538758,
            0.5843765170903711,
            1,
            0.4864694912079218,
            0.46429767384842263,
            -0.7595414940659341,
            -0.7531829436593219,
            -0.7255731702540956
           ],
           "y": [
            0.917630856796066,
            0.8601086494250498,
            0.2746617320672361,
            0.7562154451496782,
            0.7102172916928091,
            -0.7556149641403809,
            -0.7502881964395524,
            -0.7169634819095803
           ]
          }
         ],
         "name": "24"
        },
        {
         "data": [
          {
           "marker": {
            "color": [
             "red",
             "red",
             "red",
             "blue",
             "blue",
             "green",
             "green",
             "green"
            ]
           },
           "mode": "markers",
           "type": "scatter",
           "x": [
            0.5851781492817545,
            0.6145348245633695,
            1,
            0.5042944600404966,
            0.5038825844605604,
            -0.7730385813675029,
            -0.7519273006005867,
            -0.7335020474729705
           ],
           "y": [
            0.8491931283483837,
            0.8767260551156786,
            0.41720662552248855,
            0.7473486393651929,
            0.7512806340179435,
            -0.8037278037375232,
            -0.7797414108732695,
            -0.7588115562554673
           ]
          }
         ],
         "name": "25"
        },
        {
         "data": [
          {
           "marker": {
            "color": [
             "red",
             "red",
             "red",
             "blue",
             "blue",
             "green",
             "green",
             "green"
            ]
           },
           "mode": "markers",
           "type": "scatter",
           "x": [
            0.797577532361885,
            0.7894244948710574,
            1,
            0.6888316718166074,
            0.6890424935649543,
            -0.888600272556246,
            -0.8679600690252032,
            -0.8685499696205506
           ],
           "y": [
            0.957493703284378,
            0.9375091762217067,
            0.8361651034835538,
            0.8401668921199642,
            0.8397836067156496,
            -0.948318486320704,
            -0.9260401054557721,
            -0.9261364684617446
           ]
          }
         ],
         "name": "26"
        },
        {
         "data": [
          {
           "marker": {
            "color": [
             "red",
             "red",
             "red",
             "blue",
             "blue",
             "green",
             "green",
             "green"
            ]
           },
           "mode": "markers",
           "type": "scatter",
           "x": [
            0.9153977304334672,
            0.8847561095623464,
            0.9015567621991845,
            0.841681606340631,
            0.844554188738303,
            -0.9464432747528146,
            -0.9570868397541544,
            -0.9354364808960861
           ],
           "y": [
            1,
            0.9675911468941604,
            0.9853627112030711,
            0.9207470379472532,
            0.923843457297131,
            -1.0264452694315762,
            -1.0380350152006361,
            -1.0144585571926097
           ]
          }
         ],
         "name": "27"
        },
        {
         "data": [
          {
           "marker": {
            "color": [
             "red",
             "red",
             "red",
             "blue",
             "blue",
             "green",
             "green",
             "green"
            ]
           },
           "mode": "markers",
           "type": "scatter",
           "x": [
            0.8878876453373343,
            0.9110510840558348,
            0.9179786379145108,
            0.8177903294325009,
            0.7920262181188217,
            -0.9082594929073831,
            -0.9144067943015565,
            -0.9252536137145081
           ],
           "y": [
            0.9672380329150547,
            0.9924575198322302,
            1,
            0.8909186950271887,
            0.8628676081016772,
            -0.9883456140192732,
            -0.9950385856764916,
            -1.00684823304175
           ]
          }
         ],
         "name": "28"
        },
        {
         "data": [
          {
           "marker": {
            "color": [
             "red",
             "red",
             "red",
             "blue",
             "blue",
             "green",
             "green",
             "green"
            ]
           },
           "mode": "markers",
           "type": "scatter",
           "x": [
            0.8905175115796452,
            0.9184063721210461,
            0.8962001820464638,
            0.8037695763806463,
            0.7978930769753568,
            -0.8926317496768448,
            -0.9097901718669438,
            -0.892862459537155
           ],
           "y": [
            0.9696355605901639,
            1,
            0.9758226582356181,
            0.8751873697172448,
            0.8687892377016615,
            -0.9717964962557037,
            -0.9904780007211029,
            -0.9720476852775065
           ]
          }
         ],
         "name": "29"
        },
        {
         "data": [
          {
           "marker": {
            "color": [
             "red",
             "red",
             "red",
             "blue",
             "blue",
             "green",
             "green",
             "green"
            ]
           },
           "mode": "markers",
           "type": "scatter",
           "x": [
            0.906916797946992,
            0.9184623728170394,
            0.9052269281484565,
            0.7950789915654765,
            0.8189662303937605,
            -0.9431011160882685,
            -0.8637471971130007,
            -0.9139413458143738
           ],
           "y": [
            0.9874295721310777,
            1,
            0.9855896995696225,
            0.8656643855597017,
            0.8916719959262581,
            -1.0268067917118746,
            -0.9404089530742151,
            -0.9950586290581878
           ]
          }
         ],
         "name": "30"
        },
        {
         "data": [
          {
           "marker": {
            "color": [
             "red",
             "red",
             "red",
             "blue",
             "blue",
             "green",
             "green",
             "green"
            ]
           },
           "mode": "markers",
           "type": "scatter",
           "x": [
            0.9184699504599053,
            0.8837603372876791,
            0.8846442761333726,
            0.8507398012631335,
            0.8516378676695169,
            -0.8734789137946644,
            -0.9194701239943205,
            -0.8553126130391961
           ],
           "y": [
            1,
            0.9622093578143095,
            0.963171760260739,
            0.9262577251789406,
            0.9272355092312775,
            -0.9510127643341345,
            -1.0010864243233242,
            -0.9312339160859175
           ]
          }
         ],
         "name": "31"
        },
        {
         "data": [
          {
           "marker": {
            "color": [
             "red",
             "red",
             "red",
             "blue",
             "blue",
             "green",
             "green",
             "green"
            ]
           },
           "mode": "markers",
           "type": "scatter",
           "x": [
            0.9122712223487518,
            0.918470956814667,
            0.8839274339756603,
            0.8316074738461153,
            0.821047083322374,
            -0.8636826184248101,
            -0.930824057553315,
            -0.9048175326518628
           ],
           "y": [
            0.993249940709935,
            1,
            0.9623901913004642,
            0.9054260043873168,
            0.8939282116103215,
            -0.9403479879668536,
            -1.0134492953582137,
            -0.9851342786460527
           ]
          }
         ],
         "name": "32"
        },
        {
         "data": [
          {
           "marker": {
            "color": [
             "red",
             "red",
             "red",
             "blue",
             "blue",
             "green",
             "green",
             "green"
            ]
           },
           "mode": "markers",
           "type": "scatter",
           "x": [
            0.8127356826496093,
            0.9184710926043156,
            0.8463447544537651,
            0.8124502289132659,
            0.8084463886186206,
            -0.8737192980199907,
            -0.8719321522408809,
            -0.8664817622168257
           ],
           "y": [
            0.8848788943821013,
            1,
            0.9214713046876286,
            0.8845681020964827,
            0.8802088574344108,
            -0.9512757300021518,
            -0.9493299466729985,
            -0.9433957480361628
           ]
          }
         ],
         "name": "33"
        },
        {
         "data": [
          {
           "marker": {
            "color": [
             "red",
             "red",
             "red",
             "blue",
             "blue",
             "green",
             "green",
             "green"
            ]
           },
           "mode": "markers",
           "type": "scatter",
           "x": [
            0.9080363981209947,
            0.913813441119808,
            0.9184711098736058,
            0.7538307864496518,
            0.74891445186754,
            -0.8897501571617887,
            -0.9036966908439757,
            -0.8873113185716895
           ],
           "y": [
            0.988639041979605,
            0.9949288892267153,
            1,
            0.8207452350166071,
            0.8153924977176955,
            -0.9687296011060703,
            -0.9839141109851961,
            -0.9660742768865281
           ]
          }
         ],
         "name": "34"
        },
        {
         "data": [
          {
           "marker": {
            "color": [
             "red",
             "red",
             "red",
             "blue",
             "blue",
             "green",
             "green",
             "green"
            ]
           },
           "mode": "markers",
           "type": "scatter",
           "x": [
            0.8764333244249796,
            0.9184711121895355,
            0.9119160270679709,
            0.8206561571851052,
            0.8097401645557349,
            -0.903364130726636,
            -0.8871410489933583,
            -0.9682079216336389
           ],
           "y": [
            0.954230691428167,
            1,
            0.9928630470441524,
            0.8935024154074855,
            0.8816174551945506,
            -0.9835520334011868,
            -0.9658888957024305,
            -1.0541517398275178
           ]
          }
         ],
         "name": "35"
        },
        {
         "data": [
          {
           "marker": {
            "color": [
             "red",
             "red",
             "red",
             "blue",
             "blue",
             "green",
             "green",
             "green"
            ]
           },
           "mode": "markers",
           "type": "scatter",
           "x": [
            0.9178929735562592,
            0.9007849357588386,
            0.9184711125023599,
            0.7703477145444396,
            0.7843950353469551,
            -0.8962601190300219,
            -0.9030163120073013,
            -0.8741191447255174
           ],
           "y": [
            0.9993705420473189,
            0.9807438943894013,
            1,
            0.8387282997427308,
            0.8540225431986137,
            -0.9758174282658472,
            -0.9831733405912034,
            -0.9517110911127216
           ]
          }
         ],
         "name": "36"
        },
        {
         "data": [
          {
           "marker": {
            "color": [
             "red",
             "red",
             "red",
             "blue",
             "blue",
             "green",
             "green",
             "green"
            ]
           },
           "mode": "markers",
           "type": "scatter",
           "x": [
            0.912893740049329,
            0.9184711125419571,
            0.9098432853322576,
            0.8478858572479854,
            0.869231307231838,
            -0.8939127160215401,
            -0.9101653318734475,
            -0.909264598476001
           ],
           "y": [
            0.9939275471852842,
            1,
            0.9906063162011035,
            0.9231491831048039,
            0.9463893805287875,
            -0.9732616560307331,
            -0.9909569494698575,
            -0.9899762616886822
           ]
          }
         ],
         "name": "37"
        },
        {
         "data": [
          {
           "marker": {
            "color": [
             "red",
             "red",
             "red",
             "blue",
             "blue",
             "green",
             "green",
             "green"
            ]
           },
           "mode": "markers",
           "type": "scatter",
           "x": [
            0.9184711125474487,
            0.8965165607385911,
            0.9065680588159536,
            0.8347010886879527,
            0.8167754695945831,
            -0.9212435938614059,
            -0.9194375316592709,
            -0.9269141327067991
           ],
           "y": [
            1,
            0.9760966332975363,
            0.9870403613473757,
            0.9087940570857179,
            0.8892772548167449,
            -1.0030185830282399,
            -1.001052204143306,
            -1.0091924721880805
           ]
          }
         ],
         "name": "38"
        },
        {
         "data": [
          {
           "marker": {
            "color": [
             "red",
             "red",
             "red",
             "blue",
             "blue",
             "green",
             "green",
             "green"
            ]
           },
           "mode": "markers",
           "type": "scatter",
           "x": [
            0.918471112548157,
            0.9121785705089426,
            0.892410863894222,
            0.8410468309380026,
            0.8328290349599916,
            -0.9780648184410847,
            -0.9565617565019333,
            -0.9209093757767957
           ],
           "y": [
            1,
            0.9931488949916372,
            0.9716264906997057,
            0.9157030846671208,
            0.9067558288789566,
            -1.0648835930477216,
            -1.0414717931060928,
            -1.0026546977853452
           ]
          }
         ],
         "name": "39"
        },
        {
         "data": [
          {
           "marker": {
            "color": [
             "red",
             "red",
             "red",
             "blue",
             "blue",
             "green",
             "green",
             "green"
            ]
           },
           "mode": "markers",
           "type": "scatter",
           "x": [
            0.8681010066280279,
            0.9184711125482632,
            0.8920295427405261,
            0.8135824942266581,
            0.8061253750080373,
            -0.8989570563907454,
            -0.8983658721463711,
            -0.9331119908763674
           ],
           "y": [
            0.945158747801573,
            1,
            0.9712113212419078,
            0.885800852211263,
            0.8776817953168865,
            -0.9787537616687579,
            -0.9781101004405502,
            -1.015940488631631
           ]
          }
         ],
         "name": "40"
        },
        {
         "data": [
          {
           "marker": {
            "color": [
             "red",
             "red",
             "red",
             "blue",
             "blue",
             "green",
             "green",
             "green"
            ]
           },
           "mode": "markers",
           "type": "scatter",
           "x": [
            0.9029877786955842,
            0.9184711125482858,
            0.8971236715855192,
            0.8573880752494242,
            0.8335126452843944,
            -0.9173378962933417,
            -0.8941831773083342,
            -0.9226163726359804
           ],
           "y": [
            0.9831422745460747,
            1,
            0.9767576348661233,
            0.9334948737479808,
            0.9075001204684806,
            -0.9987661928181839,
            -0.9735561250559366,
            -1.00451321770609
           ]
          }
         ],
         "name": "41"
        },
        {
         "data": [
          {
           "marker": {
            "color": [
             "red",
             "red",
             "red",
             "blue",
             "blue",
             "green",
             "green",
             "green"
            ]
           },
           "mode": "markers",
           "type": "scatter",
           "x": [
            0.9152844594213522,
            0.9184711125482886,
            0.9157234216292423,
            0.8023389604614729,
            0.8201655614314963,
            -0.9374024352024161,
            -0.8706343834240314,
            -0.8710184620247445
           ],
           "y": [
            0.996530480835595,
            1,
            0.9970084079058018,
            0.8735592763885441,
            0.8929682711042999,
            -1.020611777981342,
            -0.9479170019930837,
            -0.9483351736649698
           ]
          }
         ],
         "name": "42"
        },
        {
         "data": [
          {
           "marker": {
            "color": [
             "red",
             "red",
             "red",
             "blue",
             "blue",
             "green",
             "green",
             "green"
            ]
           },
           "mode": "markers",
           "type": "scatter",
           "x": [
            0.9184711125482965,
            0.8754091641169366,
            0.8662282560642287,
            0.7763200399718058,
            0.7877024233249564,
            -0.8653186799891929,
            -0.8726232043066173,
            -0.8702864017893979
           ],
           "y": [
            1,
            0.953115620248654,
            0.9431197609044898,
            0.8452307637829883,
            0.857623514298103,
            -0.9421294455177438,
            -0.9500823622917496,
            -0.947538131465876
           ]
          }
         ],
         "name": "43"
        },
        {
         "data": [
          {
           "marker": {
            "color": [
             "red",
             "red",
             "red",
             "blue",
             "blue",
             "green",
             "green",
             "green"
            ]
           },
           "mode": "markers",
           "type": "scatter",
           "x": [
            0.9184711125482959,
            0.8751029855958187,
            0.8922812685474932,
            0.8046823015307869,
            0.816576940465302,
            -0.8849595705309058,
            -0.8798126423194003,
            -0.8562696513970146
           ],
           "y": [
            1,
            0.9527822635247055,
            0.9714853917091232,
            0.876110626166779,
            0.8890611030756435,
            -0.9635137767976018,
            -0.9579099770251501,
            -0.9322771720291737
           ]
          }
         ],
         "name": "44"
        },
        {
         "data": [
          {
           "marker": {
            "color": [
             "red",
             "red",
             "red",
             "blue",
             "blue",
             "green",
             "green",
             "green"
            ]
           },
           "mode": "markers",
           "type": "scatter",
           "x": [
            0.917835345054221,
            0.9184711125483009,
            0.911077997650381,
            0.8474051133580736,
            0.8465265505608562,
            -0.9421521380981595,
            -0.9293906893760971,
            -0.9160143599803685
           ],
           "y": [
            0.9993077980511392,
            1,
            0.9919506288255423,
            0.9226257655583174,
            0.9216692163699833,
            -1.0257830923872588,
            -1.0118888625658766,
            -0.9973251716528125
           ]
          }
         ],
         "name": "45"
        },
        {
         "data": [
          {
           "marker": {
            "color": [
             "red",
             "red",
             "red",
             "blue",
             "blue",
             "green",
             "green",
             "green"
            ]
           },
           "mode": "markers",
           "type": "scatter",
           "x": [
            0.901661766533956,
            0.8954200069676616,
            0.9184711125482867,
            0.8210992997128296,
            0.8406215200914008,
            -0.9304283523831806,
            -0.9270805059992663,
            -0.9358848474577693
           ],
           "y": [
            0.981698557761176,
            0.9749027429761273,
            1,
            0.8939848934766035,
            0.9152400207330345,
            -1.013018634632624,
            -1.0093736137515348,
            -1.0189594802401138
           ]
          }
         ],
         "name": "46"
        },
        {
         "data": [
          {
           "marker": {
            "color": [
             "red",
             "red",
             "red",
             "blue",
             "blue",
             "green",
             "green",
             "green"
            ]
           },
           "mode": "markers",
           "type": "scatter",
           "x": [
            0.9184711125481849,
            0.9180887607762309,
            0.9161578754602228,
            0.8271552795834732,
            0.8339067803230691,
            -0.9217534356192575,
            -1.0246280972547874,
            -0.8982742257818287
           ],
           "y": [
            1,
            0.999583708440333,
            0.9974814264092163,
            0.9005784376697136,
            0.9079292412468197,
            -1.0035736813342275,
            -1.1155801018192946,
            -0.9780103190067118
           ]
          }
         ],
         "name": "47"
        },
        {
         "data": [
          {
           "marker": {
            "color": [
             "red",
             "red",
             "red",
             "blue",
             "blue",
             "green",
             "green",
             "green"
            ]
           },
           "mode": "markers",
           "type": "scatter",
           "x": [
            0.9120765767175483,
            0.9184711125482725,
            0.8892794858248595,
            0.8377927259647513,
            0.8580570459529873,
            -0.9500064380563418,
            -0.9563711890235389,
            -0.9568964294324069
           ],
           "y": [
            0.993037847632483,
            1,
            0.9682171531313272,
            0.912160126234469,
            0.9342232262181063,
            -1.0343345861150974,
            -1.0412643097397691,
            -1.0418361735705444
           ]
          }
         ],
         "name": "48"
        },
        {
         "data": [
          {
           "marker": {
            "color": [
             "red",
             "red",
             "red",
             "blue",
             "blue",
             "green",
             "green",
             "green"
            ]
           },
           "mode": "markers",
           "type": "scatter",
           "x": [
            0.9040990230364339,
            0.9161553975325855,
            0.9184711125482938,
            0.8226776685985626,
            0.8455612798282149,
            -0.9312323989814585,
            -0.9419979960105329,
            -0.9245820867091511
           ],
           "y": [
            0.9843521594577052,
            0.9974787285260576,
            1,
            0.8957033676497979,
            0.9206182625408978,
            -1.013894053126785,
            -1.0256152677431118,
            -1.006653420099302
           ]
          }
         ],
         "name": "49"
        },
        {
         "data": [
          {
           "marker": {
            "color": [
             "red",
             "red",
             "red",
             "blue",
             "blue",
             "green",
             "green",
             "green"
            ]
           },
           "mode": "markers",
           "type": "scatter",
           "x": [
            0.9184711125482877,
            0.8899104118843174,
            0.8792718298136252,
            0.789682087900902,
            0.8034174532822399,
            -0.8963089784328757,
            -0.9425625460651127,
            -0.9022276715163545
           ],
           "y": [
            1,
            0.9689040838914064,
            0.9573211588267612,
            0.8597789055226158,
            0.8747335025629402,
            -0.975870624766926,
            -1.0262299305744909,
            -0.9823146957917162
           ]
          }
         ],
         "name": "50"
        },
        {
         "data": [
          {
           "marker": {
            "color": [
             "red",
             "red",
             "red",
             "blue",
             "blue",
             "green",
             "green",
             "green"
            ]
           },
           "mode": "markers",
           "type": "scatter",
           "x": [
            0.9173691672123255,
            0.9184711125482953,
            0.9083142515377698,
            0.8156647377012507,
            0.8167409196479929,
            -0.9409501090996798,
            -0.8805622600246491,
            -0.8802754433728618
           ],
           "y": [
            0.9988002395274982,
            1,
            0.9889415563845602,
            0.888067927839548,
            0.8892396380131617,
            -1.0244743642389007,
            -0.9587261351982684,
            -0.9584138590168298
           ]
          }
         ],
         "name": "51"
        },
        {
         "data": [
          {
           "marker": {
            "color": [
             "red",
             "red",
             "red",
             "blue",
             "blue",
             "green",
             "green",
             "green"
            ]
           },
           "mode": "markers",
           "type": "scatter",
           "x": [
            0.903741751786019,
            0.9184711125482978,
            0.8338948176565467,
            0.8176810227866975,
            0.8013451915489913,
            -0.8810886363172596,
            -0.9032382685733549,
            -0.8811380546349571
           ],
           "y": [
            0.983963174713887,
            1,
            0.9079162167037644,
            0.8902631902249419,
            0.8724772947138864,
            -0.9592992357404538,
            -0.9834149993757861,
            -0.9593530407181189
           ]
          }
         ],
         "name": "52"
        },
        {
         "data": [
          {
           "marker": {
            "color": [
             "red",
             "red",
             "red",
             "blue",
             "blue",
             "green",
             "green",
             "green"
            ]
           },
           "mode": "markers",
           "type": "scatter",
           "x": [
            0.9122480154832757,
            0.867849020336959,
            0.9184711125482983,
            0.8209277710661054,
            0.8384949906786686,
            -0.8934164703208933,
            -0.8819474459338114,
            -0.9039527241890306
           ],
           "y": [
            0.9932245043093948,
            0.9448843937280892,
            1,
            0.8937981389403151,
            0.9129247280867313,
            -0.9727213606556564,
            -0.960234278339849,
            -0.9841928742658146
           ]
          }
         ],
         "name": "53"
        },
        {
         "data": [
          {
           "marker": {
            "color": [
             "red",
             "red",
             "red",
             "blue",
             "blue",
             "green",
             "green",
             "green"
            ]
           },
           "mode": "markers",
           "type": "scatter",
           "x": [
            0.9058979404583408,
            0.918471112548297,
            0.9129855296543635,
            0.7608851371269595,
            0.7727478736735327,
            -0.9196391242215943,
            -0.9025471858692218,
            -0.9014707388738972
           ],
           "y": [
            0.9863107593497725,
            1,
            0.9940274845675714,
            0.828425768357464,
            0.841341511035161,
            -1.0012716912457564,
            -0.9826625721141249,
            -0.9814905733646616
           ]
          }
         ],
         "name": "54"
        },
        {
         "data": [
          {
           "marker": {
            "color": [
             "red",
             "red",
             "red",
             "blue",
             "blue",
             "green",
             "green",
             "green"
            ]
           },
           "mode": "markers",
           "type": "scatter",
           "x": [
            0.9184711125482853,
            0.9078414348499066,
            0.8961668334872834,
            0.7759374299404775,
            0.7764045567228276,
            -0.9157003414074706,
            -0.8849302300169524,
            -0.9152953987630711
           ],
           "y": [
            1,
            0.9884267697120176,
            0.9757158622015661,
            0.8448141910393189,
            0.8453227827369421,
            -0.9969832789480626,
            -0.9634818318474021,
            -0.9965423912175007
           ]
          }
         ],
         "name": "55"
        },
        {
         "data": [
          {
           "marker": {
            "color": [
             "red",
             "red",
             "red",
             "blue",
             "blue",
             "green",
             "green",
             "green"
            ]
           },
           "mode": "markers",
           "type": "scatter",
           "x": [
            0.895441150211631,
            0.9178163790861441,
            0.9184711125482922,
            0.7892928896582315,
            0.776101969023057,
            -0.8928792802571326,
            -0.8708591454239163,
            -0.931490683583633
           ],
           "y": [
            0.9749257630185368,
            0.9992871485524106,
            1,
            0.8593551597592931,
            0.8449933355767376,
            -0.9721364864484744,
            -0.9481617151874352,
            -1.0141752645863842
           ]
          }
         ],
         "name": "56"
        },
        {
         "data": [
          {
           "marker": {
            "color": [
             "red",
             "red",
             "red",
             "blue",
             "blue",
             "green",
             "green",
             "green"
            ]
           },
           "mode": "markers",
           "type": "scatter",
           "x": [
            0.9121559554784676,
            0.9184711125482997,
            0.9075174064123043,
            0.8137649000749305,
            0.7899006532970239,
            -0.8975685006378727,
            -0.8860465327869279,
            -0.8880806752417056
           ],
           "y": [
            0.9931242725181515,
            1,
            0.9880739786082073,
            0.8859994494733089,
            0.86001687206628,
            -0.9772419495563315,
            -0.9646972242040257,
            -0.9669119290836738
           ]
          }
         ],
         "name": "57"
        },
        {
         "data": [
          {
           "marker": {
            "color": [
             "red",
             "red",
             "red",
             "blue",
             "blue",
             "green",
             "green",
             "green"
            ]
           },
           "mode": "markers",
           "type": "scatter",
           "x": [
            0.9006060240403343,
            0.9184711125482878,
            0.9007905491735192,
            0.845632262953619,
            0.8221816730745967,
            -0.932843309941557,
            -0.891248327564519,
            -0.868319315054863
           ],
           "y": [
            0.980549101366523,
            1,
            0.9807500060337071,
            0.9206955465451989,
            0.8951633446516016,
            -1.0156479579998785,
            -0.9703607608210405,
            -0.9453964345658168
           ]
          }
         ],
         "name": "58"
        },
        {
         "data": [
          {
           "marker": {
            "color": [
             "red",
             "red",
             "red",
             "blue",
             "blue",
             "green",
             "green",
             "green"
            ]
           },
           "mode": "markers",
           "type": "scatter",
           "x": [
            0.9184711125483032,
            0.8891797942963782,
            0.8716449990650995,
            0.7199339081883741,
            0.7403815382901485,
            -0.8496132821903963,
            -0.8962812005043336,
            -0.8628719204691659
           ],
           "y": [
            1,
            0.9681086123975567,
            0.9490173258108429,
            0.7838394679511638,
            0.8061021497300662,
            -0.9250299444183336,
            -0.9758403811063795,
            -0.9394654972600374
           ]
          }
         ],
         "name": "59"
        },
        {
         "data": [
          {
           "marker": {
            "color": [
             "red",
             "red",
             "red",
             "blue",
             "blue",
             "green",
             "green",
             "green"
            ]
           },
           "mode": "markers",
           "type": "scatter",
           "x": [
            0.9184711125482925,
            0.881004714613798,
            0.8922471432742444,
            0.7638682532127339,
            0.771543092909711,
            -0.8663306049485979,
            -0.871326760435654,
            -0.8731913614486853
           ],
           "y": [
            1,
            0.9592078646539577,
            0.9714482372762941,
            0.8316736833381578,
            0.8400297868585868,
            -0.9432311948766298,
            -0.9486708384525653,
            -0.9507009523968744
           ]
          }
         ],
         "name": "60"
        },
        {
         "data": [
          {
           "marker": {
            "color": [
             "red",
             "red",
             "red",
             "blue",
             "blue",
             "green",
             "green",
             "green"
            ]
           },
           "mode": "markers",
           "type": "scatter",
           "x": [
            0.8684836116728117,
            0.9184711125482912,
            0.908908202161464,
            0.7876222489333892,
            0.7813685779210814,
            -0.8738848829508211,
            -0.89053931841771,
            -0.8987470244818391
           ],
           "y": [
            0.9455753151160169,
            1,
            0.9895882295521558,
            0.8575362231569071,
            0.8507274395959779,
            -0.95145603493857,
            -0.9695888158604247,
            -0.9785250860947245
           ]
          }
         ],
         "name": "61"
        },
        {
         "data": [
          {
           "marker": {
            "color": [
             "red",
             "red",
             "red",
             "blue",
             "blue",
             "green",
             "green",
             "green"
            ]
           },
           "mode": "markers",
           "type": "scatter",
           "x": [
            0.9172788195584141,
            0.8761276074590538,
            0.9184711125483045,
            0.7960623032926828,
            0.8156670454238999,
            -0.9181916943569005,
            -0.9343830005159197,
            -0.8735368619573338
           ],
           "y": [
            0.9987018720854697,
            0.9538978368391269,
            1,
            0.8667254662849532,
            0.8880704404092049,
            -0.9996957790097248,
            -1.017324320547733,
            -0.9510771215587872
           ]
          }
         ],
         "name": "62"
        },
        {
         "data": [
          {
           "marker": {
            "color": [
             "red",
             "red",
             "red",
             "blue",
             "blue",
             "green",
             "green",
             "green"
            ]
           },
           "mode": "markers",
           "type": "scatter",
           "x": [
            0.8859172883306181,
            0.8871556241135514,
            0.9184711125482973,
            0.8436219670407322,
            0.8424720828127825,
            -0.8982297424887565,
            -0.9045134566975075,
            -0.9133616481944663
           ],
           "y": [
            0.9645565072511036,
            0.9659047649872657,
            1,
            0.9185068049664737,
            0.9172548502645345,
            -0.9779618871154573,
            -0.9848033806833015,
            -0.9944369895971465
           ]
          }
         ],
         "name": "63"
        },
        {
         "data": [
          {
           "marker": {
            "color": [
             "red",
             "red",
             "red",
             "blue",
             "blue",
             "green",
             "green",
             "green"
            ]
           },
           "mode": "markers",
           "type": "scatter",
           "x": [
            0.9092745158650878,
            0.9184711125482912,
            0.9156329577640667,
            0.8666438948938597,
            0.8781183909671214,
            -0.9336296572424752,
            -0.9373692888992204,
            -0.939136255517355
           ],
           "y": [
            0.9899870594104044,
            1,
            0.9969099139369213,
            0.9435722942764765,
            0.9560653339774488,
            -1.0165041061031477,
            -1.0205756894176965,
            -1.0224995023650973
           ]
          }
         ],
         "name": "64"
        },
        {
         "data": [
          {
           "marker": {
            "color": [
             "red",
             "red",
             "red",
             "blue",
             "blue",
             "green",
             "green",
             "green"
            ]
           },
           "mode": "markers",
           "type": "scatter",
           "x": [
            0.8906377897509359,
            0.9184711125482964,
            0.9137062401013789,
            0.8148057581312699,
            0.819205513172754,
            -0.8819527102977133,
            -0.9357272430684074,
            -0.9034543270353613
           ],
           "y": [
            0.969696028087223,
            1,
            0.9948121695044966,
            0.8871327002006543,
            0.8919230033265494,
            -0.9602400099995946,
            -1.0187878859600017,
            -0.9836502364551568
           ]
          }
         ],
         "name": "65"
        },
        {
         "data": [
          {
           "marker": {
            "color": [
             "red",
             "red",
             "red",
             "blue",
             "blue",
             "green",
             "green",
             "green"
            ]
           },
           "mode": "markers",
           "type": "scatter",
           "x": [
            0.9184711125483025,
            0.9018230593840308,
            0.9078020604488782,
            0.7953868206542382,
            0.8073999662401916,
            -0.877411947063679,
            -0.9271106498388471,
            -0.9056249500716403
           ],
           "y": [
            1,
            0.9818741679114092,
            0.9883839002080069,
            0.8659900238423848,
            0.8790695267487104,
            -0.9552961819662442,
            -1.0094064333352575,
            -0.9860135367338689
           ]
          }
         ],
         "name": "66"
        },
        {
         "data": [
          {
           "marker": {
            "color": [
             "red",
             "red",
             "red",
             "blue",
             "blue",
             "green",
             "green",
             "green"
            ]
           },
           "mode": "markers",
           "type": "scatter",
           "x": [
            0.889316465447653,
            0.9184711125488411,
            0.9127138505650424,
            0.7657863350643368,
            0.7664378515678321,
            -0.8799929392070298,
            -0.8791180717090694,
            -0.8815731462594951
           ],
           "y": [
            0.9682574152819253,
            1,
            0.9937316896469169,
            0.8337620253937016,
            0.8344713743264999,
            -0.9581062781221397,
            -0.9571537522495165,
            -0.9598267536285208
           ]
          }
         ],
         "name": "67"
        },
        {
         "data": [
          {
           "marker": {
            "color": [
             "red",
             "red",
             "red",
             "blue",
             "blue",
             "green",
             "green",
             "green"
            ]
           },
           "mode": "markers",
           "type": "scatter",
           "x": [
            0.8918628598000808,
            0.9183308638633677,
            0.9184711125488871,
            0.8204243892342395,
            0.8014974824236425,
            -0.8827229242501554,
            -0.8779056620259575,
            -0.8913493224888304
           ],
           "y": [
            0.9710298425445419,
            0.9998473020178762,
            1,
            0.8932500739815513,
            0.8726431038199429,
            -0.9610785926629125,
            -0.9558337219659695,
            -0.9704707206469202
           ]
          }
         ],
         "name": "68"
        },
        {
         "data": [
          {
           "marker": {
            "color": [
             "red",
             "red",
             "red",
             "blue",
             "blue",
             "green",
             "green",
             "green"
            ]
           },
           "mode": "markers",
           "type": "scatter",
           "x": [
            0.8583650311717365,
            0.8854025199463081,
            0.9184711125488623,
            0.8369156863775886,
            0.8016882117313369,
            -0.8776915074017827,
            -0.9006287432951434,
            -0.8696636076892671
           ],
           "y": [
            0.9345585500121276,
            0.9639960450026142,
            1,
            0.9112052354646165,
            0.8728507633805656,
            -0.9556005577203095,
            -0.9805738373150269,
            -0.9468600545048778
           ]
          }
         ],
         "name": "69"
        },
        {
         "data": [
          {
           "marker": {
            "color": [
             "red",
             "red",
             "red",
             "blue",
             "blue",
             "green",
             "green",
             "green"
            ]
           },
           "mode": "markers",
           "type": "scatter",
           "x": [
            0.9111663041633169,
            0.9125035911546788,
            0.9184711125489092,
            0.7878587396567208,
            0.7851566168683349,
            -0.9091071752114607,
            -0.910172808438544,
            -0.8916147060197331
           ],
           "y": [
            0.9920467739422971,
            0.9935027663769814,
            1,
            0.8577937061844632,
            0.854851727115699,
            -0.9898048646173211,
            -0.9909650897049949,
            -0.9707596611778994
           ]
          }
         ],
         "name": "70"
        },
        {
         "data": [
          {
           "marker": {
            "color": [
             "red",
             "red",
             "red",
             "blue",
             "blue",
             "green",
             "green",
             "green"
            ]
           },
           "mode": "markers",
           "type": "scatter",
           "x": [
            0.9183627367377917,
            0.9045308968217138,
            0.9184711125488916,
            0.8171230587227039,
            0.8604664576205394,
            -0.9064260033358738,
            -0.9567671627083058,
            -0.9386270793589604
           ],
           "y": [
            0.9998820041157243,
            0.9848223688946454,
            1,
            0.8896556979947152,
            0.9368465114080481,
            -0.98688569618743,
            -1.0416954323725582,
            -1.0219451287413297
           ]
          }
         ],
         "name": "71"
        },
        {
         "data": [
          {
           "marker": {
            "color": [
             "red",
             "red",
             "red",
             "blue",
             "blue",
             "green",
             "green",
             "green"
            ]
           },
           "mode": "markers",
           "type": "scatter",
           "x": [
            0.885223604855118,
            0.9168466836405906,
            0.9184711125488696,
            0.8102739057842776,
            0.8216762701444641,
            -0.8894250752308839,
            -0.956269289071236,
            -0.9002937787794569
           ],
           "y": [
            0.9638012483576882,
            0.998231377246225,
            1,
            0.8821985740363881,
            0.8946130791900051,
            -0.9683756659070707,
            -1.0411533645490048,
            -0.9802091393827994
           ]
          }
         ],
         "name": "72"
        },
        {
         "data": [
          {
           "marker": {
            "color": [
             "red",
             "red",
             "red",
             "blue",
             "blue",
             "green",
             "green",
             "green"
            ]
           },
           "mode": "markers",
           "type": "scatter",
           "x": [
            0.9184711125488704,
            0.8971242995613021,
            0.8949552925461449,
            0.7612719717059456,
            0.7714565303429793,
            -0.886031680147255,
            -0.9159103889080022,
            -0.8763186583569699
           ],
           "y": [
            1,
            0.9767583185840545,
            0.9743967777739704,
            0.8288469406438547,
            0.8399355404897103,
            -0.9646810531561532,
            -0.9972119714969894,
            -0.9541058465355239
           ]
          }
         ],
         "name": "73"
        },
        {
         "data": [
          {
           "marker": {
            "color": [
             "red",
             "red",
             "red",
             "blue",
             "blue",
             "green",
             "green",
             "green"
            ]
           },
           "mode": "markers",
           "type": "scatter",
           "x": [
            0.9128062336733526,
            0.9184711125489,
            0.8934472835915372,
            0.7484275963616913,
            0.7483360527740279,
            -0.9032409828024135,
            -0.8692691356742004,
            -0.8691346673862771
           ],
           "y": [
            0.9938322732221608,
            1,
            0.9727549090924299,
            0.814862423146496,
            0.8147627536126267,
            -0.9834179545349947,
            -0.9464305668381447,
            -0.9462841623556458
           ]
          }
         ],
         "name": "74"
        },
        {
         "data": [
          {
           "marker": {
            "color": [
             "red",
             "red",
             "red",
             "blue",
             "blue",
             "green",
             "green",
             "green"
            ]
           },
           "mode": "markers",
           "type": "scatter",
           "x": [
            0.9003176624304948,
            0.9058297509083867,
            0.9184711125488733,
            0.7994445392656144,
            0.81587520223557,
            -0.9041241759823005,
            -0.8867760491076567,
            -0.8924973480407085
           ],
           "y": [
            0.9802351430868297,
            0.9862365168944321,
            1,
            0.8704079293762523,
            0.8882970744407677,
            -0.9843795451259486,
            -0.9654914966749767,
            -0.9717206516858229
           ]
          }
         ],
         "name": "75"
        },
        {
         "data": [
          {
           "marker": {
            "color": [
             "red",
             "red",
             "red",
             "blue",
             "blue",
             "green",
             "green",
             "green"
            ]
           },
           "mode": "markers",
           "type": "scatter",
           "x": [
            0.8673100694674937,
            0.9184711125488739,
            0.9050676429181064,
            0.8402325944944161,
            0.8399355273254576,
            -0.9132364226608248,
            -0.9074987093853086,
            -0.907742360354497
           ],
           "y": [
            0.9442976024151191,
            1,
            0.9854067597252788,
            0.9148165718164246,
            0.9144931352217409,
            -0.994300648309436,
            -0.9880536219227232,
            -0.9883189007821952
           ]
          }
         ],
         "name": "76"
        },
        {
         "data": [
          {
           "marker": {
            "color": [
             "red",
             "red",
             "red",
             "blue",
             "blue",
             "green",
             "green",
             "green"
            ]
           },
           "mode": "markers",
           "type": "scatter",
           "x": [
            0.9184711125488886,
            0.8944973283686692,
            0.9121063150861117,
            0.8302105675806218,
            0.8303008716639073,
            -0.9303294731294552,
            -0.9361102176750412,
            -0.9699708225537831
           ],
           "y": [
            1,
            0.9738981620078444,
            0.9930702257525412,
            0.9039049309636386,
            0.9040032509674453,
            -1.0129109782753511,
            -1.019204855640254,
            -1.0560711265725857
           ]
          }
         ],
         "name": "77"
        },
        {
         "data": [
          {
           "marker": {
            "color": [
             "red",
             "red",
             "red",
             "blue",
             "blue",
             "green",
             "green",
             "green"
            ]
           },
           "mode": "markers",
           "type": "scatter",
           "x": [
            0.9090589172711836,
            0.9184711125488921,
            0.9031572633621815,
            0.8818793856221129,
            0.8753956237006114,
            -0.9021551091081531,
            -0.8955574350586266,
            -0.9101653527901756
           ],
           "y": [
            0.9897523230190464,
            1,
            0.9833268036659133,
            0.9601601765947523,
            0.9531008779048479,
            -0.9822356923173494,
            -0.9750523699902973,
            -0.9909569722493773
           ]
          }
         ],
         "name": "78"
        },
        {
         "data": [
          {
           "marker": {
            "color": [
             "red",
             "red",
             "red",
             "blue",
             "blue",
             "green",
             "green",
             "green"
            ]
           },
           "mode": "markers",
           "type": "scatter",
           "x": [
            0.8894664616939708,
            0.918471112548863,
            0.8892732481484255,
            0.8760140003278953,
            0.8819877575217641,
            -0.9478937696659882,
            -0.942500779047216,
            -0.942627780541504
           ],
           "y": [
            0.9684207260754851,
            1,
            0.9682103617614531,
            0.9537741452714915,
            0.9602781682203348,
            -1.032034384876272,
            -1.0261626807528808,
            -1.0263009556453104
           ]
          }
         ],
         "name": "79"
        },
        {
         "data": [
          {
           "marker": {
            "color": [
             "red",
             "red",
             "red",
             "blue",
             "blue",
             "green",
             "green",
             "green"
            ]
           },
           "mode": "markers",
           "type": "scatter",
           "x": [
            0.9104289567018415,
            0.9184711125488673,
            0.8960208997980735,
            0.7924017385729535,
            0.7922355404684045,
            -0.8949505129032176,
            -0.9087827926861823,
            -0.8858761048351158
           ],
           "y": [
            0.9912439751918575,
            1,
            0.9755569745807982,
            0.8627399683522926,
            0.8625590175283844,
            -0.974391573861918,
            -0.9894516879950466,
            -0.9645116680661677
           ]
          }
         ],
         "name": "80"
        },
        {
         "data": [
          {
           "marker": {
            "color": [
             "red",
             "red",
             "red",
             "blue",
             "blue",
             "green",
             "green",
             "green"
            ]
           },
           "mode": "markers",
           "type": "scatter",
           "x": [
            0.9184711125488821,
            0.8903474115354632,
            0.9108342592535917,
            0.807369359622095,
            0.8076032854103472,
            -0.9094291461718155,
            -0.9123276529871546,
            -0.9154232202391646
           ],
           "y": [
            1,
            0.9693798741961502,
            0.9916852547772294,
            0.8790362033069066,
            0.879290893721285,
            -0.9901554156102176,
            -0.9933112109049632,
            -0.9966815588774892
           ]
          }
         ],
         "name": "81"
        },
        {
         "data": [
          {
           "marker": {
            "color": [
             "red",
             "red",
             "red",
             "blue",
             "blue",
             "green",
             "green",
             "green"
            ]
           },
           "mode": "markers",
           "type": "scatter",
           "x": [
            0.9184711125488875,
            0.9178459004479024,
            0.9046173213017039,
            0.819128466666514,
            0.831303738771252,
            -0.8950233758956514,
            -0.9210030824889949,
            -0.9355779017879671
           ],
           "y": [
            1,
            0.9993192904028788,
            0.9849164649188139,
            0.8918391177195428,
            0.9050951384461564,
            -0.9744709046012514,
            -1.0027567224548484,
            -1.018625288270197
           ]
          }
         ],
         "name": "82"
        }
       ],
       "layout": {
        "height": 500,
        "margin": {
         "b": 20,
         "l": 20,
         "r": 20,
         "t": 20
        },
        "sliders": [
         {
          "currentvalue": {
           "font": {
            "size": 20
           },
           "prefix": "Frame:",
           "visible": true,
           "xanchor": "right"
          },
          "len": 0.9,
          "pad": {
           "b": 10,
           "t": 50
          },
          "steps": [
           {
            "args": [
             [
              0
             ],
             {
              "frame": {
               "duration": 300,
               "redraw": true
              },
              "mode": "immediate",
              "transition": {
               "duration": 300
              }
             }
            ],
            "label": "0",
            "method": "animate"
           },
           {
            "args": [
             [
              1
             ],
             {
              "frame": {
               "duration": 300,
               "redraw": true
              },
              "mode": "immediate",
              "transition": {
               "duration": 300
              }
             }
            ],
            "label": "1",
            "method": "animate"
           },
           {
            "args": [
             [
              2
             ],
             {
              "frame": {
               "duration": 300,
               "redraw": true
              },
              "mode": "immediate",
              "transition": {
               "duration": 300
              }
             }
            ],
            "label": "2",
            "method": "animate"
           },
           {
            "args": [
             [
              3
             ],
             {
              "frame": {
               "duration": 300,
               "redraw": true
              },
              "mode": "immediate",
              "transition": {
               "duration": 300
              }
             }
            ],
            "label": "3",
            "method": "animate"
           },
           {
            "args": [
             [
              4
             ],
             {
              "frame": {
               "duration": 300,
               "redraw": true
              },
              "mode": "immediate",
              "transition": {
               "duration": 300
              }
             }
            ],
            "label": "4",
            "method": "animate"
           },
           {
            "args": [
             [
              5
             ],
             {
              "frame": {
               "duration": 300,
               "redraw": true
              },
              "mode": "immediate",
              "transition": {
               "duration": 300
              }
             }
            ],
            "label": "5",
            "method": "animate"
           },
           {
            "args": [
             [
              6
             ],
             {
              "frame": {
               "duration": 300,
               "redraw": true
              },
              "mode": "immediate",
              "transition": {
               "duration": 300
              }
             }
            ],
            "label": "6",
            "method": "animate"
           },
           {
            "args": [
             [
              7
             ],
             {
              "frame": {
               "duration": 300,
               "redraw": true
              },
              "mode": "immediate",
              "transition": {
               "duration": 300
              }
             }
            ],
            "label": "7",
            "method": "animate"
           },
           {
            "args": [
             [
              8
             ],
             {
              "frame": {
               "duration": 300,
               "redraw": true
              },
              "mode": "immediate",
              "transition": {
               "duration": 300
              }
             }
            ],
            "label": "8",
            "method": "animate"
           },
           {
            "args": [
             [
              9
             ],
             {
              "frame": {
               "duration": 300,
               "redraw": true
              },
              "mode": "immediate",
              "transition": {
               "duration": 300
              }
             }
            ],
            "label": "9",
            "method": "animate"
           },
           {
            "args": [
             [
              10
             ],
             {
              "frame": {
               "duration": 300,
               "redraw": true
              },
              "mode": "immediate",
              "transition": {
               "duration": 300
              }
             }
            ],
            "label": "10",
            "method": "animate"
           },
           {
            "args": [
             [
              11
             ],
             {
              "frame": {
               "duration": 300,
               "redraw": true
              },
              "mode": "immediate",
              "transition": {
               "duration": 300
              }
             }
            ],
            "label": "11",
            "method": "animate"
           },
           {
            "args": [
             [
              12
             ],
             {
              "frame": {
               "duration": 300,
               "redraw": true
              },
              "mode": "immediate",
              "transition": {
               "duration": 300
              }
             }
            ],
            "label": "12",
            "method": "animate"
           },
           {
            "args": [
             [
              13
             ],
             {
              "frame": {
               "duration": 300,
               "redraw": true
              },
              "mode": "immediate",
              "transition": {
               "duration": 300
              }
             }
            ],
            "label": "13",
            "method": "animate"
           },
           {
            "args": [
             [
              14
             ],
             {
              "frame": {
               "duration": 300,
               "redraw": true
              },
              "mode": "immediate",
              "transition": {
               "duration": 300
              }
             }
            ],
            "label": "14",
            "method": "animate"
           },
           {
            "args": [
             [
              15
             ],
             {
              "frame": {
               "duration": 300,
               "redraw": true
              },
              "mode": "immediate",
              "transition": {
               "duration": 300
              }
             }
            ],
            "label": "15",
            "method": "animate"
           },
           {
            "args": [
             [
              16
             ],
             {
              "frame": {
               "duration": 300,
               "redraw": true
              },
              "mode": "immediate",
              "transition": {
               "duration": 300
              }
             }
            ],
            "label": "16",
            "method": "animate"
           },
           {
            "args": [
             [
              17
             ],
             {
              "frame": {
               "duration": 300,
               "redraw": true
              },
              "mode": "immediate",
              "transition": {
               "duration": 300
              }
             }
            ],
            "label": "17",
            "method": "animate"
           },
           {
            "args": [
             [
              18
             ],
             {
              "frame": {
               "duration": 300,
               "redraw": true
              },
              "mode": "immediate",
              "transition": {
               "duration": 300
              }
             }
            ],
            "label": "18",
            "method": "animate"
           },
           {
            "args": [
             [
              19
             ],
             {
              "frame": {
               "duration": 300,
               "redraw": true
              },
              "mode": "immediate",
              "transition": {
               "duration": 300
              }
             }
            ],
            "label": "19",
            "method": "animate"
           },
           {
            "args": [
             [
              20
             ],
             {
              "frame": {
               "duration": 300,
               "redraw": true
              },
              "mode": "immediate",
              "transition": {
               "duration": 300
              }
             }
            ],
            "label": "20",
            "method": "animate"
           },
           {
            "args": [
             [
              21
             ],
             {
              "frame": {
               "duration": 300,
               "redraw": true
              },
              "mode": "immediate",
              "transition": {
               "duration": 300
              }
             }
            ],
            "label": "21",
            "method": "animate"
           },
           {
            "args": [
             [
              22
             ],
             {
              "frame": {
               "duration": 300,
               "redraw": true
              },
              "mode": "immediate",
              "transition": {
               "duration": 300
              }
             }
            ],
            "label": "22",
            "method": "animate"
           },
           {
            "args": [
             [
              23
             ],
             {
              "frame": {
               "duration": 300,
               "redraw": true
              },
              "mode": "immediate",
              "transition": {
               "duration": 300
              }
             }
            ],
            "label": "23",
            "method": "animate"
           },
           {
            "args": [
             [
              24
             ],
             {
              "frame": {
               "duration": 300,
               "redraw": true
              },
              "mode": "immediate",
              "transition": {
               "duration": 300
              }
             }
            ],
            "label": "24",
            "method": "animate"
           },
           {
            "args": [
             [
              25
             ],
             {
              "frame": {
               "duration": 300,
               "redraw": true
              },
              "mode": "immediate",
              "transition": {
               "duration": 300
              }
             }
            ],
            "label": "25",
            "method": "animate"
           },
           {
            "args": [
             [
              26
             ],
             {
              "frame": {
               "duration": 300,
               "redraw": true
              },
              "mode": "immediate",
              "transition": {
               "duration": 300
              }
             }
            ],
            "label": "26",
            "method": "animate"
           },
           {
            "args": [
             [
              27
             ],
             {
              "frame": {
               "duration": 300,
               "redraw": true
              },
              "mode": "immediate",
              "transition": {
               "duration": 300
              }
             }
            ],
            "label": "27",
            "method": "animate"
           },
           {
            "args": [
             [
              28
             ],
             {
              "frame": {
               "duration": 300,
               "redraw": true
              },
              "mode": "immediate",
              "transition": {
               "duration": 300
              }
             }
            ],
            "label": "28",
            "method": "animate"
           },
           {
            "args": [
             [
              29
             ],
             {
              "frame": {
               "duration": 300,
               "redraw": true
              },
              "mode": "immediate",
              "transition": {
               "duration": 300
              }
             }
            ],
            "label": "29",
            "method": "animate"
           },
           {
            "args": [
             [
              30
             ],
             {
              "frame": {
               "duration": 300,
               "redraw": true
              },
              "mode": "immediate",
              "transition": {
               "duration": 300
              }
             }
            ],
            "label": "30",
            "method": "animate"
           },
           {
            "args": [
             [
              31
             ],
             {
              "frame": {
               "duration": 300,
               "redraw": true
              },
              "mode": "immediate",
              "transition": {
               "duration": 300
              }
             }
            ],
            "label": "31",
            "method": "animate"
           },
           {
            "args": [
             [
              32
             ],
             {
              "frame": {
               "duration": 300,
               "redraw": true
              },
              "mode": "immediate",
              "transition": {
               "duration": 300
              }
             }
            ],
            "label": "32",
            "method": "animate"
           },
           {
            "args": [
             [
              33
             ],
             {
              "frame": {
               "duration": 300,
               "redraw": true
              },
              "mode": "immediate",
              "transition": {
               "duration": 300
              }
             }
            ],
            "label": "33",
            "method": "animate"
           },
           {
            "args": [
             [
              34
             ],
             {
              "frame": {
               "duration": 300,
               "redraw": true
              },
              "mode": "immediate",
              "transition": {
               "duration": 300
              }
             }
            ],
            "label": "34",
            "method": "animate"
           },
           {
            "args": [
             [
              35
             ],
             {
              "frame": {
               "duration": 300,
               "redraw": true
              },
              "mode": "immediate",
              "transition": {
               "duration": 300
              }
             }
            ],
            "label": "35",
            "method": "animate"
           },
           {
            "args": [
             [
              36
             ],
             {
              "frame": {
               "duration": 300,
               "redraw": true
              },
              "mode": "immediate",
              "transition": {
               "duration": 300
              }
             }
            ],
            "label": "36",
            "method": "animate"
           },
           {
            "args": [
             [
              37
             ],
             {
              "frame": {
               "duration": 300,
               "redraw": true
              },
              "mode": "immediate",
              "transition": {
               "duration": 300
              }
             }
            ],
            "label": "37",
            "method": "animate"
           },
           {
            "args": [
             [
              38
             ],
             {
              "frame": {
               "duration": 300,
               "redraw": true
              },
              "mode": "immediate",
              "transition": {
               "duration": 300
              }
             }
            ],
            "label": "38",
            "method": "animate"
           },
           {
            "args": [
             [
              39
             ],
             {
              "frame": {
               "duration": 300,
               "redraw": true
              },
              "mode": "immediate",
              "transition": {
               "duration": 300
              }
             }
            ],
            "label": "39",
            "method": "animate"
           },
           {
            "args": [
             [
              40
             ],
             {
              "frame": {
               "duration": 300,
               "redraw": true
              },
              "mode": "immediate",
              "transition": {
               "duration": 300
              }
             }
            ],
            "label": "40",
            "method": "animate"
           },
           {
            "args": [
             [
              41
             ],
             {
              "frame": {
               "duration": 300,
               "redraw": true
              },
              "mode": "immediate",
              "transition": {
               "duration": 300
              }
             }
            ],
            "label": "41",
            "method": "animate"
           },
           {
            "args": [
             [
              42
             ],
             {
              "frame": {
               "duration": 300,
               "redraw": true
              },
              "mode": "immediate",
              "transition": {
               "duration": 300
              }
             }
            ],
            "label": "42",
            "method": "animate"
           },
           {
            "args": [
             [
              43
             ],
             {
              "frame": {
               "duration": 300,
               "redraw": true
              },
              "mode": "immediate",
              "transition": {
               "duration": 300
              }
             }
            ],
            "label": "43",
            "method": "animate"
           },
           {
            "args": [
             [
              44
             ],
             {
              "frame": {
               "duration": 300,
               "redraw": true
              },
              "mode": "immediate",
              "transition": {
               "duration": 300
              }
             }
            ],
            "label": "44",
            "method": "animate"
           },
           {
            "args": [
             [
              45
             ],
             {
              "frame": {
               "duration": 300,
               "redraw": true
              },
              "mode": "immediate",
              "transition": {
               "duration": 300
              }
             }
            ],
            "label": "45",
            "method": "animate"
           },
           {
            "args": [
             [
              46
             ],
             {
              "frame": {
               "duration": 300,
               "redraw": true
              },
              "mode": "immediate",
              "transition": {
               "duration": 300
              }
             }
            ],
            "label": "46",
            "method": "animate"
           },
           {
            "args": [
             [
              47
             ],
             {
              "frame": {
               "duration": 300,
               "redraw": true
              },
              "mode": "immediate",
              "transition": {
               "duration": 300
              }
             }
            ],
            "label": "47",
            "method": "animate"
           },
           {
            "args": [
             [
              48
             ],
             {
              "frame": {
               "duration": 300,
               "redraw": true
              },
              "mode": "immediate",
              "transition": {
               "duration": 300
              }
             }
            ],
            "label": "48",
            "method": "animate"
           },
           {
            "args": [
             [
              49
             ],
             {
              "frame": {
               "duration": 300,
               "redraw": true
              },
              "mode": "immediate",
              "transition": {
               "duration": 300
              }
             }
            ],
            "label": "49",
            "method": "animate"
           },
           {
            "args": [
             [
              50
             ],
             {
              "frame": {
               "duration": 300,
               "redraw": true
              },
              "mode": "immediate",
              "transition": {
               "duration": 300
              }
             }
            ],
            "label": "50",
            "method": "animate"
           },
           {
            "args": [
             [
              51
             ],
             {
              "frame": {
               "duration": 300,
               "redraw": true
              },
              "mode": "immediate",
              "transition": {
               "duration": 300
              }
             }
            ],
            "label": "51",
            "method": "animate"
           },
           {
            "args": [
             [
              52
             ],
             {
              "frame": {
               "duration": 300,
               "redraw": true
              },
              "mode": "immediate",
              "transition": {
               "duration": 300
              }
             }
            ],
            "label": "52",
            "method": "animate"
           },
           {
            "args": [
             [
              53
             ],
             {
              "frame": {
               "duration": 300,
               "redraw": true
              },
              "mode": "immediate",
              "transition": {
               "duration": 300
              }
             }
            ],
            "label": "53",
            "method": "animate"
           },
           {
            "args": [
             [
              54
             ],
             {
              "frame": {
               "duration": 300,
               "redraw": true
              },
              "mode": "immediate",
              "transition": {
               "duration": 300
              }
             }
            ],
            "label": "54",
            "method": "animate"
           },
           {
            "args": [
             [
              55
             ],
             {
              "frame": {
               "duration": 300,
               "redraw": true
              },
              "mode": "immediate",
              "transition": {
               "duration": 300
              }
             }
            ],
            "label": "55",
            "method": "animate"
           },
           {
            "args": [
             [
              56
             ],
             {
              "frame": {
               "duration": 300,
               "redraw": true
              },
              "mode": "immediate",
              "transition": {
               "duration": 300
              }
             }
            ],
            "label": "56",
            "method": "animate"
           },
           {
            "args": [
             [
              57
             ],
             {
              "frame": {
               "duration": 300,
               "redraw": true
              },
              "mode": "immediate",
              "transition": {
               "duration": 300
              }
             }
            ],
            "label": "57",
            "method": "animate"
           },
           {
            "args": [
             [
              58
             ],
             {
              "frame": {
               "duration": 300,
               "redraw": true
              },
              "mode": "immediate",
              "transition": {
               "duration": 300
              }
             }
            ],
            "label": "58",
            "method": "animate"
           },
           {
            "args": [
             [
              59
             ],
             {
              "frame": {
               "duration": 300,
               "redraw": true
              },
              "mode": "immediate",
              "transition": {
               "duration": 300
              }
             }
            ],
            "label": "59",
            "method": "animate"
           },
           {
            "args": [
             [
              60
             ],
             {
              "frame": {
               "duration": 300,
               "redraw": true
              },
              "mode": "immediate",
              "transition": {
               "duration": 300
              }
             }
            ],
            "label": "60",
            "method": "animate"
           },
           {
            "args": [
             [
              61
             ],
             {
              "frame": {
               "duration": 300,
               "redraw": true
              },
              "mode": "immediate",
              "transition": {
               "duration": 300
              }
             }
            ],
            "label": "61",
            "method": "animate"
           },
           {
            "args": [
             [
              62
             ],
             {
              "frame": {
               "duration": 300,
               "redraw": true
              },
              "mode": "immediate",
              "transition": {
               "duration": 300
              }
             }
            ],
            "label": "62",
            "method": "animate"
           },
           {
            "args": [
             [
              63
             ],
             {
              "frame": {
               "duration": 300,
               "redraw": true
              },
              "mode": "immediate",
              "transition": {
               "duration": 300
              }
             }
            ],
            "label": "63",
            "method": "animate"
           },
           {
            "args": [
             [
              64
             ],
             {
              "frame": {
               "duration": 300,
               "redraw": true
              },
              "mode": "immediate",
              "transition": {
               "duration": 300
              }
             }
            ],
            "label": "64",
            "method": "animate"
           },
           {
            "args": [
             [
              65
             ],
             {
              "frame": {
               "duration": 300,
               "redraw": true
              },
              "mode": "immediate",
              "transition": {
               "duration": 300
              }
             }
            ],
            "label": "65",
            "method": "animate"
           },
           {
            "args": [
             [
              66
             ],
             {
              "frame": {
               "duration": 300,
               "redraw": true
              },
              "mode": "immediate",
              "transition": {
               "duration": 300
              }
             }
            ],
            "label": "66",
            "method": "animate"
           },
           {
            "args": [
             [
              67
             ],
             {
              "frame": {
               "duration": 300,
               "redraw": true
              },
              "mode": "immediate",
              "transition": {
               "duration": 300
              }
             }
            ],
            "label": "67",
            "method": "animate"
           },
           {
            "args": [
             [
              68
             ],
             {
              "frame": {
               "duration": 300,
               "redraw": true
              },
              "mode": "immediate",
              "transition": {
               "duration": 300
              }
             }
            ],
            "label": "68",
            "method": "animate"
           },
           {
            "args": [
             [
              69
             ],
             {
              "frame": {
               "duration": 300,
               "redraw": true
              },
              "mode": "immediate",
              "transition": {
               "duration": 300
              }
             }
            ],
            "label": "69",
            "method": "animate"
           },
           {
            "args": [
             [
              70
             ],
             {
              "frame": {
               "duration": 300,
               "redraw": true
              },
              "mode": "immediate",
              "transition": {
               "duration": 300
              }
             }
            ],
            "label": "70",
            "method": "animate"
           },
           {
            "args": [
             [
              71
             ],
             {
              "frame": {
               "duration": 300,
               "redraw": true
              },
              "mode": "immediate",
              "transition": {
               "duration": 300
              }
             }
            ],
            "label": "71",
            "method": "animate"
           },
           {
            "args": [
             [
              72
             ],
             {
              "frame": {
               "duration": 300,
               "redraw": true
              },
              "mode": "immediate",
              "transition": {
               "duration": 300
              }
             }
            ],
            "label": "72",
            "method": "animate"
           },
           {
            "args": [
             [
              73
             ],
             {
              "frame": {
               "duration": 300,
               "redraw": true
              },
              "mode": "immediate",
              "transition": {
               "duration": 300
              }
             }
            ],
            "label": "73",
            "method": "animate"
           },
           {
            "args": [
             [
              74
             ],
             {
              "frame": {
               "duration": 300,
               "redraw": true
              },
              "mode": "immediate",
              "transition": {
               "duration": 300
              }
             }
            ],
            "label": "74",
            "method": "animate"
           },
           {
            "args": [
             [
              75
             ],
             {
              "frame": {
               "duration": 300,
               "redraw": true
              },
              "mode": "immediate",
              "transition": {
               "duration": 300
              }
             }
            ],
            "label": "75",
            "method": "animate"
           },
           {
            "args": [
             [
              76
             ],
             {
              "frame": {
               "duration": 300,
               "redraw": true
              },
              "mode": "immediate",
              "transition": {
               "duration": 300
              }
             }
            ],
            "label": "76",
            "method": "animate"
           },
           {
            "args": [
             [
              77
             ],
             {
              "frame": {
               "duration": 300,
               "redraw": true
              },
              "mode": "immediate",
              "transition": {
               "duration": 300
              }
             }
            ],
            "label": "77",
            "method": "animate"
           },
           {
            "args": [
             [
              78
             ],
             {
              "frame": {
               "duration": 300,
               "redraw": true
              },
              "mode": "immediate",
              "transition": {
               "duration": 300
              }
             }
            ],
            "label": "78",
            "method": "animate"
           },
           {
            "args": [
             [
              79
             ],
             {
              "frame": {
               "duration": 300,
               "redraw": true
              },
              "mode": "immediate",
              "transition": {
               "duration": 300
              }
             }
            ],
            "label": "79",
            "method": "animate"
           },
           {
            "args": [
             [
              80
             ],
             {
              "frame": {
               "duration": 300,
               "redraw": true
              },
              "mode": "immediate",
              "transition": {
               "duration": 300
              }
             }
            ],
            "label": "80",
            "method": "animate"
           },
           {
            "args": [
             [
              81
             ],
             {
              "frame": {
               "duration": 300,
               "redraw": true
              },
              "mode": "immediate",
              "transition": {
               "duration": 300
              }
             }
            ],
            "label": "81",
            "method": "animate"
           },
           {
            "args": [
             [
              82
             ],
             {
              "frame": {
               "duration": 300,
               "redraw": true
              },
              "mode": "immediate",
              "transition": {
               "duration": 300
              }
             }
            ],
            "label": "82",
            "method": "animate"
           }
          ],
          "transition": {
           "duration": 300,
           "easing": "cubic-in-out"
          },
          "x": 0.1,
          "xanchor": "left",
          "y": 0,
          "yanchor": "top"
         }
        ],
        "template": {
         "data": {
          "bar": [
           {
            "error_x": {
             "color": "#2a3f5f"
            },
            "error_y": {
             "color": "#2a3f5f"
            },
            "marker": {
             "line": {
              "color": "#E5ECF6",
              "width": 0.5
             },
             "pattern": {
              "fillmode": "overlay",
              "size": 10,
              "solidity": 0.2
             }
            },
            "type": "bar"
           }
          ],
          "barpolar": [
           {
            "marker": {
             "line": {
              "color": "#E5ECF6",
              "width": 0.5
             },
             "pattern": {
              "fillmode": "overlay",
              "size": 10,
              "solidity": 0.2
             }
            },
            "type": "barpolar"
           }
          ],
          "carpet": [
           {
            "aaxis": {
             "endlinecolor": "#2a3f5f",
             "gridcolor": "white",
             "linecolor": "white",
             "minorgridcolor": "white",
             "startlinecolor": "#2a3f5f"
            },
            "baxis": {
             "endlinecolor": "#2a3f5f",
             "gridcolor": "white",
             "linecolor": "white",
             "minorgridcolor": "white",
             "startlinecolor": "#2a3f5f"
            },
            "type": "carpet"
           }
          ],
          "choropleth": [
           {
            "colorbar": {
             "outlinewidth": 0,
             "ticks": ""
            },
            "type": "choropleth"
           }
          ],
          "contour": [
           {
            "colorbar": {
             "outlinewidth": 0,
             "ticks": ""
            },
            "colorscale": [
             [
              0,
              "#0d0887"
             ],
             [
              0.1111111111111111,
              "#46039f"
             ],
             [
              0.2222222222222222,
              "#7201a8"
             ],
             [
              0.3333333333333333,
              "#9c179e"
             ],
             [
              0.4444444444444444,
              "#bd3786"
             ],
             [
              0.5555555555555556,
              "#d8576b"
             ],
             [
              0.6666666666666666,
              "#ed7953"
             ],
             [
              0.7777777777777778,
              "#fb9f3a"
             ],
             [
              0.8888888888888888,
              "#fdca26"
             ],
             [
              1,
              "#f0f921"
             ]
            ],
            "type": "contour"
           }
          ],
          "contourcarpet": [
           {
            "colorbar": {
             "outlinewidth": 0,
             "ticks": ""
            },
            "type": "contourcarpet"
           }
          ],
          "heatmap": [
           {
            "colorbar": {
             "outlinewidth": 0,
             "ticks": ""
            },
            "colorscale": [
             [
              0,
              "#0d0887"
             ],
             [
              0.1111111111111111,
              "#46039f"
             ],
             [
              0.2222222222222222,
              "#7201a8"
             ],
             [
              0.3333333333333333,
              "#9c179e"
             ],
             [
              0.4444444444444444,
              "#bd3786"
             ],
             [
              0.5555555555555556,
              "#d8576b"
             ],
             [
              0.6666666666666666,
              "#ed7953"
             ],
             [
              0.7777777777777778,
              "#fb9f3a"
             ],
             [
              0.8888888888888888,
              "#fdca26"
             ],
             [
              1,
              "#f0f921"
             ]
            ],
            "type": "heatmap"
           }
          ],
          "heatmapgl": [
           {
            "colorbar": {
             "outlinewidth": 0,
             "ticks": ""
            },
            "colorscale": [
             [
              0,
              "#0d0887"
             ],
             [
              0.1111111111111111,
              "#46039f"
             ],
             [
              0.2222222222222222,
              "#7201a8"
             ],
             [
              0.3333333333333333,
              "#9c179e"
             ],
             [
              0.4444444444444444,
              "#bd3786"
             ],
             [
              0.5555555555555556,
              "#d8576b"
             ],
             [
              0.6666666666666666,
              "#ed7953"
             ],
             [
              0.7777777777777778,
              "#fb9f3a"
             ],
             [
              0.8888888888888888,
              "#fdca26"
             ],
             [
              1,
              "#f0f921"
             ]
            ],
            "type": "heatmapgl"
           }
          ],
          "histogram": [
           {
            "marker": {
             "pattern": {
              "fillmode": "overlay",
              "size": 10,
              "solidity": 0.2
             }
            },
            "type": "histogram"
           }
          ],
          "histogram2d": [
           {
            "colorbar": {
             "outlinewidth": 0,
             "ticks": ""
            },
            "colorscale": [
             [
              0,
              "#0d0887"
             ],
             [
              0.1111111111111111,
              "#46039f"
             ],
             [
              0.2222222222222222,
              "#7201a8"
             ],
             [
              0.3333333333333333,
              "#9c179e"
             ],
             [
              0.4444444444444444,
              "#bd3786"
             ],
             [
              0.5555555555555556,
              "#d8576b"
             ],
             [
              0.6666666666666666,
              "#ed7953"
             ],
             [
              0.7777777777777778,
              "#fb9f3a"
             ],
             [
              0.8888888888888888,
              "#fdca26"
             ],
             [
              1,
              "#f0f921"
             ]
            ],
            "type": "histogram2d"
           }
          ],
          "histogram2dcontour": [
           {
            "colorbar": {
             "outlinewidth": 0,
             "ticks": ""
            },
            "colorscale": [
             [
              0,
              "#0d0887"
             ],
             [
              0.1111111111111111,
              "#46039f"
             ],
             [
              0.2222222222222222,
              "#7201a8"
             ],
             [
              0.3333333333333333,
              "#9c179e"
             ],
             [
              0.4444444444444444,
              "#bd3786"
             ],
             [
              0.5555555555555556,
              "#d8576b"
             ],
             [
              0.6666666666666666,
              "#ed7953"
             ],
             [
              0.7777777777777778,
              "#fb9f3a"
             ],
             [
              0.8888888888888888,
              "#fdca26"
             ],
             [
              1,
              "#f0f921"
             ]
            ],
            "type": "histogram2dcontour"
           }
          ],
          "mesh3d": [
           {
            "colorbar": {
             "outlinewidth": 0,
             "ticks": ""
            },
            "type": "mesh3d"
           }
          ],
          "parcoords": [
           {
            "line": {
             "colorbar": {
              "outlinewidth": 0,
              "ticks": ""
             }
            },
            "type": "parcoords"
           }
          ],
          "pie": [
           {
            "automargin": true,
            "type": "pie"
           }
          ],
          "scatter": [
           {
            "fillpattern": {
             "fillmode": "overlay",
             "size": 10,
             "solidity": 0.2
            },
            "type": "scatter"
           }
          ],
          "scatter3d": [
           {
            "line": {
             "colorbar": {
              "outlinewidth": 0,
              "ticks": ""
             }
            },
            "marker": {
             "colorbar": {
              "outlinewidth": 0,
              "ticks": ""
             }
            },
            "type": "scatter3d"
           }
          ],
          "scattercarpet": [
           {
            "marker": {
             "colorbar": {
              "outlinewidth": 0,
              "ticks": ""
             }
            },
            "type": "scattercarpet"
           }
          ],
          "scattergeo": [
           {
            "marker": {
             "colorbar": {
              "outlinewidth": 0,
              "ticks": ""
             }
            },
            "type": "scattergeo"
           }
          ],
          "scattergl": [
           {
            "marker": {
             "colorbar": {
              "outlinewidth": 0,
              "ticks": ""
             }
            },
            "type": "scattergl"
           }
          ],
          "scattermapbox": [
           {
            "marker": {
             "colorbar": {
              "outlinewidth": 0,
              "ticks": ""
             }
            },
            "type": "scattermapbox"
           }
          ],
          "scatterpolar": [
           {
            "marker": {
             "colorbar": {
              "outlinewidth": 0,
              "ticks": ""
             }
            },
            "type": "scatterpolar"
           }
          ],
          "scatterpolargl": [
           {
            "marker": {
             "colorbar": {
              "outlinewidth": 0,
              "ticks": ""
             }
            },
            "type": "scatterpolargl"
           }
          ],
          "scatterternary": [
           {
            "marker": {
             "colorbar": {
              "outlinewidth": 0,
              "ticks": ""
             }
            },
            "type": "scatterternary"
           }
          ],
          "surface": [
           {
            "colorbar": {
             "outlinewidth": 0,
             "ticks": ""
            },
            "colorscale": [
             [
              0,
              "#0d0887"
             ],
             [
              0.1111111111111111,
              "#46039f"
             ],
             [
              0.2222222222222222,
              "#7201a8"
             ],
             [
              0.3333333333333333,
              "#9c179e"
             ],
             [
              0.4444444444444444,
              "#bd3786"
             ],
             [
              0.5555555555555556,
              "#d8576b"
             ],
             [
              0.6666666666666666,
              "#ed7953"
             ],
             [
              0.7777777777777778,
              "#fb9f3a"
             ],
             [
              0.8888888888888888,
              "#fdca26"
             ],
             [
              1,
              "#f0f921"
             ]
            ],
            "type": "surface"
           }
          ],
          "table": [
           {
            "cells": {
             "fill": {
              "color": "#EBF0F8"
             },
             "line": {
              "color": "white"
             }
            },
            "header": {
             "fill": {
              "color": "#C8D4E3"
             },
             "line": {
              "color": "white"
             }
            },
            "type": "table"
           }
          ]
         },
         "layout": {
          "annotationdefaults": {
           "arrowcolor": "#2a3f5f",
           "arrowhead": 0,
           "arrowwidth": 1
          },
          "autotypenumbers": "strict",
          "coloraxis": {
           "colorbar": {
            "outlinewidth": 0,
            "ticks": ""
           }
          },
          "colorscale": {
           "diverging": [
            [
             0,
             "#8e0152"
            ],
            [
             0.1,
             "#c51b7d"
            ],
            [
             0.2,
             "#de77ae"
            ],
            [
             0.3,
             "#f1b6da"
            ],
            [
             0.4,
             "#fde0ef"
            ],
            [
             0.5,
             "#f7f7f7"
            ],
            [
             0.6,
             "#e6f5d0"
            ],
            [
             0.7,
             "#b8e186"
            ],
            [
             0.8,
             "#7fbc41"
            ],
            [
             0.9,
             "#4d9221"
            ],
            [
             1,
             "#276419"
            ]
           ],
           "sequential": [
            [
             0,
             "#0d0887"
            ],
            [
             0.1111111111111111,
             "#46039f"
            ],
            [
             0.2222222222222222,
             "#7201a8"
            ],
            [
             0.3333333333333333,
             "#9c179e"
            ],
            [
             0.4444444444444444,
             "#bd3786"
            ],
            [
             0.5555555555555556,
             "#d8576b"
            ],
            [
             0.6666666666666666,
             "#ed7953"
            ],
            [
             0.7777777777777778,
             "#fb9f3a"
            ],
            [
             0.8888888888888888,
             "#fdca26"
            ],
            [
             1,
             "#f0f921"
            ]
           ],
           "sequentialminus": [
            [
             0,
             "#0d0887"
            ],
            [
             0.1111111111111111,
             "#46039f"
            ],
            [
             0.2222222222222222,
             "#7201a8"
            ],
            [
             0.3333333333333333,
             "#9c179e"
            ],
            [
             0.4444444444444444,
             "#bd3786"
            ],
            [
             0.5555555555555556,
             "#d8576b"
            ],
            [
             0.6666666666666666,
             "#ed7953"
            ],
            [
             0.7777777777777778,
             "#fb9f3a"
            ],
            [
             0.8888888888888888,
             "#fdca26"
            ],
            [
             1,
             "#f0f921"
            ]
           ]
          },
          "colorway": [
           "#636efa",
           "#EF553B",
           "#00cc96",
           "#ab63fa",
           "#FFA15A",
           "#19d3f3",
           "#FF6692",
           "#B6E880",
           "#FF97FF",
           "#FECB52"
          ],
          "font": {
           "color": "#2a3f5f"
          },
          "geo": {
           "bgcolor": "white",
           "lakecolor": "white",
           "landcolor": "#E5ECF6",
           "showlakes": true,
           "showland": true,
           "subunitcolor": "white"
          },
          "hoverlabel": {
           "align": "left"
          },
          "hovermode": "closest",
          "mapbox": {
           "style": "light"
          },
          "paper_bgcolor": "white",
          "plot_bgcolor": "#E5ECF6",
          "polar": {
           "angularaxis": {
            "gridcolor": "white",
            "linecolor": "white",
            "ticks": ""
           },
           "bgcolor": "#E5ECF6",
           "radialaxis": {
            "gridcolor": "white",
            "linecolor": "white",
            "ticks": ""
           }
          },
          "scene": {
           "xaxis": {
            "backgroundcolor": "#E5ECF6",
            "gridcolor": "white",
            "gridwidth": 2,
            "linecolor": "white",
            "showbackground": true,
            "ticks": "",
            "zerolinecolor": "white"
           },
           "yaxis": {
            "backgroundcolor": "#E5ECF6",
            "gridcolor": "white",
            "gridwidth": 2,
            "linecolor": "white",
            "showbackground": true,
            "ticks": "",
            "zerolinecolor": "white"
           },
           "zaxis": {
            "backgroundcolor": "#E5ECF6",
            "gridcolor": "white",
            "gridwidth": 2,
            "linecolor": "white",
            "showbackground": true,
            "ticks": "",
            "zerolinecolor": "white"
           }
          },
          "shapedefaults": {
           "line": {
            "color": "#2a3f5f"
           }
          },
          "ternary": {
           "aaxis": {
            "gridcolor": "white",
            "linecolor": "white",
            "ticks": ""
           },
           "baxis": {
            "gridcolor": "white",
            "linecolor": "white",
            "ticks": ""
           },
           "bgcolor": "#E5ECF6",
           "caxis": {
            "gridcolor": "white",
            "linecolor": "white",
            "ticks": ""
           }
          },
          "title": {
           "x": 0.05
          },
          "xaxis": {
           "automargin": true,
           "gridcolor": "white",
           "linecolor": "white",
           "ticks": "",
           "title": {
            "standoff": 15
           },
           "zerolinecolor": "white",
           "zerolinewidth": 2
          },
          "yaxis": {
           "automargin": true,
           "gridcolor": "white",
           "linecolor": "white",
           "ticks": "",
           "title": {
            "standoff": 15
           },
           "zerolinecolor": "white",
           "zerolinewidth": 2
          }
         }
        },
        "updatemenus": [
         {
          "buttons": [
           {
            "args": [
             null,
             {
              "frame": {
               "duration": 800,
               "redraw": true
              },
              "fromcurrent": true
             }
            ],
            "label": "Play",
            "method": "animate"
           },
           {
            "args": [
             [
              null
             ],
             {
              "frame": {
               "duration": 0,
               "redraw": true
              },
              "mode": "immediate",
              "transition": {
               "duration": 0
              }
             }
            ],
            "label": "Pause",
            "method": "animate"
           }
          ],
          "direction": "left",
          "pad": {
           "r": 10,
           "t": 87
          },
          "showactive": false,
          "type": "buttons",
          "x": 0.1,
          "xanchor": "right",
          "y": 0,
          "yanchor": "top"
         }
        ],
        "width": 500,
        "xaxis": {
         "anchor": "y",
         "constrain": "domain",
         "domain": [
          0,
          1
         ],
         "range": [
          -1.180661801194878,
          1
         ]
        },
        "yaxis": {
         "anchor": "x",
         "constrain": "domain",
         "domain": [
          0,
          1
         ],
         "range": [
          -1.2065493872921766,
          1
         ],
         "scaleanchor": "x",
         "scaleratio": 1
        }
       }
      },
      "text/html": [
       "<div>                            <div id=\"ed3efe6d-0a8b-44b1-b0b2-a8c676eec08c\" class=\"plotly-graph-div\" style=\"height:500px; width:500px;\"></div>            <script type=\"text/javascript\">                require([\"plotly\"], function(Plotly) {                    window.PLOTLYENV=window.PLOTLYENV || {};                                    if (document.getElementById(\"ed3efe6d-0a8b-44b1-b0b2-a8c676eec08c\")) {                    Plotly.newPlot(                        \"ed3efe6d-0a8b-44b1-b0b2-a8c676eec08c\",                        [{\"marker\":{\"color\":[\"red\",\"red\",\"red\",\"blue\",\"blue\",\"green\",\"green\",\"green\"]},\"mode\":\"markers\",\"x\":[0.38563724885599343,0.7548420302231041,0.16054218591914082,0.060264632107766995,0.6198144893608378,0.020958230831250046,0.8583410532414557,0.18714238397926117],\"y\":[0.9797873627025744,0.6171885926892745,0.16046649979474087,0.8928673532847469,0.7301326966697878,1.0,0.2186367148239328,0.18871624261965037],\"type\":\"scatter\"}],                        {\"template\":{\"data\":{\"histogram2dcontour\":[{\"type\":\"histogram2dcontour\",\"colorbar\":{\"outlinewidth\":0,\"ticks\":\"\"},\"colorscale\":[[0.0,\"#0d0887\"],[0.1111111111111111,\"#46039f\"],[0.2222222222222222,\"#7201a8\"],[0.3333333333333333,\"#9c179e\"],[0.4444444444444444,\"#bd3786\"],[0.5555555555555556,\"#d8576b\"],[0.6666666666666666,\"#ed7953\"],[0.7777777777777778,\"#fb9f3a\"],[0.8888888888888888,\"#fdca26\"],[1.0,\"#f0f921\"]]}],\"choropleth\":[{\"type\":\"choropleth\",\"colorbar\":{\"outlinewidth\":0,\"ticks\":\"\"}}],\"histogram2d\":[{\"type\":\"histogram2d\",\"colorbar\":{\"outlinewidth\":0,\"ticks\":\"\"},\"colorscale\":[[0.0,\"#0d0887\"],[0.1111111111111111,\"#46039f\"],[0.2222222222222222,\"#7201a8\"],[0.3333333333333333,\"#9c179e\"],[0.4444444444444444,\"#bd3786\"],[0.5555555555555556,\"#d8576b\"],[0.6666666666666666,\"#ed7953\"],[0.7777777777777778,\"#fb9f3a\"],[0.8888888888888888,\"#fdca26\"],[1.0,\"#f0f921\"]]}],\"heatmap\":[{\"type\":\"heatmap\",\"colorbar\":{\"outlinewidth\":0,\"ticks\":\"\"},\"colorscale\":[[0.0,\"#0d0887\"],[0.1111111111111111,\"#46039f\"],[0.2222222222222222,\"#7201a8\"],[0.3333333333333333,\"#9c179e\"],[0.4444444444444444,\"#bd3786\"],[0.5555555555555556,\"#d8576b\"],[0.6666666666666666,\"#ed7953\"],[0.7777777777777778,\"#fb9f3a\"],[0.8888888888888888,\"#fdca26\"],[1.0,\"#f0f921\"]]}],\"heatmapgl\":[{\"type\":\"heatmapgl\",\"colorbar\":{\"outlinewidth\":0,\"ticks\":\"\"},\"colorscale\":[[0.0,\"#0d0887\"],[0.1111111111111111,\"#46039f\"],[0.2222222222222222,\"#7201a8\"],[0.3333333333333333,\"#9c179e\"],[0.4444444444444444,\"#bd3786\"],[0.5555555555555556,\"#d8576b\"],[0.6666666666666666,\"#ed7953\"],[0.7777777777777778,\"#fb9f3a\"],[0.8888888888888888,\"#fdca26\"],[1.0,\"#f0f921\"]]}],\"contourcarpet\":[{\"type\":\"contourcarpet\",\"colorbar\":{\"outlinewidth\":0,\"ticks\":\"\"}}],\"contour\":[{\"type\":\"contour\",\"colorbar\":{\"outlinewidth\":0,\"ticks\":\"\"},\"colorscale\":[[0.0,\"#0d0887\"],[0.1111111111111111,\"#46039f\"],[0.2222222222222222,\"#7201a8\"],[0.3333333333333333,\"#9c179e\"],[0.4444444444444444,\"#bd3786\"],[0.5555555555555556,\"#d8576b\"],[0.6666666666666666,\"#ed7953\"],[0.7777777777777778,\"#fb9f3a\"],[0.8888888888888888,\"#fdca26\"],[1.0,\"#f0f921\"]]}],\"surface\":[{\"type\":\"surface\",\"colorbar\":{\"outlinewidth\":0,\"ticks\":\"\"},\"colorscale\":[[0.0,\"#0d0887\"],[0.1111111111111111,\"#46039f\"],[0.2222222222222222,\"#7201a8\"],[0.3333333333333333,\"#9c179e\"],[0.4444444444444444,\"#bd3786\"],[0.5555555555555556,\"#d8576b\"],[0.6666666666666666,\"#ed7953\"],[0.7777777777777778,\"#fb9f3a\"],[0.8888888888888888,\"#fdca26\"],[1.0,\"#f0f921\"]]}],\"mesh3d\":[{\"type\":\"mesh3d\",\"colorbar\":{\"outlinewidth\":0,\"ticks\":\"\"}}],\"scatter\":[{\"fillpattern\":{\"fillmode\":\"overlay\",\"size\":10,\"solidity\":0.2},\"type\":\"scatter\"}],\"parcoords\":[{\"type\":\"parcoords\",\"line\":{\"colorbar\":{\"outlinewidth\":0,\"ticks\":\"\"}}}],\"scatterpolargl\":[{\"type\":\"scatterpolargl\",\"marker\":{\"colorbar\":{\"outlinewidth\":0,\"ticks\":\"\"}}}],\"bar\":[{\"error_x\":{\"color\":\"#2a3f5f\"},\"error_y\":{\"color\":\"#2a3f5f\"},\"marker\":{\"line\":{\"color\":\"#E5ECF6\",\"width\":0.5},\"pattern\":{\"fillmode\":\"overlay\",\"size\":10,\"solidity\":0.2}},\"type\":\"bar\"}],\"scattergeo\":[{\"type\":\"scattergeo\",\"marker\":{\"colorbar\":{\"outlinewidth\":0,\"ticks\":\"\"}}}],\"scatterpolar\":[{\"type\":\"scatterpolar\",\"marker\":{\"colorbar\":{\"outlinewidth\":0,\"ticks\":\"\"}}}],\"histogram\":[{\"marker\":{\"pattern\":{\"fillmode\":\"overlay\",\"size\":10,\"solidity\":0.2}},\"type\":\"histogram\"}],\"scattergl\":[{\"type\":\"scattergl\",\"marker\":{\"colorbar\":{\"outlinewidth\":0,\"ticks\":\"\"}}}],\"scatter3d\":[{\"type\":\"scatter3d\",\"line\":{\"colorbar\":{\"outlinewidth\":0,\"ticks\":\"\"}},\"marker\":{\"colorbar\":{\"outlinewidth\":0,\"ticks\":\"\"}}}],\"scattermapbox\":[{\"type\":\"scattermapbox\",\"marker\":{\"colorbar\":{\"outlinewidth\":0,\"ticks\":\"\"}}}],\"scatterternary\":[{\"type\":\"scatterternary\",\"marker\":{\"colorbar\":{\"outlinewidth\":0,\"ticks\":\"\"}}}],\"scattercarpet\":[{\"type\":\"scattercarpet\",\"marker\":{\"colorbar\":{\"outlinewidth\":0,\"ticks\":\"\"}}}],\"carpet\":[{\"aaxis\":{\"endlinecolor\":\"#2a3f5f\",\"gridcolor\":\"white\",\"linecolor\":\"white\",\"minorgridcolor\":\"white\",\"startlinecolor\":\"#2a3f5f\"},\"baxis\":{\"endlinecolor\":\"#2a3f5f\",\"gridcolor\":\"white\",\"linecolor\":\"white\",\"minorgridcolor\":\"white\",\"startlinecolor\":\"#2a3f5f\"},\"type\":\"carpet\"}],\"table\":[{\"cells\":{\"fill\":{\"color\":\"#EBF0F8\"},\"line\":{\"color\":\"white\"}},\"header\":{\"fill\":{\"color\":\"#C8D4E3\"},\"line\":{\"color\":\"white\"}},\"type\":\"table\"}],\"barpolar\":[{\"marker\":{\"line\":{\"color\":\"#E5ECF6\",\"width\":0.5},\"pattern\":{\"fillmode\":\"overlay\",\"size\":10,\"solidity\":0.2}},\"type\":\"barpolar\"}],\"pie\":[{\"automargin\":true,\"type\":\"pie\"}]},\"layout\":{\"autotypenumbers\":\"strict\",\"colorway\":[\"#636efa\",\"#EF553B\",\"#00cc96\",\"#ab63fa\",\"#FFA15A\",\"#19d3f3\",\"#FF6692\",\"#B6E880\",\"#FF97FF\",\"#FECB52\"],\"font\":{\"color\":\"#2a3f5f\"},\"hovermode\":\"closest\",\"hoverlabel\":{\"align\":\"left\"},\"paper_bgcolor\":\"white\",\"plot_bgcolor\":\"#E5ECF6\",\"polar\":{\"bgcolor\":\"#E5ECF6\",\"angularaxis\":{\"gridcolor\":\"white\",\"linecolor\":\"white\",\"ticks\":\"\"},\"radialaxis\":{\"gridcolor\":\"white\",\"linecolor\":\"white\",\"ticks\":\"\"}},\"ternary\":{\"bgcolor\":\"#E5ECF6\",\"aaxis\":{\"gridcolor\":\"white\",\"linecolor\":\"white\",\"ticks\":\"\"},\"baxis\":{\"gridcolor\":\"white\",\"linecolor\":\"white\",\"ticks\":\"\"},\"caxis\":{\"gridcolor\":\"white\",\"linecolor\":\"white\",\"ticks\":\"\"}},\"coloraxis\":{\"colorbar\":{\"outlinewidth\":0,\"ticks\":\"\"}},\"colorscale\":{\"sequential\":[[0.0,\"#0d0887\"],[0.1111111111111111,\"#46039f\"],[0.2222222222222222,\"#7201a8\"],[0.3333333333333333,\"#9c179e\"],[0.4444444444444444,\"#bd3786\"],[0.5555555555555556,\"#d8576b\"],[0.6666666666666666,\"#ed7953\"],[0.7777777777777778,\"#fb9f3a\"],[0.8888888888888888,\"#fdca26\"],[1.0,\"#f0f921\"]],\"sequentialminus\":[[0.0,\"#0d0887\"],[0.1111111111111111,\"#46039f\"],[0.2222222222222222,\"#7201a8\"],[0.3333333333333333,\"#9c179e\"],[0.4444444444444444,\"#bd3786\"],[0.5555555555555556,\"#d8576b\"],[0.6666666666666666,\"#ed7953\"],[0.7777777777777778,\"#fb9f3a\"],[0.8888888888888888,\"#fdca26\"],[1.0,\"#f0f921\"]],\"diverging\":[[0,\"#8e0152\"],[0.1,\"#c51b7d\"],[0.2,\"#de77ae\"],[0.3,\"#f1b6da\"],[0.4,\"#fde0ef\"],[0.5,\"#f7f7f7\"],[0.6,\"#e6f5d0\"],[0.7,\"#b8e186\"],[0.8,\"#7fbc41\"],[0.9,\"#4d9221\"],[1,\"#276419\"]]},\"xaxis\":{\"gridcolor\":\"white\",\"linecolor\":\"white\",\"ticks\":\"\",\"title\":{\"standoff\":15},\"zerolinecolor\":\"white\",\"automargin\":true,\"zerolinewidth\":2},\"yaxis\":{\"gridcolor\":\"white\",\"linecolor\":\"white\",\"ticks\":\"\",\"title\":{\"standoff\":15},\"zerolinecolor\":\"white\",\"automargin\":true,\"zerolinewidth\":2},\"scene\":{\"xaxis\":{\"backgroundcolor\":\"#E5ECF6\",\"gridcolor\":\"white\",\"linecolor\":\"white\",\"showbackground\":true,\"ticks\":\"\",\"zerolinecolor\":\"white\",\"gridwidth\":2},\"yaxis\":{\"backgroundcolor\":\"#E5ECF6\",\"gridcolor\":\"white\",\"linecolor\":\"white\",\"showbackground\":true,\"ticks\":\"\",\"zerolinecolor\":\"white\",\"gridwidth\":2},\"zaxis\":{\"backgroundcolor\":\"#E5ECF6\",\"gridcolor\":\"white\",\"linecolor\":\"white\",\"showbackground\":true,\"ticks\":\"\",\"zerolinecolor\":\"white\",\"gridwidth\":2}},\"shapedefaults\":{\"line\":{\"color\":\"#2a3f5f\"}},\"annotationdefaults\":{\"arrowcolor\":\"#2a3f5f\",\"arrowhead\":0,\"arrowwidth\":1},\"geo\":{\"bgcolor\":\"white\",\"landcolor\":\"#E5ECF6\",\"subunitcolor\":\"white\",\"showland\":true,\"showlakes\":true,\"lakecolor\":\"white\"},\"title\":{\"x\":0.05},\"mapbox\":{\"style\":\"light\"}}},\"xaxis\":{\"anchor\":\"y\",\"domain\":[0.0,1.0],\"range\":[-1.180661801194878,1.0],\"constrain\":\"domain\"},\"yaxis\":{\"anchor\":\"x\",\"domain\":[0.0,1.0],\"range\":[-1.2065493872921766,1.0],\"scaleanchor\":\"x\",\"scaleratio\":1,\"constrain\":\"domain\"},\"margin\":{\"l\":20,\"r\":20,\"t\":20,\"b\":20},\"width\":500,\"height\":500,\"updatemenus\":[{\"buttons\":[{\"args\":[null,{\"frame\":{\"duration\":800,\"redraw\":true},\"fromcurrent\":true}],\"label\":\"Play\",\"method\":\"animate\"},{\"args\":[[null],{\"frame\":{\"duration\":0,\"redraw\":true},\"mode\":\"immediate\",\"transition\":{\"duration\":0}}],\"label\":\"Pause\",\"method\":\"animate\"}],\"direction\":\"left\",\"pad\":{\"r\":10,\"t\":87},\"showactive\":false,\"type\":\"buttons\",\"x\":0.1,\"xanchor\":\"right\",\"y\":0,\"yanchor\":\"top\"}],\"sliders\":[{\"currentvalue\":{\"font\":{\"size\":20},\"prefix\":\"Frame:\",\"visible\":true,\"xanchor\":\"right\"},\"len\":0.9,\"pad\":{\"b\":10,\"t\":50},\"steps\":[{\"args\":[[0],{\"frame\":{\"duration\":300,\"redraw\":true},\"mode\":\"immediate\",\"transition\":{\"duration\":300}}],\"label\":\"0\",\"method\":\"animate\"},{\"args\":[[1],{\"frame\":{\"duration\":300,\"redraw\":true},\"mode\":\"immediate\",\"transition\":{\"duration\":300}}],\"label\":\"1\",\"method\":\"animate\"},{\"args\":[[2],{\"frame\":{\"duration\":300,\"redraw\":true},\"mode\":\"immediate\",\"transition\":{\"duration\":300}}],\"label\":\"2\",\"method\":\"animate\"},{\"args\":[[3],{\"frame\":{\"duration\":300,\"redraw\":true},\"mode\":\"immediate\",\"transition\":{\"duration\":300}}],\"label\":\"3\",\"method\":\"animate\"},{\"args\":[[4],{\"frame\":{\"duration\":300,\"redraw\":true},\"mode\":\"immediate\",\"transition\":{\"duration\":300}}],\"label\":\"4\",\"method\":\"animate\"},{\"args\":[[5],{\"frame\":{\"duration\":300,\"redraw\":true},\"mode\":\"immediate\",\"transition\":{\"duration\":300}}],\"label\":\"5\",\"method\":\"animate\"},{\"args\":[[6],{\"frame\":{\"duration\":300,\"redraw\":true},\"mode\":\"immediate\",\"transition\":{\"duration\":300}}],\"label\":\"6\",\"method\":\"animate\"},{\"args\":[[7],{\"frame\":{\"duration\":300,\"redraw\":true},\"mode\":\"immediate\",\"transition\":{\"duration\":300}}],\"label\":\"7\",\"method\":\"animate\"},{\"args\":[[8],{\"frame\":{\"duration\":300,\"redraw\":true},\"mode\":\"immediate\",\"transition\":{\"duration\":300}}],\"label\":\"8\",\"method\":\"animate\"},{\"args\":[[9],{\"frame\":{\"duration\":300,\"redraw\":true},\"mode\":\"immediate\",\"transition\":{\"duration\":300}}],\"label\":\"9\",\"method\":\"animate\"},{\"args\":[[10],{\"frame\":{\"duration\":300,\"redraw\":true},\"mode\":\"immediate\",\"transition\":{\"duration\":300}}],\"label\":\"10\",\"method\":\"animate\"},{\"args\":[[11],{\"frame\":{\"duration\":300,\"redraw\":true},\"mode\":\"immediate\",\"transition\":{\"duration\":300}}],\"label\":\"11\",\"method\":\"animate\"},{\"args\":[[12],{\"frame\":{\"duration\":300,\"redraw\":true},\"mode\":\"immediate\",\"transition\":{\"duration\":300}}],\"label\":\"12\",\"method\":\"animate\"},{\"args\":[[13],{\"frame\":{\"duration\":300,\"redraw\":true},\"mode\":\"immediate\",\"transition\":{\"duration\":300}}],\"label\":\"13\",\"method\":\"animate\"},{\"args\":[[14],{\"frame\":{\"duration\":300,\"redraw\":true},\"mode\":\"immediate\",\"transition\":{\"duration\":300}}],\"label\":\"14\",\"method\":\"animate\"},{\"args\":[[15],{\"frame\":{\"duration\":300,\"redraw\":true},\"mode\":\"immediate\",\"transition\":{\"duration\":300}}],\"label\":\"15\",\"method\":\"animate\"},{\"args\":[[16],{\"frame\":{\"duration\":300,\"redraw\":true},\"mode\":\"immediate\",\"transition\":{\"duration\":300}}],\"label\":\"16\",\"method\":\"animate\"},{\"args\":[[17],{\"frame\":{\"duration\":300,\"redraw\":true},\"mode\":\"immediate\",\"transition\":{\"duration\":300}}],\"label\":\"17\",\"method\":\"animate\"},{\"args\":[[18],{\"frame\":{\"duration\":300,\"redraw\":true},\"mode\":\"immediate\",\"transition\":{\"duration\":300}}],\"label\":\"18\",\"method\":\"animate\"},{\"args\":[[19],{\"frame\":{\"duration\":300,\"redraw\":true},\"mode\":\"immediate\",\"transition\":{\"duration\":300}}],\"label\":\"19\",\"method\":\"animate\"},{\"args\":[[20],{\"frame\":{\"duration\":300,\"redraw\":true},\"mode\":\"immediate\",\"transition\":{\"duration\":300}}],\"label\":\"20\",\"method\":\"animate\"},{\"args\":[[21],{\"frame\":{\"duration\":300,\"redraw\":true},\"mode\":\"immediate\",\"transition\":{\"duration\":300}}],\"label\":\"21\",\"method\":\"animate\"},{\"args\":[[22],{\"frame\":{\"duration\":300,\"redraw\":true},\"mode\":\"immediate\",\"transition\":{\"duration\":300}}],\"label\":\"22\",\"method\":\"animate\"},{\"args\":[[23],{\"frame\":{\"duration\":300,\"redraw\":true},\"mode\":\"immediate\",\"transition\":{\"duration\":300}}],\"label\":\"23\",\"method\":\"animate\"},{\"args\":[[24],{\"frame\":{\"duration\":300,\"redraw\":true},\"mode\":\"immediate\",\"transition\":{\"duration\":300}}],\"label\":\"24\",\"method\":\"animate\"},{\"args\":[[25],{\"frame\":{\"duration\":300,\"redraw\":true},\"mode\":\"immediate\",\"transition\":{\"duration\":300}}],\"label\":\"25\",\"method\":\"animate\"},{\"args\":[[26],{\"frame\":{\"duration\":300,\"redraw\":true},\"mode\":\"immediate\",\"transition\":{\"duration\":300}}],\"label\":\"26\",\"method\":\"animate\"},{\"args\":[[27],{\"frame\":{\"duration\":300,\"redraw\":true},\"mode\":\"immediate\",\"transition\":{\"duration\":300}}],\"label\":\"27\",\"method\":\"animate\"},{\"args\":[[28],{\"frame\":{\"duration\":300,\"redraw\":true},\"mode\":\"immediate\",\"transition\":{\"duration\":300}}],\"label\":\"28\",\"method\":\"animate\"},{\"args\":[[29],{\"frame\":{\"duration\":300,\"redraw\":true},\"mode\":\"immediate\",\"transition\":{\"duration\":300}}],\"label\":\"29\",\"method\":\"animate\"},{\"args\":[[30],{\"frame\":{\"duration\":300,\"redraw\":true},\"mode\":\"immediate\",\"transition\":{\"duration\":300}}],\"label\":\"30\",\"method\":\"animate\"},{\"args\":[[31],{\"frame\":{\"duration\":300,\"redraw\":true},\"mode\":\"immediate\",\"transition\":{\"duration\":300}}],\"label\":\"31\",\"method\":\"animate\"},{\"args\":[[32],{\"frame\":{\"duration\":300,\"redraw\":true},\"mode\":\"immediate\",\"transition\":{\"duration\":300}}],\"label\":\"32\",\"method\":\"animate\"},{\"args\":[[33],{\"frame\":{\"duration\":300,\"redraw\":true},\"mode\":\"immediate\",\"transition\":{\"duration\":300}}],\"label\":\"33\",\"method\":\"animate\"},{\"args\":[[34],{\"frame\":{\"duration\":300,\"redraw\":true},\"mode\":\"immediate\",\"transition\":{\"duration\":300}}],\"label\":\"34\",\"method\":\"animate\"},{\"args\":[[35],{\"frame\":{\"duration\":300,\"redraw\":true},\"mode\":\"immediate\",\"transition\":{\"duration\":300}}],\"label\":\"35\",\"method\":\"animate\"},{\"args\":[[36],{\"frame\":{\"duration\":300,\"redraw\":true},\"mode\":\"immediate\",\"transition\":{\"duration\":300}}],\"label\":\"36\",\"method\":\"animate\"},{\"args\":[[37],{\"frame\":{\"duration\":300,\"redraw\":true},\"mode\":\"immediate\",\"transition\":{\"duration\":300}}],\"label\":\"37\",\"method\":\"animate\"},{\"args\":[[38],{\"frame\":{\"duration\":300,\"redraw\":true},\"mode\":\"immediate\",\"transition\":{\"duration\":300}}],\"label\":\"38\",\"method\":\"animate\"},{\"args\":[[39],{\"frame\":{\"duration\":300,\"redraw\":true},\"mode\":\"immediate\",\"transition\":{\"duration\":300}}],\"label\":\"39\",\"method\":\"animate\"},{\"args\":[[40],{\"frame\":{\"duration\":300,\"redraw\":true},\"mode\":\"immediate\",\"transition\":{\"duration\":300}}],\"label\":\"40\",\"method\":\"animate\"},{\"args\":[[41],{\"frame\":{\"duration\":300,\"redraw\":true},\"mode\":\"immediate\",\"transition\":{\"duration\":300}}],\"label\":\"41\",\"method\":\"animate\"},{\"args\":[[42],{\"frame\":{\"duration\":300,\"redraw\":true},\"mode\":\"immediate\",\"transition\":{\"duration\":300}}],\"label\":\"42\",\"method\":\"animate\"},{\"args\":[[43],{\"frame\":{\"duration\":300,\"redraw\":true},\"mode\":\"immediate\",\"transition\":{\"duration\":300}}],\"label\":\"43\",\"method\":\"animate\"},{\"args\":[[44],{\"frame\":{\"duration\":300,\"redraw\":true},\"mode\":\"immediate\",\"transition\":{\"duration\":300}}],\"label\":\"44\",\"method\":\"animate\"},{\"args\":[[45],{\"frame\":{\"duration\":300,\"redraw\":true},\"mode\":\"immediate\",\"transition\":{\"duration\":300}}],\"label\":\"45\",\"method\":\"animate\"},{\"args\":[[46],{\"frame\":{\"duration\":300,\"redraw\":true},\"mode\":\"immediate\",\"transition\":{\"duration\":300}}],\"label\":\"46\",\"method\":\"animate\"},{\"args\":[[47],{\"frame\":{\"duration\":300,\"redraw\":true},\"mode\":\"immediate\",\"transition\":{\"duration\":300}}],\"label\":\"47\",\"method\":\"animate\"},{\"args\":[[48],{\"frame\":{\"duration\":300,\"redraw\":true},\"mode\":\"immediate\",\"transition\":{\"duration\":300}}],\"label\":\"48\",\"method\":\"animate\"},{\"args\":[[49],{\"frame\":{\"duration\":300,\"redraw\":true},\"mode\":\"immediate\",\"transition\":{\"duration\":300}}],\"label\":\"49\",\"method\":\"animate\"},{\"args\":[[50],{\"frame\":{\"duration\":300,\"redraw\":true},\"mode\":\"immediate\",\"transition\":{\"duration\":300}}],\"label\":\"50\",\"method\":\"animate\"},{\"args\":[[51],{\"frame\":{\"duration\":300,\"redraw\":true},\"mode\":\"immediate\",\"transition\":{\"duration\":300}}],\"label\":\"51\",\"method\":\"animate\"},{\"args\":[[52],{\"frame\":{\"duration\":300,\"redraw\":true},\"mode\":\"immediate\",\"transition\":{\"duration\":300}}],\"label\":\"52\",\"method\":\"animate\"},{\"args\":[[53],{\"frame\":{\"duration\":300,\"redraw\":true},\"mode\":\"immediate\",\"transition\":{\"duration\":300}}],\"label\":\"53\",\"method\":\"animate\"},{\"args\":[[54],{\"frame\":{\"duration\":300,\"redraw\":true},\"mode\":\"immediate\",\"transition\":{\"duration\":300}}],\"label\":\"54\",\"method\":\"animate\"},{\"args\":[[55],{\"frame\":{\"duration\":300,\"redraw\":true},\"mode\":\"immediate\",\"transition\":{\"duration\":300}}],\"label\":\"55\",\"method\":\"animate\"},{\"args\":[[56],{\"frame\":{\"duration\":300,\"redraw\":true},\"mode\":\"immediate\",\"transition\":{\"duration\":300}}],\"label\":\"56\",\"method\":\"animate\"},{\"args\":[[57],{\"frame\":{\"duration\":300,\"redraw\":true},\"mode\":\"immediate\",\"transition\":{\"duration\":300}}],\"label\":\"57\",\"method\":\"animate\"},{\"args\":[[58],{\"frame\":{\"duration\":300,\"redraw\":true},\"mode\":\"immediate\",\"transition\":{\"duration\":300}}],\"label\":\"58\",\"method\":\"animate\"},{\"args\":[[59],{\"frame\":{\"duration\":300,\"redraw\":true},\"mode\":\"immediate\",\"transition\":{\"duration\":300}}],\"label\":\"59\",\"method\":\"animate\"},{\"args\":[[60],{\"frame\":{\"duration\":300,\"redraw\":true},\"mode\":\"immediate\",\"transition\":{\"duration\":300}}],\"label\":\"60\",\"method\":\"animate\"},{\"args\":[[61],{\"frame\":{\"duration\":300,\"redraw\":true},\"mode\":\"immediate\",\"transition\":{\"duration\":300}}],\"label\":\"61\",\"method\":\"animate\"},{\"args\":[[62],{\"frame\":{\"duration\":300,\"redraw\":true},\"mode\":\"immediate\",\"transition\":{\"duration\":300}}],\"label\":\"62\",\"method\":\"animate\"},{\"args\":[[63],{\"frame\":{\"duration\":300,\"redraw\":true},\"mode\":\"immediate\",\"transition\":{\"duration\":300}}],\"label\":\"63\",\"method\":\"animate\"},{\"args\":[[64],{\"frame\":{\"duration\":300,\"redraw\":true},\"mode\":\"immediate\",\"transition\":{\"duration\":300}}],\"label\":\"64\",\"method\":\"animate\"},{\"args\":[[65],{\"frame\":{\"duration\":300,\"redraw\":true},\"mode\":\"immediate\",\"transition\":{\"duration\":300}}],\"label\":\"65\",\"method\":\"animate\"},{\"args\":[[66],{\"frame\":{\"duration\":300,\"redraw\":true},\"mode\":\"immediate\",\"transition\":{\"duration\":300}}],\"label\":\"66\",\"method\":\"animate\"},{\"args\":[[67],{\"frame\":{\"duration\":300,\"redraw\":true},\"mode\":\"immediate\",\"transition\":{\"duration\":300}}],\"label\":\"67\",\"method\":\"animate\"},{\"args\":[[68],{\"frame\":{\"duration\":300,\"redraw\":true},\"mode\":\"immediate\",\"transition\":{\"duration\":300}}],\"label\":\"68\",\"method\":\"animate\"},{\"args\":[[69],{\"frame\":{\"duration\":300,\"redraw\":true},\"mode\":\"immediate\",\"transition\":{\"duration\":300}}],\"label\":\"69\",\"method\":\"animate\"},{\"args\":[[70],{\"frame\":{\"duration\":300,\"redraw\":true},\"mode\":\"immediate\",\"transition\":{\"duration\":300}}],\"label\":\"70\",\"method\":\"animate\"},{\"args\":[[71],{\"frame\":{\"duration\":300,\"redraw\":true},\"mode\":\"immediate\",\"transition\":{\"duration\":300}}],\"label\":\"71\",\"method\":\"animate\"},{\"args\":[[72],{\"frame\":{\"duration\":300,\"redraw\":true},\"mode\":\"immediate\",\"transition\":{\"duration\":300}}],\"label\":\"72\",\"method\":\"animate\"},{\"args\":[[73],{\"frame\":{\"duration\":300,\"redraw\":true},\"mode\":\"immediate\",\"transition\":{\"duration\":300}}],\"label\":\"73\",\"method\":\"animate\"},{\"args\":[[74],{\"frame\":{\"duration\":300,\"redraw\":true},\"mode\":\"immediate\",\"transition\":{\"duration\":300}}],\"label\":\"74\",\"method\":\"animate\"},{\"args\":[[75],{\"frame\":{\"duration\":300,\"redraw\":true},\"mode\":\"immediate\",\"transition\":{\"duration\":300}}],\"label\":\"75\",\"method\":\"animate\"},{\"args\":[[76],{\"frame\":{\"duration\":300,\"redraw\":true},\"mode\":\"immediate\",\"transition\":{\"duration\":300}}],\"label\":\"76\",\"method\":\"animate\"},{\"args\":[[77],{\"frame\":{\"duration\":300,\"redraw\":true},\"mode\":\"immediate\",\"transition\":{\"duration\":300}}],\"label\":\"77\",\"method\":\"animate\"},{\"args\":[[78],{\"frame\":{\"duration\":300,\"redraw\":true},\"mode\":\"immediate\",\"transition\":{\"duration\":300}}],\"label\":\"78\",\"method\":\"animate\"},{\"args\":[[79],{\"frame\":{\"duration\":300,\"redraw\":true},\"mode\":\"immediate\",\"transition\":{\"duration\":300}}],\"label\":\"79\",\"method\":\"animate\"},{\"args\":[[80],{\"frame\":{\"duration\":300,\"redraw\":true},\"mode\":\"immediate\",\"transition\":{\"duration\":300}}],\"label\":\"80\",\"method\":\"animate\"},{\"args\":[[81],{\"frame\":{\"duration\":300,\"redraw\":true},\"mode\":\"immediate\",\"transition\":{\"duration\":300}}],\"label\":\"81\",\"method\":\"animate\"},{\"args\":[[82],{\"frame\":{\"duration\":300,\"redraw\":true},\"mode\":\"immediate\",\"transition\":{\"duration\":300}}],\"label\":\"82\",\"method\":\"animate\"}],\"transition\":{\"duration\":300,\"easing\":\"cubic-in-out\"},\"x\":0.1,\"xanchor\":\"left\",\"y\":0,\"yanchor\":\"top\"}]},                        {\"responsive\": true}                    ).then(function(){\n",
       "                            Plotly.addFrames('ed3efe6d-0a8b-44b1-b0b2-a8c676eec08c', [{\"data\":[{\"marker\":{\"color\":[\"red\",\"red\",\"red\",\"blue\",\"blue\",\"green\",\"green\",\"green\"]},\"mode\":\"markers\",\"x\":[0.38563724885599343,0.7548420302231041,0.16054218591914082,0.060264632107766995,0.6198144893608378,0.020958230831250046,0.8583410532414557,0.18714238397926117],\"y\":[0.9797873627025744,0.6171885926892745,0.16046649979474087,0.8928673532847469,0.7301326966697878,1.0,0.2186367148239328,0.18871624261965037],\"type\":\"scatter\"}],\"name\":\"0\"},{\"data\":[{\"marker\":{\"color\":[\"red\",\"red\",\"red\",\"blue\",\"blue\",\"green\",\"green\",\"green\"]},\"mode\":\"markers\",\"x\":[0.043981445797594686,0.8711909080432372,-0.43693182727673285,-0.12605735813139418,0.37916332809190617,-0.6364786687220669,0.7603701846817745,-0.4196540969407812],\"y\":[1.0,0.3469206691921582,-0.8229376273570517,0.6426706349606695,0.5157328055910775,0.7465216211586246,-0.6015349638434625,-0.7548158104024061],\"type\":\"scatter\"}],\"name\":\"1\"},{\"data\":[{\"marker\":{\"color\":[\"red\",\"red\",\"red\",\"blue\",\"blue\",\"green\",\"green\",\"green\"]},\"mode\":\"markers\",\"x\":[0.14326467394734255,0.9156932019506677,-0.5041846207514448,0.11792155595909315,0.11846005377845158,-0.7294447760739541,0.721016074826823,-0.5203786962836133],\"y\":[1.0,0.5292148837628606,-0.9741806570320529,0.7505542102403355,0.7529546855733492,0.8350381363664543,-0.709791303506974,-1.0140479407680612],\"type\":\"scatter\"}],\"name\":\"2\"},{\"data\":[{\"marker\":{\"color\":[\"red\",\"red\",\"red\",\"blue\",\"blue\",\"green\",\"green\",\"green\"]},\"mode\":\"markers\",\"x\":[0.2618789889811596,0.9166248945967681,-0.3860340092386275,0.19541806588600877,0.1923815655120176,-0.9032968540392033,0.4597092104261927,-0.3235913696844158],\"y\":[1.0,0.5447206071517332,-0.9668415438473401,0.8457314956669247,0.8268055650048691,0.6975111342606759,-0.9262307103550041,-0.9379114659575798],\"type\":\"scatter\"}],\"name\":\"3\"},{\"data\":[{\"marker\":{\"color\":[\"red\",\"red\",\"red\",\"blue\",\"blue\",\"green\",\"green\",\"green\"]},\"mode\":\"markers\",\"x\":[0.3364044084884493,0.728571185355471,-0.3897727095113525,0.2572764687989583,0.2591635139285905,-0.852526290777546,0.3133533842054798,-0.3268410816471544],\"y\":[1.0,0.766776447073641,-1.0283606503756166,0.814119118419003,0.8169603785015808,0.6218369982570843,-1.0534264512341902,-1.00460810653848],\"type\":\"scatter\"}],\"name\":\"4\"},{\"data\":[{\"marker\":{\"color\":[\"red\",\"red\",\"red\",\"blue\",\"blue\",\"green\",\"green\",\"green\"]},\"mode\":\"markers\",\"x\":[0.45756455299432836,0.43373559046920257,-0.3325315444939052,0.3953201273906131,0.389872983672373,-0.8468729703176303,0.15095836563818224,-0.30099001059123],\"y\":[1.0,0.9181497141044864,-1.0066648286499587,0.8789797968642384,0.867111628897315,0.595100640883701,-1.0960752400089875,-1.0637545680652785],\"type\":\"scatter\"}],\"name\":\"5\"},{\"data\":[{\"marker\":{\"color\":[\"red\",\"red\",\"red\",\"blue\",\"blue\",\"green\",\"green\",\"green\"]},\"mode\":\"markers\",\"x\":[0.5061939332991122,0.5411139494788076,-0.2387681156615082,0.46044362101754255,0.4602386781328612,-1.0580496903759047,0.025237460474181895,-0.19829553409634143],\"y\":[0.9406459653658604,1.0,-1.066154520779399,0.86407385996955,0.8633761735381509,0.600409022720337,-1.1824634119477173,-1.0710844392222483],\"type\":\"scatter\"}],\"name\":\"6\"},{\"data\":[{\"marker\":{\"color\":[\"red\",\"red\",\"red\",\"blue\",\"blue\",\"green\",\"green\",\"green\"]},\"mode\":\"markers\",\"x\":[0.5158359862795512,0.5431318770128244,-0.1754990516959239,0.4414797107867813,0.43623006112858703,-0.9901830053178452,-0.1310593784851686,-0.13227196620916182],\"y\":[0.948447310097098,1.0,-1.1310414478046396,0.8362765291956258,0.8047841644237629,0.5893377045372674,-1.1136779739138833,-1.1193397845623143],\"type\":\"scatter\"}],\"name\":\"7\"},{\"data\":[{\"marker\":{\"color\":[\"red\",\"red\",\"red\",\"blue\",\"blue\",\"green\",\"green\",\"green\"]},\"mode\":\"markers\",\"x\":[0.5209880036718109,0.5139647617817141,-0.1699382726210068,0.4646797097123281,0.46754001130966355,-0.9800144620617205,-0.22020334078070725,-0.21672713312447014],\"y\":[1.0,0.9879104590850364,-1.1502859577096765,0.9080130972072227,0.9141926171743576,0.44772551196883326,-1.1345476747233634,-1.16359179410844],\"type\":\"scatter\"}],\"name\":\"8\"},{\"data\":[{\"marker\":{\"color\":[\"red\",\"red\",\"red\",\"blue\",\"blue\",\"green\",\"green\",\"green\"]},\"mode\":\"markers\",\"x\":[0.5216365431699319,0.4997437467854168,-0.10875547854236806,0.42512673350326663,0.4235847759181629,-0.9557723239900471,-0.2627850333892247,-0.24979171313496462],\"y\":[1.0,0.9674852015424056,-1.0349251453580328,0.862371230813447,0.8606211189546376,0.4041311668982265,-1.1787467654235162,-1.1238290500952173],\"type\":\"scatter\"}],\"name\":\"9\"},{\"data\":[{\"marker\":{\"color\":[\"red\",\"red\",\"red\",\"blue\",\"blue\",\"green\",\"green\",\"green\"]},\"mode\":\"markers\",\"x\":[0.5404722049305766,0.5447945206913773,-0.1025327339546028,0.44677704771536064,0.463739166364622,-1.0422363529918712,-0.2573086368264619,-0.22497367700550944],\"y\":[0.9917087925113905,1.0,-1.1259308597203215,0.8435080270899977,0.8705655931744601,0.41181455835346714,-1.1562237625220122,-1.0812929977868524],\"type\":\"scatter\"}],\"name\":\"10\"},{\"data\":[{\"marker\":{\"color\":[\"red\",\"red\",\"red\",\"blue\",\"blue\",\"green\",\"green\",\"green\"]},\"mode\":\"markers\",\"x\":[0.5693935910272341,0.5905462873476625,-0.03846550301272406,0.4284726505896173,0.4414165693994426,-1.1154080311155912,-0.2481974554487124,-0.24738248313854933],\"y\":[0.9680519208283974,1.0,-1.0477429519557415,0.7455527003200781,0.7675251859525666,0.3093277625449057,-1.1096414325801347,-1.1216273218705177],\"type\":\"scatter\"}],\"name\":\"11\"},{\"data\":[{\"marker\":{\"color\":[\"red\",\"red\",\"red\",\"blue\",\"blue\",\"green\",\"green\",\"green\"]},\"mode\":\"markers\",\"x\":[0.5578083572071262,0.5745628354558081,0.011698879737840754,0.4717347051065013,0.46126700458116116,-1.1708911773779223,-0.2596279471889071,-0.26058595143045243],\"y\":[0.9763882627149821,1.0,-1.2065493872921766,0.8373413694997989,0.8180928721511829,0.38611057418220857,-1.1739887407001621,-1.1685488292901731],\"type\":\"scatter\"}],\"name\":\"12\"},{\"data\":[{\"marker\":{\"color\":[\"red\",\"red\",\"red\",\"blue\",\"blue\",\"green\",\"green\",\"green\"]},\"mode\":\"markers\",\"x\":[0.5674906359633023,0.539319711193347,0.031809902565673925,0.41323318385660496,0.4081454734573519,-1.0385340733926345,-0.253096496746419,-0.2645038351673409],\"y\":[1.0,0.9514676282889576,-1.028659258351382,0.740904113435634,0.7296334092848512,0.29546661430107063,-1.0117040701176616,-1.0536574732918471],\"type\":\"scatter\"}],\"name\":\"13\"},{\"data\":[{\"marker\":{\"color\":[\"red\",\"red\",\"red\",\"blue\",\"blue\",\"green\",\"green\",\"green\"]},\"mode\":\"markers\",\"x\":[0.5823734642745168,0.5715757842314191,0.11292040096297942,0.43406338315455245,0.43433187790295436,-1.0911329744367684,-0.30861979938314965,-0.32124305388131813],\"y\":[1.0,0.9890376660020156,-1.0010390772675102,0.7615607372743411,0.7616348530876264,0.2087904260524351,-1.0526655845966588,-1.0882003860852425],\"type\":\"scatter\"}],\"name\":\"14\"},{\"data\":[{\"marker\":{\"color\":[\"red\",\"red\",\"red\",\"blue\",\"blue\",\"green\",\"green\",\"green\"]},\"mode\":\"markers\",\"x\":[0.5675778242144368,0.5300062801206036,0.2343844842131296,0.44481498459689117,0.4426796989060526,-1.1386456199852004,-0.38242694932703447,-0.3551938171303101],\"y\":[1.0,0.9233844249763902,-1.1009833614662936,0.7958385968407745,0.7908524253340505,0.0907625641483008,-1.0629829263585913,-0.9652005811456799],\"type\":\"scatter\"}],\"name\":\"15\"},{\"data\":[{\"marker\":{\"color\":[\"red\",\"red\",\"red\",\"blue\",\"blue\",\"green\",\"green\",\"green\"]},\"mode\":\"markers\",\"x\":[0.5440386067120463,0.5530445463621818,0.3975618315485705,0.4336523879966989,0.43290549050095284,-1.110099681556694,-0.47557577307268023,-0.4774207005429583],\"y\":[0.9788226941236465,1.0,-1.034923367496966,0.8172628091930642,0.8187707157837917,0.08398182070631452,-1.0899964008501604,-1.0907742163939835],\"type\":\"scatter\"}],\"name\":\"16\"},{\"data\":[{\"marker\":{\"color\":[\"red\",\"red\",\"red\",\"blue\",\"blue\",\"green\",\"green\",\"green\"]},\"mode\":\"markers\",\"x\":[0.5090909405663389,0.5310068974950893,0.5375583684566652,0.45229225806149015,0.4635184607208409,-1.0954064733523496,-0.5463616965682531,-0.5415991306317102],\"y\":[0.9651213302573818,1.0,-0.9934452662676428,0.8669043961821202,0.9063636769412144,-0.03613180224907553,-1.0116237621918531,-1.0011605893663005],\"type\":\"scatter\"}],\"name\":\"17\"},{\"data\":[{\"marker\":{\"color\":[\"red\",\"red\",\"red\",\"blue\",\"blue\",\"green\",\"green\",\"green\"]},\"mode\":\"markers\",\"x\":[0.5955540868188104,0.5917222515113533,0.6691769511868789,0.4507253325176693,0.48179616391345054,-1.180661801194878,-0.6070902523084025,-0.5959143172816579],\"y\":[1.0,0.9851272435966347,-0.7507009171357683,0.7786135291186279,0.8256541196771772,-0.22226294599020313,-1.0009051574001901,-0.9862101129752449],\"type\":\"scatter\"}],\"name\":\"18\"},{\"data\":[{\"marker\":{\"color\":[\"red\",\"red\",\"red\",\"blue\",\"blue\",\"green\",\"green\",\"green\"]},\"mode\":\"markers\",\"x\":[0.5670805025361148,0.5769963409929127,0.7947800815264989,0.41611712492994407,0.4257243727813703,-1.0872221239656388,-0.6651378874476593,-0.651703784480928],\"y\":[0.9754234049476056,1.0,-0.6498319693222728,0.7569283040210776,0.7596448535093152,-0.3415471250120952,-0.88910162585964,-0.8799968699054458],\"type\":\"scatter\"}],\"name\":\"19\"},{\"data\":[{\"marker\":{\"color\":[\"red\",\"red\",\"red\",\"blue\",\"blue\",\"green\",\"green\",\"green\"]},\"mode\":\"markers\",\"x\":[0.5300503591496232,0.6045554058765201,0.9233820851874481,0.47324824072494176,0.4680392510200352,-0.9722033049367408,-0.7994274469562194,-0.7999534929625601],\"y\":[0.9010016823268653,1.0,-0.4446492247035064,0.8354015250597007,0.8281875226561382,-0.5956194490556825,-0.8400182698225588,-0.8543977149335702],\"type\":\"scatter\"}],\"name\":\"20\"},{\"data\":[{\"marker\":{\"color\":[\"red\",\"red\",\"red\",\"blue\",\"blue\",\"green\",\"green\",\"green\"]},\"mode\":\"markers\",\"x\":[0.5608835336494371,0.5341029814044405,1.0,0.4436886196411422,0.42909341600887413,-0.8349606476874869,-0.8113775496140867,-0.8282458879036576],\"y\":[0.9179387321067196,0.8887051763775835,-0.28251528383457625,0.7666540404869364,0.732377144852485,-0.7405284624564054,-0.7236979612617668,-0.7421897347318841],\"type\":\"scatter\"}],\"name\":\"21\"},{\"data\":[{\"marker\":{\"color\":[\"red\",\"red\",\"red\",\"blue\",\"blue\",\"green\",\"green\",\"green\"]},\"mode\":\"markers\",\"x\":[0.5759402317638669,0.6174767767972048,1.0,0.47389327448731144,0.4680873138225938,-0.7894893233278306,-0.7952689227797451,-0.8105206640030057],\"y\":[0.8648676375067309,0.9205829973458461,-0.03181958207743323,0.7526841677360477,0.7469727230405018,-0.7327841158424927,-0.7398742981834395,-0.7536382834673695],\"type\":\"scatter\"}],\"name\":\"22\"},{\"data\":[{\"marker\":{\"color\":[\"red\",\"red\",\"red\",\"blue\",\"blue\",\"green\",\"green\",\"green\"]},\"mode\":\"markers\",\"x\":[0.5952495624384316,0.5400915345996816,1.0,0.46901924306988113,0.47642927614796554,-0.7774611549417565,-0.7621368845825719,-0.7871549043708541],\"y\":[0.8861732947952837,0.7954788072988055,0.15366059056147122,0.7059256681355355,0.708518783001323,-0.7389761122394539,-0.723122351922165,-0.7490730518142025],\"type\":\"scatter\"}],\"name\":\"23\"},{\"data\":[{\"marker\":{\"color\":[\"red\",\"red\",\"red\",\"blue\",\"blue\",\"green\",\"green\",\"green\"]},\"mode\":\"markers\",\"x\":[0.6209315630538758,0.5843765170903711,1.0,0.4864694912079218,0.46429767384842263,-0.7595414940659341,-0.7531829436593219,-0.7255731702540956],\"y\":[0.917630856796066,0.8601086494250498,0.2746617320672361,0.7562154451496782,0.7102172916928091,-0.7556149641403809,-0.7502881964395524,-0.7169634819095803],\"type\":\"scatter\"}],\"name\":\"24\"},{\"data\":[{\"marker\":{\"color\":[\"red\",\"red\",\"red\",\"blue\",\"blue\",\"green\",\"green\",\"green\"]},\"mode\":\"markers\",\"x\":[0.5851781492817545,0.6145348245633695,1.0,0.5042944600404966,0.5038825844605604,-0.7730385813675029,-0.7519273006005867,-0.7335020474729705],\"y\":[0.8491931283483837,0.8767260551156786,0.41720662552248855,0.7473486393651929,0.7512806340179435,-0.8037278037375232,-0.7797414108732695,-0.7588115562554673],\"type\":\"scatter\"}],\"name\":\"25\"},{\"data\":[{\"marker\":{\"color\":[\"red\",\"red\",\"red\",\"blue\",\"blue\",\"green\",\"green\",\"green\"]},\"mode\":\"markers\",\"x\":[0.797577532361885,0.7894244948710574,1.0,0.6888316718166074,0.6890424935649543,-0.888600272556246,-0.8679600690252032,-0.8685499696205506],\"y\":[0.957493703284378,0.9375091762217067,0.8361651034835538,0.8401668921199642,0.8397836067156496,-0.948318486320704,-0.9260401054557721,-0.9261364684617446],\"type\":\"scatter\"}],\"name\":\"26\"},{\"data\":[{\"marker\":{\"color\":[\"red\",\"red\",\"red\",\"blue\",\"blue\",\"green\",\"green\",\"green\"]},\"mode\":\"markers\",\"x\":[0.9153977304334672,0.8847561095623464,0.9015567621991845,0.841681606340631,0.844554188738303,-0.9464432747528146,-0.9570868397541544,-0.9354364808960861],\"y\":[1.0,0.9675911468941604,0.9853627112030711,0.9207470379472532,0.923843457297131,-1.0264452694315762,-1.0380350152006361,-1.0144585571926097],\"type\":\"scatter\"}],\"name\":\"27\"},{\"data\":[{\"marker\":{\"color\":[\"red\",\"red\",\"red\",\"blue\",\"blue\",\"green\",\"green\",\"green\"]},\"mode\":\"markers\",\"x\":[0.8878876453373343,0.9110510840558348,0.9179786379145108,0.8177903294325009,0.7920262181188217,-0.9082594929073831,-0.9144067943015565,-0.9252536137145081],\"y\":[0.9672380329150547,0.9924575198322302,1.0,0.8909186950271887,0.8628676081016772,-0.9883456140192732,-0.9950385856764916,-1.00684823304175],\"type\":\"scatter\"}],\"name\":\"28\"},{\"data\":[{\"marker\":{\"color\":[\"red\",\"red\",\"red\",\"blue\",\"blue\",\"green\",\"green\",\"green\"]},\"mode\":\"markers\",\"x\":[0.8905175115796452,0.9184063721210461,0.8962001820464638,0.8037695763806463,0.7978930769753568,-0.8926317496768448,-0.9097901718669438,-0.892862459537155],\"y\":[0.9696355605901639,1.0,0.9758226582356181,0.8751873697172448,0.8687892377016615,-0.9717964962557037,-0.9904780007211029,-0.9720476852775065],\"type\":\"scatter\"}],\"name\":\"29\"},{\"data\":[{\"marker\":{\"color\":[\"red\",\"red\",\"red\",\"blue\",\"blue\",\"green\",\"green\",\"green\"]},\"mode\":\"markers\",\"x\":[0.906916797946992,0.9184623728170394,0.9052269281484565,0.7950789915654765,0.8189662303937605,-0.9431011160882685,-0.8637471971130007,-0.9139413458143738],\"y\":[0.9874295721310777,1.0,0.9855896995696225,0.8656643855597017,0.8916719959262581,-1.0268067917118746,-0.9404089530742151,-0.9950586290581878],\"type\":\"scatter\"}],\"name\":\"30\"},{\"data\":[{\"marker\":{\"color\":[\"red\",\"red\",\"red\",\"blue\",\"blue\",\"green\",\"green\",\"green\"]},\"mode\":\"markers\",\"x\":[0.9184699504599053,0.8837603372876791,0.8846442761333726,0.8507398012631335,0.8516378676695169,-0.8734789137946644,-0.9194701239943205,-0.8553126130391961],\"y\":[1.0,0.9622093578143095,0.963171760260739,0.9262577251789406,0.9272355092312775,-0.9510127643341345,-1.0010864243233242,-0.9312339160859175],\"type\":\"scatter\"}],\"name\":\"31\"},{\"data\":[{\"marker\":{\"color\":[\"red\",\"red\",\"red\",\"blue\",\"blue\",\"green\",\"green\",\"green\"]},\"mode\":\"markers\",\"x\":[0.9122712223487518,0.918470956814667,0.8839274339756603,0.8316074738461153,0.821047083322374,-0.8636826184248101,-0.930824057553315,-0.9048175326518628],\"y\":[0.993249940709935,1.0,0.9623901913004642,0.9054260043873168,0.8939282116103215,-0.9403479879668536,-1.0134492953582137,-0.9851342786460527],\"type\":\"scatter\"}],\"name\":\"32\"},{\"data\":[{\"marker\":{\"color\":[\"red\",\"red\",\"red\",\"blue\",\"blue\",\"green\",\"green\",\"green\"]},\"mode\":\"markers\",\"x\":[0.8127356826496093,0.9184710926043156,0.8463447544537651,0.8124502289132659,0.8084463886186206,-0.8737192980199907,-0.8719321522408809,-0.8664817622168257],\"y\":[0.8848788943821013,1.0,0.9214713046876286,0.8845681020964827,0.8802088574344108,-0.9512757300021518,-0.9493299466729985,-0.9433957480361628],\"type\":\"scatter\"}],\"name\":\"33\"},{\"data\":[{\"marker\":{\"color\":[\"red\",\"red\",\"red\",\"blue\",\"blue\",\"green\",\"green\",\"green\"]},\"mode\":\"markers\",\"x\":[0.9080363981209947,0.913813441119808,0.9184711098736058,0.7538307864496518,0.74891445186754,-0.8897501571617887,-0.9036966908439757,-0.8873113185716895],\"y\":[0.988639041979605,0.9949288892267153,1.0,0.8207452350166071,0.8153924977176955,-0.9687296011060703,-0.9839141109851961,-0.9660742768865281],\"type\":\"scatter\"}],\"name\":\"34\"},{\"data\":[{\"marker\":{\"color\":[\"red\",\"red\",\"red\",\"blue\",\"blue\",\"green\",\"green\",\"green\"]},\"mode\":\"markers\",\"x\":[0.8764333244249796,0.9184711121895355,0.9119160270679709,0.8206561571851052,0.8097401645557349,-0.903364130726636,-0.8871410489933583,-0.9682079216336389],\"y\":[0.954230691428167,1.0,0.9928630470441524,0.8935024154074855,0.8816174551945506,-0.9835520334011868,-0.9658888957024305,-1.0541517398275178],\"type\":\"scatter\"}],\"name\":\"35\"},{\"data\":[{\"marker\":{\"color\":[\"red\",\"red\",\"red\",\"blue\",\"blue\",\"green\",\"green\",\"green\"]},\"mode\":\"markers\",\"x\":[0.9178929735562592,0.9007849357588386,0.9184711125023599,0.7703477145444396,0.7843950353469551,-0.8962601190300219,-0.9030163120073013,-0.8741191447255174],\"y\":[0.9993705420473189,0.9807438943894013,1.0,0.8387282997427308,0.8540225431986137,-0.9758174282658472,-0.9831733405912034,-0.9517110911127216],\"type\":\"scatter\"}],\"name\":\"36\"},{\"data\":[{\"marker\":{\"color\":[\"red\",\"red\",\"red\",\"blue\",\"blue\",\"green\",\"green\",\"green\"]},\"mode\":\"markers\",\"x\":[0.912893740049329,0.9184711125419571,0.9098432853322576,0.8478858572479854,0.869231307231838,-0.8939127160215401,-0.9101653318734475,-0.909264598476001],\"y\":[0.9939275471852842,1.0,0.9906063162011035,0.9231491831048039,0.9463893805287875,-0.9732616560307331,-0.9909569494698575,-0.9899762616886822],\"type\":\"scatter\"}],\"name\":\"37\"},{\"data\":[{\"marker\":{\"color\":[\"red\",\"red\",\"red\",\"blue\",\"blue\",\"green\",\"green\",\"green\"]},\"mode\":\"markers\",\"x\":[0.9184711125474487,0.8965165607385911,0.9065680588159536,0.8347010886879527,0.8167754695945831,-0.9212435938614059,-0.9194375316592709,-0.9269141327067991],\"y\":[1.0,0.9760966332975363,0.9870403613473757,0.9087940570857179,0.8892772548167449,-1.0030185830282399,-1.001052204143306,-1.0091924721880805],\"type\":\"scatter\"}],\"name\":\"38\"},{\"data\":[{\"marker\":{\"color\":[\"red\",\"red\",\"red\",\"blue\",\"blue\",\"green\",\"green\",\"green\"]},\"mode\":\"markers\",\"x\":[0.918471112548157,0.9121785705089426,0.892410863894222,0.8410468309380026,0.8328290349599916,-0.9780648184410847,-0.9565617565019333,-0.9209093757767957],\"y\":[1.0,0.9931488949916372,0.9716264906997057,0.9157030846671208,0.9067558288789566,-1.0648835930477216,-1.0414717931060928,-1.0026546977853452],\"type\":\"scatter\"}],\"name\":\"39\"},{\"data\":[{\"marker\":{\"color\":[\"red\",\"red\",\"red\",\"blue\",\"blue\",\"green\",\"green\",\"green\"]},\"mode\":\"markers\",\"x\":[0.8681010066280279,0.9184711125482632,0.8920295427405261,0.8135824942266581,0.8061253750080373,-0.8989570563907454,-0.8983658721463711,-0.9331119908763674],\"y\":[0.945158747801573,1.0,0.9712113212419078,0.885800852211263,0.8776817953168865,-0.9787537616687579,-0.9781101004405502,-1.015940488631631],\"type\":\"scatter\"}],\"name\":\"40\"},{\"data\":[{\"marker\":{\"color\":[\"red\",\"red\",\"red\",\"blue\",\"blue\",\"green\",\"green\",\"green\"]},\"mode\":\"markers\",\"x\":[0.9029877786955842,0.9184711125482858,0.8971236715855192,0.8573880752494242,0.8335126452843944,-0.9173378962933417,-0.8941831773083342,-0.9226163726359804],\"y\":[0.9831422745460747,1.0,0.9767576348661233,0.9334948737479808,0.9075001204684806,-0.9987661928181839,-0.9735561250559366,-1.00451321770609],\"type\":\"scatter\"}],\"name\":\"41\"},{\"data\":[{\"marker\":{\"color\":[\"red\",\"red\",\"red\",\"blue\",\"blue\",\"green\",\"green\",\"green\"]},\"mode\":\"markers\",\"x\":[0.9152844594213522,0.9184711125482886,0.9157234216292423,0.8023389604614729,0.8201655614314963,-0.9374024352024161,-0.8706343834240314,-0.8710184620247445],\"y\":[0.996530480835595,1.0,0.9970084079058018,0.8735592763885441,0.8929682711042999,-1.020611777981342,-0.9479170019930837,-0.9483351736649698],\"type\":\"scatter\"}],\"name\":\"42\"},{\"data\":[{\"marker\":{\"color\":[\"red\",\"red\",\"red\",\"blue\",\"blue\",\"green\",\"green\",\"green\"]},\"mode\":\"markers\",\"x\":[0.9184711125482965,0.8754091641169366,0.8662282560642287,0.7763200399718058,0.7877024233249564,-0.8653186799891929,-0.8726232043066173,-0.8702864017893979],\"y\":[1.0,0.953115620248654,0.9431197609044898,0.8452307637829883,0.857623514298103,-0.9421294455177438,-0.9500823622917496,-0.947538131465876],\"type\":\"scatter\"}],\"name\":\"43\"},{\"data\":[{\"marker\":{\"color\":[\"red\",\"red\",\"red\",\"blue\",\"blue\",\"green\",\"green\",\"green\"]},\"mode\":\"markers\",\"x\":[0.9184711125482959,0.8751029855958187,0.8922812685474932,0.8046823015307869,0.816576940465302,-0.8849595705309058,-0.8798126423194003,-0.8562696513970146],\"y\":[1.0,0.9527822635247055,0.9714853917091232,0.876110626166779,0.8890611030756435,-0.9635137767976018,-0.9579099770251501,-0.9322771720291737],\"type\":\"scatter\"}],\"name\":\"44\"},{\"data\":[{\"marker\":{\"color\":[\"red\",\"red\",\"red\",\"blue\",\"blue\",\"green\",\"green\",\"green\"]},\"mode\":\"markers\",\"x\":[0.917835345054221,0.9184711125483009,0.911077997650381,0.8474051133580736,0.8465265505608562,-0.9421521380981595,-0.9293906893760971,-0.9160143599803685],\"y\":[0.9993077980511392,1.0,0.9919506288255423,0.9226257655583174,0.9216692163699833,-1.0257830923872588,-1.0118888625658766,-0.9973251716528125],\"type\":\"scatter\"}],\"name\":\"45\"},{\"data\":[{\"marker\":{\"color\":[\"red\",\"red\",\"red\",\"blue\",\"blue\",\"green\",\"green\",\"green\"]},\"mode\":\"markers\",\"x\":[0.901661766533956,0.8954200069676616,0.9184711125482867,0.8210992997128296,0.8406215200914008,-0.9304283523831806,-0.9270805059992663,-0.9358848474577693],\"y\":[0.981698557761176,0.9749027429761273,1.0,0.8939848934766035,0.9152400207330345,-1.013018634632624,-1.0093736137515348,-1.0189594802401138],\"type\":\"scatter\"}],\"name\":\"46\"},{\"data\":[{\"marker\":{\"color\":[\"red\",\"red\",\"red\",\"blue\",\"blue\",\"green\",\"green\",\"green\"]},\"mode\":\"markers\",\"x\":[0.9184711125481849,0.9180887607762309,0.9161578754602228,0.8271552795834732,0.8339067803230691,-0.9217534356192575,-1.0246280972547874,-0.8982742257818287],\"y\":[1.0,0.999583708440333,0.9974814264092163,0.9005784376697136,0.9079292412468197,-1.0035736813342275,-1.1155801018192946,-0.9780103190067118],\"type\":\"scatter\"}],\"name\":\"47\"},{\"data\":[{\"marker\":{\"color\":[\"red\",\"red\",\"red\",\"blue\",\"blue\",\"green\",\"green\",\"green\"]},\"mode\":\"markers\",\"x\":[0.9120765767175483,0.9184711125482725,0.8892794858248595,0.8377927259647513,0.8580570459529873,-0.9500064380563418,-0.9563711890235389,-0.9568964294324069],\"y\":[0.993037847632483,1.0,0.9682171531313272,0.912160126234469,0.9342232262181063,-1.0343345861150974,-1.0412643097397691,-1.0418361735705444],\"type\":\"scatter\"}],\"name\":\"48\"},{\"data\":[{\"marker\":{\"color\":[\"red\",\"red\",\"red\",\"blue\",\"blue\",\"green\",\"green\",\"green\"]},\"mode\":\"markers\",\"x\":[0.9040990230364339,0.9161553975325855,0.9184711125482938,0.8226776685985626,0.8455612798282149,-0.9312323989814585,-0.9419979960105329,-0.9245820867091511],\"y\":[0.9843521594577052,0.9974787285260576,1.0,0.8957033676497979,0.9206182625408978,-1.013894053126785,-1.0256152677431118,-1.006653420099302],\"type\":\"scatter\"}],\"name\":\"49\"},{\"data\":[{\"marker\":{\"color\":[\"red\",\"red\",\"red\",\"blue\",\"blue\",\"green\",\"green\",\"green\"]},\"mode\":\"markers\",\"x\":[0.9184711125482877,0.8899104118843174,0.8792718298136252,0.789682087900902,0.8034174532822399,-0.8963089784328757,-0.9425625460651127,-0.9022276715163545],\"y\":[1.0,0.9689040838914064,0.9573211588267612,0.8597789055226158,0.8747335025629402,-0.975870624766926,-1.0262299305744909,-0.9823146957917162],\"type\":\"scatter\"}],\"name\":\"50\"},{\"data\":[{\"marker\":{\"color\":[\"red\",\"red\",\"red\",\"blue\",\"blue\",\"green\",\"green\",\"green\"]},\"mode\":\"markers\",\"x\":[0.9173691672123255,0.9184711125482953,0.9083142515377698,0.8156647377012507,0.8167409196479929,-0.9409501090996798,-0.8805622600246491,-0.8802754433728618],\"y\":[0.9988002395274982,1.0,0.9889415563845602,0.888067927839548,0.8892396380131617,-1.0244743642389007,-0.9587261351982684,-0.9584138590168298],\"type\":\"scatter\"}],\"name\":\"51\"},{\"data\":[{\"marker\":{\"color\":[\"red\",\"red\",\"red\",\"blue\",\"blue\",\"green\",\"green\",\"green\"]},\"mode\":\"markers\",\"x\":[0.903741751786019,0.9184711125482978,0.8338948176565467,0.8176810227866975,0.8013451915489913,-0.8810886363172596,-0.9032382685733549,-0.8811380546349571],\"y\":[0.983963174713887,1.0,0.9079162167037644,0.8902631902249419,0.8724772947138864,-0.9592992357404538,-0.9834149993757861,-0.9593530407181189],\"type\":\"scatter\"}],\"name\":\"52\"},{\"data\":[{\"marker\":{\"color\":[\"red\",\"red\",\"red\",\"blue\",\"blue\",\"green\",\"green\",\"green\"]},\"mode\":\"markers\",\"x\":[0.9122480154832757,0.867849020336959,0.9184711125482983,0.8209277710661054,0.8384949906786686,-0.8934164703208933,-0.8819474459338114,-0.9039527241890306],\"y\":[0.9932245043093948,0.9448843937280892,1.0,0.8937981389403151,0.9129247280867313,-0.9727213606556564,-0.960234278339849,-0.9841928742658146],\"type\":\"scatter\"}],\"name\":\"53\"},{\"data\":[{\"marker\":{\"color\":[\"red\",\"red\",\"red\",\"blue\",\"blue\",\"green\",\"green\",\"green\"]},\"mode\":\"markers\",\"x\":[0.9058979404583408,0.918471112548297,0.9129855296543635,0.7608851371269595,0.7727478736735327,-0.9196391242215943,-0.9025471858692218,-0.9014707388738972],\"y\":[0.9863107593497725,1.0,0.9940274845675714,0.828425768357464,0.841341511035161,-1.0012716912457564,-0.9826625721141249,-0.9814905733646616],\"type\":\"scatter\"}],\"name\":\"54\"},{\"data\":[{\"marker\":{\"color\":[\"red\",\"red\",\"red\",\"blue\",\"blue\",\"green\",\"green\",\"green\"]},\"mode\":\"markers\",\"x\":[0.9184711125482853,0.9078414348499066,0.8961668334872834,0.7759374299404775,0.7764045567228276,-0.9157003414074706,-0.8849302300169524,-0.9152953987630711],\"y\":[1.0,0.9884267697120176,0.9757158622015661,0.8448141910393189,0.8453227827369421,-0.9969832789480626,-0.9634818318474021,-0.9965423912175007],\"type\":\"scatter\"}],\"name\":\"55\"},{\"data\":[{\"marker\":{\"color\":[\"red\",\"red\",\"red\",\"blue\",\"blue\",\"green\",\"green\",\"green\"]},\"mode\":\"markers\",\"x\":[0.895441150211631,0.9178163790861441,0.9184711125482922,0.7892928896582315,0.776101969023057,-0.8928792802571326,-0.8708591454239163,-0.931490683583633],\"y\":[0.9749257630185368,0.9992871485524106,1.0,0.8593551597592931,0.8449933355767376,-0.9721364864484744,-0.9481617151874352,-1.0141752645863842],\"type\":\"scatter\"}],\"name\":\"56\"},{\"data\":[{\"marker\":{\"color\":[\"red\",\"red\",\"red\",\"blue\",\"blue\",\"green\",\"green\",\"green\"]},\"mode\":\"markers\",\"x\":[0.9121559554784676,0.9184711125482997,0.9075174064123043,0.8137649000749305,0.7899006532970239,-0.8975685006378727,-0.8860465327869279,-0.8880806752417056],\"y\":[0.9931242725181515,1.0,0.9880739786082073,0.8859994494733089,0.86001687206628,-0.9772419495563315,-0.9646972242040257,-0.9669119290836738],\"type\":\"scatter\"}],\"name\":\"57\"},{\"data\":[{\"marker\":{\"color\":[\"red\",\"red\",\"red\",\"blue\",\"blue\",\"green\",\"green\",\"green\"]},\"mode\":\"markers\",\"x\":[0.9006060240403343,0.9184711125482878,0.9007905491735192,0.845632262953619,0.8221816730745967,-0.932843309941557,-0.891248327564519,-0.868319315054863],\"y\":[0.980549101366523,1.0,0.9807500060337071,0.9206955465451989,0.8951633446516016,-1.0156479579998785,-0.9703607608210405,-0.9453964345658168],\"type\":\"scatter\"}],\"name\":\"58\"},{\"data\":[{\"marker\":{\"color\":[\"red\",\"red\",\"red\",\"blue\",\"blue\",\"green\",\"green\",\"green\"]},\"mode\":\"markers\",\"x\":[0.9184711125483032,0.8891797942963782,0.8716449990650995,0.7199339081883741,0.7403815382901485,-0.8496132821903963,-0.8962812005043336,-0.8628719204691659],\"y\":[1.0,0.9681086123975567,0.9490173258108429,0.7838394679511638,0.8061021497300662,-0.9250299444183336,-0.9758403811063795,-0.9394654972600374],\"type\":\"scatter\"}],\"name\":\"59\"},{\"data\":[{\"marker\":{\"color\":[\"red\",\"red\",\"red\",\"blue\",\"blue\",\"green\",\"green\",\"green\"]},\"mode\":\"markers\",\"x\":[0.9184711125482925,0.881004714613798,0.8922471432742444,0.7638682532127339,0.771543092909711,-0.8663306049485979,-0.871326760435654,-0.8731913614486853],\"y\":[1.0,0.9592078646539577,0.9714482372762941,0.8316736833381578,0.8400297868585868,-0.9432311948766298,-0.9486708384525653,-0.9507009523968744],\"type\":\"scatter\"}],\"name\":\"60\"},{\"data\":[{\"marker\":{\"color\":[\"red\",\"red\",\"red\",\"blue\",\"blue\",\"green\",\"green\",\"green\"]},\"mode\":\"markers\",\"x\":[0.8684836116728117,0.9184711125482912,0.908908202161464,0.7876222489333892,0.7813685779210814,-0.8738848829508211,-0.89053931841771,-0.8987470244818391],\"y\":[0.9455753151160169,1.0,0.9895882295521558,0.8575362231569071,0.8507274395959779,-0.95145603493857,-0.9695888158604247,-0.9785250860947245],\"type\":\"scatter\"}],\"name\":\"61\"},{\"data\":[{\"marker\":{\"color\":[\"red\",\"red\",\"red\",\"blue\",\"blue\",\"green\",\"green\",\"green\"]},\"mode\":\"markers\",\"x\":[0.9172788195584141,0.8761276074590538,0.9184711125483045,0.7960623032926828,0.8156670454238999,-0.9181916943569005,-0.9343830005159197,-0.8735368619573338],\"y\":[0.9987018720854697,0.9538978368391269,1.0,0.8667254662849532,0.8880704404092049,-0.9996957790097248,-1.017324320547733,-0.9510771215587872],\"type\":\"scatter\"}],\"name\":\"62\"},{\"data\":[{\"marker\":{\"color\":[\"red\",\"red\",\"red\",\"blue\",\"blue\",\"green\",\"green\",\"green\"]},\"mode\":\"markers\",\"x\":[0.8859172883306181,0.8871556241135514,0.9184711125482973,0.8436219670407322,0.8424720828127825,-0.8982297424887565,-0.9045134566975075,-0.9133616481944663],\"y\":[0.9645565072511036,0.9659047649872657,1.0,0.9185068049664737,0.9172548502645345,-0.9779618871154573,-0.9848033806833015,-0.9944369895971465],\"type\":\"scatter\"}],\"name\":\"63\"},{\"data\":[{\"marker\":{\"color\":[\"red\",\"red\",\"red\",\"blue\",\"blue\",\"green\",\"green\",\"green\"]},\"mode\":\"markers\",\"x\":[0.9092745158650878,0.9184711125482912,0.9156329577640667,0.8666438948938597,0.8781183909671214,-0.9336296572424752,-0.9373692888992204,-0.939136255517355],\"y\":[0.9899870594104044,1.0,0.9969099139369213,0.9435722942764765,0.9560653339774488,-1.0165041061031477,-1.0205756894176965,-1.0224995023650973],\"type\":\"scatter\"}],\"name\":\"64\"},{\"data\":[{\"marker\":{\"color\":[\"red\",\"red\",\"red\",\"blue\",\"blue\",\"green\",\"green\",\"green\"]},\"mode\":\"markers\",\"x\":[0.8906377897509359,0.9184711125482964,0.9137062401013789,0.8148057581312699,0.819205513172754,-0.8819527102977133,-0.9357272430684074,-0.9034543270353613],\"y\":[0.969696028087223,1.0,0.9948121695044966,0.8871327002006543,0.8919230033265494,-0.9602400099995946,-1.0187878859600017,-0.9836502364551568],\"type\":\"scatter\"}],\"name\":\"65\"},{\"data\":[{\"marker\":{\"color\":[\"red\",\"red\",\"red\",\"blue\",\"blue\",\"green\",\"green\",\"green\"]},\"mode\":\"markers\",\"x\":[0.9184711125483025,0.9018230593840308,0.9078020604488782,0.7953868206542382,0.8073999662401916,-0.877411947063679,-0.9271106498388471,-0.9056249500716403],\"y\":[1.0,0.9818741679114092,0.9883839002080069,0.8659900238423848,0.8790695267487104,-0.9552961819662442,-1.0094064333352575,-0.9860135367338689],\"type\":\"scatter\"}],\"name\":\"66\"},{\"data\":[{\"marker\":{\"color\":[\"red\",\"red\",\"red\",\"blue\",\"blue\",\"green\",\"green\",\"green\"]},\"mode\":\"markers\",\"x\":[0.889316465447653,0.9184711125488411,0.9127138505650424,0.7657863350643368,0.7664378515678321,-0.8799929392070298,-0.8791180717090694,-0.8815731462594951],\"y\":[0.9682574152819253,1.0,0.9937316896469169,0.8337620253937016,0.8344713743264999,-0.9581062781221397,-0.9571537522495165,-0.9598267536285208],\"type\":\"scatter\"}],\"name\":\"67\"},{\"data\":[{\"marker\":{\"color\":[\"red\",\"red\",\"red\",\"blue\",\"blue\",\"green\",\"green\",\"green\"]},\"mode\":\"markers\",\"x\":[0.8918628598000808,0.9183308638633677,0.9184711125488871,0.8204243892342395,0.8014974824236425,-0.8827229242501554,-0.8779056620259575,-0.8913493224888304],\"y\":[0.9710298425445419,0.9998473020178762,1.0,0.8932500739815513,0.8726431038199429,-0.9610785926629125,-0.9558337219659695,-0.9704707206469202],\"type\":\"scatter\"}],\"name\":\"68\"},{\"data\":[{\"marker\":{\"color\":[\"red\",\"red\",\"red\",\"blue\",\"blue\",\"green\",\"green\",\"green\"]},\"mode\":\"markers\",\"x\":[0.8583650311717365,0.8854025199463081,0.9184711125488623,0.8369156863775886,0.8016882117313369,-0.8776915074017827,-0.9006287432951434,-0.8696636076892671],\"y\":[0.9345585500121276,0.9639960450026142,1.0,0.9112052354646165,0.8728507633805656,-0.9556005577203095,-0.9805738373150269,-0.9468600545048778],\"type\":\"scatter\"}],\"name\":\"69\"},{\"data\":[{\"marker\":{\"color\":[\"red\",\"red\",\"red\",\"blue\",\"blue\",\"green\",\"green\",\"green\"]},\"mode\":\"markers\",\"x\":[0.9111663041633169,0.9125035911546788,0.9184711125489092,0.7878587396567208,0.7851566168683349,-0.9091071752114607,-0.910172808438544,-0.8916147060197331],\"y\":[0.9920467739422971,0.9935027663769814,1.0,0.8577937061844632,0.854851727115699,-0.9898048646173211,-0.9909650897049949,-0.9707596611778994],\"type\":\"scatter\"}],\"name\":\"70\"},{\"data\":[{\"marker\":{\"color\":[\"red\",\"red\",\"red\",\"blue\",\"blue\",\"green\",\"green\",\"green\"]},\"mode\":\"markers\",\"x\":[0.9183627367377917,0.9045308968217138,0.9184711125488916,0.8171230587227039,0.8604664576205394,-0.9064260033358738,-0.9567671627083058,-0.9386270793589604],\"y\":[0.9998820041157243,0.9848223688946454,1.0,0.8896556979947152,0.9368465114080481,-0.98688569618743,-1.0416954323725582,-1.0219451287413297],\"type\":\"scatter\"}],\"name\":\"71\"},{\"data\":[{\"marker\":{\"color\":[\"red\",\"red\",\"red\",\"blue\",\"blue\",\"green\",\"green\",\"green\"]},\"mode\":\"markers\",\"x\":[0.885223604855118,0.9168466836405906,0.9184711125488696,0.8102739057842776,0.8216762701444641,-0.8894250752308839,-0.956269289071236,-0.9002937787794569],\"y\":[0.9638012483576882,0.998231377246225,1.0,0.8821985740363881,0.8946130791900051,-0.9683756659070707,-1.0411533645490048,-0.9802091393827994],\"type\":\"scatter\"}],\"name\":\"72\"},{\"data\":[{\"marker\":{\"color\":[\"red\",\"red\",\"red\",\"blue\",\"blue\",\"green\",\"green\",\"green\"]},\"mode\":\"markers\",\"x\":[0.9184711125488704,0.8971242995613021,0.8949552925461449,0.7612719717059456,0.7714565303429793,-0.886031680147255,-0.9159103889080022,-0.8763186583569699],\"y\":[1.0,0.9767583185840545,0.9743967777739704,0.8288469406438547,0.8399355404897103,-0.9646810531561532,-0.9972119714969894,-0.9541058465355239],\"type\":\"scatter\"}],\"name\":\"73\"},{\"data\":[{\"marker\":{\"color\":[\"red\",\"red\",\"red\",\"blue\",\"blue\",\"green\",\"green\",\"green\"]},\"mode\":\"markers\",\"x\":[0.9128062336733526,0.9184711125489,0.8934472835915372,0.7484275963616913,0.7483360527740279,-0.9032409828024135,-0.8692691356742004,-0.8691346673862771],\"y\":[0.9938322732221608,1.0,0.9727549090924299,0.814862423146496,0.8147627536126267,-0.9834179545349947,-0.9464305668381447,-0.9462841623556458],\"type\":\"scatter\"}],\"name\":\"74\"},{\"data\":[{\"marker\":{\"color\":[\"red\",\"red\",\"red\",\"blue\",\"blue\",\"green\",\"green\",\"green\"]},\"mode\":\"markers\",\"x\":[0.9003176624304948,0.9058297509083867,0.9184711125488733,0.7994445392656144,0.81587520223557,-0.9041241759823005,-0.8867760491076567,-0.8924973480407085],\"y\":[0.9802351430868297,0.9862365168944321,1.0,0.8704079293762523,0.8882970744407677,-0.9843795451259486,-0.9654914966749767,-0.9717206516858229],\"type\":\"scatter\"}],\"name\":\"75\"},{\"data\":[{\"marker\":{\"color\":[\"red\",\"red\",\"red\",\"blue\",\"blue\",\"green\",\"green\",\"green\"]},\"mode\":\"markers\",\"x\":[0.8673100694674937,0.9184711125488739,0.9050676429181064,0.8402325944944161,0.8399355273254576,-0.9132364226608248,-0.9074987093853086,-0.907742360354497],\"y\":[0.9442976024151191,1.0,0.9854067597252788,0.9148165718164246,0.9144931352217409,-0.994300648309436,-0.9880536219227232,-0.9883189007821952],\"type\":\"scatter\"}],\"name\":\"76\"},{\"data\":[{\"marker\":{\"color\":[\"red\",\"red\",\"red\",\"blue\",\"blue\",\"green\",\"green\",\"green\"]},\"mode\":\"markers\",\"x\":[0.9184711125488886,0.8944973283686692,0.9121063150861117,0.8302105675806218,0.8303008716639073,-0.9303294731294552,-0.9361102176750412,-0.9699708225537831],\"y\":[1.0,0.9738981620078444,0.9930702257525412,0.9039049309636386,0.9040032509674453,-1.0129109782753511,-1.019204855640254,-1.0560711265725857],\"type\":\"scatter\"}],\"name\":\"77\"},{\"data\":[{\"marker\":{\"color\":[\"red\",\"red\",\"red\",\"blue\",\"blue\",\"green\",\"green\",\"green\"]},\"mode\":\"markers\",\"x\":[0.9090589172711836,0.9184711125488921,0.9031572633621815,0.8818793856221129,0.8753956237006114,-0.9021551091081531,-0.8955574350586266,-0.9101653527901756],\"y\":[0.9897523230190464,1.0,0.9833268036659133,0.9601601765947523,0.9531008779048479,-0.9822356923173494,-0.9750523699902973,-0.9909569722493773],\"type\":\"scatter\"}],\"name\":\"78\"},{\"data\":[{\"marker\":{\"color\":[\"red\",\"red\",\"red\",\"blue\",\"blue\",\"green\",\"green\",\"green\"]},\"mode\":\"markers\",\"x\":[0.8894664616939708,0.918471112548863,0.8892732481484255,0.8760140003278953,0.8819877575217641,-0.9478937696659882,-0.942500779047216,-0.942627780541504],\"y\":[0.9684207260754851,1.0,0.9682103617614531,0.9537741452714915,0.9602781682203348,-1.032034384876272,-1.0261626807528808,-1.0263009556453104],\"type\":\"scatter\"}],\"name\":\"79\"},{\"data\":[{\"marker\":{\"color\":[\"red\",\"red\",\"red\",\"blue\",\"blue\",\"green\",\"green\",\"green\"]},\"mode\":\"markers\",\"x\":[0.9104289567018415,0.9184711125488673,0.8960208997980735,0.7924017385729535,0.7922355404684045,-0.8949505129032176,-0.9087827926861823,-0.8858761048351158],\"y\":[0.9912439751918575,1.0,0.9755569745807982,0.8627399683522926,0.8625590175283844,-0.974391573861918,-0.9894516879950466,-0.9645116680661677],\"type\":\"scatter\"}],\"name\":\"80\"},{\"data\":[{\"marker\":{\"color\":[\"red\",\"red\",\"red\",\"blue\",\"blue\",\"green\",\"green\",\"green\"]},\"mode\":\"markers\",\"x\":[0.9184711125488821,0.8903474115354632,0.9108342592535917,0.807369359622095,0.8076032854103472,-0.9094291461718155,-0.9123276529871546,-0.9154232202391646],\"y\":[1.0,0.9693798741961502,0.9916852547772294,0.8790362033069066,0.879290893721285,-0.9901554156102176,-0.9933112109049632,-0.9966815588774892],\"type\":\"scatter\"}],\"name\":\"81\"},{\"data\":[{\"marker\":{\"color\":[\"red\",\"red\",\"red\",\"blue\",\"blue\",\"green\",\"green\",\"green\"]},\"mode\":\"markers\",\"x\":[0.9184711125488875,0.9178459004479024,0.9046173213017039,0.819128466666514,0.831303738771252,-0.8950233758956514,-0.9210030824889949,-0.9355779017879671],\"y\":[1.0,0.9993192904028788,0.9849164649188139,0.8918391177195428,0.9050951384461564,-0.9744709046012514,-1.0027567224548484,-1.018625288270197],\"type\":\"scatter\"}],\"name\":\"82\"}]);\n",
       "                        }).then(function(){\n",
       "                            \n",
       "var gd = document.getElementById('ed3efe6d-0a8b-44b1-b0b2-a8c676eec08c');\n",
       "var x = new MutationObserver(function (mutations, observer) {{\n",
       "        var display = window.getComputedStyle(gd).display;\n",
       "        if (!display || display === 'none') {{\n",
       "            console.log([gd, 'removed!']);\n",
       "            Plotly.purge(gd);\n",
       "            observer.disconnect();\n",
       "        }}\n",
       "}});\n",
       "\n",
       "// Listen for the removal of the full notebook cells\n",
       "var notebookContainer = gd.closest('#notebook-container');\n",
       "if (notebookContainer) {{\n",
       "    x.observe(notebookContainer, {childList: true});\n",
       "}}\n",
       "\n",
       "// Listen for the clearing of the current output cell\n",
       "var outputEl = gd.closest('.output');\n",
       "if (outputEl) {{\n",
       "    x.observe(outputEl, {childList: true});\n",
       "}}\n",
       "\n",
       "                        })                };                });            </script>        </div>"
      ]
     },
     "metadata": {},
     "output_type": "display_data"
    }
   ],
   "source": [
    "color_list = labels2colors(env.trueLabel())\n",
    "color_list, neuron_group.log.shape\n",
    "fig = create_trace_plot(neuron_group.log[::10000], colors = color_list)\n",
    "fig.show()"
   ]
  },
  {
   "cell_type": "code",
   "execution_count": null,
   "metadata": {},
   "outputs": [],
   "source": [
    "# NormalSyncMap = {'data': neuron_group.log, 'labels': env.trueLabel()}\n",
    "# np.save('../data/NormalSyncMap.npy', NormalSyncMap)"
   ]
  },
  {
   "cell_type": "markdown",
   "metadata": {},
   "source": [
    "## NodeSyncMap"
   ]
  },
  {
   "cell_type": "code",
   "execution_count": null,
   "metadata": {},
   "outputs": [],
   "source": [
    "def calculate_pairwise_distances(arr):\n",
    "    \"\"\"\n",
    "    Calculate the pairwise distances between samples in a NumPy array.\n",
    "\n",
    "    Parameters:\n",
    "    arr (np.ndarray): A 2D NumPy array of shape (N, d) where N is the number of samples\n",
    "                        and d is the dimension of each sample.\n",
    "\n",
    "    Returns:\n",
    "    np.ndarray: A 2D NumPy array of shape (N, N) where each element (i, j) represents\n",
    "                the distance between sample i and sample j.\n",
    "    \"\"\"\n",
    "\n",
    "    # Calculate the pairwise distances\n",
    "    diff = arr[np.newaxis, :, :] - arr[:, np.newaxis, :] \n",
    "    squared_diff = diff ** 2\n",
    "    squared_dist = np.sum(squared_diff, axis=-1)\n",
    "    distances = np.sqrt(squared_dist)\n",
    "    return distances"
   ]
  },
  {
   "cell_type": "code",
   "execution_count": null,
   "metadata": {},
   "outputs": [],
   "source": [
    "a00 = np.array([[-1,0], [1,0], [0,2]])\n",
    "a00_coord_diff = a00[np.newaxis, :, :] - a00[:, np.newaxis, :]\n",
    "pair_dist = calculate_pairwise_distances(a00.reshape(3, 2))\n",
    "a00_coord_diff"
   ]
  },
  {
   "cell_type": "code",
   "execution_count": null,
   "metadata": {},
   "outputs": [],
   "source": [
    "with np.errstate(divide='ignore', invalid='ignore'):\n",
    "    ttk = np.nan_to_num(a00_coord_diff / pair_dist[:, :, np.newaxis] ** 3, nan=0).sum(axis=0)\n",
    "\n",
    "ttk"
   ]
  },
  {
   "cell_type": "code",
   "execution_count": null,
   "metadata": {},
   "outputs": [],
   "source": [
    "# pair_dist[:, :, np.newaxis]\n",
    "# a00_coord_diff\n",
    "print(np.broadcast_to(a00[np.newaxis, :, :], (3, 3, 2)))\n",
    "print('---')\n",
    "print(np.broadcast_to(a00[:, np.newaxis, :], (3, 3, 2)))\n",
    "# a00 = np.arange(12).reshape(3, 4)\n",
    "# np.broadcast_to(a00[:, np.newaxis, :], (3, 3, 4)) == np.broadcast_to(a00[np.newaxis, :, :], (3, 3, 4)).transpose(1, 0, 2)\n"
   ]
  },
  {
   "cell_type": "code",
   "execution_count": null,
   "metadata": {},
   "outputs": [],
   "source": [
    "class NodeSyncMap(LightSyncMap):\n",
    "    def __init__(self, input_size, dimensions, adaptation_rate, ):\n",
    "        super().__init__(input_size, dimensions, adaptation_rate)\n",
    "        self.plus_factor = 1\n",
    "        self.minus_factor = 0.1\n",
    "        self.repel_range = 1\n",
    "        self.plus_exp_factor = 0.2\n",
    "        self.attract_range =  0.0001  # 0.5\n",
    "        # self.trajectory_attract = 10\n",
    "        \n",
    "        self.last_activity = None\n",
    "        self.last_activity_factor = 10\n",
    "        self.history_repel = np.zeros((input_size, input_size))\n",
    "        \n",
    "\n",
    "\n",
    "    def calculate_pairwise_distances(self, arr):\n",
    "        \"\"\"\n",
    "        Calculate the pairwise distances between samples in a NumPy array.\n",
    "\n",
    "        Parameters:\n",
    "        arr (np.ndarray): A 2D NumPy array of shape (N, d) where N is the number of samples\n",
    "                            and d is the dimension of each sample.\n",
    "\n",
    "        Returns:\n",
    "        np.ndarray: A 2D NumPy array of shape (N, N) where each element (i, j) represents\n",
    "                    the distance between sample i and sample j.\n",
    "        \"\"\"\n",
    "\n",
    "        # Calculate the pairwise distances\n",
    "        diff = arr[np.newaxis, :, :] - arr[:, np.newaxis, :] \n",
    "        squared_diff = diff ** 2\n",
    "        squared_dist = np.sum(squared_diff, axis=-1)\n",
    "        distances = np.sqrt(squared_dist)\n",
    "        return distances\n",
    "\n",
    "\n",
    "    def compute_wasserstein_distances(self, trajectories):\n",
    "        # Get the shape of the input array\n",
    "        T, N, D = trajectories.shape\n",
    "        \n",
    "        # Initialize the result array\n",
    "        wasserstein_matrix = np.zeros((N, N))\n",
    "        \n",
    "        # Loop through each pair of variables\n",
    "        for i in range(N):\n",
    "            for j in range(i, N):  # Use symmetry to reduce computations\n",
    "                # Extract the trajectories of the two variables\n",
    "                traj_i = trajectories[:, i, :].reshape(T * D)\n",
    "                traj_j = trajectories[:, j, :].reshape(T * D)\n",
    "                \n",
    "                # Compute the Wasserstein distance\n",
    "                distance = wasserstein_distance(traj_i, traj_j)\n",
    "                \n",
    "                # Store the distance in the result array\n",
    "                wasserstein_matrix[i, j] = distance\n",
    "                wasserstein_matrix[j, i] = distance  # Symmetric matrix\n",
    "        \n",
    "        return wasserstein_matrix\n",
    "\n",
    "\n",
    "    def exp_update(self, dist, affective_range):\n",
    "        return np.exp(- dist / affective_range)\n",
    "\n",
    "    def repel_constant_update(self, plus_mask, minus_mask):\n",
    "        # 排斥重来没有连接过的\n",
    "        '''\n",
    "            return: (N, N, D)\n",
    "        '''\n",
    "        self.history_repel += minus_mask\n",
    "        self.history_repel[plus_mask] = 0\n",
    "        self.history_repel = np.minimum(self.history_repel, 1000)\n",
    "        return self.history_repel[:,:,np.newaxis]/1000\n",
    "\n",
    "    # def similar_trajectory_update(self, ):\n",
    "    #     length_of_log = len(self.fit_log)\n",
    "    #     if length_of_log < 10_000:\n",
    "    #         return np.zeros((self.input_size, self.input_size)) < -1  # need false here\n",
    "    #     elif length_of_log % 10_000 == 0:\n",
    "    #         trajectory = np.asarray(self.fit_log[-10_000:])\n",
    "    #         self.similar_attract_idx = self.compute_wasserstein_distances(trajectory)\n",
    "    #         return self.similar_attract_idx<1\n",
    "    #     else:\n",
    "    #         return np.zeros((self.input_size, self.input_size)) < -1\n",
    "        \n",
    "    def compute_update(self, syncmap_previous, vplus, vminus):\n",
    "        last_update_plus = None\n",
    "        all2all_distance = self.calculate_pairwise_distances(syncmap_previous)  # (N, N)\n",
    "        all_coordinate_diff = syncmap_previous[np.newaxis, :, :] - syncmap_previous[:, np.newaxis, :]  # 这个方向代表了排斥\n",
    "        \n",
    "        with np.errstate(divide='ignore', invalid='ignore'):\n",
    "            all_coordinate_diff_sin_cos = np.nan_to_num(all_coordinate_diff / all2all_distance[:, :, np.newaxis] ** 1, nan=0)  # ** 2是为了引入距离关系， ** 1仅仅是方向向量 （N, N, D）\n",
    "        # 在sum之前乘以系数可以为每个variable的排斥力加权； \n",
    "\n",
    "\n",
    "\n",
    "        # distance weighted plus update\n",
    "        plus_mask  = (vplus[:, np.newaxis] @ vplus[np.newaxis, :])  # 防止正向对负向产生影响\n",
    "        update_plus = -all_coordinate_diff_sin_cos.copy() * (\n",
    "            1 + self.plus_exp_factor * self.exp_update(  # WARNING!\n",
    "            all2all_distance.copy()[:, :, np.newaxis], self.attract_range))  # 由于`all_coordinate_diff`表明的原始方向是排斥的，所以这里是负号\n",
    "        update_plus[~plus_mask] = 0\n",
    "        update_plus = update_plus.sum(axis=0)\n",
    "\n",
    "\n",
    "\n",
    "        # distance weighted minus update\n",
    "        minus_mask = (vminus[:, np.newaxis] @ vminus[np.newaxis, :])  \n",
    "        update_minus = all_coordinate_diff_sin_cos.copy() * (self.exp_update(\n",
    "            all2all_distance.copy()[:, :, np.newaxis], self.repel_range) + self.repel_constant_update(plus_mask, minus_mask))\n",
    "        update_minus[~minus_mask] = 0  # ~minus_mask: 所有含有正向的variables update全部置零\n",
    "        update_minus = update_minus.sum(axis=0)\n",
    "\n",
    "\n",
    "        # # last activity update\n",
    "        # if (self.last_activity is not None) and np.all(self.last_activity != vplus):\n",
    "        #     last_plus_mask = (self.last_activity[:, np.newaxis] @ self.last_activity[np.newaxis, :])\n",
    "        #     last_update_plus = -all_coordinate_diff_sin_cos.copy() * (\n",
    "        #         self.last_activity_factor  + self.plus_exp_factor * self.exp_update(\n",
    "        #         all2all_distance.copy()[:, :, np.newaxis], self.attract_range))\n",
    "        #     last_update_plus[~last_plus_mask] = 0\n",
    "        #     last_update_plus = last_update_plus.sum(axis=0)\n",
    "\n",
    "        #     update_plus += last_update_plus\n",
    "\n",
    "\n",
    "\n",
    "        # update_minus = all_coordinate_diff_sin_cos.copy() * self.exp_update(\n",
    "        #     all2all_distance.copy()[:, :, np.newaxis], self.repel_range) * (1+ self.repel_constant_update(plus_mask, minus_mask))\n",
    "\n",
    "        # self.exp_update: distance weighted update\n",
    "        # self.repel_constant_update: continuous repel update\n",
    "\n",
    "        \n",
    "        \n",
    "        # TODO: 吸引累积叠加，如果负向连成一条线怎么避免五星连珠效应？\n",
    "\n",
    "\n",
    "        # similar_value_mask = np.broadcast_to(self.similar_trajectory_update()[..., np.newaxis], (self.input_size, self.input_size, self.dimensions))  #\n",
    "\n",
    "        # update_similar_plus = -all_coordinate_diff_sin_cos.copy() # * self.exp_update(all2all_distance.copy()[:, :, np.newaxis], self.attract_range)\n",
    "\n",
    "\n",
    "\n",
    "        \n",
    "        # update_similar_plus[~similar_value_mask] = 0\n",
    "\n",
    "\n",
    "        # mask = np.broadcast_to((all2all_distance>0.5 & vminus[:, np.newaxis])[..., np.newaxis], (all2all_distance[0], all2all_distance[1], self.dimensions) ) # N, N, D\n",
    "        # all_coordinate_diff_sin_cos[mask] = 0\n",
    "\n",
    "        # all_coordinate_diff_sin_cos = all_coordinate_diff_sin_cos.sum(axis=0)\n",
    "        \n",
    "        \n",
    "        # update_similar_plus = update_similar_plus.sum(axis=0)\n",
    "        \n",
    "        # update_plus += self.trajectory_attract * update_similar_plus\n",
    "        return self.plus_factor * update_plus, self.minus_factor * update_minus\n",
    "\n",
    "\n",
    "\n",
    "    def one_step_organize(self, vplus, vminus):\n",
    "        syncmap_previous = self.syncmap.copy()\n",
    "        syncmap_previous += np.random.normal(-1e-5, 1e-5, syncmap_previous.shape)\n",
    "        center_plus  = self.get_center(vplus, syncmap_previous)\n",
    "        center_minus = self.get_center(vminus, syncmap_previous)\n",
    "        \n",
    "        if center_plus is None or center_minus is None:\n",
    "            return None\n",
    "\n",
    "\n",
    "        # UPDATE BY USING ALL-TO-ALL\n",
    "        update_plus, update_minus = self.compute_update(syncmap_previous, vplus, vminus)\n",
    "        update_value = update_plus + update_minus  # 确实是加号\n",
    "        new_syncmap = self.syncmap.copy()\n",
    "        new_syncmap += self.adaptation_rate * update_value\n",
    "\n",
    "        # new_syncmap = (new_syncmap - new_syncmap.mean()) / (new_syncmap.std() + 1e-12) \n",
    "        # new_syncmap = self.max_move_distance_test(syncmap_previous, new_syncmap, vplus, vminus, center_plus, center_minus, dist_plus, dist_minus)\n",
    "\n",
    "        # new_syncmap = new_syncmap / np.abs(new_syncmap).max()\n",
    "\n",
    "        self.fit_log.append(new_syncmap)\n",
    "        return new_syncmap\n"
   ]
  },
  {
   "cell_type": "code",
   "execution_count": null,
   "metadata": {},
   "outputs": [
    {
     "name": "stdout",
     "output_type": "stream",
     "text": [
      "Adaptation rate: 0.0004\n"
     ]
    }
   ],
   "source": [
    "# initialize the environment\n",
    "time_delay = 10\n",
    "env = OverlapChunkTest1(time_delay)\n",
    "output_size = env.getOutputSize()\n",
    "output_size\n",
    "\n",
    "# sequence_length = int(1000000) # True TEST\n",
    "sequence_length = int(10000)  #  accuracy\n",
    "\n",
    "####### SyncMap #####\n",
    "number_of_nodes= output_size\n",
    "adaptation_rate= 0.00005*output_size  # original\n",
    "# adaptation_rate= 0.0005*output_size\n",
    "print(\"Adaptation rate:\", adaptation_rate)\n",
    "map_dimensions= 2\n",
    "neuron_group= NodeSyncMap(number_of_nodes, map_dimensions, adaptation_rate)\n",
    "input_sequence, input_class = env.getSequence(sequence_length)"
   ]
  },
  {
   "cell_type": "code",
   "execution_count": null,
   "metadata": {},
   "outputs": [],
   "source": [
    "# neuron_group.history_repel"
   ]
  },
  {
   "cell_type": "code",
   "execution_count": null,
   "metadata": {},
   "outputs": [
    {
     "name": "stderr",
     "output_type": "stream",
     "text": [
      "100%|██████████| 1000000/1000000 [00:36<00:00, 27240.81it/s]"
     ]
    },
    {
     "name": "stdout",
     "output_type": "stream",
     "text": [
      "Learned Labels:  [0 0 0 1 1 2 2 2]\n",
      "Correct Labels:  [0 0 0 1 1 2 2 2]\n"
     ]
    },
    {
     "name": "stderr",
     "output_type": "stream",
     "text": [
      "\n"
     ]
    }
   ],
   "source": [
    "neuron_group.fit(input_sequence)\n",
    "labels= neuron_group.cluster()\n",
    "\n",
    "print(\"Learned Labels: \",labels)\n",
    "print(\"Correct Labels: \",env.trueLabel())"
   ]
  },
  {
   "cell_type": "code",
   "execution_count": null,
   "metadata": {},
   "outputs": [
    {
     "data": {
      "application/vnd.plotly.v1+json": {
       "config": {
        "plotlyServerURL": "https://plot.ly"
       },
       "data": [
        {
         "marker": {
          "color": [
           "red",
           "red",
           "red",
           "blue",
           "blue",
           "green",
           "green",
           "green"
          ]
         },
         "mode": "markers",
         "type": "scatter",
         "x": [
          0.3741536679792322,
          0.7320604403319543,
          0.155947082130377,
          0.05847006303632974,
          0.6011237893108657,
          0.02053308572084511,
          0.8325100064290712,
          0.18180529237726173
         ],
         "y": [
          0.9506110798313554,
          0.5986784516418973,
          0.15592025947269267,
          0.866279372353496,
          0.7081378836916343,
          0.969970823655791,
          0.21228568740114676,
          0.18338594915982695
         ]
        }
       ],
       "frames": [
        {
         "data": [
          {
           "marker": {
            "color": [
             "red",
             "red",
             "red",
             "blue",
             "blue",
             "green",
             "green",
             "green"
            ]
           },
           "mode": "markers",
           "type": "scatter",
           "x": [
            0.3741536679792322,
            0.7320604403319543,
            0.155947082130377,
            0.05847006303632974,
            0.6011237893108657,
            0.02053308572084511,
            0.8325100064290712,
            0.18180529237726173
           ],
           "y": [
            0.9506110798313554,
            0.5986784516418973,
            0.15592025947269267,
            0.866279372353496,
            0.7081378836916343,
            0.969970823655791,
            0.21228568740114676,
            0.18338594915982695
           ]
          }
         ],
         "name": "0"
        },
        {
         "data": [
          {
           "marker": {
            "color": [
             "red",
             "red",
             "red",
             "blue",
             "blue",
             "green",
             "green",
             "green"
            ]
           },
           "mode": "markers",
           "type": "scatter",
           "x": [
            0.5287104709620806,
            0.7693773079093043,
            -0.2657182986746976,
            0.3958551330672603,
            0.39558141631878485,
            -0.24944526313800133,
            1.0499800741962197,
            0.33226258667500247
           ],
           "y": [
            1.2586228562764594,
            0.808260116763414,
            -0.13942304062648825,
            0.6496851212211134,
            0.6491600643100122,
            1.093295349541225,
            0.05970800842399809,
            0.26596103129810517
           ]
          }
         ],
         "name": "1"
        },
        {
         "data": [
          {
           "marker": {
            "color": [
             "red",
             "red",
             "red",
             "blue",
             "blue",
             "green",
             "green",
             "green"
            ]
           },
           "mode": "markers",
           "type": "scatter",
           "x": [
            0.5660930754370828,
            0.9228557900644586,
            -0.4665547113659906,
            0.4359751628261671,
            0.4381317314852838,
            -0.4014439097577012,
            1.1818759159593333,
            0.27967037266729544
           ],
           "y": [
            1.3899507946378264,
            1.06929958356123,
            -0.3293646352617821,
            0.6677683424952294,
            0.6595241693468022,
            1.1774864105373761,
            -0.091196918055682,
            0.10180175994683294
           ]
          }
         ],
         "name": "2"
        },
        {
         "data": [
          {
           "marker": {
            "color": [
             "red",
             "red",
             "red",
             "blue",
             "blue",
             "green",
             "green",
             "green"
            ]
           },
           "mode": "markers",
           "type": "scatter",
           "x": [
            0.6647842639260273,
            1.014362291974701,
            -0.4563491022099802,
            0.46005737187317836,
            0.46036005609374236,
            -0.6981470758378959,
            1.084247632136897,
            0.4272879893592518
           ],
           "y": [
            1.4797029305929645,
            1.175077832712445,
            -0.3912036169643148,
            0.6006905026850989,
            0.5644924794326546,
            1.279365489114321,
            -0.19104236128700697,
            0.12818625092166594
           ]
          }
         ],
         "name": "3"
        },
        {
         "data": [
          {
           "marker": {
            "color": [
             "red",
             "red",
             "red",
             "blue",
             "blue",
             "green",
             "green",
             "green"
            ]
           },
           "mode": "markers",
           "type": "scatter",
           "x": [
            0.6483620172598633,
            1.043615306005289,
            -0.5928889905407652,
            0.4494774954291528,
            0.45124451629305534,
            -0.6694200256272663,
            1.1767873640246407,
            0.449425744471955
           ],
           "y": [
            1.4841773053060139,
            1.2619145984073565,
            -0.4150456813345011,
            0.6251478892528831,
            0.6270387034970641,
            1.2181901539043434,
            -0.30613176144748677,
            0.1499782996221566
           ]
          }
         ],
         "name": "4"
        },
        {
         "data": [
          {
           "marker": {
            "color": [
             "red",
             "red",
             "red",
             "blue",
             "blue",
             "green",
             "green",
             "green"
            ]
           },
           "mode": "markers",
           "type": "scatter",
           "x": [
            0.6639277684346395,
            0.9508643395320396,
            -0.6832757499776853,
            0.42999924899714664,
            0.4500015565126551,
            -0.5143741216777384,
            1.2037991328856443,
            0.45566125260923673
           ],
           "y": [
            1.6802776732555949,
            1.282986472810651,
            -0.39600970571311767,
            0.6887862693599778,
            0.6336630546237259,
            1.0591178287319343,
            -0.436069611012581,
            0.13251752515164483
           ]
          }
         ],
         "name": "5"
        },
        {
         "data": [
          {
           "marker": {
            "color": [
             "red",
             "red",
             "red",
             "blue",
             "blue",
             "green",
             "green",
             "green"
            ]
           },
           "mode": "markers",
           "type": "scatter",
           "x": [
            0.693791988750014,
            0.971679420923951,
            -0.7333045640111643,
            0.45984428622559437,
            0.45723435724621125,
            -0.6368231348273399,
            1.2318845320658582,
            0.5122965409428247
           ],
           "y": [
            1.8522069458475485,
            1.2685495824310646,
            -0.34445108494780874,
            0.5939038690019101,
            0.581958724561374,
            1.003457774309452,
            -0.48681784497560887,
            0.17646154097988886
           ]
          }
         ],
         "name": "6"
        },
        {
         "data": [
          {
           "marker": {
            "color": [
             "red",
             "red",
             "red",
             "blue",
             "blue",
             "green",
             "green",
             "green"
            ]
           },
           "mode": "markers",
           "type": "scatter",
           "x": [
            0.6919003657272473,
            1.0121980938424249,
            -0.8188600738299506,
            0.42973177351226965,
            0.4528623112037247,
            -0.6464830609460749,
            1.241099157220918,
            0.5941548605853879
           ],
           "y": [
            1.993704186077211,
            1.3569344684502342,
            -0.3341239428312143,
            0.5992966582766347,
            0.6064501346837897,
            0.9809174642387003,
            -0.5073710437469886,
            -0.050538417940542035
           ]
          }
         ],
         "name": "7"
        },
        {
         "data": [
          {
           "marker": {
            "color": [
             "red",
             "red",
             "red",
             "blue",
             "blue",
             "green",
             "green",
             "green"
            ]
           },
           "mode": "markers",
           "type": "scatter",
           "x": [
            0.6755205179626087,
            0.9022018025695521,
            -0.8763363523841669,
            0.4506439744351561,
            0.4491998912840989,
            -0.4182389520100009,
            1.1444755242761426,
            0.6291370211825663
           ],
           "y": [
            1.830563589825775,
            1.443181303586245,
            -0.2025017545007174,
            0.6229286401507493,
            0.62664180669945,
            0.813103504538522,
            -0.38866219840182886,
            -0.09998538469035609
           ]
          }
         ],
         "name": "8"
        },
        {
         "data": [
          {
           "marker": {
            "color": [
             "red",
             "red",
             "red",
             "blue",
             "blue",
             "green",
             "green",
             "green"
            ]
           },
           "mode": "markers",
           "type": "scatter",
           "x": [
            0.5661253449537849,
            0.9171982523544451,
            -0.9083257680962272,
            0.382005641623864,
            0.3816080852104319,
            -0.21944267746281335,
            1.2074943394209614,
            0.6299402093114971
           ],
           "y": [
            1.8096040797215753,
            1.6030507074919573,
            0.026964357528565127,
            0.6049464174778973,
            0.6062269492516825,
            0.5988787141702273,
            -0.45857985624918196,
            -0.14582186218487594
           ]
          }
         ],
         "name": "9"
        },
        {
         "data": [
          {
           "marker": {
            "color": [
             "red",
             "red",
             "red",
             "blue",
             "blue",
             "green",
             "green",
             "green"
            ]
           },
           "mode": "markers",
           "type": "scatter",
           "x": [
            0.41964858632937097,
            0.9319271229029923,
            -0.9848832245841489,
            0.3849981452900352,
            0.39691429778138404,
            -0.04719838930814062,
            1.1413830439186508,
            0.7138138449857944
           ],
           "y": [
            1.7979938609527133,
            1.8293452001233947,
            0.21661439681766514,
            0.5939470090799278,
            0.584844857096683,
            0.41116915945740345,
            -0.5250613073540563,
            -0.2635836689658791
           ]
          }
         ],
         "name": "10"
        },
        {
         "data": [
          {
           "marker": {
            "color": [
             "red",
             "red",
             "red",
             "blue",
             "blue",
             "green",
             "green",
             "green"
            ]
           },
           "mode": "markers",
           "type": "scatter",
           "x": [
            0.2753573750800002,
            0.936307331112153,
            -0.9657600920354127,
            0.3607597471432823,
            0.36320101414442857,
            0.147735005410856,
            1.0744372896752796,
            0.7645657567853503
           ],
           "y": [
            1.755049476591917,
            2.084038341415386,
            0.5494901532581542,
            0.5307565434331504,
            0.5333606825827881,
            0.117139519411411,
            -0.4358532108120643,
            -0.4887119986728847
           ]
          }
         ],
         "name": "11"
        },
        {
         "data": [
          {
           "marker": {
            "color": [
             "red",
             "red",
             "red",
             "blue",
             "blue",
             "green",
             "green",
             "green"
            ]
           },
           "mode": "markers",
           "type": "scatter",
           "x": [
            0.2198430028555831,
            0.7660421106967997,
            -1.0212361900168325,
            0.3811096492022375,
            0.38139272286576026,
            0.28016770315595796,
            1.2072850501321146,
            0.7419993784243156
           ],
           "y": [
            1.8218517970805408,
            2.1718047467165005,
            0.8446073352202232,
            0.5391369099741541,
            0.5385459559581152,
            -0.08583425489396432,
            -0.6169793072854944,
            -0.5678636755622123
           ]
          }
         ],
         "name": "12"
        },
        {
         "data": [
          {
           "marker": {
            "color": [
             "red",
             "red",
             "red",
             "blue",
             "blue",
             "green",
             "green",
             "green"
            ]
           },
           "mode": "markers",
           "type": "scatter",
           "x": [
            0.06696192239070684,
            0.6833684946975771,
            -0.8884231878039524,
            0.3732935668069117,
            0.37567784063989457,
            0.3968204536808469,
            1.186133160083965,
            0.7627711768199863
           ],
           "y": [
            1.9636801229846064,
            2.2590047106958107,
            1.0708624250476841,
            0.48479218164321863,
            0.48012756816866287,
            -0.24920356647488962,
            -0.6373520000128583,
            -0.726641934844377
           ]
          }
         ],
         "name": "13"
        },
        {
         "data": [
          {
           "marker": {
            "color": [
             "red",
             "red",
             "red",
             "blue",
             "blue",
             "green",
             "green",
             "green"
            ]
           },
           "mode": "markers",
           "type": "scatter",
           "x": [
            -0.12359797972519342,
            0.6313093111268099,
            -0.624273185297673,
            0.3233525011298536,
            0.32393087265716847,
            0.4357489954885864,
            1.181056641978516,
            0.809076269957883
           ],
           "y": [
            2.1777482843517206,
            2.282571704360624,
            1.1654590008236525,
            0.5270886870154895,
            0.5230970631703319,
            -0.38537953578954703,
            -0.6617901344204622,
            -0.9835255623039736
           ]
          }
         ],
         "name": "14"
        },
        {
         "data": [
          {
           "marker": {
            "color": [
             "red",
             "red",
             "red",
             "blue",
             "blue",
             "green",
             "green",
             "green"
            ]
           },
           "mode": "markers",
           "type": "scatter",
           "x": [
            -0.20245454256728465,
            0.5520899286705216,
            -0.6653391949606464,
            0.34472048146974144,
            0.3448560836743246,
            0.5087404542612671,
            1.2862073158225833,
            0.7877829009454396
           ],
           "y": [
            2.3884555429312027,
            2.2967107605621444,
            1.3760864415908145,
            0.5555123775231569,
            0.5276369203717416,
            -0.6827236724977899,
            -0.8437511101593341,
            -0.9726577531140905
           ]
          }
         ],
         "name": "15"
        },
        {
         "data": [
          {
           "marker": {
            "color": [
             "red",
             "red",
             "red",
             "blue",
             "blue",
             "green",
             "green",
             "green"
            ]
           },
           "mode": "markers",
           "type": "scatter",
           "x": [
            -0.21575717378408565,
            0.4739620803376643,
            -0.6330482815137806,
            0.3358473909465816,
            0.3396864040280842,
            0.5121038500113734,
            1.331665360577441,
            0.8121437967126706
           ],
           "y": [
            2.2837814495056152,
            2.4680927051554784,
            1.5281316823782698,
            0.5793716497904136,
            0.5923464056568805,
            -0.7821182558720419,
            -0.9661718624424902,
            -1.0581642669643143
           ]
          }
         ],
         "name": "16"
        },
        {
         "data": [
          {
           "marker": {
            "color": [
             "red",
             "red",
             "red",
             "blue",
             "blue",
             "green",
             "green",
             "green"
            ]
           },
           "mode": "markers",
           "type": "scatter",
           "x": [
            -0.25292236164651416,
            0.4285401938814999,
            -0.6296267870624013,
            0.3617624764077018,
            0.34696826293757865,
            0.595433968207074,
            1.2652637512629845,
            0.8411839233280309
           ],
           "y": [
            2.2311166573356376,
            2.4243460770749232,
            1.729811322169323,
            0.5509966653628209,
            0.618241767293936,
            -0.8256674757256609,
            -0.9622595752408256,
            -1.1213159310623146
           ]
          }
         ],
         "name": "17"
        },
        {
         "data": [
          {
           "marker": {
            "color": [
             "red",
             "red",
             "red",
             "blue",
             "blue",
             "green",
             "green",
             "green"
            ]
           },
           "mode": "markers",
           "type": "scatter",
           "x": [
            -0.34437783450781534,
            0.38681096990996877,
            -0.5055289300312736,
            0.3487933124602199,
            0.346675052228866,
            0.5815995210461686,
            1.2706805181399667,
            0.8719508180698602
           ],
           "y": [
            2.2486633653440418,
            2.678691443318221,
            1.7715071145630386,
            0.5652366378644917,
            0.5747045392897977,
            -0.9847221054682059,
            -0.983185884029646,
            -1.2256256036739026
           ]
          }
         ],
         "name": "18"
        },
        {
         "data": [
          {
           "marker": {
            "color": [
             "red",
             "red",
             "red",
             "blue",
             "blue",
             "green",
             "green",
             "green"
            ]
           },
           "mode": "markers",
           "type": "scatter",
           "x": [
            -0.2699258400595416,
            0.31530386280088996,
            -0.5591444778279041,
            0.3546975763593828,
            0.3550639003629408,
            0.5678554484614401,
            1.2679682545857338,
            0.9247847026330264
           ],
           "y": [
            2.2924777844396513,
            2.8920592962759506,
            1.8025765632154949,
            0.5203295461051908,
            0.5231341894391401,
            -1.0251521036208573,
            -1.0523358806760639,
            -1.3078198879706553
           ]
          }
         ],
         "name": "19"
        },
        {
         "data": [
          {
           "marker": {
            "color": [
             "red",
             "red",
             "red",
             "blue",
             "blue",
             "green",
             "green",
             "green"
            ]
           },
           "mode": "markers",
           "type": "scatter",
           "x": [
            -0.2883935955475874,
            0.22397831067748433,
            -0.5237921908800562,
            0.33551684642122537,
            0.3386420278485439,
            0.61962964453814,
            1.3614146400206835,
            0.8896077442375301
           ],
           "y": [
            2.3327858242808115,
            2.8920290486668105,
            1.9470472272110328,
            0.5383924255767852,
            0.5198125438707304,
            -0.9807091184554736,
            -1.1988549628730476,
            -1.405233481069788
           ]
          }
         ],
         "name": "20"
        },
        {
         "data": [
          {
           "marker": {
            "color": [
             "red",
             "red",
             "red",
             "blue",
             "blue",
             "green",
             "green",
             "green"
            ]
           },
           "mode": "markers",
           "type": "scatter",
           "x": [
            -0.26940374642764753,
            0.16120870625126055,
            -0.5255067313406081,
            0.3659830435957034,
            0.36651354012439274,
            0.5988854103696432,
            1.297367664809607,
            0.9615555399336057
           ],
           "y": [
            2.449599826306609,
            2.911700643026841,
            1.9651669047752127,
            0.5327705261509115,
            0.5275660045985459,
            -1.2191968180756196,
            -1.1642131538516909,
            -1.3581244257229488
           ]
          }
         ],
         "name": "21"
        },
        {
         "data": [
          {
           "marker": {
            "color": [
             "red",
             "red",
             "red",
             "blue",
             "blue",
             "green",
             "green",
             "green"
            ]
           },
           "mode": "markers",
           "type": "scatter",
           "x": [
            -0.2649008641878077,
            0.0701924725898001,
            -0.44819562290792725,
            0.33504554891617405,
            0.3690215860043677,
            0.5912809322687527,
            1.3482514462298145,
            0.9559079284027817
           ],
           "y": [
            2.4170760129172573,
            3.0876696139796924,
            1.99505124988205,
            0.5684344162889079,
            0.4755610653764434,
            -1.1708807843827456,
            -1.1952548451849474,
            -1.5323872216687715
           ]
          }
         ],
         "name": "22"
        },
        {
         "data": [
          {
           "marker": {
            "color": [
             "red",
             "red",
             "red",
             "blue",
             "blue",
             "green",
             "green",
             "green"
            ]
           },
           "mode": "markers",
           "type": "scatter",
           "x": [
            -0.28250762995243744,
            0.012753782543320746,
            -0.4328086385606527,
            0.3599280541684908,
            0.35880423958539986,
            0.6219130942644139,
            1.3311768028145954,
            0.9873437224528326
           ],
           "y": [
            2.422993451980382,
            3.1550415890914256,
            2.130290979530344,
            0.5440244121880283,
            0.5394662897421225,
            -1.291020167003616,
            -1.1999609260519002,
            -1.6555661222688969
           ]
          }
         ],
         "name": "23"
        },
        {
         "data": [
          {
           "marker": {
            "color": [
             "red",
             "red",
             "red",
             "blue",
             "blue",
             "green",
             "green",
             "green"
            ]
           },
           "mode": "markers",
           "type": "scatter",
           "x": [
            -0.31048378061219367,
            -0.029075436704071693,
            -0.49139250489241376,
            0.37015414903486343,
            0.3651600720883441,
            0.6431639005669255,
            1.437110463393852,
            0.971966564440655
           ],
           "y": [
            2.6653968597479767,
            3.098491880201493,
            2.2393844504385827,
            0.5059041046855469,
            0.4871740804813604,
            -1.259300440395109,
            -1.4548938330220496,
            -1.6368875949298893
           ]
          }
         ],
         "name": "24"
        },
        {
         "data": [
          {
           "marker": {
            "color": [
             "red",
             "red",
             "red",
             "blue",
             "blue",
             "green",
             "green",
             "green"
            ]
           },
           "mode": "markers",
           "type": "scatter",
           "x": [
            -0.3699768101137405,
            -0.011045489251291934,
            -0.4995029017044145,
            0.3707854408713166,
            0.371680682959093,
            0.6923479404152283,
            1.3878648843259151,
            1.0144496798138627
           ],
           "y": [
            2.6852356130807835,
            3.1958514514681644,
            2.254022160397318,
            0.517874116577024,
            0.5147202318158166,
            -1.2591198567097832,
            -1.4893991584117277,
            -1.7739150510097208
           ]
          }
         ],
         "name": "25"
        },
        {
         "data": [
          {
           "marker": {
            "color": [
             "red",
             "red",
             "red",
             "blue",
             "blue",
             "green",
             "green",
             "green"
            ]
           },
           "mode": "markers",
           "type": "scatter",
           "x": [
            -0.34420232569345427,
            -0.04696445870309771,
            -0.5143098698502934,
            0.3776268478611183,
            0.3777329032977998,
            0.6932832769254174,
            1.3682627142737815,
            1.0451743392047108
           ],
           "y": [
            2.712797734112381,
            3.0804564570233723,
            2.3953311845176724,
            0.5418420859292501,
            0.5425534406505805,
            -1.3783015108321146,
            -1.4587241092868055,
            -1.7906857749064495
           ]
          }
         ],
         "name": "26"
        },
        {
         "data": [
          {
           "marker": {
            "color": [
             "red",
             "red",
             "red",
             "blue",
             "blue",
             "green",
             "green",
             "green"
            ]
           },
           "mode": "markers",
           "type": "scatter",
           "x": [
            -0.45801462758432937,
            -0.042925987935482524,
            -0.4147516944416883,
            0.3478027954972665,
            0.34553206027624656,
            0.7086643420953878,
            1.3846983783304525,
            1.0855981610781509
           ],
           "y": [
            2.8550196705460515,
            3.214395287907101,
            2.2432728499476644,
            0.6135962410054427,
            0.6196953163797418,
            -1.4148788500745655,
            -1.4951208818476973,
            -1.9907101266558525
           ]
          }
         ],
         "name": "27"
        },
        {
         "data": [
          {
           "marker": {
            "color": [
             "red",
             "red",
             "red",
             "blue",
             "blue",
             "green",
             "green",
             "green"
            ]
           },
           "mode": "markers",
           "type": "scatter",
           "x": [
            -0.4308584586298198,
            -0.08094450532016968,
            -0.43541428291590245,
            0.3626135789504335,
            0.3588041654669457,
            0.6743963793506665,
            1.4223846878726856,
            1.0856218625411522
           ],
           "y": [
            2.747033085203105,
            3.2799540316240594,
            2.390754072419307,
            0.5614480733424944,
            0.5796576682237113,
            -1.3997201018784888,
            -1.5015427031660993,
            -2.0123146185601803
           ]
          }
         ],
         "name": "28"
        },
        {
         "data": [
          {
           "marker": {
            "color": [
             "red",
             "red",
             "red",
             "blue",
             "blue",
             "green",
             "green",
             "green"
            ]
           },
           "mode": "markers",
           "type": "scatter",
           "x": [
            -0.4510948637161507,
            -0.033903504408404526,
            -0.4869675272285804,
            0.3441171576671526,
            0.33987481938355596,
            0.704127467542383,
            1.461353939899801,
            1.0790959381762462
           ],
           "y": [
            2.7492942020056126,
            3.330582371692138,
            2.373454745003015,
            0.6119594820179636,
            0.6313825007322044,
            -1.351318797522912,
            -1.4994157042859286,
            -2.2006692924341675
           ]
          }
         ],
         "name": "29"
        },
        {
         "data": [
          {
           "marker": {
            "color": [
             "red",
             "red",
             "red",
             "blue",
             "blue",
             "green",
             "green",
             "green"
            ]
           },
           "mode": "markers",
           "type": "scatter",
           "x": [
            -0.4487130350024422,
            -0.04717951667227427,
            -0.4989706565046427,
            0.3732166614419242,
            0.3634323694238153,
            0.7112834402149777,
            1.4132572690474228,
            1.0902768953672295
           ],
           "y": [
            2.7448155277099113,
            3.2467251504503123,
            2.5191126714366696,
            0.5676158515406516,
            0.619718047237005,
            -1.4347324563007617,
            -1.35725519977216,
            -2.2607300850936767
           ]
          }
         ],
         "name": "30"
        },
        {
         "data": [
          {
           "marker": {
            "color": [
             "red",
             "red",
             "red",
             "blue",
             "blue",
             "green",
             "green",
             "green"
            ]
           },
           "mode": "markers",
           "type": "scatter",
           "x": [
            -0.46416913429260886,
            -0.03976521137934072,
            -0.49328682963286474,
            0.34636528457373483,
            0.3618751525566294,
            0.76019321558668,
            1.4451198841624744,
            1.040271065741319
           ],
           "y": [
            2.8256719037937303,
            3.1784096806931537,
            2.4677104091218394,
            0.6098251806237064,
            0.5701420149320333,
            -1.389267370980713,
            -1.5174653200039592,
            -2.0997569909718417
           ]
          }
         ],
         "name": "31"
        },
        {
         "data": [
          {
           "marker": {
            "color": [
             "red",
             "red",
             "red",
             "blue",
             "blue",
             "green",
             "green",
             "green"
            ]
           },
           "mode": "markers",
           "type": "scatter",
           "x": [
            -0.5429955006471392,
            -0.017050073710357695,
            -0.419377293602007,
            0.3298966037467172,
            0.33876374599237047,
            0.7279867676835391,
            1.4959457045232067,
            1.0434334733297086
           ],
           "y": [
            2.81398978091442,
            3.338130131211364,
            2.333581484933712,
            0.6225468415274426,
            0.5893053358823109,
            -1.3183467425082531,
            -1.6202956426101598,
            -2.113641682142881
           ]
          }
         ],
         "name": "32"
        },
        {
         "data": [
          {
           "marker": {
            "color": [
             "red",
             "red",
             "red",
             "blue",
             "blue",
             "green",
             "green",
             "green"
            ]
           },
           "mode": "markers",
           "type": "scatter",
           "x": [
            -0.5067108190152549,
            -0.09197545183784604,
            -0.35745645898575695,
            0.3142487748869847,
            0.32731114988973287,
            0.7478441583537275,
            1.4706158702142142,
            1.0527262038102132
           ],
           "y": [
            2.7060937151943736,
            3.4589274593833053,
            2.362373177771537,
            0.6677969119543131,
            0.6160530981855549,
            -1.519170294597935,
            -1.6749864369459422,
            -1.9718181237372447
           ]
          }
         ],
         "name": "33"
        },
        {
         "data": [
          {
           "marker": {
            "color": [
             "red",
             "red",
             "red",
             "blue",
             "blue",
             "green",
             "green",
             "green"
            ]
           },
           "mode": "markers",
           "type": "scatter",
           "x": [
            -0.5244698630043476,
            -0.16101820992011942,
            -0.3580174804533517,
            0.3451784299085786,
            0.34527731215008767,
            0.7332691094409743,
            1.517342098741164,
            1.0590420304530228
           ],
           "y": [
            2.8760957840817283,
            3.5752733379824613,
            2.3935160328743144,
            0.5697445894282006,
            0.5657964008439421,
            -1.4940570461763842,
            -1.6381621348975755,
            -2.2029374569286957
           ]
          }
         ],
         "name": "34"
        },
        {
         "data": [
          {
           "marker": {
            "color": [
             "red",
             "red",
             "red",
             "blue",
             "blue",
             "green",
             "green",
             "green"
            ]
           },
           "mode": "markers",
           "type": "scatter",
           "x": [
            -0.5295979012742676,
            -0.192250271992803,
            -0.34457283792842497,
            0.3386683201034308,
            0.34739734803565964,
            0.787202423364698,
            1.4729648296307138,
            1.0767915173770117
           ],
           "y": [
            2.8813047593478753,
            3.525652501689477,
            2.500800792729774,
            0.6031453210036177,
            0.5876800492381171,
            -1.4893212183706934,
            -1.6533417652501812,
            -2.310650933179984
           ]
          }
         ],
         "name": "35"
        },
        {
         "data": [
          {
           "marker": {
            "color": [
             "red",
             "red",
             "red",
             "blue",
             "blue",
             "green",
             "green",
             "green"
            ]
           },
           "mode": "markers",
           "type": "scatter",
           "x": [
            -0.6314303518848261,
            -0.15335757193404587,
            -0.3016095191402438,
            0.35681323689176186,
            0.3563740511235539,
            0.8025691120574712,
            1.4576122552911797,
            1.06963221491118
           ],
           "y": [
            3.005059006945561,
            3.5136887545780975,
            2.424660997276071,
            0.5654187409493365,
            0.5716615089991541,
            -1.6019862139215078,
            -1.6677318721921135,
            -2.1655014154266223
           ]
          }
         ],
         "name": "36"
        },
        {
         "data": [
          {
           "marker": {
            "color": [
             "red",
             "red",
             "red",
             "blue",
             "blue",
             "green",
             "green",
             "green"
            ]
           },
           "mode": "markers",
           "type": "scatter",
           "x": [
            -0.581274400252191,
            -0.20596758484706168,
            -0.2788990842165928,
            0.35245568091024776,
            0.3522860422978873,
            0.8131453319055507,
            1.4445144722860235,
            1.060342969232153
           ],
           "y": [
            2.9241686622432055,
            3.4546991376152865,
            2.5194014052966676,
            0.5690084720043761,
            0.5752690409819669,
            -1.5640625221254114,
            -1.7046249428364655,
            -2.1285897459716385
           ]
          }
         ],
         "name": "37"
        },
        {
         "data": [
          {
           "marker": {
            "color": [
             "red",
             "red",
             "red",
             "blue",
             "blue",
             "green",
             "green",
             "green"
            ]
           },
           "mode": "markers",
           "type": "scatter",
           "x": [
            -0.6490835136709283,
            -0.20395655622258507,
            -0.23110741349576125,
            0.3537019919046345,
            0.36137877556150644,
            0.7164302748649666,
            1.5851026261164247,
            1.0241372422577482
           ],
           "y": [
            3.0137114130149256,
            3.2882527540474538,
            2.5697318889205274,
            0.5856069337476913,
            0.5598004449384852,
            -1.4478447397732508,
            -1.8962217432728408,
            -2.0277674444149816
           ]
          }
         ],
         "name": "38"
        },
        {
         "data": [
          {
           "marker": {
            "color": [
             "red",
             "red",
             "red",
             "blue",
             "blue",
             "green",
             "green",
             "green"
            ]
           },
           "mode": "markers",
           "type": "scatter",
           "x": [
            -0.68563949081479,
            -0.1600617193108715,
            -0.23481207365429108,
            0.33004086114357917,
            0.32630949052612934,
            0.7537482995362923,
            1.6288285295523424,
            0.9981895303376281
           ],
           "y": [
            2.9888595001301104,
            3.283195328688336,
            2.603951908908373,
            0.670216239206525,
            0.6879202125927004,
            -1.6353464343511086,
            -1.933185077313603,
            -2.0203421706533784
           ]
          }
         ],
         "name": "39"
        },
        {
         "data": [
          {
           "marker": {
            "color": [
             "red",
             "red",
             "red",
             "blue",
             "blue",
             "green",
             "green",
             "green"
            ]
           },
           "mode": "markers",
           "type": "scatter",
           "x": [
            -0.6253450164169041,
            -0.17093724295443616,
            -0.2154240726567593,
            0.3247622434065181,
            0.324787993050039,
            0.7247269013825528,
            1.6172782930417247,
            0.9767543284632809
           ],
           "y": [
            2.8349925474176922,
            3.3428751560798475,
            2.5381655083544543,
            0.692526494668517,
            0.6924256817382896,
            -1.508264560392505,
            -1.803919232581472,
            -2.1435320880768503
           ]
          }
         ],
         "name": "40"
        },
        {
         "data": [
          {
           "marker": {
            "color": [
             "red",
             "red",
             "red",
             "blue",
             "blue",
             "green",
             "green",
             "green"
            ]
           },
           "mode": "markers",
           "type": "scatter",
           "x": [
            -0.6876187716893777,
            -0.12424200129143322,
            -0.19983457698804594,
            0.32694826952556183,
            0.33929054458047464,
            0.7961263747721083,
            1.519289333926832,
            0.9866442544799072
           ],
           "y": [
            2.925248799179438,
            3.1973575110978927,
            2.547548940062454,
            0.723448020760443,
            0.6681255635695817,
            -1.4922582416971124,
            -1.69362614550309,
            -2.2305749402616235
           ]
          }
         ],
         "name": "41"
        },
        {
         "data": [
          {
           "marker": {
            "color": [
             "red",
             "red",
             "red",
             "blue",
             "blue",
             "green",
             "green",
             "green"
            ]
           },
           "mode": "markers",
           "type": "scatter",
           "x": [
            -0.697485183609846,
            -0.10391379076725667,
            -0.21694083021791832,
            0.3557302324582887,
            0.36248561297195414,
            0.7588570149112531,
            1.4921022831375292,
            1.005768088432028
           ],
           "y": [
            2.927202858167389,
            3.222241781339654,
            2.5313998855035478,
            0.6431288935553522,
            0.6193178452621935,
            -1.4655543791130115,
            -1.6648298477627372,
            -2.1676375297444235
           ]
          }
         ],
         "name": "42"
        },
        {
         "data": [
          {
           "marker": {
            "color": [
             "red",
             "red",
             "red",
             "blue",
             "blue",
             "green",
             "green",
             "green"
            ]
           },
           "mode": "markers",
           "type": "scatter",
           "x": [
            -0.7702026517794689,
            -0.024434778627530265,
            -0.24177106936179144,
            0.3392374798578999,
            0.34061672359700884,
            0.8111034456877473,
            1.4812303953710173,
            1.0208238825711393
           ],
           "y": [
            2.875773419402742,
            3.277428684011726,
            2.5974301685661567,
            0.6631652592919007,
            0.6648574182599839,
            -1.50908250215622,
            -1.7473835027657167,
            -2.1769194374025918
           ]
          }
         ],
         "name": "43"
        },
        {
         "data": [
          {
           "marker": {
            "color": [
             "red",
             "red",
             "red",
             "blue",
             "blue",
             "green",
             "green",
             "green"
            ]
           },
           "mode": "markers",
           "type": "scatter",
           "x": [
            -0.6966705277090942,
            -0.06499012865780945,
            -0.23424693316663678,
            0.3626186131681494,
            0.35162859812349967,
            0.7817315243016832,
            1.4110815147151912,
            1.045450766541056
           ],
           "y": [
            2.879848597149496,
            3.1816577248940994,
            2.574583636929323,
            0.6004656527812514,
            0.6483206832266247,
            -1.5335821049290266,
            -1.6460465735024834,
            -2.0599781093413023
           ]
          }
         ],
         "name": "44"
        },
        {
         "data": [
          {
           "marker": {
            "color": [
             "red",
             "red",
             "red",
             "blue",
             "blue",
             "green",
             "green",
             "green"
            ]
           },
           "mode": "markers",
           "type": "scatter",
           "x": [
            -0.6751163090522431,
            -0.09000519105437138,
            -0.22519450710518377,
            0.3608697301700228,
            0.3534589545410242,
            0.7795066892467687,
            1.4202472891557634,
            1.0328367714142608
           ],
           "y": [
            2.8688380186373776,
            3.172013320496722,
            2.576279318137487,
            0.6053542868683459,
            0.6263694397615387,
            -1.4409615540282785,
            -1.6562120838137073,
            -2.1064112388515004
           ]
          }
         ],
         "name": "45"
        },
        {
         "data": [
          {
           "marker": {
            "color": [
             "red",
             "red",
             "red",
             "blue",
             "blue",
             "green",
             "green",
             "green"
            ]
           },
           "mode": "markers",
           "type": "scatter",
           "x": [
            -0.7432302163120159,
            -0.08599296456678708,
            -0.16874253327156918,
            0.35764368944108677,
            0.3509996908141757,
            0.7846055528284277,
            1.470517416792407,
            0.9908027915903154
           ],
           "y": [
            2.952018210069712,
            3.152688156947771,
            2.4926587401274096,
            0.6260785789463071,
            0.6368245178531754,
            -1.4090935876162765,
            -1.6597400476867983,
            -2.14616506143329
           ]
          }
         ],
         "name": "46"
        },
        {
         "data": [
          {
           "marker": {
            "color": [
             "red",
             "red",
             "red",
             "blue",
             "blue",
             "green",
             "green",
             "green"
            ]
           },
           "mode": "markers",
           "type": "scatter",
           "x": [
            -0.7985519752909114,
            -0.03182002536855604,
            -0.20256251753579738,
            0.34672057904900194,
            0.3406333022043684,
            0.7305611278990063,
            1.6918453914712719,
            0.8797775448876597
           ],
           "y": [
            2.9499381669655893,
            3.106074373048743,
            2.560297324147521,
            0.6045832344113365,
            0.6231763584089864,
            -1.3242779321559508,
            -1.937989082189085,
            -1.9365329354291299
           ]
          }
         ],
         "name": "47"
        },
        {
         "data": [
          {
           "marker": {
            "color": [
             "red",
             "red",
             "red",
             "blue",
             "blue",
             "green",
             "green",
             "green"
            ]
           },
           "mode": "markers",
           "type": "scatter",
           "x": [
            -0.87676238429226,
            -0.035379286491817846,
            -0.20595354250156142,
            0.3354687032425676,
            0.33583992161709336,
            0.7524866123283973,
            1.7665270502218937,
            0.8843763531917191
           ],
           "y": [
            3.145848159882075,
            3.1027511737956592,
            2.5399876191065465,
            0.6559199343913893,
            0.6556573671872883,
            -1.3705543675503353,
            -2.040582392982088,
            -2.043757986622524
           ]
          }
         ],
         "name": "48"
        },
        {
         "data": [
          {
           "marker": {
            "color": [
             "red",
             "red",
             "red",
             "blue",
             "blue",
             "green",
             "green",
             "green"
            ]
           },
           "mode": "markers",
           "type": "scatter",
           "x": [
            -0.9112628742149652,
            -0.019713297585931558,
            -0.2322464443351824,
            0.32953582170181084,
            0.3420393367410018,
            0.7754955771674844,
            1.7214806731521561,
            0.9512746346896476
           ],
           "y": [
            3.2667382009877146,
            2.9852093887900373,
            2.5847245534485825,
            0.6755983722025362,
            0.6613189699171745,
            -1.2696189921195802,
            -2.0791067851525495,
            -2.179594200865884
           ]
          }
         ],
         "name": "49"
        },
        {
         "data": [
          {
           "marker": {
            "color": [
             "red",
             "red",
             "red",
             "blue",
             "blue",
             "green",
             "green",
             "green"
            ]
           },
           "mode": "markers",
           "type": "scatter",
           "x": [
            -0.8399361673199971,
            -0.07920990687736959,
            -0.32245856347961693,
            0.3393777755712456,
            0.33769421749384526,
            0.8138890372714503,
            1.7292277483981746,
            0.9780192862582823
           ],
           "y": [
            3.3370698696160703,
            2.9263928900876146,
            2.733171139368363,
            0.6831965366137994,
            0.6898375155016687,
            -1.2602086696810222,
            -2.108755726170551,
            -2.355434048127916
           ]
          }
         ],
         "name": "50"
        },
        {
         "data": [
          {
           "marker": {
            "color": [
             "red",
             "red",
             "red",
             "blue",
             "blue",
             "green",
             "green",
             "green"
            ]
           },
           "mode": "markers",
           "type": "scatter",
           "x": [
            -0.7784668521439541,
            -0.054900215591446526,
            -0.3951504811090985,
            0.33904633412736745,
            0.33139754853593806,
            0.8935318205605149,
            1.6414018971268072,
            0.9797433758099002
           ],
           "y": [
            3.2632785933546398,
            3.0194767574563097,
            2.691719830643025,
            0.6840077797705758,
            0.695561294969829,
            -1.3703116596390674,
            -2.030849346685733,
            -2.307613742661559
           ]
          }
         ],
         "name": "51"
        },
        {
         "data": [
          {
           "marker": {
            "color": [
             "red",
             "red",
             "red",
             "blue",
             "blue",
             "green",
             "green",
             "green"
            ]
           },
           "mode": "markers",
           "type": "scatter",
           "x": [
            -0.8053583833169283,
            -0.03761717852080432,
            -0.3968573677591256,
            0.3260359019570383,
            0.3332410915759861,
            0.8878449398291522,
            1.6944976176366942,
            0.9548168059140115
           ],
           "y": [
            3.316227980205982,
            3.1374853666345692,
            2.593154864460613,
            0.6925163925455028,
            0.6697186931308349,
            -1.4406493969487977,
            -2.084802677678082,
            -2.238381715142623
           ]
          }
         ],
         "name": "52"
        },
        {
         "data": [
          {
           "marker": {
            "color": [
             "red",
             "red",
             "red",
             "blue",
             "blue",
             "green",
             "green",
             "green"
            ]
           },
           "mode": "markers",
           "type": "scatter",
           "x": [
            -0.7782969732792397,
            -0.018574228686067274,
            -0.4281517736531919,
            0.34474871372844157,
            0.33521556667443264,
            0.9500274632548605,
            1.5431606993739024,
            1.0084739599028887
           ],
           "y": [
            3.227097401196593,
            3.142486974669124,
            2.643087244145641,
            0.6487598842408135,
            0.6882469009641956,
            -1.491724519640432,
            -1.9756931455927833,
            -2.2369912327751753
           ]
          }
         ],
         "name": "53"
        },
        {
         "data": [
          {
           "marker": {
            "color": [
             "red",
             "red",
             "red",
             "blue",
             "blue",
             "green",
             "green",
             "green"
            ]
           },
           "mode": "markers",
           "type": "scatter",
           "x": [
            -0.8144437720503541,
            0.007390338135954712,
            -0.46939793672221425,
            0.3396978200410547,
            0.34324142482317177,
            0.938544059658947,
            1.588203864463849,
            1.0233676289656175
           ],
           "y": [
            3.233712767929026,
            3.202772398993666,
            2.7549374311317583,
            0.6633181246821785,
            0.6632860235843696,
            -1.4845614029035816,
            -2.0003183262865347,
            -2.387877509922914
           ]
          }
         ],
         "name": "54"
        },
        {
         "data": [
          {
           "marker": {
            "color": [
             "red",
             "red",
             "red",
             "blue",
             "blue",
             "green",
             "green",
             "green"
            ]
           },
           "mode": "markers",
           "type": "scatter",
           "x": [
            -0.89773627468582,
            0.028451746569125472,
            -0.44445433341251356,
            0.34798947485658527,
            0.3476575945641871,
            0.944212557301769,
            1.6557575428375304,
            0.9747251192851606
           ],
           "y": [
            3.2969838684698156,
            3.3476029098802145,
            2.6979837951247263,
            0.639005129929794,
            0.6408602825578606,
            -1.5542136291246327,
            -2.0103605159970286,
            -2.412592333632833
           ]
          }
         ],
         "name": "55"
        },
        {
         "data": [
          {
           "marker": {
            "color": [
             "red",
             "red",
             "red",
             "blue",
             "blue",
             "green",
             "green",
             "green"
            ]
           },
           "mode": "markers",
           "type": "scatter",
           "x": [
            -0.8350707533056084,
            -0.017785130465442927,
            -0.4902046785412612,
            0.3628493272193992,
            0.36303901925024445,
            0.9934726588186649,
            1.5969473137292014,
            0.9833556706108454
           ],
           "y": [
            3.278075137810953,
            3.3897323412452245,
            2.7403794192690274,
            0.624284448627179,
            0.6227834136374056,
            -1.525471111579113,
            -1.967628816536461,
            -2.516885325266308
           ]
          }
         ],
         "name": "56"
        },
        {
         "data": [
          {
           "marker": {
            "color": [
             "red",
             "red",
             "red",
             "blue",
             "blue",
             "green",
             "green",
             "green"
            ]
           },
           "mode": "markers",
           "type": "scatter",
           "x": [
            -0.8488284239417813,
            -0.05517160739248696,
            -0.46060274589402234,
            0.3741825385692879,
            0.3799814980364118,
            1.026266258971349,
            1.5253818213918862,
            1.0153940875754048
           ],
           "y": [
            3.2934923159086154,
            3.4432392967346073,
            2.7901297969783347,
            0.5940540813511366,
            0.5780157521690298,
            -1.6223774091005927,
            -1.8918541585279283,
            -2.5394301683052833
           ]
          }
         ],
         "name": "57"
        },
        {
         "data": [
          {
           "marker": {
            "color": [
             "red",
             "red",
             "red",
             "blue",
             "blue",
             "green",
             "green",
             "green"
            ]
           },
           "mode": "markers",
           "type": "scatter",
           "x": [
            -0.8594808005647566,
            -0.018751341944301596,
            -0.48054993810792934,
            0.36739778623784597,
            0.3849765828022674,
            1.0712684873369518,
            1.4208206539747799,
            1.0709219975811708
           ],
           "y": [
            3.322284754986036,
            3.334842944713109,
            2.832727646239485,
            0.6345306818134792,
            0.562179018585628,
            -1.6747772841323414,
            -1.830798372072151,
            -2.5357198829253
           ]
          }
         ],
         "name": "58"
        },
        {
         "data": [
          {
           "marker": {
            "color": [
             "red",
             "red",
             "red",
             "blue",
             "blue",
             "green",
             "green",
             "green"
            ]
           },
           "mode": "markers",
           "type": "scatter",
           "x": [
            -0.9770636311714277,
            -0.01157488386779868,
            -0.4508316672735286,
            0.3831164264658208,
            0.384741099709124,
            1.0333376151794522,
            1.5133476166607427,
            1.081530851613651
           ],
           "y": [
            3.527398545341189,
            3.3413077760626764,
            2.850915462648963,
            0.5661013555692808,
            0.5596969652438322,
            -1.4881124706107607,
            -1.9278139641050085,
            -2.7842241629422504
           ]
          }
         ],
         "name": "59"
        },
        {
         "data": [
          {
           "marker": {
            "color": [
             "red",
             "red",
             "red",
             "blue",
             "blue",
             "green",
             "green",
             "green"
            ]
           },
           "mode": "markers",
           "type": "scatter",
           "x": [
            -1.0584909979135708,
            0.04243980330551179,
            -0.4689965807469738,
            0.40888995297906877,
            0.40827514362021416,
            0.9457918529286179,
            1.5712183727698779,
            1.1074758803732914
           ],
           "y": [
            3.6157497996713515,
            3.24195390894331,
            2.9153807299621084,
            0.5117951876605269,
            0.5144313777092208,
            -1.278950990367193,
            -2.0891967168215237,
            -2.785893789549846
           ]
          }
         ],
         "name": "60"
        },
        {
         "data": [
          {
           "marker": {
            "color": [
             "red",
             "red",
             "red",
             "blue",
             "blue",
             "green",
             "green",
             "green"
            ]
           },
           "mode": "markers",
           "type": "scatter",
           "x": [
            -1.0774152703877622,
            0.029837984842664055,
            -0.44168880592945653,
            0.379782900622733,
            0.3773096452960493,
            1.0107216970567978,
            1.5540197800430535,
            1.1240354957719592
           ],
           "y": [
            3.6967505839103745,
            3.293609110542598,
            2.815663847267558,
            0.5687867244148975,
            0.5768913704802363,
            -1.3763200516139908,
            -2.125792732385342,
            -2.8043193454083886
           ]
          }
         ],
         "name": "61"
        },
        {
         "data": [
          {
           "marker": {
            "color": [
             "red",
             "red",
             "red",
             "blue",
             "blue",
             "green",
             "green",
             "green"
            ]
           },
           "mode": "markers",
           "type": "scatter",
           "x": [
            -1.029878103622713,
            -0.005591238537851562,
            -0.44971065456999276,
            0.3766360437795679,
            0.3769333079775121,
            1.0055152676067858,
            1.5576086296636327,
            1.1250901750191038
           ],
           "y": [
            3.6985776700508017,
            3.246165438202942,
            2.8033713350451688,
            0.5827672587044427,
            0.589116419235766,
            -1.3984183034757791,
            -2.1718460130023747,
            -2.704464297553036
           ]
          }
         ],
         "name": "62"
        },
        {
         "data": [
          {
           "marker": {
            "color": [
             "red",
             "red",
             "red",
             "blue",
             "blue",
             "green",
             "green",
             "green"
            ]
           },
           "mode": "markers",
           "type": "scatter",
           "x": [
            -0.8309756363088241,
            -0.07955920056932923,
            -0.5631560354888914,
            0.3728401307221677,
            0.3717214145821735,
            1.0371825600329543,
            1.49560541100332,
            1.1529447833424622
           ],
           "y": [
            3.4891128546088788,
            3.3873506789193146,
            2.9092374106899124,
            0.5817064283654868,
            0.5856366719174264,
            -1.4929976325862455,
            -2.1126188075759487,
            -2.7021580971309005
           ]
          }
         ],
         "name": "63"
        },
        {
         "data": [
          {
           "marker": {
            "color": [
             "red",
             "red",
             "red",
             "blue",
             "blue",
             "green",
             "green",
             "green"
            ]
           },
           "mode": "markers",
           "type": "scatter",
           "x": [
            -0.8018312161523157,
            -0.05409414181230097,
            -0.5538550639787263,
            0.33635665528279657,
            0.3346592249567639,
            1.0631056680910327,
            1.4974584136520162,
            1.1348038872767734
           ],
           "y": [
            3.4147433176199327,
            3.3780579214448365,
            2.831577276845496,
            0.681601332281537,
            0.6863880180102191,
            -1.6161512535386469,
            -2.044514859546518,
            -2.6864322459089216
           ]
          }
         ],
         "name": "64"
        },
        {
         "data": [
          {
           "marker": {
            "color": [
             "red",
             "red",
             "red",
             "blue",
             "blue",
             "green",
             "green",
             "green"
            ]
           },
           "mode": "markers",
           "type": "scatter",
           "x": [
            -0.7734219217847056,
            -0.08222638497500552,
            -0.5654549183391987,
            0.36065104525082514,
            0.3484400901296149,
            0.9989979395999636,
            1.5398668474710338,
            1.1297507299635159
           ],
           "y": [
            3.4108382604088505,
            3.268678962603346,
            2.9143896668562643,
            0.6238395650595978,
            0.655042519225586,
            -1.439498831309902,
            -2.1107486402162285,
            -2.677271995419615
           ]
          }
         ],
         "name": "65"
        },
        {
         "data": [
          {
           "marker": {
            "color": [
             "red",
             "red",
             "red",
             "blue",
             "blue",
             "green",
             "green",
             "green"
            ]
           },
           "mode": "markers",
           "type": "scatter",
           "x": [
            -0.7632895431102749,
            -0.12396738932322207,
            -0.585889678469439,
            0.37005901126908936,
            0.36357557841510907,
            1.0042388335007015,
            1.6256736829882803,
            1.066202932045797
           ],
           "y": [
            3.4457050614352047,
            3.3124268865848863,
            2.984554249395277,
            0.5752296969118029,
            0.5874148383820813,
            -1.4894308963021672,
            -2.195391861954565,
            -2.5752384672446222
           ]
          }
         ],
         "name": "66"
        },
        {
         "data": [
          {
           "marker": {
            "color": [
             "red",
             "red",
             "red",
             "blue",
             "blue",
             "green",
             "green",
             "green"
            ]
           },
           "mode": "markers",
           "type": "scatter",
           "x": [
            -0.8099976677977466,
            -0.15563921249872784,
            -0.5546208962131098,
            0.37593870264379675,
            0.38786086926218327,
            1.0207142234310476,
            1.6203927590146872,
            1.0719546494738763
           ],
           "y": [
            3.560130828008035,
            3.3076144265007916,
            3.003265498367164,
            0.5651742237319808,
            0.5259410933609729,
            -1.5545593067267642,
            -2.193907785191863,
            -2.568389470842408
           ]
          }
         ],
         "name": "67"
        },
        {
         "data": [
          {
           "marker": {
            "color": [
             "red",
             "red",
             "red",
             "blue",
             "blue",
             "green",
             "green",
             "green"
            ]
           },
           "mode": "markers",
           "type": "scatter",
           "x": [
            -0.8319959880153771,
            -0.09474234745420985,
            -0.5423782634379705,
            0.3818949205002792,
            0.38684056903740127,
            1.0239871495532427,
            1.5772522533188387,
            1.0557451338138137
           ],
           "y": [
            3.4577812570504323,
            3.302221035247344,
            2.9683589022806394,
            0.5276540917699197,
            0.5178561312344051,
            -1.5255493027611633,
            -2.1716605320044122,
            -2.4313920756092293
           ]
          }
         ],
         "name": "68"
        },
        {
         "data": [
          {
           "marker": {
            "color": [
             "red",
             "red",
             "red",
             "blue",
             "blue",
             "green",
             "green",
             "green"
            ]
           },
           "mode": "markers",
           "type": "scatter",
           "x": [
            -0.8751679937101843,
            -0.08892111547821983,
            -0.5348453495576329,
            0.3837692529696408,
            0.4218176026624347,
            0.9960328844385936,
            1.5583554455648638,
            1.095562700426528
           ],
           "y": [
            3.614379881027462,
            3.1383346879669496,
            2.987133815026381,
            0.5519213244775757,
            0.4350878643128199,
            -1.486336653813563,
            -2.173171672382228,
            -2.4220797394074824
           ]
          }
         ],
         "name": "69"
        },
        {
         "data": [
          {
           "marker": {
            "color": [
             "red",
             "red",
             "red",
             "blue",
             "blue",
             "green",
             "green",
             "green"
            ]
           },
           "mode": "markers",
           "type": "scatter",
           "x": [
            -0.8769150895585177,
            -0.1513635450828204,
            -0.4792275466837922,
            0.41132371960925285,
            0.40835009450552706,
            1.0100166099954853,
            1.592546455872527,
            1.0418727286583709
           ],
           "y": [
            3.623429651791261,
            3.2350398111325283,
            2.9262946378926245,
            0.43990153159089984,
            0.46194418492806993,
            -1.4631970496661404,
            -2.2243081435368364,
            -2.3538351169245284
           ]
          }
         ],
         "name": "70"
        },
        {
         "data": [
          {
           "marker": {
            "color": [
             "red",
             "red",
             "red",
             "blue",
             "blue",
             "green",
             "green",
             "green"
            ]
           },
           "mode": "markers",
           "type": "scatter",
           "x": [
            -0.8161019358276717,
            -0.16350338887316815,
            -0.5713302326110893,
            0.39618274138973464,
            0.38635035763194875,
            1.024578628163539,
            1.665381862592845,
            1.0350453948498959
           ],
           "y": [
            3.512431272243604,
            3.3046334094152177,
            3.0676733580334505,
            0.5130662100126602,
            0.4997802536958105,
            -1.5057325369357577,
            -2.433846407121491,
            -2.3127360521356164
           ]
          }
         ],
         "name": "71"
        },
        {
         "data": [
          {
           "marker": {
            "color": [
             "red",
             "red",
             "red",
             "blue",
             "blue",
             "green",
             "green",
             "green"
            ]
           },
           "mode": "markers",
           "type": "scatter",
           "x": [
            -0.8226792550815618,
            -0.13906662169906572,
            -0.5949832506971937,
            0.3784238147476711,
            0.37440529853598087,
            1.058202699897019,
            1.6906342301233874,
            1.0116665114897925
           ],
           "y": [
            3.5383399270550417,
            3.40598309789427,
            2.978566103031371,
            0.5293338944198223,
            0.5441235031949778,
            -1.5443795747123612,
            -2.4530797566821447,
            -2.353617686993078
           ]
          }
         ],
         "name": "72"
        },
        {
         "data": [
          {
           "marker": {
            "color": [
             "red",
             "red",
             "red",
             "blue",
             "blue",
             "green",
             "green",
             "green"
            ]
           },
           "mode": "markers",
           "type": "scatter",
           "x": [
            -0.908444528114244,
            -0.11465170545670296,
            -0.6010020815887285,
            0.3871660018744476,
            0.385516017658448,
            1.1078250127831708,
            1.661345402942233,
            1.0388493072173772
           ],
           "y": [
            3.666605872962412,
            3.5191935191107535,
            2.9649130338194767,
            0.5115920973697861,
            0.51861706946601,
            -1.6561866734531283,
            -2.4093363757166166,
            -2.4701290363507646
           ]
          }
         ],
         "name": "73"
        },
        {
         "data": [
          {
           "marker": {
            "color": [
             "red",
             "red",
             "red",
             "blue",
             "blue",
             "green",
             "green",
             "green"
            ]
           },
           "mode": "markers",
           "type": "scatter",
           "x": [
            -1.0352297695834833,
            -0.036577447959128866,
            -0.5980149424367963,
            0.4001135212857318,
            0.3950769526432306,
            1.156013516242108,
            1.6549442995203663,
            1.0202772976039798
           ],
           "y": [
            3.8075061977593485,
            3.522259504326547,
            2.9042049441859334,
            0.4737751727499323,
            0.48601420243245624,
            -1.7427187192920732,
            -2.4942967265128564,
            -2.3114750684413554
           ]
          }
         ],
         "name": "74"
        },
        {
         "data": [
          {
           "marker": {
            "color": [
             "red",
             "red",
             "red",
             "blue",
             "blue",
             "green",
             "green",
             "green"
            ]
           },
           "mode": "markers",
           "type": "scatter",
           "x": [
            -0.9649090661121373,
            -0.05131712250104323,
            -0.6843448016587399,
            0.38602394719242633,
            0.39224722845152526,
            1.2065786438262716,
            1.591286356604372,
            1.081038241513338
           ],
           "y": [
            3.7660060184906077,
            3.616934710534709,
            2.936443027558556,
            0.5250376192046601,
            0.5230319172230828,
            -1.8769109090949534,
            -2.4387204749228184,
            -2.406552401785882
           ]
          }
         ],
         "name": "75"
        },
        {
         "data": [
          {
           "marker": {
            "color": [
             "red",
             "red",
             "red",
             "blue",
             "blue",
             "green",
             "green",
             "green"
            ]
           },
           "mode": "markers",
           "type": "scatter",
           "x": [
            -0.9401916875824352,
            -0.08627072219775868,
            -0.6414228722114259,
            0.3799606846418163,
            0.37386776969077906,
            1.1641490472367408,
            1.666420108609938,
            1.0400910991283538
           ],
           "y": [
            3.661473125384055,
            3.5830041866753883,
            3.0021894098854793,
            0.557547141033649,
            0.5702312578063814,
            -1.8092458545840635,
            -2.4871156660183744,
            -2.432814092974549
           ]
          }
         ],
         "name": "76"
        },
        {
         "data": [
          {
           "marker": {
            "color": [
             "red",
             "red",
             "red",
             "blue",
             "blue",
             "green",
             "green",
             "green"
            ]
           },
           "mode": "markers",
           "type": "scatter",
           "x": [
            -0.9715696193187033,
            -0.12212784247362518,
            -0.6243071246483087,
            0.3752708958458363,
            0.3732116697557002,
            1.1554261898667744,
            1.7265871349443889,
            1.044112123343961
           ],
           "y": [
            3.8095327122519858,
            3.326686533678174,
            3.1167720392880436,
            0.6160585222639648,
            0.615213141912914,
            -1.7797235237922358,
            -2.608920772059749,
            -2.450349146335146
           ]
          }
         ],
         "name": "77"
        },
        {
         "data": [
          {
           "marker": {
            "color": [
             "red",
             "red",
             "red",
             "blue",
             "blue",
             "green",
             "green",
             "green"
            ]
           },
           "mode": "markers",
           "type": "scatter",
           "x": [
            -0.8986438791080307,
            -0.16179129931852868,
            -0.6209639121311865,
            0.37336683941106313,
            0.3749388343834594,
            1.2315494380517313,
            1.595232912287462,
            1.0629144937400579
           ],
           "y": [
            3.702486601911754,
            3.3617107690571735,
            3.0922371924871483,
            0.6047230576161741,
            0.6011480150315445,
            -1.887042564850483,
            -2.4584677302246187,
            -2.3715258338207597
           ]
          }
         ],
         "name": "78"
        },
        {
         "data": [
          {
           "marker": {
            "color": [
             "red",
             "red",
             "red",
             "blue",
             "blue",
             "green",
             "green",
             "green"
            ]
           },
           "mode": "markers",
           "type": "scatter",
           "x": [
            -0.895792268657715,
            -0.17286830245256765,
            -0.5264623558337189,
            0.34326724352376753,
            0.3456014989207382,
            1.3066501340893968,
            1.5665948797689375,
            0.9896125979571989
           ],
           "y": [
            3.6957505598821756,
            3.306615116473612,
            2.937910492991021,
            0.6622457952693883,
            0.6554337503236856,
            -1.8938012985159673,
            -2.355237095479312,
            -2.363647813736706
           ]
          }
         ],
         "name": "79"
        },
        {
         "data": [
          {
           "marker": {
            "color": [
             "red",
             "red",
             "red",
             "blue",
             "blue",
             "green",
             "green",
             "green"
            ]
           },
           "mode": "markers",
           "type": "scatter",
           "x": [
            -0.900340161475038,
            -0.19469252582430197,
            -0.5189588848892605,
            0.34603179355493424,
            0.34246559975829993,
            1.2921031373100507,
            1.6186792488646122,
            0.9713152200167617
           ],
           "y": [
            3.72112821676927,
            3.4306708963686234,
            2.846616566195553,
            0.6520444932821449,
            0.6718743725607934,
            -1.9016327213524309,
            -2.451718937888676,
            -2.3237133787273967
           ]
          }
         ],
         "name": "80"
        },
        {
         "data": [
          {
           "marker": {
            "color": [
             "red",
             "red",
             "red",
             "blue",
             "blue",
             "green",
             "green",
             "green"
            ]
           },
           "mode": "markers",
           "type": "scatter",
           "x": [
            -0.8258890934252188,
            -0.22308450274327352,
            -0.5632437458404262,
            0.33869180613873673,
            0.3489756004652847,
            1.3087018668168855,
            1.649667711975911,
            0.9227837839281567
           ],
           "y": [
            3.633555258309333,
            3.400960860343727,
            2.911580097813737,
            0.6655647427633864,
            0.6260522475228483,
            -1.9114550066398712,
            -2.542005255347766,
            -2.1389834375575085
           ]
          }
         ],
         "name": "81"
        },
        {
         "data": [
          {
           "marker": {
            "color": [
             "red",
             "red",
             "red",
             "blue",
             "blue",
             "green",
             "green",
             "green"
            ]
           },
           "mode": "markers",
           "type": "scatter",
           "x": [
            -0.8084675137387461,
            -0.19857169138669958,
            -0.5947773021899717,
            0.3496919928627996,
            0.34690965554891384,
            1.2543710079858295,
            1.7122227751737695,
            0.8952245030601805
           ],
           "y": [
            3.6477352902639697,
            3.2212040870821705,
            2.961954425589855,
            0.6265585892062367,
            0.6391544205785546,
            -1.8586781260872935,
            -2.640475006318717,
            -1.9521841731068807
           ]
          }
         ],
         "name": "82"
        }
       ],
       "layout": {
        "height": 500,
        "margin": {
         "b": 20,
         "l": 20,
         "r": 20,
         "t": 20
        },
        "sliders": [
         {
          "currentvalue": {
           "font": {
            "size": 20
           },
           "prefix": "Frame:",
           "visible": true,
           "xanchor": "right"
          },
          "len": 0.9,
          "pad": {
           "b": 10,
           "t": 50
          },
          "steps": [
           {
            "args": [
             [
              0
             ],
             {
              "frame": {
               "duration": 300,
               "redraw": true
              },
              "mode": "immediate",
              "transition": {
               "duration": 300
              }
             }
            ],
            "label": "0",
            "method": "animate"
           },
           {
            "args": [
             [
              1
             ],
             {
              "frame": {
               "duration": 300,
               "redraw": true
              },
              "mode": "immediate",
              "transition": {
               "duration": 300
              }
             }
            ],
            "label": "1",
            "method": "animate"
           },
           {
            "args": [
             [
              2
             ],
             {
              "frame": {
               "duration": 300,
               "redraw": true
              },
              "mode": "immediate",
              "transition": {
               "duration": 300
              }
             }
            ],
            "label": "2",
            "method": "animate"
           },
           {
            "args": [
             [
              3
             ],
             {
              "frame": {
               "duration": 300,
               "redraw": true
              },
              "mode": "immediate",
              "transition": {
               "duration": 300
              }
             }
            ],
            "label": "3",
            "method": "animate"
           },
           {
            "args": [
             [
              4
             ],
             {
              "frame": {
               "duration": 300,
               "redraw": true
              },
              "mode": "immediate",
              "transition": {
               "duration": 300
              }
             }
            ],
            "label": "4",
            "method": "animate"
           },
           {
            "args": [
             [
              5
             ],
             {
              "frame": {
               "duration": 300,
               "redraw": true
              },
              "mode": "immediate",
              "transition": {
               "duration": 300
              }
             }
            ],
            "label": "5",
            "method": "animate"
           },
           {
            "args": [
             [
              6
             ],
             {
              "frame": {
               "duration": 300,
               "redraw": true
              },
              "mode": "immediate",
              "transition": {
               "duration": 300
              }
             }
            ],
            "label": "6",
            "method": "animate"
           },
           {
            "args": [
             [
              7
             ],
             {
              "frame": {
               "duration": 300,
               "redraw": true
              },
              "mode": "immediate",
              "transition": {
               "duration": 300
              }
             }
            ],
            "label": "7",
            "method": "animate"
           },
           {
            "args": [
             [
              8
             ],
             {
              "frame": {
               "duration": 300,
               "redraw": true
              },
              "mode": "immediate",
              "transition": {
               "duration": 300
              }
             }
            ],
            "label": "8",
            "method": "animate"
           },
           {
            "args": [
             [
              9
             ],
             {
              "frame": {
               "duration": 300,
               "redraw": true
              },
              "mode": "immediate",
              "transition": {
               "duration": 300
              }
             }
            ],
            "label": "9",
            "method": "animate"
           },
           {
            "args": [
             [
              10
             ],
             {
              "frame": {
               "duration": 300,
               "redraw": true
              },
              "mode": "immediate",
              "transition": {
               "duration": 300
              }
             }
            ],
            "label": "10",
            "method": "animate"
           },
           {
            "args": [
             [
              11
             ],
             {
              "frame": {
               "duration": 300,
               "redraw": true
              },
              "mode": "immediate",
              "transition": {
               "duration": 300
              }
             }
            ],
            "label": "11",
            "method": "animate"
           },
           {
            "args": [
             [
              12
             ],
             {
              "frame": {
               "duration": 300,
               "redraw": true
              },
              "mode": "immediate",
              "transition": {
               "duration": 300
              }
             }
            ],
            "label": "12",
            "method": "animate"
           },
           {
            "args": [
             [
              13
             ],
             {
              "frame": {
               "duration": 300,
               "redraw": true
              },
              "mode": "immediate",
              "transition": {
               "duration": 300
              }
             }
            ],
            "label": "13",
            "method": "animate"
           },
           {
            "args": [
             [
              14
             ],
             {
              "frame": {
               "duration": 300,
               "redraw": true
              },
              "mode": "immediate",
              "transition": {
               "duration": 300
              }
             }
            ],
            "label": "14",
            "method": "animate"
           },
           {
            "args": [
             [
              15
             ],
             {
              "frame": {
               "duration": 300,
               "redraw": true
              },
              "mode": "immediate",
              "transition": {
               "duration": 300
              }
             }
            ],
            "label": "15",
            "method": "animate"
           },
           {
            "args": [
             [
              16
             ],
             {
              "frame": {
               "duration": 300,
               "redraw": true
              },
              "mode": "immediate",
              "transition": {
               "duration": 300
              }
             }
            ],
            "label": "16",
            "method": "animate"
           },
           {
            "args": [
             [
              17
             ],
             {
              "frame": {
               "duration": 300,
               "redraw": true
              },
              "mode": "immediate",
              "transition": {
               "duration": 300
              }
             }
            ],
            "label": "17",
            "method": "animate"
           },
           {
            "args": [
             [
              18
             ],
             {
              "frame": {
               "duration": 300,
               "redraw": true
              },
              "mode": "immediate",
              "transition": {
               "duration": 300
              }
             }
            ],
            "label": "18",
            "method": "animate"
           },
           {
            "args": [
             [
              19
             ],
             {
              "frame": {
               "duration": 300,
               "redraw": true
              },
              "mode": "immediate",
              "transition": {
               "duration": 300
              }
             }
            ],
            "label": "19",
            "method": "animate"
           },
           {
            "args": [
             [
              20
             ],
             {
              "frame": {
               "duration": 300,
               "redraw": true
              },
              "mode": "immediate",
              "transition": {
               "duration": 300
              }
             }
            ],
            "label": "20",
            "method": "animate"
           },
           {
            "args": [
             [
              21
             ],
             {
              "frame": {
               "duration": 300,
               "redraw": true
              },
              "mode": "immediate",
              "transition": {
               "duration": 300
              }
             }
            ],
            "label": "21",
            "method": "animate"
           },
           {
            "args": [
             [
              22
             ],
             {
              "frame": {
               "duration": 300,
               "redraw": true
              },
              "mode": "immediate",
              "transition": {
               "duration": 300
              }
             }
            ],
            "label": "22",
            "method": "animate"
           },
           {
            "args": [
             [
              23
             ],
             {
              "frame": {
               "duration": 300,
               "redraw": true
              },
              "mode": "immediate",
              "transition": {
               "duration": 300
              }
             }
            ],
            "label": "23",
            "method": "animate"
           },
           {
            "args": [
             [
              24
             ],
             {
              "frame": {
               "duration": 300,
               "redraw": true
              },
              "mode": "immediate",
              "transition": {
               "duration": 300
              }
             }
            ],
            "label": "24",
            "method": "animate"
           },
           {
            "args": [
             [
              25
             ],
             {
              "frame": {
               "duration": 300,
               "redraw": true
              },
              "mode": "immediate",
              "transition": {
               "duration": 300
              }
             }
            ],
            "label": "25",
            "method": "animate"
           },
           {
            "args": [
             [
              26
             ],
             {
              "frame": {
               "duration": 300,
               "redraw": true
              },
              "mode": "immediate",
              "transition": {
               "duration": 300
              }
             }
            ],
            "label": "26",
            "method": "animate"
           },
           {
            "args": [
             [
              27
             ],
             {
              "frame": {
               "duration": 300,
               "redraw": true
              },
              "mode": "immediate",
              "transition": {
               "duration": 300
              }
             }
            ],
            "label": "27",
            "method": "animate"
           },
           {
            "args": [
             [
              28
             ],
             {
              "frame": {
               "duration": 300,
               "redraw": true
              },
              "mode": "immediate",
              "transition": {
               "duration": 300
              }
             }
            ],
            "label": "28",
            "method": "animate"
           },
           {
            "args": [
             [
              29
             ],
             {
              "frame": {
               "duration": 300,
               "redraw": true
              },
              "mode": "immediate",
              "transition": {
               "duration": 300
              }
             }
            ],
            "label": "29",
            "method": "animate"
           },
           {
            "args": [
             [
              30
             ],
             {
              "frame": {
               "duration": 300,
               "redraw": true
              },
              "mode": "immediate",
              "transition": {
               "duration": 300
              }
             }
            ],
            "label": "30",
            "method": "animate"
           },
           {
            "args": [
             [
              31
             ],
             {
              "frame": {
               "duration": 300,
               "redraw": true
              },
              "mode": "immediate",
              "transition": {
               "duration": 300
              }
             }
            ],
            "label": "31",
            "method": "animate"
           },
           {
            "args": [
             [
              32
             ],
             {
              "frame": {
               "duration": 300,
               "redraw": true
              },
              "mode": "immediate",
              "transition": {
               "duration": 300
              }
             }
            ],
            "label": "32",
            "method": "animate"
           },
           {
            "args": [
             [
              33
             ],
             {
              "frame": {
               "duration": 300,
               "redraw": true
              },
              "mode": "immediate",
              "transition": {
               "duration": 300
              }
             }
            ],
            "label": "33",
            "method": "animate"
           },
           {
            "args": [
             [
              34
             ],
             {
              "frame": {
               "duration": 300,
               "redraw": true
              },
              "mode": "immediate",
              "transition": {
               "duration": 300
              }
             }
            ],
            "label": "34",
            "method": "animate"
           },
           {
            "args": [
             [
              35
             ],
             {
              "frame": {
               "duration": 300,
               "redraw": true
              },
              "mode": "immediate",
              "transition": {
               "duration": 300
              }
             }
            ],
            "label": "35",
            "method": "animate"
           },
           {
            "args": [
             [
              36
             ],
             {
              "frame": {
               "duration": 300,
               "redraw": true
              },
              "mode": "immediate",
              "transition": {
               "duration": 300
              }
             }
            ],
            "label": "36",
            "method": "animate"
           },
           {
            "args": [
             [
              37
             ],
             {
              "frame": {
               "duration": 300,
               "redraw": true
              },
              "mode": "immediate",
              "transition": {
               "duration": 300
              }
             }
            ],
            "label": "37",
            "method": "animate"
           },
           {
            "args": [
             [
              38
             ],
             {
              "frame": {
               "duration": 300,
               "redraw": true
              },
              "mode": "immediate",
              "transition": {
               "duration": 300
              }
             }
            ],
            "label": "38",
            "method": "animate"
           },
           {
            "args": [
             [
              39
             ],
             {
              "frame": {
               "duration": 300,
               "redraw": true
              },
              "mode": "immediate",
              "transition": {
               "duration": 300
              }
             }
            ],
            "label": "39",
            "method": "animate"
           },
           {
            "args": [
             [
              40
             ],
             {
              "frame": {
               "duration": 300,
               "redraw": true
              },
              "mode": "immediate",
              "transition": {
               "duration": 300
              }
             }
            ],
            "label": "40",
            "method": "animate"
           },
           {
            "args": [
             [
              41
             ],
             {
              "frame": {
               "duration": 300,
               "redraw": true
              },
              "mode": "immediate",
              "transition": {
               "duration": 300
              }
             }
            ],
            "label": "41",
            "method": "animate"
           },
           {
            "args": [
             [
              42
             ],
             {
              "frame": {
               "duration": 300,
               "redraw": true
              },
              "mode": "immediate",
              "transition": {
               "duration": 300
              }
             }
            ],
            "label": "42",
            "method": "animate"
           },
           {
            "args": [
             [
              43
             ],
             {
              "frame": {
               "duration": 300,
               "redraw": true
              },
              "mode": "immediate",
              "transition": {
               "duration": 300
              }
             }
            ],
            "label": "43",
            "method": "animate"
           },
           {
            "args": [
             [
              44
             ],
             {
              "frame": {
               "duration": 300,
               "redraw": true
              },
              "mode": "immediate",
              "transition": {
               "duration": 300
              }
             }
            ],
            "label": "44",
            "method": "animate"
           },
           {
            "args": [
             [
              45
             ],
             {
              "frame": {
               "duration": 300,
               "redraw": true
              },
              "mode": "immediate",
              "transition": {
               "duration": 300
              }
             }
            ],
            "label": "45",
            "method": "animate"
           },
           {
            "args": [
             [
              46
             ],
             {
              "frame": {
               "duration": 300,
               "redraw": true
              },
              "mode": "immediate",
              "transition": {
               "duration": 300
              }
             }
            ],
            "label": "46",
            "method": "animate"
           },
           {
            "args": [
             [
              47
             ],
             {
              "frame": {
               "duration": 300,
               "redraw": true
              },
              "mode": "immediate",
              "transition": {
               "duration": 300
              }
             }
            ],
            "label": "47",
            "method": "animate"
           },
           {
            "args": [
             [
              48
             ],
             {
              "frame": {
               "duration": 300,
               "redraw": true
              },
              "mode": "immediate",
              "transition": {
               "duration": 300
              }
             }
            ],
            "label": "48",
            "method": "animate"
           },
           {
            "args": [
             [
              49
             ],
             {
              "frame": {
               "duration": 300,
               "redraw": true
              },
              "mode": "immediate",
              "transition": {
               "duration": 300
              }
             }
            ],
            "label": "49",
            "method": "animate"
           },
           {
            "args": [
             [
              50
             ],
             {
              "frame": {
               "duration": 300,
               "redraw": true
              },
              "mode": "immediate",
              "transition": {
               "duration": 300
              }
             }
            ],
            "label": "50",
            "method": "animate"
           },
           {
            "args": [
             [
              51
             ],
             {
              "frame": {
               "duration": 300,
               "redraw": true
              },
              "mode": "immediate",
              "transition": {
               "duration": 300
              }
             }
            ],
            "label": "51",
            "method": "animate"
           },
           {
            "args": [
             [
              52
             ],
             {
              "frame": {
               "duration": 300,
               "redraw": true
              },
              "mode": "immediate",
              "transition": {
               "duration": 300
              }
             }
            ],
            "label": "52",
            "method": "animate"
           },
           {
            "args": [
             [
              53
             ],
             {
              "frame": {
               "duration": 300,
               "redraw": true
              },
              "mode": "immediate",
              "transition": {
               "duration": 300
              }
             }
            ],
            "label": "53",
            "method": "animate"
           },
           {
            "args": [
             [
              54
             ],
             {
              "frame": {
               "duration": 300,
               "redraw": true
              },
              "mode": "immediate",
              "transition": {
               "duration": 300
              }
             }
            ],
            "label": "54",
            "method": "animate"
           },
           {
            "args": [
             [
              55
             ],
             {
              "frame": {
               "duration": 300,
               "redraw": true
              },
              "mode": "immediate",
              "transition": {
               "duration": 300
              }
             }
            ],
            "label": "55",
            "method": "animate"
           },
           {
            "args": [
             [
              56
             ],
             {
              "frame": {
               "duration": 300,
               "redraw": true
              },
              "mode": "immediate",
              "transition": {
               "duration": 300
              }
             }
            ],
            "label": "56",
            "method": "animate"
           },
           {
            "args": [
             [
              57
             ],
             {
              "frame": {
               "duration": 300,
               "redraw": true
              },
              "mode": "immediate",
              "transition": {
               "duration": 300
              }
             }
            ],
            "label": "57",
            "method": "animate"
           },
           {
            "args": [
             [
              58
             ],
             {
              "frame": {
               "duration": 300,
               "redraw": true
              },
              "mode": "immediate",
              "transition": {
               "duration": 300
              }
             }
            ],
            "label": "58",
            "method": "animate"
           },
           {
            "args": [
             [
              59
             ],
             {
              "frame": {
               "duration": 300,
               "redraw": true
              },
              "mode": "immediate",
              "transition": {
               "duration": 300
              }
             }
            ],
            "label": "59",
            "method": "animate"
           },
           {
            "args": [
             [
              60
             ],
             {
              "frame": {
               "duration": 300,
               "redraw": true
              },
              "mode": "immediate",
              "transition": {
               "duration": 300
              }
             }
            ],
            "label": "60",
            "method": "animate"
           },
           {
            "args": [
             [
              61
             ],
             {
              "frame": {
               "duration": 300,
               "redraw": true
              },
              "mode": "immediate",
              "transition": {
               "duration": 300
              }
             }
            ],
            "label": "61",
            "method": "animate"
           },
           {
            "args": [
             [
              62
             ],
             {
              "frame": {
               "duration": 300,
               "redraw": true
              },
              "mode": "immediate",
              "transition": {
               "duration": 300
              }
             }
            ],
            "label": "62",
            "method": "animate"
           },
           {
            "args": [
             [
              63
             ],
             {
              "frame": {
               "duration": 300,
               "redraw": true
              },
              "mode": "immediate",
              "transition": {
               "duration": 300
              }
             }
            ],
            "label": "63",
            "method": "animate"
           },
           {
            "args": [
             [
              64
             ],
             {
              "frame": {
               "duration": 300,
               "redraw": true
              },
              "mode": "immediate",
              "transition": {
               "duration": 300
              }
             }
            ],
            "label": "64",
            "method": "animate"
           },
           {
            "args": [
             [
              65
             ],
             {
              "frame": {
               "duration": 300,
               "redraw": true
              },
              "mode": "immediate",
              "transition": {
               "duration": 300
              }
             }
            ],
            "label": "65",
            "method": "animate"
           },
           {
            "args": [
             [
              66
             ],
             {
              "frame": {
               "duration": 300,
               "redraw": true
              },
              "mode": "immediate",
              "transition": {
               "duration": 300
              }
             }
            ],
            "label": "66",
            "method": "animate"
           },
           {
            "args": [
             [
              67
             ],
             {
              "frame": {
               "duration": 300,
               "redraw": true
              },
              "mode": "immediate",
              "transition": {
               "duration": 300
              }
             }
            ],
            "label": "67",
            "method": "animate"
           },
           {
            "args": [
             [
              68
             ],
             {
              "frame": {
               "duration": 300,
               "redraw": true
              },
              "mode": "immediate",
              "transition": {
               "duration": 300
              }
             }
            ],
            "label": "68",
            "method": "animate"
           },
           {
            "args": [
             [
              69
             ],
             {
              "frame": {
               "duration": 300,
               "redraw": true
              },
              "mode": "immediate",
              "transition": {
               "duration": 300
              }
             }
            ],
            "label": "69",
            "method": "animate"
           },
           {
            "args": [
             [
              70
             ],
             {
              "frame": {
               "duration": 300,
               "redraw": true
              },
              "mode": "immediate",
              "transition": {
               "duration": 300
              }
             }
            ],
            "label": "70",
            "method": "animate"
           },
           {
            "args": [
             [
              71
             ],
             {
              "frame": {
               "duration": 300,
               "redraw": true
              },
              "mode": "immediate",
              "transition": {
               "duration": 300
              }
             }
            ],
            "label": "71",
            "method": "animate"
           },
           {
            "args": [
             [
              72
             ],
             {
              "frame": {
               "duration": 300,
               "redraw": true
              },
              "mode": "immediate",
              "transition": {
               "duration": 300
              }
             }
            ],
            "label": "72",
            "method": "animate"
           },
           {
            "args": [
             [
              73
             ],
             {
              "frame": {
               "duration": 300,
               "redraw": true
              },
              "mode": "immediate",
              "transition": {
               "duration": 300
              }
             }
            ],
            "label": "73",
            "method": "animate"
           },
           {
            "args": [
             [
              74
             ],
             {
              "frame": {
               "duration": 300,
               "redraw": true
              },
              "mode": "immediate",
              "transition": {
               "duration": 300
              }
             }
            ],
            "label": "74",
            "method": "animate"
           },
           {
            "args": [
             [
              75
             ],
             {
              "frame": {
               "duration": 300,
               "redraw": true
              },
              "mode": "immediate",
              "transition": {
               "duration": 300
              }
             }
            ],
            "label": "75",
            "method": "animate"
           },
           {
            "args": [
             [
              76
             ],
             {
              "frame": {
               "duration": 300,
               "redraw": true
              },
              "mode": "immediate",
              "transition": {
               "duration": 300
              }
             }
            ],
            "label": "76",
            "method": "animate"
           },
           {
            "args": [
             [
              77
             ],
             {
              "frame": {
               "duration": 300,
               "redraw": true
              },
              "mode": "immediate",
              "transition": {
               "duration": 300
              }
             }
            ],
            "label": "77",
            "method": "animate"
           },
           {
            "args": [
             [
              78
             ],
             {
              "frame": {
               "duration": 300,
               "redraw": true
              },
              "mode": "immediate",
              "transition": {
               "duration": 300
              }
             }
            ],
            "label": "78",
            "method": "animate"
           },
           {
            "args": [
             [
              79
             ],
             {
              "frame": {
               "duration": 300,
               "redraw": true
              },
              "mode": "immediate",
              "transition": {
               "duration": 300
              }
             }
            ],
            "label": "79",
            "method": "animate"
           },
           {
            "args": [
             [
              80
             ],
             {
              "frame": {
               "duration": 300,
               "redraw": true
              },
              "mode": "immediate",
              "transition": {
               "duration": 300
              }
             }
            ],
            "label": "80",
            "method": "animate"
           },
           {
            "args": [
             [
              81
             ],
             {
              "frame": {
               "duration": 300,
               "redraw": true
              },
              "mode": "immediate",
              "transition": {
               "duration": 300
              }
             }
            ],
            "label": "81",
            "method": "animate"
           },
           {
            "args": [
             [
              82
             ],
             {
              "frame": {
               "duration": 300,
               "redraw": true
              },
              "mode": "immediate",
              "transition": {
               "duration": 300
              }
             }
            ],
            "label": "82",
            "method": "animate"
           }
          ],
          "transition": {
           "duration": 300,
           "easing": "cubic-in-out"
          },
          "x": 0.1,
          "xanchor": "left",
          "y": 0,
          "yanchor": "top"
         }
        ],
        "template": {
         "data": {
          "bar": [
           {
            "error_x": {
             "color": "#2a3f5f"
            },
            "error_y": {
             "color": "#2a3f5f"
            },
            "marker": {
             "line": {
              "color": "#E5ECF6",
              "width": 0.5
             },
             "pattern": {
              "fillmode": "overlay",
              "size": 10,
              "solidity": 0.2
             }
            },
            "type": "bar"
           }
          ],
          "barpolar": [
           {
            "marker": {
             "line": {
              "color": "#E5ECF6",
              "width": 0.5
             },
             "pattern": {
              "fillmode": "overlay",
              "size": 10,
              "solidity": 0.2
             }
            },
            "type": "barpolar"
           }
          ],
          "carpet": [
           {
            "aaxis": {
             "endlinecolor": "#2a3f5f",
             "gridcolor": "white",
             "linecolor": "white",
             "minorgridcolor": "white",
             "startlinecolor": "#2a3f5f"
            },
            "baxis": {
             "endlinecolor": "#2a3f5f",
             "gridcolor": "white",
             "linecolor": "white",
             "minorgridcolor": "white",
             "startlinecolor": "#2a3f5f"
            },
            "type": "carpet"
           }
          ],
          "choropleth": [
           {
            "colorbar": {
             "outlinewidth": 0,
             "ticks": ""
            },
            "type": "choropleth"
           }
          ],
          "contour": [
           {
            "colorbar": {
             "outlinewidth": 0,
             "ticks": ""
            },
            "colorscale": [
             [
              0,
              "#0d0887"
             ],
             [
              0.1111111111111111,
              "#46039f"
             ],
             [
              0.2222222222222222,
              "#7201a8"
             ],
             [
              0.3333333333333333,
              "#9c179e"
             ],
             [
              0.4444444444444444,
              "#bd3786"
             ],
             [
              0.5555555555555556,
              "#d8576b"
             ],
             [
              0.6666666666666666,
              "#ed7953"
             ],
             [
              0.7777777777777778,
              "#fb9f3a"
             ],
             [
              0.8888888888888888,
              "#fdca26"
             ],
             [
              1,
              "#f0f921"
             ]
            ],
            "type": "contour"
           }
          ],
          "contourcarpet": [
           {
            "colorbar": {
             "outlinewidth": 0,
             "ticks": ""
            },
            "type": "contourcarpet"
           }
          ],
          "heatmap": [
           {
            "colorbar": {
             "outlinewidth": 0,
             "ticks": ""
            },
            "colorscale": [
             [
              0,
              "#0d0887"
             ],
             [
              0.1111111111111111,
              "#46039f"
             ],
             [
              0.2222222222222222,
              "#7201a8"
             ],
             [
              0.3333333333333333,
              "#9c179e"
             ],
             [
              0.4444444444444444,
              "#bd3786"
             ],
             [
              0.5555555555555556,
              "#d8576b"
             ],
             [
              0.6666666666666666,
              "#ed7953"
             ],
             [
              0.7777777777777778,
              "#fb9f3a"
             ],
             [
              0.8888888888888888,
              "#fdca26"
             ],
             [
              1,
              "#f0f921"
             ]
            ],
            "type": "heatmap"
           }
          ],
          "heatmapgl": [
           {
            "colorbar": {
             "outlinewidth": 0,
             "ticks": ""
            },
            "colorscale": [
             [
              0,
              "#0d0887"
             ],
             [
              0.1111111111111111,
              "#46039f"
             ],
             [
              0.2222222222222222,
              "#7201a8"
             ],
             [
              0.3333333333333333,
              "#9c179e"
             ],
             [
              0.4444444444444444,
              "#bd3786"
             ],
             [
              0.5555555555555556,
              "#d8576b"
             ],
             [
              0.6666666666666666,
              "#ed7953"
             ],
             [
              0.7777777777777778,
              "#fb9f3a"
             ],
             [
              0.8888888888888888,
              "#fdca26"
             ],
             [
              1,
              "#f0f921"
             ]
            ],
            "type": "heatmapgl"
           }
          ],
          "histogram": [
           {
            "marker": {
             "pattern": {
              "fillmode": "overlay",
              "size": 10,
              "solidity": 0.2
             }
            },
            "type": "histogram"
           }
          ],
          "histogram2d": [
           {
            "colorbar": {
             "outlinewidth": 0,
             "ticks": ""
            },
            "colorscale": [
             [
              0,
              "#0d0887"
             ],
             [
              0.1111111111111111,
              "#46039f"
             ],
             [
              0.2222222222222222,
              "#7201a8"
             ],
             [
              0.3333333333333333,
              "#9c179e"
             ],
             [
              0.4444444444444444,
              "#bd3786"
             ],
             [
              0.5555555555555556,
              "#d8576b"
             ],
             [
              0.6666666666666666,
              "#ed7953"
             ],
             [
              0.7777777777777778,
              "#fb9f3a"
             ],
             [
              0.8888888888888888,
              "#fdca26"
             ],
             [
              1,
              "#f0f921"
             ]
            ],
            "type": "histogram2d"
           }
          ],
          "histogram2dcontour": [
           {
            "colorbar": {
             "outlinewidth": 0,
             "ticks": ""
            },
            "colorscale": [
             [
              0,
              "#0d0887"
             ],
             [
              0.1111111111111111,
              "#46039f"
             ],
             [
              0.2222222222222222,
              "#7201a8"
             ],
             [
              0.3333333333333333,
              "#9c179e"
             ],
             [
              0.4444444444444444,
              "#bd3786"
             ],
             [
              0.5555555555555556,
              "#d8576b"
             ],
             [
              0.6666666666666666,
              "#ed7953"
             ],
             [
              0.7777777777777778,
              "#fb9f3a"
             ],
             [
              0.8888888888888888,
              "#fdca26"
             ],
             [
              1,
              "#f0f921"
             ]
            ],
            "type": "histogram2dcontour"
           }
          ],
          "mesh3d": [
           {
            "colorbar": {
             "outlinewidth": 0,
             "ticks": ""
            },
            "type": "mesh3d"
           }
          ],
          "parcoords": [
           {
            "line": {
             "colorbar": {
              "outlinewidth": 0,
              "ticks": ""
             }
            },
            "type": "parcoords"
           }
          ],
          "pie": [
           {
            "automargin": true,
            "type": "pie"
           }
          ],
          "scatter": [
           {
            "fillpattern": {
             "fillmode": "overlay",
             "size": 10,
             "solidity": 0.2
            },
            "type": "scatter"
           }
          ],
          "scatter3d": [
           {
            "line": {
             "colorbar": {
              "outlinewidth": 0,
              "ticks": ""
             }
            },
            "marker": {
             "colorbar": {
              "outlinewidth": 0,
              "ticks": ""
             }
            },
            "type": "scatter3d"
           }
          ],
          "scattercarpet": [
           {
            "marker": {
             "colorbar": {
              "outlinewidth": 0,
              "ticks": ""
             }
            },
            "type": "scattercarpet"
           }
          ],
          "scattergeo": [
           {
            "marker": {
             "colorbar": {
              "outlinewidth": 0,
              "ticks": ""
             }
            },
            "type": "scattergeo"
           }
          ],
          "scattergl": [
           {
            "marker": {
             "colorbar": {
              "outlinewidth": 0,
              "ticks": ""
             }
            },
            "type": "scattergl"
           }
          ],
          "scattermapbox": [
           {
            "marker": {
             "colorbar": {
              "outlinewidth": 0,
              "ticks": ""
             }
            },
            "type": "scattermapbox"
           }
          ],
          "scatterpolar": [
           {
            "marker": {
             "colorbar": {
              "outlinewidth": 0,
              "ticks": ""
             }
            },
            "type": "scatterpolar"
           }
          ],
          "scatterpolargl": [
           {
            "marker": {
             "colorbar": {
              "outlinewidth": 0,
              "ticks": ""
             }
            },
            "type": "scatterpolargl"
           }
          ],
          "scatterternary": [
           {
            "marker": {
             "colorbar": {
              "outlinewidth": 0,
              "ticks": ""
             }
            },
            "type": "scatterternary"
           }
          ],
          "surface": [
           {
            "colorbar": {
             "outlinewidth": 0,
             "ticks": ""
            },
            "colorscale": [
             [
              0,
              "#0d0887"
             ],
             [
              0.1111111111111111,
              "#46039f"
             ],
             [
              0.2222222222222222,
              "#7201a8"
             ],
             [
              0.3333333333333333,
              "#9c179e"
             ],
             [
              0.4444444444444444,
              "#bd3786"
             ],
             [
              0.5555555555555556,
              "#d8576b"
             ],
             [
              0.6666666666666666,
              "#ed7953"
             ],
             [
              0.7777777777777778,
              "#fb9f3a"
             ],
             [
              0.8888888888888888,
              "#fdca26"
             ],
             [
              1,
              "#f0f921"
             ]
            ],
            "type": "surface"
           }
          ],
          "table": [
           {
            "cells": {
             "fill": {
              "color": "#EBF0F8"
             },
             "line": {
              "color": "white"
             }
            },
            "header": {
             "fill": {
              "color": "#C8D4E3"
             },
             "line": {
              "color": "white"
             }
            },
            "type": "table"
           }
          ]
         },
         "layout": {
          "annotationdefaults": {
           "arrowcolor": "#2a3f5f",
           "arrowhead": 0,
           "arrowwidth": 1
          },
          "autotypenumbers": "strict",
          "coloraxis": {
           "colorbar": {
            "outlinewidth": 0,
            "ticks": ""
           }
          },
          "colorscale": {
           "diverging": [
            [
             0,
             "#8e0152"
            ],
            [
             0.1,
             "#c51b7d"
            ],
            [
             0.2,
             "#de77ae"
            ],
            [
             0.3,
             "#f1b6da"
            ],
            [
             0.4,
             "#fde0ef"
            ],
            [
             0.5,
             "#f7f7f7"
            ],
            [
             0.6,
             "#e6f5d0"
            ],
            [
             0.7,
             "#b8e186"
            ],
            [
             0.8,
             "#7fbc41"
            ],
            [
             0.9,
             "#4d9221"
            ],
            [
             1,
             "#276419"
            ]
           ],
           "sequential": [
            [
             0,
             "#0d0887"
            ],
            [
             0.1111111111111111,
             "#46039f"
            ],
            [
             0.2222222222222222,
             "#7201a8"
            ],
            [
             0.3333333333333333,
             "#9c179e"
            ],
            [
             0.4444444444444444,
             "#bd3786"
            ],
            [
             0.5555555555555556,
             "#d8576b"
            ],
            [
             0.6666666666666666,
             "#ed7953"
            ],
            [
             0.7777777777777778,
             "#fb9f3a"
            ],
            [
             0.8888888888888888,
             "#fdca26"
            ],
            [
             1,
             "#f0f921"
            ]
           ],
           "sequentialminus": [
            [
             0,
             "#0d0887"
            ],
            [
             0.1111111111111111,
             "#46039f"
            ],
            [
             0.2222222222222222,
             "#7201a8"
            ],
            [
             0.3333333333333333,
             "#9c179e"
            ],
            [
             0.4444444444444444,
             "#bd3786"
            ],
            [
             0.5555555555555556,
             "#d8576b"
            ],
            [
             0.6666666666666666,
             "#ed7953"
            ],
            [
             0.7777777777777778,
             "#fb9f3a"
            ],
            [
             0.8888888888888888,
             "#fdca26"
            ],
            [
             1,
             "#f0f921"
            ]
           ]
          },
          "colorway": [
           "#636efa",
           "#EF553B",
           "#00cc96",
           "#ab63fa",
           "#FFA15A",
           "#19d3f3",
           "#FF6692",
           "#B6E880",
           "#FF97FF",
           "#FECB52"
          ],
          "font": {
           "color": "#2a3f5f"
          },
          "geo": {
           "bgcolor": "white",
           "lakecolor": "white",
           "landcolor": "#E5ECF6",
           "showlakes": true,
           "showland": true,
           "subunitcolor": "white"
          },
          "hoverlabel": {
           "align": "left"
          },
          "hovermode": "closest",
          "mapbox": {
           "style": "light"
          },
          "paper_bgcolor": "white",
          "plot_bgcolor": "#E5ECF6",
          "polar": {
           "angularaxis": {
            "gridcolor": "white",
            "linecolor": "white",
            "ticks": ""
           },
           "bgcolor": "#E5ECF6",
           "radialaxis": {
            "gridcolor": "white",
            "linecolor": "white",
            "ticks": ""
           }
          },
          "scene": {
           "xaxis": {
            "backgroundcolor": "#E5ECF6",
            "gridcolor": "white",
            "gridwidth": 2,
            "linecolor": "white",
            "showbackground": true,
            "ticks": "",
            "zerolinecolor": "white"
           },
           "yaxis": {
            "backgroundcolor": "#E5ECF6",
            "gridcolor": "white",
            "gridwidth": 2,
            "linecolor": "white",
            "showbackground": true,
            "ticks": "",
            "zerolinecolor": "white"
           },
           "zaxis": {
            "backgroundcolor": "#E5ECF6",
            "gridcolor": "white",
            "gridwidth": 2,
            "linecolor": "white",
            "showbackground": true,
            "ticks": "",
            "zerolinecolor": "white"
           }
          },
          "shapedefaults": {
           "line": {
            "color": "#2a3f5f"
           }
          },
          "ternary": {
           "aaxis": {
            "gridcolor": "white",
            "linecolor": "white",
            "ticks": ""
           },
           "baxis": {
            "gridcolor": "white",
            "linecolor": "white",
            "ticks": ""
           },
           "bgcolor": "#E5ECF6",
           "caxis": {
            "gridcolor": "white",
            "linecolor": "white",
            "ticks": ""
           }
          },
          "title": {
           "x": 0.05
          },
          "xaxis": {
           "automargin": true,
           "gridcolor": "white",
           "linecolor": "white",
           "ticks": "",
           "title": {
            "standoff": 15
           },
           "zerolinecolor": "white",
           "zerolinewidth": 2
          },
          "yaxis": {
           "automargin": true,
           "gridcolor": "white",
           "linecolor": "white",
           "ticks": "",
           "title": {
            "standoff": 15
           },
           "zerolinecolor": "white",
           "zerolinewidth": 2
          }
         }
        },
        "updatemenus": [
         {
          "buttons": [
           {
            "args": [
             null,
             {
              "frame": {
               "duration": 800,
               "redraw": true
              },
              "fromcurrent": true
             }
            ],
            "label": "Play",
            "method": "animate"
           },
           {
            "args": [
             [
              null
             ],
             {
              "frame": {
               "duration": 0,
               "redraw": true
              },
              "mode": "immediate",
              "transition": {
               "duration": 0
              }
             }
            ],
            "label": "Pause",
            "method": "animate"
           }
          ],
          "direction": "left",
          "pad": {
           "r": 10,
           "t": 87
          },
          "showactive": false,
          "type": "buttons",
          "x": 0.1,
          "xanchor": "right",
          "y": 0,
          "yanchor": "top"
         }
        ],
        "width": 500,
        "xaxis": {
         "anchor": "y",
         "constrain": "domain",
         "domain": [
          0,
          1
         ],
         "range": [
          -1.0774152703877622,
          1.7665270502218937
         ]
        },
        "yaxis": {
         "anchor": "x",
         "constrain": "domain",
         "domain": [
          0,
          1
         ],
         "range": [
          -2.8043193454083886,
          3.8095327122519858
         ],
         "scaleanchor": "x",
         "scaleratio": 1
        }
       }
      },
      "text/html": [
       "<div>                            <div id=\"59664f47-c216-416f-a63c-e8bfdef443d4\" class=\"plotly-graph-div\" style=\"height:500px; width:500px;\"></div>            <script type=\"text/javascript\">                require([\"plotly\"], function(Plotly) {                    window.PLOTLYENV=window.PLOTLYENV || {};                                    if (document.getElementById(\"59664f47-c216-416f-a63c-e8bfdef443d4\")) {                    Plotly.newPlot(                        \"59664f47-c216-416f-a63c-e8bfdef443d4\",                        [{\"marker\":{\"color\":[\"red\",\"red\",\"red\",\"blue\",\"blue\",\"green\",\"green\",\"green\"]},\"mode\":\"markers\",\"x\":[0.3741536679792322,0.7320604403319543,0.155947082130377,0.05847006303632974,0.6011237893108657,0.02053308572084511,0.8325100064290712,0.18180529237726173],\"y\":[0.9506110798313554,0.5986784516418973,0.15592025947269267,0.866279372353496,0.7081378836916343,0.969970823655791,0.21228568740114676,0.18338594915982695],\"type\":\"scatter\"}],                        {\"template\":{\"data\":{\"histogram2dcontour\":[{\"type\":\"histogram2dcontour\",\"colorbar\":{\"outlinewidth\":0,\"ticks\":\"\"},\"colorscale\":[[0.0,\"#0d0887\"],[0.1111111111111111,\"#46039f\"],[0.2222222222222222,\"#7201a8\"],[0.3333333333333333,\"#9c179e\"],[0.4444444444444444,\"#bd3786\"],[0.5555555555555556,\"#d8576b\"],[0.6666666666666666,\"#ed7953\"],[0.7777777777777778,\"#fb9f3a\"],[0.8888888888888888,\"#fdca26\"],[1.0,\"#f0f921\"]]}],\"choropleth\":[{\"type\":\"choropleth\",\"colorbar\":{\"outlinewidth\":0,\"ticks\":\"\"}}],\"histogram2d\":[{\"type\":\"histogram2d\",\"colorbar\":{\"outlinewidth\":0,\"ticks\":\"\"},\"colorscale\":[[0.0,\"#0d0887\"],[0.1111111111111111,\"#46039f\"],[0.2222222222222222,\"#7201a8\"],[0.3333333333333333,\"#9c179e\"],[0.4444444444444444,\"#bd3786\"],[0.5555555555555556,\"#d8576b\"],[0.6666666666666666,\"#ed7953\"],[0.7777777777777778,\"#fb9f3a\"],[0.8888888888888888,\"#fdca26\"],[1.0,\"#f0f921\"]]}],\"heatmap\":[{\"type\":\"heatmap\",\"colorbar\":{\"outlinewidth\":0,\"ticks\":\"\"},\"colorscale\":[[0.0,\"#0d0887\"],[0.1111111111111111,\"#46039f\"],[0.2222222222222222,\"#7201a8\"],[0.3333333333333333,\"#9c179e\"],[0.4444444444444444,\"#bd3786\"],[0.5555555555555556,\"#d8576b\"],[0.6666666666666666,\"#ed7953\"],[0.7777777777777778,\"#fb9f3a\"],[0.8888888888888888,\"#fdca26\"],[1.0,\"#f0f921\"]]}],\"heatmapgl\":[{\"type\":\"heatmapgl\",\"colorbar\":{\"outlinewidth\":0,\"ticks\":\"\"},\"colorscale\":[[0.0,\"#0d0887\"],[0.1111111111111111,\"#46039f\"],[0.2222222222222222,\"#7201a8\"],[0.3333333333333333,\"#9c179e\"],[0.4444444444444444,\"#bd3786\"],[0.5555555555555556,\"#d8576b\"],[0.6666666666666666,\"#ed7953\"],[0.7777777777777778,\"#fb9f3a\"],[0.8888888888888888,\"#fdca26\"],[1.0,\"#f0f921\"]]}],\"contourcarpet\":[{\"type\":\"contourcarpet\",\"colorbar\":{\"outlinewidth\":0,\"ticks\":\"\"}}],\"contour\":[{\"type\":\"contour\",\"colorbar\":{\"outlinewidth\":0,\"ticks\":\"\"},\"colorscale\":[[0.0,\"#0d0887\"],[0.1111111111111111,\"#46039f\"],[0.2222222222222222,\"#7201a8\"],[0.3333333333333333,\"#9c179e\"],[0.4444444444444444,\"#bd3786\"],[0.5555555555555556,\"#d8576b\"],[0.6666666666666666,\"#ed7953\"],[0.7777777777777778,\"#fb9f3a\"],[0.8888888888888888,\"#fdca26\"],[1.0,\"#f0f921\"]]}],\"surface\":[{\"type\":\"surface\",\"colorbar\":{\"outlinewidth\":0,\"ticks\":\"\"},\"colorscale\":[[0.0,\"#0d0887\"],[0.1111111111111111,\"#46039f\"],[0.2222222222222222,\"#7201a8\"],[0.3333333333333333,\"#9c179e\"],[0.4444444444444444,\"#bd3786\"],[0.5555555555555556,\"#d8576b\"],[0.6666666666666666,\"#ed7953\"],[0.7777777777777778,\"#fb9f3a\"],[0.8888888888888888,\"#fdca26\"],[1.0,\"#f0f921\"]]}],\"mesh3d\":[{\"type\":\"mesh3d\",\"colorbar\":{\"outlinewidth\":0,\"ticks\":\"\"}}],\"scatter\":[{\"fillpattern\":{\"fillmode\":\"overlay\",\"size\":10,\"solidity\":0.2},\"type\":\"scatter\"}],\"parcoords\":[{\"type\":\"parcoords\",\"line\":{\"colorbar\":{\"outlinewidth\":0,\"ticks\":\"\"}}}],\"scatterpolargl\":[{\"type\":\"scatterpolargl\",\"marker\":{\"colorbar\":{\"outlinewidth\":0,\"ticks\":\"\"}}}],\"bar\":[{\"error_x\":{\"color\":\"#2a3f5f\"},\"error_y\":{\"color\":\"#2a3f5f\"},\"marker\":{\"line\":{\"color\":\"#E5ECF6\",\"width\":0.5},\"pattern\":{\"fillmode\":\"overlay\",\"size\":10,\"solidity\":0.2}},\"type\":\"bar\"}],\"scattergeo\":[{\"type\":\"scattergeo\",\"marker\":{\"colorbar\":{\"outlinewidth\":0,\"ticks\":\"\"}}}],\"scatterpolar\":[{\"type\":\"scatterpolar\",\"marker\":{\"colorbar\":{\"outlinewidth\":0,\"ticks\":\"\"}}}],\"histogram\":[{\"marker\":{\"pattern\":{\"fillmode\":\"overlay\",\"size\":10,\"solidity\":0.2}},\"type\":\"histogram\"}],\"scattergl\":[{\"type\":\"scattergl\",\"marker\":{\"colorbar\":{\"outlinewidth\":0,\"ticks\":\"\"}}}],\"scatter3d\":[{\"type\":\"scatter3d\",\"line\":{\"colorbar\":{\"outlinewidth\":0,\"ticks\":\"\"}},\"marker\":{\"colorbar\":{\"outlinewidth\":0,\"ticks\":\"\"}}}],\"scattermapbox\":[{\"type\":\"scattermapbox\",\"marker\":{\"colorbar\":{\"outlinewidth\":0,\"ticks\":\"\"}}}],\"scatterternary\":[{\"type\":\"scatterternary\",\"marker\":{\"colorbar\":{\"outlinewidth\":0,\"ticks\":\"\"}}}],\"scattercarpet\":[{\"type\":\"scattercarpet\",\"marker\":{\"colorbar\":{\"outlinewidth\":0,\"ticks\":\"\"}}}],\"carpet\":[{\"aaxis\":{\"endlinecolor\":\"#2a3f5f\",\"gridcolor\":\"white\",\"linecolor\":\"white\",\"minorgridcolor\":\"white\",\"startlinecolor\":\"#2a3f5f\"},\"baxis\":{\"endlinecolor\":\"#2a3f5f\",\"gridcolor\":\"white\",\"linecolor\":\"white\",\"minorgridcolor\":\"white\",\"startlinecolor\":\"#2a3f5f\"},\"type\":\"carpet\"}],\"table\":[{\"cells\":{\"fill\":{\"color\":\"#EBF0F8\"},\"line\":{\"color\":\"white\"}},\"header\":{\"fill\":{\"color\":\"#C8D4E3\"},\"line\":{\"color\":\"white\"}},\"type\":\"table\"}],\"barpolar\":[{\"marker\":{\"line\":{\"color\":\"#E5ECF6\",\"width\":0.5},\"pattern\":{\"fillmode\":\"overlay\",\"size\":10,\"solidity\":0.2}},\"type\":\"barpolar\"}],\"pie\":[{\"automargin\":true,\"type\":\"pie\"}]},\"layout\":{\"autotypenumbers\":\"strict\",\"colorway\":[\"#636efa\",\"#EF553B\",\"#00cc96\",\"#ab63fa\",\"#FFA15A\",\"#19d3f3\",\"#FF6692\",\"#B6E880\",\"#FF97FF\",\"#FECB52\"],\"font\":{\"color\":\"#2a3f5f\"},\"hovermode\":\"closest\",\"hoverlabel\":{\"align\":\"left\"},\"paper_bgcolor\":\"white\",\"plot_bgcolor\":\"#E5ECF6\",\"polar\":{\"bgcolor\":\"#E5ECF6\",\"angularaxis\":{\"gridcolor\":\"white\",\"linecolor\":\"white\",\"ticks\":\"\"},\"radialaxis\":{\"gridcolor\":\"white\",\"linecolor\":\"white\",\"ticks\":\"\"}},\"ternary\":{\"bgcolor\":\"#E5ECF6\",\"aaxis\":{\"gridcolor\":\"white\",\"linecolor\":\"white\",\"ticks\":\"\"},\"baxis\":{\"gridcolor\":\"white\",\"linecolor\":\"white\",\"ticks\":\"\"},\"caxis\":{\"gridcolor\":\"white\",\"linecolor\":\"white\",\"ticks\":\"\"}},\"coloraxis\":{\"colorbar\":{\"outlinewidth\":0,\"ticks\":\"\"}},\"colorscale\":{\"sequential\":[[0.0,\"#0d0887\"],[0.1111111111111111,\"#46039f\"],[0.2222222222222222,\"#7201a8\"],[0.3333333333333333,\"#9c179e\"],[0.4444444444444444,\"#bd3786\"],[0.5555555555555556,\"#d8576b\"],[0.6666666666666666,\"#ed7953\"],[0.7777777777777778,\"#fb9f3a\"],[0.8888888888888888,\"#fdca26\"],[1.0,\"#f0f921\"]],\"sequentialminus\":[[0.0,\"#0d0887\"],[0.1111111111111111,\"#46039f\"],[0.2222222222222222,\"#7201a8\"],[0.3333333333333333,\"#9c179e\"],[0.4444444444444444,\"#bd3786\"],[0.5555555555555556,\"#d8576b\"],[0.6666666666666666,\"#ed7953\"],[0.7777777777777778,\"#fb9f3a\"],[0.8888888888888888,\"#fdca26\"],[1.0,\"#f0f921\"]],\"diverging\":[[0,\"#8e0152\"],[0.1,\"#c51b7d\"],[0.2,\"#de77ae\"],[0.3,\"#f1b6da\"],[0.4,\"#fde0ef\"],[0.5,\"#f7f7f7\"],[0.6,\"#e6f5d0\"],[0.7,\"#b8e186\"],[0.8,\"#7fbc41\"],[0.9,\"#4d9221\"],[1,\"#276419\"]]},\"xaxis\":{\"gridcolor\":\"white\",\"linecolor\":\"white\",\"ticks\":\"\",\"title\":{\"standoff\":15},\"zerolinecolor\":\"white\",\"automargin\":true,\"zerolinewidth\":2},\"yaxis\":{\"gridcolor\":\"white\",\"linecolor\":\"white\",\"ticks\":\"\",\"title\":{\"standoff\":15},\"zerolinecolor\":\"white\",\"automargin\":true,\"zerolinewidth\":2},\"scene\":{\"xaxis\":{\"backgroundcolor\":\"#E5ECF6\",\"gridcolor\":\"white\",\"linecolor\":\"white\",\"showbackground\":true,\"ticks\":\"\",\"zerolinecolor\":\"white\",\"gridwidth\":2},\"yaxis\":{\"backgroundcolor\":\"#E5ECF6\",\"gridcolor\":\"white\",\"linecolor\":\"white\",\"showbackground\":true,\"ticks\":\"\",\"zerolinecolor\":\"white\",\"gridwidth\":2},\"zaxis\":{\"backgroundcolor\":\"#E5ECF6\",\"gridcolor\":\"white\",\"linecolor\":\"white\",\"showbackground\":true,\"ticks\":\"\",\"zerolinecolor\":\"white\",\"gridwidth\":2}},\"shapedefaults\":{\"line\":{\"color\":\"#2a3f5f\"}},\"annotationdefaults\":{\"arrowcolor\":\"#2a3f5f\",\"arrowhead\":0,\"arrowwidth\":1},\"geo\":{\"bgcolor\":\"white\",\"landcolor\":\"#E5ECF6\",\"subunitcolor\":\"white\",\"showland\":true,\"showlakes\":true,\"lakecolor\":\"white\"},\"title\":{\"x\":0.05},\"mapbox\":{\"style\":\"light\"}}},\"xaxis\":{\"anchor\":\"y\",\"domain\":[0.0,1.0],\"range\":[-1.0774152703877622,1.7665270502218937],\"constrain\":\"domain\"},\"yaxis\":{\"anchor\":\"x\",\"domain\":[0.0,1.0],\"range\":[-2.8043193454083886,3.8095327122519858],\"scaleanchor\":\"x\",\"scaleratio\":1,\"constrain\":\"domain\"},\"margin\":{\"l\":20,\"r\":20,\"t\":20,\"b\":20},\"width\":500,\"height\":500,\"updatemenus\":[{\"buttons\":[{\"args\":[null,{\"frame\":{\"duration\":800,\"redraw\":true},\"fromcurrent\":true}],\"label\":\"Play\",\"method\":\"animate\"},{\"args\":[[null],{\"frame\":{\"duration\":0,\"redraw\":true},\"mode\":\"immediate\",\"transition\":{\"duration\":0}}],\"label\":\"Pause\",\"method\":\"animate\"}],\"direction\":\"left\",\"pad\":{\"r\":10,\"t\":87},\"showactive\":false,\"type\":\"buttons\",\"x\":0.1,\"xanchor\":\"right\",\"y\":0,\"yanchor\":\"top\"}],\"sliders\":[{\"currentvalue\":{\"font\":{\"size\":20},\"prefix\":\"Frame:\",\"visible\":true,\"xanchor\":\"right\"},\"len\":0.9,\"pad\":{\"b\":10,\"t\":50},\"steps\":[{\"args\":[[0],{\"frame\":{\"duration\":300,\"redraw\":true},\"mode\":\"immediate\",\"transition\":{\"duration\":300}}],\"label\":\"0\",\"method\":\"animate\"},{\"args\":[[1],{\"frame\":{\"duration\":300,\"redraw\":true},\"mode\":\"immediate\",\"transition\":{\"duration\":300}}],\"label\":\"1\",\"method\":\"animate\"},{\"args\":[[2],{\"frame\":{\"duration\":300,\"redraw\":true},\"mode\":\"immediate\",\"transition\":{\"duration\":300}}],\"label\":\"2\",\"method\":\"animate\"},{\"args\":[[3],{\"frame\":{\"duration\":300,\"redraw\":true},\"mode\":\"immediate\",\"transition\":{\"duration\":300}}],\"label\":\"3\",\"method\":\"animate\"},{\"args\":[[4],{\"frame\":{\"duration\":300,\"redraw\":true},\"mode\":\"immediate\",\"transition\":{\"duration\":300}}],\"label\":\"4\",\"method\":\"animate\"},{\"args\":[[5],{\"frame\":{\"duration\":300,\"redraw\":true},\"mode\":\"immediate\",\"transition\":{\"duration\":300}}],\"label\":\"5\",\"method\":\"animate\"},{\"args\":[[6],{\"frame\":{\"duration\":300,\"redraw\":true},\"mode\":\"immediate\",\"transition\":{\"duration\":300}}],\"label\":\"6\",\"method\":\"animate\"},{\"args\":[[7],{\"frame\":{\"duration\":300,\"redraw\":true},\"mode\":\"immediate\",\"transition\":{\"duration\":300}}],\"label\":\"7\",\"method\":\"animate\"},{\"args\":[[8],{\"frame\":{\"duration\":300,\"redraw\":true},\"mode\":\"immediate\",\"transition\":{\"duration\":300}}],\"label\":\"8\",\"method\":\"animate\"},{\"args\":[[9],{\"frame\":{\"duration\":300,\"redraw\":true},\"mode\":\"immediate\",\"transition\":{\"duration\":300}}],\"label\":\"9\",\"method\":\"animate\"},{\"args\":[[10],{\"frame\":{\"duration\":300,\"redraw\":true},\"mode\":\"immediate\",\"transition\":{\"duration\":300}}],\"label\":\"10\",\"method\":\"animate\"},{\"args\":[[11],{\"frame\":{\"duration\":300,\"redraw\":true},\"mode\":\"immediate\",\"transition\":{\"duration\":300}}],\"label\":\"11\",\"method\":\"animate\"},{\"args\":[[12],{\"frame\":{\"duration\":300,\"redraw\":true},\"mode\":\"immediate\",\"transition\":{\"duration\":300}}],\"label\":\"12\",\"method\":\"animate\"},{\"args\":[[13],{\"frame\":{\"duration\":300,\"redraw\":true},\"mode\":\"immediate\",\"transition\":{\"duration\":300}}],\"label\":\"13\",\"method\":\"animate\"},{\"args\":[[14],{\"frame\":{\"duration\":300,\"redraw\":true},\"mode\":\"immediate\",\"transition\":{\"duration\":300}}],\"label\":\"14\",\"method\":\"animate\"},{\"args\":[[15],{\"frame\":{\"duration\":300,\"redraw\":true},\"mode\":\"immediate\",\"transition\":{\"duration\":300}}],\"label\":\"15\",\"method\":\"animate\"},{\"args\":[[16],{\"frame\":{\"duration\":300,\"redraw\":true},\"mode\":\"immediate\",\"transition\":{\"duration\":300}}],\"label\":\"16\",\"method\":\"animate\"},{\"args\":[[17],{\"frame\":{\"duration\":300,\"redraw\":true},\"mode\":\"immediate\",\"transition\":{\"duration\":300}}],\"label\":\"17\",\"method\":\"animate\"},{\"args\":[[18],{\"frame\":{\"duration\":300,\"redraw\":true},\"mode\":\"immediate\",\"transition\":{\"duration\":300}}],\"label\":\"18\",\"method\":\"animate\"},{\"args\":[[19],{\"frame\":{\"duration\":300,\"redraw\":true},\"mode\":\"immediate\",\"transition\":{\"duration\":300}}],\"label\":\"19\",\"method\":\"animate\"},{\"args\":[[20],{\"frame\":{\"duration\":300,\"redraw\":true},\"mode\":\"immediate\",\"transition\":{\"duration\":300}}],\"label\":\"20\",\"method\":\"animate\"},{\"args\":[[21],{\"frame\":{\"duration\":300,\"redraw\":true},\"mode\":\"immediate\",\"transition\":{\"duration\":300}}],\"label\":\"21\",\"method\":\"animate\"},{\"args\":[[22],{\"frame\":{\"duration\":300,\"redraw\":true},\"mode\":\"immediate\",\"transition\":{\"duration\":300}}],\"label\":\"22\",\"method\":\"animate\"},{\"args\":[[23],{\"frame\":{\"duration\":300,\"redraw\":true},\"mode\":\"immediate\",\"transition\":{\"duration\":300}}],\"label\":\"23\",\"method\":\"animate\"},{\"args\":[[24],{\"frame\":{\"duration\":300,\"redraw\":true},\"mode\":\"immediate\",\"transition\":{\"duration\":300}}],\"label\":\"24\",\"method\":\"animate\"},{\"args\":[[25],{\"frame\":{\"duration\":300,\"redraw\":true},\"mode\":\"immediate\",\"transition\":{\"duration\":300}}],\"label\":\"25\",\"method\":\"animate\"},{\"args\":[[26],{\"frame\":{\"duration\":300,\"redraw\":true},\"mode\":\"immediate\",\"transition\":{\"duration\":300}}],\"label\":\"26\",\"method\":\"animate\"},{\"args\":[[27],{\"frame\":{\"duration\":300,\"redraw\":true},\"mode\":\"immediate\",\"transition\":{\"duration\":300}}],\"label\":\"27\",\"method\":\"animate\"},{\"args\":[[28],{\"frame\":{\"duration\":300,\"redraw\":true},\"mode\":\"immediate\",\"transition\":{\"duration\":300}}],\"label\":\"28\",\"method\":\"animate\"},{\"args\":[[29],{\"frame\":{\"duration\":300,\"redraw\":true},\"mode\":\"immediate\",\"transition\":{\"duration\":300}}],\"label\":\"29\",\"method\":\"animate\"},{\"args\":[[30],{\"frame\":{\"duration\":300,\"redraw\":true},\"mode\":\"immediate\",\"transition\":{\"duration\":300}}],\"label\":\"30\",\"method\":\"animate\"},{\"args\":[[31],{\"frame\":{\"duration\":300,\"redraw\":true},\"mode\":\"immediate\",\"transition\":{\"duration\":300}}],\"label\":\"31\",\"method\":\"animate\"},{\"args\":[[32],{\"frame\":{\"duration\":300,\"redraw\":true},\"mode\":\"immediate\",\"transition\":{\"duration\":300}}],\"label\":\"32\",\"method\":\"animate\"},{\"args\":[[33],{\"frame\":{\"duration\":300,\"redraw\":true},\"mode\":\"immediate\",\"transition\":{\"duration\":300}}],\"label\":\"33\",\"method\":\"animate\"},{\"args\":[[34],{\"frame\":{\"duration\":300,\"redraw\":true},\"mode\":\"immediate\",\"transition\":{\"duration\":300}}],\"label\":\"34\",\"method\":\"animate\"},{\"args\":[[35],{\"frame\":{\"duration\":300,\"redraw\":true},\"mode\":\"immediate\",\"transition\":{\"duration\":300}}],\"label\":\"35\",\"method\":\"animate\"},{\"args\":[[36],{\"frame\":{\"duration\":300,\"redraw\":true},\"mode\":\"immediate\",\"transition\":{\"duration\":300}}],\"label\":\"36\",\"method\":\"animate\"},{\"args\":[[37],{\"frame\":{\"duration\":300,\"redraw\":true},\"mode\":\"immediate\",\"transition\":{\"duration\":300}}],\"label\":\"37\",\"method\":\"animate\"},{\"args\":[[38],{\"frame\":{\"duration\":300,\"redraw\":true},\"mode\":\"immediate\",\"transition\":{\"duration\":300}}],\"label\":\"38\",\"method\":\"animate\"},{\"args\":[[39],{\"frame\":{\"duration\":300,\"redraw\":true},\"mode\":\"immediate\",\"transition\":{\"duration\":300}}],\"label\":\"39\",\"method\":\"animate\"},{\"args\":[[40],{\"frame\":{\"duration\":300,\"redraw\":true},\"mode\":\"immediate\",\"transition\":{\"duration\":300}}],\"label\":\"40\",\"method\":\"animate\"},{\"args\":[[41],{\"frame\":{\"duration\":300,\"redraw\":true},\"mode\":\"immediate\",\"transition\":{\"duration\":300}}],\"label\":\"41\",\"method\":\"animate\"},{\"args\":[[42],{\"frame\":{\"duration\":300,\"redraw\":true},\"mode\":\"immediate\",\"transition\":{\"duration\":300}}],\"label\":\"42\",\"method\":\"animate\"},{\"args\":[[43],{\"frame\":{\"duration\":300,\"redraw\":true},\"mode\":\"immediate\",\"transition\":{\"duration\":300}}],\"label\":\"43\",\"method\":\"animate\"},{\"args\":[[44],{\"frame\":{\"duration\":300,\"redraw\":true},\"mode\":\"immediate\",\"transition\":{\"duration\":300}}],\"label\":\"44\",\"method\":\"animate\"},{\"args\":[[45],{\"frame\":{\"duration\":300,\"redraw\":true},\"mode\":\"immediate\",\"transition\":{\"duration\":300}}],\"label\":\"45\",\"method\":\"animate\"},{\"args\":[[46],{\"frame\":{\"duration\":300,\"redraw\":true},\"mode\":\"immediate\",\"transition\":{\"duration\":300}}],\"label\":\"46\",\"method\":\"animate\"},{\"args\":[[47],{\"frame\":{\"duration\":300,\"redraw\":true},\"mode\":\"immediate\",\"transition\":{\"duration\":300}}],\"label\":\"47\",\"method\":\"animate\"},{\"args\":[[48],{\"frame\":{\"duration\":300,\"redraw\":true},\"mode\":\"immediate\",\"transition\":{\"duration\":300}}],\"label\":\"48\",\"method\":\"animate\"},{\"args\":[[49],{\"frame\":{\"duration\":300,\"redraw\":true},\"mode\":\"immediate\",\"transition\":{\"duration\":300}}],\"label\":\"49\",\"method\":\"animate\"},{\"args\":[[50],{\"frame\":{\"duration\":300,\"redraw\":true},\"mode\":\"immediate\",\"transition\":{\"duration\":300}}],\"label\":\"50\",\"method\":\"animate\"},{\"args\":[[51],{\"frame\":{\"duration\":300,\"redraw\":true},\"mode\":\"immediate\",\"transition\":{\"duration\":300}}],\"label\":\"51\",\"method\":\"animate\"},{\"args\":[[52],{\"frame\":{\"duration\":300,\"redraw\":true},\"mode\":\"immediate\",\"transition\":{\"duration\":300}}],\"label\":\"52\",\"method\":\"animate\"},{\"args\":[[53],{\"frame\":{\"duration\":300,\"redraw\":true},\"mode\":\"immediate\",\"transition\":{\"duration\":300}}],\"label\":\"53\",\"method\":\"animate\"},{\"args\":[[54],{\"frame\":{\"duration\":300,\"redraw\":true},\"mode\":\"immediate\",\"transition\":{\"duration\":300}}],\"label\":\"54\",\"method\":\"animate\"},{\"args\":[[55],{\"frame\":{\"duration\":300,\"redraw\":true},\"mode\":\"immediate\",\"transition\":{\"duration\":300}}],\"label\":\"55\",\"method\":\"animate\"},{\"args\":[[56],{\"frame\":{\"duration\":300,\"redraw\":true},\"mode\":\"immediate\",\"transition\":{\"duration\":300}}],\"label\":\"56\",\"method\":\"animate\"},{\"args\":[[57],{\"frame\":{\"duration\":300,\"redraw\":true},\"mode\":\"immediate\",\"transition\":{\"duration\":300}}],\"label\":\"57\",\"method\":\"animate\"},{\"args\":[[58],{\"frame\":{\"duration\":300,\"redraw\":true},\"mode\":\"immediate\",\"transition\":{\"duration\":300}}],\"label\":\"58\",\"method\":\"animate\"},{\"args\":[[59],{\"frame\":{\"duration\":300,\"redraw\":true},\"mode\":\"immediate\",\"transition\":{\"duration\":300}}],\"label\":\"59\",\"method\":\"animate\"},{\"args\":[[60],{\"frame\":{\"duration\":300,\"redraw\":true},\"mode\":\"immediate\",\"transition\":{\"duration\":300}}],\"label\":\"60\",\"method\":\"animate\"},{\"args\":[[61],{\"frame\":{\"duration\":300,\"redraw\":true},\"mode\":\"immediate\",\"transition\":{\"duration\":300}}],\"label\":\"61\",\"method\":\"animate\"},{\"args\":[[62],{\"frame\":{\"duration\":300,\"redraw\":true},\"mode\":\"immediate\",\"transition\":{\"duration\":300}}],\"label\":\"62\",\"method\":\"animate\"},{\"args\":[[63],{\"frame\":{\"duration\":300,\"redraw\":true},\"mode\":\"immediate\",\"transition\":{\"duration\":300}}],\"label\":\"63\",\"method\":\"animate\"},{\"args\":[[64],{\"frame\":{\"duration\":300,\"redraw\":true},\"mode\":\"immediate\",\"transition\":{\"duration\":300}}],\"label\":\"64\",\"method\":\"animate\"},{\"args\":[[65],{\"frame\":{\"duration\":300,\"redraw\":true},\"mode\":\"immediate\",\"transition\":{\"duration\":300}}],\"label\":\"65\",\"method\":\"animate\"},{\"args\":[[66],{\"frame\":{\"duration\":300,\"redraw\":true},\"mode\":\"immediate\",\"transition\":{\"duration\":300}}],\"label\":\"66\",\"method\":\"animate\"},{\"args\":[[67],{\"frame\":{\"duration\":300,\"redraw\":true},\"mode\":\"immediate\",\"transition\":{\"duration\":300}}],\"label\":\"67\",\"method\":\"animate\"},{\"args\":[[68],{\"frame\":{\"duration\":300,\"redraw\":true},\"mode\":\"immediate\",\"transition\":{\"duration\":300}}],\"label\":\"68\",\"method\":\"animate\"},{\"args\":[[69],{\"frame\":{\"duration\":300,\"redraw\":true},\"mode\":\"immediate\",\"transition\":{\"duration\":300}}],\"label\":\"69\",\"method\":\"animate\"},{\"args\":[[70],{\"frame\":{\"duration\":300,\"redraw\":true},\"mode\":\"immediate\",\"transition\":{\"duration\":300}}],\"label\":\"70\",\"method\":\"animate\"},{\"args\":[[71],{\"frame\":{\"duration\":300,\"redraw\":true},\"mode\":\"immediate\",\"transition\":{\"duration\":300}}],\"label\":\"71\",\"method\":\"animate\"},{\"args\":[[72],{\"frame\":{\"duration\":300,\"redraw\":true},\"mode\":\"immediate\",\"transition\":{\"duration\":300}}],\"label\":\"72\",\"method\":\"animate\"},{\"args\":[[73],{\"frame\":{\"duration\":300,\"redraw\":true},\"mode\":\"immediate\",\"transition\":{\"duration\":300}}],\"label\":\"73\",\"method\":\"animate\"},{\"args\":[[74],{\"frame\":{\"duration\":300,\"redraw\":true},\"mode\":\"immediate\",\"transition\":{\"duration\":300}}],\"label\":\"74\",\"method\":\"animate\"},{\"args\":[[75],{\"frame\":{\"duration\":300,\"redraw\":true},\"mode\":\"immediate\",\"transition\":{\"duration\":300}}],\"label\":\"75\",\"method\":\"animate\"},{\"args\":[[76],{\"frame\":{\"duration\":300,\"redraw\":true},\"mode\":\"immediate\",\"transition\":{\"duration\":300}}],\"label\":\"76\",\"method\":\"animate\"},{\"args\":[[77],{\"frame\":{\"duration\":300,\"redraw\":true},\"mode\":\"immediate\",\"transition\":{\"duration\":300}}],\"label\":\"77\",\"method\":\"animate\"},{\"args\":[[78],{\"frame\":{\"duration\":300,\"redraw\":true},\"mode\":\"immediate\",\"transition\":{\"duration\":300}}],\"label\":\"78\",\"method\":\"animate\"},{\"args\":[[79],{\"frame\":{\"duration\":300,\"redraw\":true},\"mode\":\"immediate\",\"transition\":{\"duration\":300}}],\"label\":\"79\",\"method\":\"animate\"},{\"args\":[[80],{\"frame\":{\"duration\":300,\"redraw\":true},\"mode\":\"immediate\",\"transition\":{\"duration\":300}}],\"label\":\"80\",\"method\":\"animate\"},{\"args\":[[81],{\"frame\":{\"duration\":300,\"redraw\":true},\"mode\":\"immediate\",\"transition\":{\"duration\":300}}],\"label\":\"81\",\"method\":\"animate\"},{\"args\":[[82],{\"frame\":{\"duration\":300,\"redraw\":true},\"mode\":\"immediate\",\"transition\":{\"duration\":300}}],\"label\":\"82\",\"method\":\"animate\"}],\"transition\":{\"duration\":300,\"easing\":\"cubic-in-out\"},\"x\":0.1,\"xanchor\":\"left\",\"y\":0,\"yanchor\":\"top\"}]},                        {\"responsive\": true}                    ).then(function(){\n",
       "                            Plotly.addFrames('59664f47-c216-416f-a63c-e8bfdef443d4', [{\"data\":[{\"marker\":{\"color\":[\"red\",\"red\",\"red\",\"blue\",\"blue\",\"green\",\"green\",\"green\"]},\"mode\":\"markers\",\"x\":[0.3741536679792322,0.7320604403319543,0.155947082130377,0.05847006303632974,0.6011237893108657,0.02053308572084511,0.8325100064290712,0.18180529237726173],\"y\":[0.9506110798313554,0.5986784516418973,0.15592025947269267,0.866279372353496,0.7081378836916343,0.969970823655791,0.21228568740114676,0.18338594915982695],\"type\":\"scatter\"}],\"name\":\"0\"},{\"data\":[{\"marker\":{\"color\":[\"red\",\"red\",\"red\",\"blue\",\"blue\",\"green\",\"green\",\"green\"]},\"mode\":\"markers\",\"x\":[0.5287104709620806,0.7693773079093043,-0.2657182986746976,0.3958551330672603,0.39558141631878485,-0.24944526313800133,1.0499800741962197,0.33226258667500247],\"y\":[1.2586228562764594,0.808260116763414,-0.13942304062648825,0.6496851212211134,0.6491600643100122,1.093295349541225,0.05970800842399809,0.26596103129810517],\"type\":\"scatter\"}],\"name\":\"1\"},{\"data\":[{\"marker\":{\"color\":[\"red\",\"red\",\"red\",\"blue\",\"blue\",\"green\",\"green\",\"green\"]},\"mode\":\"markers\",\"x\":[0.5660930754370828,0.9228557900644586,-0.4665547113659906,0.4359751628261671,0.4381317314852838,-0.4014439097577012,1.1818759159593333,0.27967037266729544],\"y\":[1.3899507946378264,1.06929958356123,-0.3293646352617821,0.6677683424952294,0.6595241693468022,1.1774864105373761,-0.091196918055682,0.10180175994683294],\"type\":\"scatter\"}],\"name\":\"2\"},{\"data\":[{\"marker\":{\"color\":[\"red\",\"red\",\"red\",\"blue\",\"blue\",\"green\",\"green\",\"green\"]},\"mode\":\"markers\",\"x\":[0.6647842639260273,1.014362291974701,-0.4563491022099802,0.46005737187317836,0.46036005609374236,-0.6981470758378959,1.084247632136897,0.4272879893592518],\"y\":[1.4797029305929645,1.175077832712445,-0.3912036169643148,0.6006905026850989,0.5644924794326546,1.279365489114321,-0.19104236128700697,0.12818625092166594],\"type\":\"scatter\"}],\"name\":\"3\"},{\"data\":[{\"marker\":{\"color\":[\"red\",\"red\",\"red\",\"blue\",\"blue\",\"green\",\"green\",\"green\"]},\"mode\":\"markers\",\"x\":[0.6483620172598633,1.043615306005289,-0.5928889905407652,0.4494774954291528,0.45124451629305534,-0.6694200256272663,1.1767873640246407,0.449425744471955],\"y\":[1.4841773053060139,1.2619145984073565,-0.4150456813345011,0.6251478892528831,0.6270387034970641,1.2181901539043434,-0.30613176144748677,0.1499782996221566],\"type\":\"scatter\"}],\"name\":\"4\"},{\"data\":[{\"marker\":{\"color\":[\"red\",\"red\",\"red\",\"blue\",\"blue\",\"green\",\"green\",\"green\"]},\"mode\":\"markers\",\"x\":[0.6639277684346395,0.9508643395320396,-0.6832757499776853,0.42999924899714664,0.4500015565126551,-0.5143741216777384,1.2037991328856443,0.45566125260923673],\"y\":[1.6802776732555949,1.282986472810651,-0.39600970571311767,0.6887862693599778,0.6336630546237259,1.0591178287319343,-0.436069611012581,0.13251752515164483],\"type\":\"scatter\"}],\"name\":\"5\"},{\"data\":[{\"marker\":{\"color\":[\"red\",\"red\",\"red\",\"blue\",\"blue\",\"green\",\"green\",\"green\"]},\"mode\":\"markers\",\"x\":[0.693791988750014,0.971679420923951,-0.7333045640111643,0.45984428622559437,0.45723435724621125,-0.6368231348273399,1.2318845320658582,0.5122965409428247],\"y\":[1.8522069458475485,1.2685495824310646,-0.34445108494780874,0.5939038690019101,0.581958724561374,1.003457774309452,-0.48681784497560887,0.17646154097988886],\"type\":\"scatter\"}],\"name\":\"6\"},{\"data\":[{\"marker\":{\"color\":[\"red\",\"red\",\"red\",\"blue\",\"blue\",\"green\",\"green\",\"green\"]},\"mode\":\"markers\",\"x\":[0.6919003657272473,1.0121980938424249,-0.8188600738299506,0.42973177351226965,0.4528623112037247,-0.6464830609460749,1.241099157220918,0.5941548605853879],\"y\":[1.993704186077211,1.3569344684502342,-0.3341239428312143,0.5992966582766347,0.6064501346837897,0.9809174642387003,-0.5073710437469886,-0.050538417940542035],\"type\":\"scatter\"}],\"name\":\"7\"},{\"data\":[{\"marker\":{\"color\":[\"red\",\"red\",\"red\",\"blue\",\"blue\",\"green\",\"green\",\"green\"]},\"mode\":\"markers\",\"x\":[0.6755205179626087,0.9022018025695521,-0.8763363523841669,0.4506439744351561,0.4491998912840989,-0.4182389520100009,1.1444755242761426,0.6291370211825663],\"y\":[1.830563589825775,1.443181303586245,-0.2025017545007174,0.6229286401507493,0.62664180669945,0.813103504538522,-0.38866219840182886,-0.09998538469035609],\"type\":\"scatter\"}],\"name\":\"8\"},{\"data\":[{\"marker\":{\"color\":[\"red\",\"red\",\"red\",\"blue\",\"blue\",\"green\",\"green\",\"green\"]},\"mode\":\"markers\",\"x\":[0.5661253449537849,0.9171982523544451,-0.9083257680962272,0.382005641623864,0.3816080852104319,-0.21944267746281335,1.2074943394209614,0.6299402093114971],\"y\":[1.8096040797215753,1.6030507074919573,0.026964357528565127,0.6049464174778973,0.6062269492516825,0.5988787141702273,-0.45857985624918196,-0.14582186218487594],\"type\":\"scatter\"}],\"name\":\"9\"},{\"data\":[{\"marker\":{\"color\":[\"red\",\"red\",\"red\",\"blue\",\"blue\",\"green\",\"green\",\"green\"]},\"mode\":\"markers\",\"x\":[0.41964858632937097,0.9319271229029923,-0.9848832245841489,0.3849981452900352,0.39691429778138404,-0.04719838930814062,1.1413830439186508,0.7138138449857944],\"y\":[1.7979938609527133,1.8293452001233947,0.21661439681766514,0.5939470090799278,0.584844857096683,0.41116915945740345,-0.5250613073540563,-0.2635836689658791],\"type\":\"scatter\"}],\"name\":\"10\"},{\"data\":[{\"marker\":{\"color\":[\"red\",\"red\",\"red\",\"blue\",\"blue\",\"green\",\"green\",\"green\"]},\"mode\":\"markers\",\"x\":[0.2753573750800002,0.936307331112153,-0.9657600920354127,0.3607597471432823,0.36320101414442857,0.147735005410856,1.0744372896752796,0.7645657567853503],\"y\":[1.755049476591917,2.084038341415386,0.5494901532581542,0.5307565434331504,0.5333606825827881,0.117139519411411,-0.4358532108120643,-0.4887119986728847],\"type\":\"scatter\"}],\"name\":\"11\"},{\"data\":[{\"marker\":{\"color\":[\"red\",\"red\",\"red\",\"blue\",\"blue\",\"green\",\"green\",\"green\"]},\"mode\":\"markers\",\"x\":[0.2198430028555831,0.7660421106967997,-1.0212361900168325,0.3811096492022375,0.38139272286576026,0.28016770315595796,1.2072850501321146,0.7419993784243156],\"y\":[1.8218517970805408,2.1718047467165005,0.8446073352202232,0.5391369099741541,0.5385459559581152,-0.08583425489396432,-0.6169793072854944,-0.5678636755622123],\"type\":\"scatter\"}],\"name\":\"12\"},{\"data\":[{\"marker\":{\"color\":[\"red\",\"red\",\"red\",\"blue\",\"blue\",\"green\",\"green\",\"green\"]},\"mode\":\"markers\",\"x\":[0.06696192239070684,0.6833684946975771,-0.8884231878039524,0.3732935668069117,0.37567784063989457,0.3968204536808469,1.186133160083965,0.7627711768199863],\"y\":[1.9636801229846064,2.2590047106958107,1.0708624250476841,0.48479218164321863,0.48012756816866287,-0.24920356647488962,-0.6373520000128583,-0.726641934844377],\"type\":\"scatter\"}],\"name\":\"13\"},{\"data\":[{\"marker\":{\"color\":[\"red\",\"red\",\"red\",\"blue\",\"blue\",\"green\",\"green\",\"green\"]},\"mode\":\"markers\",\"x\":[-0.12359797972519342,0.6313093111268099,-0.624273185297673,0.3233525011298536,0.32393087265716847,0.4357489954885864,1.181056641978516,0.809076269957883],\"y\":[2.1777482843517206,2.282571704360624,1.1654590008236525,0.5270886870154895,0.5230970631703319,-0.38537953578954703,-0.6617901344204622,-0.9835255623039736],\"type\":\"scatter\"}],\"name\":\"14\"},{\"data\":[{\"marker\":{\"color\":[\"red\",\"red\",\"red\",\"blue\",\"blue\",\"green\",\"green\",\"green\"]},\"mode\":\"markers\",\"x\":[-0.20245454256728465,0.5520899286705216,-0.6653391949606464,0.34472048146974144,0.3448560836743246,0.5087404542612671,1.2862073158225833,0.7877829009454396],\"y\":[2.3884555429312027,2.2967107605621444,1.3760864415908145,0.5555123775231569,0.5276369203717416,-0.6827236724977899,-0.8437511101593341,-0.9726577531140905],\"type\":\"scatter\"}],\"name\":\"15\"},{\"data\":[{\"marker\":{\"color\":[\"red\",\"red\",\"red\",\"blue\",\"blue\",\"green\",\"green\",\"green\"]},\"mode\":\"markers\",\"x\":[-0.21575717378408565,0.4739620803376643,-0.6330482815137806,0.3358473909465816,0.3396864040280842,0.5121038500113734,1.331665360577441,0.8121437967126706],\"y\":[2.2837814495056152,2.4680927051554784,1.5281316823782698,0.5793716497904136,0.5923464056568805,-0.7821182558720419,-0.9661718624424902,-1.0581642669643143],\"type\":\"scatter\"}],\"name\":\"16\"},{\"data\":[{\"marker\":{\"color\":[\"red\",\"red\",\"red\",\"blue\",\"blue\",\"green\",\"green\",\"green\"]},\"mode\":\"markers\",\"x\":[-0.25292236164651416,0.4285401938814999,-0.6296267870624013,0.3617624764077018,0.34696826293757865,0.595433968207074,1.2652637512629845,0.8411839233280309],\"y\":[2.2311166573356376,2.4243460770749232,1.729811322169323,0.5509966653628209,0.618241767293936,-0.8256674757256609,-0.9622595752408256,-1.1213159310623146],\"type\":\"scatter\"}],\"name\":\"17\"},{\"data\":[{\"marker\":{\"color\":[\"red\",\"red\",\"red\",\"blue\",\"blue\",\"green\",\"green\",\"green\"]},\"mode\":\"markers\",\"x\":[-0.34437783450781534,0.38681096990996877,-0.5055289300312736,0.3487933124602199,0.346675052228866,0.5815995210461686,1.2706805181399667,0.8719508180698602],\"y\":[2.2486633653440418,2.678691443318221,1.7715071145630386,0.5652366378644917,0.5747045392897977,-0.9847221054682059,-0.983185884029646,-1.2256256036739026],\"type\":\"scatter\"}],\"name\":\"18\"},{\"data\":[{\"marker\":{\"color\":[\"red\",\"red\",\"red\",\"blue\",\"blue\",\"green\",\"green\",\"green\"]},\"mode\":\"markers\",\"x\":[-0.2699258400595416,0.31530386280088996,-0.5591444778279041,0.3546975763593828,0.3550639003629408,0.5678554484614401,1.2679682545857338,0.9247847026330264],\"y\":[2.2924777844396513,2.8920592962759506,1.8025765632154949,0.5203295461051908,0.5231341894391401,-1.0251521036208573,-1.0523358806760639,-1.3078198879706553],\"type\":\"scatter\"}],\"name\":\"19\"},{\"data\":[{\"marker\":{\"color\":[\"red\",\"red\",\"red\",\"blue\",\"blue\",\"green\",\"green\",\"green\"]},\"mode\":\"markers\",\"x\":[-0.2883935955475874,0.22397831067748433,-0.5237921908800562,0.33551684642122537,0.3386420278485439,0.61962964453814,1.3614146400206835,0.8896077442375301],\"y\":[2.3327858242808115,2.8920290486668105,1.9470472272110328,0.5383924255767852,0.5198125438707304,-0.9807091184554736,-1.1988549628730476,-1.405233481069788],\"type\":\"scatter\"}],\"name\":\"20\"},{\"data\":[{\"marker\":{\"color\":[\"red\",\"red\",\"red\",\"blue\",\"blue\",\"green\",\"green\",\"green\"]},\"mode\":\"markers\",\"x\":[-0.26940374642764753,0.16120870625126055,-0.5255067313406081,0.3659830435957034,0.36651354012439274,0.5988854103696432,1.297367664809607,0.9615555399336057],\"y\":[2.449599826306609,2.911700643026841,1.9651669047752127,0.5327705261509115,0.5275660045985459,-1.2191968180756196,-1.1642131538516909,-1.3581244257229488],\"type\":\"scatter\"}],\"name\":\"21\"},{\"data\":[{\"marker\":{\"color\":[\"red\",\"red\",\"red\",\"blue\",\"blue\",\"green\",\"green\",\"green\"]},\"mode\":\"markers\",\"x\":[-0.2649008641878077,0.0701924725898001,-0.44819562290792725,0.33504554891617405,0.3690215860043677,0.5912809322687527,1.3482514462298145,0.9559079284027817],\"y\":[2.4170760129172573,3.0876696139796924,1.99505124988205,0.5684344162889079,0.4755610653764434,-1.1708807843827456,-1.1952548451849474,-1.5323872216687715],\"type\":\"scatter\"}],\"name\":\"22\"},{\"data\":[{\"marker\":{\"color\":[\"red\",\"red\",\"red\",\"blue\",\"blue\",\"green\",\"green\",\"green\"]},\"mode\":\"markers\",\"x\":[-0.28250762995243744,0.012753782543320746,-0.4328086385606527,0.3599280541684908,0.35880423958539986,0.6219130942644139,1.3311768028145954,0.9873437224528326],\"y\":[2.422993451980382,3.1550415890914256,2.130290979530344,0.5440244121880283,0.5394662897421225,-1.291020167003616,-1.1999609260519002,-1.6555661222688969],\"type\":\"scatter\"}],\"name\":\"23\"},{\"data\":[{\"marker\":{\"color\":[\"red\",\"red\",\"red\",\"blue\",\"blue\",\"green\",\"green\",\"green\"]},\"mode\":\"markers\",\"x\":[-0.31048378061219367,-0.029075436704071693,-0.49139250489241376,0.37015414903486343,0.3651600720883441,0.6431639005669255,1.437110463393852,0.971966564440655],\"y\":[2.6653968597479767,3.098491880201493,2.2393844504385827,0.5059041046855469,0.4871740804813604,-1.259300440395109,-1.4548938330220496,-1.6368875949298893],\"type\":\"scatter\"}],\"name\":\"24\"},{\"data\":[{\"marker\":{\"color\":[\"red\",\"red\",\"red\",\"blue\",\"blue\",\"green\",\"green\",\"green\"]},\"mode\":\"markers\",\"x\":[-0.3699768101137405,-0.011045489251291934,-0.4995029017044145,0.3707854408713166,0.371680682959093,0.6923479404152283,1.3878648843259151,1.0144496798138627],\"y\":[2.6852356130807835,3.1958514514681644,2.254022160397318,0.517874116577024,0.5147202318158166,-1.2591198567097832,-1.4893991584117277,-1.7739150510097208],\"type\":\"scatter\"}],\"name\":\"25\"},{\"data\":[{\"marker\":{\"color\":[\"red\",\"red\",\"red\",\"blue\",\"blue\",\"green\",\"green\",\"green\"]},\"mode\":\"markers\",\"x\":[-0.34420232569345427,-0.04696445870309771,-0.5143098698502934,0.3776268478611183,0.3777329032977998,0.6932832769254174,1.3682627142737815,1.0451743392047108],\"y\":[2.712797734112381,3.0804564570233723,2.3953311845176724,0.5418420859292501,0.5425534406505805,-1.3783015108321146,-1.4587241092868055,-1.7906857749064495],\"type\":\"scatter\"}],\"name\":\"26\"},{\"data\":[{\"marker\":{\"color\":[\"red\",\"red\",\"red\",\"blue\",\"blue\",\"green\",\"green\",\"green\"]},\"mode\":\"markers\",\"x\":[-0.45801462758432937,-0.042925987935482524,-0.4147516944416883,0.3478027954972665,0.34553206027624656,0.7086643420953878,1.3846983783304525,1.0855981610781509],\"y\":[2.8550196705460515,3.214395287907101,2.2432728499476644,0.6135962410054427,0.6196953163797418,-1.4148788500745655,-1.4951208818476973,-1.9907101266558525],\"type\":\"scatter\"}],\"name\":\"27\"},{\"data\":[{\"marker\":{\"color\":[\"red\",\"red\",\"red\",\"blue\",\"blue\",\"green\",\"green\",\"green\"]},\"mode\":\"markers\",\"x\":[-0.4308584586298198,-0.08094450532016968,-0.43541428291590245,0.3626135789504335,0.3588041654669457,0.6743963793506665,1.4223846878726856,1.0856218625411522],\"y\":[2.747033085203105,3.2799540316240594,2.390754072419307,0.5614480733424944,0.5796576682237113,-1.3997201018784888,-1.5015427031660993,-2.0123146185601803],\"type\":\"scatter\"}],\"name\":\"28\"},{\"data\":[{\"marker\":{\"color\":[\"red\",\"red\",\"red\",\"blue\",\"blue\",\"green\",\"green\",\"green\"]},\"mode\":\"markers\",\"x\":[-0.4510948637161507,-0.033903504408404526,-0.4869675272285804,0.3441171576671526,0.33987481938355596,0.704127467542383,1.461353939899801,1.0790959381762462],\"y\":[2.7492942020056126,3.330582371692138,2.373454745003015,0.6119594820179636,0.6313825007322044,-1.351318797522912,-1.4994157042859286,-2.2006692924341675],\"type\":\"scatter\"}],\"name\":\"29\"},{\"data\":[{\"marker\":{\"color\":[\"red\",\"red\",\"red\",\"blue\",\"blue\",\"green\",\"green\",\"green\"]},\"mode\":\"markers\",\"x\":[-0.4487130350024422,-0.04717951667227427,-0.4989706565046427,0.3732166614419242,0.3634323694238153,0.7112834402149777,1.4132572690474228,1.0902768953672295],\"y\":[2.7448155277099113,3.2467251504503123,2.5191126714366696,0.5676158515406516,0.619718047237005,-1.4347324563007617,-1.35725519977216,-2.2607300850936767],\"type\":\"scatter\"}],\"name\":\"30\"},{\"data\":[{\"marker\":{\"color\":[\"red\",\"red\",\"red\",\"blue\",\"blue\",\"green\",\"green\",\"green\"]},\"mode\":\"markers\",\"x\":[-0.46416913429260886,-0.03976521137934072,-0.49328682963286474,0.34636528457373483,0.3618751525566294,0.76019321558668,1.4451198841624744,1.040271065741319],\"y\":[2.8256719037937303,3.1784096806931537,2.4677104091218394,0.6098251806237064,0.5701420149320333,-1.389267370980713,-1.5174653200039592,-2.0997569909718417],\"type\":\"scatter\"}],\"name\":\"31\"},{\"data\":[{\"marker\":{\"color\":[\"red\",\"red\",\"red\",\"blue\",\"blue\",\"green\",\"green\",\"green\"]},\"mode\":\"markers\",\"x\":[-0.5429955006471392,-0.017050073710357695,-0.419377293602007,0.3298966037467172,0.33876374599237047,0.7279867676835391,1.4959457045232067,1.0434334733297086],\"y\":[2.81398978091442,3.338130131211364,2.333581484933712,0.6225468415274426,0.5893053358823109,-1.3183467425082531,-1.6202956426101598,-2.113641682142881],\"type\":\"scatter\"}],\"name\":\"32\"},{\"data\":[{\"marker\":{\"color\":[\"red\",\"red\",\"red\",\"blue\",\"blue\",\"green\",\"green\",\"green\"]},\"mode\":\"markers\",\"x\":[-0.5067108190152549,-0.09197545183784604,-0.35745645898575695,0.3142487748869847,0.32731114988973287,0.7478441583537275,1.4706158702142142,1.0527262038102132],\"y\":[2.7060937151943736,3.4589274593833053,2.362373177771537,0.6677969119543131,0.6160530981855549,-1.519170294597935,-1.6749864369459422,-1.9718181237372447],\"type\":\"scatter\"}],\"name\":\"33\"},{\"data\":[{\"marker\":{\"color\":[\"red\",\"red\",\"red\",\"blue\",\"blue\",\"green\",\"green\",\"green\"]},\"mode\":\"markers\",\"x\":[-0.5244698630043476,-0.16101820992011942,-0.3580174804533517,0.3451784299085786,0.34527731215008767,0.7332691094409743,1.517342098741164,1.0590420304530228],\"y\":[2.8760957840817283,3.5752733379824613,2.3935160328743144,0.5697445894282006,0.5657964008439421,-1.4940570461763842,-1.6381621348975755,-2.2029374569286957],\"type\":\"scatter\"}],\"name\":\"34\"},{\"data\":[{\"marker\":{\"color\":[\"red\",\"red\",\"red\",\"blue\",\"blue\",\"green\",\"green\",\"green\"]},\"mode\":\"markers\",\"x\":[-0.5295979012742676,-0.192250271992803,-0.34457283792842497,0.3386683201034308,0.34739734803565964,0.787202423364698,1.4729648296307138,1.0767915173770117],\"y\":[2.8813047593478753,3.525652501689477,2.500800792729774,0.6031453210036177,0.5876800492381171,-1.4893212183706934,-1.6533417652501812,-2.310650933179984],\"type\":\"scatter\"}],\"name\":\"35\"},{\"data\":[{\"marker\":{\"color\":[\"red\",\"red\",\"red\",\"blue\",\"blue\",\"green\",\"green\",\"green\"]},\"mode\":\"markers\",\"x\":[-0.6314303518848261,-0.15335757193404587,-0.3016095191402438,0.35681323689176186,0.3563740511235539,0.8025691120574712,1.4576122552911797,1.06963221491118],\"y\":[3.005059006945561,3.5136887545780975,2.424660997276071,0.5654187409493365,0.5716615089991541,-1.6019862139215078,-1.6677318721921135,-2.1655014154266223],\"type\":\"scatter\"}],\"name\":\"36\"},{\"data\":[{\"marker\":{\"color\":[\"red\",\"red\",\"red\",\"blue\",\"blue\",\"green\",\"green\",\"green\"]},\"mode\":\"markers\",\"x\":[-0.581274400252191,-0.20596758484706168,-0.2788990842165928,0.35245568091024776,0.3522860422978873,0.8131453319055507,1.4445144722860235,1.060342969232153],\"y\":[2.9241686622432055,3.4546991376152865,2.5194014052966676,0.5690084720043761,0.5752690409819669,-1.5640625221254114,-1.7046249428364655,-2.1285897459716385],\"type\":\"scatter\"}],\"name\":\"37\"},{\"data\":[{\"marker\":{\"color\":[\"red\",\"red\",\"red\",\"blue\",\"blue\",\"green\",\"green\",\"green\"]},\"mode\":\"markers\",\"x\":[-0.6490835136709283,-0.20395655622258507,-0.23110741349576125,0.3537019919046345,0.36137877556150644,0.7164302748649666,1.5851026261164247,1.0241372422577482],\"y\":[3.0137114130149256,3.2882527540474538,2.5697318889205274,0.5856069337476913,0.5598004449384852,-1.4478447397732508,-1.8962217432728408,-2.0277674444149816],\"type\":\"scatter\"}],\"name\":\"38\"},{\"data\":[{\"marker\":{\"color\":[\"red\",\"red\",\"red\",\"blue\",\"blue\",\"green\",\"green\",\"green\"]},\"mode\":\"markers\",\"x\":[-0.68563949081479,-0.1600617193108715,-0.23481207365429108,0.33004086114357917,0.32630949052612934,0.7537482995362923,1.6288285295523424,0.9981895303376281],\"y\":[2.9888595001301104,3.283195328688336,2.603951908908373,0.670216239206525,0.6879202125927004,-1.6353464343511086,-1.933185077313603,-2.0203421706533784],\"type\":\"scatter\"}],\"name\":\"39\"},{\"data\":[{\"marker\":{\"color\":[\"red\",\"red\",\"red\",\"blue\",\"blue\",\"green\",\"green\",\"green\"]},\"mode\":\"markers\",\"x\":[-0.6253450164169041,-0.17093724295443616,-0.2154240726567593,0.3247622434065181,0.324787993050039,0.7247269013825528,1.6172782930417247,0.9767543284632809],\"y\":[2.8349925474176922,3.3428751560798475,2.5381655083544543,0.692526494668517,0.6924256817382896,-1.508264560392505,-1.803919232581472,-2.1435320880768503],\"type\":\"scatter\"}],\"name\":\"40\"},{\"data\":[{\"marker\":{\"color\":[\"red\",\"red\",\"red\",\"blue\",\"blue\",\"green\",\"green\",\"green\"]},\"mode\":\"markers\",\"x\":[-0.6876187716893777,-0.12424200129143322,-0.19983457698804594,0.32694826952556183,0.33929054458047464,0.7961263747721083,1.519289333926832,0.9866442544799072],\"y\":[2.925248799179438,3.1973575110978927,2.547548940062454,0.723448020760443,0.6681255635695817,-1.4922582416971124,-1.69362614550309,-2.2305749402616235],\"type\":\"scatter\"}],\"name\":\"41\"},{\"data\":[{\"marker\":{\"color\":[\"red\",\"red\",\"red\",\"blue\",\"blue\",\"green\",\"green\",\"green\"]},\"mode\":\"markers\",\"x\":[-0.697485183609846,-0.10391379076725667,-0.21694083021791832,0.3557302324582887,0.36248561297195414,0.7588570149112531,1.4921022831375292,1.005768088432028],\"y\":[2.927202858167389,3.222241781339654,2.5313998855035478,0.6431288935553522,0.6193178452621935,-1.4655543791130115,-1.6648298477627372,-2.1676375297444235],\"type\":\"scatter\"}],\"name\":\"42\"},{\"data\":[{\"marker\":{\"color\":[\"red\",\"red\",\"red\",\"blue\",\"blue\",\"green\",\"green\",\"green\"]},\"mode\":\"markers\",\"x\":[-0.7702026517794689,-0.024434778627530265,-0.24177106936179144,0.3392374798578999,0.34061672359700884,0.8111034456877473,1.4812303953710173,1.0208238825711393],\"y\":[2.875773419402742,3.277428684011726,2.5974301685661567,0.6631652592919007,0.6648574182599839,-1.50908250215622,-1.7473835027657167,-2.1769194374025918],\"type\":\"scatter\"}],\"name\":\"43\"},{\"data\":[{\"marker\":{\"color\":[\"red\",\"red\",\"red\",\"blue\",\"blue\",\"green\",\"green\",\"green\"]},\"mode\":\"markers\",\"x\":[-0.6966705277090942,-0.06499012865780945,-0.23424693316663678,0.3626186131681494,0.35162859812349967,0.7817315243016832,1.4110815147151912,1.045450766541056],\"y\":[2.879848597149496,3.1816577248940994,2.574583636929323,0.6004656527812514,0.6483206832266247,-1.5335821049290266,-1.6460465735024834,-2.0599781093413023],\"type\":\"scatter\"}],\"name\":\"44\"},{\"data\":[{\"marker\":{\"color\":[\"red\",\"red\",\"red\",\"blue\",\"blue\",\"green\",\"green\",\"green\"]},\"mode\":\"markers\",\"x\":[-0.6751163090522431,-0.09000519105437138,-0.22519450710518377,0.3608697301700228,0.3534589545410242,0.7795066892467687,1.4202472891557634,1.0328367714142608],\"y\":[2.8688380186373776,3.172013320496722,2.576279318137487,0.6053542868683459,0.6263694397615387,-1.4409615540282785,-1.6562120838137073,-2.1064112388515004],\"type\":\"scatter\"}],\"name\":\"45\"},{\"data\":[{\"marker\":{\"color\":[\"red\",\"red\",\"red\",\"blue\",\"blue\",\"green\",\"green\",\"green\"]},\"mode\":\"markers\",\"x\":[-0.7432302163120159,-0.08599296456678708,-0.16874253327156918,0.35764368944108677,0.3509996908141757,0.7846055528284277,1.470517416792407,0.9908027915903154],\"y\":[2.952018210069712,3.152688156947771,2.4926587401274096,0.6260785789463071,0.6368245178531754,-1.4090935876162765,-1.6597400476867983,-2.14616506143329],\"type\":\"scatter\"}],\"name\":\"46\"},{\"data\":[{\"marker\":{\"color\":[\"red\",\"red\",\"red\",\"blue\",\"blue\",\"green\",\"green\",\"green\"]},\"mode\":\"markers\",\"x\":[-0.7985519752909114,-0.03182002536855604,-0.20256251753579738,0.34672057904900194,0.3406333022043684,0.7305611278990063,1.6918453914712719,0.8797775448876597],\"y\":[2.9499381669655893,3.106074373048743,2.560297324147521,0.6045832344113365,0.6231763584089864,-1.3242779321559508,-1.937989082189085,-1.9365329354291299],\"type\":\"scatter\"}],\"name\":\"47\"},{\"data\":[{\"marker\":{\"color\":[\"red\",\"red\",\"red\",\"blue\",\"blue\",\"green\",\"green\",\"green\"]},\"mode\":\"markers\",\"x\":[-0.87676238429226,-0.035379286491817846,-0.20595354250156142,0.3354687032425676,0.33583992161709336,0.7524866123283973,1.7665270502218937,0.8843763531917191],\"y\":[3.145848159882075,3.1027511737956592,2.5399876191065465,0.6559199343913893,0.6556573671872883,-1.3705543675503353,-2.040582392982088,-2.043757986622524],\"type\":\"scatter\"}],\"name\":\"48\"},{\"data\":[{\"marker\":{\"color\":[\"red\",\"red\",\"red\",\"blue\",\"blue\",\"green\",\"green\",\"green\"]},\"mode\":\"markers\",\"x\":[-0.9112628742149652,-0.019713297585931558,-0.2322464443351824,0.32953582170181084,0.3420393367410018,0.7754955771674844,1.7214806731521561,0.9512746346896476],\"y\":[3.2667382009877146,2.9852093887900373,2.5847245534485825,0.6755983722025362,0.6613189699171745,-1.2696189921195802,-2.0791067851525495,-2.179594200865884],\"type\":\"scatter\"}],\"name\":\"49\"},{\"data\":[{\"marker\":{\"color\":[\"red\",\"red\",\"red\",\"blue\",\"blue\",\"green\",\"green\",\"green\"]},\"mode\":\"markers\",\"x\":[-0.8399361673199971,-0.07920990687736959,-0.32245856347961693,0.3393777755712456,0.33769421749384526,0.8138890372714503,1.7292277483981746,0.9780192862582823],\"y\":[3.3370698696160703,2.9263928900876146,2.733171139368363,0.6831965366137994,0.6898375155016687,-1.2602086696810222,-2.108755726170551,-2.355434048127916],\"type\":\"scatter\"}],\"name\":\"50\"},{\"data\":[{\"marker\":{\"color\":[\"red\",\"red\",\"red\",\"blue\",\"blue\",\"green\",\"green\",\"green\"]},\"mode\":\"markers\",\"x\":[-0.7784668521439541,-0.054900215591446526,-0.3951504811090985,0.33904633412736745,0.33139754853593806,0.8935318205605149,1.6414018971268072,0.9797433758099002],\"y\":[3.2632785933546398,3.0194767574563097,2.691719830643025,0.6840077797705758,0.695561294969829,-1.3703116596390674,-2.030849346685733,-2.307613742661559],\"type\":\"scatter\"}],\"name\":\"51\"},{\"data\":[{\"marker\":{\"color\":[\"red\",\"red\",\"red\",\"blue\",\"blue\",\"green\",\"green\",\"green\"]},\"mode\":\"markers\",\"x\":[-0.8053583833169283,-0.03761717852080432,-0.3968573677591256,0.3260359019570383,0.3332410915759861,0.8878449398291522,1.6944976176366942,0.9548168059140115],\"y\":[3.316227980205982,3.1374853666345692,2.593154864460613,0.6925163925455028,0.6697186931308349,-1.4406493969487977,-2.084802677678082,-2.238381715142623],\"type\":\"scatter\"}],\"name\":\"52\"},{\"data\":[{\"marker\":{\"color\":[\"red\",\"red\",\"red\",\"blue\",\"blue\",\"green\",\"green\",\"green\"]},\"mode\":\"markers\",\"x\":[-0.7782969732792397,-0.018574228686067274,-0.4281517736531919,0.34474871372844157,0.33521556667443264,0.9500274632548605,1.5431606993739024,1.0084739599028887],\"y\":[3.227097401196593,3.142486974669124,2.643087244145641,0.6487598842408135,0.6882469009641956,-1.491724519640432,-1.9756931455927833,-2.2369912327751753],\"type\":\"scatter\"}],\"name\":\"53\"},{\"data\":[{\"marker\":{\"color\":[\"red\",\"red\",\"red\",\"blue\",\"blue\",\"green\",\"green\",\"green\"]},\"mode\":\"markers\",\"x\":[-0.8144437720503541,0.007390338135954712,-0.46939793672221425,0.3396978200410547,0.34324142482317177,0.938544059658947,1.588203864463849,1.0233676289656175],\"y\":[3.233712767929026,3.202772398993666,2.7549374311317583,0.6633181246821785,0.6632860235843696,-1.4845614029035816,-2.0003183262865347,-2.387877509922914],\"type\":\"scatter\"}],\"name\":\"54\"},{\"data\":[{\"marker\":{\"color\":[\"red\",\"red\",\"red\",\"blue\",\"blue\",\"green\",\"green\",\"green\"]},\"mode\":\"markers\",\"x\":[-0.89773627468582,0.028451746569125472,-0.44445433341251356,0.34798947485658527,0.3476575945641871,0.944212557301769,1.6557575428375304,0.9747251192851606],\"y\":[3.2969838684698156,3.3476029098802145,2.6979837951247263,0.639005129929794,0.6408602825578606,-1.5542136291246327,-2.0103605159970286,-2.412592333632833],\"type\":\"scatter\"}],\"name\":\"55\"},{\"data\":[{\"marker\":{\"color\":[\"red\",\"red\",\"red\",\"blue\",\"blue\",\"green\",\"green\",\"green\"]},\"mode\":\"markers\",\"x\":[-0.8350707533056084,-0.017785130465442927,-0.4902046785412612,0.3628493272193992,0.36303901925024445,0.9934726588186649,1.5969473137292014,0.9833556706108454],\"y\":[3.278075137810953,3.3897323412452245,2.7403794192690274,0.624284448627179,0.6227834136374056,-1.525471111579113,-1.967628816536461,-2.516885325266308],\"type\":\"scatter\"}],\"name\":\"56\"},{\"data\":[{\"marker\":{\"color\":[\"red\",\"red\",\"red\",\"blue\",\"blue\",\"green\",\"green\",\"green\"]},\"mode\":\"markers\",\"x\":[-0.8488284239417813,-0.05517160739248696,-0.46060274589402234,0.3741825385692879,0.3799814980364118,1.026266258971349,1.5253818213918862,1.0153940875754048],\"y\":[3.2934923159086154,3.4432392967346073,2.7901297969783347,0.5940540813511366,0.5780157521690298,-1.6223774091005927,-1.8918541585279283,-2.5394301683052833],\"type\":\"scatter\"}],\"name\":\"57\"},{\"data\":[{\"marker\":{\"color\":[\"red\",\"red\",\"red\",\"blue\",\"blue\",\"green\",\"green\",\"green\"]},\"mode\":\"markers\",\"x\":[-0.8594808005647566,-0.018751341944301596,-0.48054993810792934,0.36739778623784597,0.3849765828022674,1.0712684873369518,1.4208206539747799,1.0709219975811708],\"y\":[3.322284754986036,3.334842944713109,2.832727646239485,0.6345306818134792,0.562179018585628,-1.6747772841323414,-1.830798372072151,-2.5357198829253],\"type\":\"scatter\"}],\"name\":\"58\"},{\"data\":[{\"marker\":{\"color\":[\"red\",\"red\",\"red\",\"blue\",\"blue\",\"green\",\"green\",\"green\"]},\"mode\":\"markers\",\"x\":[-0.9770636311714277,-0.01157488386779868,-0.4508316672735286,0.3831164264658208,0.384741099709124,1.0333376151794522,1.5133476166607427,1.081530851613651],\"y\":[3.527398545341189,3.3413077760626764,2.850915462648963,0.5661013555692808,0.5596969652438322,-1.4881124706107607,-1.9278139641050085,-2.7842241629422504],\"type\":\"scatter\"}],\"name\":\"59\"},{\"data\":[{\"marker\":{\"color\":[\"red\",\"red\",\"red\",\"blue\",\"blue\",\"green\",\"green\",\"green\"]},\"mode\":\"markers\",\"x\":[-1.0584909979135708,0.04243980330551179,-0.4689965807469738,0.40888995297906877,0.40827514362021416,0.9457918529286179,1.5712183727698779,1.1074758803732914],\"y\":[3.6157497996713515,3.24195390894331,2.9153807299621084,0.5117951876605269,0.5144313777092208,-1.278950990367193,-2.0891967168215237,-2.785893789549846],\"type\":\"scatter\"}],\"name\":\"60\"},{\"data\":[{\"marker\":{\"color\":[\"red\",\"red\",\"red\",\"blue\",\"blue\",\"green\",\"green\",\"green\"]},\"mode\":\"markers\",\"x\":[-1.0774152703877622,0.029837984842664055,-0.44168880592945653,0.379782900622733,0.3773096452960493,1.0107216970567978,1.5540197800430535,1.1240354957719592],\"y\":[3.6967505839103745,3.293609110542598,2.815663847267558,0.5687867244148975,0.5768913704802363,-1.3763200516139908,-2.125792732385342,-2.8043193454083886],\"type\":\"scatter\"}],\"name\":\"61\"},{\"data\":[{\"marker\":{\"color\":[\"red\",\"red\",\"red\",\"blue\",\"blue\",\"green\",\"green\",\"green\"]},\"mode\":\"markers\",\"x\":[-1.029878103622713,-0.005591238537851562,-0.44971065456999276,0.3766360437795679,0.3769333079775121,1.0055152676067858,1.5576086296636327,1.1250901750191038],\"y\":[3.6985776700508017,3.246165438202942,2.8033713350451688,0.5827672587044427,0.589116419235766,-1.3984183034757791,-2.1718460130023747,-2.704464297553036],\"type\":\"scatter\"}],\"name\":\"62\"},{\"data\":[{\"marker\":{\"color\":[\"red\",\"red\",\"red\",\"blue\",\"blue\",\"green\",\"green\",\"green\"]},\"mode\":\"markers\",\"x\":[-0.8309756363088241,-0.07955920056932923,-0.5631560354888914,0.3728401307221677,0.3717214145821735,1.0371825600329543,1.49560541100332,1.1529447833424622],\"y\":[3.4891128546088788,3.3873506789193146,2.9092374106899124,0.5817064283654868,0.5856366719174264,-1.4929976325862455,-2.1126188075759487,-2.7021580971309005],\"type\":\"scatter\"}],\"name\":\"63\"},{\"data\":[{\"marker\":{\"color\":[\"red\",\"red\",\"red\",\"blue\",\"blue\",\"green\",\"green\",\"green\"]},\"mode\":\"markers\",\"x\":[-0.8018312161523157,-0.05409414181230097,-0.5538550639787263,0.33635665528279657,0.3346592249567639,1.0631056680910327,1.4974584136520162,1.1348038872767734],\"y\":[3.4147433176199327,3.3780579214448365,2.831577276845496,0.681601332281537,0.6863880180102191,-1.6161512535386469,-2.044514859546518,-2.6864322459089216],\"type\":\"scatter\"}],\"name\":\"64\"},{\"data\":[{\"marker\":{\"color\":[\"red\",\"red\",\"red\",\"blue\",\"blue\",\"green\",\"green\",\"green\"]},\"mode\":\"markers\",\"x\":[-0.7734219217847056,-0.08222638497500552,-0.5654549183391987,0.36065104525082514,0.3484400901296149,0.9989979395999636,1.5398668474710338,1.1297507299635159],\"y\":[3.4108382604088505,3.268678962603346,2.9143896668562643,0.6238395650595978,0.655042519225586,-1.439498831309902,-2.1107486402162285,-2.677271995419615],\"type\":\"scatter\"}],\"name\":\"65\"},{\"data\":[{\"marker\":{\"color\":[\"red\",\"red\",\"red\",\"blue\",\"blue\",\"green\",\"green\",\"green\"]},\"mode\":\"markers\",\"x\":[-0.7632895431102749,-0.12396738932322207,-0.585889678469439,0.37005901126908936,0.36357557841510907,1.0042388335007015,1.6256736829882803,1.066202932045797],\"y\":[3.4457050614352047,3.3124268865848863,2.984554249395277,0.5752296969118029,0.5874148383820813,-1.4894308963021672,-2.195391861954565,-2.5752384672446222],\"type\":\"scatter\"}],\"name\":\"66\"},{\"data\":[{\"marker\":{\"color\":[\"red\",\"red\",\"red\",\"blue\",\"blue\",\"green\",\"green\",\"green\"]},\"mode\":\"markers\",\"x\":[-0.8099976677977466,-0.15563921249872784,-0.5546208962131098,0.37593870264379675,0.38786086926218327,1.0207142234310476,1.6203927590146872,1.0719546494738763],\"y\":[3.560130828008035,3.3076144265007916,3.003265498367164,0.5651742237319808,0.5259410933609729,-1.5545593067267642,-2.193907785191863,-2.568389470842408],\"type\":\"scatter\"}],\"name\":\"67\"},{\"data\":[{\"marker\":{\"color\":[\"red\",\"red\",\"red\",\"blue\",\"blue\",\"green\",\"green\",\"green\"]},\"mode\":\"markers\",\"x\":[-0.8319959880153771,-0.09474234745420985,-0.5423782634379705,0.3818949205002792,0.38684056903740127,1.0239871495532427,1.5772522533188387,1.0557451338138137],\"y\":[3.4577812570504323,3.302221035247344,2.9683589022806394,0.5276540917699197,0.5178561312344051,-1.5255493027611633,-2.1716605320044122,-2.4313920756092293],\"type\":\"scatter\"}],\"name\":\"68\"},{\"data\":[{\"marker\":{\"color\":[\"red\",\"red\",\"red\",\"blue\",\"blue\",\"green\",\"green\",\"green\"]},\"mode\":\"markers\",\"x\":[-0.8751679937101843,-0.08892111547821983,-0.5348453495576329,0.3837692529696408,0.4218176026624347,0.9960328844385936,1.5583554455648638,1.095562700426528],\"y\":[3.614379881027462,3.1383346879669496,2.987133815026381,0.5519213244775757,0.4350878643128199,-1.486336653813563,-2.173171672382228,-2.4220797394074824],\"type\":\"scatter\"}],\"name\":\"69\"},{\"data\":[{\"marker\":{\"color\":[\"red\",\"red\",\"red\",\"blue\",\"blue\",\"green\",\"green\",\"green\"]},\"mode\":\"markers\",\"x\":[-0.8769150895585177,-0.1513635450828204,-0.4792275466837922,0.41132371960925285,0.40835009450552706,1.0100166099954853,1.592546455872527,1.0418727286583709],\"y\":[3.623429651791261,3.2350398111325283,2.9262946378926245,0.43990153159089984,0.46194418492806993,-1.4631970496661404,-2.2243081435368364,-2.3538351169245284],\"type\":\"scatter\"}],\"name\":\"70\"},{\"data\":[{\"marker\":{\"color\":[\"red\",\"red\",\"red\",\"blue\",\"blue\",\"green\",\"green\",\"green\"]},\"mode\":\"markers\",\"x\":[-0.8161019358276717,-0.16350338887316815,-0.5713302326110893,0.39618274138973464,0.38635035763194875,1.024578628163539,1.665381862592845,1.0350453948498959],\"y\":[3.512431272243604,3.3046334094152177,3.0676733580334505,0.5130662100126602,0.4997802536958105,-1.5057325369357577,-2.433846407121491,-2.3127360521356164],\"type\":\"scatter\"}],\"name\":\"71\"},{\"data\":[{\"marker\":{\"color\":[\"red\",\"red\",\"red\",\"blue\",\"blue\",\"green\",\"green\",\"green\"]},\"mode\":\"markers\",\"x\":[-0.8226792550815618,-0.13906662169906572,-0.5949832506971937,0.3784238147476711,0.37440529853598087,1.058202699897019,1.6906342301233874,1.0116665114897925],\"y\":[3.5383399270550417,3.40598309789427,2.978566103031371,0.5293338944198223,0.5441235031949778,-1.5443795747123612,-2.4530797566821447,-2.353617686993078],\"type\":\"scatter\"}],\"name\":\"72\"},{\"data\":[{\"marker\":{\"color\":[\"red\",\"red\",\"red\",\"blue\",\"blue\",\"green\",\"green\",\"green\"]},\"mode\":\"markers\",\"x\":[-0.908444528114244,-0.11465170545670296,-0.6010020815887285,0.3871660018744476,0.385516017658448,1.1078250127831708,1.661345402942233,1.0388493072173772],\"y\":[3.666605872962412,3.5191935191107535,2.9649130338194767,0.5115920973697861,0.51861706946601,-1.6561866734531283,-2.4093363757166166,-2.4701290363507646],\"type\":\"scatter\"}],\"name\":\"73\"},{\"data\":[{\"marker\":{\"color\":[\"red\",\"red\",\"red\",\"blue\",\"blue\",\"green\",\"green\",\"green\"]},\"mode\":\"markers\",\"x\":[-1.0352297695834833,-0.036577447959128866,-0.5980149424367963,0.4001135212857318,0.3950769526432306,1.156013516242108,1.6549442995203663,1.0202772976039798],\"y\":[3.8075061977593485,3.522259504326547,2.9042049441859334,0.4737751727499323,0.48601420243245624,-1.7427187192920732,-2.4942967265128564,-2.3114750684413554],\"type\":\"scatter\"}],\"name\":\"74\"},{\"data\":[{\"marker\":{\"color\":[\"red\",\"red\",\"red\",\"blue\",\"blue\",\"green\",\"green\",\"green\"]},\"mode\":\"markers\",\"x\":[-0.9649090661121373,-0.05131712250104323,-0.6843448016587399,0.38602394719242633,0.39224722845152526,1.2065786438262716,1.591286356604372,1.081038241513338],\"y\":[3.7660060184906077,3.616934710534709,2.936443027558556,0.5250376192046601,0.5230319172230828,-1.8769109090949534,-2.4387204749228184,-2.406552401785882],\"type\":\"scatter\"}],\"name\":\"75\"},{\"data\":[{\"marker\":{\"color\":[\"red\",\"red\",\"red\",\"blue\",\"blue\",\"green\",\"green\",\"green\"]},\"mode\":\"markers\",\"x\":[-0.9401916875824352,-0.08627072219775868,-0.6414228722114259,0.3799606846418163,0.37386776969077906,1.1641490472367408,1.666420108609938,1.0400910991283538],\"y\":[3.661473125384055,3.5830041866753883,3.0021894098854793,0.557547141033649,0.5702312578063814,-1.8092458545840635,-2.4871156660183744,-2.432814092974549],\"type\":\"scatter\"}],\"name\":\"76\"},{\"data\":[{\"marker\":{\"color\":[\"red\",\"red\",\"red\",\"blue\",\"blue\",\"green\",\"green\",\"green\"]},\"mode\":\"markers\",\"x\":[-0.9715696193187033,-0.12212784247362518,-0.6243071246483087,0.3752708958458363,0.3732116697557002,1.1554261898667744,1.7265871349443889,1.044112123343961],\"y\":[3.8095327122519858,3.326686533678174,3.1167720392880436,0.6160585222639648,0.615213141912914,-1.7797235237922358,-2.608920772059749,-2.450349146335146],\"type\":\"scatter\"}],\"name\":\"77\"},{\"data\":[{\"marker\":{\"color\":[\"red\",\"red\",\"red\",\"blue\",\"blue\",\"green\",\"green\",\"green\"]},\"mode\":\"markers\",\"x\":[-0.8986438791080307,-0.16179129931852868,-0.6209639121311865,0.37336683941106313,0.3749388343834594,1.2315494380517313,1.595232912287462,1.0629144937400579],\"y\":[3.702486601911754,3.3617107690571735,3.0922371924871483,0.6047230576161741,0.6011480150315445,-1.887042564850483,-2.4584677302246187,-2.3715258338207597],\"type\":\"scatter\"}],\"name\":\"78\"},{\"data\":[{\"marker\":{\"color\":[\"red\",\"red\",\"red\",\"blue\",\"blue\",\"green\",\"green\",\"green\"]},\"mode\":\"markers\",\"x\":[-0.895792268657715,-0.17286830245256765,-0.5264623558337189,0.34326724352376753,0.3456014989207382,1.3066501340893968,1.5665948797689375,0.9896125979571989],\"y\":[3.6957505598821756,3.306615116473612,2.937910492991021,0.6622457952693883,0.6554337503236856,-1.8938012985159673,-2.355237095479312,-2.363647813736706],\"type\":\"scatter\"}],\"name\":\"79\"},{\"data\":[{\"marker\":{\"color\":[\"red\",\"red\",\"red\",\"blue\",\"blue\",\"green\",\"green\",\"green\"]},\"mode\":\"markers\",\"x\":[-0.900340161475038,-0.19469252582430197,-0.5189588848892605,0.34603179355493424,0.34246559975829993,1.2921031373100507,1.6186792488646122,0.9713152200167617],\"y\":[3.72112821676927,3.4306708963686234,2.846616566195553,0.6520444932821449,0.6718743725607934,-1.9016327213524309,-2.451718937888676,-2.3237133787273967],\"type\":\"scatter\"}],\"name\":\"80\"},{\"data\":[{\"marker\":{\"color\":[\"red\",\"red\",\"red\",\"blue\",\"blue\",\"green\",\"green\",\"green\"]},\"mode\":\"markers\",\"x\":[-0.8258890934252188,-0.22308450274327352,-0.5632437458404262,0.33869180613873673,0.3489756004652847,1.3087018668168855,1.649667711975911,0.9227837839281567],\"y\":[3.633555258309333,3.400960860343727,2.911580097813737,0.6655647427633864,0.6260522475228483,-1.9114550066398712,-2.542005255347766,-2.1389834375575085],\"type\":\"scatter\"}],\"name\":\"81\"},{\"data\":[{\"marker\":{\"color\":[\"red\",\"red\",\"red\",\"blue\",\"blue\",\"green\",\"green\",\"green\"]},\"mode\":\"markers\",\"x\":[-0.8084675137387461,-0.19857169138669958,-0.5947773021899717,0.3496919928627996,0.34690965554891384,1.2543710079858295,1.7122227751737695,0.8952245030601805],\"y\":[3.6477352902639697,3.2212040870821705,2.961954425589855,0.6265585892062367,0.6391544205785546,-1.8586781260872935,-2.640475006318717,-1.9521841731068807],\"type\":\"scatter\"}],\"name\":\"82\"}]);\n",
       "                        }).then(function(){\n",
       "                            \n",
       "var gd = document.getElementById('59664f47-c216-416f-a63c-e8bfdef443d4');\n",
       "var x = new MutationObserver(function (mutations, observer) {{\n",
       "        var display = window.getComputedStyle(gd).display;\n",
       "        if (!display || display === 'none') {{\n",
       "            console.log([gd, 'removed!']);\n",
       "            Plotly.purge(gd);\n",
       "            observer.disconnect();\n",
       "        }}\n",
       "}});\n",
       "\n",
       "// Listen for the removal of the full notebook cells\n",
       "var notebookContainer = gd.closest('#notebook-container');\n",
       "if (notebookContainer) {{\n",
       "    x.observe(notebookContainer, {childList: true});\n",
       "}}\n",
       "\n",
       "// Listen for the clearing of the current output cell\n",
       "var outputEl = gd.closest('.output');\n",
       "if (outputEl) {{\n",
       "    x.observe(outputEl, {childList: true});\n",
       "}}\n",
       "\n",
       "                        })                };                });            </script>        </div>"
      ]
     },
     "metadata": {},
     "output_type": "display_data"
    }
   ],
   "source": [
    "color_list = labels2colors(env.trueLabel())\n",
    "color_list, neuron_group.log.shape\n",
    "\n",
    "fig = create_trace_plot(neuron_group.log[::10000], colors = color_list)\n",
    "fig.show()"
   ]
  },
  {
   "cell_type": "code",
   "execution_count": null,
   "metadata": {},
   "outputs": [
    {
     "data": {
      "image/png": "[encoded data removed]",
      "text/plain": [
       "<Figure size 1000x1000 with 9 Axes>"
      ]
     },
     "metadata": {},
     "output_type": "display_data"
    }
   ],
   "source": [
    "# neuron_group.log[10000*12::10000]\n",
    "# plt.plot(\n",
    "#     neuron_group.log[10000*12::10000, 0], \n",
    "#     neuron_group.log[10000*12::10000, 1], marker='o')\n",
    "# plt.xlabel('X')\n",
    "# plt.ylabel('Y')\n",
    "# plt.title('2D Trajectory of a Point')\n",
    "\n",
    "\n",
    "# plt.figure(figsize=(8, 6))\n",
    "fig, axs = plt.subplots(3, 3, figsize=(10, 10))\n",
    "axs = axs.flatten()\n",
    "\n",
    "for idx, item in enumerate(np.arange(8)):\n",
    "        sns.scatterplot(\n",
    "                x=neuron_group.log[10000*0::10000, item, 0], \n",
    "                y=neuron_group.log[10000*0::10000, item, 1], \n",
    "                hue=np.arange(len(neuron_group.log[10000*0::10000])), \n",
    "                palette=\"rocket\", marker='o', ax = axs[idx if idx<5 else idx + 1])\n",
    "\n",
    "        axs[idx if idx<5 else idx + 1].plot(neuron_group.log[10000*0::10000, item, 0], \n",
    "                neuron_group.log[10000*0::10000, item, 1], color='b', alpha=0.5)\n",
    "fig.tight_layout()\n"
   ]
  },
  {
   "cell_type": "code",
   "execution_count": null,
   "metadata": {},
   "outputs": [],
   "source": [
    "# NodeSyncMapRst = {'data': neuron_group.log, 'labels': env.trueLabel()}\n",
    "# np.save('../data/NodeSyncMapRst.npy', NodeSyncMapRst)"
   ]
  },
  {
   "cell_type": "code",
   "execution_count": null,
   "metadata": {},
   "outputs": [],
   "source": [
    "\n"
   ]
  },
  {
   "cell_type": "code",
   "execution_count": null,
   "metadata": {},
   "outputs": [],
   "source": [
    "def compute_wasserstein_distances(trajectories):\n",
    "    # Get the shape of the input array\n",
    "    T, N, D = trajectories.shape\n",
    "    \n",
    "    # Initialize the result array\n",
    "    wasserstein_matrix = np.zeros((N, N))\n",
    "    \n",
    "    # Loop through each pair of variables\n",
    "    for i in range(N):\n",
    "        for j in range(i, N):  # Use symmetry to reduce computations\n",
    "            # Extract the trajectories of the two variables\n",
    "            traj_i = trajectories[:, i, :].reshape(T * D)\n",
    "            traj_j = trajectories[:, j, :].reshape(T * D)\n",
    "            \n",
    "            # Compute the Wasserstein distance\n",
    "            distance = wasserstein_distance(traj_i, traj_j)\n",
    "            \n",
    "            # Store the distance in the result array\n",
    "            wasserstein_matrix[i, j] = distance\n",
    "            wasserstein_matrix[j, i] = distance  # Symmetric matrix\n",
    "    \n",
    "    return wasserstein_matrix\n",
    "\n",
    "# # Example usage\n",
    "# # T = 100, N = 5, D = 3\n",
    "# trajectories = np.random.rand(100, 5, 3)\n",
    "# result = compute_wasserstein_distances(trajectories)\n",
    "# print(result)\n"
   ]
  },
  {
   "cell_type": "code",
   "execution_count": null,
   "metadata": {},
   "outputs": [
    {
     "data": {
      "text/plain": [
       "<Axes: >"
      ]
     },
     "execution_count": null,
     "metadata": {},
     "output_type": "execute_result"
    },
    {
     "data": {
      "image/png": "[encoded data removed]",
      "text/plain": [
       "<Figure size 400x400 with 2 Axes>"
      ]
     },
     "metadata": {},
     "output_type": "display_data"
    }
   ],
   "source": [
    "# trajectory = neuron_group.log[10000*12::10000]\n",
    "# trajectory = neuron_group.log[10000*2+3000:10000*2+4000:]\n",
    "trajectory = np.random.rand(2000, 8, 2)\n",
    "result = np.around(compute_wasserstein_distances(trajectory), 2)\n",
    "# kl_matrix\n",
    "# plot the matrix by using seaborn\n",
    "plt.figure(figsize=(4, 4))\n",
    "sns.heatmap(result, annot=True, cmap='coolwarm',  annot_kws={\"size\": 8})\n"
   ]
  },
  {
   "cell_type": "code",
   "execution_count": null,
   "metadata": {},
   "outputs": [],
   "source": []
  },
  {
   "cell_type": "markdown",
   "metadata": {},
   "source": [
    "## other"
   ]
  },
  {
   "cell_type": "code",
   "execution_count": null,
   "metadata": {},
   "outputs": [],
   "source": [
    "#| hide\n",
    "import nbdev; nbdev.nbdev_export()"
   ]
  }
 ],
 "metadata": {
  "kernelspec": {
   "display_name": "python3",
   "language": "python",
   "name": "python3"
  }
 },
 "nbformat": 4,
 "nbformat_minor": 4
}
